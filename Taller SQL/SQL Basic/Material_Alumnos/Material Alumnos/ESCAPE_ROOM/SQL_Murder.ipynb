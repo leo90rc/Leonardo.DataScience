{
 "cells": [
  {
   "cell_type": "markdown",
   "metadata": {},
   "source": [
    "![imagen](./img/sql_murder.png)\n",
    "\n",
    "# Ejercicio SQL Murder\n",
    "Para este ejercicio vas a ponerte la gabardina y el sombrero ya que tendrás que investigar un asesinato en *SQL City*. \n",
    "\n",
    "Aplicarás los conecptos básicos de SQL y aprenderás a manejarte con un modelo de datos, mientras resuelves un caso de asesinato :)\n",
    "\n",
    "Este espectacular juego está creado por **Joon Park y Cathy He**, y podrás encontrar todos los detalles en [su web](http://mystery.knightlab.com)\n",
    "\n",
    "Para realizar el ejercicio tienes dos opciones, o bien desde la propia web, donde encontrarás un intérprete de sentencias SQL interactivo. Si usas esta opción te recomiendo que vayas apuntando las queries y sus outputs. O la otra opción es [acudir a su GitHub](https://github.com/NUKnightLab/sql-mysteries), descargarte la base de datos y realizar las queries desde Jupyter. Probablemente la primera opción te sea más cómoda\n",
    "\n",
    "\n",
    "### Enunciado\n",
    "A crime has taken place and the detective needs your help. The detective gave you the crime scene report, but you somehow lost it. You vaguely remember that the crime was a **murder** that occurred sometime on **Jan.15, 2018** and that it took place in **SQL City**. Start by retrieving the corresponding crime scene report from the police department’s database.\n",
    "\n",
    "\n",
    "### Modelo de datos\n",
    "![imagen](./img/sql_game_schemma.png)\n",
    "\n",
    "¡Suerte Sherlock!"
   ]
  },
  {
   "cell_type": "markdown",
   "metadata": {},
   "source": []
  },
  {
   "cell_type": "code",
   "execution_count": 1,
   "metadata": {},
   "outputs": [],
   "source": [
    "import pandas as pd\n",
    "import sqlite3\n",
    "# pd.set_option('display.max_columns', None)\n",
    "# pd.set_option('display.max_rows', None)"
   ]
  },
  {
   "cell_type": "code",
   "execution_count": 2,
   "metadata": {},
   "outputs": [],
   "source": [
    "# Conectamos con la base de datos chinook.db\n",
    "path = 'sql-murder-mystery.db'\n",
    "connection = sqlite3.connect(path)\n",
    "\n",
    "# Obtenemos un cursor que utilizaremos para hacer las queries\n",
    "curs = connection.cursor()  # el cursor se comunica con la query a traves de la base de datos y lo trae"
   ]
  },
  {
   "cell_type": "code",
   "execution_count": 3,
   "metadata": {},
   "outputs": [],
   "source": [
    "pd.set_option('max_colwidth', 800)"
   ]
  },
  {
   "cell_type": "code",
   "execution_count": 4,
   "metadata": {},
   "outputs": [
    {
     "output_type": "execute_result",
     "data": {
      "text/plain": [
       "          id                 name  license_id  address_number  \\\n",
       "0      10000   Christoper Peteuil      993845             624   \n",
       "1      10007  Kourtney Calderwood      861794            2791   \n",
       "2      10010            Muoi Cary      385336             741   \n",
       "3      10016          Era Moselle      431897            1987   \n",
       "4      10025         Trena Hornby      550890             276   \n",
       "...      ...                  ...         ...             ...   \n",
       "10006  99936          Luba Benser      274427             680   \n",
       "10007  99941      Roxana Mckimley      975942            1613   \n",
       "10008  99965      Cherie Zeimantz      287627            3661   \n",
       "10009  99982          Allen Cruse      251350            3126   \n",
       "10010  99990         Vance Hunten      830407            3056   \n",
       "\n",
       "      address_street_name        ssn  \n",
       "0            Bankhall Ave  747714076  \n",
       "1           Gustavus Blvd  477972044  \n",
       "2         Northwestern Dr  828638512  \n",
       "3           Wood Glade St  614621061  \n",
       "4           Daws Hill Way  223877684  \n",
       "...                   ...        ...  \n",
       "10006        Carnage Blvd  685095054  \n",
       "10007             Gate St  512136801  \n",
       "10008       The Water Ave  362877324  \n",
       "10009           N Jean Dr  348734531  \n",
       "10010       Lancefield St  896677562  \n",
       "\n",
       "[10011 rows x 6 columns]"
      ],
      "text/html": "<div>\n<style scoped>\n    .dataframe tbody tr th:only-of-type {\n        vertical-align: middle;\n    }\n\n    .dataframe tbody tr th {\n        vertical-align: top;\n    }\n\n    .dataframe thead th {\n        text-align: right;\n    }\n</style>\n<table border=\"1\" class=\"dataframe\">\n  <thead>\n    <tr style=\"text-align: right;\">\n      <th></th>\n      <th>id</th>\n      <th>name</th>\n      <th>license_id</th>\n      <th>address_number</th>\n      <th>address_street_name</th>\n      <th>ssn</th>\n    </tr>\n  </thead>\n  <tbody>\n    <tr>\n      <th>0</th>\n      <td>10000</td>\n      <td>Christoper Peteuil</td>\n      <td>993845</td>\n      <td>624</td>\n      <td>Bankhall Ave</td>\n      <td>747714076</td>\n    </tr>\n    <tr>\n      <th>1</th>\n      <td>10007</td>\n      <td>Kourtney Calderwood</td>\n      <td>861794</td>\n      <td>2791</td>\n      <td>Gustavus Blvd</td>\n      <td>477972044</td>\n    </tr>\n    <tr>\n      <th>2</th>\n      <td>10010</td>\n      <td>Muoi Cary</td>\n      <td>385336</td>\n      <td>741</td>\n      <td>Northwestern Dr</td>\n      <td>828638512</td>\n    </tr>\n    <tr>\n      <th>3</th>\n      <td>10016</td>\n      <td>Era Moselle</td>\n      <td>431897</td>\n      <td>1987</td>\n      <td>Wood Glade St</td>\n      <td>614621061</td>\n    </tr>\n    <tr>\n      <th>4</th>\n      <td>10025</td>\n      <td>Trena Hornby</td>\n      <td>550890</td>\n      <td>276</td>\n      <td>Daws Hill Way</td>\n      <td>223877684</td>\n    </tr>\n    <tr>\n      <th>...</th>\n      <td>...</td>\n      <td>...</td>\n      <td>...</td>\n      <td>...</td>\n      <td>...</td>\n      <td>...</td>\n    </tr>\n    <tr>\n      <th>10006</th>\n      <td>99936</td>\n      <td>Luba Benser</td>\n      <td>274427</td>\n      <td>680</td>\n      <td>Carnage Blvd</td>\n      <td>685095054</td>\n    </tr>\n    <tr>\n      <th>10007</th>\n      <td>99941</td>\n      <td>Roxana Mckimley</td>\n      <td>975942</td>\n      <td>1613</td>\n      <td>Gate St</td>\n      <td>512136801</td>\n    </tr>\n    <tr>\n      <th>10008</th>\n      <td>99965</td>\n      <td>Cherie Zeimantz</td>\n      <td>287627</td>\n      <td>3661</td>\n      <td>The Water Ave</td>\n      <td>362877324</td>\n    </tr>\n    <tr>\n      <th>10009</th>\n      <td>99982</td>\n      <td>Allen Cruse</td>\n      <td>251350</td>\n      <td>3126</td>\n      <td>N Jean Dr</td>\n      <td>348734531</td>\n    </tr>\n    <tr>\n      <th>10010</th>\n      <td>99990</td>\n      <td>Vance Hunten</td>\n      <td>830407</td>\n      <td>3056</td>\n      <td>Lancefield St</td>\n      <td>896677562</td>\n    </tr>\n  </tbody>\n</table>\n<p>10011 rows × 6 columns</p>\n</div>"
     },
     "metadata": {},
     "execution_count": 4
    }
   ],
   "source": [
    "query=\"\"\"\n",
    "SELECT *\n",
    "FROM person p\n",
    "\"\"\"\n",
    "pd.read_sql_query(query, connection)"
   ]
  },
  {
   "cell_type": "code",
   "execution_count": 6,
   "metadata": {},
   "outputs": [
    {
     "output_type": "execute_result",
     "data": {
      "text/plain": [
       "           id  age  height eye_color hair_color  gender plate_number  \\\n",
       "0      100280   72      57     brown        red    male       P24L4U   \n",
       "1      100460   63      72     brown      brown  female       XF02T6   \n",
       "2      101029   62      74     green      green  female       VKY5KR   \n",
       "3      101198   43      54     amber      brown  female       Y5NZ08   \n",
       "4      101255   18      79      blue       grey  female       5162Z1   \n",
       "...       ...  ...     ...       ...        ...     ...          ...   \n",
       "10002  999923   19      77     amber      black  female       5L0ZI4   \n",
       "10003  999940   71      61     green      green    male       1B8QN8   \n",
       "10004  999981   67      69     brown       blue  female       1684K3   \n",
       "10005  999986   49      58     green       grey    male       F8F64H   \n",
       "10006  999993   18      63     black      black  female       6UZO2O   \n",
       "\n",
       "         car_make    car_model  \n",
       "0           Acura          MDX  \n",
       "1        Cadillac          SRX  \n",
       "2           Scion           xB  \n",
       "3          Nissan        Rogue  \n",
       "4           Lexus           GS  \n",
       "...           ...          ...  \n",
       "10002         GMC  Sierra 3500  \n",
       "10003  Mitsubishi      Eclipse  \n",
       "10004  Land Rover          LR2  \n",
       "10005       Lexus           LS  \n",
       "10006    Cadillac      DeVille  \n",
       "\n",
       "[10007 rows x 9 columns]"
      ],
      "text/html": "<div>\n<style scoped>\n    .dataframe tbody tr th:only-of-type {\n        vertical-align: middle;\n    }\n\n    .dataframe tbody tr th {\n        vertical-align: top;\n    }\n\n    .dataframe thead th {\n        text-align: right;\n    }\n</style>\n<table border=\"1\" class=\"dataframe\">\n  <thead>\n    <tr style=\"text-align: right;\">\n      <th></th>\n      <th>id</th>\n      <th>age</th>\n      <th>height</th>\n      <th>eye_color</th>\n      <th>hair_color</th>\n      <th>gender</th>\n      <th>plate_number</th>\n      <th>car_make</th>\n      <th>car_model</th>\n    </tr>\n  </thead>\n  <tbody>\n    <tr>\n      <th>0</th>\n      <td>100280</td>\n      <td>72</td>\n      <td>57</td>\n      <td>brown</td>\n      <td>red</td>\n      <td>male</td>\n      <td>P24L4U</td>\n      <td>Acura</td>\n      <td>MDX</td>\n    </tr>\n    <tr>\n      <th>1</th>\n      <td>100460</td>\n      <td>63</td>\n      <td>72</td>\n      <td>brown</td>\n      <td>brown</td>\n      <td>female</td>\n      <td>XF02T6</td>\n      <td>Cadillac</td>\n      <td>SRX</td>\n    </tr>\n    <tr>\n      <th>2</th>\n      <td>101029</td>\n      <td>62</td>\n      <td>74</td>\n      <td>green</td>\n      <td>green</td>\n      <td>female</td>\n      <td>VKY5KR</td>\n      <td>Scion</td>\n      <td>xB</td>\n    </tr>\n    <tr>\n      <th>3</th>\n      <td>101198</td>\n      <td>43</td>\n      <td>54</td>\n      <td>amber</td>\n      <td>brown</td>\n      <td>female</td>\n      <td>Y5NZ08</td>\n      <td>Nissan</td>\n      <td>Rogue</td>\n    </tr>\n    <tr>\n      <th>4</th>\n      <td>101255</td>\n      <td>18</td>\n      <td>79</td>\n      <td>blue</td>\n      <td>grey</td>\n      <td>female</td>\n      <td>5162Z1</td>\n      <td>Lexus</td>\n      <td>GS</td>\n    </tr>\n    <tr>\n      <th>...</th>\n      <td>...</td>\n      <td>...</td>\n      <td>...</td>\n      <td>...</td>\n      <td>...</td>\n      <td>...</td>\n      <td>...</td>\n      <td>...</td>\n      <td>...</td>\n    </tr>\n    <tr>\n      <th>10002</th>\n      <td>999923</td>\n      <td>19</td>\n      <td>77</td>\n      <td>amber</td>\n      <td>black</td>\n      <td>female</td>\n      <td>5L0ZI4</td>\n      <td>GMC</td>\n      <td>Sierra 3500</td>\n    </tr>\n    <tr>\n      <th>10003</th>\n      <td>999940</td>\n      <td>71</td>\n      <td>61</td>\n      <td>green</td>\n      <td>green</td>\n      <td>male</td>\n      <td>1B8QN8</td>\n      <td>Mitsubishi</td>\n      <td>Eclipse</td>\n    </tr>\n    <tr>\n      <th>10004</th>\n      <td>999981</td>\n      <td>67</td>\n      <td>69</td>\n      <td>brown</td>\n      <td>blue</td>\n      <td>female</td>\n      <td>1684K3</td>\n      <td>Land Rover</td>\n      <td>LR2</td>\n    </tr>\n    <tr>\n      <th>10005</th>\n      <td>999986</td>\n      <td>49</td>\n      <td>58</td>\n      <td>green</td>\n      <td>grey</td>\n      <td>male</td>\n      <td>F8F64H</td>\n      <td>Lexus</td>\n      <td>LS</td>\n    </tr>\n    <tr>\n      <th>10006</th>\n      <td>999993</td>\n      <td>18</td>\n      <td>63</td>\n      <td>black</td>\n      <td>black</td>\n      <td>female</td>\n      <td>6UZO2O</td>\n      <td>Cadillac</td>\n      <td>DeVille</td>\n    </tr>\n  </tbody>\n</table>\n<p>10007 rows × 9 columns</p>\n</div>"
     },
     "metadata": {},
     "execution_count": 6
    }
   ],
   "source": [
    "query=\"\"\"\n",
    "SELECT *\n",
    "FROM drivers_license dl\n",
    "\"\"\"\n",
    "pd.read_sql_query(query, connection)"
   ]
  },
  {
   "cell_type": "code",
   "execution_count": 7,
   "metadata": {},
   "outputs": [
    {
     "output_type": "execute_result",
     "data": {
      "text/plain": [
       "        id  person_id                name  membership_start_date  \\\n",
       "0    NL318      65076     Everette Koepke               20170926   \n",
       "1    AOE21      39426        Noe Locascio               20171005   \n",
       "2    2PN28      63823  Jeromy Heitschmidt               20180215   \n",
       "3    0YJ24      80651      Waneta Wellard               20171206   \n",
       "4    3A08L      32858        Mei Bianchin               20170401   \n",
       "..     ...        ...                 ...                    ...   \n",
       "179  2V137      41693      Wendell Dulany               20171219   \n",
       "180  4KB72      79110          Emile Hege               20170522   \n",
       "181  48Z7A      28819        Joe Germuska               20160305   \n",
       "182  48Z55      67318       Jeremy Bowers               20160101   \n",
       "183  90081      16371      Annabel Miller               20160208   \n",
       "\n",
       "    membership_status  \n",
       "0                gold  \n",
       "1             regular  \n",
       "2              silver  \n",
       "3                gold  \n",
       "4              silver  \n",
       "..                ...  \n",
       "179            silver  \n",
       "180           regular  \n",
       "181              gold  \n",
       "182              gold  \n",
       "183              gold  \n",
       "\n",
       "[184 rows x 5 columns]"
      ],
      "text/html": "<div>\n<style scoped>\n    .dataframe tbody tr th:only-of-type {\n        vertical-align: middle;\n    }\n\n    .dataframe tbody tr th {\n        vertical-align: top;\n    }\n\n    .dataframe thead th {\n        text-align: right;\n    }\n</style>\n<table border=\"1\" class=\"dataframe\">\n  <thead>\n    <tr style=\"text-align: right;\">\n      <th></th>\n      <th>id</th>\n      <th>person_id</th>\n      <th>name</th>\n      <th>membership_start_date</th>\n      <th>membership_status</th>\n    </tr>\n  </thead>\n  <tbody>\n    <tr>\n      <th>0</th>\n      <td>NL318</td>\n      <td>65076</td>\n      <td>Everette Koepke</td>\n      <td>20170926</td>\n      <td>gold</td>\n    </tr>\n    <tr>\n      <th>1</th>\n      <td>AOE21</td>\n      <td>39426</td>\n      <td>Noe Locascio</td>\n      <td>20171005</td>\n      <td>regular</td>\n    </tr>\n    <tr>\n      <th>2</th>\n      <td>2PN28</td>\n      <td>63823</td>\n      <td>Jeromy Heitschmidt</td>\n      <td>20180215</td>\n      <td>silver</td>\n    </tr>\n    <tr>\n      <th>3</th>\n      <td>0YJ24</td>\n      <td>80651</td>\n      <td>Waneta Wellard</td>\n      <td>20171206</td>\n      <td>gold</td>\n    </tr>\n    <tr>\n      <th>4</th>\n      <td>3A08L</td>\n      <td>32858</td>\n      <td>Mei Bianchin</td>\n      <td>20170401</td>\n      <td>silver</td>\n    </tr>\n    <tr>\n      <th>...</th>\n      <td>...</td>\n      <td>...</td>\n      <td>...</td>\n      <td>...</td>\n      <td>...</td>\n    </tr>\n    <tr>\n      <th>179</th>\n      <td>2V137</td>\n      <td>41693</td>\n      <td>Wendell Dulany</td>\n      <td>20171219</td>\n      <td>silver</td>\n    </tr>\n    <tr>\n      <th>180</th>\n      <td>4KB72</td>\n      <td>79110</td>\n      <td>Emile Hege</td>\n      <td>20170522</td>\n      <td>regular</td>\n    </tr>\n    <tr>\n      <th>181</th>\n      <td>48Z7A</td>\n      <td>28819</td>\n      <td>Joe Germuska</td>\n      <td>20160305</td>\n      <td>gold</td>\n    </tr>\n    <tr>\n      <th>182</th>\n      <td>48Z55</td>\n      <td>67318</td>\n      <td>Jeremy Bowers</td>\n      <td>20160101</td>\n      <td>gold</td>\n    </tr>\n    <tr>\n      <th>183</th>\n      <td>90081</td>\n      <td>16371</td>\n      <td>Annabel Miller</td>\n      <td>20160208</td>\n      <td>gold</td>\n    </tr>\n  </tbody>\n</table>\n<p>184 rows × 5 columns</p>\n</div>"
     },
     "metadata": {},
     "execution_count": 7
    }
   ],
   "source": [
    "query=\"\"\"\n",
    "SELECT *\n",
    "FROM get_fit_now_member gfnm\n",
    "\"\"\"\n",
    "pd.read_sql_query(query, connection)"
   ]
  },
  {
   "cell_type": "code",
   "execution_count": 10,
   "metadata": {},
   "outputs": [
    {
     "output_type": "execute_result",
     "data": {
      "text/plain": [
       "       person_id  event_id  \\\n",
       "0          28508      5880   \n",
       "1          63713      3865   \n",
       "2          63713      3999   \n",
       "3          63713      6436   \n",
       "4          82998      4470   \n",
       "...          ...       ...   \n",
       "20006      99716      1143   \n",
       "20007      99716      1143   \n",
       "20008      99716      1143   \n",
       "20009      67318      4719   \n",
       "20010      67318      1143   \n",
       "\n",
       "                                                                event_name  \\\n",
       "0                          Nudists are people who wear one-button suits.\\n   \n",
       "1      but that's because it's the best book on anything for the layman.\\n   \n",
       "2                                 If Murphy's Law can go wrong, it will.\\n   \n",
       "3         Old programmers never die.  They just branch to a new address.\\n   \n",
       "4                                     Help a swallow land at Capistrano.\\n   \n",
       "...                                                                    ...   \n",
       "20006                                                 SQL Symphony Concert   \n",
       "20007                                                 SQL Symphony Concert   \n",
       "20008                                                 SQL Symphony Concert   \n",
       "20009                                               The Funky Grooves Tour   \n",
       "20010                                                 SQL Symphony Concert   \n",
       "\n",
       "           date  \n",
       "0      20170913  \n",
       "1      20171009  \n",
       "2      20170502  \n",
       "3      20170926  \n",
       "4      20171022  \n",
       "...         ...  \n",
       "20006  20171206  \n",
       "20007  20171212  \n",
       "20008  20171229  \n",
       "20009  20180115  \n",
       "20010  20171206  \n",
       "\n",
       "[20011 rows x 4 columns]"
      ],
      "text/html": "<div>\n<style scoped>\n    .dataframe tbody tr th:only-of-type {\n        vertical-align: middle;\n    }\n\n    .dataframe tbody tr th {\n        vertical-align: top;\n    }\n\n    .dataframe thead th {\n        text-align: right;\n    }\n</style>\n<table border=\"1\" class=\"dataframe\">\n  <thead>\n    <tr style=\"text-align: right;\">\n      <th></th>\n      <th>person_id</th>\n      <th>event_id</th>\n      <th>event_name</th>\n      <th>date</th>\n    </tr>\n  </thead>\n  <tbody>\n    <tr>\n      <th>0</th>\n      <td>28508</td>\n      <td>5880</td>\n      <td>Nudists are people who wear one-button suits.\\n</td>\n      <td>20170913</td>\n    </tr>\n    <tr>\n      <th>1</th>\n      <td>63713</td>\n      <td>3865</td>\n      <td>but that's because it's the best book on anything for the layman.\\n</td>\n      <td>20171009</td>\n    </tr>\n    <tr>\n      <th>2</th>\n      <td>63713</td>\n      <td>3999</td>\n      <td>If Murphy's Law can go wrong, it will.\\n</td>\n      <td>20170502</td>\n    </tr>\n    <tr>\n      <th>3</th>\n      <td>63713</td>\n      <td>6436</td>\n      <td>Old programmers never die.  They just branch to a new address.\\n</td>\n      <td>20170926</td>\n    </tr>\n    <tr>\n      <th>4</th>\n      <td>82998</td>\n      <td>4470</td>\n      <td>Help a swallow land at Capistrano.\\n</td>\n      <td>20171022</td>\n    </tr>\n    <tr>\n      <th>...</th>\n      <td>...</td>\n      <td>...</td>\n      <td>...</td>\n      <td>...</td>\n    </tr>\n    <tr>\n      <th>20006</th>\n      <td>99716</td>\n      <td>1143</td>\n      <td>SQL Symphony Concert</td>\n      <td>20171206</td>\n    </tr>\n    <tr>\n      <th>20007</th>\n      <td>99716</td>\n      <td>1143</td>\n      <td>SQL Symphony Concert</td>\n      <td>20171212</td>\n    </tr>\n    <tr>\n      <th>20008</th>\n      <td>99716</td>\n      <td>1143</td>\n      <td>SQL Symphony Concert</td>\n      <td>20171229</td>\n    </tr>\n    <tr>\n      <th>20009</th>\n      <td>67318</td>\n      <td>4719</td>\n      <td>The Funky Grooves Tour</td>\n      <td>20180115</td>\n    </tr>\n    <tr>\n      <th>20010</th>\n      <td>67318</td>\n      <td>1143</td>\n      <td>SQL Symphony Concert</td>\n      <td>20171206</td>\n    </tr>\n  </tbody>\n</table>\n<p>20011 rows × 4 columns</p>\n</div>"
     },
     "metadata": {},
     "execution_count": 10
    }
   ],
   "source": [
    "query=\"\"\"\n",
    "SELECT *\n",
    "FROM facebook_event_checkin fec\n",
    "\"\"\"\n",
    "pd.read_sql_query(query, connection)"
   ]
  },
  {
   "cell_type": "code",
   "execution_count": 11,
   "metadata": {},
   "outputs": [
    {
     "output_type": "execute_result",
     "data": {
      "text/plain": [
       "      person_id  \\\n",
       "0         28508   \n",
       "1         63713   \n",
       "2         86208   \n",
       "3         35267   \n",
       "4         33856   \n",
       "...         ...   \n",
       "4986      37357   \n",
       "4987      10206   \n",
       "4988      14887   \n",
       "4989      16371   \n",
       "4990      67318   \n",
       "\n",
       "                                                                                                                                                                                                                                              transcript  \n",
       "0                                                                                                                                                                                                                    ‘I deny it!’ said the March Hare.\\n  \n",
       "1                                                                                                                                                                                                                                                     \\n  \n",
       "2                                                                                                                                                                                                          way, and the whole party swam to the shore.\\n  \n",
       "3                                                                                                                                                                                lessons in here? Why, there’s hardly room for YOU, and no room at all\\n  \n",
       "4                                                                                                                                                                                                                                                     \\n  \n",
       "...                                                                                                                                                                                                                                                  ...  \n",
       "4986                                                                                                                                                                                Alice did not wish to offend the Dormouse again, so she began very\\n  \n",
       "4987                                                                                                                                                                          time,’ she said, ‘than waste it in asking riddles that have no answers.’\\n  \n",
       "4988                     I heard a gunshot and then saw a man run out. He had a \"Get Fit Now Gym\" bag. The membership number on the bag started with \"48Z\". Only gold members have those bags. The man got into a car with a plate that included \"H42W\".  \n",
       "4989                                                                                                                               I saw the murder happen, and I recognized the killer from my gym when I was working out last week on January the 9th.  \n",
       "4990  I was hired by a woman with a lot of money. I don't know her name but I know she's around 5'5\" (65\") or 5'7\" (67\"). She has red hair and she drives a Tesla Model S. I know that she attended the SQL Symphony Concert 3 times in December 2017.\\n  \n",
       "\n",
       "[4991 rows x 2 columns]"
      ],
      "text/html": "<div>\n<style scoped>\n    .dataframe tbody tr th:only-of-type {\n        vertical-align: middle;\n    }\n\n    .dataframe tbody tr th {\n        vertical-align: top;\n    }\n\n    .dataframe thead th {\n        text-align: right;\n    }\n</style>\n<table border=\"1\" class=\"dataframe\">\n  <thead>\n    <tr style=\"text-align: right;\">\n      <th></th>\n      <th>person_id</th>\n      <th>transcript</th>\n    </tr>\n  </thead>\n  <tbody>\n    <tr>\n      <th>0</th>\n      <td>28508</td>\n      <td>‘I deny it!’ said the March Hare.\\n</td>\n    </tr>\n    <tr>\n      <th>1</th>\n      <td>63713</td>\n      <td>\\n</td>\n    </tr>\n    <tr>\n      <th>2</th>\n      <td>86208</td>\n      <td>way, and the whole party swam to the shore.\\n</td>\n    </tr>\n    <tr>\n      <th>3</th>\n      <td>35267</td>\n      <td>lessons in here? Why, there’s hardly room for YOU, and no room at all\\n</td>\n    </tr>\n    <tr>\n      <th>4</th>\n      <td>33856</td>\n      <td>\\n</td>\n    </tr>\n    <tr>\n      <th>...</th>\n      <td>...</td>\n      <td>...</td>\n    </tr>\n    <tr>\n      <th>4986</th>\n      <td>37357</td>\n      <td>Alice did not wish to offend the Dormouse again, so she began very\\n</td>\n    </tr>\n    <tr>\n      <th>4987</th>\n      <td>10206</td>\n      <td>time,’ she said, ‘than waste it in asking riddles that have no answers.’\\n</td>\n    </tr>\n    <tr>\n      <th>4988</th>\n      <td>14887</td>\n      <td>I heard a gunshot and then saw a man run out. He had a \"Get Fit Now Gym\" bag. The membership number on the bag started with \"48Z\". Only gold members have those bags. The man got into a car with a plate that included \"H42W\".</td>\n    </tr>\n    <tr>\n      <th>4989</th>\n      <td>16371</td>\n      <td>I saw the murder happen, and I recognized the killer from my gym when I was working out last week on January the 9th.</td>\n    </tr>\n    <tr>\n      <th>4990</th>\n      <td>67318</td>\n      <td>I was hired by a woman with a lot of money. I don't know her name but I know she's around 5'5\" (65\") or 5'7\" (67\"). She has red hair and she drives a Tesla Model S. I know that she attended the SQL Symphony Concert 3 times in December 2017.\\n</td>\n    </tr>\n  </tbody>\n</table>\n<p>4991 rows × 2 columns</p>\n</div>"
     },
     "metadata": {},
     "execution_count": 11
    }
   ],
   "source": [
    "query=\"\"\"\n",
    "SELECT *\n",
    "FROM interview it\n",
    "\"\"\"\n",
    "pd.read_sql_query(query, connection)"
   ]
  },
  {
   "cell_type": "code",
   "execution_count": 12,
   "metadata": {},
   "outputs": [
    {
     "output_type": "execute_result",
     "data": {
      "text/plain": [
       "     membership_id  check_in_date  check_in_time  check_out_time\n",
       "0            NL318       20180212            329             365\n",
       "1            NL318       20170811            469             920\n",
       "2            NL318       20180429            506             554\n",
       "3            NL318       20180128            124             759\n",
       "4            NL318       20171027            418            1019\n",
       "...            ...            ...            ...             ...\n",
       "2698         4KB72       20170422           1016            1114\n",
       "2699         4KB72       20170630            408             885\n",
       "2700         48Z7A       20180109           1600            1730\n",
       "2701         48Z55       20180109           1530            1700\n",
       "2702         90081       20180109           1600            1700\n",
       "\n",
       "[2703 rows x 4 columns]"
      ],
      "text/html": "<div>\n<style scoped>\n    .dataframe tbody tr th:only-of-type {\n        vertical-align: middle;\n    }\n\n    .dataframe tbody tr th {\n        vertical-align: top;\n    }\n\n    .dataframe thead th {\n        text-align: right;\n    }\n</style>\n<table border=\"1\" class=\"dataframe\">\n  <thead>\n    <tr style=\"text-align: right;\">\n      <th></th>\n      <th>membership_id</th>\n      <th>check_in_date</th>\n      <th>check_in_time</th>\n      <th>check_out_time</th>\n    </tr>\n  </thead>\n  <tbody>\n    <tr>\n      <th>0</th>\n      <td>NL318</td>\n      <td>20180212</td>\n      <td>329</td>\n      <td>365</td>\n    </tr>\n    <tr>\n      <th>1</th>\n      <td>NL318</td>\n      <td>20170811</td>\n      <td>469</td>\n      <td>920</td>\n    </tr>\n    <tr>\n      <th>2</th>\n      <td>NL318</td>\n      <td>20180429</td>\n      <td>506</td>\n      <td>554</td>\n    </tr>\n    <tr>\n      <th>3</th>\n      <td>NL318</td>\n      <td>20180128</td>\n      <td>124</td>\n      <td>759</td>\n    </tr>\n    <tr>\n      <th>4</th>\n      <td>NL318</td>\n      <td>20171027</td>\n      <td>418</td>\n      <td>1019</td>\n    </tr>\n    <tr>\n      <th>...</th>\n      <td>...</td>\n      <td>...</td>\n      <td>...</td>\n      <td>...</td>\n    </tr>\n    <tr>\n      <th>2698</th>\n      <td>4KB72</td>\n      <td>20170422</td>\n      <td>1016</td>\n      <td>1114</td>\n    </tr>\n    <tr>\n      <th>2699</th>\n      <td>4KB72</td>\n      <td>20170630</td>\n      <td>408</td>\n      <td>885</td>\n    </tr>\n    <tr>\n      <th>2700</th>\n      <td>48Z7A</td>\n      <td>20180109</td>\n      <td>1600</td>\n      <td>1730</td>\n    </tr>\n    <tr>\n      <th>2701</th>\n      <td>48Z55</td>\n      <td>20180109</td>\n      <td>1530</td>\n      <td>1700</td>\n    </tr>\n    <tr>\n      <th>2702</th>\n      <td>90081</td>\n      <td>20180109</td>\n      <td>1600</td>\n      <td>1700</td>\n    </tr>\n  </tbody>\n</table>\n<p>2703 rows × 4 columns</p>\n</div>"
     },
     "metadata": {},
     "execution_count": 12
    }
   ],
   "source": [
    "query=\"\"\"\n",
    "SELECT *\n",
    "FROM get_fit_now_check_in gfnci\n",
    "\"\"\"\n",
    "pd.read_sql_query(query, connection)"
   ]
  },
  {
   "cell_type": "code",
   "execution_count": 13,
   "metadata": {},
   "outputs": [
    {
     "output_type": "execute_result",
     "data": {
      "text/plain": [
       "            ssn  annual_income\n",
       "0     100009868          52200\n",
       "1     100169584          64500\n",
       "2     100300433          74400\n",
       "3     100355733          35900\n",
       "4     100366269          73000\n",
       "...         ...            ...\n",
       "7509  999679296          54400\n",
       "7510  999762859          77000\n",
       "7511  999824984          82000\n",
       "7512  999910617          82600\n",
       "7513  999942603          11500\n",
       "\n",
       "[7514 rows x 2 columns]"
      ],
      "text/html": "<div>\n<style scoped>\n    .dataframe tbody tr th:only-of-type {\n        vertical-align: middle;\n    }\n\n    .dataframe tbody tr th {\n        vertical-align: top;\n    }\n\n    .dataframe thead th {\n        text-align: right;\n    }\n</style>\n<table border=\"1\" class=\"dataframe\">\n  <thead>\n    <tr style=\"text-align: right;\">\n      <th></th>\n      <th>ssn</th>\n      <th>annual_income</th>\n    </tr>\n  </thead>\n  <tbody>\n    <tr>\n      <th>0</th>\n      <td>100009868</td>\n      <td>52200</td>\n    </tr>\n    <tr>\n      <th>1</th>\n      <td>100169584</td>\n      <td>64500</td>\n    </tr>\n    <tr>\n      <th>2</th>\n      <td>100300433</td>\n      <td>74400</td>\n    </tr>\n    <tr>\n      <th>3</th>\n      <td>100355733</td>\n      <td>35900</td>\n    </tr>\n    <tr>\n      <th>4</th>\n      <td>100366269</td>\n      <td>73000</td>\n    </tr>\n    <tr>\n      <th>...</th>\n      <td>...</td>\n      <td>...</td>\n    </tr>\n    <tr>\n      <th>7509</th>\n      <td>999679296</td>\n      <td>54400</td>\n    </tr>\n    <tr>\n      <th>7510</th>\n      <td>999762859</td>\n      <td>77000</td>\n    </tr>\n    <tr>\n      <th>7511</th>\n      <td>999824984</td>\n      <td>82000</td>\n    </tr>\n    <tr>\n      <th>7512</th>\n      <td>999910617</td>\n      <td>82600</td>\n    </tr>\n    <tr>\n      <th>7513</th>\n      <td>999942603</td>\n      <td>11500</td>\n    </tr>\n  </tbody>\n</table>\n<p>7514 rows × 2 columns</p>\n</div>"
     },
     "metadata": {},
     "execution_count": 13
    }
   ],
   "source": [
    "query=\"\"\"\n",
    "SELECT *\n",
    "FROM income ic\n",
    "\"\"\"\n",
    "pd.read_sql_query(query, connection)"
   ]
  },
  {
   "cell_type": "code",
   "execution_count": 17,
   "metadata": {},
   "outputs": [
    {
     "output_type": "execute_result",
     "data": {
      "text/plain": [
       "       date    type  \\\n",
       "0  20180115  murder   \n",
       "\n",
       "                                                                                                                                                                                 description  \\\n",
       "0  Security footage shows that there were 2 witnesses. The first witness lives at the last house on \"Northwestern Dr\". The second witness, named Annabel, lives somewhere on \"Franklin Ave\".   \n",
       "\n",
       "       city  \n",
       "0  SQL City  "
      ],
      "text/html": "<div>\n<style scoped>\n    .dataframe tbody tr th:only-of-type {\n        vertical-align: middle;\n    }\n\n    .dataframe tbody tr th {\n        vertical-align: top;\n    }\n\n    .dataframe thead th {\n        text-align: right;\n    }\n</style>\n<table border=\"1\" class=\"dataframe\">\n  <thead>\n    <tr style=\"text-align: right;\">\n      <th></th>\n      <th>date</th>\n      <th>type</th>\n      <th>description</th>\n      <th>city</th>\n    </tr>\n  </thead>\n  <tbody>\n    <tr>\n      <th>0</th>\n      <td>20180115</td>\n      <td>murder</td>\n      <td>Security footage shows that there were 2 witnesses. The first witness lives at the last house on \"Northwestern Dr\". The second witness, named Annabel, lives somewhere on \"Franklin Ave\".</td>\n      <td>SQL City</td>\n    </tr>\n  </tbody>\n</table>\n</div>"
     },
     "metadata": {},
     "execution_count": 17
    }
   ],
   "source": [
    "query=\"\"\"\n",
    "SELECT *\n",
    "FROM crime_scene_report csr\n",
    "WHERE csr.type = 'murder' AND csr.city = 'SQL City' AND csr.date = '20180115'\n",
    "\"\"\"\n",
    "pd.read_sql_query(query, connection)"
   ]
  },
  {
   "cell_type": "code",
   "execution_count": 23,
   "metadata": {},
   "outputs": [
    {
     "output_type": "execute_result",
     "data": {
      "text/plain": [
       "      id            name  license_id  address_number address_street_name  \\\n",
       "0  14887  Morty Schapiro      118009            4919     Northwestern Dr   \n",
       "\n",
       "         ssn  \n",
       "0  111564949  "
      ],
      "text/html": "<div>\n<style scoped>\n    .dataframe tbody tr th:only-of-type {\n        vertical-align: middle;\n    }\n\n    .dataframe tbody tr th {\n        vertical-align: top;\n    }\n\n    .dataframe thead th {\n        text-align: right;\n    }\n</style>\n<table border=\"1\" class=\"dataframe\">\n  <thead>\n    <tr style=\"text-align: right;\">\n      <th></th>\n      <th>id</th>\n      <th>name</th>\n      <th>license_id</th>\n      <th>address_number</th>\n      <th>address_street_name</th>\n      <th>ssn</th>\n    </tr>\n  </thead>\n  <tbody>\n    <tr>\n      <th>0</th>\n      <td>14887</td>\n      <td>Morty Schapiro</td>\n      <td>118009</td>\n      <td>4919</td>\n      <td>Northwestern Dr</td>\n      <td>111564949</td>\n    </tr>\n  </tbody>\n</table>\n</div>"
     },
     "metadata": {},
     "execution_count": 23
    }
   ],
   "source": [
    "# Este es el primer testigo\n",
    "\n",
    "query=\"\"\"\n",
    "SELECT *\n",
    "FROM person\n",
    "WHERE address_street_name = 'Northwestern Dr'\n",
    "ORDER BY address_number desc\n",
    "LIMIT 1\n",
    "\"\"\"\n",
    "pd.read_sql_query(query, connection)"
   ]
  },
  {
   "cell_type": "code",
   "execution_count": 26,
   "metadata": {},
   "outputs": [
    {
     "output_type": "execute_result",
     "data": {
      "text/plain": [
       "      id            name  license_id  address_number address_street_name  \\\n",
       "0  16371  Annabel Miller      490173             103        Franklin Ave   \n",
       "\n",
       "         ssn  \n",
       "0  318771143  "
      ],
      "text/html": "<div>\n<style scoped>\n    .dataframe tbody tr th:only-of-type {\n        vertical-align: middle;\n    }\n\n    .dataframe tbody tr th {\n        vertical-align: top;\n    }\n\n    .dataframe thead th {\n        text-align: right;\n    }\n</style>\n<table border=\"1\" class=\"dataframe\">\n  <thead>\n    <tr style=\"text-align: right;\">\n      <th></th>\n      <th>id</th>\n      <th>name</th>\n      <th>license_id</th>\n      <th>address_number</th>\n      <th>address_street_name</th>\n      <th>ssn</th>\n    </tr>\n  </thead>\n  <tbody>\n    <tr>\n      <th>0</th>\n      <td>16371</td>\n      <td>Annabel Miller</td>\n      <td>490173</td>\n      <td>103</td>\n      <td>Franklin Ave</td>\n      <td>318771143</td>\n    </tr>\n  </tbody>\n</table>\n</div>"
     },
     "metadata": {},
     "execution_count": 26
    }
   ],
   "source": [
    "# Este es el segundo testigo\n",
    "\n",
    "query=\"\"\"\n",
    "SELECT *\n",
    "FROM person\n",
    "WHERE name LIKE 'Annabel%' AND address_street_name = 'Franklin Ave'\n",
    "\"\"\"\n",
    "pd.read_sql_query(query, connection)"
   ]
  },
  {
   "cell_type": "code",
   "execution_count": 9,
   "metadata": {},
   "outputs": [
    {
     "output_type": "execute_result",
     "data": {
      "text/plain": [
       "             name  \\\n",
       "0  Morty Schapiro   \n",
       "\n",
       "                                                                                                                                                                                                                        transcript  \n",
       "0  I heard a gunshot and then saw a man run out. He had a \"Get Fit Now Gym\" bag. The membership number on the bag started with \"48Z\". Only gold members have those bags. The man got into a car with a plate that included \"H42W\".  "
      ],
      "text/html": "<div>\n<style scoped>\n    .dataframe tbody tr th:only-of-type {\n        vertical-align: middle;\n    }\n\n    .dataframe tbody tr th {\n        vertical-align: top;\n    }\n\n    .dataframe thead th {\n        text-align: right;\n    }\n</style>\n<table border=\"1\" class=\"dataframe\">\n  <thead>\n    <tr style=\"text-align: right;\">\n      <th></th>\n      <th>name</th>\n      <th>transcript</th>\n    </tr>\n  </thead>\n  <tbody>\n    <tr>\n      <th>0</th>\n      <td>Morty Schapiro</td>\n      <td>I heard a gunshot and then saw a man run out. He had a \"Get Fit Now Gym\" bag. The membership number on the bag started with \"48Z\". Only gold members have those bags. The man got into a car with a plate that included \"H42W\".</td>\n    </tr>\n  </tbody>\n</table>\n</div>"
     },
     "metadata": {},
     "execution_count": 9
    }
   ],
   "source": [
    "# Entrevista al primer testigo\n",
    "\n",
    "query=\"\"\"\n",
    "SELECT p.name, i.transcript\n",
    "FROM person p\n",
    "JOIN interview i ON p.id = i.person_id\n",
    "WHERE p.id = '14887'\n",
    "\"\"\"\n",
    "pd.read_sql_query(query, connection)"
   ]
  },
  {
   "cell_type": "code",
   "execution_count": 10,
   "metadata": {},
   "outputs": [
    {
     "output_type": "execute_result",
     "data": {
      "text/plain": [
       "             name  \\\n",
       "0  Annabel Miller   \n",
       "\n",
       "                                                                                                              transcript  \n",
       "0  I saw the murder happen, and I recognized the killer from my gym when I was working out last week on January the 9th.  "
      ],
      "text/html": "<div>\n<style scoped>\n    .dataframe tbody tr th:only-of-type {\n        vertical-align: middle;\n    }\n\n    .dataframe tbody tr th {\n        vertical-align: top;\n    }\n\n    .dataframe thead th {\n        text-align: right;\n    }\n</style>\n<table border=\"1\" class=\"dataframe\">\n  <thead>\n    <tr style=\"text-align: right;\">\n      <th></th>\n      <th>name</th>\n      <th>transcript</th>\n    </tr>\n  </thead>\n  <tbody>\n    <tr>\n      <th>0</th>\n      <td>Annabel Miller</td>\n      <td>I saw the murder happen, and I recognized the killer from my gym when I was working out last week on January the 9th.</td>\n    </tr>\n  </tbody>\n</table>\n</div>"
     },
     "metadata": {},
     "execution_count": 10
    }
   ],
   "source": [
    "# Entravista a segundo testigo\n",
    "\n",
    "query=\"\"\"\n",
    "SELECT p.name, i.transcript\n",
    "FROM person p\n",
    "JOIN interview i ON p.id = i.person_id\n",
    "WHERE p.id = '16371'\n",
    "\"\"\"\n",
    "pd.read_sql_query(query, connection)"
   ]
  },
  {
   "cell_type": "code",
   "execution_count": 37,
   "metadata": {},
   "outputs": [
    {
     "output_type": "execute_result",
     "data": {
      "text/plain": [
       "   check_in_date  check_in_time  check_out_time\n",
       "0       20180109           1600            1700"
      ],
      "text/html": "<div>\n<style scoped>\n    .dataframe tbody tr th:only-of-type {\n        vertical-align: middle;\n    }\n\n    .dataframe tbody tr th {\n        vertical-align: top;\n    }\n\n    .dataframe thead th {\n        text-align: right;\n    }\n</style>\n<table border=\"1\" class=\"dataframe\">\n  <thead>\n    <tr style=\"text-align: right;\">\n      <th></th>\n      <th>check_in_date</th>\n      <th>check_in_time</th>\n      <th>check_out_time</th>\n    </tr>\n  </thead>\n  <tbody>\n    <tr>\n      <th>0</th>\n      <td>20180109</td>\n      <td>1600</td>\n      <td>1700</td>\n    </tr>\n  </tbody>\n</table>\n</div>"
     },
     "metadata": {},
     "execution_count": 37
    }
   ],
   "source": [
    "# Averiguo el membership_id de Annabel Miller del gimnasio... y con eso, la hora a la que fue al gimnasio, para ver a que hora coincidio con el asesino.\n",
    "\n",
    "query=\"\"\"\n",
    "SELECT gc.check_in_date, gc.check_in_time, gc.check_out_time\n",
    "FROM person p\n",
    "JOIN get_fit_now_member gm ON p.id = gm.person_id\n",
    "JOIN get_fit_now_check_in gc ON gm.id = gc.membership_id\n",
    "WHERE p.id = '16371'\n",
    "\"\"\"\n",
    "pd.read_sql_query(query, connection)\n",
    "\n",
    "# Check in Annabel = 1600\n",
    "# Check out Annabel = 1700"
   ]
  },
  {
   "cell_type": "code",
   "execution_count": 41,
   "metadata": {},
   "outputs": [
    {
     "output_type": "execute_result",
     "data": {
      "text/plain": [
       "  membership_id  check_in_date  check_in_time  check_out_time\n",
       "0         X0643       20180109            957            1164\n",
       "1         UK1F2       20180109            344             518\n",
       "2         XTE42       20180109            486            1124\n",
       "3         1AE2H       20180109            461             944\n",
       "4         6LSTG       20180109            399             515\n",
       "5         7MWHJ       20180109            273             885\n",
       "6         GE5Q8       20180109            367             959\n",
       "7         48Z7A       20180109           1600            1730\n",
       "8         48Z55       20180109           1530            1700\n",
       "9         90081       20180109           1600            1700"
      ],
      "text/html": "<div>\n<style scoped>\n    .dataframe tbody tr th:only-of-type {\n        vertical-align: middle;\n    }\n\n    .dataframe tbody tr th {\n        vertical-align: top;\n    }\n\n    .dataframe thead th {\n        text-align: right;\n    }\n</style>\n<table border=\"1\" class=\"dataframe\">\n  <thead>\n    <tr style=\"text-align: right;\">\n      <th></th>\n      <th>membership_id</th>\n      <th>check_in_date</th>\n      <th>check_in_time</th>\n      <th>check_out_time</th>\n    </tr>\n  </thead>\n  <tbody>\n    <tr>\n      <th>0</th>\n      <td>X0643</td>\n      <td>20180109</td>\n      <td>957</td>\n      <td>1164</td>\n    </tr>\n    <tr>\n      <th>1</th>\n      <td>UK1F2</td>\n      <td>20180109</td>\n      <td>344</td>\n      <td>518</td>\n    </tr>\n    <tr>\n      <th>2</th>\n      <td>XTE42</td>\n      <td>20180109</td>\n      <td>486</td>\n      <td>1124</td>\n    </tr>\n    <tr>\n      <th>3</th>\n      <td>1AE2H</td>\n      <td>20180109</td>\n      <td>461</td>\n      <td>944</td>\n    </tr>\n    <tr>\n      <th>4</th>\n      <td>6LSTG</td>\n      <td>20180109</td>\n      <td>399</td>\n      <td>515</td>\n    </tr>\n    <tr>\n      <th>5</th>\n      <td>7MWHJ</td>\n      <td>20180109</td>\n      <td>273</td>\n      <td>885</td>\n    </tr>\n    <tr>\n      <th>6</th>\n      <td>GE5Q8</td>\n      <td>20180109</td>\n      <td>367</td>\n      <td>959</td>\n    </tr>\n    <tr>\n      <th>7</th>\n      <td>48Z7A</td>\n      <td>20180109</td>\n      <td>1600</td>\n      <td>1730</td>\n    </tr>\n    <tr>\n      <th>8</th>\n      <td>48Z55</td>\n      <td>20180109</td>\n      <td>1530</td>\n      <td>1700</td>\n    </tr>\n    <tr>\n      <th>9</th>\n      <td>90081</td>\n      <td>20180109</td>\n      <td>1600</td>\n      <td>1700</td>\n    </tr>\n  </tbody>\n</table>\n</div>"
     },
     "metadata": {},
     "execution_count": 41
    }
   ],
   "source": [
    "query=\"\"\"\n",
    "SELECT *\n",
    "FROM get_fit_now_check_in\n",
    "WHERE check_in_date = '20180109'\n",
    "\"\"\"\n",
    "pd.read_sql_query(query, connection)\n"
   ]
  },
  {
   "cell_type": "code",
   "execution_count": 42,
   "metadata": {},
   "outputs": [
    {
     "output_type": "execute_result",
     "data": {
      "text/plain": [
       "  membership_id  check_in_date  check_in_time  check_out_time\n",
       "0         48Z7A       20180109           1600            1730\n",
       "1         48Z55       20180109           1530            1700\n",
       "2         90081       20180109           1600            1700"
      ],
      "text/html": "<div>\n<style scoped>\n    .dataframe tbody tr th:only-of-type {\n        vertical-align: middle;\n    }\n\n    .dataframe tbody tr th {\n        vertical-align: top;\n    }\n\n    .dataframe thead th {\n        text-align: right;\n    }\n</style>\n<table border=\"1\" class=\"dataframe\">\n  <thead>\n    <tr style=\"text-align: right;\">\n      <th></th>\n      <th>membership_id</th>\n      <th>check_in_date</th>\n      <th>check_in_time</th>\n      <th>check_out_time</th>\n    </tr>\n  </thead>\n  <tbody>\n    <tr>\n      <th>0</th>\n      <td>48Z7A</td>\n      <td>20180109</td>\n      <td>1600</td>\n      <td>1730</td>\n    </tr>\n    <tr>\n      <th>1</th>\n      <td>48Z55</td>\n      <td>20180109</td>\n      <td>1530</td>\n      <td>1700</td>\n    </tr>\n    <tr>\n      <th>2</th>\n      <td>90081</td>\n      <td>20180109</td>\n      <td>1600</td>\n      <td>1700</td>\n    </tr>\n  </tbody>\n</table>\n</div>"
     },
     "metadata": {},
     "execution_count": 42
    }
   ],
   "source": [
    "# Los 3 con los que se cruzo Annabel en el gimnasio\n",
    "\n",
    "query=\"\"\"\n",
    "SELECT *\n",
    "FROM get_fit_now_check_in\n",
    "WHERE (check_in_time < 1700 AND check_out_time > 1600) AND (check_in_date = '20180109')\n",
    "\"\"\"\n",
    "pd.read_sql_query(query, connection).head(30)"
   ]
  },
  {
   "cell_type": "code",
   "execution_count": 46,
   "metadata": {},
   "outputs": [
    {
     "output_type": "execute_result",
     "data": {
      "text/plain": [
       "  membership_id  check_in_date  check_in_time  check_out_time     id  \\\n",
       "0         48Z55       20180109           1530            1700  48Z55   \n",
       "1         48Z7A       20180109           1600            1730  48Z7A   \n",
       "2         90081       20180109           1600            1700  90081   \n",
       "\n",
       "   person_id            name  membership_start_date membership_status  \n",
       "0      67318   Jeremy Bowers               20160101              gold  \n",
       "1      28819    Joe Germuska               20160305              gold  \n",
       "2      16371  Annabel Miller               20160208              gold  "
      ],
      "text/html": "<div>\n<style scoped>\n    .dataframe tbody tr th:only-of-type {\n        vertical-align: middle;\n    }\n\n    .dataframe tbody tr th {\n        vertical-align: top;\n    }\n\n    .dataframe thead th {\n        text-align: right;\n    }\n</style>\n<table border=\"1\" class=\"dataframe\">\n  <thead>\n    <tr style=\"text-align: right;\">\n      <th></th>\n      <th>membership_id</th>\n      <th>check_in_date</th>\n      <th>check_in_time</th>\n      <th>check_out_time</th>\n      <th>id</th>\n      <th>person_id</th>\n      <th>name</th>\n      <th>membership_start_date</th>\n      <th>membership_status</th>\n    </tr>\n  </thead>\n  <tbody>\n    <tr>\n      <th>0</th>\n      <td>48Z55</td>\n      <td>20180109</td>\n      <td>1530</td>\n      <td>1700</td>\n      <td>48Z55</td>\n      <td>67318</td>\n      <td>Jeremy Bowers</td>\n      <td>20160101</td>\n      <td>gold</td>\n    </tr>\n    <tr>\n      <th>1</th>\n      <td>48Z7A</td>\n      <td>20180109</td>\n      <td>1600</td>\n      <td>1730</td>\n      <td>48Z7A</td>\n      <td>28819</td>\n      <td>Joe Germuska</td>\n      <td>20160305</td>\n      <td>gold</td>\n    </tr>\n    <tr>\n      <th>2</th>\n      <td>90081</td>\n      <td>20180109</td>\n      <td>1600</td>\n      <td>1700</td>\n      <td>90081</td>\n      <td>16371</td>\n      <td>Annabel Miller</td>\n      <td>20160208</td>\n      <td>gold</td>\n    </tr>\n  </tbody>\n</table>\n</div>"
     },
     "metadata": {},
     "execution_count": 46
    }
   ],
   "source": [
    "query=\"\"\"\n",
    "SELECT *\n",
    "FROM get_fit_now_check_in gfnci\n",
    "JOIN get_fit_now_member gfnm ON gfnci.membership_id = gfnm.id\n",
    "WHERE membership_id = '48Z7A' OR membership_id = '48Z55' OR membership_id = '90081'\n",
    "\"\"\"\n",
    "pd.read_sql_query(query, connection)"
   ]
  },
  {
   "cell_type": "code",
   "execution_count": null,
   "metadata": {},
   "outputs": [],
   "source": []
  },
  {
   "cell_type": "code",
   "execution_count": null,
   "metadata": {},
   "outputs": [],
   "source": []
  }
 ],
 "metadata": {
  "kernelspec": {
   "name": "python374jvsc74a57bd0a0947237fadc8b5561fed326db280cc5ec46a670c87cfb3a0489cf95ff262303",
   "display_name": "Python 3.7.4 64-bit"
  },
  "language_info": {
   "codemirror_mode": {
    "name": "ipython",
    "version": 3
   },
   "file_extension": ".py",
   "mimetype": "text/x-python",
   "name": "python",
   "nbconvert_exporter": "python",
   "pygments_lexer": "ipython3",
   "version": "3.7.4"
  },
  "metadata": {
   "interpreter": {
    "hash": "a0947237fadc8b5561fed326db280cc5ec46a670c87cfb3a0489cf95ff262303"
   }
  }
 },
 "nbformat": 4,
 "nbformat_minor": 4
}