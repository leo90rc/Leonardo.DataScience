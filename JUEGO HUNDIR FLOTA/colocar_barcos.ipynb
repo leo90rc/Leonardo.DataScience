{
 "metadata": {
  "language_info": {
   "codemirror_mode": {
    "name": "ipython",
    "version": 3
   },
   "file_extension": ".py",
   "mimetype": "text/x-python",
   "name": "python",
   "nbconvert_exporter": "python",
   "pygments_lexer": "ipython3",
   "version": "3.7.4"
  },
  "orig_nbformat": 2,
  "kernelspec": {
   "name": "python374jvsc74a57bd0a0947237fadc8b5561fed326db280cc5ec46a670c87cfb3a0489cf95ff262303",
   "display_name": "Python 3.7.4 64-bit"
  },
  "metadata": {
   "interpreter": {
    "hash": "a0947237fadc8b5561fed326db280cc5ec46a670c87cfb3a0489cf95ff262303"
   }
  }
 },
 "nbformat": 4,
 "nbformat_minor": 2,
 "cells": [
  {
   "cell_type": "code",
   "execution_count": 20,
   "metadata": {},
   "outputs": [],
   "source": [
    "import random\n",
    "import numpy as np\n",
    "from os import system"
   ]
  },
  {
   "cell_type": "code",
   "execution_count": null,
   "metadata": {},
   "outputs": [],
   "source": [
    "board = []\n",
    "board_ships = []\n",
    "ships = [5, 4, 4, 3, 3, 3, 2, 2, 2, 2]\n",
    "\n",
    "for x in range(10):\n",
    "        board.append(['~'] * 10)\n",
    "for x in range(10):\n",
    "        board_ships.append([0] * 10)\n",
    "\n",
    "def print_board(board):\n",
    "        print('   1 2 3 4 5 6 7 8 9 10')\n",
    "        i = 1\n",
    "        for row in board:\n",
    "            if i >= 10:\n",
    "                print(str(i) + ' ' + ' '.join(row))\n",
    "            else:\n",
    "                print(str(i) + '  ' + ' '.join(row))\n",
    "            i += 1\n",
    "\n",
    "\n",
    "def create_ships(board, ships):\n",
    "        for ship in range(0, len(ships)):\n",
    "            # genera coordenadas aleatorias y valida su posición\n",
    "            valid = False\n",
    "            while not valid:\n",
    "                x = random.randint(1, 10 - ships[ship])-1\n",
    "                y = random.randint(1, 10 - ships[ship])-1\n",
    "                o = random.randint(0, 1)\n",
    "                if o == 0:\n",
    "                    ori = \"v\"\n",
    "                else:\n",
    "                    ori = \"h\"\n",
    "                valid = validate(board,ships[ship],x,y,ori)\n",
    "            #coloca el barco\n",
    "            board = place_ship(board,ships[ship],ori,x,y)\n",
    "        return board\n",
    "\n",
    "def validate(board, ship, x, y, ori):\n",
    "        if ori == \"v\" and x+ship > 10:\n",
    "            return False\n",
    "        elif ori == \"h\" and y+ship > 10:\n",
    "            return False\n",
    "        else:\n",
    "            if ori == \"v\":\n",
    "                for i in range(0, ship):\n",
    "                    if board[x+i][y] != 0:\n",
    "                        return False\n",
    "            elif ori == \"h\":\n",
    "                for i in range(0, ship):\n",
    "                    if board[x][y+i] != 0:\n",
    "                        return False\n",
    "        return True\n",
    "\n",
    "def place_ship(board, ship, ori, x, y):\n",
    "        #coloca el barco basado en la orientación\n",
    "        if ori == \"v\":\n",
    "            for i in range(0, ship):\n",
    "                board[x+i][y] = 1\n",
    "        elif ori == \"h\":\n",
    "            for i in range(ship):\n",
    "                board[x][y+i] = 1\n",
    "        return board\n",
    "\n",
    "ships_human = create_ships(board_ships, ships)"
   ]
  },
  {
   "cell_type": "code",
   "execution_count": null,
   "metadata": {},
   "outputs": [],
   "source": [
    "# ARMAR TABLERO\n",
    "filas_tablero = np.arange(1,11)\n",
    "columnas_tablero = np.arange(1,11)\n",
    "\n",
    "tablero_agua = np.full((10,10), '~')\n",
    "\n",
    "\n"
   ]
  },
  {
   "cell_type": "code",
   "execution_count": null,
   "metadata": {},
   "outputs": [],
   "source": [
    "def crear_tablero_vacio():   # Crea un tablero vacio de 10 x 10\n",
    "    tablero_agua = np.full((10,10), '~')\n",
    "    print('   1 2 3 4 5 6 7 8 9 10')\n",
    "    for i in range(len(tablero_agua)):\n",
    "        if i < 9:\n",
    "            print(str(i+1)+ '  ' + ' '.join(tablero_agua[i]))\n",
    "        elif i == 9:\n",
    "            print(str(i+1)+ ' ' + ' '.join(tablero_agua[i]))\n",
    "\n",
    "# Colocar barcos en tablero\n",
    "# barcos.. 5 , 4, 4, 3, 3, 3, 2, 2, 2, 2"
   ]
  },
  {
   "cell_type": "code",
   "execution_count": null,
   "metadata": {},
   "outputs": [],
   "source": [
    "crear_tablero_vacio()"
   ]
  },
  {
   "cell_type": "code",
   "execution_count": null,
   "metadata": {},
   "outputs": [],
   "source": [
    "tablero_agua = np.full((10,10), '~')\n",
    "def visualizar_tablero_agua():   # Crea un tablero vacio de 10 x 10\n",
    "    print('   1 2 3 4 5 6 7 8 9 10')\n",
    "    for i in range(len(tablero_agua)):\n",
    "        if i < 9:\n",
    "            print(str(i+1)+ '  ' + ' '.join(tablero_agua[i]))\n",
    "        elif i == 9:\n",
    "            print(str(i+1)+ ' ' + ' '.join(tablero_agua[i]))\n",
    "        "
   ]
  },
  {
   "cell_type": "code",
   "execution_count": null,
   "metadata": {},
   "outputs": [],
   "source": [
    "visualizar_tablero_agua()"
   ]
  },
  {
   "cell_type": "code",
   "execution_count": null,
   "metadata": {},
   "outputs": [],
   "source": [
    "tablero_agua"
   ]
  },
  {
   "cell_type": "code",
   "execution_count": null,
   "metadata": {},
   "outputs": [],
   "source": []
  },
  {
   "cell_type": "code",
   "execution_count": null,
   "metadata": {},
   "outputs": [],
   "source": [
    "func_orientacion()\n"
   ]
  },
  {
   "cell_type": "code",
   "execution_count": null,
   "metadata": {},
   "outputs": [],
   "source": [
    "orientacion"
   ]
  },
  {
   "cell_type": "code",
   "execution_count": null,
   "metadata": {},
   "outputs": [],
   "source": [
    "def func_posicion_fila():\n",
    "    global posicion_fila\n",
    "    posicion_fila = input('Ingrese la fila donde quiere colocar su barco: (1 - 10)')\n",
    "    if int(posicion_fila) < 1 or int(posicion_fila) > 10:\n",
    "        print('Esa fila no se encuentra en el tablero. Ingresa una fila entre 1 y 10')\n",
    "        func_posicion_fila()\n",
    "    else:\n",
    "        return posicion_fila"
   ]
  },
  {
   "cell_type": "code",
   "execution_count": null,
   "metadata": {},
   "outputs": [],
   "source": [
    "def func_posicion_columna():\n",
    "    global posicion_columna\n",
    "    posicion_columna = input('Ingrese la columna donde quiere colocar su barco: (1 - 10)')\n",
    "    if int(posicion_columna) < 1 or int(posicion_columna) > 10:\n",
    "        print('Esa columna no se encuentra en el tablero. Ingresa una columna entre 1 y 10')\n",
    "        func_posicion_columna()\n",
    "    else:\n",
    "        return posicion_columna"
   ]
  },
  {
   "cell_type": "code",
   "execution_count": null,
   "metadata": {},
   "outputs": [],
   "source": [
    "def func_orientacion():\n",
    "    global orientacion    \n",
    "    orientacion = input('Ingrese la orientación de su barco: (\"h\" para horizontal - \"v\" para vertical)')\n",
    "    if orientacion == 'h' or orientacion == 'v':\n",
    "        return orientacion\n",
    "    else:        \n",
    "        print('Ingrese una orientación válida (\"h\" para horizontal - \"v\" para vertical)')\n",
    "        func_orientacion()"
   ]
  },
  {
   "cell_type": "code",
   "execution_count": null,
   "metadata": {},
   "outputs": [],
   "source": [
    "func_posicion_fila()"
   ]
  },
  {
   "cell_type": "code",
   "execution_count": null,
   "metadata": {},
   "outputs": [],
   "source": [
    "orientacion"
   ]
  },
  {
   "cell_type": "code",
   "execution_count": null,
   "metadata": {},
   "outputs": [],
   "source": [
    "def crear_tablero_vacio():   # Crea un tablero vacio de 10 x 10\n",
    "    tablero_agua = np.full((10,10), '~')\n",
    "    print('   1 2 3 4 5 6 7 8 9 10')\n",
    "    for i in range(len(tablero_agua)):\n",
    "        if i < 9:\n",
    "            print(str(i+1)+ '  ' + ' '.join(tablero_agua[i]))\n",
    "        elif i == 9:\n",
    "            print(str(i+1)+ ' ' + ' '.join(tablero_agua[i]))"
   ]
  },
  {
   "cell_type": "code",
   "execution_count": 3,
   "metadata": {},
   "outputs": [
    {
     "output_type": "error",
     "ename": "NameError",
     "evalue": "name 'crear_tablero_vacio' is not defined",
     "traceback": [
      "\u001b[1;31m---------------------------------------------------------------------------\u001b[0m",
      "\u001b[1;31mNameError\u001b[0m                                 Traceback (most recent call last)",
      "\u001b[1;32m<ipython-input-3-7a7f50295294>\u001b[0m in \u001b[0;36m<module>\u001b[1;34m\u001b[0m\n\u001b[0;32m     39\u001b[0m \u001b[1;33m\u001b[0m\u001b[0m\n\u001b[0;32m     40\u001b[0m \u001b[1;33m\u001b[0m\u001b[0m\n\u001b[1;32m---> 41\u001b[1;33m \u001b[0mcrear_tablero_vacio\u001b[0m\u001b[1;33m(\u001b[0m\u001b[1;33m)\u001b[0m\u001b[1;33m\u001b[0m\u001b[1;33m\u001b[0m\u001b[0m\n\u001b[0m\u001b[0;32m     42\u001b[0m \u001b[0mbarcos\u001b[0m \u001b[1;33m=\u001b[0m \u001b[1;33m[\u001b[0m\u001b[1;36m5\u001b[0m\u001b[1;33m,\u001b[0m \u001b[1;36m4\u001b[0m\u001b[1;33m,\u001b[0m \u001b[1;36m4\u001b[0m\u001b[1;33m,\u001b[0m \u001b[1;36m3\u001b[0m\u001b[1;33m,\u001b[0m \u001b[1;36m3\u001b[0m\u001b[1;33m,\u001b[0m \u001b[1;36m3\u001b[0m\u001b[1;33m,\u001b[0m \u001b[1;36m2\u001b[0m\u001b[1;33m,\u001b[0m \u001b[1;36m2\u001b[0m\u001b[1;33m,\u001b[0m \u001b[1;36m2\u001b[0m\u001b[1;33m,\u001b[0m \u001b[1;36m2\u001b[0m\u001b[1;33m]\u001b[0m\u001b[1;33m\u001b[0m\u001b[1;33m\u001b[0m\u001b[0m\n\u001b[0;32m     43\u001b[0m \u001b[1;32mwhile\u001b[0m \u001b[0mlen\u001b[0m\u001b[1;33m(\u001b[0m\u001b[0mbarcos\u001b[0m\u001b[1;33m)\u001b[0m \u001b[1;33m>\u001b[0m \u001b[1;36m0\u001b[0m\u001b[1;33m:\u001b[0m\u001b[1;33m\u001b[0m\u001b[1;33m\u001b[0m\u001b[0m\n",
      "\u001b[1;31mNameError\u001b[0m: name 'crear_tablero_vacio' is not defined"
     ]
    }
   ],
   "source": [
    "# colocar un barco\n",
    "\n",
    "# Defino funcion para las filas.\n",
    "\n",
    "tablero_agua = np.full((10,10), '~')\n",
    "\n",
    "\n",
    "\n",
    "\n",
    "\n",
    "\n",
    "def func_posicion_fila():\n",
    "    posicion_fila = input('Ingrese la fila donde quiere colocar su barco: (1 - 10)')\n",
    "    if int(posicion_fila) < 1 or int(posicion_fila) > 10:\n",
    "        print('Esa fila no se encuentra en el tablero. Ingresa una fila entre 1 y 10')\n",
    "        func_posicion_fila()\n",
    "    else:\n",
    "        return posicion_fila\n",
    "\n",
    "\n",
    "def func_posicion_columna():\n",
    "    posicion_columna = input('Ingrese la columna donde quiere colocar su barco: (1 - 10)')\n",
    "    if int(posicion_columna) < 1 or int(posicion_columna) > 10:\n",
    "        print('Esa columna no se encuentra en el tablero. Ingresa una columna entre 1 y 10')\n",
    "        func_posicion_columna()\n",
    "    else:\n",
    "        return posicion_columna\n",
    "\n",
    "\n",
    "def func_orientacion():\n",
    "    orientacion = input('Ingrese la orientación de su barco: (\"h\" para horizontal - \"v\" para vertical)')\n",
    "    if orientacion == 'h' or orientacion == 'v':\n",
    "        return orientacion\n",
    "    else:        \n",
    "        print('Ingrese una orientación válida (\"h\" para horizontal - \"v\" para vertical)')\n",
    "        func_orientacion()\n",
    "\n",
    "\n",
    "\n",
    "\n",
    "        \n",
    "\n",
    "crear_tablero_vacio()\n",
    "barcos = [5, 4, 4, 3, 3, 3, 2, 2, 2, 2]\n",
    "while len(barcos) > 0:\n",
    "    dimensiones = input('Qué barco desea posicionar? Ingrese la dimensión del barco a colocar: (2 a 5)')\n",
    "    if int(dimensiones) in barcos:\n",
    "        barcos.remove(int(dimensiones))\n",
    "        print(barcos)\n",
    "        func_posicion_fila()  \n",
    "        func_posicion_columna()              \n",
    "        func_orientacion()\n",
    "        validate()\n",
    "    else:\n",
    "        print('No dispones de barcos de dimensión ' + dimensiones)\n",
    "print('Ya has colocado todos los barcos!! A JUGAR !!')\n",
    "\n",
    "\n",
    "\n"
   ]
  },
  {
   "cell_type": "code",
   "execution_count": null,
   "metadata": {},
   "outputs": [],
   "source": [
    "crear_tablero_vacio()\n",
    "#dimension = 5\n",
    "#func_posicion_fila()\n",
    "#func_posicion_columna()\n",
    "#tablero_agua[int(1)-1, int(1)-1:int(1)+dimensiones-1] = '#'\n",
    "\n",
    "\n",
    "print('   1 2 3 4 5 6 7 8 9 10')\n",
    "for i in range(len(tablero_agua)):\n",
    "    if i < 9:\n",
    "        print(str(i+1)+ '  ' + ' '.join(tablero_agua[i]))\n",
    "    elif i == 9:\n",
    "        print(str(i+1)+ ' ' + ' '.join(tablero_agua[i]))"
   ]
  },
  {
   "cell_type": "code",
   "execution_count": null,
   "metadata": {},
   "outputs": [],
   "source": [
    "tablero_agua = np.full((10,10), '~')"
   ]
  },
  {
   "cell_type": "code",
   "execution_count": null,
   "metadata": {},
   "outputs": [],
   "source": [
    "visualizar_tablero_agua()"
   ]
  },
  {
   "cell_type": "code",
   "execution_count": null,
   "metadata": {},
   "outputs": [],
   "source": [
    "tablero_agua[int(posicion_fila)-1, int(posicion_columna)-1:int(posicion_columna)+dimensiones-1]"
   ]
  },
  {
   "cell_type": "code",
   "execution_count": 8,
   "metadata": {},
   "outputs": [],
   "source": [
    "tablero_agua = np.full((10,10), '~')"
   ]
  },
  {
   "cell_type": "code",
   "execution_count": 39,
   "metadata": {},
   "outputs": [
    {
     "output_type": "stream",
     "name": "stdout",
     "text": [
      "   1 2 3 4 5 6 7 8 9 10\n",
      "1  ~ ~ ~ ~ ~ ~ ~ ~ ~ ~\n",
      "2  ~ ~ ~ ~ ~ ~ ~ ~ ~ ~\n",
      "3  ~ ~ ~ ~ ~ ~ ~ ~ ~ ~\n",
      "4  ~ ~ ~ ~ ~ ~ ~ ~ ~ ~\n",
      "5  ~ ~ ~ ~ ~ ~ ~ ~ ~ ~\n",
      "6  ~ ~ ~ ~ ~ ~ ~ ~ ~ ~\n",
      "7  ~ ~ ~ ~ ~ ~ ~ ~ ~ ~\n",
      "8  ~ ~ ~ ~ ~ ~ ~ ~ ~ ~\n",
      "9  ~ ~ ~ ~ ~ ~ ~ ~ ~ ~\n",
      "10 ~ ~ ~ ~ ~ ~ ~ ~ ~ ~\n",
      "\n",
      "Barcos disponibles: [5, 4, 4, 3, 3, 3, 2, 2, 2, 2]\n",
      "Ingresa un número válido\n",
      "Ingresa un número válido\n",
      "Ingresa un número válido\n",
      "Ingresa un número válido\n",
      "Ingresa un número válido\n",
      "Ingresa un número válido\n",
      "Ingresa un número válido\n",
      "Ingresa un número válido\n"
     ]
    },
    {
     "output_type": "error",
     "ename": "KeyboardInterrupt",
     "evalue": "Interrupted by user",
     "traceback": [
      "\u001b[1;31m---------------------------------------------------------------------------\u001b[0m",
      "\u001b[1;31mKeyboardInterrupt\u001b[0m                         Traceback (most recent call last)",
      "\u001b[1;32m<ipython-input-39-5c761d653761>\u001b[0m in \u001b[0;36m<module>\u001b[1;34m\u001b[0m\n\u001b[0;32m     87\u001b[0m \u001b[0mtablero_agua\u001b[0m \u001b[1;33m=\u001b[0m \u001b[0mnp\u001b[0m\u001b[1;33m.\u001b[0m\u001b[0mfull\u001b[0m\u001b[1;33m(\u001b[0m\u001b[1;33m(\u001b[0m\u001b[1;36m10\u001b[0m\u001b[1;33m,\u001b[0m\u001b[1;36m10\u001b[0m\u001b[1;33m)\u001b[0m\u001b[1;33m,\u001b[0m \u001b[1;34m'~'\u001b[0m\u001b[1;33m)\u001b[0m\u001b[1;33m\u001b[0m\u001b[1;33m\u001b[0m\u001b[0m\n\u001b[0;32m     88\u001b[0m \u001b[0mvisualizar_tablero_agua\u001b[0m\u001b[1;33m(\u001b[0m\u001b[1;33m)\u001b[0m\u001b[1;33m\u001b[0m\u001b[1;33m\u001b[0m\u001b[0m\n\u001b[1;32m---> 89\u001b[1;33m \u001b[0mubicar_barcos\u001b[0m\u001b[1;33m(\u001b[0m\u001b[1;33m)\u001b[0m\u001b[1;33m\u001b[0m\u001b[1;33m\u001b[0m\u001b[0m\n\u001b[0m",
      "\u001b[1;32m<ipython-input-39-5c761d653761>\u001b[0m in \u001b[0;36mubicar_barcos\u001b[1;34m()\u001b[0m\n\u001b[0;32m     44\u001b[0m     \u001b[1;32mwhile\u001b[0m \u001b[0mlen\u001b[0m\u001b[1;33m(\u001b[0m\u001b[0mbarcos\u001b[0m\u001b[1;33m)\u001b[0m \u001b[1;33m>\u001b[0m \u001b[1;36m0\u001b[0m\u001b[1;33m:\u001b[0m\u001b[1;33m\u001b[0m\u001b[1;33m\u001b[0m\u001b[0m\n\u001b[0;32m     45\u001b[0m         \u001b[1;32mtry\u001b[0m\u001b[1;33m:\u001b[0m\u001b[1;33m\u001b[0m\u001b[1;33m\u001b[0m\u001b[0m\n\u001b[1;32m---> 46\u001b[1;33m             \u001b[0mdimensiones\u001b[0m \u001b[1;33m=\u001b[0m \u001b[0minput\u001b[0m\u001b[1;33m(\u001b[0m\u001b[1;34m'Qué barco desea posicionar? Ingrese la dimensión del barco a colocar: (2 a 5)'\u001b[0m\u001b[1;33m)\u001b[0m\u001b[1;33m\u001b[0m\u001b[1;33m\u001b[0m\u001b[0m\n\u001b[0m\u001b[0;32m     47\u001b[0m             \u001b[1;32mif\u001b[0m \u001b[0mint\u001b[0m\u001b[1;33m(\u001b[0m\u001b[0mdimensiones\u001b[0m\u001b[1;33m)\u001b[0m \u001b[1;32min\u001b[0m \u001b[0mbarcos\u001b[0m\u001b[1;33m:\u001b[0m\u001b[1;33m\u001b[0m\u001b[1;33m\u001b[0m\u001b[0m\n\u001b[0;32m     48\u001b[0m                 \u001b[0mfunc_posicion_fila\u001b[0m\u001b[1;33m(\u001b[0m\u001b[1;33m)\u001b[0m\u001b[1;33m\u001b[0m\u001b[1;33m\u001b[0m\u001b[0m\n",
      "\u001b[1;32m~\\AppData\\Roaming\\Python\\Python37\\site-packages\\ipykernel\\kernelbase.py\u001b[0m in \u001b[0;36mraw_input\u001b[1;34m(self, prompt)\u001b[0m\n\u001b[0;32m    849\u001b[0m             \u001b[0mself\u001b[0m\u001b[1;33m.\u001b[0m\u001b[0m_parent_ident\u001b[0m\u001b[1;33m,\u001b[0m\u001b[1;33m\u001b[0m\u001b[1;33m\u001b[0m\u001b[0m\n\u001b[0;32m    850\u001b[0m             \u001b[0mself\u001b[0m\u001b[1;33m.\u001b[0m\u001b[0m_parent_header\u001b[0m\u001b[1;33m,\u001b[0m\u001b[1;33m\u001b[0m\u001b[1;33m\u001b[0m\u001b[0m\n\u001b[1;32m--> 851\u001b[1;33m             \u001b[0mpassword\u001b[0m\u001b[1;33m=\u001b[0m\u001b[1;32mFalse\u001b[0m\u001b[1;33m,\u001b[0m\u001b[1;33m\u001b[0m\u001b[1;33m\u001b[0m\u001b[0m\n\u001b[0m\u001b[0;32m    852\u001b[0m         )\n\u001b[0;32m    853\u001b[0m \u001b[1;33m\u001b[0m\u001b[0m\n",
      "\u001b[1;32m~\\AppData\\Roaming\\Python\\Python37\\site-packages\\ipykernel\\kernelbase.py\u001b[0m in \u001b[0;36m_input_request\u001b[1;34m(self, prompt, ident, parent, password)\u001b[0m\n\u001b[0;32m    890\u001b[0m             \u001b[1;32mexcept\u001b[0m \u001b[0mKeyboardInterrupt\u001b[0m\u001b[1;33m:\u001b[0m\u001b[1;33m\u001b[0m\u001b[1;33m\u001b[0m\u001b[0m\n\u001b[0;32m    891\u001b[0m                 \u001b[1;31m# re-raise KeyboardInterrupt, to truncate traceback\u001b[0m\u001b[1;33m\u001b[0m\u001b[1;33m\u001b[0m\u001b[1;33m\u001b[0m\u001b[0m\n\u001b[1;32m--> 892\u001b[1;33m                 \u001b[1;32mraise\u001b[0m \u001b[0mKeyboardInterrupt\u001b[0m\u001b[1;33m(\u001b[0m\u001b[1;34m\"Interrupted by user\"\u001b[0m\u001b[1;33m)\u001b[0m \u001b[1;32mfrom\u001b[0m \u001b[1;32mNone\u001b[0m\u001b[1;33m\u001b[0m\u001b[1;33m\u001b[0m\u001b[0m\n\u001b[0m\u001b[0;32m    893\u001b[0m             \u001b[1;32mexcept\u001b[0m \u001b[0mException\u001b[0m \u001b[1;32mas\u001b[0m \u001b[0me\u001b[0m\u001b[1;33m:\u001b[0m\u001b[1;33m\u001b[0m\u001b[1;33m\u001b[0m\u001b[0m\n\u001b[0;32m    894\u001b[0m                 \u001b[0mself\u001b[0m\u001b[1;33m.\u001b[0m\u001b[0mlog\u001b[0m\u001b[1;33m.\u001b[0m\u001b[0mwarning\u001b[0m\u001b[1;33m(\u001b[0m\u001b[1;34m\"Invalid Message:\"\u001b[0m\u001b[1;33m,\u001b[0m \u001b[0mexc_info\u001b[0m\u001b[1;33m=\u001b[0m\u001b[1;32mTrue\u001b[0m\u001b[1;33m)\u001b[0m\u001b[1;33m\u001b[0m\u001b[1;33m\u001b[0m\u001b[0m\n",
      "\u001b[1;31mKeyboardInterrupt\u001b[0m: Interrupted by user"
     ]
    }
   ],
   "source": [
    "\n",
    "# DEFINIENDO FUNCIONES\n",
    "\n",
    "def visualizar_tablero_agua():   # MUESTRA el tablero creado con los índices y columnas\n",
    "    print('   1 2 3 4 5 6 7 8 9 10')\n",
    "    for i in range(len(tablero_agua)):\n",
    "        if i < 9:\n",
    "            print(str(i+1)+ '  ' + ' '.join(tablero_agua[i]))\n",
    "        elif i == 9:\n",
    "            print(str(i+1)+ ' ' + ' '.join(tablero_agua[i]))\n",
    "\n",
    "\n",
    "def func_posicion_fila():   # Pregunta por la fila donde se coloca la cabecera del barco\n",
    "    global posicion_fila\n",
    "    posicion_fila = input('Ingrese la fila donde quiere colocar su barco: (1 - 10)')\n",
    "    if int(posicion_fila) < 1 or int(posicion_fila) > 10:\n",
    "        print('Esa fila no se encuentra en el tablero. Ingresa una fila entre 1 y 10')\n",
    "        func_posicion_fila()\n",
    "    else:\n",
    "        return posicion_fila\n",
    "\n",
    "\n",
    "def func_posicion_columna():   # Pregunta por la columna donde se coloca la cabecera del barco\n",
    "    global posicion_columna\n",
    "    posicion_columna = input('Ingrese la columna donde quiere colocar su barco: (1 - 10)')\n",
    "    if int(posicion_columna) < 1 or int(posicion_columna) > 10:\n",
    "        print('Esa columna no se encuentra en el tablero. Ingresa una columna entre 1 y 10')\n",
    "        func_posicion_columna()\n",
    "    else:\n",
    "        return posicion_columna\n",
    "\n",
    "\n",
    "def func_orientacion():   # Pregunta por la posición en la que se coloca el barco (horizontal o vertical)\n",
    "    global orientacion\n",
    "    orientacion = input('Ingrese la orientación de su barco: (\"h\" para horizontal - \"v\" para vertical)')\n",
    "    if orientacion == 'h' or orientacion == 'v':\n",
    "        return orientacion\n",
    "    else:        \n",
    "        print('Ingrese una orientación válida (\"h\" para horizontal - \"v\" para vertical)')\n",
    "        func_orientacion()\n",
    "\n",
    "def ubicar_barcos():    # Pregunta qué barco quiero colocar, lo coloca y lo visualiza\n",
    "    if len(barcos) > 0:\n",
    "        print('\\nBarcos disponibles:', barcos)\n",
    "    while len(barcos) > 0:\n",
    "        try:\n",
    "            dimensiones = input('Qué barco desea posicionar? Ingrese la dimensión del barco a colocar: (2 a 5)')\n",
    "            if int(dimensiones) in barcos:\n",
    "                func_posicion_fila()\n",
    "                func_posicion_columna()\n",
    "                func_orientacion()\n",
    "\n",
    "                if orientacion == 'h':\n",
    "                    if np.all(tablero_agua[int(posicion_fila)-1, int(posicion_columna)-1:int(posicion_columna)+int(dimensiones)-1] != '#'):\n",
    "                        if int(posicion_columna)+int(dimensiones)-1 > 10:\n",
    "                            print('Te has salido del tablero!')\n",
    "                            ubicar_barcos()\n",
    "                        else:\n",
    "                            tablero_agua[int(posicion_fila)-1, int(posicion_columna)-1:int(posicion_columna)+int(dimensiones)-1] = '#'\n",
    "                            visualizar_tablero_agua()\n",
    "                    else:\n",
    "                        print('Ya hay un barco en ese sitio!')\n",
    "                        ubicar_barcos()\n",
    "                elif orientacion == 'v':\n",
    "                    if np.all(tablero_agua[int(posicion_fila)-1:int(posicion_fila)+int(dimensiones)-1, int(posicion_columna)-1] != '#'):\n",
    "                        if int(posicion_fila)+int(dimensiones)-1 > 10:\n",
    "                            print('Te has salido del tablero!')\n",
    "                            ubicar_barcos()\n",
    "                        else:\n",
    "                            tablero_agua[int(posicion_fila)-1:int(posicion_fila)+int(dimensiones)-1, int(posicion_columna)-1] = '#'\n",
    "                            visualizar_tablero_agua()\n",
    "                    else:\n",
    "                        print('Ya hay un barco en ese sitio!')\n",
    "                        ubicar_barcos()\n",
    "            else:\n",
    "                print('No dispones de barcos de dimensión ' + dimensiones)\n",
    "                ubicar_barcos()\n",
    "            if len(barcos) > 0:\n",
    "                barcos.remove(int(dimensiones))\n",
    "                print('\\nBarcos disponibles:', barcos)\n",
    "        except Exception:\n",
    "            print ('Ingresa un número válido')\n",
    "    print('Ya has colocado todos los barcos!! A JUGAR !!')\n",
    "\n",
    "barcos = [5, 4, 4, 3, 3, 3, 2, 2, 2, 2]\n",
    "tablero_agua = np.full((10,10), '~')\n",
    "visualizar_tablero_agua()\n",
    "ubicar_barcos()\n"
   ]
  },
  {
   "cell_type": "code",
   "execution_count": null,
   "metadata": {},
   "outputs": [],
   "source": []
  },
  {
   "cell_type": "code",
   "execution_count": null,
   "metadata": {},
   "outputs": [],
   "source": [
    "tablero_agua"
   ]
  },
  {
   "cell_type": "code",
   "execution_count": null,
   "metadata": {},
   "outputs": [],
   "source": [
    "# colocar un barco\n",
    "barcos = [5, 4, 4, 3, 3, 3, 2, 2, 2, 2]\n",
    "while len(barcos) > 0:\n",
    "    dimensiones = input('Qué barco desea posicionar? Ingrese la dimensión del barco a colocar: (2 a 5)')\n",
    "    posicion_fila = input('Ingrese la fila donde quiere colocar su barco: (1 - 10)')\n",
    "    if int(dimensiones) in barcos:\n",
    "        barcos.remove(int(dimensiones))\n",
    "        print(barcos)\n",
    "        \n",
    "        if int(posicion_fila) < 1 or int(posicion_fila) > 10:\n",
    "            print('Esa fila no se encuentra en el tablero. Ingresa una fila entre 1 y 10')\n",
    "                \n",
    "        posicion_columna = input('Ingrese la columna donde quiere colocar su barco:(1 - 10)')\n",
    "        if int(posicion_columna) < 1 or int(posicion_columna) > 10:\n",
    "            print('Esa columna no se encuentra en el tablero. Ingresa una columna entre 1 y 10')\n",
    "\n",
    "        orientacion = input('Ingrese la horientación de su barco: (\"h\" para horizontal - \"v\" para vertical)')\n",
    "    else:\n",
    "        print('No dispones de barcos de dimensión ' + dimensiones)"
   ]
  }
 ]
}