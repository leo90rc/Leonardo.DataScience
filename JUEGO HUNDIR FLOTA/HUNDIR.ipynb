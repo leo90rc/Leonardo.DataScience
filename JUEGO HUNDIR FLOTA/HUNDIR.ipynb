{
 "metadata": {
  "language_info": {
   "codemirror_mode": {
    "name": "ipython",
    "version": 3
   },
   "file_extension": ".py",
   "mimetype": "text/x-python",
   "name": "python",
   "nbconvert_exporter": "python",
   "pygments_lexer": "ipython3",
   "version": "3.7.4"
  },
  "orig_nbformat": 2,
  "kernelspec": {
   "name": "python374jvsc74a57bd0a0947237fadc8b5561fed326db280cc5ec46a670c87cfb3a0489cf95ff262303",
   "display_name": "Python 3.7.4 64-bit"
  },
  "metadata": {
   "interpreter": {
    "hash": "a0947237fadc8b5561fed326db280cc5ec46a670c87cfb3a0489cf95ff262303"
   }
  }
 },
 "nbformat": 4,
 "nbformat_minor": 2,
 "cells": [
  {
   "cell_type": "code",
   "execution_count": 4,
   "metadata": {},
   "outputs": [],
   "source": [
    "import numpy as np"
   ]
  },
  {
   "cell_type": "code",
   "execution_count": 27,
   "metadata": {},
   "outputs": [],
   "source": [
    "def tablero():\n",
    "    tablero = np.full((10,10), '~')\n",
    "    print('   1   2   3   4   5   6   7   8   9   10')\n",
    "    print(tablero)"
   ]
  },
  {
   "cell_type": "code",
   "execution_count": 28,
   "metadata": {},
   "outputs": [
    {
     "output_type": "stream",
     "name": "stdout",
     "text": [
      "   1   2   3   4   5   6   7   8   9   10\n[['~' '~' '~' '~' '~' '~' '~' '~' '~' '~']\n ['~' '~' '~' '~' '~' '~' '~' '~' '~' '~']\n ['~' '~' '~' '~' '~' '~' '~' '~' '~' '~']\n ['~' '~' '~' '~' '~' '~' '~' '~' '~' '~']\n ['~' '~' '~' '~' '~' '~' '~' '~' '~' '~']\n ['~' '~' '~' '~' '~' '~' '~' '~' '~' '~']\n ['~' '~' '~' '~' '~' '~' '~' '~' '~' '~']\n ['~' '~' '~' '~' '~' '~' '~' '~' '~' '~']\n ['~' '~' '~' '~' '~' '~' '~' '~' '~' '~']\n ['~' '~' '~' '~' '~' '~' '~' '~' '~' '~']]\n"
     ]
    }
   ],
   "source": [
    "tablero()"
   ]
  },
  {
   "cell_type": "code",
   "execution_count": null,
   "metadata": {},
   "outputs": [],
   "source": []
  }
 ]
}