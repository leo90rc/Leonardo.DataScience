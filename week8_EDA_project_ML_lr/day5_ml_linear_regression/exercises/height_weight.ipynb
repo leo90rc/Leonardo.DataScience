{
 "metadata": {
  "language_info": {
   "codemirror_mode": {
    "name": "ipython",
    "version": 3
   },
   "file_extension": ".py",
   "mimetype": "text/x-python",
   "name": "python",
   "nbconvert_exporter": "python",
   "pygments_lexer": "ipython3",
   "version": "3.7.4"
  },
  "orig_nbformat": 2,
  "kernelspec": {
   "name": "python374jvsc74a57bd0a0947237fadc8b5561fed326db280cc5ec46a670c87cfb3a0489cf95ff262303",
   "display_name": "Python 3.7.4 64-bit"
  },
  "metadata": {
   "interpreter": {
    "hash": "a0947237fadc8b5561fed326db280cc5ec46a670c87cfb3a0489cf95ff262303"
   }
  }
 },
 "nbformat": 4,
 "nbformat_minor": 2,
 "cells": [
  {
   "cell_type": "markdown",
   "metadata": {},
   "source": [
    "### Se pide, usando regresión lineal:\n",
    "\n",
    "Dibujar con una línea la relación que hay entre la altura (X) y la edad (y) de los alumnos de la clase: \n",
    "\n",
    "- ¿Es una buena técnica para este tipo de problemas? ¿Por qué? \n",
    "- ¿Qué error se comete? Calcula los errores que está cometiendo tu modelo uno a uno (lo tienes que calcular tú con python). Aparte, usa el MSE y el RMSE. ¿Alguno es mejor para este problema?\n",
    "- Representa la matriz de correlación, ¿los datos están correlacionados?\n",
    "- ¿Qué ocurre si la altura se multiplica por dos? ¿Y si se multiplica solo la edad? "
   ]
  },
  {
   "cell_type": "code",
   "execution_count": 35,
   "metadata": {},
   "outputs": [],
   "source": [
    "import numpy as np\n",
    "import matplotlib.pyplot as plt\n",
    "from sklearn.metrics import mean_squared_error, mean_absolute_error\n",
    "from sklearn.model_selection import train_test_split\n",
    "from sklearn.linear_model import LinearRegression"
   ]
  },
  {
   "cell_type": "code",
   "execution_count": 36,
   "metadata": {},
   "outputs": [],
   "source": [
    "lista_edad_altura = [(\"Clara Piniella\", 30, 1.66),(\"Daniel Walker\", 34, 1.87), (\"Leonardo Frazzetto\", 31, 1.78),(\"Xinru Yang\", 24, 1.60), (\"Jorge Garcia\", 28, 1.79), (\"Jonathan Suárez\", 27, 1.86),(\"Marina Serrano\", 25, 1.54), (\"Karina Inche\", 30, 1.61), (\"Mary Meza\", 32, 1.52),(\"Borja Puig\", 37, 1.82), (\"Mauro Garcia-Oliva\", 45, 1.77), (\"José Carlos Batista\", 28, 1.70),(\"Isabel Palomares\",24,1.78),(\"Gina Garrido\",57,1.63), (\"Sonia Cobo\", 29, 1.73), (\"Miguel Barquero\", 35, 1.85),(\"Nacho Astorga\",47,1.78), (\"Adrià Gallardo\", 24, 1.70), (\"Juan Bayon\", 38, 1.64), (\"Nacho Fontal\", 35, 1.82)]"
   ]
  },
  {
   "cell_type": "code",
   "execution_count": 37,
   "metadata": {},
   "outputs": [],
   "source": [
    "altura = []\n",
    "edad = []\n",
    "for a in range(len(lista_edad_altura)):\n",
    "    altura.append(lista_edad_altura[a][2])\n",
    "    edad.append(lista_edad_altura[a][1])\n",
    "    "
   ]
  },
  {
   "cell_type": "code",
   "execution_count": 38,
   "metadata": {},
   "outputs": [],
   "source": [
    "X = np.array(altura)\n",
    "y = np.array(edad)"
   ]
  },
  {
   "cell_type": "code",
   "execution_count": 40,
   "metadata": {},
   "outputs": [],
   "source": [
    "X = X.reshape(-1, 1)"
   ]
  },
  {
   "cell_type": "code",
   "execution_count": 41,
   "metadata": {},
   "outputs": [
    {
     "output_type": "execute_result",
     "data": {
      "text/plain": [
       "array([[1.66],\n",
       "       [1.87],\n",
       "       [1.78],\n",
       "       [1.6 ],\n",
       "       [1.79],\n",
       "       [1.86],\n",
       "       [1.54],\n",
       "       [1.61],\n",
       "       [1.52],\n",
       "       [1.82],\n",
       "       [1.77],\n",
       "       [1.7 ],\n",
       "       [1.78],\n",
       "       [1.63],\n",
       "       [1.73],\n",
       "       [1.85],\n",
       "       [1.78],\n",
       "       [1.7 ],\n",
       "       [1.64],\n",
       "       [1.82]])"
      ]
     },
     "metadata": {},
     "execution_count": 41
    }
   ],
   "source": [
    "X"
   ]
  },
  {
   "cell_type": "code",
   "execution_count": null,
   "metadata": {},
   "outputs": [],
   "source": []
  }
 ]
}