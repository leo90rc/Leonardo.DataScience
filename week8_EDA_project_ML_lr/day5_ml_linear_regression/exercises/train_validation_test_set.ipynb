{
 "metadata": {
  "language_info": {
   "codemirror_mode": {
    "name": "ipython",
    "version": 3
   },
   "file_extension": ".py",
   "mimetype": "text/x-python",
   "name": "python",
   "nbconvert_exporter": "python",
   "pygments_lexer": "ipython3",
   "version": "3.7.4"
  },
  "orig_nbformat": 2,
  "kernelspec": {
   "name": "python374jvsc74a57bd0a0947237fadc8b5561fed326db280cc5ec46a670c87cfb3a0489cf95ff262303",
   "display_name": "Python 3.7.4 64-bit"
  },
  "metadata": {
   "interpreter": {
    "hash": "a0947237fadc8b5561fed326db280cc5ec46a670c87cfb3a0489cf95ff262303"
   }
  }
 },
 "nbformat": 4,
 "nbformat_minor": 2,
 "cells": [
  {
   "cell_type": "markdown",
   "metadata": {},
   "source": [
    "### 1. \n",
    "\n",
    "Crear una función que reciba cuatro parámetros: una lista 'L', un número 'T', un número 'V' y un booleano 'S'. La función debe devolver otras dos listas: \"lista_train_val\" y \"lista_test\".\n",
    "\n",
    "- \"lista_train_val\" es una lista con dos elementos. Cada elemento es una lista: \"list_train\", que representa el conjunto de entrenamiento y \"list_val\", que representa el conjunto de validación. \n",
    "- \"list_test\" es el conjunto de test. Como mínimo ha de tener 1 elemento (si 'L' > 1).\n",
    "- \"L\" es cualquier lista de elementos. Al principio, entra con un tamaño completo (100%). Esta es la lista que se partirá y se generarán los conjuntos entrenamiento, de validación y de test.\n",
    "- \"T\" es un número entre 1 y 100 que va a representar el tamaño, en porcentaje, del conjunto de test \"list_test\". \n",
    "- \"V\" es un número entre 0 y 100 que va a representar el tamaño, en porcentaje, del conjunto de validación \"list_val\". Su valor por defecto es 0.\n",
    "- \"S\", que por defecto es False, determinará si los conjuntos \"list_train\", \"list_test\" y \"list_val\" están aleatoriamente ordenados. ¿Encuentras alguna posible incoherencia si se reordenan aleatoriamente?\n",
    "\n",
    "Prueba la función con una lista de 100 números aleatorios del 0 al 100. \n",
    "\n",
    "### 2. \n",
    "\n",
    "Rehacer el ejercicio anterior en otra función para que no devuelva dos listas, sino los tres conjuntos: \n",
    "\n",
    "--> return list_train, list_val, list_test "
   ]
  },
  {
   "cell_type": "code",
   "execution_count": 1,
   "metadata": {},
   "outputs": [],
   "source": [
    "import numpy as np\n",
    "import random\n",
    "from sklearn.model_selection import train_test_split"
   ]
  },
  {
   "cell_type": "code",
   "execution_count": 2,
   "metadata": {},
   "outputs": [],
   "source": [
    "def f1(L, T, V = 0, S = False):\n",
    "    \n",
    "    global lista_train_val\n",
    "    global lista_test\n",
    "    lista_train_val = []\n",
    "    L_train, L_test = train_test_split(L, test_size = T/100, shuffle = S)\n",
    "    lista_test = L_test\n",
    "    if V != 0:\n",
    "        L_train, L_val = train_test_split(L_train, test_size = V/100, shuffle = S)\n",
    "        lista_train_val.append(L_train)\n",
    "        lista_train_val.append(L_val)\n",
    "    else:\n",
    "        lista_train_val.append(L_train)\n",
    "    return lista_train_val, lista_test\n"
   ]
  },
  {
   "cell_type": "code",
   "execution_count": 3,
   "metadata": {},
   "outputs": [],
   "source": [
    "L1 = [random.randint(0, 100) for iter in range(10)]"
   ]
  },
  {
   "cell_type": "code",
   "execution_count": 6,
   "metadata": {},
   "outputs": [
    {
     "output_type": "execute_result",
     "data": {
      "text/plain": [
       "([[14, 18, 72, 89, 82, 84, 62], [67]], [6, 65])"
      ]
     },
     "metadata": {},
     "execution_count": 6
    }
   ],
   "source": [
    "f1(L1, 20, 10, True)"
   ]
  },
  {
   "cell_type": "code",
   "execution_count": 5,
   "metadata": {},
   "outputs": [
    {
     "output_type": "execute_result",
     "data": {
      "text/plain": [
       "([[89, 62, 18, 14, 82, 6, 84, 65]], [72, 67])"
      ]
     },
     "metadata": {},
     "execution_count": 5
    }
   ],
   "source": [
    "f1(L1, 20)"
   ]
  },
  {
   "cell_type": "code",
   "execution_count": 7,
   "metadata": {},
   "outputs": [],
   "source": [
    "def f2(L, T, V = 0, S = False):\n",
    "    global list_train\n",
    "    global list_val\n",
    "    global list_test\n",
    "    L_train, L_test = train_test_split(L, test_size = T/100, shuffle = S)\n",
    "    list_test = L_test\n",
    "    if V != 0:\n",
    "        L_train, L_val = train_test_split(L_train, test_size = V/100, shuffle = S)\n",
    "        list_train = L_train\n",
    "        list_val = L_val\n",
    "        return list_train, list_val, list_test\n",
    "    else:\n",
    "        list_train = L_train\n",
    "    return list_train, list_test"
   ]
  },
  {
   "cell_type": "code",
   "execution_count": 8,
   "metadata": {},
   "outputs": [],
   "source": [
    "L2 = [random.randint(0, 100) for iter in range(10)]"
   ]
  },
  {
   "cell_type": "code",
   "execution_count": 9,
   "metadata": {},
   "outputs": [
    {
     "output_type": "execute_result",
     "data": {
      "text/plain": [
       "([72, 3, 58, 13], [42, 98], [60, 73, 100, 34])"
      ]
     },
     "metadata": {},
     "execution_count": 9
    }
   ],
   "source": [
    "f2(L2, 40, 20)"
   ]
  },
  {
   "cell_type": "code",
   "execution_count": null,
   "metadata": {},
   "outputs": [],
   "source": []
  }
 ]
}