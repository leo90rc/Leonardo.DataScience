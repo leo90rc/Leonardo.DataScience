{
 "metadata": {
  "language_info": {
   "codemirror_mode": {
    "name": "ipython",
    "version": 3
   },
   "file_extension": ".py",
   "mimetype": "text/x-python",
   "name": "python",
   "nbconvert_exporter": "python",
   "pygments_lexer": "ipython3",
   "version": "3.7.4"
  },
  "orig_nbformat": 2,
  "kernelspec": {
   "name": "python374jvsc74a57bd0a0947237fadc8b5561fed326db280cc5ec46a670c87cfb3a0489cf95ff262303",
   "display_name": "Python 3.7.4 64-bit"
  },
  "metadata": {
   "interpreter": {
    "hash": "a0947237fadc8b5561fed326db280cc5ec46a670c87cfb3a0489cf95ff262303"
   }
  }
 },
 "nbformat": 4,
 "nbformat_minor": 2,
 "cells": [
  {
   "cell_type": "markdown",
   "metadata": {},
   "source": [
    "### 1. \n",
    "\n",
    "Crear una función que reciba cuatro parámetros: una lista 'L', un número 'T', un número 'V' y un booleano 'S'. La función debe devolver otras dos listas: \"lista_train_val\" y \"lista_test\".\n",
    "\n",
    "- \"lista_train_val\" es una lista con dos elementos. Cada elemento es una lista: \"list_train\", que representa el conjunto de entrenamiento y \"list_val\", que representa el conjunto de validación. \n",
    "- \"list_test\" es el conjunto de test. Como mínimo ha de tener 1 elemento (si 'L' > 1).\n",
    "- \"L\" es cualquier lista de elementos. Al principio, entra con un tamaño completo (100%). Esta es la lista que se partirá y se generarán los conjuntos entrenamiento, de validación y de test.\n",
    "- \"T\" es un número entre 1 y 100 que va a representar el tamaño, en porcentaje, del conjunto de test \"list_test\". \n",
    "- \"V\" es un número entre 0 y 100 que va a representar el tamaño, en porcentaje, del conjunto de validación \"list_val\". Su valor por defecto es 0.\n",
    "- \"S\", que por defecto es False, determinará si los conjuntos \"list_train\", \"list_test\" y \"list_val\" están aleatoriamente ordenados. ¿Encuentras alguna posible incoherencia si se reordenan aleatoriamente?\n",
    "\n",
    "Prueba la función con una lista de 100 números aleatorios del 0 al 100. \n",
    "\n",
    "### 2. \n",
    "\n",
    "Rehacer el ejercicio anterior en otra función para que no devuelva dos listas, sino los tres conjuntos: \n",
    "\n",
    "--> return list_train, list_val, list_test "
   ]
  },
  {
   "cell_type": "code",
   "execution_count": 75,
   "metadata": {},
   "outputs": [],
   "source": [
    "import numpy as np\n",
    "import random"
   ]
  },
  {
   "cell_type": "code",
   "execution_count": 94,
   "metadata": {},
   "outputs": [],
   "source": [
    "def f1(L, T, V = 0, S = False):\n",
    "    from sklearn.model_selection import train_test_split\n",
    "    global lista_train_val\n",
    "    global lista_test\n",
    "    lista_train_val = []\n",
    "    L_train, L_test = train_test_split(L, test_size = T/100, shuffle = S)\n",
    "    lista_test = L_test\n",
    "    if V != 0:\n",
    "        L_train, L_val = train_test_split(L_train, test_size = V/100, shuffle = S)\n",
    "        lista_train_val.append(L_train)\n",
    "        lista_train_val.append(L_val)\n",
    "    else:\n",
    "        lista_train_val.append(L_train)\n",
    "    return lista_train_val, lista_test\n"
   ]
  },
  {
   "cell_type": "code",
   "execution_count": 105,
   "metadata": {},
   "outputs": [],
   "source": [
    "L1 = [random.randint(0, 100) for iter in range(100)]"
   ]
  },
  {
   "cell_type": "code",
   "execution_count": 106,
   "metadata": {},
   "outputs": [
    {
     "output_type": "execute_result",
     "data": {
      "text/plain": [
       "([[18,\n",
       "   43,\n",
       "   65,\n",
       "   32,\n",
       "   49,\n",
       "   62,\n",
       "   77,\n",
       "   11,\n",
       "   38,\n",
       "   23,\n",
       "   10,\n",
       "   32,\n",
       "   22,\n",
       "   4,\n",
       "   93,\n",
       "   89,\n",
       "   43,\n",
       "   42,\n",
       "   36,\n",
       "   0,\n",
       "   77,\n",
       "   50,\n",
       "   69,\n",
       "   88,\n",
       "   42,\n",
       "   29,\n",
       "   25,\n",
       "   100,\n",
       "   28,\n",
       "   32,\n",
       "   70,\n",
       "   43,\n",
       "   23,\n",
       "   40,\n",
       "   44,\n",
       "   71,\n",
       "   41,\n",
       "   89,\n",
       "   29,\n",
       "   9,\n",
       "   25,\n",
       "   42,\n",
       "   58,\n",
       "   88,\n",
       "   12,\n",
       "   69,\n",
       "   0,\n",
       "   73,\n",
       "   18,\n",
       "   63,\n",
       "   4,\n",
       "   51,\n",
       "   58,\n",
       "   93,\n",
       "   64,\n",
       "   63,\n",
       "   93,\n",
       "   66,\n",
       "   13,\n",
       "   25,\n",
       "   16,\n",
       "   48,\n",
       "   77,\n",
       "   73,\n",
       "   29,\n",
       "   56,\n",
       "   14,\n",
       "   4,\n",
       "   45,\n",
       "   50,\n",
       "   91,\n",
       "   47],\n",
       "  [67, 51, 74, 2, 39, 49, 81, 77]],\n",
       " [95,\n",
       "  53,\n",
       "  28,\n",
       "  86,\n",
       "  26,\n",
       "  31,\n",
       "  18,\n",
       "  52,\n",
       "  4,\n",
       "  40,\n",
       "  70,\n",
       "  73,\n",
       "  23,\n",
       "  65,\n",
       "  17,\n",
       "  37,\n",
       "  56,\n",
       "  21,\n",
       "  37,\n",
       "  32])"
      ]
     },
     "metadata": {},
     "execution_count": 106
    }
   ],
   "source": [
    "f1(L1, 20, 10)"
   ]
  },
  {
   "cell_type": "code",
   "execution_count": 115,
   "metadata": {},
   "outputs": [],
   "source": [
    "def f2(L, T, V = 0, S = False):\n",
    "    from sklearn.model_selection import train_test_split\n",
    "    global list_train\n",
    "    global list_val\n",
    "    global list_test\n",
    "    L_train, L_test = train_test_split(L, test_size = T/100, shuffle = S)\n",
    "    list_test = L_test\n",
    "    if V != 0:\n",
    "        L_train, L_val = train_test_split(L_train, test_size = V/100, shuffle = S)\n",
    "        list_train = L_train\n",
    "        list_val = L_val\n",
    "        return list_train, list_val, list_test\n",
    "    else:\n",
    "        list_train = L_train\n",
    "    return list_train, list_test"
   ]
  },
  {
   "cell_type": "code",
   "execution_count": 116,
   "metadata": {},
   "outputs": [],
   "source": [
    "L2 = [random.randint(0, 100) for iter in range(10)]"
   ]
  },
  {
   "cell_type": "code",
   "execution_count": 121,
   "metadata": {},
   "outputs": [
    {
     "output_type": "execute_result",
     "data": {
      "text/plain": [
       "([26, 85, 4, 5], [62, 11], [57, 14, 97, 49])"
      ]
     },
     "metadata": {},
     "execution_count": 121
    }
   ],
   "source": [
    "f2(L2, 40, 20)"
   ]
  },
  {
   "cell_type": "code",
   "execution_count": 123,
   "metadata": {},
   "outputs": [
    {
     "output_type": "execute_result",
     "data": {
      "text/plain": [
       "[26, 85, 4, 5]"
      ]
     },
     "metadata": {},
     "execution_count": 123
    }
   ],
   "source": [
    "list_train"
   ]
  },
  {
   "cell_type": "code",
   "execution_count": null,
   "metadata": {},
   "outputs": [],
   "source": []
  },
  {
   "cell_type": "code",
   "execution_count": null,
   "metadata": {},
   "outputs": [],
   "source": []
  },
  {
   "cell_type": "code",
   "execution_count": 44,
   "metadata": {},
   "outputs": [],
   "source": [
    "from sklearn.model_selection import train_test_split\n",
    "import numpy as np\n",
    "L = np.arange(0,10)\n",
    "L_train, L_test = train_test_split(L, test_size = 1/100)\n",
    "L_train, L_val = train_test_split(L_train, test_size = 10/100)"
   ]
  },
  {
   "cell_type": "code",
   "execution_count": 34,
   "metadata": {},
   "outputs": [
    {
     "output_type": "stream",
     "name": "stdout",
     "text": [
      "L_train: 89\nL_test: 1\nL_val: 10\n"
     ]
    }
   ],
   "source": [
    "print('L_train:', len(L_train))\n",
    "print('L_test:', len(L_test))\n",
    "print('L_val:', len(L_val))"
   ]
  },
  {
   "cell_type": "code",
   "execution_count": null,
   "metadata": {},
   "outputs": [],
   "source": [
    "\n",
    "import pandas as pd\n",
    "arr = np.arange(0,100)\n",
    "print(arr)\n",
    "df = pd.DataFrame(arr)"
   ]
  },
  {
   "cell_type": "code",
   "execution_count": null,
   "metadata": {},
   "outputs": [],
   "source": [
    "train, validate, test = np.split(df.sample(frac=1), [int(.6*len(df)), int(.8*len(df))])"
   ]
  },
  {
   "cell_type": "code",
   "execution_count": null,
   "metadata": {},
   "outputs": [],
   "source": [
    "len(train)"
   ]
  },
  {
   "cell_type": "code",
   "execution_count": null,
   "metadata": {},
   "outputs": [],
   "source": [
    "len(validate)"
   ]
  },
  {
   "cell_type": "code",
   "execution_count": null,
   "metadata": {},
   "outputs": [],
   "source": [
    "len(test)"
   ]
  },
  {
   "cell_type": "code",
   "execution_count": null,
   "metadata": {},
   "outputs": [],
   "source": []
  }
 ]
}