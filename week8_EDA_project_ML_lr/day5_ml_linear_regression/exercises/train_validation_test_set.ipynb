{
 "metadata": {
  "language_info": {
   "codemirror_mode": {
    "name": "ipython",
    "version": 3
   },
   "file_extension": ".py",
   "mimetype": "text/x-python",
   "name": "python",
   "nbconvert_exporter": "python",
   "pygments_lexer": "ipython3",
   "version": "3.7.4"
  },
  "orig_nbformat": 2,
  "kernelspec": {
   "name": "python374jvsc74a57bd0a0947237fadc8b5561fed326db280cc5ec46a670c87cfb3a0489cf95ff262303",
   "display_name": "Python 3.7.4 64-bit"
  },
  "metadata": {
   "interpreter": {
    "hash": "a0947237fadc8b5561fed326db280cc5ec46a670c87cfb3a0489cf95ff262303"
   }
  }
 },
 "nbformat": 4,
 "nbformat_minor": 2,
 "cells": [
  {
   "cell_type": "markdown",
   "metadata": {},
   "source": [
    "### 1. \n",
    "\n",
    "Crear una función que reciba cuatro parámetros: una lista 'L', un número 'T', un número 'V' y un booleano 'S'. La función debe devolver otras dos listas: \"lista_train_val\" y \"lista_test\".\n",
    "\n",
    "- \"lista_train_val\" es una lista con dos elementos. Cada elemento es una lista: \"list_train\", que representa el conjunto de entrenamiento y \"list_val\", que representa el conjunto de validación. \n",
    "- \"list_test\" es el conjunto de test. Como mínimo ha de tener 1 elemento (si 'L' > 1).\n",
    "- \"L\" es cualquier lista de elementos. Al principio, entra con un tamaño completo (100%). Esta es la lista que se partirá y se generarán los conjuntos entrenamiento, de validación y de test.\n",
    "- \"T\" es un número entre 1 y 100 que va a representar el tamaño, en porcentaje, del conjunto de test \"list_test\". \n",
    "- \"V\" es un número entre 0 y 100 que va a representar el tamaño, en porcentaje, del conjunto de validación \"list_val\". Su valor por defecto es 0.\n",
    "- \"S\", que por defecto es False, determinará si los conjuntos \"list_train\", \"list_test\" y \"list_val\" están aleatoriamente ordenados. ¿Encuentras alguna posible incoherencia si se reordenan aleatoriamente?\n",
    "\n",
    "Prueba la función con una lista de 100 números aleatorios del 0 al 100. \n",
    "\n",
    "### 2. \n",
    "\n",
    "Rehacer el ejercicio anterior en otra función para que no devuelva dos listas, sino los tres conjuntos: \n",
    "\n",
    "--> return list_train, list_val, list_test "
   ]
  },
  {
   "cell_type": "code",
   "execution_count": 1,
   "metadata": {},
   "outputs": [],
   "source": [
    "import numpy as np\n",
    "import random\n",
    "from sklearn.model_selection import train_test_split"
   ]
  },
  {
   "cell_type": "code",
   "execution_count": 2,
   "metadata": {},
   "outputs": [],
   "source": [
    "def f1(L, T, V = 0, S = False):\n",
    "    \n",
    "    global lista_train_val\n",
    "    global lista_test\n",
    "    lista_train_val = []\n",
    "    L_train, L_test = train_test_split(L, test_size = T/100, shuffle = S)\n",
    "    lista_test = L_test\n",
    "    if V != 0:\n",
    "        L_train, L_val = train_test_split(L_train, test_size = V/100, shuffle = S)\n",
    "        lista_train_val.append(L_train)\n",
    "        lista_train_val.append(L_val)\n",
    "    else:\n",
    "        lista_train_val.append(L_train)\n",
    "    return lista_train_val, lista_test\n"
   ]
  },
  {
   "cell_type": "code",
   "execution_count": 3,
   "metadata": {},
   "outputs": [],
   "source": [
    "L1 = [random.randint(0, 100) for iter in range(10)]"
   ]
  },
  {
   "cell_type": "code",
   "execution_count": 4,
   "metadata": {},
   "outputs": [
    {
     "output_type": "execute_result",
     "data": {
      "text/plain": [
       "([[62, 3, 55, 57, 32, 69, 67], [29]], [33, 16])"
      ]
     },
     "metadata": {},
     "execution_count": 4
    }
   ],
   "source": [
    "f1(L1, 20, 10, True)"
   ]
  },
  {
   "cell_type": "code",
   "execution_count": 5,
   "metadata": {},
   "outputs": [
    {
     "output_type": "execute_result",
     "data": {
      "text/plain": [
       "([[29, 33, 62, 69, 57, 67, 32, 55]], [3, 16])"
      ]
     },
     "metadata": {},
     "execution_count": 5
    }
   ],
   "source": [
    "f1(L1, 20)"
   ]
  },
  {
   "cell_type": "code",
   "execution_count": 6,
   "metadata": {},
   "outputs": [],
   "source": [
    "def f2(L, T, V = 0, S = False):\n",
    "    global list_train\n",
    "    global list_val\n",
    "    global list_test\n",
    "    L_train, L_test = train_test_split(L, test_size = T/100, shuffle = S)\n",
    "    list_test = L_test\n",
    "    if V != 0:\n",
    "        L_train, L_val = train_test_split(L_train, test_size = V/100, shuffle = S)\n",
    "        list_train = L_train\n",
    "        list_val = L_val\n",
    "        return list_train, list_val, list_test\n",
    "    else:\n",
    "        list_train = L_train\n",
    "    return list_train, list_test"
   ]
  },
  {
   "cell_type": "code",
   "execution_count": 12,
   "metadata": {},
   "outputs": [],
   "source": [
    "L2 = [random.randint(0, 100) for iter in range(100)]"
   ]
  },
  {
   "cell_type": "code",
   "execution_count": null,
   "metadata": {},
   "outputs": [],
   "source": []
  },
  {
   "source": [
    "## Problema que encuentro al usar random.shuffle()  --> Ver funciones de abajo\n",
    "\n",
    "### Después de pasar la lista por la función, si pongo S = True, mi lista se desordena para siempre"
   ],
   "cell_type": "markdown",
   "metadata": {}
  },
  {
   "cell_type": "code",
   "execution_count": 18,
   "metadata": {},
   "outputs": [],
   "source": [
    "def f1_sin_libreria(L, T, V = 0, S = False):\n",
    "    global list_test\n",
    "    global list_train_val    \n",
    "    list_test = []\n",
    "    list_train_val = []\n",
    "    if S == False:\n",
    "        cantidad_test = len(L)*T/100\n",
    "        valores_test = L[int(len(L)-cantidad_test):]\n",
    "        list_test.extend(valores_test)\n",
    "        list_test\n",
    "        if V == 0:\n",
    "            valores_train = L[:len(L)-int(cantidad_test)]\n",
    "            list_train_val.extend(valores_train)\n",
    "            return list_test, list_train_val\n",
    "        if V != 0:\n",
    "            cantidad_val = (len(L)-len(list_test))*V/100\n",
    "            valores_val = L[:len(L)-int(cantidad_test)][int(len(L[:len(L)-int(cantidad_test)]) - cantidad_val):]\n",
    "            valores_train = L[:len(L)-int(cantidad_test)][:int(len(L[:len(L)-int(cantidad_test)]) - cantidad_val)]\n",
    "            list_train_val.append(valores_train)\n",
    "            list_train_val.append(valores_val)\n",
    "            return list_test, list_train_val\n",
    "    if S == True:\n",
    "        random.shuffle(L)\n",
    "        cantidad_test = len(L)*T/100\n",
    "        valores_test = L[int(len(L)-cantidad_test):]\n",
    "        list_test.extend(valores_test)\n",
    "        list_test\n",
    "        if V == 0:\n",
    "            valores_train = L[:len(L)-int(cantidad_test)]\n",
    "            list_train_val.extend(valores_train)\n",
    "            return list_test, list_train_val\n",
    "        if V != 0:\n",
    "            cantidad_val = (len(L)-len(list_test))*V/100\n",
    "            valores_val = L[:len(L)-int(cantidad_test)][int(len(L[:len(L)-int(cantidad_test)]) - cantidad_val):]\n",
    "            valores_train = L[:len(L)-int(cantidad_test)][:int(len(L[:len(L)-int(cantidad_test)]) - cantidad_val)]\n",
    "            list_train_val.append(valores_train)\n",
    "            list_train_val.append(valores_val)\n",
    "            return list_test, list_train_val"
   ]
  },
  {
   "cell_type": "code",
   "execution_count": 52,
   "metadata": {},
   "outputs": [],
   "source": [
    "L3 =list(range(100))"
   ]
  },
  {
   "cell_type": "code",
   "execution_count": 58,
   "metadata": {},
   "outputs": [
    {
     "output_type": "stream",
     "name": "stdout",
     "text": [
      "([90, 91, 92, 93, 94, 95, 96, 97, 98, 99], [[0, 1, 2, 3, 4, 5, 6, 7, 8, 9, 10, 11, 12, 13, 14, 15, 16, 17, 18, 19, 20, 21, 22, 23, 24, 25, 26, 27, 28, 29, 30, 31, 32, 33, 34, 35, 36, 37, 38, 39, 40, 41, 42, 43, 44, 45, 46, 47, 48, 49, 50, 51, 52, 53, 54, 55, 56, 57, 58, 59, 60, 61, 62, 63, 64, 65, 66, 67, 68, 69, 70, 71, 72, 73, 74, 75, 76, 77, 78, 79, 80, 81, 82, 83, 84], [85, 86, 87, 88, 89]])\n"
     ]
    }
   ],
   "source": [
    "print(f1_sin_libreria(L3, 10, 5))"
   ]
  },
  {
   "cell_type": "code",
   "execution_count": 36,
   "metadata": {},
   "outputs": [],
   "source": [
    "def f2_sin_libreria(L, T, V = 0, S = False):\n",
    "    global list_test\n",
    "    global list_train\n",
    "    global list_val    \n",
    "    list_test = []\n",
    "    list_train = []\n",
    "    list_val = []\n",
    "    if S == False:\n",
    "        cantidad_test = len(L)*T/100\n",
    "        valores_test = L[int(len(L)-cantidad_test):]\n",
    "        list_test.extend(valores_test)\n",
    "        list_test\n",
    "        if V == 0:\n",
    "            valores_train = L[:len(L)-int(cantidad_test)]\n",
    "            list_train.extend(valores_train)\n",
    "            return list_test, list_train\n",
    "        if V != 0:\n",
    "            cantidad_val = (len(L)-len(list_test))*V/100\n",
    "            valores_val = L[:len(L)-int(cantidad_test)][int(len(L[:len(L)-int(cantidad_test)]) - cantidad_val):]\n",
    "            valores_train = L[:len(L)-int(cantidad_test)][:int(len(L[:len(L)-int(cantidad_test)]) - cantidad_val)]\n",
    "            list_train.extend(valores_train)\n",
    "            list_val.extend(valores_val)\n",
    "            return list_test, list_train, list_val\n",
    "    if S == True:\n",
    "        random.shuffle(L)\n",
    "        cantidad_test = len(L)*T/100\n",
    "        valores_test = L[int(len(L)-cantidad_test):]\n",
    "        list_test.extend(valores_test)\n",
    "        list_test\n",
    "        if V == 0:\n",
    "            valores_train = L[:len(L)-int(cantidad_test)]\n",
    "            list_train_val.extend(valores_train)\n",
    "            return list_test, list_train_val\n",
    "        if V != 0:\n",
    "            cantidad_val = (len(L)-len(list_test))*V/100\n",
    "            valores_val = L[:len(L)-int(cantidad_test)][int(len(L[:len(L)-int(cantidad_test)]) - cantidad_val):]\n",
    "            valores_train = L[:len(L)-int(cantidad_test)][:int(len(L[:len(L)-int(cantidad_test)]) - cantidad_val)]\n",
    "            list_train.extend(valores_train)\n",
    "            list_val.extend(valores_val)\n",
    "            return list_test, list_train, list_val"
   ]
  },
  {
   "cell_type": "code",
   "execution_count": 50,
   "metadata": {},
   "outputs": [
    {
     "output_type": "stream",
     "name": "stdout",
     "text": [
      "([57, 14, 17, 5, 68, 35, 61, 7, 97, 15, 9, 4, 37, 39, 44, 90, 24, 48, 0, 20], [91, 27, 71, 98, 41, 74, 16, 66, 92, 49, 84, 76, 81, 80, 40, 11, 22, 23, 8, 46, 93, 75, 3, 52, 34, 73, 99, 36, 19, 83, 32, 56, 64, 10, 58, 70, 2, 95, 26, 59, 65, 28, 88, 54, 12, 87, 72, 33, 85, 47, 78, 6, 77, 45, 1, 30, 29, 89, 42, 38, 86, 51, 62, 25], [50, 82, 67, 13, 18, 69, 96, 60, 53, 21, 43, 94, 63, 55, 79, 31])\n"
     ]
    }
   ],
   "source": [
    "print(f2_sin_libreria(L3, 20, 20, True))"
   ]
  },
  {
   "cell_type": "code",
   "execution_count": null,
   "metadata": {},
   "outputs": [],
   "source": []
  }
 ]
}