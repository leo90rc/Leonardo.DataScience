{
 "metadata": {
  "language_info": {
   "codemirror_mode": {
    "name": "ipython",
    "version": 3
   },
   "file_extension": ".py",
   "mimetype": "text/x-python",
   "name": "python",
   "nbconvert_exporter": "python",
   "pygments_lexer": "ipython3",
   "version": "3.7.4"
  },
  "orig_nbformat": 4,
  "kernelspec": {
   "name": "python3",
   "display_name": "Python 3.7.4 64-bit"
  },
  "interpreter": {
   "hash": "a0947237fadc8b5561fed326db280cc5ec46a670c87cfb3a0489cf95ff262303"
  }
 },
 "nbformat": 4,
 "nbformat_minor": 2,
 "cells": [
  {
   "cell_type": "code",
   "execution_count": 1,
   "metadata": {},
   "outputs": [],
   "source": [
    "import pandas as pd\n",
    "import numpy as np\n",
    "from sklearn.preprocessing import LabelEncoder, StandardScaler\n",
    "from sklearn.ensemble import RandomForestClassifier\n",
    "from sklearn.model_selection import train_test_split\n",
    "from sklearn.model_selection import RepeatedStratifiedKFold, RepeatedKFold, KFold\n",
    "from sklearn.metrics import accuracy_score"
   ]
  },
  {
   "source": [
    "# Función chequeo"
   ],
   "cell_type": "markdown",
   "metadata": {}
  },
  {
   "cell_type": "code",
   "execution_count": 158,
   "metadata": {},
   "outputs": [],
   "source": [
    "def chequeator(df_to_submit, num_sub):\n",
    "    \"\"\"\n",
    "    Esta función se asegura de que tu submission tenga la forma requerida por Kaggle.\n",
    "    \n",
    "    Si es así, se guardará el dataframe en un `csv` y estará listo para subir a Kaggle.\n",
    "    \"\"\"\n",
    "    if df_to_submit.shape == sample.shape:\n",
    "        if df_to_submit.columns.all() == sample.columns.all():\n",
    "            if df_to_submit.id.all() == sample.id.all():\n",
    "                print(\"You're ready to submit!\")\n",
    "                df_to_submit.to_csv(\"submission\" + str(num_sub) + \".csv\", index = False)\n",
    "            else:\n",
    "                print(\"Check the ids and try again\")\n",
    "        else:\n",
    "            print(\"Check the names of the columns and try again\")\n",
    "    else:\n",
    "        print(\"Check the number of rows and/or columns and try again\")\n"
   ]
  },
  {
   "source": [
    "---\n",
    "---\n",
    "---"
   ],
   "cell_type": "markdown",
   "metadata": {}
  },
  {
   "source": [
    "## Columnas"
   ],
   "cell_type": "markdown",
   "metadata": {}
  },
  {
   "cell_type": "code",
   "execution_count": 3,
   "metadata": {},
   "outputs": [
    {
     "output_type": "execute_result",
     "data": {
      "text/plain": [
       "                                 Description\n",
       "Column                                      \n",
       "0             Case_ID registered in Hospital\n",
       "1               Unique code for the Hospital\n",
       "2       Unique code for the type of Hospital\n",
       "3                  City Code of the Hospital\n",
       "4                Region Code of the Hospital"
      ],
      "text/html": "<div>\n<style scoped>\n    .dataframe tbody tr th:only-of-type {\n        vertical-align: middle;\n    }\n\n    .dataframe tbody tr th {\n        vertical-align: top;\n    }\n\n    .dataframe thead th {\n        text-align: right;\n    }\n</style>\n<table border=\"1\" class=\"dataframe\">\n  <thead>\n    <tr style=\"text-align: right;\">\n      <th></th>\n      <th>Description</th>\n    </tr>\n    <tr>\n      <th>Column</th>\n      <th></th>\n    </tr>\n  </thead>\n  <tbody>\n    <tr>\n      <th>0</th>\n      <td>Case_ID registered in Hospital</td>\n    </tr>\n    <tr>\n      <th>1</th>\n      <td>Unique code for the Hospital</td>\n    </tr>\n    <tr>\n      <th>2</th>\n      <td>Unique code for the type of Hospital</td>\n    </tr>\n    <tr>\n      <th>3</th>\n      <td>City Code of the Hospital</td>\n    </tr>\n    <tr>\n      <th>4</th>\n      <td>Region Code of the Hospital</td>\n    </tr>\n  </tbody>\n</table>\n</div>"
     },
     "metadata": {},
     "execution_count": 3
    }
   ],
   "source": [
    "df_columns = pd.read_csv('data/columns_meaning.csv', index_col=0)\n",
    "df_columns.head()"
   ]
  },
  {
   "cell_type": "code",
   "execution_count": 4,
   "metadata": {},
   "outputs": [],
   "source": [
    "dict_columns = {}\n",
    "for i in range(0,18):\n",
    "    value = df_columns.iloc[i,0]\n",
    "    dict_columns[i] = value"
   ]
  },
  {
   "cell_type": "code",
   "execution_count": 5,
   "metadata": {},
   "outputs": [
    {
     "output_type": "execute_result",
     "data": {
      "text/plain": [
       "{0: 'Case_ID registered in Hospital',\n",
       " 1: 'Unique code for the Hospital',\n",
       " 2: 'Unique code for the type of Hospital',\n",
       " 3: 'City Code of the Hospital',\n",
       " 4: 'Region Code of the Hospital',\n",
       " 5: 'Number of Extra rooms available in the Hospital',\n",
       " 6: 'Department overlooking the case',\n",
       " 7: 'Code for the Ward type',\n",
       " 8: 'Code for the Ward Facility',\n",
       " 9: 'Condition of Bed in the Ward',\n",
       " 10: 'Unique Patient Id',\n",
       " 11: 'City Code for the patient',\n",
       " 12: 'Admission Type registered by the Hospital',\n",
       " 13: 'Severity of the illness recorded at the time of admission',\n",
       " 14: 'Number of Visitors with the patient',\n",
       " 15: 'Age of the patient',\n",
       " 16: 'Deposit at the Admission Time',\n",
       " 17: 'Stay Days by the patient'}"
      ]
     },
     "metadata": {},
     "execution_count": 5
    }
   ],
   "source": [
    "dict_columns"
   ]
  },
  {
   "source": [
    "## Se carga dftrain"
   ],
   "cell_type": "markdown",
   "metadata": {}
  },
  {
   "cell_type": "code",
   "execution_count": 6,
   "metadata": {},
   "outputs": [
    {
     "output_type": "execute_result",
     "data": {
      "text/plain": [
       "        0   1  2  3  4  5           6  7  8    9      10    11         12  \\\n",
       "0  161528   6  a  6  X  2  gynecology  R  F  4.0   45810   2.0     Urgent   \n",
       "1  159472  23  a  6  X  4  gynecology  Q  F  2.0  128565  15.0     Trauma   \n",
       "2  309765   2  c  5  Z  2  anesthesia  S  F  3.0   46565   5.0     Urgent   \n",
       "3  279614  32  f  9  Y  3  gynecology  S  B  4.0  124546   6.0  Emergency   \n",
       "4  147791  14  a  1  X  3  gynecology  S  E  2.0   22729   8.0     Urgent   \n",
       "\n",
       "         13  14     15      16     17  \n",
       "0  Moderate   2  21-30  2817.0   0-10  \n",
       "1  Moderate   4  51-60  4498.0  21-30  \n",
       "2  Moderate   2  71-80  4573.0  11-20  \n",
       "3  Moderate   4  11-20  7202.0  51-60  \n",
       "4  Moderate   2  51-60  3398.0  51-60  "
      ],
      "text/html": "<div>\n<style scoped>\n    .dataframe tbody tr th:only-of-type {\n        vertical-align: middle;\n    }\n\n    .dataframe tbody tr th {\n        vertical-align: top;\n    }\n\n    .dataframe thead th {\n        text-align: right;\n    }\n</style>\n<table border=\"1\" class=\"dataframe\">\n  <thead>\n    <tr style=\"text-align: right;\">\n      <th></th>\n      <th>0</th>\n      <th>1</th>\n      <th>2</th>\n      <th>3</th>\n      <th>4</th>\n      <th>5</th>\n      <th>6</th>\n      <th>7</th>\n      <th>8</th>\n      <th>9</th>\n      <th>10</th>\n      <th>11</th>\n      <th>12</th>\n      <th>13</th>\n      <th>14</th>\n      <th>15</th>\n      <th>16</th>\n      <th>17</th>\n    </tr>\n  </thead>\n  <tbody>\n    <tr>\n      <th>0</th>\n      <td>161528</td>\n      <td>6</td>\n      <td>a</td>\n      <td>6</td>\n      <td>X</td>\n      <td>2</td>\n      <td>gynecology</td>\n      <td>R</td>\n      <td>F</td>\n      <td>4.0</td>\n      <td>45810</td>\n      <td>2.0</td>\n      <td>Urgent</td>\n      <td>Moderate</td>\n      <td>2</td>\n      <td>21-30</td>\n      <td>2817.0</td>\n      <td>0-10</td>\n    </tr>\n    <tr>\n      <th>1</th>\n      <td>159472</td>\n      <td>23</td>\n      <td>a</td>\n      <td>6</td>\n      <td>X</td>\n      <td>4</td>\n      <td>gynecology</td>\n      <td>Q</td>\n      <td>F</td>\n      <td>2.0</td>\n      <td>128565</td>\n      <td>15.0</td>\n      <td>Trauma</td>\n      <td>Moderate</td>\n      <td>4</td>\n      <td>51-60</td>\n      <td>4498.0</td>\n      <td>21-30</td>\n    </tr>\n    <tr>\n      <th>2</th>\n      <td>309765</td>\n      <td>2</td>\n      <td>c</td>\n      <td>5</td>\n      <td>Z</td>\n      <td>2</td>\n      <td>anesthesia</td>\n      <td>S</td>\n      <td>F</td>\n      <td>3.0</td>\n      <td>46565</td>\n      <td>5.0</td>\n      <td>Urgent</td>\n      <td>Moderate</td>\n      <td>2</td>\n      <td>71-80</td>\n      <td>4573.0</td>\n      <td>11-20</td>\n    </tr>\n    <tr>\n      <th>3</th>\n      <td>279614</td>\n      <td>32</td>\n      <td>f</td>\n      <td>9</td>\n      <td>Y</td>\n      <td>3</td>\n      <td>gynecology</td>\n      <td>S</td>\n      <td>B</td>\n      <td>4.0</td>\n      <td>124546</td>\n      <td>6.0</td>\n      <td>Emergency</td>\n      <td>Moderate</td>\n      <td>4</td>\n      <td>11-20</td>\n      <td>7202.0</td>\n      <td>51-60</td>\n    </tr>\n    <tr>\n      <th>4</th>\n      <td>147791</td>\n      <td>14</td>\n      <td>a</td>\n      <td>1</td>\n      <td>X</td>\n      <td>3</td>\n      <td>gynecology</td>\n      <td>S</td>\n      <td>E</td>\n      <td>2.0</td>\n      <td>22729</td>\n      <td>8.0</td>\n      <td>Urgent</td>\n      <td>Moderate</td>\n      <td>2</td>\n      <td>51-60</td>\n      <td>3398.0</td>\n      <td>51-60</td>\n    </tr>\n  </tbody>\n</table>\n</div>"
     },
     "metadata": {},
     "execution_count": 6
    }
   ],
   "source": [
    "dftrain = pd.read_csv('data/hospital_train.csv')\n",
    "dftrain.head()"
   ]
  },
  {
   "source": [
    "## Se comienza a analizar df_train"
   ],
   "cell_type": "markdown",
   "metadata": {}
  },
  {
   "cell_type": "code",
   "execution_count": 7,
   "metadata": {},
   "outputs": [
    {
     "output_type": "stream",
     "name": "stdout",
     "text": [
      "<class 'pandas.core.frame.DataFrame'>\nRangeIndex: 100000 entries, 0 to 99999\nData columns (total 18 columns):\n #   Column  Non-Null Count   Dtype  \n---  ------  --------------   -----  \n 0   0       100000 non-null  int64  \n 1   1       100000 non-null  int64  \n 2   2       100000 non-null  object \n 3   3       100000 non-null  int64  \n 4   4       100000 non-null  object \n 5   5       100000 non-null  int64  \n 6   6       100000 non-null  object \n 7   7       100000 non-null  object \n 8   8       100000 non-null  object \n 9   9       99967 non-null   float64\n 10  10      100000 non-null  int64  \n 11  11      98517 non-null   float64\n 12  12      100000 non-null  object \n 13  13      100000 non-null  object \n 14  14      100000 non-null  int64  \n 15  15      100000 non-null  object \n 16  16      100000 non-null  float64\n 17  17      100000 non-null  object \ndtypes: float64(3), int64(6), object(9)\nmemory usage: 13.7+ MB\n"
     ]
    }
   ],
   "source": [
    "dftrain.info()"
   ]
  },
  {
   "cell_type": "code",
   "execution_count": 8,
   "metadata": {},
   "outputs": [
    {
     "output_type": "execute_result",
     "data": {
      "text/plain": [
       "0        0\n",
       "1        0\n",
       "2        0\n",
       "3        0\n",
       "4        0\n",
       "5        0\n",
       "6        0\n",
       "7        0\n",
       "8        0\n",
       "9       33\n",
       "10       0\n",
       "11    1483\n",
       "12       0\n",
       "13       0\n",
       "14       0\n",
       "15       0\n",
       "16       0\n",
       "17       0\n",
       "dtype: int64"
      ]
     },
     "metadata": {},
     "execution_count": 8
    }
   ],
   "source": [
    "dftrain.isna().sum()"
   ]
  },
  {
   "source": [
    "## Tratamiento de valores NaN"
   ],
   "cell_type": "markdown",
   "metadata": {}
  },
  {
   "cell_type": "code",
   "execution_count": 9,
   "metadata": {},
   "outputs": [
    {
     "output_type": "execute_result",
     "data": {
      "text/plain": [
       "array([ 4.,  2.,  3.,  1., nan])"
      ]
     },
     "metadata": {},
     "execution_count": 9
    }
   ],
   "source": [
    "dftrain.loc[:,'9'].unique()"
   ]
  },
  {
   "cell_type": "code",
   "execution_count": 10,
   "metadata": {},
   "outputs": [
    {
     "output_type": "execute_result",
     "data": {
      "text/plain": [
       "'Condition of Bed in the Ward'"
      ]
     },
     "metadata": {},
     "execution_count": 10
    }
   ],
   "source": [
    "dict_columns[9]"
   ]
  },
  {
   "cell_type": "code",
   "execution_count": 11,
   "metadata": {},
   "outputs": [
    {
     "output_type": "execute_result",
     "data": {
      "text/plain": [
       "array([ 2., 15.,  5.,  6.,  8.,  7.,  4.,  1.,  9., nan, 23., 31., 12.,\n",
       "       22.,  3., 30., 16., 10., 32., 27., 20., 14., 13., 21., 26., 19.,\n",
       "       18., 28., 24., 25., 11., 34., 35., 37., 33., 29., 36., 38.])"
      ]
     },
     "metadata": {},
     "execution_count": 11
    }
   ],
   "source": [
    "dftrain.loc[:,'11'].unique()"
   ]
  },
  {
   "cell_type": "code",
   "execution_count": 12,
   "metadata": {},
   "outputs": [
    {
     "output_type": "execute_result",
     "data": {
      "text/plain": [
       "'City Code for the patient'"
      ]
     },
     "metadata": {},
     "execution_count": 12
    }
   ],
   "source": [
    "dict_columns[11] # La columna 11 no será utilizada en el modelo."
   ]
  },
  {
   "source": [
    "## Podrían rellenarse los NaN de la columna 9 con la moda."
   ],
   "cell_type": "markdown",
   "metadata": {}
  },
  {
   "cell_type": "code",
   "execution_count": 13,
   "metadata": {},
   "outputs": [
    {
     "output_type": "execute_result",
     "data": {
      "text/plain": [
       "0    2.0\n",
       "dtype: float64"
      ]
     },
     "metadata": {},
     "execution_count": 13
    }
   ],
   "source": [
    "dftrain.loc[:,'9'].mode()"
   ]
  },
  {
   "cell_type": "code",
   "execution_count": 14,
   "metadata": {},
   "outputs": [],
   "source": [
    "dftrain.loc[:,'9'].fillna(dftrain.loc[:,'9'].mode()[0], inplace = True)"
   ]
  },
  {
   "cell_type": "code",
   "execution_count": 15,
   "metadata": {},
   "outputs": [
    {
     "output_type": "execute_result",
     "data": {
      "text/plain": [
       "0        0\n",
       "1        0\n",
       "2        0\n",
       "3        0\n",
       "4        0\n",
       "5        0\n",
       "6        0\n",
       "7        0\n",
       "8        0\n",
       "9        0\n",
       "10       0\n",
       "11    1483\n",
       "12       0\n",
       "13       0\n",
       "14       0\n",
       "15       0\n",
       "16       0\n",
       "17       0\n",
       "dtype: int64"
      ]
     },
     "metadata": {},
     "execution_count": 15
    }
   ],
   "source": [
    "dftrain.isna().sum()"
   ]
  },
  {
   "cell_type": "code",
   "execution_count": 16,
   "metadata": {},
   "outputs": [
    {
     "output_type": "execute_result",
     "data": {
      "text/plain": [
       "0     100000\n",
       "1         32\n",
       "2          7\n",
       "3         11\n",
       "4          3\n",
       "5         16\n",
       "6          5\n",
       "7          6\n",
       "8          6\n",
       "9          4\n",
       "10     59097\n",
       "11        37\n",
       "12         3\n",
       "13         3\n",
       "14        28\n",
       "15        10\n",
       "16      6355\n",
       "17        11\n",
       "dtype: int64"
      ]
     },
     "metadata": {},
     "execution_count": 16
    }
   ],
   "source": [
    "dftrain.nunique()"
   ]
  },
  {
   "source": [
    "## Análisis columna por columna --> Tratamiento que se le da a cada una"
   ],
   "cell_type": "markdown",
   "metadata": {}
  },
  {
   "source": [
    "# Columna TARGET (17)"
   ],
   "cell_type": "markdown",
   "metadata": {}
  },
  {
   "cell_type": "code",
   "execution_count": 17,
   "metadata": {},
   "outputs": [
    {
     "output_type": "execute_result",
     "data": {
      "text/plain": [
       "11"
      ]
     },
     "metadata": {},
     "execution_count": 17
    }
   ],
   "source": [
    "dftrain.loc[:,'17'].nunique()"
   ]
  },
  {
   "cell_type": "code",
   "execution_count": 18,
   "metadata": {},
   "outputs": [
    {
     "output_type": "execute_result",
     "data": {
      "text/plain": [
       "array(['0-10', '21-30', '11-20', '51-60', '31-40', '71-80',\n",
       "       'More than 100 Days', '41-50', '81-90', '61-70', '91-100'],\n",
       "      dtype=object)"
      ]
     },
     "metadata": {},
     "execution_count": 18
    }
   ],
   "source": [
    "dftrain.loc[:,'17'].unique()"
   ]
  },
  {
   "source": [
    "## Se le realiza LabelEncoder"
   ],
   "cell_type": "markdown",
   "metadata": {}
  },
  {
   "cell_type": "code",
   "execution_count": 19,
   "metadata": {},
   "outputs": [],
   "source": [
    "leTARGET = LabelEncoder()"
   ]
  },
  {
   "cell_type": "code",
   "execution_count": 20,
   "metadata": {},
   "outputs": [
    {
     "output_type": "execute_result",
     "data": {
      "text/plain": [
       "0         0\n",
       "1         2\n",
       "2         1\n",
       "3         5\n",
       "4         5\n",
       "         ..\n",
       "99995    10\n",
       "99996     5\n",
       "99997     3\n",
       "99998     1\n",
       "99999     4\n",
       "Name: 17, Length: 100000, dtype: int32"
      ]
     },
     "metadata": {},
     "execution_count": 20
    }
   ],
   "source": [
    "dftrain.loc[:,'17'] = leTARGET.fit_transform(dftrain.loc[:,'17'])\n",
    "dftrain.loc[:,'17']"
   ]
  },
  {
   "cell_type": "code",
   "execution_count": 21,
   "metadata": {},
   "outputs": [
    {
     "output_type": "execute_result",
     "data": {
      "text/plain": [
       "['0-10',\n",
       " '11-20',\n",
       " '21-30',\n",
       " '31-40',\n",
       " '41-50',\n",
       " '51-60',\n",
       " '61-70',\n",
       " '71-80',\n",
       " '81-90',\n",
       " '91-100',\n",
       " 'More than 100 Days']"
      ]
     },
     "metadata": {},
     "execution_count": 21
    }
   ],
   "source": [
    "list(leTARGET.inverse_transform([0,1,2,3,4,5,6,7,8,9,10]))"
   ]
  },
  {
   "source": [
    "# Columna 0 - Case ID"
   ],
   "cell_type": "markdown",
   "metadata": {}
  },
  {
   "cell_type": "code",
   "execution_count": 22,
   "metadata": {},
   "outputs": [
    {
     "output_type": "execute_result",
     "data": {
      "text/plain": [
       "100000"
      ]
     },
     "metadata": {},
     "execution_count": 22
    }
   ],
   "source": [
    "dftrain.loc[:,'0'].nunique()"
   ]
  },
  {
   "source": [
    "## Columna 0 --> No será modificada y no participará del modelo\n",
    "---\n",
    "# Columna 1 - Código único de hospital"
   ],
   "cell_type": "markdown",
   "metadata": {}
  },
  {
   "cell_type": "code",
   "execution_count": 23,
   "metadata": {},
   "outputs": [
    {
     "output_type": "execute_result",
     "data": {
      "text/plain": [
       "32"
      ]
     },
     "metadata": {},
     "execution_count": 23
    }
   ],
   "source": [
    "dftrain.loc[:,'1'].nunique()"
   ]
  },
  {
   "cell_type": "code",
   "execution_count": 24,
   "metadata": {},
   "outputs": [
    {
     "output_type": "execute_result",
     "data": {
      "text/plain": [
       "array([ 6, 23,  2, 32, 14, 15, 12, 19, 11, 21, 26, 27, 29,  9,  8, 28, 24,\n",
       "       10, 17, 25, 30, 18, 16, 22,  5,  1,  7, 31,  4, 13,  3, 20],\n",
       "      dtype=int64)"
      ]
     },
     "metadata": {},
     "execution_count": 24
    }
   ],
   "source": [
    "dftrain.loc[:,'1'].unique()"
   ]
  },
  {
   "source": [
    "## Columna 1 --> Se aplica One Hot Encoding"
   ],
   "cell_type": "markdown",
   "metadata": {}
  },
  {
   "cell_type": "code",
   "execution_count": 25,
   "metadata": {},
   "outputs": [
    {
     "output_type": "execute_result",
     "data": {
      "text/plain": [
       "   CH1_1  CH1_2  CH1_3  CH1_4  CH1_5  CH1_6  CH1_7  CH1_8  CH1_9  CH1_10  ...  \\\n",
       "0      0      0      0      0      0      1      0      0      0       0  ...   \n",
       "1      0      0      0      0      0      0      0      0      0       0  ...   \n",
       "2      0      1      0      0      0      0      0      0      0       0  ...   \n",
       "3      0      0      0      0      0      0      0      0      0       0  ...   \n",
       "4      0      0      0      0      0      0      0      0      0       0  ...   \n",
       "\n",
       "   CH1_23  CH1_24  CH1_25  CH1_26  CH1_27  CH1_28  CH1_29  CH1_30  CH1_31  \\\n",
       "0       0       0       0       0       0       0       0       0       0   \n",
       "1       1       0       0       0       0       0       0       0       0   \n",
       "2       0       0       0       0       0       0       0       0       0   \n",
       "3       0       0       0       0       0       0       0       0       0   \n",
       "4       0       0       0       0       0       0       0       0       0   \n",
       "\n",
       "   CH1_32  \n",
       "0       0  \n",
       "1       0  \n",
       "2       0  \n",
       "3       1  \n",
       "4       0  \n",
       "\n",
       "[5 rows x 32 columns]"
      ],
      "text/html": "<div>\n<style scoped>\n    .dataframe tbody tr th:only-of-type {\n        vertical-align: middle;\n    }\n\n    .dataframe tbody tr th {\n        vertical-align: top;\n    }\n\n    .dataframe thead th {\n        text-align: right;\n    }\n</style>\n<table border=\"1\" class=\"dataframe\">\n  <thead>\n    <tr style=\"text-align: right;\">\n      <th></th>\n      <th>CH1_1</th>\n      <th>CH1_2</th>\n      <th>CH1_3</th>\n      <th>CH1_4</th>\n      <th>CH1_5</th>\n      <th>CH1_6</th>\n      <th>CH1_7</th>\n      <th>CH1_8</th>\n      <th>CH1_9</th>\n      <th>CH1_10</th>\n      <th>...</th>\n      <th>CH1_23</th>\n      <th>CH1_24</th>\n      <th>CH1_25</th>\n      <th>CH1_26</th>\n      <th>CH1_27</th>\n      <th>CH1_28</th>\n      <th>CH1_29</th>\n      <th>CH1_30</th>\n      <th>CH1_31</th>\n      <th>CH1_32</th>\n    </tr>\n  </thead>\n  <tbody>\n    <tr>\n      <th>0</th>\n      <td>0</td>\n      <td>0</td>\n      <td>0</td>\n      <td>0</td>\n      <td>0</td>\n      <td>1</td>\n      <td>0</td>\n      <td>0</td>\n      <td>0</td>\n      <td>0</td>\n      <td>...</td>\n      <td>0</td>\n      <td>0</td>\n      <td>0</td>\n      <td>0</td>\n      <td>0</td>\n      <td>0</td>\n      <td>0</td>\n      <td>0</td>\n      <td>0</td>\n      <td>0</td>\n    </tr>\n    <tr>\n      <th>1</th>\n      <td>0</td>\n      <td>0</td>\n      <td>0</td>\n      <td>0</td>\n      <td>0</td>\n      <td>0</td>\n      <td>0</td>\n      <td>0</td>\n      <td>0</td>\n      <td>0</td>\n      <td>...</td>\n      <td>1</td>\n      <td>0</td>\n      <td>0</td>\n      <td>0</td>\n      <td>0</td>\n      <td>0</td>\n      <td>0</td>\n      <td>0</td>\n      <td>0</td>\n      <td>0</td>\n    </tr>\n    <tr>\n      <th>2</th>\n      <td>0</td>\n      <td>1</td>\n      <td>0</td>\n      <td>0</td>\n      <td>0</td>\n      <td>0</td>\n      <td>0</td>\n      <td>0</td>\n      <td>0</td>\n      <td>0</td>\n      <td>...</td>\n      <td>0</td>\n      <td>0</td>\n      <td>0</td>\n      <td>0</td>\n      <td>0</td>\n      <td>0</td>\n      <td>0</td>\n      <td>0</td>\n      <td>0</td>\n      <td>0</td>\n    </tr>\n    <tr>\n      <th>3</th>\n      <td>0</td>\n      <td>0</td>\n      <td>0</td>\n      <td>0</td>\n      <td>0</td>\n      <td>0</td>\n      <td>0</td>\n      <td>0</td>\n      <td>0</td>\n      <td>0</td>\n      <td>...</td>\n      <td>0</td>\n      <td>0</td>\n      <td>0</td>\n      <td>0</td>\n      <td>0</td>\n      <td>0</td>\n      <td>0</td>\n      <td>0</td>\n      <td>0</td>\n      <td>1</td>\n    </tr>\n    <tr>\n      <th>4</th>\n      <td>0</td>\n      <td>0</td>\n      <td>0</td>\n      <td>0</td>\n      <td>0</td>\n      <td>0</td>\n      <td>0</td>\n      <td>0</td>\n      <td>0</td>\n      <td>0</td>\n      <td>...</td>\n      <td>0</td>\n      <td>0</td>\n      <td>0</td>\n      <td>0</td>\n      <td>0</td>\n      <td>0</td>\n      <td>0</td>\n      <td>0</td>\n      <td>0</td>\n      <td>0</td>\n    </tr>\n  </tbody>\n</table>\n<p>5 rows × 32 columns</p>\n</div>"
     },
     "metadata": {},
     "execution_count": 25
    }
   ],
   "source": [
    "dummies_CH1 = pd.get_dummies(dftrain.loc[:,'1'], prefix='CH1')\n",
    "dummies_CH1.head()"
   ]
  },
  {
   "source": [
    "\n",
    "---\n",
    "# Columna 2 - Código único de tipo de hospital"
   ],
   "cell_type": "markdown",
   "metadata": {}
  },
  {
   "cell_type": "code",
   "execution_count": 26,
   "metadata": {},
   "outputs": [
    {
     "output_type": "execute_result",
     "data": {
      "text/plain": [
       "7"
      ]
     },
     "metadata": {},
     "execution_count": 26
    }
   ],
   "source": [
    "dftrain.loc[:,'2'].nunique()"
   ]
  },
  {
   "cell_type": "code",
   "execution_count": 27,
   "metadata": {},
   "outputs": [
    {
     "output_type": "execute_result",
     "data": {
      "text/plain": [
       "array(['a', 'c', 'f', 'b', 'd', 'e', 'g'], dtype=object)"
      ]
     },
     "metadata": {},
     "execution_count": 27
    }
   ],
   "source": [
    "dftrain.loc[:,'2'].unique()"
   ]
  },
  {
   "source": [
    "## Columna 2 --> Se aplica One Hot Encoding"
   ],
   "cell_type": "markdown",
   "metadata": {}
  },
  {
   "cell_type": "code",
   "execution_count": 28,
   "metadata": {},
   "outputs": [
    {
     "output_type": "execute_result",
     "data": {
      "text/plain": [
       "       CTH2_a  CTH2_b  CTH2_c  CTH2_d  CTH2_e  CTH2_f  CTH2_g\n",
       "0           1       0       0       0       0       0       0\n",
       "1           1       0       0       0       0       0       0\n",
       "2           0       0       1       0       0       0       0\n",
       "3           0       0       0       0       0       1       0\n",
       "4           1       0       0       0       0       0       0\n",
       "...       ...     ...     ...     ...     ...     ...     ...\n",
       "99995       1       0       0       0       0       0       0\n",
       "99996       0       1       0       0       0       0       0\n",
       "99997       1       0       0       0       0       0       0\n",
       "99998       0       0       0       0       0       1       0\n",
       "99999       0       0       0       0       1       0       0\n",
       "\n",
       "[100000 rows x 7 columns]"
      ],
      "text/html": "<div>\n<style scoped>\n    .dataframe tbody tr th:only-of-type {\n        vertical-align: middle;\n    }\n\n    .dataframe tbody tr th {\n        vertical-align: top;\n    }\n\n    .dataframe thead th {\n        text-align: right;\n    }\n</style>\n<table border=\"1\" class=\"dataframe\">\n  <thead>\n    <tr style=\"text-align: right;\">\n      <th></th>\n      <th>CTH2_a</th>\n      <th>CTH2_b</th>\n      <th>CTH2_c</th>\n      <th>CTH2_d</th>\n      <th>CTH2_e</th>\n      <th>CTH2_f</th>\n      <th>CTH2_g</th>\n    </tr>\n  </thead>\n  <tbody>\n    <tr>\n      <th>0</th>\n      <td>1</td>\n      <td>0</td>\n      <td>0</td>\n      <td>0</td>\n      <td>0</td>\n      <td>0</td>\n      <td>0</td>\n    </tr>\n    <tr>\n      <th>1</th>\n      <td>1</td>\n      <td>0</td>\n      <td>0</td>\n      <td>0</td>\n      <td>0</td>\n      <td>0</td>\n      <td>0</td>\n    </tr>\n    <tr>\n      <th>2</th>\n      <td>0</td>\n      <td>0</td>\n      <td>1</td>\n      <td>0</td>\n      <td>0</td>\n      <td>0</td>\n      <td>0</td>\n    </tr>\n    <tr>\n      <th>3</th>\n      <td>0</td>\n      <td>0</td>\n      <td>0</td>\n      <td>0</td>\n      <td>0</td>\n      <td>1</td>\n      <td>0</td>\n    </tr>\n    <tr>\n      <th>4</th>\n      <td>1</td>\n      <td>0</td>\n      <td>0</td>\n      <td>0</td>\n      <td>0</td>\n      <td>0</td>\n      <td>0</td>\n    </tr>\n    <tr>\n      <th>...</th>\n      <td>...</td>\n      <td>...</td>\n      <td>...</td>\n      <td>...</td>\n      <td>...</td>\n      <td>...</td>\n      <td>...</td>\n    </tr>\n    <tr>\n      <th>99995</th>\n      <td>1</td>\n      <td>0</td>\n      <td>0</td>\n      <td>0</td>\n      <td>0</td>\n      <td>0</td>\n      <td>0</td>\n    </tr>\n    <tr>\n      <th>99996</th>\n      <td>0</td>\n      <td>1</td>\n      <td>0</td>\n      <td>0</td>\n      <td>0</td>\n      <td>0</td>\n      <td>0</td>\n    </tr>\n    <tr>\n      <th>99997</th>\n      <td>1</td>\n      <td>0</td>\n      <td>0</td>\n      <td>0</td>\n      <td>0</td>\n      <td>0</td>\n      <td>0</td>\n    </tr>\n    <tr>\n      <th>99998</th>\n      <td>0</td>\n      <td>0</td>\n      <td>0</td>\n      <td>0</td>\n      <td>0</td>\n      <td>1</td>\n      <td>0</td>\n    </tr>\n    <tr>\n      <th>99999</th>\n      <td>0</td>\n      <td>0</td>\n      <td>0</td>\n      <td>0</td>\n      <td>1</td>\n      <td>0</td>\n      <td>0</td>\n    </tr>\n  </tbody>\n</table>\n<p>100000 rows × 7 columns</p>\n</div>"
     },
     "metadata": {},
     "execution_count": 28
    }
   ],
   "source": [
    "dummies_CTH2 = pd.get_dummies(dftrain.loc[:,'2'], prefix='CTH2')\n",
    "dummies_CTH2"
   ]
  },
  {
   "source": [
    "\n",
    "---\n",
    "# Columna 3 - Código de ciudad del hospital"
   ],
   "cell_type": "markdown",
   "metadata": {}
  },
  {
   "cell_type": "code",
   "execution_count": 29,
   "metadata": {},
   "outputs": [
    {
     "output_type": "execute_result",
     "data": {
      "text/plain": [
       "11"
      ]
     },
     "metadata": {},
     "execution_count": 29
    }
   ],
   "source": [
    "dftrain.loc[:,'3'].nunique()"
   ]
  },
  {
   "cell_type": "code",
   "execution_count": 30,
   "metadata": {},
   "outputs": [
    {
     "output_type": "execute_result",
     "data": {
      "text/plain": [
       "array([ 6,  5,  9,  1,  7,  2,  3,  4, 11, 13, 10], dtype=int64)"
      ]
     },
     "metadata": {},
     "execution_count": 30
    }
   ],
   "source": [
    "dftrain.loc[:,'3'].unique()"
   ]
  },
  {
   "source": [
    "## Columna 3 --> Se aplica One Hot Encoding"
   ],
   "cell_type": "markdown",
   "metadata": {}
  },
  {
   "cell_type": "code",
   "execution_count": 31,
   "metadata": {},
   "outputs": [
    {
     "output_type": "execute_result",
     "data": {
      "text/plain": [
       "       CCH3_1  CCH3_2  CCH3_3  CCH3_4  CCH3_5  CCH3_6  CCH3_7  CCH3_9  \\\n",
       "0           0       0       0       0       0       1       0       0   \n",
       "1           0       0       0       0       0       1       0       0   \n",
       "2           0       0       0       0       1       0       0       0   \n",
       "3           0       0       0       0       0       0       0       1   \n",
       "4           1       0       0       0       0       0       0       0   \n",
       "...       ...     ...     ...     ...     ...     ...     ...     ...   \n",
       "99995       0       0       0       0       0       0       0       1   \n",
       "99996       0       0       0       0       0       0       0       0   \n",
       "99997       0       0       0       0       0       1       0       0   \n",
       "99998       0       0       0       0       0       0       0       1   \n",
       "99999       1       0       0       0       0       0       0       0   \n",
       "\n",
       "       CCH3_10  CCH3_11  CCH3_13  \n",
       "0            0        0        0  \n",
       "1            0        0        0  \n",
       "2            0        0        0  \n",
       "3            0        0        0  \n",
       "4            0        0        0  \n",
       "...        ...      ...      ...  \n",
       "99995        0        0        0  \n",
       "99996        0        1        0  \n",
       "99997        0        0        0  \n",
       "99998        0        0        0  \n",
       "99999        0        0        0  \n",
       "\n",
       "[100000 rows x 11 columns]"
      ],
      "text/html": "<div>\n<style scoped>\n    .dataframe tbody tr th:only-of-type {\n        vertical-align: middle;\n    }\n\n    .dataframe tbody tr th {\n        vertical-align: top;\n    }\n\n    .dataframe thead th {\n        text-align: right;\n    }\n</style>\n<table border=\"1\" class=\"dataframe\">\n  <thead>\n    <tr style=\"text-align: right;\">\n      <th></th>\n      <th>CCH3_1</th>\n      <th>CCH3_2</th>\n      <th>CCH3_3</th>\n      <th>CCH3_4</th>\n      <th>CCH3_5</th>\n      <th>CCH3_6</th>\n      <th>CCH3_7</th>\n      <th>CCH3_9</th>\n      <th>CCH3_10</th>\n      <th>CCH3_11</th>\n      <th>CCH3_13</th>\n    </tr>\n  </thead>\n  <tbody>\n    <tr>\n      <th>0</th>\n      <td>0</td>\n      <td>0</td>\n      <td>0</td>\n      <td>0</td>\n      <td>0</td>\n      <td>1</td>\n      <td>0</td>\n      <td>0</td>\n      <td>0</td>\n      <td>0</td>\n      <td>0</td>\n    </tr>\n    <tr>\n      <th>1</th>\n      <td>0</td>\n      <td>0</td>\n      <td>0</td>\n      <td>0</td>\n      <td>0</td>\n      <td>1</td>\n      <td>0</td>\n      <td>0</td>\n      <td>0</td>\n      <td>0</td>\n      <td>0</td>\n    </tr>\n    <tr>\n      <th>2</th>\n      <td>0</td>\n      <td>0</td>\n      <td>0</td>\n      <td>0</td>\n      <td>1</td>\n      <td>0</td>\n      <td>0</td>\n      <td>0</td>\n      <td>0</td>\n      <td>0</td>\n      <td>0</td>\n    </tr>\n    <tr>\n      <th>3</th>\n      <td>0</td>\n      <td>0</td>\n      <td>0</td>\n      <td>0</td>\n      <td>0</td>\n      <td>0</td>\n      <td>0</td>\n      <td>1</td>\n      <td>0</td>\n      <td>0</td>\n      <td>0</td>\n    </tr>\n    <tr>\n      <th>4</th>\n      <td>1</td>\n      <td>0</td>\n      <td>0</td>\n      <td>0</td>\n      <td>0</td>\n      <td>0</td>\n      <td>0</td>\n      <td>0</td>\n      <td>0</td>\n      <td>0</td>\n      <td>0</td>\n    </tr>\n    <tr>\n      <th>...</th>\n      <td>...</td>\n      <td>...</td>\n      <td>...</td>\n      <td>...</td>\n      <td>...</td>\n      <td>...</td>\n      <td>...</td>\n      <td>...</td>\n      <td>...</td>\n      <td>...</td>\n      <td>...</td>\n    </tr>\n    <tr>\n      <th>99995</th>\n      <td>0</td>\n      <td>0</td>\n      <td>0</td>\n      <td>0</td>\n      <td>0</td>\n      <td>0</td>\n      <td>0</td>\n      <td>1</td>\n      <td>0</td>\n      <td>0</td>\n      <td>0</td>\n    </tr>\n    <tr>\n      <th>99996</th>\n      <td>0</td>\n      <td>0</td>\n      <td>0</td>\n      <td>0</td>\n      <td>0</td>\n      <td>0</td>\n      <td>0</td>\n      <td>0</td>\n      <td>0</td>\n      <td>1</td>\n      <td>0</td>\n    </tr>\n    <tr>\n      <th>99997</th>\n      <td>0</td>\n      <td>0</td>\n      <td>0</td>\n      <td>0</td>\n      <td>0</td>\n      <td>1</td>\n      <td>0</td>\n      <td>0</td>\n      <td>0</td>\n      <td>0</td>\n      <td>0</td>\n    </tr>\n    <tr>\n      <th>99998</th>\n      <td>0</td>\n      <td>0</td>\n      <td>0</td>\n      <td>0</td>\n      <td>0</td>\n      <td>0</td>\n      <td>0</td>\n      <td>1</td>\n      <td>0</td>\n      <td>0</td>\n      <td>0</td>\n    </tr>\n    <tr>\n      <th>99999</th>\n      <td>1</td>\n      <td>0</td>\n      <td>0</td>\n      <td>0</td>\n      <td>0</td>\n      <td>0</td>\n      <td>0</td>\n      <td>0</td>\n      <td>0</td>\n      <td>0</td>\n      <td>0</td>\n    </tr>\n  </tbody>\n</table>\n<p>100000 rows × 11 columns</p>\n</div>"
     },
     "metadata": {},
     "execution_count": 31
    }
   ],
   "source": [
    "dummies_CCH3 = pd.get_dummies(dftrain.loc[:,'3'], prefix='CCH3')\n",
    "dummies_CCH3"
   ]
  },
  {
   "source": [
    "\n",
    "---\n",
    "# Columna 4 - Código de región del hospital"
   ],
   "cell_type": "markdown",
   "metadata": {}
  },
  {
   "cell_type": "code",
   "execution_count": 32,
   "metadata": {},
   "outputs": [
    {
     "output_type": "execute_result",
     "data": {
      "text/plain": [
       "3"
      ]
     },
     "metadata": {},
     "execution_count": 32
    }
   ],
   "source": [
    "dftrain.loc[:,'4'].nunique()"
   ]
  },
  {
   "cell_type": "code",
   "execution_count": 33,
   "metadata": {},
   "outputs": [
    {
     "output_type": "execute_result",
     "data": {
      "text/plain": [
       "array(['X', 'Z', 'Y'], dtype=object)"
      ]
     },
     "metadata": {},
     "execution_count": 33
    }
   ],
   "source": [
    "dftrain.loc[:,'4'].unique()"
   ]
  },
  {
   "source": [
    "## Columna 4 --> Altamente relacionada con columna 3 --> No se utilizará columna 4 en el modelo"
   ],
   "cell_type": "markdown",
   "metadata": {}
  },
  {
   "cell_type": "code",
   "execution_count": 34,
   "metadata": {},
   "outputs": [
    {
     "output_type": "execute_result",
     "data": {
      "text/plain": [
       "        0   1  2  3  4  5           6  7  8    9      10    11         12  \\\n",
       "0  161528   6  a  6  X  2  gynecology  R  F  4.0   45810   2.0     Urgent   \n",
       "1  159472  23  a  6  X  4  gynecology  Q  F  2.0  128565  15.0     Trauma   \n",
       "2  309765   2  c  5  Z  2  anesthesia  S  F  3.0   46565   5.0     Urgent   \n",
       "3  279614  32  f  9  Y  3  gynecology  S  B  4.0  124546   6.0  Emergency   \n",
       "4  147791  14  a  1  X  3  gynecology  S  E  2.0   22729   8.0     Urgent   \n",
       "\n",
       "         13  14     15      16  17  \n",
       "0  Moderate   2  21-30  2817.0   0  \n",
       "1  Moderate   4  51-60  4498.0   2  \n",
       "2  Moderate   2  71-80  4573.0   1  \n",
       "3  Moderate   4  11-20  7202.0   5  \n",
       "4  Moderate   2  51-60  3398.0   5  "
      ],
      "text/html": "<div>\n<style scoped>\n    .dataframe tbody tr th:only-of-type {\n        vertical-align: middle;\n    }\n\n    .dataframe tbody tr th {\n        vertical-align: top;\n    }\n\n    .dataframe thead th {\n        text-align: right;\n    }\n</style>\n<table border=\"1\" class=\"dataframe\">\n  <thead>\n    <tr style=\"text-align: right;\">\n      <th></th>\n      <th>0</th>\n      <th>1</th>\n      <th>2</th>\n      <th>3</th>\n      <th>4</th>\n      <th>5</th>\n      <th>6</th>\n      <th>7</th>\n      <th>8</th>\n      <th>9</th>\n      <th>10</th>\n      <th>11</th>\n      <th>12</th>\n      <th>13</th>\n      <th>14</th>\n      <th>15</th>\n      <th>16</th>\n      <th>17</th>\n    </tr>\n  </thead>\n  <tbody>\n    <tr>\n      <th>0</th>\n      <td>161528</td>\n      <td>6</td>\n      <td>a</td>\n      <td>6</td>\n      <td>X</td>\n      <td>2</td>\n      <td>gynecology</td>\n      <td>R</td>\n      <td>F</td>\n      <td>4.0</td>\n      <td>45810</td>\n      <td>2.0</td>\n      <td>Urgent</td>\n      <td>Moderate</td>\n      <td>2</td>\n      <td>21-30</td>\n      <td>2817.0</td>\n      <td>0</td>\n    </tr>\n    <tr>\n      <th>1</th>\n      <td>159472</td>\n      <td>23</td>\n      <td>a</td>\n      <td>6</td>\n      <td>X</td>\n      <td>4</td>\n      <td>gynecology</td>\n      <td>Q</td>\n      <td>F</td>\n      <td>2.0</td>\n      <td>128565</td>\n      <td>15.0</td>\n      <td>Trauma</td>\n      <td>Moderate</td>\n      <td>4</td>\n      <td>51-60</td>\n      <td>4498.0</td>\n      <td>2</td>\n    </tr>\n    <tr>\n      <th>2</th>\n      <td>309765</td>\n      <td>2</td>\n      <td>c</td>\n      <td>5</td>\n      <td>Z</td>\n      <td>2</td>\n      <td>anesthesia</td>\n      <td>S</td>\n      <td>F</td>\n      <td>3.0</td>\n      <td>46565</td>\n      <td>5.0</td>\n      <td>Urgent</td>\n      <td>Moderate</td>\n      <td>2</td>\n      <td>71-80</td>\n      <td>4573.0</td>\n      <td>1</td>\n    </tr>\n    <tr>\n      <th>3</th>\n      <td>279614</td>\n      <td>32</td>\n      <td>f</td>\n      <td>9</td>\n      <td>Y</td>\n      <td>3</td>\n      <td>gynecology</td>\n      <td>S</td>\n      <td>B</td>\n      <td>4.0</td>\n      <td>124546</td>\n      <td>6.0</td>\n      <td>Emergency</td>\n      <td>Moderate</td>\n      <td>4</td>\n      <td>11-20</td>\n      <td>7202.0</td>\n      <td>5</td>\n    </tr>\n    <tr>\n      <th>4</th>\n      <td>147791</td>\n      <td>14</td>\n      <td>a</td>\n      <td>1</td>\n      <td>X</td>\n      <td>3</td>\n      <td>gynecology</td>\n      <td>S</td>\n      <td>E</td>\n      <td>2.0</td>\n      <td>22729</td>\n      <td>8.0</td>\n      <td>Urgent</td>\n      <td>Moderate</td>\n      <td>2</td>\n      <td>51-60</td>\n      <td>3398.0</td>\n      <td>5</td>\n    </tr>\n  </tbody>\n</table>\n</div>"
     },
     "metadata": {},
     "execution_count": 34
    }
   ],
   "source": [
    "dftrain.head()"
   ]
  },
  {
   "cell_type": "code",
   "execution_count": 35,
   "metadata": {},
   "outputs": [],
   "source": [
    "dftrain.drop(['4'], axis=1, inplace=True)"
   ]
  },
  {
   "cell_type": "code",
   "execution_count": 36,
   "metadata": {},
   "outputs": [
    {
     "output_type": "execute_result",
     "data": {
      "text/plain": [
       "        0   1  2  3  5           6  7  8    9      10    11         12  \\\n",
       "0  161528   6  a  6  2  gynecology  R  F  4.0   45810   2.0     Urgent   \n",
       "1  159472  23  a  6  4  gynecology  Q  F  2.0  128565  15.0     Trauma   \n",
       "2  309765   2  c  5  2  anesthesia  S  F  3.0   46565   5.0     Urgent   \n",
       "3  279614  32  f  9  3  gynecology  S  B  4.0  124546   6.0  Emergency   \n",
       "4  147791  14  a  1  3  gynecology  S  E  2.0   22729   8.0     Urgent   \n",
       "\n",
       "         13  14     15      16  17  \n",
       "0  Moderate   2  21-30  2817.0   0  \n",
       "1  Moderate   4  51-60  4498.0   2  \n",
       "2  Moderate   2  71-80  4573.0   1  \n",
       "3  Moderate   4  11-20  7202.0   5  \n",
       "4  Moderate   2  51-60  3398.0   5  "
      ],
      "text/html": "<div>\n<style scoped>\n    .dataframe tbody tr th:only-of-type {\n        vertical-align: middle;\n    }\n\n    .dataframe tbody tr th {\n        vertical-align: top;\n    }\n\n    .dataframe thead th {\n        text-align: right;\n    }\n</style>\n<table border=\"1\" class=\"dataframe\">\n  <thead>\n    <tr style=\"text-align: right;\">\n      <th></th>\n      <th>0</th>\n      <th>1</th>\n      <th>2</th>\n      <th>3</th>\n      <th>5</th>\n      <th>6</th>\n      <th>7</th>\n      <th>8</th>\n      <th>9</th>\n      <th>10</th>\n      <th>11</th>\n      <th>12</th>\n      <th>13</th>\n      <th>14</th>\n      <th>15</th>\n      <th>16</th>\n      <th>17</th>\n    </tr>\n  </thead>\n  <tbody>\n    <tr>\n      <th>0</th>\n      <td>161528</td>\n      <td>6</td>\n      <td>a</td>\n      <td>6</td>\n      <td>2</td>\n      <td>gynecology</td>\n      <td>R</td>\n      <td>F</td>\n      <td>4.0</td>\n      <td>45810</td>\n      <td>2.0</td>\n      <td>Urgent</td>\n      <td>Moderate</td>\n      <td>2</td>\n      <td>21-30</td>\n      <td>2817.0</td>\n      <td>0</td>\n    </tr>\n    <tr>\n      <th>1</th>\n      <td>159472</td>\n      <td>23</td>\n      <td>a</td>\n      <td>6</td>\n      <td>4</td>\n      <td>gynecology</td>\n      <td>Q</td>\n      <td>F</td>\n      <td>2.0</td>\n      <td>128565</td>\n      <td>15.0</td>\n      <td>Trauma</td>\n      <td>Moderate</td>\n      <td>4</td>\n      <td>51-60</td>\n      <td>4498.0</td>\n      <td>2</td>\n    </tr>\n    <tr>\n      <th>2</th>\n      <td>309765</td>\n      <td>2</td>\n      <td>c</td>\n      <td>5</td>\n      <td>2</td>\n      <td>anesthesia</td>\n      <td>S</td>\n      <td>F</td>\n      <td>3.0</td>\n      <td>46565</td>\n      <td>5.0</td>\n      <td>Urgent</td>\n      <td>Moderate</td>\n      <td>2</td>\n      <td>71-80</td>\n      <td>4573.0</td>\n      <td>1</td>\n    </tr>\n    <tr>\n      <th>3</th>\n      <td>279614</td>\n      <td>32</td>\n      <td>f</td>\n      <td>9</td>\n      <td>3</td>\n      <td>gynecology</td>\n      <td>S</td>\n      <td>B</td>\n      <td>4.0</td>\n      <td>124546</td>\n      <td>6.0</td>\n      <td>Emergency</td>\n      <td>Moderate</td>\n      <td>4</td>\n      <td>11-20</td>\n      <td>7202.0</td>\n      <td>5</td>\n    </tr>\n    <tr>\n      <th>4</th>\n      <td>147791</td>\n      <td>14</td>\n      <td>a</td>\n      <td>1</td>\n      <td>3</td>\n      <td>gynecology</td>\n      <td>S</td>\n      <td>E</td>\n      <td>2.0</td>\n      <td>22729</td>\n      <td>8.0</td>\n      <td>Urgent</td>\n      <td>Moderate</td>\n      <td>2</td>\n      <td>51-60</td>\n      <td>3398.0</td>\n      <td>5</td>\n    </tr>\n  </tbody>\n</table>\n</div>"
     },
     "metadata": {},
     "execution_count": 36
    }
   ],
   "source": [
    "dftrain.head()"
   ]
  },
  {
   "source": [
    "\n",
    "---\n",
    "# Columna 5 - Número de habitaciones extra disponibles en el hospital"
   ],
   "cell_type": "markdown",
   "metadata": {}
  },
  {
   "cell_type": "code",
   "execution_count": 37,
   "metadata": {},
   "outputs": [
    {
     "output_type": "execute_result",
     "data": {
      "text/plain": [
       "16"
      ]
     },
     "metadata": {},
     "execution_count": 37
    }
   ],
   "source": [
    "dftrain.loc[:,'5'].nunique()"
   ]
  },
  {
   "cell_type": "code",
   "execution_count": 38,
   "metadata": {},
   "outputs": [
    {
     "output_type": "execute_result",
     "data": {
      "text/plain": [
       "array([ 2,  4,  3,  5,  6,  7,  1,  8, 10,  9,  0, 11, 14, 21, 12, 24],\n",
       "      dtype=int64)"
      ]
     },
     "metadata": {},
     "execution_count": 38
    }
   ],
   "source": [
    "dftrain.loc[:,'5'].unique()"
   ]
  },
  {
   "source": [
    "## Columna 5 --> Se dejará tal cual está, ya que una mayor disponibilidad de habitaciones podría permitir un mayor tiempo de estadía de los pacientes.\n",
    "---\n",
    "# Columna 6 - Departamento encargado del caso"
   ],
   "cell_type": "markdown",
   "metadata": {}
  },
  {
   "cell_type": "code",
   "execution_count": 39,
   "metadata": {},
   "outputs": [
    {
     "output_type": "execute_result",
     "data": {
      "text/plain": [
       "5"
      ]
     },
     "metadata": {},
     "execution_count": 39
    }
   ],
   "source": [
    "dftrain.loc[:,'6'].nunique()"
   ]
  },
  {
   "cell_type": "code",
   "execution_count": 40,
   "metadata": {},
   "outputs": [
    {
     "output_type": "execute_result",
     "data": {
      "text/plain": [
       "array(['gynecology', 'anesthesia', 'radiotherapy', 'TB & Chest disease',\n",
       "       'surgery'], dtype=object)"
      ]
     },
     "metadata": {},
     "execution_count": 40
    }
   ],
   "source": [
    "dftrain.loc[:,'6'].unique()"
   ]
  },
  {
   "source": [
    "## Una vez hecho el LabelEncoder para nuestro TARGET, se evalúa la media de estadía de cada persona dependiendo del departamento que lleva adelante el caso."
   ],
   "cell_type": "markdown",
   "metadata": {}
  },
  {
   "cell_type": "code",
   "execution_count": 41,
   "metadata": {},
   "outputs": [
    {
     "output_type": "execute_result",
     "data": {
      "text/plain": [
       "2.7146796369346253"
      ]
     },
     "metadata": {},
     "execution_count": 41
    }
   ],
   "source": [
    "dftrain[dftrain['6'] == 'gynecology'].mean()[-1]"
   ]
  },
  {
   "cell_type": "code",
   "execution_count": 42,
   "metadata": {},
   "outputs": [
    {
     "output_type": "execute_result",
     "data": {
      "text/plain": [
       "2.524724681494278"
      ]
     },
     "metadata": {},
     "execution_count": 42
    }
   ],
   "source": [
    "dftrain[dftrain['6'] == 'anesthesia'].mean()[-1]"
   ]
  },
  {
   "cell_type": "code",
   "execution_count": 43,
   "metadata": {},
   "outputs": [
    {
     "output_type": "execute_result",
     "data": {
      "text/plain": [
       "2.8346615781793694"
      ]
     },
     "metadata": {},
     "execution_count": 43
    }
   ],
   "source": [
    "dftrain[dftrain['6'] == 'radiotherapy'].mean()[-1]"
   ]
  },
  {
   "cell_type": "code",
   "execution_count": 44,
   "metadata": {},
   "outputs": [
    {
     "output_type": "execute_result",
     "data": {
      "text/plain": [
       "2.5706924315619966"
      ]
     },
     "metadata": {},
     "execution_count": 44
    }
   ],
   "source": [
    "dftrain[dftrain['6'] == 'TB & Chest disease'].mean()[-1]"
   ]
  },
  {
   "cell_type": "code",
   "execution_count": 45,
   "metadata": {},
   "outputs": [
    {
     "output_type": "execute_result",
     "data": {
      "text/plain": [
       "3.296675191815857"
      ]
     },
     "metadata": {},
     "execution_count": 45
    }
   ],
   "source": [
    "dftrain[dftrain['6'] == 'surgery'].mean()[-1]"
   ]
  },
  {
   "source": [
    "## Columna 6 --> Todos tienen valores de media similares, por lo que se decide realizarle One Hot Encoding"
   ],
   "cell_type": "markdown",
   "metadata": {}
  },
  {
   "cell_type": "code",
   "execution_count": 46,
   "metadata": {},
   "outputs": [
    {
     "output_type": "execute_result",
     "data": {
      "text/plain": [
       "       DEP6_TB & Chest disease  DEP6_anesthesia  DEP6_gynecology  \\\n",
       "0                            0                0                1   \n",
       "1                            0                0                1   \n",
       "2                            0                1                0   \n",
       "3                            0                0                1   \n",
       "4                            0                0                1   \n",
       "...                        ...              ...              ...   \n",
       "99995                        0                0                1   \n",
       "99996                        0                0                1   \n",
       "99997                        0                0                1   \n",
       "99998                        0                0                1   \n",
       "99999                        0                0                1   \n",
       "\n",
       "       DEP6_radiotherapy  DEP6_surgery  \n",
       "0                      0             0  \n",
       "1                      0             0  \n",
       "2                      0             0  \n",
       "3                      0             0  \n",
       "4                      0             0  \n",
       "...                  ...           ...  \n",
       "99995                  0             0  \n",
       "99996                  0             0  \n",
       "99997                  0             0  \n",
       "99998                  0             0  \n",
       "99999                  0             0  \n",
       "\n",
       "[100000 rows x 5 columns]"
      ],
      "text/html": "<div>\n<style scoped>\n    .dataframe tbody tr th:only-of-type {\n        vertical-align: middle;\n    }\n\n    .dataframe tbody tr th {\n        vertical-align: top;\n    }\n\n    .dataframe thead th {\n        text-align: right;\n    }\n</style>\n<table border=\"1\" class=\"dataframe\">\n  <thead>\n    <tr style=\"text-align: right;\">\n      <th></th>\n      <th>DEP6_TB &amp; Chest disease</th>\n      <th>DEP6_anesthesia</th>\n      <th>DEP6_gynecology</th>\n      <th>DEP6_radiotherapy</th>\n      <th>DEP6_surgery</th>\n    </tr>\n  </thead>\n  <tbody>\n    <tr>\n      <th>0</th>\n      <td>0</td>\n      <td>0</td>\n      <td>1</td>\n      <td>0</td>\n      <td>0</td>\n    </tr>\n    <tr>\n      <th>1</th>\n      <td>0</td>\n      <td>0</td>\n      <td>1</td>\n      <td>0</td>\n      <td>0</td>\n    </tr>\n    <tr>\n      <th>2</th>\n      <td>0</td>\n      <td>1</td>\n      <td>0</td>\n      <td>0</td>\n      <td>0</td>\n    </tr>\n    <tr>\n      <th>3</th>\n      <td>0</td>\n      <td>0</td>\n      <td>1</td>\n      <td>0</td>\n      <td>0</td>\n    </tr>\n    <tr>\n      <th>4</th>\n      <td>0</td>\n      <td>0</td>\n      <td>1</td>\n      <td>0</td>\n      <td>0</td>\n    </tr>\n    <tr>\n      <th>...</th>\n      <td>...</td>\n      <td>...</td>\n      <td>...</td>\n      <td>...</td>\n      <td>...</td>\n    </tr>\n    <tr>\n      <th>99995</th>\n      <td>0</td>\n      <td>0</td>\n      <td>1</td>\n      <td>0</td>\n      <td>0</td>\n    </tr>\n    <tr>\n      <th>99996</th>\n      <td>0</td>\n      <td>0</td>\n      <td>1</td>\n      <td>0</td>\n      <td>0</td>\n    </tr>\n    <tr>\n      <th>99997</th>\n      <td>0</td>\n      <td>0</td>\n      <td>1</td>\n      <td>0</td>\n      <td>0</td>\n    </tr>\n    <tr>\n      <th>99998</th>\n      <td>0</td>\n      <td>0</td>\n      <td>1</td>\n      <td>0</td>\n      <td>0</td>\n    </tr>\n    <tr>\n      <th>99999</th>\n      <td>0</td>\n      <td>0</td>\n      <td>1</td>\n      <td>0</td>\n      <td>0</td>\n    </tr>\n  </tbody>\n</table>\n<p>100000 rows × 5 columns</p>\n</div>"
     },
     "metadata": {},
     "execution_count": 46
    }
   ],
   "source": [
    "dummies_DEP6 = pd.get_dummies(dftrain.loc[:,'6'], prefix='DEP6')\n",
    "dummies_DEP6"
   ]
  },
  {
   "source": [
    "\n",
    "---\n",
    "# Columna 7 - Código del tipo de sala"
   ],
   "cell_type": "markdown",
   "metadata": {}
  },
  {
   "cell_type": "code",
   "execution_count": 47,
   "metadata": {},
   "outputs": [
    {
     "output_type": "execute_result",
     "data": {
      "text/plain": [
       "6"
      ]
     },
     "metadata": {},
     "execution_count": 47
    }
   ],
   "source": [
    "dftrain.loc[:,'7'].nunique()"
   ]
  },
  {
   "cell_type": "code",
   "execution_count": 48,
   "metadata": {},
   "outputs": [
    {
     "output_type": "execute_result",
     "data": {
      "text/plain": [
       "array(['R', 'Q', 'S', 'P', 'T', 'U'], dtype=object)"
      ]
     },
     "metadata": {},
     "execution_count": 48
    }
   ],
   "source": [
    "dftrain.loc[:,'7'].unique()"
   ]
  },
  {
   "source": [
    "## Una vez hecho el LabelEncoder para nuestro TARGET, se evalúa la media de estadía de cada persona dependiendo del tipo de sala"
   ],
   "cell_type": "markdown",
   "metadata": {}
  },
  {
   "cell_type": "code",
   "execution_count": 49,
   "metadata": {},
   "outputs": [
    {
     "output_type": "execute_result",
     "data": {
      "text/plain": [
       "2.1412140575079874"
      ]
     },
     "metadata": {},
     "execution_count": 49
    }
   ],
   "source": [
    "dftrain[dftrain['7'] == 'P'].mean()[-1]"
   ]
  },
  {
   "cell_type": "code",
   "execution_count": 50,
   "metadata": {},
   "outputs": [
    {
     "output_type": "execute_result",
     "data": {
      "text/plain": [
       "2.2920630157539383"
      ]
     },
     "metadata": {},
     "execution_count": 50
    }
   ],
   "source": [
    "dftrain[dftrain['7'] == 'Q'].mean()[-1]"
   ]
  },
  {
   "cell_type": "code",
   "execution_count": 51,
   "metadata": {},
   "outputs": [
    {
     "output_type": "execute_result",
     "data": {
      "text/plain": [
       "2.647196029776675"
      ]
     },
     "metadata": {},
     "execution_count": 51
    }
   ],
   "source": [
    "dftrain[dftrain['7'] == 'R'].mean()[-1]"
   ]
  },
  {
   "cell_type": "code",
   "execution_count": 52,
   "metadata": {},
   "outputs": [
    {
     "output_type": "execute_result",
     "data": {
      "text/plain": [
       "3.402611802390046"
      ]
     },
     "metadata": {},
     "execution_count": 52
    }
   ],
   "source": [
    "dftrain[dftrain['7'] == 'S'].mean()[-1]"
   ]
  },
  {
   "cell_type": "code",
   "execution_count": 53,
   "metadata": {},
   "outputs": [
    {
     "output_type": "execute_result",
     "data": {
      "text/plain": [
       "2.807017543859649"
      ]
     },
     "metadata": {},
     "execution_count": 53
    }
   ],
   "source": [
    "dftrain[dftrain['7'] == 'T'].mean()[-1]"
   ]
  },
  {
   "cell_type": "code",
   "execution_count": 54,
   "metadata": {},
   "outputs": [
    {
     "output_type": "execute_result",
     "data": {
      "text/plain": [
       "1.6666666666666667"
      ]
     },
     "metadata": {},
     "execution_count": 54
    }
   ],
   "source": [
    "dftrain[dftrain['7'] == 'U'].mean()[-1]"
   ]
  },
  {
   "source": [
    "## Columna 7 --> Todos tienen valores de media similares, por lo que se decide realizarle One Hot Encoding"
   ],
   "cell_type": "markdown",
   "metadata": {}
  },
  {
   "cell_type": "code",
   "execution_count": 55,
   "metadata": {},
   "outputs": [
    {
     "output_type": "execute_result",
     "data": {
      "text/plain": [
       "       TS7_P  TS7_Q  TS7_R  TS7_S  TS7_T  TS7_U\n",
       "0          0      0      1      0      0      0\n",
       "1          0      1      0      0      0      0\n",
       "2          0      0      0      1      0      0\n",
       "3          0      0      0      1      0      0\n",
       "4          0      0      0      1      0      0\n",
       "...      ...    ...    ...    ...    ...    ...\n",
       "99995      0      0      1      0      0      0\n",
       "99996      0      0      1      0      0      0\n",
       "99997      0      1      0      0      0      0\n",
       "99998      0      0      0      1      0      0\n",
       "99999      0      1      0      0      0      0\n",
       "\n",
       "[100000 rows x 6 columns]"
      ],
      "text/html": "<div>\n<style scoped>\n    .dataframe tbody tr th:only-of-type {\n        vertical-align: middle;\n    }\n\n    .dataframe tbody tr th {\n        vertical-align: top;\n    }\n\n    .dataframe thead th {\n        text-align: right;\n    }\n</style>\n<table border=\"1\" class=\"dataframe\">\n  <thead>\n    <tr style=\"text-align: right;\">\n      <th></th>\n      <th>TS7_P</th>\n      <th>TS7_Q</th>\n      <th>TS7_R</th>\n      <th>TS7_S</th>\n      <th>TS7_T</th>\n      <th>TS7_U</th>\n    </tr>\n  </thead>\n  <tbody>\n    <tr>\n      <th>0</th>\n      <td>0</td>\n      <td>0</td>\n      <td>1</td>\n      <td>0</td>\n      <td>0</td>\n      <td>0</td>\n    </tr>\n    <tr>\n      <th>1</th>\n      <td>0</td>\n      <td>1</td>\n      <td>0</td>\n      <td>0</td>\n      <td>0</td>\n      <td>0</td>\n    </tr>\n    <tr>\n      <th>2</th>\n      <td>0</td>\n      <td>0</td>\n      <td>0</td>\n      <td>1</td>\n      <td>0</td>\n      <td>0</td>\n    </tr>\n    <tr>\n      <th>3</th>\n      <td>0</td>\n      <td>0</td>\n      <td>0</td>\n      <td>1</td>\n      <td>0</td>\n      <td>0</td>\n    </tr>\n    <tr>\n      <th>4</th>\n      <td>0</td>\n      <td>0</td>\n      <td>0</td>\n      <td>1</td>\n      <td>0</td>\n      <td>0</td>\n    </tr>\n    <tr>\n      <th>...</th>\n      <td>...</td>\n      <td>...</td>\n      <td>...</td>\n      <td>...</td>\n      <td>...</td>\n      <td>...</td>\n    </tr>\n    <tr>\n      <th>99995</th>\n      <td>0</td>\n      <td>0</td>\n      <td>1</td>\n      <td>0</td>\n      <td>0</td>\n      <td>0</td>\n    </tr>\n    <tr>\n      <th>99996</th>\n      <td>0</td>\n      <td>0</td>\n      <td>1</td>\n      <td>0</td>\n      <td>0</td>\n      <td>0</td>\n    </tr>\n    <tr>\n      <th>99997</th>\n      <td>0</td>\n      <td>1</td>\n      <td>0</td>\n      <td>0</td>\n      <td>0</td>\n      <td>0</td>\n    </tr>\n    <tr>\n      <th>99998</th>\n      <td>0</td>\n      <td>0</td>\n      <td>0</td>\n      <td>1</td>\n      <td>0</td>\n      <td>0</td>\n    </tr>\n    <tr>\n      <th>99999</th>\n      <td>0</td>\n      <td>1</td>\n      <td>0</td>\n      <td>0</td>\n      <td>0</td>\n      <td>0</td>\n    </tr>\n  </tbody>\n</table>\n<p>100000 rows × 6 columns</p>\n</div>"
     },
     "metadata": {},
     "execution_count": 55
    }
   ],
   "source": [
    "dummies_TS7 = pd.get_dummies(dftrain.loc[:,'7'], prefix='TS7')\n",
    "dummies_TS7"
   ]
  },
  {
   "source": [
    "\n",
    "---\n",
    "# Columna 8 - Código de las instalaciones de la sala"
   ],
   "cell_type": "markdown",
   "metadata": {}
  },
  {
   "cell_type": "code",
   "execution_count": 56,
   "metadata": {},
   "outputs": [
    {
     "output_type": "execute_result",
     "data": {
      "text/plain": [
       "6"
      ]
     },
     "metadata": {},
     "execution_count": 56
    }
   ],
   "source": [
    "dftrain.loc[:,'8'].nunique()"
   ]
  },
  {
   "cell_type": "code",
   "execution_count": 57,
   "metadata": {},
   "outputs": [
    {
     "output_type": "execute_result",
     "data": {
      "text/plain": [
       "array(['F', 'B', 'E', 'C', 'D', 'A'], dtype=object)"
      ]
     },
     "metadata": {},
     "execution_count": 57
    }
   ],
   "source": [
    "dftrain.loc[:,'8'].unique()"
   ]
  },
  {
   "source": [
    "## Una vez hecho el LabelEncoder para nuestro TARGET, se evalúa la media de estadía de cada persona dependiendo de las instalaciones de la sala"
   ],
   "cell_type": "markdown",
   "metadata": {}
  },
  {
   "cell_type": "code",
   "execution_count": 58,
   "metadata": {},
   "outputs": [
    {
     "output_type": "execute_result",
     "data": {
      "text/plain": [
       "2.7611717403790923"
      ]
     },
     "metadata": {},
     "execution_count": 58
    }
   ],
   "source": [
    "dftrain[dftrain['8'] == 'A'].mean()[-1]"
   ]
  },
  {
   "cell_type": "code",
   "execution_count": 59,
   "metadata": {},
   "outputs": [
    {
     "output_type": "execute_result",
     "data": {
      "text/plain": [
       "2.9204085388295913"
      ]
     },
     "metadata": {},
     "execution_count": 59
    }
   ],
   "source": [
    "dftrain[dftrain['8'] == 'B'].mean()[-1]"
   ]
  },
  {
   "cell_type": "code",
   "execution_count": 60,
   "metadata": {},
   "outputs": [
    {
     "output_type": "execute_result",
     "data": {
      "text/plain": [
       "2.3202544118964434"
      ]
     },
     "metadata": {},
     "execution_count": 60
    }
   ],
   "source": [
    "dftrain[dftrain['8'] == 'C'].mean()[-1]"
   ]
  },
  {
   "cell_type": "code",
   "execution_count": 61,
   "metadata": {},
   "outputs": [
    {
     "output_type": "execute_result",
     "data": {
      "text/plain": [
       "2.8727361424477103"
      ]
     },
     "metadata": {},
     "execution_count": 61
    }
   ],
   "source": [
    "dftrain[dftrain['8'] == 'D'].mean()[-1]"
   ]
  },
  {
   "cell_type": "code",
   "execution_count": 62,
   "metadata": {},
   "outputs": [
    {
     "output_type": "execute_result",
     "data": {
      "text/plain": [
       "2.5684570369082795"
      ]
     },
     "metadata": {},
     "execution_count": 62
    }
   ],
   "source": [
    "dftrain[dftrain['8'] == 'E'].mean()[-1]"
   ]
  },
  {
   "cell_type": "code",
   "execution_count": 63,
   "metadata": {},
   "outputs": [
    {
     "output_type": "execute_result",
     "data": {
      "text/plain": [
       "2.7367016794922203"
      ]
     },
     "metadata": {},
     "execution_count": 63
    }
   ],
   "source": [
    "dftrain[dftrain['8'] == 'F'].mean()[-1]"
   ]
  },
  {
   "source": [
    "## Columna 8 --> Todos tienen valores de media similares, por lo que se decide realizarle One Hot Encoding"
   ],
   "cell_type": "markdown",
   "metadata": {}
  },
  {
   "cell_type": "code",
   "execution_count": 64,
   "metadata": {},
   "outputs": [
    {
     "output_type": "execute_result",
     "data": {
      "text/plain": [
       "       IS8_A  IS8_B  IS8_C  IS8_D  IS8_E  IS8_F\n",
       "0          0      0      0      0      0      1\n",
       "1          0      0      0      0      0      1\n",
       "2          0      0      0      0      0      1\n",
       "3          0      1      0      0      0      0\n",
       "4          0      0      0      0      1      0\n",
       "...      ...    ...    ...    ...    ...    ...\n",
       "99995      0      1      0      0      0      0\n",
       "99996      0      0      0      0      0      1\n",
       "99997      0      0      0      0      0      1\n",
       "99998      0      1      0      0      0      0\n",
       "99999      0      0      0      0      1      0\n",
       "\n",
       "[100000 rows x 6 columns]"
      ],
      "text/html": "<div>\n<style scoped>\n    .dataframe tbody tr th:only-of-type {\n        vertical-align: middle;\n    }\n\n    .dataframe tbody tr th {\n        vertical-align: top;\n    }\n\n    .dataframe thead th {\n        text-align: right;\n    }\n</style>\n<table border=\"1\" class=\"dataframe\">\n  <thead>\n    <tr style=\"text-align: right;\">\n      <th></th>\n      <th>IS8_A</th>\n      <th>IS8_B</th>\n      <th>IS8_C</th>\n      <th>IS8_D</th>\n      <th>IS8_E</th>\n      <th>IS8_F</th>\n    </tr>\n  </thead>\n  <tbody>\n    <tr>\n      <th>0</th>\n      <td>0</td>\n      <td>0</td>\n      <td>0</td>\n      <td>0</td>\n      <td>0</td>\n      <td>1</td>\n    </tr>\n    <tr>\n      <th>1</th>\n      <td>0</td>\n      <td>0</td>\n      <td>0</td>\n      <td>0</td>\n      <td>0</td>\n      <td>1</td>\n    </tr>\n    <tr>\n      <th>2</th>\n      <td>0</td>\n      <td>0</td>\n      <td>0</td>\n      <td>0</td>\n      <td>0</td>\n      <td>1</td>\n    </tr>\n    <tr>\n      <th>3</th>\n      <td>0</td>\n      <td>1</td>\n      <td>0</td>\n      <td>0</td>\n      <td>0</td>\n      <td>0</td>\n    </tr>\n    <tr>\n      <th>4</th>\n      <td>0</td>\n      <td>0</td>\n      <td>0</td>\n      <td>0</td>\n      <td>1</td>\n      <td>0</td>\n    </tr>\n    <tr>\n      <th>...</th>\n      <td>...</td>\n      <td>...</td>\n      <td>...</td>\n      <td>...</td>\n      <td>...</td>\n      <td>...</td>\n    </tr>\n    <tr>\n      <th>99995</th>\n      <td>0</td>\n      <td>1</td>\n      <td>0</td>\n      <td>0</td>\n      <td>0</td>\n      <td>0</td>\n    </tr>\n    <tr>\n      <th>99996</th>\n      <td>0</td>\n      <td>0</td>\n      <td>0</td>\n      <td>0</td>\n      <td>0</td>\n      <td>1</td>\n    </tr>\n    <tr>\n      <th>99997</th>\n      <td>0</td>\n      <td>0</td>\n      <td>0</td>\n      <td>0</td>\n      <td>0</td>\n      <td>1</td>\n    </tr>\n    <tr>\n      <th>99998</th>\n      <td>0</td>\n      <td>1</td>\n      <td>0</td>\n      <td>0</td>\n      <td>0</td>\n      <td>0</td>\n    </tr>\n    <tr>\n      <th>99999</th>\n      <td>0</td>\n      <td>0</td>\n      <td>0</td>\n      <td>0</td>\n      <td>1</td>\n      <td>0</td>\n    </tr>\n  </tbody>\n</table>\n<p>100000 rows × 6 columns</p>\n</div>"
     },
     "metadata": {},
     "execution_count": 64
    }
   ],
   "source": [
    "dummies_IS8 = pd.get_dummies(dftrain.loc[:,'8'], prefix='IS8')\n",
    "dummies_IS8"
   ]
  },
  {
   "source": [
    "\n",
    "---\n",
    "# Columna 9 - Condición de la cama en la sala"
   ],
   "cell_type": "markdown",
   "metadata": {}
  },
  {
   "cell_type": "code",
   "execution_count": 65,
   "metadata": {},
   "outputs": [
    {
     "output_type": "execute_result",
     "data": {
      "text/plain": [
       "4"
      ]
     },
     "metadata": {},
     "execution_count": 65
    }
   ],
   "source": [
    "dftrain.loc[:,'9'].nunique()"
   ]
  },
  {
   "cell_type": "code",
   "execution_count": 66,
   "metadata": {},
   "outputs": [
    {
     "output_type": "execute_result",
     "data": {
      "text/plain": [
       "array([4., 2., 3., 1.])"
      ]
     },
     "metadata": {},
     "execution_count": 66
    }
   ],
   "source": [
    "dftrain.loc[:,'9'].unique()"
   ]
  },
  {
   "source": [
    "## Columna 9 --> Se dejará tal cual está, ya que un mejor estado de la cama podría derivar en un mayor tiempo de estadía de los pacientes.\n",
    "---\n",
    "# Columna 10 - Id de paciente"
   ],
   "cell_type": "markdown",
   "metadata": {}
  },
  {
   "cell_type": "code",
   "execution_count": 67,
   "metadata": {},
   "outputs": [
    {
     "output_type": "execute_result",
     "data": {
      "text/plain": [
       "59097"
      ]
     },
     "metadata": {},
     "execution_count": 67
    }
   ],
   "source": [
    "dftrain.loc[:,'10'].nunique()"
   ]
  },
  {
   "cell_type": "code",
   "execution_count": 68,
   "metadata": {},
   "outputs": [
    {
     "output_type": "execute_result",
     "data": {
      "text/plain": [
       "array([ 45810, 128565,  46565, ...,  59825,  38625, 113798], dtype=int64)"
      ]
     },
     "metadata": {},
     "execution_count": 68
    }
   ],
   "source": [
    "dftrain.loc[:,'10'].unique()"
   ]
  },
  {
   "source": [
    "## Columna 10 --> Aplicar One Hot Encoding agregaría miles de columnas al dataframe, por otro lado, dejarlo tal cual se encuentra ponderaría más a un paciente que a otro. Finalmente se decide no utilizar esta columna en el análisis."
   ],
   "cell_type": "markdown",
   "metadata": {}
  },
  {
   "cell_type": "code",
   "execution_count": 69,
   "metadata": {},
   "outputs": [
    {
     "output_type": "execute_result",
     "data": {
      "text/plain": [
       "        0   1  2  3  5           6  7  8    9      10    11         12  \\\n",
       "0  161528   6  a  6  2  gynecology  R  F  4.0   45810   2.0     Urgent   \n",
       "1  159472  23  a  6  4  gynecology  Q  F  2.0  128565  15.0     Trauma   \n",
       "2  309765   2  c  5  2  anesthesia  S  F  3.0   46565   5.0     Urgent   \n",
       "3  279614  32  f  9  3  gynecology  S  B  4.0  124546   6.0  Emergency   \n",
       "4  147791  14  a  1  3  gynecology  S  E  2.0   22729   8.0     Urgent   \n",
       "\n",
       "         13  14     15      16  17  \n",
       "0  Moderate   2  21-30  2817.0   0  \n",
       "1  Moderate   4  51-60  4498.0   2  \n",
       "2  Moderate   2  71-80  4573.0   1  \n",
       "3  Moderate   4  11-20  7202.0   5  \n",
       "4  Moderate   2  51-60  3398.0   5  "
      ],
      "text/html": "<div>\n<style scoped>\n    .dataframe tbody tr th:only-of-type {\n        vertical-align: middle;\n    }\n\n    .dataframe tbody tr th {\n        vertical-align: top;\n    }\n\n    .dataframe thead th {\n        text-align: right;\n    }\n</style>\n<table border=\"1\" class=\"dataframe\">\n  <thead>\n    <tr style=\"text-align: right;\">\n      <th></th>\n      <th>0</th>\n      <th>1</th>\n      <th>2</th>\n      <th>3</th>\n      <th>5</th>\n      <th>6</th>\n      <th>7</th>\n      <th>8</th>\n      <th>9</th>\n      <th>10</th>\n      <th>11</th>\n      <th>12</th>\n      <th>13</th>\n      <th>14</th>\n      <th>15</th>\n      <th>16</th>\n      <th>17</th>\n    </tr>\n  </thead>\n  <tbody>\n    <tr>\n      <th>0</th>\n      <td>161528</td>\n      <td>6</td>\n      <td>a</td>\n      <td>6</td>\n      <td>2</td>\n      <td>gynecology</td>\n      <td>R</td>\n      <td>F</td>\n      <td>4.0</td>\n      <td>45810</td>\n      <td>2.0</td>\n      <td>Urgent</td>\n      <td>Moderate</td>\n      <td>2</td>\n      <td>21-30</td>\n      <td>2817.0</td>\n      <td>0</td>\n    </tr>\n    <tr>\n      <th>1</th>\n      <td>159472</td>\n      <td>23</td>\n      <td>a</td>\n      <td>6</td>\n      <td>4</td>\n      <td>gynecology</td>\n      <td>Q</td>\n      <td>F</td>\n      <td>2.0</td>\n      <td>128565</td>\n      <td>15.0</td>\n      <td>Trauma</td>\n      <td>Moderate</td>\n      <td>4</td>\n      <td>51-60</td>\n      <td>4498.0</td>\n      <td>2</td>\n    </tr>\n    <tr>\n      <th>2</th>\n      <td>309765</td>\n      <td>2</td>\n      <td>c</td>\n      <td>5</td>\n      <td>2</td>\n      <td>anesthesia</td>\n      <td>S</td>\n      <td>F</td>\n      <td>3.0</td>\n      <td>46565</td>\n      <td>5.0</td>\n      <td>Urgent</td>\n      <td>Moderate</td>\n      <td>2</td>\n      <td>71-80</td>\n      <td>4573.0</td>\n      <td>1</td>\n    </tr>\n    <tr>\n      <th>3</th>\n      <td>279614</td>\n      <td>32</td>\n      <td>f</td>\n      <td>9</td>\n      <td>3</td>\n      <td>gynecology</td>\n      <td>S</td>\n      <td>B</td>\n      <td>4.0</td>\n      <td>124546</td>\n      <td>6.0</td>\n      <td>Emergency</td>\n      <td>Moderate</td>\n      <td>4</td>\n      <td>11-20</td>\n      <td>7202.0</td>\n      <td>5</td>\n    </tr>\n    <tr>\n      <th>4</th>\n      <td>147791</td>\n      <td>14</td>\n      <td>a</td>\n      <td>1</td>\n      <td>3</td>\n      <td>gynecology</td>\n      <td>S</td>\n      <td>E</td>\n      <td>2.0</td>\n      <td>22729</td>\n      <td>8.0</td>\n      <td>Urgent</td>\n      <td>Moderate</td>\n      <td>2</td>\n      <td>51-60</td>\n      <td>3398.0</td>\n      <td>5</td>\n    </tr>\n  </tbody>\n</table>\n</div>"
     },
     "metadata": {},
     "execution_count": 69
    }
   ],
   "source": [
    "dftrain.head()"
   ]
  },
  {
   "cell_type": "code",
   "execution_count": 70,
   "metadata": {},
   "outputs": [],
   "source": [
    "dftrain.drop(['10'], axis=1, inplace=True)"
   ]
  },
  {
   "cell_type": "code",
   "execution_count": 71,
   "metadata": {},
   "outputs": [
    {
     "output_type": "execute_result",
     "data": {
      "text/plain": [
       "        0   1  2  3  5           6  7  8    9    11         12        13  14  \\\n",
       "0  161528   6  a  6  2  gynecology  R  F  4.0   2.0     Urgent  Moderate   2   \n",
       "1  159472  23  a  6  4  gynecology  Q  F  2.0  15.0     Trauma  Moderate   4   \n",
       "2  309765   2  c  5  2  anesthesia  S  F  3.0   5.0     Urgent  Moderate   2   \n",
       "3  279614  32  f  9  3  gynecology  S  B  4.0   6.0  Emergency  Moderate   4   \n",
       "4  147791  14  a  1  3  gynecology  S  E  2.0   8.0     Urgent  Moderate   2   \n",
       "\n",
       "      15      16  17  \n",
       "0  21-30  2817.0   0  \n",
       "1  51-60  4498.0   2  \n",
       "2  71-80  4573.0   1  \n",
       "3  11-20  7202.0   5  \n",
       "4  51-60  3398.0   5  "
      ],
      "text/html": "<div>\n<style scoped>\n    .dataframe tbody tr th:only-of-type {\n        vertical-align: middle;\n    }\n\n    .dataframe tbody tr th {\n        vertical-align: top;\n    }\n\n    .dataframe thead th {\n        text-align: right;\n    }\n</style>\n<table border=\"1\" class=\"dataframe\">\n  <thead>\n    <tr style=\"text-align: right;\">\n      <th></th>\n      <th>0</th>\n      <th>1</th>\n      <th>2</th>\n      <th>3</th>\n      <th>5</th>\n      <th>6</th>\n      <th>7</th>\n      <th>8</th>\n      <th>9</th>\n      <th>11</th>\n      <th>12</th>\n      <th>13</th>\n      <th>14</th>\n      <th>15</th>\n      <th>16</th>\n      <th>17</th>\n    </tr>\n  </thead>\n  <tbody>\n    <tr>\n      <th>0</th>\n      <td>161528</td>\n      <td>6</td>\n      <td>a</td>\n      <td>6</td>\n      <td>2</td>\n      <td>gynecology</td>\n      <td>R</td>\n      <td>F</td>\n      <td>4.0</td>\n      <td>2.0</td>\n      <td>Urgent</td>\n      <td>Moderate</td>\n      <td>2</td>\n      <td>21-30</td>\n      <td>2817.0</td>\n      <td>0</td>\n    </tr>\n    <tr>\n      <th>1</th>\n      <td>159472</td>\n      <td>23</td>\n      <td>a</td>\n      <td>6</td>\n      <td>4</td>\n      <td>gynecology</td>\n      <td>Q</td>\n      <td>F</td>\n      <td>2.0</td>\n      <td>15.0</td>\n      <td>Trauma</td>\n      <td>Moderate</td>\n      <td>4</td>\n      <td>51-60</td>\n      <td>4498.0</td>\n      <td>2</td>\n    </tr>\n    <tr>\n      <th>2</th>\n      <td>309765</td>\n      <td>2</td>\n      <td>c</td>\n      <td>5</td>\n      <td>2</td>\n      <td>anesthesia</td>\n      <td>S</td>\n      <td>F</td>\n      <td>3.0</td>\n      <td>5.0</td>\n      <td>Urgent</td>\n      <td>Moderate</td>\n      <td>2</td>\n      <td>71-80</td>\n      <td>4573.0</td>\n      <td>1</td>\n    </tr>\n    <tr>\n      <th>3</th>\n      <td>279614</td>\n      <td>32</td>\n      <td>f</td>\n      <td>9</td>\n      <td>3</td>\n      <td>gynecology</td>\n      <td>S</td>\n      <td>B</td>\n      <td>4.0</td>\n      <td>6.0</td>\n      <td>Emergency</td>\n      <td>Moderate</td>\n      <td>4</td>\n      <td>11-20</td>\n      <td>7202.0</td>\n      <td>5</td>\n    </tr>\n    <tr>\n      <th>4</th>\n      <td>147791</td>\n      <td>14</td>\n      <td>a</td>\n      <td>1</td>\n      <td>3</td>\n      <td>gynecology</td>\n      <td>S</td>\n      <td>E</td>\n      <td>2.0</td>\n      <td>8.0</td>\n      <td>Urgent</td>\n      <td>Moderate</td>\n      <td>2</td>\n      <td>51-60</td>\n      <td>3398.0</td>\n      <td>5</td>\n    </tr>\n  </tbody>\n</table>\n</div>"
     },
     "metadata": {},
     "execution_count": 71
    }
   ],
   "source": [
    "dftrain.head()"
   ]
  },
  {
   "source": [
    "\n",
    "---\n",
    "# Columna 11 - Código de ciudad del paciente"
   ],
   "cell_type": "markdown",
   "metadata": {}
  },
  {
   "cell_type": "code",
   "execution_count": 72,
   "metadata": {},
   "outputs": [
    {
     "output_type": "execute_result",
     "data": {
      "text/plain": [
       "37"
      ]
     },
     "metadata": {},
     "execution_count": 72
    }
   ],
   "source": [
    "dftrain.loc[:,'11'].nunique()"
   ]
  },
  {
   "cell_type": "code",
   "execution_count": 73,
   "metadata": {},
   "outputs": [
    {
     "output_type": "execute_result",
     "data": {
      "text/plain": [
       "array([ 2., 15.,  5.,  6.,  8.,  7.,  4.,  1.,  9., nan, 23., 31., 12.,\n",
       "       22.,  3., 30., 16., 10., 32., 27., 20., 14., 13., 21., 26., 19.,\n",
       "       18., 28., 24., 25., 11., 34., 35., 37., 33., 29., 36., 38.])"
      ]
     },
     "metadata": {},
     "execution_count": 73
    }
   ],
   "source": [
    "dftrain.loc[:,'11'].unique()"
   ]
  },
  {
   "source": [
    "## Columna 11 --> No será utilizada en el modelo."
   ],
   "cell_type": "markdown",
   "metadata": {}
  },
  {
   "cell_type": "code",
   "execution_count": 74,
   "metadata": {},
   "outputs": [],
   "source": [
    "dftrain.drop(['11'], axis=1, inplace=True)"
   ]
  },
  {
   "cell_type": "code",
   "execution_count": 75,
   "metadata": {},
   "outputs": [
    {
     "output_type": "execute_result",
     "data": {
      "text/plain": [
       "        0   1  2  3  5           6  7  8    9         12        13  14     15  \\\n",
       "0  161528   6  a  6  2  gynecology  R  F  4.0     Urgent  Moderate   2  21-30   \n",
       "1  159472  23  a  6  4  gynecology  Q  F  2.0     Trauma  Moderate   4  51-60   \n",
       "2  309765   2  c  5  2  anesthesia  S  F  3.0     Urgent  Moderate   2  71-80   \n",
       "3  279614  32  f  9  3  gynecology  S  B  4.0  Emergency  Moderate   4  11-20   \n",
       "4  147791  14  a  1  3  gynecology  S  E  2.0     Urgent  Moderate   2  51-60   \n",
       "\n",
       "       16  17  \n",
       "0  2817.0   0  \n",
       "1  4498.0   2  \n",
       "2  4573.0   1  \n",
       "3  7202.0   5  \n",
       "4  3398.0   5  "
      ],
      "text/html": "<div>\n<style scoped>\n    .dataframe tbody tr th:only-of-type {\n        vertical-align: middle;\n    }\n\n    .dataframe tbody tr th {\n        vertical-align: top;\n    }\n\n    .dataframe thead th {\n        text-align: right;\n    }\n</style>\n<table border=\"1\" class=\"dataframe\">\n  <thead>\n    <tr style=\"text-align: right;\">\n      <th></th>\n      <th>0</th>\n      <th>1</th>\n      <th>2</th>\n      <th>3</th>\n      <th>5</th>\n      <th>6</th>\n      <th>7</th>\n      <th>8</th>\n      <th>9</th>\n      <th>12</th>\n      <th>13</th>\n      <th>14</th>\n      <th>15</th>\n      <th>16</th>\n      <th>17</th>\n    </tr>\n  </thead>\n  <tbody>\n    <tr>\n      <th>0</th>\n      <td>161528</td>\n      <td>6</td>\n      <td>a</td>\n      <td>6</td>\n      <td>2</td>\n      <td>gynecology</td>\n      <td>R</td>\n      <td>F</td>\n      <td>4.0</td>\n      <td>Urgent</td>\n      <td>Moderate</td>\n      <td>2</td>\n      <td>21-30</td>\n      <td>2817.0</td>\n      <td>0</td>\n    </tr>\n    <tr>\n      <th>1</th>\n      <td>159472</td>\n      <td>23</td>\n      <td>a</td>\n      <td>6</td>\n      <td>4</td>\n      <td>gynecology</td>\n      <td>Q</td>\n      <td>F</td>\n      <td>2.0</td>\n      <td>Trauma</td>\n      <td>Moderate</td>\n      <td>4</td>\n      <td>51-60</td>\n      <td>4498.0</td>\n      <td>2</td>\n    </tr>\n    <tr>\n      <th>2</th>\n      <td>309765</td>\n      <td>2</td>\n      <td>c</td>\n      <td>5</td>\n      <td>2</td>\n      <td>anesthesia</td>\n      <td>S</td>\n      <td>F</td>\n      <td>3.0</td>\n      <td>Urgent</td>\n      <td>Moderate</td>\n      <td>2</td>\n      <td>71-80</td>\n      <td>4573.0</td>\n      <td>1</td>\n    </tr>\n    <tr>\n      <th>3</th>\n      <td>279614</td>\n      <td>32</td>\n      <td>f</td>\n      <td>9</td>\n      <td>3</td>\n      <td>gynecology</td>\n      <td>S</td>\n      <td>B</td>\n      <td>4.0</td>\n      <td>Emergency</td>\n      <td>Moderate</td>\n      <td>4</td>\n      <td>11-20</td>\n      <td>7202.0</td>\n      <td>5</td>\n    </tr>\n    <tr>\n      <th>4</th>\n      <td>147791</td>\n      <td>14</td>\n      <td>a</td>\n      <td>1</td>\n      <td>3</td>\n      <td>gynecology</td>\n      <td>S</td>\n      <td>E</td>\n      <td>2.0</td>\n      <td>Urgent</td>\n      <td>Moderate</td>\n      <td>2</td>\n      <td>51-60</td>\n      <td>3398.0</td>\n      <td>5</td>\n    </tr>\n  </tbody>\n</table>\n</div>"
     },
     "metadata": {},
     "execution_count": 75
    }
   ],
   "source": [
    "dftrain.head()"
   ]
  },
  {
   "source": [
    "\n",
    "---\n",
    "# Columna 12 - Tipo de admisión registrada en el hospital"
   ],
   "cell_type": "markdown",
   "metadata": {}
  },
  {
   "cell_type": "code",
   "execution_count": 76,
   "metadata": {},
   "outputs": [
    {
     "output_type": "execute_result",
     "data": {
      "text/plain": [
       "3"
      ]
     },
     "metadata": {},
     "execution_count": 76
    }
   ],
   "source": [
    "dftrain.loc[:,'12'].nunique()"
   ]
  },
  {
   "cell_type": "code",
   "execution_count": 77,
   "metadata": {},
   "outputs": [
    {
     "output_type": "execute_result",
     "data": {
      "text/plain": [
       "array(['Urgent', 'Trauma', 'Emergency'], dtype=object)"
      ]
     },
     "metadata": {},
     "execution_count": 77
    }
   ],
   "source": [
    "dftrain.loc[:,'12'].unique()"
   ]
  },
  {
   "source": [
    "## Una vez hecho el LabelEncoder para nuestro TARGET, se evalúa la media de estadía de cada persona dependiendo del tipo de admisión con el que fue registrada en el hospital"
   ],
   "cell_type": "markdown",
   "metadata": {}
  },
  {
   "cell_type": "code",
   "execution_count": 78,
   "metadata": {},
   "outputs": [
    {
     "output_type": "execute_result",
     "data": {
      "text/plain": [
       "2.499275171323142"
      ]
     },
     "metadata": {},
     "execution_count": 78
    }
   ],
   "source": [
    "dftrain[dftrain['12'] == 'Urgent'].mean()[-1]"
   ]
  },
  {
   "cell_type": "code",
   "execution_count": 79,
   "metadata": {},
   "outputs": [
    {
     "output_type": "execute_result",
     "data": {
      "text/plain": [
       "2.9102173044155077"
      ]
     },
     "metadata": {},
     "execution_count": 79
    }
   ],
   "source": [
    "dftrain[dftrain['12'] == 'Trauma'].mean()[-1]"
   ]
  },
  {
   "cell_type": "code",
   "execution_count": 80,
   "metadata": {},
   "outputs": [
    {
     "output_type": "execute_result",
     "data": {
      "text/plain": [
       "2.5286560999812266"
      ]
     },
     "metadata": {},
     "execution_count": 80
    }
   ],
   "source": [
    "dftrain[dftrain['12'] == 'Emergency'].mean()[-1]"
   ]
  },
  {
   "source": [
    "## Columna 12 --> Todos tienen valores de media similares, por lo que se decide realizarle One Hot Encoding"
   ],
   "cell_type": "markdown",
   "metadata": {}
  },
  {
   "cell_type": "code",
   "execution_count": 81,
   "metadata": {},
   "outputs": [
    {
     "output_type": "execute_result",
     "data": {
      "text/plain": [
       "       TA12_Emergency  TA12_Trauma  TA12_Urgent\n",
       "0                   0            0            1\n",
       "1                   0            1            0\n",
       "2                   0            0            1\n",
       "3                   1            0            0\n",
       "4                   0            0            1\n",
       "...               ...          ...          ...\n",
       "99995               1            0            0\n",
       "99996               0            0            1\n",
       "99997               0            1            0\n",
       "99998               0            1            0\n",
       "99999               1            0            0\n",
       "\n",
       "[100000 rows x 3 columns]"
      ],
      "text/html": "<div>\n<style scoped>\n    .dataframe tbody tr th:only-of-type {\n        vertical-align: middle;\n    }\n\n    .dataframe tbody tr th {\n        vertical-align: top;\n    }\n\n    .dataframe thead th {\n        text-align: right;\n    }\n</style>\n<table border=\"1\" class=\"dataframe\">\n  <thead>\n    <tr style=\"text-align: right;\">\n      <th></th>\n      <th>TA12_Emergency</th>\n      <th>TA12_Trauma</th>\n      <th>TA12_Urgent</th>\n    </tr>\n  </thead>\n  <tbody>\n    <tr>\n      <th>0</th>\n      <td>0</td>\n      <td>0</td>\n      <td>1</td>\n    </tr>\n    <tr>\n      <th>1</th>\n      <td>0</td>\n      <td>1</td>\n      <td>0</td>\n    </tr>\n    <tr>\n      <th>2</th>\n      <td>0</td>\n      <td>0</td>\n      <td>1</td>\n    </tr>\n    <tr>\n      <th>3</th>\n      <td>1</td>\n      <td>0</td>\n      <td>0</td>\n    </tr>\n    <tr>\n      <th>4</th>\n      <td>0</td>\n      <td>0</td>\n      <td>1</td>\n    </tr>\n    <tr>\n      <th>...</th>\n      <td>...</td>\n      <td>...</td>\n      <td>...</td>\n    </tr>\n    <tr>\n      <th>99995</th>\n      <td>1</td>\n      <td>0</td>\n      <td>0</td>\n    </tr>\n    <tr>\n      <th>99996</th>\n      <td>0</td>\n      <td>0</td>\n      <td>1</td>\n    </tr>\n    <tr>\n      <th>99997</th>\n      <td>0</td>\n      <td>1</td>\n      <td>0</td>\n    </tr>\n    <tr>\n      <th>99998</th>\n      <td>0</td>\n      <td>1</td>\n      <td>0</td>\n    </tr>\n    <tr>\n      <th>99999</th>\n      <td>1</td>\n      <td>0</td>\n      <td>0</td>\n    </tr>\n  </tbody>\n</table>\n<p>100000 rows × 3 columns</p>\n</div>"
     },
     "metadata": {},
     "execution_count": 81
    }
   ],
   "source": [
    "dummies_TA12 = pd.get_dummies(dftrain.loc[:,'12'], prefix='TA12')\n",
    "dummies_TA12"
   ]
  },
  {
   "source": [
    "\n",
    "---\n",
    "# Columna 13 - Severidad de la enfermedad registrado al ingreso al hospital"
   ],
   "cell_type": "markdown",
   "metadata": {}
  },
  {
   "cell_type": "code",
   "execution_count": 82,
   "metadata": {},
   "outputs": [
    {
     "output_type": "execute_result",
     "data": {
      "text/plain": [
       "3"
      ]
     },
     "metadata": {},
     "execution_count": 82
    }
   ],
   "source": [
    "dftrain.loc[:,'13'].nunique()"
   ]
  },
  {
   "cell_type": "code",
   "execution_count": 83,
   "metadata": {},
   "outputs": [
    {
     "output_type": "execute_result",
     "data": {
      "text/plain": [
       "array(['Moderate', 'Extreme', 'Minor'], dtype=object)"
      ]
     },
     "metadata": {},
     "execution_count": 83
    }
   ],
   "source": [
    "dftrain.loc[:,'13'].unique()"
   ]
  },
  {
   "source": [
    "## Se realiza ENCODING PERSONALIZADO para ponderar las categorías correctamente"
   ],
   "cell_type": "markdown",
   "metadata": {}
  },
  {
   "cell_type": "code",
   "execution_count": 84,
   "metadata": {},
   "outputs": [],
   "source": [
    "condicion = [(dftrain.loc[:,'13'] == 'Minor'), \n",
    "    (dftrain.loc[:,'13'] == 'Moderate'),\n",
    "    (dftrain.loc[:,'13'] == 'Extreme')]\n",
    "encoding = [1, 2, 3]\n",
    "dftrain.loc[:,'13'] = np.select(condicion, encoding)"
   ]
  },
  {
   "cell_type": "code",
   "execution_count": 85,
   "metadata": {},
   "outputs": [
    {
     "output_type": "execute_result",
     "data": {
      "text/plain": [
       "        0   1  2  3  5           6  7  8    9         12  13  14     15  \\\n",
       "0  161528   6  a  6  2  gynecology  R  F  4.0     Urgent   2   2  21-30   \n",
       "1  159472  23  a  6  4  gynecology  Q  F  2.0     Trauma   2   4  51-60   \n",
       "2  309765   2  c  5  2  anesthesia  S  F  3.0     Urgent   2   2  71-80   \n",
       "3  279614  32  f  9  3  gynecology  S  B  4.0  Emergency   2   4  11-20   \n",
       "4  147791  14  a  1  3  gynecology  S  E  2.0     Urgent   2   2  51-60   \n",
       "\n",
       "       16  17  \n",
       "0  2817.0   0  \n",
       "1  4498.0   2  \n",
       "2  4573.0   1  \n",
       "3  7202.0   5  \n",
       "4  3398.0   5  "
      ],
      "text/html": "<div>\n<style scoped>\n    .dataframe tbody tr th:only-of-type {\n        vertical-align: middle;\n    }\n\n    .dataframe tbody tr th {\n        vertical-align: top;\n    }\n\n    .dataframe thead th {\n        text-align: right;\n    }\n</style>\n<table border=\"1\" class=\"dataframe\">\n  <thead>\n    <tr style=\"text-align: right;\">\n      <th></th>\n      <th>0</th>\n      <th>1</th>\n      <th>2</th>\n      <th>3</th>\n      <th>5</th>\n      <th>6</th>\n      <th>7</th>\n      <th>8</th>\n      <th>9</th>\n      <th>12</th>\n      <th>13</th>\n      <th>14</th>\n      <th>15</th>\n      <th>16</th>\n      <th>17</th>\n    </tr>\n  </thead>\n  <tbody>\n    <tr>\n      <th>0</th>\n      <td>161528</td>\n      <td>6</td>\n      <td>a</td>\n      <td>6</td>\n      <td>2</td>\n      <td>gynecology</td>\n      <td>R</td>\n      <td>F</td>\n      <td>4.0</td>\n      <td>Urgent</td>\n      <td>2</td>\n      <td>2</td>\n      <td>21-30</td>\n      <td>2817.0</td>\n      <td>0</td>\n    </tr>\n    <tr>\n      <th>1</th>\n      <td>159472</td>\n      <td>23</td>\n      <td>a</td>\n      <td>6</td>\n      <td>4</td>\n      <td>gynecology</td>\n      <td>Q</td>\n      <td>F</td>\n      <td>2.0</td>\n      <td>Trauma</td>\n      <td>2</td>\n      <td>4</td>\n      <td>51-60</td>\n      <td>4498.0</td>\n      <td>2</td>\n    </tr>\n    <tr>\n      <th>2</th>\n      <td>309765</td>\n      <td>2</td>\n      <td>c</td>\n      <td>5</td>\n      <td>2</td>\n      <td>anesthesia</td>\n      <td>S</td>\n      <td>F</td>\n      <td>3.0</td>\n      <td>Urgent</td>\n      <td>2</td>\n      <td>2</td>\n      <td>71-80</td>\n      <td>4573.0</td>\n      <td>1</td>\n    </tr>\n    <tr>\n      <th>3</th>\n      <td>279614</td>\n      <td>32</td>\n      <td>f</td>\n      <td>9</td>\n      <td>3</td>\n      <td>gynecology</td>\n      <td>S</td>\n      <td>B</td>\n      <td>4.0</td>\n      <td>Emergency</td>\n      <td>2</td>\n      <td>4</td>\n      <td>11-20</td>\n      <td>7202.0</td>\n      <td>5</td>\n    </tr>\n    <tr>\n      <th>4</th>\n      <td>147791</td>\n      <td>14</td>\n      <td>a</td>\n      <td>1</td>\n      <td>3</td>\n      <td>gynecology</td>\n      <td>S</td>\n      <td>E</td>\n      <td>2.0</td>\n      <td>Urgent</td>\n      <td>2</td>\n      <td>2</td>\n      <td>51-60</td>\n      <td>3398.0</td>\n      <td>5</td>\n    </tr>\n  </tbody>\n</table>\n</div>"
     },
     "metadata": {},
     "execution_count": 85
    }
   ],
   "source": [
    "dftrain.head()"
   ]
  },
  {
   "source": [
    "## Columna 13 --> Se le realizó ENCODING personalizado para ponderar categorías\n",
    "---\n",
    "# Columna 14 - Número de visitantes con el paciente"
   ],
   "cell_type": "markdown",
   "metadata": {}
  },
  {
   "cell_type": "code",
   "execution_count": 86,
   "metadata": {},
   "outputs": [
    {
     "output_type": "execute_result",
     "data": {
      "text/plain": [
       "28"
      ]
     },
     "metadata": {},
     "execution_count": 86
    }
   ],
   "source": [
    "dftrain.loc[:,'14'].nunique()"
   ]
  },
  {
   "cell_type": "code",
   "execution_count": 87,
   "metadata": {},
   "outputs": [
    {
     "output_type": "execute_result",
     "data": {
      "text/plain": [
       "array([ 2,  4,  6,  3,  8,  5,  7, 12, 10,  9, 15, 20,  1, 13, 11, 16, 14,\n",
       "       30, 21, 24,  0, 18, 17, 22, 25, 19, 23, 32], dtype=int64)"
      ]
     },
     "metadata": {},
     "execution_count": 87
    }
   ],
   "source": [
    "dftrain.loc[:,'14'].unique()"
   ]
  },
  {
   "cell_type": "code",
   "execution_count": 88,
   "metadata": {},
   "outputs": [
    {
     "output_type": "stream",
     "name": "stdout",
     "text": [
      "Número visitantes: 0 -->  1.7777777777777777\n",
      "Número visitantes: 1 -->  1.5041322314049588\n",
      "Número visitantes: 2 -->  1.9281734886504904\n",
      "Número visitantes: 3 -->  2.14228780697975\n",
      "Número visitantes: 4 -->  3.097172859450727\n",
      "Número visitantes: 5 -->  4.446875\n",
      "Número visitantes: 6 -->  4.981848739495798\n",
      "Número visitantes: 7 -->  5.767287234042553\n",
      "Número visitantes: 8 -->  6.1228175797712225\n",
      "Número visitantes: 9 -->  6.826603325415677\n",
      "Número visitantes: 10 -->  7.941747572815534\n",
      "Número visitantes: 11 -->  7.892857142857143\n",
      "Número visitantes: 12 -->  7.955271565495208\n",
      "Número visitantes: 13 -->  8.55\n",
      "Número visitantes: 14 -->  9.0\n",
      "Número visitantes: 15 -->  8.868852459016393\n",
      "Número visitantes: 16 -->  8.98876404494382\n",
      "Número visitantes: 17 -->  10.0\n",
      "Número visitantes: 18 -->  9.95\n",
      "Número visitantes: 19 -->  10.0\n",
      "Número visitantes: 20 -->  9.26923076923077\n",
      "Número visitantes: 21 -->  10.0\n",
      "Número visitantes: 22 -->  9.166666666666666\n",
      "Número visitantes: 23 -->  10.0\n",
      "Número visitantes: 24 -->  10.0\n",
      "Número visitantes: 25 -->  10.0\n",
      "Número visitantes: 30 -->  10.0\n",
      "Número visitantes: 32 -->  10.0\n"
     ]
    }
   ],
   "source": [
    "for i in np.sort(dftrain.loc[:,'14'].unique()):\n",
    "    print('Número visitantes:', i, '--> ', dftrain[dftrain['14'] == i].mean()[-1])"
   ]
  },
  {
   "source": [
    "## Columna 14 --> Tendencia de aumento de estadía en función del número de visitantes. Se deja tal cual está\n",
    "---\n",
    "# Columna 15 - Edad del paciente"
   ],
   "cell_type": "markdown",
   "metadata": {}
  },
  {
   "cell_type": "code",
   "execution_count": 89,
   "metadata": {},
   "outputs": [
    {
     "output_type": "execute_result",
     "data": {
      "text/plain": [
       "10"
      ]
     },
     "metadata": {},
     "execution_count": 89
    }
   ],
   "source": [
    "dftrain.loc[:,'15'].nunique()"
   ]
  },
  {
   "cell_type": "code",
   "execution_count": 90,
   "metadata": {},
   "outputs": [
    {
     "output_type": "execute_result",
     "data": {
      "text/plain": [
       "array(['21-30', '51-60', '71-80', '11-20', '31-40', '0-10', '61-70',\n",
       "       '41-50', '81-90', '91-100'], dtype=object)"
      ]
     },
     "metadata": {},
     "execution_count": 90
    }
   ],
   "source": [
    "dftrain.loc[:,'15'].unique()"
   ]
  },
  {
   "source": [
    "## Se le realiza LabelEncoder (se espera que, mientras mayor es el paciente, más tarde en recuperarse)"
   ],
   "cell_type": "markdown",
   "metadata": {}
  },
  {
   "cell_type": "code",
   "execution_count": 91,
   "metadata": {},
   "outputs": [],
   "source": [
    "le15 = LabelEncoder()"
   ]
  },
  {
   "cell_type": "code",
   "execution_count": 92,
   "metadata": {},
   "outputs": [
    {
     "output_type": "execute_result",
     "data": {
      "text/plain": [
       "0        2\n",
       "1        5\n",
       "2        7\n",
       "3        1\n",
       "4        5\n",
       "        ..\n",
       "99995    5\n",
       "99996    2\n",
       "99997    3\n",
       "99998    4\n",
       "99999    4\n",
       "Name: 15, Length: 100000, dtype: int32"
      ]
     },
     "metadata": {},
     "execution_count": 92
    }
   ],
   "source": [
    "dftrain.loc[:,'15'] = le15.fit_transform(dftrain.loc[:,'15'])\n",
    "dftrain.loc[:,'15']"
   ]
  },
  {
   "cell_type": "code",
   "execution_count": 93,
   "metadata": {},
   "outputs": [
    {
     "output_type": "execute_result",
     "data": {
      "text/plain": [
       "array(['0-10', '11-20', '21-30', '31-40', '41-50', '51-60', '61-70',\n",
       "       '71-80', '81-90', '91-100'], dtype=object)"
      ]
     },
     "metadata": {},
     "execution_count": 93
    }
   ],
   "source": [
    "le15.inverse_transform([0,1,2,3,4,5,6,7,8,9])"
   ]
  },
  {
   "cell_type": "code",
   "execution_count": 94,
   "metadata": {},
   "outputs": [
    {
     "output_type": "stream",
     "name": "stdout",
     "text": [
      "Label rango edad: 0 -->  2.4335410176531673\n",
      "Label rango edad: 1 -->  2.330016895062887\n",
      "Label rango edad: 2 -->  2.443112828195222\n",
      "Label rango edad: 3 -->  2.5893490533046912\n",
      "Label rango edad: 4 -->  2.729505344270445\n",
      "Label rango edad: 5 -->  2.8238778465183625\n",
      "Label rango edad: 6 -->  2.8591880945653196\n",
      "Label rango edad: 7 -->  2.9355039034776436\n",
      "Label rango edad: 8 -->  3.2868954113269946\n",
      "Label rango edad: 9 -->  3.33953488372093\n"
     ]
    }
   ],
   "source": [
    "for i in np.sort(dftrain.loc[:,'15'].unique()):\n",
    "    print('Label rango edad:', i, '--> ', dftrain[dftrain['15'] == i].mean()[-1])"
   ]
  },
  {
   "source": [
    "## Aquí se observa que la estadía media aumenta en función del rango de edad, por lo que el LabelEncoder podría considerarse correcto"
   ],
   "cell_type": "markdown",
   "metadata": {}
  },
  {
   "source": [
    "## Columna 15 --> Se realizó LabelEncoder en función del rango de edad. Se observó una estadía media en aumento en función del rango de edad\n",
    "---\n",
    "# Columna 16 - Depósito al momento de la admisión"
   ],
   "cell_type": "markdown",
   "metadata": {}
  },
  {
   "cell_type": "code",
   "execution_count": 95,
   "metadata": {},
   "outputs": [
    {
     "output_type": "execute_result",
     "data": {
      "text/plain": [
       "6355"
      ]
     },
     "metadata": {},
     "execution_count": 95
    }
   ],
   "source": [
    "dftrain.loc[:,'16'].nunique()"
   ]
  },
  {
   "cell_type": "code",
   "execution_count": 96,
   "metadata": {},
   "outputs": [
    {
     "output_type": "execute_result",
     "data": {
      "text/plain": [
       "array([2817., 4498., 4573., ..., 2721., 2370., 7373.])"
      ]
     },
     "metadata": {},
     "execution_count": 96
    }
   ],
   "source": [
    "dftrain.loc[:,'16'].unique()"
   ]
  },
  {
   "cell_type": "code",
   "execution_count": 97,
   "metadata": {},
   "outputs": [
    {
     "output_type": "stream",
     "name": "stdout",
     "text": [
      "Depósito inicial mínimo: 1800.0\n"
     ]
    }
   ],
   "source": [
    "print('Depósito inicial mínimo:', dftrain.loc[:,'16'].unique().min())"
   ]
  },
  {
   "cell_type": "code",
   "execution_count": 98,
   "metadata": {},
   "outputs": [
    {
     "output_type": "stream",
     "name": "stdout",
     "text": [
      "Depósito inicial máximo: 10842.0\n"
     ]
    }
   ],
   "source": [
    "print('Depósito inicial máximo:', dftrain.loc[:,'16'].unique().max())"
   ]
  },
  {
   "cell_type": "code",
   "execution_count": 99,
   "metadata": {},
   "outputs": [
    {
     "output_type": "stream",
     "name": "stdout",
     "text": [
      "Rango 1: 3.9408233276157802\n",
      "Rango 2: 3.250784762874353\n",
      "Rango 3: 2.6942007857478196\n",
      "Rango 4: 2.453789188660164\n",
      "Rango 5: 2.5751290384247754\n",
      "Rango 6: 2.8903350872334532\n",
      "Rango 7: 3.1004989308624378\n",
      "Rango 8: 3.654891304347826\n",
      "Rango 10: 4.050632911392405\n"
     ]
    }
   ],
   "source": [
    "print('Rango 1:', dftrain[dftrain['16'] <= 2805].mean()[-1])\n",
    "print('Rango 2:', dftrain[(dftrain['16'] > 2805) & (dftrain['16'] <= 3810)].mean()[-1])\n",
    "print('Rango 3:', dftrain[(dftrain['16'] > 3810) & (dftrain['16'] <= 4815)].mean()[-1])\n",
    "print('Rango 4:', dftrain[(dftrain['16'] > 4815) & (dftrain['16'] <= 5820)].mean()[-1])\n",
    "print('Rango 5:', dftrain[(dftrain['16'] > 5820) & (dftrain['16'] <= 6825)].mean()[-1])\n",
    "print('Rango 6:', dftrain[(dftrain['16'] > 6825) & (dftrain['16'] <= 7830)].mean()[-1])\n",
    "print('Rango 7:', dftrain[(dftrain['16'] > 7830) & (dftrain['16'] <= 8835)].mean()[-1])\n",
    "print('Rango 8:', dftrain[(dftrain['16'] > 8835) & (dftrain['16'] <= 9840)].mean()[-1])\n",
    "print('Rango 10:', dftrain[dftrain['16'] > 9840].mean()[-1])"
   ]
  },
  {
   "source": [
    "## Se observa que para depósitos tiende a haber una estadía más corta, mientras que depósitos más extremos (superiores e inferiores) tienden prolongarla.\n",
    "## Dos posibilidades:\n",
    "## - Dejarlo tal cual aparece en el dataframe (1ra OPCIÓN)\n",
    "## - Ponderar los rangos (2da OPCIÓN)"
   ],
   "cell_type": "markdown",
   "metadata": {}
  },
  {
   "cell_type": "code",
   "execution_count": 100,
   "metadata": {},
   "outputs": [],
   "source": [
    "# CÓDIGO PARA LA 2da OPCIÓN\n",
    "\n",
    "#cond = [(dftrain_V2['16'] <= 2805), \n",
    "#    ((dftrain_V2['16'] > 2805) & (dftrain_V2['16'] <= 3810)),\n",
    "#    ((dftrain_V2['16'] > 3810) & (dftrain_V2['16'] <= 4815)),\n",
    "#    ((dftrain_V2['16'] > 4815) & (dftrain_V2['16'] <= 5820)),\n",
    "#    ((dftrain_V2['16'] > 5820) & (dftrain_V2['16'] <= 6825)),\n",
    "#    ((dftrain_V2['16'] > 6825) & (dftrain_V2['16'] <= 7830)),\n",
    "#    ((dftrain_V2['16'] > 7830) & (dftrain_V2['16'] <= 8835)),\n",
    "#    ((dftrain_V2['16'] > 8835) & (dftrain_V2['16'] <= 9840)),\n",
    "#    (dftrain_V2['16'] > 9840)]\n",
    "#encod = [3,2,1,1,1,1,2,2,3]\n",
    "#dftrain_V2.iloc[:,16] = np.select(cond, encod)\n"
   ]
  },
  {
   "cell_type": "code",
   "execution_count": 101,
   "metadata": {},
   "outputs": [
    {
     "output_type": "execute_result",
     "data": {
      "text/plain": [
       "            0   1  2   3  5           6  7  8    9         12  13  14  15  \\\n",
       "0      161528   6  a   6  2  gynecology  R  F  4.0     Urgent   2   2   2   \n",
       "1      159472  23  a   6  4  gynecology  Q  F  2.0     Trauma   2   4   5   \n",
       "2      309765   2  c   5  2  anesthesia  S  F  3.0     Urgent   2   2   7   \n",
       "3      279614  32  f   9  3  gynecology  S  B  4.0  Emergency   2   4   1   \n",
       "4      147791  14  a   1  3  gynecology  S  E  2.0     Urgent   2   2   5   \n",
       "...       ...  .. ..  .. ..         ... .. ..  ...        ...  ..  ..  ..   \n",
       "99995  237869  12  a   9  3  gynecology  R  B  3.0  Emergency   2   6   5   \n",
       "99996  254763  28  b  11  2  gynecology  R  F  2.0     Urgent   2   3   2   \n",
       "99997   69788   6  a   6  3  gynecology  Q  F  3.0     Trauma   1   2   3   \n",
       "99998  204442  32  f   9  2  gynecology  S  B  4.0     Trauma   2   3   4   \n",
       "99999   69647  25  e   1  3  gynecology  Q  E  2.0  Emergency   2   2   4   \n",
       "\n",
       "           16  17  \n",
       "0      2817.0   0  \n",
       "1      4498.0   2  \n",
       "2      4573.0   1  \n",
       "3      7202.0   5  \n",
       "4      3398.0   5  \n",
       "...       ...  ..  \n",
       "99995  3966.0  10  \n",
       "99996  4005.0   5  \n",
       "99997  5215.0   3  \n",
       "99998  5092.0   1  \n",
       "99999  3390.0   4  \n",
       "\n",
       "[100000 rows x 15 columns]"
      ],
      "text/html": "<div>\n<style scoped>\n    .dataframe tbody tr th:only-of-type {\n        vertical-align: middle;\n    }\n\n    .dataframe tbody tr th {\n        vertical-align: top;\n    }\n\n    .dataframe thead th {\n        text-align: right;\n    }\n</style>\n<table border=\"1\" class=\"dataframe\">\n  <thead>\n    <tr style=\"text-align: right;\">\n      <th></th>\n      <th>0</th>\n      <th>1</th>\n      <th>2</th>\n      <th>3</th>\n      <th>5</th>\n      <th>6</th>\n      <th>7</th>\n      <th>8</th>\n      <th>9</th>\n      <th>12</th>\n      <th>13</th>\n      <th>14</th>\n      <th>15</th>\n      <th>16</th>\n      <th>17</th>\n    </tr>\n  </thead>\n  <tbody>\n    <tr>\n      <th>0</th>\n      <td>161528</td>\n      <td>6</td>\n      <td>a</td>\n      <td>6</td>\n      <td>2</td>\n      <td>gynecology</td>\n      <td>R</td>\n      <td>F</td>\n      <td>4.0</td>\n      <td>Urgent</td>\n      <td>2</td>\n      <td>2</td>\n      <td>2</td>\n      <td>2817.0</td>\n      <td>0</td>\n    </tr>\n    <tr>\n      <th>1</th>\n      <td>159472</td>\n      <td>23</td>\n      <td>a</td>\n      <td>6</td>\n      <td>4</td>\n      <td>gynecology</td>\n      <td>Q</td>\n      <td>F</td>\n      <td>2.0</td>\n      <td>Trauma</td>\n      <td>2</td>\n      <td>4</td>\n      <td>5</td>\n      <td>4498.0</td>\n      <td>2</td>\n    </tr>\n    <tr>\n      <th>2</th>\n      <td>309765</td>\n      <td>2</td>\n      <td>c</td>\n      <td>5</td>\n      <td>2</td>\n      <td>anesthesia</td>\n      <td>S</td>\n      <td>F</td>\n      <td>3.0</td>\n      <td>Urgent</td>\n      <td>2</td>\n      <td>2</td>\n      <td>7</td>\n      <td>4573.0</td>\n      <td>1</td>\n    </tr>\n    <tr>\n      <th>3</th>\n      <td>279614</td>\n      <td>32</td>\n      <td>f</td>\n      <td>9</td>\n      <td>3</td>\n      <td>gynecology</td>\n      <td>S</td>\n      <td>B</td>\n      <td>4.0</td>\n      <td>Emergency</td>\n      <td>2</td>\n      <td>4</td>\n      <td>1</td>\n      <td>7202.0</td>\n      <td>5</td>\n    </tr>\n    <tr>\n      <th>4</th>\n      <td>147791</td>\n      <td>14</td>\n      <td>a</td>\n      <td>1</td>\n      <td>3</td>\n      <td>gynecology</td>\n      <td>S</td>\n      <td>E</td>\n      <td>2.0</td>\n      <td>Urgent</td>\n      <td>2</td>\n      <td>2</td>\n      <td>5</td>\n      <td>3398.0</td>\n      <td>5</td>\n    </tr>\n    <tr>\n      <th>...</th>\n      <td>...</td>\n      <td>...</td>\n      <td>...</td>\n      <td>...</td>\n      <td>...</td>\n      <td>...</td>\n      <td>...</td>\n      <td>...</td>\n      <td>...</td>\n      <td>...</td>\n      <td>...</td>\n      <td>...</td>\n      <td>...</td>\n      <td>...</td>\n      <td>...</td>\n    </tr>\n    <tr>\n      <th>99995</th>\n      <td>237869</td>\n      <td>12</td>\n      <td>a</td>\n      <td>9</td>\n      <td>3</td>\n      <td>gynecology</td>\n      <td>R</td>\n      <td>B</td>\n      <td>3.0</td>\n      <td>Emergency</td>\n      <td>2</td>\n      <td>6</td>\n      <td>5</td>\n      <td>3966.0</td>\n      <td>10</td>\n    </tr>\n    <tr>\n      <th>99996</th>\n      <td>254763</td>\n      <td>28</td>\n      <td>b</td>\n      <td>11</td>\n      <td>2</td>\n      <td>gynecology</td>\n      <td>R</td>\n      <td>F</td>\n      <td>2.0</td>\n      <td>Urgent</td>\n      <td>2</td>\n      <td>3</td>\n      <td>2</td>\n      <td>4005.0</td>\n      <td>5</td>\n    </tr>\n    <tr>\n      <th>99997</th>\n      <td>69788</td>\n      <td>6</td>\n      <td>a</td>\n      <td>6</td>\n      <td>3</td>\n      <td>gynecology</td>\n      <td>Q</td>\n      <td>F</td>\n      <td>3.0</td>\n      <td>Trauma</td>\n      <td>1</td>\n      <td>2</td>\n      <td>3</td>\n      <td>5215.0</td>\n      <td>3</td>\n    </tr>\n    <tr>\n      <th>99998</th>\n      <td>204442</td>\n      <td>32</td>\n      <td>f</td>\n      <td>9</td>\n      <td>2</td>\n      <td>gynecology</td>\n      <td>S</td>\n      <td>B</td>\n      <td>4.0</td>\n      <td>Trauma</td>\n      <td>2</td>\n      <td>3</td>\n      <td>4</td>\n      <td>5092.0</td>\n      <td>1</td>\n    </tr>\n    <tr>\n      <th>99999</th>\n      <td>69647</td>\n      <td>25</td>\n      <td>e</td>\n      <td>1</td>\n      <td>3</td>\n      <td>gynecology</td>\n      <td>Q</td>\n      <td>E</td>\n      <td>2.0</td>\n      <td>Emergency</td>\n      <td>2</td>\n      <td>2</td>\n      <td>4</td>\n      <td>3390.0</td>\n      <td>4</td>\n    </tr>\n  </tbody>\n</table>\n<p>100000 rows × 15 columns</p>\n</div>"
     },
     "metadata": {},
     "execution_count": 101
    }
   ],
   "source": [
    "dftrain"
   ]
  },
  {
   "source": [
    "---"
   ],
   "cell_type": "markdown",
   "metadata": {}
  },
  {
   "source": [
    "## Agregado de los One Hot Encodings"
   ],
   "cell_type": "markdown",
   "metadata": {}
  },
  {
   "cell_type": "code",
   "execution_count": 102,
   "metadata": {},
   "outputs": [],
   "source": [
    "dftrain = pd.concat([dftrain, dummies_CH1, dummies_CTH2, dummies_CCH3, dummies_DEP6, dummies_TS7, dummies_IS8, dummies_TA12], axis = 1)"
   ]
  },
  {
   "cell_type": "code",
   "execution_count": 103,
   "metadata": {},
   "outputs": [
    {
     "output_type": "execute_result",
     "data": {
      "text/plain": [
       "            0   1  2   3  5           6  7  8    9         12  ...  TS7_U  \\\n",
       "0      161528   6  a   6  2  gynecology  R  F  4.0     Urgent  ...      0   \n",
       "1      159472  23  a   6  4  gynecology  Q  F  2.0     Trauma  ...      0   \n",
       "2      309765   2  c   5  2  anesthesia  S  F  3.0     Urgent  ...      0   \n",
       "3      279614  32  f   9  3  gynecology  S  B  4.0  Emergency  ...      0   \n",
       "4      147791  14  a   1  3  gynecology  S  E  2.0     Urgent  ...      0   \n",
       "...       ...  .. ..  .. ..         ... .. ..  ...        ...  ...    ...   \n",
       "99995  237869  12  a   9  3  gynecology  R  B  3.0  Emergency  ...      0   \n",
       "99996  254763  28  b  11  2  gynecology  R  F  2.0     Urgent  ...      0   \n",
       "99997   69788   6  a   6  3  gynecology  Q  F  3.0     Trauma  ...      0   \n",
       "99998  204442  32  f   9  2  gynecology  S  B  4.0     Trauma  ...      0   \n",
       "99999   69647  25  e   1  3  gynecology  Q  E  2.0  Emergency  ...      0   \n",
       "\n",
       "       IS8_A  IS8_B  IS8_C  IS8_D  IS8_E  IS8_F  TA12_Emergency  TA12_Trauma  \\\n",
       "0          0      0      0      0      0      1               0            0   \n",
       "1          0      0      0      0      0      1               0            1   \n",
       "2          0      0      0      0      0      1               0            0   \n",
       "3          0      1      0      0      0      0               1            0   \n",
       "4          0      0      0      0      1      0               0            0   \n",
       "...      ...    ...    ...    ...    ...    ...             ...          ...   \n",
       "99995      0      1      0      0      0      0               1            0   \n",
       "99996      0      0      0      0      0      1               0            0   \n",
       "99997      0      0      0      0      0      1               0            1   \n",
       "99998      0      1      0      0      0      0               0            1   \n",
       "99999      0      0      0      0      1      0               1            0   \n",
       "\n",
       "       TA12_Urgent  \n",
       "0                1  \n",
       "1                0  \n",
       "2                1  \n",
       "3                0  \n",
       "4                1  \n",
       "...            ...  \n",
       "99995            0  \n",
       "99996            1  \n",
       "99997            0  \n",
       "99998            0  \n",
       "99999            0  \n",
       "\n",
       "[100000 rows x 85 columns]"
      ],
      "text/html": "<div>\n<style scoped>\n    .dataframe tbody tr th:only-of-type {\n        vertical-align: middle;\n    }\n\n    .dataframe tbody tr th {\n        vertical-align: top;\n    }\n\n    .dataframe thead th {\n        text-align: right;\n    }\n</style>\n<table border=\"1\" class=\"dataframe\">\n  <thead>\n    <tr style=\"text-align: right;\">\n      <th></th>\n      <th>0</th>\n      <th>1</th>\n      <th>2</th>\n      <th>3</th>\n      <th>5</th>\n      <th>6</th>\n      <th>7</th>\n      <th>8</th>\n      <th>9</th>\n      <th>12</th>\n      <th>...</th>\n      <th>TS7_U</th>\n      <th>IS8_A</th>\n      <th>IS8_B</th>\n      <th>IS8_C</th>\n      <th>IS8_D</th>\n      <th>IS8_E</th>\n      <th>IS8_F</th>\n      <th>TA12_Emergency</th>\n      <th>TA12_Trauma</th>\n      <th>TA12_Urgent</th>\n    </tr>\n  </thead>\n  <tbody>\n    <tr>\n      <th>0</th>\n      <td>161528</td>\n      <td>6</td>\n      <td>a</td>\n      <td>6</td>\n      <td>2</td>\n      <td>gynecology</td>\n      <td>R</td>\n      <td>F</td>\n      <td>4.0</td>\n      <td>Urgent</td>\n      <td>...</td>\n      <td>0</td>\n      <td>0</td>\n      <td>0</td>\n      <td>0</td>\n      <td>0</td>\n      <td>0</td>\n      <td>1</td>\n      <td>0</td>\n      <td>0</td>\n      <td>1</td>\n    </tr>\n    <tr>\n      <th>1</th>\n      <td>159472</td>\n      <td>23</td>\n      <td>a</td>\n      <td>6</td>\n      <td>4</td>\n      <td>gynecology</td>\n      <td>Q</td>\n      <td>F</td>\n      <td>2.0</td>\n      <td>Trauma</td>\n      <td>...</td>\n      <td>0</td>\n      <td>0</td>\n      <td>0</td>\n      <td>0</td>\n      <td>0</td>\n      <td>0</td>\n      <td>1</td>\n      <td>0</td>\n      <td>1</td>\n      <td>0</td>\n    </tr>\n    <tr>\n      <th>2</th>\n      <td>309765</td>\n      <td>2</td>\n      <td>c</td>\n      <td>5</td>\n      <td>2</td>\n      <td>anesthesia</td>\n      <td>S</td>\n      <td>F</td>\n      <td>3.0</td>\n      <td>Urgent</td>\n      <td>...</td>\n      <td>0</td>\n      <td>0</td>\n      <td>0</td>\n      <td>0</td>\n      <td>0</td>\n      <td>0</td>\n      <td>1</td>\n      <td>0</td>\n      <td>0</td>\n      <td>1</td>\n    </tr>\n    <tr>\n      <th>3</th>\n      <td>279614</td>\n      <td>32</td>\n      <td>f</td>\n      <td>9</td>\n      <td>3</td>\n      <td>gynecology</td>\n      <td>S</td>\n      <td>B</td>\n      <td>4.0</td>\n      <td>Emergency</td>\n      <td>...</td>\n      <td>0</td>\n      <td>0</td>\n      <td>1</td>\n      <td>0</td>\n      <td>0</td>\n      <td>0</td>\n      <td>0</td>\n      <td>1</td>\n      <td>0</td>\n      <td>0</td>\n    </tr>\n    <tr>\n      <th>4</th>\n      <td>147791</td>\n      <td>14</td>\n      <td>a</td>\n      <td>1</td>\n      <td>3</td>\n      <td>gynecology</td>\n      <td>S</td>\n      <td>E</td>\n      <td>2.0</td>\n      <td>Urgent</td>\n      <td>...</td>\n      <td>0</td>\n      <td>0</td>\n      <td>0</td>\n      <td>0</td>\n      <td>0</td>\n      <td>1</td>\n      <td>0</td>\n      <td>0</td>\n      <td>0</td>\n      <td>1</td>\n    </tr>\n    <tr>\n      <th>...</th>\n      <td>...</td>\n      <td>...</td>\n      <td>...</td>\n      <td>...</td>\n      <td>...</td>\n      <td>...</td>\n      <td>...</td>\n      <td>...</td>\n      <td>...</td>\n      <td>...</td>\n      <td>...</td>\n      <td>...</td>\n      <td>...</td>\n      <td>...</td>\n      <td>...</td>\n      <td>...</td>\n      <td>...</td>\n      <td>...</td>\n      <td>...</td>\n      <td>...</td>\n      <td>...</td>\n    </tr>\n    <tr>\n      <th>99995</th>\n      <td>237869</td>\n      <td>12</td>\n      <td>a</td>\n      <td>9</td>\n      <td>3</td>\n      <td>gynecology</td>\n      <td>R</td>\n      <td>B</td>\n      <td>3.0</td>\n      <td>Emergency</td>\n      <td>...</td>\n      <td>0</td>\n      <td>0</td>\n      <td>1</td>\n      <td>0</td>\n      <td>0</td>\n      <td>0</td>\n      <td>0</td>\n      <td>1</td>\n      <td>0</td>\n      <td>0</td>\n    </tr>\n    <tr>\n      <th>99996</th>\n      <td>254763</td>\n      <td>28</td>\n      <td>b</td>\n      <td>11</td>\n      <td>2</td>\n      <td>gynecology</td>\n      <td>R</td>\n      <td>F</td>\n      <td>2.0</td>\n      <td>Urgent</td>\n      <td>...</td>\n      <td>0</td>\n      <td>0</td>\n      <td>0</td>\n      <td>0</td>\n      <td>0</td>\n      <td>0</td>\n      <td>1</td>\n      <td>0</td>\n      <td>0</td>\n      <td>1</td>\n    </tr>\n    <tr>\n      <th>99997</th>\n      <td>69788</td>\n      <td>6</td>\n      <td>a</td>\n      <td>6</td>\n      <td>3</td>\n      <td>gynecology</td>\n      <td>Q</td>\n      <td>F</td>\n      <td>3.0</td>\n      <td>Trauma</td>\n      <td>...</td>\n      <td>0</td>\n      <td>0</td>\n      <td>0</td>\n      <td>0</td>\n      <td>0</td>\n      <td>0</td>\n      <td>1</td>\n      <td>0</td>\n      <td>1</td>\n      <td>0</td>\n    </tr>\n    <tr>\n      <th>99998</th>\n      <td>204442</td>\n      <td>32</td>\n      <td>f</td>\n      <td>9</td>\n      <td>2</td>\n      <td>gynecology</td>\n      <td>S</td>\n      <td>B</td>\n      <td>4.0</td>\n      <td>Trauma</td>\n      <td>...</td>\n      <td>0</td>\n      <td>0</td>\n      <td>1</td>\n      <td>0</td>\n      <td>0</td>\n      <td>0</td>\n      <td>0</td>\n      <td>0</td>\n      <td>1</td>\n      <td>0</td>\n    </tr>\n    <tr>\n      <th>99999</th>\n      <td>69647</td>\n      <td>25</td>\n      <td>e</td>\n      <td>1</td>\n      <td>3</td>\n      <td>gynecology</td>\n      <td>Q</td>\n      <td>E</td>\n      <td>2.0</td>\n      <td>Emergency</td>\n      <td>...</td>\n      <td>0</td>\n      <td>0</td>\n      <td>0</td>\n      <td>0</td>\n      <td>0</td>\n      <td>1</td>\n      <td>0</td>\n      <td>1</td>\n      <td>0</td>\n      <td>0</td>\n    </tr>\n  </tbody>\n</table>\n<p>100000 rows × 85 columns</p>\n</div>"
     },
     "metadata": {},
     "execution_count": 103
    }
   ],
   "source": [
    "dftrain"
   ]
  },
  {
   "source": [
    "## Eliminación de las columnas codificadas"
   ],
   "cell_type": "markdown",
   "metadata": {}
  },
  {
   "cell_type": "code",
   "execution_count": 104,
   "metadata": {},
   "outputs": [],
   "source": [
    "dftrain_opcion1 = dftrain.drop(['1', '2', '3', '6', '7', '8', '12'], axis=1)"
   ]
  },
  {
   "cell_type": "code",
   "execution_count": 105,
   "metadata": {},
   "outputs": [
    {
     "output_type": "execute_result",
     "data": {
      "text/plain": [
       "        0  5    9  13  14  15      16  17  CH1_1  CH1_2  ...  TS7_U  IS8_A  \\\n",
       "0  161528  2  4.0   2   2   2  2817.0   0      0      0  ...      0      0   \n",
       "1  159472  4  2.0   2   4   5  4498.0   2      0      0  ...      0      0   \n",
       "2  309765  2  3.0   2   2   7  4573.0   1      0      1  ...      0      0   \n",
       "3  279614  3  4.0   2   4   1  7202.0   5      0      0  ...      0      0   \n",
       "4  147791  3  2.0   2   2   5  3398.0   5      0      0  ...      0      0   \n",
       "\n",
       "   IS8_B  IS8_C  IS8_D  IS8_E  IS8_F  TA12_Emergency  TA12_Trauma  TA12_Urgent  \n",
       "0      0      0      0      0      1               0            0            1  \n",
       "1      0      0      0      0      1               0            1            0  \n",
       "2      0      0      0      0      1               0            0            1  \n",
       "3      1      0      0      0      0               1            0            0  \n",
       "4      0      0      0      1      0               0            0            1  \n",
       "\n",
       "[5 rows x 78 columns]"
      ],
      "text/html": "<div>\n<style scoped>\n    .dataframe tbody tr th:only-of-type {\n        vertical-align: middle;\n    }\n\n    .dataframe tbody tr th {\n        vertical-align: top;\n    }\n\n    .dataframe thead th {\n        text-align: right;\n    }\n</style>\n<table border=\"1\" class=\"dataframe\">\n  <thead>\n    <tr style=\"text-align: right;\">\n      <th></th>\n      <th>0</th>\n      <th>5</th>\n      <th>9</th>\n      <th>13</th>\n      <th>14</th>\n      <th>15</th>\n      <th>16</th>\n      <th>17</th>\n      <th>CH1_1</th>\n      <th>CH1_2</th>\n      <th>...</th>\n      <th>TS7_U</th>\n      <th>IS8_A</th>\n      <th>IS8_B</th>\n      <th>IS8_C</th>\n      <th>IS8_D</th>\n      <th>IS8_E</th>\n      <th>IS8_F</th>\n      <th>TA12_Emergency</th>\n      <th>TA12_Trauma</th>\n      <th>TA12_Urgent</th>\n    </tr>\n  </thead>\n  <tbody>\n    <tr>\n      <th>0</th>\n      <td>161528</td>\n      <td>2</td>\n      <td>4.0</td>\n      <td>2</td>\n      <td>2</td>\n      <td>2</td>\n      <td>2817.0</td>\n      <td>0</td>\n      <td>0</td>\n      <td>0</td>\n      <td>...</td>\n      <td>0</td>\n      <td>0</td>\n      <td>0</td>\n      <td>0</td>\n      <td>0</td>\n      <td>0</td>\n      <td>1</td>\n      <td>0</td>\n      <td>0</td>\n      <td>1</td>\n    </tr>\n    <tr>\n      <th>1</th>\n      <td>159472</td>\n      <td>4</td>\n      <td>2.0</td>\n      <td>2</td>\n      <td>4</td>\n      <td>5</td>\n      <td>4498.0</td>\n      <td>2</td>\n      <td>0</td>\n      <td>0</td>\n      <td>...</td>\n      <td>0</td>\n      <td>0</td>\n      <td>0</td>\n      <td>0</td>\n      <td>0</td>\n      <td>0</td>\n      <td>1</td>\n      <td>0</td>\n      <td>1</td>\n      <td>0</td>\n    </tr>\n    <tr>\n      <th>2</th>\n      <td>309765</td>\n      <td>2</td>\n      <td>3.0</td>\n      <td>2</td>\n      <td>2</td>\n      <td>7</td>\n      <td>4573.0</td>\n      <td>1</td>\n      <td>0</td>\n      <td>1</td>\n      <td>...</td>\n      <td>0</td>\n      <td>0</td>\n      <td>0</td>\n      <td>0</td>\n      <td>0</td>\n      <td>0</td>\n      <td>1</td>\n      <td>0</td>\n      <td>0</td>\n      <td>1</td>\n    </tr>\n    <tr>\n      <th>3</th>\n      <td>279614</td>\n      <td>3</td>\n      <td>4.0</td>\n      <td>2</td>\n      <td>4</td>\n      <td>1</td>\n      <td>7202.0</td>\n      <td>5</td>\n      <td>0</td>\n      <td>0</td>\n      <td>...</td>\n      <td>0</td>\n      <td>0</td>\n      <td>1</td>\n      <td>0</td>\n      <td>0</td>\n      <td>0</td>\n      <td>0</td>\n      <td>1</td>\n      <td>0</td>\n      <td>0</td>\n    </tr>\n    <tr>\n      <th>4</th>\n      <td>147791</td>\n      <td>3</td>\n      <td>2.0</td>\n      <td>2</td>\n      <td>2</td>\n      <td>5</td>\n      <td>3398.0</td>\n      <td>5</td>\n      <td>0</td>\n      <td>0</td>\n      <td>...</td>\n      <td>0</td>\n      <td>0</td>\n      <td>0</td>\n      <td>0</td>\n      <td>0</td>\n      <td>1</td>\n      <td>0</td>\n      <td>0</td>\n      <td>0</td>\n      <td>1</td>\n    </tr>\n  </tbody>\n</table>\n<p>5 rows × 78 columns</p>\n</div>"
     },
     "metadata": {},
     "execution_count": 105
    }
   ],
   "source": [
    "dftrain_opcion1.head()"
   ]
  },
  {
   "source": [
    "## Set_index columna de Case_ID"
   ],
   "cell_type": "markdown",
   "metadata": {}
  },
  {
   "cell_type": "code",
   "execution_count": 106,
   "metadata": {},
   "outputs": [],
   "source": [
    "dftrain_opcion1.set_index('0', inplace=True)"
   ]
  },
  {
   "cell_type": "code",
   "execution_count": 107,
   "metadata": {},
   "outputs": [
    {
     "output_type": "execute_result",
     "data": {
      "text/plain": [
       "        5    9  13  14  15      16  17  CH1_1  CH1_2  CH1_3  ...  TS7_U  \\\n",
       "0                                                            ...          \n",
       "161528  2  4.0   2   2   2  2817.0   0      0      0      0  ...      0   \n",
       "159472  4  2.0   2   4   5  4498.0   2      0      0      0  ...      0   \n",
       "309765  2  3.0   2   2   7  4573.0   1      0      1      0  ...      0   \n",
       "279614  3  4.0   2   4   1  7202.0   5      0      0      0  ...      0   \n",
       "147791  3  2.0   2   2   5  3398.0   5      0      0      0  ...      0   \n",
       "\n",
       "        IS8_A  IS8_B  IS8_C  IS8_D  IS8_E  IS8_F  TA12_Emergency  TA12_Trauma  \\\n",
       "0                                                                               \n",
       "161528      0      0      0      0      0      1               0            0   \n",
       "159472      0      0      0      0      0      1               0            1   \n",
       "309765      0      0      0      0      0      1               0            0   \n",
       "279614      0      1      0      0      0      0               1            0   \n",
       "147791      0      0      0      0      1      0               0            0   \n",
       "\n",
       "        TA12_Urgent  \n",
       "0                    \n",
       "161528            1  \n",
       "159472            0  \n",
       "309765            1  \n",
       "279614            0  \n",
       "147791            1  \n",
       "\n",
       "[5 rows x 77 columns]"
      ],
      "text/html": "<div>\n<style scoped>\n    .dataframe tbody tr th:only-of-type {\n        vertical-align: middle;\n    }\n\n    .dataframe tbody tr th {\n        vertical-align: top;\n    }\n\n    .dataframe thead th {\n        text-align: right;\n    }\n</style>\n<table border=\"1\" class=\"dataframe\">\n  <thead>\n    <tr style=\"text-align: right;\">\n      <th></th>\n      <th>5</th>\n      <th>9</th>\n      <th>13</th>\n      <th>14</th>\n      <th>15</th>\n      <th>16</th>\n      <th>17</th>\n      <th>CH1_1</th>\n      <th>CH1_2</th>\n      <th>CH1_3</th>\n      <th>...</th>\n      <th>TS7_U</th>\n      <th>IS8_A</th>\n      <th>IS8_B</th>\n      <th>IS8_C</th>\n      <th>IS8_D</th>\n      <th>IS8_E</th>\n      <th>IS8_F</th>\n      <th>TA12_Emergency</th>\n      <th>TA12_Trauma</th>\n      <th>TA12_Urgent</th>\n    </tr>\n    <tr>\n      <th>0</th>\n      <th></th>\n      <th></th>\n      <th></th>\n      <th></th>\n      <th></th>\n      <th></th>\n      <th></th>\n      <th></th>\n      <th></th>\n      <th></th>\n      <th></th>\n      <th></th>\n      <th></th>\n      <th></th>\n      <th></th>\n      <th></th>\n      <th></th>\n      <th></th>\n      <th></th>\n      <th></th>\n      <th></th>\n    </tr>\n  </thead>\n  <tbody>\n    <tr>\n      <th>161528</th>\n      <td>2</td>\n      <td>4.0</td>\n      <td>2</td>\n      <td>2</td>\n      <td>2</td>\n      <td>2817.0</td>\n      <td>0</td>\n      <td>0</td>\n      <td>0</td>\n      <td>0</td>\n      <td>...</td>\n      <td>0</td>\n      <td>0</td>\n      <td>0</td>\n      <td>0</td>\n      <td>0</td>\n      <td>0</td>\n      <td>1</td>\n      <td>0</td>\n      <td>0</td>\n      <td>1</td>\n    </tr>\n    <tr>\n      <th>159472</th>\n      <td>4</td>\n      <td>2.0</td>\n      <td>2</td>\n      <td>4</td>\n      <td>5</td>\n      <td>4498.0</td>\n      <td>2</td>\n      <td>0</td>\n      <td>0</td>\n      <td>0</td>\n      <td>...</td>\n      <td>0</td>\n      <td>0</td>\n      <td>0</td>\n      <td>0</td>\n      <td>0</td>\n      <td>0</td>\n      <td>1</td>\n      <td>0</td>\n      <td>1</td>\n      <td>0</td>\n    </tr>\n    <tr>\n      <th>309765</th>\n      <td>2</td>\n      <td>3.0</td>\n      <td>2</td>\n      <td>2</td>\n      <td>7</td>\n      <td>4573.0</td>\n      <td>1</td>\n      <td>0</td>\n      <td>1</td>\n      <td>0</td>\n      <td>...</td>\n      <td>0</td>\n      <td>0</td>\n      <td>0</td>\n      <td>0</td>\n      <td>0</td>\n      <td>0</td>\n      <td>1</td>\n      <td>0</td>\n      <td>0</td>\n      <td>1</td>\n    </tr>\n    <tr>\n      <th>279614</th>\n      <td>3</td>\n      <td>4.0</td>\n      <td>2</td>\n      <td>4</td>\n      <td>1</td>\n      <td>7202.0</td>\n      <td>5</td>\n      <td>0</td>\n      <td>0</td>\n      <td>0</td>\n      <td>...</td>\n      <td>0</td>\n      <td>0</td>\n      <td>1</td>\n      <td>0</td>\n      <td>0</td>\n      <td>0</td>\n      <td>0</td>\n      <td>1</td>\n      <td>0</td>\n      <td>0</td>\n    </tr>\n    <tr>\n      <th>147791</th>\n      <td>3</td>\n      <td>2.0</td>\n      <td>2</td>\n      <td>2</td>\n      <td>5</td>\n      <td>3398.0</td>\n      <td>5</td>\n      <td>0</td>\n      <td>0</td>\n      <td>0</td>\n      <td>...</td>\n      <td>0</td>\n      <td>0</td>\n      <td>0</td>\n      <td>0</td>\n      <td>0</td>\n      <td>1</td>\n      <td>0</td>\n      <td>0</td>\n      <td>0</td>\n      <td>1</td>\n    </tr>\n  </tbody>\n</table>\n<p>5 rows × 77 columns</p>\n</div>"
     },
     "metadata": {},
     "execution_count": 107
    }
   ],
   "source": [
    "dftrain_opcion1.head()"
   ]
  },
  {
   "cell_type": "code",
   "execution_count": 108,
   "metadata": {},
   "outputs": [
    {
     "output_type": "stream",
     "name": "stdout",
     "text": [
      "<class 'pandas.core.frame.DataFrame'>\nInt64Index: 100000 entries, 161528 to 69647\nData columns (total 77 columns):\n #   Column                   Non-Null Count   Dtype  \n---  ------                   --------------   -----  \n 0   5                        100000 non-null  int64  \n 1   9                        100000 non-null  float64\n 2   13                       100000 non-null  int32  \n 3   14                       100000 non-null  int64  \n 4   15                       100000 non-null  int32  \n 5   16                       100000 non-null  float64\n 6   17                       100000 non-null  int32  \n 7   CH1_1                    100000 non-null  uint8  \n 8   CH1_2                    100000 non-null  uint8  \n 9   CH1_3                    100000 non-null  uint8  \n 10  CH1_4                    100000 non-null  uint8  \n 11  CH1_5                    100000 non-null  uint8  \n 12  CH1_6                    100000 non-null  uint8  \n 13  CH1_7                    100000 non-null  uint8  \n 14  CH1_8                    100000 non-null  uint8  \n 15  CH1_9                    100000 non-null  uint8  \n 16  CH1_10                   100000 non-null  uint8  \n 17  CH1_11                   100000 non-null  uint8  \n 18  CH1_12                   100000 non-null  uint8  \n 19  CH1_13                   100000 non-null  uint8  \n 20  CH1_14                   100000 non-null  uint8  \n 21  CH1_15                   100000 non-null  uint8  \n 22  CH1_16                   100000 non-null  uint8  \n 23  CH1_17                   100000 non-null  uint8  \n 24  CH1_18                   100000 non-null  uint8  \n 25  CH1_19                   100000 non-null  uint8  \n 26  CH1_20                   100000 non-null  uint8  \n 27  CH1_21                   100000 non-null  uint8  \n 28  CH1_22                   100000 non-null  uint8  \n 29  CH1_23                   100000 non-null  uint8  \n 30  CH1_24                   100000 non-null  uint8  \n 31  CH1_25                   100000 non-null  uint8  \n 32  CH1_26                   100000 non-null  uint8  \n 33  CH1_27                   100000 non-null  uint8  \n 34  CH1_28                   100000 non-null  uint8  \n 35  CH1_29                   100000 non-null  uint8  \n 36  CH1_30                   100000 non-null  uint8  \n 37  CH1_31                   100000 non-null  uint8  \n 38  CH1_32                   100000 non-null  uint8  \n 39  CTH2_a                   100000 non-null  uint8  \n 40  CTH2_b                   100000 non-null  uint8  \n 41  CTH2_c                   100000 non-null  uint8  \n 42  CTH2_d                   100000 non-null  uint8  \n 43  CTH2_e                   100000 non-null  uint8  \n 44  CTH2_f                   100000 non-null  uint8  \n 45  CTH2_g                   100000 non-null  uint8  \n 46  CCH3_1                   100000 non-null  uint8  \n 47  CCH3_2                   100000 non-null  uint8  \n 48  CCH3_3                   100000 non-null  uint8  \n 49  CCH3_4                   100000 non-null  uint8  \n 50  CCH3_5                   100000 non-null  uint8  \n 51  CCH3_6                   100000 non-null  uint8  \n 52  CCH3_7                   100000 non-null  uint8  \n 53  CCH3_9                   100000 non-null  uint8  \n 54  CCH3_10                  100000 non-null  uint8  \n 55  CCH3_11                  100000 non-null  uint8  \n 56  CCH3_13                  100000 non-null  uint8  \n 57  DEP6_TB & Chest disease  100000 non-null  uint8  \n 58  DEP6_anesthesia          100000 non-null  uint8  \n 59  DEP6_gynecology          100000 non-null  uint8  \n 60  DEP6_radiotherapy        100000 non-null  uint8  \n 61  DEP6_surgery             100000 non-null  uint8  \n 62  TS7_P                    100000 non-null  uint8  \n 63  TS7_Q                    100000 non-null  uint8  \n 64  TS7_R                    100000 non-null  uint8  \n 65  TS7_S                    100000 non-null  uint8  \n 66  TS7_T                    100000 non-null  uint8  \n 67  TS7_U                    100000 non-null  uint8  \n 68  IS8_A                    100000 non-null  uint8  \n 69  IS8_B                    100000 non-null  uint8  \n 70  IS8_C                    100000 non-null  uint8  \n 71  IS8_D                    100000 non-null  uint8  \n 72  IS8_E                    100000 non-null  uint8  \n 73  IS8_F                    100000 non-null  uint8  \n 74  TA12_Emergency           100000 non-null  uint8  \n 75  TA12_Trauma              100000 non-null  uint8  \n 76  TA12_Urgent              100000 non-null  uint8  \ndtypes: float64(2), int32(3), int64(2), uint8(70)\nmemory usage: 11.6 MB\n"
     ]
    }
   ],
   "source": [
    "dftrain_opcion1.info()"
   ]
  },
  {
   "cell_type": "code",
   "execution_count": 109,
   "metadata": {},
   "outputs": [],
   "source": [
    "dftrain_opcion1['17'] = dftrain_opcion1['17'].astype('category')"
   ]
  },
  {
   "cell_type": "code",
   "execution_count": 110,
   "metadata": {},
   "outputs": [
    {
     "output_type": "stream",
     "name": "stdout",
     "text": [
      "<class 'pandas.core.frame.DataFrame'>\nInt64Index: 100000 entries, 161528 to 69647\nData columns (total 77 columns):\n #   Column                   Non-Null Count   Dtype   \n---  ------                   --------------   -----   \n 0   5                        100000 non-null  int64   \n 1   9                        100000 non-null  float64 \n 2   13                       100000 non-null  int32   \n 3   14                       100000 non-null  int64   \n 4   15                       100000 non-null  int32   \n 5   16                       100000 non-null  float64 \n 6   17                       100000 non-null  category\n 7   CH1_1                    100000 non-null  uint8   \n 8   CH1_2                    100000 non-null  uint8   \n 9   CH1_3                    100000 non-null  uint8   \n 10  CH1_4                    100000 non-null  uint8   \n 11  CH1_5                    100000 non-null  uint8   \n 12  CH1_6                    100000 non-null  uint8   \n 13  CH1_7                    100000 non-null  uint8   \n 14  CH1_8                    100000 non-null  uint8   \n 15  CH1_9                    100000 non-null  uint8   \n 16  CH1_10                   100000 non-null  uint8   \n 17  CH1_11                   100000 non-null  uint8   \n 18  CH1_12                   100000 non-null  uint8   \n 19  CH1_13                   100000 non-null  uint8   \n 20  CH1_14                   100000 non-null  uint8   \n 21  CH1_15                   100000 non-null  uint8   \n 22  CH1_16                   100000 non-null  uint8   \n 23  CH1_17                   100000 non-null  uint8   \n 24  CH1_18                   100000 non-null  uint8   \n 25  CH1_19                   100000 non-null  uint8   \n 26  CH1_20                   100000 non-null  uint8   \n 27  CH1_21                   100000 non-null  uint8   \n 28  CH1_22                   100000 non-null  uint8   \n 29  CH1_23                   100000 non-null  uint8   \n 30  CH1_24                   100000 non-null  uint8   \n 31  CH1_25                   100000 non-null  uint8   \n 32  CH1_26                   100000 non-null  uint8   \n 33  CH1_27                   100000 non-null  uint8   \n 34  CH1_28                   100000 non-null  uint8   \n 35  CH1_29                   100000 non-null  uint8   \n 36  CH1_30                   100000 non-null  uint8   \n 37  CH1_31                   100000 non-null  uint8   \n 38  CH1_32                   100000 non-null  uint8   \n 39  CTH2_a                   100000 non-null  uint8   \n 40  CTH2_b                   100000 non-null  uint8   \n 41  CTH2_c                   100000 non-null  uint8   \n 42  CTH2_d                   100000 non-null  uint8   \n 43  CTH2_e                   100000 non-null  uint8   \n 44  CTH2_f                   100000 non-null  uint8   \n 45  CTH2_g                   100000 non-null  uint8   \n 46  CCH3_1                   100000 non-null  uint8   \n 47  CCH3_2                   100000 non-null  uint8   \n 48  CCH3_3                   100000 non-null  uint8   \n 49  CCH3_4                   100000 non-null  uint8   \n 50  CCH3_5                   100000 non-null  uint8   \n 51  CCH3_6                   100000 non-null  uint8   \n 52  CCH3_7                   100000 non-null  uint8   \n 53  CCH3_9                   100000 non-null  uint8   \n 54  CCH3_10                  100000 non-null  uint8   \n 55  CCH3_11                  100000 non-null  uint8   \n 56  CCH3_13                  100000 non-null  uint8   \n 57  DEP6_TB & Chest disease  100000 non-null  uint8   \n 58  DEP6_anesthesia          100000 non-null  uint8   \n 59  DEP6_gynecology          100000 non-null  uint8   \n 60  DEP6_radiotherapy        100000 non-null  uint8   \n 61  DEP6_surgery             100000 non-null  uint8   \n 62  TS7_P                    100000 non-null  uint8   \n 63  TS7_Q                    100000 non-null  uint8   \n 64  TS7_R                    100000 non-null  uint8   \n 65  TS7_S                    100000 non-null  uint8   \n 66  TS7_T                    100000 non-null  uint8   \n 67  TS7_U                    100000 non-null  uint8   \n 68  IS8_A                    100000 non-null  uint8   \n 69  IS8_B                    100000 non-null  uint8   \n 70  IS8_C                    100000 non-null  uint8   \n 71  IS8_D                    100000 non-null  uint8   \n 72  IS8_E                    100000 non-null  uint8   \n 73  IS8_F                    100000 non-null  uint8   \n 74  TA12_Emergency           100000 non-null  uint8   \n 75  TA12_Trauma              100000 non-null  uint8   \n 76  TA12_Urgent              100000 non-null  uint8   \ndtypes: category(1), float64(2), int32(2), int64(2), uint8(70)\nmemory usage: 11.3 MB\n"
     ]
    }
   ],
   "source": [
    "dftrain_opcion1.info()"
   ]
  },
  {
   "source": [
    "---"
   ],
   "cell_type": "markdown",
   "metadata": {}
  },
  {
   "source": [
    "## Defino x e y"
   ],
   "cell_type": "markdown",
   "metadata": {}
  },
  {
   "cell_type": "code",
   "execution_count": 111,
   "metadata": {},
   "outputs": [
    {
     "output_type": "execute_result",
     "data": {
      "text/plain": [
       "(100000, 76)"
      ]
     },
     "metadata": {},
     "execution_count": 111
    }
   ],
   "source": [
    "x1 = np.array(dftrain_opcion1.drop(['17'], axis=1))\n",
    "x1.shape"
   ]
  },
  {
   "cell_type": "code",
   "execution_count": 112,
   "metadata": {},
   "outputs": [
    {
     "output_type": "execute_result",
     "data": {
      "text/plain": [
       "(100000,)"
      ]
     },
     "metadata": {},
     "execution_count": 112
    }
   ],
   "source": [
    "y = np.array(dftrain_opcion1['17'])\n",
    "y.shape"
   ]
  },
  {
   "source": [
    "## MODELO 1 - RandomForestClassifier"
   ],
   "cell_type": "markdown",
   "metadata": {}
  },
  {
   "cell_type": "code",
   "execution_count": 113,
   "metadata": {},
   "outputs": [
    {
     "output_type": "stream",
     "name": "stdout",
     "text": [
      "x_train: (80000, 76)\n",
      "x_test: (20000, 76)\n",
      "y_train: (80000,)\n",
      "y_test: (20000,)\n",
      "\n",
      "---------------\n",
      "\n",
      "Score TRAIN: 0.999775\n",
      "Score TEST: 0.35215\n"
     ]
    }
   ],
   "source": [
    "x_train, x_test, y_train, y_test = train_test_split(x1, y, test_size=0.2, random_state=42)\n",
    "print('x_train:', x_train.shape)\n",
    "print('x_test:', x_test.shape)\n",
    "print('y_train:', y_train.shape)\n",
    "print('y_test:', y_test.shape)\n",
    "print('\\n---------------\\n')\n",
    "modelo1 = RandomForestClassifier(n_estimators=200, warm_start=False, random_state= 42)\n",
    "modelo1.fit(x_train, y_train)\n",
    "print('Score TRAIN:', modelo1.score(x_train,y_train))\n",
    "print('Score TEST:', modelo1.score(x_test,y_test))\n",
    "y_pred_test = modelo1.predict(x_test)"
   ]
  },
  {
   "cell_type": "code",
   "execution_count": 114,
   "metadata": {},
   "outputs": [
    {
     "output_type": "execute_result",
     "data": {
      "text/plain": [
       "0.35215"
      ]
     },
     "metadata": {},
     "execution_count": 114
    }
   ],
   "source": [
    "accuracy_score(y_test, y_pred_test)"
   ]
  },
  {
   "cell_type": "code",
   "execution_count": 115,
   "metadata": {},
   "outputs": [
    {
     "output_type": "execute_result",
     "data": {
      "text/plain": [
       "RandomForestClassifier(n_estimators=200, random_state=42)"
      ]
     },
     "metadata": {},
     "execution_count": 115
    }
   ],
   "source": [
    "modelo1.fit(x1, y)"
   ]
  },
  {
   "cell_type": "code",
   "execution_count": 116,
   "metadata": {},
   "outputs": [],
   "source": [
    "y_pred_total = modelo1.predict(x1)"
   ]
  },
  {
   "cell_type": "code",
   "execution_count": 117,
   "metadata": {},
   "outputs": [
    {
     "output_type": "execute_result",
     "data": {
      "text/plain": [
       "0.99961"
      ]
     },
     "metadata": {},
     "execution_count": 117
    }
   ],
   "source": [
    "accuracy_score(y, y_pred_total)"
   ]
  },
  {
   "source": [
    "## Cargo dataset de TEST"
   ],
   "cell_type": "markdown",
   "metadata": {}
  },
  {
   "cell_type": "code",
   "execution_count": 139,
   "metadata": {},
   "outputs": [
    {
     "output_type": "execute_result",
     "data": {
      "text/plain": [
       "        0   1  2  3  4  5                   6  7  8    9      10    11  \\\n",
       "0  314114  19  a  7  Y  4          gynecology  S  C  2.0   59278   8.0   \n",
       "1  208989  15  c  5  Z  3          gynecology  S  F  2.0  102253  15.0   \n",
       "2  305872  17  e  1  X  4          gynecology  R  E  4.0    5828   4.0   \n",
       "3  266099   3  c  3  Z  4  TB & Chest disease  R  A  2.0   56642   9.0   \n",
       "4   13228   6  a  6  X  4          gynecology  R  F  1.0  116266   8.0   \n",
       "\n",
       "          12        13  14     15      16  \n",
       "0  Emergency     Minor   2  41-50  4778.0  \n",
       "1     Trauma  Moderate   3  31-40  5734.0  \n",
       "2  Emergency     Minor   3  71-80  5064.0  \n",
       "3     Urgent   Extreme   4  31-40  3254.0  \n",
       "4  Emergency     Minor   3  21-30  4639.0  "
      ],
      "text/html": "<div>\n<style scoped>\n    .dataframe tbody tr th:only-of-type {\n        vertical-align: middle;\n    }\n\n    .dataframe tbody tr th {\n        vertical-align: top;\n    }\n\n    .dataframe thead th {\n        text-align: right;\n    }\n</style>\n<table border=\"1\" class=\"dataframe\">\n  <thead>\n    <tr style=\"text-align: right;\">\n      <th></th>\n      <th>0</th>\n      <th>1</th>\n      <th>2</th>\n      <th>3</th>\n      <th>4</th>\n      <th>5</th>\n      <th>6</th>\n      <th>7</th>\n      <th>8</th>\n      <th>9</th>\n      <th>10</th>\n      <th>11</th>\n      <th>12</th>\n      <th>13</th>\n      <th>14</th>\n      <th>15</th>\n      <th>16</th>\n    </tr>\n  </thead>\n  <tbody>\n    <tr>\n      <th>0</th>\n      <td>314114</td>\n      <td>19</td>\n      <td>a</td>\n      <td>7</td>\n      <td>Y</td>\n      <td>4</td>\n      <td>gynecology</td>\n      <td>S</td>\n      <td>C</td>\n      <td>2.0</td>\n      <td>59278</td>\n      <td>8.0</td>\n      <td>Emergency</td>\n      <td>Minor</td>\n      <td>2</td>\n      <td>41-50</td>\n      <td>4778.0</td>\n    </tr>\n    <tr>\n      <th>1</th>\n      <td>208989</td>\n      <td>15</td>\n      <td>c</td>\n      <td>5</td>\n      <td>Z</td>\n      <td>3</td>\n      <td>gynecology</td>\n      <td>S</td>\n      <td>F</td>\n      <td>2.0</td>\n      <td>102253</td>\n      <td>15.0</td>\n      <td>Trauma</td>\n      <td>Moderate</td>\n      <td>3</td>\n      <td>31-40</td>\n      <td>5734.0</td>\n    </tr>\n    <tr>\n      <th>2</th>\n      <td>305872</td>\n      <td>17</td>\n      <td>e</td>\n      <td>1</td>\n      <td>X</td>\n      <td>4</td>\n      <td>gynecology</td>\n      <td>R</td>\n      <td>E</td>\n      <td>4.0</td>\n      <td>5828</td>\n      <td>4.0</td>\n      <td>Emergency</td>\n      <td>Minor</td>\n      <td>3</td>\n      <td>71-80</td>\n      <td>5064.0</td>\n    </tr>\n    <tr>\n      <th>3</th>\n      <td>266099</td>\n      <td>3</td>\n      <td>c</td>\n      <td>3</td>\n      <td>Z</td>\n      <td>4</td>\n      <td>TB &amp; Chest disease</td>\n      <td>R</td>\n      <td>A</td>\n      <td>2.0</td>\n      <td>56642</td>\n      <td>9.0</td>\n      <td>Urgent</td>\n      <td>Extreme</td>\n      <td>4</td>\n      <td>31-40</td>\n      <td>3254.0</td>\n    </tr>\n    <tr>\n      <th>4</th>\n      <td>13228</td>\n      <td>6</td>\n      <td>a</td>\n      <td>6</td>\n      <td>X</td>\n      <td>4</td>\n      <td>gynecology</td>\n      <td>R</td>\n      <td>F</td>\n      <td>1.0</td>\n      <td>116266</td>\n      <td>8.0</td>\n      <td>Emergency</td>\n      <td>Minor</td>\n      <td>3</td>\n      <td>21-30</td>\n      <td>4639.0</td>\n    </tr>\n  </tbody>\n</table>\n</div>"
     },
     "metadata": {},
     "execution_count": 139
    }
   ],
   "source": [
    "dftest = pd.read_csv('data/hospital_test.csv')\n",
    "dftest.head()"
   ]
  },
  {
   "cell_type": "code",
   "execution_count": 140,
   "metadata": {},
   "outputs": [
    {
     "output_type": "stream",
     "name": "stdout",
     "text": [
      "<class 'pandas.core.frame.DataFrame'>\nRangeIndex: 133744 entries, 0 to 133743\nData columns (total 17 columns):\n #   Column  Non-Null Count   Dtype  \n---  ------  --------------   -----  \n 0   0       133744 non-null  int64  \n 1   1       133744 non-null  int64  \n 2   2       133744 non-null  object \n 3   3       133744 non-null  int64  \n 4   4       133744 non-null  object \n 5   5       133744 non-null  int64  \n 6   6       133744 non-null  object \n 7   7       133744 non-null  object \n 8   8       133744 non-null  object \n 9   9       133704 non-null  float64\n 10  10      133744 non-null  int64  \n 11  11      131927 non-null  float64\n 12  12      133744 non-null  object \n 13  13      133744 non-null  object \n 14  14      133744 non-null  int64  \n 15  15      133744 non-null  object \n 16  16      133744 non-null  float64\ndtypes: float64(3), int64(6), object(8)\nmemory usage: 17.3+ MB\n"
     ]
    }
   ],
   "source": [
    "dftest.info()"
   ]
  },
  {
   "source": [
    "## Igualando df TEST a df TRAIN"
   ],
   "cell_type": "markdown",
   "metadata": {}
  },
  {
   "cell_type": "code",
   "execution_count": 141,
   "metadata": {},
   "outputs": [
    {
     "output_type": "execute_result",
     "data": {
      "text/plain": [
       "0        0\n",
       "1        0\n",
       "2        0\n",
       "3        0\n",
       "4        0\n",
       "5        0\n",
       "6        0\n",
       "7        0\n",
       "8        0\n",
       "9       40\n",
       "10       0\n",
       "11    1817\n",
       "12       0\n",
       "13       0\n",
       "14       0\n",
       "15       0\n",
       "16       0\n",
       "dtype: int64"
      ]
     },
     "metadata": {},
     "execution_count": 141
    }
   ],
   "source": [
    "dftest.isna().sum()"
   ]
  },
  {
   "cell_type": "code",
   "execution_count": 131,
   "metadata": {},
   "outputs": [],
   "source": []
  },
  {
   "cell_type": "code",
   "execution_count": 142,
   "metadata": {},
   "outputs": [],
   "source": [
    "dftest.loc[:,'9'].fillna(dftest.loc[:,'9'].mode()[0], inplace = True)\n",
    "dummies_CH1_test = pd.get_dummies(dftest.loc[:,'1'], prefix='CH1')\n",
    "dummies_CTH2_test = pd.get_dummies(dftest.loc[:,'2'], prefix='CTH2')\n",
    "dummies_CCH3_test = pd.get_dummies(dftest.loc[:,'3'], prefix='CCH3')\n",
    "dummies_DEP6_test = pd.get_dummies(dftest.loc[:,'6'], prefix='DEP6')\n",
    "dummies_TS7_test = pd.get_dummies(dftest.loc[:,'7'], prefix='TS7')\n",
    "dummies_IS8_test = pd.get_dummies(dftest.loc[:,'8'], prefix='IS8')\n",
    "dftest.drop(['10'], axis=1, inplace=True)\n",
    "dftest.drop(['11'], axis=1, inplace=True)\n",
    "dummies_TA12_test = pd.get_dummies(dftest.loc[:,'12'], prefix='TA12')\n",
    "#-----------------------------------------------------------------------\n",
    "condicion = [(dftest.loc[:,'13'] == 'Minor'), \n",
    "    (dftest.loc[:,'13'] == 'Moderate'),\n",
    "    (dftest.loc[:,'13'] == 'Extreme')]\n",
    "encoding = [1, 2, 3]\n",
    "dftest.loc[:,'13'] = np.select(condicion, encoding)\n",
    "#-----------------------------------------------------------------------\n",
    "le15_test = LabelEncoder()\n",
    "dftest.loc[:,'15'] = le15_test.fit_transform(dftest.loc[:,'15'])\n",
    "#-----------------------------------------------------------------------\n",
    "dftest = pd.concat([dftest, dummies_CH1_test, dummies_CTH2_test, dummies_CCH3_test, dummies_DEP6_test, dummies_TS7_test, dummies_IS8_test, dummies_TA12_test], axis = 1)\n",
    "#-----------------------------------------------------------------------\n",
    "dftest_opcion1 = dftest.drop(['1', '2', '3', '4', '6', '7', '8', '12'], axis=1)\n",
    "#-----------------------------------------------------------------------\n",
    "dftest_opcion1.set_index('0', inplace=True)"
   ]
  },
  {
   "cell_type": "code",
   "execution_count": 143,
   "metadata": {},
   "outputs": [
    {
     "output_type": "execute_result",
     "data": {
      "text/plain": [
       "        5    9  13  14  15      16  CH1_1  CH1_2  CH1_3  CH1_4  ...  TS7_U  \\\n",
       "0                                                               ...          \n",
       "314114  4  2.0   1   2   4  4778.0      0      0      0      0  ...      0   \n",
       "208989  3  2.0   2   3   3  5734.0      0      0      0      0  ...      0   \n",
       "305872  4  4.0   1   3   7  5064.0      0      0      0      0  ...      0   \n",
       "266099  4  2.0   3   4   3  3254.0      0      0      1      0  ...      0   \n",
       "13228   4  1.0   1   3   2  4639.0      0      0      0      0  ...      0   \n",
       "\n",
       "        IS8_A  IS8_B  IS8_C  IS8_D  IS8_E  IS8_F  TA12_Emergency  TA12_Trauma  \\\n",
       "0                                                                               \n",
       "314114      0      0      1      0      0      0               1            0   \n",
       "208989      0      0      0      0      0      1               0            1   \n",
       "305872      0      0      0      0      1      0               1            0   \n",
       "266099      1      0      0      0      0      0               0            0   \n",
       "13228       0      0      0      0      0      1               1            0   \n",
       "\n",
       "        TA12_Urgent  \n",
       "0                    \n",
       "314114            0  \n",
       "208989            0  \n",
       "305872            0  \n",
       "266099            1  \n",
       "13228             0  \n",
       "\n",
       "[5 rows x 76 columns]"
      ],
      "text/html": "<div>\n<style scoped>\n    .dataframe tbody tr th:only-of-type {\n        vertical-align: middle;\n    }\n\n    .dataframe tbody tr th {\n        vertical-align: top;\n    }\n\n    .dataframe thead th {\n        text-align: right;\n    }\n</style>\n<table border=\"1\" class=\"dataframe\">\n  <thead>\n    <tr style=\"text-align: right;\">\n      <th></th>\n      <th>5</th>\n      <th>9</th>\n      <th>13</th>\n      <th>14</th>\n      <th>15</th>\n      <th>16</th>\n      <th>CH1_1</th>\n      <th>CH1_2</th>\n      <th>CH1_3</th>\n      <th>CH1_4</th>\n      <th>...</th>\n      <th>TS7_U</th>\n      <th>IS8_A</th>\n      <th>IS8_B</th>\n      <th>IS8_C</th>\n      <th>IS8_D</th>\n      <th>IS8_E</th>\n      <th>IS8_F</th>\n      <th>TA12_Emergency</th>\n      <th>TA12_Trauma</th>\n      <th>TA12_Urgent</th>\n    </tr>\n    <tr>\n      <th>0</th>\n      <th></th>\n      <th></th>\n      <th></th>\n      <th></th>\n      <th></th>\n      <th></th>\n      <th></th>\n      <th></th>\n      <th></th>\n      <th></th>\n      <th></th>\n      <th></th>\n      <th></th>\n      <th></th>\n      <th></th>\n      <th></th>\n      <th></th>\n      <th></th>\n      <th></th>\n      <th></th>\n      <th></th>\n    </tr>\n  </thead>\n  <tbody>\n    <tr>\n      <th>314114</th>\n      <td>4</td>\n      <td>2.0</td>\n      <td>1</td>\n      <td>2</td>\n      <td>4</td>\n      <td>4778.0</td>\n      <td>0</td>\n      <td>0</td>\n      <td>0</td>\n      <td>0</td>\n      <td>...</td>\n      <td>0</td>\n      <td>0</td>\n      <td>0</td>\n      <td>1</td>\n      <td>0</td>\n      <td>0</td>\n      <td>0</td>\n      <td>1</td>\n      <td>0</td>\n      <td>0</td>\n    </tr>\n    <tr>\n      <th>208989</th>\n      <td>3</td>\n      <td>2.0</td>\n      <td>2</td>\n      <td>3</td>\n      <td>3</td>\n      <td>5734.0</td>\n      <td>0</td>\n      <td>0</td>\n      <td>0</td>\n      <td>0</td>\n      <td>...</td>\n      <td>0</td>\n      <td>0</td>\n      <td>0</td>\n      <td>0</td>\n      <td>0</td>\n      <td>0</td>\n      <td>1</td>\n      <td>0</td>\n      <td>1</td>\n      <td>0</td>\n    </tr>\n    <tr>\n      <th>305872</th>\n      <td>4</td>\n      <td>4.0</td>\n      <td>1</td>\n      <td>3</td>\n      <td>7</td>\n      <td>5064.0</td>\n      <td>0</td>\n      <td>0</td>\n      <td>0</td>\n      <td>0</td>\n      <td>...</td>\n      <td>0</td>\n      <td>0</td>\n      <td>0</td>\n      <td>0</td>\n      <td>0</td>\n      <td>1</td>\n      <td>0</td>\n      <td>1</td>\n      <td>0</td>\n      <td>0</td>\n    </tr>\n    <tr>\n      <th>266099</th>\n      <td>4</td>\n      <td>2.0</td>\n      <td>3</td>\n      <td>4</td>\n      <td>3</td>\n      <td>3254.0</td>\n      <td>0</td>\n      <td>0</td>\n      <td>1</td>\n      <td>0</td>\n      <td>...</td>\n      <td>0</td>\n      <td>1</td>\n      <td>0</td>\n      <td>0</td>\n      <td>0</td>\n      <td>0</td>\n      <td>0</td>\n      <td>0</td>\n      <td>0</td>\n      <td>1</td>\n    </tr>\n    <tr>\n      <th>13228</th>\n      <td>4</td>\n      <td>1.0</td>\n      <td>1</td>\n      <td>3</td>\n      <td>2</td>\n      <td>4639.0</td>\n      <td>0</td>\n      <td>0</td>\n      <td>0</td>\n      <td>0</td>\n      <td>...</td>\n      <td>0</td>\n      <td>0</td>\n      <td>0</td>\n      <td>0</td>\n      <td>0</td>\n      <td>0</td>\n      <td>1</td>\n      <td>1</td>\n      <td>0</td>\n      <td>0</td>\n    </tr>\n  </tbody>\n</table>\n<p>5 rows × 76 columns</p>\n</div>"
     },
     "metadata": {},
     "execution_count": 143
    }
   ],
   "source": [
    "dftest_opcion1.head()"
   ]
  },
  {
   "cell_type": "code",
   "execution_count": 144,
   "metadata": {},
   "outputs": [
    {
     "output_type": "execute_result",
     "data": {
      "text/plain": [
       "(133744, 76)"
      ]
     },
     "metadata": {},
     "execution_count": 144
    }
   ],
   "source": [
    "x_conjunto_test = np.array(dftest_opcion1)\n",
    "x_conjunto_test.shape"
   ]
  },
  {
   "cell_type": "code",
   "execution_count": 145,
   "metadata": {},
   "outputs": [],
   "source": [
    "y_prediccion_submit = modelo1.predict(x_conjunto_test)"
   ]
  },
  {
   "cell_type": "code",
   "execution_count": 146,
   "metadata": {},
   "outputs": [
    {
     "output_type": "execute_result",
     "data": {
      "text/plain": [
       "array([1, 5, 1, ..., 2, 2, 2], dtype=int64)"
      ]
     },
     "metadata": {},
     "execution_count": 146
    }
   ],
   "source": [
    "y_prediccion_submit"
   ]
  },
  {
   "cell_type": "code",
   "execution_count": 147,
   "metadata": {},
   "outputs": [],
   "source": [
    "y_submit = leTARGET.inverse_transform(y_prediccion_submit)"
   ]
  },
  {
   "cell_type": "code",
   "execution_count": 148,
   "metadata": {},
   "outputs": [
    {
     "output_type": "execute_result",
     "data": {
      "text/plain": [
       "array(['11-20', '51-60', '11-20', ..., '21-30', '21-30', '21-30'],\n",
       "      dtype=object)"
      ]
     },
     "metadata": {},
     "execution_count": 148
    }
   ],
   "source": [
    "y_submit"
   ]
  },
  {
   "source": [
    "## Cargo dataframe SAMPLE"
   ],
   "cell_type": "markdown",
   "metadata": {}
  },
  {
   "cell_type": "code",
   "execution_count": 160,
   "metadata": {},
   "outputs": [
    {
     "output_type": "execute_result",
     "data": {
      "text/plain": [
       "       id   days\n",
       "0  314114  11-20\n",
       "1  208989  31-40\n",
       "2  305872  81-90\n",
       "3  266099  21-30\n",
       "4   13228  31-40"
      ],
      "text/html": "<div>\n<style scoped>\n    .dataframe tbody tr th:only-of-type {\n        vertical-align: middle;\n    }\n\n    .dataframe tbody tr th {\n        vertical-align: top;\n    }\n\n    .dataframe thead th {\n        text-align: right;\n    }\n</style>\n<table border=\"1\" class=\"dataframe\">\n  <thead>\n    <tr style=\"text-align: right;\">\n      <th></th>\n      <th>id</th>\n      <th>days</th>\n    </tr>\n  </thead>\n  <tbody>\n    <tr>\n      <th>0</th>\n      <td>314114</td>\n      <td>11-20</td>\n    </tr>\n    <tr>\n      <th>1</th>\n      <td>208989</td>\n      <td>31-40</td>\n    </tr>\n    <tr>\n      <th>2</th>\n      <td>305872</td>\n      <td>81-90</td>\n    </tr>\n    <tr>\n      <th>3</th>\n      <td>266099</td>\n      <td>21-30</td>\n    </tr>\n    <tr>\n      <th>4</th>\n      <td>13228</td>\n      <td>31-40</td>\n    </tr>\n  </tbody>\n</table>\n</div>"
     },
     "metadata": {},
     "execution_count": 160
    }
   ],
   "source": [
    "sample = pd.read_csv('data/sample_submission.csv')\n",
    "sample.head()"
   ]
  },
  {
   "cell_type": "code",
   "execution_count": 156,
   "metadata": {},
   "outputs": [
    {
     "output_type": "execute_result",
     "data": {
      "text/plain": [
       "Int64Index([314114, 208989, 305872, 266099,  13228, 181868, 306919, 281736,\n",
       "            102076, 294069,\n",
       "            ...\n",
       "            296167, 190912, 225943, 225880, 173771, 318155, 144850, 180676,\n",
       "             39933, 116673],\n",
       "           dtype='int64', name='0', length=133744)"
      ]
     },
     "metadata": {},
     "execution_count": 156
    }
   ],
   "source": [
    "dftest_opcion1.index"
   ]
  },
  {
   "cell_type": "code",
   "execution_count": 157,
   "metadata": {},
   "outputs": [
    {
     "output_type": "execute_result",
     "data": {
      "text/plain": [
       "       id   days\n",
       "0  314114  11-20\n",
       "1  208989  51-60\n",
       "2  305872  11-20\n",
       "3  266099  51-60\n",
       "4   13228  21-30"
      ],
      "text/html": "<div>\n<style scoped>\n    .dataframe tbody tr th:only-of-type {\n        vertical-align: middle;\n    }\n\n    .dataframe tbody tr th {\n        vertical-align: top;\n    }\n\n    .dataframe thead th {\n        text-align: right;\n    }\n</style>\n<table border=\"1\" class=\"dataframe\">\n  <thead>\n    <tr style=\"text-align: right;\">\n      <th></th>\n      <th>id</th>\n      <th>days</th>\n    </tr>\n  </thead>\n  <tbody>\n    <tr>\n      <th>0</th>\n      <td>314114</td>\n      <td>11-20</td>\n    </tr>\n    <tr>\n      <th>1</th>\n      <td>208989</td>\n      <td>51-60</td>\n    </tr>\n    <tr>\n      <th>2</th>\n      <td>305872</td>\n      <td>11-20</td>\n    </tr>\n    <tr>\n      <th>3</th>\n      <td>266099</td>\n      <td>51-60</td>\n    </tr>\n    <tr>\n      <th>4</th>\n      <td>13228</td>\n      <td>21-30</td>\n    </tr>\n  </tbody>\n</table>\n</div>"
     },
     "metadata": {},
     "execution_count": 157
    }
   ],
   "source": [
    "submission1 = pd.DataFrame({\"id\": dftest_opcion1.index, \"days\": y_submit})\n",
    "submission1.head()"
   ]
  },
  {
   "cell_type": "code",
   "execution_count": 161,
   "metadata": {},
   "outputs": [
    {
     "output_type": "stream",
     "name": "stdout",
     "text": [
      "You're ready to submit!\n"
     ]
    }
   ],
   "source": [
    "chequeator(submission1, 1)"
   ]
  },
  {
   "source": [
    "---"
   ],
   "cell_type": "markdown",
   "metadata": {}
  },
  {
   "cell_type": "code",
   "execution_count": null,
   "metadata": {},
   "outputs": [],
   "source": []
  }
 ]
}