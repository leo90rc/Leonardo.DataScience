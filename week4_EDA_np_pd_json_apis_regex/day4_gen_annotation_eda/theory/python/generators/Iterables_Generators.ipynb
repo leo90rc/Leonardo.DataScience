{
 "nbformat": 4,
 "nbformat_minor": 2,
 "metadata": {
  "language_info": {
   "name": "python",
   "codemirror_mode": {
    "name": "ipython",
    "version": 3
   },
   "version": "3.6.4"
  },
  "orig_nbformat": 2,
  "file_extension": ".py",
  "mimetype": "text/x-python",
  "name": "python",
  "npconvert_exporter": "python",
  "pygments_lexer": "ipython3",
  "version": 3,
  "kernelspec": {
   "name": "python36464bitc2077ed07ea84d23aa5b518d224882ab",
   "display_name": "Python 3.6.4 64-bit"
  },
  "metadata": {
   "interpreter": {
    "hash": "5c4d2f1fdcd3716c7a5eea90ad07be30193490dd4e63617705244f5fd89ea793"
   }
  }
 },
 "cells": [
  {
   "cell_type": "markdown",
   "metadata": {},
   "source": [
    "### Iterables and Generators\n",
    "\n",
    "One nice thing about a list is that you can retrieve specific elements by their indices. But you don’t always need this! A list of a billion numbers takes up a lot of memory. If you only want the elements one at a time, there’s no good reason to keep them all around. If you only end up needing the first several elements, generating the entire billion is hugely wasteful.\n",
    "\n",
    "Often all we need is to iterate over the collection using for and in. In this case we can create generators, which can be iterated over just like lists but generate their values lazily on demand.\n",
    "\n",
    "One way to create generators is with functions and the yield operator:"
   ]
  },
  {
   "source": [
    "Conceptos del generador:\n",
    "\n",
    "- El generador no calcula todos los números de la secuencia (que puede ser infinita)\n",
    "- Cada vez que se llame al next, ejecutará 1 vez el 'yield' de la función\n",
    "- Cuando transformas el generador a otro tipo, por ejemplo list, llama a next todas las veces posibles hasta terminar el bucle.\n",
    "- Es útil cuando tienes que calcular una secuencia muy larga de números que solo vas a necesitar de 1 en 1 (con el next) \n"
   ],
   "cell_type": "markdown",
   "metadata": {}
  },
  {
   "cell_type": "code",
   "execution_count": 1,
   "metadata": {},
   "outputs": [],
   "source": [
    "def create_list(n):\n",
    "    lista = []\n",
    "    for i in range(n):\n",
    "        lista.append(i)\n",
    "    return lista"
   ]
  },
  {
   "cell_type": "code",
   "execution_count": 92,
   "metadata": {},
   "outputs": [
    {
     "output_type": "stream",
     "name": "stdout",
     "text": [
      "[0, 1, 2, 3, 4, 5, 6, 7, 8, 9, 10, 11, 12, 13, 14, 15, 16, 17, 18, 19, 20, 21, 22, 23, 24, 25, 26, 27, 28, 29, 30, 31, 32, 33, 34, 35, 36, 37, 38, 39, 40, 41, 42, 43, 44, 45, 46, 47, 48, 49, 50, 51, 52, 53, 54, 55, 56, 57, 58, 59, 60, 61, 62, 63, 64, 65, 66, 67, 68, 69, 70, 71, 72, 73, 74, 75, 76, 77, 78, 79, 80, 81, 82, 83, 84, 85, 86, 87, 88, 89, 90, 91, 92, 93, 94, 95, 96, 97, 98, 99]\n"
     ]
    }
   ],
   "source": [
    "x = create_list(n=100)\n",
    "print(x)"
   ]
  },
  {
   "cell_type": "code",
   "execution_count": 91,
   "metadata": {},
   "outputs": [
    {
     "output_type": "stream",
     "name": "stdout",
     "text": [
      "0\n"
     ]
    }
   ],
   "source": [
    "def generate_range_con_return(n):\n",
    "    i = 0\n",
    "    while i < n:\n",
    "        yield i   # every call to yield produces a value of the generator\n",
    "        i += 1\n",
    "    return \"FIN\"\n",
    "\n",
    "x = generate_range_con_return(n=10)\n",
    "print(next(x))"
   ]
  },
  {
   "cell_type": "code",
   "execution_count": 14,
   "metadata": {},
   "outputs": [],
   "source": [
    "def generate_range(n):\n",
    "    i = 0\n",
    "    while i < n:\n",
    "        yield i   # every call to yield produces a value of the generator\n",
    "        i += 1"
   ]
  },
  {
   "cell_type": "code",
   "execution_count": 10,
   "metadata": {},
   "outputs": [
    {
     "output_type": "stream",
     "name": "stdout",
     "text": [
      ""
     ]
    }
   ],
   "source": [
    "for i in range(10):\n",
    "    print(i, end=\"\\r\")"
   ]
  },
  {
   "cell_type": "code",
   "execution_count": 12,
   "metadata": {},
   "outputs": [
    {
     "output_type": "stream",
     "name": "stdout",
     "text": [
      "Wall time: 3.47 s\n"
     ]
    }
   ],
   "source": [
    "%%time\n",
    "for i in create_list(100000):\n",
    "    print(i, end=\"\\r\")"
   ]
  },
  {
   "cell_type": "code",
   "execution_count": null,
   "metadata": {},
   "outputs": [],
   "source": [
    "generate_range(n=100000)"
   ]
  },
  {
   "cell_type": "code",
   "execution_count": 15,
   "metadata": {},
   "outputs": [
    {
     "output_type": "stream",
     "name": "stdout",
     "text": [
      "Wall time: 3.46 s\n"
     ]
    }
   ],
   "source": [
    "%%time\n",
    "for i in generate_range(n=100000):\n",
    "    print(i, end=\"\\r\")"
   ]
  },
  {
   "cell_type": "code",
   "execution_count": 17,
   "metadata": {},
   "outputs": [
    {
     "output_type": "stream",
     "name": "stdout",
     "text": [
      "i: 0\ni: 1\ni: 2\ni: 3\ni: 4\ni: 5\ni: 6\ni: 7\ni: 8\ni: 9\ni: 10\ni: 11\ni: 12\ni: 13\ni: 14\ni: 15\ni: 16\ni: 17\ni: 18\ni: 19\ni: 20\ni: 21\ni: 22\ni: 23\ni: 24\ni: 25\ni: 26\ni: 27\ni: 28\ni: 29\ni: 30\ni: 31\ni: 32\ni: 33\ni: 34\ni: 35\ni: 36\ni: 37\ni: 38\ni: 39\ni: 40\ni: 41\ni: 42\ni: 43\ni: 44\ni: 45\ni: 46\ni: 47\ni: 48\ni: 49\ni: 50\ni: 51\ni: 52\ni: 53\ni: 54\ni: 55\ni: 56\ni: 57\ni: 58\ni: 59\ni: 60\ni: 61\ni: 62\ni: 63\ni: 64\ni: 65\ni: 66\ni: 67\ni: 68\ni: 69\ni: 70\ni: 71\ni: 72\ni: 73\ni: 74\ni: 75\ni: 76\ni: 77\ni: 78\ni: 79\ni: 80\ni: 81\ni: 82\ni: 83\ni: 84\ni: 85\ni: 86\ni: 87\ni: 88\ni: 89\ni: 90\ni: 91\ni: 92\ni: 93\ni: 94\ni: 95\ni: 96\ni: 97\ni: 98\ni: 99\n"
     ]
    }
   ],
   "source": [
    "for i in generate_range(100):\n",
    "    print(f\"i: {i}\")"
   ]
  },
  {
   "cell_type": "code",
   "execution_count": 63,
   "metadata": {},
   "outputs": [],
   "source": [
    "def check_prime(number):    \n",
    "    for divisor in range(2, int(number)//2 +1):\n",
    "        if number % divisor == 0:\n",
    "            return False\n",
    "    return True\n",
    "        \n",
    "def primes(n):    \n",
    "    number = 1\n",
    "    while number < n:        \n",
    "        number += 1        \n",
    "        if check_prime(number=number):           \n",
    "            yield number"
   ]
  },
  {
   "cell_type": "code",
   "execution_count": 64,
   "metadata": {},
   "outputs": [],
   "source": [
    "def primes_list(n): \n",
    "    lista = []   \n",
    "    number = 1\n",
    "    while number < n:        \n",
    "        number += 1  \n",
    "        if check_prime(number=number):           \n",
    "            lista.append(number)\n",
    "    return lista"
   ]
  },
  {
   "cell_type": "code",
   "execution_count": 59,
   "metadata": {},
   "outputs": [
    {
     "output_type": "execute_result",
     "data": {
      "text/plain": [
       "[3, 5, 7]"
      ]
     },
     "metadata": {},
     "execution_count": 59
    }
   ],
   "source": [
    "iterable_lista = primes_list(n=10)\n",
    "iterable_lista"
   ]
  },
  {
   "cell_type": "code",
   "execution_count": 65,
   "metadata": {},
   "outputs": [
    {
     "output_type": "execute_result",
     "data": {
      "text/plain": [
       "<generator object primes at 0x00000187CADB1888>"
      ]
     },
     "metadata": {},
     "execution_count": 65
    }
   ],
   "source": [
    "generator = primes(n=1000000000000)\n",
    "generator"
   ]
  },
  {
   "cell_type": "code",
   "execution_count": 50,
   "metadata": {},
   "outputs": [
    {
     "output_type": "stream",
     "name": "stdout",
     "text": [
      "<generator object primes at 0x00000187CB156E08>\n"
     ]
    }
   ],
   "source": [
    "print(generator)"
   ]
  },
  {
   "cell_type": "code",
   "execution_count": 51,
   "metadata": {},
   "outputs": [
    {
     "output_type": "execute_result",
     "data": {
      "text/plain": [
       "generator"
      ]
     },
     "metadata": {},
     "execution_count": 51
    }
   ],
   "source": [
    "type(generator)"
   ]
  },
  {
   "cell_type": "code",
   "execution_count": 41,
   "metadata": {},
   "outputs": [
    {
     "output_type": "stream",
     "name": "stdout",
     "text": [
      "19\n"
     ]
    }
   ],
   "source": [
    "print(next(generator))"
   ]
  },
  {
   "cell_type": "code",
   "execution_count": 44,
   "metadata": {},
   "outputs": [
    {
     "output_type": "stream",
     "name": "stdout",
     "text": [
      "47\n53\n59\n"
     ]
    }
   ],
   "source": [
    "for i in range(3):\n",
    "    print(next(generator))"
   ]
  },
  {
   "cell_type": "code",
   "execution_count": 68,
   "metadata": {},
   "outputs": [
    {
     "output_type": "stream",
     "name": "stdout",
     "text": [
      "37\n"
     ]
    }
   ],
   "source": [
    "print(next(generator))"
   ]
  },
  {
   "cell_type": "code",
   "execution_count": null,
   "metadata": {},
   "outputs": [],
   "source": [
    "lista_primos = []"
   ]
  },
  {
   "cell_type": "code",
   "execution_count": 71,
   "metadata": {},
   "outputs": [
    {
     "output_type": "stream",
     "name": "stdout",
     "text": [
      "137\n139\n149\n151\n157\n163\n167\n173\n179\n181\n"
     ]
    },
    {
     "output_type": "execute_result",
     "data": {
      "text/plain": [
       "[41,\n",
       " 43,\n",
       " 47,\n",
       " 53,\n",
       " 59,\n",
       " 61,\n",
       " 67,\n",
       " 71,\n",
       " 73,\n",
       " 79,\n",
       " 83,\n",
       " 89,\n",
       " 97,\n",
       " 101,\n",
       " 103,\n",
       " 107,\n",
       " 109,\n",
       " 113,\n",
       " 127,\n",
       " 131,\n",
       " 137,\n",
       " 139,\n",
       " 149,\n",
       " 151,\n",
       " 157,\n",
       " 163,\n",
       " 167,\n",
       " 173,\n",
       " 179,\n",
       " 181]"
      ]
     },
     "metadata": {},
     "execution_count": 71
    }
   ],
   "source": [
    "for i in range(10):\n",
    "    primo = next(generator)\n",
    "    lista_primos.append(primo)\n",
    "    print(primo)\n",
    "lista_primos"
   ]
  },
  {
   "cell_type": "code",
   "execution_count": 46,
   "metadata": {},
   "outputs": [
    {
     "output_type": "execute_result",
     "data": {
      "text/plain": [
       "[67, 71, 73, 79, 83, 89, 97]"
      ]
     },
     "metadata": {},
     "execution_count": 46
    }
   ],
   "source": [
    "list(generator)"
   ]
  },
  {
   "cell_type": "code",
   "execution_count": null,
   "metadata": {},
   "outputs": [],
   "source": []
  }
 ]
}