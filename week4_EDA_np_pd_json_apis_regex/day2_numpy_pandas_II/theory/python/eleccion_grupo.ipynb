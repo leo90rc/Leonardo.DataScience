{
 "metadata": {
  "language_info": {
   "codemirror_mode": {
    "name": "ipython",
    "version": 3
   },
   "file_extension": ".py",
   "mimetype": "text/x-python",
   "name": "python",
   "nbconvert_exporter": "python",
   "pygments_lexer": "ipython3",
   "version": "3.6.4"
  },
  "orig_nbformat": 2,
  "kernelspec": {
   "name": "python36464bitc2077ed07ea84d23aa5b518d224882ab",
   "display_name": "Python 3.6.4 64-bit"
  },
  "metadata": {
   "interpreter": {
    "hash": "5c4d2f1fdcd3716c7a5eea90ad07be30193490dd4e63617705244f5fd89ea793"
   }
  }
 },
 "nbformat": 4,
 "nbformat_minor": 2,
 "cells": [
  {
   "cell_type": "code",
   "execution_count": 1,
   "metadata": {},
   "outputs": [
    {
     "output_type": "execute_result",
     "data": {
      "text/plain": [
       "{'A': ['Adria', 'Daniel', 'Javier', 'Nacho F'],\n",
       " 'B': ['Mauro', 'JC', 'Leo', 'Juan'],\n",
       " 'C': ['Isa', 'Marina', 'Karina', 'Jonathan', 'Pablo', 'Xinru'],\n",
       " 'D': ['Jorge', 'Miguel', 'Nacho', 'Marycruz', 'Sonia']}"
      ]
     },
     "metadata": {},
     "execution_count": 1
    }
   ],
   "source": [
    "A = [\"Adria\", \"Daniel\", \"Javier\", \"Nacho F\"]\n",
    "B = [\"Mauro\", \"JC\", \"Leo\", \"Juan\"]\n",
    "C = [\"Isa\", \"Marina\", \"Karina\", \"Jonathan\", \"Pablo\", \"Xinru\"]\n",
    "D = [\"Jorge\", \"Miguel\", \"Nacho\", \"Marycruz\", \"Sonia\"]\n",
    "\n",
    "d_values = {\"A\":A, \"B\":B, \"C\":C, \"D\":D}\n",
    "d_values"
   ]
  },
  {
   "cell_type": "code",
   "execution_count": 4,
   "metadata": {},
   "outputs": [
    {
     "output_type": "execute_result",
     "data": {
      "text/plain": [
       "'B'"
      ]
     },
     "metadata": {},
     "execution_count": 4
    }
   ],
   "source": [
    "import random\n",
    "random.choice(list(d_values.keys()))"
   ]
  },
  {
   "cell_type": "code",
   "execution_count": null,
   "metadata": {},
   "outputs": [],
   "source": []
  }
 ]
}