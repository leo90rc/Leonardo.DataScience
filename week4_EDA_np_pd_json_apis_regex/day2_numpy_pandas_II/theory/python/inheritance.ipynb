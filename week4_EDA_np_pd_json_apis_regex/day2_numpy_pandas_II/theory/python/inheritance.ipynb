{
 "cells": [
  {
   "cell_type": "markdown",
   "metadata": {},
   "source": [
    "Inheritance in python"
   ]
  },
  {
   "cell_type": "code",
   "execution_count": 40,
   "metadata": {},
   "outputs": [],
   "source": [
    "class LivingBeing():\n",
    "    \"\"\"Father/Mother class\"\"\"\n",
    "    def __init__(self, kingdom, born_date, color, days_lived=0, procreate_ability=True):\n",
    "        self.is_living = True\n",
    "        self.kingdom = kingdom\n",
    "        self.procreate_ability = procreate_ability\n",
    "        self.born_date = born_date\n",
    "        self.death_date = None\n",
    "        self.days_lived = days_lived\n",
    "        self.color = color\n",
    "\n",
    "    def living_being_function(self):\n",
    "        print(\"I am a living being!\")\n",
    "\n",
    "    def die(self, death_date):\n",
    "        print(\"Murió\")\n",
    "        self.is_living = False\n",
    "        self.death_date = death_date"
   ]
  },
  {
   "cell_type": "code",
   "execution_count": 32,
   "metadata": {},
   "outputs": [],
   "source": [
    "def new_day(living_being_class):\n",
    "    living_being_class.days_lived += 1"
   ]
  },
  {
   "cell_type": "code",
   "execution_count": 34,
   "metadata": {
    "tags": []
   },
   "outputs": [
    {
     "output_type": "stream",
     "name": "stdout",
     "text": [
      "celula.days_lived: 520\ncelula.days_lived: 521\n"
     ]
    }
   ],
   "source": [
    "celula = LivingBeing(kingdom=\"Animal\", born_date=\"18/06/2019\", days_lived=520, color=\"Transparente\", il=Fakse)\n",
    "print(\"celula.days_lived:\", celula.days_lived)\n",
    "new_day(living_being_class=celula)\n",
    "print(\"celula.days_lived:\", celula.days_lived)"
   ]
  },
  {
   "cell_type": "code",
   "execution_count": 14,
   "metadata": {},
   "outputs": [
    {
     "output_type": "stream",
     "name": "stdout",
     "text": [
      "celula.is_living: False\nMurió\ncelula.is_living: False\ncelula.death_date: 05/05/2021\n"
     ]
    }
   ],
   "source": [
    "print(\"celula.is_living:\",celula.is_living)\n",
    "celula.die(death_date=\"05/05/2021\")\n",
    "print(\"celula.is_living:\",celula.is_living)\n",
    "print(\"celula.death_date:\",celula.death_date)"
   ]
  },
  {
   "cell_type": "code",
   "execution_count": 35,
   "metadata": {},
   "outputs": [
    {
     "output_type": "stream",
     "name": "stdout",
     "text": [
      "humano.is_living: True\nhumano.death_date: None\nMurió\nhumano.is_living: False\nhumano.death_date: 05/05/2021\n"
     ]
    }
   ],
   "source": [
    "humano = LivingBeing(kingdom=\"Animal\", born_date=\"21/06/2019\", color=\"el de la piel\")\n",
    "print(\"humano.is_living:\", humano.is_living)\n",
    "print(\"humano.death_date:\", humano.death_date)\n",
    "humano.die(death_date=\"05/05/2021\")\n",
    "print(\"humano.is_living:\", humano.is_living)\n",
    "print(\"humano.death_date:\", humano.death_date)"
   ]
  },
  {
   "cell_type": "code",
   "execution_count": 44,
   "metadata": {},
   "outputs": [],
   "source": [
    "class Human(LivingBeing):\n",
    "    \"\"\"Children class\"\"\"\n",
    "    def __init__(self, born_date, color, procreate_ability=True, eyes=2, legs=2, intelligence_ability=True):\n",
    "        #Herencia\n",
    "        LivingBeing.__init__(self, kingdom=\"Animal\", procreate_ability=procreate_ability, born_date=born_date, color=color)\n",
    "        self.eyes = eyes\n",
    "        self.legs = legs\n",
    "        self.intelligence_ability = intelligence_ability\n",
    "        \n"
   ]
  },
  {
   "source": [
    "humano = Human(born_date=\"13/05/1991\", color=\"el de la piel\")\n",
    "\n",
    "print(\"humano.is_living:\", humano.is_living)\n",
    "print(\"\\nCalling to living_being_function():\\n\")\n",
    "humano.living_being_function()"
   ],
   "cell_type": "code",
   "metadata": {
    "tags": []
   },
   "execution_count": 45,
   "outputs": [
    {
     "output_type": "stream",
     "name": "stdout",
     "text": [
      "humano.is_living: True\n\nCalling to living_being_function():\n\nI am a living being!\n"
     ]
    }
   ]
  },
  {
   "cell_type": "code",
   "execution_count": 46,
   "metadata": {},
   "outputs": [
    {
     "output_type": "execute_result",
     "data": {
      "text/plain": [
       "'el de la piel'"
      ]
     },
     "metadata": {},
     "execution_count": 46
    }
   ],
   "source": [
    "humano.color"
   ]
  },
  {
   "cell_type": "code",
   "execution_count": 47,
   "metadata": {},
   "outputs": [
    {
     "output_type": "stream",
     "name": "stdout",
     "text": [
      "humano.is_living: True\n\nCalling to living_being_function():\n\nI am a living being!\n"
     ]
    }
   ],
   "source": [
    "humano_esteril = Human(born_date=\"13/05/1991\", procreate_ability=False, color=\"el de la piel\")\n",
    "\n",
    "print(\"humano.is_living:\", humano_esteril.is_living)\n",
    "print(\"\\nCalling to living_being_function():\\n\")\n",
    "humano_esteril.living_being_function()"
   ]
  },
  {
   "cell_type": "code",
   "execution_count": 25,
   "metadata": {},
   "outputs": [
    {
     "output_type": "execute_result",
     "data": {
      "text/plain": [
       "False"
      ]
     },
     "metadata": {},
     "execution_count": 25
    }
   ],
   "source": [
    "humano_esteril.procreate_ability"
   ]
  },
  {
   "cell_type": "code",
   "execution_count": 26,
   "metadata": {},
   "outputs": [
    {
     "output_type": "execute_result",
     "data": {
      "text/plain": [
       "True"
      ]
     },
     "metadata": {},
     "execution_count": 26
    }
   ],
   "source": [
    "humano.procreate_ability"
   ]
  },
  {
   "cell_type": "code",
   "execution_count": 27,
   "metadata": {},
   "outputs": [
    {
     "output_type": "execute_result",
     "data": {
      "text/plain": [
       "0"
      ]
     },
     "metadata": {},
     "execution_count": 27
    }
   ],
   "source": [
    "humano.days_lived"
   ]
  },
  {
   "cell_type": "code",
   "execution_count": 28,
   "metadata": {},
   "outputs": [
    {
     "output_type": "execute_result",
     "data": {
      "text/plain": [
       "1"
      ]
     },
     "metadata": {},
     "execution_count": 28
    }
   ],
   "source": [
    "new_day(living_being_class=humano)\n",
    "humano.days_lived"
   ]
  },
  {
   "cell_type": "code",
   "execution_count": 30,
   "metadata": {},
   "outputs": [
    {
     "output_type": "stream",
     "name": "stdout",
     "text": [
      "True\nMurió\nFalse\n"
     ]
    }
   ],
   "source": [
    "print(humano.is_living)\n",
    "humano.die(\"05/05/2021\")\n",
    "print(humano.is_living)"
   ]
  },
  {
   "cell_type": "code",
   "execution_count": 74,
   "metadata": {
    "tags": []
   },
   "outputs": [],
   "source": [
    "class Perro(LivingBeing):\n",
    "    def __init__(self, raza, c, born_d, patas=4, oj=2, cola=True, agre=False):\n",
    "        \"\"\"\n",
    "        Este es el constructor de la clase Perro\n",
    "\n",
    "        Args:\n",
    "            raza [str]: Representa la raza\n",
    "        \"\"\"\n",
    "        # Heredabilidad\n",
    "        LivingBeing.__init__(self, kingdom=\"Animal\", born_date=born_d, color=c)\n",
    "        self.cola = cola\n",
    "        self.raza = raza\n",
    "        self.ojos = oj\n",
    "        self.agresivo = agre\n",
    "        self.patas = patas"
   ]
  },
  {
   "cell_type": "code",
   "execution_count": 75,
   "metadata": {},
   "outputs": [
    {
     "output_type": "execute_result",
     "data": {
      "text/plain": [
       "4"
      ]
     },
     "metadata": {},
     "execution_count": 75
    }
   ],
   "source": [
    "doby = Perro(raza=\"San Bernardo\", c=\"Marrón y Blanco\", born_d=\"05/05/2020\", oj=3,agre=True)\n",
    "\n",
    "doby.patas"
   ]
  },
  {
   "source": [
    "https://www.uml-diagrams.org/examples/online-shopping-domain-uml-diagram-example.html"
   ],
   "cell_type": "markdown",
   "metadata": {}
  },
  {
   "cell_type": "code",
   "execution_count": null,
   "metadata": {},
   "outputs": [],
   "source": [
    "class Customer:\n",
    "    def __init__(self, id_, address, phone, email):\n",
    "        self.id = id_\n",
    "        self.address = address\n",
    "        self.phone = phone\n",
    "        self.email = email\n",
    "\n",
    "pepito = Customer(id_=87984612, address=\"Calle bellavista\", phone=69684736, email=\"afjkgj@gmaijfja.com\")"
   ]
  }
 ],
 "metadata": {
  "language_info": {
   "name": "python",
   "codemirror_mode": {
    "name": "ipython",
    "version": 3
   },
   "version": "3.6.4"
  },
  "orig_nbformat": 2,
  "file_extension": ".py",
  "mimetype": "text/x-python",
  "name": "python",
  "npconvert_exporter": "python",
  "pygments_lexer": "ipython3",
  "version": 3,
  "kernelspec": {
   "name": "python36464bitc2077ed07ea84d23aa5b518d224882ab",
   "display_name": "Python 3.6.4 64-bit"
  },
  "metadata": {
   "interpreter": {
    "hash": "5c4d2f1fdcd3716c7a5eea90ad07be30193490dd4e63617705244f5fd89ea793"
   }
  }
 },
 "nbformat": 4,
 "nbformat_minor": 2
}