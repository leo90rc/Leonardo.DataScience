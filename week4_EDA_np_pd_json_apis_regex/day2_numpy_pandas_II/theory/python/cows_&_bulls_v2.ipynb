{
 "cells": [
  {
   "cell_type": "markdown",
   "metadata": {},
   "source": [
    "# Cows_and_Bulls\n",
    "  Welcome to the Cows and Bulls Game! \n",
    "  \n",
    "\n",
    "Dado un número de cuatro cifras generado por el ordenador, random o fijado al principio de la partida. Con o sin números repetidos. El usuario debe introducir un número, también de cuatro cifras, que el programa comprobará si cada uno de los números por posición está en el número generado por el ordenador, si es así entonces obtienes un toro, si además está en la misma posición obtienes una vaca. \n",
    "- **Vaca**: El número está en el número generado y en la misma posición.\n",
    "- **Toro**: Está en el número generado pero no en la misma posición.\n",
    "\n",
    "Imagina que el número generado por el programa es **1038**, entonces:\n",
    "  \n",
    "  >Enter a number:\n",
    "\n",
    "  >> 1234\n",
    "\n",
    "  >>> 2 cows, 0 bulls\n",
    "\n",
    "  >> 1253\n",
    "\n",
    "  >>> 1 cow, 1 bull\n",
    "  \n",
    "  ...\n",
    "\n",
    "El programa seguirá pidiendo números hasta que o bien lo adivines o bien introduzcas la palabra \"STOP\".\n"
   ]
  },
  {
   "source": [
    "Otro ejemplo:\n",
    "\n",
    "![](c&b.png)"
   ],
   "cell_type": "markdown",
   "metadata": {}
  },
  {
   "source": [
    "¡Suerte!"
   ],
   "cell_type": "markdown",
   "metadata": {
    "tags": []
   }
  },
  {
   "cell_type": "code",
   "execution_count": null,
   "metadata": {},
   "outputs": [],
   "source": []
  }
 ],
 "metadata": {
  "language_info": {
   "codemirror_mode": {
    "name": "ipython",
    "version": 3
   },
   "file_extension": ".py",
   "mimetype": "text/x-python",
   "name": "python",
   "nbconvert_exporter": "python",
   "pygments_lexer": "ipython3",
   "version": "3.6.4-final"
  },
  "orig_nbformat": 2,
  "kernelspec": {
   "name": "python36464bitc2077ed07ea84d23aa5b518d224882ab",
   "display_name": "Python 3.6.4 64-bit"
  }
 },
 "nbformat": 4,
 "nbformat_minor": 2
}