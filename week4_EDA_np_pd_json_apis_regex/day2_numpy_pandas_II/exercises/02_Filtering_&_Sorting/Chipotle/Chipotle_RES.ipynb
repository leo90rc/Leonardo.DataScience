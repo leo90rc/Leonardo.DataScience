{
  "cells": [
    {
      "cell_type": "markdown",
      "metadata": {
        "id": "GwADZ_EVrTIz"
      },
      "source": [
        "# 02 - Filtering and Sorting Data"
      ]
    },
    {
      "cell_type": "markdown",
      "metadata": {
        "id": "fEJNz6_wrTI9"
      },
      "source": [
        "\n",
        "\n",
        "### Step 1. Import the necessary libraries"
      ]
    },
    {
      "cell_type": "code",
      "execution_count": 1,
      "metadata": {
        "id": "mnKBxuWUrTI_"
      },
      "outputs": [],
      "source": [
        "import numpy as np\n",
        "import pandas as pd"
      ]
    },
    {
      "cell_type": "markdown",
      "metadata": {
        "id": "5WtKmBY0rTJA"
      },
      "source": [
        "### Step 2. Import the dataset from this [address](https://raw.githubusercontent.com/justmarkham/DAT8/master/data/chipotle.tsv). Assign it to a variable called chipo.\n",
        "\n",
        "This time we are going to pull data directly from the internet."
      ]
    },
    {
      "cell_type": "code",
      "execution_count": 2,
      "metadata": {
        "id": "yElvD1iorTJA"
      },
      "outputs": [],
      "source": [
        "address = \"https://raw.githubusercontent.com/justmarkham/DAT8/master/data/chipotle.tsv\"\n",
        "chipo = pd.read_csv(address, sep = \"\\t\")"
      ]
    },
    {
      "cell_type": "code",
      "execution_count": 3,
      "metadata": {
        "id": "faTr42rdrTJB",
        "outputId": "8f95991f-a767-4c85-854d-c8b8011112f2"
      },
      "outputs": [
        {
          "data": {
            "text/html": [
              "<div>\n",
              "<style scoped>\n",
              "    .dataframe tbody tr th:only-of-type {\n",
              "        vertical-align: middle;\n",
              "    }\n",
              "\n",
              "    .dataframe tbody tr th {\n",
              "        vertical-align: top;\n",
              "    }\n",
              "\n",
              "    .dataframe thead th {\n",
              "        text-align: right;\n",
              "    }\n",
              "</style>\n",
              "<table border=\"1\" class=\"dataframe\">\n",
              "  <thead>\n",
              "    <tr style=\"text-align: right;\">\n",
              "      <th></th>\n",
              "      <th>order_id</th>\n",
              "      <th>quantity</th>\n",
              "      <th>item_name</th>\n",
              "      <th>choice_description</th>\n",
              "      <th>item_price</th>\n",
              "    </tr>\n",
              "  </thead>\n",
              "  <tbody>\n",
              "    <tr>\n",
              "      <th>0</th>\n",
              "      <td>1</td>\n",
              "      <td>1</td>\n",
              "      <td>Chips and Fresh Tomato Salsa</td>\n",
              "      <td>NaN</td>\n",
              "      <td>$2.39</td>\n",
              "    </tr>\n",
              "    <tr>\n",
              "      <th>1</th>\n",
              "      <td>1</td>\n",
              "      <td>1</td>\n",
              "      <td>Izze</td>\n",
              "      <td>[Clementine]</td>\n",
              "      <td>$3.39</td>\n",
              "    </tr>\n",
              "    <tr>\n",
              "      <th>2</th>\n",
              "      <td>1</td>\n",
              "      <td>1</td>\n",
              "      <td>Nantucket Nectar</td>\n",
              "      <td>[Apple]</td>\n",
              "      <td>$3.39</td>\n",
              "    </tr>\n",
              "    <tr>\n",
              "      <th>3</th>\n",
              "      <td>1</td>\n",
              "      <td>1</td>\n",
              "      <td>Chips and Tomatillo-Green Chili Salsa</td>\n",
              "      <td>NaN</td>\n",
              "      <td>$2.39</td>\n",
              "    </tr>\n",
              "    <tr>\n",
              "      <th>4</th>\n",
              "      <td>2</td>\n",
              "      <td>2</td>\n",
              "      <td>Chicken Bowl</td>\n",
              "      <td>[Tomatillo-Red Chili Salsa (Hot), [Black Beans...</td>\n",
              "      <td>$16.98</td>\n",
              "    </tr>\n",
              "  </tbody>\n",
              "</table>\n",
              "</div>"
            ],
            "text/plain": [
              "   order_id  quantity                              item_name  \\\n",
              "0         1         1           Chips and Fresh Tomato Salsa   \n",
              "1         1         1                                   Izze   \n",
              "2         1         1                       Nantucket Nectar   \n",
              "3         1         1  Chips and Tomatillo-Green Chili Salsa   \n",
              "4         2         2                           Chicken Bowl   \n",
              "\n",
              "                                  choice_description item_price  \n",
              "0                                                NaN     $2.39   \n",
              "1                                       [Clementine]     $3.39   \n",
              "2                                            [Apple]     $3.39   \n",
              "3                                                NaN     $2.39   \n",
              "4  [Tomatillo-Red Chili Salsa (Hot), [Black Beans...    $16.98   "
            ]
          },
          "execution_count": 3,
          "metadata": {},
          "output_type": "execute_result"
        }
      ],
      "source": [
        "chipo.head()"
      ]
    },
    {
      "cell_type": "markdown",
      "metadata": {
        "id": "UUM5tZTfrTJC"
      },
      "source": [
        "### Step 3. Name of the most expensive products (item_name)\n",
        "\n",
        "¿Recuerdas el `map`? En **pandas** tienes el método [`apply`](https://pandas.pydata.org/pandas-docs/stable/reference/api/pandas.DataFrame.apply.html) y para resolver este ejercicio te puede ser muy útil. \n",
        "\n",
        "Pero no acaba ahí https://stackoverflow.com/questions/19798153/difference-between-map-applymap-and-apply-methods-in-pandas"
      ]
    },
    {
      "cell_type": "code",
      "execution_count": 4,
      "metadata": {
        "id": "JLn9MX0orTJD"
      },
      "outputs": [],
      "source": [
        "chipo['price_w'] = chipo.item_price.apply(lambda x: float(x[1:]))"
      ]
    },
    {
      "cell_type": "code",
      "execution_count": 5,
      "metadata": {
        "id": "HFTnjP3RrTJE",
        "outputId": "052c81db-bd9c-4a4f-f193-b6211a948189"
      },
      "outputs": [
        {
          "data": {
            "text/html": [
              "<div>\n",
              "<style scoped>\n",
              "    .dataframe tbody tr th:only-of-type {\n",
              "        vertical-align: middle;\n",
              "    }\n",
              "\n",
              "    .dataframe tbody tr th {\n",
              "        vertical-align: top;\n",
              "    }\n",
              "\n",
              "    .dataframe thead th {\n",
              "        text-align: right;\n",
              "    }\n",
              "</style>\n",
              "<table border=\"1\" class=\"dataframe\">\n",
              "  <thead>\n",
              "    <tr style=\"text-align: right;\">\n",
              "      <th></th>\n",
              "      <th>order_id</th>\n",
              "      <th>quantity</th>\n",
              "      <th>item_name</th>\n",
              "      <th>choice_description</th>\n",
              "      <th>item_price</th>\n",
              "      <th>price_w</th>\n",
              "    </tr>\n",
              "  </thead>\n",
              "  <tbody>\n",
              "    <tr>\n",
              "      <th>3598</th>\n",
              "      <td>1443</td>\n",
              "      <td>15</td>\n",
              "      <td>Chips and Fresh Tomato Salsa</td>\n",
              "      <td>NaN</td>\n",
              "      <td>$44.25</td>\n",
              "      <td>44.25</td>\n",
              "    </tr>\n",
              "    <tr>\n",
              "      <th>3480</th>\n",
              "      <td>1398</td>\n",
              "      <td>3</td>\n",
              "      <td>Carnitas Bowl</td>\n",
              "      <td>[Roasted Chili Corn Salsa, [Fajita Vegetables,...</td>\n",
              "      <td>$35.25</td>\n",
              "      <td>35.25</td>\n",
              "    </tr>\n",
              "    <tr>\n",
              "      <th>1254</th>\n",
              "      <td>511</td>\n",
              "      <td>4</td>\n",
              "      <td>Chicken Burrito</td>\n",
              "      <td>[Fresh Tomato Salsa, [Fajita Vegetables, Rice,...</td>\n",
              "      <td>$35.00</td>\n",
              "      <td>35.00</td>\n",
              "    </tr>\n",
              "    <tr>\n",
              "      <th>3602</th>\n",
              "      <td>1443</td>\n",
              "      <td>4</td>\n",
              "      <td>Chicken Burrito</td>\n",
              "      <td>[Fresh Tomato Salsa, [Rice, Black Beans, Chees...</td>\n",
              "      <td>$35.00</td>\n",
              "      <td>35.00</td>\n",
              "    </tr>\n",
              "    <tr>\n",
              "      <th>3601</th>\n",
              "      <td>1443</td>\n",
              "      <td>3</td>\n",
              "      <td>Veggie Burrito</td>\n",
              "      <td>[Fresh Tomato Salsa, [Fajita Vegetables, Rice,...</td>\n",
              "      <td>$33.75</td>\n",
              "      <td>33.75</td>\n",
              "    </tr>\n",
              "  </tbody>\n",
              "</table>\n",
              "</div>"
            ],
            "text/plain": [
              "      order_id  quantity                     item_name  \\\n",
              "3598      1443        15  Chips and Fresh Tomato Salsa   \n",
              "3480      1398         3                 Carnitas Bowl   \n",
              "1254       511         4               Chicken Burrito   \n",
              "3602      1443         4               Chicken Burrito   \n",
              "3601      1443         3                Veggie Burrito   \n",
              "\n",
              "                                     choice_description item_price  price_w  \n",
              "3598                                                NaN    $44.25     44.25  \n",
              "3480  [Roasted Chili Corn Salsa, [Fajita Vegetables,...    $35.25     35.25  \n",
              "1254  [Fresh Tomato Salsa, [Fajita Vegetables, Rice,...    $35.00     35.00  \n",
              "3602  [Fresh Tomato Salsa, [Rice, Black Beans, Chees...    $35.00     35.00  \n",
              "3601  [Fresh Tomato Salsa, [Fajita Vegetables, Rice,...    $33.75     33.75  "
            ]
          },
          "execution_count": 5,
          "metadata": {},
          "output_type": "execute_result"
        }
      ],
      "source": [
        "#1\n",
        "ordenado = chipo.sort_values(\"price_w\", ascending = False)\n",
        "ordenado.head()"
      ]
    },
    {
      "cell_type": "code",
      "execution_count": 6,
      "metadata": {
        "id": "-rRMugerrTJE",
        "outputId": "e56bbe47-1a57-4aef-fa69-67ff14a76e80"
      },
      "outputs": [
        {
          "data": {
            "text/plain": [
              "3598"
            ]
          },
          "execution_count": 6,
          "metadata": {},
          "output_type": "execute_result"
        }
      ],
      "source": [
        "ordenado[\"price_w\"].index[0]"
      ]
    },
    {
      "cell_type": "code",
      "execution_count": 7,
      "metadata": {
        "id": "qMhoOtjCrTJF",
        "outputId": "c527f031-ff99-4a44-bd8a-8507f9413650"
      },
      "outputs": [
        {
          "data": {
            "text/plain": [
              "'Chips and Fresh Tomato Salsa'"
            ]
          },
          "execution_count": 7,
          "metadata": {},
          "output_type": "execute_result"
        }
      ],
      "source": [
        "chipo[\"item_name\"][ordenado[\"price_w\"].index[0]]"
      ]
    },
    {
      "cell_type": "code",
      "execution_count": 8,
      "metadata": {
        "id": "xrp7XyDnrTJF",
        "outputId": "e8a2e5c0-e570-4405-d225-5552953746da"
      },
      "outputs": [
        {
          "data": {
            "text/plain": [
              "'Chips and Fresh Tomato Salsa'"
            ]
          },
          "execution_count": 8,
          "metadata": {},
          "output_type": "execute_result"
        }
      ],
      "source": [
        "#2\n",
        "chipo[\"item_name\"][chipo.price_w == chipo.price_w.max()].values[0]"
      ]
    },
    {
      "cell_type": "code",
      "execution_count": 9,
      "metadata": {
        "id": "ZY_UJ6PzrTJG",
        "outputId": "81884e3d-a22e-4292-ec2c-141743d75b57"
      },
      "outputs": [
        {
          "data": {
            "text/plain": [
              "3598"
            ]
          },
          "execution_count": 9,
          "metadata": {},
          "output_type": "execute_result"
        }
      ],
      "source": [
        "#3 \n",
        "chipo.price_w.idxmax()"
      ]
    },
    {
      "cell_type": "code",
      "execution_count": 10,
      "metadata": {
        "id": "jjaoDvXorTJH",
        "outputId": "6cba6b56-fe50-43cb-964b-5c4e0f4bbb17"
      },
      "outputs": [
        {
          "data": {
            "text/plain": [
              "'Chips and Fresh Tomato Salsa'"
            ]
          },
          "execution_count": 10,
          "metadata": {},
          "output_type": "execute_result"
        }
      ],
      "source": [
        "chipo[\"item_name\"][chipo.price_w.idxmax()]"
      ]
    },
    {
      "cell_type": "markdown",
      "metadata": {
        "id": "UkvXq7NkrTJH"
      },
      "source": [
        "### Step 4. How many products cost more than $10.00?"
      ]
    },
    {
      "cell_type": "code",
      "execution_count": 11,
      "metadata": {
        "id": "kP6nFmCHrTJI"
      },
      "outputs": [],
      "source": [
        "chipo[\"price_ud\"] = chipo[\"price_w\"] / chipo['quantity']"
      ]
    },
    {
      "cell_type": "code",
      "execution_count": 12,
      "metadata": {
        "id": "aw4aqDccrTJI",
        "outputId": "e96005ef-ad9c-4358-e91b-960be46a6f33"
      },
      "outputs": [
        {
          "data": {
            "text/html": [
              "<div>\n",
              "<style scoped>\n",
              "    .dataframe tbody tr th:only-of-type {\n",
              "        vertical-align: middle;\n",
              "    }\n",
              "\n",
              "    .dataframe tbody tr th {\n",
              "        vertical-align: top;\n",
              "    }\n",
              "\n",
              "    .dataframe thead th {\n",
              "        text-align: right;\n",
              "    }\n",
              "</style>\n",
              "<table border=\"1\" class=\"dataframe\">\n",
              "  <thead>\n",
              "    <tr style=\"text-align: right;\">\n",
              "      <th></th>\n",
              "      <th>order_id</th>\n",
              "      <th>quantity</th>\n",
              "      <th>item_name</th>\n",
              "      <th>choice_description</th>\n",
              "      <th>item_price</th>\n",
              "      <th>price_w</th>\n",
              "      <th>price_ud</th>\n",
              "    </tr>\n",
              "  </thead>\n",
              "  <tbody>\n",
              "    <tr>\n",
              "      <th>3598</th>\n",
              "      <td>1443</td>\n",
              "      <td>15</td>\n",
              "      <td>Chips and Fresh Tomato Salsa</td>\n",
              "      <td>NaN</td>\n",
              "      <td>$44.25</td>\n",
              "      <td>44.25</td>\n",
              "      <td>2.95</td>\n",
              "    </tr>\n",
              "  </tbody>\n",
              "</table>\n",
              "</div>"
            ],
            "text/plain": [
              "      order_id  quantity                     item_name choice_description  \\\n",
              "3598      1443        15  Chips and Fresh Tomato Salsa                NaN   \n",
              "\n",
              "     item_price  price_w  price_ud  \n",
              "3598    $44.25     44.25      2.95  "
            ]
          },
          "execution_count": 12,
          "metadata": {},
          "output_type": "execute_result"
        }
      ],
      "source": [
        "chipo[chipo.quantity == 15]"
      ]
    },
    {
      "cell_type": "code",
      "execution_count": 13,
      "metadata": {
        "id": "c-auYPWprTJJ",
        "outputId": "8c77e221-982d-413c-ae8f-57433b4c6c64"
      },
      "outputs": [
        {
          "data": {
            "text/plain": [
              "1034"
            ]
          },
          "execution_count": 13,
          "metadata": {},
          "output_type": "execute_result"
        }
      ],
      "source": [
        "chipo[chipo.price_ud > 10].shape[0]"
      ]
    },
    {
      "cell_type": "markdown",
      "metadata": {
        "id": "KNVQp01arTJJ"
      },
      "source": [
        "### Step 5. What is the price of each item? \n",
        "###### print a data frame with only two columns item_name and item_price"
      ]
    },
    {
      "cell_type": "markdown",
      "metadata": {
        "id": "BpB4oRaZrTJJ"
      },
      "source": [
        "https://pandas.pydata.org/pandas-docs/stable/reference/api/pandas.Series.drop_duplicates.html"
      ]
    },
    {
      "cell_type": "code",
      "execution_count": 14,
      "metadata": {
        "id": "0Vwu33yjrTJK",
        "outputId": "bfadd47a-3583-4446-c597-26a986ec963d"
      },
      "outputs": [
        {
          "data": {
            "text/plain": [
              "50"
            ]
          },
          "execution_count": 14,
          "metadata": {},
          "output_type": "execute_result"
        }
      ],
      "source": [
        "chipo['item_name'].nunique()"
      ]
    },
    {
      "cell_type": "code",
      "execution_count": 15,
      "metadata": {
        "id": "dbtG3DiYrTJK",
        "outputId": "c4a2336e-2f9b-46c0-9ec4-54dd9cdd5baa"
      },
      "outputs": [
        {
          "data": {
            "text/html": [
              "<div>\n",
              "<style scoped>\n",
              "    .dataframe tbody tr th:only-of-type {\n",
              "        vertical-align: middle;\n",
              "    }\n",
              "\n",
              "    .dataframe tbody tr th {\n",
              "        vertical-align: top;\n",
              "    }\n",
              "\n",
              "    .dataframe thead th {\n",
              "        text-align: right;\n",
              "    }\n",
              "</style>\n",
              "<table border=\"1\" class=\"dataframe\">\n",
              "  <thead>\n",
              "    <tr style=\"text-align: right;\">\n",
              "      <th></th>\n",
              "      <th>item_name</th>\n",
              "      <th>item_price</th>\n",
              "    </tr>\n",
              "  </thead>\n",
              "  <tbody>\n",
              "    <tr>\n",
              "      <th>0</th>\n",
              "      <td>Chips and Fresh Tomato Salsa</td>\n",
              "      <td>$2.39</td>\n",
              "    </tr>\n",
              "    <tr>\n",
              "      <th>1</th>\n",
              "      <td>Izze</td>\n",
              "      <td>$3.39</td>\n",
              "    </tr>\n",
              "    <tr>\n",
              "      <th>2</th>\n",
              "      <td>Nantucket Nectar</td>\n",
              "      <td>$3.39</td>\n",
              "    </tr>\n",
              "    <tr>\n",
              "      <th>3</th>\n",
              "      <td>Chips and Tomatillo-Green Chili Salsa</td>\n",
              "      <td>$2.39</td>\n",
              "    </tr>\n",
              "    <tr>\n",
              "      <th>4</th>\n",
              "      <td>Chicken Bowl</td>\n",
              "      <td>$16.98</td>\n",
              "    </tr>\n",
              "    <tr>\n",
              "      <th>6</th>\n",
              "      <td>Side of Chips</td>\n",
              "      <td>$1.69</td>\n",
              "    </tr>\n",
              "    <tr>\n",
              "      <th>7</th>\n",
              "      <td>Steak Burrito</td>\n",
              "      <td>$11.75</td>\n",
              "    </tr>\n",
              "    <tr>\n",
              "      <th>8</th>\n",
              "      <td>Steak Soft Tacos</td>\n",
              "      <td>$9.25</td>\n",
              "    </tr>\n",
              "    <tr>\n",
              "      <th>10</th>\n",
              "      <td>Chips and Guacamole</td>\n",
              "      <td>$4.45</td>\n",
              "    </tr>\n",
              "    <tr>\n",
              "      <th>11</th>\n",
              "      <td>Chicken Crispy Tacos</td>\n",
              "      <td>$8.75</td>\n",
              "    </tr>\n",
              "    <tr>\n",
              "      <th>12</th>\n",
              "      <td>Chicken Soft Tacos</td>\n",
              "      <td>$8.75</td>\n",
              "    </tr>\n",
              "    <tr>\n",
              "      <th>16</th>\n",
              "      <td>Chicken Burrito</td>\n",
              "      <td>$8.49</td>\n",
              "    </tr>\n",
              "    <tr>\n",
              "      <th>18</th>\n",
              "      <td>Canned Soda</td>\n",
              "      <td>$2.18</td>\n",
              "    </tr>\n",
              "    <tr>\n",
              "      <th>21</th>\n",
              "      <td>Barbacoa Burrito</td>\n",
              "      <td>$8.99</td>\n",
              "    </tr>\n",
              "    <tr>\n",
              "      <th>27</th>\n",
              "      <td>Carnitas Burrito</td>\n",
              "      <td>$8.99</td>\n",
              "    </tr>\n",
              "    <tr>\n",
              "      <th>33</th>\n",
              "      <td>Carnitas Bowl</td>\n",
              "      <td>$8.99</td>\n",
              "    </tr>\n",
              "    <tr>\n",
              "      <th>34</th>\n",
              "      <td>Bottled Water</td>\n",
              "      <td>$1.09</td>\n",
              "    </tr>\n",
              "    <tr>\n",
              "      <th>38</th>\n",
              "      <td>Chips and Tomatillo Green Chili Salsa</td>\n",
              "      <td>$2.95</td>\n",
              "    </tr>\n",
              "    <tr>\n",
              "      <th>39</th>\n",
              "      <td>Barbacoa Bowl</td>\n",
              "      <td>$11.75</td>\n",
              "    </tr>\n",
              "    <tr>\n",
              "      <th>40</th>\n",
              "      <td>Chips</td>\n",
              "      <td>$2.15</td>\n",
              "    </tr>\n",
              "    <tr>\n",
              "      <th>44</th>\n",
              "      <td>Chicken Salad Bowl</td>\n",
              "      <td>$8.75</td>\n",
              "    </tr>\n",
              "    <tr>\n",
              "      <th>54</th>\n",
              "      <td>Steak Bowl</td>\n",
              "      <td>$8.99</td>\n",
              "    </tr>\n",
              "    <tr>\n",
              "      <th>56</th>\n",
              "      <td>Barbacoa Soft Tacos</td>\n",
              "      <td>$9.25</td>\n",
              "    </tr>\n",
              "    <tr>\n",
              "      <th>57</th>\n",
              "      <td>Veggie Burrito</td>\n",
              "      <td>$11.25</td>\n",
              "    </tr>\n",
              "    <tr>\n",
              "      <th>62</th>\n",
              "      <td>Veggie Bowl</td>\n",
              "      <td>$11.25</td>\n",
              "    </tr>\n",
              "    <tr>\n",
              "      <th>92</th>\n",
              "      <td>Steak Crispy Tacos</td>\n",
              "      <td>$9.25</td>\n",
              "    </tr>\n",
              "    <tr>\n",
              "      <th>111</th>\n",
              "      <td>Chips and Tomatillo Red Chili Salsa</td>\n",
              "      <td>$2.95</td>\n",
              "    </tr>\n",
              "    <tr>\n",
              "      <th>168</th>\n",
              "      <td>Barbacoa Crispy Tacos</td>\n",
              "      <td>$11.75</td>\n",
              "    </tr>\n",
              "    <tr>\n",
              "      <th>186</th>\n",
              "      <td>Veggie Salad Bowl</td>\n",
              "      <td>$11.25</td>\n",
              "    </tr>\n",
              "    <tr>\n",
              "      <th>191</th>\n",
              "      <td>Chips and Roasted Chili-Corn Salsa</td>\n",
              "      <td>$2.39</td>\n",
              "    </tr>\n",
              "    <tr>\n",
              "      <th>233</th>\n",
              "      <td>Chips and Roasted Chili Corn Salsa</td>\n",
              "      <td>$2.95</td>\n",
              "    </tr>\n",
              "    <tr>\n",
              "      <th>237</th>\n",
              "      <td>Carnitas Soft Tacos</td>\n",
              "      <td>$9.25</td>\n",
              "    </tr>\n",
              "    <tr>\n",
              "      <th>250</th>\n",
              "      <td>Chicken Salad</td>\n",
              "      <td>$10.98</td>\n",
              "    </tr>\n",
              "    <tr>\n",
              "      <th>263</th>\n",
              "      <td>Canned Soft Drink</td>\n",
              "      <td>$1.25</td>\n",
              "    </tr>\n",
              "    <tr>\n",
              "      <th>281</th>\n",
              "      <td>Steak Salad Bowl</td>\n",
              "      <td>$23.78</td>\n",
              "    </tr>\n",
              "    <tr>\n",
              "      <th>298</th>\n",
              "      <td>6 Pack Soft Drink</td>\n",
              "      <td>$6.49</td>\n",
              "    </tr>\n",
              "    <tr>\n",
              "      <th>300</th>\n",
              "      <td>Chips and Tomatillo-Red Chili Salsa</td>\n",
              "      <td>$2.39</td>\n",
              "    </tr>\n",
              "    <tr>\n",
              "      <th>445</th>\n",
              "      <td>Bowl</td>\n",
              "      <td>$22.20</td>\n",
              "    </tr>\n",
              "    <tr>\n",
              "      <th>510</th>\n",
              "      <td>Burrito</td>\n",
              "      <td>$7.40</td>\n",
              "    </tr>\n",
              "    <tr>\n",
              "      <th>520</th>\n",
              "      <td>Crispy Tacos</td>\n",
              "      <td>$7.40</td>\n",
              "    </tr>\n",
              "    <tr>\n",
              "      <th>554</th>\n",
              "      <td>Carnitas Crispy Tacos</td>\n",
              "      <td>$9.25</td>\n",
              "    </tr>\n",
              "    <tr>\n",
              "      <th>664</th>\n",
              "      <td>Steak Salad</td>\n",
              "      <td>$8.99</td>\n",
              "    </tr>\n",
              "    <tr>\n",
              "      <th>674</th>\n",
              "      <td>Chips and Mild Fresh Tomato Salsa</td>\n",
              "      <td>$3.00</td>\n",
              "    </tr>\n",
              "    <tr>\n",
              "      <th>738</th>\n",
              "      <td>Veggie Soft Tacos</td>\n",
              "      <td>$11.25</td>\n",
              "    </tr>\n",
              "    <tr>\n",
              "      <th>1132</th>\n",
              "      <td>Carnitas Salad Bowl</td>\n",
              "      <td>$11.89</td>\n",
              "    </tr>\n",
              "    <tr>\n",
              "      <th>1229</th>\n",
              "      <td>Barbacoa Salad Bowl</td>\n",
              "      <td>$11.89</td>\n",
              "    </tr>\n",
              "    <tr>\n",
              "      <th>1414</th>\n",
              "      <td>Salad</td>\n",
              "      <td>$7.40</td>\n",
              "    </tr>\n",
              "    <tr>\n",
              "      <th>1653</th>\n",
              "      <td>Veggie Crispy Tacos</td>\n",
              "      <td>$8.49</td>\n",
              "    </tr>\n",
              "    <tr>\n",
              "      <th>1694</th>\n",
              "      <td>Veggie Salad</td>\n",
              "      <td>$8.49</td>\n",
              "    </tr>\n",
              "    <tr>\n",
              "      <th>3750</th>\n",
              "      <td>Carnitas Salad</td>\n",
              "      <td>$8.99</td>\n",
              "    </tr>\n",
              "  </tbody>\n",
              "</table>\n",
              "</div>"
            ],
            "text/plain": [
              "                                  item_name item_price\n",
              "0              Chips and Fresh Tomato Salsa     $2.39 \n",
              "1                                      Izze     $3.39 \n",
              "2                          Nantucket Nectar     $3.39 \n",
              "3     Chips and Tomatillo-Green Chili Salsa     $2.39 \n",
              "4                              Chicken Bowl    $16.98 \n",
              "6                             Side of Chips     $1.69 \n",
              "7                             Steak Burrito    $11.75 \n",
              "8                          Steak Soft Tacos     $9.25 \n",
              "10                      Chips and Guacamole     $4.45 \n",
              "11                     Chicken Crispy Tacos     $8.75 \n",
              "12                       Chicken Soft Tacos     $8.75 \n",
              "16                          Chicken Burrito     $8.49 \n",
              "18                              Canned Soda     $2.18 \n",
              "21                         Barbacoa Burrito     $8.99 \n",
              "27                         Carnitas Burrito     $8.99 \n",
              "33                            Carnitas Bowl     $8.99 \n",
              "34                            Bottled Water     $1.09 \n",
              "38    Chips and Tomatillo Green Chili Salsa     $2.95 \n",
              "39                            Barbacoa Bowl    $11.75 \n",
              "40                                    Chips     $2.15 \n",
              "44                       Chicken Salad Bowl     $8.75 \n",
              "54                               Steak Bowl     $8.99 \n",
              "56                      Barbacoa Soft Tacos     $9.25 \n",
              "57                           Veggie Burrito    $11.25 \n",
              "62                              Veggie Bowl    $11.25 \n",
              "92                       Steak Crispy Tacos     $9.25 \n",
              "111     Chips and Tomatillo Red Chili Salsa     $2.95 \n",
              "168                   Barbacoa Crispy Tacos    $11.75 \n",
              "186                       Veggie Salad Bowl    $11.25 \n",
              "191      Chips and Roasted Chili-Corn Salsa     $2.39 \n",
              "233      Chips and Roasted Chili Corn Salsa     $2.95 \n",
              "237                     Carnitas Soft Tacos     $9.25 \n",
              "250                           Chicken Salad    $10.98 \n",
              "263                       Canned Soft Drink     $1.25 \n",
              "281                        Steak Salad Bowl    $23.78 \n",
              "298                       6 Pack Soft Drink     $6.49 \n",
              "300     Chips and Tomatillo-Red Chili Salsa     $2.39 \n",
              "445                                    Bowl    $22.20 \n",
              "510                                 Burrito     $7.40 \n",
              "520                            Crispy Tacos     $7.40 \n",
              "554                   Carnitas Crispy Tacos     $9.25 \n",
              "664                             Steak Salad     $8.99 \n",
              "674       Chips and Mild Fresh Tomato Salsa     $3.00 \n",
              "738                       Veggie Soft Tacos    $11.25 \n",
              "1132                    Carnitas Salad Bowl    $11.89 \n",
              "1229                    Barbacoa Salad Bowl    $11.89 \n",
              "1414                                  Salad     $7.40 \n",
              "1653                    Veggie Crispy Tacos     $8.49 \n",
              "1694                           Veggie Salad     $8.49 \n",
              "3750                         Carnitas Salad     $8.99 "
            ]
          },
          "execution_count": 15,
          "metadata": {},
          "output_type": "execute_result"
        }
      ],
      "source": [
        "#1\n",
        "chipo[[\"item_name\", \"item_price\"]].drop_duplicates(\"item_name\")"
      ]
    },
    {
      "cell_type": "code",
      "execution_count": 16,
      "metadata": {
        "id": "OvkJM3mzrTJL",
        "outputId": "aa59d71b-fd18-480b-8049-029da5d62caa"
      },
      "outputs": [
        {
          "data": {
            "text/plain": [
              "item_name\n",
              "6 Pack Soft Drink                         6.49\n",
              "Barbacoa Bowl                            11.75\n",
              "Barbacoa Burrito                         11.75\n",
              "Barbacoa Crispy Tacos                    11.75\n",
              "Barbacoa Salad Bowl                      11.89\n",
              "Barbacoa Soft Tacos                      11.75\n",
              "Bottled Water                             1.50\n",
              "Bowl                                      7.40\n",
              "Burrito                                   7.40\n",
              "Canned Soda                               1.09\n",
              "Canned Soft Drink                         1.25\n",
              "Carnitas Bowl                            11.75\n",
              "Carnitas Burrito                         11.75\n",
              "Carnitas Crispy Tacos                    11.75\n",
              "Carnitas Salad                            8.99\n",
              "Carnitas Salad Bowl                      11.89\n",
              "Carnitas Soft Tacos                      11.75\n",
              "Chicken Bowl                             11.25\n",
              "Chicken Burrito                          11.25\n",
              "Chicken Crispy Tacos                     11.25\n",
              "Chicken Salad                            10.98\n",
              "Chicken Salad Bowl                       11.25\n",
              "Chicken Soft Tacos                       11.25\n",
              "Chips                                     2.15\n",
              "Chips and Fresh Tomato Salsa              2.95\n",
              "Chips and Guacamole                       4.45\n",
              "Chips and Mild Fresh Tomato Salsa         3.00\n",
              "Chips and Roasted Chili Corn Salsa        2.95\n",
              "Chips and Roasted Chili-Corn Salsa        2.39\n",
              "Chips and Tomatillo Green Chili Salsa     2.95\n",
              "Chips and Tomatillo Red Chili Salsa       2.95\n",
              "Chips and Tomatillo-Green Chili Salsa     2.39\n",
              "Chips and Tomatillo-Red Chili Salsa       2.39\n",
              "Crispy Tacos                              7.40\n",
              "Izze                                      3.39\n",
              "Nantucket Nectar                          3.39\n",
              "Salad                                     7.40\n",
              "Side of Chips                             1.69\n",
              "Steak Bowl                               11.75\n",
              "Steak Burrito                            11.75\n",
              "Steak Crispy Tacos                       11.75\n",
              "Steak Salad                               8.99\n",
              "Steak Salad Bowl                         11.89\n",
              "Steak Soft Tacos                         11.75\n",
              "Veggie Bowl                              11.25\n",
              "Veggie Burrito                           11.25\n",
              "Veggie Crispy Tacos                       8.49\n",
              "Veggie Salad                              8.49\n",
              "Veggie Salad Bowl                        11.25\n",
              "Veggie Soft Tacos                        11.25\n",
              "Name: price_ud, dtype: float64"
            ]
          },
          "execution_count": 16,
          "metadata": {},
          "output_type": "execute_result"
        }
      ],
      "source": [
        "#2\n",
        "chipo.groupby('item_name')['price_ud'].max()"
      ]
    },
    {
      "cell_type": "markdown",
      "metadata": {
        "id": "kFiaIZX8rTJL"
      },
      "source": [
        "### Step 6. Sort by the name of the item"
      ]
    },
    {
      "cell_type": "code",
      "execution_count": 17,
      "metadata": {
        "id": "_GFn_ih2rTJL",
        "outputId": "277429d9-dc62-4274-cb8b-29ef65bc4894"
      },
      "outputs": [
        {
          "data": {
            "text/html": [
              "<div>\n",
              "<style scoped>\n",
              "    .dataframe tbody tr th:only-of-type {\n",
              "        vertical-align: middle;\n",
              "    }\n",
              "\n",
              "    .dataframe tbody tr th {\n",
              "        vertical-align: top;\n",
              "    }\n",
              "\n",
              "    .dataframe thead th {\n",
              "        text-align: right;\n",
              "    }\n",
              "</style>\n",
              "<table border=\"1\" class=\"dataframe\">\n",
              "  <thead>\n",
              "    <tr style=\"text-align: right;\">\n",
              "      <th></th>\n",
              "      <th>order_id</th>\n",
              "      <th>quantity</th>\n",
              "      <th>item_name</th>\n",
              "      <th>choice_description</th>\n",
              "      <th>item_price</th>\n",
              "      <th>price_w</th>\n",
              "      <th>price_ud</th>\n",
              "    </tr>\n",
              "  </thead>\n",
              "  <tbody>\n",
              "    <tr>\n",
              "      <th>3389</th>\n",
              "      <td>1360</td>\n",
              "      <td>2</td>\n",
              "      <td>6 Pack Soft Drink</td>\n",
              "      <td>[Diet Coke]</td>\n",
              "      <td>$12.98</td>\n",
              "      <td>12.98</td>\n",
              "      <td>6.49</td>\n",
              "    </tr>\n",
              "    <tr>\n",
              "      <th>341</th>\n",
              "      <td>148</td>\n",
              "      <td>1</td>\n",
              "      <td>6 Pack Soft Drink</td>\n",
              "      <td>[Diet Coke]</td>\n",
              "      <td>$6.49</td>\n",
              "      <td>6.49</td>\n",
              "      <td>6.49</td>\n",
              "    </tr>\n",
              "    <tr>\n",
              "      <th>1849</th>\n",
              "      <td>749</td>\n",
              "      <td>1</td>\n",
              "      <td>6 Pack Soft Drink</td>\n",
              "      <td>[Coke]</td>\n",
              "      <td>$6.49</td>\n",
              "      <td>6.49</td>\n",
              "      <td>6.49</td>\n",
              "    </tr>\n",
              "    <tr>\n",
              "      <th>1860</th>\n",
              "      <td>754</td>\n",
              "      <td>1</td>\n",
              "      <td>6 Pack Soft Drink</td>\n",
              "      <td>[Diet Coke]</td>\n",
              "      <td>$6.49</td>\n",
              "      <td>6.49</td>\n",
              "      <td>6.49</td>\n",
              "    </tr>\n",
              "    <tr>\n",
              "      <th>2713</th>\n",
              "      <td>1076</td>\n",
              "      <td>1</td>\n",
              "      <td>6 Pack Soft Drink</td>\n",
              "      <td>[Coke]</td>\n",
              "      <td>$6.49</td>\n",
              "      <td>6.49</td>\n",
              "      <td>6.49</td>\n",
              "    </tr>\n",
              "    <tr>\n",
              "      <th>...</th>\n",
              "      <td>...</td>\n",
              "      <td>...</td>\n",
              "      <td>...</td>\n",
              "      <td>...</td>\n",
              "      <td>...</td>\n",
              "      <td>...</td>\n",
              "      <td>...</td>\n",
              "    </tr>\n",
              "    <tr>\n",
              "      <th>2384</th>\n",
              "      <td>948</td>\n",
              "      <td>1</td>\n",
              "      <td>Veggie Soft Tacos</td>\n",
              "      <td>[Roasted Chili Corn Salsa, [Fajita Vegetables,...</td>\n",
              "      <td>$8.75</td>\n",
              "      <td>8.75</td>\n",
              "      <td>8.75</td>\n",
              "    </tr>\n",
              "    <tr>\n",
              "      <th>781</th>\n",
              "      <td>322</td>\n",
              "      <td>1</td>\n",
              "      <td>Veggie Soft Tacos</td>\n",
              "      <td>[Fresh Tomato Salsa, [Black Beans, Cheese, Sou...</td>\n",
              "      <td>$8.75</td>\n",
              "      <td>8.75</td>\n",
              "      <td>8.75</td>\n",
              "    </tr>\n",
              "    <tr>\n",
              "      <th>2851</th>\n",
              "      <td>1132</td>\n",
              "      <td>1</td>\n",
              "      <td>Veggie Soft Tacos</td>\n",
              "      <td>[Roasted Chili Corn Salsa (Medium), [Black Bea...</td>\n",
              "      <td>$8.49</td>\n",
              "      <td>8.49</td>\n",
              "      <td>8.49</td>\n",
              "    </tr>\n",
              "    <tr>\n",
              "      <th>1699</th>\n",
              "      <td>688</td>\n",
              "      <td>1</td>\n",
              "      <td>Veggie Soft Tacos</td>\n",
              "      <td>[Fresh Tomato Salsa, [Fajita Vegetables, Rice,...</td>\n",
              "      <td>$11.25</td>\n",
              "      <td>11.25</td>\n",
              "      <td>11.25</td>\n",
              "    </tr>\n",
              "    <tr>\n",
              "      <th>1395</th>\n",
              "      <td>567</td>\n",
              "      <td>1</td>\n",
              "      <td>Veggie Soft Tacos</td>\n",
              "      <td>[Fresh Tomato Salsa (Mild), [Pinto Beans, Rice...</td>\n",
              "      <td>$8.49</td>\n",
              "      <td>8.49</td>\n",
              "      <td>8.49</td>\n",
              "    </tr>\n",
              "  </tbody>\n",
              "</table>\n",
              "<p>4622 rows × 7 columns</p>\n",
              "</div>"
            ],
            "text/plain": [
              "      order_id  quantity          item_name  \\\n",
              "3389      1360         2  6 Pack Soft Drink   \n",
              "341        148         1  6 Pack Soft Drink   \n",
              "1849       749         1  6 Pack Soft Drink   \n",
              "1860       754         1  6 Pack Soft Drink   \n",
              "2713      1076         1  6 Pack Soft Drink   \n",
              "...        ...       ...                ...   \n",
              "2384       948         1  Veggie Soft Tacos   \n",
              "781        322         1  Veggie Soft Tacos   \n",
              "2851      1132         1  Veggie Soft Tacos   \n",
              "1699       688         1  Veggie Soft Tacos   \n",
              "1395       567         1  Veggie Soft Tacos   \n",
              "\n",
              "                                     choice_description item_price  price_w  \\\n",
              "3389                                        [Diet Coke]    $12.98     12.98   \n",
              "341                                         [Diet Coke]     $6.49      6.49   \n",
              "1849                                             [Coke]     $6.49      6.49   \n",
              "1860                                        [Diet Coke]     $6.49      6.49   \n",
              "2713                                             [Coke]     $6.49      6.49   \n",
              "...                                                 ...        ...      ...   \n",
              "2384  [Roasted Chili Corn Salsa, [Fajita Vegetables,...     $8.75      8.75   \n",
              "781   [Fresh Tomato Salsa, [Black Beans, Cheese, Sou...     $8.75      8.75   \n",
              "2851  [Roasted Chili Corn Salsa (Medium), [Black Bea...     $8.49      8.49   \n",
              "1699  [Fresh Tomato Salsa, [Fajita Vegetables, Rice,...    $11.25     11.25   \n",
              "1395  [Fresh Tomato Salsa (Mild), [Pinto Beans, Rice...     $8.49      8.49   \n",
              "\n",
              "      price_ud  \n",
              "3389      6.49  \n",
              "341       6.49  \n",
              "1849      6.49  \n",
              "1860      6.49  \n",
              "2713      6.49  \n",
              "...        ...  \n",
              "2384      8.75  \n",
              "781       8.75  \n",
              "2851      8.49  \n",
              "1699     11.25  \n",
              "1395      8.49  \n",
              "\n",
              "[4622 rows x 7 columns]"
            ]
          },
          "execution_count": 17,
          "metadata": {},
          "output_type": "execute_result"
        }
      ],
      "source": [
        "chipo.sort_values(\"item_name\")"
      ]
    },
    {
      "cell_type": "markdown",
      "metadata": {
        "id": "AgjJOgUhrTJM"
      },
      "source": [
        "### Step 7. What was the quantity of the most expensive item ordered? 2 ways"
      ]
    },
    {
      "cell_type": "markdown",
      "metadata": {
        "id": "QRbCifMHrTJM"
      },
      "source": [
        "V1"
      ]
    },
    {
      "cell_type": "code",
      "execution_count": 18,
      "metadata": {
        "id": "2InOxaeGrTJM",
        "outputId": "8214de89-6e59-4e44-ea5e-9c87b5c98be4"
      },
      "outputs": [
        {
          "data": {
            "text/plain": [
              "15"
            ]
          },
          "execution_count": 18,
          "metadata": {},
          "output_type": "execute_result"
        }
      ],
      "source": [
        "chipo.loc[chipo[\"price_w\"].idxmax()]['quantity']"
      ]
    },
    {
      "cell_type": "markdown",
      "metadata": {
        "id": "WS_HRC3VrTJO"
      },
      "source": [
        "V2"
      ]
    },
    {
      "cell_type": "code",
      "execution_count": 19,
      "metadata": {
        "id": "wqKEiGskrTJO",
        "outputId": "360ce426-d635-44ea-cafd-10d45f15728d"
      },
      "outputs": [
        {
          "data": {
            "text/plain": [
              "15"
            ]
          },
          "execution_count": 19,
          "metadata": {},
          "output_type": "execute_result"
        }
      ],
      "source": [
        "chipo.loc[chipo[\"price_w\"] == chipo[\"price_w\"].max()]['quantity'].values[0]"
      ]
    },
    {
      "cell_type": "markdown",
      "metadata": {
        "id": "gzlFdjJ1rTJP"
      },
      "source": [
        "### Step 8. How many times was a Veggie Salad Bowl ordered?"
      ]
    },
    {
      "cell_type": "code",
      "execution_count": 20,
      "metadata": {
        "id": "z0GvVbXdrTJQ",
        "outputId": "bc15bbc6-6e1c-4070-cb2e-da1bff96cb96"
      },
      "outputs": [
        {
          "data": {
            "text/plain": [
              "18"
            ]
          },
          "execution_count": 20,
          "metadata": {},
          "output_type": "execute_result"
        }
      ],
      "source": [
        "chipo[chipo.item_name == \"Veggie Salad Bowl\"].shape[0]"
      ]
    },
    {
      "cell_type": "markdown",
      "metadata": {
        "id": "v0IqG9lArTJS"
      },
      "source": [
        "### Step 9. How many times did someone order more than one Canned Soda?"
      ]
    },
    {
      "cell_type": "code",
      "execution_count": 21,
      "metadata": {
        "id": "AX5phYXYrTJT",
        "outputId": "37838020-1d0e-45ba-8b80-77632248d138"
      },
      "outputs": [
        {
          "data": {
            "text/plain": [
              "20"
            ]
          },
          "execution_count": 21,
          "metadata": {},
          "output_type": "execute_result"
        }
      ],
      "source": [
        "#1 si consideramos que el pedido se corresponde a cada observación\n",
        "chipo[(chipo.item_name == \"Canned Soda\") & (chipo.quantity > 1)].shape[0]"
      ]
    },
    {
      "cell_type": "code",
      "execution_count": 22,
      "metadata": {
        "id": "q8fFPq1brTJU"
      },
      "outputs": [],
      "source": [
        "#2 si consideramos que el pedido se corresponde con el order_id "
      ]
    },
    {
      "cell_type": "code",
      "execution_count": 23,
      "metadata": {
        "id": "iV42JmTHrTJV"
      },
      "outputs": [],
      "source": [
        "df_canned_soda = chipo[chipo.item_name == \"Canned Soda\"]"
      ]
    },
    {
      "cell_type": "code",
      "execution_count": 24,
      "metadata": {
        "id": "w0vckUISrTJV",
        "outputId": "0a53d25a-1756-4f6d-a981-e25307fdbdd3"
      },
      "outputs": [
        {
          "data": {
            "text/html": [
              "<div>\n",
              "<style scoped>\n",
              "    .dataframe tbody tr th:only-of-type {\n",
              "        vertical-align: middle;\n",
              "    }\n",
              "\n",
              "    .dataframe tbody tr th {\n",
              "        vertical-align: top;\n",
              "    }\n",
              "\n",
              "    .dataframe thead th {\n",
              "        text-align: right;\n",
              "    }\n",
              "</style>\n",
              "<table border=\"1\" class=\"dataframe\">\n",
              "  <thead>\n",
              "    <tr style=\"text-align: right;\">\n",
              "      <th></th>\n",
              "      <th>order_id</th>\n",
              "      <th>quantity</th>\n",
              "      <th>item_name</th>\n",
              "      <th>choice_description</th>\n",
              "      <th>item_price</th>\n",
              "      <th>price_w</th>\n",
              "      <th>price_ud</th>\n",
              "    </tr>\n",
              "  </thead>\n",
              "  <tbody>\n",
              "    <tr>\n",
              "      <th>18</th>\n",
              "      <td>9</td>\n",
              "      <td>2</td>\n",
              "      <td>Canned Soda</td>\n",
              "      <td>[Sprite]</td>\n",
              "      <td>$2.18</td>\n",
              "      <td>2.18</td>\n",
              "      <td>1.09</td>\n",
              "    </tr>\n",
              "    <tr>\n",
              "      <th>28</th>\n",
              "      <td>14</td>\n",
              "      <td>1</td>\n",
              "      <td>Canned Soda</td>\n",
              "      <td>[Dr. Pepper]</td>\n",
              "      <td>$1.09</td>\n",
              "      <td>1.09</td>\n",
              "      <td>1.09</td>\n",
              "    </tr>\n",
              "    <tr>\n",
              "      <th>51</th>\n",
              "      <td>23</td>\n",
              "      <td>2</td>\n",
              "      <td>Canned Soda</td>\n",
              "      <td>[Mountain Dew]</td>\n",
              "      <td>$2.18</td>\n",
              "      <td>2.18</td>\n",
              "      <td>1.09</td>\n",
              "    </tr>\n",
              "    <tr>\n",
              "      <th>53</th>\n",
              "      <td>24</td>\n",
              "      <td>1</td>\n",
              "      <td>Canned Soda</td>\n",
              "      <td>[Sprite]</td>\n",
              "      <td>$1.09</td>\n",
              "      <td>1.09</td>\n",
              "      <td>1.09</td>\n",
              "    </tr>\n",
              "    <tr>\n",
              "      <th>107</th>\n",
              "      <td>47</td>\n",
              "      <td>1</td>\n",
              "      <td>Canned Soda</td>\n",
              "      <td>[Dr. Pepper]</td>\n",
              "      <td>$1.09</td>\n",
              "      <td>1.09</td>\n",
              "      <td>1.09</td>\n",
              "    </tr>\n",
              "    <tr>\n",
              "      <th>...</th>\n",
              "      <td>...</td>\n",
              "      <td>...</td>\n",
              "      <td>...</td>\n",
              "      <td>...</td>\n",
              "      <td>...</td>\n",
              "      <td>...</td>\n",
              "      <td>...</td>\n",
              "    </tr>\n",
              "    <tr>\n",
              "      <th>3897</th>\n",
              "      <td>1562</td>\n",
              "      <td>1</td>\n",
              "      <td>Canned Soda</td>\n",
              "      <td>[Mountain Dew]</td>\n",
              "      <td>$1.09</td>\n",
              "      <td>1.09</td>\n",
              "      <td>1.09</td>\n",
              "    </tr>\n",
              "    <tr>\n",
              "      <th>3926</th>\n",
              "      <td>1575</td>\n",
              "      <td>1</td>\n",
              "      <td>Canned Soda</td>\n",
              "      <td>[Dr. Pepper]</td>\n",
              "      <td>$1.09</td>\n",
              "      <td>1.09</td>\n",
              "      <td>1.09</td>\n",
              "    </tr>\n",
              "    <tr>\n",
              "      <th>3936</th>\n",
              "      <td>1578</td>\n",
              "      <td>1</td>\n",
              "      <td>Canned Soda</td>\n",
              "      <td>[Diet Dr. Pepper]</td>\n",
              "      <td>$1.09</td>\n",
              "      <td>1.09</td>\n",
              "      <td>1.09</td>\n",
              "    </tr>\n",
              "    <tr>\n",
              "      <th>4008</th>\n",
              "      <td>1604</td>\n",
              "      <td>1</td>\n",
              "      <td>Canned Soda</td>\n",
              "      <td>[Diet Coke]</td>\n",
              "      <td>$1.09</td>\n",
              "      <td>1.09</td>\n",
              "      <td>1.09</td>\n",
              "    </tr>\n",
              "    <tr>\n",
              "      <th>4051</th>\n",
              "      <td>1621</td>\n",
              "      <td>1</td>\n",
              "      <td>Canned Soda</td>\n",
              "      <td>[Sprite]</td>\n",
              "      <td>$1.09</td>\n",
              "      <td>1.09</td>\n",
              "      <td>1.09</td>\n",
              "    </tr>\n",
              "  </tbody>\n",
              "</table>\n",
              "<p>104 rows × 7 columns</p>\n",
              "</div>"
            ],
            "text/plain": [
              "      order_id  quantity    item_name choice_description item_price  price_w  \\\n",
              "18           9         2  Canned Soda           [Sprite]     $2.18      2.18   \n",
              "28          14         1  Canned Soda       [Dr. Pepper]     $1.09      1.09   \n",
              "51          23         2  Canned Soda     [Mountain Dew]     $2.18      2.18   \n",
              "53          24         1  Canned Soda           [Sprite]     $1.09      1.09   \n",
              "107         47         1  Canned Soda       [Dr. Pepper]     $1.09      1.09   \n",
              "...        ...       ...          ...                ...        ...      ...   \n",
              "3897      1562         1  Canned Soda     [Mountain Dew]     $1.09      1.09   \n",
              "3926      1575         1  Canned Soda       [Dr. Pepper]     $1.09      1.09   \n",
              "3936      1578         1  Canned Soda  [Diet Dr. Pepper]     $1.09      1.09   \n",
              "4008      1604         1  Canned Soda        [Diet Coke]     $1.09      1.09   \n",
              "4051      1621         1  Canned Soda           [Sprite]     $1.09      1.09   \n",
              "\n",
              "      price_ud  \n",
              "18        1.09  \n",
              "28        1.09  \n",
              "51        1.09  \n",
              "53        1.09  \n",
              "107       1.09  \n",
              "...        ...  \n",
              "3897      1.09  \n",
              "3926      1.09  \n",
              "3936      1.09  \n",
              "4008      1.09  \n",
              "4051      1.09  \n",
              "\n",
              "[104 rows x 7 columns]"
            ]
          },
          "execution_count": 24,
          "metadata": {},
          "output_type": "execute_result"
        }
      ],
      "source": [
        "df_canned_soda"
      ]
    },
    {
      "cell_type": "code",
      "execution_count": 25,
      "metadata": {
        "id": "9ZDPjkSvrTJW",
        "outputId": "a8f80195-6a45-441e-f104-829308dec555"
      },
      "outputs": [
        {
          "data": {
            "text/plain": [
              "order_id\n",
              "9       2\n",
              "14      1\n",
              "23      2\n",
              "24      1\n",
              "47      1\n",
              "       ..\n",
              "1562    1\n",
              "1575    1\n",
              "1578    1\n",
              "1604    1\n",
              "1621    1\n",
              "Name: quantity, Length: 94, dtype: int64"
            ]
          },
          "execution_count": 25,
          "metadata": {},
          "output_type": "execute_result"
        }
      ],
      "source": [
        "suma_aux = df_canned_soda.groupby('order_id')['quantity'].sum()\n",
        "suma_aux"
      ]
    },
    {
      "cell_type": "code",
      "execution_count": 26,
      "metadata": {
        "id": "2MLm2mCCrTJX",
        "outputId": "3448f2c2-f28f-4afa-b76b-8807e750e4fe"
      },
      "outputs": [
        {
          "name": "stdout",
          "output_type": "stream",
          "text": [
            "24\n"
          ]
        }
      ],
      "source": [
        "resulado = suma_aux[suma_aux > 1]\n",
        "print(len(resulado))"
      ]
    },
    {
      "cell_type": "code",
      "execution_count": 1,
      "metadata": {
        "id": "pUWl5P_wrTJY"
      },
      "outputs": [],
      "source": [
        "# Prueba\n",
        "# Prueba 2"
      ]
    }
  ],
  "metadata": {
    "anaconda-cloud": {},
    "colab": {
      "name": "Chipotle_RES.ipynb",
      "provenance": []
    },
    "interpreter": {
      "hash": "a0947237fadc8b5561fed326db280cc5ec46a670c87cfb3a0489cf95ff262303"
    },
    "kernelspec": {
      "display_name": "Python 3.7.4 64-bit",
      "name": "python3"
    },
    "language_info": {
      "codemirror_mode": {
        "name": "ipython",
        "version": 3
      },
      "file_extension": ".py",
      "mimetype": "text/x-python",
      "name": "python",
      "nbconvert_exporter": "python",
      "pygments_lexer": "ipython3",
      "version": "3.7.4"
    },
    "metadata": {
      "interpreter": {
        "hash": "a0947237fadc8b5561fed326db280cc5ec46a670c87cfb3a0489cf95ff262303"
      }
    }
  },
  "nbformat": 4,
  "nbformat_minor": 2
}
