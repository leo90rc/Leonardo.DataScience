{
  "nbformat": 4,
  "nbformat_minor": 0,
  "metadata": {
    "kernelspec": {
      "name": "python374jvsc74a57bd0a0947237fadc8b5561fed326db280cc5ec46a670c87cfb3a0489cf95ff262303",
      "display_name": "Python 3.7.4 64-bit"
    },
    "language_info": {
      "codemirror_mode": {
        "name": "ipython",
        "version": 3
      },
      "file_extension": ".py",
      "mimetype": "text/x-python",
      "name": "python",
      "nbconvert_exporter": "python",
      "pygments_lexer": "ipython3",
      "version": "3.7.4"
    },
    "colab": {
      "name": "Basic_pandas_RES.ipynb",
      "provenance": []
    },
    "metadata": {
      "interpreter": {
        "hash": "a0947237fadc8b5561fed326db280cc5ec46a670c87cfb3a0489cf95ff262303"
      }
    }
  },
  "cells": [
    {
      "cell_type": "markdown",
      "metadata": {
        "id": "NOSObpwUqzF_"
      },
      "source": [
        "## Ejercicio 1\n",
        "Importa la libreria de `pandas` y `numpy`. ¿Qué versión de la librería `pandas` tienes?"
      ]
    },
    {
      "cell_type": "code",
      "metadata": {
        "id": "dIt_r33XqzGO"
      },
      "source": [
        "import pandas as pd\n",
        "import numpy as np"
      ],
      "execution_count": 2,
      "outputs": []
    },
    {
      "cell_type": "markdown",
      "metadata": {
        "id": "Nfap0scBqzGP"
      },
      "source": [
        "## Ejercicio 2\n",
        "Lee el archivo CSV de la liga. Guarda el DataFrame en una variable llamada `df`. [Usa el método `read_csv` de `pandas`](https://pandas.pydata.org/pandas-docs/stable/reference/api/pandas.read_csv.html)."
      ]
    },
    {
      "cell_type": "code",
      "metadata": {
        "id": "dFp1BJVDqzGQ"
      },
      "source": [
        "liga = pd.read_csv(\"laliga.csv\")"
      ],
      "execution_count": 3,
      "outputs": [
        {
          "output_type": "error",
          "ename": "FileNotFoundError",
          "evalue": "[Errno 2] No such file or directory: 'laliga.csv'",
          "traceback": [
            "\u001b[1;31m---------------------------------------------------------------------------\u001b[0m",
            "\u001b[1;31mFileNotFoundError\u001b[0m                         Traceback (most recent call last)",
            "\u001b[1;32m<ipython-input-3-946b8c31fb1b>\u001b[0m in \u001b[0;36m<module>\u001b[1;34m\u001b[0m\n\u001b[1;32m----> 1\u001b[1;33m \u001b[0mliga\u001b[0m \u001b[1;33m=\u001b[0m \u001b[0mpd\u001b[0m\u001b[1;33m.\u001b[0m\u001b[0mread_csv\u001b[0m\u001b[1;33m(\u001b[0m\u001b[1;34m\"laliga.csv\"\u001b[0m\u001b[1;33m)\u001b[0m\u001b[1;33m\u001b[0m\u001b[1;33m\u001b[0m\u001b[0m\n\u001b[0m",
            "\u001b[1;32m~\\AppData\\Local\\Programs\\Python\\Python37\\lib\\site-packages\\pandas\\io\\parsers.py\u001b[0m in \u001b[0;36mread_csv\u001b[1;34m(filepath_or_buffer, sep, delimiter, header, names, index_col, usecols, squeeze, prefix, mangle_dupe_cols, dtype, engine, converters, true_values, false_values, skipinitialspace, skiprows, skipfooter, nrows, na_values, keep_default_na, na_filter, verbose, skip_blank_lines, parse_dates, infer_datetime_format, keep_date_col, date_parser, dayfirst, cache_dates, iterator, chunksize, compression, thousands, decimal, lineterminator, quotechar, quoting, doublequote, escapechar, comment, encoding, dialect, error_bad_lines, warn_bad_lines, delim_whitespace, low_memory, memory_map, float_precision, storage_options)\u001b[0m\n\u001b[0;32m    608\u001b[0m     \u001b[0mkwds\u001b[0m\u001b[1;33m.\u001b[0m\u001b[0mupdate\u001b[0m\u001b[1;33m(\u001b[0m\u001b[0mkwds_defaults\u001b[0m\u001b[1;33m)\u001b[0m\u001b[1;33m\u001b[0m\u001b[1;33m\u001b[0m\u001b[0m\n\u001b[0;32m    609\u001b[0m \u001b[1;33m\u001b[0m\u001b[0m\n\u001b[1;32m--> 610\u001b[1;33m     \u001b[1;32mreturn\u001b[0m \u001b[0m_read\u001b[0m\u001b[1;33m(\u001b[0m\u001b[0mfilepath_or_buffer\u001b[0m\u001b[1;33m,\u001b[0m \u001b[0mkwds\u001b[0m\u001b[1;33m)\u001b[0m\u001b[1;33m\u001b[0m\u001b[1;33m\u001b[0m\u001b[0m\n\u001b[0m\u001b[0;32m    611\u001b[0m \u001b[1;33m\u001b[0m\u001b[0m\n\u001b[0;32m    612\u001b[0m \u001b[1;33m\u001b[0m\u001b[0m\n",
            "\u001b[1;32m~\\AppData\\Local\\Programs\\Python\\Python37\\lib\\site-packages\\pandas\\io\\parsers.py\u001b[0m in \u001b[0;36m_read\u001b[1;34m(filepath_or_buffer, kwds)\u001b[0m\n\u001b[0;32m    460\u001b[0m \u001b[1;33m\u001b[0m\u001b[0m\n\u001b[0;32m    461\u001b[0m     \u001b[1;31m# Create the parser.\u001b[0m\u001b[1;33m\u001b[0m\u001b[1;33m\u001b[0m\u001b[1;33m\u001b[0m\u001b[0m\n\u001b[1;32m--> 462\u001b[1;33m     \u001b[0mparser\u001b[0m \u001b[1;33m=\u001b[0m \u001b[0mTextFileReader\u001b[0m\u001b[1;33m(\u001b[0m\u001b[0mfilepath_or_buffer\u001b[0m\u001b[1;33m,\u001b[0m \u001b[1;33m**\u001b[0m\u001b[0mkwds\u001b[0m\u001b[1;33m)\u001b[0m\u001b[1;33m\u001b[0m\u001b[1;33m\u001b[0m\u001b[0m\n\u001b[0m\u001b[0;32m    463\u001b[0m \u001b[1;33m\u001b[0m\u001b[0m\n\u001b[0;32m    464\u001b[0m     \u001b[1;32mif\u001b[0m \u001b[0mchunksize\u001b[0m \u001b[1;32mor\u001b[0m \u001b[0miterator\u001b[0m\u001b[1;33m:\u001b[0m\u001b[1;33m\u001b[0m\u001b[1;33m\u001b[0m\u001b[0m\n",
            "\u001b[1;32m~\\AppData\\Local\\Programs\\Python\\Python37\\lib\\site-packages\\pandas\\io\\parsers.py\u001b[0m in \u001b[0;36m__init__\u001b[1;34m(self, f, engine, **kwds)\u001b[0m\n\u001b[0;32m    817\u001b[0m             \u001b[0mself\u001b[0m\u001b[1;33m.\u001b[0m\u001b[0moptions\u001b[0m\u001b[1;33m[\u001b[0m\u001b[1;34m\"has_index_names\"\u001b[0m\u001b[1;33m]\u001b[0m \u001b[1;33m=\u001b[0m \u001b[0mkwds\u001b[0m\u001b[1;33m[\u001b[0m\u001b[1;34m\"has_index_names\"\u001b[0m\u001b[1;33m]\u001b[0m\u001b[1;33m\u001b[0m\u001b[1;33m\u001b[0m\u001b[0m\n\u001b[0;32m    818\u001b[0m \u001b[1;33m\u001b[0m\u001b[0m\n\u001b[1;32m--> 819\u001b[1;33m         \u001b[0mself\u001b[0m\u001b[1;33m.\u001b[0m\u001b[0m_engine\u001b[0m \u001b[1;33m=\u001b[0m \u001b[0mself\u001b[0m\u001b[1;33m.\u001b[0m\u001b[0m_make_engine\u001b[0m\u001b[1;33m(\u001b[0m\u001b[0mself\u001b[0m\u001b[1;33m.\u001b[0m\u001b[0mengine\u001b[0m\u001b[1;33m)\u001b[0m\u001b[1;33m\u001b[0m\u001b[1;33m\u001b[0m\u001b[0m\n\u001b[0m\u001b[0;32m    820\u001b[0m \u001b[1;33m\u001b[0m\u001b[0m\n\u001b[0;32m    821\u001b[0m     \u001b[1;32mdef\u001b[0m \u001b[0mclose\u001b[0m\u001b[1;33m(\u001b[0m\u001b[0mself\u001b[0m\u001b[1;33m)\u001b[0m\u001b[1;33m:\u001b[0m\u001b[1;33m\u001b[0m\u001b[1;33m\u001b[0m\u001b[0m\n",
            "\u001b[1;32m~\\AppData\\Local\\Programs\\Python\\Python37\\lib\\site-packages\\pandas\\io\\parsers.py\u001b[0m in \u001b[0;36m_make_engine\u001b[1;34m(self, engine)\u001b[0m\n\u001b[0;32m   1048\u001b[0m             )\n\u001b[0;32m   1049\u001b[0m         \u001b[1;31m# error: Too many arguments for \"ParserBase\"\u001b[0m\u001b[1;33m\u001b[0m\u001b[1;33m\u001b[0m\u001b[1;33m\u001b[0m\u001b[0m\n\u001b[1;32m-> 1050\u001b[1;33m         \u001b[1;32mreturn\u001b[0m \u001b[0mmapping\u001b[0m\u001b[1;33m[\u001b[0m\u001b[0mengine\u001b[0m\u001b[1;33m]\u001b[0m\u001b[1;33m(\u001b[0m\u001b[0mself\u001b[0m\u001b[1;33m.\u001b[0m\u001b[0mf\u001b[0m\u001b[1;33m,\u001b[0m \u001b[1;33m**\u001b[0m\u001b[0mself\u001b[0m\u001b[1;33m.\u001b[0m\u001b[0moptions\u001b[0m\u001b[1;33m)\u001b[0m  \u001b[1;31m# type: ignore[call-arg]\u001b[0m\u001b[1;33m\u001b[0m\u001b[1;33m\u001b[0m\u001b[0m\n\u001b[0m\u001b[0;32m   1051\u001b[0m \u001b[1;33m\u001b[0m\u001b[0m\n\u001b[0;32m   1052\u001b[0m     \u001b[1;32mdef\u001b[0m \u001b[0m_failover_to_python\u001b[0m\u001b[1;33m(\u001b[0m\u001b[0mself\u001b[0m\u001b[1;33m)\u001b[0m\u001b[1;33m:\u001b[0m\u001b[1;33m\u001b[0m\u001b[1;33m\u001b[0m\u001b[0m\n",
            "\u001b[1;32m~\\AppData\\Local\\Programs\\Python\\Python37\\lib\\site-packages\\pandas\\io\\parsers.py\u001b[0m in \u001b[0;36m__init__\u001b[1;34m(self, src, **kwds)\u001b[0m\n\u001b[0;32m   1865\u001b[0m \u001b[1;33m\u001b[0m\u001b[0m\n\u001b[0;32m   1866\u001b[0m         \u001b[1;31m# open handles\u001b[0m\u001b[1;33m\u001b[0m\u001b[1;33m\u001b[0m\u001b[1;33m\u001b[0m\u001b[0m\n\u001b[1;32m-> 1867\u001b[1;33m         \u001b[0mself\u001b[0m\u001b[1;33m.\u001b[0m\u001b[0m_open_handles\u001b[0m\u001b[1;33m(\u001b[0m\u001b[0msrc\u001b[0m\u001b[1;33m,\u001b[0m \u001b[0mkwds\u001b[0m\u001b[1;33m)\u001b[0m\u001b[1;33m\u001b[0m\u001b[1;33m\u001b[0m\u001b[0m\n\u001b[0m\u001b[0;32m   1868\u001b[0m         \u001b[1;32massert\u001b[0m \u001b[0mself\u001b[0m\u001b[1;33m.\u001b[0m\u001b[0mhandles\u001b[0m \u001b[1;32mis\u001b[0m \u001b[1;32mnot\u001b[0m \u001b[1;32mNone\u001b[0m\u001b[1;33m\u001b[0m\u001b[1;33m\u001b[0m\u001b[0m\n\u001b[0;32m   1869\u001b[0m         \u001b[1;32mfor\u001b[0m \u001b[0mkey\u001b[0m \u001b[1;32min\u001b[0m \u001b[1;33m(\u001b[0m\u001b[1;34m\"storage_options\"\u001b[0m\u001b[1;33m,\u001b[0m \u001b[1;34m\"encoding\"\u001b[0m\u001b[1;33m,\u001b[0m \u001b[1;34m\"memory_map\"\u001b[0m\u001b[1;33m,\u001b[0m \u001b[1;34m\"compression\"\u001b[0m\u001b[1;33m)\u001b[0m\u001b[1;33m:\u001b[0m\u001b[1;33m\u001b[0m\u001b[1;33m\u001b[0m\u001b[0m\n",
            "\u001b[1;32m~\\AppData\\Local\\Programs\\Python\\Python37\\lib\\site-packages\\pandas\\io\\parsers.py\u001b[0m in \u001b[0;36m_open_handles\u001b[1;34m(self, src, kwds)\u001b[0m\n\u001b[0;32m   1366\u001b[0m             \u001b[0mcompression\u001b[0m\u001b[1;33m=\u001b[0m\u001b[0mkwds\u001b[0m\u001b[1;33m.\u001b[0m\u001b[0mget\u001b[0m\u001b[1;33m(\u001b[0m\u001b[1;34m\"compression\"\u001b[0m\u001b[1;33m,\u001b[0m \u001b[1;32mNone\u001b[0m\u001b[1;33m)\u001b[0m\u001b[1;33m,\u001b[0m\u001b[1;33m\u001b[0m\u001b[1;33m\u001b[0m\u001b[0m\n\u001b[0;32m   1367\u001b[0m             \u001b[0mmemory_map\u001b[0m\u001b[1;33m=\u001b[0m\u001b[0mkwds\u001b[0m\u001b[1;33m.\u001b[0m\u001b[0mget\u001b[0m\u001b[1;33m(\u001b[0m\u001b[1;34m\"memory_map\"\u001b[0m\u001b[1;33m,\u001b[0m \u001b[1;32mFalse\u001b[0m\u001b[1;33m)\u001b[0m\u001b[1;33m,\u001b[0m\u001b[1;33m\u001b[0m\u001b[1;33m\u001b[0m\u001b[0m\n\u001b[1;32m-> 1368\u001b[1;33m             \u001b[0mstorage_options\u001b[0m\u001b[1;33m=\u001b[0m\u001b[0mkwds\u001b[0m\u001b[1;33m.\u001b[0m\u001b[0mget\u001b[0m\u001b[1;33m(\u001b[0m\u001b[1;34m\"storage_options\"\u001b[0m\u001b[1;33m,\u001b[0m \u001b[1;32mNone\u001b[0m\u001b[1;33m)\u001b[0m\u001b[1;33m,\u001b[0m\u001b[1;33m\u001b[0m\u001b[1;33m\u001b[0m\u001b[0m\n\u001b[0m\u001b[0;32m   1369\u001b[0m         )\n\u001b[0;32m   1370\u001b[0m \u001b[1;33m\u001b[0m\u001b[0m\n",
            "\u001b[1;32m~\\AppData\\Local\\Programs\\Python\\Python37\\lib\\site-packages\\pandas\\io\\common.py\u001b[0m in \u001b[0;36mget_handle\u001b[1;34m(path_or_buf, mode, encoding, compression, memory_map, is_text, errors, storage_options)\u001b[0m\n\u001b[0;32m    645\u001b[0m                 \u001b[0mencoding\u001b[0m\u001b[1;33m=\u001b[0m\u001b[0mioargs\u001b[0m\u001b[1;33m.\u001b[0m\u001b[0mencoding\u001b[0m\u001b[1;33m,\u001b[0m\u001b[1;33m\u001b[0m\u001b[1;33m\u001b[0m\u001b[0m\n\u001b[0;32m    646\u001b[0m                 \u001b[0merrors\u001b[0m\u001b[1;33m=\u001b[0m\u001b[0merrors\u001b[0m\u001b[1;33m,\u001b[0m\u001b[1;33m\u001b[0m\u001b[1;33m\u001b[0m\u001b[0m\n\u001b[1;32m--> 647\u001b[1;33m                 \u001b[0mnewline\u001b[0m\u001b[1;33m=\u001b[0m\u001b[1;34m\"\"\u001b[0m\u001b[1;33m,\u001b[0m\u001b[1;33m\u001b[0m\u001b[1;33m\u001b[0m\u001b[0m\n\u001b[0m\u001b[0;32m    648\u001b[0m             )\n\u001b[0;32m    649\u001b[0m         \u001b[1;32melse\u001b[0m\u001b[1;33m:\u001b[0m\u001b[1;33m\u001b[0m\u001b[1;33m\u001b[0m\u001b[0m\n",
            "\u001b[1;31mFileNotFoundError\u001b[0m: [Errno 2] No such file or directory: 'laliga.csv'"
          ]
        }
      ]
    },
    {
      "cell_type": "markdown",
      "metadata": {
        "id": "2s2I1KatqzGQ"
      },
      "source": [
        "## Ejercicio 3\n",
        "Obtén por pantalla los 4 primero registros"
      ]
    },
    {
      "cell_type": "code",
      "metadata": {
        "id": "eQrFtMTEqzGR",
        "outputId": "f65f1b0d-ef75-4ebc-e378-5200ba721a36"
      },
      "source": [
        "# way 1\n",
        "liga.head(4)"
      ],
      "execution_count": 6,
      "outputs": [
        {
          "output_type": "error",
          "ename": "NameError",
          "evalue": "name 'liga' is not defined",
          "traceback": [
            "\u001b[1;31m---------------------------------------------------------------------------\u001b[0m",
            "\u001b[1;31mNameError\u001b[0m                                 Traceback (most recent call last)",
            "\u001b[1;32m<ipython-input-6-ff4257251f9e>\u001b[0m in \u001b[0;36m<module>\u001b[1;34m\u001b[0m\n\u001b[0;32m      1\u001b[0m \u001b[1;31m# way 1\u001b[0m\u001b[1;33m\u001b[0m\u001b[1;33m\u001b[0m\u001b[1;33m\u001b[0m\u001b[0m\n\u001b[1;32m----> 2\u001b[1;33m \u001b[0mliga\u001b[0m\u001b[1;33m.\u001b[0m\u001b[0mhead\u001b[0m\u001b[1;33m(\u001b[0m\u001b[1;36m4\u001b[0m\u001b[1;33m)\u001b[0m\u001b[1;33m\u001b[0m\u001b[1;33m\u001b[0m\u001b[0m\n\u001b[0m",
            "\u001b[1;31mNameError\u001b[0m: name 'liga' is not defined"
          ]
        }
      ]
    },
    {
      "cell_type": "code",
      "metadata": {
        "id": "RChcCipuqzGS",
        "outputId": "12a1acb5-3000-4e5d-d151-b47d46c6fbcb"
      },
      "source": [
        "# way 2\n",
        "liga[:4]"
      ],
      "execution_count": 7,
      "outputs": [
        {
          "output_type": "error",
          "ename": "NameError",
          "evalue": "name 'liga' is not defined",
          "traceback": [
            "\u001b[1;31m---------------------------------------------------------------------------\u001b[0m",
            "\u001b[1;31mNameError\u001b[0m                                 Traceback (most recent call last)",
            "\u001b[1;32m<ipython-input-7-38495e2902d4>\u001b[0m in \u001b[0;36m<module>\u001b[1;34m\u001b[0m\n\u001b[0;32m      1\u001b[0m \u001b[1;31m# way 2\u001b[0m\u001b[1;33m\u001b[0m\u001b[1;33m\u001b[0m\u001b[1;33m\u001b[0m\u001b[0m\n\u001b[1;32m----> 2\u001b[1;33m \u001b[0mliga\u001b[0m\u001b[1;33m[\u001b[0m\u001b[1;33m:\u001b[0m\u001b[1;36m4\u001b[0m\u001b[1;33m]\u001b[0m\u001b[1;33m\u001b[0m\u001b[1;33m\u001b[0m\u001b[0m\n\u001b[0m",
            "\u001b[1;31mNameError\u001b[0m: name 'liga' is not defined"
          ]
        }
      ]
    },
    {
      "cell_type": "markdown",
      "metadata": {
        "id": "ja5OSuO6qzGT"
      },
      "source": [
        "## Ejercicio 4\n",
        "Obtén en un array de `numpy` todos los valores del DataFrame"
      ]
    },
    {
      "cell_type": "code",
      "metadata": {
        "id": "H7it8rjOqzGT",
        "outputId": "e9f060f3-7281-4cb6-ee2e-ccf57031c393"
      },
      "source": [
        "liga.values"
      ],
      "execution_count": null,
      "outputs": [
        {
          "output_type": "execute_result",
          "data": {
            "text/plain": [
              "array([[26201, '2005-06', 1, ..., 0, '27/08/2005', 1125093600],\n",
              "       [26202, '2005-06', 1, ..., 0, '27/08/2005', 1125093600],\n",
              "       [26203, '2005-06', 1, ..., 0, '27/08/2005', 1125093600],\n",
              "       ...,\n",
              "       [36682, '2017-18', 1, ..., 0, '20/05/2018', 1526767200],\n",
              "       [36683, '2017-18', 1, ..., 1, '20/05/2018', 1526767200],\n",
              "       [36684, '2017-18', 1, ..., 2, '20/05/2018', 1526767200]],\n",
              "      dtype=object)"
            ]
          },
          "metadata": {
            "tags": []
          },
          "execution_count": 5
        }
      ]
    },
    {
      "cell_type": "code",
      "metadata": {
        "id": "3trSKWz_qzGU",
        "outputId": "96473db6-3ca3-499e-c33a-ac98528bbecc"
      },
      "source": [
        "for col in liga.columns:\n",
        "    print(f\"Array de la columna {col} ->\", liga[col].values)"
      ],
      "execution_count": null,
      "outputs": [
        {
          "output_type": "stream",
          "text": [
            "Array de la columna Unnamed: 0 -> [26201 26202 26203 ... 36682 36683 36684]\n",
            "Array de la columna season -> ['2005-06' '2005-06' '2005-06' ... '2017-18' '2017-18' '2017-18']\n",
            "Array de la columna division -> [1 1 1 ... 1 1 1]\n",
            "Array de la columna round -> [ 1  1  1 ... 38 38 38]\n",
            "Array de la columna localTeam -> ['Atletico de Bilbao' 'Alaves' 'Valencia' ... 'Barcelona' 'Valencia'\n",
            " 'Atletico de Madrid']\n",
            "Array de la columna visitorTeam -> ['Real Sociedad' 'Barcelona' 'Betis' ... 'Real Sociedad' 'Deportivo'\n",
            " 'Eibar']\n",
            "Array de la columna localGoals -> [3 0 1 ... 1 2 2]\n",
            "Array de la columna visitorGoals -> [0 0 0 ... 0 1 2]\n",
            "Array de la columna date -> ['27/08/2005' '27/08/2005' '27/08/2005' ... '20/05/2018' '20/05/2018'\n",
            " '20/05/2018']\n",
            "Array de la columna timestamp -> [1125093600 1125093600 1125093600 ... 1526767200 1526767200 1526767200]\n"
          ],
          "name": "stdout"
        }
      ]
    },
    {
      "cell_type": "markdown",
      "metadata": {
        "id": "pfPWra7eqzGV"
      },
      "source": [
        "## Ejercicio 5\n",
        "¿Cuáles son las columnas de `df`?"
      ]
    },
    {
      "cell_type": "code",
      "metadata": {
        "id": "mSG4wLvTqzGW",
        "outputId": "3d183a72-434b-49b0-abb3-fcbc524fe154"
      },
      "source": [
        "liga.columns"
      ],
      "execution_count": null,
      "outputs": [
        {
          "output_type": "execute_result",
          "data": {
            "text/plain": [
              "Index(['Unnamed: 0', 'season', 'division', 'round', 'localTeam', 'visitorTeam',\n",
              "       'localGoals', 'visitorGoals', 'date', 'timestamp'],\n",
              "      dtype='object')"
            ]
          },
          "metadata": {
            "tags": []
          },
          "execution_count": 7
        }
      ]
    },
    {
      "cell_type": "markdown",
      "metadata": {
        "id": "6OQSm4iUqzGX"
      },
      "source": [
        "## Ejercicio 6\n",
        "Crea un `Series` con la [población de Madrid, Galicia, Murcia y Andalucía](https://es.wikipedia.org/wiki/Anexo:Comunidades_y_ciudades_aut%C3%B3nomas_de_Espa%C3%B1a). Llamalo `poblacion`.\n",
        "\n",
        "- Madrid: 6685471\n",
        "- Galicia: 2698764\n",
        "- Murcia: 1494442\n",
        "- Andalucía: 8446561\n"
      ]
    },
    {
      "cell_type": "code",
      "metadata": {
        "id": "2uMq369IqzGY",
        "outputId": "b280e6ee-8afb-49b7-9862-788758bef025"
      },
      "source": [
        "poblacion = pd.Series([6685471, 2698764, 1494442, 8446561], index = [\"Madrid\", \"Galicia\", \"Murcia\", \"Andalucia\"])\n",
        "poblacion"
      ],
      "execution_count": 9,
      "outputs": [
        {
          "output_type": "execute_result",
          "data": {
            "text/plain": [
              "Madrid       6685471\n",
              "Galicia      2698764\n",
              "Murcia       1494442\n",
              "Andalucia    8446561\n",
              "dtype: int64"
            ]
          },
          "metadata": {},
          "execution_count": 9
        }
      ]
    },
    {
      "cell_type": "markdown",
      "metadata": {
        "id": "HcWJqmYPqzGZ"
      },
      "source": [
        "## Ejercicio 7\n",
        "Obtén un array de `numpy` con los valores del `Series`.\n",
        "\n",
        "Saca también sus índices, y los valores de sus índices."
      ]
    },
    {
      "cell_type": "code",
      "metadata": {
        "id": "WaNlFP_uqzGZ",
        "outputId": "18e24675-a724-4332-cb15-d40711559799"
      },
      "source": [
        "poblacion.values"
      ],
      "execution_count": 10,
      "outputs": [
        {
          "output_type": "execute_result",
          "data": {
            "text/plain": [
              "array([6685471, 2698764, 1494442, 8446561], dtype=int64)"
            ]
          },
          "metadata": {},
          "execution_count": 10
        }
      ]
    },
    {
      "cell_type": "code",
      "metadata": {
        "id": "atBMaFPyqzGZ",
        "outputId": "7f0b2d31-626c-47bc-d0c0-9aa57c77a013"
      },
      "source": [
        "poblacion.index"
      ],
      "execution_count": 11,
      "outputs": [
        {
          "output_type": "execute_result",
          "data": {
            "text/plain": [
              "Index(['Madrid', 'Galicia', 'Murcia', 'Andalucia'], dtype='object')"
            ]
          },
          "metadata": {},
          "execution_count": 11
        }
      ]
    },
    {
      "cell_type": "code",
      "metadata": {
        "id": "2JhRdzYnqzGa",
        "outputId": "f5dbd3a4-0774-4b5c-bd10-1ed0ffa5de92"
      },
      "source": [
        "# poblacion.index nos devuelve un objeto Index, del cual podemos obtener también sus valores\n",
        "poblacion.index.values"
      ],
      "execution_count": null,
      "outputs": [
        {
          "output_type": "execute_result",
          "data": {
            "text/plain": [
              "array(['Madrid', 'Galicia', 'Murcia', 'Andalucia'], dtype=object)"
            ]
          },
          "metadata": {
            "tags": []
          },
          "execution_count": 11
        }
      ]
    },
    {
      "cell_type": "markdown",
      "metadata": {
        "id": "FJxw6eh9qzGa"
      },
      "source": [
        "## Ejercicio 8\n",
        "1. ¿Qué población hay en el primer elemento del `Series`?\n",
        "2. ¿Qué población hay en Galicia?\n",
        "3. Imprime por pantalla las poblaciones de Galicia, Andalucía y las comunidades autónomas que se encuentren entre ambas, dentro del `Series`.\n",
        "4. Comprueba con un output booleano que `Galicia` se encuentra entre los índices del `Index`.\n",
        "5. Realiza los apartados 1,2,3 pero esta vez de una manera diferente."
      ]
    },
    {
      "cell_type": "code",
      "metadata": {
        "id": "1QSulOYrqzGb",
        "outputId": "d0cd28cb-74c5-4dee-f9ac-7ab82b49a0bb"
      },
      "source": [
        "#1\n",
        "poblacion[0]"
      ],
      "execution_count": null,
      "outputs": [
        {
          "output_type": "execute_result",
          "data": {
            "text/plain": [
              "6685471"
            ]
          },
          "metadata": {
            "tags": []
          },
          "execution_count": 12
        }
      ]
    },
    {
      "cell_type": "code",
      "metadata": {
        "id": "FSznn4YjqzGb",
        "outputId": "3fe427f9-add1-438b-efb5-92f39f88ace8"
      },
      "source": [
        "#2\n",
        "poblacion[\"Galicia\"]"
      ],
      "execution_count": null,
      "outputs": [
        {
          "output_type": "execute_result",
          "data": {
            "text/plain": [
              "2698764"
            ]
          },
          "metadata": {
            "tags": []
          },
          "execution_count": 13
        }
      ]
    },
    {
      "cell_type": "code",
      "metadata": {
        "id": "vKmDpWrCqzGc",
        "outputId": "7b3ce4fd-5c0c-4f63-cb6a-9037adbeab03"
      },
      "source": [
        "#3\n",
        "poblacion[\"Galicia\":\"Andalucia\"]\n",
        "# cuando hacemos slicing por nombre, se incluye el último"
      ],
      "execution_count": null,
      "outputs": [
        {
          "output_type": "execute_result",
          "data": {
            "text/plain": [
              "Galicia      2698764\n",
              "Murcia       1494442\n",
              "Andalucia    8446561\n",
              "dtype: int64"
            ]
          },
          "metadata": {
            "tags": []
          },
          "execution_count": 14
        }
      ]
    },
    {
      "cell_type": "code",
      "metadata": {
        "id": "rqDYr3zdqzGc",
        "outputId": "fd2f37b0-0ada-428e-c597-1aeccddcfa58"
      },
      "source": [
        "#4\n",
        "\"Galicia\" in poblacion.index"
      ],
      "execution_count": null,
      "outputs": [
        {
          "output_type": "execute_result",
          "data": {
            "text/plain": [
              "True"
            ]
          },
          "metadata": {
            "tags": []
          },
          "execution_count": 15
        }
      ]
    },
    {
      "cell_type": "code",
      "metadata": {
        "id": "WHktobqbqzGd",
        "outputId": "3fc9d765-eb5e-4b36-bb86-9366e83eaf25"
      },
      "source": [
        "#5\n",
        "print(poblacion[\"Madrid\"]) #1\n",
        "print()\n",
        "print(poblacion[1]) #2\n",
        "print()\n",
        "print(poblacion[1:]) #3"
      ],
      "execution_count": null,
      "outputs": [
        {
          "output_type": "stream",
          "text": [
            "6685471\n",
            "\n",
            "2698764\n",
            "\n",
            "Galicia      2698764\n",
            "Murcia       1494442\n",
            "Andalucia    8446561\n",
            "dtype: int64\n"
          ],
          "name": "stdout"
        }
      ]
    },
    {
      "cell_type": "markdown",
      "metadata": {
        "id": "DwqvgKjPqzGd"
      },
      "source": [
        "## Ejercicio 9\n",
        "A partir de las comunidades autónomas anteriores, crea un `Series` con [la tasa de paro](https://es.statista.com/estadisticas/941646/prevision-de-la-tasa-de-paro-por-comunidad-autonoma-espana/) en dichas comunidades autónomas.\n",
        "\n",
        "Con la tasa de paro y las poblaciones, crea un DataFrame de pandas. Llámalo `data`.\n",
        "\n",
        "- Madrid: 9.99\n",
        "- Galicia: 11.74\n",
        "- Murcia: 16.08\n",
        "- Andalucía: 20.8"
      ]
    },
    {
      "cell_type": "code",
      "metadata": {
        "id": "rzRrbi_1qzGe"
      },
      "source": [
        "paro = pd.Series([9.99, 11.74, 16.08, 20.8], index = [\"Madrid\", \"Galicia\", \"Murcia\", \"Andalucia\"])\n",
        "paro"
      ],
      "execution_count": 15,
      "outputs": [
        {
          "output_type": "execute_result",
          "data": {
            "text/plain": [
              "Madrid        9.99\n",
              "Galicia      11.74\n",
              "Murcia       16.08\n",
              "Andalucia    20.80\n",
              "dtype: float64"
            ]
          },
          "metadata": {},
          "execution_count": 15
        }
      ]
    },
    {
      "cell_type": "code",
      "metadata": {
        "id": "YJTpL3oCqzGe"
      },
      "source": [
        "data = pd.DataFrame({\"Paro\": paro, \"Poblacion\": poblacion})\n",
        "data"
      ],
      "execution_count": 14,
      "outputs": [
        {
          "output_type": "execute_result",
          "data": {
            "text/plain": [
              "            Paro  Poblacion\n",
              "Madrid      9.99    6685471\n",
              "Galicia    11.74    2698764\n",
              "Murcia     16.08    1494442\n",
              "Andalucia  20.80    8446561"
            ],
            "text/html": "<div>\n<style scoped>\n    .dataframe tbody tr th:only-of-type {\n        vertical-align: middle;\n    }\n\n    .dataframe tbody tr th {\n        vertical-align: top;\n    }\n\n    .dataframe thead th {\n        text-align: right;\n    }\n</style>\n<table border=\"1\" class=\"dataframe\">\n  <thead>\n    <tr style=\"text-align: right;\">\n      <th></th>\n      <th>Paro</th>\n      <th>Poblacion</th>\n    </tr>\n  </thead>\n  <tbody>\n    <tr>\n      <th>Madrid</th>\n      <td>9.99</td>\n      <td>6685471</td>\n    </tr>\n    <tr>\n      <th>Galicia</th>\n      <td>11.74</td>\n      <td>2698764</td>\n    </tr>\n    <tr>\n      <th>Murcia</th>\n      <td>16.08</td>\n      <td>1494442</td>\n    </tr>\n    <tr>\n      <th>Andalucia</th>\n      <td>20.80</td>\n      <td>8446561</td>\n    </tr>\n  </tbody>\n</table>\n</div>"
          },
          "metadata": {},
          "execution_count": 14
        }
      ]
    },
    {
      "cell_type": "markdown",
      "metadata": {
        "id": "wLC6mP3hqzGe"
      },
      "source": [
        "## Ejercicio 10\n",
        "Imprime por pantalla la población, y la tasa de paro. Por separado"
      ]
    },
    {
      "cell_type": "code",
      "metadata": {
        "id": "b0fEn1gxqzGe",
        "outputId": "5aa1413b-b90e-48f2-8bf8-540f48be499d"
      },
      "source": [
        "data[\"Paro\"]"
      ],
      "execution_count": null,
      "outputs": [
        {
          "output_type": "execute_result",
          "data": {
            "text/plain": [
              "Madrid        9.99\n",
              "Galicia      11.74\n",
              "Murcia       16.08\n",
              "Andalucia    20.80\n",
              "Name: Paro, dtype: float64"
            ]
          },
          "metadata": {
            "tags": []
          },
          "execution_count": 19
        }
      ]
    },
    {
      "cell_type": "code",
      "metadata": {
        "id": "AQCV-nYyqzGf",
        "outputId": "724bdb91-e1ed-49bf-ee18-ea5ce15ff42d"
      },
      "source": [
        "data[\"Poblacion\"]"
      ],
      "execution_count": null,
      "outputs": [
        {
          "output_type": "execute_result",
          "data": {
            "text/plain": [
              "Madrid       6685471\n",
              "Galicia      2698764\n",
              "Murcia       1494442\n",
              "Andalucia    8446561\n",
              "Name: Poblacion, dtype: int64"
            ]
          },
          "metadata": {
            "tags": []
          },
          "execution_count": 20
        }
      ]
    },
    {
      "cell_type": "markdown",
      "metadata": {
        "id": "FTF6NbHCqzGf"
      },
      "source": [
        "## Ejercicio 11\n",
        "Crea un nuevo Data Frame (`data2`), que sea igual que `data`, pero con una nueva columna, que lleve [la superficie de las Comunidades Autónomas](https://es.wikipedia.org/wiki/Anexo:Comunidades_y_ciudades_aut%C3%B3nomas_de_Espa%C3%B1a).\n",
        "\n",
        "- Madrid: 8028\n",
        "- Galicia: 29575\n",
        "- Murcia: 11314\n",
        "- Andalucía: 87599"
      ]
    },
    {
      "cell_type": "code",
      "metadata": {
        "id": "hLWonTFkqzGg",
        "outputId": "0b4e0036-6898-4d84-e991-1235fb237f9b"
      },
      "source": [
        "superficie = pd.Series({\"Madrid\":8028, \"Galicia\":29575, \"Murcia\":11314, \"Andalucia\":87599})\n",
        "print(superficie)"
      ],
      "execution_count": null,
      "outputs": [
        {
          "output_type": "stream",
          "text": [
            "Madrid        8028\n",
            "Galicia      29575\n",
            "Murcia       11314\n",
            "Andalucia    87599\n",
            "dtype: int64\n"
          ],
          "name": "stdout"
        }
      ]
    },
    {
      "cell_type": "code",
      "metadata": {
        "id": "k9ZMRobzqzGg"
      },
      "source": [
        "data2 = data.copy()"
      ],
      "execution_count": null,
      "outputs": []
    },
    {
      "cell_type": "code",
      "metadata": {
        "id": "31lB6Lr1qzGg"
      },
      "source": [
        "data2[\"Superficie\"] = superficie"
      ],
      "execution_count": null,
      "outputs": []
    },
    {
      "cell_type": "code",
      "metadata": {
        "id": "ICA_P4y5qzGh",
        "outputId": "1de7bd52-3ee9-48de-ad6c-ca2fb59596c3"
      },
      "source": [
        "# way 2\n",
        "data2 = pd.DataFrame({\"Paro\": paro, \"Poblacion\": poblacion, \"Superficie\": superficie})\n",
        "data2"
      ],
      "execution_count": null,
      "outputs": [
        {
          "output_type": "execute_result",
          "data": {
            "text/html": [
              "<div>\n",
              "<style scoped>\n",
              "    .dataframe tbody tr th:only-of-type {\n",
              "        vertical-align: middle;\n",
              "    }\n",
              "\n",
              "    .dataframe tbody tr th {\n",
              "        vertical-align: top;\n",
              "    }\n",
              "\n",
              "    .dataframe thead th {\n",
              "        text-align: right;\n",
              "    }\n",
              "</style>\n",
              "<table border=\"1\" class=\"dataframe\">\n",
              "  <thead>\n",
              "    <tr style=\"text-align: right;\">\n",
              "      <th></th>\n",
              "      <th>Paro</th>\n",
              "      <th>Poblacion</th>\n",
              "      <th>Superficie</th>\n",
              "    </tr>\n",
              "  </thead>\n",
              "  <tbody>\n",
              "    <tr>\n",
              "      <th>Madrid</th>\n",
              "      <td>9.99</td>\n",
              "      <td>6685471</td>\n",
              "      <td>8028</td>\n",
              "    </tr>\n",
              "    <tr>\n",
              "      <th>Galicia</th>\n",
              "      <td>11.74</td>\n",
              "      <td>2698764</td>\n",
              "      <td>29575</td>\n",
              "    </tr>\n",
              "    <tr>\n",
              "      <th>Murcia</th>\n",
              "      <td>16.08</td>\n",
              "      <td>1494442</td>\n",
              "      <td>11314</td>\n",
              "    </tr>\n",
              "    <tr>\n",
              "      <th>Andalucia</th>\n",
              "      <td>20.80</td>\n",
              "      <td>8446561</td>\n",
              "      <td>87599</td>\n",
              "    </tr>\n",
              "  </tbody>\n",
              "</table>\n",
              "</div>"
            ],
            "text/plain": [
              "            Paro  Poblacion  Superficie\n",
              "Madrid      9.99    6685471        8028\n",
              "Galicia    11.74    2698764       29575\n",
              "Murcia     16.08    1494442       11314\n",
              "Andalucia  20.80    8446561       87599"
            ]
          },
          "metadata": {
            "tags": []
          },
          "execution_count": 24
        }
      ]
    },
    {
      "cell_type": "markdown",
      "metadata": {
        "id": "eYV0raXRqzGh"
      },
      "source": [
        "## Ejercicio 12\n",
        "Calcula la densidad de población (hab/km^2) en una nueva columna del dataframe `data2` que se llame `Densidad`."
      ]
    },
    {
      "cell_type": "code",
      "metadata": {
        "id": "hWPLyJnxqzGi",
        "outputId": "6318794e-3395-493b-8075-0648d4ac2191"
      },
      "source": [
        "data2[\"Densidad poblacion\"] = data2[\"Poblacion\"] / data2[\"Superficie\"]\n",
        "data2"
      ],
      "execution_count": null,
      "outputs": [
        {
          "output_type": "execute_result",
          "data": {
            "text/html": [
              "<div>\n",
              "<style scoped>\n",
              "    .dataframe tbody tr th:only-of-type {\n",
              "        vertical-align: middle;\n",
              "    }\n",
              "\n",
              "    .dataframe tbody tr th {\n",
              "        vertical-align: top;\n",
              "    }\n",
              "\n",
              "    .dataframe thead th {\n",
              "        text-align: right;\n",
              "    }\n",
              "</style>\n",
              "<table border=\"1\" class=\"dataframe\">\n",
              "  <thead>\n",
              "    <tr style=\"text-align: right;\">\n",
              "      <th></th>\n",
              "      <th>Paro</th>\n",
              "      <th>Poblacion</th>\n",
              "      <th>Superficie</th>\n",
              "      <th>Densidad poblacion</th>\n",
              "    </tr>\n",
              "  </thead>\n",
              "  <tbody>\n",
              "    <tr>\n",
              "      <th>Madrid</th>\n",
              "      <td>9.99</td>\n",
              "      <td>6685471</td>\n",
              "      <td>8028</td>\n",
              "      <td>832.769183</td>\n",
              "    </tr>\n",
              "    <tr>\n",
              "      <th>Galicia</th>\n",
              "      <td>11.74</td>\n",
              "      <td>2698764</td>\n",
              "      <td>29575</td>\n",
              "      <td>91.251530</td>\n",
              "    </tr>\n",
              "    <tr>\n",
              "      <th>Murcia</th>\n",
              "      <td>16.08</td>\n",
              "      <td>1494442</td>\n",
              "      <td>11314</td>\n",
              "      <td>132.087856</td>\n",
              "    </tr>\n",
              "    <tr>\n",
              "      <th>Andalucia</th>\n",
              "      <td>20.80</td>\n",
              "      <td>8446561</td>\n",
              "      <td>87599</td>\n",
              "      <td>96.423030</td>\n",
              "    </tr>\n",
              "  </tbody>\n",
              "</table>\n",
              "</div>"
            ],
            "text/plain": [
              "            Paro  Poblacion  Superficie  Densidad poblacion\n",
              "Madrid      9.99    6685471        8028          832.769183\n",
              "Galicia    11.74    2698764       29575           91.251530\n",
              "Murcia     16.08    1494442       11314          132.087856\n",
              "Andalucia  20.80    8446561       87599           96.423030"
            ]
          },
          "metadata": {
            "tags": []
          },
          "execution_count": 25
        }
      ]
    }
  ]
}