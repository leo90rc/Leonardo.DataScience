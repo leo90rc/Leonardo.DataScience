{
 "cells": [
  {
   "cell_type": "markdown",
   "metadata": {},
   "source": [
    "![imagen](./img/numpy.png)\n",
    "\n",
    "# Numpy y matrices\n",
    "\n",
    "En este Notebook descubrirás la que es probablemente **la librería más utilizada en Python**, `numpy`, la cual nos va a permitir trabajar con una gran variedad de datos en memoria como colecciones de documentos, imágenes, audios o medidas numéricas.\n",
    "\n",
    "1. [Listas y matrices](#1.-Listas-y-matrices)\n",
    "2. [Numpy](#2.-Numpy)\n",
    "3. [Creacion de arrays](#3.-Creacion-de-arrays)\n",
    "4. [Atributos del array](#4.-Atributos-del-array)\n",
    "5. [Indexado](#5.-Indexado)\n",
    "6. [Slicing y subarrays](#6.-Slicing-y-subarrays)\n",
    "7. [Reshape](#7.-Reshape)\n",
    "8. [Tipos de los datos](#8.-Tipos-de-los-datos)\n",
    "9. [Concatenado](#9.-Concatenado)\n",
    "10. [Sustitucion](#10.-Sustitucion)\n",
    "11. [Copias](#11.-Copias)\n",
    "12. [Splitting](#12.-Splitting)\n",
    "13. [Agregaciones](#13.-Agregaciones)"
   ]
  },
  {
   "cell_type": "markdown",
   "metadata": {},
   "source": [
    "## 1. Listas y matrices\n",
    "Ya conocemos muy bien cómo funcionan las listas, aunque en este apartado profundizaremos un poco más en sus funcionalidades, acceso y dimensiones. **Las listas en Python son muy versátiles, lo que nos dan una gran flexibilidad a la hora de modelizar nuestros datos**. Además este apartado no servirá para refrescar conceptos con vistas a **comparar listas de Python con los arrays de Numpy**.\n",
    "\n",
    "Declaramos una lista sencilla"
   ]
  },
  {
   "cell_type": "code",
   "execution_count": 3,
   "metadata": {},
   "outputs": [
    {
     "output_type": "execute_result",
     "data": {
      "text/plain": [
       "[1, 2, 3, 4, 5, 6, 7, 8, 9]"
      ]
     },
     "metadata": {},
     "execution_count": 3
    }
   ],
   "source": [
    "my_list = [1,2,3,4,5,6,7,8,9]\n",
    "my_list"
   ]
  },
  {
   "cell_type": "markdown",
   "metadata": {},
   "source": [
    "Recordamos cómo accediamos a los elementos"
   ]
  },
  {
   "cell_type": "code",
   "execution_count": 4,
   "metadata": {},
   "outputs": [
    {
     "output_type": "stream",
     "name": "stdout",
     "text": [
      "1\n2\n9\n[2, 3, 4]\n[2, 3, 4, 5, 6, 7, 8, 9]\n"
     ]
    }
   ],
   "source": [
    "# Primero\n",
    "print(my_list[0])\n",
    "\n",
    "# Segundo\n",
    "print(my_list[1])\n",
    "\n",
    "# Ultimo\n",
    "print(my_list[-1])\n",
    "\n",
    "# Del 2do al 4to incluidos\n",
    "print(my_list[1:4])\n",
    "\n",
    "# Desde el segundo elemento\n",
    "print(my_list[1:])\n"
   ]
  },
  {
   "cell_type": "markdown",
   "metadata": {},
   "source": [
    "¿Y si necesitamos una lista con múltiples dimensiones? ¡También podemos!"
   ]
  },
  {
   "cell_type": "code",
   "execution_count": 5,
   "metadata": {},
   "outputs": [
    {
     "output_type": "execute_result",
     "data": {
      "text/plain": [
       "[[1, 2, 3], [4, 5, 6], [7, 8, 9]]"
      ]
     },
     "metadata": {},
     "execution_count": 5
    }
   ],
   "source": [
    "my_matrix = [[1,2,3],\n",
    "            [4,5,6],\n",
    "            [7,8,9]]\n",
    "my_matrix"
   ]
  },
  {
   "cell_type": "markdown",
   "metadata": {},
   "source": [
    "De esta forma estamos declarando una matriz de 3 filas x 3 columnas. ¿Cómo accedemos a sus elementos?"
   ]
  },
  {
   "cell_type": "code",
   "execution_count": 6,
   "metadata": {},
   "outputs": [
    {
     "output_type": "stream",
     "name": "stdout",
     "text": [
      "[1, 2, 3]\n[7, 8, 9]\n3\n<class 'int'>\n[[1, 2, 3], [4, 5, 6], [7, 8, 9], [10, 11, 12]]\n[[1, 2, 3, 1.5, 2.5, 3.5], [4, 5, 6, [1.5, 2.5, 3.5]], [7, 8, 9], [10, 11, 12]]\n"
     ]
    }
   ],
   "source": [
    "# Primera lista\n",
    "print(my_matrix[0])\n",
    "\n",
    "# Ultima lista\n",
    "print(my_matrix[-1])\n",
    "\n",
    "# Tercer elemento de la primera fila\n",
    "print(my_matrix[0][2])\n",
    "print(type(my_matrix[0][2]))\n",
    "\n",
    "# Añadir elementos\n",
    "my_matrix.append([10,11,12])\n",
    "print(my_matrix)\n",
    "\n",
    "# Queremo añadir más elementos a una de las listas de la matriz\n",
    "my_matrix[0].extend([1.5, 2.5, 3.5])\n",
    "my_matrix[1].append([1.5, 2.5, 3.5]) # Elemento nuevo\n",
    "print(my_matrix)"
   ]
  },
  {
   "cell_type": "markdown",
   "metadata": {},
   "source": [
    "En los ejemplos de arriba hemos accedido a los elementos de la matriz directamente con sus índices, pero si no sabemos cómo de grande es la matriz, habrá que iterarla mediante bucles."
   ]
  },
  {
   "cell_type": "code",
   "execution_count": 7,
   "metadata": {},
   "outputs": [
    {
     "output_type": "stream",
     "name": "stdout",
     "text": [
      "1 2 3 \n4 5 6 \n7 8 9 \n2 4 3 \n"
     ]
    },
    {
     "output_type": "execute_result",
     "data": {
      "text/plain": [
       "[[1, 2, 3], [4, 5, 6], [7, 8, 9], [2, 4, 3]]"
      ]
     },
     "metadata": {},
     "execution_count": 7
    }
   ],
   "source": [
    "my_matrix = [[1,2,3],\n",
    "            [4,5,6],\n",
    "            [7,8,9],\n",
    "            [2,4,3]]\n",
    "        \n",
    "\n",
    "for i in range(len(my_matrix)):\n",
    "    for j in range(len(my_matrix[i])):\n",
    "        \n",
    "        print(my_matrix[i][j], end = ' ')\n",
    "        \n",
    "    print()\n",
    "    \n",
    "my_matrix"
   ]
  },
  {
   "cell_type": "markdown",
   "metadata": {},
   "source": [
    "Bien, hasta aquí todo correcto, **¿pero y si queremos multiplicar nuestra matriz por un escalar?** Es decir, simplemente aplicarle una operación a cada elemento de la matriz. Veamos cómo se hace."
   ]
  },
  {
   "cell_type": "code",
   "execution_count": 8,
   "metadata": {},
   "outputs": [
    {
     "output_type": "execute_result",
     "data": {
      "text/plain": [
       "[[10, 20, 30], [40, 50, 60], [70, 80, 90], [20, 50, 60]]"
      ]
     },
     "metadata": {},
     "execution_count": 8
    }
   ],
   "source": [
    "my_matrix = [[1,2,3],\n",
    "            [4,5,6],\n",
    "            [7,8,9],\n",
    "            [2,5,6]]\n",
    "\n",
    "for i in range(len(my_matrix)):\n",
    "    \n",
    "    for j in range(len(my_matrix[i])):\n",
    "        \n",
    "        my_matrix[i][j] = my_matrix[i][j] * 10\n",
    "        \n",
    "my_matrix"
   ]
  },
  {
   "cell_type": "markdown",
   "metadata": {},
   "source": [
    "¡Conseguido! Aunque un poco aparatoso para ser una operación tan sencilla como multiplicar una matriz por 10. ¿Y si queremos hacer una matriz traspuesta? ¿Y si tenemos dos matrices de las mismas dimensiones y queremos multiplicar elemento a elemento? Se complica todavía más la cosa y tendremos que acudir a los bucles para solucionarlo cuando realmente hay una librería que lo hace por nosotros :)\n",
    "\n",
    "Recuerda que gran parte de la potencia de Python reside en sus librerías, ya que ahorra muchísimo tiempo el no tener que implementar ciertas funciones en nuestro código ya que esas y muchas más vienen ya desarrolladas en paquetes más que probados como `numpy`."
   ]
  },
  {
   "cell_type": "markdown",
   "metadata": {},
   "source": [
    "## 2. Numpy\n",
    "Esta librería va un paso más allá que las listas y permite realizar operaciones entre arrays, listas o matrices de una manera óptima. Características de `numpy`:\n",
    "\n",
    "* **Librería**: Es una librería de Python por lo que tendrás que importarla mediante `import numpy as np`. Por costumbre se suele poner el alias `np`.\n",
    "\n",
    "* **Listas y matrices**: Si nunca has trabajado con estos formatos de datos, no te puedes imaginar la cantidad de cosas que puedes hacer. Formatos de datos como por ejemplo las imágenes no dejan de ser matrices de números, que interpretados de la manera adecuada, representan píxeles con sus posiciones y sus colores.\n",
    "\n",
    "* **Rendimiento**: no es un tema *core* en Data Analysis ya que para realizar tus análisis explotatorios lo vas a poder hacer igual sin preocuparte de este factor. Ahora bien, la cosa se complica cuando productivizamos productos de datos y el SLA (Service Learning Agreement) es exigente. Aquí entra en juego `numpy` ya que es una librería muy rápida.\n",
    "\n",
    "\n",
    "**¿Qué podemos tratar con `numpy`?**\n",
    "* **Imágenes**: las imágenes se pueden tratar como arrays de pixels, los cuales tienen unos valores dependiendo del color.\n",
    "* **Audio**: también se pueden manejar mediante arrays unidimensionales.\n",
    "* **Texto**: lo podemos representar también en un formato numérico.\n",
    "\n",
    "Podrás encontrar toda la [documentación de `numpy` en su página oficial](https://numpy.org/doc/)."
   ]
  },
  {
   "cell_type": "code",
   "execution_count": 9,
   "metadata": {},
   "outputs": [
    {
     "output_type": "execute_result",
     "data": {
      "text/plain": [
       "'1.20.2'"
      ]
     },
     "metadata": {},
     "execution_count": 9
    }
   ],
   "source": [
    "# Importamos numpy\n",
    "import numpy as np\n",
    "np.__version__"
   ]
  },
  {
   "cell_type": "code",
   "execution_count": 10,
   "metadata": {
    "tags": [
     "outputPrepend"
    ]
   },
   "outputs": [
    {
     "output_type": "stream",
     "name": "stdout",
     "text": [
      "nite population.\n        ``ddof=0`` provides a maximum likelihood estimate of the variance for\n        normally distributed variables.\n        \n        Note that for complex numbers, the absolute value is taken before\n        squaring, so that the result is always real and nonnegative.\n        \n        For floating-point input, the variance is computed using the same\n        precision the input has.  Depending on the input data, this can cause\n        the results to be inaccurate, especially for `float32` (see example\n        below).  Specifying a higher-accuracy accumulator using the ``dtype``\n        keyword can alleviate this issue.\n        \n        Examples\n        --------\n        >>> a = np.array([[1, 2], [3, 4]])\n        >>> np.var(a)\n        1.25\n        >>> np.var(a, axis=0)\n        array([1.,  1.])\n        >>> np.var(a, axis=1)\n        array([0.25,  0.25])\n        \n        In single precision, var() can be inaccurate:\n        \n        >>> a = np.zeros((2, 512*512), dtype=np.float32)\n        >>> a[0, :] = 1.0\n        >>> a[1, :] = 0.1\n        >>> np.var(a)\n        0.20250003\n        \n        Computing the variance in float64 is more accurate:\n        \n        >>> np.var(a, dtype=np.float64)\n        0.20249999932944759 # may vary\n        >>> ((1-0.55)**2 + (0.1-0.55)**2)/2\n        0.2025\n        \n        Specifying a where argument:\n        \n        >>> a = np.array([[14, 8, 11, 10], [7, 9, 10, 11], [10, 15, 5, 10]])\n        >>> np.var(a)\n        6.833333333333333 # may vary\n        >>> np.var(a, where=[[True], [True], [False]])\n        4.0\n    \n    vdot(...)\n        vdot(a, b)\n        \n        Return the dot product of two vectors.\n        \n        The vdot(`a`, `b`) function handles complex numbers differently than\n        dot(`a`, `b`).  If the first argument is complex the complex conjugate\n        of the first argument is used for the calculation of the dot product.\n        \n        Note that `vdot` handles multidimensional arrays differently than `dot`:\n        it does *not* perform a matrix product, but flattens input arguments\n        to 1-D vectors first. Consequently, it should only be used for vectors.\n        \n        Parameters\n        ----------\n        a : array_like\n            If `a` is complex the complex conjugate is taken before calculation\n            of the dot product.\n        b : array_like\n            Second argument to the dot product.\n        \n        Returns\n        -------\n        output : ndarray\n            Dot product of `a` and `b`.  Can be an int, float, or\n            complex depending on the types of `a` and `b`.\n        \n        See Also\n        --------\n        dot : Return the dot product without using the complex conjugate of the\n              first argument.\n        \n        Examples\n        --------\n        >>> a = np.array([1+2j,3+4j])\n        >>> b = np.array([5+6j,7+8j])\n        >>> np.vdot(a, b)\n        (70-8j)\n        >>> np.vdot(b, a)\n        (70+8j)\n        \n        Note that higher-dimensional arrays are flattened!\n        \n        >>> a = np.array([[1, 4], [5, 6]])\n        >>> b = np.array([[4, 1], [2, 2]])\n        >>> np.vdot(a, b)\n        30\n        >>> np.vdot(b, a)\n        30\n        >>> 1*4 + 4*1 + 5*2 + 6*2\n        30\n    \n    vsplit(ary, indices_or_sections)\n        Split an array into multiple sub-arrays vertically (row-wise).\n        \n        Please refer to the ``split`` documentation.  ``vsplit`` is equivalent\n        to ``split`` with `axis=0` (default), the array is always split along the\n        first axis regardless of the array dimension.\n        \n        See Also\n        --------\n        split : Split an array into multiple sub-arrays of equal size.\n        \n        Examples\n        --------\n        >>> x = np.arange(16.0).reshape(4, 4)\n        >>> x\n        array([[ 0.,   1.,   2.,   3.],\n               [ 4.,   5.,   6.,   7.],\n               [ 8.,   9.,  10.,  11.],\n               [12.,  13.,  14.,  15.]])\n        >>> np.vsplit(x, 2)\n        [array([[0., 1., 2., 3.],\n               [4., 5., 6., 7.]]), array([[ 8.,  9., 10., 11.],\n               [12., 13., 14., 15.]])]\n        >>> np.vsplit(x, np.array([3, 6]))\n        [array([[ 0.,  1.,  2.,  3.],\n               [ 4.,  5.,  6.,  7.],\n               [ 8.,  9., 10., 11.]]), array([[12., 13., 14., 15.]]), array([], shape=(0, 4), dtype=float64)]\n        \n        With a higher dimensional array the split is still along the first axis.\n        \n        >>> x = np.arange(8.0).reshape(2, 2, 2)\n        >>> x\n        array([[[0.,  1.],\n                [2.,  3.]],\n               [[4.,  5.],\n                [6.,  7.]]])\n        >>> np.vsplit(x, 2)\n        [array([[[0., 1.],\n                [2., 3.]]]), array([[[4., 5.],\n                [6., 7.]]])]\n    \n    vstack(tup)\n        Stack arrays in sequence vertically (row wise).\n        \n        This is equivalent to concatenation along the first axis after 1-D arrays\n        of shape `(N,)` have been reshaped to `(1,N)`. Rebuilds arrays divided by\n        `vsplit`.\n        \n        This function makes most sense for arrays with up to 3 dimensions. For\n        instance, for pixel-data with a height (first axis), width (second axis),\n        and r/g/b channels (third axis). The functions `concatenate`, `stack` and\n        `block` provide more general stacking and concatenation operations.\n        \n        Parameters\n        ----------\n        tup : sequence of ndarrays\n            The arrays must have the same shape along all but the first axis.\n            1-D arrays must have the same length.\n        \n        Returns\n        -------\n        stacked : ndarray\n            The array formed by stacking the given arrays, will be at least 2-D.\n        \n        See Also\n        --------\n        concatenate : Join a sequence of arrays along an existing axis.\n        stack : Join a sequence of arrays along a new axis.\n        block : Assemble an nd-array from nested lists of blocks.\n        hstack : Stack arrays in sequence horizontally (column wise).\n        dstack : Stack arrays in sequence depth wise (along third axis).\n        column_stack : Stack 1-D arrays as columns into a 2-D array.\n        vsplit : Split an array into multiple sub-arrays vertically (row-wise).\n        \n        Examples\n        --------\n        >>> a = np.array([1, 2, 3])\n        >>> b = np.array([2, 3, 4])\n        >>> np.vstack((a,b))\n        array([[1, 2, 3],\n               [2, 3, 4]])\n        \n        >>> a = np.array([[1], [2], [3]])\n        >>> b = np.array([[2], [3], [4]])\n        >>> np.vstack((a,b))\n        array([[1],\n               [2],\n               [3],\n               [2],\n               [3],\n               [4]])\n    \n    where(...)\n        where(condition, [x, y])\n        \n        Return elements chosen from `x` or `y` depending on `condition`.\n        \n        .. note::\n            When only `condition` is provided, this function is a shorthand for\n            ``np.asarray(condition).nonzero()``. Using `nonzero` directly should be\n            preferred, as it behaves correctly for subclasses. The rest of this\n            documentation covers only the case where all three arguments are\n            provided.\n        \n        Parameters\n        ----------\n        condition : array_like, bool\n            Where True, yield `x`, otherwise yield `y`.\n        x, y : array_like\n            Values from which to choose. `x`, `y` and `condition` need to be\n            broadcastable to some shape.\n        \n        Returns\n        -------\n        out : ndarray\n            An array with elements from `x` where `condition` is True, and elements\n            from `y` elsewhere.\n        \n        See Also\n        --------\n        choose\n        nonzero : The function that is called when x and y are omitted\n        \n        Notes\n        -----\n        If all the arrays are 1-D, `where` is equivalent to::\n        \n            [xv if c else yv\n             for c, xv, yv in zip(condition, x, y)]\n        \n        Examples\n        --------\n        >>> a = np.arange(10)\n        >>> a\n        array([0, 1, 2, 3, 4, 5, 6, 7, 8, 9])\n        >>> np.where(a < 5, a, 10*a)\n        array([ 0,  1,  2,  3,  4, 50, 60, 70, 80, 90])\n        \n        This can be used on multidimensional arrays too:\n        \n        >>> np.where([[True, False], [True, True]],\n        ...          [[1, 2], [3, 4]],\n        ...          [[9, 8], [7, 6]])\n        array([[1, 8],\n               [3, 4]])\n        \n        The shapes of x, y, and the condition are broadcast together:\n        \n        >>> x, y = np.ogrid[:3, :4]\n        >>> np.where(x < y, x, 10 + y)  # both x and 10+y are broadcast\n        array([[10,  0,  0,  0],\n               [10, 11,  1,  1],\n               [10, 11, 12,  2]])\n        \n        >>> a = np.array([[0, 1, 2],\n        ...               [0, 2, 4],\n        ...               [0, 3, 6]])\n        >>> np.where(a < 4, a, -1)  # -1 is broadcast\n        array([[ 0,  1,  2],\n               [ 0,  2, -1],\n               [ 0,  3, -1]])\n    \n    who(vardict=None)\n        Print the NumPy arrays in the given dictionary.\n        \n        If there is no dictionary passed in or `vardict` is None then returns\n        NumPy arrays in the globals() dictionary (all NumPy arrays in the\n        namespace).\n        \n        Parameters\n        ----------\n        vardict : dict, optional\n            A dictionary possibly containing ndarrays.  Default is globals().\n        \n        Returns\n        -------\n        out : None\n            Returns 'None'.\n        \n        Notes\n        -----\n        Prints out the name, shape, bytes and type of all of the ndarrays\n        present in `vardict`.\n        \n        Examples\n        --------\n        >>> a = np.arange(10)\n        >>> b = np.ones(20)\n        >>> np.who()\n        Name            Shape            Bytes            Type\n        ===========================================================\n        a               10               80               int64\n        b               20               160              float64\n        Upper bound on total bytes  =       240\n        \n        >>> d = {'x': np.arange(2.0), 'y': np.arange(3.0), 'txt': 'Some str',\n        ... 'idx':5}\n        >>> np.who(d)\n        Name            Shape            Bytes            Type\n        ===========================================================\n        x               2                16               float64\n        y               3                24               float64\n        Upper bound on total bytes  =       40\n    \n    zeros(...)\n        zeros(shape, dtype=float, order='C', *, like=None)\n        \n        Return a new array of given shape and type, filled with zeros.\n        \n        Parameters\n        ----------\n        shape : int or tuple of ints\n            Shape of the new array, e.g., ``(2, 3)`` or ``2``.\n        dtype : data-type, optional\n            The desired data-type for the array, e.g., `numpy.int8`.  Default is\n            `numpy.float64`.\n        order : {'C', 'F'}, optional, default: 'C'\n            Whether to store multi-dimensional data in row-major\n            (C-style) or column-major (Fortran-style) order in\n            memory.\n        like : array_like\n            Reference object to allow the creation of arrays which are not\n            NumPy arrays. If an array-like passed in as ``like`` supports\n            the ``__array_function__`` protocol, the result will be defined\n            by it. In this case, it ensures the creation of an array object\n            compatible with that passed in via this argument.\n        \n            .. note::\n                The ``like`` keyword is an experimental feature pending on\n                acceptance of :ref:`NEP 35 <NEP35>`.\n        \n            .. versionadded:: 1.20.0\n        \n        Returns\n        -------\n        out : ndarray\n            Array of zeros with the given shape, dtype, and order.\n        \n        See Also\n        --------\n        zeros_like : Return an array of zeros with shape and type of input.\n        empty : Return a new uninitialized array.\n        ones : Return a new array setting values to one.\n        full : Return a new array of given shape filled with value.\n        \n        Examples\n        --------\n        >>> np.zeros(5)\n        array([ 0.,  0.,  0.,  0.,  0.])\n        \n        >>> np.zeros((5,), dtype=int)\n        array([0, 0, 0, 0, 0])\n        \n        >>> np.zeros((2, 1))\n        array([[ 0.],\n               [ 0.]])\n        \n        >>> s = (2,2)\n        >>> np.zeros(s)\n        array([[ 0.,  0.],\n               [ 0.,  0.]])\n        \n        >>> np.zeros((2,), dtype=[('x', 'i4'), ('y', 'i4')]) # custom dtype\n        array([(0, 0), (0, 0)],\n              dtype=[('x', '<i4'), ('y', '<i4')])\n    \n    zeros_like(a, dtype=None, order='K', subok=True, shape=None)\n        Return an array of zeros with the same shape and type as a given array.\n        \n        Parameters\n        ----------\n        a : array_like\n            The shape and data-type of `a` define these same attributes of\n            the returned array.\n        dtype : data-type, optional\n            Overrides the data type of the result.\n        \n            .. versionadded:: 1.6.0\n        order : {'C', 'F', 'A', or 'K'}, optional\n            Overrides the memory layout of the result. 'C' means C-order,\n            'F' means F-order, 'A' means 'F' if `a` is Fortran contiguous,\n            'C' otherwise. 'K' means match the layout of `a` as closely\n            as possible.\n        \n            .. versionadded:: 1.6.0\n        subok : bool, optional.\n            If True, then the newly created array will use the sub-class\n            type of `a`, otherwise it will be a base-class array. Defaults\n            to True.\n        shape : int or sequence of ints, optional.\n            Overrides the shape of the result. If order='K' and the number of\n            dimensions is unchanged, will try to keep order, otherwise,\n            order='C' is implied.\n        \n            .. versionadded:: 1.17.0\n        \n        Returns\n        -------\n        out : ndarray\n            Array of zeros with the same shape and type as `a`.\n        \n        See Also\n        --------\n        empty_like : Return an empty array with shape and type of input.\n        ones_like : Return an array of ones with shape and type of input.\n        full_like : Return a new array with shape of input filled with value.\n        zeros : Return a new array setting values to zero.\n        \n        Examples\n        --------\n        >>> x = np.arange(6)\n        >>> x = x.reshape((2, 3))\n        >>> x\n        array([[0, 1, 2],\n               [3, 4, 5]])\n        >>> np.zeros_like(x)\n        array([[0, 0, 0],\n               [0, 0, 0]])\n        \n        >>> y = np.arange(3, dtype=float)\n        >>> y\n        array([0., 1., 2.])\n        >>> np.zeros_like(y)\n        array([0.,  0.,  0.])\n\nDATA\n    ALLOW_THREADS = 1\n    BUFSIZE = 8192\n    CLIP = 0\n    ERR_CALL = 3\n    ERR_DEFAULT = 521\n    ERR_IGNORE = 0\n    ERR_LOG = 5\n    ERR_PRINT = 4\n    ERR_RAISE = 2\n    ERR_WARN = 1\n    FLOATING_POINT_SUPPORT = 1\n    FPE_DIVIDEBYZERO = 1\n    FPE_INVALID = 8\n    FPE_OVERFLOW = 2\n    FPE_UNDERFLOW = 4\n    False_ = False\n    Inf = inf\n    Infinity = inf\n    MAXDIMS = 32\n    MAY_SHARE_BOUNDS = 0\n    MAY_SHARE_EXACT = -1\n    NAN = nan\n    NINF = -inf\n    NZERO = -0.0\n    NaN = nan\n    PINF = inf\n    PZERO = 0.0\n    RAISE = 2\n    SHIFT_DIVIDEBYZERO = 0\n    SHIFT_INVALID = 9\n    SHIFT_OVERFLOW = 3\n    SHIFT_UNDERFLOW = 6\n    ScalarType = (<class 'int'>, <class 'float'>, <class 'complex'>, <clas...\n    True_ = True\n    UFUNC_BUFSIZE_DEFAULT = 8192\n    UFUNC_PYVALS_NAME = 'UFUNC_PYVALS'\n    WRAP = 1\n    _UFUNC_API = <capsule object NULL>\n    __NUMPY_SETUP__ = False\n    __all__ = ['ModuleDeprecationWarning', 'VisibleDeprecationWarning', '_...\n    __deprecated_attrs__ = {'bool': (<class 'bool'>, '`np.bool` is a depre...\n    __expired_functions__ = {'fv': 'In accordance with NEP 32, the functio...\n    __git_revision__ = 'b19ad5bfa396a4600a52a598a30a65d4e993f831'\n    absolute = <ufunc 'absolute'>\n    add = <ufunc 'add'>\n    arccos = <ufunc 'arccos'>\n    arccosh = <ufunc 'arccosh'>\n    arcsin = <ufunc 'arcsin'>\n    arcsinh = <ufunc 'arcsinh'>\n    arctan = <ufunc 'arctan'>\n    arctan2 = <ufunc 'arctan2'>\n    arctanh = <ufunc 'arctanh'>\n    bitwise_and = <ufunc 'bitwise_and'>\n    bitwise_not = <ufunc 'invert'>\n    bitwise_or = <ufunc 'bitwise_or'>\n    bitwise_xor = <ufunc 'bitwise_xor'>\n    c_ = <numpy.lib.index_tricks.CClass object>\n    cast = {<class 'numpy.clongdouble'>: <function <lambda>...t64'>: <func...\n    cbrt = <ufunc 'cbrt'>\n    ceil = <ufunc 'ceil'>\n    conj = <ufunc 'conjugate'>\n    conjugate = <ufunc 'conjugate'>\n    copysign = <ufunc 'copysign'>\n    cos = <ufunc 'cos'>\n    cosh = <ufunc 'cosh'>\n    deg2rad = <ufunc 'deg2rad'>\n    degrees = <ufunc 'degrees'>\n    divide = <ufunc 'true_divide'>\n    divmod = <ufunc 'divmod'>\n    e = 2.718281828459045\n    equal = <ufunc 'equal'>\n    euler_gamma = 0.5772156649015329\n    exp = <ufunc 'exp'>\n    exp2 = <ufunc 'exp2'>\n    expm1 = <ufunc 'expm1'>\n    fabs = <ufunc 'fabs'>\n    float_power = <ufunc 'float_power'>\n    floor = <ufunc 'floor'>\n    floor_divide = <ufunc 'floor_divide'>\n    fmax = <ufunc 'fmax'>\n    fmin = <ufunc 'fmin'>\n    fmod = <ufunc 'fmod'>\n    frexp = <ufunc 'frexp'>\n    gcd = <ufunc 'gcd'>\n    greater = <ufunc 'greater'>\n    greater_equal = <ufunc 'greater_equal'>\n    heaviside = <ufunc 'heaviside'>\n    hypot = <ufunc 'hypot'>\n    index_exp = <numpy.lib.index_tricks.IndexExpression object>\n    inf = inf\n    infty = inf\n    invert = <ufunc 'invert'>\n    isfinite = <ufunc 'isfinite'>\n    isinf = <ufunc 'isinf'>\n    isnan = <ufunc 'isnan'>\n    isnat = <ufunc 'isnat'>\n    lcm = <ufunc 'lcm'>\n    ldexp = <ufunc 'ldexp'>\n    left_shift = <ufunc 'left_shift'>\n    less = <ufunc 'less'>\n    less_equal = <ufunc 'less_equal'>\n    little_endian = True\n    log = <ufunc 'log'>\n    log10 = <ufunc 'log10'>\n    log1p = <ufunc 'log1p'>\n    log2 = <ufunc 'log2'>\n    logaddexp = <ufunc 'logaddexp'>\n    logaddexp2 = <ufunc 'logaddexp2'>\n    logical_and = <ufunc 'logical_and'>\n    logical_not = <ufunc 'logical_not'>\n    logical_or = <ufunc 'logical_or'>\n    logical_xor = <ufunc 'logical_xor'>\n    matmul = <ufunc 'matmul'>\n    maximum = <ufunc 'maximum'>\n    mgrid = <numpy.lib.index_tricks.MGridClass object>\n    minimum = <ufunc 'minimum'>\n    mod = <ufunc 'remainder'>\n    modf = <ufunc 'modf'>\n    multiply = <ufunc 'multiply'>\n    nan = nan\n    nbytes = {<class 'numpy.bool_'>: 1, <class 'numpy.int8'>:....datetime6...\n    negative = <ufunc 'negative'>\n    newaxis = None\n    nextafter = <ufunc 'nextafter'>\n    not_equal = <ufunc 'not_equal'>\n    ogrid = <numpy.lib.index_tricks.OGridClass object>\n    pi = 3.141592653589793\n    positive = <ufunc 'positive'>\n    power = <ufunc 'power'>\n    r_ = <numpy.lib.index_tricks.RClass object>\n    rad2deg = <ufunc 'rad2deg'>\n    radians = <ufunc 'radians'>\n    reciprocal = <ufunc 'reciprocal'>\n    remainder = <ufunc 'remainder'>\n    right_shift = <ufunc 'right_shift'>\n    rint = <ufunc 'rint'>\n    s_ = <numpy.lib.index_tricks.IndexExpression object>\n    sctypeDict = {'?': <class 'numpy.bool_'>, 0: <class 'numpy.bool_'>, 'b...\n    sctypes = {'complex': [<class 'numpy.complex64'>, <class 'numpy.comple...\n    sign = <ufunc 'sign'>\n    signbit = <ufunc 'signbit'>\n    sin = <ufunc 'sin'>\n    sinh = <ufunc 'sinh'>\n    spacing = <ufunc 'spacing'>\n    sqrt = <ufunc 'sqrt'>\n    square = <ufunc 'square'>\n    subtract = <ufunc 'subtract'>\n    tan = <ufunc 'tan'>\n    tanh = <ufunc 'tanh'>\n    tracemalloc_domain = 389047\n    true_divide = <ufunc 'true_divide'>\n    trunc = <ufunc 'trunc'>\n    typeDict = {'?': <class 'numpy.bool_'>, 0: <class 'numpy.bool_'>, 'byt...\n    typecodes = {'All': '?bhilqpBHILQPefdgFDGSUVOMm', 'AllFloat': 'efdgFDG...\n\nVERSION\n    1.20.2\n\nFILE\n    c:\\users\\leofr\\appdata\\local\\programs\\python\\python37\\lib\\site-packages\\numpy\\__init__.py\n\n\n"
     ]
    }
   ],
   "source": [
    "help(np) # estamos intentando mostrar la documentación de una librería entera."
   ]
  },
  {
   "cell_type": "code",
   "execution_count": 11,
   "metadata": {
    "jupyter": {
     "outputs_hidden": true
    }
   },
   "outputs": [
    {
     "output_type": "stream",
     "text": [
      "\u001b[1;31mType:\u001b[0m        module\n",
      "\u001b[1;31mString form:\u001b[0m <module 'numpy' from 'C:\\\\Users\\\\LeoFr\\\\AppData\\\\Local\\\\Programs\\\\Python\\\\Python37\\\\lib\\\\site-packages\\\\numpy\\\\__init__.py'>\n",
      "\u001b[1;31mFile:\u001b[0m        c:\\users\\leofr\\appdata\\local\\programs\\python\\python37\\lib\\site-packages\\numpy\\__init__.py\n",
      "\u001b[1;31mDocstring:\u001b[0m  \n",
      "NumPy\n",
      "=====\n",
      "\n",
      "Provides\n",
      "  1. An array object of arbitrary homogeneous items\n",
      "  2. Fast mathematical operations over arrays\n",
      "  3. Linear Algebra, Fourier Transforms, Random Number Generation\n",
      "\n",
      "How to use the documentation\n",
      "----------------------------\n",
      "Documentation is available in two forms: docstrings provided\n",
      "with the code, and a loose standing reference guide, available from\n",
      "`the NumPy homepage <https://www.scipy.org>`_.\n",
      "\n",
      "We recommend exploring the docstrings using\n",
      "`IPython <https://ipython.org>`_, an advanced Python shell with\n",
      "TAB-completion and introspection capabilities.  See below for further\n",
      "instructions.\n",
      "\n",
      "The docstring examples assume that `numpy` has been imported as `np`::\n",
      "\n",
      "  >>> import numpy as np\n",
      "\n",
      "Code snippets are indicated by three greater-than signs::\n",
      "\n",
      "  >>> x = 42\n",
      "  >>> x = x + 1\n",
      "\n",
      "Use the built-in ``help`` function to view a function's docstring::\n",
      "\n",
      "  >>> help(np.sort)\n",
      "  ... # doctest: +SKIP\n",
      "\n",
      "For some objects, ``np.info(obj)`` may provide additional help.  This is\n",
      "particularly true if you see the line \"Help on ufunc object:\" at the top\n",
      "of the help() page.  Ufuncs are implemented in C, not Python, for speed.\n",
      "The native Python help() does not know how to view their help, but our\n",
      "np.info() function does.\n",
      "\n",
      "To search for documents containing a keyword, do::\n",
      "\n",
      "  >>> np.lookfor('keyword')\n",
      "  ... # doctest: +SKIP\n",
      "\n",
      "General-purpose documents like a glossary and help on the basic concepts\n",
      "of numpy are available under the ``doc`` sub-module::\n",
      "\n",
      "  >>> from numpy import doc\n",
      "  >>> help(doc)\n",
      "  ... # doctest: +SKIP\n",
      "\n",
      "Available subpackages\n",
      "---------------------\n",
      "doc\n",
      "    Topical documentation on broadcasting, indexing, etc.\n",
      "lib\n",
      "    Basic functions used by several sub-packages.\n",
      "random\n",
      "    Core Random Tools\n",
      "linalg\n",
      "    Core Linear Algebra Tools\n",
      "fft\n",
      "    Core FFT routines\n",
      "polynomial\n",
      "    Polynomial tools\n",
      "testing\n",
      "    NumPy testing tools\n",
      "f2py\n",
      "    Fortran to Python Interface Generator.\n",
      "distutils\n",
      "    Enhancements to distutils with support for\n",
      "    Fortran compilers support and more.\n",
      "\n",
      "Utilities\n",
      "---------\n",
      "test\n",
      "    Run numpy unittests\n",
      "show_config\n",
      "    Show numpy build configuration\n",
      "dual\n",
      "    Overwrite certain functions with high-performance SciPy tools.\n",
      "    Note: `numpy.dual` is deprecated.  Use the functions from NumPy or Scipy\n",
      "    directly instead of importing them from `numpy.dual`.\n",
      "matlib\n",
      "    Make everything matrices.\n",
      "__version__\n",
      "    NumPy version string\n",
      "\n",
      "Viewing documentation using IPython\n",
      "-----------------------------------\n",
      "Start IPython with the NumPy profile (``ipython -p numpy``), which will\n",
      "import `numpy` under the alias `np`.  Then, use the ``cpaste`` command to\n",
      "paste examples into the shell.  To see which functions are available in\n",
      "`numpy`, type ``np.<TAB>`` (where ``<TAB>`` refers to the TAB key), or use\n",
      "``np.*cos*?<ENTER>`` (where ``<ENTER>`` refers to the ENTER key) to narrow\n",
      "down the list.  To view the docstring for a function, use\n",
      "``np.cos?<ENTER>`` (to view the docstring) and ``np.cos??<ENTER>`` (to view\n",
      "the source code).\n",
      "\n",
      "Copies vs. in-place operation\n",
      "-----------------------------\n",
      "Most of the functions in `numpy` return a copy of the array argument\n",
      "(e.g., `np.sort`).  In-place versions of these functions are often\n",
      "available as array methods, i.e. ``x = np.array([1,2,3]); x.sort()``.\n",
      "Exceptions to this rule are documented.\n"
     ],
     "name": "stdout"
    }
   ],
   "source": [
    "np?"
   ]
  },
  {
   "cell_type": "code",
   "execution_count": 12,
   "metadata": {
    "jupyter": {
     "outputs_hidden": true
    },
    "tags": [
     "outputPrepend"
    ]
   },
   "outputs": [
    {
     "output_type": "stream",
     "name": "stdout",
     "text": [
      " t\n        statistic appear?\n        \n        >>> np.sum(s<t) / float(len(s))\n        0.0090699999999999999  #random\n        \n        So the p-value is about 0.009, which says the null hypothesis has a\n        probability of about 99% of being true.\n    \n    triangular(...) method of numpy.random.mtrand.RandomState instance\n        triangular(left, mode, right, size=None)\n        \n        Draw samples from the triangular distribution over the\n        interval ``[left, right]``.\n        \n        The triangular distribution is a continuous probability\n        distribution with lower limit left, peak at mode, and upper\n        limit right. Unlike the other distributions, these parameters\n        directly define the shape of the pdf.\n        \n        .. note::\n            New code should use the ``triangular`` method of a ``default_rng()``\n            instance instead; please see the :ref:`random-quick-start`.\n        \n        Parameters\n        ----------\n        left : float or array_like of floats\n            Lower limit.\n        mode : float or array_like of floats\n            The value where the peak of the distribution occurs.\n            The value must fulfill the condition ``left <= mode <= right``.\n        right : float or array_like of floats\n            Upper limit, must be larger than `left`.\n        size : int or tuple of ints, optional\n            Output shape.  If the given shape is, e.g., ``(m, n, k)``, then\n            ``m * n * k`` samples are drawn.  If size is ``None`` (default),\n            a single value is returned if ``left``, ``mode``, and ``right``\n            are all scalars.  Otherwise, ``np.broadcast(left, mode, right).size``\n            samples are drawn.\n        \n        Returns\n        -------\n        out : ndarray or scalar\n            Drawn samples from the parameterized triangular distribution.\n        \n        See Also\n        --------\n        Generator.triangular: which should be used for new code.\n        \n        Notes\n        -----\n        The probability density function for the triangular distribution is\n        \n        .. math:: P(x;l, m, r) = \\begin{cases}\n                  \\frac{2(x-l)}{(r-l)(m-l)}& \\text{for $l \\leq x \\leq m$},\\\\\n                  \\frac{2(r-x)}{(r-l)(r-m)}& \\text{for $m \\leq x \\leq r$},\\\\\n                  0& \\text{otherwise}.\n                  \\end{cases}\n        \n        The triangular distribution is often used in ill-defined\n        problems where the underlying distribution is not known, but\n        some knowledge of the limits and mode exists. Often it is used\n        in simulations.\n        \n        References\n        ----------\n        .. [1] Wikipedia, \"Triangular distribution\"\n               https://en.wikipedia.org/wiki/Triangular_distribution\n        \n        Examples\n        --------\n        Draw values from the distribution and plot the histogram:\n        \n        >>> import matplotlib.pyplot as plt\n        >>> h = plt.hist(np.random.triangular(-3, 0, 8, 100000), bins=200,\n        ...              density=True)\n        >>> plt.show()\n    \n    uniform(...) method of numpy.random.mtrand.RandomState instance\n        uniform(low=0.0, high=1.0, size=None)\n        \n        Draw samples from a uniform distribution.\n        \n        Samples are uniformly distributed over the half-open interval\n        ``[low, high)`` (includes low, but excludes high).  In other words,\n        any value within the given interval is equally likely to be drawn\n        by `uniform`.\n        \n        .. note::\n            New code should use the ``uniform`` method of a ``default_rng()``\n            instance instead; please see the :ref:`random-quick-start`.\n        \n        Parameters\n        ----------\n        low : float or array_like of floats, optional\n            Lower boundary of the output interval.  All values generated will be\n            greater than or equal to low.  The default value is 0.\n        high : float or array_like of floats\n            Upper boundary of the output interval.  All values generated will be\n            less than or equal to high.  The default value is 1.0.\n        size : int or tuple of ints, optional\n            Output shape.  If the given shape is, e.g., ``(m, n, k)``, then\n            ``m * n * k`` samples are drawn.  If size is ``None`` (default),\n            a single value is returned if ``low`` and ``high`` are both scalars.\n            Otherwise, ``np.broadcast(low, high).size`` samples are drawn.\n        \n        Returns\n        -------\n        out : ndarray or scalar\n            Drawn samples from the parameterized uniform distribution.\n        \n        See Also\n        --------\n        randint : Discrete uniform distribution, yielding integers.\n        random_integers : Discrete uniform distribution over the closed\n                          interval ``[low, high]``.\n        random_sample : Floats uniformly distributed over ``[0, 1)``.\n        random : Alias for `random_sample`.\n        rand : Convenience function that accepts dimensions as input, e.g.,\n               ``rand(2,2)`` would generate a 2-by-2 array of floats,\n               uniformly distributed over ``[0, 1)``.\n        Generator.uniform: which should be used for new code.\n        \n        Notes\n        -----\n        The probability density function of the uniform distribution is\n        \n        .. math:: p(x) = \\frac{1}{b - a}\n        \n        anywhere within the interval ``[a, b)``, and zero elsewhere.\n        \n        When ``high`` == ``low``, values of ``low`` will be returned.\n        If ``high`` < ``low``, the results are officially undefined\n        and may eventually raise an error, i.e. do not rely on this\n        function to behave when passed arguments satisfying that\n        inequality condition. The ``high`` limit may be included in the\n        returned array of floats due to floating-point rounding in the\n        equation ``low + (high-low) * random_sample()``. For example:\n        \n        >>> x = np.float32(5*0.99999999)\n        >>> x\n        5.0\n        \n        \n        Examples\n        --------\n        Draw samples from the distribution:\n        \n        >>> s = np.random.uniform(-1,0,1000)\n        \n        All values are within the given interval:\n        \n        >>> np.all(s >= -1)\n        True\n        >>> np.all(s < 0)\n        True\n        \n        Display the histogram of the samples, along with the\n        probability density function:\n        \n        >>> import matplotlib.pyplot as plt\n        >>> count, bins, ignored = plt.hist(s, 15, density=True)\n        >>> plt.plot(bins, np.ones_like(bins), linewidth=2, color='r')\n        >>> plt.show()\n    \n    vonmises(...) method of numpy.random.mtrand.RandomState instance\n        vonmises(mu, kappa, size=None)\n        \n        Draw samples from a von Mises distribution.\n        \n        Samples are drawn from a von Mises distribution with specified mode\n        (mu) and dispersion (kappa), on the interval [-pi, pi].\n        \n        The von Mises distribution (also known as the circular normal\n        distribution) is a continuous probability distribution on the unit\n        circle.  It may be thought of as the circular analogue of the normal\n        distribution.\n        \n        .. note::\n            New code should use the ``vonmises`` method of a ``default_rng()``\n            instance instead; please see the :ref:`random-quick-start`.\n        \n        Parameters\n        ----------\n        mu : float or array_like of floats\n            Mode (\"center\") of the distribution.\n        kappa : float or array_like of floats\n            Dispersion of the distribution, has to be >=0.\n        size : int or tuple of ints, optional\n            Output shape.  If the given shape is, e.g., ``(m, n, k)``, then\n            ``m * n * k`` samples are drawn.  If size is ``None`` (default),\n            a single value is returned if ``mu`` and ``kappa`` are both scalars.\n            Otherwise, ``np.broadcast(mu, kappa).size`` samples are drawn.\n        \n        Returns\n        -------\n        out : ndarray or scalar\n            Drawn samples from the parameterized von Mises distribution.\n        \n        See Also\n        --------\n        scipy.stats.vonmises : probability density function, distribution, or\n            cumulative density function, etc.\n        Generator.vonmises: which should be used for new code.\n        \n        Notes\n        -----\n        The probability density for the von Mises distribution is\n        \n        .. math:: p(x) = \\frac{e^{\\kappa cos(x-\\mu)}}{2\\pi I_0(\\kappa)},\n        \n        where :math:`\\mu` is the mode and :math:`\\kappa` the dispersion,\n        and :math:`I_0(\\kappa)` is the modified Bessel function of order 0.\n        \n        The von Mises is named for Richard Edler von Mises, who was born in\n        Austria-Hungary, in what is now the Ukraine.  He fled to the United\n        States in 1939 and became a professor at Harvard.  He worked in\n        probability theory, aerodynamics, fluid mechanics, and philosophy of\n        science.\n        \n        References\n        ----------\n        .. [1] Abramowitz, M. and Stegun, I. A. (Eds.). \"Handbook of\n               Mathematical Functions with Formulas, Graphs, and Mathematical\n               Tables, 9th printing,\" New York: Dover, 1972.\n        .. [2] von Mises, R., \"Mathematical Theory of Probability\n               and Statistics\", New York: Academic Press, 1964.\n        \n        Examples\n        --------\n        Draw samples from the distribution:\n        \n        >>> mu, kappa = 0.0, 4.0 # mean and dispersion\n        >>> s = np.random.vonmises(mu, kappa, 1000)\n        \n        Display the histogram of the samples, along with\n        the probability density function:\n        \n        >>> import matplotlib.pyplot as plt\n        >>> from scipy.special import i0  # doctest: +SKIP\n        >>> plt.hist(s, 50, density=True)\n        >>> x = np.linspace(-np.pi, np.pi, num=51)\n        >>> y = np.exp(kappa*np.cos(x-mu))/(2*np.pi*i0(kappa))  # doctest: +SKIP\n        >>> plt.plot(x, y, linewidth=2, color='r')  # doctest: +SKIP\n        >>> plt.show()\n    \n    wald(...) method of numpy.random.mtrand.RandomState instance\n        wald(mean, scale, size=None)\n        \n        Draw samples from a Wald, or inverse Gaussian, distribution.\n        \n        As the scale approaches infinity, the distribution becomes more like a\n        Gaussian. Some references claim that the Wald is an inverse Gaussian\n        with mean equal to 1, but this is by no means universal.\n        \n        The inverse Gaussian distribution was first studied in relationship to\n        Brownian motion. In 1956 M.C.K. Tweedie used the name inverse Gaussian\n        because there is an inverse relationship between the time to cover a\n        unit distance and distance covered in unit time.\n        \n        .. note::\n            New code should use the ``wald`` method of a ``default_rng()``\n            instance instead; please see the :ref:`random-quick-start`.\n        \n        Parameters\n        ----------\n        mean : float or array_like of floats\n            Distribution mean, must be > 0.\n        scale : float or array_like of floats\n            Scale parameter, must be > 0.\n        size : int or tuple of ints, optional\n            Output shape.  If the given shape is, e.g., ``(m, n, k)``, then\n            ``m * n * k`` samples are drawn.  If size is ``None`` (default),\n            a single value is returned if ``mean`` and ``scale`` are both scalars.\n            Otherwise, ``np.broadcast(mean, scale).size`` samples are drawn.\n        \n        Returns\n        -------\n        out : ndarray or scalar\n            Drawn samples from the parameterized Wald distribution.\n        \n        See Also\n        --------\n        Generator.wald: which should be used for new code.\n        \n        Notes\n        -----\n        The probability density function for the Wald distribution is\n        \n        .. math:: P(x;mean,scale) = \\sqrt{\\frac{scale}{2\\pi x^3}}e^\n                                    \\frac{-scale(x-mean)^2}{2\\cdotp mean^2x}\n        \n        As noted above the inverse Gaussian distribution first arise\n        from attempts to model Brownian motion. It is also a\n        competitor to the Weibull for use in reliability modeling and\n        modeling stock returns and interest rate processes.\n        \n        References\n        ----------\n        .. [1] Brighton Webs Ltd., Wald Distribution,\n               https://web.archive.org/web/20090423014010/http://www.brighton-webs.co.uk:80/distributions/wald.asp\n        .. [2] Chhikara, Raj S., and Folks, J. Leroy, \"The Inverse Gaussian\n               Distribution: Theory : Methodology, and Applications\", CRC Press,\n               1988.\n        .. [3] Wikipedia, \"Inverse Gaussian distribution\"\n               https://en.wikipedia.org/wiki/Inverse_Gaussian_distribution\n        \n        Examples\n        --------\n        Draw values from the distribution and plot the histogram:\n        \n        >>> import matplotlib.pyplot as plt\n        >>> h = plt.hist(np.random.wald(3, 2, 100000), bins=200, density=True)\n        >>> plt.show()\n    \n    weibull(...) method of numpy.random.mtrand.RandomState instance\n        weibull(a, size=None)\n        \n        Draw samples from a Weibull distribution.\n        \n        Draw samples from a 1-parameter Weibull distribution with the given\n        shape parameter `a`.\n        \n        .. math:: X = (-ln(U))^{1/a}\n        \n        Here, U is drawn from the uniform distribution over (0,1].\n        \n        The more common 2-parameter Weibull, including a scale parameter\n        :math:`\\lambda` is just :math:`X = \\lambda(-ln(U))^{1/a}`.\n        \n        .. note::\n            New code should use the ``weibull`` method of a ``default_rng()``\n            instance instead; please see the :ref:`random-quick-start`.\n        \n        Parameters\n        ----------\n        a : float or array_like of floats\n            Shape parameter of the distribution.  Must be nonnegative.\n        size : int or tuple of ints, optional\n            Output shape.  If the given shape is, e.g., ``(m, n, k)``, then\n            ``m * n * k`` samples are drawn.  If size is ``None`` (default),\n            a single value is returned if ``a`` is a scalar.  Otherwise,\n            ``np.array(a).size`` samples are drawn.\n        \n        Returns\n        -------\n        out : ndarray or scalar\n            Drawn samples from the parameterized Weibull distribution.\n        \n        See Also\n        --------\n        scipy.stats.weibull_max\n        scipy.stats.weibull_min\n        scipy.stats.genextreme\n        gumbel\n        Generator.weibull: which should be used for new code.\n        \n        Notes\n        -----\n        The Weibull (or Type III asymptotic extreme value distribution\n        for smallest values, SEV Type III, or Rosin-Rammler\n        distribution) is one of a class of Generalized Extreme Value\n        (GEV) distributions used in modeling extreme value problems.\n        This class includes the Gumbel and Frechet distributions.\n        \n        The probability density for the Weibull distribution is\n        \n        .. math:: p(x) = \\frac{a}\n                         {\\lambda}(\\frac{x}{\\lambda})^{a-1}e^{-(x/\\lambda)^a},\n        \n        where :math:`a` is the shape and :math:`\\lambda` the scale.\n        \n        The function has its peak (the mode) at\n        :math:`\\lambda(\\frac{a-1}{a})^{1/a}`.\n        \n        When ``a = 1``, the Weibull distribution reduces to the exponential\n        distribution.\n        \n        References\n        ----------\n        .. [1] Waloddi Weibull, Royal Technical University, Stockholm,\n               1939 \"A Statistical Theory Of The Strength Of Materials\",\n               Ingeniorsvetenskapsakademiens Handlingar Nr 151, 1939,\n               Generalstabens Litografiska Anstalts Forlag, Stockholm.\n        .. [2] Waloddi Weibull, \"A Statistical Distribution Function of\n               Wide Applicability\", Journal Of Applied Mechanics ASME Paper\n               1951.\n        .. [3] Wikipedia, \"Weibull distribution\",\n               https://en.wikipedia.org/wiki/Weibull_distribution\n        \n        Examples\n        --------\n        Draw samples from the distribution:\n        \n        >>> a = 5. # shape\n        >>> s = np.random.weibull(a, 1000)\n        \n        Display the histogram of the samples, along with\n        the probability density function:\n        \n        >>> import matplotlib.pyplot as plt\n        >>> x = np.arange(1,100.)/50.\n        >>> def weib(x,n,a):\n        ...     return (a / n) * (x / n)**(a - 1) * np.exp(-(x / n)**a)\n        \n        >>> count, bins, ignored = plt.hist(np.random.weibull(5.,1000))\n        >>> x = np.arange(1,100.)/50.\n        >>> scale = count.max()/weib(x, 1., 5.).max()\n        >>> plt.plot(x, weib(x, 1., 5.)*scale)\n        >>> plt.show()\n    \n    zipf(...) method of numpy.random.mtrand.RandomState instance\n        zipf(a, size=None)\n        \n        Draw samples from a Zipf distribution.\n        \n        Samples are drawn from a Zipf distribution with specified parameter\n        `a` > 1.\n        \n        The Zipf distribution (also known as the zeta distribution) is a\n        continuous probability distribution that satisfies Zipf's law: the\n        frequency of an item is inversely proportional to its rank in a\n        frequency table.\n        \n        .. note::\n            New code should use the ``zipf`` method of a ``default_rng()``\n            instance instead; please see the :ref:`random-quick-start`.\n        \n        Parameters\n        ----------\n        a : float or array_like of floats\n            Distribution parameter. Must be greater than 1.\n        size : int or tuple of ints, optional\n            Output shape.  If the given shape is, e.g., ``(m, n, k)``, then\n            ``m * n * k`` samples are drawn.  If size is ``None`` (default),\n            a single value is returned if ``a`` is a scalar. Otherwise,\n            ``np.array(a).size`` samples are drawn.\n        \n        Returns\n        -------\n        out : ndarray or scalar\n            Drawn samples from the parameterized Zipf distribution.\n        \n        See Also\n        --------\n        scipy.stats.zipf : probability density function, distribution, or\n            cumulative density function, etc.\n        Generator.zipf: which should be used for new code.\n        \n        Notes\n        -----\n        The probability density for the Zipf distribution is\n        \n        .. math:: p(x) = \\frac{x^{-a}}{\\zeta(a)},\n        \n        where :math:`\\zeta` is the Riemann Zeta function.\n        \n        It is named for the American linguist George Kingsley Zipf, who noted\n        that the frequency of any word in a sample of a language is inversely\n        proportional to its rank in the frequency table.\n        \n        References\n        ----------\n        .. [1] Zipf, G. K., \"Selected Studies of the Principle of Relative\n               Frequency in Language,\" Cambridge, MA: Harvard Univ. Press,\n               1932.\n        \n        Examples\n        --------\n        Draw samples from the distribution:\n        \n        >>> a = 2. # parameter\n        >>> s = np.random.zipf(a, 1000)\n        \n        Display the histogram of the samples, along with\n        the probability density function:\n        \n        >>> import matplotlib.pyplot as plt\n        >>> from scipy import special  # doctest: +SKIP\n        \n        Truncate s values at 50 so plot is interesting:\n        \n        >>> count, bins, ignored = plt.hist(s[s<50], 50, density=True)\n        >>> x = np.arange(1., 50.)\n        >>> y = x**(-a) / special.zetac(a)  # doctest: +SKIP\n        >>> plt.plot(x, y/max(y), linewidth=2, color='r')  # doctest: +SKIP\n        >>> plt.show()\n\nDATA\n    __all__ = ['beta', 'binomial', 'bytes', 'chisquare', 'choice', 'dirich...\n\nFILE\n    c:\\users\\leofr\\appdata\\local\\programs\\python\\python37\\lib\\site-packages\\numpy\\random\\__init__.py\n\n\n"
     ]
    }
   ],
   "source": [
    "help(np.random)"
   ]
  },
  {
   "cell_type": "markdown",
   "metadata": {},
   "source": [
    "Se verá más en detalle en posteriores apartados, pero algunos ejemplos de cosas que podemos hacer con `numpy` son:"
   ]
  },
  {
   "cell_type": "code",
   "execution_count": 13,
   "metadata": {},
   "outputs": [
    {
     "output_type": "execute_result",
     "data": {
      "text/plain": [
       "array([10, 20, 30, 40, 50, 60, 70, 80, 90])"
      ]
     },
     "metadata": {},
     "execution_count": 13
    }
   ],
   "source": [
    "array = np.array([1,2,3,4,5,6,7,8,9])\n",
    "\n",
    "array * 10\n",
    "# Con numpy todos los daatos del arry tienen que ser del\n",
    "# mismo tipo. Si no, numpy los transforma, si puede"
   ]
  },
  {
   "cell_type": "code",
   "execution_count": 14,
   "metadata": {},
   "outputs": [
    {
     "output_type": "stream",
     "name": "stdout",
     "text": [
      "<class 'numpy.ndarray'>\n(434, 1000, 3)\n"
     ]
    },
    {
     "output_type": "execute_result",
     "data": {
      "text/plain": [
       "<matplotlib.image.AxesImage at 0x14f7f44b808>"
      ]
     },
     "metadata": {},
     "execution_count": 14
    },
    {
     "output_type": "display_data",
     "data": {
      "text/plain": "<Figure size 432x288 with 1 Axes>",
      "image/svg+xml": "<?xml version=\"1.0\" encoding=\"utf-8\" standalone=\"no\"?>\r\n<!DOCTYPE svg PUBLIC \"-//W3C//DTD SVG 1.1//EN\"\r\n  \"http://www.w3.org/Graphics/SVG/1.1/DTD/svg11.dtd\">\r\n<svg height=\"180.013144pt\" version=\"1.1\" viewBox=\"0 0 375.2875 180.013144\" width=\"375.2875pt\" xmlns=\"http://www.w3.org/2000/svg\" xmlns:xlink=\"http://www.w3.org/1999/xlink\">\r\n <metadata>\r\n  <rdf:RDF xmlns:cc=\"http://creativecommons.org/ns#\" xmlns:dc=\"http://purl.org/dc/elements/1.1/\" xmlns:rdf=\"http://www.w3.org/1999/02/22-rdf-syntax-ns#\">\r\n   <cc:Work>\r\n    <dc:type rdf:resource=\"http://purl.org/dc/dcmitype/StillImage\"/>\r\n    <dc:date>2021-05-06T11:16:31.992534</dc:date>\r\n    <dc:format>image/svg+xml</dc:format>\r\n    <dc:creator>\r\n     <cc:Agent>\r\n      <dc:title>Matplotlib v3.4.1, https://matplotlib.org/</dc:title>\r\n     </cc:Agent>\r\n    </dc:creator>\r\n   </cc:Work>\r\n  </rdf:RDF>\r\n </metadata>\r\n <defs>\r\n  <style type=\"text/css\">*{stroke-linecap:butt;stroke-linejoin:round;}</style>\r\n </defs>\r\n <g id=\"figure_1\">\r\n  <g id=\"patch_1\">\r\n   <path d=\"M 0 180.013144 \r\nL 375.2875 180.013144 \r\nL 375.2875 0 \r\nL 0 0 \r\nz\r\n\" style=\"fill:none;\"/>\r\n  </g>\r\n  <g id=\"axes_1\">\r\n   <g id=\"patch_2\">\r\n    <path d=\"M 33.2875 156.135019 \r\nL 368.0875 156.135019 \r\nL 368.0875 10.831819 \r\nL 33.2875 10.831819 \r\nz\r\n\" style=\"fill:#ffffff;\"/>\r\n   </g>\r\n   <g clip-path=\"url(#p85af4c7bb8)\">\r\n    <image height=\"146\" id=\"imagee54b91c107\" transform=\"scale(1 -1)translate(0 -146)\" width=\"335\" x=\"33.2875\" xlink:href=\"data:image/png;base64,\r\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\" y=\"-10.135019\"/>\r\n   </g>\r\n   <g id=\"matplotlib.axis_1\">\r\n    <g id=\"xtick_1\">\r\n     <g id=\"line2d_1\">\r\n      <defs>\r\n       <path d=\"M 0 0 \r\nL 0 3.5 \r\n\" id=\"m68106635aa\" style=\"stroke:#000000;stroke-width:0.8;\"/>\r\n      </defs>\r\n      <g>\r\n       <use style=\"stroke:#000000;stroke-width:0.8;\" x=\"33.4549\" xlink:href=\"#m68106635aa\" y=\"156.135019\"/>\r\n      </g>\r\n     </g>\r\n     <g id=\"text_1\">\r\n      <!-- 0 -->\r\n      <g transform=\"translate(30.27365 170.733456)scale(0.1 -0.1)\">\r\n       <defs>\r\n        <path d=\"M 2034 4250 \r\nQ 1547 4250 1301 3770 \r\nQ 1056 3291 1056 2328 \r\nQ 1056 1369 1301 889 \r\nQ 1547 409 2034 409 \r\nQ 2525 409 2770 889 \r\nQ 3016 1369 3016 2328 \r\nQ 3016 3291 2770 3770 \r\nQ 2525 4250 2034 4250 \r\nz\r\nM 2034 4750 \r\nQ 2819 4750 3233 4129 \r\nQ 3647 3509 3647 2328 \r\nQ 3647 1150 3233 529 \r\nQ 2819 -91 2034 -91 \r\nQ 1250 -91 836 529 \r\nQ 422 1150 422 2328 \r\nQ 422 3509 836 4129 \r\nQ 1250 4750 2034 4750 \r\nz\r\n\" id=\"DejaVuSans-30\" transform=\"scale(0.015625)\"/>\r\n       </defs>\r\n       <use xlink:href=\"#DejaVuSans-30\"/>\r\n      </g>\r\n     </g>\r\n    </g>\r\n    <g id=\"xtick_2\">\r\n     <g id=\"line2d_2\">\r\n      <g>\r\n       <use style=\"stroke:#000000;stroke-width:0.8;\" x=\"100.4149\" xlink:href=\"#m68106635aa\" y=\"156.135019\"/>\r\n      </g>\r\n     </g>\r\n     <g id=\"text_2\">\r\n      <!-- 200 -->\r\n      <g transform=\"translate(90.87115 170.733456)scale(0.1 -0.1)\">\r\n       <defs>\r\n        <path d=\"M 1228 531 \r\nL 3431 531 \r\nL 3431 0 \r\nL 469 0 \r\nL 469 531 \r\nQ 828 903 1448 1529 \r\nQ 2069 2156 2228 2338 \r\nQ 2531 2678 2651 2914 \r\nQ 2772 3150 2772 3378 \r\nQ 2772 3750 2511 3984 \r\nQ 2250 4219 1831 4219 \r\nQ 1534 4219 1204 4116 \r\nQ 875 4013 500 3803 \r\nL 500 4441 \r\nQ 881 4594 1212 4672 \r\nQ 1544 4750 1819 4750 \r\nQ 2544 4750 2975 4387 \r\nQ 3406 4025 3406 3419 \r\nQ 3406 3131 3298 2873 \r\nQ 3191 2616 2906 2266 \r\nQ 2828 2175 2409 1742 \r\nQ 1991 1309 1228 531 \r\nz\r\n\" id=\"DejaVuSans-32\" transform=\"scale(0.015625)\"/>\r\n       </defs>\r\n       <use xlink:href=\"#DejaVuSans-32\"/>\r\n       <use x=\"63.623047\" xlink:href=\"#DejaVuSans-30\"/>\r\n       <use x=\"127.246094\" xlink:href=\"#DejaVuSans-30\"/>\r\n      </g>\r\n     </g>\r\n    </g>\r\n    <g id=\"xtick_3\">\r\n     <g id=\"line2d_3\">\r\n      <g>\r\n       <use style=\"stroke:#000000;stroke-width:0.8;\" x=\"167.3749\" xlink:href=\"#m68106635aa\" y=\"156.135019\"/>\r\n      </g>\r\n     </g>\r\n     <g id=\"text_3\">\r\n      <!-- 400 -->\r\n      <g transform=\"translate(157.83115 170.733456)scale(0.1 -0.1)\">\r\n       <defs>\r\n        <path d=\"M 2419 4116 \r\nL 825 1625 \r\nL 2419 1625 \r\nL 2419 4116 \r\nz\r\nM 2253 4666 \r\nL 3047 4666 \r\nL 3047 1625 \r\nL 3713 1625 \r\nL 3713 1100 \r\nL 3047 1100 \r\nL 3047 0 \r\nL 2419 0 \r\nL 2419 1100 \r\nL 313 1100 \r\nL 313 1709 \r\nL 2253 4666 \r\nz\r\n\" id=\"DejaVuSans-34\" transform=\"scale(0.015625)\"/>\r\n       </defs>\r\n       <use xlink:href=\"#DejaVuSans-34\"/>\r\n       <use x=\"63.623047\" xlink:href=\"#DejaVuSans-30\"/>\r\n       <use x=\"127.246094\" xlink:href=\"#DejaVuSans-30\"/>\r\n      </g>\r\n     </g>\r\n    </g>\r\n    <g id=\"xtick_4\">\r\n     <g id=\"line2d_4\">\r\n      <g>\r\n       <use style=\"stroke:#000000;stroke-width:0.8;\" x=\"234.3349\" xlink:href=\"#m68106635aa\" y=\"156.135019\"/>\r\n      </g>\r\n     </g>\r\n     <g id=\"text_4\">\r\n      <!-- 600 -->\r\n      <g transform=\"translate(224.79115 170.733456)scale(0.1 -0.1)\">\r\n       <defs>\r\n        <path d=\"M 2113 2584 \r\nQ 1688 2584 1439 2293 \r\nQ 1191 2003 1191 1497 \r\nQ 1191 994 1439 701 \r\nQ 1688 409 2113 409 \r\nQ 2538 409 2786 701 \r\nQ 3034 994 3034 1497 \r\nQ 3034 2003 2786 2293 \r\nQ 2538 2584 2113 2584 \r\nz\r\nM 3366 4563 \r\nL 3366 3988 \r\nQ 3128 4100 2886 4159 \r\nQ 2644 4219 2406 4219 \r\nQ 1781 4219 1451 3797 \r\nQ 1122 3375 1075 2522 \r\nQ 1259 2794 1537 2939 \r\nQ 1816 3084 2150 3084 \r\nQ 2853 3084 3261 2657 \r\nQ 3669 2231 3669 1497 \r\nQ 3669 778 3244 343 \r\nQ 2819 -91 2113 -91 \r\nQ 1303 -91 875 529 \r\nQ 447 1150 447 2328 \r\nQ 447 3434 972 4092 \r\nQ 1497 4750 2381 4750 \r\nQ 2619 4750 2861 4703 \r\nQ 3103 4656 3366 4563 \r\nz\r\n\" id=\"DejaVuSans-36\" transform=\"scale(0.015625)\"/>\r\n       </defs>\r\n       <use xlink:href=\"#DejaVuSans-36\"/>\r\n       <use x=\"63.623047\" xlink:href=\"#DejaVuSans-30\"/>\r\n       <use x=\"127.246094\" xlink:href=\"#DejaVuSans-30\"/>\r\n      </g>\r\n     </g>\r\n    </g>\r\n    <g id=\"xtick_5\">\r\n     <g id=\"line2d_5\">\r\n      <g>\r\n       <use style=\"stroke:#000000;stroke-width:0.8;\" x=\"301.2949\" xlink:href=\"#m68106635aa\" y=\"156.135019\"/>\r\n      </g>\r\n     </g>\r\n     <g id=\"text_5\">\r\n      <!-- 800 -->\r\n      <g transform=\"translate(291.75115 170.733456)scale(0.1 -0.1)\">\r\n       <defs>\r\n        <path d=\"M 2034 2216 \r\nQ 1584 2216 1326 1975 \r\nQ 1069 1734 1069 1313 \r\nQ 1069 891 1326 650 \r\nQ 1584 409 2034 409 \r\nQ 2484 409 2743 651 \r\nQ 3003 894 3003 1313 \r\nQ 3003 1734 2745 1975 \r\nQ 2488 2216 2034 2216 \r\nz\r\nM 1403 2484 \r\nQ 997 2584 770 2862 \r\nQ 544 3141 544 3541 \r\nQ 544 4100 942 4425 \r\nQ 1341 4750 2034 4750 \r\nQ 2731 4750 3128 4425 \r\nQ 3525 4100 3525 3541 \r\nQ 3525 3141 3298 2862 \r\nQ 3072 2584 2669 2484 \r\nQ 3125 2378 3379 2068 \r\nQ 3634 1759 3634 1313 \r\nQ 3634 634 3220 271 \r\nQ 2806 -91 2034 -91 \r\nQ 1263 -91 848 271 \r\nQ 434 634 434 1313 \r\nQ 434 1759 690 2068 \r\nQ 947 2378 1403 2484 \r\nz\r\nM 1172 3481 \r\nQ 1172 3119 1398 2916 \r\nQ 1625 2713 2034 2713 \r\nQ 2441 2713 2670 2916 \r\nQ 2900 3119 2900 3481 \r\nQ 2900 3844 2670 4047 \r\nQ 2441 4250 2034 4250 \r\nQ 1625 4250 1398 4047 \r\nQ 1172 3844 1172 3481 \r\nz\r\n\" id=\"DejaVuSans-38\" transform=\"scale(0.015625)\"/>\r\n       </defs>\r\n       <use xlink:href=\"#DejaVuSans-38\"/>\r\n       <use x=\"63.623047\" xlink:href=\"#DejaVuSans-30\"/>\r\n       <use x=\"127.246094\" xlink:href=\"#DejaVuSans-30\"/>\r\n      </g>\r\n     </g>\r\n    </g>\r\n   </g>\r\n   <g id=\"matplotlib.axis_2\">\r\n    <g id=\"ytick_1\">\r\n     <g id=\"line2d_6\">\r\n      <defs>\r\n       <path d=\"M 0 0 \r\nL -3.5 0 \r\n\" id=\"m6d8a04798f\" style=\"stroke:#000000;stroke-width:0.8;\"/>\r\n      </defs>\r\n      <g>\r\n       <use style=\"stroke:#000000;stroke-width:0.8;\" x=\"33.2875\" xlink:href=\"#m6d8a04798f\" y=\"10.999219\"/>\r\n      </g>\r\n     </g>\r\n     <g id=\"text_6\">\r\n      <!-- 0 -->\r\n      <g transform=\"translate(19.925 14.798437)scale(0.1 -0.1)\">\r\n       <use xlink:href=\"#DejaVuSans-30\"/>\r\n      </g>\r\n     </g>\r\n    </g>\r\n    <g id=\"ytick_2\">\r\n     <g id=\"line2d_7\">\r\n      <g>\r\n       <use style=\"stroke:#000000;stroke-width:0.8;\" x=\"33.2875\" xlink:href=\"#m6d8a04798f\" y=\"44.479219\"/>\r\n      </g>\r\n     </g>\r\n     <g id=\"text_7\">\r\n      <!-- 100 -->\r\n      <g transform=\"translate(7.2 48.278437)scale(0.1 -0.1)\">\r\n       <defs>\r\n        <path d=\"M 794 531 \r\nL 1825 531 \r\nL 1825 4091 \r\nL 703 3866 \r\nL 703 4441 \r\nL 1819 4666 \r\nL 2450 4666 \r\nL 2450 531 \r\nL 3481 531 \r\nL 3481 0 \r\nL 794 0 \r\nL 794 531 \r\nz\r\n\" id=\"DejaVuSans-31\" transform=\"scale(0.015625)\"/>\r\n       </defs>\r\n       <use xlink:href=\"#DejaVuSans-31\"/>\r\n       <use x=\"63.623047\" xlink:href=\"#DejaVuSans-30\"/>\r\n       <use x=\"127.246094\" xlink:href=\"#DejaVuSans-30\"/>\r\n      </g>\r\n     </g>\r\n    </g>\r\n    <g id=\"ytick_3\">\r\n     <g id=\"line2d_8\">\r\n      <g>\r\n       <use style=\"stroke:#000000;stroke-width:0.8;\" x=\"33.2875\" xlink:href=\"#m6d8a04798f\" y=\"77.959219\"/>\r\n      </g>\r\n     </g>\r\n     <g id=\"text_8\">\r\n      <!-- 200 -->\r\n      <g transform=\"translate(7.2 81.758437)scale(0.1 -0.1)\">\r\n       <use xlink:href=\"#DejaVuSans-32\"/>\r\n       <use x=\"63.623047\" xlink:href=\"#DejaVuSans-30\"/>\r\n       <use x=\"127.246094\" xlink:href=\"#DejaVuSans-30\"/>\r\n      </g>\r\n     </g>\r\n    </g>\r\n    <g id=\"ytick_4\">\r\n     <g id=\"line2d_9\">\r\n      <g>\r\n       <use style=\"stroke:#000000;stroke-width:0.8;\" x=\"33.2875\" xlink:href=\"#m6d8a04798f\" y=\"111.439219\"/>\r\n      </g>\r\n     </g>\r\n     <g id=\"text_9\">\r\n      <!-- 300 -->\r\n      <g transform=\"translate(7.2 115.238437)scale(0.1 -0.1)\">\r\n       <defs>\r\n        <path d=\"M 2597 2516 \r\nQ 3050 2419 3304 2112 \r\nQ 3559 1806 3559 1356 \r\nQ 3559 666 3084 287 \r\nQ 2609 -91 1734 -91 \r\nQ 1441 -91 1130 -33 \r\nQ 819 25 488 141 \r\nL 488 750 \r\nQ 750 597 1062 519 \r\nQ 1375 441 1716 441 \r\nQ 2309 441 2620 675 \r\nQ 2931 909 2931 1356 \r\nQ 2931 1769 2642 2001 \r\nQ 2353 2234 1838 2234 \r\nL 1294 2234 \r\nL 1294 2753 \r\nL 1863 2753 \r\nQ 2328 2753 2575 2939 \r\nQ 2822 3125 2822 3475 \r\nQ 2822 3834 2567 4026 \r\nQ 2313 4219 1838 4219 \r\nQ 1578 4219 1281 4162 \r\nQ 984 4106 628 3988 \r\nL 628 4550 \r\nQ 988 4650 1302 4700 \r\nQ 1616 4750 1894 4750 \r\nQ 2613 4750 3031 4423 \r\nQ 3450 4097 3450 3541 \r\nQ 3450 3153 3228 2886 \r\nQ 3006 2619 2597 2516 \r\nz\r\n\" id=\"DejaVuSans-33\" transform=\"scale(0.015625)\"/>\r\n       </defs>\r\n       <use xlink:href=\"#DejaVuSans-33\"/>\r\n       <use x=\"63.623047\" xlink:href=\"#DejaVuSans-30\"/>\r\n       <use x=\"127.246094\" xlink:href=\"#DejaVuSans-30\"/>\r\n      </g>\r\n     </g>\r\n    </g>\r\n    <g id=\"ytick_5\">\r\n     <g id=\"line2d_10\">\r\n      <g>\r\n       <use style=\"stroke:#000000;stroke-width:0.8;\" x=\"33.2875\" xlink:href=\"#m6d8a04798f\" y=\"144.919219\"/>\r\n      </g>\r\n     </g>\r\n     <g id=\"text_10\">\r\n      <!-- 400 -->\r\n      <g transform=\"translate(7.2 148.718437)scale(0.1 -0.1)\">\r\n       <use xlink:href=\"#DejaVuSans-34\"/>\r\n       <use x=\"63.623047\" xlink:href=\"#DejaVuSans-30\"/>\r\n       <use x=\"127.246094\" xlink:href=\"#DejaVuSans-30\"/>\r\n      </g>\r\n     </g>\r\n    </g>\r\n   </g>\r\n   <g id=\"patch_3\">\r\n    <path d=\"M 33.2875 156.135019 \r\nL 33.2875 10.831819 \r\n\" style=\"fill:none;stroke:#000000;stroke-linecap:square;stroke-linejoin:miter;stroke-width:0.8;\"/>\r\n   </g>\r\n   <g id=\"patch_4\">\r\n    <path d=\"M 368.0875 156.135019 \r\nL 368.0875 10.831819 \r\n\" style=\"fill:none;stroke:#000000;stroke-linecap:square;stroke-linejoin:miter;stroke-width:0.8;\"/>\r\n   </g>\r\n   <g id=\"patch_5\">\r\n    <path d=\"M 33.2875 156.135019 \r\nL 368.0875 156.135019 \r\n\" style=\"fill:none;stroke:#000000;stroke-linecap:square;stroke-linejoin:miter;stroke-width:0.8;\"/>\r\n   </g>\r\n   <g id=\"patch_6\">\r\n    <path d=\"M 33.2875 10.831819 \r\nL 368.0875 10.831819 \r\n\" style=\"fill:none;stroke:#000000;stroke-linecap:square;stroke-linejoin:miter;stroke-width:0.8;\"/>\r\n   </g>\r\n  </g>\r\n </g>\r\n <defs>\r\n  <clipPath id=\"p85af4c7bb8\">\r\n   <rect height=\"145.3032\" width=\"334.8\" x=\"33.2875\" y=\"10.831819\"/>\r\n  </clipPath>\r\n </defs>\r\n</svg>\r\n",
      "image/png": "[encoded data removed]"
     },
     "metadata": {
      "needs_background": "light"
     }
    }
   ],
   "source": [
    "from skimage.io import imread\n",
    "import matplotlib.pyplot as plt\n",
    "\n",
    "imagen = imread(\"./img/python.jpg\")\n",
    "print(type(imagen))\n",
    "print(imagen.shape)\n",
    "\n",
    "plt.imshow(imagen)"
   ]
  },
  {
   "cell_type": "code",
   "execution_count": 15,
   "metadata": {
    "jupyter": {
     "outputs_hidden": true
    }
   },
   "outputs": [
    {
     "output_type": "execute_result",
     "data": {
      "text/plain": [
       "array([[[255, 255, 255],\n",
       "        [255, 255, 255],\n",
       "        [255, 255, 255],\n",
       "        ...,\n",
       "        [255, 255, 255],\n",
       "        [255, 255, 255],\n",
       "        [255, 255, 255]],\n",
       "\n",
       "       [[255, 255, 255],\n",
       "        [255, 255, 255],\n",
       "        [255, 255, 255],\n",
       "        ...,\n",
       "        [255, 255, 255],\n",
       "        [255, 255, 255],\n",
       "        [255, 255, 255]],\n",
       "\n",
       "       [[255, 255, 255],\n",
       "        [255, 255, 255],\n",
       "        [255, 255, 255],\n",
       "        ...,\n",
       "        [255, 255, 255],\n",
       "        [255, 255, 255],\n",
       "        [255, 255, 255]],\n",
       "\n",
       "       ...,\n",
       "\n",
       "       [[255, 255, 255],\n",
       "        [255, 255, 255],\n",
       "        [255, 255, 255],\n",
       "        ...,\n",
       "        [255, 255, 255],\n",
       "        [255, 255, 255],\n",
       "        [255, 255, 255]],\n",
       "\n",
       "       [[255, 255, 255],\n",
       "        [255, 255, 255],\n",
       "        [255, 255, 255],\n",
       "        ...,\n",
       "        [255, 255, 255],\n",
       "        [255, 255, 255],\n",
       "        [255, 255, 255]],\n",
       "\n",
       "       [[255, 255, 255],\n",
       "        [255, 255, 255],\n",
       "        [255, 255, 255],\n",
       "        ...,\n",
       "        [255, 255, 255],\n",
       "        [255, 255, 255],\n",
       "        [255, 255, 255]]], dtype=uint8)"
      ]
     },
     "metadata": {},
     "execution_count": 15
    }
   ],
   "source": [
    "imagen"
   ]
  },
  {
   "cell_type": "code",
   "execution_count": 16,
   "metadata": {},
   "outputs": [
    {
     "output_type": "stream",
     "name": "stdout",
     "text": [
      "[226 174  52]\n[ 40 104 132]\n"
     ]
    }
   ],
   "source": [
    "# Zona amarilla\n",
    "print(imagen[200, 290, :])\n",
    "\n",
    "# Zona azul\n",
    "print(imagen[200, 200, :])"
   ]
  },
  {
   "cell_type": "markdown",
   "metadata": {},
   "source": [
    "## 3. Creacion de arrays\n",
    "Lo primero, importamos la librería de `numpy`"
   ]
  },
  {
   "cell_type": "code",
   "execution_count": 17,
   "metadata": {},
   "outputs": [],
   "source": [
    "import numpy as np"
   ]
  },
  {
   "cell_type": "markdown",
   "metadata": {},
   "source": [
    "**Vectores**\n",
    "\n",
    "Ya podemos crear nuestro primer vector. Que se trata de un array de 1D"
   ]
  },
  {
   "cell_type": "code",
   "execution_count": 18,
   "metadata": {},
   "outputs": [
    {
     "output_type": "stream",
     "name": "stdout",
     "text": [
      "[1 2 3 4 5]\n"
     ]
    }
   ],
   "source": [
    "array = np.array([1,2,3,4,5])\n",
    "print(array)"
   ]
  },
  {
   "cell_type": "markdown",
   "metadata": {},
   "source": [
    "El acceso a sus elementos es igual que en las listas"
   ]
  },
  {
   "cell_type": "code",
   "execution_count": 19,
   "metadata": {},
   "outputs": [
    {
     "output_type": "stream",
     "name": "stdout",
     "text": [
      "1\n5\n4\n"
     ]
    }
   ],
   "source": [
    "print(array[0])\n",
    "print(array[-1])\n",
    "print(array[-2])"
   ]
  },
  {
   "cell_type": "markdown",
   "metadata": {},
   "source": [
    "**Fíjate en el tipo**. Ya no son listas, aunque lo parecen. Incluso los tipos de los datos ya no son los que conocemos, sino que `numpy` aporta nuevos tipos de datos. Lo veremos más adelante."
   ]
  },
  {
   "cell_type": "code",
   "execution_count": 20,
   "metadata": {},
   "outputs": [
    {
     "output_type": "stream",
     "name": "stdout",
     "text": [
      "<class 'numpy.ndarray'>\n<class 'numpy.int32'>\nint32\n"
     ]
    }
   ],
   "source": [
    "print(type(array))\n",
    "print(type(array[0]))\n",
    "print(array.dtype)"
   ]
  },
  {
   "cell_type": "markdown",
   "metadata": {},
   "source": [
    "**Matrices**\n",
    "\n",
    "Vamos a crear ahora un **array multidimensional**"
   ]
  },
  {
   "cell_type": "code",
   "execution_count": 21,
   "metadata": {},
   "outputs": [
    {
     "output_type": "stream",
     "name": "stdout",
     "text": [
      "[[1 2 3]\n [4 5 6]\n [7 8 9]]\n"
     ]
    }
   ],
   "source": [
    "array_multi = np.array([[1,2,3], [4,5,6], [7,8,9]])\n",
    "print(array_multi)"
   ]
  },
  {
   "cell_type": "markdown",
   "metadata": {},
   "source": [
    "Otra ventaja de usar `numpy` en vez de listas es que el `print` lo realiza en formato matriz, lo que nos permite ver los datos mucho mejor que si lo imprimiese en una sola línea.\n",
    "\n",
    "**Secuencias**\n",
    "\n",
    "¿Recuerdas `range()`? Lo usábamos en listas para crear secuencias, estableciendo el punto de inicio, de parada, y el salto entre elementos. En `numpy` hay algo parecido denominado `arange`. [Te dejo el enlace a la documentación](https://numpy.org/doc/stable/reference/generated/numpy.arange.html)."
   ]
  },
  {
   "cell_type": "code",
   "execution_count": 22,
   "metadata": {},
   "outputs": [
    {
     "output_type": "stream",
     "name": "stdout",
     "text": [
      "[0 1 2 3 4 5 6 7 8 9]\n[0 2 4 6 8]\n[0.  0.5 1.  1.5 2.  2.5 3.  3.5 4.  4.5 5.  5.5 6.  6.5 7.  7.5 8.  8.5\n 9.  9.5]\n[0. 2. 4. 6. 8.]\n"
     ]
    }
   ],
   "source": [
    "# Array del 0 al 9\n",
    "print(np.arange(10))\n",
    "\n",
    "# Del 0 al 9, con saltos de 2\n",
    "print(np.arange(0, 10 , 2))\n",
    "\n",
    "# Array de 0 al 10, con saltos de 0.5\n",
    "print(np.arange(0, 10, 0.5))\n",
    "\n",
    "# Especficiando el tipo de dato\n",
    "print(np.arange(0, 10, 2, np.float64))"
   ]
  },
  {
   "cell_type": "markdown",
   "metadata": {},
   "source": [
    "**Random**\n",
    "\n",
    "Otra opción es usar el paquete `random` de `numpy`. **Muy útil cuando tenemos que crear secuencias aleatorias**, y lo mejor de todo es que tiene una gran cantidad de opciones para configurar. [Consulta la documentación para más detalle](https://docs.scipy.org/doc/numpy-1.14.0/reference/routines.random.html)."
   ]
  },
  {
   "cell_type": "code",
   "execution_count": 23,
   "metadata": {},
   "outputs": [
    {
     "output_type": "stream",
     "name": "stdout",
     "text": [
      "[0.94976249 0.74190647 0.91348836 0.70794933 0.87518296 0.66455766\n 0.56791763 0.52397344 0.09075167 0.09862366]\n[[0 0 0 1]\n [4 2 0 4]\n [4 1 3 2]]\n[9 6 7 8 7 8 8 7 6 6]\n"
     ]
    }
   ],
   "source": [
    "print(np.random.rand(10))\n",
    "\n",
    "# Matriz de numeros aleatorios\n",
    "print(np.random.randint(5, size = (3,4)))\n",
    "\n",
    "# Unidimensional\n",
    "print(np.random.randint(5,10, size = (10)))"
   ]
  },
  {
   "cell_type": "code",
   "execution_count": 24,
   "metadata": {},
   "outputs": [
    {
     "output_type": "stream",
     "name": "stdout",
     "text": [
      "[[[154 248 219]\n  [ 83 153  77]\n  [186  22 114]\n  ...\n  [ 58 136 143]\n  [  4 102 202]\n  [ 35 125  73]]\n\n [[  5 166 144]\n  [ 42 212 156]\n  [  9 123 145]\n  ...\n  [ 92 129 164]\n  [ 10  84 150]\n  [117   6 239]]\n\n [[ 57   1 185]\n  [215  97 172]\n  [ 51  74 178]\n  ...\n  [ 27 132  39]\n  [ 65  27 158]\n  [ 47 164  61]]\n\n ...\n\n [[130  31 248]\n  [170  69 119]\n  [ 63 171   9]\n  ...\n  [117 240  98]\n  [248 149 124]\n  [ 22  26  46]]\n\n [[128  10 253]\n  [198   3 248]\n  [101 229  55]\n  ...\n  [197 201  48]\n  [ 25  87   0]\n  [ 57  33 201]]\n\n [[ 22  38  24]\n  [ 80 243  39]\n  [221  97 103]\n  ...\n  [ 84 106 173]\n  [222  19  10]\n  [201 224 114]]]\n"
     ]
    },
    {
     "output_type": "execute_result",
     "data": {
      "text/plain": [
       "<matplotlib.image.AxesImage at 0x14f7f648788>"
      ]
     },
     "metadata": {},
     "execution_count": 24
    },
    {
     "output_type": "display_data",
     "data": {
      "text/plain": "<Figure size 432x288 with 1 Axes>",
      "image/svg+xml": "<?xml version=\"1.0\" encoding=\"utf-8\" standalone=\"no\"?>\r\n<!DOCTYPE svg PUBLIC \"-//W3C//DTD SVG 1.1//EN\"\r\n  \"http://www.w3.org/Graphics/SVG/1.1/DTD/svg11.dtd\">\r\n<svg height=\"201.998344pt\" version=\"1.1\" viewBox=\"0 0 375.2875 201.998344\" width=\"375.2875pt\" xmlns=\"http://www.w3.org/2000/svg\" xmlns:xlink=\"http://www.w3.org/1999/xlink\">\r\n <metadata>\r\n  <rdf:RDF xmlns:cc=\"http://creativecommons.org/ns#\" xmlns:dc=\"http://purl.org/dc/elements/1.1/\" xmlns:rdf=\"http://www.w3.org/1999/02/22-rdf-syntax-ns#\">\r\n   <cc:Work>\r\n    <dc:type rdf:resource=\"http://purl.org/dc/dcmitype/StillImage\"/>\r\n    <dc:date>2021-05-06T11:16:32.563918</dc:date>\r\n    <dc:format>image/svg+xml</dc:format>\r\n    <dc:creator>\r\n     <cc:Agent>\r\n      <dc:title>Matplotlib v3.4.1, https://matplotlib.org/</dc:title>\r\n     </cc:Agent>\r\n    </dc:creator>\r\n   </cc:Work>\r\n  </rdf:RDF>\r\n </metadata>\r\n <defs>\r\n  <style type=\"text/css\">*{stroke-linecap:butt;stroke-linejoin:round;}</style>\r\n </defs>\r\n <g id=\"figure_1\">\r\n  <g id=\"patch_1\">\r\n   <path d=\"M 0 201.998344 \r\nL 375.2875 201.998344 \r\nL 375.2875 0 \r\nL 0 0 \r\nz\r\n\" style=\"fill:none;\"/>\r\n  </g>\r\n  <g id=\"axes_1\">\r\n   <g id=\"patch_2\">\r\n    <path d=\"M 33.2875 178.120219 \r\nL 368.0875 178.120219 \r\nL 368.0875 10.720219 \r\nL 33.2875 10.720219 \r\nz\r\n\" style=\"fill:#ffffff;\"/>\r\n   </g>\r\n   <g clip-path=\"url(#pbf793fadca)\">\r\n    <image height=\"168\" id=\"image284e0b88a0\" transform=\"scale(1 -1)translate(0 -168)\" width=\"335\" x=\"33.2875\" xlink:href=\"data:image/png;base64,\r\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\" y=\"-10.120219\"/>\r\n   </g>\r\n   <g id=\"matplotlib.axis_1\">\r\n    <g id=\"xtick_1\">\r\n     <g id=\"line2d_1\">\r\n      <defs>\r\n       <path d=\"M 0 0 \r\nL 0 3.5 \r\n\" id=\"m88b4d0e0ef\" style=\"stroke:#000000;stroke-width:0.8;\"/>\r\n      </defs>\r\n      <g>\r\n       <use style=\"stroke:#000000;stroke-width:0.8;\" x=\"33.5665\" xlink:href=\"#m88b4d0e0ef\" y=\"178.120219\"/>\r\n      </g>\r\n     </g>\r\n     <g id=\"text_1\">\r\n      <!-- 0 -->\r\n      <g transform=\"translate(30.38525 192.718656)scale(0.1 -0.1)\">\r\n       <defs>\r\n        <path d=\"M 2034 4250 \r\nQ 1547 4250 1301 3770 \r\nQ 1056 3291 1056 2328 \r\nQ 1056 1369 1301 889 \r\nQ 1547 409 2034 409 \r\nQ 2525 409 2770 889 \r\nQ 3016 1369 3016 2328 \r\nQ 3016 3291 2770 3770 \r\nQ 2525 4250 2034 4250 \r\nz\r\nM 2034 4750 \r\nQ 2819 4750 3233 4129 \r\nQ 3647 3509 3647 2328 \r\nQ 3647 1150 3233 529 \r\nQ 2819 -91 2034 -91 \r\nQ 1250 -91 836 529 \r\nQ 422 1150 422 2328 \r\nQ 422 3509 836 4129 \r\nQ 1250 4750 2034 4750 \r\nz\r\n\" id=\"DejaVuSans-30\" transform=\"scale(0.015625)\"/>\r\n       </defs>\r\n       <use xlink:href=\"#DejaVuSans-30\"/>\r\n      </g>\r\n     </g>\r\n    </g>\r\n    <g id=\"xtick_2\">\r\n     <g id=\"line2d_2\">\r\n      <g>\r\n       <use style=\"stroke:#000000;stroke-width:0.8;\" x=\"89.3665\" xlink:href=\"#m88b4d0e0ef\" y=\"178.120219\"/>\r\n      </g>\r\n     </g>\r\n     <g id=\"text_2\">\r\n      <!-- 100 -->\r\n      <g transform=\"translate(79.82275 192.718656)scale(0.1 -0.1)\">\r\n       <defs>\r\n        <path d=\"M 794 531 \r\nL 1825 531 \r\nL 1825 4091 \r\nL 703 3866 \r\nL 703 4441 \r\nL 1819 4666 \r\nL 2450 4666 \r\nL 2450 531 \r\nL 3481 531 \r\nL 3481 0 \r\nL 794 0 \r\nL 794 531 \r\nz\r\n\" id=\"DejaVuSans-31\" transform=\"scale(0.015625)\"/>\r\n       </defs>\r\n       <use xlink:href=\"#DejaVuSans-31\"/>\r\n       <use x=\"63.623047\" xlink:href=\"#DejaVuSans-30\"/>\r\n       <use x=\"127.246094\" xlink:href=\"#DejaVuSans-30\"/>\r\n      </g>\r\n     </g>\r\n    </g>\r\n    <g id=\"xtick_3\">\r\n     <g id=\"line2d_3\">\r\n      <g>\r\n       <use style=\"stroke:#000000;stroke-width:0.8;\" x=\"145.1665\" xlink:href=\"#m88b4d0e0ef\" y=\"178.120219\"/>\r\n      </g>\r\n     </g>\r\n     <g id=\"text_3\">\r\n      <!-- 200 -->\r\n      <g transform=\"translate(135.62275 192.718656)scale(0.1 -0.1)\">\r\n       <defs>\r\n        <path d=\"M 1228 531 \r\nL 3431 531 \r\nL 3431 0 \r\nL 469 0 \r\nL 469 531 \r\nQ 828 903 1448 1529 \r\nQ 2069 2156 2228 2338 \r\nQ 2531 2678 2651 2914 \r\nQ 2772 3150 2772 3378 \r\nQ 2772 3750 2511 3984 \r\nQ 2250 4219 1831 4219 \r\nQ 1534 4219 1204 4116 \r\nQ 875 4013 500 3803 \r\nL 500 4441 \r\nQ 881 4594 1212 4672 \r\nQ 1544 4750 1819 4750 \r\nQ 2544 4750 2975 4387 \r\nQ 3406 4025 3406 3419 \r\nQ 3406 3131 3298 2873 \r\nQ 3191 2616 2906 2266 \r\nQ 2828 2175 2409 1742 \r\nQ 1991 1309 1228 531 \r\nz\r\n\" id=\"DejaVuSans-32\" transform=\"scale(0.015625)\"/>\r\n       </defs>\r\n       <use xlink:href=\"#DejaVuSans-32\"/>\r\n       <use x=\"63.623047\" xlink:href=\"#DejaVuSans-30\"/>\r\n       <use x=\"127.246094\" xlink:href=\"#DejaVuSans-30\"/>\r\n      </g>\r\n     </g>\r\n    </g>\r\n    <g id=\"xtick_4\">\r\n     <g id=\"line2d_4\">\r\n      <g>\r\n       <use style=\"stroke:#000000;stroke-width:0.8;\" x=\"200.9665\" xlink:href=\"#m88b4d0e0ef\" y=\"178.120219\"/>\r\n      </g>\r\n     </g>\r\n     <g id=\"text_4\">\r\n      <!-- 300 -->\r\n      <g transform=\"translate(191.42275 192.718656)scale(0.1 -0.1)\">\r\n       <defs>\r\n        <path d=\"M 2597 2516 \r\nQ 3050 2419 3304 2112 \r\nQ 3559 1806 3559 1356 \r\nQ 3559 666 3084 287 \r\nQ 2609 -91 1734 -91 \r\nQ 1441 -91 1130 -33 \r\nQ 819 25 488 141 \r\nL 488 750 \r\nQ 750 597 1062 519 \r\nQ 1375 441 1716 441 \r\nQ 2309 441 2620 675 \r\nQ 2931 909 2931 1356 \r\nQ 2931 1769 2642 2001 \r\nQ 2353 2234 1838 2234 \r\nL 1294 2234 \r\nL 1294 2753 \r\nL 1863 2753 \r\nQ 2328 2753 2575 2939 \r\nQ 2822 3125 2822 3475 \r\nQ 2822 3834 2567 4026 \r\nQ 2313 4219 1838 4219 \r\nQ 1578 4219 1281 4162 \r\nQ 984 4106 628 3988 \r\nL 628 4550 \r\nQ 988 4650 1302 4700 \r\nQ 1616 4750 1894 4750 \r\nQ 2613 4750 3031 4423 \r\nQ 3450 4097 3450 3541 \r\nQ 3450 3153 3228 2886 \r\nQ 3006 2619 2597 2516 \r\nz\r\n\" id=\"DejaVuSans-33\" transform=\"scale(0.015625)\"/>\r\n       </defs>\r\n       <use xlink:href=\"#DejaVuSans-33\"/>\r\n       <use x=\"63.623047\" xlink:href=\"#DejaVuSans-30\"/>\r\n       <use x=\"127.246094\" xlink:href=\"#DejaVuSans-30\"/>\r\n      </g>\r\n     </g>\r\n    </g>\r\n    <g id=\"xtick_5\">\r\n     <g id=\"line2d_5\">\r\n      <g>\r\n       <use style=\"stroke:#000000;stroke-width:0.8;\" x=\"256.7665\" xlink:href=\"#m88b4d0e0ef\" y=\"178.120219\"/>\r\n      </g>\r\n     </g>\r\n     <g id=\"text_5\">\r\n      <!-- 400 -->\r\n      <g transform=\"translate(247.22275 192.718656)scale(0.1 -0.1)\">\r\n       <defs>\r\n        <path d=\"M 2419 4116 \r\nL 825 1625 \r\nL 2419 1625 \r\nL 2419 4116 \r\nz\r\nM 2253 4666 \r\nL 3047 4666 \r\nL 3047 1625 \r\nL 3713 1625 \r\nL 3713 1100 \r\nL 3047 1100 \r\nL 3047 0 \r\nL 2419 0 \r\nL 2419 1100 \r\nL 313 1100 \r\nL 313 1709 \r\nL 2253 4666 \r\nz\r\n\" id=\"DejaVuSans-34\" transform=\"scale(0.015625)\"/>\r\n       </defs>\r\n       <use xlink:href=\"#DejaVuSans-34\"/>\r\n       <use x=\"63.623047\" xlink:href=\"#DejaVuSans-30\"/>\r\n       <use x=\"127.246094\" xlink:href=\"#DejaVuSans-30\"/>\r\n      </g>\r\n     </g>\r\n    </g>\r\n    <g id=\"xtick_6\">\r\n     <g id=\"line2d_6\">\r\n      <g>\r\n       <use style=\"stroke:#000000;stroke-width:0.8;\" x=\"312.5665\" xlink:href=\"#m88b4d0e0ef\" y=\"178.120219\"/>\r\n      </g>\r\n     </g>\r\n     <g id=\"text_6\">\r\n      <!-- 500 -->\r\n      <g transform=\"translate(303.02275 192.718656)scale(0.1 -0.1)\">\r\n       <defs>\r\n        <path d=\"M 691 4666 \r\nL 3169 4666 \r\nL 3169 4134 \r\nL 1269 4134 \r\nL 1269 2991 \r\nQ 1406 3038 1543 3061 \r\nQ 1681 3084 1819 3084 \r\nQ 2600 3084 3056 2656 \r\nQ 3513 2228 3513 1497 \r\nQ 3513 744 3044 326 \r\nQ 2575 -91 1722 -91 \r\nQ 1428 -91 1123 -41 \r\nQ 819 9 494 109 \r\nL 494 744 \r\nQ 775 591 1075 516 \r\nQ 1375 441 1709 441 \r\nQ 2250 441 2565 725 \r\nQ 2881 1009 2881 1497 \r\nQ 2881 1984 2565 2268 \r\nQ 2250 2553 1709 2553 \r\nQ 1456 2553 1204 2497 \r\nQ 953 2441 691 2322 \r\nL 691 4666 \r\nz\r\n\" id=\"DejaVuSans-35\" transform=\"scale(0.015625)\"/>\r\n       </defs>\r\n       <use xlink:href=\"#DejaVuSans-35\"/>\r\n       <use x=\"63.623047\" xlink:href=\"#DejaVuSans-30\"/>\r\n       <use x=\"127.246094\" xlink:href=\"#DejaVuSans-30\"/>\r\n      </g>\r\n     </g>\r\n    </g>\r\n   </g>\r\n   <g id=\"matplotlib.axis_2\">\r\n    <g id=\"ytick_1\">\r\n     <g id=\"line2d_7\">\r\n      <defs>\r\n       <path d=\"M 0 0 \r\nL -3.5 0 \r\n\" id=\"m0ae158a5c9\" style=\"stroke:#000000;stroke-width:0.8;\"/>\r\n      </defs>\r\n      <g>\r\n       <use style=\"stroke:#000000;stroke-width:0.8;\" x=\"33.2875\" xlink:href=\"#m0ae158a5c9\" y=\"10.999219\"/>\r\n      </g>\r\n     </g>\r\n     <g id=\"text_7\">\r\n      <!-- 0 -->\r\n      <g transform=\"translate(19.925 14.798438)scale(0.1 -0.1)\">\r\n       <use xlink:href=\"#DejaVuSans-30\"/>\r\n      </g>\r\n     </g>\r\n    </g>\r\n    <g id=\"ytick_2\">\r\n     <g id=\"line2d_8\">\r\n      <g>\r\n       <use style=\"stroke:#000000;stroke-width:0.8;\" x=\"33.2875\" xlink:href=\"#m0ae158a5c9\" y=\"38.899219\"/>\r\n      </g>\r\n     </g>\r\n     <g id=\"text_8\">\r\n      <!-- 50 -->\r\n      <g transform=\"translate(13.5625 42.698438)scale(0.1 -0.1)\">\r\n       <use xlink:href=\"#DejaVuSans-35\"/>\r\n       <use x=\"63.623047\" xlink:href=\"#DejaVuSans-30\"/>\r\n      </g>\r\n     </g>\r\n    </g>\r\n    <g id=\"ytick_3\">\r\n     <g id=\"line2d_9\">\r\n      <g>\r\n       <use style=\"stroke:#000000;stroke-width:0.8;\" x=\"33.2875\" xlink:href=\"#m0ae158a5c9\" y=\"66.799219\"/>\r\n      </g>\r\n     </g>\r\n     <g id=\"text_9\">\r\n      <!-- 100 -->\r\n      <g transform=\"translate(7.2 70.598438)scale(0.1 -0.1)\">\r\n       <use xlink:href=\"#DejaVuSans-31\"/>\r\n       <use x=\"63.623047\" xlink:href=\"#DejaVuSans-30\"/>\r\n       <use x=\"127.246094\" xlink:href=\"#DejaVuSans-30\"/>\r\n      </g>\r\n     </g>\r\n    </g>\r\n    <g id=\"ytick_4\">\r\n     <g id=\"line2d_10\">\r\n      <g>\r\n       <use style=\"stroke:#000000;stroke-width:0.8;\" x=\"33.2875\" xlink:href=\"#m0ae158a5c9\" y=\"94.699219\"/>\r\n      </g>\r\n     </g>\r\n     <g id=\"text_10\">\r\n      <!-- 150 -->\r\n      <g transform=\"translate(7.2 98.498438)scale(0.1 -0.1)\">\r\n       <use xlink:href=\"#DejaVuSans-31\"/>\r\n       <use x=\"63.623047\" xlink:href=\"#DejaVuSans-35\"/>\r\n       <use x=\"127.246094\" xlink:href=\"#DejaVuSans-30\"/>\r\n      </g>\r\n     </g>\r\n    </g>\r\n    <g id=\"ytick_5\">\r\n     <g id=\"line2d_11\">\r\n      <g>\r\n       <use style=\"stroke:#000000;stroke-width:0.8;\" x=\"33.2875\" xlink:href=\"#m0ae158a5c9\" y=\"122.599219\"/>\r\n      </g>\r\n     </g>\r\n     <g id=\"text_11\">\r\n      <!-- 200 -->\r\n      <g transform=\"translate(7.2 126.398438)scale(0.1 -0.1)\">\r\n       <use xlink:href=\"#DejaVuSans-32\"/>\r\n       <use x=\"63.623047\" xlink:href=\"#DejaVuSans-30\"/>\r\n       <use x=\"127.246094\" xlink:href=\"#DejaVuSans-30\"/>\r\n      </g>\r\n     </g>\r\n    </g>\r\n    <g id=\"ytick_6\">\r\n     <g id=\"line2d_12\">\r\n      <g>\r\n       <use style=\"stroke:#000000;stroke-width:0.8;\" x=\"33.2875\" xlink:href=\"#m0ae158a5c9\" y=\"150.499219\"/>\r\n      </g>\r\n     </g>\r\n     <g id=\"text_12\">\r\n      <!-- 250 -->\r\n      <g transform=\"translate(7.2 154.298438)scale(0.1 -0.1)\">\r\n       <use xlink:href=\"#DejaVuSans-32\"/>\r\n       <use x=\"63.623047\" xlink:href=\"#DejaVuSans-35\"/>\r\n       <use x=\"127.246094\" xlink:href=\"#DejaVuSans-30\"/>\r\n      </g>\r\n     </g>\r\n    </g>\r\n   </g>\r\n   <g id=\"patch_3\">\r\n    <path d=\"M 33.2875 178.120219 \r\nL 33.2875 10.720219 \r\n\" style=\"fill:none;stroke:#000000;stroke-linecap:square;stroke-linejoin:miter;stroke-width:0.8;\"/>\r\n   </g>\r\n   <g id=\"patch_4\">\r\n    <path d=\"M 368.0875 178.120219 \r\nL 368.0875 10.720219 \r\n\" style=\"fill:none;stroke:#000000;stroke-linecap:square;stroke-linejoin:miter;stroke-width:0.8;\"/>\r\n   </g>\r\n   <g id=\"patch_5\">\r\n    <path d=\"M 33.2875 178.120219 \r\nL 368.0875 178.120219 \r\n\" style=\"fill:none;stroke:#000000;stroke-linecap:square;stroke-linejoin:miter;stroke-width:0.8;\"/>\r\n   </g>\r\n   <g id=\"patch_6\">\r\n    <path d=\"M 33.2875 10.720219 \r\nL 368.0875 10.720219 \r\n\" style=\"fill:none;stroke:#000000;stroke-linecap:square;stroke-linejoin:miter;stroke-width:0.8;\"/>\r\n   </g>\r\n  </g>\r\n </g>\r\n <defs>\r\n  <clipPath id=\"pbf793fadca\">\r\n   <rect height=\"167.4\" width=\"334.8\" x=\"33.2875\" y=\"10.720219\"/>\r\n  </clipPath>\r\n </defs>\r\n</svg>\r\n",
      "image/png": "[encoded data removed]"
     },
     "metadata": {
      "needs_background": "light"
     }
    }
   ],
   "source": [
    "randint = np.random.randint(0,255,(300,600,3))\n",
    "print(randint)\n",
    "plt.imshow(randint)"
   ]
  },
  {
   "cell_type": "markdown",
   "metadata": {},
   "source": [
    "**Seed**\n",
    "\n",
    "Como habrás podido comprobar, cada ejecución de una secuencia aleatoria es diferente. **Fijando una semilla, todas las secuencias aleatorias que ejecutes (si tienen los mismos argumentos), tendrán siempre el mismo output**. Se usa mucho cuando queremos replicar resultados, o compartirlos con otros compañeros. Los resultados que obtengas en este Notebook no serán los mismos que obtenga el compañero, en caso de haber un factor aleatorio, por lo que no vamos a poder comparar los Notebooks... A no ser que ambos fijéis la misma semilla.\n",
    "\n",
    "**¿Qué valor ponemos en seed? El que queramos** mientras en el resto de Notebooks donde queramos replicar estos resultados, tengan la misma semilla."
   ]
  },
  {
   "cell_type": "code",
   "execution_count": 25,
   "metadata": {},
   "outputs": [
    {
     "output_type": "stream",
     "name": "stdout",
     "text": [
      "[0.19151945 0.62210877 0.43772774 0.78535858 0.77997581 0.27259261\n 0.27646426 0.80187218 0.95813935 0.87593263]\n[0.48932698 0.05933244 0.36620243 0.51886544 0.59822501 0.43061449\n 0.17863405 0.2852539  0.07143863 0.18471334]\n[0.94549339 0.72082487 0.49308864 0.405055   0.60490004 0.01641841\n 0.39872831 0.12422438 0.43391961 0.48744699]\n"
     ]
    }
   ],
   "source": [
    "# Afecta a todo el notebook y siempre va a replicar\n",
    "# lo mismo cuando haga np.random.rand(10)\n",
    "np.random.seed(1234)\n",
    "print(np.random.rand(10))\n",
    "\n",
    "np.random.seed(5678)\n",
    "print(np.random.rand(10))\n",
    "\n",
    "np.random.seed(None)\n",
    "print(np.random.rand(10))"
   ]
  },
  {
   "cell_type": "code",
   "execution_count": 26,
   "metadata": {},
   "outputs": [
    {
     "output_type": "stream",
     "name": "stdout",
     "text": [
      "[0.19151945 0.62210877 0.43772774 0.78535858 0.77997581 0.27259261\n 0.27646426 0.80187218 0.95813935 0.87593263]\n"
     ]
    }
   ],
   "source": [
    "np.random.seed(1234)\n",
    "print(np.random.rand(10))"
   ]
  },
  {
   "cell_type": "markdown",
   "metadata": {},
   "source": [
    "**Matrices con valores**\n",
    "[Hay diferentes maneras de crear arrays o matrices](https://numpy.org/doc/stable/reference/routines.array-creation.html), pero en ocasiones necesitamos tener predefinidas matrices con un único valor. Veamos algunos ejemplos:"
   ]
  },
  {
   "cell_type": "code",
   "execution_count": 27,
   "metadata": {},
   "outputs": [
    {
     "output_type": "stream",
     "name": "stdout",
     "text": [
      "[[1. 0. 0. 0. 0.]\n [0. 1. 0. 0. 0.]\n [0. 0. 1. 0. 0.]\n [0. 0. 0. 1. 0.]\n [0. 0. 0. 0. 1.]]\n"
     ]
    }
   ],
   "source": [
    "# Matriz identidad\n",
    "print(np.identity(5))"
   ]
  },
  {
   "cell_type": "code",
   "execution_count": 28,
   "metadata": {},
   "outputs": [
    {
     "output_type": "execute_result",
     "data": {
      "text/plain": [
       "array([[0., 0., 0., 0., 0.],\n",
       "       [0., 0., 0., 0., 0.],\n",
       "       [0., 0., 0., 0., 0.]])"
      ]
     },
     "metadata": {},
     "execution_count": 28
    }
   ],
   "source": [
    "# Matriz de 0s\n",
    "np.zeros((3,5))"
   ]
  },
  {
   "cell_type": "code",
   "execution_count": 29,
   "metadata": {},
   "outputs": [
    {
     "output_type": "execute_result",
     "data": {
      "text/plain": [
       "array([[1, 1, 1],\n",
       "       [1, 1, 1],\n",
       "       [1, 1, 1]])"
      ]
     },
     "metadata": {},
     "execution_count": 29
    }
   ],
   "source": [
    "# Matriz de unos\n",
    "np.ones((3,3), np.int32)"
   ]
  },
  {
   "cell_type": "code",
   "execution_count": 30,
   "metadata": {},
   "outputs": [
    {
     "output_type": "execute_result",
     "data": {
      "text/plain": [
       "array([[7, 7, 7],\n",
       "       [7, 7, 7],\n",
       "       [7, 7, 7]])"
      ]
     },
     "metadata": {},
     "execution_count": 30
    }
   ],
   "source": [
    "# Matriz con 100es\n",
    "np.full((3,3), 7)"
   ]
  },
  {
   "cell_type": "markdown",
   "metadata": {},
   "source": [
    "<table align=\"left\">\n",
    " <tr><td width=\"80\"><img src=\"./img/ejercicio.png\" style=\"width:auto;height:auto\"></td>\n",
    "     <td style=\"text-align:left\">\n",
    "         <h3>Creación de arrays en numpy</h3>\n",
    "      \n",
    "<ol>\n",
    "    <li>Crea un array con 3 deportes que te gusten</li>\n",
    "    <li>Accede al primer elemento y al último</li>\n",
    "    <li>Comprueba los tipos de los datos</li>\n",
    "    <li>Crea una secuencia de numeros del 10 al 0, con saltos de -0.5</li>\n",
    "    <li>Crea una matriz de 5x2 con numeros enteros aleatorios comprendidos entre el 10 y el 20</li>\n",
    "</ol>\n",
    "         \n",
    " </td></tr>\n",
    "</table>"
   ]
  },
  {
   "cell_type": "code",
   "execution_count": 31,
   "metadata": {},
   "outputs": [],
   "source": [
    "#1 \n",
    "sports = np.array([\"snowboard\", \"ping-pong\", \"tenis\"])"
   ]
  },
  {
   "cell_type": "code",
   "execution_count": 32,
   "metadata": {},
   "outputs": [
    {
     "output_type": "execute_result",
     "data": {
      "text/plain": [
       "'snowboard'"
      ]
     },
     "metadata": {},
     "execution_count": 32
    }
   ],
   "source": [
    "#2\n",
    "sports[0]"
   ]
  },
  {
   "cell_type": "code",
   "execution_count": 33,
   "metadata": {},
   "outputs": [
    {
     "output_type": "execute_result",
     "data": {
      "text/plain": [
       "'tenis'"
      ]
     },
     "metadata": {},
     "execution_count": 33
    }
   ],
   "source": [
    "sports[-1]"
   ]
  },
  {
   "cell_type": "code",
   "execution_count": 34,
   "metadata": {},
   "outputs": [
    {
     "output_type": "execute_result",
     "data": {
      "text/plain": [
       "dtype('<U9')"
      ]
     },
     "metadata": {},
     "execution_count": 34
    }
   ],
   "source": [
    "#3 \n",
    "# Unicode y el número es el máximo de carácteres encontrado en el array\n",
    "sports.dtype"
   ]
  },
  {
   "cell_type": "code",
   "execution_count": 35,
   "metadata": {},
   "outputs": [
    {
     "output_type": "execute_result",
     "data": {
      "text/plain": [
       "array([10. ,  9.5,  9. ,  8.5,  8. ,  7.5,  7. ,  6.5,  6. ,  5.5,  5. ,\n",
       "        4.5,  4. ,  3.5,  3. ,  2.5,  2. ,  1.5,  1. ,  0.5,  0. ])"
      ]
     },
     "metadata": {},
     "execution_count": 35
    }
   ],
   "source": [
    "#4\n",
    "np.arange(10, -0.5, -0.5)"
   ]
  },
  {
   "cell_type": "code",
   "execution_count": 36,
   "metadata": {},
   "outputs": [
    {
     "output_type": "execute_result",
     "data": {
      "text/plain": [
       "array([[18, 10],\n",
       "       [15, 10],\n",
       "       [19, 16],\n",
       "       [12, 10],\n",
       "       [15, 12]])"
      ]
     },
     "metadata": {},
     "execution_count": 36
    }
   ],
   "source": [
    "#5\n",
    "np.random.randint(10, 20, (5,2))"
   ]
  },
  {
   "cell_type": "markdown",
   "metadata": {},
   "source": [
    "## 4. Atributos del array"
   ]
  },
  {
   "cell_type": "markdown",
   "metadata": {},
   "source": [
    "Hay ciertos atributos que debemos conocer:\n",
    "* `ndim`: es el numero de dimensiones. Número de niveles que tiene el array de `numpy`.\n",
    "* `shape`: tamaño de cada una de las dimensiones. Devuelve el resultado en formato `tupla`\n",
    "* `size`: cantidad de elementos del array."
   ]
  },
  {
   "cell_type": "code",
   "execution_count": 37,
   "metadata": {},
   "outputs": [
    {
     "output_type": "stream",
     "name": "stdout",
     "text": [
      "[[1 2 3]\n [4 5 6]\n [7 8 9]]\n2\n(3, 3)\n9\n"
     ]
    }
   ],
   "source": [
    "array_multi = np.array([[1,2,3], [4,5,6], [7,8,9]])\n",
    "print(array_multi)\n",
    "print(array_multi.ndim)\n",
    "print(array_multi.shape)\n",
    "print(array_multi.size)"
   ]
  },
  {
   "cell_type": "code",
   "execution_count": 38,
   "metadata": {},
   "outputs": [
    {
     "output_type": "stream",
     "name": "stdout",
     "text": [
      "[[[ 1 10]\n  [ 2 20]\n  [ 3 30]]\n\n [[ 4 40]\n  [ 5 50]\n  [ 6 60]]\n\n [[ 7 70]\n  [ 8 80]\n  [ 9 90]]]\nndim: 3\nshape: (3, 3, 2)\nsize: 18\n"
     ]
    }
   ],
   "source": [
    "array_multi_3 = np.array([[[1,10], [2, 20], [3, 30]],\n",
    "                          [[4, 40], [5, 50], [6, 60]],\n",
    "                          [[7, 70], [8, 80], [9, 90]]])\n",
    "print(array_multi_3)\n",
    "print(\"ndim:\", array_multi_3.ndim)\n",
    "print(\"shape:\", array_multi_3.shape)\n",
    "print(\"size:\", array_multi_3.size)"
   ]
  },
  {
   "cell_type": "markdown",
   "metadata": {},
   "source": [
    "Otros atributos interesantes son:\n",
    "* `itemsize`: tamaño en bytes de los items del array\n",
    "* `nbytes`: tamaño en bytes de todo el array"
   ]
  },
  {
   "cell_type": "code",
   "execution_count": 39,
   "metadata": {},
   "outputs": [
    {
     "output_type": "stream",
     "name": "stdout",
     "text": [
      "int32\nint64\n8\n40\n"
     ]
    }
   ],
   "source": [
    "array = np.array([1,2,3,4,5])\n",
    "print(array.dtype)\n",
    "array = array.astype('int64')\n",
    "print(array.dtype)\n",
    "print(array.itemsize)\n",
    "print(array.nbytes)\n",
    "# Ocupa 32 bits cada elemento: 32/8 = 4 bytes\n",
    "# 1 byte = 8 bits"
   ]
  },
  {
   "cell_type": "code",
   "execution_count": 40,
   "metadata": {},
   "outputs": [
    {
     "output_type": "execute_result",
     "data": {
      "text/plain": [
       "dtype('int64')"
      ]
     },
     "metadata": {},
     "execution_count": 40
    }
   ],
   "source": [
    "# Para comprobar ahora que se puede crear el array forzando el tipo\n",
    "# Y pesa mas al ser float\n",
    "array.dtype"
   ]
  },
  {
   "cell_type": "code",
   "execution_count": 41,
   "metadata": {},
   "outputs": [
    {
     "output_type": "stream",
     "name": "stdout",
     "text": [
      "8\n40\n"
     ]
    }
   ],
   "source": [
    "array = np.array([1,2,3,4,5], dtype = np.float64)\n",
    "print(array.itemsize)\n",
    "print(array.nbytes)"
   ]
  },
  {
   "cell_type": "markdown",
   "metadata": {},
   "source": [
    "Vemos que aumentando el tamaño de los elementos, el array es el doble de pesado. Profundizaremos más adelante en los tipos."
   ]
  },
  {
   "cell_type": "markdown",
   "metadata": {},
   "source": [
    "## 5. Indexado (Importante)\n",
    "##### ¿Cómo accedemos a los elementos del array?\n",
    "\n",
    "Declaremos primero varios arrays:"
   ]
  },
  {
   "cell_type": "code",
   "execution_count": 42,
   "metadata": {},
   "outputs": [
    {
     "output_type": "stream",
     "name": "stdout",
     "text": [
      "1\n2\n3\n"
     ]
    }
   ],
   "source": [
    "array_1 = np.array([1,2,3,4,5])\n",
    "array_2 = np.array([[1,2,3], [4,5,6], [7,8,9]])\n",
    "array_3 = np.array([[[1,10], [2, 20], [3, 30]],\n",
    "                    [[4, 40], [5, 50], [6, 60]],\n",
    "                    [[7, 70], [8, 80], [9, 90]]])\n",
    "\n",
    "print(array_1.ndim)\n",
    "print(array_2.ndim)\n",
    "print(array_3.ndim)"
   ]
  },
  {
   "cell_type": "markdown",
   "metadata": {},
   "source": [
    "Probamos primero con el primer array"
   ]
  },
  {
   "cell_type": "code",
   "execution_count": 43,
   "metadata": {},
   "outputs": [
    {
     "output_type": "stream",
     "name": "stdout",
     "text": [
      "1\n[3 4 5]\n"
     ]
    }
   ],
   "source": [
    "print(array_1[0])\n",
    "print(array_1[2:5])"
   ]
  },
  {
   "cell_type": "markdown",
   "metadata": {},
   "source": [
    "Vamos ahora con el de dos dimensiones"
   ]
  },
  {
   "cell_type": "code",
   "execution_count": 44,
   "metadata": {},
   "outputs": [
    {
     "output_type": "stream",
     "name": "stdout",
     "text": [
      "[[1 2 3]\n [4 5 6]\n [7 8 9]]\n[1 2 3]\n2\n2\n<class 'numpy.ndarray'>\n<class 'numpy.int32'>\n"
     ]
    }
   ],
   "source": [
    "print(array_2)\n",
    "print(array_2[0])\n",
    "\n",
    "# Segundo elemento de la primera fila\n",
    "print(array_2[0][1])\n",
    "print(array_2[0,1]) # primero dato de la fila, después dato de la columna\n",
    "\n",
    "# Tipo del primer elemento\n",
    "print(type(array_2[0]))\n",
    "print(type(array_2[0,0]))"
   ]
  },
  {
   "cell_type": "code",
   "execution_count": 56,
   "metadata": {},
   "outputs": [
    {
     "output_type": "stream",
     "name": "stdout",
     "text": [
      "[[1 2 3]\n [4 5 6]\n [7 8 9]]\n"
     ]
    },
    {
     "output_type": "execute_result",
     "data": {
      "text/plain": [
       "array([[2, 3],\n",
       "       [5, 6],\n",
       "       [8, 9]])"
      ]
     },
     "metadata": {},
     "execution_count": 56
    }
   ],
   "source": [
    "print(array_2)\n",
    "array_2[0:3, 1:3]"
   ]
  },
  {
   "cell_type": "markdown",
   "metadata": {},
   "source": [
    "Y ahora con el de 3"
   ]
  },
  {
   "cell_type": "code",
   "execution_count": 37,
   "metadata": {},
   "outputs": [
    {
     "name": "stdout",
     "output_type": "stream",
     "text": [
      "[[[ 1 10]\n",
      "  [ 2 20]\n",
      "  [ 3 30]]\n",
      "\n",
      " [[ 4 40]\n",
      "  [ 5 50]\n",
      "  [ 6 60]]\n",
      "\n",
      " [[ 7 70]\n",
      "  [ 8 80]\n",
      "  [ 9 90]]]\n"
     ]
    }
   ],
   "source": [
    "print(array_3)"
   ]
  },
  {
   "cell_type": "code",
   "execution_count": 144,
   "metadata": {},
   "outputs": [
    {
     "name": "stdout",
     "output_type": "stream",
     "text": [
      "[[ 1 10]\n",
      " [ 2 20]\n",
      " [ 3 30]]\n",
      "[ 3 30]\n",
      "30\n"
     ]
    }
   ],
   "source": [
    "print(array_3[0])\n",
    "print(array_3[0,-1])\n",
    "print(array_3[0,-1,-1])"
   ]
  },
  {
   "cell_type": "markdown",
   "metadata": {},
   "source": [
    "## 6. Slicing y subarrays\n",
    "Ya hemos visto que podemos acceder a los elementos individuales del array usamos la sintaxis con corchetes, pero si necesitamos acceder a un conjunto de valores, tendremos que usar `:`. El slicing sigue la siguiente sintaxis:\n",
    "```Python\n",
    "x[start:stop:step]\n",
    "```\n",
    "Por defecto, si no ponemos alguno de estos argumentos, `start = 0`, `stop = tamaño de la dimensión` y `step = 1`.\n",
    "\n",
    "Recuerda, al igual que en listas, el `start` está incluido, mientras que el stop no.\n",
    "\n",
    "Veamos primero un ejemplo para una dimensión"
   ]
  },
  {
   "cell_type": "code",
   "execution_count": 50,
   "metadata": {},
   "outputs": [
    {
     "output_type": "stream",
     "name": "stdout",
     "text": [
      "[0 1 2 3 4 5 6 7 8 9]\nDel primer elemento al quinto [0 1 2 3 4]\nDel primero al quinto con saltos de dos [0 2 4]\nDesde el quinto [5 6 7 8 9]\nDesde el quinto [5 6 7 8 9]\nDesde el quinto hasta el penultimo [5 6 7 8]\nDesde el quinto, al primero [5 4 3 2 1 0]\nSacar una copia [0 1 2 3 4 5 6 7 8 9]\nSacar una copia [0 1 2 3 4 5 6 7 8 9]\nUltimos dos elementos [8 9]\n"
     ]
    }
   ],
   "source": [
    "# Ojo si modifico un array que he sacado con indexing, estoy modificando el original.\n",
    "\n",
    "# Array de 10 elementos\n",
    "x = np.arange(10)\n",
    "print(x)\n",
    "\n",
    "print(\"Del primer elemento al quinto\", x[0:5]) # x[:5]\n",
    "\n",
    "print(\"Del primero al quinto con saltos de dos\", x[:5:2])\n",
    "\n",
    "print(\"Desde el quinto\", x[5::])\n",
    "print(\"Desde el quinto\", x[5:]) # equivalente\n",
    "\n",
    "print(\"Desde el quinto hasta el penultimo\", x[5:-1])\n",
    "\n",
    "print(\"Desde el quinto, al primero\", x[5::-1])\n",
    "\n",
    "print(\"Sacar una copia\", x[:]) # Creo una referencia.\n",
    "# si asigno a variable y modifico, tb modifico x.\n",
    "print(\"Sacar una copia\", x.copy()) # Copia.\n",
    "# Si asigno a variable y modifico, x no se modifica.\n",
    "\n",
    "print(\"Ultimos dos elementos\",x[-2:])"
   ]
  },
  {
   "cell_type": "code",
   "execution_count": 51,
   "metadata": {},
   "outputs": [
    {
     "output_type": "execute_result",
     "data": {
      "text/plain": [
       "9"
      ]
     },
     "metadata": {},
     "execution_count": 51
    }
   ],
   "source": [
    "x[9]\n",
    "#index del ultimo"
   ]
  },
  {
   "cell_type": "code",
   "execution_count": 52,
   "metadata": {},
   "outputs": [
    {
     "output_type": "execute_result",
     "data": {
      "text/plain": [
       "9"
      ]
     },
     "metadata": {},
     "execution_count": 52
    }
   ],
   "source": [
    "x[-1]\n",
    "# index del ultimo empezando por el final\n"
   ]
  },
  {
   "cell_type": "code",
   "execution_count": 150,
   "metadata": {},
   "outputs": [
    {
     "name": "stdout",
     "output_type": "stream",
     "text": [
      "[0 1 2 3 4 5 6 7 8 9]\n"
     ]
    }
   ],
   "source": [
    "x = np.arange(10)\n",
    "print(x)"
   ]
  },
  {
   "cell_type": "code",
   "execution_count": 152,
   "metadata": {},
   "outputs": [
    {
     "data": {
      "text/plain": [
       "array([0, 1, 2])"
      ]
     },
     "execution_count": 152,
     "metadata": {},
     "output_type": "execute_result"
    }
   ],
   "source": [
    "y = x[:3]\n",
    "y"
   ]
  },
  {
   "cell_type": "code",
   "execution_count": 153,
   "metadata": {},
   "outputs": [],
   "source": [
    "y[0] = 5"
   ]
  },
  {
   "cell_type": "code",
   "execution_count": 154,
   "metadata": {},
   "outputs": [
    {
     "name": "stdout",
     "output_type": "stream",
     "text": [
      "[5 1 2]\n",
      "[5 1 2 3 4 5 6 7 8 9]\n"
     ]
    }
   ],
   "source": [
    "y[0] = 5\n",
    "print(y)\n",
    "print(x)"
   ]
  },
  {
   "cell_type": "markdown",
   "metadata": {},
   "source": [
    "<table align=\"left\">\n",
    " <tr><td width=\"80\"><img src=\"./img/ejercicio.png\" style=\"width:auto;height:auto\"></td>\n",
    "     <td style=\"text-align:left\">\n",
    "         <h3>Ejercicio slicing\n",
    "         </h3>\n",
    "<ol>\n",
    "    <li>Todos los elementos, pero de dos en dos</li>\n",
    "    <li>Todos los elementos, pero de dos en dos, a partir del segundo item</li>\n",
    "    <li>Todo, pero invertido</li>\n",
    "    <li>Obtén los últimos dos items, pero invertidos</li>\n",
    "    <li>Todo, excepto los ultimos dos items, invertido.</li>\n",
    "</ol>\n",
    "         \n",
    " </td></tr>\n",
    "</table>"
   ]
  },
  {
   "cell_type": "code",
   "execution_count": 53,
   "metadata": {},
   "outputs": [
    {
     "output_type": "stream",
     "name": "stdout",
     "text": [
      "[0 1 2 3 4 5 6 7 8 9]\n"
     ]
    }
   ],
   "source": [
    "x = np.arange(10)\n",
    "print(x)"
   ]
  },
  {
   "cell_type": "code",
   "execution_count": 56,
   "metadata": {},
   "outputs": [
    {
     "output_type": "execute_result",
     "data": {
      "text/plain": [
       "array([0, 2, 4, 6, 8])"
      ]
     },
     "metadata": {},
     "execution_count": 56
    }
   ],
   "source": [
    "#1 \n",
    "x[0::2]"
   ]
  },
  {
   "cell_type": "code",
   "execution_count": 167,
   "metadata": {},
   "outputs": [
    {
     "data": {
      "text/plain": [
       "array([1, 3, 5, 7, 9])"
      ]
     },
     "execution_count": 167,
     "metadata": {},
     "output_type": "execute_result"
    }
   ],
   "source": [
    "#2\n",
    "x[1::2]"
   ]
  },
  {
   "cell_type": "code",
   "execution_count": 169,
   "metadata": {},
   "outputs": [
    {
     "data": {
      "text/plain": [
       "array([9, 8, 7, 6, 5, 4, 3, 2, 1, 0])"
      ]
     },
     "execution_count": 169,
     "metadata": {},
     "output_type": "execute_result"
    }
   ],
   "source": [
    "#3\n",
    "x[::-1]"
   ]
  },
  {
   "cell_type": "code",
   "execution_count": 171,
   "metadata": {},
   "outputs": [
    {
     "data": {
      "text/plain": [
       "array([9, 8])"
      ]
     },
     "execution_count": 171,
     "metadata": {},
     "output_type": "execute_result"
    }
   ],
   "source": [
    "#4\n",
    "x[-1:-3:-1]"
   ]
  },
  {
   "cell_type": "code",
   "execution_count": 178,
   "metadata": {},
   "outputs": [
    {
     "data": {
      "text/plain": [
       "array([9, 8])"
      ]
     },
     "execution_count": 178,
     "metadata": {},
     "output_type": "execute_result"
    }
   ],
   "source": [
    "x[:7:-1]"
   ]
  },
  {
   "cell_type": "code",
   "execution_count": 179,
   "metadata": {},
   "outputs": [
    {
     "data": {
      "text/plain": [
       "array([7, 6, 5, 4, 3, 2, 1, 0])"
      ]
     },
     "execution_count": 179,
     "metadata": {},
     "output_type": "execute_result"
    }
   ],
   "source": [
    "#5\n",
    "x[-3::-1]"
   ]
  },
  {
   "cell_type": "markdown",
   "metadata": {},
   "source": [
    "Veamos ahora unos ejemplos multidimensionales. Funciona igual, lo unico que ahora cada dimension irá separado por comas"
   ]
  },
  {
   "cell_type": "code",
   "execution_count": 61,
   "metadata": {},
   "outputs": [
    {
     "output_type": "stream",
     "name": "stdout",
     "text": [
      "[[ 1  2  3  4  5]\n [ 6  7  8  9 10]\n [11 12 13 14 15]]\n2 primeras filas y 3 primeras columnas\n [[1 2 3]\n [6 7 8]]\nTodas las filas, cada dos columnas\n [[ 1  3  5]\n [ 6  8 10]\n [11 13 15]]\nInvertir las filas\n [[11 12 13 14 15]\n [ 6  7  8  9 10]\n [ 1  2  3  4  5]]\nInvertir columnas\n [[ 5  4  3  2  1]\n [10  9  8  7  6]\n [15 14 13 12 11]]\n"
     ]
    }
   ],
   "source": [
    "array_multi = np.array([[1,2,3,4,5], [6,7,8,9,10], [11,12,13,14,15]])\n",
    "print(array_multi)\n",
    "\n",
    "print(\"2 primeras filas y 3 primeras columnas\\n\", array_multi[:2, :3])\n",
    "\n",
    "print(\"Todas las filas, cada dos columnas\\n\", array_multi[::, ::2])\n",
    "\n",
    "print(\"Invertir las filas\\n\", array_multi[::-1])\n",
    "\n",
    "print(\"Invertir columnas\\n\", array_multi[:,::-1])"
   ]
  },
  {
   "cell_type": "markdown",
   "metadata": {},
   "source": [
    "Otra forma de quedarnos con subarrays, o de filtrarlos, es mediante una máscara de booleanos. La máscara tiene las mismas dimensiones que el array, y donde haya un `True`, se quedará con ese valor, pero donde haya un `False`, lo ignorará."
   ]
  },
  {
   "cell_type": "code",
   "execution_count": 62,
   "metadata": {},
   "outputs": [
    {
     "output_type": "stream",
     "name": "stdout",
     "text": [
      "[2 4 5 2 3 7 2]\n"
     ]
    },
    {
     "output_type": "execute_result",
     "data": {
      "text/plain": [
       "array([ True, False, False,  True, False, False,  True])"
      ]
     },
     "metadata": {},
     "execution_count": 62
    }
   ],
   "source": [
    "x = np.array([2,4,5,2,3,7,2])\n",
    "\n",
    "print(x)\n",
    "x == 2"
   ]
  },
  {
   "cell_type": "code",
   "execution_count": 185,
   "metadata": {},
   "outputs": [
    {
     "name": "stdout",
     "output_type": "stream",
     "text": [
      "[ True False False  True False False  True]\n",
      "[2 2 2]\n",
      "[ True  True  True]\n"
     ]
    }
   ],
   "source": [
    "x_bools = x == 2\n",
    "\n",
    "print(x_bools)\n",
    "\n",
    "print(x[x_bools])\n",
    "\n",
    "print(x_bools[x_bools])"
   ]
  },
  {
   "cell_type": "markdown",
   "metadata": {},
   "source": [
    "**¿Qué tendría qué hacer si quiero solo aquellos días en los que tengo clases?**"
   ]
  },
  {
   "cell_type": "code",
   "execution_count": 187,
   "metadata": {},
   "outputs": [
    {
     "data": {
      "text/plain": [
       "array(['Martes', 'Jueves', 'Sábado'], dtype='<U9')"
      ]
     },
     "execution_count": 187,
     "metadata": {},
     "output_type": "execute_result"
    }
   ],
   "source": [
    "dias = np.array(['Lunes', 'Martes', 'Miércoles', 'Jueves', 'Viernes', 'Sábado', 'Domingo'])\n",
    "horas_bootcamp = np.array([0, 3.5, 0, 3.5, 0, 7.5, 0])\n",
    "\n",
    "dias[horas_bootcamp != 0]"
   ]
  },
  {
   "cell_type": "markdown",
   "metadata": {},
   "source": [
    "## 7. Reshape\n",
    "Con el reshape podremos **cambiar las dimensiones de los arrays**, siempre y cuando en numero de elementos sea posible. Por ejemplo, si tenemos 4 elementos, no podremos hacer una matriz de 3x3.\n",
    "\n",
    "Éste método se puede utilizar en una infinidad de casos, pero lo más habitual sería, partiendo de un array de una dimensión, convirtiéndolo en multidimensión."
   ]
  },
  {
   "cell_type": "code",
   "execution_count": 45,
   "metadata": {},
   "outputs": [
    {
     "name": "stdout",
     "output_type": "stream",
     "text": [
      "[0 1 2 3 4 5 6 7 8]\n",
      "[[0 1 2]\n",
      " [3 4 5]\n",
      " [6 7 8]]\n"
     ]
    }
   ],
   "source": [
    "x = np.arange(9)\n",
    "print(x)\n",
    "\n",
    "y = x.reshape((3,3))\n",
    "print(y)"
   ]
  },
  {
   "cell_type": "code",
   "execution_count": 46,
   "metadata": {},
   "outputs": [
    {
     "data": {
      "text/plain": [
       "array([0, 1, 2, 3, 4, 5, 6, 7, 8])"
      ]
     },
     "execution_count": 46,
     "metadata": {},
     "output_type": "execute_result"
    }
   ],
   "source": [
    "# Para pasarlo todo a 1 dim\n",
    "y.flatten()"
   ]
  },
  {
   "cell_type": "code",
   "execution_count": 64,
   "metadata": {},
   "outputs": [
    {
     "output_type": "stream",
     "name": "stdout",
     "text": [
      "[[[[ 0  1  2  3]\n   [ 4  5  6  7]]\n\n  [[ 8  9 10 11]\n   [12 13 14 15]]]\n\n\n [[[16 17 18 19]\n   [20 21 22 23]]\n\n  [[24 25 26 27]\n   [28 29 30 31]]]]\n"
     ]
    }
   ],
   "source": [
    "x = np.arange(30).reshape(2,3)\n",
    "print(x)"
   ]
  },
  {
   "cell_type": "code",
   "execution_count": 48,
   "metadata": {},
   "outputs": [
    {
     "name": "stdout",
     "output_type": "stream",
     "text": [
      "[[ 0  1  2  3  4]\n",
      " [ 5  6  7  8  9]\n",
      " [10 11 12 13 14]\n",
      " [15 16 17 18 19]\n",
      " [20 21 22 23 24]\n",
      " [25 26 27 28 29]]\n"
     ]
    }
   ],
   "source": [
    "x = np.arange(30).reshape((6,5))\n",
    "print(x)"
   ]
  },
  {
   "cell_type": "markdown",
   "metadata": {},
   "source": [
    "<table align=\"left\">\n",
    " <tr><td width=\"80\"><img src=\"./img/error.png\" style=\"width:auto;height:auto\"></td>\n",
    "     <td style=\"text-align:left\">\n",
    "         <h3>ERRORES con reshape</h3>\n",
    "         \n",
    " </td></tr>\n",
    "</table>"
   ]
  },
  {
   "cell_type": "code",
   "execution_count": 49,
   "metadata": {},
   "outputs": [
    {
     "ename": "ValueError",
     "evalue": "cannot reshape array of size 3 into shape (3,4)",
     "output_type": "error",
     "traceback": [
      "\u001b[1;31m---------------------------------------------------------------------------\u001b[0m",
      "\u001b[1;31mValueError\u001b[0m                                Traceback (most recent call last)",
      "\u001b[1;32m<ipython-input-49-c77a1dac7621>\u001b[0m in \u001b[0;36m<module>\u001b[1;34m\u001b[0m\n\u001b[0;32m      1\u001b[0m \u001b[0mx\u001b[0m \u001b[1;33m=\u001b[0m \u001b[0mnp\u001b[0m\u001b[1;33m.\u001b[0m\u001b[0marray\u001b[0m\u001b[1;33m(\u001b[0m\u001b[1;33m[\u001b[0m\u001b[1;36m1\u001b[0m\u001b[1;33m,\u001b[0m\u001b[1;36m2\u001b[0m\u001b[1;33m,\u001b[0m\u001b[1;36m3\u001b[0m\u001b[1;33m]\u001b[0m\u001b[1;33m)\u001b[0m\u001b[1;33m\u001b[0m\u001b[1;33m\u001b[0m\u001b[0m\n\u001b[1;32m----> 2\u001b[1;33m \u001b[0mx\u001b[0m\u001b[1;33m.\u001b[0m\u001b[0mreshape\u001b[0m\u001b[1;33m(\u001b[0m\u001b[1;33m(\u001b[0m\u001b[1;36m3\u001b[0m\u001b[1;33m,\u001b[0m\u001b[1;36m4\u001b[0m\u001b[1;33m)\u001b[0m\u001b[1;33m)\u001b[0m\u001b[1;33m\u001b[0m\u001b[1;33m\u001b[0m\u001b[0m\n\u001b[0m",
      "\u001b[1;31mValueError\u001b[0m: cannot reshape array of size 3 into shape (3,4)"
     ]
    }
   ],
   "source": [
    "x = np.array([1,2,3])\n",
    "x.reshape((3,4))"
   ]
  },
  {
   "cell_type": "markdown",
   "metadata": {},
   "source": [
    "## 8. Tipos de los datos\n",
    "En `numpy` también hay **que tener en cuenta los tipos de datos con los que trabajamos**, para no cometer el error de *mezclar peras con manzanas*. Es más, **`numpy` es mucho más variado en cuanto a tipos**, que el propio intérprete de Python. \n",
    "\n",
    "En el caso de `numpy`, hay que pensar en el factor tamaño cuando especifiquemos los tipos de los datos. No es lo mismo el numero 12, que el 120000000000. Desde el punto de vista del intérprete de Python, son dos `int`s, pero para numpy son un `int32` o un `int64`. Ese número es la cantidad de bits que se necesita para representar el valor. Cuanto más grande sea el valor, mayor cantidad de bits utilizaremos.\n",
    "\n",
    "[En la documentación tienes el detalle de todos los tipos de datos.](https://numpy.org/devdocs/user/basics.types.html)\n",
    "\n",
    "Por ejemplo, valores numéricos:"
   ]
  },
  {
   "cell_type": "code",
   "execution_count": 56,
   "metadata": {},
   "outputs": [
    {
     "name": "stdout",
     "output_type": "stream",
     "text": [
      "[1 2 3 4]\n",
      "int32\n",
      "[100000000000000000]\n",
      "int64\n"
     ]
    }
   ],
   "source": [
    "# Valores normales\n",
    "x = np.array([1,2,3,4])\n",
    "print(x)\n",
    "print(x.dtype)\n",
    "\n",
    "# Valores mas grandes\n",
    "x = np.array([100000000000000000])\n",
    "print(x)\n",
    "print(x.dtype)"
   ]
  },
  {
   "cell_type": "markdown",
   "metadata": {},
   "source": [
    "![](img/enteroenc.png)\n",
    "https://docs.microsoft.com/es-es/cpp/c-language/cpp-integer-limits?view=msvc-160"
   ]
  },
  {
   "cell_type": "code",
   "execution_count": 189,
   "metadata": {},
   "outputs": [
    {
     "name": "stdout",
     "output_type": "stream",
     "text": [
      "[2147483647]\n",
      "int32\n",
      "[2147483648]\n",
      "int64\n"
     ]
    }
   ],
   "source": [
    "x = np.array([2147483647])\n",
    "print(x)\n",
    "print(x.dtype)\n",
    "\n",
    "x = np.array([2147483648])\n",
    "print(x)\n",
    "print(x.dtype)"
   ]
  },
  {
   "cell_type": "code",
   "execution_count": 191,
   "metadata": {},
   "outputs": [
    {
     "name": "stdout",
     "output_type": "stream",
     "text": [
      "[1.]\n",
      "float64\n"
     ]
    }
   ],
   "source": [
    "# Floats\n",
    "x = np.array([1.])\n",
    "print(x)\n",
    "print(x.dtype)"
   ]
  },
  {
   "cell_type": "markdown",
   "metadata": {},
   "source": [
    "Si tenemos booleanos;"
   ]
  },
  {
   "cell_type": "code",
   "execution_count": 67,
   "metadata": {},
   "outputs": [
    {
     "output_type": "stream",
     "name": "stdout",
     "text": [
      "bool\n"
     ]
    }
   ],
   "source": [
    "x = np.array([True, False, True])\n",
    "print(x.dtype)"
   ]
  },
  {
   "cell_type": "markdown",
   "metadata": {},
   "source": [
    "Cadenas de texto. La `U` viene de unicode, que es la codificación que sigue `numpy`. Y el número de al lado es la longitud de la cadena de texto más larga del array."
   ]
  },
  {
   "cell_type": "code",
   "execution_count": 60,
   "metadata": {},
   "outputs": [
    {
     "name": "stdout",
     "output_type": "stream",
     "text": [
      "<U3\n"
     ]
    }
   ],
   "source": [
    "x = np.array(['aaa', 'b', 'c'])\n",
    "print(x.dtype)"
   ]
  },
  {
   "cell_type": "markdown",
   "metadata": {},
   "source": [
    "Podemos mezclar varios tipos de datos, pero `numpy` forzará un solo tipo. ¿Cómo lo hace? Realiza las conversiones de tal manera que no pierda información en la conversión. En la conversión prima el siguiente orden: \n",
    "\n",
    "`String -> Float -> Int -> Boolean`"
   ]
  },
  {
   "cell_type": "code",
   "execution_count": 72,
   "metadata": {},
   "outputs": [
    {
     "output_type": "stream",
     "name": "stdout",
     "text": [
      "['a' 'True']\n[1 1]\n[1. 1.]\n"
     ]
    }
   ],
   "source": [
    "print(np.array(['a', True]))\n",
    "print(np.array([1, True]))\n",
    "print(np.array([1, 1.]))"
   ]
  },
  {
   "cell_type": "markdown",
   "metadata": {},
   "source": [
    "## 9. Concatenado\n",
    "Para concatenar matrices, `numpy` tiene varios métodos: `np.concatenate`, `np.vstack` o `np.hstack`. Lo único que hay que tener en cuenta es que coincidan las dimensiones, para que el concatenado sea correcto."
   ]
  },
  {
   "cell_type": "code",
   "execution_count": 62,
   "metadata": {},
   "outputs": [
    {
     "data": {
      "text/plain": [
       "array([1, 2, 3, 3, 2, 1])"
      ]
     },
     "execution_count": 62,
     "metadata": {},
     "output_type": "execute_result"
    }
   ],
   "source": [
    "x = np.array([1,2,3])\n",
    "y = np.array([3,2,1])\n",
    "np.concatenate([x,y])\n",
    "# axis = 0 por defecto"
   ]
  },
  {
   "cell_type": "markdown",
   "metadata": {},
   "source": [
    "Como ves, el concatenado es horizontal. Al ser elementos de 1D, mantiene las dimensiones. Se pueden concatenar todos los arrays que queramos."
   ]
  },
  {
   "cell_type": "code",
   "execution_count": 63,
   "metadata": {},
   "outputs": [
    {
     "data": {
      "text/plain": [
       "array([ 1,  2,  3,  3,  2,  1, 99, 99, 99])"
      ]
     },
     "execution_count": 63,
     "metadata": {},
     "output_type": "execute_result"
    }
   ],
   "source": [
    "z = np.array([99,99,99])\n",
    "np.concatenate([x,y,z])"
   ]
  },
  {
   "cell_type": "markdown",
   "metadata": {},
   "source": [
    "Probemos ahora con arrays bidimensionales"
   ]
  },
  {
   "cell_type": "code",
   "execution_count": 64,
   "metadata": {},
   "outputs": [
    {
     "data": {
      "text/plain": [
       "array([[1, 2, 3],\n",
       "       [4, 5, 6],\n",
       "       [1, 2, 3],\n",
       "       [4, 5, 6]])"
      ]
     },
     "execution_count": 64,
     "metadata": {},
     "output_type": "execute_result"
    }
   ],
   "source": [
    "xy = np.array([[1,2,3],\n",
    "              [4,5,6]])\n",
    "\n",
    "np.concatenate([xy,xy])"
   ]
  },
  {
   "cell_type": "markdown",
   "metadata": {},
   "source": [
    "Ahora podemos jugar con los ejes. El método `concatenate` tiene un argumento que es `axis`, con el cual podemos jugar con las dimensiones y elegir el tipo de concatenado."
   ]
  },
  {
   "cell_type": "code",
   "execution_count": 65,
   "metadata": {},
   "outputs": [
    {
     "data": {
      "text/plain": [
       "array([[1, 2, 3, 1, 2, 3],\n",
       "       [4, 5, 6, 4, 5, 6]])"
      ]
     },
     "execution_count": 65,
     "metadata": {},
     "output_type": "execute_result"
    }
   ],
   "source": [
    "np.concatenate([xy,xy], axis = 1)"
   ]
  },
  {
   "cell_type": "markdown",
   "metadata": {},
   "source": [
    "Si tenemos arrays de diferentes dimensiones, puede resultar más útil usar `vstack`"
   ]
  },
  {
   "cell_type": "code",
   "execution_count": 66,
   "metadata": {},
   "outputs": [
    {
     "data": {
      "text/plain": [
       "array([[1, 2, 3],\n",
       "       [4, 5, 6],\n",
       "       [7, 8, 9]])"
      ]
     },
     "execution_count": 66,
     "metadata": {},
     "output_type": "execute_result"
    }
   ],
   "source": [
    "xy = np.array([[1,2,3],\n",
    "              [4,5,6]])\n",
    "\n",
    "x = np.array([7,8,9])\n",
    "\n",
    "np.vstack([xy,x])"
   ]
  },
  {
   "cell_type": "markdown",
   "metadata": {},
   "source": [
    "O si queremos hacer un concatenado horizontal, lo haremos mediante `hstack`."
   ]
  },
  {
   "cell_type": "code",
   "execution_count": 67,
   "metadata": {},
   "outputs": [
    {
     "data": {
      "text/plain": [
       "array([[1, 2, 3, 7],\n",
       "       [4, 5, 6, 8]])"
      ]
     },
     "execution_count": 67,
     "metadata": {},
     "output_type": "execute_result"
    }
   ],
   "source": [
    "xy = np.array([[1,2,3],\n",
    "              [4,5,6]])\n",
    "\n",
    "x = np.array([[7],\n",
    "              [8]])\n",
    "np.hstack([xy,x])"
   ]
  },
  {
   "cell_type": "markdown",
   "metadata": {},
   "source": [
    "## 10. Sustitución\n",
    "En `numpy` podemos aplicar operaciones para sustituir elementos dependiendo de ciertas condiciones, y con esa sintaxis de sustitución también es posible filtrar datos de las matrices."
   ]
  },
  {
   "cell_type": "code",
   "execution_count": 68,
   "metadata": {},
   "outputs": [
    {
     "data": {
      "text/plain": [
       "array([[1, 2, 3]])"
      ]
     },
     "execution_count": 68,
     "metadata": {},
     "output_type": "execute_result"
    }
   ],
   "source": [
    "xy = np.array([[1,2,3],\n",
    "              [4,5,6]])\n",
    "\n",
    "my_filter = ([True, False])\n",
    "\n",
    "xy[my_filter]"
   ]
  },
  {
   "cell_type": "markdown",
   "metadata": {},
   "source": [
    "De esta manera, lo que hacemos es preparar una lista de booleanos, y se lo aplicamos al array. Si lo queremos hacer de una manera más automática y entendible, utilizamos `where`."
   ]
  },
  {
   "cell_type": "code",
   "execution_count": 69,
   "metadata": {},
   "outputs": [
    {
     "name": "stdout",
     "output_type": "stream",
     "text": [
      "[[10 10 10]\n",
      " [20 20 20]]\n",
      "[[10 10 10]\n",
      " [ 4  5  6]]\n"
     ]
    }
   ],
   "source": [
    "xy = np.array([[1,2,3],\n",
    "              [4,5,6]])\n",
    "\n",
    "\n",
    "print(np.where(xy < 4, 10, 20)) \n",
    "print(np.where(xy < 4, 10, xy))"
   ]
  },
  {
   "cell_type": "code",
   "execution_count": 194,
   "metadata": {},
   "outputs": [
    {
     "name": "stdout",
     "output_type": "stream",
     "text": [
      "[[1 2 3]\n",
      " [4 5 6]]\n"
     ]
    }
   ],
   "source": [
    "# Crea una copia con las sustituciones\n",
    "print(xy)\n"
   ]
  },
  {
   "cell_type": "code",
   "execution_count": 195,
   "metadata": {},
   "outputs": [
    {
     "name": "stdout",
     "output_type": "stream",
     "text": [
      "[[10 10 10]\n",
      " [20 20 20]]\n"
     ]
    }
   ],
   "source": [
    "a = np.where(xy < 4, 10, 20)\n",
    "print(a)"
   ]
  },
  {
   "cell_type": "code",
   "execution_count": 196,
   "metadata": {},
   "outputs": [
    {
     "name": "stdout",
     "output_type": "stream",
     "text": [
      "[[1 2 3]\n",
      " [4 5 6]]\n"
     ]
    }
   ],
   "source": [
    "print(xy)"
   ]
  },
  {
   "cell_type": "markdown",
   "metadata": {},
   "source": [
    "O incluso podemos sustituit los que se den en la condición, y el resto mantener los valores del array."
   ]
  },
  {
   "cell_type": "markdown",
   "metadata": {},
   "source": [
    "## 11. Copias\n",
    "Una característica importante y extremadamente útil en los arrays es que cuando **hacemos *slicing*, realmente obtenemos de los arrays vistas, no copias**. ¿Esto qué significa? Que si hacemos *slicing*, creando un nuevo array, y lo modificamos, también estaremos modificando el original.\n",
    "\n",
    "Esto difiere con las listas de Python, que al aplicar *slicing* lo que obtenemos es una copia, y por tanto cualquier modificación sobre la nueva lista no afectará a la lista original.\n",
    "\n",
    "Declaro un array"
   ]
  },
  {
   "cell_type": "code",
   "execution_count": 71,
   "metadata": {},
   "outputs": [
    {
     "data": {
      "text/plain": [
       "array([[1., 1., 1., 1.],\n",
       "       [1., 1., 1., 1.],\n",
       "       [1., 1., 1., 1.]])"
      ]
     },
     "execution_count": 71,
     "metadata": {},
     "output_type": "execute_result"
    }
   ],
   "source": [
    "x2 = np.ones((3, 4))\n",
    "x2"
   ]
  },
  {
   "cell_type": "markdown",
   "metadata": {},
   "source": [
    "Extraemos una matriz 2x2"
   ]
  },
  {
   "cell_type": "code",
   "execution_count": 72,
   "metadata": {},
   "outputs": [
    {
     "name": "stdout",
     "output_type": "stream",
     "text": [
      "[[1. 1.]\n",
      " [1. 1.]]\n"
     ]
    }
   ],
   "source": [
    "x2_sub = x2[:2, :2]\n",
    "print(x2_sub)"
   ]
  },
  {
   "cell_type": "markdown",
   "metadata": {},
   "source": [
    "Si ahora modificamos un elemento del nuevo subarray, verás que el array original ha cambiado"
   ]
  },
  {
   "cell_type": "code",
   "execution_count": 73,
   "metadata": {},
   "outputs": [
    {
     "name": "stdout",
     "output_type": "stream",
     "text": [
      "[[99.  1.]\n",
      " [ 1.  1.]]\n"
     ]
    }
   ],
   "source": [
    "x2_sub[0, 0] = 99\n",
    "print(x2_sub)"
   ]
  },
  {
   "cell_type": "code",
   "execution_count": 74,
   "metadata": {},
   "outputs": [
    {
     "name": "stdout",
     "output_type": "stream",
     "text": [
      "[[99.  1.  1.  1.]\n",
      " [ 1.  1.  1.  1.]\n",
      " [ 1.  1.  1.  1.]]\n"
     ]
    }
   ],
   "source": [
    "print(x2)"
   ]
  },
  {
   "cell_type": "markdown",
   "metadata": {},
   "source": [
    "Esta característica es bastante útil ya que si trabajamos con datasets muy grandes, podremos acceder y procesar partes del dataset original, sin necesidad de hacer copias, y por tanto, sin sobrecargar la memoria.\n",
    "\n",
    "Aunque siempre tenemos la opción de realizar copias del array mediante la sentencia `copy()`"
   ]
  },
  {
   "cell_type": "code",
   "execution_count": 75,
   "metadata": {},
   "outputs": [
    {
     "name": "stdout",
     "output_type": "stream",
     "text": [
      "[[99.  1.]\n",
      " [ 1.  1.]]\n"
     ]
    }
   ],
   "source": [
    "x2_sub_copy = x2[:2, :2].copy()\n",
    "print(x2_sub_copy)"
   ]
  },
  {
   "cell_type": "markdown",
   "metadata": {},
   "source": [
    "Ahora si modificamos el subarray, el original se quedará como estaba"
   ]
  },
  {
   "cell_type": "code",
   "execution_count": 76,
   "metadata": {},
   "outputs": [
    {
     "name": "stdout",
     "output_type": "stream",
     "text": [
      "[[42.  1.]\n",
      " [ 1.  1.]]\n"
     ]
    }
   ],
   "source": [
    "x2_sub_copy[0, 0] = 42\n",
    "print(x2_sub_copy)"
   ]
  },
  {
   "cell_type": "code",
   "execution_count": 77,
   "metadata": {},
   "outputs": [
    {
     "name": "stdout",
     "output_type": "stream",
     "text": [
      "[[99.  1.  1.  1.]\n",
      " [ 1.  1.  1.  1.]\n",
      " [ 1.  1.  1.  1.]]\n"
     ]
    }
   ],
   "source": [
    "print(x2)"
   ]
  },
  {
   "cell_type": "markdown",
   "metadata": {},
   "source": [
    "## 12. Splitting\n",
    "Al igual que hacíamos el concatenado, podemos realizar la operación contraria mediante `np.split`, `np.hsplit` y `np.vsplit`. Le podemos pasar una lista de indices por los que realizar el split."
   ]
  },
  {
   "cell_type": "code",
   "execution_count": 78,
   "metadata": {},
   "outputs": [
    {
     "name": "stdout",
     "output_type": "stream",
     "text": [
      "[11 22 33] [99 99] [3 2 1]\n"
     ]
    }
   ],
   "source": [
    "x = [11, 22, 33, 99, 99, 3, 2, 1]\n",
    "x1, x2, x3 = np.split(x, [3, 5]) # [3,5] son los indices\n",
    "print(x1, x2, x3)"
   ]
  },
  {
   "cell_type": "markdown",
   "metadata": {},
   "source": [
    "N puntos de splitting, supone crear N + 1 subarrays nuevos.\n",
    "\n",
    "`np.hsplit` y `np.vsplit` funcionan de manera similar"
   ]
  },
  {
   "cell_type": "code",
   "execution_count": 74,
   "metadata": {},
   "outputs": [
    {
     "output_type": "execute_result",
     "data": {
      "text/plain": [
       "array([[ 0,  1,  2,  3],\n",
       "       [ 4,  5,  6,  7],\n",
       "       [ 8,  9, 10, 11],\n",
       "       [12, 13, 14, 15]])"
      ]
     },
     "metadata": {},
     "execution_count": 74
    }
   ],
   "source": [
    "grid = np.arange(16).reshape((4, 4))\n",
    "grid"
   ]
  },
  {
   "cell_type": "code",
   "execution_count": 78,
   "metadata": {},
   "outputs": [
    {
     "output_type": "stream",
     "name": "stdout",
     "text": [
      "[[0 1 2 3]\n [4 5 6 7]]\n[[ 8  9 10 11]\n [12 13 14 15]]\n"
     ]
    }
   ],
   "source": [
    "upper, lower = np.vsplit(grid, [2])\n",
    "print(upper)\n",
    "print(lower)"
   ]
  },
  {
   "cell_type": "code",
   "execution_count": 81,
   "metadata": {},
   "outputs": [
    {
     "name": "stdout",
     "output_type": "stream",
     "text": [
      "[[ 0  1]\n",
      " [ 4  5]\n",
      " [ 8  9]\n",
      " [12 13]]\n",
      "[[ 2  3]\n",
      " [ 6  7]\n",
      " [10 11]\n",
      " [14 15]]\n"
     ]
    }
   ],
   "source": [
    "left, right = np.hsplit(grid, [2])\n",
    "print(left)\n",
    "print(right)"
   ]
  },
  {
   "cell_type": "markdown",
   "metadata": {},
   "source": [
    "## 13. Agregaciones\n",
    "Cuando nos enfrentamos a una gran cantidad de datos, un primer paso es calcular estadísticos mediante agregaciones de los datos, como por ejemplo la media, mediana o la desviación estándar. Con estas medidads podemos resumir el conjunto de los datos.\n",
    "\n",
    "Numpy tiene una serie de funciones de agregación integradas rápidas para trabajar con sus matrices.\n",
    "\n",
    "#### Suma\n",
    "Como primer ejemplo, vamos a calcular la suma de los valores de un array. Lo podemos implementar con la función *built-in* de Python `sum`."
   ]
  },
  {
   "cell_type": "code",
   "execution_count": 79,
   "metadata": {},
   "outputs": [
    {
     "output_type": "execute_result",
     "data": {
      "text/plain": [
       "51.79986188151974"
      ]
     },
     "metadata": {},
     "execution_count": 79
    }
   ],
   "source": [
    "L = np.random.random(100)\n",
    "sum(L)"
   ]
  },
  {
   "cell_type": "markdown",
   "metadata": {},
   "source": [
    "La sintaxis para el caso de Numpy es muy similar"
   ]
  },
  {
   "cell_type": "code",
   "execution_count": 80,
   "metadata": {},
   "outputs": [
    {
     "output_type": "execute_result",
     "data": {
      "text/plain": [
       "51.79986188151974"
      ]
     },
     "metadata": {},
     "execution_count": 80
    }
   ],
   "source": [
    "np.sum(L)"
   ]
  },
  {
   "cell_type": "markdown",
   "metadata": {},
   "source": [
    "Sin embargo, Numpy es computacionalmente mucho más potente a la hora de realizar este tipo de cálculos"
   ]
  },
  {
   "cell_type": "code",
   "execution_count": 83,
   "metadata": {},
   "outputs": [
    {
     "output_type": "stream",
     "name": "stdout",
     "text": [
      "244 ms ± 28.4 ms per loop (mean ± std. dev. of 7 runs, 1 loop each)\n",
      "3.35 ms ± 104 µs per loop (mean ± std. dev. of 7 runs, 100 loops each)\n"
     ]
    }
   ],
   "source": [
    "big_array = np.random.rand(1000000)\n",
    "%timeit sum(big_array)\n",
    "%timeit np.sum(big_array)"
   ]
  },
  {
   "cell_type": "markdown",
   "metadata": {},
   "source": [
    "Como ves, la función `sum` y `np.sum` son funciones diferentes. No solo computacionalmente, sino que `np.sum` está preparada para trabajar con arrays multidimensionales."
   ]
  },
  {
   "cell_type": "markdown",
   "metadata": {},
   "source": [
    "#### Mínimo y Máximo\n",
    "Al igual que antes, Python dispone de las funciones `min` y `max`, utilizadas para obtener los valores mínimo y máximo de un array."
   ]
  },
  {
   "cell_type": "code",
   "execution_count": 84,
   "metadata": {},
   "outputs": [
    {
     "output_type": "execute_result",
     "data": {
      "text/plain": [
       "(1.3881805804860647e-07, 0.9999987257172723)"
      ]
     },
     "metadata": {},
     "execution_count": 84
    }
   ],
   "source": [
    "min(big_array), max(big_array)"
   ]
  },
  {
   "cell_type": "markdown",
   "metadata": {},
   "source": [
    "La función equivalente de Numpy tiene una sintaxis muy similar"
   ]
  },
  {
   "cell_type": "code",
   "execution_count": 85,
   "metadata": {},
   "outputs": [
    {
     "output_type": "execute_result",
     "data": {
      "text/plain": [
       "(1.3881805804860647e-07, 0.9999987257172723)"
      ]
     },
     "metadata": {},
     "execution_count": 85
    }
   ],
   "source": [
    "np.min(big_array), np.max(big_array)"
   ]
  },
  {
   "cell_type": "code",
   "execution_count": 87,
   "metadata": {},
   "outputs": [
    {
     "name": "stdout",
     "output_type": "stream",
     "text": [
      "126 ms ± 5.57 ms per loop (mean ± std. dev. of 7 runs, 10 loops each)\n",
      "546 µs ± 8.6 µs per loop (mean ± std. dev. of 7 runs, 1000 loops each)\n"
     ]
    }
   ],
   "source": [
    "%timeit min(big_array)\n",
    "%timeit np.min(big_array)"
   ]
  },
  {
   "cell_type": "markdown",
   "metadata": {},
   "source": [
    "Para `min`, `max, `sum` y otras funciones de agregación de Numpy, tienes disponible otra sintaxis, todavía más corta."
   ]
  },
  {
   "cell_type": "code",
   "execution_count": 88,
   "metadata": {},
   "outputs": [
    {
     "name": "stdout",
     "output_type": "stream",
     "text": [
      "5.823232201995765e-07 0.9999990367421666 500013.40687784384\n"
     ]
    }
   ],
   "source": [
    "print(big_array.min(), big_array.max(), big_array.sum())"
   ]
  },
  {
   "cell_type": "markdown",
   "metadata": {},
   "source": [
    "####  Agregaciones multidimensionales\n",
    "Un tipo de agregación muy habitual en Numpy es a lo largo de una fila, o de una columna."
   ]
  },
  {
   "cell_type": "code",
   "execution_count": 90,
   "metadata": {},
   "outputs": [
    {
     "output_type": "stream",
     "name": "stdout",
     "text": [
      "[[0.39806675 0.04328466 0.09451806 0.68332545]\n [0.24111331 0.60635558 0.34244025 0.09903691]\n [0.1902765  0.75918586 0.32679094 0.4638717 ]]\n"
     ]
    }
   ],
   "source": [
    "M = np.random.random((3, 4))\n",
    "print(M)"
   ]
  },
  {
   "cell_type": "markdown",
   "metadata": {},
   "source": [
    "Por defecto, cada función de agregación de Numpy se aplicará sobre toda la matriz"
   ]
  },
  {
   "cell_type": "code",
   "execution_count": 91,
   "metadata": {},
   "outputs": [
    {
     "output_type": "execute_result",
     "data": {
      "text/plain": [
       "4.24826597211485"
      ]
     },
     "metadata": {},
     "execution_count": 91
    }
   ],
   "source": [
    "M.sum()"
   ]
  },
  {
   "cell_type": "markdown",
   "metadata": {},
   "source": [
    "Las funciones de agregación tienen un parámetro en el que especificamos el eje sobre el cual queremos aplicar dicha operación. Por ejemplo, podemos conseguir el valor mínimo de cada columna, simplemente introduciendo el parámetro `axis=0`"
   ]
  },
  {
   "cell_type": "code",
   "execution_count": 95,
   "metadata": {},
   "outputs": [
    {
     "output_type": "execute_result",
     "data": {
      "text/plain": [
       "array([0.1902765 , 0.04328466, 0.09451806, 0.09903691])"
      ]
     },
     "metadata": {},
     "execution_count": 95
    }
   ],
   "source": [
    "M.min(axis=0)"
   ]
  },
  {
   "cell_type": "markdown",
   "metadata": {},
   "source": [
    "La función devuelve cuatro valores, que se corresponden con las cuatro columnas.\n",
    "\n",
    "Y de manera similar podemos obtener el valor máximo por fila."
   ]
  },
  {
   "cell_type": "code",
   "execution_count": 92,
   "metadata": {},
   "outputs": [
    {
     "data": {
      "text/plain": [
       "array([0.27746232, 0.67364594, 0.77363467])"
      ]
     },
     "execution_count": 92,
     "metadata": {},
     "output_type": "execute_result"
    }
   ],
   "source": [
    "M.max(axis=1)"
   ]
  },
  {
   "cell_type": "markdown",
   "metadata": {},
   "source": [
    "La manera en la que se especifica el eje puede ser confusa, sobretodo si vienes de otro lenguaje. El argumento `axis` especifica la dimension sobre la que queremos aplicar la operación, en vez de la dimension que queremos que nos devuelva. Por lo que poniendo `axis=0` significa que el primer eje se quedará fijo, y agregará los valores de cada columna\n",
    "\n",
    "#### Otras funciones de agregación\n",
    "Numpy proporciona muchísimas funciones de agregación por lo que no veremos todas en detalle este notebook. No obstante, sí que es interesante conocer aquellas funciones de numpy que están hechas para ignorar los missings, es decir los `NaN`. Aquí tienes una tabla con varias funciones de agregación de gran utilidad, así como sus versiones compatibles para missings.\n",
    "\n",
    "|Function Name      |   NaN-safe Version  | Description                                   |\n",
    "|-------------------|---------------------|-----------------------------------------------|\n",
    "| ``np.sum``        | ``np.nansum``       | Compute sum of elements                       |\n",
    "| ``np.prod``       | ``np.nanprod``      | Compute product of elements                   |\n",
    "| ``np.mean``       | ``np.nanmean``      | Compute mean of elements                      |\n",
    "| ``np.std``        | ``np.nanstd``       | Compute standard deviation                    |\n",
    "| ``np.var``        | ``np.nanvar``       | Compute variance                              |\n",
    "| ``np.min``        | ``np.nanmin``       | Find minimum value                            |\n",
    "| ``np.max``        | ``np.nanmax``       | Find maximum value                            |\n",
    "| ``np.argmin``     | ``np.nanargmin``    | Find index of minimum value                   |\n",
    "| ``np.argmax``     | ``np.nanargmax``    | Find index of maximum value                   |\n",
    "| ``np.median``     | ``np.nanmedian``    | Compute median of elements                    |\n",
    "| ``np.percentile`` | ``np.nanpercentile``| Compute rank-based statistics of elements     |\n",
    "| ``np.any``        | N/A                 | Evaluate whether any elements are true        |\n",
    "| ``np.all``        | N/A                 | Evaluate whether all elements are true        |"
   ]
  },
  {
   "cell_type": "markdown",
   "metadata": {},
   "source": [
    "### Ejemplo con pandas 🐼\n",
    "\n",
    "##### ¿Cuál es la estatura media de los presidentes de EEUU?\n",
    "Las funciones de agregación de Numpy pueden resultar de gran utilidad a la hora de resumir sets de datos. En este ejemplo vamos a considerar las diferentes estaturas de los presidentes de Estados Unidos. Tienes estos datos disponibles en el CSV *president_heights.csv*.\n",
    "\n",
    "Utilizaremos el paquete **pandas** para leer los datos."
   ]
  },
  {
   "cell_type": "code",
   "execution_count": 102,
   "metadata": {},
   "outputs": [
    {
     "output_type": "execute_result",
     "data": {
      "text/plain": [
       "'c:\\\\Users\\\\LeoFr\\\\Desktop\\\\BootCamp\\\\CARPETAS_profesorYalumno\\\\Leonardo.DataScience\\\\week4_EDA_np_pd_json_apis_regex\\\\day1_numpy_pandas_I\\\\theory\\\\numpy'"
      ]
     },
     "metadata": {},
     "execution_count": 102
    }
   ],
   "source": [
    "import os\n",
    "os.getcwd()"
   ]
  },
  {
   "cell_type": "code",
   "execution_count": 106,
   "metadata": {},
   "outputs": [
    {
     "output_type": "execute_result",
     "data": {
      "text/plain": [
       "   order               name  height(cm)\n",
       "0      1  George Washington         189\n",
       "1      2         John Adams         170\n",
       "2      3   Thomas Jefferson         189\n",
       "3      4      James Madison         163\n",
       "4      5       James Monroe         183"
      ],
      "text/html": "<div>\n<style scoped>\n    .dataframe tbody tr th:only-of-type {\n        vertical-align: middle;\n    }\n\n    .dataframe tbody tr th {\n        vertical-align: top;\n    }\n\n    .dataframe thead th {\n        text-align: right;\n    }\n</style>\n<table border=\"1\" class=\"dataframe\">\n  <thead>\n    <tr style=\"text-align: right;\">\n      <th></th>\n      <th>order</th>\n      <th>name</th>\n      <th>height(cm)</th>\n    </tr>\n  </thead>\n  <tbody>\n    <tr>\n      <th>0</th>\n      <td>1</td>\n      <td>George Washington</td>\n      <td>189</td>\n    </tr>\n    <tr>\n      <th>1</th>\n      <td>2</td>\n      <td>John Adams</td>\n      <td>170</td>\n    </tr>\n    <tr>\n      <th>2</th>\n      <td>3</td>\n      <td>Thomas Jefferson</td>\n      <td>189</td>\n    </tr>\n    <tr>\n      <th>3</th>\n      <td>4</td>\n      <td>James Madison</td>\n      <td>163</td>\n    </tr>\n    <tr>\n      <th>4</th>\n      <td>5</td>\n      <td>James Monroe</td>\n      <td>183</td>\n    </tr>\n  </tbody>\n</table>\n</div>"
     },
     "metadata": {},
     "execution_count": 106
    }
   ],
   "source": [
    "import pandas as pd\n",
    "import numpy as np\n",
    "\n",
    "data = pd.read_csv('../../data/president_heights.csv')\n",
    "\n",
    "data.head()"
   ]
  },
  {
   "cell_type": "code",
   "execution_count": 107,
   "metadata": {},
   "outputs": [
    {
     "output_type": "execute_result",
     "data": {
      "text/plain": [
       "array([189, 170, 189, 163, 183, 171, 185, 168, 173, 183, 173, 173, 175,\n",
       "       178, 183, 193, 178, 173, 174, 183, 183, 168, 170, 178, 182, 180,\n",
       "       183, 178, 182, 188, 175, 179, 183, 193, 182, 183, 177, 185, 188,\n",
       "       188, 182, 185], dtype=int64)"
      ]
     },
     "metadata": {},
     "execution_count": 107
    }
   ],
   "source": [
    "heights = np.array(data['height(cm)'])\n",
    "heights"
   ]
  },
  {
   "cell_type": "markdown",
   "metadata": {},
   "source": [
    "Ahora que tenemos los datos en un array podemos calcular una serie de estadísticos"
   ]
  },
  {
   "cell_type": "code",
   "execution_count": 12,
   "metadata": {},
   "outputs": [
    {
     "name": "stdout",
     "output_type": "stream",
     "text": [
      "Mean height:        179.73809523809524\n",
      "Standard deviation: 6.931843442745892\n",
      "Minimum height:     163\n",
      "Maximum height:     193\n"
     ]
    }
   ],
   "source": [
    "print(\"Mean height:       \", heights.mean())\n",
    "print(\"Standard deviation:\", heights.std())\n",
    "print(\"Minimum height:    \", heights.min())\n",
    "print(\"Maximum height:    \", heights.max())"
   ]
  },
  {
   "cell_type": "markdown",
   "metadata": {},
   "source": [
    "Fíjate que en cada operación de agregación, estamos reduciendo el array entero a un único valor, el cual nos da información sobre cómo se distribuyen los valores.\n",
    "\n",
    "Podemos ver también los cuartiles:"
   ]
  },
  {
   "cell_type": "code",
   "execution_count": 95,
   "metadata": {},
   "outputs": [
    {
     "name": "stdout",
     "output_type": "stream",
     "text": [
      "25th percentile:    174.25\n",
      "Median:             182.0\n",
      "75th percentile:    183.0\n"
     ]
    }
   ],
   "source": [
    "print(\"25th percentile:   \", np.percentile(heights, 25))\n",
    "print(\"Median:            \", np.median(heights))\n",
    "print(\"75th percentile:   \", np.percentile(heights, 75))"
   ]
  },
  {
   "cell_type": "markdown",
   "metadata": {},
   "source": [
    "Vemos que la altura mediana de los presidentes es de 182 cm.\n",
    "\n",
    "Por supuesto, en ocasiones resulta más útil desarrollar representaciones visuales de los datos, en vez de calcular simples estadísticos. Esto lo podemos hacer mediante librerías como seaborn o matplotlib."
   ]
  },
  {
   "cell_type": "code",
   "execution_count": 111,
   "metadata": {},
   "outputs": [],
   "source": [
    "%matplotlib inline\n",
    "import matplotlib.pyplot as plt\n",
    "import seaborn; seaborn.set()  # set plot style"
   ]
  },
  {
   "cell_type": "code",
   "execution_count": 97,
   "metadata": {},
   "outputs": [
    {
     "data": {
      "image/png": "[encoded data removed]",
      "text/plain": [
       "<Figure size 432x288 with 1 Axes>"
      ]
     },
     "metadata": {},
     "output_type": "display_data"
    }
   ],
   "source": [
    "plt.hist(heights)\n",
    "plt.title('Height Distribution of US Presidents')\n",
    "plt.xlabel('height (cm)')\n",
    "plt.ylabel('number');"
   ]
  }
 ],
 "metadata": {
  "kernelspec": {
   "name": "python374jvsc74a57bd0a0947237fadc8b5561fed326db280cc5ec46a670c87cfb3a0489cf95ff262303",
   "display_name": "Python 3.7.4 64-bit"
  },
  "language_info": {
   "codemirror_mode": {
    "name": "ipython",
    "version": 3
   },
   "file_extension": ".py",
   "mimetype": "text/x-python",
   "name": "python",
   "nbconvert_exporter": "python",
   "pygments_lexer": "ipython3",
   "version": "3.7.4"
  },
  "metadata": {
   "interpreter": {
    "hash": "a0947237fadc8b5561fed326db280cc5ec46a670c87cfb3a0489cf95ff262303"
   }
  }
 },
 "nbformat": 4,
 "nbformat_minor": 4
}