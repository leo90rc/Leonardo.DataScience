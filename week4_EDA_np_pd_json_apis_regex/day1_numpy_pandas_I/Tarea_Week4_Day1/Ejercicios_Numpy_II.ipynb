{
  "nbformat": 4,
  "nbformat_minor": 0,
  "metadata": {
    "kernelspec": {
      "name": "python374jvsc74a57bd0a0947237fadc8b5561fed326db280cc5ec46a670c87cfb3a0489cf95ff262303",
      "display_name": "Python 3.7.4 64-bit"
    },
    "language_info": {
      "codemirror_mode": {
        "name": "ipython",
        "version": 3
      },
      "file_extension": ".py",
      "mimetype": "text/x-python",
      "name": "python",
      "nbconvert_exporter": "python",
      "pygments_lexer": "ipython3",
      "version": "3.7.4"
    },
    "colab": {
      "name": "Ejercicios Numpy II.ipynb",
      "provenance": []
    },
    "metadata": {
      "interpreter": {
        "hash": "a0947237fadc8b5561fed326db280cc5ec46a670c87cfb3a0489cf95ff262303"
      }
    }
  },
  "cells": [
    {
      "cell_type": "markdown",
      "metadata": {
        "id": "wT-GsHzACMub"
      },
      "source": [
        "# Ejercicios Numpy II"
      ]
    },
    {
      "cell_type": "markdown",
      "metadata": {
        "id": "FA84h-5kCMuc"
      },
      "source": [
        "## Ejercicio 1\n",
        "1. Crea un array que vaya del 0 al 9 y que se llame `my_array`\n",
        "2. Imprime por pantalla los elementos [9 7 5 3 1] en ese orden."
      ]
    },
    {
      "cell_type": "code",
      "metadata": {
        "id": "8lg0gMQACMud"
      },
      "source": [
        "import numpy as np"
      ],
      "execution_count": 1,
      "outputs": []
    },
    {
      "cell_type": "code",
      "execution_count": 2,
      "metadata": {},
      "outputs": [
        {
          "output_type": "execute_result",
          "data": {
            "text/plain": [
              "array([0, 1, 2, 3, 4, 5, 6, 7, 8, 9])"
            ]
          },
          "metadata": {},
          "execution_count": 2
        }
      ],
      "source": [
        "my_array = np.arange(10)\n",
        "my_array"
      ]
    },
    {
      "cell_type": "code",
      "execution_count": 6,
      "metadata": {},
      "outputs": [
        {
          "output_type": "execute_result",
          "data": {
            "text/plain": [
              "array([9, 7, 5, 3, 1])"
            ]
          },
          "metadata": {},
          "execution_count": 6
        }
      ],
      "source": [
        "my_array[-1::-2]"
      ]
    },
    {
      "cell_type": "markdown",
      "metadata": {
        "id": "2te9Lg8zCMud"
      },
      "source": [
        "## Ejercicio 2\n",
        "Imprime por pantalla la secuencia [[8 7]] del array `my_array`"
      ]
    },
    {
      "cell_type": "code",
      "metadata": {
        "id": "CGp3h9TFCMue"
      },
      "source": [
        "my_array[-2:-4:-1]"
      ],
      "execution_count": 7,
      "outputs": [
        {
          "output_type": "execute_result",
          "data": {
            "text/plain": [
              "array([8, 7])"
            ]
          },
          "metadata": {},
          "execution_count": 7
        }
      ]
    },
    {
      "cell_type": "markdown",
      "metadata": {
        "id": "QpdXb6-HCMue"
      },
      "source": [
        "## Ejercicio 3\n",
        "Imprime por pantalla la secuencia [[2 1 0]] de `my_array`"
      ]
    },
    {
      "cell_type": "code",
      "metadata": {
        "id": "dwx3R2iJCMue"
      },
      "source": [
        "my_array[2::-1]"
      ],
      "execution_count": 15,
      "outputs": [
        {
          "output_type": "execute_result",
          "data": {
            "text/plain": [
              "array([2, 1, 0])"
            ]
          },
          "metadata": {},
          "execution_count": 15
        }
      ]
    },
    {
      "cell_type": "markdown",
      "metadata": {
        "id": "sEixruVTCMue"
      },
      "source": [
        "## Ejercicio 4\n",
        "1. Crea una matriz de 4x5, con una secuencia del 1 al 20\n",
        "2. Invierte totalmente la matriz. Tanto las filas, como las columnas"
      ]
    },
    {
      "cell_type": "code",
      "metadata": {
        "id": "ZjkPf3slCMuf"
      },
      "source": [
        "array4 = np.arange(1,21).reshape(4,5)\n",
        "array4"
      ],
      "execution_count": 39,
      "outputs": [
        {
          "output_type": "execute_result",
          "data": {
            "text/plain": [
              "array([[ 1,  2,  3,  4,  5],\n",
              "       [ 6,  7,  8,  9, 10],\n",
              "       [11, 12, 13, 14, 15],\n",
              "       [16, 17, 18, 19, 20]])"
            ]
          },
          "metadata": {},
          "execution_count": 39
        }
      ]
    },
    {
      "cell_type": "code",
      "execution_count": 41,
      "metadata": {},
      "outputs": [
        {
          "output_type": "execute_result",
          "data": {
            "text/plain": [
              "array([[ 1,  6, 11, 16],\n",
              "       [ 2,  7, 12, 17],\n",
              "       [ 3,  8, 13, 18],\n",
              "       [ 4,  9, 14, 19],\n",
              "       [ 5, 10, 15, 20]])"
            ]
          },
          "metadata": {},
          "execution_count": 41
        }
      ],
      "source": [
        "array4.T"
      ]
    },
    {
      "cell_type": "code",
      "execution_count": 52,
      "metadata": {},
      "outputs": [
        {
          "output_type": "execute_result",
          "data": {
            "text/plain": [
              "array([[ 1,  6, 11, 16],\n",
              "       [ 2,  7, 12, 17],\n",
              "       [ 3,  8, 13, 18],\n",
              "       [ 4,  9, 14, 19],\n",
              "       [ 5, 10, 15, 20]])"
            ]
          },
          "metadata": {},
          "execution_count": 52
        }
      ],
      "source": [
        "# También entiendo que se puede hacer con:\n",
        "\n",
        "array4.transpose()\n",
        "\n",
        "# No entiendo la diferencia entre una y otra."
      ]
    },
    {
      "cell_type": "markdown",
      "metadata": {
        "id": "gM18oriNCMuf"
      },
      "source": [
        "## Ejercicio 5\n",
        "\n",
        "Obtén el siguiente array, partiendo de la matriz del ejercicio 4\n",
        "```Python\n",
        "array([[1, 2],\n",
        "       [6, 7]])\n",
        "```"
      ]
    },
    {
      "cell_type": "code",
      "execution_count": 61,
      "metadata": {},
      "outputs": [
        {
          "output_type": "execute_result",
          "data": {
            "text/plain": [
              "array([[1, 2],\n",
              "       [6, 7]])"
            ]
          },
          "metadata": {},
          "execution_count": 61
        }
      ],
      "source": [
        "array4[:2,:2]"
      ]
    },
    {
      "cell_type": "markdown",
      "metadata": {
        "id": "PuaztWxnCMuf"
      },
      "source": [
        "## Ejercicio 6\n",
        "Obtén el siguiente array, partiendo de la matriz del ejercicio 4\n",
        "```Python\n",
        "array([[ 1,  3,  5],\n",
        "       [11, 13, 15]])\n",
        "```"
      ]
    },
    {
      "cell_type": "code",
      "metadata": {
        "id": "QB12bASVCMug"
      },
      "source": [
        "array4"
      ],
      "execution_count": 68,
      "outputs": [
        {
          "output_type": "execute_result",
          "data": {
            "text/plain": [
              "array([[ 1,  2,  3,  4,  5],\n",
              "       [ 6,  7,  8,  9, 10],\n",
              "       [11, 12, 13, 14, 15],\n",
              "       [16, 17, 18, 19, 20]])"
            ]
          },
          "metadata": {},
          "execution_count": 68
        }
      ]
    },
    {
      "cell_type": "code",
      "execution_count": 69,
      "metadata": {},
      "outputs": [
        {
          "output_type": "execute_result",
          "data": {
            "text/plain": [
              "array([[ 1,  3,  5],\n",
              "       [11, 13, 15]])"
            ]
          },
          "metadata": {},
          "execution_count": 69
        }
      ],
      "source": [
        "array4[0:3:2,::2]"
      ]
    },
    {
      "cell_type": "markdown",
      "metadata": {
        "id": "EcwFC6fPCMug"
      },
      "source": [
        "## Ejercicio 7\n",
        "Obtén el siguiente array, partiendo de la matriz del ejercicio 4\n",
        "```Python\n",
        "array([[ 5,  4,  3,  2,  1],\n",
        "       [10,  9,  8,  7,  6],\n",
        "       [15, 14, 13, 12, 11]])\n",
        "```"
      ]
    },
    {
      "cell_type": "code",
      "metadata": {
        "id": "oiMCiy0dCMug"
      },
      "source": [
        "array4"
      ],
      "execution_count": 70,
      "outputs": [
        {
          "output_type": "execute_result",
          "data": {
            "text/plain": [
              "array([[ 1,  2,  3,  4,  5],\n",
              "       [ 6,  7,  8,  9, 10],\n",
              "       [11, 12, 13, 14, 15],\n",
              "       [16, 17, 18, 19, 20]])"
            ]
          },
          "metadata": {},
          "execution_count": 70
        }
      ]
    },
    {
      "cell_type": "code",
      "execution_count": 77,
      "metadata": {},
      "outputs": [
        {
          "output_type": "execute_result",
          "data": {
            "text/plain": [
              "array([[ 5,  4,  3,  2,  1],\n",
              "       [10,  9,  8,  7,  6],\n",
              "       [15, 14, 13, 12, 11]])"
            ]
          },
          "metadata": {},
          "execution_count": 77
        }
      ],
      "source": [
        "array4[0:3,::-1]"
      ]
    },
    {
      "cell_type": "markdown",
      "metadata": {
        "id": "F4GGL-00CMug"
      },
      "source": [
        "## Ejercicio 8\n",
        "Dado el siguiente array:\n",
        "\n",
        "```Python\n",
        "x = np.array([\"Loro\", \"Perro\", \"Gato\", \"Loro\", \"Perro\"])\n",
        "```\n",
        "\n",
        "Filtra el array para quedarte únicamente con los loros.\n",
        "\n",
        "Resuélvelo de dos maneras diferentes"
      ]
    },
    {
      "cell_type": "code",
      "metadata": {
        "id": "k_mSu1wdCMuh"
      },
      "source": [
        "x = np.array([\"Loro\", \"Perro\", \"Gato\", \"Loro\", \"Perro\"])\n",
        "x"
      ],
      "execution_count": 79,
      "outputs": [
        {
          "output_type": "execute_result",
          "data": {
            "text/plain": [
              "array(['Loro', 'Perro', 'Gato', 'Loro', 'Perro'], dtype='<U5')"
            ]
          },
          "metadata": {},
          "execution_count": 79
        }
      ]
    },
    {
      "cell_type": "code",
      "metadata": {
        "id": "jfWL4n7hCMuh"
      },
      "source": [
        "x_bool = x == 'Loro'\n",
        "print(x_bool)\n",
        "print(x[x_bool])"
      ],
      "execution_count": 84,
      "outputs": [
        {
          "output_type": "stream",
          "name": "stdout",
          "text": [
            "[ True False False  True False]\n['Loro' 'Loro']\n"
          ]
        }
      ]
    },
    {
      "cell_type": "code",
      "execution_count": 86,
      "metadata": {},
      "outputs": [
        {
          "output_type": "stream",
          "name": "stdout",
          "text": [
            "['Loro' 'Loro']\n"
          ]
        }
      ],
      "source": [
        "print(x[x == 'Loro'])            # No sé si éstas serían las 2 maneras como se pretende que lo haga."
      ]
    },
    {
      "cell_type": "markdown",
      "metadata": {
        "id": "g5aLU_W0CMuh"
      },
      "source": [
        "## Ejercicio 9\n",
        "Crea una secuencia de 20 elementos y transformala en un array compuesto por 2 matrices de 5x2"
      ]
    },
    {
      "cell_type": "code",
      "metadata": {
        "id": "qBAJX48KCMuh"
      },
      "source": [
        "array9 = np.arange(20).reshape(2,5,2)\n",
        "array9"
      ],
      "execution_count": 89,
      "outputs": [
        {
          "output_type": "execute_result",
          "data": {
            "text/plain": [
              "array([[[ 0,  1],\n",
              "        [ 2,  3],\n",
              "        [ 4,  5],\n",
              "        [ 6,  7],\n",
              "        [ 8,  9]],\n",
              "\n",
              "       [[10, 11],\n",
              "        [12, 13],\n",
              "        [14, 15],\n",
              "        [16, 17],\n",
              "        [18, 19]]])"
            ]
          },
          "metadata": {},
          "execution_count": 89
        }
      ]
    },
    {
      "cell_type": "markdown",
      "metadata": {
        "id": "ep8HnWuzCMuh"
      },
      "source": [
        "## Ejercicio 10\n",
        "Obtén el siguiente array, partiendo de la matriz del **ejercicio 4**\n",
        "```Python\n",
        "array([[20, 19, 18, 17, 16],\n",
        "       [15, 14, 13, 12, 11],\n",
        "       [10,  9,  8,  7,  6],\n",
        "       [ 5,  4,  3,  2,  1]])\n",
        "```"
      ]
    },
    {
      "cell_type": "code",
      "metadata": {
        "id": "aPz5zfzoCMui"
      },
      "source": [
        "array4"
      ],
      "execution_count": 148,
      "outputs": [
        {
          "output_type": "execute_result",
          "data": {
            "text/plain": [
              "array([[ 1,  2,  3,  4,  5],\n",
              "       [ 6,  7,  8,  9, 10],\n",
              "       [11, 12, 13, 14, 15],\n",
              "       [16, 17, 18, 19, 20]])"
            ]
          },
          "metadata": {},
          "execution_count": 148
        }
      ]
    },
    {
      "cell_type": "code",
      "execution_count": 91,
      "metadata": {},
      "outputs": [
        {
          "output_type": "execute_result",
          "data": {
            "text/plain": [
              "array([[20, 19, 18, 17, 16],\n",
              "       [15, 14, 13, 12, 11],\n",
              "       [10,  9,  8,  7,  6],\n",
              "       [ 5,  4,  3,  2,  1]])"
            ]
          },
          "metadata": {},
          "execution_count": 91
        }
      ],
      "source": [
        "array4[::-1,::-1]"
      ]
    },
    {
      "cell_type": "markdown",
      "metadata": {
        "id": "_jqt2R2oCMui"
      },
      "source": [
        "## Ejercicio 11\n",
        "Crea un array de 10 0s. ¿Cuánto ocupa en memoria?\n",
        "\n",
        "Sustituye el 4to elemento por 1, e imprime el array por pantalla"
      ]
    },
    {
      "cell_type": "code",
      "metadata": {
        "id": "cJO6zwoOCMui"
      },
      "source": [
        "array11 = np.zeros(10)\n",
        "array11"
      ],
      "execution_count": 95,
      "outputs": [
        {
          "output_type": "execute_result",
          "data": {
            "text/plain": [
              "array([0., 0., 0., 0., 0., 0., 0., 0., 0., 0.])"
            ]
          },
          "metadata": {},
          "execution_count": 95
        }
      ]
    },
    {
      "cell_type": "code",
      "execution_count": 96,
      "metadata": {},
      "outputs": [
        {
          "output_type": "execute_result",
          "data": {
            "text/plain": [
              "8"
            ]
          },
          "metadata": {},
          "execution_count": 96
        }
      ],
      "source": [
        "array11.itemsize"
      ]
    },
    {
      "cell_type": "code",
      "execution_count": 99,
      "metadata": {},
      "outputs": [
        {
          "output_type": "stream",
          "name": "stdout",
          "text": [
            "[0. 0. 0. 1. 0. 0. 0. 0. 0. 0.]\n"
          ]
        }
      ],
      "source": [
        "array11[3] = 1\n",
        "print(array11)"
      ]
    },
    {
      "cell_type": "markdown",
      "metadata": {
        "id": "eDCanUwnCMui"
      },
      "source": [
        "## Ejercicio 12\n",
        "Crea un vector que vaya del 10 al 49\n",
        "\n",
        "Inviértelo"
      ]
    },
    {
      "cell_type": "code",
      "metadata": {
        "id": "mxt-DnxzCMui"
      },
      "source": [
        "vector12 = np.arange(10,50)\n",
        "print(vector12)\n",
        "vector12.shape\n",
        "vector12.ndim"
      ],
      "execution_count": 141,
      "outputs": [
        {
          "output_type": "stream",
          "name": "stdout",
          "text": [
            "[10 11 12 13 14 15 16 17 18 19 20 21 22 23 24 25 26 27 28 29 30 31 32 33\n 34 35 36 37 38 39 40 41 42 43 44 45 46 47 48 49]\n"
          ]
        },
        {
          "output_type": "execute_result",
          "data": {
            "text/plain": [
              "1"
            ]
          },
          "metadata": {},
          "execution_count": 141
        }
      ]
    },
    {
      "cell_type": "code",
      "execution_count": 142,
      "metadata": {},
      "outputs": [
        {
          "output_type": "stream",
          "name": "stdout",
          "text": [
            "[[10]\n [11]\n [12]\n [13]\n [14]\n [15]\n [16]\n [17]\n [18]\n [19]\n [20]\n [21]\n [22]\n [23]\n [24]\n [25]\n [26]\n [27]\n [28]\n [29]\n [30]\n [31]\n [32]\n [33]\n [34]\n [35]\n [36]\n [37]\n [38]\n [39]\n [40]\n [41]\n [42]\n [43]\n [44]\n [45]\n [46]\n [47]\n [48]\n [49]]\n"
          ]
        },
        {
          "output_type": "execute_result",
          "data": {
            "text/plain": [
              "2"
            ]
          },
          "metadata": {},
          "execution_count": 142
        }
      ],
      "source": [
        "print(vector12[:,np.newaxis])\n",
        "vector12[:,np.newaxis].shape\n",
        "vector12[:,np.newaxis].ndim"
      ]
    },
    {
      "cell_type": "markdown",
      "metadata": {
        "id": "b1NcMVcHCMuj"
      },
      "source": [
        "## Ejericio 13\n",
        "Encuentra los indices de los valores que no sean 0 del siguiente vector [[1,2,0,0,4,0]]. El output sería [[0, 1, 4]]. [Encuentra el método apropiado en la documentación.](https://numpy.org/doc/)"
      ]
    },
    {
      "cell_type": "code",
      "execution_count": 144,
      "metadata": {},
      "outputs": [
        {
          "output_type": "execute_result",
          "data": {
            "text/plain": [
              "array([1, 2, 0, 0, 4, 0])"
            ]
          },
          "metadata": {},
          "execution_count": 144
        }
      ],
      "source": [
        "vector13 = np.array([1,2,0,0,4,0])\n",
        "vector13"
      ]
    },
    {
      "cell_type": "code",
      "execution_count": 152,
      "metadata": {},
      "outputs": [
        {
          "output_type": "execute_result",
          "data": {
            "text/plain": [
              "(array([0, 1, 4], dtype=int64),)"
            ]
          },
          "metadata": {},
          "execution_count": 152
        }
      ],
      "source": [
        "np.nonzero(vector13)"
      ]
    },
    {
      "cell_type": "markdown",
      "metadata": {
        "id": "rj-ap5ErCMuj"
      },
      "source": [
        "## Ejercicio 14\n",
        "Crea una matriz de numeros aleatorios 10x10. Encuentra los valores mínimo y máximo."
      ]
    },
    {
      "cell_type": "code",
      "metadata": {
        "id": "ZAI4CAomCMuj"
      },
      "source": [
        "array14 = np.random.randint(100, size=(10,10))\n",
        "array14"
      ],
      "execution_count": 111,
      "outputs": [
        {
          "output_type": "execute_result",
          "data": {
            "text/plain": [
              "array([[94, 19, 24, 14, 33, 77, 96, 41,  6,  7],\n",
              "       [55, 56, 93, 19, 14, 96, 19, 62, 29,  2],\n",
              "       [84, 23, 35, 49, 99,  5, 69, 71, 77, 28],\n",
              "       [83,  2, 54, 58, 49,  4, 66, 75, 95, 23],\n",
              "       [95, 27, 15, 30, 70, 43, 23, 65,  1, 55],\n",
              "       [32, 58, 47, 95, 14, 76, 45, 62, 36, 21],\n",
              "       [57, 92, 75, 63, 22, 12, 37, 13, 33, 15],\n",
              "       [57,  9, 19, 16, 12, 25, 74, 12, 45, 63],\n",
              "       [98, 25, 35, 30, 30, 56, 32, 92,  2, 77],\n",
              "       [41, 45,  0, 49, 72, 85, 46, 12, 35,  1]])"
            ]
          },
          "metadata": {},
          "execution_count": 111
        }
      ]
    },
    {
      "cell_type": "code",
      "execution_count": 113,
      "metadata": {},
      "outputs": [
        {
          "output_type": "execute_result",
          "data": {
            "text/plain": [
              "0"
            ]
          },
          "metadata": {},
          "execution_count": 113
        }
      ],
      "source": [
        "np.min(array14)"
      ]
    },
    {
      "cell_type": "code",
      "execution_count": 153,
      "metadata": {},
      "outputs": [
        {
          "output_type": "execute_result",
          "data": {
            "text/plain": [
              "99"
            ]
          },
          "metadata": {},
          "execution_count": 153
        }
      ],
      "source": [
        "np.max(array14)"
      ]
    },
    {
      "cell_type": "markdown",
      "metadata": {
        "id": "m8pNH0o-CMuj"
      },
      "source": [
        "## Ejercicio 15\n",
        "Crea un vector aleatorio de tamaño 30 y calcula su media"
      ]
    },
    {
      "cell_type": "code",
      "metadata": {
        "id": "ROCev_AfCMuj"
      },
      "source": [
        "array15 = np.random.randint(30, size=30)\n",
        "array15"
      ],
      "execution_count": 116,
      "outputs": [
        {
          "output_type": "execute_result",
          "data": {
            "text/plain": [
              "array([13, 25, 20, 13, 11,  3,  3, 11,  4, 26, 18,  4, 23, 12, 16, 28, 27,\n",
              "        8, 21, 20, 17,  1,  1, 20, 18,  0,  4, 11, 29, 23])"
            ]
          },
          "metadata": {},
          "execution_count": 116
        }
      ]
    },
    {
      "cell_type": "code",
      "execution_count": 118,
      "metadata": {},
      "outputs": [
        {
          "output_type": "execute_result",
          "data": {
            "text/plain": [
              "14.333333333333334"
            ]
          },
          "metadata": {},
          "execution_count": 118
        }
      ],
      "source": [
        "np.mean(array15)"
      ]
    },
    {
      "cell_type": "markdown",
      "metadata": {
        "id": "acmPG6HKCMuk"
      },
      "source": [
        "## Ejercicio 16\n",
        "Crea un array cuadrado de 2D, con las dimensiones que quieras, pero que todo el borde esté compuesto por 1s, y el interior por 0s"
      ]
    },
    {
      "cell_type": "code",
      "metadata": {
        "id": "v_SdOTPQCMuk"
      },
      "source": [
        "array16 = np.zeros(30).reshape(5,6)\n",
        "array16"
      ],
      "execution_count": 126,
      "outputs": [
        {
          "output_type": "execute_result",
          "data": {
            "text/plain": [
              "array([[0., 0., 0., 0., 0., 0.],\n",
              "       [0., 0., 0., 0., 0., 0.],\n",
              "       [0., 0., 0., 0., 0., 0.],\n",
              "       [0., 0., 0., 0., 0., 0.],\n",
              "       [0., 0., 0., 0., 0., 0.]])"
            ]
          },
          "metadata": {},
          "execution_count": 126
        }
      ]
    },
    {
      "cell_type": "code",
      "execution_count": 129,
      "metadata": {},
      "outputs": [],
      "source": [
        "array16[:5:4] = 1\n",
        "array16[:,:6:5] = 1"
      ]
    },
    {
      "cell_type": "code",
      "execution_count": 130,
      "metadata": {},
      "outputs": [
        {
          "output_type": "execute_result",
          "data": {
            "text/plain": [
              "array([[1., 1., 1., 1., 1., 1.],\n",
              "       [1., 0., 0., 0., 0., 1.],\n",
              "       [1., 0., 0., 0., 0., 1.],\n",
              "       [1., 0., 0., 0., 0., 1.],\n",
              "       [1., 1., 1., 1., 1., 1.]])"
            ]
          },
          "metadata": {},
          "execution_count": 130
        }
      ],
      "source": [
        "array16"
      ]
    },
    {
      "cell_type": "markdown",
      "metadata": {
        "id": "dJkk7FwXCMuk"
      },
      "source": [
        "## Ejercicio 17\n",
        "Crea una matriz de 8x8, y rellénala con 0s y 1s. Tienes que replicar:\n",
        "```Python\n",
        "[[0 1 0 1 0 1 0 1]\n",
        " [1 0 1 0 1 0 1 0]\n",
        " [0 1 0 1 0 1 0 1]\n",
        " [1 0 1 0 1 0 1 0]\n",
        " [0 1 0 1 0 1 0 1]\n",
        " [1 0 1 0 1 0 1 0]\n",
        " [0 1 0 1 0 1 0 1]\n",
        " [1 0 1 0 1 0 1 0]]\n",
        "```"
      ]
    },
    {
      "cell_type": "code",
      "metadata": {
        "id": "Wsh15bQjCMuk"
      },
      "source": [
        "array17 = np.array([0,1])\n",
        "array17_1 = np.hstack([array17, array17, array17, array17])\n",
        "print(array17_1)\n",
        "print('-----------------')\n",
        "array17_2 = np.where(array17_1 == 0, 1, 0)\n",
        "print(array17_2)\n",
        "array17_final = np.vstack([(array17_1, array17_2)*4])\n",
        "array17_final"
      ],
      "execution_count": 169,
      "outputs": [
        {
          "output_type": "stream",
          "name": "stdout",
          "text": [
            "[0 1 0 1 0 1 0 1]\n-----------------\n[1 0 1 0 1 0 1 0]\n"
          ]
        },
        {
          "output_type": "execute_result",
          "data": {
            "text/plain": [
              "array([[0, 1, 0, 1, 0, 1, 0, 1],\n",
              "       [1, 0, 1, 0, 1, 0, 1, 0],\n",
              "       [0, 1, 0, 1, 0, 1, 0, 1],\n",
              "       [1, 0, 1, 0, 1, 0, 1, 0],\n",
              "       [0, 1, 0, 1, 0, 1, 0, 1],\n",
              "       [1, 0, 1, 0, 1, 0, 1, 0],\n",
              "       [0, 1, 0, 1, 0, 1, 0, 1],\n",
              "       [1, 0, 1, 0, 1, 0, 1, 0]])"
            ]
          },
          "metadata": {},
          "execution_count": 169
        }
      ]
    },
    {
      "cell_type": "markdown",
      "metadata": {
        "id": "QqrUBBTVCMuk"
      },
      "source": [
        "## Ejercicio 18\n",
        "Replica la matriz del apartado anterior, pero en este caso usando [la función `tile`](https://numpy.org/doc/stable/reference/generated/numpy.tile.html)"
      ]
    },
    {
      "cell_type": "code",
      "metadata": {
        "id": "0Pse3EUfCMul"
      },
      "source": [
        "array18 = np.array([[0,1],[1,0]])\n",
        "print(array18)\n",
        "array18 = np.tile(array18, (4, 4))\n",
        "array18"
      ],
      "execution_count": 178,
      "outputs": [
        {
          "output_type": "stream",
          "name": "stdout",
          "text": [
            "[[0 1]\n [1 0]]\n"
          ]
        },
        {
          "output_type": "execute_result",
          "data": {
            "text/plain": [
              "array([[0, 1, 0, 1, 0, 1, 0, 1],\n",
              "       [1, 0, 1, 0, 1, 0, 1, 0],\n",
              "       [0, 1, 0, 1, 0, 1, 0, 1],\n",
              "       [1, 0, 1, 0, 1, 0, 1, 0],\n",
              "       [0, 1, 0, 1, 0, 1, 0, 1],\n",
              "       [1, 0, 1, 0, 1, 0, 1, 0],\n",
              "       [0, 1, 0, 1, 0, 1, 0, 1],\n",
              "       [1, 0, 1, 0, 1, 0, 1, 0]])"
            ]
          },
          "metadata": {},
          "execution_count": 178
        }
      ]
    },
    {
      "cell_type": "markdown",
      "metadata": {
        "id": "lNwI-fNpCMul"
      },
      "source": [
        "## Ejercicio 19\n",
        "Crea una matriz aleatoria de 5x5 y normaliza sus valores. Para normalizar tienes que restar sus valores por la media(`np.mean`) y dividir el resultado por la desviación estándar(`np.std`)."
      ]
    },
    {
      "cell_type": "code",
      "metadata": {
        "id": "5ah9A766CMul"
      },
      "source": [
        "array19 = np.random.randint(10, size=(5,5))\n",
        "print(array19)\n",
        "(array19 - np.mean(array19)) / np.std(array19)"
      ],
      "execution_count": 183,
      "outputs": [
        {
          "output_type": "stream",
          "name": "stdout",
          "text": [
            "[[8 0 1 1 4]\n [9 6 8 3 4]\n [3 5 7 0 0]\n [8 3 9 7 5]\n [9 9 4 3 6]]\n"
          ]
        },
        {
          "output_type": "execute_result",
          "data": {
            "text/plain": [
              "array([[ 1.03623037, -1.62077058, -1.28864546, -1.28864546, -0.29227011],\n",
              "       [ 1.36835549,  0.37198013,  1.03623037, -0.62439522, -0.29227011],\n",
              "       [-0.62439522,  0.03985501,  0.70410525, -1.62077058, -1.62077058],\n",
              "       [ 1.03623037, -0.62439522,  1.36835549,  0.70410525,  0.03985501],\n",
              "       [ 1.36835549,  1.36835549, -0.29227011, -0.62439522,  0.37198013]])"
            ]
          },
          "metadata": {},
          "execution_count": 183
        }
      ]
    },
    {
      "cell_type": "markdown",
      "metadata": {
        "id": "67rQP2BkCMul"
      },
      "source": [
        "## Ejercicio 20\n",
        "1. Crea una secuencia de números que vayan del 0 al 10.\n",
        "2. Crea un nuevo array, que parta del anterior, pero sustituya todos los elementos entre el 3 y el 8, por el valor -1\n",
        "3. Crea un nuevo array que niegue todos los elementos entre el 3 y el 8"
      ]
    },
    {
      "cell_type": "code",
      "metadata": {
        "id": "UE6t4Xh7CMul"
      },
      "source": [
        "array20_1 = np.arange(11)\n",
        "print(array20_1)\n",
        "array20_2 = np.copy(array20_1)\n",
        "array20_2[4:8] = -1\n",
        "print(array20_2)\n",
        "array20_3 = np.copy(array20_2)\n",
        "array20_3 = np.where(array20_3 == -1, np.nan, array20_3)\n",
        "print(array20_3)\n"
      ],
      "execution_count": 196,
      "outputs": [
        {
          "output_type": "stream",
          "name": "stdout",
          "text": [
            "[ 0  1  2  3  4  5  6  7  8  9 10]\n[ 0  1  2  3 -1 -1 -1 -1  8  9 10]\n[ 0.  1.  2.  3. nan nan nan nan  8.  9. 10.]\n"
          ]
        }
      ]
    },
    {
      "cell_type": "markdown",
      "metadata": {
        "id": "fX23ZZ0XCMum"
      },
      "source": [
        "## Ejercicio 21 \n",
        "#### Bonus track. Mini hundir la flota para ir practicando.\n",
        "##### Te ayudará a entender la lógica de la tarea Hundir la Flota.\n",
        "1. Crea un tablero de 10x10 relleno del carácter espacio ( ).\n",
        "2. Posiciona un par de barcos en [(0,1), (1,1)] y [(1,3), (1,4), (1,5), (1,6)]. Los barcos serán Os mayúsculas. Como ves, un barco de dos posiciones de eslora y otro de cuatro.\n",
        "3. Recibe un disparo en uno de los barcos, sustituyendo la O por una X\n",
        "4. Recibe un disparo en agua, sustituyendo uno de los espacios por un guión: -\n",
        "5. Ignorando los disparos recibidos, ahora prueba a posicionar otro barco de 4 posiciones dentro del tablero, pero **de manera ALEATORIA.**\n",
        "\n",
        "**TIP apartado 5**: El barco tendrá una posición inicial aleatoria dentro del tablero, y una orientación también aleatoria (N,S,E,O).\n",
        "\n",
        "Por ejemplo, si tu posicion inicial fuese (5,0) y la orientación O, no podrias ponerlo porque se sale del tablero. Ahora bien, si fuese orientación este, si podrías, y ocuparía las posiciones [(5,0), (5,1), (5,2), (5,3)]. Por tanto tendrás que iterar con un bucle si es posible encajar el barco en el tablero, y el bucle terminará cuando lo consigas encajar. **Ojo con las posiciones donde ya hay barco!!!**\n",
        "\n",
        "Usa `import random` para elegir las coordenadas aleatorias."
      ]
    },
    {
      "cell_type": "code",
      "metadata": {
        "id": "g9daHNMACMum"
      },
      "source": [
        "tablero = np.full((10,10), ' ')\n",
        "print(tablero)"
      ],
      "execution_count": 259,
      "outputs": [
        {
          "output_type": "stream",
          "name": "stdout",
          "text": [
            "[[' ' ' ' ' ' ' ' ' ' ' ' ' ' ' ' ' ' ' ']\n [' ' ' ' ' ' ' ' ' ' ' ' ' ' ' ' ' ' ' ']\n [' ' ' ' ' ' ' ' ' ' ' ' ' ' ' ' ' ' ' ']\n [' ' ' ' ' ' ' ' ' ' ' ' ' ' ' ' ' ' ' ']\n [' ' ' ' ' ' ' ' ' ' ' ' ' ' ' ' ' ' ' ']\n [' ' ' ' ' ' ' ' ' ' ' ' ' ' ' ' ' ' ' ']\n [' ' ' ' ' ' ' ' ' ' ' ' ' ' ' ' ' ' ' ']\n [' ' ' ' ' ' ' ' ' ' ' ' ' ' ' ' ' ' ' ']\n [' ' ' ' ' ' ' ' ' ' ' ' ' ' ' ' ' ' ' ']\n [' ' ' ' ' ' ' ' ' ' ' ' ' ' ' ' ' ' ' ']]\n"
          ]
        }
      ]
    },
    {
      "cell_type": "code",
      "execution_count": 242,
      "metadata": {},
      "outputs": [
        {
          "output_type": "stream",
          "name": "stdout",
          "text": [
            "[[' ' 'O' ' ' ' ' ' ' ' ' ' ' ' ' ' ' ' ']\n [' ' 'O' ' ' 'O' 'O' 'O' 'O' ' ' ' ' ' ']\n [' ' ' ' ' ' ' ' ' ' ' ' ' ' ' ' ' ' ' ']\n [' ' ' ' ' ' ' ' ' ' ' ' ' ' ' ' ' ' ' ']\n [' ' ' ' ' ' ' ' ' ' ' ' ' ' ' ' ' ' ' ']\n [' ' ' ' ' ' ' ' ' ' ' ' ' ' ' ' ' ' ' ']\n [' ' ' ' ' ' ' ' ' ' ' ' ' ' ' ' ' ' ' ']\n [' ' ' ' ' ' ' ' ' ' ' ' ' ' ' ' ' ' ' ']\n [' ' ' ' ' ' ' ' ' ' ' ' ' ' ' ' ' ' ' ']\n [' ' ' ' ' ' ' ' ' ' ' ' ' ' ' ' ' ' ' ']]\n"
          ]
        }
      ],
      "source": [
        "tablero[0:2,1] = 'O'\n",
        "tablero[1,3:7] = 'O'\n",
        "print(tablero)"
      ]
    },
    {
      "cell_type": "code",
      "execution_count": 238,
      "metadata": {},
      "outputs": [
        {
          "output_type": "stream",
          "name": "stdout",
          "text": [
            "[[' ' 'O' ' ' ' ' ' ' ' ' ' ' ' ' ' ' ' ']\n [' ' 'O' 'K' 'X' 'O' 'O' 'O' ' ' ' ' ' ']\n [' ' ' ' 'K' ' ' ' ' ' ' ' ' ' ' ' ' ' ']\n [' ' ' ' 'K' ' ' ' ' ' ' ' ' ' ' ' ' ' ']\n [' ' ' ' 'K' ' ' ' ' ' ' ' ' ' ' ' ' ' ']\n [' ' ' ' ' ' ' ' ' ' ' ' ' ' ' ' ' ' ' ']\n [' ' ' ' ' ' ' ' ' ' ' ' '-' ' ' ' ' ' ']\n [' ' ' ' ' ' ' ' ' ' ' ' ' ' ' ' ' ' ' ']\n [' ' ' ' ' ' ' ' ' ' ' ' ' ' ' ' ' ' ' ']\n [' ' ' ' ' ' ' ' ' ' ' ' ' ' ' ' ' ' ' ']]\n"
          ]
        }
      ],
      "source": [
        "tablero[1,3] = 'X'\n",
        "print(tablero)"
      ]
    },
    {
      "cell_type": "code",
      "execution_count": 257,
      "metadata": {},
      "outputs": [
        {
          "output_type": "stream",
          "name": "stdout",
          "text": [
            "[[' ' ' ' ' ' ' ' ' ' ' ' ' ' ' ' ' ' 'K']\n [' ' ' ' 'K' ' ' ' ' ' ' ' ' ' ' ' ' 'K']\n [' ' ' ' 'K' ' ' ' ' ' ' ' ' ' ' ' ' 'K']\n [' ' ' ' 'K' ' ' ' ' ' ' ' ' ' ' ' ' 'K']\n [' ' ' ' 'K' ' ' ' ' ' ' ' ' ' ' ' ' ' ']\n [' ' ' ' ' ' ' ' ' ' ' ' ' ' ' ' ' ' ' ']\n [' ' ' ' ' ' ' ' ' ' 'K' ' ' ' ' 'K' ' ']\n [' ' ' ' 'K' 'K' ' ' 'K' ' ' ' ' 'K' ' ']\n [' ' ' ' 'K' 'K' ' ' 'K' ' ' ' ' 'K' ' ']\n [' ' ' ' 'K' 'K' ' ' 'K' ' ' ' ' 'K' ' ']]\n"
          ]
        }
      ],
      "source": [
        "tablero[0:4,9] = 'K'\n",
        "print(tablero)"
      ]
    },
    {
      "cell_type": "code",
      "execution_count": 219,
      "metadata": {},
      "outputs": [
        {
          "output_type": "execute_result",
          "data": {
            "text/plain": [
              "array([[' ', 'O', ' ', ' ', ' ', ' ', ' ', ' ', ' ', ' '],\n",
              "       [' ', 'O', ' ', 'X', 'O', 'O', 'O', ' ', ' ', ' '],\n",
              "       [' ', ' ', ' ', ' ', ' ', ' ', ' ', ' ', ' ', ' '],\n",
              "       [' ', ' ', ' ', ' ', ' ', ' ', ' ', ' ', ' ', ' '],\n",
              "       [' ', ' ', ' ', ' ', ' ', ' ', ' ', ' ', ' ', ' '],\n",
              "       [' ', ' ', ' ', ' ', ' ', ' ', ' ', ' ', ' ', ' '],\n",
              "       [' ', ' ', ' ', ' ', ' ', ' ', '-', ' ', ' ', ' '],\n",
              "       [' ', ' ', ' ', ' ', ' ', ' ', ' ', ' ', ' ', ' '],\n",
              "       [' ', ' ', ' ', ' ', ' ', ' ', ' ', ' ', ' ', ' '],\n",
              "       [' ', ' ', ' ', ' ', ' ', ' ', ' ', ' ', ' ', ' ']], dtype='<U1')"
            ]
          },
          "metadata": {},
          "execution_count": 219
        }
      ],
      "source": [
        "tablero[6,6] = '-'\n",
        "tablero"
      ]
    },
    {
      "cell_type": "code",
      "execution_count": 220,
      "metadata": {},
      "outputs": [],
      "source": [
        "import random"
      ]
    },
    {
      "cell_type": "code",
      "execution_count": 260,
      "metadata": {},
      "outputs": [
        {
          "output_type": "stream",
          "name": "stdout",
          "text": [
            "[[' ' ' ' ' ' ' ' ' ' ' ' ' ' ' ' ' ' ' ']\n [' ' ' ' ' ' ' ' ' ' ' ' ' ' ' ' ' ' ' ']\n [' ' ' ' ' ' ' ' ' ' ' ' ' ' ' ' ' ' ' ']\n [' ' ' ' ' ' ' ' ' ' ' ' ' ' ' ' ' ' ' ']\n [' ' ' ' ' ' ' ' ' ' ' ' ' ' ' ' ' ' ' ']\n [' ' ' ' ' ' ' ' ' ' ' ' ' ' ' ' ' ' ' ']\n [' ' ' ' ' ' ' ' ' ' ' ' ' ' ' ' ' ' ' ']\n [' ' ' ' ' ' ' ' ' ' ' ' ' ' ' ' ' ' ' ']\n [' ' ' ' ' ' ' ' ' ' ' ' ' ' ' ' ' ' ' ']\n [' ' ' ' ' ' ' ' ' ' ' ' ' ' ' ' ' ' ' ']]\n"
          ]
        }
      ],
      "source": [
        "print(tablero)"
      ]
    },
    {
      "cell_type": "code",
      "execution_count": 231,
      "metadata": {},
      "outputs": [
        {
          "output_type": "stream",
          "name": "stdout",
          "text": [
            "0\n6\n"
          ]
        }
      ],
      "source": [
        "a = random.randint(0,9)\n",
        "print(a)\n",
        "b = random.randint(0,9)\n",
        "print(b)\n",
        "direccion = random.randint(1,4)             # 1. Norte, 2. Sur, 3. Este, 4. Oeste\n",
        "print(direccion)\n",
        "if direccion == 1:   # Va para arriba\n",
        "    if a < 3:\n",
        "        pass # SE SALEEEEEEEEEEEEEEEEEEEEEEEEE\n",
        "    elif a == 3:\n",
        "        tablero[a::-1,b] = '1a'\n",
        "    elif a > 3:\n",
        "        c = a - 4\n",
        "        tablero[a:c:-1,b] = '1b'\n",
        "if direccion == 2:   # Va para abajo\n",
        "    if a <= 6:\n",
        "        c = a + 4\n",
        "        tablero[a:c,b] = '2a'\n",
        "    elif a > 6:\n",
        "        pass # SE SALEEEEEEEEEEEEEEEEEEEEEEEEE\n",
        "if direccion == 3:   # Va para la derecha\n",
        "    if b <= 6:    \n",
        "        c = b + 4\n",
        "        tablero[a,b:c] = '3a'\n",
        "    elif b > 6:\n",
        "        pass # SE SALEEEEEEEEEEEEEEEEEEEEEEEEE\n",
        "if direccion == 4:   # Va para la izquierda\n",
        "    if b < 3:\n",
        "        pass # SE SALEEEEEEEEEEEEEEEEEEEEEEEE\n",
        "    elif b == 3:\n",
        "        tablero[a,b::-1] = '4a'\n",
        "    elif b > 3:\n",
        "        c = b - 4\n",
        "        tablero[a,b:c:-1] = '4b'"
      ]
    },
    {
      "cell_type": "code",
      "execution_count": 307,
      "metadata": {},
      "outputs": [
        {
          "output_type": "stream",
          "name": "stdout",
          "text": [
            "A: 4\nB: 6\nDirección: 4\n1. Norte, 2. Sur, 3. Este, 4. Oeste\n[[' ' ' ' ' ' ' ' ' ' ' ' ' ' ' ' ' ' ' ']\n [' ' ' ' ' ' ' ' ' ' ' ' ' ' ' ' ' ' ' ']\n [' ' ' ' ' ' ' ' ' ' ' ' ' ' ' ' ' ' ' ']\n [' ' ' ' ' ' ' ' ' ' ' ' ' ' ' ' ' ' ' ']\n [' ' ' ' ' ' 'O' 'O' 'O' 'O' ' ' ' ' ' ']\n [' ' ' ' ' ' ' ' ' ' ' ' ' ' ' ' ' ' ' ']\n [' ' ' ' ' ' ' ' ' ' ' ' ' ' ' ' ' ' ' ']\n [' ' ' ' ' ' ' ' ' ' ' ' ' ' ' ' ' ' ' ']\n [' ' ' ' ' ' ' ' ' ' ' ' ' ' ' ' ' ' ' ']\n [' ' ' ' ' ' ' ' ' ' ' ' ' ' ' ' ' ' ' ']]\n"
          ]
        }
      ],
      "source": [
        "tablero = np.full((10,10), ' ')\n",
        "a = random.randint(0,9)\n",
        "print('A:', a)\n",
        "b = random.randint(0,9)\n",
        "print('B:', b)\n",
        "direccion = random.randint(1,4)             # 1. Norte, 2. Sur, 3. Este, 4. Oeste\n",
        "print('Dirección:', direccion)\n",
        "print('1. Norte, 2. Sur, 3. Este, 4. Oeste')\n",
        "\n",
        "\n",
        "if direccion == 1:   # Va para arriba\n",
        "    if a < 3:\n",
        "        pass # SE SALEEEEEEEEEEEEEEEEEEEEEEEEE\n",
        "    elif a == 3:\n",
        "        tablero[a::-1,b] = 'O'\n",
        "        print(tablero)\n",
        "    elif a > 3:\n",
        "        c = a - 4\n",
        "        tablero[a:c:-1,b] = 'O'\n",
        "        print(tablero)\n",
        "elif direccion == 2:   # Va para abajo\n",
        "    if a <= 6:\n",
        "        c = a + 4\n",
        "        tablero[a:c,b] = 'O'\n",
        "        print(tablero)\n",
        "    elif a > 6:\n",
        "        pass # SE SALEEEEEEEEEEEEEEEEEEEEEEEEE\n",
        "elif direccion == 3:   # Va para la derecha\n",
        "    if b <= 6:    \n",
        "        c = b + 4\n",
        "        tablero[a,b:c] = 'O'\n",
        "        print(tablero)\n",
        "    elif b > 6:\n",
        "        pass # SE SALEEEEEEEEEEEEEEEEEEEEEEEEE\n",
        "elif direccion == 4:   # Va para la izquierda\n",
        "    if b < 3:\n",
        "        pass # SE SALEEEEEEEEEEEEEEEEEEEEEEEE\n",
        "    elif b == 3:\n",
        "        tablero[a,b::-1] = 'O'\n",
        "        print(tablero)\n",
        "    elif b > 3:\n",
        "        c = b - 4\n",
        "        tablero[a,b:c:-1] = 'O'\n",
        "        print(tablero)"
      ]
    },
    {
      "cell_type": "code",
      "execution_count": null,
      "metadata": {},
      "outputs": [],
      "source": []
    }
  ]
}