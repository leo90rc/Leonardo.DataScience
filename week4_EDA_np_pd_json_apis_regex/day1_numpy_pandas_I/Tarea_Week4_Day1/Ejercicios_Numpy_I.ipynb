{
  "nbformat": 4,
  "nbformat_minor": 0,
  "metadata": {
    "kernelspec": {
      "name": "python374jvsc74a57bd0a0947237fadc8b5561fed326db280cc5ec46a670c87cfb3a0489cf95ff262303",
      "display_name": "Python 3.7.4 64-bit"
    },
    "language_info": {
      "codemirror_mode": {
        "name": "ipython",
        "version": 3
      },
      "file_extension": ".py",
      "mimetype": "text/x-python",
      "name": "python",
      "nbconvert_exporter": "python",
      "pygments_lexer": "ipython3",
      "version": "3.7.4"
    },
    "metadata": {
      "interpreter": {
        "hash": "a0947237fadc8b5561fed326db280cc5ec46a670c87cfb3a0489cf95ff262303"
      }
    },
    "colab": {
      "name": "Ejercicios Numpy I.ipynb",
      "provenance": []
    }
  },
  "cells": [
    {
      "cell_type": "markdown",
      "metadata": {
        "id": "O8ghR_bmCIWP"
      },
      "source": [
        "# Ejercicios Numpy I"
      ]
    },
    {
      "cell_type": "markdown",
      "metadata": {
        "id": "gaE5CibOCIWV"
      },
      "source": [
        "Sirvan estos ejercicios para que fortalezcáis aquellos conceptos más importantes."
      ]
    },
    {
      "cell_type": "markdown",
      "metadata": {
        "id": "Kp0af3ptCIWW"
      },
      "source": [
        "## Ejercicio 1\n",
        "Importa el módulo de `numpy` y obtén su versión."
      ]
    },
    {
      "cell_type": "code",
      "metadata": {
        "id": "O0qNU_RiCIWW"
      },
      "source": [
        "import numpy as np"
      ],
      "execution_count": 2,
      "outputs": [
        {
          "output_type": "execute_result",
          "data": {
            "text/plain": [
              "<module 'numpy.version' from 'C:\\\\Users\\\\LeoFr\\\\AppData\\\\Local\\\\Programs\\\\Python\\\\Python37\\\\lib\\\\site-packages\\\\numpy\\\\version.py'>"
            ]
          },
          "metadata": {},
          "execution_count": 2
        }
      ]
    },
    {
      "cell_type": "markdown",
      "metadata": {
        "id": "qwbPVTiaCIWX"
      },
      "source": [
        "## Ejercicio 2\n",
        "Crea un array de una dimensión que vaya de 0 a 9. Llamalo `my_array`"
      ]
    },
    {
      "cell_type": "code",
      "metadata": {
        "id": "0LYRyfOQCIWX"
      },
      "source": [
        "my_array = np.arange(10)\n",
        "my_array"
      ],
      "execution_count": 4,
      "outputs": [
        {
          "output_type": "execute_result",
          "data": {
            "text/plain": [
              "array([0, 1, 2, 3, 4, 5, 6, 7, 8, 9])"
            ]
          },
          "metadata": {},
          "execution_count": 4
        }
      ]
    },
    {
      "cell_type": "markdown",
      "metadata": {
        "id": "nIzMYagBCIWX"
      },
      "source": [
        "## Ejercicio 3\n",
        "Crea un array 3x3, que sea todo a True"
      ]
    },
    {
      "cell_type": "code",
      "metadata": {
        "id": "K_ZyVh0SCIWY"
      },
      "source": [],
      "execution_count": null,
      "outputs": []
    },
    {
      "cell_type": "markdown",
      "metadata": {
        "id": "bzl4L6f7CIWY"
      },
      "source": [
        "## Ejercicio 4\n",
        "Extrae todos los impares de `my_array`"
      ]
    },
    {
      "cell_type": "code",
      "metadata": {
        "id": "c2dEERGYCIWY"
      },
      "source": [],
      "execution_count": null,
      "outputs": []
    },
    {
      "cell_type": "markdown",
      "metadata": {
        "id": "K2v1IiKJCIWY"
      },
      "source": [
        "## Ejercicio 5\n",
        "En un nuevo array, sustituye todos los impares de `my_array` por -1"
      ]
    },
    {
      "cell_type": "code",
      "metadata": {
        "id": "-yOfdGMjCIWY"
      },
      "source": [],
      "execution_count": null,
      "outputs": []
    },
    {
      "cell_type": "markdown",
      "metadata": {
        "id": "H7njHPHxCIWZ"
      },
      "source": [
        "## Ejercicio 6\n",
        "En un nuevo array, sustituye todos los impares de `my_array` por -1. Esta vez usa `where`"
      ]
    },
    {
      "cell_type": "code",
      "metadata": {
        "id": "fpUle7SKCIWZ"
      },
      "source": [],
      "execution_count": null,
      "outputs": []
    },
    {
      "cell_type": "markdown",
      "metadata": {
        "id": "wOHixfqnCIWZ"
      },
      "source": [
        "## Ejercicio 7\n",
        "Convierte `my_array` en un nuevo array de dos dimensiones mediante `reshape`."
      ]
    },
    {
      "cell_type": "code",
      "metadata": {
        "id": "mKv2So1wCIWZ"
      },
      "source": [],
      "execution_count": null,
      "outputs": []
    },
    {
      "cell_type": "markdown",
      "metadata": {
        "id": "dEdKj8lECIWa"
      },
      "source": [
        "## Ejercicio 8\n",
        "Concatena los siguientes arrays verticamente\n",
        "\n",
        "```Python\n",
        "a = np.arange(10).reshape(2,-1)\n",
        "b = np.repeat(1, 10).reshape(2,-1)\n",
        "```"
      ]
    },
    {
      "cell_type": "code",
      "metadata": {
        "id": "QGb61aWoCIWa"
      },
      "source": [],
      "execution_count": null,
      "outputs": []
    },
    {
      "cell_type": "markdown",
      "metadata": {
        "id": "AHvD4E5SCIWa"
      },
      "source": [
        "## Ejercicio 9\n",
        "Concatena los siguientes arrays horizontamente\n",
        "\n",
        "```Python\n",
        "a = np.arange(10).reshape(2,-1)\n",
        "b = np.repeat(1, 10).reshape(2,-1)\n",
        "```"
      ]
    },
    {
      "cell_type": "code",
      "metadata": {
        "id": "evGqYnP5CIWa"
      },
      "source": [],
      "execution_count": null,
      "outputs": []
    },
    {
      "cell_type": "markdown",
      "metadata": {
        "id": "j83bjORDCIWa"
      },
      "source": [
        "## Ejercicio 10\n",
        "Encuentra todos los elementos en común entre ambos arrays. [Para ello usa el método `intersect1d`](https://numpy.org/doc/stable/reference/generated/numpy.intersect1d.html)\n",
        "\n",
        "```Python\n",
        "a = np.array([1,2,3,2,3,4,3,4,5,6])\n",
        "b = np.array([7,2,10,2,7,4,9,4,9,8])\n",
        "```"
      ]
    },
    {
      "cell_type": "code",
      "metadata": {
        "id": "Zjsivn3UCIWb"
      },
      "source": [],
      "execution_count": null,
      "outputs": []
    },
    {
      "cell_type": "markdown",
      "metadata": {
        "id": "Ery7u4kGCIWb"
      },
      "source": [
        "## Ejercicio 11\n",
        "Obtén la documentación acerca de la función `concatenate`"
      ]
    },
    {
      "cell_type": "code",
      "metadata": {
        "id": "EdPc7zSxCIWb"
      },
      "source": [],
      "execution_count": null,
      "outputs": []
    },
    {
      "cell_type": "markdown",
      "metadata": {
        "id": "hDe3toqzCIWb"
      },
      "source": [
        "## Ejercicio 12\n",
        "Crea un array unidimensional que vaya del 0 al 9. Llámalo `my_array`. \n",
        "1. Multiplica cada uno de los elementos de `my_array` por 10, en un nuevo array\n",
        "2. Accede al primer elemento del array\n",
        "3. Accede al último elemento del array\n",
        "4. Imprime por pantalla los numeros del 1 al 7"
      ]
    },
    {
      "cell_type": "code",
      "metadata": {
        "id": "550xVPTCCIWb"
      },
      "source": [],
      "execution_count": null,
      "outputs": []
    },
    {
      "cell_type": "markdown",
      "metadata": {
        "id": "N5a1i6KLCIWc"
      },
      "source": [
        "## Ejercicio 13\n",
        "Crea un array manualmente de tres filas por tres columnas. Llámalo `my_matrix`"
      ]
    },
    {
      "cell_type": "code",
      "metadata": {
        "id": "Re76e2fWCIWc"
      },
      "source": [],
      "execution_count": null,
      "outputs": []
    },
    {
      "cell_type": "markdown",
      "metadata": {
        "id": "jwrI53gaCIWc"
      },
      "source": [
        "## Ejercicio 14\n",
        "Obtén la siguiente secuencia:\n",
        "\n",
        "```Python\n",
        "[ 1,  4,  7, 10, 13, 16, 19, 22, 25, 28, 31, 34, 37, 40, 43, 46, 49]\n",
        "```"
      ]
    },
    {
      "cell_type": "code",
      "metadata": {
        "id": "ZwY2Y8a8CIWc"
      },
      "source": [],
      "execution_count": null,
      "outputs": []
    },
    {
      "cell_type": "markdown",
      "metadata": {
        "id": "xwwrW5i-CIWc"
      },
      "source": [
        "## Ejercicio 15\n",
        "Obtén la siguiente secuencia\n",
        "\n",
        "```Python\n",
        "[4., 3.75, 3.5 , 3.25, 3.  , 2.75, 2.5 , 2.25, 2., 1.75, 1.5 ,1.25]\n",
        "```"
      ]
    },
    {
      "cell_type": "code",
      "metadata": {
        "id": "d5bLmv_jCIWd"
      },
      "source": [],
      "execution_count": null,
      "outputs": []
    },
    {
      "cell_type": "markdown",
      "metadata": {
        "id": "0zrD0VndCIWd"
      },
      "source": [
        "## Ejercicio 16\n",
        "Lee la imagen `numpy.png` que encontrarás en la carpeta **img**"
      ]
    },
    {
      "cell_type": "code",
      "metadata": {
        "id": "eHDdPmSpCIWd"
      },
      "source": [],
      "execution_count": null,
      "outputs": []
    },
    {
      "cell_type": "markdown",
      "metadata": {
        "id": "1ei5A7iICIWd"
      },
      "source": [
        "## Ejercicio 17\n",
        "Crea un array de 4x1. A continuación convierte el array a un 2x2"
      ]
    },
    {
      "cell_type": "code",
      "metadata": {
        "id": "WCj89LxRCIWd"
      },
      "source": [],
      "execution_count": null,
      "outputs": []
    },
    {
      "cell_type": "markdown",
      "metadata": {
        "id": "T4nZmAPqCIWd"
      },
      "source": [
        "## Ejercicio 18\n",
        "Crea una secuencia aleatoria. La secuencia se tiene que componer de 4 matrices de 5x3. Serían 3 dimensiones diferentes."
      ]
    },
    {
      "cell_type": "code",
      "metadata": {
        "id": "D7ypc3hkCIWe"
      },
      "source": [],
      "execution_count": null,
      "outputs": []
    },
    {
      "cell_type": "markdown",
      "metadata": {
        "id": "CFoJARUQCIWe"
      },
      "source": [
        "## Ejercicio 19\n",
        "Crea una matriz de 10x1, toda ella compuesta por `False`. Después transformalo en un 2x5"
      ]
    },
    {
      "cell_type": "code",
      "metadata": {
        "id": "ZsHHyiWqCIWe"
      },
      "source": [],
      "execution_count": null,
      "outputs": []
    },
    {
      "cell_type": "markdown",
      "metadata": {
        "id": "mBrN11mXCIWe"
      },
      "source": [
        "## Ejercicio 20\n",
        "Dado el siguiente array\n",
        "\n",
        "```Python\n",
        "x =np.random.randint(10, 20, size = (5,2,6))\n",
        "```\n",
        "\n",
        "1. ¿Cuántos elementos tiene el array?\n",
        "2. ¿Cuántas dimensiones?\n",
        "3. ¿Cuántos elementos tiene cada dimensión?"
      ]
    },
    {
      "cell_type": "code",
      "metadata": {
        "id": "VMmuUs5yCIWe"
      },
      "source": [],
      "execution_count": null,
      "outputs": []
    }
  ]
}