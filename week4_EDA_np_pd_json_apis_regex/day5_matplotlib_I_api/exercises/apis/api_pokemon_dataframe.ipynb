{
 "metadata": {
  "language_info": {
   "codemirror_mode": {
    "name": "ipython",
    "version": 3
   },
   "file_extension": ".py",
   "mimetype": "text/x-python",
   "name": "python",
   "nbconvert_exporter": "python",
   "pygments_lexer": "ipython3",
   "version": "3.7.4"
  },
  "orig_nbformat": 2,
  "kernelspec": {
   "name": "python374jvsc74a57bd0a0947237fadc8b5561fed326db280cc5ec46a670c87cfb3a0489cf95ff262303",
   "display_name": "Python 3.7.4 64-bit"
  },
  "metadata": {
   "interpreter": {
    "hash": "a0947237fadc8b5561fed326db280cc5ec46a670c87cfb3a0489cf95ff262303"
   }
  }
 },
 "nbformat": 4,
 "nbformat_minor": 2,
 "cells": [
  {
   "source": [
    "### Ejercicio 1\n",
    "\n",
    "A partir de la API de Pokemon, se pide generar un DataFrame como el de la imagen con las columnas: \n",
    "\n",
    "- **\"height\",\"id\",\"order\",\"weight\",\"types\"**\n",
    "\n",
    "### Ejercicio 2\n",
    "\n",
    "¿Has visto que dentro del DataFrame la columna \"types\" hay diccionarios? Se pide agregar, por cada pokemon, las columnas necesarias al DataFrame para albergar toda la información de \"types\" (solo las keys)\n",
    "\n",
    "![](df_pk.PNG)"
   ],
   "cell_type": "markdown",
   "metadata": {}
  },
  {
   "cell_type": "code",
   "execution_count": 1,
   "metadata": {},
   "outputs": [],
   "source": [
    "import json\n",
    "import requests\n",
    "\n",
    "import pandas as pd\n",
    "from pandas.io.json import json_normalize"
   ]
  },
  {
   "cell_type": "code",
   "execution_count": 2,
   "metadata": {},
   "outputs": [
    {
     "output_type": "execute_result",
     "data": {
      "text/plain": [
       "{'count': 1118,\n",
       " 'next': 'https://pokeapi.co/api/v2/pokemon?offset=20&limit=20',\n",
       " 'previous': None,\n",
       " 'results': [{'name': 'bulbasaur',\n",
       "   'url': 'https://pokeapi.co/api/v2/pokemon/1/'},\n",
       "  {'name': 'ivysaur', 'url': 'https://pokeapi.co/api/v2/pokemon/2/'},\n",
       "  {'name': 'venusaur', 'url': 'https://pokeapi.co/api/v2/pokemon/3/'},\n",
       "  {'name': 'charmander', 'url': 'https://pokeapi.co/api/v2/pokemon/4/'},\n",
       "  {'name': 'charmeleon', 'url': 'https://pokeapi.co/api/v2/pokemon/5/'},\n",
       "  {'name': 'charizard', 'url': 'https://pokeapi.co/api/v2/pokemon/6/'},\n",
       "  {'name': 'squirtle', 'url': 'https://pokeapi.co/api/v2/pokemon/7/'},\n",
       "  {'name': 'wartortle', 'url': 'https://pokeapi.co/api/v2/pokemon/8/'},\n",
       "  {'name': 'blastoise', 'url': 'https://pokeapi.co/api/v2/pokemon/9/'},\n",
       "  {'name': 'caterpie', 'url': 'https://pokeapi.co/api/v2/pokemon/10/'},\n",
       "  {'name': 'metapod', 'url': 'https://pokeapi.co/api/v2/pokemon/11/'},\n",
       "  {'name': 'butterfree', 'url': 'https://pokeapi.co/api/v2/pokemon/12/'},\n",
       "  {'name': 'weedle', 'url': 'https://pokeapi.co/api/v2/pokemon/13/'},\n",
       "  {'name': 'kakuna', 'url': 'https://pokeapi.co/api/v2/pokemon/14/'},\n",
       "  {'name': 'beedrill', 'url': 'https://pokeapi.co/api/v2/pokemon/15/'},\n",
       "  {'name': 'pidgey', 'url': 'https://pokeapi.co/api/v2/pokemon/16/'},\n",
       "  {'name': 'pidgeotto', 'url': 'https://pokeapi.co/api/v2/pokemon/17/'},\n",
       "  {'name': 'pidgeot', 'url': 'https://pokeapi.co/api/v2/pokemon/18/'},\n",
       "  {'name': 'rattata', 'url': 'https://pokeapi.co/api/v2/pokemon/19/'},\n",
       "  {'name': 'raticate', 'url': 'https://pokeapi.co/api/v2/pokemon/20/'}]}"
      ]
     },
     "metadata": {},
     "execution_count": 2
    }
   ],
   "source": [
    "url1 = \"https://pokeapi.co/api/v2/pokemon\"\n",
    "pokemon_json = requests.get(url1).json()\n",
    "pokemon_json\n"
   ]
  },
  {
   "cell_type": "code",
   "execution_count": 3,
   "metadata": {},
   "outputs": [
    {
     "output_type": "execute_result",
     "data": {
      "text/plain": [
       "'https://pokeapi.co/api/v2/pokemon?offset=20&limit=20'"
      ]
     },
     "metadata": {},
     "execution_count": 3
    }
   ],
   "source": [
    "pokemon_json['next']"
   ]
  },
  {
   "cell_type": "code",
   "execution_count": 38,
   "metadata": {},
   "outputs": [
    {
     "output_type": "execute_result",
     "data": {
      "text/plain": [
       "{'count': 1118,\n",
       " 'next': 'https://pokeapi.co/api/v2/pokemon?offset=5&limit=5',\n",
       " 'previous': None,\n",
       " 'results': [{'name': 'bulbasaur',\n",
       "   'url': 'https://pokeapi.co/api/v2/pokemon/1/'},\n",
       "  {'name': 'ivysaur', 'url': 'https://pokeapi.co/api/v2/pokemon/2/'},\n",
       "  {'name': 'venusaur', 'url': 'https://pokeapi.co/api/v2/pokemon/3/'},\n",
       "  {'name': 'charmander', 'url': 'https://pokeapi.co/api/v2/pokemon/4/'},\n",
       "  {'name': 'charmeleon', 'url': 'https://pokeapi.co/api/v2/pokemon/5/'}]}"
      ]
     },
     "metadata": {},
     "execution_count": 38
    }
   ],
   "source": [
    "# Cambio los valores de limite para obtener los primeros 5 pokemon\n",
    "\n",
    "url_5 = 'https://pokeapi.co/api/v2/pokemon?offset=0&limit=5'\n",
    "pokemon_json_5 = requests.get(url_5).json()\n",
    "pokemon_json_5"
   ]
  },
  {
   "cell_type": "code",
   "execution_count": 5,
   "metadata": {},
   "outputs": [
    {
     "output_type": "execute_result",
     "data": {
      "text/plain": [
       "   count                                               next previous  \\\n",
       "0   1118  https://pokeapi.co/api/v2/pokemon?offset=5&lim...     None   \n",
       "1   1118  https://pokeapi.co/api/v2/pokemon?offset=5&lim...     None   \n",
       "2   1118  https://pokeapi.co/api/v2/pokemon?offset=5&lim...     None   \n",
       "3   1118  https://pokeapi.co/api/v2/pokemon?offset=5&lim...     None   \n",
       "4   1118  https://pokeapi.co/api/v2/pokemon?offset=5&lim...     None   \n",
       "\n",
       "                                             results  \n",
       "0  {'name': 'bulbasaur', 'url': 'https://pokeapi....  \n",
       "1  {'name': 'ivysaur', 'url': 'https://pokeapi.co...  \n",
       "2  {'name': 'venusaur', 'url': 'https://pokeapi.c...  \n",
       "3  {'name': 'charmander', 'url': 'https://pokeapi...  \n",
       "4  {'name': 'charmeleon', 'url': 'https://pokeapi...  "
      ],
      "text/html": "<div>\n<style scoped>\n    .dataframe tbody tr th:only-of-type {\n        vertical-align: middle;\n    }\n\n    .dataframe tbody tr th {\n        vertical-align: top;\n    }\n\n    .dataframe thead th {\n        text-align: right;\n    }\n</style>\n<table border=\"1\" class=\"dataframe\">\n  <thead>\n    <tr style=\"text-align: right;\">\n      <th></th>\n      <th>count</th>\n      <th>next</th>\n      <th>previous</th>\n      <th>results</th>\n    </tr>\n  </thead>\n  <tbody>\n    <tr>\n      <th>0</th>\n      <td>1118</td>\n      <td>https://pokeapi.co/api/v2/pokemon?offset=5&amp;lim...</td>\n      <td>None</td>\n      <td>{'name': 'bulbasaur', 'url': 'https://pokeapi....</td>\n    </tr>\n    <tr>\n      <th>1</th>\n      <td>1118</td>\n      <td>https://pokeapi.co/api/v2/pokemon?offset=5&amp;lim...</td>\n      <td>None</td>\n      <td>{'name': 'ivysaur', 'url': 'https://pokeapi.co...</td>\n    </tr>\n    <tr>\n      <th>2</th>\n      <td>1118</td>\n      <td>https://pokeapi.co/api/v2/pokemon?offset=5&amp;lim...</td>\n      <td>None</td>\n      <td>{'name': 'venusaur', 'url': 'https://pokeapi.c...</td>\n    </tr>\n    <tr>\n      <th>3</th>\n      <td>1118</td>\n      <td>https://pokeapi.co/api/v2/pokemon?offset=5&amp;lim...</td>\n      <td>None</td>\n      <td>{'name': 'charmander', 'url': 'https://pokeapi...</td>\n    </tr>\n    <tr>\n      <th>4</th>\n      <td>1118</td>\n      <td>https://pokeapi.co/api/v2/pokemon?offset=5&amp;lim...</td>\n      <td>None</td>\n      <td>{'name': 'charmeleon', 'url': 'https://pokeapi...</td>\n    </tr>\n  </tbody>\n</table>\n</div>"
     },
     "metadata": {},
     "execution_count": 5
    }
   ],
   "source": [
    "df_pokemon_json_5 = pd.DataFrame(pokemon_json_5)\n",
    "df_pokemon_json_5"
   ]
  },
  {
   "cell_type": "code",
   "execution_count": 6,
   "metadata": {},
   "outputs": [
    {
     "output_type": "stream",
     "name": "stdout",
     "text": [
      "<class 'list'>\n"
     ]
    },
    {
     "output_type": "execute_result",
     "data": {
      "text/plain": [
       "[{'name': 'bulbasaur', 'url': 'https://pokeapi.co/api/v2/pokemon/1/'},\n",
       " {'name': 'ivysaur', 'url': 'https://pokeapi.co/api/v2/pokemon/2/'},\n",
       " {'name': 'venusaur', 'url': 'https://pokeapi.co/api/v2/pokemon/3/'},\n",
       " {'name': 'charmander', 'url': 'https://pokeapi.co/api/v2/pokemon/4/'},\n",
       " {'name': 'charmeleon', 'url': 'https://pokeapi.co/api/v2/pokemon/5/'}]"
      ]
     },
     "metadata": {},
     "execution_count": 6
    }
   ],
   "source": [
    "# Accediendo a la columna (clave) \"results\"\n",
    "print(type(pokemon_json_5['results']))\n",
    "pokemon_json_5['results'] # --> Lista de diccionarios"
   ]
  },
  {
   "cell_type": "code",
   "execution_count": 7,
   "metadata": {},
   "outputs": [
    {
     "output_type": "execute_result",
     "data": {
      "text/plain": [
       "         name                                   url\n",
       "0   bulbasaur  https://pokeapi.co/api/v2/pokemon/1/\n",
       "1     ivysaur  https://pokeapi.co/api/v2/pokemon/2/\n",
       "2    venusaur  https://pokeapi.co/api/v2/pokemon/3/\n",
       "3  charmander  https://pokeapi.co/api/v2/pokemon/4/\n",
       "4  charmeleon  https://pokeapi.co/api/v2/pokemon/5/"
      ],
      "text/html": "<div>\n<style scoped>\n    .dataframe tbody tr th:only-of-type {\n        vertical-align: middle;\n    }\n\n    .dataframe tbody tr th {\n        vertical-align: top;\n    }\n\n    .dataframe thead th {\n        text-align: right;\n    }\n</style>\n<table border=\"1\" class=\"dataframe\">\n  <thead>\n    <tr style=\"text-align: right;\">\n      <th></th>\n      <th>name</th>\n      <th>url</th>\n    </tr>\n  </thead>\n  <tbody>\n    <tr>\n      <th>0</th>\n      <td>bulbasaur</td>\n      <td>https://pokeapi.co/api/v2/pokemon/1/</td>\n    </tr>\n    <tr>\n      <th>1</th>\n      <td>ivysaur</td>\n      <td>https://pokeapi.co/api/v2/pokemon/2/</td>\n    </tr>\n    <tr>\n      <th>2</th>\n      <td>venusaur</td>\n      <td>https://pokeapi.co/api/v2/pokemon/3/</td>\n    </tr>\n    <tr>\n      <th>3</th>\n      <td>charmander</td>\n      <td>https://pokeapi.co/api/v2/pokemon/4/</td>\n    </tr>\n    <tr>\n      <th>4</th>\n      <td>charmeleon</td>\n      <td>https://pokeapi.co/api/v2/pokemon/5/</td>\n    </tr>\n  </tbody>\n</table>\n</div>"
     },
     "metadata": {},
     "execution_count": 7
    }
   ],
   "source": [
    "# Hago parte del DF con las columnas \"name\" y \"url\"\n",
    "\n",
    "df_name_url = pd.DataFrame(pokemon_json_5['results'])\n",
    "df_name_url"
   ]
  },
  {
   "cell_type": "code",
   "execution_count": 8,
   "metadata": {},
   "outputs": [
    {
     "output_type": "execute_result",
     "data": {
      "text/plain": [
       "'https://pokeapi.co/api/v2/pokemon/1/'"
      ]
     },
     "metadata": {},
     "execution_count": 8
    }
   ],
   "source": [
    "# Ahora queremos obtener las columnas \"height\",\"id\",\"order\",\"weight\",\"types\"... las cuales están dentro de la url\n",
    "\n",
    "pokemon_json_5['results'][0]['url'] # --> Esta es la url para el primer pokemon... haciendo un for por posicion, la obtengo para todos."
   ]
  },
  {
   "cell_type": "code",
   "execution_count": 9,
   "metadata": {},
   "outputs": [
    {
     "output_type": "execute_result",
     "data": {
      "text/plain": [
       "['https://pokeapi.co/api/v2/pokemon/1/',\n",
       " 'https://pokeapi.co/api/v2/pokemon/2/',\n",
       " 'https://pokeapi.co/api/v2/pokemon/3/',\n",
       " 'https://pokeapi.co/api/v2/pokemon/4/',\n",
       " 'https://pokeapi.co/api/v2/pokemon/5/']"
      ]
     },
     "metadata": {},
     "execution_count": 9
    }
   ],
   "source": [
    "lista_urls = []\n",
    "for pos in range(len(pokemon_json_5['results'])):\n",
    "    lista_urls.append(pokemon_json_5['results'][pos]['url'])\n",
    "\n",
    "lista_urls # --> lista de la url de cada pokemon"
   ]
  },
  {
   "cell_type": "code",
   "execution_count": 10,
   "metadata": {},
   "outputs": [
    {
     "output_type": "execute_result",
     "data": {
      "text/plain": [
       "7"
      ]
     },
     "metadata": {},
     "execution_count": 10
    }
   ],
   "source": [
    "# Si queremos entrar a la url del primer pokemon...... y luego ingresar a su clave \"height\"\n",
    "\n",
    "llamada_url_primer_pokemon = requests.get(lista_urls[0]).json()\n",
    "llamada_url_primer_pokemon['height'] # Esto es un diccionario con las caracteristicas del pokemon... si entro a su clave \"height\", veo el valor de esa caracteristica"
   ]
  },
  {
   "cell_type": "code",
   "execution_count": 11,
   "metadata": {},
   "outputs": [
    {
     "output_type": "execute_result",
     "data": {
      "text/plain": [
       "[7, 10, 20, 6, 11]"
      ]
     },
     "metadata": {},
     "execution_count": 11
    }
   ],
   "source": [
    "# Ahora lo hacemos para todos los pokemones..\n",
    "lista_height = []\n",
    "for i in lista_urls:\n",
    "    lista_height.append(requests.get(i).json()['height'])\n",
    "lista_height"
   ]
  },
  {
   "cell_type": "code",
   "execution_count": 12,
   "metadata": {},
   "outputs": [
    {
     "output_type": "execute_result",
     "data": {
      "text/plain": [
       "   height\n",
       "0       7\n",
       "1      10\n",
       "2      20\n",
       "3       6\n",
       "4      11"
      ],
      "text/html": "<div>\n<style scoped>\n    .dataframe tbody tr th:only-of-type {\n        vertical-align: middle;\n    }\n\n    .dataframe tbody tr th {\n        vertical-align: top;\n    }\n\n    .dataframe thead th {\n        text-align: right;\n    }\n</style>\n<table border=\"1\" class=\"dataframe\">\n  <thead>\n    <tr style=\"text-align: right;\">\n      <th></th>\n      <th>height</th>\n    </tr>\n  </thead>\n  <tbody>\n    <tr>\n      <th>0</th>\n      <td>7</td>\n    </tr>\n    <tr>\n      <th>1</th>\n      <td>10</td>\n    </tr>\n    <tr>\n      <th>2</th>\n      <td>20</td>\n    </tr>\n    <tr>\n      <th>3</th>\n      <td>6</td>\n    </tr>\n    <tr>\n      <th>4</th>\n      <td>11</td>\n    </tr>\n  </tbody>\n</table>\n</div>"
     },
     "metadata": {},
     "execution_count": 12
    }
   ],
   "source": [
    "df_height = pd.DataFrame(lista_height, columns= ['height'])\n",
    "df_height"
   ]
  },
  {
   "cell_type": "code",
   "execution_count": 13,
   "metadata": {},
   "outputs": [
    {
     "output_type": "execute_result",
     "data": {
      "text/plain": [
       "   id\n",
       "0   1\n",
       "1   2\n",
       "2   3\n",
       "3   4\n",
       "4   5"
      ],
      "text/html": "<div>\n<style scoped>\n    .dataframe tbody tr th:only-of-type {\n        vertical-align: middle;\n    }\n\n    .dataframe tbody tr th {\n        vertical-align: top;\n    }\n\n    .dataframe thead th {\n        text-align: right;\n    }\n</style>\n<table border=\"1\" class=\"dataframe\">\n  <thead>\n    <tr style=\"text-align: right;\">\n      <th></th>\n      <th>id</th>\n    </tr>\n  </thead>\n  <tbody>\n    <tr>\n      <th>0</th>\n      <td>1</td>\n    </tr>\n    <tr>\n      <th>1</th>\n      <td>2</td>\n    </tr>\n    <tr>\n      <th>2</th>\n      <td>3</td>\n    </tr>\n    <tr>\n      <th>3</th>\n      <td>4</td>\n    </tr>\n    <tr>\n      <th>4</th>\n      <td>5</td>\n    </tr>\n  </tbody>\n</table>\n</div>"
     },
     "metadata": {},
     "execution_count": 13
    }
   ],
   "source": [
    "lista_id = []\n",
    "for i in lista_urls:\n",
    "    lista_id.append(requests.get(i).json()['id'])\n",
    "df_id = pd.DataFrame(lista_id, columns=['id'])\n",
    "df_id"
   ]
  },
  {
   "cell_type": "code",
   "execution_count": 14,
   "metadata": {},
   "outputs": [
    {
     "output_type": "execute_result",
     "data": {
      "text/plain": [
       "   order\n",
       "0      1\n",
       "1      2\n",
       "2      3\n",
       "3      5\n",
       "4      6"
      ],
      "text/html": "<div>\n<style scoped>\n    .dataframe tbody tr th:only-of-type {\n        vertical-align: middle;\n    }\n\n    .dataframe tbody tr th {\n        vertical-align: top;\n    }\n\n    .dataframe thead th {\n        text-align: right;\n    }\n</style>\n<table border=\"1\" class=\"dataframe\">\n  <thead>\n    <tr style=\"text-align: right;\">\n      <th></th>\n      <th>order</th>\n    </tr>\n  </thead>\n  <tbody>\n    <tr>\n      <th>0</th>\n      <td>1</td>\n    </tr>\n    <tr>\n      <th>1</th>\n      <td>2</td>\n    </tr>\n    <tr>\n      <th>2</th>\n      <td>3</td>\n    </tr>\n    <tr>\n      <th>3</th>\n      <td>5</td>\n    </tr>\n    <tr>\n      <th>4</th>\n      <td>6</td>\n    </tr>\n  </tbody>\n</table>\n</div>"
     },
     "metadata": {},
     "execution_count": 14
    }
   ],
   "source": [
    "lista_order = []\n",
    "for i in lista_urls:\n",
    "    lista_order.append(requests.get(i).json()['order'])\n",
    "df_order = pd.DataFrame(lista_order, columns=['order'])\n",
    "df_order"
   ]
  },
  {
   "cell_type": "code",
   "execution_count": 15,
   "metadata": {},
   "outputs": [
    {
     "output_type": "execute_result",
     "data": {
      "text/plain": [
       "   weight\n",
       "0      69\n",
       "1     130\n",
       "2    1000\n",
       "3      85\n",
       "4     190"
      ],
      "text/html": "<div>\n<style scoped>\n    .dataframe tbody tr th:only-of-type {\n        vertical-align: middle;\n    }\n\n    .dataframe tbody tr th {\n        vertical-align: top;\n    }\n\n    .dataframe thead th {\n        text-align: right;\n    }\n</style>\n<table border=\"1\" class=\"dataframe\">\n  <thead>\n    <tr style=\"text-align: right;\">\n      <th></th>\n      <th>weight</th>\n    </tr>\n  </thead>\n  <tbody>\n    <tr>\n      <th>0</th>\n      <td>69</td>\n    </tr>\n    <tr>\n      <th>1</th>\n      <td>130</td>\n    </tr>\n    <tr>\n      <th>2</th>\n      <td>1000</td>\n    </tr>\n    <tr>\n      <th>3</th>\n      <td>85</td>\n    </tr>\n    <tr>\n      <th>4</th>\n      <td>190</td>\n    </tr>\n  </tbody>\n</table>\n</div>"
     },
     "metadata": {},
     "execution_count": 15
    }
   ],
   "source": [
    "lista_weight = []\n",
    "for i in lista_urls:\n",
    "    lista_weight.append(requests.get(i).json()['weight'])\n",
    "df_weight = pd.DataFrame(lista_weight, columns=['weight'])\n",
    "df_weight"
   ]
  },
  {
   "cell_type": "code",
   "execution_count": 108,
   "metadata": {},
   "outputs": [
    {
     "output_type": "execute_result",
     "data": {
      "text/plain": [
       "[{'slot': 1,\n",
       "  'type': {'name': 'grass', 'url': 'https://pokeapi.co/api/v2/type/12/'}},\n",
       " {'slot': 2,\n",
       "  'type': {'name': 'poison', 'url': 'https://pokeapi.co/api/v2/type/4/'}}]"
      ]
     },
     "metadata": {},
     "execution_count": 108
    }
   ],
   "source": [
    "# Aca se puede ver como, para el primer pokemon, la clave \"types\" contiene una LISTA DE DICCIONARIOS\n",
    "\n",
    "requests.get(lista_urls[0]).json()['types']"
   ]
  },
  {
   "source": [
    "# Lo que hago acá abajo me volvió loco\n",
    "\n",
    "### Creé una lista de diccionarios.... cada diccionario tiene una única clave y valor... la clave es siempre \"types\". Con esto consigo que, al crear el DataFrame... como tienen todos la misma clave, se pongan todos en la misma columna (\"types\")...\n",
    "\n",
    "### Por otro lado, los valores son el valor de la clave \"types\" de la URL de CADA POKEMON."
   ],
   "cell_type": "markdown",
   "metadata": {}
  },
  {
   "source": [],
   "cell_type": "markdown",
   "metadata": {}
  },
  {
   "cell_type": "code",
   "execution_count": 109,
   "metadata": {},
   "outputs": [
    {
     "output_type": "stream",
     "name": "stdout",
     "text": [
      "5\n"
     ]
    },
    {
     "output_type": "execute_result",
     "data": {
      "text/plain": [
       "[{'types': [{'slot': 1,\n",
       "    'type': {'name': 'grass', 'url': 'https://pokeapi.co/api/v2/type/12/'}},\n",
       "   {'slot': 2,\n",
       "    'type': {'name': 'poison', 'url': 'https://pokeapi.co/api/v2/type/4/'}}]},\n",
       " {'types': [{'slot': 1,\n",
       "    'type': {'name': 'grass', 'url': 'https://pokeapi.co/api/v2/type/12/'}},\n",
       "   {'slot': 2,\n",
       "    'type': {'name': 'poison', 'url': 'https://pokeapi.co/api/v2/type/4/'}}]},\n",
       " {'types': [{'slot': 1,\n",
       "    'type': {'name': 'grass', 'url': 'https://pokeapi.co/api/v2/type/12/'}},\n",
       "   {'slot': 2,\n",
       "    'type': {'name': 'poison', 'url': 'https://pokeapi.co/api/v2/type/4/'}}]},\n",
       " {'types': [{'slot': 1,\n",
       "    'type': {'name': 'fire', 'url': 'https://pokeapi.co/api/v2/type/10/'}}]},\n",
       " {'types': [{'slot': 1,\n",
       "    'type': {'name': 'fire', 'url': 'https://pokeapi.co/api/v2/type/10/'}}]}]"
      ]
     },
     "metadata": {},
     "execution_count": 109
    }
   ],
   "source": [
    "\n",
    "\n",
    "lista_types_de_diccionarios = []\n",
    "\n",
    "for i in lista_urls:\n",
    "    diccionario_type = {}\n",
    "    diccionario_type['types'] = requests.get(i).json()['types']\n",
    "    lista_types_de_diccionarios.append(diccionario_type)\n",
    "print(len(lista_types_de_diccionarios))\n",
    "lista_types_de_diccionarios"
   ]
  },
  {
   "cell_type": "code",
   "execution_count": 107,
   "metadata": {},
   "outputs": [
    {
     "output_type": "execute_result",
     "data": {
      "text/plain": [
       "                                               types\n",
       "0  [{'slot': 1, 'type': {'name': 'grass', 'url': ...\n",
       "1  [{'slot': 1, 'type': {'name': 'grass', 'url': ...\n",
       "2  [{'slot': 1, 'type': {'name': 'grass', 'url': ...\n",
       "3  [{'slot': 1, 'type': {'name': 'fire', 'url': '...\n",
       "4  [{'slot': 1, 'type': {'name': 'fire', 'url': '..."
      ],
      "text/html": "<div>\n<style scoped>\n    .dataframe tbody tr th:only-of-type {\n        vertical-align: middle;\n    }\n\n    .dataframe tbody tr th {\n        vertical-align: top;\n    }\n\n    .dataframe thead th {\n        text-align: right;\n    }\n</style>\n<table border=\"1\" class=\"dataframe\">\n  <thead>\n    <tr style=\"text-align: right;\">\n      <th></th>\n      <th>types</th>\n    </tr>\n  </thead>\n  <tbody>\n    <tr>\n      <th>0</th>\n      <td>[{'slot': 1, 'type': {'name': 'grass', 'url': ...</td>\n    </tr>\n    <tr>\n      <th>1</th>\n      <td>[{'slot': 1, 'type': {'name': 'grass', 'url': ...</td>\n    </tr>\n    <tr>\n      <th>2</th>\n      <td>[{'slot': 1, 'type': {'name': 'grass', 'url': ...</td>\n    </tr>\n    <tr>\n      <th>3</th>\n      <td>[{'slot': 1, 'type': {'name': 'fire', 'url': '...</td>\n    </tr>\n    <tr>\n      <th>4</th>\n      <td>[{'slot': 1, 'type': {'name': 'fire', 'url': '...</td>\n    </tr>\n  </tbody>\n</table>\n</div>"
     },
     "metadata": {},
     "execution_count": 107
    }
   ],
   "source": [
    "df_types = pd.DataFrame(lista_types_de_diccionarios)\n",
    "df_types"
   ]
  },
  {
   "source": [
    "## Respuesta ejercicio 1"
   ],
   "cell_type": "markdown",
   "metadata": {}
  },
  {
   "cell_type": "code",
   "execution_count": 116,
   "metadata": {},
   "outputs": [
    {
     "output_type": "execute_result",
     "data": {
      "text/plain": [
       "         name                                   url  height  id  order  \\\n",
       "0   bulbasaur  https://pokeapi.co/api/v2/pokemon/1/       7   1      1   \n",
       "1     ivysaur  https://pokeapi.co/api/v2/pokemon/2/      10   2      2   \n",
       "2    venusaur  https://pokeapi.co/api/v2/pokemon/3/      20   3      3   \n",
       "3  charmander  https://pokeapi.co/api/v2/pokemon/4/       6   4      5   \n",
       "4  charmeleon  https://pokeapi.co/api/v2/pokemon/5/      11   5      6   \n",
       "\n",
       "   weight                                              types  \n",
       "0      69  [{'slot': 1, 'type': {'name': 'grass', 'url': ...  \n",
       "1     130  [{'slot': 1, 'type': {'name': 'grass', 'url': ...  \n",
       "2    1000  [{'slot': 1, 'type': {'name': 'grass', 'url': ...  \n",
       "3      85  [{'slot': 1, 'type': {'name': 'fire', 'url': '...  \n",
       "4     190  [{'slot': 1, 'type': {'name': 'fire', 'url': '...  "
      ],
      "text/html": "<div>\n<style scoped>\n    .dataframe tbody tr th:only-of-type {\n        vertical-align: middle;\n    }\n\n    .dataframe tbody tr th {\n        vertical-align: top;\n    }\n\n    .dataframe thead th {\n        text-align: right;\n    }\n</style>\n<table border=\"1\" class=\"dataframe\">\n  <thead>\n    <tr style=\"text-align: right;\">\n      <th></th>\n      <th>name</th>\n      <th>url</th>\n      <th>height</th>\n      <th>id</th>\n      <th>order</th>\n      <th>weight</th>\n      <th>types</th>\n    </tr>\n  </thead>\n  <tbody>\n    <tr>\n      <th>0</th>\n      <td>bulbasaur</td>\n      <td>https://pokeapi.co/api/v2/pokemon/1/</td>\n      <td>7</td>\n      <td>1</td>\n      <td>1</td>\n      <td>69</td>\n      <td>[{'slot': 1, 'type': {'name': 'grass', 'url': ...</td>\n    </tr>\n    <tr>\n      <th>1</th>\n      <td>ivysaur</td>\n      <td>https://pokeapi.co/api/v2/pokemon/2/</td>\n      <td>10</td>\n      <td>2</td>\n      <td>2</td>\n      <td>130</td>\n      <td>[{'slot': 1, 'type': {'name': 'grass', 'url': ...</td>\n    </tr>\n    <tr>\n      <th>2</th>\n      <td>venusaur</td>\n      <td>https://pokeapi.co/api/v2/pokemon/3/</td>\n      <td>20</td>\n      <td>3</td>\n      <td>3</td>\n      <td>1000</td>\n      <td>[{'slot': 1, 'type': {'name': 'grass', 'url': ...</td>\n    </tr>\n    <tr>\n      <th>3</th>\n      <td>charmander</td>\n      <td>https://pokeapi.co/api/v2/pokemon/4/</td>\n      <td>6</td>\n      <td>4</td>\n      <td>5</td>\n      <td>85</td>\n      <td>[{'slot': 1, 'type': {'name': 'fire', 'url': '...</td>\n    </tr>\n    <tr>\n      <th>4</th>\n      <td>charmeleon</td>\n      <td>https://pokeapi.co/api/v2/pokemon/5/</td>\n      <td>11</td>\n      <td>5</td>\n      <td>6</td>\n      <td>190</td>\n      <td>[{'slot': 1, 'type': {'name': 'fire', 'url': '...</td>\n    </tr>\n  </tbody>\n</table>\n</div>"
     },
     "metadata": {},
     "execution_count": 116
    }
   ],
   "source": [
    "df_total = pd.concat([df_name_url, df_height, df_id, df_order, df_weight, df_types], axis= 1)\n",
    "df_total"
   ]
  },
  {
   "source": [
    "## Inicio ejercicio 1 --> Forma inteligente"
   ],
   "cell_type": "markdown",
   "metadata": {}
  },
  {
   "cell_type": "code",
   "execution_count": 136,
   "metadata": {},
   "outputs": [
    {
     "output_type": "execute_result",
     "data": {
      "text/plain": [
       "[{'name': 'bulbasaur',\n",
       "  'url': 'https://pokeapi.co/api/v2/pokemon/1/',\n",
       "  'height': 7,\n",
       "  'id': 1,\n",
       "  'order': 1,\n",
       "  'weight': 69,\n",
       "  'types': [{'slot': 1,\n",
       "    'type': {'name': 'grass', 'url': 'https://pokeapi.co/api/v2/type/12/'}},\n",
       "   {'slot': 2,\n",
       "    'type': {'name': 'poison', 'url': 'https://pokeapi.co/api/v2/type/4/'}}]},\n",
       " {'name': 'ivysaur',\n",
       "  'url': 'https://pokeapi.co/api/v2/pokemon/2/',\n",
       "  'height': 10,\n",
       "  'id': 2,\n",
       "  'order': 2,\n",
       "  'weight': 130,\n",
       "  'types': [{'slot': 1,\n",
       "    'type': {'name': 'grass', 'url': 'https://pokeapi.co/api/v2/type/12/'}},\n",
       "   {'slot': 2,\n",
       "    'type': {'name': 'poison', 'url': 'https://pokeapi.co/api/v2/type/4/'}}]},\n",
       " {'name': 'venusaur',\n",
       "  'url': 'https://pokeapi.co/api/v2/pokemon/3/',\n",
       "  'height': 20,\n",
       "  'id': 3,\n",
       "  'order': 3,\n",
       "  'weight': 1000,\n",
       "  'types': [{'slot': 1,\n",
       "    'type': {'name': 'grass', 'url': 'https://pokeapi.co/api/v2/type/12/'}},\n",
       "   {'slot': 2,\n",
       "    'type': {'name': 'poison', 'url': 'https://pokeapi.co/api/v2/type/4/'}}]},\n",
       " {'name': 'charmander',\n",
       "  'url': 'https://pokeapi.co/api/v2/pokemon/4/',\n",
       "  'height': 6,\n",
       "  'id': 4,\n",
       "  'order': 5,\n",
       "  'weight': 85,\n",
       "  'types': [{'slot': 1,\n",
       "    'type': {'name': 'fire', 'url': 'https://pokeapi.co/api/v2/type/10/'}}]},\n",
       " {'name': 'charmeleon',\n",
       "  'url': 'https://pokeapi.co/api/v2/pokemon/5/',\n",
       "  'height': 11,\n",
       "  'id': 5,\n",
       "  'order': 6,\n",
       "  'weight': 190,\n",
       "  'types': [{'slot': 1,\n",
       "    'type': {'name': 'fire', 'url': 'https://pokeapi.co/api/v2/type/10/'}}]}]"
      ]
     },
     "metadata": {},
     "execution_count": 136
    }
   ],
   "source": [
    "pokemon_json_5['results']"
   ]
  },
  {
   "cell_type": "code",
   "execution_count": 132,
   "metadata": {},
   "outputs": [],
   "source": [
    "poke = []\n",
    "poke.extend(pokemon_json_5['results'])\n",
    "for x in poke:\n",
    "    p = requests.get(x['url']).json()\n",
    "    x['height'] = p['height']\n",
    "    x['id'] = p['id']\n",
    "    x['order'] = p['order']\n",
    "    x['weight'] = p['weight']\n",
    "    x['types'] = p['types']"
   ]
  },
  {
   "cell_type": "code",
   "execution_count": 133,
   "metadata": {},
   "outputs": [
    {
     "output_type": "execute_result",
     "data": {
      "text/plain": [
       "         name                                   url  height  id  order  \\\n",
       "0   bulbasaur  https://pokeapi.co/api/v2/pokemon/1/       7   1      1   \n",
       "1     ivysaur  https://pokeapi.co/api/v2/pokemon/2/      10   2      2   \n",
       "2    venusaur  https://pokeapi.co/api/v2/pokemon/3/      20   3      3   \n",
       "3  charmander  https://pokeapi.co/api/v2/pokemon/4/       6   4      5   \n",
       "4  charmeleon  https://pokeapi.co/api/v2/pokemon/5/      11   5      6   \n",
       "\n",
       "   weight                                              types  \n",
       "0      69  [{'slot': 1, 'type': {'name': 'grass', 'url': ...  \n",
       "1     130  [{'slot': 1, 'type': {'name': 'grass', 'url': ...  \n",
       "2    1000  [{'slot': 1, 'type': {'name': 'grass', 'url': ...  \n",
       "3      85  [{'slot': 1, 'type': {'name': 'fire', 'url': '...  \n",
       "4     190  [{'slot': 1, 'type': {'name': 'fire', 'url': '...  "
      ],
      "text/html": "<div>\n<style scoped>\n    .dataframe tbody tr th:only-of-type {\n        vertical-align: middle;\n    }\n\n    .dataframe tbody tr th {\n        vertical-align: top;\n    }\n\n    .dataframe thead th {\n        text-align: right;\n    }\n</style>\n<table border=\"1\" class=\"dataframe\">\n  <thead>\n    <tr style=\"text-align: right;\">\n      <th></th>\n      <th>name</th>\n      <th>url</th>\n      <th>height</th>\n      <th>id</th>\n      <th>order</th>\n      <th>weight</th>\n      <th>types</th>\n    </tr>\n  </thead>\n  <tbody>\n    <tr>\n      <th>0</th>\n      <td>bulbasaur</td>\n      <td>https://pokeapi.co/api/v2/pokemon/1/</td>\n      <td>7</td>\n      <td>1</td>\n      <td>1</td>\n      <td>69</td>\n      <td>[{'slot': 1, 'type': {'name': 'grass', 'url': ...</td>\n    </tr>\n    <tr>\n      <th>1</th>\n      <td>ivysaur</td>\n      <td>https://pokeapi.co/api/v2/pokemon/2/</td>\n      <td>10</td>\n      <td>2</td>\n      <td>2</td>\n      <td>130</td>\n      <td>[{'slot': 1, 'type': {'name': 'grass', 'url': ...</td>\n    </tr>\n    <tr>\n      <th>2</th>\n      <td>venusaur</td>\n      <td>https://pokeapi.co/api/v2/pokemon/3/</td>\n      <td>20</td>\n      <td>3</td>\n      <td>3</td>\n      <td>1000</td>\n      <td>[{'slot': 1, 'type': {'name': 'grass', 'url': ...</td>\n    </tr>\n    <tr>\n      <th>3</th>\n      <td>charmander</td>\n      <td>https://pokeapi.co/api/v2/pokemon/4/</td>\n      <td>6</td>\n      <td>4</td>\n      <td>5</td>\n      <td>85</td>\n      <td>[{'slot': 1, 'type': {'name': 'fire', 'url': '...</td>\n    </tr>\n    <tr>\n      <th>4</th>\n      <td>charmeleon</td>\n      <td>https://pokeapi.co/api/v2/pokemon/5/</td>\n      <td>11</td>\n      <td>5</td>\n      <td>6</td>\n      <td>190</td>\n      <td>[{'slot': 1, 'type': {'name': 'fire', 'url': '...</td>\n    </tr>\n  </tbody>\n</table>\n</div>"
     },
     "metadata": {},
     "execution_count": 133
    }
   ],
   "source": [
    "df_poke = pd.DataFrame(poke)\n",
    "df_poke"
   ]
  },
  {
   "source": [
    "## Inicio Ejercicio 2"
   ],
   "cell_type": "markdown",
   "metadata": {}
  },
  {
   "cell_type": "code",
   "execution_count": 137,
   "metadata": {},
   "outputs": [
    {
     "output_type": "execute_result",
     "data": {
      "text/plain": [
       "['https://pokeapi.co/api/v2/pokemon/1/',\n",
       " 'https://pokeapi.co/api/v2/pokemon/2/',\n",
       " 'https://pokeapi.co/api/v2/pokemon/3/',\n",
       " 'https://pokeapi.co/api/v2/pokemon/4/',\n",
       " 'https://pokeapi.co/api/v2/pokemon/5/']"
      ]
     },
     "metadata": {},
     "execution_count": 137
    }
   ],
   "source": [
    "lista_urls # --> Lista de URL de CADA POKEMON"
   ]
  },
  {
   "cell_type": "code",
   "execution_count": 161,
   "metadata": {},
   "outputs": [
    {
     "output_type": "execute_result",
     "data": {
      "text/plain": [
       "[['slot', 'type'],\n",
       " ['slot', 'type'],\n",
       " ['slot', 'type'],\n",
       " ['slot', 'type'],\n",
       " ['slot', 'type'],\n",
       " ['slot', 'type'],\n",
       " ['slot', 'type'],\n",
       " ['slot', 'type']]"
      ]
     },
     "metadata": {},
     "execution_count": 161
    }
   ],
   "source": [
    "dentro_type = []\n",
    "for i in lista_urls:\n",
    "    primeras_keys = {}\n",
    "    a = requests.get(i).json()['types'] # --> Nos da una lista de diccionarios\n",
    "    for diccionario in a:\n",
    "        claves = list(diccionario.keys())\n",
    "        dentro_type.append(claves)\n",
    "dentro_type"
   ]
  },
  {
   "cell_type": "code",
   "execution_count": 163,
   "metadata": {},
   "outputs": [],
   "source": [
    "df_a_json = df_poke.to_json()"
   ]
  },
  {
   "cell_type": "code",
   "execution_count": 166,
   "metadata": {},
   "outputs": [],
   "source": [
    "json_cargado = json.loads(df_a_json)"
   ]
  },
  {
   "cell_type": "code",
   "execution_count": 168,
   "metadata": {},
   "outputs": [
    {
     "output_type": "stream",
     "name": "stderr",
     "text": [
      "ipykernel_launcher:1: FutureWarning: pandas.io.json.json_normalize is deprecated, use pandas.json_normalize instead\n"
     ]
    },
    {
     "output_type": "execute_result",
     "data": {
      "text/plain": [
       "name.0    0                                            bulbasaur\n",
       "name.1    0                                              ivysaur\n",
       "name.2    0                                             venusaur\n",
       "name.3    0                                           charmander\n",
       "name.4    0                                           charmeleon\n",
       "url.0     0                 https://pokeapi.co/api/v2/pokemon/1/\n",
       "url.1     0                 https://pokeapi.co/api/v2/pokemon/2/\n",
       "url.2     0                 https://pokeapi.co/api/v2/pokemon/3/\n",
       "url.3     0                 https://pokeapi.co/api/v2/pokemon/4/\n",
       "url.4     0                 https://pokeapi.co/api/v2/pokemon/5/\n",
       "height.0  0                                                    7\n",
       "height.1  0                                                   10\n",
       "height.2  0                                                   20\n",
       "height.3  0                                                    6\n",
       "height.4  0                                                   11\n",
       "id.0      0                                                    1\n",
       "id.1      0                                                    2\n",
       "id.2      0                                                    3\n",
       "id.3      0                                                    4\n",
       "id.4      0                                                    5\n",
       "order.0   0                                                    1\n",
       "order.1   0                                                    2\n",
       "order.2   0                                                    3\n",
       "order.3   0                                                    5\n",
       "order.4   0                                                    6\n",
       "weight.0  0                                                   69\n",
       "weight.1  0                                                  130\n",
       "weight.2  0                                                 1000\n",
       "weight.3  0                                                   85\n",
       "weight.4  0                                                  190\n",
       "types.0   0    [{'slot': 1, 'type': {'name': 'grass', 'url': ...\n",
       "types.1   0    [{'slot': 1, 'type': {'name': 'grass', 'url': ...\n",
       "types.2   0    [{'slot': 1, 'type': {'name': 'grass', 'url': ...\n",
       "types.3   0    [{'slot': 1, 'type': {'name': 'fire', 'url': '...\n",
       "types.4   0    [{'slot': 1, 'type': {'name': 'fire', 'url': '...\n",
       "dtype: object"
      ]
     },
     "metadata": {},
     "execution_count": 168
    }
   ],
   "source": [
    "json_normalize(json_cargado).unstack()"
   ]
  },
  {
   "cell_type": "code",
   "execution_count": null,
   "metadata": {},
   "outputs": [],
   "source": []
  }
 ]
}