{
 "metadata": {
  "language_info": {
   "codemirror_mode": {
    "name": "ipython",
    "version": 3
   },
   "file_extension": ".py",
   "mimetype": "text/x-python",
   "name": "python",
   "nbconvert_exporter": "python",
   "pygments_lexer": "ipython3",
   "version": "3.6.4"
  },
  "orig_nbformat": 2,
  "kernelspec": {
   "name": "python36464bitc2077ed07ea84d23aa5b518d224882ab",
   "display_name": "Python 3.6.4 64-bit"
  },
  "metadata": {
   "interpreter": {
    "hash": "5c4d2f1fdcd3716c7a5eea90ad07be30193490dd4e63617705244f5fd89ea793"
   }
  }
 },
 "nbformat": 4,
 "nbformat_minor": 2,
 "cells": [
  {
   "cell_type": "markdown",
   "metadata": {},
   "source": [
    "## API con token"
   ]
  },
  {
   "cell_type": "markdown",
   "metadata": {},
   "source": [
    "_El maravilloso mundo de las_ **APIs**\n",
    "### o EL RETORNO DE JSON\n"
   ]
  },
  {
   "cell_type": "markdown",
   "metadata": {},
   "source": [
    "Listado de **APIs** for free: \n",
    "https://github.com/public-apis/public-apis"
   ]
  },
  {
   "cell_type": "code",
   "execution_count": null,
   "metadata": {},
   "outputs": [],
   "source": [
    "import json\n",
    "import requests"
   ]
  },
  {
   "cell_type": "code",
   "execution_count": null,
   "metadata": {},
   "outputs": [],
   "source": [
    "json_fullpath = \"settings_passwords.json\"\n",
    "# settings.json estará en el .gitignore  "
   ]
  },
  {
   "cell_type": "code",
   "execution_count": 7,
   "metadata": {},
   "outputs": [],
   "source": [
    "with open(json_fullpath, \"r+\") as outfile:\n",
    "    json_readed = json.load(outfile)"
   ]
  },
  {
   "cell_type": "markdown",
   "metadata": {},
   "source": [
    "**DOCUMENTACIÓN DE LA API**\n",
    "\n",
    "\n",
    "--> https://developer.foursquare.com/docs/places-api/ <--\n",
    "\n",
    "** Cómo crear una cuenta de desarrollo **\n",
    "\n",
    "--> https://developer.foursquare.com/docs/places-api/getting-started/ <--\n",
    "\n",
    "** Diferentes Endpoints **\n",
    "\n",
    "--> https://developer.foursquare.com/docs/places-api/endpoints/ <--"
   ]
  },
  {
   "source": [
    "### Objetivo: \n",
    "\n",
    "#### Descubrir los restaurantes que están cerca de The Bridge a través de la API de foursquare"
   ],
   "cell_type": "markdown",
   "metadata": {}
  },
  {
   "cell_type": "code",
   "execution_count": 9,
   "metadata": {},
   "outputs": [],
   "source": [
    "url = 'https://api.foursquare.com/v2/venues/explore'\n",
    "\n",
    "# más códigos de categorías\n",
    "# https://developer.foursquare.com/docs/build-with-foursquare/categories/\n",
    "\n",
    "# irish pub\n",
    "irish_rest = \"52e81612bcbc57f1066b7a06\"\n",
    "\n",
    "# para sacar las coordenadas podrías usar una API pero también...\n",
    "# https://www.123coordenadas.com/coordinates/\n",
    "\n",
    "lat = 40.4226767\n",
    "lon = -3.6922754"
   ]
  },
  {
   "cell_type": "code",
   "execution_count": 102,
   "metadata": {},
   "outputs": [],
   "source": [
    "# Lo importante, todas las APIs con token tienen una forma de acceder a ellas. La información pertinente a cada una de ellas viene (o debería venir) en su documentación\n",
    "\n",
    "params = {\"client_id\": json_readed[\"CLIENT\"],\n",
    "  \"client_secret\": json_readed[\"API_KEY\"],\n",
    "  \"v\":\"20180323\",\n",
    "  \"ll\": f'{lat},{lon}',\n",
    "  \"section\": \"food\",\n",
    "  # options --> food, drinks, coffee, shops, arts, outdoors, sights, trending\n",
    "  \"limit\":1000\n",
    "}  "
   ]
  },
  {
   "cell_type": "code",
   "execution_count": 103,
   "metadata": {},
   "outputs": [],
   "source": [
    "resp = requests.get(url=url, params=params)\n",
    "data = json.loads(resp.text)"
   ]
  },
  {
   "cell_type": "code",
   "execution_count": 114,
   "metadata": {},
   "outputs": [
    {
     "output_type": "stream",
     "name": "stdout",
     "text": [
      "\n"
     ]
    }
   ],
   "source": [
    "# Muestra cantidad ilegible de datos\n",
    "data\n",
    "print()"
   ]
  },
  {
   "cell_type": "code",
   "execution_count": 16,
   "metadata": {},
   "outputs": [],
   "source": [
    "# Para guardar en un archivo local\n",
    "import pandas as pd\n",
    "df = pd.DataFrame(data)\n",
    "df.to_csv(\"toda_informacion.csv\")"
   ]
  },
  {
   "cell_type": "code",
   "execution_count": 25,
   "metadata": {},
   "outputs": [],
   "source": [
    "df.to_json(\"toda_informacion.json\")"
   ]
  },
  {
   "cell_type": "code",
   "execution_count": 80,
   "metadata": {},
   "outputs": [],
   "source": [
    "import json\n",
    "json_result = df.to_json()\n",
    "parsed = json.loads(json_result)\n",
    "with open(\"final_json.json\", 'w+') as outfile:\n",
    "    json.dump(parsed, outfile, indent=4)"
   ]
  },
  {
   "cell_type": "code",
   "execution_count": 19,
   "metadata": {},
   "outputs": [
    {
     "output_type": "execute_result",
     "data": {
      "text/plain": [
       "                   Unnamed: 0                      meta  \\\n",
       "0                        code                       200   \n",
       "1                   requestId  609905542d841830f35c61cc   \n",
       "2            suggestedFilters                       NaN   \n",
       "3             suggestedRadius                       NaN   \n",
       "4              headerLocation                       NaN   \n",
       "5          headerFullLocation                       NaN   \n",
       "6   headerLocationGranularity                       NaN   \n",
       "7                       query                       NaN   \n",
       "8                totalResults                       NaN   \n",
       "9             suggestedBounds                       NaN   \n",
       "10                     groups                       NaN   \n",
       "\n",
       "                                             response  \n",
       "0                                                 NaN  \n",
       "1                                                 NaN  \n",
       "2   {'header': 'Tap to show:', 'filters': [{'name'...  \n",
       "3                                                 642  \n",
       "4                                              Chueca  \n",
       "5                                      Chueca, Madrid  \n",
       "6                                        neighborhood  \n",
       "7                                                food  \n",
       "8                                                 204  \n",
       "9   {'ne': {'lat': 40.42757324545612, 'lng': -3.68...  \n",
       "10  [{'type': 'Recommended Places', 'name': 'recom...  "
      ],
      "text/html": "<div>\n<style scoped>\n    .dataframe tbody tr th:only-of-type {\n        vertical-align: middle;\n    }\n\n    .dataframe tbody tr th {\n        vertical-align: top;\n    }\n\n    .dataframe thead th {\n        text-align: right;\n    }\n</style>\n<table border=\"1\" class=\"dataframe\">\n  <thead>\n    <tr style=\"text-align: right;\">\n      <th></th>\n      <th>Unnamed: 0</th>\n      <th>meta</th>\n      <th>response</th>\n    </tr>\n  </thead>\n  <tbody>\n    <tr>\n      <th>0</th>\n      <td>code</td>\n      <td>200</td>\n      <td>NaN</td>\n    </tr>\n    <tr>\n      <th>1</th>\n      <td>requestId</td>\n      <td>609905542d841830f35c61cc</td>\n      <td>NaN</td>\n    </tr>\n    <tr>\n      <th>2</th>\n      <td>suggestedFilters</td>\n      <td>NaN</td>\n      <td>{'header': 'Tap to show:', 'filters': [{'name'...</td>\n    </tr>\n    <tr>\n      <th>3</th>\n      <td>suggestedRadius</td>\n      <td>NaN</td>\n      <td>642</td>\n    </tr>\n    <tr>\n      <th>4</th>\n      <td>headerLocation</td>\n      <td>NaN</td>\n      <td>Chueca</td>\n    </tr>\n    <tr>\n      <th>5</th>\n      <td>headerFullLocation</td>\n      <td>NaN</td>\n      <td>Chueca, Madrid</td>\n    </tr>\n    <tr>\n      <th>6</th>\n      <td>headerLocationGranularity</td>\n      <td>NaN</td>\n      <td>neighborhood</td>\n    </tr>\n    <tr>\n      <th>7</th>\n      <td>query</td>\n      <td>NaN</td>\n      <td>food</td>\n    </tr>\n    <tr>\n      <th>8</th>\n      <td>totalResults</td>\n      <td>NaN</td>\n      <td>204</td>\n    </tr>\n    <tr>\n      <th>9</th>\n      <td>suggestedBounds</td>\n      <td>NaN</td>\n      <td>{'ne': {'lat': 40.42757324545612, 'lng': -3.68...</td>\n    </tr>\n    <tr>\n      <th>10</th>\n      <td>groups</td>\n      <td>NaN</td>\n      <td>[{'type': 'Recommended Places', 'name': 'recom...</td>\n    </tr>\n  </tbody>\n</table>\n</div>"
     },
     "metadata": {},
     "execution_count": 19
    }
   ],
   "source": [
    "# Esto se utilizaría para trabajar con un fichero local\n",
    "df = pd.read_csv(\"toda_informacion.csv\")\n",
    "df"
   ]
  },
  {
   "cell_type": "code",
   "execution_count": 135,
   "metadata": {},
   "outputs": [
    {
     "output_type": "execute_result",
     "data": {
      "text/plain": [
       "                                             response\n",
       "2   {'header': 'Tap to show:', 'filters': [{'name'...\n",
       "3                                                 642\n",
       "4                                              Chueca\n",
       "5                                      Chueca, Madrid\n",
       "6                                        neighborhood\n",
       "7                                                food\n",
       "8                                                 204\n",
       "9   {'ne': {'lat': 40.42757324545612, 'lng': -3.68...\n",
       "10  [{'type': 'Recommended Places', 'name': 'recom..."
      ],
      "text/html": "<div>\n<style scoped>\n    .dataframe tbody tr th:only-of-type {\n        vertical-align: middle;\n    }\n\n    .dataframe tbody tr th {\n        vertical-align: top;\n    }\n\n    .dataframe thead th {\n        text-align: right;\n    }\n</style>\n<table border=\"1\" class=\"dataframe\">\n  <thead>\n    <tr style=\"text-align: right;\">\n      <th></th>\n      <th>response</th>\n    </tr>\n  </thead>\n  <tbody>\n    <tr>\n      <th>2</th>\n      <td>{'header': 'Tap to show:', 'filters': [{'name'...</td>\n    </tr>\n    <tr>\n      <th>3</th>\n      <td>642</td>\n    </tr>\n    <tr>\n      <th>4</th>\n      <td>Chueca</td>\n    </tr>\n    <tr>\n      <th>5</th>\n      <td>Chueca, Madrid</td>\n    </tr>\n    <tr>\n      <th>6</th>\n      <td>neighborhood</td>\n    </tr>\n    <tr>\n      <th>7</th>\n      <td>food</td>\n    </tr>\n    <tr>\n      <th>8</th>\n      <td>204</td>\n    </tr>\n    <tr>\n      <th>9</th>\n      <td>{'ne': {'lat': 40.42757324545612, 'lng': -3.68...</td>\n    </tr>\n    <tr>\n      <th>10</th>\n      <td>[{'type': 'Recommended Places', 'name': 'recom...</td>\n    </tr>\n  </tbody>\n</table>\n</div>"
     },
     "metadata": {},
     "execution_count": 135
    }
   ],
   "source": [
    "pd.DataFrame(df.loc[2:10, \"response\"])"
   ]
  },
  {
   "cell_type": "code",
   "execution_count": 124,
   "metadata": {},
   "outputs": [
    {
     "output_type": "execute_result",
     "data": {
      "text/plain": [
       "dict_keys(['code', 'requestId'])"
      ]
     },
     "metadata": {},
     "execution_count": 124
    }
   ],
   "source": [
    "# Claves del diccionario data[\"meta\"]\n",
    "data[\"meta\"].keys()"
   ]
  },
  {
   "cell_type": "code",
   "execution_count": 125,
   "metadata": {},
   "outputs": [
    {
     "output_type": "execute_result",
     "data": {
      "text/plain": [
       "dict_keys(['suggestedFilters', 'suggestedRadius', 'headerLocation', 'headerFullLocation', 'headerLocationGranularity', 'query', 'totalResults', 'suggestedBounds', 'groups'])"
      ]
     },
     "metadata": {},
     "execution_count": 125
    }
   ],
   "source": [
    "# Claves del diccionario data[\"response\"]\n",
    "data[\"response\"].keys()"
   ]
  },
  {
   "cell_type": "code",
   "execution_count": 126,
   "metadata": {},
   "outputs": [
    {
     "output_type": "execute_result",
     "data": {
      "text/plain": [
       "Index(['Unnamed: 0', 'meta', 'response'], dtype='object')"
      ]
     },
     "metadata": {},
     "execution_count": 126
    }
   ],
   "source": [
    "#  .keys de un dataframe te devuelve las columnas del dataframe\n",
    "df.keys()"
   ]
  },
  {
   "cell_type": "code",
   "execution_count": 127,
   "metadata": {},
   "outputs": [
    {
     "output_type": "execute_result",
     "data": {
      "text/plain": [
       "RangeIndex(start=0, stop=11, step=1)"
      ]
     },
     "metadata": {},
     "execution_count": 127
    }
   ],
   "source": [
    "#  .keys de una serie te devuelve el índice de esa serie\n",
    "df[\"meta\"].keys()"
   ]
  },
  {
   "cell_type": "code",
   "execution_count": 128,
   "metadata": {},
   "outputs": [
    {
     "output_type": "execute_result",
     "data": {
      "text/plain": [
       "RangeIndex(start=0, stop=11, step=1)"
      ]
     },
     "metadata": {},
     "execution_count": 128
    }
   ],
   "source": [
    "df[\"meta\"].index"
   ]
  },
  {
   "cell_type": "code",
   "execution_count": 72,
   "metadata": {},
   "outputs": [],
   "source": [
    "json_string = df.iloc[-1:][\"response\"].values[0]\r\n",
    "#print(json_string)\r\n",
    "#json_leido = json.loads(json_string)\r\n",
    "#json_leido"
   ]
  },
  {
   "cell_type": "code",
   "execution_count": 119,
   "metadata": {},
   "outputs": [
    {
     "output_type": "execute_result",
     "data": {
      "text/plain": [
       "RangeIndex(start=0, stop=11, step=1)"
      ]
     },
     "metadata": {},
     "execution_count": 119
    }
   ],
   "source": [
    "df[\"response\"].keys()"
   ]
  },
  {
   "cell_type": "code",
   "execution_count": null,
   "metadata": {},
   "outputs": [],
   "source": []
  },
  {
   "cell_type": "code",
   "execution_count": 24,
   "metadata": {
    "tags": []
   },
   "outputs": [
    {
     "output_type": "execute_result",
     "data": {
      "text/plain": [
       "dict_keys(['suggestedFilters', 'suggestedRadius', 'headerLocation', 'headerFullLocation', 'headerLocationGranularity', 'query', 'totalResults', 'suggestedBounds', 'groups'])"
      ]
     },
     "metadata": {},
     "execution_count": 24
    }
   ],
   "source": [
    "data[\"response\"].keys()"
   ]
  },
  {
   "cell_type": "code",
   "execution_count": 81,
   "metadata": {},
   "outputs": [
    {
     "output_type": "stream",
     "name": "stdout",
     "text": [
      "\n"
     ]
    }
   ],
   "source": [
    "# Cantidad ilegible de datos\n",
    "data[\"response\"]\n",
    "print()\n"
   ]
  },
  {
   "cell_type": "code",
   "execution_count": 74,
   "metadata": {},
   "outputs": [
    {
     "output_type": "execute_result",
     "data": {
      "text/plain": [
       "dict"
      ]
     },
     "metadata": {},
     "execution_count": 74
    }
   ],
   "source": [
    "type(data[\"response\"])"
   ]
  },
  {
   "cell_type": "code",
   "execution_count": 88,
   "metadata": {},
   "outputs": [
    {
     "output_type": "execute_result",
     "data": {
      "text/plain": [
       "dict_keys(['type', 'name', 'items'])"
      ]
     },
     "metadata": {},
     "execution_count": 88
    }
   ],
   "source": [
    "type(data[\"response\"]['groups'][0])\n",
    "data[\"response\"]['groups'][0].keys()"
   ]
  },
  {
   "cell_type": "code",
   "execution_count": 91,
   "metadata": {},
   "outputs": [
    {
     "output_type": "stream",
     "name": "stdout",
     "text": [
      "\n"
     ]
    }
   ],
   "source": [
    "data[\"response\"]['groups'][0][\"items\"][0]\n",
    "print()"
   ]
  },
  {
   "cell_type": "code",
   "execution_count": 94,
   "metadata": {},
   "outputs": [
    {
     "output_type": "execute_result",
     "data": {
      "text/plain": [
       "{'id': '5ac924f0a22db76045072b51',\n",
       " 'name': 'Charrua',\n",
       " 'contact': {},\n",
       " 'location': {'lat': 40.422416,\n",
       "  'lng': -3.693999,\n",
       "  'labeledLatLngs': [{'label': 'display', 'lat': 40.422416, 'lng': -3.693999}],\n",
       "  'distance': 148,\n",
       "  'postalCode': '28004',\n",
       "  'cc': 'ES',\n",
       "  'city': 'Madrid',\n",
       "  'state': 'Madrid',\n",
       "  'country': 'España',\n",
       "  'formattedAddress': ['28004 Madrid Madrid', 'España']},\n",
       " 'categories': [{'id': '4bf58dd8d48988d1df931735',\n",
       "   'name': 'BBQ Joint',\n",
       "   'pluralName': 'BBQ Joints',\n",
       "   'shortName': 'BBQ',\n",
       "   'icon': {'prefix': 'https://ss3.4sqi.net/img/categories_v2/food/bbqalt_',\n",
       "    'suffix': '.png'},\n",
       "   'primary': True}],\n",
       " 'verified': False,\n",
       " 'stats': {'tipCount': 0,\n",
       "  'usersCount': 0,\n",
       "  'checkinsCount': 0,\n",
       "  'visitsCount': 0},\n",
       " 'beenHere': {'count': 0,\n",
       "  'lastCheckinExpiredAt': 0,\n",
       "  'marked': False,\n",
       "  'unconfirmedCount': 0},\n",
       " 'photos': {'count': 0, 'groups': []},\n",
       " 'hereNow': {'count': 0, 'summary': 'Nobody here', 'groups': []}}"
      ]
     },
     "metadata": {},
     "execution_count": 94
    }
   ],
   "source": [
    "data[\"response\"]['groups'][0][\"items\"][0][\"venue\"]"
   ]
  },
  {
   "cell_type": "code",
   "execution_count": 97,
   "metadata": {},
   "outputs": [
    {
     "output_type": "execute_result",
     "data": {
      "text/plain": [
       "dict_keys(['id', 'name', 'contact', 'location', 'categories', 'verified', 'stats', 'beenHere', 'photos', 'hereNow'])"
      ]
     },
     "metadata": {},
     "execution_count": 97
    }
   ],
   "source": [
    "data[\"response\"]['groups'][0][\"items\"][0][\"venue\"]"
   ]
  },
  {
   "cell_type": "code",
   "execution_count": 109,
   "metadata": {
    "tags": []
   },
   "outputs": [
    {
     "output_type": "stream",
     "name": "stdout",
     "text": [
      "148\n---------------\n140\n---------------\n168\n---------------\n268\n---------------\n245\n---------------\n282\n---------------\n299\n---------------\n228\n---------------\n146\n---------------\n275\n---------------\n233\n---------------\n191\n---------------\n381\n---------------\n410\n---------------\n322\n---------------\n346\n---------------\n167\n---------------\n344\n---------------\n146\n---------------\n410\n---------------\n404\n---------------\n288\n---------------\n263\n---------------\n340\n---------------\n137\n---------------\n425\n---------------\n411\n---------------\n468\n---------------\n160\n---------------\n451\n---------------\n436\n---------------\n375\n---------------\n394\n---------------\n372\n---------------\n280\n---------------\n473\n---------------\n341\n---------------\n535\n---------------\n488\n---------------\n132\n---------------\n525\n---------------\n351\n---------------\n443\n---------------\n418\n---------------\n533\n---------------\n472\n---------------\n553\n---------------\n563\n---------------\n412\n---------------\n301\n---------------\n531\n---------------\n468\n---------------\n510\n---------------\n384\n---------------\n510\n---------------\n445\n---------------\n471\n---------------\n170\n---------------\n409\n---------------\n455\n---------------\n439\n---------------\n478\n---------------\n608\n---------------\n88\n---------------\n545\n---------------\n486\n---------------\n465\n---------------\n487\n---------------\n550\n---------------\n453\n---------------\n319\n---------------\n597\n---------------\n500\n---------------\n453\n---------------\n524\n---------------\n470\n---------------\n377\n---------------\n627\n---------------\n507\n---------------\n373\n---------------\n566\n---------------\n506\n---------------\n442\n---------------\n217\n---------------\n131\n---------------\n401\n---------------\n173\n---------------\n536\n---------------\n607\n---------------\n534\n---------------\n455\n---------------\n240\n---------------\n118\n---------------\n528\n---------------\n525\n---------------\n531\n---------------\n324\n---------------\n383\n---------------\n540\n---------------\n494\n---------------\n"
     ]
    }
   ],
   "source": [
    "for rest in data[\"response\"]['groups'][0][\"items\"]:\n",
    "    print(rest[\"venue\"][\"location\"][\"distance\"])\n",
    "    print(\"---------------\")"
   ]
  },
  {
   "cell_type": "code",
   "execution_count": null,
   "metadata": {},
   "outputs": [],
   "source": [
    "opciones = [rest[\"venue\"][\"name\"] for rest in data[\"response\"]['groups'][0][\"items\"]]\n",
    "opciones"
   ]
  },
  {
   "cell_type": "markdown",
   "metadata": {},
   "source": [
    "Comprobamos que efectivamente están cerca de **The Bridge**"
   ]
  },
  {
   "cell_type": "markdown",
   "metadata": {},
   "source": [
    "- **Charrua**"
   ]
  },
  {
   "cell_type": "markdown",
   "metadata": {},
   "source": [
    "https://www.google.com/maps/place/Charr%C3%BAa+Madrid/@40.4213206,-3.6974034,15z/data=!4m5!3m4!1s0x0:0x8673b16903da6e51!8m2!3d40.4223987!4d-3.6940989"
   ]
  },
  {
   "cell_type": "markdown",
   "metadata": {},
   "source": [
    "- **Pelotari**"
   ]
  },
  {
   "cell_type": "markdown",
   "metadata": {},
   "source": [
    "https://www.google.com/maps/place/Pelotari/@40.4210322,-3.7011421,15.06z/data=!4m8!1m2!2m1!1spelotari!3m4!1s0xd42289a8d2d74cb:0x2b6420709612ce53!8m2!3d40.4222232!4d-3.6906525"
   ]
  },
  {
   "cell_type": "markdown",
   "metadata": {},
   "source": [
    "- **Doki doki**"
   ]
  },
  {
   "cell_type": "markdown",
   "metadata": {},
   "source": [
    "https://www.google.com/maps/place/Restaurante+Doki+Doki/@40.421046,-3.6919977,17z/data=!3m1!4b1!4m5!3m4!1s0xd42289a5313ac17:0x27cfb02077407a64!8m2!3d40.421046!4d-3.689809"
   ]
  }
 ]
}