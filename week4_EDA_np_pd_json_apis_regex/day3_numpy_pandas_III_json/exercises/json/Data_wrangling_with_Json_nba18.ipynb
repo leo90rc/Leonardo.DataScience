{
 "cells": [
  {
   "cell_type": "markdown",
   "metadata": {},
   "source": [
    "## Working on Jsons"
   ]
  },
  {
   "cell_type": "code",
   "execution_count": 2,
   "metadata": {},
   "outputs": [],
   "source": [
    "import requests\n",
    "import json\n",
    "import pandas as pd"
   ]
  },
  {
   "cell_type": "code",
   "execution_count": 3,
   "metadata": {
    "tags": []
   },
   "outputs": [],
   "source": [
    "r = requests.get(url='http://data.nba.net/prod/v2/2018/teams.json')\n",
    "json_readed = json.loads(r.text)"
   ]
  },
  {
   "cell_type": "code",
   "execution_count": 16,
   "metadata": {},
   "outputs": [],
   "source": [
    "json_propio = r.json() # --> También podría leerlo así.    json_readed  == json_propio --> True"
   ]
  },
  {
   "cell_type": "code",
   "execution_count": 9,
   "metadata": {},
   "outputs": [
    {
     "output_type": "execute_result",
     "data": {
      "text/plain": [
       "dict"
      ]
     },
     "metadata": {},
     "execution_count": 9
    }
   ],
   "source": [
    "type(json_readed)"
   ]
  },
  {
   "cell_type": "code",
   "execution_count": 11,
   "metadata": {
    "tags": []
   },
   "outputs": [
    {
     "output_type": "execute_result",
     "data": {
      "text/plain": [
       "                                          _internal  \\\n",
       "pubDateTime                 2018-08-30 20:00:04.422   \n",
       "xslt         xsl/league/roster/marty_teams_list.xsl   \n",
       "eventName                             league_roster   \n",
       "standard                                        NaN   \n",
       "africa                                          NaN   \n",
       "sacramento                                      NaN   \n",
       "vegas                                           NaN   \n",
       "utah                                            NaN   \n",
       "\n",
       "                                                        league  \n",
       "pubDateTime                                                NaN  \n",
       "xslt                                                       NaN  \n",
       "eventName                                                  NaN  \n",
       "standard     [{'isNBAFranchise': False, 'isAllStar': True, ...  \n",
       "africa       [{'isNBAFranchise': False, 'isAllStar': False,...  \n",
       "sacramento   [{'isNBAFranchise': True, 'isAllStar': False, ...  \n",
       "vegas        [{'isNBAFranchise': True, 'isAllStar': False, ...  \n",
       "utah         [{'isNBAFranchise': True, 'isAllStar': False, ...  "
      ],
      "text/html": "<div>\n<style scoped>\n    .dataframe tbody tr th:only-of-type {\n        vertical-align: middle;\n    }\n\n    .dataframe tbody tr th {\n        vertical-align: top;\n    }\n\n    .dataframe thead th {\n        text-align: right;\n    }\n</style>\n<table border=\"1\" class=\"dataframe\">\n  <thead>\n    <tr style=\"text-align: right;\">\n      <th></th>\n      <th>_internal</th>\n      <th>league</th>\n    </tr>\n  </thead>\n  <tbody>\n    <tr>\n      <th>pubDateTime</th>\n      <td>2018-08-30 20:00:04.422</td>\n      <td>NaN</td>\n    </tr>\n    <tr>\n      <th>xslt</th>\n      <td>xsl/league/roster/marty_teams_list.xsl</td>\n      <td>NaN</td>\n    </tr>\n    <tr>\n      <th>eventName</th>\n      <td>league_roster</td>\n      <td>NaN</td>\n    </tr>\n    <tr>\n      <th>standard</th>\n      <td>NaN</td>\n      <td>[{'isNBAFranchise': False, 'isAllStar': True, ...</td>\n    </tr>\n    <tr>\n      <th>africa</th>\n      <td>NaN</td>\n      <td>[{'isNBAFranchise': False, 'isAllStar': False,...</td>\n    </tr>\n    <tr>\n      <th>sacramento</th>\n      <td>NaN</td>\n      <td>[{'isNBAFranchise': True, 'isAllStar': False, ...</td>\n    </tr>\n    <tr>\n      <th>vegas</th>\n      <td>NaN</td>\n      <td>[{'isNBAFranchise': True, 'isAllStar': False, ...</td>\n    </tr>\n    <tr>\n      <th>utah</th>\n      <td>NaN</td>\n      <td>[{'isNBAFranchise': True, 'isAllStar': False, ...</td>\n    </tr>\n  </tbody>\n</table>\n</div>"
     },
     "metadata": {},
     "execution_count": 11
    }
   ],
   "source": [
    "df = pd.DataFrame(json_readed)\n",
    "df"
   ]
  },
  {
   "cell_type": "code",
   "execution_count": 13,
   "metadata": {},
   "outputs": [
    {
     "output_type": "stream",
     "name": "stdout",
     "text": [
      "<class 'pandas.core.frame.DataFrame'>\n"
     ]
    },
    {
     "output_type": "execute_result",
     "data": {
      "text/plain": [
       "                                                       league\n",
       "standard    [{'isNBAFranchise': False, 'isAllStar': True, ...\n",
       "africa      [{'isNBAFranchise': False, 'isAllStar': False,...\n",
       "sacramento  [{'isNBAFranchise': True, 'isAllStar': False, ...\n",
       "vegas       [{'isNBAFranchise': True, 'isAllStar': False, ...\n",
       "utah        [{'isNBAFranchise': True, 'isAllStar': False, ..."
      ],
      "text/html": "<div>\n<style scoped>\n    .dataframe tbody tr th:only-of-type {\n        vertical-align: middle;\n    }\n\n    .dataframe tbody tr th {\n        vertical-align: top;\n    }\n\n    .dataframe thead th {\n        text-align: right;\n    }\n</style>\n<table border=\"1\" class=\"dataframe\">\n  <thead>\n    <tr style=\"text-align: right;\">\n      <th></th>\n      <th>league</th>\n    </tr>\n  </thead>\n  <tbody>\n    <tr>\n      <th>standard</th>\n      <td>[{'isNBAFranchise': False, 'isAllStar': True, ...</td>\n    </tr>\n    <tr>\n      <th>africa</th>\n      <td>[{'isNBAFranchise': False, 'isAllStar': False,...</td>\n    </tr>\n    <tr>\n      <th>sacramento</th>\n      <td>[{'isNBAFranchise': True, 'isAllStar': False, ...</td>\n    </tr>\n    <tr>\n      <th>vegas</th>\n      <td>[{'isNBAFranchise': True, 'isAllStar': False, ...</td>\n    </tr>\n    <tr>\n      <th>utah</th>\n      <td>[{'isNBAFranchise': True, 'isAllStar': False, ...</td>\n    </tr>\n  </tbody>\n</table>\n</div>"
     },
     "metadata": {},
     "execution_count": 13
    }
   ],
   "source": [
    "df2 = df.loc[\"standard\":, \"league\":]   # Lo hace directamente DataFrame porque tiene los \":\" después de \"league\"\n",
    "print(type(df2))\n",
    "df2"
   ]
  },
  {
   "cell_type": "code",
   "execution_count": 15,
   "metadata": {},
   "outputs": [
    {
     "output_type": "stream",
     "name": "stdout",
     "text": [
      "df_serie: <class 'pandas.core.series.Series'>\n"
     ]
    },
    {
     "output_type": "execute_result",
     "data": {
      "text/plain": [
       "                                                       league\n",
       "standard    [{'isNBAFranchise': False, 'isAllStar': True, ...\n",
       "africa      [{'isNBAFranchise': False, 'isAllStar': False,...\n",
       "sacramento  [{'isNBAFranchise': True, 'isAllStar': False, ...\n",
       "vegas       [{'isNBAFranchise': True, 'isAllStar': False, ...\n",
       "utah        [{'isNBAFranchise': True, 'isAllStar': False, ..."
      ],
      "text/html": "<div>\n<style scoped>\n    .dataframe tbody tr th:only-of-type {\n        vertical-align: middle;\n    }\n\n    .dataframe tbody tr th {\n        vertical-align: top;\n    }\n\n    .dataframe thead th {\n        text-align: right;\n    }\n</style>\n<table border=\"1\" class=\"dataframe\">\n  <thead>\n    <tr style=\"text-align: right;\">\n      <th></th>\n      <th>league</th>\n    </tr>\n  </thead>\n  <tbody>\n    <tr>\n      <th>standard</th>\n      <td>[{'isNBAFranchise': False, 'isAllStar': True, ...</td>\n    </tr>\n    <tr>\n      <th>africa</th>\n      <td>[{'isNBAFranchise': False, 'isAllStar': False,...</td>\n    </tr>\n    <tr>\n      <th>sacramento</th>\n      <td>[{'isNBAFranchise': True, 'isAllStar': False, ...</td>\n    </tr>\n    <tr>\n      <th>vegas</th>\n      <td>[{'isNBAFranchise': True, 'isAllStar': False, ...</td>\n    </tr>\n    <tr>\n      <th>utah</th>\n      <td>[{'isNBAFranchise': True, 'isAllStar': False, ...</td>\n    </tr>\n  </tbody>\n</table>\n</div>"
     },
     "metadata": {},
     "execution_count": 15
    }
   ],
   "source": [
    "# Pasar una serie a DataFrame\n",
    "df_serie = df.loc[\"standard\":, \"league\"]    # Es una serie porque se toma sólo para la columna \"league\" y no se le pone \":\"\n",
    "print('df_serie:', type(df_serie))\n",
    "df3 = pd.DataFrame(df_serie)\n",
    "df3"
   ]
  },
  {
   "cell_type": "markdown",
   "metadata": {},
   "source": [
    "### Data Mining & Data Wrangling\n",
    "As you can see, there are jsons inside the original json. For that, we have to mining the json (data mining) to be able to use it correctly (data wrangling). \n",
    "\n",
    "How do you solve this issue? Research about this and try a solution. "
   ]
  },
  {
   "source": [
    "#### GOAL"
   ],
   "cell_type": "markdown",
   "metadata": {}
  },
  {
   "source": [
    "![](json_df_goal_nba.png)"
   ],
   "cell_type": "markdown",
   "metadata": {}
  },
  {
   "source": [
    "## A partir de aquí lo empiezo a resolver"
   ],
   "cell_type": "markdown",
   "metadata": {}
  },
  {
   "source": [
    "### 1. Leo el json de un sitio web"
   ],
   "cell_type": "markdown",
   "metadata": {}
  },
  {
   "cell_type": "code",
   "execution_count": 17,
   "metadata": {},
   "outputs": [],
   "source": [
    "r = requests.get(url='http://data.nba.net/prod/v2/2018/teams.json')\n",
    "mi_json = r.json()\n"
   ]
  },
  {
   "cell_type": "code",
   "execution_count": 19,
   "metadata": {},
   "outputs": [
    {
     "output_type": "execute_result",
     "data": {
      "text/plain": [
       "dict"
      ]
     },
     "metadata": {},
     "execution_count": 19
    }
   ],
   "source": [
    "type(mi_json)"
   ]
  },
  {
   "source": [
    "### 2. Guardo el json en un archivo local... Sirve principalmente para no tener que realizar llamadas al sitio web cada vez que cierro el archivo y pierdo las variables  --> Ya lo guardé indentado para facilitar la visualización"
   ],
   "cell_type": "markdown",
   "metadata": {}
  },
  {
   "cell_type": "code",
   "execution_count": 105,
   "metadata": {},
   "outputs": [],
   "source": [
    "with open('json_local.json', '+w') as mi_variable:\n",
    "    json.dump(mi_json, mi_variable, indent= 4)"
   ]
  },
  {
   "source": [
    "### 3. Leo el archivo LOCAL del json"
   ],
   "cell_type": "markdown",
   "metadata": {}
  },
  {
   "cell_type": "code",
   "execution_count": 23,
   "metadata": {},
   "outputs": [],
   "source": [
    "with open('json_local.json', '+r') as mi_variable:\n",
    "    json_local_leido = json.load(mi_variable)"
   ]
  },
  {
   "cell_type": "code",
   "execution_count": 26,
   "metadata": {},
   "outputs": [
    {
     "output_type": "stream",
     "name": "stdout",
     "text": [
      "<class 'dict'>\n"
     ]
    }
   ],
   "source": [
    "print(type(json_local_leido))"
   ]
  },
  {
   "source": [
    "### 4. Transformar a DataFrame --> 2 caminos\n",
    "> 1° forma. Pasar diccionario a DataFrame\n",
    "\n",
    "> 2° forma. Leer json como DataFrame"
   ],
   "cell_type": "markdown",
   "metadata": {}
  },
  {
   "source": [
    "### 1° Forma"
   ],
   "cell_type": "markdown",
   "metadata": {}
  },
  {
   "cell_type": "code",
   "execution_count": 30,
   "metadata": {},
   "outputs": [
    {
     "output_type": "execute_result",
     "data": {
      "text/plain": [
       "                                          _internal  \\\n",
       "pubDateTime                 2018-08-30 20:00:04.422   \n",
       "xslt         xsl/league/roster/marty_teams_list.xsl   \n",
       "eventName                             league_roster   \n",
       "standard                                        NaN   \n",
       "africa                                          NaN   \n",
       "sacramento                                      NaN   \n",
       "vegas                                           NaN   \n",
       "utah                                            NaN   \n",
       "\n",
       "                                                        league  \n",
       "pubDateTime                                                NaN  \n",
       "xslt                                                       NaN  \n",
       "eventName                                                  NaN  \n",
       "standard     [{'isNBAFranchise': False, 'isAllStar': True, ...  \n",
       "africa       [{'isNBAFranchise': False, 'isAllStar': False,...  \n",
       "sacramento   [{'isNBAFranchise': True, 'isAllStar': False, ...  \n",
       "vegas        [{'isNBAFranchise': True, 'isAllStar': False, ...  \n",
       "utah         [{'isNBAFranchise': True, 'isAllStar': False, ...  "
      ],
      "text/html": "<div>\n<style scoped>\n    .dataframe tbody tr th:only-of-type {\n        vertical-align: middle;\n    }\n\n    .dataframe tbody tr th {\n        vertical-align: top;\n    }\n\n    .dataframe thead th {\n        text-align: right;\n    }\n</style>\n<table border=\"1\" class=\"dataframe\">\n  <thead>\n    <tr style=\"text-align: right;\">\n      <th></th>\n      <th>_internal</th>\n      <th>league</th>\n    </tr>\n  </thead>\n  <tbody>\n    <tr>\n      <th>pubDateTime</th>\n      <td>2018-08-30 20:00:04.422</td>\n      <td>NaN</td>\n    </tr>\n    <tr>\n      <th>xslt</th>\n      <td>xsl/league/roster/marty_teams_list.xsl</td>\n      <td>NaN</td>\n    </tr>\n    <tr>\n      <th>eventName</th>\n      <td>league_roster</td>\n      <td>NaN</td>\n    </tr>\n    <tr>\n      <th>standard</th>\n      <td>NaN</td>\n      <td>[{'isNBAFranchise': False, 'isAllStar': True, ...</td>\n    </tr>\n    <tr>\n      <th>africa</th>\n      <td>NaN</td>\n      <td>[{'isNBAFranchise': False, 'isAllStar': False,...</td>\n    </tr>\n    <tr>\n      <th>sacramento</th>\n      <td>NaN</td>\n      <td>[{'isNBAFranchise': True, 'isAllStar': False, ...</td>\n    </tr>\n    <tr>\n      <th>vegas</th>\n      <td>NaN</td>\n      <td>[{'isNBAFranchise': True, 'isAllStar': False, ...</td>\n    </tr>\n    <tr>\n      <th>utah</th>\n      <td>NaN</td>\n      <td>[{'isNBAFranchise': True, 'isAllStar': False, ...</td>\n    </tr>\n  </tbody>\n</table>\n</div>"
     },
     "metadata": {},
     "execution_count": 30
    }
   ],
   "source": [
    "df_json_diccionario = pd.DataFrame(json_local_leido)\n",
    "df_json_diccionario"
   ]
  },
  {
   "source": [
    "### 2° Forma"
   ],
   "cell_type": "markdown",
   "metadata": {}
  },
  {
   "cell_type": "code",
   "execution_count": 33,
   "metadata": {},
   "outputs": [
    {
     "output_type": "execute_result",
     "data": {
      "text/plain": [
       "                                          _internal  \\\n",
       "pubDateTime                 2018-08-30 20:00:04.422   \n",
       "xslt         xsl/league/roster/marty_teams_list.xsl   \n",
       "eventName                             league_roster   \n",
       "standard                                        NaN   \n",
       "africa                                          NaN   \n",
       "sacramento                                      NaN   \n",
       "vegas                                           NaN   \n",
       "utah                                            NaN   \n",
       "\n",
       "                                                        league  \n",
       "pubDateTime                                                NaN  \n",
       "xslt                                                       NaN  \n",
       "eventName                                                  NaN  \n",
       "standard     [{'isNBAFranchise': False, 'isAllStar': True, ...  \n",
       "africa       [{'isNBAFranchise': False, 'isAllStar': False,...  \n",
       "sacramento   [{'isNBAFranchise': True, 'isAllStar': False, ...  \n",
       "vegas        [{'isNBAFranchise': True, 'isAllStar': False, ...  \n",
       "utah         [{'isNBAFranchise': True, 'isAllStar': False, ...  "
      ],
      "text/html": "<div>\n<style scoped>\n    .dataframe tbody tr th:only-of-type {\n        vertical-align: middle;\n    }\n\n    .dataframe tbody tr th {\n        vertical-align: top;\n    }\n\n    .dataframe thead th {\n        text-align: right;\n    }\n</style>\n<table border=\"1\" class=\"dataframe\">\n  <thead>\n    <tr style=\"text-align: right;\">\n      <th></th>\n      <th>_internal</th>\n      <th>league</th>\n    </tr>\n  </thead>\n  <tbody>\n    <tr>\n      <th>pubDateTime</th>\n      <td>2018-08-30 20:00:04.422</td>\n      <td>NaN</td>\n    </tr>\n    <tr>\n      <th>xslt</th>\n      <td>xsl/league/roster/marty_teams_list.xsl</td>\n      <td>NaN</td>\n    </tr>\n    <tr>\n      <th>eventName</th>\n      <td>league_roster</td>\n      <td>NaN</td>\n    </tr>\n    <tr>\n      <th>standard</th>\n      <td>NaN</td>\n      <td>[{'isNBAFranchise': False, 'isAllStar': True, ...</td>\n    </tr>\n    <tr>\n      <th>africa</th>\n      <td>NaN</td>\n      <td>[{'isNBAFranchise': False, 'isAllStar': False,...</td>\n    </tr>\n    <tr>\n      <th>sacramento</th>\n      <td>NaN</td>\n      <td>[{'isNBAFranchise': True, 'isAllStar': False, ...</td>\n    </tr>\n    <tr>\n      <th>vegas</th>\n      <td>NaN</td>\n      <td>[{'isNBAFranchise': True, 'isAllStar': False, ...</td>\n    </tr>\n    <tr>\n      <th>utah</th>\n      <td>NaN</td>\n      <td>[{'isNBAFranchise': True, 'isAllStar': False, ...</td>\n    </tr>\n  </tbody>\n</table>\n</div>"
     },
     "metadata": {},
     "execution_count": 33
    }
   ],
   "source": [
    "df_json_json = pd.read_json('json_local.json')  # --> Se lee el ARCHIVO LOCAL\n",
    "df_json_json"
   ]
  },
  {
   "source": [
    "### 5. Data Wrangling"
   ],
   "cell_type": "markdown",
   "metadata": {}
  },
  {
   "cell_type": "code",
   "execution_count": 37,
   "metadata": {},
   "outputs": [
    {
     "output_type": "execute_result",
     "data": {
      "text/plain": [
       "                                          _internal  \\\n",
       "pubDateTime                 2018-08-30 20:00:04.422   \n",
       "xslt         xsl/league/roster/marty_teams_list.xsl   \n",
       "eventName                             league_roster   \n",
       "standard                                        NaN   \n",
       "africa                                          NaN   \n",
       "sacramento                                      NaN   \n",
       "vegas                                           NaN   \n",
       "utah                                            NaN   \n",
       "\n",
       "                                                        league  \n",
       "pubDateTime                                                NaN  \n",
       "xslt                                                       NaN  \n",
       "eventName                                                  NaN  \n",
       "standard     [{'isNBAFranchise': False, 'isAllStar': True, ...  \n",
       "africa       [{'isNBAFranchise': False, 'isAllStar': False,...  \n",
       "sacramento   [{'isNBAFranchise': True, 'isAllStar': False, ...  \n",
       "vegas        [{'isNBAFranchise': True, 'isAllStar': False, ...  \n",
       "utah         [{'isNBAFranchise': True, 'isAllStar': False, ...  "
      ],
      "text/html": "<div>\n<style scoped>\n    .dataframe tbody tr th:only-of-type {\n        vertical-align: middle;\n    }\n\n    .dataframe tbody tr th {\n        vertical-align: top;\n    }\n\n    .dataframe thead th {\n        text-align: right;\n    }\n</style>\n<table border=\"1\" class=\"dataframe\">\n  <thead>\n    <tr style=\"text-align: right;\">\n      <th></th>\n      <th>_internal</th>\n      <th>league</th>\n    </tr>\n  </thead>\n  <tbody>\n    <tr>\n      <th>pubDateTime</th>\n      <td>2018-08-30 20:00:04.422</td>\n      <td>NaN</td>\n    </tr>\n    <tr>\n      <th>xslt</th>\n      <td>xsl/league/roster/marty_teams_list.xsl</td>\n      <td>NaN</td>\n    </tr>\n    <tr>\n      <th>eventName</th>\n      <td>league_roster</td>\n      <td>NaN</td>\n    </tr>\n    <tr>\n      <th>standard</th>\n      <td>NaN</td>\n      <td>[{'isNBAFranchise': False, 'isAllStar': True, ...</td>\n    </tr>\n    <tr>\n      <th>africa</th>\n      <td>NaN</td>\n      <td>[{'isNBAFranchise': False, 'isAllStar': False,...</td>\n    </tr>\n    <tr>\n      <th>sacramento</th>\n      <td>NaN</td>\n      <td>[{'isNBAFranchise': True, 'isAllStar': False, ...</td>\n    </tr>\n    <tr>\n      <th>vegas</th>\n      <td>NaN</td>\n      <td>[{'isNBAFranchise': True, 'isAllStar': False, ...</td>\n    </tr>\n    <tr>\n      <th>utah</th>\n      <td>NaN</td>\n      <td>[{'isNBAFranchise': True, 'isAllStar': False, ...</td>\n    </tr>\n  </tbody>\n</table>\n</div>"
     },
     "metadata": {},
     "execution_count": 37
    }
   ],
   "source": [
    "df_json_diccionario"
   ]
  },
  {
   "cell_type": "code",
   "execution_count": 84,
   "metadata": {},
   "outputs": [
    {
     "output_type": "stream",
     "name": "stdout",
     "text": [
      "<class 'dict'>\n5\n"
     ]
    },
    {
     "output_type": "execute_result",
     "data": {
      "text/plain": [
       "dict_keys(['standard', 'africa', 'sacramento', 'vegas', 'utah'])"
      ]
     },
     "metadata": {},
     "execution_count": 84
    }
   ],
   "source": [
    "print(type(json_local_leido['league']))\n",
    "print(len(json_local_leido['league']))\n",
    "json_local_leido['league'].keys() # --> League es un diccionario con 5 claves: standard, africa, sacramento, vegas y utah"
   ]
  },
  {
   "cell_type": "code",
   "execution_count": 108,
   "metadata": {},
   "outputs": [
    {
     "output_type": "stream",
     "name": "stdout",
     "text": [
      "<class 'list'>\n"
     ]
    },
    {
     "output_type": "execute_result",
     "data": {
      "text/plain": [
       "48"
      ]
     },
     "metadata": {},
     "execution_count": 108
    }
   ],
   "source": [
    "print(type(json_local_leido['league']['standard'])) # --> Es una lista de 48 diccionarios\n",
    "len(json_local_leido['league']['standard'])"
   ]
  },
  {
   "cell_type": "code",
   "execution_count": 59,
   "metadata": {},
   "outputs": [
    {
     "output_type": "stream",
     "name": "stdout",
     "text": [
      "<class 'list'>\n"
     ]
    },
    {
     "output_type": "execute_result",
     "data": {
      "text/plain": [
       "2"
      ]
     },
     "metadata": {},
     "execution_count": 59
    }
   ],
   "source": [
    "print(type(json_local_leido['league']['africa'])) # --> Es una lista de 2 diccionarios\n",
    "len(json_local_leido['league']['africa'])"
   ]
  },
  {
   "cell_type": "code",
   "execution_count": 64,
   "metadata": {},
   "outputs": [
    {
     "output_type": "stream",
     "name": "stdout",
     "text": [
      "<class 'list'>\n"
     ]
    },
    {
     "output_type": "execute_result",
     "data": {
      "text/plain": [
       "4"
      ]
     },
     "metadata": {},
     "execution_count": 64
    }
   ],
   "source": [
    "print(type(json_local_leido['league']['sacramento'])) # --> Es una lista de 4 diccionarios\n",
    "len(json_local_leido['league']['sacramento'])"
   ]
  },
  {
   "cell_type": "code",
   "execution_count": 68,
   "metadata": {},
   "outputs": [
    {
     "output_type": "stream",
     "name": "stdout",
     "text": [
      "<class 'list'>\n"
     ]
    },
    {
     "output_type": "execute_result",
     "data": {
      "text/plain": [
       "30"
      ]
     },
     "metadata": {},
     "execution_count": 68
    }
   ],
   "source": [
    "print(type(json_local_leido['league']['vegas'])) # --> Es una lista de 30 diccionarios\r\n",
    "len(json_local_leido['league']['vegas'])"
   ]
  },
  {
   "cell_type": "code",
   "execution_count": 73,
   "metadata": {},
   "outputs": [
    {
     "output_type": "stream",
     "name": "stdout",
     "text": [
      "<class 'list'>\n"
     ]
    },
    {
     "output_type": "execute_result",
     "data": {
      "text/plain": [
       "4"
      ]
     },
     "metadata": {},
     "execution_count": 73
    }
   ],
   "source": [
    "print(type(json_local_leido['league']['utah'])) # --> Es una lista de 4 diccionarios\n",
    "len(json_local_leido['league']['utah'])"
   ]
  },
  {
   "cell_type": "code",
   "execution_count": 41,
   "metadata": {},
   "outputs": [],
   "source": [
    "df_interes = df_json_diccionario.loc['standard':,'league':]"
   ]
  },
  {
   "cell_type": "code",
   "execution_count": 42,
   "metadata": {},
   "outputs": [
    {
     "output_type": "execute_result",
     "data": {
      "text/plain": [
       "pandas.core.frame.DataFrame"
      ]
     },
     "metadata": {},
     "execution_count": 42
    }
   ],
   "source": [
    "type(df_interes)"
   ]
  },
  {
   "cell_type": "code",
   "execution_count": 47,
   "metadata": {},
   "outputs": [
    {
     "output_type": "execute_result",
     "data": {
      "text/plain": [
       "                                                       league\n",
       "standard    [{'isNBAFranchise': False, 'isAllStar': True, ...\n",
       "africa      [{'isNBAFranchise': False, 'isAllStar': False,...\n",
       "sacramento  [{'isNBAFranchise': True, 'isAllStar': False, ...\n",
       "vegas       [{'isNBAFranchise': True, 'isAllStar': False, ...\n",
       "utah        [{'isNBAFranchise': True, 'isAllStar': False, ..."
      ],
      "text/html": "<div>\n<style scoped>\n    .dataframe tbody tr th:only-of-type {\n        vertical-align: middle;\n    }\n\n    .dataframe tbody tr th {\n        vertical-align: top;\n    }\n\n    .dataframe thead th {\n        text-align: right;\n    }\n</style>\n<table border=\"1\" class=\"dataframe\">\n  <thead>\n    <tr style=\"text-align: right;\">\n      <th></th>\n      <th>league</th>\n    </tr>\n  </thead>\n  <tbody>\n    <tr>\n      <th>standard</th>\n      <td>[{'isNBAFranchise': False, 'isAllStar': True, ...</td>\n    </tr>\n    <tr>\n      <th>africa</th>\n      <td>[{'isNBAFranchise': False, 'isAllStar': False,...</td>\n    </tr>\n    <tr>\n      <th>sacramento</th>\n      <td>[{'isNBAFranchise': True, 'isAllStar': False, ...</td>\n    </tr>\n    <tr>\n      <th>vegas</th>\n      <td>[{'isNBAFranchise': True, 'isAllStar': False, ...</td>\n    </tr>\n    <tr>\n      <th>utah</th>\n      <td>[{'isNBAFranchise': True, 'isAllStar': False, ...</td>\n    </tr>\n  </tbody>\n</table>\n</div>"
     },
     "metadata": {},
     "execution_count": 47
    }
   ],
   "source": [
    "df_interes_league = pd.DataFrame(df_interes)\n",
    "df_interes_league"
   ]
  },
  {
   "source": [
    "## Extrayendo diccionarios de las listas de diccionarios"
   ],
   "cell_type": "markdown",
   "metadata": {}
  },
  {
   "cell_type": "code",
   "execution_count": 110,
   "metadata": {},
   "outputs": [
    {
     "output_type": "execute_result",
     "data": {
      "text/plain": [
       "48"
      ]
     },
     "metadata": {},
     "execution_count": 110
    }
   ],
   "source": [
    "len(json_local_leido['league']['standard'])"
   ]
  },
  {
   "cell_type": "code",
   "execution_count": 121,
   "metadata": {},
   "outputs": [],
   "source": [
    "df_standard = pd.DataFrame(json_local_leido['league']['standard'])\n",
    "df_africa = pd.DataFrame(json_local_leido['league']['africa'])\n",
    "df_sacramento = pd.DataFrame(json_local_leido['league']['sacramento'])\n",
    "df_vegas = pd.DataFrame(json_local_leido['league']['vegas'])\n",
    "df_utah = pd.DataFrame(json_local_leido['league']['utah'])"
   ]
  },
  {
   "cell_type": "code",
   "execution_count": 122,
   "metadata": {},
   "outputs": [],
   "source": [
    "final = pd.concat([df_standard, df_africa, df_sacramento, df_vegas, df_utah], axis= 0)"
   ]
  },
  {
   "cell_type": "code",
   "execution_count": 123,
   "metadata": {},
   "outputs": [
    {
     "output_type": "execute_result",
     "data": {
      "text/plain": [
       "    isNBAFranchise  isAllStar          city   altCityName            fullName  \\\n",
       "0            False       True           USA           USA                 USA   \n",
       "1            False       True         World         World               World   \n",
       "2            False       True          Team          Team           All-Stars   \n",
       "3            False       True          Team          Team           All-Stars   \n",
       "4            False       True  Team Giannis  Team Giannis        Team Giannis   \n",
       "..             ...        ...           ...           ...                 ...   \n",
       "29            True      False    Washington    Washington  Washington Wizards   \n",
       "0             True      False       Atlanta       Atlanta       Atlanta Hawks   \n",
       "1             True      False       Memphis       Memphis   Memphis Grizzlies   \n",
       "2             True      False   San Antonio   San Antonio   San Antonio Spurs   \n",
       "3             True      False          Utah          Utah           Utah Jazz   \n",
       "\n",
       "   tricode      teamId      nickname       urlName confName divName  \n",
       "0      USA  1610616843           USA           usa     East    East  \n",
       "1      WLD  1610616844         World         world     East    East  \n",
       "2      EST  1699999999     All-Stars     assn_away     East    East  \n",
       "3      WST  1699999998     All-Stars     assn_home     West    West  \n",
       "4      GNS  1610616833  Team Giannis  team_giannis     East    East  \n",
       "..     ...         ...           ...           ...      ...     ...  \n",
       "29     WAS  1610612764       Wizards       wizards   summer          \n",
       "0      ATL  1610612737         Hawks         hawks     Utah          \n",
       "1      MEM  1610612763     Grizzlies     grizzlies     Utah          \n",
       "2      SAS  1610612759         Spurs         spurs     Utah          \n",
       "3      UTA  1610612762          Jazz          jazz     Utah          \n",
       "\n",
       "[88 rows x 11 columns]"
      ],
      "text/html": "<div>\n<style scoped>\n    .dataframe tbody tr th:only-of-type {\n        vertical-align: middle;\n    }\n\n    .dataframe tbody tr th {\n        vertical-align: top;\n    }\n\n    .dataframe thead th {\n        text-align: right;\n    }\n</style>\n<table border=\"1\" class=\"dataframe\">\n  <thead>\n    <tr style=\"text-align: right;\">\n      <th></th>\n      <th>isNBAFranchise</th>\n      <th>isAllStar</th>\n      <th>city</th>\n      <th>altCityName</th>\n      <th>fullName</th>\n      <th>tricode</th>\n      <th>teamId</th>\n      <th>nickname</th>\n      <th>urlName</th>\n      <th>confName</th>\n      <th>divName</th>\n    </tr>\n  </thead>\n  <tbody>\n    <tr>\n      <th>0</th>\n      <td>False</td>\n      <td>True</td>\n      <td>USA</td>\n      <td>USA</td>\n      <td>USA</td>\n      <td>USA</td>\n      <td>1610616843</td>\n      <td>USA</td>\n      <td>usa</td>\n      <td>East</td>\n      <td>East</td>\n    </tr>\n    <tr>\n      <th>1</th>\n      <td>False</td>\n      <td>True</td>\n      <td>World</td>\n      <td>World</td>\n      <td>World</td>\n      <td>WLD</td>\n      <td>1610616844</td>\n      <td>World</td>\n      <td>world</td>\n      <td>East</td>\n      <td>East</td>\n    </tr>\n    <tr>\n      <th>2</th>\n      <td>False</td>\n      <td>True</td>\n      <td>Team</td>\n      <td>Team</td>\n      <td>All-Stars</td>\n      <td>EST</td>\n      <td>1699999999</td>\n      <td>All-Stars</td>\n      <td>assn_away</td>\n      <td>East</td>\n      <td>East</td>\n    </tr>\n    <tr>\n      <th>3</th>\n      <td>False</td>\n      <td>True</td>\n      <td>Team</td>\n      <td>Team</td>\n      <td>All-Stars</td>\n      <td>WST</td>\n      <td>1699999998</td>\n      <td>All-Stars</td>\n      <td>assn_home</td>\n      <td>West</td>\n      <td>West</td>\n    </tr>\n    <tr>\n      <th>4</th>\n      <td>False</td>\n      <td>True</td>\n      <td>Team Giannis</td>\n      <td>Team Giannis</td>\n      <td>Team Giannis</td>\n      <td>GNS</td>\n      <td>1610616833</td>\n      <td>Team Giannis</td>\n      <td>team_giannis</td>\n      <td>East</td>\n      <td>East</td>\n    </tr>\n    <tr>\n      <th>...</th>\n      <td>...</td>\n      <td>...</td>\n      <td>...</td>\n      <td>...</td>\n      <td>...</td>\n      <td>...</td>\n      <td>...</td>\n      <td>...</td>\n      <td>...</td>\n      <td>...</td>\n      <td>...</td>\n    </tr>\n    <tr>\n      <th>29</th>\n      <td>True</td>\n      <td>False</td>\n      <td>Washington</td>\n      <td>Washington</td>\n      <td>Washington Wizards</td>\n      <td>WAS</td>\n      <td>1610612764</td>\n      <td>Wizards</td>\n      <td>wizards</td>\n      <td>summer</td>\n      <td></td>\n    </tr>\n    <tr>\n      <th>0</th>\n      <td>True</td>\n      <td>False</td>\n      <td>Atlanta</td>\n      <td>Atlanta</td>\n      <td>Atlanta Hawks</td>\n      <td>ATL</td>\n      <td>1610612737</td>\n      <td>Hawks</td>\n      <td>hawks</td>\n      <td>Utah</td>\n      <td></td>\n    </tr>\n    <tr>\n      <th>1</th>\n      <td>True</td>\n      <td>False</td>\n      <td>Memphis</td>\n      <td>Memphis</td>\n      <td>Memphis Grizzlies</td>\n      <td>MEM</td>\n      <td>1610612763</td>\n      <td>Grizzlies</td>\n      <td>grizzlies</td>\n      <td>Utah</td>\n      <td></td>\n    </tr>\n    <tr>\n      <th>2</th>\n      <td>True</td>\n      <td>False</td>\n      <td>San Antonio</td>\n      <td>San Antonio</td>\n      <td>San Antonio Spurs</td>\n      <td>SAS</td>\n      <td>1610612759</td>\n      <td>Spurs</td>\n      <td>spurs</td>\n      <td>Utah</td>\n      <td></td>\n    </tr>\n    <tr>\n      <th>3</th>\n      <td>True</td>\n      <td>False</td>\n      <td>Utah</td>\n      <td>Utah</td>\n      <td>Utah Jazz</td>\n      <td>UTA</td>\n      <td>1610612762</td>\n      <td>Jazz</td>\n      <td>jazz</td>\n      <td>Utah</td>\n      <td></td>\n    </tr>\n  </tbody>\n</table>\n<p>88 rows × 11 columns</p>\n</div>"
     },
     "metadata": {},
     "execution_count": 123
    }
   ],
   "source": [
    "final"
   ]
  },
  {
   "cell_type": "code",
   "execution_count": null,
   "metadata": {},
   "outputs": [],
   "source": []
  }
 ],
 "metadata": {
  "language_info": {
   "name": "python",
   "codemirror_mode": {
    "name": "ipython",
    "version": 3
   },
   "version": "3.7.4"
  },
  "orig_nbformat": 2,
  "file_extension": ".py",
  "mimetype": "text/x-python",
  "name": "python",
  "npconvert_exporter": "python",
  "pygments_lexer": "ipython3",
  "version": 3,
  "kernelspec": {
   "name": "python374jvsc74a57bd0a0947237fadc8b5561fed326db280cc5ec46a670c87cfb3a0489cf95ff262303",
   "display_name": "Python 3.7.4 64-bit"
  },
  "metadata": {
   "interpreter": {
    "hash": "a0947237fadc8b5561fed326db280cc5ec46a670c87cfb3a0489cf95ff262303"
   }
  }
 },
 "nbformat": 4,
 "nbformat_minor": 2
}