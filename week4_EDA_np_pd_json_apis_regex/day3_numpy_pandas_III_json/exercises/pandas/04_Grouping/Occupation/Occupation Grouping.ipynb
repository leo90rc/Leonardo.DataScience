{
 "cells": [
  {
   "cell_type": "markdown",
   "metadata": {},
   "source": [
    "# 04 - Grouping"
   ]
  },
  {
   "cell_type": "markdown",
   "metadata": {},
   "source": [
    "### Step 1. Import the necessary libraries"
   ]
  },
  {
   "cell_type": "code",
   "execution_count": 1,
   "metadata": {},
   "outputs": [],
   "source": [
    "import pandas as pd"
   ]
  },
  {
   "cell_type": "markdown",
   "metadata": {},
   "source": [
    "### Step 2. Import the dataset from this [address](https://raw.githubusercontent.com/justmarkham/DAT8/master/data/u.user). "
   ]
  },
  {
   "cell_type": "markdown",
   "metadata": {},
   "source": [
    "### Step 3. Assign it to a variable called users."
   ]
  },
  {
   "cell_type": "code",
   "execution_count": 2,
   "metadata": {},
   "outputs": [
    {
     "output_type": "execute_result",
     "data": {
      "text/plain": [
       "         age gender     occupation zip_code\n",
       "user_id                                    \n",
       "1         24      M     technician    85711\n",
       "2         53      F          other    94043\n",
       "3         23      M         writer    32067\n",
       "4         24      M     technician    43537\n",
       "5         33      F          other    15213\n",
       "...      ...    ...            ...      ...\n",
       "939       26      F        student    33319\n",
       "940       32      M  administrator    02215\n",
       "941       20      M        student    97229\n",
       "942       48      F      librarian    78209\n",
       "943       22      M        student    77841\n",
       "\n",
       "[943 rows x 4 columns]"
      ],
      "text/html": "<div>\n<style scoped>\n    .dataframe tbody tr th:only-of-type {\n        vertical-align: middle;\n    }\n\n    .dataframe tbody tr th {\n        vertical-align: top;\n    }\n\n    .dataframe thead th {\n        text-align: right;\n    }\n</style>\n<table border=\"1\" class=\"dataframe\">\n  <thead>\n    <tr style=\"text-align: right;\">\n      <th></th>\n      <th>age</th>\n      <th>gender</th>\n      <th>occupation</th>\n      <th>zip_code</th>\n    </tr>\n    <tr>\n      <th>user_id</th>\n      <th></th>\n      <th></th>\n      <th></th>\n      <th></th>\n    </tr>\n  </thead>\n  <tbody>\n    <tr>\n      <th>1</th>\n      <td>24</td>\n      <td>M</td>\n      <td>technician</td>\n      <td>85711</td>\n    </tr>\n    <tr>\n      <th>2</th>\n      <td>53</td>\n      <td>F</td>\n      <td>other</td>\n      <td>94043</td>\n    </tr>\n    <tr>\n      <th>3</th>\n      <td>23</td>\n      <td>M</td>\n      <td>writer</td>\n      <td>32067</td>\n    </tr>\n    <tr>\n      <th>4</th>\n      <td>24</td>\n      <td>M</td>\n      <td>technician</td>\n      <td>43537</td>\n    </tr>\n    <tr>\n      <th>5</th>\n      <td>33</td>\n      <td>F</td>\n      <td>other</td>\n      <td>15213</td>\n    </tr>\n    <tr>\n      <th>...</th>\n      <td>...</td>\n      <td>...</td>\n      <td>...</td>\n      <td>...</td>\n    </tr>\n    <tr>\n      <th>939</th>\n      <td>26</td>\n      <td>F</td>\n      <td>student</td>\n      <td>33319</td>\n    </tr>\n    <tr>\n      <th>940</th>\n      <td>32</td>\n      <td>M</td>\n      <td>administrator</td>\n      <td>02215</td>\n    </tr>\n    <tr>\n      <th>941</th>\n      <td>20</td>\n      <td>M</td>\n      <td>student</td>\n      <td>97229</td>\n    </tr>\n    <tr>\n      <th>942</th>\n      <td>48</td>\n      <td>F</td>\n      <td>librarian</td>\n      <td>78209</td>\n    </tr>\n    <tr>\n      <th>943</th>\n      <td>22</td>\n      <td>M</td>\n      <td>student</td>\n      <td>77841</td>\n    </tr>\n  </tbody>\n</table>\n<p>943 rows × 4 columns</p>\n</div>"
     },
     "metadata": {},
     "execution_count": 2
    }
   ],
   "source": [
    "users = pd.read_table('https://raw.githubusercontent.com/justmarkham/DAT8/master/data/u.user', \n",
    "                      sep='|', index_col='user_id')\n",
    "users"
   ]
  },
  {
   "cell_type": "markdown",
   "metadata": {},
   "source": [
    "### Step 4. Discover what is the mean age per occupation"
   ]
  },
  {
   "cell_type": "code",
   "execution_count": 25,
   "metadata": {},
   "outputs": [
    {
     "output_type": "execute_result",
     "data": {
      "text/plain": [
       "occupation\n",
       "administrator    38.75\n",
       "artist           31.39\n",
       "doctor           43.57\n",
       "educator         42.01\n",
       "engineer         36.39\n",
       "entertainment    29.22\n",
       "executive        38.72\n",
       "healthcare       41.56\n",
       "homemaker        32.57\n",
       "lawyer           36.75\n",
       "librarian        40.00\n",
       "marketing        37.62\n",
       "none             26.56\n",
       "other            34.52\n",
       "programmer       33.12\n",
       "retired          63.07\n",
       "salesman         35.67\n",
       "scientist        35.55\n",
       "student          22.08\n",
       "technician       33.15\n",
       "writer           36.31\n",
       "Name: age, dtype: float64"
      ]
     },
     "metadata": {},
     "execution_count": 25
    }
   ],
   "source": [
    "round(users.groupby('occupation').age.mean(),2)"
   ]
  },
  {
   "cell_type": "markdown",
   "metadata": {},
   "source": [
    "### Step 5. Discover the Male ratio per occupation and sort it from the most to the least"
   ]
  },
  {
   "cell_type": "code",
   "execution_count": 158,
   "metadata": {},
   "outputs": [
    {
     "output_type": "execute_result",
     "data": {
      "text/plain": [
       "occupation\n",
       "doctor           100.00\n",
       "engineer          97.01\n",
       "technician        96.30\n",
       "retired           92.86\n",
       "programmer        90.91\n",
       "executive         90.62\n",
       "scientist         90.32\n",
       "entertainment     88.89\n",
       "lawyer            83.33\n",
       "salesman          75.00\n",
       "educator          72.63\n",
       "student           69.39\n",
       "other             65.71\n",
       "marketing         61.54\n",
       "writer            57.78\n",
       "none              55.56\n",
       "administrator     54.43\n",
       "artist            53.57\n",
       "librarian         43.14\n",
       "healthcare        31.25\n",
       "homemaker         14.29\n",
       "Name: gender, dtype: float64"
      ]
     },
     "metadata": {},
     "execution_count": 158
    }
   ],
   "source": [
    "round(users.groupby('occupation').gender.value_counts(normalize = True).loc[:,'M']*100,2).sort_values(ascending=False) # Primero saqué el porcentaje de hombres y mujeres para cada 'occupation', después enmascaré para obtener sólo los 'Males'... Por último, ordené de mayor a menor."
   ]
  },
  {
   "source": [
    "## Ver la diferencia entre el de arriba (bien) y el de abajo (mal) me ayuda a entenderlo"
   ],
   "cell_type": "markdown",
   "metadata": {}
  },
  {
   "cell_type": "code",
   "execution_count": 166,
   "metadata": {},
   "outputs": [
    {
     "output_type": "execute_result",
     "data": {
      "text/plain": [
       "occupation     gender\n",
       "administrator  M         1.0\n",
       "artist         M         1.0\n",
       "doctor         M         1.0\n",
       "educator       M         1.0\n",
       "engineer       M         1.0\n",
       "entertainment  M         1.0\n",
       "executive      M         1.0\n",
       "healthcare     M         1.0\n",
       "homemaker      M         1.0\n",
       "lawyer         M         1.0\n",
       "librarian      M         1.0\n",
       "marketing      M         1.0\n",
       "none           M         1.0\n",
       "other          M         1.0\n",
       "programmer     M         1.0\n",
       "retired        M         1.0\n",
       "salesman       M         1.0\n",
       "scientist      M         1.0\n",
       "student        M         1.0\n",
       "technician     M         1.0\n",
       "writer         M         1.0\n",
       "Name: gender, dtype: float64"
      ]
     },
     "metadata": {},
     "execution_count": 166
    }
   ],
   "source": [
    "users[users['gender'] == 'M'].groupby('occupation').gender.value_counts(normalize = True) # Acá enmascaré para 'Males' antes de sacar los porcentajes... entonces cuando saco los porcentajes, sólo hay hombres... y me da el 100 %.  --> MAL"
   ]
  },
  {
   "source": [
    "## Pruebas de concepto... Hago unstack varias veces y busco obtener el resultado esperado (porcentaje de hombres y mujeres para cada ocupacion)... Fijarse como debo modificar el \"loc\" en función del resultado del \"unstack\"."
   ],
   "cell_type": "markdown",
   "metadata": {}
  },
  {
   "cell_type": "code",
   "execution_count": 112,
   "metadata": {},
   "outputs": [
    {
     "output_type": "execute_result",
     "data": {
      "text/plain": [
       "occupation     gender\n",
       "administrator  M         0.544304\n",
       "               F         0.455696\n",
       "artist         M         0.535714\n",
       "               F         0.464286\n",
       "doctor         M         1.000000\n",
       "educator       M         0.726316\n",
       "               F         0.273684\n",
       "engineer       M         0.970149\n",
       "               F         0.029851\n",
       "entertainment  M         0.888889\n",
       "               F         0.111111\n",
       "executive      M         0.906250\n",
       "               F         0.093750\n",
       "healthcare     F         0.687500\n",
       "               M         0.312500\n",
       "homemaker      F         0.857143\n",
       "               M         0.142857\n",
       "lawyer         M         0.833333\n",
       "               F         0.166667\n",
       "librarian      F         0.568627\n",
       "               M         0.431373\n",
       "marketing      M         0.615385\n",
       "               F         0.384615\n",
       "none           M         0.555556\n",
       "               F         0.444444\n",
       "other          M         0.657143\n",
       "               F         0.342857\n",
       "programmer     M         0.909091\n",
       "               F         0.090909\n",
       "retired        M         0.928571\n",
       "               F         0.071429\n",
       "salesman       M         0.750000\n",
       "               F         0.250000\n",
       "scientist      M         0.903226\n",
       "               F         0.096774\n",
       "student        M         0.693878\n",
       "               F         0.306122\n",
       "technician     M         0.962963\n",
       "               F         0.037037\n",
       "writer         M         0.577778\n",
       "               F         0.422222\n",
       "Name: gender, dtype: float64"
      ]
     },
     "metadata": {},
     "execution_count": 112
    }
   ],
   "source": [
    "perro = users.groupby('occupation').gender.value_counts(normalize = True)\n",
    "perro"
   ]
  },
  {
   "cell_type": "code",
   "execution_count": 165,
   "metadata": {},
   "outputs": [
    {
     "output_type": "stream",
     "name": "stdout",
     "text": [
      "occupation     gender\nadministrator  M         0.544304\n               F         0.455696\nartist         M         0.535714\n               F         0.464286\ndoctor         M         1.000000\neducator       M         0.726316\n               F         0.273684\nengineer       M         0.970149\n               F         0.029851\nentertainment  M         0.888889\n               F         0.111111\nexecutive      M         0.906250\n               F         0.093750\nhealthcare     F         0.687500\n               M         0.312500\nhomemaker      F         0.857143\n               M         0.142857\nlawyer         M         0.833333\n               F         0.166667\nlibrarian      F         0.568627\n               M         0.431373\nmarketing      M         0.615385\n               F         0.384615\nnone           M         0.555556\n               F         0.444444\nother          M         0.657143\n               F         0.342857\nprogrammer     M         0.909091\n               F         0.090909\nretired        M         0.928571\n               F         0.071429\nsalesman       M         0.750000\n               F         0.250000\nscientist      M         0.903226\n               F         0.096774\nstudent        M         0.693878\n               F         0.306122\ntechnician     M         0.962963\n               F         0.037037\nwriter         M         0.577778\n               F         0.422222\nName: gender, dtype: float64\n---\nperro: <class 'pandas.core.series.Series'>\n---\nperro shape: (41,)\n---\nperro index: MultiIndex([('administrator', 'M'),\n            ('administrator', 'F'),\n            (       'artist', 'M'),\n            (       'artist', 'F'),\n            (       'doctor', 'M'),\n            (     'educator', 'M'),\n            (     'educator', 'F'),\n            (     'engineer', 'M'),\n            (     'engineer', 'F'),\n            ('entertainment', 'M'),\n            ('entertainment', 'F'),\n            (    'executive', 'M'),\n            (    'executive', 'F'),\n            (   'healthcare', 'F'),\n            (   'healthcare', 'M'),\n            (    'homemaker', 'F'),\n            (    'homemaker', 'M'),\n            (       'lawyer', 'M'),\n            (       'lawyer', 'F'),\n            (    'librarian', 'F'),\n            (    'librarian', 'M'),\n            (    'marketing', 'M'),\n            (    'marketing', 'F'),\n            (         'none', 'M'),\n            (         'none', 'F'),\n            (        'other', 'M'),\n            (        'other', 'F'),\n            (   'programmer', 'M'),\n            (   'programmer', 'F'),\n            (      'retired', 'M'),\n            (      'retired', 'F'),\n            (     'salesman', 'M'),\n            (     'salesman', 'F'),\n            (    'scientist', 'M'),\n            (    'scientist', 'F'),\n            (      'student', 'M'),\n            (      'student', 'F'),\n            (   'technician', 'M'),\n            (   'technician', 'F'),\n            (       'writer', 'M'),\n            (       'writer', 'F')],\n           names=['occupation', 'gender'])\n----------------------------------------------\ngender                F         M\noccupation                       \nadministrator  0.455696  0.544304\nartist         0.464286  0.535714\ndoctor              NaN  1.000000\neducator       0.273684  0.726316\nengineer       0.029851  0.970149\nentertainment  0.111111  0.888889\nexecutive      0.093750  0.906250\nhealthcare     0.687500  0.312500\nhomemaker      0.857143  0.142857\nlawyer         0.166667  0.833333\nlibrarian      0.568627  0.431373\nmarketing      0.384615  0.615385\nnone           0.444444  0.555556\nother          0.342857  0.657143\nprogrammer     0.090909  0.909091\nretired        0.071429  0.928571\nsalesman       0.250000  0.750000\nscientist      0.096774  0.903226\nstudent        0.306122  0.693878\ntechnician     0.037037  0.962963\nwriter         0.422222  0.577778\n---\nperro1 type: <class 'pandas.core.frame.DataFrame'>\n---\nperro1 shape: (21, 2)\n---\nperro1 index: Index(['administrator', 'artist', 'doctor', 'educator', 'engineer',\n       'entertainment', 'executive', 'healthcare', 'homemaker', 'lawyer',\n       'librarian', 'marketing', 'none', 'other', 'programmer', 'retired',\n       'salesman', 'scientist', 'student', 'technician', 'writer'],\n      dtype='object', name='occupation')\n---\nperro1 columns: Index(['F', 'M'], dtype='object', name='gender')\n----------------------------------------------\ngender  occupation   \nF       administrator    0.455696\n        artist           0.464286\n        doctor                NaN\n        educator         0.273684\n        engineer         0.029851\n        entertainment    0.111111\n        executive        0.093750\n        healthcare       0.687500\n        homemaker        0.857143\n        lawyer           0.166667\n        librarian        0.568627\n        marketing        0.384615\n        none             0.444444\n        other            0.342857\n        programmer       0.090909\n        retired          0.071429\n        salesman         0.250000\n        scientist        0.096774\n        student          0.306122\n        technician       0.037037\n        writer           0.422222\nM       administrator    0.544304\n        artist           0.535714\n        doctor           1.000000\n        educator         0.726316\n        engineer         0.970149\n        entertainment    0.888889\n        executive        0.906250\n        healthcare       0.312500\n        homemaker        0.142857\n        lawyer           0.833333\n        librarian        0.431373\n        marketing        0.615385\n        none             0.555556\n        other            0.657143\n        programmer       0.909091\n        retired          0.928571\n        salesman         0.750000\n        scientist        0.903226\n        student          0.693878\n        technician       0.962963\n        writer           0.577778\ndtype: float64\n---\nperro2 type: <class 'pandas.core.series.Series'>\n---\nperro2 shape: (42,)\n---\nperro2 index: MultiIndex([('F', 'administrator'),\n            ('F',        'artist'),\n            ('F',        'doctor'),\n            ('F',      'educator'),\n            ('F',      'engineer'),\n            ('F', 'entertainment'),\n            ('F',     'executive'),\n            ('F',    'healthcare'),\n            ('F',     'homemaker'),\n            ('F',        'lawyer'),\n            ('F',     'librarian'),\n            ('F',     'marketing'),\n            ('F',          'none'),\n            ('F',         'other'),\n            ('F',    'programmer'),\n            ('F',       'retired'),\n            ('F',      'salesman'),\n            ('F',     'scientist'),\n            ('F',       'student'),\n            ('F',    'technician'),\n            ('F',        'writer'),\n            ('M', 'administrator'),\n            ('M',        'artist'),\n            ('M',        'doctor'),\n            ('M',      'educator'),\n            ('M',      'engineer'),\n            ('M', 'entertainment'),\n            ('M',     'executive'),\n            ('M',    'healthcare'),\n            ('M',     'homemaker'),\n            ('M',        'lawyer'),\n            ('M',     'librarian'),\n            ('M',     'marketing'),\n            ('M',          'none'),\n            ('M',         'other'),\n            ('M',    'programmer'),\n            ('M',       'retired'),\n            ('M',      'salesman'),\n            ('M',     'scientist'),\n            ('M',       'student'),\n            ('M',    'technician'),\n            ('M',        'writer')],\n           names=['gender', 'occupation'])\n"
     ]
    }
   ],
   "source": [
    "print(perro)\n",
    "print('---')\n",
    "print('perro:', type(perro))\n",
    "print('---')\n",
    "print('perro shape:', perro.shape)\n",
    "print('---')\n",
    "print('perro index:', perro.index)\n",
    "print('----------------------------------------------')\n",
    "perro1 = perro.unstack()\n",
    "print(perro1)\n",
    "print('---')\n",
    "print('perro1 type:', type(perro1))\n",
    "print('---')\n",
    "print('perro1 shape:', perro1.shape)\n",
    "print('---')\n",
    "print('perro1 index:', perro1.index)\n",
    "print('---')\n",
    "print('perro1 columns:', perro1.columns)\n",
    "print('----------------------------------------------')\n",
    "perro2 = perro1.unstack()\n",
    "print(perro2)\n",
    "print('---')\n",
    "print('perro2 type:', type(perro2))\n",
    "print('---')\n",
    "print('perro2 shape:', perro2.shape)\n",
    "print('---')\n",
    "print('perro2 index:', perro2.index)"
   ]
  },
  {
   "cell_type": "code",
   "execution_count": 157,
   "metadata": {},
   "outputs": [
    {
     "output_type": "stream",
     "name": "stdout",
     "text": [
      "occupation\nadministrator    0.544304\nartist           0.535714\ndoctor           1.000000\neducator         0.726316\nengineer         0.970149\nentertainment    0.888889\nexecutive        0.906250\nhealthcare       0.312500\nhomemaker        0.142857\nlawyer           0.833333\nlibrarian        0.431373\nmarketing        0.615385\nnone             0.555556\nother            0.657143\nprogrammer       0.909091\nretired          0.928571\nsalesman         0.750000\nscientist        0.903226\nstudent          0.693878\ntechnician       0.962963\nwriter           0.577778\nName: gender, dtype: float64\n----------------------------------------------\noccupation\nadministrator    0.544304\nartist           0.535714\ndoctor           1.000000\neducator         0.726316\nengineer         0.970149\nentertainment    0.888889\nexecutive        0.906250\nhealthcare       0.312500\nhomemaker        0.142857\nlawyer           0.833333\nlibrarian        0.431373\nmarketing        0.615385\nnone             0.555556\nother            0.657143\nprogrammer       0.909091\nretired          0.928571\nsalesman         0.750000\nscientist        0.903226\nstudent          0.693878\ntechnician       0.962963\nwriter           0.577778\nName: M, dtype: float64\n----------------------------------------------\noccupation\nadministrator    0.544304\nartist           0.535714\ndoctor           1.000000\neducator         0.726316\nengineer         0.970149\nentertainment    0.888889\nexecutive        0.906250\nhealthcare       0.312500\nhomemaker        0.142857\nlawyer           0.833333\nlibrarian        0.431373\nmarketing        0.615385\nnone             0.555556\nother            0.657143\nprogrammer       0.909091\nretired          0.928571\nsalesman         0.750000\nscientist        0.903226\nstudent          0.693878\ntechnician       0.962963\nwriter           0.577778\ndtype: float64\n"
     ]
    }
   ],
   "source": [
    "print(perro.loc[:,'M'])\n",
    "print('----------------------------------------------')\n",
    "print(perro1.loc[:,'M'])\n",
    "print('----------------------------------------------')\n",
    "print(perro2.loc['M'])"
   ]
  },
  {
   "cell_type": "code",
   "execution_count": 141,
   "metadata": {},
   "outputs": [
    {
     "output_type": "stream",
     "name": "stdout",
     "text": [
      "perro2 type: <class 'pandas.core.series.Series'>\nperro2 shape: (42,)\n"
     ]
    },
    {
     "output_type": "execute_result",
     "data": {
      "text/plain": [
       "gender  occupation   \n",
       "F       administrator    0.455696\n",
       "        artist           0.464286\n",
       "        doctor                NaN\n",
       "        educator         0.273684\n",
       "        engineer         0.029851\n",
       "        entertainment    0.111111\n",
       "        executive        0.093750\n",
       "        healthcare       0.687500\n",
       "        homemaker        0.857143\n",
       "        lawyer           0.166667\n",
       "        librarian        0.568627\n",
       "        marketing        0.384615\n",
       "        none             0.444444\n",
       "        other            0.342857\n",
       "        programmer       0.090909\n",
       "        retired          0.071429\n",
       "        salesman         0.250000\n",
       "        scientist        0.096774\n",
       "        student          0.306122\n",
       "        technician       0.037037\n",
       "        writer           0.422222\n",
       "M       administrator    0.544304\n",
       "        artist           0.535714\n",
       "        doctor           1.000000\n",
       "        educator         0.726316\n",
       "        engineer         0.970149\n",
       "        entertainment    0.888889\n",
       "        executive        0.906250\n",
       "        healthcare       0.312500\n",
       "        homemaker        0.142857\n",
       "        lawyer           0.833333\n",
       "        librarian        0.431373\n",
       "        marketing        0.615385\n",
       "        none             0.555556\n",
       "        other            0.657143\n",
       "        programmer       0.909091\n",
       "        retired          0.928571\n",
       "        salesman         0.750000\n",
       "        scientist        0.903226\n",
       "        student          0.693878\n",
       "        technician       0.962963\n",
       "        writer           0.577778\n",
       "dtype: float64"
      ]
     },
     "metadata": {},
     "execution_count": 141
    }
   ],
   "source": [
    "perro2 = perro1.unstack()\n",
    "print('perro2 type:', type(perro2))\n",
    "print('perro2 shape:', perro2.shape)\n",
    "perro2"
   ]
  },
  {
   "cell_type": "code",
   "execution_count": 101,
   "metadata": {},
   "outputs": [
    {
     "output_type": "execute_result",
     "data": {
      "text/plain": [
       "occupation\n",
       "doctor           100.00\n",
       "engineer          97.01\n",
       "technician        96.30\n",
       "retired           92.86\n",
       "programmer        90.91\n",
       "executive         90.62\n",
       "scientist         90.32\n",
       "entertainment     88.89\n",
       "lawyer            83.33\n",
       "salesman          75.00\n",
       "educator          72.63\n",
       "student           69.39\n",
       "other             65.71\n",
       "marketing         61.54\n",
       "writer            57.78\n",
       "none              55.56\n",
       "administrator     54.43\n",
       "artist            53.57\n",
       "librarian         43.14\n",
       "healthcare        31.25\n",
       "homemaker         14.29\n",
       "Name: gender, dtype: float64"
      ]
     },
     "metadata": {},
     "execution_count": 101
    }
   ],
   "source": [
    "round(users.groupby('occupation').gender.value_counts(normalize = True).loc[:,'M']*100,2).sort_values(ascending=False) # Primero saqué el porcentaje de hombres y mujeres para cada 'occupation', después enmascaré para obtener sólo los 'Males'... Por último, ordené de mayor a menor."
   ]
  },
  {
   "cell_type": "markdown",
   "metadata": {},
   "source": [
    "### Step 6. For each occupation, calculate the minimum and maximum ages"
   ]
  },
  {
   "cell_type": "code",
   "execution_count": 11,
   "metadata": {
    "jupyter": {
     "outputs_hidden": false
    }
   },
   "outputs": [
    {
     "output_type": "execute_result",
     "data": {
      "text/plain": [
       "               min  max\n",
       "occupation             \n",
       "administrator   21   70\n",
       "artist          19   48\n",
       "doctor          28   64\n",
       "educator        23   63\n",
       "engineer        22   70\n",
       "entertainment   15   50\n",
       "executive       22   69\n",
       "healthcare      22   62\n",
       "homemaker       20   50\n",
       "lawyer          21   53\n",
       "librarian       23   69\n",
       "marketing       24   55\n",
       "none            11   55\n",
       "other           13   64\n",
       "programmer      20   63\n",
       "retired         51   73\n",
       "salesman        18   66\n",
       "scientist       23   55\n",
       "student          7   42\n",
       "technician      21   55\n",
       "writer          18   60"
      ],
      "text/html": "<div>\n<style scoped>\n    .dataframe tbody tr th:only-of-type {\n        vertical-align: middle;\n    }\n\n    .dataframe tbody tr th {\n        vertical-align: top;\n    }\n\n    .dataframe thead th {\n        text-align: right;\n    }\n</style>\n<table border=\"1\" class=\"dataframe\">\n  <thead>\n    <tr style=\"text-align: right;\">\n      <th></th>\n      <th>min</th>\n      <th>max</th>\n    </tr>\n    <tr>\n      <th>occupation</th>\n      <th></th>\n      <th></th>\n    </tr>\n  </thead>\n  <tbody>\n    <tr>\n      <th>administrator</th>\n      <td>21</td>\n      <td>70</td>\n    </tr>\n    <tr>\n      <th>artist</th>\n      <td>19</td>\n      <td>48</td>\n    </tr>\n    <tr>\n      <th>doctor</th>\n      <td>28</td>\n      <td>64</td>\n    </tr>\n    <tr>\n      <th>educator</th>\n      <td>23</td>\n      <td>63</td>\n    </tr>\n    <tr>\n      <th>engineer</th>\n      <td>22</td>\n      <td>70</td>\n    </tr>\n    <tr>\n      <th>entertainment</th>\n      <td>15</td>\n      <td>50</td>\n    </tr>\n    <tr>\n      <th>executive</th>\n      <td>22</td>\n      <td>69</td>\n    </tr>\n    <tr>\n      <th>healthcare</th>\n      <td>22</td>\n      <td>62</td>\n    </tr>\n    <tr>\n      <th>homemaker</th>\n      <td>20</td>\n      <td>50</td>\n    </tr>\n    <tr>\n      <th>lawyer</th>\n      <td>21</td>\n      <td>53</td>\n    </tr>\n    <tr>\n      <th>librarian</th>\n      <td>23</td>\n      <td>69</td>\n    </tr>\n    <tr>\n      <th>marketing</th>\n      <td>24</td>\n      <td>55</td>\n    </tr>\n    <tr>\n      <th>none</th>\n      <td>11</td>\n      <td>55</td>\n    </tr>\n    <tr>\n      <th>other</th>\n      <td>13</td>\n      <td>64</td>\n    </tr>\n    <tr>\n      <th>programmer</th>\n      <td>20</td>\n      <td>63</td>\n    </tr>\n    <tr>\n      <th>retired</th>\n      <td>51</td>\n      <td>73</td>\n    </tr>\n    <tr>\n      <th>salesman</th>\n      <td>18</td>\n      <td>66</td>\n    </tr>\n    <tr>\n      <th>scientist</th>\n      <td>23</td>\n      <td>55</td>\n    </tr>\n    <tr>\n      <th>student</th>\n      <td>7</td>\n      <td>42</td>\n    </tr>\n    <tr>\n      <th>technician</th>\n      <td>21</td>\n      <td>55</td>\n    </tr>\n    <tr>\n      <th>writer</th>\n      <td>18</td>\n      <td>60</td>\n    </tr>\n  </tbody>\n</table>\n</div>"
     },
     "metadata": {},
     "execution_count": 11
    }
   ],
   "source": [
    "users.groupby('occupation').age.aggregate([min,max])"
   ]
  },
  {
   "cell_type": "markdown",
   "metadata": {},
   "source": [
    "### Step 7. For each combination of occupation and gender, calculate the mean age"
   ]
  },
  {
   "cell_type": "code",
   "execution_count": 13,
   "metadata": {},
   "outputs": [
    {
     "output_type": "execute_result",
     "data": {
      "text/plain": [
       "occupation     gender\n",
       "administrator  F         40.64\n",
       "               M         37.16\n",
       "artist         F         30.31\n",
       "               M         32.33\n",
       "doctor         M         43.57\n",
       "educator       F         39.12\n",
       "               M         43.10\n",
       "engineer       F         29.50\n",
       "               M         36.60\n",
       "entertainment  F         31.00\n",
       "               M         29.00\n",
       "executive      F         44.00\n",
       "               M         38.17\n",
       "healthcare     F         39.82\n",
       "               M         45.40\n",
       "homemaker      F         34.17\n",
       "               M         23.00\n",
       "lawyer         F         39.50\n",
       "               M         36.20\n",
       "librarian      F         40.00\n",
       "               M         40.00\n",
       "marketing      F         37.20\n",
       "               M         37.88\n",
       "none           F         36.50\n",
       "               M         18.60\n",
       "other          F         35.47\n",
       "               M         34.03\n",
       "programmer     F         32.17\n",
       "               M         33.22\n",
       "retired        F         70.00\n",
       "               M         62.54\n",
       "salesman       F         27.00\n",
       "               M         38.56\n",
       "scientist      F         28.33\n",
       "               M         36.32\n",
       "student        F         20.75\n",
       "               M         22.67\n",
       "technician     F         38.00\n",
       "               M         32.96\n",
       "writer         F         37.63\n",
       "               M         35.35\n",
       "Name: age, dtype: float64"
      ]
     },
     "metadata": {},
     "execution_count": 13
    }
   ],
   "source": [
    "hola = round(users.groupby(['occupation', 'gender']).age.mean(),2)"
   ]
  },
  {
   "cell_type": "markdown",
   "metadata": {},
   "source": [
    "### Step 8.  For each occupation present the percentage of women and men"
   ]
  },
  {
   "cell_type": "code",
   "execution_count": 98,
   "metadata": {},
   "outputs": [
    {
     "output_type": "execute_result",
     "data": {
      "text/plain": [
       "occupation\n",
       "administrator     54.43\n",
       "artist            53.57\n",
       "doctor           100.00\n",
       "educator          72.63\n",
       "engineer          97.01\n",
       "entertainment     88.89\n",
       "executive         90.62\n",
       "healthcare        31.25\n",
       "homemaker         14.29\n",
       "lawyer            83.33\n",
       "librarian         43.14\n",
       "marketing         61.54\n",
       "none              55.56\n",
       "other             65.71\n",
       "programmer        90.91\n",
       "retired           92.86\n",
       "salesman          75.00\n",
       "scientist         90.32\n",
       "student           69.39\n",
       "technician        96.30\n",
       "writer            57.78\n",
       "Name: gender, dtype: float64"
      ]
     },
     "metadata": {},
     "execution_count": 98
    }
   ],
   "source": [
    "round(users.groupby('occupation').gender.value_counts(normalize = True).loc[:,'M']*100,2)"
   ]
  }
 ],
 "metadata": {
  "kernelspec": {
   "name": "python374jvsc74a57bd0a0947237fadc8b5561fed326db280cc5ec46a670c87cfb3a0489cf95ff262303",
   "display_name": "Python 3.7.4 64-bit"
  },
  "language_info": {
   "codemirror_mode": {
    "name": "ipython",
    "version": 3
   },
   "file_extension": ".py",
   "mimetype": "text/x-python",
   "name": "python",
   "nbconvert_exporter": "python",
   "pygments_lexer": "ipython3",
   "version": "3.7.4"
  },
  "metadata": {
   "interpreter": {
    "hash": "a0947237fadc8b5561fed326db280cc5ec46a670c87cfb3a0489cf95ff262303"
   }
  }
 },
 "nbformat": 4,
 "nbformat_minor": 4
}