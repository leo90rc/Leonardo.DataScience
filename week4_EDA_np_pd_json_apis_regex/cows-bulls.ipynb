{
 "metadata": {
  "language_info": {
   "codemirror_mode": {
    "name": "ipython",
    "version": 3
   },
   "file_extension": ".py",
   "mimetype": "text/x-python",
   "name": "python",
   "nbconvert_exporter": "python",
   "pygments_lexer": "ipython3",
   "version": "3.7.4"
  },
  "orig_nbformat": 2,
  "kernelspec": {
   "name": "python374jvsc74a57bd0a0947237fadc8b5561fed326db280cc5ec46a670c87cfb3a0489cf95ff262303",
   "display_name": "Python 3.7.4 64-bit"
  },
  "metadata": {
   "interpreter": {
    "hash": "a0947237fadc8b5561fed326db280cc5ec46a670c87cfb3a0489cf95ff262303"
   }
  }
 },
 "nbformat": 4,
 "nbformat_minor": 2,
 "cells": [
  {
   "cell_type": "code",
   "execution_count": 2,
   "metadata": {},
   "outputs": [],
   "source": [
    "import random"
   ]
  },
  {
   "cell_type": "code",
   "execution_count": 4,
   "metadata": {},
   "outputs": [
    {
     "output_type": "stream",
     "name": "stdout",
     "text": [
      "4855\n"
     ]
    }
   ],
   "source": [
    "numero = str(random.randint(1000,10000))\n",
    "numero_set = set(numero)\n",
    "while len(numero_set) < 4:\n",
    "    numero = str(random.randint(1000,10000))\n",
    "    numero_set = set(numero)\n",
    "    "
   ]
  },
  {
   "cell_type": "code",
   "execution_count": 24,
   "metadata": {},
   "outputs": [
    {
     "output_type": "execute_result",
     "data": {
      "text/plain": [
       "['1', '9', '6', '4']"
      ]
     },
     "metadata": {},
     "execution_count": 24
    }
   ],
   "source": [
    "import random\n",
    "mi_numero = []\n",
    "\n",
    "while len(mi_numero) < 4:\n",
    "    numero = str(random.randint(0,9))\n",
    "    if numero not in mi_numero:\n",
    "        mi_numero.append(numero)\n",
    "mi_numero"
   ]
  },
  {
   "cell_type": "code",
   "execution_count": 2,
   "metadata": {},
   "outputs": [
    {
     "output_type": "execute_result",
     "data": {
      "text/plain": [
       "{'a', 'h', 'l', 'o'}"
      ]
     },
     "metadata": {},
     "execution_count": 2
    }
   ],
   "source": [
    "set('holaaa')"
   ]
  },
  {
   "cell_type": "code",
   "execution_count": 1,
   "metadata": {},
   "outputs": [
    {
     "output_type": "stream",
     "name": "stdout",
     "text": [
      "4563\ncows: 0\nbulls: 1\n-------------\n"
     ]
    },
    {
     "output_type": "execute_result",
     "data": {
      "text/plain": [
       "'Has abandonado el juego'"
      ]
     },
     "metadata": {},
     "execution_count": 1
    }
   ],
   "source": [
    "def cows_bulls():\n",
    "    import random\n",
    "    mi_numero = []\n",
    "\n",
    "    while len(mi_numero) < 4:\n",
    "        numero = str(random.randint(0,9))\n",
    "        if numero not in mi_numero:\n",
    "            mi_numero.append(numero)\n",
    "    mi_numero\n",
    "    cow = 0\n",
    "    while cow < 4:\n",
    "        numero_adivinar = input('Ingrese un número de 4 cifras sin repetir dígitos. Escribe STOP si quieres salir:')\n",
    "        numero_adivinar_set = set(numero_adivinar)\n",
    "        if (len(numero_adivinar_set) != 4 or not numero_adivinar.isdigit()) and numero_adivinar != 'STOP':\n",
    "            print('Ingrese un número de 4 cifras distintas')\n",
    "            print('-------------')\n",
    "            continue\n",
    "        if numero_adivinar == 'STOP':\n",
    "            return 'Has abandonado el juego'\n",
    "        numero_adivinar_lista = list(numero_adivinar)\n",
    "        numero_adivinar_lista\n",
    "        cow = 0\n",
    "        bull = 0\n",
    "        for i,elem in enumerate(mi_numero):\n",
    "            if elem == numero_adivinar_lista[i]:\n",
    "                cow += 1\n",
    "            elif elem in numero_adivinar_lista:\n",
    "                bull += 1\n",
    "        print(numero_adivinar)\n",
    "        print('cows:', cow)\n",
    "        print('bulls:', bull)\n",
    "        print('-------------')\n",
    "    return 'GANASTE'\n",
    "\n",
    "cows_bulls()\n",
    "        "
   ]
  },
  {
   "cell_type": "code",
   "execution_count": 8,
   "metadata": {},
   "outputs": [
    {
     "output_type": "execute_result",
     "data": {
      "text/plain": [
       "True"
      ]
     },
     "metadata": {},
     "execution_count": 8
    }
   ],
   "source": [
    "numero = '64562'\n",
    "numero.isdigit()"
   ]
  },
  {
   "cell_type": "code",
   "execution_count": 19,
   "metadata": {},
   "outputs": [
    {
     "output_type": "execute_result",
     "data": {
      "text/plain": [
       "['h', 'o', 'l', 'a']"
      ]
     },
     "metadata": {},
     "execution_count": 19
    }
   ],
   "source": [
    "palbra = 'hola'\n",
    "list(palbra)"
   ]
  },
  {
   "cell_type": "code",
   "execution_count": 5,
   "metadata": {},
   "outputs": [
    {
     "output_type": "execute_result",
     "data": {
      "text/plain": [
       "{'a', 'h', 'l', 'o'}"
      ]
     },
     "metadata": {},
     "execution_count": 5
    }
   ],
   "source": [
    "palabra = 'hola'\n",
    "\n",
    "palabra = set(palabra)\n",
    "palabra"
   ]
  },
  {
   "cell_type": "code",
   "execution_count": null,
   "metadata": {},
   "outputs": [],
   "source": []
  }
 ]
}