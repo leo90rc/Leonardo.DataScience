{
 "metadata": {
  "language_info": {
   "codemirror_mode": {
    "name": "ipython",
    "version": 3
   },
   "file_extension": ".py",
   "mimetype": "text/x-python",
   "name": "python",
   "nbconvert_exporter": "python",
   "pygments_lexer": "ipython3",
   "version": "3.7.4"
  },
  "orig_nbformat": 2,
  "kernelspec": {
   "name": "python374jvsc74a57bd0a0947237fadc8b5561fed326db280cc5ec46a670c87cfb3a0489cf95ff262303",
   "display_name": "Python 3.7.4 64-bit"
  },
  "metadata": {
   "interpreter": {
    "hash": "a0947237fadc8b5561fed326db280cc5ec46a670c87cfb3a0489cf95ff262303"
   }
  }
 },
 "nbformat": 4,
 "nbformat_minor": 2,
 "cells": [
  {
   "cell_type": "markdown",
   "metadata": {},
   "source": [
    "### 1. \n",
    "\n",
    "En el archivo \"logistic_regression_df_class\" hemos visto un ejemplo multiclase. Elimina del dataframe todas las filas que se correspondan con la clase valor \"1\".\n",
    "\n",
    "Ahora, realiza el ejercicio con el nuevo dataframe:\n",
    "\n",
    "- ¿Se mejora la precisión del algoritmo con dos clases? ¿por qué?\n",
    "\n",
    "LogisticRegression() es una clase que tiene varios parámetros de entrada. Investiga (modifica, prueba) los argumentos y comenta si modificando algunas de ellas se mejora el porcentaje de acierto del problema (probar al menos 2 diferentes)\n",
    "\n",
    "https://scikit-learn.org/stable/modules/generated/sklearn.linear_model.LogisticRegression.html\n"
   ]
  },
  {
   "cell_type": "code",
   "execution_count": 287,
   "metadata": {},
   "outputs": [],
   "source": [
    "import pandas as pd\n",
    "import numpy as np\n",
    "import matplotlib.pyplot as plt\n",
    "from sklearn.metrics import mean_squared_error, mean_absolute_error\n",
    "from sklearn.model_selection import train_test_split\n",
    "from sklearn.model_selection import cross_val_score\n",
    "from sklearn.model_selection import KFold\n",
    "from sklearn.linear_model import LogisticRegression\n",
    "import random\n",
    "import seaborn as sns"
   ]
  },
  {
   "cell_type": "code",
   "execution_count": 288,
   "metadata": {},
   "outputs": [
    {
     "output_type": "execute_result",
     "data": {
      "text/plain": [
       "     duracion  paginas  acciones  valor  clase\n",
       "0         7.0        2         4      8      2\n",
       "1        21.0        2         6      6      2\n",
       "2        57.0        2         4      4      2\n",
       "3       101.0        3         6     12      2\n",
       "4       109.0        2         6     12      2\n",
       "..        ...      ...       ...    ...    ...\n",
       "165      13.0        1         7     42      0\n",
       "166      12.0        1         2      6      0\n",
       "167      13.0        1         3      9      0\n",
       "168      13.0        1         7     28      0\n",
       "169      12.0        1         6     18      0\n",
       "\n",
       "[170 rows x 5 columns]"
      ],
      "text/html": "<div>\n<style scoped>\n    .dataframe tbody tr th:only-of-type {\n        vertical-align: middle;\n    }\n\n    .dataframe tbody tr th {\n        vertical-align: top;\n    }\n\n    .dataframe thead th {\n        text-align: right;\n    }\n</style>\n<table border=\"1\" class=\"dataframe\">\n  <thead>\n    <tr style=\"text-align: right;\">\n      <th></th>\n      <th>duracion</th>\n      <th>paginas</th>\n      <th>acciones</th>\n      <th>valor</th>\n      <th>clase</th>\n    </tr>\n  </thead>\n  <tbody>\n    <tr>\n      <th>0</th>\n      <td>7.0</td>\n      <td>2</td>\n      <td>4</td>\n      <td>8</td>\n      <td>2</td>\n    </tr>\n    <tr>\n      <th>1</th>\n      <td>21.0</td>\n      <td>2</td>\n      <td>6</td>\n      <td>6</td>\n      <td>2</td>\n    </tr>\n    <tr>\n      <th>2</th>\n      <td>57.0</td>\n      <td>2</td>\n      <td>4</td>\n      <td>4</td>\n      <td>2</td>\n    </tr>\n    <tr>\n      <th>3</th>\n      <td>101.0</td>\n      <td>3</td>\n      <td>6</td>\n      <td>12</td>\n      <td>2</td>\n    </tr>\n    <tr>\n      <th>4</th>\n      <td>109.0</td>\n      <td>2</td>\n      <td>6</td>\n      <td>12</td>\n      <td>2</td>\n    </tr>\n    <tr>\n      <th>...</th>\n      <td>...</td>\n      <td>...</td>\n      <td>...</td>\n      <td>...</td>\n      <td>...</td>\n    </tr>\n    <tr>\n      <th>165</th>\n      <td>13.0</td>\n      <td>1</td>\n      <td>7</td>\n      <td>42</td>\n      <td>0</td>\n    </tr>\n    <tr>\n      <th>166</th>\n      <td>12.0</td>\n      <td>1</td>\n      <td>2</td>\n      <td>6</td>\n      <td>0</td>\n    </tr>\n    <tr>\n      <th>167</th>\n      <td>13.0</td>\n      <td>1</td>\n      <td>3</td>\n      <td>9</td>\n      <td>0</td>\n    </tr>\n    <tr>\n      <th>168</th>\n      <td>13.0</td>\n      <td>1</td>\n      <td>7</td>\n      <td>28</td>\n      <td>0</td>\n    </tr>\n    <tr>\n      <th>169</th>\n      <td>12.0</td>\n      <td>1</td>\n      <td>6</td>\n      <td>18</td>\n      <td>0</td>\n    </tr>\n  </tbody>\n</table>\n<p>170 rows × 5 columns</p>\n</div>"
     },
     "metadata": {},
     "execution_count": 288
    }
   ],
   "source": [
    "dataframe = pd.read_csv(\"../data/usuarios_win_mac_lin.csv\")\n",
    "dataframe"
   ]
  },
  {
   "cell_type": "code",
   "execution_count": 289,
   "metadata": {},
   "outputs": [
    {
     "output_type": "execute_result",
     "data": {
      "text/plain": [
       "0    86\n",
       "2    44\n",
       "1    40\n",
       "Name: clase, dtype: int64"
      ]
     },
     "metadata": {},
     "execution_count": 289
    }
   ],
   "source": [
    "dataframe.clase.value_counts()"
   ]
  },
  {
   "cell_type": "code",
   "execution_count": 290,
   "metadata": {},
   "outputs": [],
   "source": [
    "dataframe.drop(dataframe[dataframe.clase == 1].index, inplace = True)"
   ]
  },
  {
   "cell_type": "code",
   "execution_count": 291,
   "metadata": {},
   "outputs": [
    {
     "output_type": "execute_result",
     "data": {
      "text/plain": [
       "     duracion  paginas  acciones  valor  clase\n",
       "0         7.0        2         4      8      2\n",
       "1        21.0        2         6      6      2\n",
       "2        57.0        2         4      4      2\n",
       "3       101.0        3         6     12      2\n",
       "4       109.0        2         6     12      2\n",
       "..        ...      ...       ...    ...    ...\n",
       "165      13.0        1         7     42      0\n",
       "166      12.0        1         2      6      0\n",
       "167      13.0        1         3      9      0\n",
       "168      13.0        1         7     28      0\n",
       "169      12.0        1         6     18      0\n",
       "\n",
       "[130 rows x 5 columns]"
      ],
      "text/html": "<div>\n<style scoped>\n    .dataframe tbody tr th:only-of-type {\n        vertical-align: middle;\n    }\n\n    .dataframe tbody tr th {\n        vertical-align: top;\n    }\n\n    .dataframe thead th {\n        text-align: right;\n    }\n</style>\n<table border=\"1\" class=\"dataframe\">\n  <thead>\n    <tr style=\"text-align: right;\">\n      <th></th>\n      <th>duracion</th>\n      <th>paginas</th>\n      <th>acciones</th>\n      <th>valor</th>\n      <th>clase</th>\n    </tr>\n  </thead>\n  <tbody>\n    <tr>\n      <th>0</th>\n      <td>7.0</td>\n      <td>2</td>\n      <td>4</td>\n      <td>8</td>\n      <td>2</td>\n    </tr>\n    <tr>\n      <th>1</th>\n      <td>21.0</td>\n      <td>2</td>\n      <td>6</td>\n      <td>6</td>\n      <td>2</td>\n    </tr>\n    <tr>\n      <th>2</th>\n      <td>57.0</td>\n      <td>2</td>\n      <td>4</td>\n      <td>4</td>\n      <td>2</td>\n    </tr>\n    <tr>\n      <th>3</th>\n      <td>101.0</td>\n      <td>3</td>\n      <td>6</td>\n      <td>12</td>\n      <td>2</td>\n    </tr>\n    <tr>\n      <th>4</th>\n      <td>109.0</td>\n      <td>2</td>\n      <td>6</td>\n      <td>12</td>\n      <td>2</td>\n    </tr>\n    <tr>\n      <th>...</th>\n      <td>...</td>\n      <td>...</td>\n      <td>...</td>\n      <td>...</td>\n      <td>...</td>\n    </tr>\n    <tr>\n      <th>165</th>\n      <td>13.0</td>\n      <td>1</td>\n      <td>7</td>\n      <td>42</td>\n      <td>0</td>\n    </tr>\n    <tr>\n      <th>166</th>\n      <td>12.0</td>\n      <td>1</td>\n      <td>2</td>\n      <td>6</td>\n      <td>0</td>\n    </tr>\n    <tr>\n      <th>167</th>\n      <td>13.0</td>\n      <td>1</td>\n      <td>3</td>\n      <td>9</td>\n      <td>0</td>\n    </tr>\n    <tr>\n      <th>168</th>\n      <td>13.0</td>\n      <td>1</td>\n      <td>7</td>\n      <td>28</td>\n      <td>0</td>\n    </tr>\n    <tr>\n      <th>169</th>\n      <td>12.0</td>\n      <td>1</td>\n      <td>6</td>\n      <td>18</td>\n      <td>0</td>\n    </tr>\n  </tbody>\n</table>\n<p>130 rows × 5 columns</p>\n</div>"
     },
     "metadata": {},
     "execution_count": 291
    }
   ],
   "source": [
    "dataframe"
   ]
  },
  {
   "cell_type": "code",
   "execution_count": 292,
   "metadata": {},
   "outputs": [
    {
     "output_type": "execute_result",
     "data": {
      "text/plain": [
       "0    86\n",
       "2    44\n",
       "Name: clase, dtype: int64"
      ]
     },
     "metadata": {},
     "execution_count": 292
    }
   ],
   "source": [
    "dataframe.clase.value_counts()"
   ]
  },
  {
   "cell_type": "code",
   "execution_count": 293,
   "metadata": {},
   "outputs": [
    {
     "output_type": "stream",
     "name": "stdout",
     "text": [
      "y: (130,)\nX: (130, 4)\n"
     ]
    }
   ],
   "source": [
    "X = np.array(dataframe.drop(['clase'], axis=1))\n",
    "y = np.array(dataframe['clase'])\n",
    "print('y:', y.shape)\n",
    "print('X:', X.shape)"
   ]
  },
  {
   "source": [
    "## Validación del modelo"
   ],
   "cell_type": "markdown",
   "metadata": {}
  },
  {
   "cell_type": "code",
   "execution_count": 294,
   "metadata": {},
   "outputs": [],
   "source": [
    "seed = 7\n",
    "X_train, X_test, Y_train, Y_test = train_test_split(X, y, test_size=0.2, random_state=seed)"
   ]
  },
  {
   "cell_type": "code",
   "execution_count": 295,
   "metadata": {},
   "outputs": [
    {
     "output_type": "stream",
     "name": "stdout",
     "text": [
      "[1.         0.90909091 0.90909091 0.90909091 1.         0.8\n",
      " 1.         1.         0.9        0.8       ]\n",
      "----------\n",
      "Logistic Regression: 0.922727 +- (0.074218)\n",
      "----------\n",
      "----------\n"
     ]
    }
   ],
   "source": [
    "model = LogisticRegression(max_iter=100)\n",
    "name='Logistic Regression'\n",
    "kfold = KFold(n_splits=10, random_state = seed, shuffle = True) #Parte los datos en 10 trozos para usar validación cruzada / cross validation\n",
    "cv_results = cross_val_score(model, X_train, Y_train, cv=kfold, scoring='accuracy',)\n",
    "msg = \"%s: %f %s (%f)\" % (name, cv_results.mean(), \"+-\", cv_results.std())\n",
    "print(cv_results)\n",
    "print(\"----------\")\n",
    "print(msg)\n",
    "print(\"----------\")\n",
    "print(\"----------\")"
   ]
  },
  {
   "cell_type": "code",
   "execution_count": 296,
   "metadata": {},
   "outputs": [
    {
     "output_type": "execute_result",
     "data": {
      "text/plain": [
       "LogisticRegression()"
      ]
     },
     "metadata": {},
     "execution_count": 296
    }
   ],
   "source": [
    "# Los porcentajes obtenidos en el Cross Validation me satisfacen, entonces, entreno los datos del conjunto TRAIN\n",
    "\n",
    "model.fit(X_train, Y_train)"
   ]
  },
  {
   "cell_type": "code",
   "execution_count": 297,
   "metadata": {},
   "outputs": [
    {
     "output_type": "execute_result",
     "data": {
      "text/plain": [
       "0.9519230769230769"
      ]
     },
     "metadata": {},
     "execution_count": 297
    }
   ],
   "source": [
    "# Veamos qué porcentaje de acierto tengo para mi conjunto TRAIN\n",
    "\n",
    "model.score(X_train, Y_train)"
   ]
  },
  {
   "cell_type": "code",
   "execution_count": 298,
   "metadata": {},
   "outputs": [
    {
     "output_type": "execute_result",
     "data": {
      "text/plain": [
       "0.9615384615384616"
      ]
     },
     "metadata": {},
     "execution_count": 298
    }
   ],
   "source": [
    "# Veamos qué porcentaje de acierto tengo para mi conjunto TEST (éstos son los datos que yo no le di, y es importante que el valor sea al menos cercano a los obtenidos para CV y para el conjunto TRAIN)\n",
    "\n",
    "model.score(X_test, Y_test)"
   ]
  },
  {
   "source": [
    "Se verifica un buen porcentaje para el conjunto \"TEST\""
   ],
   "cell_type": "markdown",
   "metadata": {}
  },
  {
   "cell_type": "code",
   "execution_count": 299,
   "metadata": {},
   "outputs": [
    {
     "output_type": "execute_result",
     "data": {
      "text/plain": [
       "array([0, 0, 0, 0, 0, 0, 0, 0, 0, 0, 0, 2, 0, 2, 0, 0, 0, 0, 0, 0, 0, 0,\n",
       "       0, 0, 2, 0], dtype=int64)"
      ]
     },
     "metadata": {},
     "execution_count": 299
    }
   ],
   "source": [
    "# Para el conjunto TEST, el primer valor es el siguiente\n",
    "Y_test[0::]"
   ]
  },
  {
   "cell_type": "code",
   "execution_count": 300,
   "metadata": {},
   "outputs": [
    {
     "output_type": "execute_result",
     "data": {
      "text/plain": [
       "0"
      ]
     },
     "metadata": {},
     "execution_count": 300
    }
   ],
   "source": [
    "model.predict(X_test)[8]"
   ]
  },
  {
   "cell_type": "code",
   "execution_count": 301,
   "metadata": {},
   "outputs": [
    {
     "output_type": "execute_result",
     "data": {
      "text/plain": [
       "array([0], dtype=int64)"
      ]
     },
     "metadata": {},
     "execution_count": 301
    }
   ],
   "source": [
    "# Veamos si la predicción  es correcta\n",
    "model.predict(X_test[0:1])"
   ]
  },
  {
   "cell_type": "code",
   "execution_count": 302,
   "metadata": {},
   "outputs": [
    {
     "output_type": "execute_result",
     "data": {
      "text/plain": [
       "array([[1.00000000e+00, 5.34724688e-18]])"
      ]
     },
     "metadata": {},
     "execution_count": 302
    }
   ],
   "source": [
    "# La predicción fue correcta... pero, qué tan seguro estaba de esta predicción ??\n",
    "model.predict_proba(X_test[0:1])"
   ]
  },
  {
   "source": [
    "Ésto último nos dice que estuvo prácticamete un 100% seguro de que se trataba de una clase 0 y no 1."
   ],
   "cell_type": "markdown",
   "metadata": {}
  },
  {
   "source": [
    "## Pruebas cambiando algunas variables:"
   ],
   "cell_type": "markdown",
   "metadata": {}
  },
  {
   "cell_type": "code",
   "execution_count": 307,
   "metadata": {},
   "outputs": [
    {
     "output_type": "stream",
     "name": "stdout",
     "text": [
      "Seed: 1\nTest size: 0.2\nMax iter: 200\nNúmero splits: 10\n----------\nResultados de CV: [1.         1.         0.81818182 1.         1.         0.9\n 0.9        1.         1.         0.8       ]\n----------\nLogistic Regression: 0.941818 +- (0.076946)\n----------\nScore TRAIN: 0.9615384615384616\nScore TEST: 0.8846153846153846\n----------\nValor de Y_test en 17: 0\nPredicción de Y_test: 0\nSeguridad en predicción de Y_test: [9.99999980e-01 2.03398613e-08]\n"
     ]
    }
   ],
   "source": [
    "seed = 1\n",
    "ts = 0.15\n",
    "mi = 200\n",
    "ns = 10\n",
    "print('Seed:', seed)\n",
    "print('Test size:', ts)\n",
    "print('Max iter:', mi)\n",
    "print('Número splits:', ns)\n",
    "\n",
    "X_train, X_test, Y_train, Y_test = train_test_split(X, y, test_size=ts, random_state=seed)\n",
    "model = LogisticRegression(max_iter=mi)\n",
    "name='Logistic Regression'\n",
    "kfold = KFold(n_splits=ns, random_state = seed, shuffle = True) #Parte los datos en 10 trozos para usar validación cruzada / cross validation\n",
    "cv_results = cross_val_score(model, X_train, Y_train, cv=kfold, scoring='accuracy',)\n",
    "msg = \"%s: %f %s (%f)\" % (name, cv_results.mean(), \"+-\", cv_results.std())\n",
    "print(\"----------\")\n",
    "print('Resultados de CV:', cv_results)\n",
    "print(\"----------\")\n",
    "print(msg)\n",
    "print(\"----------\")\n",
    "model.fit(X_train, Y_train)\n",
    "print('Score TRAIN:', model.score(X_train, Y_train))\n",
    "print('Score TEST:', model.score(X_test, Y_test))\n",
    "print(\"----------\")\n",
    "Y_test_random = random.randint(0,len(Y_test)-1)\n",
    "print('Valor de Y_test en ' + str(Y_test_random) + ':', Y_test[Y_test_random])\n",
    "print('Predicción de Y_test:', model.predict(X_test)[Y_test_random])\n",
    "print('Seguridad en predicción de Y_test:', model.predict_proba(X_test)[Y_test_random])"
   ]
  },
  {
   "cell_type": "code",
   "execution_count": 306,
   "metadata": {},
   "outputs": [
    {
     "output_type": "stream",
     "name": "stdout",
     "text": [
      "Seed: 2\nTest size: 0.15\nMax iter: 200\nNúmero splits: 10\n----------\nResultados de CV: [1.         0.90909091 1.         1.         0.90909091 1.\n 0.72727273 0.90909091 0.90909091 1.        ]\n----------\nLogistic Regression: 0.936364 +- (0.081818)\n----------\nScore TRAIN: 0.9545454545454546\nScore TEST: 0.95\n----------\nValor de Y_test en 0: 0\nPredicción de Y_test: 0\nSeguridad en predicción de Y_test: [9.99999675e-01 3.25224113e-07]\n"
     ]
    }
   ],
   "source": [
    "seed = 2\n",
    "ts = 0.15\n",
    "mi = 200\n",
    "ns = 10\n",
    "print('Seed:', seed)\n",
    "print('Test size:', ts)\n",
    "print('Max iter:', mi)\n",
    "print('Número splits:', ns)\n",
    "\n",
    "X_train, X_test, Y_train, Y_test = train_test_split(X, y, test_size=ts, random_state=seed)\n",
    "model = LogisticRegression(max_iter=mi)\n",
    "name='Logistic Regression'\n",
    "kfold = KFold(n_splits=ns, random_state = seed, shuffle = True) #Parte los datos en 10 trozos para usar validación cruzada / cross validation\n",
    "cv_results = cross_val_score(model, X_train, Y_train, cv=kfold, scoring='accuracy',)\n",
    "msg = \"%s: %f %s (%f)\" % (name, cv_results.mean(), \"+-\", cv_results.std())\n",
    "print(\"----------\")\n",
    "print('Resultados de CV:', cv_results)\n",
    "print(\"----------\")\n",
    "print(msg)\n",
    "print(\"----------\")\n",
    "model.fit(X_train, Y_train)\n",
    "print('Score TRAIN:', model.score(X_train, Y_train))\n",
    "print('Score TEST:', model.score(X_test, Y_test))\n",
    "print(\"----------\")\n",
    "Y_test_random = random.randint(0,len(Y_test)-1)\n",
    "print('Valor de Y_test en ' + str(Y_test_random) + ':', Y_test[Y_test_random])\n",
    "print('Predicción de Y_test:', model.predict(X_test)[Y_test_random])\n",
    "print('Seguridad en predicción de Y_test:', model.predict_proba(X_test)[Y_test_random])"
   ]
  },
  {
   "cell_type": "code",
   "execution_count": 310,
   "metadata": {},
   "outputs": [
    {
     "output_type": "stream",
     "name": "stdout",
     "text": [
      "Seed: 2\n",
      "Test size: 0.15\n",
      "Max iter: 200\n",
      "Número splits: 30\n",
      "----------\n",
      "Resultados de CV: [1.         1.         1.         0.75       1.         1.\n",
      " 1.         1.         1.         1.         1.         0.75\n",
      " 1.         1.         1.         1.         1.         0.5\n",
      " 1.         0.75       1.         1.         0.66666667 1.\n",
      " 0.66666667 1.         1.         1.         1.         1.        ]\n",
      "----------\n",
      "Logistic Regression: 0.936111 +- (0.133824)\n",
      "----------\n",
      "Score TRAIN: 0.9545454545454546\n",
      "Score TEST: 0.95\n",
      "----------\n",
      "Valor de Y_test en 9: 0\n",
      "Predicción de Y_test: 0\n",
      "Seguridad en predicción de Y_test: [1.00000000e+00 1.33889802e-19]\n"
     ]
    }
   ],
   "source": [
    "seed = 2\n",
    "ts = 0.15\n",
    "mi = 200\n",
    "ns = 30\n",
    "print('Seed:', seed)\n",
    "print('Test size:', ts)\n",
    "print('Max iter:', mi)\n",
    "print('Número splits:', ns)\n",
    "\n",
    "X_train, X_test, Y_train, Y_test = train_test_split(X, y, test_size=ts, random_state=seed)\n",
    "model = LogisticRegression(max_iter=mi)\n",
    "name='Logistic Regression'\n",
    "kfold = KFold(n_splits=ns, random_state = seed, shuffle = True) #Parte los datos en 10 trozos para usar validación cruzada / cross validation\n",
    "cv_results = cross_val_score(model, X_train, Y_train, cv=kfold, scoring='accuracy',)\n",
    "msg = \"%s: %f %s (%f)\" % (name, cv_results.mean(), \"+-\", cv_results.std())\n",
    "print(\"----------\")\n",
    "print('Resultados de CV:', cv_results)\n",
    "print(\"----------\")\n",
    "print(msg)\n",
    "print(\"----------\")\n",
    "model.fit(X_train, Y_train)\n",
    "print('Score TRAIN:', model.score(X_train, Y_train))\n",
    "print('Score TEST:', model.score(X_test, Y_test))\n",
    "print(\"----------\")\n",
    "Y_test_random = random.randint(0,len(Y_test)-1)\n",
    "print('Valor de Y_test en ' + str(Y_test_random) + ':', Y_test[Y_test_random])\n",
    "print('Predicción de Y_test:', model.predict(X_test)[Y_test_random])\n",
    "print('Seguridad en predicción de Y_test:', model.predict_proba(X_test)[Y_test_random])"
   ]
  }
 ]
}