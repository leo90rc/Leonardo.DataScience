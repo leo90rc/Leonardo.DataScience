{
 "metadata": {
  "language_info": {
   "codemirror_mode": {
    "name": "ipython",
    "version": 3
   },
   "file_extension": ".py",
   "mimetype": "text/x-python",
   "name": "python",
   "nbconvert_exporter": "python",
   "pygments_lexer": "ipython3",
   "version": "3.7.4"
  },
  "orig_nbformat": 2,
  "kernelspec": {
   "name": "python3",
   "display_name": "Python 3.7.4 64-bit"
  },
  "interpreter": {
   "hash": "a0947237fadc8b5561fed326db280cc5ec46a670c87cfb3a0489cf95ff262303"
  }
 },
 "nbformat": 4,
 "nbformat_minor": 2,
 "cells": [
  {
   "cell_type": "markdown",
   "metadata": {},
   "source": [
    "### 1. Se pide: (regression)\n",
    "\n",
    "A partir del archivo \"USA_Housing.csv\", realizar la regresión no lineal entre cada columna numérica con la columna 'price' utilizando:\n",
    "\n",
    "- SVR"
   ]
  },
  {
   "cell_type": "code",
   "execution_count": 1,
   "metadata": {},
   "outputs": [],
   "source": [
    "import pandas as pd\n",
    "from sklearn import svm\n",
    "import numpy as np\n",
    "from sklearn import model_selection"
   ]
  },
  {
   "cell_type": "code",
   "execution_count": 2,
   "metadata": {},
   "outputs": [
    {
     "output_type": "execute_result",
     "data": {
      "text/plain": [
       "      Avg. Area Income  Avg. Area House Age  Avg. Area Number of Rooms  \\\n",
       "0         79545.458574             5.682861                   7.009188   \n",
       "1         79248.642455             6.002900                   6.730821   \n",
       "2         61287.067179             5.865890                   8.512727   \n",
       "3         63345.240046             7.188236                   5.586729   \n",
       "4         59982.197226             5.040555                   7.839388   \n",
       "...                ...                  ...                        ...   \n",
       "4995      60567.944140             7.830362                   6.137356   \n",
       "4996      78491.275435             6.999135                   6.576763   \n",
       "4997      63390.686886             7.250591                   4.805081   \n",
       "4998      68001.331235             5.534388                   7.130144   \n",
       "4999      65510.581804             5.992305                   6.792336   \n",
       "\n",
       "      Avg. Area Number of Bedrooms  Area Population         Price  \\\n",
       "0                             4.09     23086.800503  1.059034e+06   \n",
       "1                             3.09     40173.072174  1.505891e+06   \n",
       "2                             5.13     36882.159400  1.058988e+06   \n",
       "3                             3.26     34310.242831  1.260617e+06   \n",
       "4                             4.23     26354.109472  6.309435e+05   \n",
       "...                            ...              ...           ...   \n",
       "4995                          3.46     22837.361035  1.060194e+06   \n",
       "4996                          4.02     25616.115489  1.482618e+06   \n",
       "4997                          2.13     33266.145490  1.030730e+06   \n",
       "4998                          5.44     42625.620156  1.198657e+06   \n",
       "4999                          4.07     46501.283803  1.298950e+06   \n",
       "\n",
       "                                                Address  \n",
       "0     208 Michael Ferry Apt. 674\\r\\nLaurabury, NE 37...  \n",
       "1     188 Johnson Views Suite 079\\r\\nLake Kathleen, ...  \n",
       "2     9127 Elizabeth Stravenue\\r\\nDanieltown, WI 064...  \n",
       "3                           USS Barnett\\r\\nFPO AP 44820  \n",
       "4                          USNS Raymond\\r\\nFPO AE 09386  \n",
       "...                                                 ...  \n",
       "4995                 USNS Williams\\r\\nFPO AP 30153-7653  \n",
       "4996            PSC 9258, Box 8489\\r\\nAPO AA 42991-3352  \n",
       "4997  4215 Tracy Garden Suite 076\\r\\nJoshualand, VA ...  \n",
       "4998                        USS Wallace\\r\\nFPO AE 73316  \n",
       "4999  37778 George Ridges Apt. 509\\r\\nEast Holly, NV...  \n",
       "\n",
       "[5000 rows x 7 columns]"
      ],
      "text/html": "<div>\n<style scoped>\n    .dataframe tbody tr th:only-of-type {\n        vertical-align: middle;\n    }\n\n    .dataframe tbody tr th {\n        vertical-align: top;\n    }\n\n    .dataframe thead th {\n        text-align: right;\n    }\n</style>\n<table border=\"1\" class=\"dataframe\">\n  <thead>\n    <tr style=\"text-align: right;\">\n      <th></th>\n      <th>Avg. Area Income</th>\n      <th>Avg. Area House Age</th>\n      <th>Avg. Area Number of Rooms</th>\n      <th>Avg. Area Number of Bedrooms</th>\n      <th>Area Population</th>\n      <th>Price</th>\n      <th>Address</th>\n    </tr>\n  </thead>\n  <tbody>\n    <tr>\n      <th>0</th>\n      <td>79545.458574</td>\n      <td>5.682861</td>\n      <td>7.009188</td>\n      <td>4.09</td>\n      <td>23086.800503</td>\n      <td>1.059034e+06</td>\n      <td>208 Michael Ferry Apt. 674\\r\\nLaurabury, NE 37...</td>\n    </tr>\n    <tr>\n      <th>1</th>\n      <td>79248.642455</td>\n      <td>6.002900</td>\n      <td>6.730821</td>\n      <td>3.09</td>\n      <td>40173.072174</td>\n      <td>1.505891e+06</td>\n      <td>188 Johnson Views Suite 079\\r\\nLake Kathleen, ...</td>\n    </tr>\n    <tr>\n      <th>2</th>\n      <td>61287.067179</td>\n      <td>5.865890</td>\n      <td>8.512727</td>\n      <td>5.13</td>\n      <td>36882.159400</td>\n      <td>1.058988e+06</td>\n      <td>9127 Elizabeth Stravenue\\r\\nDanieltown, WI 064...</td>\n    </tr>\n    <tr>\n      <th>3</th>\n      <td>63345.240046</td>\n      <td>7.188236</td>\n      <td>5.586729</td>\n      <td>3.26</td>\n      <td>34310.242831</td>\n      <td>1.260617e+06</td>\n      <td>USS Barnett\\r\\nFPO AP 44820</td>\n    </tr>\n    <tr>\n      <th>4</th>\n      <td>59982.197226</td>\n      <td>5.040555</td>\n      <td>7.839388</td>\n      <td>4.23</td>\n      <td>26354.109472</td>\n      <td>6.309435e+05</td>\n      <td>USNS Raymond\\r\\nFPO AE 09386</td>\n    </tr>\n    <tr>\n      <th>...</th>\n      <td>...</td>\n      <td>...</td>\n      <td>...</td>\n      <td>...</td>\n      <td>...</td>\n      <td>...</td>\n      <td>...</td>\n    </tr>\n    <tr>\n      <th>4995</th>\n      <td>60567.944140</td>\n      <td>7.830362</td>\n      <td>6.137356</td>\n      <td>3.46</td>\n      <td>22837.361035</td>\n      <td>1.060194e+06</td>\n      <td>USNS Williams\\r\\nFPO AP 30153-7653</td>\n    </tr>\n    <tr>\n      <th>4996</th>\n      <td>78491.275435</td>\n      <td>6.999135</td>\n      <td>6.576763</td>\n      <td>4.02</td>\n      <td>25616.115489</td>\n      <td>1.482618e+06</td>\n      <td>PSC 9258, Box 8489\\r\\nAPO AA 42991-3352</td>\n    </tr>\n    <tr>\n      <th>4997</th>\n      <td>63390.686886</td>\n      <td>7.250591</td>\n      <td>4.805081</td>\n      <td>2.13</td>\n      <td>33266.145490</td>\n      <td>1.030730e+06</td>\n      <td>4215 Tracy Garden Suite 076\\r\\nJoshualand, VA ...</td>\n    </tr>\n    <tr>\n      <th>4998</th>\n      <td>68001.331235</td>\n      <td>5.534388</td>\n      <td>7.130144</td>\n      <td>5.44</td>\n      <td>42625.620156</td>\n      <td>1.198657e+06</td>\n      <td>USS Wallace\\r\\nFPO AE 73316</td>\n    </tr>\n    <tr>\n      <th>4999</th>\n      <td>65510.581804</td>\n      <td>5.992305</td>\n      <td>6.792336</td>\n      <td>4.07</td>\n      <td>46501.283803</td>\n      <td>1.298950e+06</td>\n      <td>37778 George Ridges Apt. 509\\r\\nEast Holly, NV...</td>\n    </tr>\n  </tbody>\n</table>\n<p>5000 rows × 7 columns</p>\n</div>"
     },
     "metadata": {},
     "execution_count": 2
    }
   ],
   "source": [
    "df = pd.read_csv(\"../data/USA_Housing.csv\")\n",
    "df"
   ]
  },
  {
   "source": [
    "# x --> Income\n",
    "# y --> Price"
   ],
   "cell_type": "markdown",
   "metadata": {}
  },
  {
   "cell_type": "code",
   "execution_count": 3,
   "metadata": {},
   "outputs": [
    {
     "output_type": "stream",
     "name": "stdout",
     "text": [
      "x_srv: (5000,)\ny_srv: (5000,)\n"
     ]
    }
   ],
   "source": [
    "x_svr = np.array(df['Avg. Area Income'])\n",
    "y_svr = np.array(df['Price'])\n",
    "print('x_srv:', x_svr.shape)\n",
    "print('y_srv:', y_svr.shape)"
   ]
  },
  {
   "cell_type": "code",
   "execution_count": 4,
   "metadata": {},
   "outputs": [],
   "source": [
    "model_SVR = svm.SVR(kernel='poly', degree= 2 , C=100)"
   ]
  },
  {
   "cell_type": "code",
   "execution_count": 5,
   "metadata": {},
   "outputs": [
    {
     "output_type": "stream",
     "name": "stdout",
     "text": [
      "X_svr_train: (4000, 1)\nX_svr_test: (1000, 1)\ny_svr_train: (4000,)\ny_svr_test: (1000,)\n"
     ]
    }
   ],
   "source": [
    "seed = 42\n",
    "x_svr_train, x_svr_test, y_svr_train, y_svr_test = model_selection.train_test_split(x_svr, y_svr, test_size=0.2, random_state=seed)\n",
    "\n",
    "x_svr_train = np.array(x_svr_train).reshape(-1, 1)\n",
    "x_svr_test = np.array(x_svr_test).reshape(-1, 1)\n",
    "\n",
    "print('X_svr_train:', x_svr_train.shape)\n",
    "print('X_svr_test:', x_svr_test.shape)\n",
    "print('y_svr_train:', y_svr_train.shape)\n",
    "print('y_svr_test:', y_svr_test.shape)"
   ]
  },
  {
   "cell_type": "code",
   "execution_count": 6,
   "metadata": {},
   "outputs": [
    {
     "output_type": "execute_result",
     "data": {
      "text/plain": [
       "SVR(C=100, degree=2, kernel='poly')"
      ]
     },
     "metadata": {},
     "execution_count": 6
    }
   ],
   "source": [
    "model_SVR.fit(x_svr_train, y_svr_train)"
   ]
  },
  {
   "cell_type": "code",
   "execution_count": 7,
   "metadata": {},
   "outputs": [
    {
     "output_type": "stream",
     "name": "stdout",
     "text": [
      "Score SVR TRAIN (Income): 41.04953838739818\nScore SVR TEST (Income): 39.32083889263922\n"
     ]
    }
   ],
   "source": [
    "print('Score SVR TRAIN (Income):', model_SVR.score(x_svr_train, y_svr_train) * 100)\n",
    "print('Score SVR TEST (Income):', model_SVR.score(x_svr_test, y_svr_test) * 100)"
   ]
  },
  {
   "source": [
    "---\n",
    "\n",
    "# x --> Age\n",
    "# y --> Price"
   ],
   "cell_type": "markdown",
   "metadata": {}
  },
  {
   "cell_type": "code",
   "execution_count": 8,
   "metadata": {},
   "outputs": [
    {
     "output_type": "stream",
     "name": "stdout",
     "text": [
      "x_srv: (5000,)\n",
      "y_srv: (5000,)\n",
      "\n",
      "\n",
      "X_svr_train: (4000, 1)\n",
      "X_svr_test: (1000, 1)\n",
      "y_svr_train: (4000,)\n",
      "y_svr_test: (1000,)\n",
      "\n",
      "\n",
      "Score SVR TRAIN (Age): 19.949194375888325\n",
      "Score SVR TEST (Age): 20.982453338897887\n"
     ]
    }
   ],
   "source": [
    "x_svr = np.array(df['Avg. Area House Age'])\n",
    "y_svr = np.array(df['Price'])\n",
    "print('x_srv:', x_svr.shape)\n",
    "print('y_srv:', y_svr.shape)\n",
    "print('\\n')\n",
    "model_SVR = svm.SVR(kernel='poly', degree=2 , C=100)\n",
    "\n",
    "seed = 42\n",
    "x_svr_train, x_svr_test, y_svr_train, y_svr_test = model_selection.train_test_split(x_svr, y_svr, test_size=0.2, random_state=seed)\n",
    "\n",
    "x_svr_train = np.array(x_svr_train).reshape(-1, 1)\n",
    "x_svr_test = np.array(x_svr_test).reshape(-1, 1)\n",
    "\n",
    "print('X_svr_train:', x_svr_train.shape)\n",
    "print('X_svr_test:', x_svr_test.shape)\n",
    "print('y_svr_train:', y_svr_train.shape)\n",
    "print('y_svr_test:', y_svr_test.shape)\n",
    "\n",
    "model_SVR.fit(x_svr_train, y_svr_train)\n",
    "print('\\n')\n",
    "print('Score SVR TRAIN (Age):', model_SVR.score(x_svr_train, y_svr_train) * 100)\n",
    "print('Score SVR TEST (Age):', model_SVR.score(x_svr_test, y_svr_test) * 100)"
   ]
  },
  {
   "source": [
    "---\n",
    "\n",
    "# x --> Rooms\n",
    "# y --> Price"
   ],
   "cell_type": "markdown",
   "metadata": {}
  },
  {
   "cell_type": "code",
   "execution_count": 9,
   "metadata": {},
   "outputs": [
    {
     "output_type": "stream",
     "name": "stdout",
     "text": [
      "x_srv: (5000,)\n",
      "y_srv: (5000,)\n",
      "\n",
      "\n",
      "X_svr_train: (4000, 1)\n",
      "X_svr_test: (1000, 1)\n",
      "y_svr_train: (4000,)\n",
      "y_svr_test: (1000,)\n",
      "\n",
      "\n",
      "Score SVR TRAIN (Age): 8.228013842752791\n",
      "Score SVR TEST (Age): 8.81176693481538\n"
     ]
    }
   ],
   "source": [
    "x_svr = np.array(df['Avg. Area Number of Rooms'])\n",
    "y_svr = np.array(df['Price'])\n",
    "print('x_srv:', x_svr.shape)\n",
    "print('y_srv:', y_svr.shape)\n",
    "print('\\n')\n",
    "model_SVR = svm.SVR(kernel='linear', C=100)\n",
    "\n",
    "seed = 42\n",
    "x_svr_train, x_svr_test, y_svr_train, y_svr_test = model_selection.train_test_split(x_svr, y_svr, test_size=0.2, random_state=seed)\n",
    "\n",
    "x_svr_train = np.array(x_svr_train).reshape(-1, 1)\n",
    "x_svr_test = np.array(x_svr_test).reshape(-1, 1)\n",
    "\n",
    "print('X_svr_train:', x_svr_train.shape)\n",
    "print('X_svr_test:', x_svr_test.shape)\n",
    "print('y_svr_train:', y_svr_train.shape)\n",
    "print('y_svr_test:', y_svr_test.shape)\n",
    "\n",
    "model_SVR.fit(x_svr_train, y_svr_train)\n",
    "print('\\n')\n",
    "print('Score SVR TRAIN (Age):', model_SVR.score(x_svr_train, y_svr_train) * 100)\n",
    "print('Score SVR TEST (Age):', model_SVR.score(x_svr_test, y_svr_test) * 100)"
   ]
  },
  {
   "source": [
    "---\n",
    "\n",
    "# x --> Bedrooms\n",
    "# y --> Price"
   ],
   "cell_type": "markdown",
   "metadata": {}
  },
  {
   "cell_type": "code",
   "execution_count": 10,
   "metadata": {},
   "outputs": [
    {
     "output_type": "stream",
     "name": "stdout",
     "text": [
      "x_srv: (5000,)\n",
      "y_srv: (5000,)\n",
      "\n",
      "\n",
      "X_svr_train: (4000, 1)\n",
      "X_svr_test: (1000, 1)\n",
      "y_svr_train: (4000,)\n",
      "y_svr_test: (1000,)\n",
      "\n",
      "\n",
      "Score SVR TRAIN (Age): 2.9857001521168325\n",
      "Score SVR TEST (Age): 1.750835483867308\n"
     ]
    }
   ],
   "source": [
    "x_svr = np.array(df['Avg. Area Number of Bedrooms'])\n",
    "y_svr = np.array(df['Price'])\n",
    "print('x_srv:', x_svr.shape)\n",
    "print('y_srv:', y_svr.shape)\n",
    "print('\\n')\n",
    "model_SVR = svm.SVR(kernel='poly', degree=2, C=100)\n",
    "\n",
    "seed = 42\n",
    "x_svr_train, x_svr_test, y_svr_train, y_svr_test = model_selection.train_test_split(x_svr, y_svr, test_size=0.2, random_state=seed)\n",
    "\n",
    "x_svr_train = np.array(x_svr_train).reshape(-1, 1)\n",
    "x_svr_test = np.array(x_svr_test).reshape(-1, 1)\n",
    "\n",
    "print('X_svr_train:', x_svr_train.shape)\n",
    "print('X_svr_test:', x_svr_test.shape)\n",
    "print('y_svr_train:', y_svr_train.shape)\n",
    "print('y_svr_test:', y_svr_test.shape)\n",
    "\n",
    "model_SVR.fit(x_svr_train, y_svr_train)\n",
    "print('\\n')\n",
    "print('Score SVR TRAIN (Age):', model_SVR.score(x_svr_train, y_svr_train) * 100)\n",
    "print('Score SVR TEST (Age):', model_SVR.score(x_svr_test, y_svr_test) * 100)"
   ]
  },
  {
   "source": [
    "---\n",
    "\n",
    "# x --> Population\n",
    "# y --> Price"
   ],
   "cell_type": "markdown",
   "metadata": {}
  },
  {
   "cell_type": "code",
   "execution_count": 11,
   "metadata": {},
   "outputs": [
    {
     "output_type": "stream",
     "name": "stdout",
     "text": [
      "x_srv: (5000,)\n",
      "y_srv: (5000,)\n",
      "\n",
      "\n",
      "X_svr_train: (4000, 1)\n",
      "X_svr_test: (1000, 1)\n",
      "y_svr_train: (4000,)\n",
      "y_svr_test: (1000,)\n",
      "\n",
      "\n",
      "Score SVR TRAIN (Age): 15.99504287115262\n",
      "Score SVR TEST (Age): 15.852897391565147\n"
     ]
    }
   ],
   "source": [
    "x_svr = np.array(df['Area Population'])\n",
    "y_svr = np.array(df['Price'])\n",
    "print('x_srv:', x_svr.shape)\n",
    "print('y_srv:', y_svr.shape)\n",
    "print('\\n')\n",
    "model_SVR = svm.SVR(kernel='poly', degree=2, C=100)\n",
    "\n",
    "seed = 42\n",
    "x_svr_train, x_svr_test, y_svr_train, y_svr_test = model_selection.train_test_split(x_svr, y_svr, test_size=0.2, random_state=seed)\n",
    "\n",
    "x_svr_train = np.array(x_svr_train).reshape(-1, 1)\n",
    "x_svr_test = np.array(x_svr_test).reshape(-1, 1)\n",
    "\n",
    "print('X_svr_train:', x_svr_train.shape)\n",
    "print('X_svr_test:', x_svr_test.shape)\n",
    "print('y_svr_train:', y_svr_train.shape)\n",
    "print('y_svr_test:', y_svr_test.shape)\n",
    "\n",
    "model_SVR.fit(x_svr_train, y_svr_train)\n",
    "print('\\n')\n",
    "print('Score SVR TRAIN (Age):', model_SVR.score(x_svr_train, y_svr_train) * 100)\n",
    "print('Score SVR TEST (Age):', model_SVR.score(x_svr_test, y_svr_test) * 100)"
   ]
  },
  {
   "source": [
    "---\n",
    "---\n",
    "---\n",
    "---\n",
    "---\n",
    "---\n",
    "---"
   ],
   "cell_type": "markdown",
   "metadata": {}
  },
  {
   "cell_type": "code",
   "execution_count": null,
   "metadata": {},
   "outputs": [],
   "source": []
  },
  {
   "cell_type": "markdown",
   "metadata": {},
   "source": [
    "### 2. Se pide: (classification)\n",
    "\n",
    "En el anterior dataset, la columna \"Avg. Area Number of Bedrooms\" está en un rango numérico limitado:\n",
    "\n",
    "1. Cambia todos los datos para que sean enteros redondeando hacia el entero más cercano. Si es .5 exacto, se redondea hacia abajo.\n",
    "\n",
    "2. Cuando lo hayas hecho, tendrás una columna con números enteros en un rango limitado. Ahora trata a esa columna como una serie de valores discretos (classes, labels). \n",
    "\n",
    "3. Usando las demás columnas numéricas y una a una, utiliza SVM (SVC) para clasificar esa columna modificada.\n",
    "\n",
    "4. Usando todas las demás columnas a la vez ¿hace aumentar el score? ¿por qué? \n",
    "\n",
    "5. ¿Qué columna tiene mejor correlación con \"Avg. Area Number of Bedrooms\" una vez modificada? ¿qué columna da mejor score para nuestro target? \n"
   ]
  },
  {
   "cell_type": "code",
   "execution_count": 12,
   "metadata": {},
   "outputs": [
    {
     "output_type": "execute_result",
     "data": {
      "text/plain": [
       "      Avg. Area Income  Avg. Area House Age  Avg. Area Number of Rooms  \\\n",
       "0         79545.458574             5.682861                   7.009188   \n",
       "1         79248.642455             6.002900                   6.730821   \n",
       "2         61287.067179             5.865890                   8.512727   \n",
       "3         63345.240046             7.188236                   5.586729   \n",
       "4         59982.197226             5.040555                   7.839388   \n",
       "...                ...                  ...                        ...   \n",
       "4995      60567.944140             7.830362                   6.137356   \n",
       "4996      78491.275435             6.999135                   6.576763   \n",
       "4997      63390.686886             7.250591                   4.805081   \n",
       "4998      68001.331235             5.534388                   7.130144   \n",
       "4999      65510.581804             5.992305                   6.792336   \n",
       "\n",
       "      Avg. Area Number of Bedrooms  Area Population         Price  \\\n",
       "0                                4     23086.800503  1.059034e+06   \n",
       "1                                3     40173.072174  1.505891e+06   \n",
       "2                                5     36882.159400  1.058988e+06   \n",
       "3                                3     34310.242831  1.260617e+06   \n",
       "4                                4     26354.109472  6.309435e+05   \n",
       "...                            ...              ...           ...   \n",
       "4995                             3     22837.361035  1.060194e+06   \n",
       "4996                             4     25616.115489  1.482618e+06   \n",
       "4997                             2     33266.145490  1.030730e+06   \n",
       "4998                             5     42625.620156  1.198657e+06   \n",
       "4999                             4     46501.283803  1.298950e+06   \n",
       "\n",
       "                                                Address  \n",
       "0     208 Michael Ferry Apt. 674\\r\\nLaurabury, NE 37...  \n",
       "1     188 Johnson Views Suite 079\\r\\nLake Kathleen, ...  \n",
       "2     9127 Elizabeth Stravenue\\r\\nDanieltown, WI 064...  \n",
       "3                           USS Barnett\\r\\nFPO AP 44820  \n",
       "4                          USNS Raymond\\r\\nFPO AE 09386  \n",
       "...                                                 ...  \n",
       "4995                 USNS Williams\\r\\nFPO AP 30153-7653  \n",
       "4996            PSC 9258, Box 8489\\r\\nAPO AA 42991-3352  \n",
       "4997  4215 Tracy Garden Suite 076\\r\\nJoshualand, VA ...  \n",
       "4998                        USS Wallace\\r\\nFPO AE 73316  \n",
       "4999  37778 George Ridges Apt. 509\\r\\nEast Holly, NV...  \n",
       "\n",
       "[5000 rows x 7 columns]"
      ],
      "text/html": "<div>\n<style scoped>\n    .dataframe tbody tr th:only-of-type {\n        vertical-align: middle;\n    }\n\n    .dataframe tbody tr th {\n        vertical-align: top;\n    }\n\n    .dataframe thead th {\n        text-align: right;\n    }\n</style>\n<table border=\"1\" class=\"dataframe\">\n  <thead>\n    <tr style=\"text-align: right;\">\n      <th></th>\n      <th>Avg. Area Income</th>\n      <th>Avg. Area House Age</th>\n      <th>Avg. Area Number of Rooms</th>\n      <th>Avg. Area Number of Bedrooms</th>\n      <th>Area Population</th>\n      <th>Price</th>\n      <th>Address</th>\n    </tr>\n  </thead>\n  <tbody>\n    <tr>\n      <th>0</th>\n      <td>79545.458574</td>\n      <td>5.682861</td>\n      <td>7.009188</td>\n      <td>4</td>\n      <td>23086.800503</td>\n      <td>1.059034e+06</td>\n      <td>208 Michael Ferry Apt. 674\\r\\nLaurabury, NE 37...</td>\n    </tr>\n    <tr>\n      <th>1</th>\n      <td>79248.642455</td>\n      <td>6.002900</td>\n      <td>6.730821</td>\n      <td>3</td>\n      <td>40173.072174</td>\n      <td>1.505891e+06</td>\n      <td>188 Johnson Views Suite 079\\r\\nLake Kathleen, ...</td>\n    </tr>\n    <tr>\n      <th>2</th>\n      <td>61287.067179</td>\n      <td>5.865890</td>\n      <td>8.512727</td>\n      <td>5</td>\n      <td>36882.159400</td>\n      <td>1.058988e+06</td>\n      <td>9127 Elizabeth Stravenue\\r\\nDanieltown, WI 064...</td>\n    </tr>\n    <tr>\n      <th>3</th>\n      <td>63345.240046</td>\n      <td>7.188236</td>\n      <td>5.586729</td>\n      <td>3</td>\n      <td>34310.242831</td>\n      <td>1.260617e+06</td>\n      <td>USS Barnett\\r\\nFPO AP 44820</td>\n    </tr>\n    <tr>\n      <th>4</th>\n      <td>59982.197226</td>\n      <td>5.040555</td>\n      <td>7.839388</td>\n      <td>4</td>\n      <td>26354.109472</td>\n      <td>6.309435e+05</td>\n      <td>USNS Raymond\\r\\nFPO AE 09386</td>\n    </tr>\n    <tr>\n      <th>...</th>\n      <td>...</td>\n      <td>...</td>\n      <td>...</td>\n      <td>...</td>\n      <td>...</td>\n      <td>...</td>\n      <td>...</td>\n    </tr>\n    <tr>\n      <th>4995</th>\n      <td>60567.944140</td>\n      <td>7.830362</td>\n      <td>6.137356</td>\n      <td>3</td>\n      <td>22837.361035</td>\n      <td>1.060194e+06</td>\n      <td>USNS Williams\\r\\nFPO AP 30153-7653</td>\n    </tr>\n    <tr>\n      <th>4996</th>\n      <td>78491.275435</td>\n      <td>6.999135</td>\n      <td>6.576763</td>\n      <td>4</td>\n      <td>25616.115489</td>\n      <td>1.482618e+06</td>\n      <td>PSC 9258, Box 8489\\r\\nAPO AA 42991-3352</td>\n    </tr>\n    <tr>\n      <th>4997</th>\n      <td>63390.686886</td>\n      <td>7.250591</td>\n      <td>4.805081</td>\n      <td>2</td>\n      <td>33266.145490</td>\n      <td>1.030730e+06</td>\n      <td>4215 Tracy Garden Suite 076\\r\\nJoshualand, VA ...</td>\n    </tr>\n    <tr>\n      <th>4998</th>\n      <td>68001.331235</td>\n      <td>5.534388</td>\n      <td>7.130144</td>\n      <td>5</td>\n      <td>42625.620156</td>\n      <td>1.198657e+06</td>\n      <td>USS Wallace\\r\\nFPO AE 73316</td>\n    </tr>\n    <tr>\n      <th>4999</th>\n      <td>65510.581804</td>\n      <td>5.992305</td>\n      <td>6.792336</td>\n      <td>4</td>\n      <td>46501.283803</td>\n      <td>1.298950e+06</td>\n      <td>37778 George Ridges Apt. 509\\r\\nEast Holly, NV...</td>\n    </tr>\n  </tbody>\n</table>\n<p>5000 rows × 7 columns</p>\n</div>"
     },
     "metadata": {},
     "execution_count": 12
    }
   ],
   "source": [
    "df['Avg. Area Number of Bedrooms'] = round(df['Avg. Area Number of Bedrooms'],0)\n",
    "df['Avg. Area Number of Bedrooms'] = df['Avg. Area Number of Bedrooms'].astype(int)\n",
    "df"
   ]
  },
  {
   "cell_type": "code",
   "execution_count": 16,
   "metadata": {},
   "outputs": [
    {
     "output_type": "stream",
     "name": "stdout",
     "text": [
      "x_svc: (5000,)\ny_svc: (5000,)\n"
     ]
    }
   ],
   "source": [
    "x_svc = np.array(df['Avg. Area Income'])\n",
    "y_svc = np.array(df['Avg. Area Number of Bedrooms'])\n",
    "print('x_svc:', x_svc.shape)\n",
    "print('y_svc:', y_svc.shape)"
   ]
  },
  {
   "source": [
    "## Inicializando el modelo"
   ],
   "cell_type": "markdown",
   "metadata": {}
  },
  {
   "cell_type": "code",
   "execution_count": 39,
   "metadata": {},
   "outputs": [],
   "source": [
    "seed = 42\n",
    "modelo_SVC_1 = svm.LinearSVC(C=10000, dual = False)"
   ]
  },
  {
   "source": [
    "## Conjunto train/test"
   ],
   "cell_type": "markdown",
   "metadata": {}
  },
  {
   "cell_type": "code",
   "execution_count": 34,
   "metadata": {},
   "outputs": [
    {
     "output_type": "stream",
     "name": "stdout",
     "text": [
      "x_svc_train: (4000, 1)\nx_svc_test: (1000, 1)\ny_svc_train: (4000,)\ny_svc_test: (1000,)\n"
     ]
    }
   ],
   "source": [
    "x_svc_train, x_svc_test, y_svc_train, y_svc_test = model_selection.train_test_split(x_svc, y_svc, test_size=0.2, random_state=seed)\n",
    "\n",
    "x_svc_train = np.array(x_svr_train).reshape(-1, 1)\n",
    "x_svc_test = np.array(x_svr_test).reshape(-1, 1)\n",
    "print('x_svc_train:', x_svc_train.shape)\n",
    "print('x_svc_test:', x_svc_test.shape)\n",
    "print('y_svc_train:', y_svc_train.shape)\n",
    "print('y_svc_test:', y_svc_test.shape)"
   ]
  },
  {
   "source": [
    "## Entreno modelo (con conjunto TRAIN)"
   ],
   "cell_type": "markdown",
   "metadata": {}
  },
  {
   "cell_type": "code",
   "execution_count": 40,
   "metadata": {},
   "outputs": [
    {
     "output_type": "execute_result",
     "data": {
      "text/plain": [
       "LinearSVC(C=10000, dual=False)"
      ]
     },
     "metadata": {},
     "execution_count": 40
    }
   ],
   "source": [
    "modelo_SVC_1.fit(x_svc_train, y_svc_train)"
   ]
  },
  {
   "cell_type": "code",
   "execution_count": null,
   "metadata": {},
   "outputs": [],
   "source": []
  }
 ]
}