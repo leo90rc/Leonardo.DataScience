{
 "cells": [
  {
   "cell_type": "markdown",
   "metadata": {},
   "source": [
    "### Here's your coding interview problem for today.\n",
    "🙈🙉🙊🙈🙉🙊🙈🙉🙊🙈🙉🙊🙈🙉🙊🙈🙉🙊🙈🙉🙊\n",
    "\n",
    "\n",
    "\n",
    "\n",
    "This problem was asked by Facebook.\n",
    "\n",
    "Given a string of round, curly, and square open and closing brackets, return whether the brackets are balanced (well-formed).\n",
    "\n",
    "For example, \n",
    "- given the string \"([])[]({})\", you should return True.\n",
    "- given the string \"([)]\" or \"((()\", you should return False.\n"
   ]
  },
  {
   "cell_type": "code",
   "execution_count": 12,
   "metadata": {},
   "outputs": [],
   "source": [
    "#sol 1\n",
    "braces = { '(': ')', '[': ']', '{': '}' }\n",
    "\n",
    "def check_string(string):\n",
    "    stack = []\n",
    "    for b in string:\n",
    "        c = braces.get(b)\n",
    "        if c:\n",
    "            stack.append(c)\n",
    "        elif not stack or stack.pop() != b:\n",
    "            return False\n",
    "    return not stack"
   ]
  },
  {
   "cell_type": "code",
   "execution_count": 13,
   "metadata": {},
   "outputs": [
    {
     "data": {
      "text/plain": [
       "False"
      ]
     },
     "execution_count": 13,
     "metadata": {},
     "output_type": "execute_result"
    }
   ],
   "source": [
    "check_string(\"((()\")"
   ]
  },
  {
   "cell_type": "code",
   "execution_count": 14,
   "metadata": {},
   "outputs": [
    {
     "data": {
      "text/plain": [
       "False"
      ]
     },
     "execution_count": 14,
     "metadata": {},
     "output_type": "execute_result"
    }
   ],
   "source": [
    "check_string(\"(/)\")"
   ]
  },
  {
   "cell_type": "code",
   "execution_count": 15,
   "metadata": {},
   "outputs": [
    {
     "data": {
      "text/plain": [
       "True"
      ]
     },
     "execution_count": 15,
     "metadata": {},
     "output_type": "execute_result"
    }
   ],
   "source": [
    "check_string(\"([])\")"
   ]
  },
  {
   "cell_type": "code",
   "execution_count": 16,
   "metadata": {},
   "outputs": [
    {
     "data": {
      "text/plain": [
       "True"
      ]
     },
     "execution_count": 16,
     "metadata": {},
     "output_type": "execute_result"
    }
   ],
   "source": [
    "check_string(\"(){}[]\")"
   ]
  },
  {
   "cell_type": "code",
   "execution_count": 17,
   "metadata": {},
   "outputs": [],
   "source": [
    "#sol 2\n",
    "def check_string_2(string):\n",
    "    # Variables\n",
    "    symbol_dict = {\"(\":\")\", \"[\":\"]\", \"{\":\"}\"}\n",
    "    symbols = [\"(\", \")\", \"[\", \"]\", \"{\", \"}\"]\n",
    "    length = len(string)\n",
    "\n",
    "    # Check string\n",
    "    checking = []\n",
    "    for i in range(length):\n",
    "        # Find an opening bracket\n",
    "        if string[i] in list(symbol_dict.keys()):\n",
    "            checking.append(string[i])\n",
    "\n",
    "        # Find a closing bracket\n",
    "        else:\n",
    "            # If no opener to be checked, return False\n",
    "            if len(checking) == 0:\n",
    "                return False            \n",
    "            # If there are openers, compare them\n",
    "            if string[i] == symbol_dict[checking[-1]]:\n",
    "                checking.pop(-1)\n",
    "            else:\n",
    "                return False\n",
    "\n",
    "    # If after the loop there is any opener to be checked, return False\n",
    "    if len(checking) != 0:\n",
    "        return False\n",
    "    \n",
    "    # Finaly return True!\n",
    "    return True"
   ]
  },
  {
   "cell_type": "code",
   "execution_count": 18,
   "metadata": {},
   "outputs": [
    {
     "data": {
      "text/plain": [
       "False"
      ]
     },
     "execution_count": 18,
     "metadata": {},
     "output_type": "execute_result"
    }
   ],
   "source": [
    "check_string_2(\"((()\")"
   ]
  },
  {
   "cell_type": "code",
   "execution_count": 19,
   "metadata": {},
   "outputs": [
    {
     "data": {
      "text/plain": [
       "False"
      ]
     },
     "execution_count": 19,
     "metadata": {},
     "output_type": "execute_result"
    }
   ],
   "source": [
    "check_string_2(\"(/)\")"
   ]
  },
  {
   "cell_type": "code",
   "execution_count": 20,
   "metadata": {},
   "outputs": [
    {
     "data": {
      "text/plain": [
       "True"
      ]
     },
     "execution_count": 20,
     "metadata": {},
     "output_type": "execute_result"
    }
   ],
   "source": [
    "check_string_2(\"([])\")"
   ]
  },
  {
   "cell_type": "code",
   "execution_count": 21,
   "metadata": {},
   "outputs": [
    {
     "data": {
      "text/plain": [
       "True"
      ]
     },
     "execution_count": 21,
     "metadata": {},
     "output_type": "execute_result"
    }
   ],
   "source": [
    "check_string_2(\"(){}[]\")"
   ]
  }
 ],
 "metadata": {
  "kernelspec": {
   "display_name": "Python 3",
   "language": "python",
   "name": "python3"
  },
  "language_info": {
   "codemirror_mode": {
    "name": "ipython",
    "version": 3
   },
   "file_extension": ".py",
   "mimetype": "text/x-python",
   "name": "python",
   "nbconvert_exporter": "python",
   "pygments_lexer": "ipython3",
   "version": "3.8.3"
  }
 },
 "nbformat": 4,
 "nbformat_minor": 2
}
