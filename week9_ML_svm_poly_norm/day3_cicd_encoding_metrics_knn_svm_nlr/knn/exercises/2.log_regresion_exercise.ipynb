{
 "metadata": {
  "language_info": {
   "codemirror_mode": {
    "name": "ipython",
    "version": 3
   },
   "file_extension": ".py",
   "mimetype": "text/x-python",
   "name": "python",
   "nbconvert_exporter": "python",
   "pygments_lexer": "ipython3",
   "version": "3.7.4"
  },
  "orig_nbformat": 2,
  "kernelspec": {
   "name": "python3",
   "display_name": "Python 3.7.4 64-bit"
  },
  "interpreter": {
   "hash": "a0947237fadc8b5561fed326db280cc5ec46a670c87cfb3a0489cf95ff262303"
  }
 },
 "nbformat": 4,
 "nbformat_minor": 2,
 "cells": [
  {
   "cell_type": "markdown",
   "metadata": {},
   "source": [
    "1. \n",
    "\n",
    "(X_train=80%)\n",
    "(X_test=20%)\n",
    "\n",
    "A partir del archivo \"iris.csv\" que se corresponde con datos relacionados con tres tipos de plantas (el target es el tipo de planta):\n",
    "\n",
    "- Mediante regresión logística, predice qué planta se corresponde con los ejemplos: [[15.7,2.8,9.5,0.1]] y [[1.7,3.8,4.5,11.3]]\n",
    "- ¿Qué acierto tiene tu modelo? (score)\n",
    "- Utiliza un conjunto de test con el 40% de los datos: ¿cambian los resultados anteriores? ¿por qué?\n",
    "- Elimina la clase \"Virginica\" de tus datos. Repite el proceso anterior, ¿cambian los resultados?\n",
    "- ¿Consideras la regresión logística un buen algoritmo para estos datos? ¿por qué?"
   ]
  },
  {
   "cell_type": "code",
   "execution_count": 234,
   "metadata": {},
   "outputs": [],
   "source": [
    "import pandas as pd\n",
    "import numpy as np"
   ]
  },
  {
   "cell_type": "code",
   "execution_count": 235,
   "metadata": {},
   "outputs": [],
   "source": [
    "seed = 42"
   ]
  },
  {
   "cell_type": "code",
   "execution_count": 236,
   "metadata": {},
   "outputs": [
    {
     "output_type": "execute_result",
     "data": {
      "text/plain": [
       "     sepal.length  sepal.width  petal.length  petal.width    variety\n",
       "0             5.1          3.5           1.4          0.2     Setosa\n",
       "1             4.9          3.0           1.4          0.2     Setosa\n",
       "2             4.7          3.2           1.3          0.2     Setosa\n",
       "3             4.6          3.1           1.5          0.2     Setosa\n",
       "4             5.0          3.6           1.4          0.2     Setosa\n",
       "..            ...          ...           ...          ...        ...\n",
       "145           6.7          3.0           5.2          2.3  Virginica\n",
       "146           6.3          2.5           5.0          1.9  Virginica\n",
       "147           6.5          3.0           5.2          2.0  Virginica\n",
       "148           6.2          3.4           5.4          2.3  Virginica\n",
       "149           5.9          3.0           5.1          1.8  Virginica\n",
       "\n",
       "[150 rows x 5 columns]"
      ],
      "text/html": "<div>\n<style scoped>\n    .dataframe tbody tr th:only-of-type {\n        vertical-align: middle;\n    }\n\n    .dataframe tbody tr th {\n        vertical-align: top;\n    }\n\n    .dataframe thead th {\n        text-align: right;\n    }\n</style>\n<table border=\"1\" class=\"dataframe\">\n  <thead>\n    <tr style=\"text-align: right;\">\n      <th></th>\n      <th>sepal.length</th>\n      <th>sepal.width</th>\n      <th>petal.length</th>\n      <th>petal.width</th>\n      <th>variety</th>\n    </tr>\n  </thead>\n  <tbody>\n    <tr>\n      <th>0</th>\n      <td>5.1</td>\n      <td>3.5</td>\n      <td>1.4</td>\n      <td>0.2</td>\n      <td>Setosa</td>\n    </tr>\n    <tr>\n      <th>1</th>\n      <td>4.9</td>\n      <td>3.0</td>\n      <td>1.4</td>\n      <td>0.2</td>\n      <td>Setosa</td>\n    </tr>\n    <tr>\n      <th>2</th>\n      <td>4.7</td>\n      <td>3.2</td>\n      <td>1.3</td>\n      <td>0.2</td>\n      <td>Setosa</td>\n    </tr>\n    <tr>\n      <th>3</th>\n      <td>4.6</td>\n      <td>3.1</td>\n      <td>1.5</td>\n      <td>0.2</td>\n      <td>Setosa</td>\n    </tr>\n    <tr>\n      <th>4</th>\n      <td>5.0</td>\n      <td>3.6</td>\n      <td>1.4</td>\n      <td>0.2</td>\n      <td>Setosa</td>\n    </tr>\n    <tr>\n      <th>...</th>\n      <td>...</td>\n      <td>...</td>\n      <td>...</td>\n      <td>...</td>\n      <td>...</td>\n    </tr>\n    <tr>\n      <th>145</th>\n      <td>6.7</td>\n      <td>3.0</td>\n      <td>5.2</td>\n      <td>2.3</td>\n      <td>Virginica</td>\n    </tr>\n    <tr>\n      <th>146</th>\n      <td>6.3</td>\n      <td>2.5</td>\n      <td>5.0</td>\n      <td>1.9</td>\n      <td>Virginica</td>\n    </tr>\n    <tr>\n      <th>147</th>\n      <td>6.5</td>\n      <td>3.0</td>\n      <td>5.2</td>\n      <td>2.0</td>\n      <td>Virginica</td>\n    </tr>\n    <tr>\n      <th>148</th>\n      <td>6.2</td>\n      <td>3.4</td>\n      <td>5.4</td>\n      <td>2.3</td>\n      <td>Virginica</td>\n    </tr>\n    <tr>\n      <th>149</th>\n      <td>5.9</td>\n      <td>3.0</td>\n      <td>5.1</td>\n      <td>1.8</td>\n      <td>Virginica</td>\n    </tr>\n  </tbody>\n</table>\n<p>150 rows × 5 columns</p>\n</div>"
     },
     "metadata": {},
     "execution_count": 236
    }
   ],
   "source": [
    "iris = pd.read_csv('../data/iris.csv')\n",
    "iris"
   ]
  },
  {
   "cell_type": "code",
   "execution_count": 237,
   "metadata": {},
   "outputs": [
    {
     "output_type": "stream",
     "name": "stdout",
     "text": [
      "X: (150, 4)\ny: (150,)\n"
     ]
    }
   ],
   "source": [
    "X = np.array(iris.drop(['variety'], axis= 1))\n",
    "y = np.array(iris['variety'])\n",
    "print('X:', X.shape)\n",
    "print('y:', y.shape)"
   ]
  },
  {
   "source": [
    "## Inicializando modelo"
   ],
   "cell_type": "markdown",
   "metadata": {}
  },
  {
   "cell_type": "code",
   "execution_count": 238,
   "metadata": {},
   "outputs": [],
   "source": [
    "from sklearn import linear_model\n",
    "\n",
    "model = linear_model.LogisticRegression(max_iter=1000)"
   ]
  },
  {
   "source": [
    "# TEST = 20%"
   ],
   "cell_type": "markdown",
   "metadata": {}
  },
  {
   "cell_type": "code",
   "execution_count": 239,
   "metadata": {},
   "outputs": [
    {
     "output_type": "stream",
     "name": "stdout",
     "text": [
      "X_train_20: (120, 4)\nX_test_20: (30, 4)\ny_train_20: (120,)\ny_test_20: (30,)\n"
     ]
    }
   ],
   "source": [
    "from sklearn.model_selection import train_test_split\n",
    "\n",
    "X_train_20, X_test_20, y_train_20, y_test_20 = train_test_split(X, y, test_size=0.2 ,random_state=seed)\n",
    "print('X_train_20:', X_train_20.shape)\n",
    "print('X_test_20:', X_test_20.shape)\n",
    "print('y_train_20:', y_train_20.shape)\n",
    "print('y_test_20:', y_test_20.shape)"
   ]
  },
  {
   "source": [
    "## Cross Validation"
   ],
   "cell_type": "markdown",
   "metadata": {}
  },
  {
   "cell_type": "code",
   "execution_count": 240,
   "metadata": {},
   "outputs": [
    {
     "output_type": "stream",
     "name": "stdout",
     "text": [
      "[0.93333333 1.         1.         0.86666667 1.         0.86666667\n 0.93333333 1.        ]\n-----------------------------------------------------------\nLogistic Refression (TEST 20%): 0.950000 +- (0.055277)\n"
     ]
    }
   ],
   "source": [
    "from sklearn.model_selection import KFold\n",
    "from sklearn.model_selection import cross_val_score\n",
    "\n",
    "name_20 = 'Logistic Regression (TEST 20%)'\n",
    "\n",
    "kfold = KFold(n_splits=8, random_state = seed, shuffle = True)\n",
    "cv_results_20 = cross_val_score(model, X_train_20, y_train_20, cv = kfold, scoring = 'accuracy')\n",
    "msg_20 = \"%s: %f %s (%f)\" % (name_20, cv_results_20.mean(), \"+-\", cv_results_20.std())\n",
    "print(cv_results_20)\n",
    "print('-----------------------------------------------------------')\n",
    "print(msg_20)\n"
   ]
  },
  {
   "source": [
    "## La CV arroja buenos resultados. Ahora puedo entrenar a mi modelo con el conjunto de TRAIN completo"
   ],
   "cell_type": "markdown",
   "metadata": {}
  },
  {
   "cell_type": "code",
   "execution_count": 241,
   "metadata": {},
   "outputs": [
    {
     "output_type": "execute_result",
     "data": {
      "text/plain": [
       "LogisticRegression(max_iter=1000)"
      ]
     },
     "metadata": {},
     "execution_count": 241
    }
   ],
   "source": [
    "model.fit(X_train_20, y_train_20)"
   ]
  },
  {
   "source": [
    "## Predicción"
   ],
   "cell_type": "markdown",
   "metadata": {}
  },
  {
   "cell_type": "code",
   "execution_count": 242,
   "metadata": {},
   "outputs": [
    {
     "output_type": "execute_result",
     "data": {
      "text/plain": [
       "array(['Virginica'], dtype=object)"
      ]
     },
     "metadata": {},
     "execution_count": 242
    }
   ],
   "source": [
    "model.predict([[15.7,2.8,9.5,0.1]])\n",
    "\n",
    "# El modelo predice VIRGINICA"
   ]
  },
  {
   "cell_type": "code",
   "execution_count": 243,
   "metadata": {},
   "outputs": [
    {
     "output_type": "execute_result",
     "data": {
      "text/plain": [
       "array(['Virginica'], dtype=object)"
      ]
     },
     "metadata": {},
     "execution_count": 243
    }
   ],
   "source": [
    "model.predict([[1.7,3.8,4.5,11.3]])\n",
    "\n",
    "# El modelo predice nuevamente VIRGINICA"
   ]
  },
  {
   "source": [
    "## Score del modelo"
   ],
   "cell_type": "markdown",
   "metadata": {}
  },
  {
   "cell_type": "code",
   "execution_count": 244,
   "metadata": {},
   "outputs": [
    {
     "output_type": "stream",
     "name": "stdout",
     "text": [
      "SCORES al entrenar el modelo con EL CONJUNTO TRAIN --> 20%\n\n\nScore TRAIN (TEST 20%): 97.5 %\nScore TEST (TEST 20%): 100.0 %\n"
     ]
    }
   ],
   "source": [
    "print('SCORES al entrenar el modelo con EL CONJUNTO TRAIN --> 20%')\n",
    "print('\\n')\n",
    "print('Score TRAIN (TEST 20%):', model.score(X_train_20, y_train_20) * 100, '%')\n",
    "print('Score TEST (TEST 20%):', model.score(X_test_20, y_test_20) * 100, '%')"
   ]
  },
  {
   "source": [
    "## Si mi modelo tiene los resultados que deseo... ahora lo entreno con la totalidad de los datos"
   ],
   "cell_type": "markdown",
   "metadata": {}
  },
  {
   "cell_type": "code",
   "execution_count": 245,
   "metadata": {},
   "outputs": [
    {
     "output_type": "stream",
     "name": "stdout",
     "text": [
      "SCORES al entrenar el modelo con TODOS LOS DATOS\n\n\nScore (para todos los datos): 97.33333333333334 %\n---------------------------------------------------------------------\nScore para conjunto TRAIN (TEST 20%): 96.66666666666667 %\n---------------------------------------------------------------------\nScore TEST (TEST 20%): 100.0 %\n"
     ]
    }
   ],
   "source": [
    "model.fit(X, y)\n",
    "print('SCORES al entrenar el modelo con TODOS LOS DATOS')\n",
    "print('\\n')\n",
    "print('Score (para todos los datos):', model.score(X, y) * 100, '%')\n",
    "print('---------------------------------------------------------------------')\n",
    "print('Score para conjunto TRAIN (TEST 20%):', model.score(X_train_20, y_train_20) * 100, '%')\n",
    "print('---------------------------------------------------------------------')\n",
    "print('Score TEST (TEST 20%):', model.score(X_test_20, y_test_20) * 100, '%')"
   ]
  },
  {
   "source": [
    "# OBSERVACIÓN !!!!!!!!\n",
    "### Conjunto TRAIN (TEST 20%) con modelo entrenado con ese mismo conjunto --> 97.5 %\n",
    "### Conjunto TRAIN (TEST 20%) con modelo entrenado con todos los datos    --> 96.67 %\n",
    "\n",
    "El conjunto train empeoró un poco al entrenar el modelo con la totalidad de los datos. ESTO DEPENDE SIEMPRE DE LA SEMILLA"
   ],
   "cell_type": "markdown",
   "metadata": {}
  },
  {
   "source": [
    "## Predicción con el modelo entrenado con la totalidad de los datos"
   ],
   "cell_type": "markdown",
   "metadata": {}
  },
  {
   "cell_type": "code",
   "execution_count": 246,
   "metadata": {},
   "outputs": [
    {
     "output_type": "execute_result",
     "data": {
      "text/plain": [
       "array(['Virginica'], dtype=object)"
      ]
     },
     "metadata": {},
     "execution_count": 246
    }
   ],
   "source": [
    "model.predict([[15.7,2.8,9.5,0.1]])\n",
    "\n",
    "# El modelo predice VIRGINICA"
   ]
  },
  {
   "cell_type": "code",
   "execution_count": 247,
   "metadata": {},
   "outputs": [
    {
     "output_type": "execute_result",
     "data": {
      "text/plain": [
       "array(['Virginica'], dtype=object)"
      ]
     },
     "metadata": {},
     "execution_count": 247
    }
   ],
   "source": [
    "model.predict([[1.7,3.8,4.5,11.3]])\n",
    "\n",
    "# El modelo predice nuevamente VIRGINICA"
   ]
  },
  {
   "source": [
    "## Matriz de confusión - TEST = 20%"
   ],
   "cell_type": "markdown",
   "metadata": {}
  },
  {
   "cell_type": "code",
   "execution_count": 248,
   "metadata": {},
   "outputs": [
    {
     "output_type": "stream",
     "name": "stdout",
     "text": [
      "[[10  0  0]\n [ 0  9  0]\n [ 0  0 11]]\n"
     ]
    }
   ],
   "source": [
    "from sklearn.metrics import confusion_matrix\n",
    "prediccion_20 = model.predict(X_test_20)\n",
    "print(confusion_matrix(y_test_20, prediccion_20))"
   ]
  },
  {
   "source": [
    "---\n",
    "\n",
    "# TEST = 40%"
   ],
   "cell_type": "markdown",
   "metadata": {}
  },
  {
   "cell_type": "code",
   "execution_count": 249,
   "metadata": {},
   "outputs": [
    {
     "output_type": "stream",
     "name": "stdout",
     "text": [
      "X_train_40: (90, 4)\nX_test_40: (60, 4)\ny_train_40: (90,)\ny_test_40: (60,)\n"
     ]
    }
   ],
   "source": [
    "X_train_40, X_test_40, y_train_40, y_test_40 = train_test_split(X, y, test_size=0.4 ,random_state=seed)\n",
    "print('X_train_40:', X_train_40.shape)\n",
    "print('X_test_40:', X_test_40.shape)\n",
    "print('y_train_40:', y_train_40.shape)\n",
    "print('y_test_40:', y_test_40.shape)"
   ]
  },
  {
   "source": [
    "## Cross Validation"
   ],
   "cell_type": "markdown",
   "metadata": {}
  },
  {
   "cell_type": "code",
   "execution_count": 250,
   "metadata": {},
   "outputs": [
    {
     "output_type": "stream",
     "name": "stdout",
     "text": [
      "[1.         0.91666667 1.         1.         0.81818182 1.\n 0.81818182 0.90909091]\n-----------------------------------------------------------\nLogistic Refression - TEST 40%: 0.932765 +- (0.075134)\n"
     ]
    }
   ],
   "source": [
    "name_40 = 'Logistic Refression - TEST 40%'\n",
    "\n",
    "kfold = KFold(n_splits=8, random_state = seed, shuffle = True)\n",
    "cv_results_40 = cross_val_score(model, X_train_40, y_train_40, cv = kfold, scoring = 'accuracy')\n",
    "msg_40 = \"%s: %f %s (%f)\" % (name_40, cv_results_40.mean(), \"+-\", cv_results_40.std())\n",
    "print(cv_results_40)\n",
    "print('-----------------------------------------------------------')\n",
    "print(msg_40)\n"
   ]
  },
  {
   "source": [
    "## La CV arroja buenos resultados. Ahora puedo entrenar a mi modelo con el conjunto de TRAIN completo"
   ],
   "cell_type": "markdown",
   "metadata": {}
  },
  {
   "cell_type": "code",
   "execution_count": 251,
   "metadata": {},
   "outputs": [
    {
     "output_type": "execute_result",
     "data": {
      "text/plain": [
       "LogisticRegression(max_iter=1000)"
      ]
     },
     "metadata": {},
     "execution_count": 251
    }
   ],
   "source": [
    "model.fit(X_train_40, y_train_40)"
   ]
  },
  {
   "source": [
    "## Predicción al entrenar el modelo con el conjunto TRAIN --> 20%"
   ],
   "cell_type": "markdown",
   "metadata": {}
  },
  {
   "cell_type": "code",
   "execution_count": 252,
   "metadata": {},
   "outputs": [
    {
     "output_type": "execute_result",
     "data": {
      "text/plain": [
       "array(['Virginica'], dtype=object)"
      ]
     },
     "metadata": {},
     "execution_count": 252
    }
   ],
   "source": [
    "model.predict([[15.7,2.8,9.5,0.1]])\n",
    "\n",
    "# El modelo predice VIRGINICA"
   ]
  },
  {
   "cell_type": "code",
   "execution_count": 253,
   "metadata": {},
   "outputs": [
    {
     "output_type": "execute_result",
     "data": {
      "text/plain": [
       "array(['Virginica'], dtype=object)"
      ]
     },
     "metadata": {},
     "execution_count": 253
    }
   ],
   "source": [
    "model.predict([[1.7,3.8,4.5,11.3]])\n",
    "\n",
    "# El modelo predice nuevamente VIRGINICA"
   ]
  },
  {
   "source": [
    "## Score del modelo"
   ],
   "cell_type": "markdown",
   "metadata": {}
  },
  {
   "cell_type": "code",
   "execution_count": 254,
   "metadata": {},
   "outputs": [
    {
     "output_type": "stream",
     "name": "stdout",
     "text": [
      "SCORES al entrenar el modelo con EL CONJUNTO TRAIN --> 40%\n\n\nScore TRAIN (TEST 40%): 95.55555555555556 %\nScore TEST (TEST 40%): 100.0 %\n"
     ]
    }
   ],
   "source": [
    "print('SCORES al entrenar el modelo con EL CONJUNTO TRAIN --> 40%')\n",
    "print('\\n')\n",
    "print('Score TRAIN (TEST 40%):', model.score(X_train_40, y_train_40) * 100, '%')\n",
    "print('Score TEST (TEST 40%):', model.score(X_test_40, y_test_40) * 100, '%')"
   ]
  },
  {
   "source": [
    "## Si mi modelo tiene los resultados que deseo... ahora lo entreno con la totalidad de los datos"
   ],
   "cell_type": "markdown",
   "metadata": {}
  },
  {
   "cell_type": "code",
   "execution_count": 255,
   "metadata": {},
   "outputs": [
    {
     "output_type": "stream",
     "name": "stdout",
     "text": [
      "SCORES al entrenar el modelo con TODOS LOS DATOS\n\n\nScore (Entrenado con la totalidad de los datos): 96.66666666666667 %\n---------------------------------------------------------------------\nScore TRAIN (TEST 20%): 96.66666666666667 %\n---------------------------------------------------------------------\nScore TEST (TEST 20%): 100.0 %\n"
     ]
    }
   ],
   "source": [
    "model.fit(X, y)\n",
    "print('SCORES al entrenar el modelo con TODOS LOS DATOS')\n",
    "print('\\n')\n",
    "print('Score (Entrenado con la totalidad de los datos):', model.score(X_train_20, y_train_20) * 100, '%')\n",
    "print('---------------------------------------------------------------------')\n",
    "print('Score TRAIN (TEST 20%):', model.score(X_train_20, y_train_20) * 100, '%')\n",
    "print('---------------------------------------------------------------------')\n",
    "print('Score TEST (TEST 20%):', model.score(X_test_20, y_test_20) * 100, '%')"
   ]
  },
  {
   "source": [
    "# OBSERVACIÓN !!!!!!!!\n",
    "### Conjunto TRAIN (TEST 40%) con modelo entrenado con ese mismo conjunto --> 95.5 %\n",
    "### Conjunto TRAIN (TEST 40%) con modelo entrenado con todos los datos    --> 96.67 %\n",
    "\n",
    "El conjunto train mejoró un poco al entrenar el modelo con la totalidad de los datos. ESTO DEPENDE SIEMPRE DE LA SEMILLA"
   ],
   "cell_type": "markdown",
   "metadata": {}
  },
  {
   "source": [
    "## Predicciones al entrenar el modelo CON TODOS LOS DATOS"
   ],
   "cell_type": "markdown",
   "metadata": {}
  },
  {
   "cell_type": "code",
   "execution_count": 256,
   "metadata": {},
   "outputs": [
    {
     "output_type": "stream",
     "name": "stdout",
     "text": [
      "Predicción 1: ['Virginica']\nPredicción 2: ['Virginica']\n"
     ]
    }
   ],
   "source": [
    "print('Predicción 1:', model.predict([[15.7,2.8,9.5,0.1]]))\n",
    "print('Predicción 2:', model.predict([[1.7,3.8,4.5,11.3]]))"
   ]
  },
  {
   "source": [
    "## Matriz de confusión - TEST = 40%"
   ],
   "cell_type": "markdown",
   "metadata": {}
  },
  {
   "cell_type": "code",
   "execution_count": 257,
   "metadata": {},
   "outputs": [
    {
     "output_type": "stream",
     "name": "stdout",
     "text": [
      "[[23  0  0]\n [ 0 19  0]\n [ 0  0 18]]\n"
     ]
    }
   ],
   "source": [
    "prediccion_40 = model.predict(X_test_40)\n",
    "print(confusion_matrix(y_test_40, prediccion_40))"
   ]
  },
  {
   "source": [
    "# TEST 20% vs. TEST 40%\n",
    "### No se produce un cambio significativo\n",
    "\n",
    "---"
   ],
   "cell_type": "markdown",
   "metadata": {}
  },
  {
   "source": [
    "## ELIMINANDO VIRGINICA"
   ],
   "cell_type": "markdown",
   "metadata": {}
  },
  {
   "cell_type": "code",
   "execution_count": 258,
   "metadata": {},
   "outputs": [
    {
     "output_type": "execute_result",
     "data": {
      "text/plain": [
       "    sepal.length  sepal.width  petal.length  petal.width     variety\n",
       "0            5.1          3.5           1.4          0.2      Setosa\n",
       "1            4.9          3.0           1.4          0.2      Setosa\n",
       "2            4.7          3.2           1.3          0.2      Setosa\n",
       "3            4.6          3.1           1.5          0.2      Setosa\n",
       "4            5.0          3.6           1.4          0.2      Setosa\n",
       "..           ...          ...           ...          ...         ...\n",
       "95           5.7          3.0           4.2          1.2  Versicolor\n",
       "96           5.7          2.9           4.2          1.3  Versicolor\n",
       "97           6.2          2.9           4.3          1.3  Versicolor\n",
       "98           5.1          2.5           3.0          1.1  Versicolor\n",
       "99           5.7          2.8           4.1          1.3  Versicolor\n",
       "\n",
       "[100 rows x 5 columns]"
      ],
      "text/html": "<div>\n<style scoped>\n    .dataframe tbody tr th:only-of-type {\n        vertical-align: middle;\n    }\n\n    .dataframe tbody tr th {\n        vertical-align: top;\n    }\n\n    .dataframe thead th {\n        text-align: right;\n    }\n</style>\n<table border=\"1\" class=\"dataframe\">\n  <thead>\n    <tr style=\"text-align: right;\">\n      <th></th>\n      <th>sepal.length</th>\n      <th>sepal.width</th>\n      <th>petal.length</th>\n      <th>petal.width</th>\n      <th>variety</th>\n    </tr>\n  </thead>\n  <tbody>\n    <tr>\n      <th>0</th>\n      <td>5.1</td>\n      <td>3.5</td>\n      <td>1.4</td>\n      <td>0.2</td>\n      <td>Setosa</td>\n    </tr>\n    <tr>\n      <th>1</th>\n      <td>4.9</td>\n      <td>3.0</td>\n      <td>1.4</td>\n      <td>0.2</td>\n      <td>Setosa</td>\n    </tr>\n    <tr>\n      <th>2</th>\n      <td>4.7</td>\n      <td>3.2</td>\n      <td>1.3</td>\n      <td>0.2</td>\n      <td>Setosa</td>\n    </tr>\n    <tr>\n      <th>3</th>\n      <td>4.6</td>\n      <td>3.1</td>\n      <td>1.5</td>\n      <td>0.2</td>\n      <td>Setosa</td>\n    </tr>\n    <tr>\n      <th>4</th>\n      <td>5.0</td>\n      <td>3.6</td>\n      <td>1.4</td>\n      <td>0.2</td>\n      <td>Setosa</td>\n    </tr>\n    <tr>\n      <th>...</th>\n      <td>...</td>\n      <td>...</td>\n      <td>...</td>\n      <td>...</td>\n      <td>...</td>\n    </tr>\n    <tr>\n      <th>95</th>\n      <td>5.7</td>\n      <td>3.0</td>\n      <td>4.2</td>\n      <td>1.2</td>\n      <td>Versicolor</td>\n    </tr>\n    <tr>\n      <th>96</th>\n      <td>5.7</td>\n      <td>2.9</td>\n      <td>4.2</td>\n      <td>1.3</td>\n      <td>Versicolor</td>\n    </tr>\n    <tr>\n      <th>97</th>\n      <td>6.2</td>\n      <td>2.9</td>\n      <td>4.3</td>\n      <td>1.3</td>\n      <td>Versicolor</td>\n    </tr>\n    <tr>\n      <th>98</th>\n      <td>5.1</td>\n      <td>2.5</td>\n      <td>3.0</td>\n      <td>1.1</td>\n      <td>Versicolor</td>\n    </tr>\n    <tr>\n      <th>99</th>\n      <td>5.7</td>\n      <td>2.8</td>\n      <td>4.1</td>\n      <td>1.3</td>\n      <td>Versicolor</td>\n    </tr>\n  </tbody>\n</table>\n<p>100 rows × 5 columns</p>\n</div>"
     },
     "metadata": {},
     "execution_count": 258
    }
   ],
   "source": [
    "iris_vir = iris.drop(iris[iris['variety'] == 'Virginica'].index)\n",
    "iris_vir"
   ]
  },
  {
   "cell_type": "code",
   "execution_count": 259,
   "metadata": {},
   "outputs": [
    {
     "output_type": "stream",
     "name": "stdout",
     "text": [
      "X_vir: (100, 4)\ny_vir: (100,)\n"
     ]
    }
   ],
   "source": [
    "X_vir = np.array(iris_vir.drop(['variety'], axis= 1))\n",
    "y_vir = np.array(iris_vir['variety'])\n",
    "print('X_vir:', X_vir.shape)\n",
    "print('y_vir:', y_vir.shape)\n"
   ]
  },
  {
   "source": [
    "## Inicializando modelo"
   ],
   "cell_type": "markdown",
   "metadata": {}
  },
  {
   "cell_type": "code",
   "execution_count": 260,
   "metadata": {},
   "outputs": [],
   "source": [
    "model_vir = linear_model.LogisticRegression(max_iter=1000)"
   ]
  },
  {
   "source": [
    "# TEST 20% - Sin VIRGINICA"
   ],
   "cell_type": "markdown",
   "metadata": {}
  },
  {
   "cell_type": "code",
   "execution_count": 261,
   "metadata": {},
   "outputs": [
    {
     "output_type": "stream",
     "name": "stdout",
     "text": [
      "X_vir_train_20: (80, 4)\nX_vir_test_20: (20, 4)\ny_vir_train_20: (80,)\ny_vir_test_20: (20,)\n"
     ]
    }
   ],
   "source": [
    "X_vir_train_20, X_vir_test_20, y_vir_train_20, y_vir_test_20 = train_test_split(X_vir, y_vir, test_size=0.2, random_state=seed)\n",
    "print('X_vir_train_20:', X_vir_train_20.shape)\n",
    "print('X_vir_test_20:', X_vir_test_20.shape)\n",
    "print('y_vir_train_20:', y_vir_train_20.shape)\n",
    "print('y_vir_test_20:', y_vir_test_20.shape)"
   ]
  },
  {
   "source": [
    "## Cross validation"
   ],
   "cell_type": "markdown",
   "metadata": {}
  },
  {
   "cell_type": "code",
   "execution_count": 262,
   "metadata": {},
   "outputs": [
    {
     "output_type": "stream",
     "name": "stdout",
     "text": [
      "[1. 1. 1. 1. 1. 1. 1. 1.]\n-----------------------------------------------------------\nLogistic Regression - SIN VIRGINICA - TEST 20%: 1.000000 +- (0.000000)\n"
     ]
    }
   ],
   "source": [
    "name_vir_20 = 'Logistic Regression - SIN VIRGINICA - TEST 20%'\n",
    "\n",
    "kfold = KFold(n_splits=8, random_state=seed, shuffle=True)\n",
    "cv_results_vir_20 = cross_val_score(model_vir, X_vir_train_20, y_vir_train_20, cv=kfold, scoring='accuracy')\n",
    "msg_vir_20 = \"%s: %f %s (%f)\" % (name_vir_20, cv_results_vir_20.mean(), \"+-\", cv_results_vir_20.std())\n",
    "print(cv_results_vir_20)\n",
    "print('-----------------------------------------------------------')\n",
    "print(msg_vir_20)"
   ]
  },
  {
   "source": [
    "## Los resultados son satisfactorios... entonces entreno mi modelo con el conjunto TRAIN"
   ],
   "cell_type": "markdown",
   "metadata": {}
  },
  {
   "cell_type": "code",
   "execution_count": 263,
   "metadata": {},
   "outputs": [
    {
     "output_type": "execute_result",
     "data": {
      "text/plain": [
       "LogisticRegression(max_iter=1000)"
      ]
     },
     "metadata": {},
     "execution_count": 263
    }
   ],
   "source": [
    "model_vir.fit(X_vir_train_20, y_vir_train_20)"
   ]
  },
  {
   "source": [
    "## Predicción al entrenar el modelo con TRAIN = 20% (SIN VIRGINICA)"
   ],
   "cell_type": "markdown",
   "metadata": {}
  },
  {
   "cell_type": "code",
   "execution_count": 264,
   "metadata": {},
   "outputs": [
    {
     "output_type": "stream",
     "name": "stdout",
     "text": [
      "Predicción 1: ['Versicolor']\nPredicción 2: ['Versicolor']\n"
     ]
    }
   ],
   "source": [
    "print('Predicción 1:', model_vir.predict([[15.7,2.8,9.5,0.1]]))\n",
    "print('Predicción 2:', model_vir.predict([[1.7,3.8,4.5,11.3]]))\n",
    "\n",
    "# Tener en cuenta que ya no está VIRGINICA"
   ]
  },
  {
   "cell_type": "code",
   "execution_count": 265,
   "metadata": {},
   "outputs": [
    {
     "output_type": "stream",
     "name": "stdout",
     "text": [
      "Score TRAIN 20% Sin VIRGINICA: 1.0\nScore TEST 20% Sin VIRGINICA: 1.0\n"
     ]
    }
   ],
   "source": [
    "print('Score TRAIN 20% Sin VIRGINICA:', model_vir.score(X_vir_train_20, y_vir_train_20))\n",
    "print('Score TEST 20% Sin VIRGINICA:', model_vir.score(X_vir_test_20, y_vir_test_20))"
   ]
  },
  {
   "source": [
    "## Los resultados son óptimos --> Entreno mi modelo con la totalidad de los datos"
   ],
   "cell_type": "markdown",
   "metadata": {}
  },
  {
   "cell_type": "code",
   "execution_count": 266,
   "metadata": {},
   "outputs": [
    {
     "output_type": "stream",
     "name": "stdout",
     "text": [
      "Score (Entrenado con la totalidad de los datos) - SIN VIRGINICA: 96.66666666666667 %\n-----------------------------------------------------------------------------------------\nScore TRAIN (TEST 20%) (Entrenado con la totalidad de los datos) - SIN VIRGINICA: 96.66666666666667 %\n-----------------------------------------------------------------------------------------\nScore TEST (TEST 20%) (Entrenado con la totalidad de los datos) - SIN VIRGINICA: 100.0 %\n"
     ]
    }
   ],
   "source": [
    "model_vir.fit(X_vir, y_vir)\n",
    "print('Score (Entrenado con la totalidad de los datos) - SIN VIRGINICA:', model.score(X_train_20, y_train_20) * 100, '%')\n",
    "print('-----------------------------------------------------------------------------------------')\n",
    "print('Score TRAIN (TEST 20%) (Entrenado con la totalidad de los datos) - SIN VIRGINICA:', model.score(X_train_20, y_train_20) * 100, '%')\n",
    "print('-----------------------------------------------------------------------------------------')\n",
    "print('Score TEST (TEST 20%) (Entrenado con la totalidad de los datos) - SIN VIRGINICA:', model.score(X_test_20, y_test_20) * 100, '%')"
   ]
  },
  {
   "source": [
    "## Predicción al entrenar el modelo con la TOTALIDAD DE LOS DATOS (SIN VIRGINICA)"
   ],
   "cell_type": "markdown",
   "metadata": {}
  },
  {
   "cell_type": "code",
   "execution_count": 267,
   "metadata": {},
   "outputs": [
    {
     "output_type": "stream",
     "name": "stdout",
     "text": [
      "Predicción 1: ['Versicolor']\nPredicción 2: ['Versicolor']\n"
     ]
    }
   ],
   "source": [
    "print('Predicción 1:', model_vir.predict([[15.7,2.8,9.5,0.1]]))\n",
    "print('Predicción 2:', model_vir.predict([[1.7,3.8,4.5,11.3]]))\n",
    "\n",
    "# Tener en cuenta que ya no está VIRGINICA"
   ]
  },
  {
   "source": [
    "## Matriz de confusión - TEST = 20% (Sin VIRGINICA)"
   ],
   "cell_type": "markdown",
   "metadata": {}
  },
  {
   "cell_type": "code",
   "execution_count": 268,
   "metadata": {},
   "outputs": [
    {
     "output_type": "stream",
     "name": "stdout",
     "text": [
      "[[12  0]\n [ 0  8]]\n"
     ]
    }
   ],
   "source": [
    "prediccion_vir_20 = model_vir.predict(X_vir_test_20)\n",
    "print(confusion_matrix(y_vir_test_20, prediccion_vir_20))"
   ]
  },
  {
   "source": [
    "---\n",
    "\n",
    "# TEST = 40% - Sin VIRGINICA"
   ],
   "cell_type": "markdown",
   "metadata": {}
  },
  {
   "cell_type": "code",
   "execution_count": 269,
   "metadata": {},
   "outputs": [
    {
     "output_type": "stream",
     "name": "stdout",
     "text": [
      "X_vir_train_40: (60, 4)\nX_vir_test_40: (40, 4)\ny_vir_train_40: (60,)\ny_vir_test_40: (40,)\n"
     ]
    }
   ],
   "source": [
    "X_vir_train_40, X_vir_test_40, y_vir_train_40, y_vir_test_40 = train_test_split(X_vir, y_vir, test_size=0.4, random_state=seed)\n",
    "print('X_vir_train_40:', X_vir_train_40.shape)\n",
    "print('X_vir_test_40:', X_vir_test_40.shape)\n",
    "print('y_vir_train_40:', y_vir_train_40.shape)\n",
    "print('y_vir_test_40:', y_vir_test_40.shape)"
   ]
  },
  {
   "source": [
    "## Cross Validation"
   ],
   "cell_type": "markdown",
   "metadata": {}
  },
  {
   "cell_type": "code",
   "execution_count": 270,
   "metadata": {},
   "outputs": [
    {
     "output_type": "stream",
     "name": "stdout",
     "text": [
      "[1. 1. 1. 1. 1. 1. 1. 1.]\n-----------------------------------------------------------\nLogistic Regression - SIN VIRGINICA - TEST 40%: 1.000000 +- (0.000000)\n"
     ]
    }
   ],
   "source": [
    "name_vir_40 = 'Logistic Regression - SIN VIRGINICA - TEST 40%'\n",
    "\n",
    "kfold = KFold(n_splits=8, random_state=seed, shuffle=True)\n",
    "cv_results_vir_40 = cross_val_score(model_vir, X_vir_train_40, y_vir_train_40, cv=kfold, scoring='accuracy')\n",
    "msg_vir_40 = \"%s: %f %s (%f)\" % (name_vir_40, cv_results_vir_40.mean(), \"+-\", cv_results_vir_40.std())\n",
    "print(cv_results_vir_40)\n",
    "print('-----------------------------------------------------------')\n",
    "print(msg_vir_40)"
   ]
  },
  {
   "source": [
    "## Los resultados son satisfactorios... entonces entreno mi modelo con el conjunto TRAIN\n"
   ],
   "cell_type": "markdown",
   "metadata": {}
  },
  {
   "cell_type": "code",
   "execution_count": 271,
   "metadata": {},
   "outputs": [
    {
     "output_type": "execute_result",
     "data": {
      "text/plain": [
       "LogisticRegression(max_iter=1000)"
      ]
     },
     "metadata": {},
     "execution_count": 271
    }
   ],
   "source": [
    "model_vir.fit(X_vir_train_40, y_vir_train_40)"
   ]
  },
  {
   "source": [
    "## Predicción al entrenar el modelo con TRAIN = 40% (SIN VIRGINICA)"
   ],
   "cell_type": "markdown",
   "metadata": {}
  },
  {
   "cell_type": "code",
   "execution_count": 272,
   "metadata": {},
   "outputs": [
    {
     "output_type": "stream",
     "name": "stdout",
     "text": [
      "Predicción 1: ['Versicolor']\nPredicción 2: ['Versicolor']\n"
     ]
    }
   ],
   "source": [
    "print('Predicción 1:', model_vir.predict([[15.7,2.8,9.5,0.1]]))\n",
    "print('Predicción 2:', model_vir.predict([[1.7,3.8,4.5,11.3]]))\n",
    "\n",
    "# Tener en cuenta que ya no está VIRGINICA"
   ]
  },
  {
   "cell_type": "code",
   "execution_count": 273,
   "metadata": {},
   "outputs": [
    {
     "output_type": "stream",
     "name": "stdout",
     "text": [
      "Score TRAIN 40% Sin VIRGINICA: 1.0\nScore TEST 40% Sin VIRGINICA: 1.0\n"
     ]
    }
   ],
   "source": [
    "print('Score TRAIN 40% Sin VIRGINICA:', model_vir.score(X_vir_train_40, y_vir_train_40))\n",
    "print('Score TEST 40% Sin VIRGINICA:', model_vir.score(X_vir_test_40, y_vir_test_40))"
   ]
  },
  {
   "source": [
    "## Los resultados son óptimos --> Entreno mi modelo con la totalidad de los datos"
   ],
   "cell_type": "markdown",
   "metadata": {}
  },
  {
   "cell_type": "code",
   "execution_count": 274,
   "metadata": {},
   "outputs": [
    {
     "output_type": "stream",
     "name": "stdout",
     "text": [
      "Score (Entrenado con la totalidad de los datos) - SIN VIRGINICA: 97.0 %\n-----------------------------------------------------------------------------------------\nScore TRAIN (TEST 40%) (Entrenado con la totalidad de los datos) - SIN VIRGINICA: 100.0 %\n-----------------------------------------------------------------------------------------\nScore TEST (TEST 40%) (Entrenado con la totalidad de los datos) - SIN VIRGINICA: 92.5 %\n"
     ]
    }
   ],
   "source": [
    "model_vir.fit(X_vir, y_vir)\n",
    "print('Score (Entrenado con la totalidad de los datos) - SIN VIRGINICA:', model.score(X_vir, y_vir) * 100, '%')\n",
    "print('-----------------------------------------------------------------------------------------')\n",
    "print('Score TRAIN (TEST 40%) (Entrenado con la totalidad de los datos) - SIN VIRGINICA:', model.score(X_vir_train_40, y_vir_train_40) * 100, '%')\n",
    "print('-----------------------------------------------------------------------------------------')\n",
    "print('Score TEST (TEST 40%) (Entrenado con la totalidad de los datos) - SIN VIRGINICA:', model.score(X_vir_test_40, y_vir_test_40) * 100, '%')"
   ]
  },
  {
   "source": [
    "## Predicción al entrenar el modelo con la TOTALIDAD DE LOS DATOS (SIN VIRGINICA)"
   ],
   "cell_type": "markdown",
   "metadata": {}
  },
  {
   "cell_type": "code",
   "execution_count": 275,
   "metadata": {},
   "outputs": [
    {
     "output_type": "stream",
     "name": "stdout",
     "text": [
      "Predicción 1: ['Versicolor']\nPredicción 2: ['Versicolor']\n"
     ]
    }
   ],
   "source": [
    "print('Predicción 1:', model_vir.predict([[15.7,2.8,9.5,0.1]]))\n",
    "print('Predicción 2:', model_vir.predict([[1.7,3.8,4.5,11.3]]))\n",
    "\n",
    "# Tener en cuenta que ya no está VIRGINICA"
   ]
  },
  {
   "source": [
    "## Matriz de confusión - TEST = 40% (Sin VIRGINICA)"
   ],
   "cell_type": "markdown",
   "metadata": {}
  },
  {
   "cell_type": "code",
   "execution_count": 276,
   "metadata": {},
   "outputs": [
    {
     "output_type": "stream",
     "name": "stdout",
     "text": [
      "[[23  0]\n [ 0 17]]\n"
     ]
    }
   ],
   "source": [
    "prediccion_vir_40 = model_vir.predict(X_vir_test_40)\n",
    "print(confusion_matrix(y_vir_test_40, prediccion_vir_40))"
   ]
  },
  {
   "source": [
    "## No se observan grandes cambios cuando se trabaja con la clase VIRGINICA y sin ella."
   ],
   "cell_type": "markdown",
   "metadata": {}
  },
  {
   "source": [
    "---"
   ],
   "cell_type": "markdown",
   "metadata": {}
  },
  {
   "source": [
    "# Conclusión:\n",
    "\n",
    "### Viendo los resultados obtenidos, se puede considerar que la Regresión Logística es un buen algoritmo para este caso."
   ],
   "cell_type": "markdown",
   "metadata": {}
  }
 ]
}