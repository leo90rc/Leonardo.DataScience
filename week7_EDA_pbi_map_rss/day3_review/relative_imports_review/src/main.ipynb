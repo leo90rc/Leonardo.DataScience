{
 "metadata": {
  "language_info": {
   "codemirror_mode": {
    "name": "ipython",
    "version": 3
   },
   "file_extension": ".py",
   "mimetype": "text/x-python",
   "name": "python",
   "nbconvert_exporter": "python",
   "pygments_lexer": "ipython3",
   "version": "3.7.4"
  },
  "orig_nbformat": 2,
  "kernelspec": {
   "name": "python374jvsc74a57bd0a0947237fadc8b5561fed326db280cc5ec46a670c87cfb3a0489cf95ff262303",
   "display_name": "Python 3.7.4 64-bit"
  },
  "metadata": {
   "interpreter": {
    "hash": "a0947237fadc8b5561fed326db280cc5ec46a670c87cfb3a0489cf95ff262303"
   }
  }
 },
 "nbformat": 4,
 "nbformat_minor": 2,
 "cells": [
  {
   "cell_type": "code",
   "execution_count": 1,
   "metadata": {},
   "outputs": [
    {
     "output_type": "execute_result",
     "data": {
      "text/plain": [
       "'function1'"
      ]
     },
     "metadata": {},
     "execution_count": 1
    }
   ],
   "source": [
    "from utils.b import function1\n",
    "\n",
    "function1()"
   ]
  },
  {
   "cell_type": "code",
   "execution_count": 2,
   "metadata": {},
   "outputs": [
    {
     "output_type": "execute_result",
     "data": {
      "text/plain": [
       "'c:\\\\Users\\\\LeoFr\\\\Desktop\\\\BootCamp\\\\CARPETAS_profesorYalumno\\\\Leonardo.DataScience\\\\week7_EDA_pbi_map_rss\\\\day3_review\\\\relative_imports_review\\\\src'"
      ]
     },
     "metadata": {},
     "execution_count": 2
    }
   ],
   "source": [
    "import sys\n",
    "sys.path[0]"
   ]
  },
  {
   "cell_type": "code",
   "execution_count": 3,
   "metadata": {},
   "outputs": [
    {
     "output_type": "stream",
     "name": "stdout",
     "text": [
      "###\n",
      "c:\\Users\\LeoFr\\Desktop\\BootCamp\\CARPETAS_profesorYalumno\\Leonardo.DataScience\\week7_EDA_pbi_map_rss\\day3_review\\relative_imports_review\\src\\dashboard\\a.py\n",
      "###\n",
      "\n",
      "c:\\Users\\LeoFr\\Desktop\\BootCamp\\CARPETAS_profesorYalumno\\Leonardo.DataScience\\week7_EDA_pbi_map_rss\\day3_review\\relative_imports_review\\src\n",
      "\n"
     ]
    }
   ],
   "source": [
    "import dashboard.a "
   ]
  },
  {
   "cell_type": "code",
   "execution_count": 4,
   "metadata": {},
   "outputs": [
    {
     "output_type": "stream",
     "name": "stdout",
     "text": [
      "Function a\nfunction_c\n"
     ]
    }
   ],
   "source": [
    "from dashboard.a import function_a\n",
    "\n",
    "function_a()"
   ]
  },
  {
   "cell_type": "code",
   "execution_count": 5,
   "metadata": {},
   "outputs": [
    {
     "output_type": "execute_result",
     "data": {
      "text/plain": [
       "'ABC\\\\\\\\DEFGH'"
      ]
     },
     "metadata": {},
     "execution_count": 5
    }
   ],
   "source": [
    "s = \"ABC\\DEFGH\"\n",
    "s.replace(\"\\\\\", \"\\\\\\\\\")"
   ]
  },
  {
   "cell_type": "code",
   "execution_count": 6,
   "metadata": {},
   "outputs": [
    {
     "output_type": "execute_result",
     "data": {
      "text/plain": [
       "      mpg  cylinders  displacement horsepower  weight  acceleration  \\\n",
       "0    18.0          8         307.0        130    3504          12.0   \n",
       "1    15.0          8         350.0        165    3693          11.5   \n",
       "2    18.0          8         318.0        150    3436          11.0   \n",
       "3    16.0          8         304.0        150    3433          12.0   \n",
       "4    17.0          8         302.0        140    3449          10.5   \n",
       "..    ...        ...           ...        ...     ...           ...   \n",
       "393  27.0          4         140.0         86    2790          15.6   \n",
       "394  44.0          4          97.0         52    2130          24.6   \n",
       "395  32.0          4         135.0         84    2295          11.6   \n",
       "396  28.0          4         120.0         79    2625          18.6   \n",
       "397  31.0          4         119.0         82    2720          19.4   \n",
       "\n",
       "     model year  origin                   car name  \n",
       "0            70       1  chevrolet chevelle malibu  \n",
       "1            70       1          buick skylark 320  \n",
       "2            70       1         plymouth satellite  \n",
       "3            70       1              amc rebel sst  \n",
       "4            70       1                ford torino  \n",
       "..          ...     ...                        ...  \n",
       "393          82       1            ford mustang gl  \n",
       "394          82       2                  vw pickup  \n",
       "395          82       1              dodge rampage  \n",
       "396          82       1                ford ranger  \n",
       "397          82       1                 chevy s-10  \n",
       "\n",
       "[398 rows x 9 columns]"
      ],
      "text/html": "<div>\n<style scoped>\n    .dataframe tbody tr th:only-of-type {\n        vertical-align: middle;\n    }\n\n    .dataframe tbody tr th {\n        vertical-align: top;\n    }\n\n    .dataframe thead th {\n        text-align: right;\n    }\n</style>\n<table border=\"1\" class=\"dataframe\">\n  <thead>\n    <tr style=\"text-align: right;\">\n      <th></th>\n      <th>mpg</th>\n      <th>cylinders</th>\n      <th>displacement</th>\n      <th>horsepower</th>\n      <th>weight</th>\n      <th>acceleration</th>\n      <th>model year</th>\n      <th>origin</th>\n      <th>car name</th>\n    </tr>\n  </thead>\n  <tbody>\n    <tr>\n      <th>0</th>\n      <td>18.0</td>\n      <td>8</td>\n      <td>307.0</td>\n      <td>130</td>\n      <td>3504</td>\n      <td>12.0</td>\n      <td>70</td>\n      <td>1</td>\n      <td>chevrolet chevelle malibu</td>\n    </tr>\n    <tr>\n      <th>1</th>\n      <td>15.0</td>\n      <td>8</td>\n      <td>350.0</td>\n      <td>165</td>\n      <td>3693</td>\n      <td>11.5</td>\n      <td>70</td>\n      <td>1</td>\n      <td>buick skylark 320</td>\n    </tr>\n    <tr>\n      <th>2</th>\n      <td>18.0</td>\n      <td>8</td>\n      <td>318.0</td>\n      <td>150</td>\n      <td>3436</td>\n      <td>11.0</td>\n      <td>70</td>\n      <td>1</td>\n      <td>plymouth satellite</td>\n    </tr>\n    <tr>\n      <th>3</th>\n      <td>16.0</td>\n      <td>8</td>\n      <td>304.0</td>\n      <td>150</td>\n      <td>3433</td>\n      <td>12.0</td>\n      <td>70</td>\n      <td>1</td>\n      <td>amc rebel sst</td>\n    </tr>\n    <tr>\n      <th>4</th>\n      <td>17.0</td>\n      <td>8</td>\n      <td>302.0</td>\n      <td>140</td>\n      <td>3449</td>\n      <td>10.5</td>\n      <td>70</td>\n      <td>1</td>\n      <td>ford torino</td>\n    </tr>\n    <tr>\n      <th>...</th>\n      <td>...</td>\n      <td>...</td>\n      <td>...</td>\n      <td>...</td>\n      <td>...</td>\n      <td>...</td>\n      <td>...</td>\n      <td>...</td>\n      <td>...</td>\n    </tr>\n    <tr>\n      <th>393</th>\n      <td>27.0</td>\n      <td>4</td>\n      <td>140.0</td>\n      <td>86</td>\n      <td>2790</td>\n      <td>15.6</td>\n      <td>82</td>\n      <td>1</td>\n      <td>ford mustang gl</td>\n    </tr>\n    <tr>\n      <th>394</th>\n      <td>44.0</td>\n      <td>4</td>\n      <td>97.0</td>\n      <td>52</td>\n      <td>2130</td>\n      <td>24.6</td>\n      <td>82</td>\n      <td>2</td>\n      <td>vw pickup</td>\n    </tr>\n    <tr>\n      <th>395</th>\n      <td>32.0</td>\n      <td>4</td>\n      <td>135.0</td>\n      <td>84</td>\n      <td>2295</td>\n      <td>11.6</td>\n      <td>82</td>\n      <td>1</td>\n      <td>dodge rampage</td>\n    </tr>\n    <tr>\n      <th>396</th>\n      <td>28.0</td>\n      <td>4</td>\n      <td>120.0</td>\n      <td>79</td>\n      <td>2625</td>\n      <td>18.6</td>\n      <td>82</td>\n      <td>1</td>\n      <td>ford ranger</td>\n    </tr>\n    <tr>\n      <th>397</th>\n      <td>31.0</td>\n      <td>4</td>\n      <td>119.0</td>\n      <td>82</td>\n      <td>2720</td>\n      <td>19.4</td>\n      <td>82</td>\n      <td>1</td>\n      <td>chevy s-10</td>\n    </tr>\n  </tbody>\n</table>\n<p>398 rows × 9 columns</p>\n</div>"
     },
     "metadata": {},
     "execution_count": 6
    }
   ],
   "source": [
    "# read_csv auto-mpg.csv\n",
    "import pandas as pd \n",
    "\n",
    "# La segunda mejor práctica\n",
    "df = pd.read_csv(\"../data/auto-mpg.csv\")\n",
    "\n",
    "df"
   ]
  },
  {
   "cell_type": "code",
   "execution_count": 8,
   "metadata": {},
   "outputs": [
    {
     "output_type": "execute_result",
     "data": {
      "text/plain": [
       "'c:\\\\Users\\\\LeoFr\\\\Desktop\\\\BootCamp\\\\CARPETAS_profesorYalumno\\\\Leonardo.DataScience\\\\week7_EDA_pbi_map_rss\\\\day3_review\\\\relative_imports_review\\\\data\\\\auto-mpg.csv'"
      ]
     },
     "metadata": {},
     "execution_count": 8
    }
   ],
   "source": [
    "# Esta es la mejor práctica sin duda\n",
    "\n",
    "# read_csv auto-mpg.csv calculando el archivo de forma absoluta\n",
    "\n",
    "import os\n",
    "SEP = os.sep\n",
    "dir = os.path.dirname\n",
    "\n",
    "csv_fullpath = dir(os.getcwd()) + SEP + \"data\" + SEP + \"auto-mpg.csv\"\n",
    "\n",
    "csv_fullpath"
   ]
  },
  {
   "cell_type": "code",
   "execution_count": 34,
   "metadata": {},
   "outputs": [
    {
     "output_type": "execute_result",
     "data": {
      "text/plain": [
       "      mpg  cylinders  ...  origin                   car name\n",
       "0    18.0          8  ...       1  chevrolet chevelle malibu\n",
       "1    15.0          8  ...       1          buick skylark 320\n",
       "2    18.0          8  ...       1         plymouth satellite\n",
       "3    16.0          8  ...       1              amc rebel sst\n",
       "4    17.0          8  ...       1                ford torino\n",
       "..    ...        ...  ...     ...                        ...\n",
       "393  27.0          4  ...       1            ford mustang gl\n",
       "394  44.0          4  ...       2                  vw pickup\n",
       "395  32.0          4  ...       1              dodge rampage\n",
       "396  28.0          4  ...       1                ford ranger\n",
       "397  31.0          4  ...       1                 chevy s-10\n",
       "\n",
       "[398 rows x 9 columns]"
      ],
      "text/html": "<div>\n<style scoped>\n    .dataframe tbody tr th:only-of-type {\n        vertical-align: middle;\n    }\n\n    .dataframe tbody tr th {\n        vertical-align: top;\n    }\n\n    .dataframe thead th {\n        text-align: right;\n    }\n</style>\n<table border=\"1\" class=\"dataframe\">\n  <thead>\n    <tr style=\"text-align: right;\">\n      <th></th>\n      <th>mpg</th>\n      <th>cylinders</th>\n      <th>displacement</th>\n      <th>horsepower</th>\n      <th>weight</th>\n      <th>acceleration</th>\n      <th>model year</th>\n      <th>origin</th>\n      <th>car name</th>\n    </tr>\n  </thead>\n  <tbody>\n    <tr>\n      <th>0</th>\n      <td>18.0</td>\n      <td>8</td>\n      <td>307.0</td>\n      <td>130</td>\n      <td>3504</td>\n      <td>12.0</td>\n      <td>70</td>\n      <td>1</td>\n      <td>chevrolet chevelle malibu</td>\n    </tr>\n    <tr>\n      <th>1</th>\n      <td>15.0</td>\n      <td>8</td>\n      <td>350.0</td>\n      <td>165</td>\n      <td>3693</td>\n      <td>11.5</td>\n      <td>70</td>\n      <td>1</td>\n      <td>buick skylark 320</td>\n    </tr>\n    <tr>\n      <th>2</th>\n      <td>18.0</td>\n      <td>8</td>\n      <td>318.0</td>\n      <td>150</td>\n      <td>3436</td>\n      <td>11.0</td>\n      <td>70</td>\n      <td>1</td>\n      <td>plymouth satellite</td>\n    </tr>\n    <tr>\n      <th>3</th>\n      <td>16.0</td>\n      <td>8</td>\n      <td>304.0</td>\n      <td>150</td>\n      <td>3433</td>\n      <td>12.0</td>\n      <td>70</td>\n      <td>1</td>\n      <td>amc rebel sst</td>\n    </tr>\n    <tr>\n      <th>4</th>\n      <td>17.0</td>\n      <td>8</td>\n      <td>302.0</td>\n      <td>140</td>\n      <td>3449</td>\n      <td>10.5</td>\n      <td>70</td>\n      <td>1</td>\n      <td>ford torino</td>\n    </tr>\n    <tr>\n      <th>...</th>\n      <td>...</td>\n      <td>...</td>\n      <td>...</td>\n      <td>...</td>\n      <td>...</td>\n      <td>...</td>\n      <td>...</td>\n      <td>...</td>\n      <td>...</td>\n    </tr>\n    <tr>\n      <th>393</th>\n      <td>27.0</td>\n      <td>4</td>\n      <td>140.0</td>\n      <td>86</td>\n      <td>2790</td>\n      <td>15.6</td>\n      <td>82</td>\n      <td>1</td>\n      <td>ford mustang gl</td>\n    </tr>\n    <tr>\n      <th>394</th>\n      <td>44.0</td>\n      <td>4</td>\n      <td>97.0</td>\n      <td>52</td>\n      <td>2130</td>\n      <td>24.6</td>\n      <td>82</td>\n      <td>2</td>\n      <td>vw pickup</td>\n    </tr>\n    <tr>\n      <th>395</th>\n      <td>32.0</td>\n      <td>4</td>\n      <td>135.0</td>\n      <td>84</td>\n      <td>2295</td>\n      <td>11.6</td>\n      <td>82</td>\n      <td>1</td>\n      <td>dodge rampage</td>\n    </tr>\n    <tr>\n      <th>396</th>\n      <td>28.0</td>\n      <td>4</td>\n      <td>120.0</td>\n      <td>79</td>\n      <td>2625</td>\n      <td>18.6</td>\n      <td>82</td>\n      <td>1</td>\n      <td>ford ranger</td>\n    </tr>\n    <tr>\n      <th>397</th>\n      <td>31.0</td>\n      <td>4</td>\n      <td>119.0</td>\n      <td>82</td>\n      <td>2720</td>\n      <td>19.4</td>\n      <td>82</td>\n      <td>1</td>\n      <td>chevy s-10</td>\n    </tr>\n  </tbody>\n</table>\n<p>398 rows × 9 columns</p>\n</div>"
     },
     "metadata": {},
     "execution_count": 34
    }
   ],
   "source": [
    "pd.read_csv(csv_fullpath)"
   ]
  }
 ]
}