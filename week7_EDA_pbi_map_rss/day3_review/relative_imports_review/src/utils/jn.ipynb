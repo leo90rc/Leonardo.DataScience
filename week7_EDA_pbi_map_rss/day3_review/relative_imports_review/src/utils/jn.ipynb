{
 "metadata": {
  "language_info": {
   "codemirror_mode": {
    "name": "ipython",
    "version": 3
   },
   "file_extension": ".py",
   "mimetype": "text/x-python",
   "name": "python",
   "nbconvert_exporter": "python",
   "pygments_lexer": "ipython3",
   "version": "3.7.4"
  },
  "orig_nbformat": 2,
  "kernelspec": {
   "name": "python374jvsc74a57bd0a0947237fadc8b5561fed326db280cc5ec46a670c87cfb3a0489cf95ff262303",
   "display_name": "Python 3.7.4 64-bit"
  },
  "metadata": {
   "interpreter": {
    "hash": "a0947237fadc8b5561fed326db280cc5ec46a670c87cfb3a0489cf95ff262303"
   }
  }
 },
 "nbformat": 4,
 "nbformat_minor": 2,
 "cells": [
  {
   "cell_type": "code",
   "execution_count": 1,
   "metadata": {},
   "outputs": [
    {
     "output_type": "execute_result",
     "data": {
      "text/plain": [
       "'c:\\\\Users\\\\LeoFr\\\\Desktop\\\\BootCamp\\\\CARPETAS_profesorYalumno\\\\Leonardo.DataScience\\\\week7_EDA_pbi_map_rss\\\\day3_review\\\\relative_imports_review\\\\src\\\\utils'"
      ]
     },
     "metadata": {},
     "execution_count": 1
    }
   ],
   "source": [
    "import sys\n",
    "\n",
    "sys.path[0]"
   ]
  },
  {
   "cell_type": "code",
   "execution_count": 3,
   "metadata": {},
   "outputs": [
    {
     "output_type": "execute_result",
     "data": {
      "text/plain": [
       "'c:\\\\Users\\\\LeoFr\\\\Desktop\\\\BootCamp\\\\CARPETAS_profesorYalumno\\\\Leonardo.DataScience\\\\week7_EDA_pbi_map_rss\\\\day3_review\\\\relative_imports_review\\\\src\\\\utils'"
      ]
     },
     "metadata": {},
     "execution_count": 3
    }
   ],
   "source": [
    "# En jupyter notebook\n",
    "\n",
    "import os\n",
    "\n",
    "current_path = os.getcwd()\n",
    "current_path"
   ]
  },
  {
   "cell_type": "code",
   "execution_count": 4,
   "metadata": {},
   "outputs": [
    {
     "output_type": "execute_result",
     "data": {
      "text/plain": [
       "'c:\\\\Users\\\\LeoFr\\\\Desktop\\\\BootCamp\\\\CARPETAS_profesorYalumno\\\\Leonardo.DataScience\\\\week7_EDA_pbi_map_rss\\\\day3_review\\\\relative_imports_review\\\\src'"
      ]
     },
     "metadata": {},
     "execution_count": 4
    }
   ],
   "source": [
    "# Subo una carpeta \n",
    "src_path = os.path.dirname(current_path)\n",
    "src_path"
   ]
  },
  {
   "cell_type": "code",
   "execution_count": 5,
   "metadata": {},
   "outputs": [
    {
     "output_type": "error",
     "ename": "ModuleNotFoundError",
     "evalue": "No module named 'dashboard'",
     "traceback": [
      "\u001b[1;31m---------------------------------------------------------------------------\u001b[0m",
      "\u001b[1;31mModuleNotFoundError\u001b[0m                       Traceback (most recent call last)",
      "\u001b[1;32m<ipython-input-5-9eae2f854ff1>\u001b[0m in \u001b[0;36m<module>\u001b[1;34m\u001b[0m\n\u001b[1;32m----> 1\u001b[1;33m \u001b[1;32mfrom\u001b[0m \u001b[0mdashboard\u001b[0m\u001b[1;33m.\u001b[0m\u001b[0ma\u001b[0m \u001b[1;32mimport\u001b[0m \u001b[0mfunction_a\u001b[0m\u001b[1;33m\u001b[0m\u001b[1;33m\u001b[0m\u001b[0m\n\u001b[0m",
      "\u001b[1;31mModuleNotFoundError\u001b[0m: No module named 'dashboard'"
     ]
    }
   ],
   "source": [
    "from dashboard.a import function_a"
   ]
  },
  {
   "cell_type": "code",
   "execution_count": 8,
   "metadata": {},
   "outputs": [],
   "source": [
    "# Añadir al sys.path\n",
    "sys.path.append(src_path)"
   ]
  },
  {
   "cell_type": "code",
   "execution_count": 9,
   "metadata": {},
   "outputs": [
    {
     "output_type": "stream",
     "name": "stdout",
     "text": [
      "###\nc:\\Users\\LeoFr\\Desktop\\BootCamp\\CARPETAS_profesorYalumno\\Leonardo.DataScience\\week7_EDA_pbi_map_rss\\day3_review\\relative_imports_review\\src\\dashboard\\a.py\n###\n\nc:\\Users\\LeoFr\\Desktop\\BootCamp\\CARPETAS_profesorYalumno\\Leonardo.DataScience\\week7_EDA_pbi_map_rss\\day3_review\\relative_imports_review\\src\n\n"
     ]
    }
   ],
   "source": [
    "# Ahora no da error porque en el sys.path aparece una ruta superior a dashboard\n",
    "from dashboard.a import function_a"
   ]
  },
  {
   "cell_type": "code",
   "execution_count": 8,
   "metadata": {},
   "outputs": [],
   "source": [
    "import dashboard.z.p "
   ]
  }
 ]
}