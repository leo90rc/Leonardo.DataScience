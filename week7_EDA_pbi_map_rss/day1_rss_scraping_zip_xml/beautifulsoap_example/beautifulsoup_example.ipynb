{
 "metadata": {
  "language_info": {
   "codemirror_mode": {
    "name": "ipython",
    "version": 3
   },
   "file_extension": ".py",
   "mimetype": "text/x-python",
   "name": "python",
   "nbconvert_exporter": "python",
   "pygments_lexer": "ipython3",
   "version": "3.6.4"
  },
  "orig_nbformat": 2,
  "kernelspec": {
   "name": "python36464bitc2077ed07ea84d23aa5b518d224882ab",
   "display_name": "Python 3.6.4 64-bit"
  },
  "metadata": {
   "interpreter": {
    "hash": "5c4d2f1fdcd3716c7a5eea90ad07be30193490dd4e63617705244f5fd89ea793"
   }
  }
 },
 "nbformat": 4,
 "nbformat_minor": 2,
 "cells": [
  {
   "source": [
    "## Web scrapping de IMDB"
   ],
   "cell_type": "markdown",
   "metadata": {}
  },
  {
   "cell_type": "code",
   "execution_count": 13,
   "metadata": {},
   "outputs": [
    {
     "output_type": "execute_result",
     "data": {
      "text/plain": [
       "                                        movie_title  year place  \\\n",
       "0                                   Cadena perpetua  1994     1   \n",
       "1                                        El padrino  1972     2   \n",
       "2                              El padrino: Parte II  1974     3   \n",
       "3                               El caballero oscuro  2008     4   \n",
       "4                             12 hombres sin piedad  1957     5   \n",
       "..                                              ...   ...   ...   \n",
       "245  Neon Genesis Evangelion: The End of Evangelion  1997   246   \n",
       "246                                           Anand  1971   247   \n",
       "247            El hombre que mató a Liberty Valance  1962   248   \n",
       "248                                    París, Texas  1984   249   \n",
       "249                                 Trono de sangre  1957   250   \n",
       "\n",
       "                                             star_cast             rating  \\\n",
       "0    Frank Darabont (dir.), Tim Robbins, Morgan Fre...  9.219693115819144   \n",
       "1    Francis Ford Coppola (dir.), Marlon Brando, Al...  9.147505384539555   \n",
       "2    Francis Ford Coppola (dir.), Al Pacino, Robert...  8.979859299411887   \n",
       "3    Christopher Nolan (dir.), Christian Bale, Heat...  8.969685199607332   \n",
       "4        Sidney Lumet (dir.), Henry Fonda, Lee J. Cobb  8.934684519103527   \n",
       "..                                                 ...                ...   \n",
       "245  Hideaki Anno (dir.), Megumi Ogata, Megumi Haya...  8.018383021929608   \n",
       "246  Hrishikesh Mukherjee (dir.), Rajesh Khanna, Am...   8.01796464377051   \n",
       "247        John Ford (dir.), James Stewart, John Wayne  8.017266136642641   \n",
       "248  Wim Wenders (dir.), Harry Dean Stanton, Nastas...  8.017001382958798   \n",
       "249  Akira Kurosawa (dir.), Toshirô Mifune, Minoru ...    8.0169409238557   \n",
       "\n",
       "     vote               link  \n",
       "0    None  /title/tt0111161/  \n",
       "1    None  /title/tt0068646/  \n",
       "2    None  /title/tt0071562/  \n",
       "3    None  /title/tt0468569/  \n",
       "4    None  /title/tt0050083/  \n",
       "..    ...                ...  \n",
       "245  None  /title/tt0169858/  \n",
       "246  None  /title/tt0066763/  \n",
       "247  None  /title/tt0056217/  \n",
       "248  None  /title/tt0087884/  \n",
       "249  None  /title/tt0050613/  \n",
       "\n",
       "[250 rows x 7 columns]"
      ],
      "text/html": "<div>\n<style scoped>\n    .dataframe tbody tr th:only-of-type {\n        vertical-align: middle;\n    }\n\n    .dataframe tbody tr th {\n        vertical-align: top;\n    }\n\n    .dataframe thead th {\n        text-align: right;\n    }\n</style>\n<table border=\"1\" class=\"dataframe\">\n  <thead>\n    <tr style=\"text-align: right;\">\n      <th></th>\n      <th>movie_title</th>\n      <th>year</th>\n      <th>place</th>\n      <th>star_cast</th>\n      <th>rating</th>\n      <th>vote</th>\n      <th>link</th>\n    </tr>\n  </thead>\n  <tbody>\n    <tr>\n      <th>0</th>\n      <td>Cadena perpetua</td>\n      <td>1994</td>\n      <td>1</td>\n      <td>Frank Darabont (dir.), Tim Robbins, Morgan Fre...</td>\n      <td>9.219693115819144</td>\n      <td>None</td>\n      <td>/title/tt0111161/</td>\n    </tr>\n    <tr>\n      <th>1</th>\n      <td>El padrino</td>\n      <td>1972</td>\n      <td>2</td>\n      <td>Francis Ford Coppola (dir.), Marlon Brando, Al...</td>\n      <td>9.147505384539555</td>\n      <td>None</td>\n      <td>/title/tt0068646/</td>\n    </tr>\n    <tr>\n      <th>2</th>\n      <td>El padrino: Parte II</td>\n      <td>1974</td>\n      <td>3</td>\n      <td>Francis Ford Coppola (dir.), Al Pacino, Robert...</td>\n      <td>8.979859299411887</td>\n      <td>None</td>\n      <td>/title/tt0071562/</td>\n    </tr>\n    <tr>\n      <th>3</th>\n      <td>El caballero oscuro</td>\n      <td>2008</td>\n      <td>4</td>\n      <td>Christopher Nolan (dir.), Christian Bale, Heat...</td>\n      <td>8.969685199607332</td>\n      <td>None</td>\n      <td>/title/tt0468569/</td>\n    </tr>\n    <tr>\n      <th>4</th>\n      <td>12 hombres sin piedad</td>\n      <td>1957</td>\n      <td>5</td>\n      <td>Sidney Lumet (dir.), Henry Fonda, Lee J. Cobb</td>\n      <td>8.934684519103527</td>\n      <td>None</td>\n      <td>/title/tt0050083/</td>\n    </tr>\n    <tr>\n      <th>...</th>\n      <td>...</td>\n      <td>...</td>\n      <td>...</td>\n      <td>...</td>\n      <td>...</td>\n      <td>...</td>\n      <td>...</td>\n    </tr>\n    <tr>\n      <th>245</th>\n      <td>Neon Genesis Evangelion: The End of Evangelion</td>\n      <td>1997</td>\n      <td>246</td>\n      <td>Hideaki Anno (dir.), Megumi Ogata, Megumi Haya...</td>\n      <td>8.018383021929608</td>\n      <td>None</td>\n      <td>/title/tt0169858/</td>\n    </tr>\n    <tr>\n      <th>246</th>\n      <td>Anand</td>\n      <td>1971</td>\n      <td>247</td>\n      <td>Hrishikesh Mukherjee (dir.), Rajesh Khanna, Am...</td>\n      <td>8.01796464377051</td>\n      <td>None</td>\n      <td>/title/tt0066763/</td>\n    </tr>\n    <tr>\n      <th>247</th>\n      <td>El hombre que mató a Liberty Valance</td>\n      <td>1962</td>\n      <td>248</td>\n      <td>John Ford (dir.), James Stewart, John Wayne</td>\n      <td>8.017266136642641</td>\n      <td>None</td>\n      <td>/title/tt0056217/</td>\n    </tr>\n    <tr>\n      <th>248</th>\n      <td>París, Texas</td>\n      <td>1984</td>\n      <td>249</td>\n      <td>Wim Wenders (dir.), Harry Dean Stanton, Nastas...</td>\n      <td>8.017001382958798</td>\n      <td>None</td>\n      <td>/title/tt0087884/</td>\n    </tr>\n    <tr>\n      <th>249</th>\n      <td>Trono de sangre</td>\n      <td>1957</td>\n      <td>250</td>\n      <td>Akira Kurosawa (dir.), Toshirô Mifune, Minoru ...</td>\n      <td>8.0169409238557</td>\n      <td>None</td>\n      <td>/title/tt0050613/</td>\n    </tr>\n  </tbody>\n</table>\n<p>250 rows × 7 columns</p>\n</div>"
     },
     "metadata": {},
     "execution_count": 13
    }
   ],
   "source": [
    "from bs4 import BeautifulSoup\n",
    "import requests\n",
    "import re\n",
    "import pandas as pd\n",
    "\n",
    "# Download IMDB's Top 250 data\n",
    "url = 'http://www.imdb.com/chart/top'\n",
    "response = requests.get(url)\n",
    "soup = BeautifulSoup(response.text, 'lxml')\n",
    "\n",
    "movies = soup.select('td.titleColumn')\n",
    "links = [a.attrs.get('href') for a in soup.select('td.titleColumn a')]\n",
    "crew = [a.attrs.get('title') for a in soup.select('td.titleColumn a')]\n",
    "ratings = [b.attrs.get('data-value') for b in soup.select('td.posterColumn span[name=ir]')]\n",
    "votes = [b.attrs.get('data-value') for b in soup.select('td.ratingColumn strong')]\n",
    "\n",
    "imdb = []\n",
    "\n",
    "# Store each item into dictionary (data), then put those into a list (imdb)\n",
    "for index in range(0, len(movies)):\n",
    "    # Seperate movie into: 'place', 'title', 'year'\n",
    "    movie_string = movies[index].get_text()\n",
    "    movie = (' '.join(movie_string.split()).replace('.', ''))\n",
    "    movie_title = movie[len(str(index))+1:-7]\n",
    "    year = re.search('\\((.*?)\\)', movie_string).group(1)\n",
    "    place = movie[:len(str(index))-(len(movie))]\n",
    "    data = {\"movie_title\": movie_title,\n",
    "            \"year\": year,\n",
    "            \"place\": place,\n",
    "            \"star_cast\": crew[index],\n",
    "            \"rating\": ratings[index],\n",
    "            \"vote\": votes[index],\n",
    "            \"link\": links[index]}\n",
    "    imdb.append(data)\n",
    "df = pd.DataFrame(imdb)\n",
    "df"
   ]
  },
  {
   "cell_type": "code",
   "execution_count": null,
   "metadata": {},
   "outputs": [],
   "source": []
  }
 ]
}