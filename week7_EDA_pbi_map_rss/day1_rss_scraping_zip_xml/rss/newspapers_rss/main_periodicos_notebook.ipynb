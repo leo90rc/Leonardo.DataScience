{
 "metadata": {
  "language_info": {
   "codemirror_mode": {
    "name": "ipython",
    "version": 3
   },
   "file_extension": ".py",
   "mimetype": "text/x-python",
   "name": "python",
   "nbconvert_exporter": "python",
   "pygments_lexer": "ipython3",
   "version": "3.6.4"
  },
  "orig_nbformat": 2,
  "kernelspec": {
   "name": "python36464bitc2077ed07ea84d23aa5b518d224882ab",
   "display_name": "Python 3.6.4 64-bit"
  },
  "metadata": {
   "interpreter": {
    "hash": "5c4d2f1fdcd3716c7a5eea90ad07be30193490dd4e63617705244f5fd89ea793"
   }
  }
 },
 "nbformat": 4,
 "nbformat_minor": 2,
 "cells": [
  {
   "cell_type": "code",
   "execution_count": 7,
   "metadata": {},
   "outputs": [
    {
     "output_type": "stream",
     "name": "stdout",
     "text": [
      "company_df.shape: (11, 5)\n\n FINISH \n\n"
     ]
    },
    {
     "output_type": "execute_result",
     "data": {
      "text/plain": [
       "            Periodico Empresa  \\\n",
       "0           Expansion    euro   \n",
       "1           Expansion    euro   \n",
       "2   Expansion_portada    euro   \n",
       "3   Expansion_portada    euro   \n",
       "4   Expansion_portada    euro   \n",
       "5   Expansion_portada    euro   \n",
       "6   Expansion_portada    euro   \n",
       "7   Expansion_portada    euro   \n",
       "8   Expansion_portada    euro   \n",
       "9   Expansion_portada    euro   \n",
       "10         Cinco dias    euro   \n",
       "\n",
       "                                              Noticia  \\\n",
       "0   Telefónica y otras cuatro grandes telecos euro...   \n",
       "1   BBVA pagará a sus clientes hasta 500 euros por...   \n",
       "2   El Ibex respira y Europa renueva récords tras ...   \n",
       "3   El gasto en pensiones sube un 3% en mayo y mar...   \n",
       "4       El mayor bróker online europeo vuela en Bolsa   \n",
       "5   Telefónica y otras cuatro grandes telecos euro...   \n",
       "6   España liderará la tecnología del hidrógeno ve...   \n",
       "7   Los europeos confían más en las empresas que e...   \n",
       "8   The Ocean Race Europe: Regatistas al servicio ...   \n",
       "9   Sergio Ramos, un imán para el patrocinio pese ...   \n",
       "10  BBVA amplia el 'plan amigo' y pagará hasta 500...   \n",
       "\n",
       "                      Fecha noticia  \\\n",
       "0   Tue, 25 May 2021 09:54:53 +0200   \n",
       "1   Mon, 24 May 2021 09:12:55 +0200   \n",
       "2   Tue, 25 May 2021 07:46:54 +0200   \n",
       "3   Tue, 25 May 2021 09:20:07 +0200   \n",
       "4   Tue, 25 May 2021 09:23:59 +0200   \n",
       "5   Tue, 25 May 2021 09:54:53 +0200   \n",
       "6   Tue, 25 May 2021 01:12:12 +0200   \n",
       "7   Tue, 25 May 2021 00:10:14 +0200   \n",
       "8   Tue, 25 May 2021 00:15:30 +0200   \n",
       "9   Mon, 24 May 2021 13:36:40 +0200   \n",
       "10  Mon, 24 May 2021 12:56:33 +0200   \n",
       "\n",
       "                                         Link Noticia  \n",
       "0   https://www.expansion.com/empresas/tecnologia/...  \n",
       "1   https://www.expansion.com/empresas/banca/2021/...  \n",
       "2   https://www.expansion.com/mercados/cronica-bol...  \n",
       "3   https://www.expansion.com/economia/2021/05/25/...  \n",
       "4   https://www.expansion.com/mercados/2021/05/25/...  \n",
       "5   https://www.expansion.com/empresas/tecnologia/...  \n",
       "6   https://www.expansion.com/opinion/2021/05/25/6...  \n",
       "7   https://www.expansion.com/opinion/2021/05/25/6...  \n",
       "8   https://www.expansion.com/nauta360/volvo-ocean...  \n",
       "9   https://www.expansion.com/directivos/deporte-n...  \n",
       "10  https://cincodias.elpais.com/cincodias/2021/05...  "
      ],
      "text/html": "<div>\n<style scoped>\n    .dataframe tbody tr th:only-of-type {\n        vertical-align: middle;\n    }\n\n    .dataframe tbody tr th {\n        vertical-align: top;\n    }\n\n    .dataframe thead th {\n        text-align: right;\n    }\n</style>\n<table border=\"1\" class=\"dataframe\">\n  <thead>\n    <tr style=\"text-align: right;\">\n      <th></th>\n      <th>Periodico</th>\n      <th>Empresa</th>\n      <th>Noticia</th>\n      <th>Fecha noticia</th>\n      <th>Link Noticia</th>\n    </tr>\n  </thead>\n  <tbody>\n    <tr>\n      <th>0</th>\n      <td>Expansion</td>\n      <td>euro</td>\n      <td>Telefónica y otras cuatro grandes telecos euro...</td>\n      <td>Tue, 25 May 2021 09:54:53 +0200</td>\n      <td>https://www.expansion.com/empresas/tecnologia/...</td>\n    </tr>\n    <tr>\n      <th>1</th>\n      <td>Expansion</td>\n      <td>euro</td>\n      <td>BBVA pagará a sus clientes hasta 500 euros por...</td>\n      <td>Mon, 24 May 2021 09:12:55 +0200</td>\n      <td>https://www.expansion.com/empresas/banca/2021/...</td>\n    </tr>\n    <tr>\n      <th>2</th>\n      <td>Expansion_portada</td>\n      <td>euro</td>\n      <td>El Ibex respira y Europa renueva récords tras ...</td>\n      <td>Tue, 25 May 2021 07:46:54 +0200</td>\n      <td>https://www.expansion.com/mercados/cronica-bol...</td>\n    </tr>\n    <tr>\n      <th>3</th>\n      <td>Expansion_portada</td>\n      <td>euro</td>\n      <td>El gasto en pensiones sube un 3% en mayo y mar...</td>\n      <td>Tue, 25 May 2021 09:20:07 +0200</td>\n      <td>https://www.expansion.com/economia/2021/05/25/...</td>\n    </tr>\n    <tr>\n      <th>4</th>\n      <td>Expansion_portada</td>\n      <td>euro</td>\n      <td>El mayor bróker online europeo vuela en Bolsa</td>\n      <td>Tue, 25 May 2021 09:23:59 +0200</td>\n      <td>https://www.expansion.com/mercados/2021/05/25/...</td>\n    </tr>\n    <tr>\n      <th>5</th>\n      <td>Expansion_portada</td>\n      <td>euro</td>\n      <td>Telefónica y otras cuatro grandes telecos euro...</td>\n      <td>Tue, 25 May 2021 09:54:53 +0200</td>\n      <td>https://www.expansion.com/empresas/tecnologia/...</td>\n    </tr>\n    <tr>\n      <th>6</th>\n      <td>Expansion_portada</td>\n      <td>euro</td>\n      <td>España liderará la tecnología del hidrógeno ve...</td>\n      <td>Tue, 25 May 2021 01:12:12 +0200</td>\n      <td>https://www.expansion.com/opinion/2021/05/25/6...</td>\n    </tr>\n    <tr>\n      <th>7</th>\n      <td>Expansion_portada</td>\n      <td>euro</td>\n      <td>Los europeos confían más en las empresas que e...</td>\n      <td>Tue, 25 May 2021 00:10:14 +0200</td>\n      <td>https://www.expansion.com/opinion/2021/05/25/6...</td>\n    </tr>\n    <tr>\n      <th>8</th>\n      <td>Expansion_portada</td>\n      <td>euro</td>\n      <td>The Ocean Race Europe: Regatistas al servicio ...</td>\n      <td>Tue, 25 May 2021 00:15:30 +0200</td>\n      <td>https://www.expansion.com/nauta360/volvo-ocean...</td>\n    </tr>\n    <tr>\n      <th>9</th>\n      <td>Expansion_portada</td>\n      <td>euro</td>\n      <td>Sergio Ramos, un imán para el patrocinio pese ...</td>\n      <td>Mon, 24 May 2021 13:36:40 +0200</td>\n      <td>https://www.expansion.com/directivos/deporte-n...</td>\n    </tr>\n    <tr>\n      <th>10</th>\n      <td>Cinco dias</td>\n      <td>euro</td>\n      <td>BBVA amplia el 'plan amigo' y pagará hasta 500...</td>\n      <td>Mon, 24 May 2021 12:56:33 +0200</td>\n      <td>https://cincodias.elpais.com/cincodias/2021/05...</td>\n    </tr>\n  </tbody>\n</table>\n</div>"
     },
     "metadata": {},
     "execution_count": 7
    }
   ],
   "source": [
    "from urllib.request import urlopen\n",
    "from xml.etree.ElementTree import parse\n",
    "import pandas as pd\n",
    "import json \n",
    "\n",
    "company = 'euro'\n",
    "\n",
    "newspapers = {\n",
    "    'Expansion': 'https://e00-expansion.uecdn.es/rss/empresas.xml',\n",
    "    'Expansion_portada': \"https://e00-expansion.uecdn.es/rss/portada.xml\",\n",
    "    'El economista': 'https://www.eleconomista.es/rss/rss-empresas.php',\n",
    "    'Cinco dias': 'https://cincodias.elpais.com/seccion/rss/companias/',\n",
    "    'El confidencial': 'https://rss.elconfidencial.com/empresas/'\n",
    "}\n",
    "\n",
    "tot_data = {\n",
    "    'Periodico': [],\n",
    "    'Empresa': [],\n",
    "    'Noticia': [],\n",
    "    'Fecha noticia': [],\n",
    "    'Link Noticia': []\n",
    "}\n",
    "\n",
    "for i in newspapers:\n",
    "    url_str = newspapers[i]\n",
    "    var_url = urlopen(url_str)\n",
    "    xmldoc = parse(var_url)\n",
    "\n",
    "    for item in xmldoc.iterfind('channel/item'):\n",
    "         if company in item.findtext('title').lower():\n",
    "            #if company in item.findtext('title').lower() and company2 in item.findtext('title').lower(): \n",
    "            tot_data['Periodico'].append(i)\n",
    "            tot_data['Empresa'].append(company)\n",
    "            tot_data['Noticia'].append(item.findtext('title'))\n",
    "            tot_data['Fecha noticia'].append(item.findtext('pubDate'))\n",
    "            tot_data['Link Noticia'].append(item.findtext('link'))\n",
    "\n",
    "company_df = pd.DataFrame(tot_data)\n",
    "print(\"company_df.shape:\", company_df.shape)\n",
    "company_df.to_excel('./company_data.xlsx')\n",
    "company_df.to_csv('./company_data.csv')\n",
    "company_df.to_json(\"company_data.json\")\n",
    "print(\"\\n FINISH \\n\")\n",
    "company_df"
   ]
  },
  {
   "cell_type": "code",
   "execution_count": null,
   "metadata": {},
   "outputs": [],
   "source": []
  }
 ]
}