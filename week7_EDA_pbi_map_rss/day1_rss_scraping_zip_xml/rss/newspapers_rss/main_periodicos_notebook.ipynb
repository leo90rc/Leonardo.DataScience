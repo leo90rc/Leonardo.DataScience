{
 "metadata": {
  "language_info": {
   "codemirror_mode": {
    "name": "ipython",
    "version": 3
   },
   "file_extension": ".py",
   "mimetype": "text/x-python",
   "name": "python",
   "nbconvert_exporter": "python",
   "pygments_lexer": "ipython3",
   "version": "3.6.4"
  },
  "orig_nbformat": 2,
  "kernelspec": {
   "name": "python36464bitc2077ed07ea84d23aa5b518d224882ab",
   "display_name": "Python 3.6.4 64-bit"
  },
  "metadata": {
   "interpreter": {
    "hash": "5c4d2f1fdcd3716c7a5eea90ad07be30193490dd4e63617705244f5fd89ea793"
   }
  }
 },
 "nbformat": 4,
 "nbformat_minor": 2,
 "cells": [
  {
   "cell_type": "code",
   "execution_count": 13,
   "metadata": {},
   "outputs": [
    {
     "output_type": "stream",
     "name": "stdout",
     "text": [
      "company_df.shape: (3, 5)\n\n FINISH \n\n"
     ]
    },
    {
     "output_type": "execute_result",
     "data": {
      "text/plain": [
       "       Periodico   Empresa                                            Noticia  \\\n",
       "0      Expansion  gobierno  El Gobierno impulsa una segunda ola de cambios...   \n",
       "1  El economista  gobierno  La nueva 'guerra del agua' enfrenta a Puig con...   \n",
       "2     Cinco dias  gobierno  El Gobierno releva a Fernando Abril-Martorell ...   \n",
       "\n",
       "                     Fecha noticia  \\\n",
       "0  Mon, 24 May 2021 23:20:39 +0200   \n",
       "1  Mon, 24 May 2021 21:37:26 +0200   \n",
       "2  Fri, 21 May 2021 17:08:54 +0200   \n",
       "\n",
       "                                        Link Noticia  \n",
       "0  https://www.expansion.com/empresas/2021/05/24/...  \n",
       "1  http://www.eleconomista.es/economia/noticias/1...  \n",
       "2  https://cincodias.elpais.com/cincodias/2021/05...  "
      ],
      "text/html": "<div>\n<style scoped>\n    .dataframe tbody tr th:only-of-type {\n        vertical-align: middle;\n    }\n\n    .dataframe tbody tr th {\n        vertical-align: top;\n    }\n\n    .dataframe thead th {\n        text-align: right;\n    }\n</style>\n<table border=\"1\" class=\"dataframe\">\n  <thead>\n    <tr style=\"text-align: right;\">\n      <th></th>\n      <th>Periodico</th>\n      <th>Empresa</th>\n      <th>Noticia</th>\n      <th>Fecha noticia</th>\n      <th>Link Noticia</th>\n    </tr>\n  </thead>\n  <tbody>\n    <tr>\n      <th>0</th>\n      <td>Expansion</td>\n      <td>gobierno</td>\n      <td>El Gobierno impulsa una segunda ola de cambios...</td>\n      <td>Mon, 24 May 2021 23:20:39 +0200</td>\n      <td>https://www.expansion.com/empresas/2021/05/24/...</td>\n    </tr>\n    <tr>\n      <th>1</th>\n      <td>El economista</td>\n      <td>gobierno</td>\n      <td>La nueva 'guerra del agua' enfrenta a Puig con...</td>\n      <td>Mon, 24 May 2021 21:37:26 +0200</td>\n      <td>http://www.eleconomista.es/economia/noticias/1...</td>\n    </tr>\n    <tr>\n      <th>2</th>\n      <td>Cinco dias</td>\n      <td>gobierno</td>\n      <td>El Gobierno releva a Fernando Abril-Martorell ...</td>\n      <td>Fri, 21 May 2021 17:08:54 +0200</td>\n      <td>https://cincodias.elpais.com/cincodias/2021/05...</td>\n    </tr>\n  </tbody>\n</table>\n</div>"
     },
     "metadata": {},
     "execution_count": 13
    }
   ],
   "source": [
    "from urllib.request import urlopen\n",
    "from xml.etree.ElementTree import parse\n",
    "import pandas as pd\n",
    "import json \n",
    "company = 'gobierno'\n",
    "\n",
    "newspapers = {\n",
    "    'Expansion': 'https://e00-expansion.uecdn.es/rss/empresas.xml',\n",
    "    'El economista': 'https://www.eleconomista.es/rss/rss-empresas.php',\n",
    "    'Cinco dias': 'https://cincodias.elpais.com/seccion/rss/companias/',\n",
    "    'El confidencial': 'https://rss.elconfidencial.com/empresas/'\n",
    "}\n",
    "\n",
    "tot_data = {\n",
    "    'Periodico': [],\n",
    "    'Empresa': [],\n",
    "    'Noticia': [],\n",
    "    'Fecha noticia': [],\n",
    "    'Link Noticia': []\n",
    "}\n",
    "\n",
    "for i in newspapers:\n",
    "    url_str = newspapers[i]\n",
    "    var_url = urlopen(url_str)\n",
    "    xmldoc = parse(var_url)\n",
    "\n",
    "    for item in xmldoc.iterfind('channel/item'):\n",
    "\n",
    "        if company in item.findtext('title').lower():\n",
    "            tot_data['Periodico'].append(i)\n",
    "            tot_data['Empresa'].append(company)\n",
    "            tot_data['Noticia'].append(item.findtext('title'))\n",
    "            tot_data['Fecha noticia'].append(item.findtext('pubDate'))\n",
    "            tot_data['Link Noticia'].append(item.findtext('link'))\n",
    "\n",
    "company_df = pd.DataFrame(tot_data)\n",
    "print(\"company_df.shape:\", company_df.shape)\n",
    "company_df.to_excel('./company_data.xlsx')\n",
    "company_df.to_csv('./company_data.csv')\n",
    "company_df.to_json(\"company_data.json\")\n",
    "print(\"\\n FINISH \\n\")\n",
    "company_df"
   ]
  }
 ]
}