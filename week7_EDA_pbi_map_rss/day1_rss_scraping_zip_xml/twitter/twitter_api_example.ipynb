{
 "metadata": {
  "language_info": {
   "codemirror_mode": {
    "name": "ipython",
    "version": 3
   },
   "file_extension": ".py",
   "mimetype": "text/x-python",
   "name": "python",
   "nbconvert_exporter": "python",
   "pygments_lexer": "ipython3",
   "version": "3.6.4"
  },
  "orig_nbformat": 2,
  "kernelspec": {
   "name": "python36464bitc2077ed07ea84d23aa5b518d224882ab",
   "display_name": "Python 3.6.4 64-bit"
  },
  "metadata": {
   "interpreter": {
    "hash": "5c4d2f1fdcd3716c7a5eea90ad07be30193490dd4e63617705244f5fd89ea793"
   }
  }
 },
 "nbformat": 4,
 "nbformat_minor": 2,
 "cells": [
  {
   "source": [
    "## Acediendo a datos de twitter\n",
    "Para esta demo utilizaremos el paquete [tweepy](https://www.tweepy.org/) para atacar datos de Twitter desde Python.\n",
    "\n",
    "Necesitamos registrarnos en la [web de desarrolladores](https://developer.twitter.com/en/apply-for-access) para obtener unas credenciales."
   ],
   "cell_type": "markdown",
   "metadata": {}
  },
  {
   "cell_type": "code",
   "execution_count": null,
   "metadata": {},
   "outputs": [],
   "source": [
    "!pip3 install tweepy"
   ]
  },
  {
   "cell_type": "code",
   "execution_count": 4,
   "metadata": {},
   "outputs": [
    {
     "output_type": "stream",
     "name": "stdout",
     "text": [
      "Authentication OK\n"
     ]
    }
   ],
   "source": [
    "import tweepy  \n",
    "import time\n",
    "import csv\n",
    "import pandas as pd\n",
    "import json\n",
    "\n",
    "with open('twitter_api_credentials_passwords.json') as f:\n",
    "    credentials = json.load(f)\n",
    "\n",
    "# Credenciales de la web de desarroladores\n",
    "access_token = credentials['access_token']  \n",
    "access_token_secret = credentials['access_token_secret']  \n",
    "consumer_key = credentials['api_key']\n",
    "consumer_secret = credentials['api_secret_key'] \n",
    "\n",
    "# Nos autenticamos en la API\n",
    "try:\n",
    "    auth = tweepy.OAuthHandler(consumer_key, consumer_secret)  \n",
    "    auth.set_access_token(access_token, access_token_secret)  \n",
    "    api = tweepy.API(auth, wait_on_rate_limit=True)\n",
    "    print(\"Authentication OK\")\n",
    "except:\n",
    "    print(\"Error during authentication\")"
   ]
  },
  {
   "cell_type": "code",
   "execution_count": 5,
   "metadata": {},
   "outputs": [
    {
     "output_type": "stream",
     "name": "stdout",
     "text": [
      "2021-05-25 09:45:43 RT @SaludPublicaEs: ❓Qué es el Certificado Digital UE-COVID\n\nOperativo a partir del 1 de julio, permitirá acreditar que una persona:\n\n🔹Ha r…\n2021-05-25 09:45:42 RT @davdiaper: Próximo viernes 21 de mayo, encuentro dnd trataremos de dar soluciones y herramientas para mejorar el seguimiento telemático…\n2021-05-25 09:45:39 RT @SaludPublicaEs: España ha realizado más de 42,8 millones de pruebas diagnósticas desde el inicio de la epidemia de #COVID19:\n\n▪️31.853.…\n2021-05-25 09:45:32 💉 #vacunacionmasiva #COVID19 🦠\n26-Junio: Turno para vacunarse en Salamanca para los nacidos en 1966 y residentes en… https://t.co/lpGtZ5SLlq\n2021-05-25 09:45:26 RT @delcyrodriguezv: 1/7 La Comisión Presidencial para la Prevención y Control de la #COVID19 informa al pueblo venezolano que en las últim…\n2021-05-25 09:45:21 RT @sanidadgob: 🔴 España ha realizado más de 42,8 millones de pruebas diagnósticas desde el inicio de la pandemia #COVID19 \n\n📌 En la última…\n2021-05-25 09:45:19 RT @delcyrodriguezv: 6/7 Hoy inició la 74 Asamblea Mundial de la Salud a través de una importante videoconferencia, donde Venezuela tuvo pr…\n2021-05-25 09:45:17 RT @We_T_Resistance: La vacuna está funcionando muy bien\n\n#SLR #COVID19 #Plandemia #YoNoMeVacuno https://t.co/sOXPw7fbr8\n2021-05-25 09:45:17 RT @sanidadgob: 🔴 En vigor la octava prórroga de las limitaciones para pasajeros de vuelos procedentes de Brasil y Sudáfrica para hacer fre…\n2021-05-25 09:45:16 RT @sanidadgob: 🔴 España ha realizado más de 42,8 millones de pruebas diagnósticas desde el inicio de la pandemia #COVID19 \n\n📌 En la última…\n2021-05-25 09:45:16 RT @Claudiashein: Buenas noches, comparto el informe diario de la situación de la Ciudad frente al #Covid19\n\nhttps://t.co/YdI5aA9jOu\n\n#Prot…\n2021-05-25 09:45:01 RT @MelillaGobierno: #SaludPública 🗒 La Consejería de Economía y Políticas Sociales e @Ingesa_Melilla  informan de la última actualización…\n2021-05-25 09:45:00 RT @delcyrodriguezv: 1/7 La Comisión Presidencial para la Prevención y Control de la #COVID19 informa al pueblo venezolano que en las últim…\n2021-05-25 09:44:48 🔴Salud Pública ha notificado en el día de hoy 21 nuevos positivos y 27 curados, lo que deja una cifra de 238 casos… https://t.co/BeA9vaPOBM\n2021-05-25 09:44:44 RT @SanidadGobCan: 📸Esta mañana ha llegado a Canarias una nueva remesa de vacunas💉de #AstraZeneca contra la #COVID19 para continuar avanzan…\n2021-05-25 09:44:44 RT @gtgprevencion: Debemos de seguir siempre manteniendo la seguridad, aún estando en ambientes familiares o de amigos #COVID19 #prl\n2021-05-25 09:44:43 RT @sanidadgob: 🔴 En vigor la octava prórroga de las limitaciones para pasajeros de vuelos procedentes de Brasil y Sudáfrica para hacer fre…\n2021-05-25 09:44:38 🆕📺Ya puedes ver el debate \"El futuro es ahora: post #COVID19 en el #Mediterráneo, liderazgo, emergencia climática y… https://t.co/glrgIU4ANY\n2021-05-25 09:44:25 RT @miguelpr83: 🔴🔴El Supremo reprocha al Gobierno de @sanchezcastejon  no haber aprobado una ley \"específica\" para afrontar la pandemia de…\n2021-05-25 09:44:20 RT @federacionFINE: #saludlaboral\n📌 El legado de la #COVID19👇 \n💬 “Queremos curarnos y volver a trabajar, no una baja para siempre”, afirma…\n2021-05-25 09:44:18 RT @miguelpr83: 🔴🔴El Supremo reprocha al Gobierno de @sanchezcastejon  no haber aprobado una ley \"específica\" para afrontar la pandemia de…\n2021-05-25 09:44:14 El Gobierno de Canarias ha facilitado un formulario web para que los residentes canarios pidan cita para vacunarse… https://t.co/s8pFwcjafW\n2021-05-25 09:43:58 RT @conJavierLosada: Todo lo que estaban diciendo los dirigentes y presidentes autonómicos @populares sobre el caos y que no tenían herrami…\n2021-05-25 09:43:54 RT @miguelpr83: 🔴🔴El Supremo reprocha al Gobierno de @sanchezcastejon  no haber aprobado una ley \"específica\" para afrontar la pandemia de…\n2021-05-25 09:43:50 RT @MelillaGobierno: #SaludPública 🗒 La Consejería de Economía y Políticas Sociales e @Ingesa_Melilla  informan de la última actualización…\n2021-05-25 09:43:43 RT @AIBoardPSF: #COVID19 Vaccine, Made in #Pakistan 🇵🇰 https://t.co/cdNCONJR48\n2021-05-25 09:43:38 RT @malaga: El concejal responsable de IMV, @fjpomares, ha dado a conocer el Plan de Ayudas al Alquiler a familias afectadas por la #COVID1…\n2021-05-25 09:43:26 RT @Sindicato_SATSE: Estrés, burnout, ansiedad... Son sólo algunas de las graves consecuencias que sufren nuestros fisioterapeutas por sus…\n2021-05-25 09:43:21 RT @ariasadvocats: Certificado Digital #UE #COVID19 : así será finalmente el 'pasaporte' que entrará a partir del 1 de julio y quiere \"recu…\n2021-05-25 09:43:19 Ayer en el #EUCO:\n\n🔹 Aprobación de medidas contra Bielorrusia \n🔹 Conclusiones sobre relaciones con Rusia, Reino Uni… https://t.co/vfRXz1ahKZ\n2021-05-25 09:43:00 #SaludPública 🗒 La Consejería de Economía y Políticas Sociales e @Ingesa_Melilla  informan de la última actualizaci… https://t.co/9XPufMwohX\n2021-05-25 09:42:55 RT @sanchezcastejon: Empezamos un #EUCO centrado en las relaciones exteriores de la UE, la migración tras lo sucedido en Ceuta, el cambio c…\n2021-05-25 09:42:50 También destacó que el @GobiernoMX ha fomentado alianzas en materia de transferencia de tecnología y conocimiento,… https://t.co/W22A9ebEJE\n2021-05-25 09:42:49 RT @RP_OndaAlegria: ‼️#ÚltimoMinuto‼️\n📚👩🏻‍🏫 Ministra de Educación, @elsa_ena, prevé reinicio de las actividades docentes en septiembre de f…\n2021-05-25 09:42:48 RT @delcyrodriguezv: 1/7 La Comisión Presidencial para la Prevención y Control de la #COVID19 informa al pueblo venezolano que en las últim…\n2021-05-25 09:42:34 RT @yayoibowery: Yo en la mañana pensando en que todo el presupuesto para estas elecciones lo hubieran destinado a la lucha contra el #COVI…\n2021-05-25 09:42:32 RT @delcyrodriguezv: 6/7 Hoy inició la 74 Asamblea Mundial de la Salud a través de una importante videoconferencia, donde Venezuela tuvo pr…\n2021-05-25 09:42:30 RT @delcyrodriguezv: 6/7 Hoy inició la 74 Asamblea Mundial de la Salud a través de una importante videoconferencia, donde Venezuela tuvo pr…\n2021-05-25 09:42:25 RT @MMJMIGUEL_: Quien pueda colaborar es bienvenido. Toda colaboración es importantísima. Por favor, RT para rodar la voz. #GoFundMe #COVID…\n2021-05-25 09:42:11 RT @INTECCAUNED: Próximos #CURSOSUNED \n\n02-06-2021 – ¿Hacia dónde nos dirigimos? Algunos aspectos del mundo y la #economía tras la #pandemi…\n2021-05-25 09:42:08 RT @Montserratte4: Desde la OMS, los escenarios no son muy halagüeños😣:\n\n\"No es la última vez que el mundo se enfrentará a la amenaza de un…\n2021-05-25 09:42:06 RT @MMJMIGUEL_: Quien pueda colaborar es bienvenido. Toda colaboración es importantísima. Por favor, RT para rodar la voz. #GoFundMe #COVID…\n2021-05-25 09:42:01 RT @delcyrodriguezv: 6/7 Hoy inició la 74 Asamblea Mundial de la Salud a través de una importante videoconferencia, donde Venezuela tuvo pr…\n2021-05-25 09:41:53 Próximos #CURSOSUNED \n\n15-06-2021 – #Mindfulness, #salud y compasión: Gestión Emocional en tiempos de incertidumbre… https://t.co/jiwYdLc66t\n2021-05-25 09:41:52 💡¡Participa en la encuesta y da tu opinión sobre las vacunas 💉 contra el #coronavirus!\nEl @eHealthUOC impulsa la in… https://t.co/sCkwP59Xjb\n2021-05-25 09:41:51 RT @msaludpy: Informe #COVID19 l 24 de mayo: \n\n📍Procesamos 6.952 muestras, 2.720 positivos. \n\n📍Lamentamos informar 114 fallecidos. Total: 8…\n2021-05-25 09:41:50 RT @delcyrodriguezv: 1/7 La Comisión Presidencial para la Prevención y Control de la #COVID19 informa al pueblo venezolano que en las últim…\n2021-05-25 09:41:48 RT @msaludpy: Informe #COVID19 l 24 de mayo: \n\n📍Procesamos 6.952 muestras, 2.720 positivos. \n\n📍Lamentamos informar 114 fallecidos. Total: 8…\n2021-05-25 09:41:46 RT @Imaubar: Prevenir la #COVID19 es tarea de todos. Si sales, toma en cuenta esta serie de recomendaciones y así evitarás el contagio. Rec…\n2021-05-25 09:41:33 🤝Compromiso de Salud Pública\n\n🧐El Ministerio de @sanidadgob estudiará la inclusión de menores con enfermedades neur… https://t.co/K4aPwFZkRF\n"
     ]
    }
   ],
   "source": [
    "with open('../data/tweet_covid19.csv', 'a') as csv_file:\n",
    "    #Use csv Writer\n",
    "    csv_writer = csv.writer(csv_file)\n",
    "\n",
    "    for tweet in tweepy.Cursor(api.search,q=\"#COVID19\",count=50,\n",
    "                            lang=\"es\",\n",
    "                            since=\"2020-09-05\").items(50):\n",
    "        \n",
    "        print(tweet.created_at, tweet.text)\n",
    "        csv_writer.writerow([tweet.created_at, tweet.text.encode('utf-8')])"
   ]
  },
  {
   "cell_type": "code",
   "execution_count": 7,
   "metadata": {},
   "outputs": [
    {
     "output_type": "execute_result",
     "data": {
      "text/plain": [
       "                       0                                                  1\n",
       "0    2021-02-19 10:02:29  b'RT @orlandobenitezm: Llegamos ahora a la Cl\\...\n",
       "1    2021-02-19 10:02:27  b'RT @profarmgipuzkoa: Nos alegramos mucho por...\n",
       "2    2021-02-19 10:02:26  b'RT @profarmgipuzkoa: Nos alegramos mucho por...\n",
       "3    2021-02-19 10:02:22  b'RT @JacquelinePSUV: Hoy es un d\\xc3\\xada his...\n",
       "4    2021-02-19 10:02:15  b'RT @frannajoes: Los #enfermoscronicos no son...\n",
       "..                   ...                                                ...\n",
       "237  2021-05-25 09:41:51  b'RT @msaludpy: Informe #COVID19 l 24 de mayo:...\n",
       "238  2021-05-25 09:41:50  b'RT @delcyrodriguezv: 1/7 La Comisi\\xc3\\xb3n ...\n",
       "239  2021-05-25 09:41:48  b'RT @msaludpy: Informe #COVID19 l 24 de mayo:...\n",
       "240  2021-05-25 09:41:46  b'RT @Imaubar: Prevenir la #COVID19 es tarea d...\n",
       "241  2021-05-25 09:41:33  b'\\xf0\\x9f\\xa4\\x9dCompromiso de Salud P\\xc3\\xb...\n",
       "\n",
       "[242 rows x 2 columns]"
      ],
      "text/html": "<div>\n<style scoped>\n    .dataframe tbody tr th:only-of-type {\n        vertical-align: middle;\n    }\n\n    .dataframe tbody tr th {\n        vertical-align: top;\n    }\n\n    .dataframe thead th {\n        text-align: right;\n    }\n</style>\n<table border=\"1\" class=\"dataframe\">\n  <thead>\n    <tr style=\"text-align: right;\">\n      <th></th>\n      <th>0</th>\n      <th>1</th>\n    </tr>\n  </thead>\n  <tbody>\n    <tr>\n      <th>0</th>\n      <td>2021-02-19 10:02:29</td>\n      <td>b'RT @orlandobenitezm: Llegamos ahora a la Cl\\...</td>\n    </tr>\n    <tr>\n      <th>1</th>\n      <td>2021-02-19 10:02:27</td>\n      <td>b'RT @profarmgipuzkoa: Nos alegramos mucho por...</td>\n    </tr>\n    <tr>\n      <th>2</th>\n      <td>2021-02-19 10:02:26</td>\n      <td>b'RT @profarmgipuzkoa: Nos alegramos mucho por...</td>\n    </tr>\n    <tr>\n      <th>3</th>\n      <td>2021-02-19 10:02:22</td>\n      <td>b'RT @JacquelinePSUV: Hoy es un d\\xc3\\xada his...</td>\n    </tr>\n    <tr>\n      <th>4</th>\n      <td>2021-02-19 10:02:15</td>\n      <td>b'RT @frannajoes: Los #enfermoscronicos no son...</td>\n    </tr>\n    <tr>\n      <th>...</th>\n      <td>...</td>\n      <td>...</td>\n    </tr>\n    <tr>\n      <th>237</th>\n      <td>2021-05-25 09:41:51</td>\n      <td>b'RT @msaludpy: Informe #COVID19 l 24 de mayo:...</td>\n    </tr>\n    <tr>\n      <th>238</th>\n      <td>2021-05-25 09:41:50</td>\n      <td>b'RT @delcyrodriguezv: 1/7 La Comisi\\xc3\\xb3n ...</td>\n    </tr>\n    <tr>\n      <th>239</th>\n      <td>2021-05-25 09:41:48</td>\n      <td>b'RT @msaludpy: Informe #COVID19 l 24 de mayo:...</td>\n    </tr>\n    <tr>\n      <th>240</th>\n      <td>2021-05-25 09:41:46</td>\n      <td>b'RT @Imaubar: Prevenir la #COVID19 es tarea d...</td>\n    </tr>\n    <tr>\n      <th>241</th>\n      <td>2021-05-25 09:41:33</td>\n      <td>b'\\xf0\\x9f\\xa4\\x9dCompromiso de Salud P\\xc3\\xb...</td>\n    </tr>\n  </tbody>\n</table>\n<p>242 rows × 2 columns</p>\n</div>"
     },
     "metadata": {},
     "execution_count": 7
    }
   ],
   "source": [
    "pd.read_csv(\"../data/tweet_covid19.csv\", header=None)"
   ]
  },
  {
   "cell_type": "code",
   "execution_count": null,
   "metadata": {},
   "outputs": [],
   "source": []
  }
 ]
}