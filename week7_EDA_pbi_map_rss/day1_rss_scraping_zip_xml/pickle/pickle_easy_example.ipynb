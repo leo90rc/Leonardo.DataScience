{
 "metadata": {
  "language_info": {
   "codemirror_mode": {
    "name": "ipython",
    "version": 3
   },
   "file_extension": ".py",
   "mimetype": "text/x-python",
   "name": "python",
   "nbconvert_exporter": "python",
   "pygments_lexer": "ipython3",
   "version": "3.6.4"
  },
  "orig_nbformat": 2,
  "kernelspec": {
   "name": "python36464bitc2077ed07ea84d23aa5b518d224882ab",
   "display_name": "Python 3.6.4 64-bit"
  },
  "metadata": {
   "interpreter": {
    "hash": "5c4d2f1fdcd3716c7a5eea90ad07be30193490dd4e63617705244f5fd89ea793"
   }
  }
 },
 "nbformat": 4,
 "nbformat_minor": 2,
 "cells": [
  {
   "source": [
    "!pip3 install pickle"
   ],
   "cell_type": "code",
   "metadata": {},
   "execution_count": null,
   "outputs": []
  },
  {
   "cell_type": "code",
   "execution_count": 5,
   "metadata": {},
   "outputs": [
    {
     "output_type": "execute_result",
     "data": {
      "text/plain": [
       "array([[0.1568862 , 0.29415187, 0.82543136, 0.61948421, 0.67047468,\n",
       "        0.27294081, 0.03479161, 0.36855172, 0.922173  , 0.71733008,\n",
       "        0.07488525, 0.27827534, 0.63461545, 0.82391936, 0.13677972,\n",
       "        0.04159077, 0.40062557, 0.6413302 , 0.87319117, 0.81382776,\n",
       "        0.05635696, 0.58330692, 0.78050168, 0.16527468, 0.75574963,\n",
       "        0.65055388, 0.07384414, 0.72235283, 0.37958457, 0.04414547,\n",
       "        0.77532925, 0.97921744, 0.4378943 , 0.87835118, 0.80679294,\n",
       "        0.56327895, 0.15464994, 0.09801182, 0.59302378, 0.73731345,\n",
       "        0.14984317, 0.52169793, 0.82499471, 0.80667152, 0.77390005,\n",
       "        0.34945011, 0.60206001, 0.97854075, 0.0351598 , 0.13285276,\n",
       "        0.39394127, 0.66218134, 0.85545927, 0.38717323, 0.26826533,\n",
       "        0.2556096 , 0.90183481, 0.34747431, 0.01283061, 0.50610326]])"
      ]
     },
     "metadata": {},
     "execution_count": 5
    }
   ],
   "source": [
    "import pickle\n",
    "import numpy as np \n",
    "\n",
    "long_array = np.random.rand(1,60)\n",
    "long_array"
   ]
  },
  {
   "source": [
    "### Guardamos la variable en un fichero"
   ],
   "cell_type": "markdown",
   "metadata": {}
  },
  {
   "cell_type": "code",
   "execution_count": 6,
   "metadata": {},
   "outputs": [],
   "source": [
    "pickle.dump( long_array, open(\"long_array.pepita\", \"wb\" ))"
   ]
  },
  {
   "source": [
    "### Cargamos la variable a partir de un fichero"
   ],
   "cell_type": "markdown",
   "metadata": {}
  },
  {
   "cell_type": "code",
   "execution_count": 7,
   "metadata": {},
   "outputs": [
    {
     "output_type": "execute_result",
     "data": {
      "text/plain": [
       "array([[0.1568862 , 0.29415187, 0.82543136, 0.61948421, 0.67047468,\n",
       "        0.27294081, 0.03479161, 0.36855172, 0.922173  , 0.71733008,\n",
       "        0.07488525, 0.27827534, 0.63461545, 0.82391936, 0.13677972,\n",
       "        0.04159077, 0.40062557, 0.6413302 , 0.87319117, 0.81382776,\n",
       "        0.05635696, 0.58330692, 0.78050168, 0.16527468, 0.75574963,\n",
       "        0.65055388, 0.07384414, 0.72235283, 0.37958457, 0.04414547,\n",
       "        0.77532925, 0.97921744, 0.4378943 , 0.87835118, 0.80679294,\n",
       "        0.56327895, 0.15464994, 0.09801182, 0.59302378, 0.73731345,\n",
       "        0.14984317, 0.52169793, 0.82499471, 0.80667152, 0.77390005,\n",
       "        0.34945011, 0.60206001, 0.97854075, 0.0351598 , 0.13285276,\n",
       "        0.39394127, 0.66218134, 0.85545927, 0.38717323, 0.26826533,\n",
       "        0.2556096 , 0.90183481, 0.34747431, 0.01283061, 0.50610326]])"
      ]
     },
     "metadata": {},
     "execution_count": 7
    }
   ],
   "source": [
    "long_array_loaded = pickle.load(open(\"long_array.pepita\", \"rb\" ))\n",
    "long_array_loaded"
   ]
  },
  {
   "cell_type": "code",
   "execution_count": null,
   "metadata": {},
   "outputs": [],
   "source": []
  }
 ]
}