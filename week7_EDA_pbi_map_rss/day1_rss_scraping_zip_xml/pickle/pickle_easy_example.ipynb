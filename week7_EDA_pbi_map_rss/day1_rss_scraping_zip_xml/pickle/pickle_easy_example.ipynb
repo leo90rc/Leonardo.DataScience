{
 "metadata": {
  "language_info": {
   "codemirror_mode": {
    "name": "ipython",
    "version": 3
   },
   "file_extension": ".py",
   "mimetype": "text/x-python",
   "name": "python",
   "nbconvert_exporter": "python",
   "pygments_lexer": "ipython3",
   "version": "3.6.4"
  },
  "orig_nbformat": 2,
  "kernelspec": {
   "name": "python36464bitc2077ed07ea84d23aa5b518d224882ab",
   "display_name": "Python 3.6.4 64-bit"
  },
  "metadata": {
   "interpreter": {
    "hash": "5c4d2f1fdcd3716c7a5eea90ad07be30193490dd4e63617705244f5fd89ea793"
   }
  }
 },
 "nbformat": 4,
 "nbformat_minor": 2,
 "cells": [
  {
   "source": [
    "!pip3 install pickle"
   ],
   "cell_type": "code",
   "metadata": {},
   "execution_count": null,
   "outputs": []
  },
  {
   "cell_type": "code",
   "execution_count": 3,
   "metadata": {},
   "outputs": [
    {
     "output_type": "execute_result",
     "data": {
      "text/plain": [
       "array([[0.57218139, 0.91539234, 0.21149285, 0.36386371, 0.56655572,\n",
       "        0.1853565 , 0.51984507, 0.07803671, 0.31950093, 0.43772649,\n",
       "        0.91162418, 0.59607321, 0.72147422, 0.0227056 , 0.85492806,\n",
       "        0.9892159 , 0.91266131, 0.26513673, 0.5288431 , 0.46566811,\n",
       "        0.77967785, 0.46408046, 0.03380354, 0.20364453, 0.02831155,\n",
       "        0.03482279, 0.71122086, 0.04910994, 0.80265268, 0.90254545,\n",
       "        0.19131962, 0.83913874, 0.14935392, 0.97222771, 0.82734484,\n",
       "        0.19805089, 0.03150892, 0.04051007, 0.06433169, 0.83828249,\n",
       "        0.84627933, 0.31432441, 0.81261304, 0.4442721 , 0.48079772,\n",
       "        0.3052675 , 0.45804665, 0.16610491, 0.15729857, 0.63907875,\n",
       "        0.4455602 , 0.90754888, 0.85906541, 0.22498125, 0.69439753,\n",
       "        0.29782034, 0.02385305, 0.91514392, 0.55720043, 0.8141727 ]])"
      ]
     },
     "metadata": {},
     "execution_count": 3
    }
   ],
   "source": [
    "import pickle\n",
    "import numpy as np \n",
    "\n",
    "long_array = np.random.rand(1,60)\n",
    "long_array"
   ]
  },
  {
   "source": [
    "### Guardamos la variable en un fichero"
   ],
   "cell_type": "markdown",
   "metadata": {}
  },
  {
   "cell_type": "code",
   "execution_count": 4,
   "metadata": {},
   "outputs": [],
   "source": [
    "pickle.dump( long_array, open(\"long_array.pepita\", \"wb\" ))"
   ]
  },
  {
   "source": [
    "### Cargamos la variable a partir de un fichero"
   ],
   "cell_type": "markdown",
   "metadata": {}
  },
  {
   "cell_type": "code",
   "execution_count": 5,
   "metadata": {},
   "outputs": [
    {
     "output_type": "execute_result",
     "data": {
      "text/plain": [
       "array([[0.57218139, 0.91539234, 0.21149285, 0.36386371, 0.56655572,\n",
       "        0.1853565 , 0.51984507, 0.07803671, 0.31950093, 0.43772649,\n",
       "        0.91162418, 0.59607321, 0.72147422, 0.0227056 , 0.85492806,\n",
       "        0.9892159 , 0.91266131, 0.26513673, 0.5288431 , 0.46566811,\n",
       "        0.77967785, 0.46408046, 0.03380354, 0.20364453, 0.02831155,\n",
       "        0.03482279, 0.71122086, 0.04910994, 0.80265268, 0.90254545,\n",
       "        0.19131962, 0.83913874, 0.14935392, 0.97222771, 0.82734484,\n",
       "        0.19805089, 0.03150892, 0.04051007, 0.06433169, 0.83828249,\n",
       "        0.84627933, 0.31432441, 0.81261304, 0.4442721 , 0.48079772,\n",
       "        0.3052675 , 0.45804665, 0.16610491, 0.15729857, 0.63907875,\n",
       "        0.4455602 , 0.90754888, 0.85906541, 0.22498125, 0.69439753,\n",
       "        0.29782034, 0.02385305, 0.91514392, 0.55720043, 0.8141727 ]])"
      ]
     },
     "metadata": {},
     "execution_count": 5
    }
   ],
   "source": [
    "long_array_loaded = pickle.load(open(\"long_array.pepita\", \"rb\" ))\n",
    "long_array_loaded"
   ]
  },
  {
   "cell_type": "code",
   "execution_count": null,
   "metadata": {},
   "outputs": [],
   "source": []
  }
 ]
}