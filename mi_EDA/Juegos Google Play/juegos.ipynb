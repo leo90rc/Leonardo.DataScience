{
 "metadata": {
  "language_info": {
   "codemirror_mode": {
    "name": "ipython",
    "version": 3
   },
   "file_extension": ".py",
   "mimetype": "text/x-python",
   "name": "python",
   "nbconvert_exporter": "python",
   "pygments_lexer": "ipython3",
   "version": "3.7.4"
  },
  "orig_nbformat": 2,
  "kernelspec": {
   "name": "python374jvsc74a57bd0a0947237fadc8b5561fed326db280cc5ec46a670c87cfb3a0489cf95ff262303",
   "display_name": "Python 3.7.4 64-bit"
  },
  "metadata": {
   "interpreter": {
    "hash": "a0947237fadc8b5561fed326db280cc5ec46a670c87cfb3a0489cf95ff262303"
   }
  }
 },
 "nbformat": 4,
 "nbformat_minor": 2,
 "cells": [
  {
   "cell_type": "code",
   "execution_count": 1,
   "metadata": {},
   "outputs": [],
   "source": [
    "import pandas as pd"
   ]
  },
  {
   "cell_type": "code",
   "execution_count": 2,
   "metadata": {},
   "outputs": [
    {
     "output_type": "execute_result",
     "data": {
      "text/plain": [
       "      rank                                         title  total ratings  \\\n",
       "0        1                  Garena Free Fire - The Cobra       80678661   \n",
       "1        2                   PUBG MOBILE: Graffiti Prank       35971961   \n",
       "2        3                     Mobile Legends: Bang Bang       25836869   \n",
       "3        4                                   Brawl Stars       17181659   \n",
       "4        5  Sniper 3D: Fun Free Online FPS Shooting Game       14237554   \n",
       "...    ...                                           ...            ...   \n",
       "1725    96                     Piknik Słowo - Word Snack         122845   \n",
       "1726    97           Wordox – Free multiplayer word game         120476   \n",
       "1727    98                             4 Fotos 1 Palavra         114852   \n",
       "1728    99                 زوايا - لعبة ستحرك زوايا عقلك         110293   \n",
       "1729   100         Word Life - Connect crosswords puzzle         109809   \n",
       "\n",
       "     installs  average rating  growth (30 days)  growth (60 days)  price  \\\n",
       "0     500.0 M            4.33               2.9               7.9    0.0   \n",
       "1     100.0 M            4.24               2.0               3.1    0.0   \n",
       "2     100.0 M            4.08               1.6               3.3    0.0   \n",
       "3     100.0 M            4.27               4.1               6.6    0.0   \n",
       "4     100.0 M            4.33               0.8               1.8    0.0   \n",
       "...       ...             ...               ...               ...    ...   \n",
       "1725    1.0 M            4.67               0.1               0.3    0.0   \n",
       "1726    1.0 M            4.21               0.0               0.1    0.0   \n",
       "1727    5.0 M            4.52               0.3               0.6    0.0   \n",
       "1728    1.0 M            4.76               0.8               1.9    0.0   \n",
       "1729    5.0 M            4.38               6.9              14.2    0.0   \n",
       "\n",
       "         category  5 star ratings  4 star ratings  3 star ratings  \\\n",
       "0     GAME ACTION        61935712         4478738         2795172   \n",
       "1     GAME ACTION        26670566         2109631         1352610   \n",
       "2     GAME ACTION        17850942         1796761         1066095   \n",
       "3     GAME ACTION        12493668         1474319          741410   \n",
       "4     GAME ACTION         9657878         2124544         1034025   \n",
       "...           ...             ...             ...             ...   \n",
       "1725    GAME WORD           96954           17233            5098   \n",
       "1726    GAME WORD           74010           21546           10648   \n",
       "1727    GAME WORD           84688           16783            6619   \n",
       "1728    GAME WORD           99168            3528            3258   \n",
       "1729    GAME WORD           70647           22630            8794   \n",
       "\n",
       "      2 star ratings  1 star ratings   paid  \n",
       "0            1814999         9654037  False  \n",
       "1             893674         4945478  False  \n",
       "2             725429         4397640  False  \n",
       "3             383478         2088781  False  \n",
       "4             375159         1045945  False  \n",
       "...              ...             ...    ...  \n",
       "1725            1249            2309  False  \n",
       "1726            4710            9560  False  \n",
       "1727            1867            4892  False  \n",
       "1728            1059            3278  False  \n",
       "1729            2775            4961  False  \n",
       "\n",
       "[1730 rows x 15 columns]"
      ],
      "text/html": "<div>\n<style scoped>\n    .dataframe tbody tr th:only-of-type {\n        vertical-align: middle;\n    }\n\n    .dataframe tbody tr th {\n        vertical-align: top;\n    }\n\n    .dataframe thead th {\n        text-align: right;\n    }\n</style>\n<table border=\"1\" class=\"dataframe\">\n  <thead>\n    <tr style=\"text-align: right;\">\n      <th></th>\n      <th>rank</th>\n      <th>title</th>\n      <th>total ratings</th>\n      <th>installs</th>\n      <th>average rating</th>\n      <th>growth (30 days)</th>\n      <th>growth (60 days)</th>\n      <th>price</th>\n      <th>category</th>\n      <th>5 star ratings</th>\n      <th>4 star ratings</th>\n      <th>3 star ratings</th>\n      <th>2 star ratings</th>\n      <th>1 star ratings</th>\n      <th>paid</th>\n    </tr>\n  </thead>\n  <tbody>\n    <tr>\n      <th>0</th>\n      <td>1</td>\n      <td>Garena Free Fire - The Cobra</td>\n      <td>80678661</td>\n      <td>500.0 M</td>\n      <td>4.33</td>\n      <td>2.9</td>\n      <td>7.9</td>\n      <td>0.0</td>\n      <td>GAME ACTION</td>\n      <td>61935712</td>\n      <td>4478738</td>\n      <td>2795172</td>\n      <td>1814999</td>\n      <td>9654037</td>\n      <td>False</td>\n    </tr>\n    <tr>\n      <th>1</th>\n      <td>2</td>\n      <td>PUBG MOBILE: Graffiti Prank</td>\n      <td>35971961</td>\n      <td>100.0 M</td>\n      <td>4.24</td>\n      <td>2.0</td>\n      <td>3.1</td>\n      <td>0.0</td>\n      <td>GAME ACTION</td>\n      <td>26670566</td>\n      <td>2109631</td>\n      <td>1352610</td>\n      <td>893674</td>\n      <td>4945478</td>\n      <td>False</td>\n    </tr>\n    <tr>\n      <th>2</th>\n      <td>3</td>\n      <td>Mobile Legends: Bang Bang</td>\n      <td>25836869</td>\n      <td>100.0 M</td>\n      <td>4.08</td>\n      <td>1.6</td>\n      <td>3.3</td>\n      <td>0.0</td>\n      <td>GAME ACTION</td>\n      <td>17850942</td>\n      <td>1796761</td>\n      <td>1066095</td>\n      <td>725429</td>\n      <td>4397640</td>\n      <td>False</td>\n    </tr>\n    <tr>\n      <th>3</th>\n      <td>4</td>\n      <td>Brawl Stars</td>\n      <td>17181659</td>\n      <td>100.0 M</td>\n      <td>4.27</td>\n      <td>4.1</td>\n      <td>6.6</td>\n      <td>0.0</td>\n      <td>GAME ACTION</td>\n      <td>12493668</td>\n      <td>1474319</td>\n      <td>741410</td>\n      <td>383478</td>\n      <td>2088781</td>\n      <td>False</td>\n    </tr>\n    <tr>\n      <th>4</th>\n      <td>5</td>\n      <td>Sniper 3D: Fun Free Online FPS Shooting Game</td>\n      <td>14237554</td>\n      <td>100.0 M</td>\n      <td>4.33</td>\n      <td>0.8</td>\n      <td>1.8</td>\n      <td>0.0</td>\n      <td>GAME ACTION</td>\n      <td>9657878</td>\n      <td>2124544</td>\n      <td>1034025</td>\n      <td>375159</td>\n      <td>1045945</td>\n      <td>False</td>\n    </tr>\n    <tr>\n      <th>...</th>\n      <td>...</td>\n      <td>...</td>\n      <td>...</td>\n      <td>...</td>\n      <td>...</td>\n      <td>...</td>\n      <td>...</td>\n      <td>...</td>\n      <td>...</td>\n      <td>...</td>\n      <td>...</td>\n      <td>...</td>\n      <td>...</td>\n      <td>...</td>\n      <td>...</td>\n    </tr>\n    <tr>\n      <th>1725</th>\n      <td>96</td>\n      <td>Piknik Słowo - Word Snack</td>\n      <td>122845</td>\n      <td>1.0 M</td>\n      <td>4.67</td>\n      <td>0.1</td>\n      <td>0.3</td>\n      <td>0.0</td>\n      <td>GAME WORD</td>\n      <td>96954</td>\n      <td>17233</td>\n      <td>5098</td>\n      <td>1249</td>\n      <td>2309</td>\n      <td>False</td>\n    </tr>\n    <tr>\n      <th>1726</th>\n      <td>97</td>\n      <td>Wordox – Free multiplayer word game</td>\n      <td>120476</td>\n      <td>1.0 M</td>\n      <td>4.21</td>\n      <td>0.0</td>\n      <td>0.1</td>\n      <td>0.0</td>\n      <td>GAME WORD</td>\n      <td>74010</td>\n      <td>21546</td>\n      <td>10648</td>\n      <td>4710</td>\n      <td>9560</td>\n      <td>False</td>\n    </tr>\n    <tr>\n      <th>1727</th>\n      <td>98</td>\n      <td>4 Fotos 1 Palavra</td>\n      <td>114852</td>\n      <td>5.0 M</td>\n      <td>4.52</td>\n      <td>0.3</td>\n      <td>0.6</td>\n      <td>0.0</td>\n      <td>GAME WORD</td>\n      <td>84688</td>\n      <td>16783</td>\n      <td>6619</td>\n      <td>1867</td>\n      <td>4892</td>\n      <td>False</td>\n    </tr>\n    <tr>\n      <th>1728</th>\n      <td>99</td>\n      <td>زوايا - لعبة ستحرك زوايا عقلك</td>\n      <td>110293</td>\n      <td>1.0 M</td>\n      <td>4.76</td>\n      <td>0.8</td>\n      <td>1.9</td>\n      <td>0.0</td>\n      <td>GAME WORD</td>\n      <td>99168</td>\n      <td>3528</td>\n      <td>3258</td>\n      <td>1059</td>\n      <td>3278</td>\n      <td>False</td>\n    </tr>\n    <tr>\n      <th>1729</th>\n      <td>100</td>\n      <td>Word Life - Connect crosswords puzzle</td>\n      <td>109809</td>\n      <td>5.0 M</td>\n      <td>4.38</td>\n      <td>6.9</td>\n      <td>14.2</td>\n      <td>0.0</td>\n      <td>GAME WORD</td>\n      <td>70647</td>\n      <td>22630</td>\n      <td>8794</td>\n      <td>2775</td>\n      <td>4961</td>\n      <td>False</td>\n    </tr>\n  </tbody>\n</table>\n<p>1730 rows × 15 columns</p>\n</div>"
     },
     "metadata": {},
     "execution_count": 2
    }
   ],
   "source": [
    "juegos = pd.read_csv('android-games.csv')\n",
    "juegos"
   ]
  },
  {
   "cell_type": "code",
   "execution_count": 8,
   "metadata": {},
   "outputs": [
    {
     "output_type": "execute_result",
     "data": {
      "text/plain": [
       "                   rank  total ratings  average rating  growth (30 days)  \\\n",
       "category                                                                   \n",
       "GAME ACTION        5050      413375744          424.61          145253.9   \n",
       "GAME ADVENTURE     5050       91971748          426.42            3086.8   \n",
       "GAME ARCADE        5050      185167028          429.49            2324.2   \n",
       "GAME BOARD         5050       47085352          434.71           15732.8   \n",
       "GAME CARD          6190       39256812          539.37             247.5   \n",
       "GAME CASINO        5050       37119268          443.78             222.6   \n",
       "GAME CASUAL        5223      254644844          442.19            2016.7   \n",
       "GAME EDUCATIONAL   5050       14243583          425.36            9956.9   \n",
       "GAME MUSIC         5050       22451222          418.03             247.7   \n",
       "GAME PUZZLE        5050       98392699          439.42             223.2   \n",
       "GAME RACING        5050      136352025          431.20            5809.2   \n",
       "GAME ROLE PLAYING  5050       74466720          427.60             118.6   \n",
       "GAME SIMULATION    5050      107002045          431.82             695.4   \n",
       "GAME SPORTS        5050      125701632          426.11             130.6   \n",
       "GAME STRATEGY      5050      183471744          426.50            2682.0   \n",
       "GAME TRIVIA        5050       29860438          424.57            4927.9   \n",
       "GAME WORD          5210       44481162          471.02          140503.5   \n",
       "\n",
       "                   growth (60 days)  price  5 star ratings  4 star ratings  \\\n",
       "category                                                                     \n",
       "GAME ACTION                   256.9   0.99       297452920        35916052   \n",
       "GAME ADVENTURE                430.5   4.99        64842466        10346242   \n",
       "GAME ARCADE                   309.1   9.48       133731783        19444747   \n",
       "GAME BOARD                    450.1   0.00        33858033         5161875   \n",
       "GAME CARD                     349.4   2.99        27947247         5493676   \n",
       "GAME CASINO                   335.2   0.00        27483010         4135281   \n",
       "GAME CASUAL                   214.1   0.00       184839112        29302683   \n",
       "GAME EDUCATIONAL             1363.6   0.00        10100353         1342086   \n",
       "GAME MUSIC                    700.6   1.99        15479053         2300539   \n",
       "GAME PUZZLE                   215.3   0.00        70822310        12818911   \n",
       "GAME RACING                   196.1   0.00        98066339        14023035   \n",
       "GAME ROLE PLAYING             284.1   0.00        51874360         9205558   \n",
       "GAME SIMULATION               341.0   0.00        75451028        13430478   \n",
       "GAME SPORTS                   318.7   0.00        87597852        15481927   \n",
       "GAME STRATEGY                 219.4   0.00       131533579        21079146   \n",
       "GAME TRIVIA                   644.3   1.99        20826660         4334128   \n",
       "GAME WORD                     238.4   0.00        31997659         6632338   \n",
       "\n",
       "                   3 star ratings  2 star ratings  1 star ratings  paid  \n",
       "category                                                                 \n",
       "GAME ACTION              19841780        10979830        49184898     1  \n",
       "GAME ADVENTURE            5166538         2465012         9151238     1  \n",
       "GAME ARCADE              10465943         4933625        16590675     2  \n",
       "GAME BOARD                2318092         1089300         4657803     0  \n",
       "GAME CARD                 1977608          828199         3009779     1  \n",
       "GAME CASINO               1864141          776339         2860250     0  \n",
       "GAME CASUAL              13746256         6098993        20657546     0  \n",
       "GAME EDUCATIONAL           786736          472206         1541962     0  \n",
       "GAME MUSIC                1378286          731653         2561432     1  \n",
       "GAME PUZZLE               5837564         2354690         6558971     0  \n",
       "GAME RACING               7515378         3709933        13037082     0  \n",
       "GAME ROLE PLAYING         4182886         1936645         7267021     0  \n",
       "GAME SIMULATION           6451284         2881282         8787716     0  \n",
       "GAME SPORTS               7488721         3289422        11843463     0  \n",
       "GAME STRATEGY             9677464         4167469        17013829     0  \n",
       "GAME TRIVIA               1770915          723956         2204523     1  \n",
       "GAME WORD                 2551660          936525         2362717     0  "
      ],
      "text/html": "<div>\n<style scoped>\n    .dataframe tbody tr th:only-of-type {\n        vertical-align: middle;\n    }\n\n    .dataframe tbody tr th {\n        vertical-align: top;\n    }\n\n    .dataframe thead th {\n        text-align: right;\n    }\n</style>\n<table border=\"1\" class=\"dataframe\">\n  <thead>\n    <tr style=\"text-align: right;\">\n      <th></th>\n      <th>rank</th>\n      <th>total ratings</th>\n      <th>average rating</th>\n      <th>growth (30 days)</th>\n      <th>growth (60 days)</th>\n      <th>price</th>\n      <th>5 star ratings</th>\n      <th>4 star ratings</th>\n      <th>3 star ratings</th>\n      <th>2 star ratings</th>\n      <th>1 star ratings</th>\n      <th>paid</th>\n    </tr>\n    <tr>\n      <th>category</th>\n      <th></th>\n      <th></th>\n      <th></th>\n      <th></th>\n      <th></th>\n      <th></th>\n      <th></th>\n      <th></th>\n      <th></th>\n      <th></th>\n      <th></th>\n      <th></th>\n    </tr>\n  </thead>\n  <tbody>\n    <tr>\n      <th>GAME ACTION</th>\n      <td>5050</td>\n      <td>413375744</td>\n      <td>424.61</td>\n      <td>145253.9</td>\n      <td>256.9</td>\n      <td>0.99</td>\n      <td>297452920</td>\n      <td>35916052</td>\n      <td>19841780</td>\n      <td>10979830</td>\n      <td>49184898</td>\n      <td>1</td>\n    </tr>\n    <tr>\n      <th>GAME ADVENTURE</th>\n      <td>5050</td>\n      <td>91971748</td>\n      <td>426.42</td>\n      <td>3086.8</td>\n      <td>430.5</td>\n      <td>4.99</td>\n      <td>64842466</td>\n      <td>10346242</td>\n      <td>5166538</td>\n      <td>2465012</td>\n      <td>9151238</td>\n      <td>1</td>\n    </tr>\n    <tr>\n      <th>GAME ARCADE</th>\n      <td>5050</td>\n      <td>185167028</td>\n      <td>429.49</td>\n      <td>2324.2</td>\n      <td>309.1</td>\n      <td>9.48</td>\n      <td>133731783</td>\n      <td>19444747</td>\n      <td>10465943</td>\n      <td>4933625</td>\n      <td>16590675</td>\n      <td>2</td>\n    </tr>\n    <tr>\n      <th>GAME BOARD</th>\n      <td>5050</td>\n      <td>47085352</td>\n      <td>434.71</td>\n      <td>15732.8</td>\n      <td>450.1</td>\n      <td>0.00</td>\n      <td>33858033</td>\n      <td>5161875</td>\n      <td>2318092</td>\n      <td>1089300</td>\n      <td>4657803</td>\n      <td>0</td>\n    </tr>\n    <tr>\n      <th>GAME CARD</th>\n      <td>6190</td>\n      <td>39256812</td>\n      <td>539.37</td>\n      <td>247.5</td>\n      <td>349.4</td>\n      <td>2.99</td>\n      <td>27947247</td>\n      <td>5493676</td>\n      <td>1977608</td>\n      <td>828199</td>\n      <td>3009779</td>\n      <td>1</td>\n    </tr>\n    <tr>\n      <th>GAME CASINO</th>\n      <td>5050</td>\n      <td>37119268</td>\n      <td>443.78</td>\n      <td>222.6</td>\n      <td>335.2</td>\n      <td>0.00</td>\n      <td>27483010</td>\n      <td>4135281</td>\n      <td>1864141</td>\n      <td>776339</td>\n      <td>2860250</td>\n      <td>0</td>\n    </tr>\n    <tr>\n      <th>GAME CASUAL</th>\n      <td>5223</td>\n      <td>254644844</td>\n      <td>442.19</td>\n      <td>2016.7</td>\n      <td>214.1</td>\n      <td>0.00</td>\n      <td>184839112</td>\n      <td>29302683</td>\n      <td>13746256</td>\n      <td>6098993</td>\n      <td>20657546</td>\n      <td>0</td>\n    </tr>\n    <tr>\n      <th>GAME EDUCATIONAL</th>\n      <td>5050</td>\n      <td>14243583</td>\n      <td>425.36</td>\n      <td>9956.9</td>\n      <td>1363.6</td>\n      <td>0.00</td>\n      <td>10100353</td>\n      <td>1342086</td>\n      <td>786736</td>\n      <td>472206</td>\n      <td>1541962</td>\n      <td>0</td>\n    </tr>\n    <tr>\n      <th>GAME MUSIC</th>\n      <td>5050</td>\n      <td>22451222</td>\n      <td>418.03</td>\n      <td>247.7</td>\n      <td>700.6</td>\n      <td>1.99</td>\n      <td>15479053</td>\n      <td>2300539</td>\n      <td>1378286</td>\n      <td>731653</td>\n      <td>2561432</td>\n      <td>1</td>\n    </tr>\n    <tr>\n      <th>GAME PUZZLE</th>\n      <td>5050</td>\n      <td>98392699</td>\n      <td>439.42</td>\n      <td>223.2</td>\n      <td>215.3</td>\n      <td>0.00</td>\n      <td>70822310</td>\n      <td>12818911</td>\n      <td>5837564</td>\n      <td>2354690</td>\n      <td>6558971</td>\n      <td>0</td>\n    </tr>\n    <tr>\n      <th>GAME RACING</th>\n      <td>5050</td>\n      <td>136352025</td>\n      <td>431.20</td>\n      <td>5809.2</td>\n      <td>196.1</td>\n      <td>0.00</td>\n      <td>98066339</td>\n      <td>14023035</td>\n      <td>7515378</td>\n      <td>3709933</td>\n      <td>13037082</td>\n      <td>0</td>\n    </tr>\n    <tr>\n      <th>GAME ROLE PLAYING</th>\n      <td>5050</td>\n      <td>74466720</td>\n      <td>427.60</td>\n      <td>118.6</td>\n      <td>284.1</td>\n      <td>0.00</td>\n      <td>51874360</td>\n      <td>9205558</td>\n      <td>4182886</td>\n      <td>1936645</td>\n      <td>7267021</td>\n      <td>0</td>\n    </tr>\n    <tr>\n      <th>GAME SIMULATION</th>\n      <td>5050</td>\n      <td>107002045</td>\n      <td>431.82</td>\n      <td>695.4</td>\n      <td>341.0</td>\n      <td>0.00</td>\n      <td>75451028</td>\n      <td>13430478</td>\n      <td>6451284</td>\n      <td>2881282</td>\n      <td>8787716</td>\n      <td>0</td>\n    </tr>\n    <tr>\n      <th>GAME SPORTS</th>\n      <td>5050</td>\n      <td>125701632</td>\n      <td>426.11</td>\n      <td>130.6</td>\n      <td>318.7</td>\n      <td>0.00</td>\n      <td>87597852</td>\n      <td>15481927</td>\n      <td>7488721</td>\n      <td>3289422</td>\n      <td>11843463</td>\n      <td>0</td>\n    </tr>\n    <tr>\n      <th>GAME STRATEGY</th>\n      <td>5050</td>\n      <td>183471744</td>\n      <td>426.50</td>\n      <td>2682.0</td>\n      <td>219.4</td>\n      <td>0.00</td>\n      <td>131533579</td>\n      <td>21079146</td>\n      <td>9677464</td>\n      <td>4167469</td>\n      <td>17013829</td>\n      <td>0</td>\n    </tr>\n    <tr>\n      <th>GAME TRIVIA</th>\n      <td>5050</td>\n      <td>29860438</td>\n      <td>424.57</td>\n      <td>4927.9</td>\n      <td>644.3</td>\n      <td>1.99</td>\n      <td>20826660</td>\n      <td>4334128</td>\n      <td>1770915</td>\n      <td>723956</td>\n      <td>2204523</td>\n      <td>1</td>\n    </tr>\n    <tr>\n      <th>GAME WORD</th>\n      <td>5210</td>\n      <td>44481162</td>\n      <td>471.02</td>\n      <td>140503.5</td>\n      <td>238.4</td>\n      <td>0.00</td>\n      <td>31997659</td>\n      <td>6632338</td>\n      <td>2551660</td>\n      <td>936525</td>\n      <td>2362717</td>\n      <td>0</td>\n    </tr>\n  </tbody>\n</table>\n</div>"
     },
     "metadata": {},
     "execution_count": 8
    }
   ],
   "source": [
    "juegos.groupby('category').sum()"
   ]
  },
  {
   "cell_type": "code",
   "execution_count": null,
   "metadata": {},
   "outputs": [],
   "source": []
  }
 ]
}