{
 "metadata": {
  "language_info": {
   "codemirror_mode": {
    "name": "ipython",
    "version": 3
   },
   "file_extension": ".py",
   "mimetype": "text/x-python",
   "name": "python",
   "nbconvert_exporter": "python",
   "pygments_lexer": "ipython3",
   "version": "3.7.4"
  },
  "orig_nbformat": 2,
  "kernelspec": {
   "name": "python374jvsc74a57bd0a0947237fadc8b5561fed326db280cc5ec46a670c87cfb3a0489cf95ff262303",
   "display_name": "Python 3.7.4 64-bit"
  },
  "metadata": {
   "interpreter": {
    "hash": "a0947237fadc8b5561fed326db280cc5ec46a670c87cfb3a0489cf95ff262303"
   }
  }
 },
 "nbformat": 4,
 "nbformat_minor": 2,
 "cells": [
  {
   "cell_type": "code",
   "execution_count": 4,
   "metadata": {},
   "outputs": [],
   "source": [
    "import pandas as pd\n",
    "import dtale"
   ]
  },
  {
   "cell_type": "code",
   "execution_count": 15,
   "metadata": {},
   "outputs": [
    {
     "output_type": "display_data",
     "data": {
      "text/plain": "<IPython.lib.display.IFrame at 0x20065ec56c8>",
      "text/html": "\n        <iframe\n            width=\"100%\"\n            height=\"475\"\n            src=\"http://Leo-CARC:40000/dtale/iframe/3\"\n            frameborder=\"0\"\n            allowfullscreen\n        ></iframe>\n        "
     },
     "metadata": {}
    },
    {
     "output_type": "execute_result",
     "data": {
      "text/plain": []
     },
     "metadata": {},
     "execution_count": 15
    }
   ],
   "source": [
    "accidentes = pd.read_csv('2016_accidents.csv')\n",
    "dtale.show(accidentes)"
   ]
  },
  {
   "cell_type": "code",
   "execution_count": 17,
   "metadata": {},
   "outputs": [
    {
     "output_type": "execute_result",
     "data": {
      "text/plain": [
       "                          Codi districte  Codi barri  Codi carrer    NK Any  \\\n",
       "Descripció victimització                                                      \n",
       "Ferit greu                           885        4899     44783991    385056   \n",
       "Ferit lleu                         56844      317573   2857920977  23895648   \n",
       "Mort                                 125         655      5614720     56448   \n",
       "\n",
       "                          Mes de any  Dia de mes  Hora de dia          Long  \\\n",
       "Descripció victimització                                                      \n",
       "Ferit greu                      1214        3232         2631   2534.522695   \n",
       "Ferit lleu                     78012      185216       165223  45013.536695   \n",
       "Mort                             189         472          332     60.305997   \n",
       "\n",
       "                                    Lat  \n",
       "Descripció victimització                 \n",
       "Ferit greu                  7907.123442  \n",
       "Ferit lleu                697484.523694  \n",
       "Mort                        1159.155728  "
      ],
      "text/html": "<div>\n<style scoped>\n    .dataframe tbody tr th:only-of-type {\n        vertical-align: middle;\n    }\n\n    .dataframe tbody tr th {\n        vertical-align: top;\n    }\n\n    .dataframe thead th {\n        text-align: right;\n    }\n</style>\n<table border=\"1\" class=\"dataframe\">\n  <thead>\n    <tr style=\"text-align: right;\">\n      <th></th>\n      <th>Codi districte</th>\n      <th>Codi barri</th>\n      <th>Codi carrer</th>\n      <th>NK Any</th>\n      <th>Mes de any</th>\n      <th>Dia de mes</th>\n      <th>Hora de dia</th>\n      <th>Long</th>\n      <th>Lat</th>\n    </tr>\n    <tr>\n      <th>Descripció victimització</th>\n      <th></th>\n      <th></th>\n      <th></th>\n      <th></th>\n      <th></th>\n      <th></th>\n      <th></th>\n      <th></th>\n      <th></th>\n    </tr>\n  </thead>\n  <tbody>\n    <tr>\n      <th>Ferit greu</th>\n      <td>885</td>\n      <td>4899</td>\n      <td>44783991</td>\n      <td>385056</td>\n      <td>1214</td>\n      <td>3232</td>\n      <td>2631</td>\n      <td>2534.522695</td>\n      <td>7907.123442</td>\n    </tr>\n    <tr>\n      <th>Ferit lleu</th>\n      <td>56844</td>\n      <td>317573</td>\n      <td>2857920977</td>\n      <td>23895648</td>\n      <td>78012</td>\n      <td>185216</td>\n      <td>165223</td>\n      <td>45013.536695</td>\n      <td>697484.523694</td>\n    </tr>\n    <tr>\n      <th>Mort</th>\n      <td>125</td>\n      <td>655</td>\n      <td>5614720</td>\n      <td>56448</td>\n      <td>189</td>\n      <td>472</td>\n      <td>332</td>\n      <td>60.305997</td>\n      <td>1159.155728</td>\n    </tr>\n  </tbody>\n</table>\n</div>"
     },
     "metadata": {},
     "execution_count": 17
    }
   ],
   "source": [
    "accidentes.groupby('Descripció victimització').sum()"
   ]
  },
  {
   "cell_type": "code",
   "execution_count": null,
   "metadata": {},
   "outputs": [],
   "source": []
  }
 ]
}