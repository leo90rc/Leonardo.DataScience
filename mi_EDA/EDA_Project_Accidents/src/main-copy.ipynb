{
 "metadata": {
  "language_info": {
   "codemirror_mode": {
    "name": "ipython",
    "version": 3
   },
   "file_extension": ".py",
   "mimetype": "text/x-python",
   "name": "python",
   "nbconvert_exporter": "python",
   "pygments_lexer": "ipython3",
   "version": "3.7.4"
  },
  "orig_nbformat": 2,
  "kernelspec": {
   "name": "python374jvsc74a57bd0a0947237fadc8b5561fed326db280cc5ec46a670c87cfb3a0489cf95ff262303",
   "display_name": "Python 3.7.4 64-bit"
  },
  "metadata": {
   "interpreter": {
    "hash": "a0947237fadc8b5561fed326db280cc5ec46a670c87cfb3a0489cf95ff262303"
   }
  }
 },
 "nbformat": 4,
 "nbformat_minor": 2,
 "cells": [
  {
   "source": [
    "## This file must onlycontain imports, pandas, matplotlib, requests,... and calls to your src/utils/* modules."
   ],
   "cell_type": "markdown",
   "metadata": {}
  },
  {
   "cell_type": "code",
   "execution_count": 1,
   "metadata": {},
   "outputs": [],
   "source": [
    "import pandas as pd\n",
    "import os\n",
    "import sys\n",
    "import utils.folders_tb as fo\n",
    "import utils.mining_data_tb as mi"
   ]
  },
  {
   "cell_type": "code",
   "execution_count": null,
   "metadata": {},
   "outputs": [],
   "source": []
  },
  {
   "cell_type": "code",
   "execution_count": null,
   "metadata": {},
   "outputs": [],
   "source": []
  },
  {
   "cell_type": "code",
   "execution_count": null,
   "metadata": {},
   "outputs": [],
   "source": [
    "lista_df_gu = fo.enlistar_dataframes('_ACCIDENTS_GU_BCN_')"
   ]
  },
  {
   "cell_type": "code",
   "execution_count": null,
   "metadata": {},
   "outputs": [],
   "source": [
    "mi.info_df_enlistado(lista_df_gu)"
   ]
  },
  {
   "cell_type": "code",
   "execution_count": null,
   "metadata": {},
   "outputs": [],
   "source": [
    "mi.comparar_columnas(lista_df_gu)"
   ]
  },
  {
   "cell_type": "code",
   "execution_count": null,
   "metadata": {},
   "outputs": [],
   "source": [
    "mi.mostrar_columnas(lista_df_gu)"
   ]
  },
  {
   "cell_type": "code",
   "execution_count": null,
   "metadata": {},
   "outputs": [],
   "source": [
    "mi.nombre_cada_columna(lista_df_gu)"
   ]
  },
  {
   "source": [
    "Como se puede observar, no todos los dataframes contenidos en la lista poseen el mismo número de columnas."
   ],
   "cell_type": "markdown",
   "metadata": {}
  },
  {
   "cell_type": "code",
   "execution_count": null,
   "metadata": {},
   "outputs": [],
   "source": [
    "mi.ver_ultimas_columnas(lista_df_gu)"
   ]
  },
  {
   "source": [
    "Vemos que las últimas 2 columnas de los dataframes que contienen 27, hacen referencia a la latitud y longitud. De momento, podemos prescindir de ellas, por lo que serán eliminadas."
   ],
   "cell_type": "markdown",
   "metadata": {}
  },
  {
   "cell_type": "code",
   "execution_count": null,
   "metadata": {},
   "outputs": [],
   "source": [
    "mi.eliminar_columnas_finales(lista_df_gu)"
   ]
  },
  {
   "source": [
    "Podemos apreciar además, que las columnas que hacen referencia a las coordenadas, no sólo tienen nombres diferentes, sino que no se corresponden en posición, es decir, en algunas figura en primer lugar la coordeneda UTM Y o X y viceversa. Se procede a acomodar las columnas para luego unificar nombres de las mismas."
   ],
   "cell_type": "markdown",
   "metadata": {}
  },
  {
   "cell_type": "code",
   "execution_count": null,
   "metadata": {},
   "outputs": [],
   "source": [
    "mi.ordenar_columnas_finales(lista_df_gu)"
   ]
  },
  {
   "cell_type": "code",
   "execution_count": null,
   "metadata": {},
   "outputs": [],
   "source": [
    "mi.nombre_cada_columna(lista_df_gu)"
   ]
  },
  {
   "source": [
    "Una vez organizadas las columnas, se homogenizan los nombres de las mismas para unir los dataframes en uno solo."
   ],
   "cell_type": "markdown",
   "metadata": {}
  },
  {
   "cell_type": "code",
   "execution_count": null,
   "metadata": {},
   "outputs": [],
   "source": [
    "nombres_columnas_gu = ['NUMERO EXPEDIENTE', 'CODIGO DISTRITO', 'DISTRITO', 'CODIGO BARRIO', 'BARRIO', 'CODIGO CALLE', 'CALLE', 'NUMERO POSTAL', 'DIA SEMANA', 'DIA SEMANA (NUMERICO)', 'TIPO DE DIA', 'ANO', 'MES (NUMERICO)', 'MES', 'DIA', 'HORA', 'TURNO', 'CAUSA', 'FALLECIDOS', 'LESIONADOS LEVE', 'LESIONADOS GRAVE', 'CANTIDAD VICTIMAS', 'CANTIDAD VEHICULOS', 'COORDENADA UTM X', 'COORDENADA UTM Y']"
   ]
  },
  {
   "cell_type": "code",
   "execution_count": null,
   "metadata": {},
   "outputs": [],
   "source": [
    "mi.renombrar_columnas(lista_df_gu, nombres_columnas_gu)"
   ]
  },
  {
   "cell_type": "code",
   "execution_count": null,
   "metadata": {},
   "outputs": [],
   "source": [
    "mi.nombre_cada_columna(lista_df_gu)"
   ]
  },
  {
   "source": [
    "Ya todos los dataframes de la lista tienen el mismo nombre para cada columna. Se procede a unirlos en un único dataframe."
   ],
   "cell_type": "markdown",
   "metadata": {}
  },
  {
   "cell_type": "code",
   "execution_count": null,
   "metadata": {},
   "outputs": [],
   "source": [
    "df_accidentes_gu = mi.unificar_lista_dataframe(lista_df_gu)"
   ]
  },
  {
   "cell_type": "code",
   "execution_count": null,
   "metadata": {},
   "outputs": [],
   "source": [
    "df_accidentes_gu"
   ]
  },
  {
   "source": [
    "### Ahora, nuestra variable **``df_accidentes_gu``** representa todos los accidentes registrados por la Guardia Urbana de la Ciudad de Barcelona, entre los años 2011 y 2020.\n",
    "\n",
    "---\n",
    "\n",
    "De igual manera, procedemos a trabajar sobre los datasets de **causas** de accidentes."
   ],
   "cell_type": "markdown",
   "metadata": {}
  },
  {
   "source": [
    "# ACA ARRANCA CAUSASSSSSSSSSSSSSSSSSSSSSSSSSSSSSSSSSSSSSSSSSSSSSSSSSSSSSSSSSSSSSSSSSSSSSSSSSSSSSSSSSSSS "
   ],
   "cell_type": "markdown",
   "metadata": {}
  },
  {
   "cell_type": "code",
   "execution_count": null,
   "metadata": {},
   "outputs": [],
   "source": [
    "lista_df_causas = fo.enlistar_dataframes('_ACCIDENTS_CAUSES_GU_BCN_')"
   ]
  },
  {
   "cell_type": "code",
   "execution_count": null,
   "metadata": {},
   "outputs": [],
   "source": [
    "mi.comparar_columnas(lista_df_causas)"
   ]
  },
  {
   "cell_type": "code",
   "execution_count": null,
   "metadata": {},
   "outputs": [],
   "source": [
    "mi.mostrar_columnas(lista_df_causas)"
   ]
  },
  {
   "source": [
    "Haciendo una comparación entre los dataframes de ``lista_df_causas`` y los de ``lista_df_gu``, se observa que tienen en común la mayoría de sus columnas.\n",
    "\n",
    "Se pondrán a prueba los dataframes basándonos en su **número de expediente**, la cual, en la previa, se estima que podría ser la clave primaria."
   ],
   "cell_type": "markdown",
   "metadata": {}
  },
  {
   "cell_type": "code",
   "execution_count": null,
   "metadata": {},
   "outputs": [],
   "source": [
    "lista_df_gu[0].tail(3)"
   ]
  },
  {
   "cell_type": "code",
   "execution_count": null,
   "metadata": {},
   "outputs": [],
   "source": [
    "mi.datos_por_numero_expediente(lista_df_gu, 0, '2011S002900', 'NUMERO EXPEDIENTE').unstack()"
   ]
  },
  {
   "cell_type": "code",
   "execution_count": null,
   "metadata": {},
   "outputs": [],
   "source": [
    "mi.datos_por_numero_expediente(lista_df_causas, 0,'2011S002900',\"Número d expedient\").unstack()"
   ]
  },
  {
   "source": [
    "Se puede ver que los datos coinciden cuando se los evalúa en función del número de expediente, para el dataframe en posición 0.\n",
    "\n",
    "Haciendo la misma evaluación para dataframes en distintas posiciones:"
   ],
   "cell_type": "markdown",
   "metadata": {}
  },
  {
   "cell_type": "code",
   "execution_count": null,
   "metadata": {},
   "outputs": [],
   "source": [
    "lista_df_gu[8].head(2)"
   ]
  },
  {
   "source": [
    "mi.datos_por_numero_expediente(lista_df_gu, 8, '2019S000001', 'NUMERO EXPEDIENTE').unstack()"
   ],
   "cell_type": "code",
   "metadata": {},
   "execution_count": null,
   "outputs": []
  },
  {
   "source": [
    "Aquí se aprecia que la búsqueda para este nuevo número de expediente no es correcta. Indagando en el motivo entontramos lo siguiente:"
   ],
   "cell_type": "markdown",
   "metadata": {}
  },
  {
   "cell_type": "code",
   "execution_count": null,
   "metadata": {},
   "outputs": [],
   "source": [
    "lista_df_gu[8].iloc[0,0]"
   ]
  },
  {
   "cell_type": "code",
   "execution_count": null,
   "metadata": {},
   "outputs": [],
   "source": [
    "mi.datos_por_numero_expediente(lista_df_gu, 8, '2019S000001    ', 'NUMERO EXPEDIENTE').unstack()"
   ]
  },
  {
   "source": [
    "Comparándolo con el mismo número de expediente en otra lista de dataframes:"
   ],
   "cell_type": "markdown",
   "metadata": {}
  },
  {
   "cell_type": "code",
   "execution_count": null,
   "metadata": {},
   "outputs": [],
   "source": [
    "mi.datos_por_numero_expediente(lista_df_causas, 8, '2019S000001    ', 'Numero_expedient').unstack()"
   ]
  },
  {
   "source": [
    "La correlación por número de expediente continúa siendo correcta, a pesar que en éste caso, el valor contenga espacios en blanco al final del string. Se solucionará éste inconveniente más adelante, cuando se disponga del dataframe completo con todos los datos de los correspondientes datasets.\n",
    "\n",
    "---\n",
    "\n",
    "De momento, se tomará la decisión de mantener las columnas de la lista_df_causas que aporten valor a los datos, sin estar repetidas (a excepción de la columna de números de expediente). De esta manera, permaneceran en los dataframes las columnas siguientes relacionadas con los siguientes datos:\n",
    "- Número de expediente\n",
    "- Descrición de causa"
   ],
   "cell_type": "markdown",
   "metadata": {}
  },
  {
   "cell_type": "code",
   "execution_count": null,
   "metadata": {},
   "outputs": [],
   "source": [
    "df_accidentes_causas = mi.crear_df_causas(lista_df_causas)"
   ]
  },
  {
   "cell_type": "code",
   "execution_count": null,
   "metadata": {},
   "outputs": [],
   "source": [
    "df_accidentes_causas"
   ]
  },
  {
   "source": [
    "### Ahora, nuestra variable **``df_accidentes_causas``** representa la descripción de los causales de todos los accidentes registrados por la Guardia Urbana de la Ciudad de Barcelona, entre los años 2011 y 2020, con su correspondiente número de expediente.\n",
    "\n",
    "---\n",
    "\n",
    "De igual manera, procedemos a trabajar sobre los datasets de **personas** implicadas en accidentes."
   ],
   "cell_type": "markdown",
   "metadata": {}
  },
  {
   "source": [
    "# ACA ARRANCA PERSONASSSSSSSSSSSSSSSSSSSSSSSSSSSSSSSSSSSSSSSSSSSSSS"
   ],
   "cell_type": "markdown",
   "metadata": {}
  },
  {
   "cell_type": "code",
   "execution_count": null,
   "metadata": {},
   "outputs": [],
   "source": [
    "lista_df_personas = fo.enlistar_dataframes('_ACCIDENTS_PERSONES_GU_BCN_')"
   ]
  },
  {
   "cell_type": "code",
   "execution_count": null,
   "metadata": {},
   "outputs": [],
   "source": [
    "mi.comparar_columnas(lista_df_personas)"
   ]
  },
  {
   "cell_type": "code",
   "execution_count": null,
   "metadata": {},
   "outputs": [],
   "source": [
    "mi.mostrar_columnas(lista_df_personas)"
   ]
  },
  {
   "source": [
    "Haciendo nuevamente la comparación, ahora entre los dataframes de ``lista_df_personas`` y los de ``lista_df_gu``, se observa que, efectivamente, tienen en común la mayoría de sus columnas.\n",
    "\n",
    "Se vuelve a realizar la prueba sobre los dataframes basándonos en su **número de expediente** (clave primaria)."
   ],
   "cell_type": "markdown",
   "metadata": {}
  },
  {
   "cell_type": "code",
   "execution_count": null,
   "metadata": {},
   "outputs": [],
   "source": [
    "lista_df_gu[3].head(3)"
   ]
  },
  {
   "cell_type": "code",
   "execution_count": null,
   "metadata": {},
   "outputs": [],
   "source": [
    "mi.datos_por_numero_expediente(lista_df_gu, 3, '2014S003380', 'NUMERO EXPEDIENTE').unstack()"
   ]
  },
  {
   "cell_type": "code",
   "execution_count": null,
   "metadata": {},
   "outputs": [],
   "source": [
    "mi.datos_por_numero_expediente(lista_df_personas, 3, '2014S003380', 'Número d\\'expedient').unstack()"
   ]
  },
  {
   "source": [
    "Efectivamente, como era de esperar, están relacionados por su clave primaria.\n",
    "\n",
    "En este caso, se tomarán como columnas con datos relevantes para nuestro estudio las siguientes:\n",
    "- Número de expediente\n",
    "- Tipo de persona\n",
    "- Edad\n",
    "- Sexo"
   ],
   "cell_type": "markdown",
   "metadata": {}
  },
  {
   "cell_type": "code",
   "execution_count": null,
   "metadata": {},
   "outputs": [],
   "source": [
    "df_accidentes_personas = mi.crear_df_personas(lista_df_personas)"
   ]
  },
  {
   "cell_type": "code",
   "execution_count": null,
   "metadata": {},
   "outputs": [],
   "source": [
    "df_accidentes_personas"
   ]
  },
  {
   "source": [
    "### Ahora, nuestra variable **``df_accidentes_personas``** representa la descripción de las personas involucradas en los accidentes registrados por la Guardia Urbana de la Ciudad de Barcelona, entre los años 2011 y 2020, con su correspondiente número de expediente.\n",
    "\n",
    "---\n",
    "\n",
    "De igual manera, procedemos a trabajar sobre los datasets de **vehículos** implicados en accidentes."
   ],
   "cell_type": "markdown",
   "metadata": {}
  },
  {
   "source": [
    "# ACA ARRANCA VEHICULOSSSSSSSSSSSSSSSSSSSSSSSSSSSSSSSSSSSSSSSSSSSSSSS"
   ],
   "cell_type": "markdown",
   "metadata": {}
  },
  {
   "cell_type": "code",
   "execution_count": null,
   "metadata": {},
   "outputs": [],
   "source": [
    "lista_df_vehiculos = fo.enlistar_dataframes('_accidents_vehicles_gu_bcn_')"
   ]
  },
  {
   "cell_type": "code",
   "execution_count": null,
   "metadata": {},
   "outputs": [],
   "source": [
    "mi.comparar_columnas(lista_df_vehiculos)"
   ]
  },
  {
   "cell_type": "code",
   "execution_count": null,
   "metadata": {},
   "outputs": [],
   "source": [
    "mi.mostrar_columnas(lista_df_vehiculos)"
   ]
  },
  {
   "source": [
    "Se comparan los dataframes de ``lista_df_vehiculos`` y los de ``lista_df_gu``. Nuevamente cuentan con muchas columnas en común que no será necesario duplicar.\n",
    "\n",
    "Verificamos el cumplimiento de nuestra clave primaria \"número de expediente\"."
   ],
   "cell_type": "markdown",
   "metadata": {}
  },
  {
   "cell_type": "code",
   "execution_count": null,
   "metadata": {},
   "outputs": [],
   "source": [
    "lista_df_gu[4].head(3)"
   ]
  },
  {
   "cell_type": "code",
   "execution_count": null,
   "metadata": {},
   "outputs": [],
   "source": [
    "mi.datos_por_numero_expediente(lista_df_gu, 4, '2015S007685', 'NUMERO EXPEDIENTE').unstack()"
   ]
  },
  {
   "cell_type": "code",
   "execution_count": null,
   "metadata": {},
   "outputs": [],
   "source": [
    "mi.datos_por_numero_expediente(lista_df_vehiculos, 4, '2015S007685', 'Codi d\\'expedient').unstack()"
   ]
  },
  {
   "source": [
    "Nuevamente se cumple la relación. Se definen ahora las columnas de interés para el estudio:\n",
    "- Número de expediente\n",
    "- Tipo de vehículo\n",
    "- Modelo de vehículo\n",
    "- Marca de vehículo\n",
    "- Color de vehículo\n",
    "- Tipo de carnet\n",
    "- Antigüedad de carnet\n",
    "- Causa del peatón"
   ],
   "cell_type": "markdown",
   "metadata": {}
  },
  {
   "cell_type": "code",
   "execution_count": null,
   "metadata": {},
   "outputs": [],
   "source": [
    "df_accidentes_vehiculos = mi.crear_df_vehiculos(lista_df_vehiculos)"
   ]
  },
  {
   "cell_type": "code",
   "execution_count": null,
   "metadata": {},
   "outputs": [],
   "source": [
    "df_accidentes_vehiculos"
   ]
  },
  {
   "source": [
    "### La variable **``df_accidentes_vehiculos``** representa la descripción de los distintos vehículos involucradas en los accidentes registrados por la Guardia Urbana de la Ciudad de Barcelona, entre los años 2011 y 2020, con su correspondiente número de expediente.\n",
    "\n",
    "---\n",
    "\n",
    "Por último, se procede a trabajar sobre los datasets de **tipos** de accidentes."
   ],
   "cell_type": "markdown",
   "metadata": {}
  },
  {
   "source": [
    "# ACAAAAAAAAAAAAAAAAAAAAAAAAAAAAAAAAAAAAAAAAAAAAAAAAAAA ARRAAAAAAAAAAAAAAAAAAAAAAAAAAAAAAAAAAAAAAAAAAAAAAANCA TIPOSSSSSSSSSSSSSSSSSSSSSSSSSSSSSSSSSSSSSSSSSSSSSSSSSSSS"
   ],
   "cell_type": "markdown",
   "metadata": {}
  },
  {
   "cell_type": "code",
   "execution_count": null,
   "metadata": {},
   "outputs": [],
   "source": [
    "lista_df_tipos = fo.enlistar_dataframes('_ACCIDENTS_TIPUS_GU_BCN_')"
   ]
  },
  {
   "cell_type": "code",
   "execution_count": null,
   "metadata": {},
   "outputs": [],
   "source": [
    "mi.comparar_columnas(lista_df_tipos)"
   ]
  },
  {
   "cell_type": "code",
   "execution_count": null,
   "metadata": {},
   "outputs": [],
   "source": [
    "mi.mostrar_columnas(lista_df_tipos)"
   ]
  },
  {
   "source": [
    "Se comparan los dataframes de ``lista_df_tipos`` y los de ``lista_df_gu``, los cuales poseen muchas columnas en común.\n",
    "\n",
    "Verificamos nuevamente el cumplimiento de nuestra clave primaria \"número de expediente\"."
   ],
   "cell_type": "markdown",
   "metadata": {}
  },
  {
   "cell_type": "code",
   "execution_count": null,
   "metadata": {},
   "outputs": [],
   "source": [
    "lista_df_gu[5].head(3)"
   ]
  },
  {
   "cell_type": "code",
   "execution_count": null,
   "metadata": {},
   "outputs": [],
   "source": [
    "mi.datos_por_numero_expediente(lista_df_gu, 5, '2016S001896', 'NUMERO EXPEDIENTE').unstack()"
   ]
  },
  {
   "cell_type": "code",
   "execution_count": null,
   "metadata": {},
   "outputs": [],
   "source": [
    "mi.datos_por_numero_expediente(lista_df_tipos, 5, '2016S001896', 'Numero_expedient').unstack()"
   ]
  },
  {
   "source": [
    "Se presenta nuevamente el inconveniente de encontrar caracteres en blanco en el string de número de expediente. De momento se realiza la comprobación de la correlatividad y más tarde se corregirá el problema."
   ],
   "cell_type": "markdown",
   "metadata": {}
  },
  {
   "cell_type": "code",
   "execution_count": null,
   "metadata": {},
   "outputs": [],
   "source": [
    "lista_df_gu[5].iloc[0,0]"
   ]
  },
  {
   "cell_type": "code",
   "execution_count": null,
   "metadata": {},
   "outputs": [],
   "source": [
    "mi.datos_por_numero_expediente(lista_df_gu, 5, '2016S001896    ', 'NUMERO EXPEDIENTE').unstack()"
   ]
  },
  {
   "cell_type": "code",
   "execution_count": null,
   "metadata": {},
   "outputs": [],
   "source": [
    "mi.datos_por_numero_expediente(lista_df_tipos, 5, '2016S001896    ', 'Numero_expedient').unstack()"
   ]
  },
  {
   "source": [
    "Una vez verificada la relación por número de expediente, se seleccionan las columnas de interés para los datasets de \"tipo de accidente\", evitando duplicados. La selección será:\n",
    "- Número de expediente\n",
    "- Tipo de accidente"
   ],
   "cell_type": "markdown",
   "metadata": {}
  },
  {
   "cell_type": "code",
   "execution_count": null,
   "metadata": {},
   "outputs": [],
   "source": [
    "df_accidentes_tipos = mi.crear_df_tipos(lista_df_tipos)"
   ]
  },
  {
   "cell_type": "code",
   "execution_count": null,
   "metadata": {},
   "outputs": [],
   "source": [
    "df_accidentes_tipos"
   ]
  },
  {
   "source": [
    "---\n",
    "\n",
    "Una vez que se cuenta con todos los dataframes acomodados, son guardados en archivos .csv para su rápida utilización."
   ],
   "cell_type": "markdown",
   "metadata": {}
  },
  {
   "cell_type": "code",
   "execution_count": null,
   "metadata": {},
   "outputs": [],
   "source": [
    "lista_df_post_wrangling = [df_accidentes_gu, df_accidentes_causas, df_accidentes_personas, df_accidentes_vehiculos, df_accidentes_tipos]"
   ]
  },
  {
   "cell_type": "code",
   "execution_count": null,
   "metadata": {},
   "outputs": [],
   "source": [
    "lista_nombres_csv = ['accidentes_gu.csv', 'accidentes_causas.csv', 'accidentes_personas.csv', 'accidentes_vehiculos.csv', 'accidentes_tipos.csv']"
   ]
  },
  {
   "cell_type": "code",
   "execution_count": null,
   "metadata": {},
   "outputs": [],
   "source": [
    "fo.guardar_csv_post_wrangling(lista_df_post_wrangling, lista_nombres_csv)"
   ]
  },
  {
   "source": [
    "De esta manera, contamos con 5 archivos .csv (uno para cada tipo de dataset), ubicados en la carpeta /data/DATA_POST_WRANGLING, listos para trabajar con ellos.\n",
    "\n",
    "Se procede a unificar todos los dataframes. Para esto, hacemos la lectura de dichos CSV's para poder trabajar con ellos inmediatamente, sin tener que realizar la ejecución de la totalidad del código, la cual demora un tiempo razonable en finalizar.\n",
    "\n",
    "Para esto, se llama a la función ``leer_csv_post_wrangling()``, y se le pasa por parámetro los nombres deseados para cada dataframe."
   ],
   "cell_type": "markdown",
   "metadata": {}
  },
  {
   "cell_type": "code",
   "execution_count": 2,
   "metadata": {},
   "outputs": [
    {
     "output_type": "stream",
     "name": "stderr",
     "text": [
      "C:\\Users\\LeoFr\\AppData\\Roaming\\Python\\Python37\\site-packages\\IPython\\core\\interactiveshell.py:3357: DtypeWarning: Columns (4) have mixed types.Specify dtype option on import or set low_memory=False.\n  if (await self.run_code(code, result,  async_=asy)):\n"
     ]
    }
   ],
   "source": [
    "df_gu, df_causas, df_personas, df_vehiculos, df_tipos = mi.leer_csv_post_wrangling()"
   ]
  },
  {
   "source": [
    "Ahora se puede proceder a realizar la unión y posterior limpieza de los dataframes."
   ],
   "cell_type": "markdown",
   "metadata": {}
  },
  {
   "cell_type": "code",
   "execution_count": 6,
   "metadata": {},
   "outputs": [
    {
     "output_type": "stream",
     "name": "stdout",
     "text": [
      "GU: (85109, 26)\nCAUSAS: (94033, 3)\nPERSONAS: (117631, 5)\nVEHICULOS: (179906, 9)\nTIPOS: (99188, 3)\n"
     ]
    }
   ],
   "source": [
    "print('GU:' ,df_gu.shape)\n",
    "print('CAUSAS:' ,df_causas.shape)\n",
    "print('PERSONAS:' ,df_personas.shape)\n",
    "print('VEHICULOS:' ,df_vehiculos.shape)\n",
    "print('TIPOS:' ,df_tipos.shape)"
   ]
  },
  {
   "cell_type": "code",
   "execution_count": 77,
   "metadata": {},
   "outputs": [
    {
     "output_type": "stream",
     "name": "stdout",
     "text": [
      "Cantidad de filas duplicadas de df_gu: 0\n",
      "Cantidad de filas duplicadas de df_causas: 0\n",
      "Cantidad de filas duplicadas de df_personas: 0\n",
      "Cantidad de filas duplicadas de df_vehiculos: 0\n",
      "Cantidad de filas duplicadas de df_tipos: 0\n"
     ]
    }
   ],
   "source": [
    "print('Cantidad de filas duplicadas de df_gu:' , df_gu.duplicated().sum())\n",
    "print('Cantidad de filas duplicadas de df_causas:' , df_causas.duplicated().sum())\n",
    "print('Cantidad de filas duplicadas de df_personas:' , df_personas.duplicated().sum())\n",
    "print('Cantidad de filas duplicadas de df_vehiculos:' , df_vehiculos.duplicated().sum())\n",
    "print('Cantidad de filas duplicadas de df_tipos:' , df_tipos.duplicated().sum())"
   ]
  },
  {
   "cell_type": "code",
   "execution_count": 79,
   "metadata": {},
   "outputs": [
    {
     "output_type": "stream",
     "name": "stdout",
     "text": [
      "Cantidad de números de expediente duplicados en df_gu: 21\nCantidad de números de expediente duplicados en df_causas: 133\nCantidad de números de expediente duplicados en df_personas: 31294\nCantidad de números de expediente duplicados en df_vehiculos: 86062\nCantidad de números de expediente duplicados en df_tipos: 5283\n"
     ]
    }
   ],
   "source": [
    "print('Cantidad de números de expediente duplicados en df_gu:' , df_gu['NUMERO EXPEDIENTE'].duplicated().sum())\n",
    "print('Cantidad de números de expediente duplicados en df_causas:' , df_causas['NUMERO EXPEDIENTE'].duplicated().sum())\n",
    "print('Cantidad de números de expediente duplicados en df_personas:' , df_personas['NUMERO EXPEDIENTE'].duplicated().sum())\n",
    "print('Cantidad de números de expediente duplicados en df_vehiculos:' , df_vehiculos['NUMERO EXPEDIENTE'].duplicated().sum())\n",
    "print('Cantidad de números de expediente duplicados en df_tipos:' , df_tipos['NUMERO EXPEDIENTE'].duplicated().sum())"
   ]
  },
  {
   "cell_type": "code",
   "execution_count": 75,
   "metadata": {},
   "outputs": [
    {
     "output_type": "execute_result",
     "data": {
      "text/plain": [
       "0"
      ]
     },
     "metadata": {},
     "execution_count": 75
    }
   ],
   "source": [
    "df_personas.duplicated().sum()"
   ]
  },
  {
   "cell_type": "code",
   "execution_count": null,
   "metadata": {},
   "outputs": [],
   "source": []
  },
  {
   "cell_type": "code",
   "execution_count": null,
   "metadata": {},
   "outputs": [],
   "source": []
  },
  {
   "cell_type": "code",
   "execution_count": 19,
   "metadata": {},
   "outputs": [],
   "source": [
    "gu_causas = pd.merge(df_gu, df_causas, on = 'NUMERO EXPEDIENTE', how = 'outer')"
   ]
  },
  {
   "cell_type": "code",
   "execution_count": 21,
   "metadata": {},
   "outputs": [],
   "source": [
    "causas_gu = pd.merge(df_causas, df_gu, on = 'NUMERO EXPEDIENTE', how = 'outer')"
   ]
  },
  {
   "cell_type": "code",
   "execution_count": 93,
   "metadata": {},
   "outputs": [
    {
     "output_type": "execute_result",
     "data": {
      "text/plain": [
       "       Unnamed: 0 NUMERO EXPEDIENTE TIPO VEHICULO MODELO VEHICULO  \\\n",
       "34540       34540       2012S009089       Turismo           C 220   \n",
       "\n",
       "      MARCA VEHICULO COLOR VEHICULO TIPO CARNET ANTIGUEDAD CARNET CAUSA PEATON  \n",
       "34540       MERCEDES           Blau           B                 7       Altres  "
      ],
      "text/html": "<div>\n<style scoped>\n    .dataframe tbody tr th:only-of-type {\n        vertical-align: middle;\n    }\n\n    .dataframe tbody tr th {\n        vertical-align: top;\n    }\n\n    .dataframe thead th {\n        text-align: right;\n    }\n</style>\n<table border=\"1\" class=\"dataframe\">\n  <thead>\n    <tr style=\"text-align: right;\">\n      <th></th>\n      <th>Unnamed: 0</th>\n      <th>NUMERO EXPEDIENTE</th>\n      <th>TIPO VEHICULO</th>\n      <th>MODELO VEHICULO</th>\n      <th>MARCA VEHICULO</th>\n      <th>COLOR VEHICULO</th>\n      <th>TIPO CARNET</th>\n      <th>ANTIGUEDAD CARNET</th>\n      <th>CAUSA PEATON</th>\n    </tr>\n  </thead>\n  <tbody>\n    <tr>\n      <th>34540</th>\n      <td>34540</td>\n      <td>2012S009089</td>\n      <td>Turismo</td>\n      <td>C 220</td>\n      <td>MERCEDES</td>\n      <td>Blau</td>\n      <td>B</td>\n      <td>7</td>\n      <td>Altres</td>\n    </tr>\n  </tbody>\n</table>\n</div>"
     },
     "metadata": {},
     "execution_count": 93
    }
   ],
   "source": [
    "df_vehiculos[df_vehiculos['NUMERO EXPEDIENTE'] == '2012S009089']"
   ]
  },
  {
   "cell_type": "code",
   "execution_count": 89,
   "metadata": {},
   "outputs": [
    {
     "output_type": "execute_result",
     "data": {
      "text/plain": [
       "       Unnamed: 0 NUMERO EXPEDIENTE  CODIGO DISTRITO        DISTRITO  \\\n",
       "3               3       2012S005379             10.0      Sant Martí   \n",
       "32             32       2012S004196             10.0      Sant Martí   \n",
       "56             56       2012S004063             10.0      Sant Martí   \n",
       "65             65       2012S009089              1.0    Ciutat Vella   \n",
       "77             77       2012S001755              1.0    Ciutat Vella   \n",
       "...           ...               ...              ...             ...   \n",
       "84983       84983   2020S006153                  8.0      Nou Barris   \n",
       "85023       85023   2020S006193                  8.0      Nou Barris   \n",
       "85028       85028   2020S006198                  7.0  Horta-Guinardó   \n",
       "85060       85060   2020S006230                  3.0  Sants-Montjuïc   \n",
       "85062       85062   2020S006232                 10.0      Sant Martí   \n",
       "\n",
       "      CODIGO BARRIO                             BARRIO  CODIGO CALLE  \\\n",
       "3         101-10-64         el Camp de l'Arpa del Clot      297001.0   \n",
       "32        103-10-71            Provençals del Poblenou      701414.0   \n",
       "56        105-10-66  el Parc i la Llacuna del Poblenou      330107.0   \n",
       "65           11-1-1                           el Raval      277809.0   \n",
       "77           12-1-2                     el Barri Gòtic       34308.0   \n",
       "...             ...                                ...           ...   \n",
       "84983       83-8-52                     la Prosperitat      282650.0   \n",
       "85023       83-8-51                             Verdun      174307.0   \n",
       "85028       74-7-35                        el Guinardó      194406.0   \n",
       "85060       33-3-16                         la Bordeta      222603.0   \n",
       "85062     103-10-71            Provençals del Poblenou       44403.0   \n",
       "\n",
       "                          CALLE NUMERO POSTAL DIA SEMANA  ...  HORA  TURNO  \\\n",
       "3      Sant Antoni Maria Claret     0356 0356    Dimarts  ...  10.0   Matí   \n",
       "32                         C-31     020740000    Dilluns  ...  17.0  Tarda   \n",
       "56                       Tànger     0037 0037   Dimecres  ...  19.0  Tarda   \n",
       "65                 Reina Amàlia    0033A0033A   Diumenge  ...   3.0    Nit   \n",
       "77                       Rambla     0012 0012  Divendres  ...  17.0  Tarda   \n",
       "...                         ...           ...        ...  ...   ...    ...   \n",
       "84983            Rio de Janeiro     0131 0135   Dimecres  ...  20.0  Tarda   \n",
       "85023                     Júlia     0007 0009     Dijous  ...  18.0  Tarda   \n",
       "85028                  Maragall     0219 0219     Dijous  ...  19.0  Tarda   \n",
       "85060                   Moianès     0001 0001    Dilluns  ...  21.0  Tarda   \n",
       "85062                   Bolívia     0202 0204    Dilluns  ...  13.0   Matí   \n",
       "\n",
       "                                 CAUSA  FALLECIDOS LESIONADOS LEVE  \\\n",
       "3      Creuar per fora pas de vianants         0.0             2.0   \n",
       "32      Desobeir el senyal del semàfor         0.0             1.0   \n",
       "56     Creuar per fora pas de vianants         0.0             1.0   \n",
       "65                              Altres         0.0             1.0   \n",
       "77     Creuar per fora pas de vianants         0.0             1.0   \n",
       "...                                ...         ...             ...   \n",
       "84983   Desobeir el senyal del semàfor         0.0             1.0   \n",
       "85023  Creuar per fora pas de vianants         0.0             1.0   \n",
       "85028  Creuar per fora pas de vianants         0.0             1.0   \n",
       "85060   Desobeir el senyal del semàfor         0.0             2.0   \n",
       "85062  Creuar per fora pas de vianants         0.0             1.0   \n",
       "\n",
       "       LESIONADOS GRAVE  CANTIDAD VICTIMAS CANTIDAD VEHICULOS  \\\n",
       "3                   0.0                2.0                1.0   \n",
       "32                  0.0                1.0                1.0   \n",
       "56                  0.0                1.0                1.0   \n",
       "65                  0.0                1.0                1.0   \n",
       "77                  0.0                1.0                1.0   \n",
       "...                 ...                ...                ...   \n",
       "84983               0.0                1.0                1.0   \n",
       "85023               0.0                1.0                2.0   \n",
       "85028               0.0                1.0                1.0   \n",
       "85060               0.0                2.0                1.0   \n",
       "85062               0.0                1.0                1.0   \n",
       "\n",
       "      COORDENADA UTM X  COORDENADA UTM Y  \n",
       "3            431552,73        4585266,01  \n",
       "32           433201,57        4584975,51  \n",
       "56           432268,01        4583518,10  \n",
       "65           430392,00        4580912,74  \n",
       "77           431131,86        4581014,57  \n",
       "...                ...               ...  \n",
       "84983       4588441.18         432055.04  \n",
       "85023       4588067.48         431186.87  \n",
       "85028       4586499.91         431247.93  \n",
       "85060       4580420.26          428362.5  \n",
       "85062       4584671.95         433174.15  \n",
       "\n",
       "[52443 rows x 26 columns]"
      ],
      "text/html": "<div>\n<style scoped>\n    .dataframe tbody tr th:only-of-type {\n        vertical-align: middle;\n    }\n\n    .dataframe tbody tr th {\n        vertical-align: top;\n    }\n\n    .dataframe thead th {\n        text-align: right;\n    }\n</style>\n<table border=\"1\" class=\"dataframe\">\n  <thead>\n    <tr style=\"text-align: right;\">\n      <th></th>\n      <th>Unnamed: 0</th>\n      <th>NUMERO EXPEDIENTE</th>\n      <th>CODIGO DISTRITO</th>\n      <th>DISTRITO</th>\n      <th>CODIGO BARRIO</th>\n      <th>BARRIO</th>\n      <th>CODIGO CALLE</th>\n      <th>CALLE</th>\n      <th>NUMERO POSTAL</th>\n      <th>DIA SEMANA</th>\n      <th>...</th>\n      <th>HORA</th>\n      <th>TURNO</th>\n      <th>CAUSA</th>\n      <th>FALLECIDOS</th>\n      <th>LESIONADOS LEVE</th>\n      <th>LESIONADOS GRAVE</th>\n      <th>CANTIDAD VICTIMAS</th>\n      <th>CANTIDAD VEHICULOS</th>\n      <th>COORDENADA UTM X</th>\n      <th>COORDENADA UTM Y</th>\n    </tr>\n  </thead>\n  <tbody>\n    <tr>\n      <th>3</th>\n      <td>3</td>\n      <td>2012S005379</td>\n      <td>10.0</td>\n      <td>Sant Martí</td>\n      <td>101-10-64</td>\n      <td>el Camp de l'Arpa del Clot</td>\n      <td>297001.0</td>\n      <td>Sant Antoni Maria Claret</td>\n      <td>0356 0356</td>\n      <td>Dimarts</td>\n      <td>...</td>\n      <td>10.0</td>\n      <td>Matí</td>\n      <td>Creuar per fora pas de vianants</td>\n      <td>0.0</td>\n      <td>2.0</td>\n      <td>0.0</td>\n      <td>2.0</td>\n      <td>1.0</td>\n      <td>431552,73</td>\n      <td>4585266,01</td>\n    </tr>\n    <tr>\n      <th>32</th>\n      <td>32</td>\n      <td>2012S004196</td>\n      <td>10.0</td>\n      <td>Sant Martí</td>\n      <td>103-10-71</td>\n      <td>Provençals del Poblenou</td>\n      <td>701414.0</td>\n      <td>C-31</td>\n      <td>020740000</td>\n      <td>Dilluns</td>\n      <td>...</td>\n      <td>17.0</td>\n      <td>Tarda</td>\n      <td>Desobeir el senyal del semàfor</td>\n      <td>0.0</td>\n      <td>1.0</td>\n      <td>0.0</td>\n      <td>1.0</td>\n      <td>1.0</td>\n      <td>433201,57</td>\n      <td>4584975,51</td>\n    </tr>\n    <tr>\n      <th>56</th>\n      <td>56</td>\n      <td>2012S004063</td>\n      <td>10.0</td>\n      <td>Sant Martí</td>\n      <td>105-10-66</td>\n      <td>el Parc i la Llacuna del Poblenou</td>\n      <td>330107.0</td>\n      <td>Tànger</td>\n      <td>0037 0037</td>\n      <td>Dimecres</td>\n      <td>...</td>\n      <td>19.0</td>\n      <td>Tarda</td>\n      <td>Creuar per fora pas de vianants</td>\n      <td>0.0</td>\n      <td>1.0</td>\n      <td>0.0</td>\n      <td>1.0</td>\n      <td>1.0</td>\n      <td>432268,01</td>\n      <td>4583518,10</td>\n    </tr>\n    <tr>\n      <th>65</th>\n      <td>65</td>\n      <td>2012S009089</td>\n      <td>1.0</td>\n      <td>Ciutat Vella</td>\n      <td>11-1-1</td>\n      <td>el Raval</td>\n      <td>277809.0</td>\n      <td>Reina Amàlia</td>\n      <td>0033A0033A</td>\n      <td>Diumenge</td>\n      <td>...</td>\n      <td>3.0</td>\n      <td>Nit</td>\n      <td>Altres</td>\n      <td>0.0</td>\n      <td>1.0</td>\n      <td>0.0</td>\n      <td>1.0</td>\n      <td>1.0</td>\n      <td>430392,00</td>\n      <td>4580912,74</td>\n    </tr>\n    <tr>\n      <th>77</th>\n      <td>77</td>\n      <td>2012S001755</td>\n      <td>1.0</td>\n      <td>Ciutat Vella</td>\n      <td>12-1-2</td>\n      <td>el Barri Gòtic</td>\n      <td>34308.0</td>\n      <td>Rambla</td>\n      <td>0012 0012</td>\n      <td>Divendres</td>\n      <td>...</td>\n      <td>17.0</td>\n      <td>Tarda</td>\n      <td>Creuar per fora pas de vianants</td>\n      <td>0.0</td>\n      <td>1.0</td>\n      <td>0.0</td>\n      <td>1.0</td>\n      <td>1.0</td>\n      <td>431131,86</td>\n      <td>4581014,57</td>\n    </tr>\n    <tr>\n      <th>...</th>\n      <td>...</td>\n      <td>...</td>\n      <td>...</td>\n      <td>...</td>\n      <td>...</td>\n      <td>...</td>\n      <td>...</td>\n      <td>...</td>\n      <td>...</td>\n      <td>...</td>\n      <td>...</td>\n      <td>...</td>\n      <td>...</td>\n      <td>...</td>\n      <td>...</td>\n      <td>...</td>\n      <td>...</td>\n      <td>...</td>\n      <td>...</td>\n      <td>...</td>\n      <td>...</td>\n    </tr>\n    <tr>\n      <th>84983</th>\n      <td>84983</td>\n      <td>2020S006153</td>\n      <td>8.0</td>\n      <td>Nou Barris</td>\n      <td>83-8-52</td>\n      <td>la Prosperitat</td>\n      <td>282650.0</td>\n      <td>Rio de Janeiro</td>\n      <td>0131 0135</td>\n      <td>Dimecres</td>\n      <td>...</td>\n      <td>20.0</td>\n      <td>Tarda</td>\n      <td>Desobeir el senyal del semàfor</td>\n      <td>0.0</td>\n      <td>1.0</td>\n      <td>0.0</td>\n      <td>1.0</td>\n      <td>1.0</td>\n      <td>4588441.18</td>\n      <td>432055.04</td>\n    </tr>\n    <tr>\n      <th>85023</th>\n      <td>85023</td>\n      <td>2020S006193</td>\n      <td>8.0</td>\n      <td>Nou Barris</td>\n      <td>83-8-51</td>\n      <td>Verdun</td>\n      <td>174307.0</td>\n      <td>Júlia</td>\n      <td>0007 0009</td>\n      <td>Dijous</td>\n      <td>...</td>\n      <td>18.0</td>\n      <td>Tarda</td>\n      <td>Creuar per fora pas de vianants</td>\n      <td>0.0</td>\n      <td>1.0</td>\n      <td>0.0</td>\n      <td>1.0</td>\n      <td>2.0</td>\n      <td>4588067.48</td>\n      <td>431186.87</td>\n    </tr>\n    <tr>\n      <th>85028</th>\n      <td>85028</td>\n      <td>2020S006198</td>\n      <td>7.0</td>\n      <td>Horta-Guinardó</td>\n      <td>74-7-35</td>\n      <td>el Guinardó</td>\n      <td>194406.0</td>\n      <td>Maragall</td>\n      <td>0219 0219</td>\n      <td>Dijous</td>\n      <td>...</td>\n      <td>19.0</td>\n      <td>Tarda</td>\n      <td>Creuar per fora pas de vianants</td>\n      <td>0.0</td>\n      <td>1.0</td>\n      <td>0.0</td>\n      <td>1.0</td>\n      <td>1.0</td>\n      <td>4586499.91</td>\n      <td>431247.93</td>\n    </tr>\n    <tr>\n      <th>85060</th>\n      <td>85060</td>\n      <td>2020S006230</td>\n      <td>3.0</td>\n      <td>Sants-Montjuïc</td>\n      <td>33-3-16</td>\n      <td>la Bordeta</td>\n      <td>222603.0</td>\n      <td>Moianès</td>\n      <td>0001 0001</td>\n      <td>Dilluns</td>\n      <td>...</td>\n      <td>21.0</td>\n      <td>Tarda</td>\n      <td>Desobeir el senyal del semàfor</td>\n      <td>0.0</td>\n      <td>2.0</td>\n      <td>0.0</td>\n      <td>2.0</td>\n      <td>1.0</td>\n      <td>4580420.26</td>\n      <td>428362.5</td>\n    </tr>\n    <tr>\n      <th>85062</th>\n      <td>85062</td>\n      <td>2020S006232</td>\n      <td>10.0</td>\n      <td>Sant Martí</td>\n      <td>103-10-71</td>\n      <td>Provençals del Poblenou</td>\n      <td>44403.0</td>\n      <td>Bolívia</td>\n      <td>0202 0204</td>\n      <td>Dilluns</td>\n      <td>...</td>\n      <td>13.0</td>\n      <td>Matí</td>\n      <td>Creuar per fora pas de vianants</td>\n      <td>0.0</td>\n      <td>1.0</td>\n      <td>0.0</td>\n      <td>1.0</td>\n      <td>1.0</td>\n      <td>4584671.95</td>\n      <td>433174.15</td>\n    </tr>\n  </tbody>\n</table>\n<p>52443 rows × 26 columns</p>\n</div>"
     },
     "metadata": {},
     "execution_count": 89
    }
   ],
   "source": [
    "df_gu[df_gu['CAUSA'] != 'Desconegut']"
   ]
  },
  {
   "cell_type": "code",
   "execution_count": 87,
   "metadata": {},
   "outputs": [
    {
     "output_type": "execute_result",
     "data": {
      "text/plain": [
       "       Unnamed: 0 NUMERO EXPEDIENTE                DESCRIPCION CAUSA\n",
       "21             21       2011S007033  Excés de velocitat o inadequada\n",
       "44             44       2011S003275                      Alcoholèmia\n",
       "58             58       2011S005866             Calçada en mal estat\n",
       "63             63       2011S007817                      Alcoholèmia\n",
       "65             65       2011S006637  Excés de velocitat o inadequada\n",
       "...           ...               ...                              ...\n",
       "93958       93958   2020S006204                          Alcoholèmia\n",
       "93966       93966   2020S006212      Excés de velocitat o inadequada\n",
       "93985       93985   2020S006231      Objectes o animals a la calçada\n",
       "94013       94013   2020S006259                          Alcoholèmia\n",
       "94023       94023   2020S006269      Objectes o animals a la calçada\n",
       "\n",
       "[5590 rows x 3 columns]"
      ],
      "text/html": "<div>\n<style scoped>\n    .dataframe tbody tr th:only-of-type {\n        vertical-align: middle;\n    }\n\n    .dataframe tbody tr th {\n        vertical-align: top;\n    }\n\n    .dataframe thead th {\n        text-align: right;\n    }\n</style>\n<table border=\"1\" class=\"dataframe\">\n  <thead>\n    <tr style=\"text-align: right;\">\n      <th></th>\n      <th>Unnamed: 0</th>\n      <th>NUMERO EXPEDIENTE</th>\n      <th>DESCRIPCION CAUSA</th>\n    </tr>\n  </thead>\n  <tbody>\n    <tr>\n      <th>21</th>\n      <td>21</td>\n      <td>2011S007033</td>\n      <td>Excés de velocitat o inadequada</td>\n    </tr>\n    <tr>\n      <th>44</th>\n      <td>44</td>\n      <td>2011S003275</td>\n      <td>Alcoholèmia</td>\n    </tr>\n    <tr>\n      <th>58</th>\n      <td>58</td>\n      <td>2011S005866</td>\n      <td>Calçada en mal estat</td>\n    </tr>\n    <tr>\n      <th>63</th>\n      <td>63</td>\n      <td>2011S007817</td>\n      <td>Alcoholèmia</td>\n    </tr>\n    <tr>\n      <th>65</th>\n      <td>65</td>\n      <td>2011S006637</td>\n      <td>Excés de velocitat o inadequada</td>\n    </tr>\n    <tr>\n      <th>...</th>\n      <td>...</td>\n      <td>...</td>\n      <td>...</td>\n    </tr>\n    <tr>\n      <th>93958</th>\n      <td>93958</td>\n      <td>2020S006204</td>\n      <td>Alcoholèmia</td>\n    </tr>\n    <tr>\n      <th>93966</th>\n      <td>93966</td>\n      <td>2020S006212</td>\n      <td>Excés de velocitat o inadequada</td>\n    </tr>\n    <tr>\n      <th>93985</th>\n      <td>93985</td>\n      <td>2020S006231</td>\n      <td>Objectes o animals a la calçada</td>\n    </tr>\n    <tr>\n      <th>94013</th>\n      <td>94013</td>\n      <td>2020S006259</td>\n      <td>Alcoholèmia</td>\n    </tr>\n    <tr>\n      <th>94023</th>\n      <td>94023</td>\n      <td>2020S006269</td>\n      <td>Objectes o animals a la calçada</td>\n    </tr>\n  </tbody>\n</table>\n<p>5590 rows × 3 columns</p>\n</div>"
     },
     "metadata": {},
     "execution_count": 87
    }
   ],
   "source": [
    "df_causas[df_causas['DESCRIPCION CAUSA'] != 'No hi ha causa mediata']"
   ]
  },
  {
   "cell_type": "code",
   "execution_count": 26,
   "metadata": {},
   "outputs": [
    {
     "output_type": "execute_result",
     "data": {
      "text/plain": [
       "(94073, 28)"
      ]
     },
     "metadata": {},
     "execution_count": 26
    }
   ],
   "source": [
    "gu_causas.shape"
   ]
  },
  {
   "cell_type": "code",
   "execution_count": 30,
   "metadata": {},
   "outputs": [
    {
     "output_type": "execute_result",
     "data": {
      "text/plain": [
       "       Unnamed: 0_x NUMERO EXPEDIENTE  CODIGO DISTRITO    DISTRITO  \\\n",
       "0               0.0       2012S005688             10.0  Sant Martí   \n",
       "1               1.0       2012S005343             10.0  Sant Martí   \n",
       "2               2.0       2012S002291             10.0  Sant Martí   \n",
       "3               3.0       2012S005379             10.0  Sant Martí   \n",
       "4               4.0       2012S004837             10.0  Sant Martí   \n",
       "...             ...               ...              ...         ...   \n",
       "94068           NaN       2011S000420              NaN         NaN   \n",
       "94069           NaN       2011S008673              NaN         NaN   \n",
       "94070           NaN       2011S007057              NaN         NaN   \n",
       "94071           NaN       2011S008313              NaN         NaN   \n",
       "94072           NaN   2019S009536                  NaN         NaN   \n",
       "\n",
       "      CODIGO BARRIO                      BARRIO  CODIGO CALLE  \\\n",
       "0         101-10-64  el Camp de l'Arpa del Clot      209900.0   \n",
       "1         101-10-64  el Camp de l'Arpa del Clot      226400.0   \n",
       "2         101-10-64  el Camp de l'Arpa del Clot      161407.0   \n",
       "3         101-10-64  el Camp de l'Arpa del Clot      297001.0   \n",
       "4         101-10-64  el Camp de l'Arpa del Clot      297001.0   \n",
       "...             ...                         ...           ...   \n",
       "94068           NaN                         NaN           NaN   \n",
       "94069           NaN                         NaN           NaN   \n",
       "94070           NaN                         NaN           NaN   \n",
       "94071           NaN                         NaN           NaN   \n",
       "94072           NaN                         NaN           NaN   \n",
       "\n",
       "                          CALLE NUMERO POSTAL DIA SEMANA  ...  \\\n",
       "0                     Meridiana     0203 0205   Dissabte  ...   \n",
       "1           Las Navas de Tolosa     0337 0337   Diumenge  ...   \n",
       "2                     Indústria     0288 0288     Dijous  ...   \n",
       "3      Sant Antoni Maria Claret     0356 0356    Dimarts  ...   \n",
       "4      Sant Antoni Maria Claret     0270 0270    Dimarts  ...   \n",
       "...                         ...           ...        ...  ...   \n",
       "94068                       NaN           NaN        NaN  ...   \n",
       "94069                       NaN           NaN        NaN  ...   \n",
       "94070                       NaN           NaN        NaN  ...   \n",
       "94071                       NaN           NaN        NaN  ...   \n",
       "94072                       NaN           NaN        NaN  ...   \n",
       "\n",
       "                                 CAUSA FALLECIDOS  LESIONADOS LEVE  \\\n",
       "0                           Desconegut        0.0              1.0   \n",
       "1                           Desconegut        0.0              1.0   \n",
       "2                           Desconegut        0.0              1.0   \n",
       "3      Creuar per fora pas de vianants        0.0              2.0   \n",
       "4                           Desconegut        0.0              2.0   \n",
       "...                                ...        ...              ...   \n",
       "94068                              NaN        NaN              NaN   \n",
       "94069                              NaN        NaN              NaN   \n",
       "94070                              NaN        NaN              NaN   \n",
       "94071                              NaN        NaN              NaN   \n",
       "94072                              NaN        NaN              NaN   \n",
       "\n",
       "       LESIONADOS GRAVE CANTIDAD VICTIMAS  CANTIDAD VEHICULOS  \\\n",
       "0                   0.0               1.0                 2.0   \n",
       "1                   0.0               1.0                 2.0   \n",
       "2                   0.0               1.0                 2.0   \n",
       "3                   0.0               2.0                 1.0   \n",
       "4                   0.0               2.0                 1.0   \n",
       "...                 ...               ...                 ...   \n",
       "94068               NaN               NaN                 NaN   \n",
       "94069               NaN               NaN                 NaN   \n",
       "94070               NaN               NaN                 NaN   \n",
       "94071               NaN               NaN                 NaN   \n",
       "94072               NaN               NaN                 NaN   \n",
       "\n",
       "       COORDENADA UTM X COORDENADA UTM Y Unnamed: 0_y       DESCRIPCION CAUSA  \n",
       "0             432022,72       4585178,54      14620.0  No hi ha causa mediata  \n",
       "1             431860,84       4585352,36      11212.0  No hi ha causa mediata  \n",
       "2             431556,72       4585102,28      14624.0  No hi ha causa mediata  \n",
       "3             431552,73       4585266,01      11214.0  No hi ha causa mediata  \n",
       "4             431180,43       4584898,92       8855.0  No hi ha causa mediata  \n",
       "...                 ...              ...          ...                     ...  \n",
       "94068               NaN              NaN       8848.0  No hi ha causa mediata  \n",
       "94069               NaN              NaN       8849.0  No hi ha causa mediata  \n",
       "94070               NaN              NaN       8850.0  No hi ha causa mediata  \n",
       "94071               NaN              NaN       8851.0             Alcoholèmia  \n",
       "94072               NaN              NaN      79538.0  No hi ha causa mediata  \n",
       "\n",
       "[94073 rows x 28 columns]"
      ],
      "text/html": "<div>\n<style scoped>\n    .dataframe tbody tr th:only-of-type {\n        vertical-align: middle;\n    }\n\n    .dataframe tbody tr th {\n        vertical-align: top;\n    }\n\n    .dataframe thead th {\n        text-align: right;\n    }\n</style>\n<table border=\"1\" class=\"dataframe\">\n  <thead>\n    <tr style=\"text-align: right;\">\n      <th></th>\n      <th>Unnamed: 0_x</th>\n      <th>NUMERO EXPEDIENTE</th>\n      <th>CODIGO DISTRITO</th>\n      <th>DISTRITO</th>\n      <th>CODIGO BARRIO</th>\n      <th>BARRIO</th>\n      <th>CODIGO CALLE</th>\n      <th>CALLE</th>\n      <th>NUMERO POSTAL</th>\n      <th>DIA SEMANA</th>\n      <th>...</th>\n      <th>CAUSA</th>\n      <th>FALLECIDOS</th>\n      <th>LESIONADOS LEVE</th>\n      <th>LESIONADOS GRAVE</th>\n      <th>CANTIDAD VICTIMAS</th>\n      <th>CANTIDAD VEHICULOS</th>\n      <th>COORDENADA UTM X</th>\n      <th>COORDENADA UTM Y</th>\n      <th>Unnamed: 0_y</th>\n      <th>DESCRIPCION CAUSA</th>\n    </tr>\n  </thead>\n  <tbody>\n    <tr>\n      <th>0</th>\n      <td>0.0</td>\n      <td>2012S005688</td>\n      <td>10.0</td>\n      <td>Sant Martí</td>\n      <td>101-10-64</td>\n      <td>el Camp de l'Arpa del Clot</td>\n      <td>209900.0</td>\n      <td>Meridiana</td>\n      <td>0203 0205</td>\n      <td>Dissabte</td>\n      <td>...</td>\n      <td>Desconegut</td>\n      <td>0.0</td>\n      <td>1.0</td>\n      <td>0.0</td>\n      <td>1.0</td>\n      <td>2.0</td>\n      <td>432022,72</td>\n      <td>4585178,54</td>\n      <td>14620.0</td>\n      <td>No hi ha causa mediata</td>\n    </tr>\n    <tr>\n      <th>1</th>\n      <td>1.0</td>\n      <td>2012S005343</td>\n      <td>10.0</td>\n      <td>Sant Martí</td>\n      <td>101-10-64</td>\n      <td>el Camp de l'Arpa del Clot</td>\n      <td>226400.0</td>\n      <td>Las Navas de Tolosa</td>\n      <td>0337 0337</td>\n      <td>Diumenge</td>\n      <td>...</td>\n      <td>Desconegut</td>\n      <td>0.0</td>\n      <td>1.0</td>\n      <td>0.0</td>\n      <td>1.0</td>\n      <td>2.0</td>\n      <td>431860,84</td>\n      <td>4585352,36</td>\n      <td>11212.0</td>\n      <td>No hi ha causa mediata</td>\n    </tr>\n    <tr>\n      <th>2</th>\n      <td>2.0</td>\n      <td>2012S002291</td>\n      <td>10.0</td>\n      <td>Sant Martí</td>\n      <td>101-10-64</td>\n      <td>el Camp de l'Arpa del Clot</td>\n      <td>161407.0</td>\n      <td>Indústria</td>\n      <td>0288 0288</td>\n      <td>Dijous</td>\n      <td>...</td>\n      <td>Desconegut</td>\n      <td>0.0</td>\n      <td>1.0</td>\n      <td>0.0</td>\n      <td>1.0</td>\n      <td>2.0</td>\n      <td>431556,72</td>\n      <td>4585102,28</td>\n      <td>14624.0</td>\n      <td>No hi ha causa mediata</td>\n    </tr>\n    <tr>\n      <th>3</th>\n      <td>3.0</td>\n      <td>2012S005379</td>\n      <td>10.0</td>\n      <td>Sant Martí</td>\n      <td>101-10-64</td>\n      <td>el Camp de l'Arpa del Clot</td>\n      <td>297001.0</td>\n      <td>Sant Antoni Maria Claret</td>\n      <td>0356 0356</td>\n      <td>Dimarts</td>\n      <td>...</td>\n      <td>Creuar per fora pas de vianants</td>\n      <td>0.0</td>\n      <td>2.0</td>\n      <td>0.0</td>\n      <td>2.0</td>\n      <td>1.0</td>\n      <td>431552,73</td>\n      <td>4585266,01</td>\n      <td>11214.0</td>\n      <td>No hi ha causa mediata</td>\n    </tr>\n    <tr>\n      <th>4</th>\n      <td>4.0</td>\n      <td>2012S004837</td>\n      <td>10.0</td>\n      <td>Sant Martí</td>\n      <td>101-10-64</td>\n      <td>el Camp de l'Arpa del Clot</td>\n      <td>297001.0</td>\n      <td>Sant Antoni Maria Claret</td>\n      <td>0270 0270</td>\n      <td>Dimarts</td>\n      <td>...</td>\n      <td>Desconegut</td>\n      <td>0.0</td>\n      <td>2.0</td>\n      <td>0.0</td>\n      <td>2.0</td>\n      <td>1.0</td>\n      <td>431180,43</td>\n      <td>4584898,92</td>\n      <td>8855.0</td>\n      <td>No hi ha causa mediata</td>\n    </tr>\n    <tr>\n      <th>...</th>\n      <td>...</td>\n      <td>...</td>\n      <td>...</td>\n      <td>...</td>\n      <td>...</td>\n      <td>...</td>\n      <td>...</td>\n      <td>...</td>\n      <td>...</td>\n      <td>...</td>\n      <td>...</td>\n      <td>...</td>\n      <td>...</td>\n      <td>...</td>\n      <td>...</td>\n      <td>...</td>\n      <td>...</td>\n      <td>...</td>\n      <td>...</td>\n      <td>...</td>\n      <td>...</td>\n    </tr>\n    <tr>\n      <th>94068</th>\n      <td>NaN</td>\n      <td>2011S000420</td>\n      <td>NaN</td>\n      <td>NaN</td>\n      <td>NaN</td>\n      <td>NaN</td>\n      <td>NaN</td>\n      <td>NaN</td>\n      <td>NaN</td>\n      <td>NaN</td>\n      <td>...</td>\n      <td>NaN</td>\n      <td>NaN</td>\n      <td>NaN</td>\n      <td>NaN</td>\n      <td>NaN</td>\n      <td>NaN</td>\n      <td>NaN</td>\n      <td>NaN</td>\n      <td>8848.0</td>\n      <td>No hi ha causa mediata</td>\n    </tr>\n    <tr>\n      <th>94069</th>\n      <td>NaN</td>\n      <td>2011S008673</td>\n      <td>NaN</td>\n      <td>NaN</td>\n      <td>NaN</td>\n      <td>NaN</td>\n      <td>NaN</td>\n      <td>NaN</td>\n      <td>NaN</td>\n      <td>NaN</td>\n      <td>...</td>\n      <td>NaN</td>\n      <td>NaN</td>\n      <td>NaN</td>\n      <td>NaN</td>\n      <td>NaN</td>\n      <td>NaN</td>\n      <td>NaN</td>\n      <td>NaN</td>\n      <td>8849.0</td>\n      <td>No hi ha causa mediata</td>\n    </tr>\n    <tr>\n      <th>94070</th>\n      <td>NaN</td>\n      <td>2011S007057</td>\n      <td>NaN</td>\n      <td>NaN</td>\n      <td>NaN</td>\n      <td>NaN</td>\n      <td>NaN</td>\n      <td>NaN</td>\n      <td>NaN</td>\n      <td>NaN</td>\n      <td>...</td>\n      <td>NaN</td>\n      <td>NaN</td>\n      <td>NaN</td>\n      <td>NaN</td>\n      <td>NaN</td>\n      <td>NaN</td>\n      <td>NaN</td>\n      <td>NaN</td>\n      <td>8850.0</td>\n      <td>No hi ha causa mediata</td>\n    </tr>\n    <tr>\n      <th>94071</th>\n      <td>NaN</td>\n      <td>2011S008313</td>\n      <td>NaN</td>\n      <td>NaN</td>\n      <td>NaN</td>\n      <td>NaN</td>\n      <td>NaN</td>\n      <td>NaN</td>\n      <td>NaN</td>\n      <td>NaN</td>\n      <td>...</td>\n      <td>NaN</td>\n      <td>NaN</td>\n      <td>NaN</td>\n      <td>NaN</td>\n      <td>NaN</td>\n      <td>NaN</td>\n      <td>NaN</td>\n      <td>NaN</td>\n      <td>8851.0</td>\n      <td>Alcoholèmia</td>\n    </tr>\n    <tr>\n      <th>94072</th>\n      <td>NaN</td>\n      <td>2019S009536</td>\n      <td>NaN</td>\n      <td>NaN</td>\n      <td>NaN</td>\n      <td>NaN</td>\n      <td>NaN</td>\n      <td>NaN</td>\n      <td>NaN</td>\n      <td>NaN</td>\n      <td>...</td>\n      <td>NaN</td>\n      <td>NaN</td>\n      <td>NaN</td>\n      <td>NaN</td>\n      <td>NaN</td>\n      <td>NaN</td>\n      <td>NaN</td>\n      <td>NaN</td>\n      <td>79538.0</td>\n      <td>No hi ha causa mediata</td>\n    </tr>\n  </tbody>\n</table>\n<p>94073 rows × 28 columns</p>\n</div>"
     },
     "metadata": {},
     "execution_count": 30
    }
   ],
   "source": [
    "gu_causas"
   ]
  },
  {
   "cell_type": "code",
   "execution_count": 31,
   "metadata": {},
   "outputs": [
    {
     "output_type": "execute_result",
     "data": {
      "text/plain": [
       "       Unnamed: 0_x NUMERO EXPEDIENTE       DESCRIPCION CAUSA  Unnamed: 0_y  \\\n",
       "0               0.0       2011S006646  No hi ha causa mediata           NaN   \n",
       "1               1.0       2011S003333  No hi ha causa mediata           NaN   \n",
       "2               2.0       2011S006833  No hi ha causa mediata           NaN   \n",
       "3               3.0       2011S002662  No hi ha causa mediata           NaN   \n",
       "4               4.0       2011S008311  No hi ha causa mediata           NaN   \n",
       "...             ...               ...                     ...           ...   \n",
       "94068           NaN       2014S001703                     NaN       25648.0   \n",
       "94069           NaN       2014S007660                     NaN       27160.0   \n",
       "94070           NaN       2014S003625                     NaN       27223.0   \n",
       "94071           NaN       2014S008479                     NaN       28290.0   \n",
       "94072           NaN        10/02/2016                     NaN       38398.0   \n",
       "\n",
       "       CODIGO DISTRITO             DISTRITO CODIGO BARRIO  \\\n",
       "0                  NaN                  NaN           NaN   \n",
       "1                  NaN                  NaN           NaN   \n",
       "2                  NaN                  NaN           NaN   \n",
       "3                  NaN                  NaN           NaN   \n",
       "4                  NaN                  NaN           NaN   \n",
       "...                ...                  ...           ...   \n",
       "94068              5.0  Sarrià-Sant Gervasi       53-5-25   \n",
       "94069              8.0           Nou Barris       84-8-46   \n",
       "94070             -1.0           Desconegut      -1--1--1   \n",
       "94071              8.0           Nou Barris       84-8-45   \n",
       "94072              NaN                  NaN           NaN   \n",
       "\n",
       "                           BARRIO  CODIGO CALLE         CALLE  ...  HORA  \\\n",
       "0                             NaN           NaN           NaN  ...   NaN   \n",
       "1                             NaN           NaN           NaN  ...   NaN   \n",
       "2                             NaN           NaN           NaN  ...   NaN   \n",
       "3                             NaN           NaN           NaN  ...   NaN   \n",
       "4                             NaN           NaN           NaN  ...   NaN   \n",
       "...                           ...           ...           ...  ...   ...   \n",
       "94068  Sant Gervasi - la Bonanova      101008.0      Tibidabo  ...  18.0   \n",
       "94069         el Turó de la Peira      119003.0  Fabra i Puig  ...  10.0   \n",
       "94070                  Desconegut          -1.0    Desconegut  ...   6.0   \n",
       "94071                       Porta      351901.0     Valldaura  ...  21.0   \n",
       "94072                         NaN           NaN           NaN  ...   NaN   \n",
       "\n",
       "          TURNO       CAUSA FALLECIDOS  LESIONADOS LEVE  LESIONADOS GRAVE  \\\n",
       "0           NaN         NaN        NaN              NaN               NaN   \n",
       "1           NaN         NaN        NaN              NaN               NaN   \n",
       "2           NaN         NaN        NaN              NaN               NaN   \n",
       "3           NaN         NaN        NaN              NaN               NaN   \n",
       "4           NaN         NaN        NaN              NaN               NaN   \n",
       "...         ...         ...        ...              ...               ...   \n",
       "94068     Tarda  Desconegut        0.0              1.0               0.0   \n",
       "94069      Matí  Desconegut        0.0              0.0               0.0   \n",
       "94070      Matí  Desconegut        0.0              0.0               0.0   \n",
       "94071     Tarda  Desconegut        0.0              0.0               0.0   \n",
       "94072  13:25:52         NaN        NaN              NaN               NaN   \n",
       "\n",
       "      CANTIDAD VICTIMAS  CANTIDAD VEHICULOS  COORDENADA UTM X COORDENADA UTM Y  \n",
       "0                   NaN                 NaN               NaN              NaN  \n",
       "1                   NaN                 NaN               NaN              NaN  \n",
       "2                   NaN                 NaN               NaN              NaN  \n",
       "3                   NaN                 NaN               NaN              NaN  \n",
       "4                   NaN                 NaN               NaN              NaN  \n",
       "...                 ...                 ...               ...              ...  \n",
       "94068               1.0                 2.0         427737,25       4585318,06  \n",
       "94069               0.0                 2.0         431087,99       4587075,98  \n",
       "94070               0.0                 1.0                -1               -1  \n",
       "94071               0.0                 2.0         431431,56       4587985,93  \n",
       "94072               NaN                 NaN               NaN              NaN  \n",
       "\n",
       "[94073 rows x 28 columns]"
      ],
      "text/html": "<div>\n<style scoped>\n    .dataframe tbody tr th:only-of-type {\n        vertical-align: middle;\n    }\n\n    .dataframe tbody tr th {\n        vertical-align: top;\n    }\n\n    .dataframe thead th {\n        text-align: right;\n    }\n</style>\n<table border=\"1\" class=\"dataframe\">\n  <thead>\n    <tr style=\"text-align: right;\">\n      <th></th>\n      <th>Unnamed: 0_x</th>\n      <th>NUMERO EXPEDIENTE</th>\n      <th>DESCRIPCION CAUSA</th>\n      <th>Unnamed: 0_y</th>\n      <th>CODIGO DISTRITO</th>\n      <th>DISTRITO</th>\n      <th>CODIGO BARRIO</th>\n      <th>BARRIO</th>\n      <th>CODIGO CALLE</th>\n      <th>CALLE</th>\n      <th>...</th>\n      <th>HORA</th>\n      <th>TURNO</th>\n      <th>CAUSA</th>\n      <th>FALLECIDOS</th>\n      <th>LESIONADOS LEVE</th>\n      <th>LESIONADOS GRAVE</th>\n      <th>CANTIDAD VICTIMAS</th>\n      <th>CANTIDAD VEHICULOS</th>\n      <th>COORDENADA UTM X</th>\n      <th>COORDENADA UTM Y</th>\n    </tr>\n  </thead>\n  <tbody>\n    <tr>\n      <th>0</th>\n      <td>0.0</td>\n      <td>2011S006646</td>\n      <td>No hi ha causa mediata</td>\n      <td>NaN</td>\n      <td>NaN</td>\n      <td>NaN</td>\n      <td>NaN</td>\n      <td>NaN</td>\n      <td>NaN</td>\n      <td>NaN</td>\n      <td>...</td>\n      <td>NaN</td>\n      <td>NaN</td>\n      <td>NaN</td>\n      <td>NaN</td>\n      <td>NaN</td>\n      <td>NaN</td>\n      <td>NaN</td>\n      <td>NaN</td>\n      <td>NaN</td>\n      <td>NaN</td>\n    </tr>\n    <tr>\n      <th>1</th>\n      <td>1.0</td>\n      <td>2011S003333</td>\n      <td>No hi ha causa mediata</td>\n      <td>NaN</td>\n      <td>NaN</td>\n      <td>NaN</td>\n      <td>NaN</td>\n      <td>NaN</td>\n      <td>NaN</td>\n      <td>NaN</td>\n      <td>...</td>\n      <td>NaN</td>\n      <td>NaN</td>\n      <td>NaN</td>\n      <td>NaN</td>\n      <td>NaN</td>\n      <td>NaN</td>\n      <td>NaN</td>\n      <td>NaN</td>\n      <td>NaN</td>\n      <td>NaN</td>\n    </tr>\n    <tr>\n      <th>2</th>\n      <td>2.0</td>\n      <td>2011S006833</td>\n      <td>No hi ha causa mediata</td>\n      <td>NaN</td>\n      <td>NaN</td>\n      <td>NaN</td>\n      <td>NaN</td>\n      <td>NaN</td>\n      <td>NaN</td>\n      <td>NaN</td>\n      <td>...</td>\n      <td>NaN</td>\n      <td>NaN</td>\n      <td>NaN</td>\n      <td>NaN</td>\n      <td>NaN</td>\n      <td>NaN</td>\n      <td>NaN</td>\n      <td>NaN</td>\n      <td>NaN</td>\n      <td>NaN</td>\n    </tr>\n    <tr>\n      <th>3</th>\n      <td>3.0</td>\n      <td>2011S002662</td>\n      <td>No hi ha causa mediata</td>\n      <td>NaN</td>\n      <td>NaN</td>\n      <td>NaN</td>\n      <td>NaN</td>\n      <td>NaN</td>\n      <td>NaN</td>\n      <td>NaN</td>\n      <td>...</td>\n      <td>NaN</td>\n      <td>NaN</td>\n      <td>NaN</td>\n      <td>NaN</td>\n      <td>NaN</td>\n      <td>NaN</td>\n      <td>NaN</td>\n      <td>NaN</td>\n      <td>NaN</td>\n      <td>NaN</td>\n    </tr>\n    <tr>\n      <th>4</th>\n      <td>4.0</td>\n      <td>2011S008311</td>\n      <td>No hi ha causa mediata</td>\n      <td>NaN</td>\n      <td>NaN</td>\n      <td>NaN</td>\n      <td>NaN</td>\n      <td>NaN</td>\n      <td>NaN</td>\n      <td>NaN</td>\n      <td>...</td>\n      <td>NaN</td>\n      <td>NaN</td>\n      <td>NaN</td>\n      <td>NaN</td>\n      <td>NaN</td>\n      <td>NaN</td>\n      <td>NaN</td>\n      <td>NaN</td>\n      <td>NaN</td>\n      <td>NaN</td>\n    </tr>\n    <tr>\n      <th>...</th>\n      <td>...</td>\n      <td>...</td>\n      <td>...</td>\n      <td>...</td>\n      <td>...</td>\n      <td>...</td>\n      <td>...</td>\n      <td>...</td>\n      <td>...</td>\n      <td>...</td>\n      <td>...</td>\n      <td>...</td>\n      <td>...</td>\n      <td>...</td>\n      <td>...</td>\n      <td>...</td>\n      <td>...</td>\n      <td>...</td>\n      <td>...</td>\n      <td>...</td>\n      <td>...</td>\n    </tr>\n    <tr>\n      <th>94068</th>\n      <td>NaN</td>\n      <td>2014S001703</td>\n      <td>NaN</td>\n      <td>25648.0</td>\n      <td>5.0</td>\n      <td>Sarrià-Sant Gervasi</td>\n      <td>53-5-25</td>\n      <td>Sant Gervasi - la Bonanova</td>\n      <td>101008.0</td>\n      <td>Tibidabo</td>\n      <td>...</td>\n      <td>18.0</td>\n      <td>Tarda</td>\n      <td>Desconegut</td>\n      <td>0.0</td>\n      <td>1.0</td>\n      <td>0.0</td>\n      <td>1.0</td>\n      <td>2.0</td>\n      <td>427737,25</td>\n      <td>4585318,06</td>\n    </tr>\n    <tr>\n      <th>94069</th>\n      <td>NaN</td>\n      <td>2014S007660</td>\n      <td>NaN</td>\n      <td>27160.0</td>\n      <td>8.0</td>\n      <td>Nou Barris</td>\n      <td>84-8-46</td>\n      <td>el Turó de la Peira</td>\n      <td>119003.0</td>\n      <td>Fabra i Puig</td>\n      <td>...</td>\n      <td>10.0</td>\n      <td>Matí</td>\n      <td>Desconegut</td>\n      <td>0.0</td>\n      <td>0.0</td>\n      <td>0.0</td>\n      <td>0.0</td>\n      <td>2.0</td>\n      <td>431087,99</td>\n      <td>4587075,98</td>\n    </tr>\n    <tr>\n      <th>94070</th>\n      <td>NaN</td>\n      <td>2014S003625</td>\n      <td>NaN</td>\n      <td>27223.0</td>\n      <td>-1.0</td>\n      <td>Desconegut</td>\n      <td>-1--1--1</td>\n      <td>Desconegut</td>\n      <td>-1.0</td>\n      <td>Desconegut</td>\n      <td>...</td>\n      <td>6.0</td>\n      <td>Matí</td>\n      <td>Desconegut</td>\n      <td>0.0</td>\n      <td>0.0</td>\n      <td>0.0</td>\n      <td>0.0</td>\n      <td>1.0</td>\n      <td>-1</td>\n      <td>-1</td>\n    </tr>\n    <tr>\n      <th>94071</th>\n      <td>NaN</td>\n      <td>2014S008479</td>\n      <td>NaN</td>\n      <td>28290.0</td>\n      <td>8.0</td>\n      <td>Nou Barris</td>\n      <td>84-8-45</td>\n      <td>Porta</td>\n      <td>351901.0</td>\n      <td>Valldaura</td>\n      <td>...</td>\n      <td>21.0</td>\n      <td>Tarda</td>\n      <td>Desconegut</td>\n      <td>0.0</td>\n      <td>0.0</td>\n      <td>0.0</td>\n      <td>0.0</td>\n      <td>2.0</td>\n      <td>431431,56</td>\n      <td>4587985,93</td>\n    </tr>\n    <tr>\n      <th>94072</th>\n      <td>NaN</td>\n      <td>10/02/2016</td>\n      <td>NaN</td>\n      <td>38398.0</td>\n      <td>NaN</td>\n      <td>NaN</td>\n      <td>NaN</td>\n      <td>NaN</td>\n      <td>NaN</td>\n      <td>NaN</td>\n      <td>...</td>\n      <td>NaN</td>\n      <td>13:25:52</td>\n      <td>NaN</td>\n      <td>NaN</td>\n      <td>NaN</td>\n      <td>NaN</td>\n      <td>NaN</td>\n      <td>NaN</td>\n      <td>NaN</td>\n      <td>NaN</td>\n    </tr>\n  </tbody>\n</table>\n<p>94073 rows × 28 columns</p>\n</div>"
     },
     "metadata": {},
     "execution_count": 31
    }
   ],
   "source": [
    "causas_gu"
   ]
  },
  {
   "cell_type": "code",
   "execution_count": null,
   "metadata": {},
   "outputs": [],
   "source": []
  },
  {
   "cell_type": "code",
   "execution_count": 56,
   "metadata": {},
   "outputs": [
    {
     "output_type": "execute_result",
     "data": {
      "text/plain": [
       "       Unnamed: 0 NUMERO EXPEDIENTE       DESCRIPCION CAUSA\n",
       "74581       74581   2018S003625      No hi ha causa mediata"
      ],
      "text/html": "<div>\n<style scoped>\n    .dataframe tbody tr th:only-of-type {\n        vertical-align: middle;\n    }\n\n    .dataframe tbody tr th {\n        vertical-align: top;\n    }\n\n    .dataframe thead th {\n        text-align: right;\n    }\n</style>\n<table border=\"1\" class=\"dataframe\">\n  <thead>\n    <tr style=\"text-align: right;\">\n      <th></th>\n      <th>Unnamed: 0</th>\n      <th>NUMERO EXPEDIENTE</th>\n      <th>DESCRIPCION CAUSA</th>\n    </tr>\n  </thead>\n  <tbody>\n    <tr>\n      <th>74581</th>\n      <td>74581</td>\n      <td>2018S003625</td>\n      <td>No hi ha causa mediata</td>\n    </tr>\n  </tbody>\n</table>\n</div>"
     },
     "metadata": {},
     "execution_count": 56
    }
   ],
   "source": [
    "df_causas[df_causas['NUMERO EXPEDIENTE'].str.contains('2018S003625    ')]"
   ]
  },
  {
   "cell_type": "code",
   "execution_count": 59,
   "metadata": {},
   "outputs": [
    {
     "output_type": "execute_result",
     "data": {
      "text/plain": [
       "85088"
      ]
     },
     "metadata": {},
     "execution_count": 59
    }
   ],
   "source": [
    "df_gu['NUMERO EXPEDIENTE'].nunique()"
   ]
  },
  {
   "cell_type": "code",
   "execution_count": 67,
   "metadata": {},
   "outputs": [
    {
     "output_type": "execute_result",
     "data": {
      "text/plain": [
       "21"
      ]
     },
     "metadata": {},
     "execution_count": 67
    }
   ],
   "source": [
    "df_gu['NUMERO EXPEDIENTE'].duplicated().sum()"
   ]
  },
  {
   "cell_type": "code",
   "execution_count": 65,
   "metadata": {},
   "outputs": [
    {
     "output_type": "execute_result",
     "data": {
      "text/plain": [
       "Empty DataFrame\n",
       "Columns: [Unnamed: 0, NUMERO EXPEDIENTE, CODIGO DISTRITO, DISTRITO, CODIGO BARRIO, BARRIO, CODIGO CALLE, CALLE, NUMERO POSTAL, DIA SEMANA, DIA SEMANA (NUMERICO), TIPO DE DIA, ANO, MES (NUMERICO), MES, DIA, HORA, TURNO, CAUSA, FALLECIDOS, LESIONADOS LEVE, LESIONADOS GRAVE, CANTIDAD VICTIMAS, CANTIDAD VEHICULOS, COORDENADA UTM X, COORDENADA UTM Y]\n",
       "Index: []\n",
       "\n",
       "[0 rows x 26 columns]"
      ],
      "text/html": "<div>\n<style scoped>\n    .dataframe tbody tr th:only-of-type {\n        vertical-align: middle;\n    }\n\n    .dataframe tbody tr th {\n        vertical-align: top;\n    }\n\n    .dataframe thead th {\n        text-align: right;\n    }\n</style>\n<table border=\"1\" class=\"dataframe\">\n  <thead>\n    <tr style=\"text-align: right;\">\n      <th></th>\n      <th>Unnamed: 0</th>\n      <th>NUMERO EXPEDIENTE</th>\n      <th>CODIGO DISTRITO</th>\n      <th>DISTRITO</th>\n      <th>CODIGO BARRIO</th>\n      <th>BARRIO</th>\n      <th>CODIGO CALLE</th>\n      <th>CALLE</th>\n      <th>NUMERO POSTAL</th>\n      <th>DIA SEMANA</th>\n      <th>...</th>\n      <th>HORA</th>\n      <th>TURNO</th>\n      <th>CAUSA</th>\n      <th>FALLECIDOS</th>\n      <th>LESIONADOS LEVE</th>\n      <th>LESIONADOS GRAVE</th>\n      <th>CANTIDAD VICTIMAS</th>\n      <th>CANTIDAD VEHICULOS</th>\n      <th>COORDENADA UTM X</th>\n      <th>COORDENADA UTM Y</th>\n    </tr>\n  </thead>\n  <tbody>\n  </tbody>\n</table>\n<p>0 rows × 26 columns</p>\n</div>"
     },
     "metadata": {},
     "execution_count": 65
    }
   ],
   "source": [
    "df_gu.loc[df_gu.duplicated(), :]"
   ]
  },
  {
   "cell_type": "code",
   "execution_count": 70,
   "metadata": {},
   "outputs": [
    {
     "output_type": "execute_result",
     "data": {
      "text/plain": [
       "       Unnamed: 0 NUMERO EXPEDIENTE  CODIGO DISTRITO             DISTRITO  \\\n",
       "48623       48623   2017S008856                 10.0           Sant Martí   \n",
       "51618       51618   2017S003750                  2.0             Eixample   \n",
       "53761       53761   2017S004447                 10.0           Sant Martí   \n",
       "54338       54338   2017S003286                  3.0       Sants-Montjuïc   \n",
       "54339       54339   2017S003286                  3.0       Sants-Montjuïc   \n",
       "55031       55031   2017S008856                 10.0           Sant Martí   \n",
       "55518       55518   2017S003750                  2.0             Eixample   \n",
       "57750       57750   2017S004447                 10.0           Sant Martí   \n",
       "59192       59192   2018S003156                  3.0       Sants-Montjuïc   \n",
       "59194       59194   2018S003156                  3.0       Sants-Montjuïc   \n",
       "59322       59322   2018S002285                  3.0       Sants-Montjuïc   \n",
       "59323       59323   2018S002285                  3.0       Sants-Montjuïc   \n",
       "60086       60086   2018S002968                  3.0       Sants-Montjuïc   \n",
       "60087       60087   2018S002968                  3.0       Sants-Montjuïc   \n",
       "60129       60129   2018S009504                  2.0             Eixample   \n",
       "60130       60130   2018S009504                  2.0             Eixample   \n",
       "61407       61407   2018S005992                  1.0         Ciutat Vella   \n",
       "61409       61409   2018S005992                  1.0         Ciutat Vella   \n",
       "61662       61662   2018S001774                  4.0            Les Corts   \n",
       "61663       61663   2018S001774                  4.0            Les Corts   \n",
       "63189       63189   2018S000261                  5.0  Sarrià-Sant Gervasi   \n",
       "63190       63190   2018S000261                  5.0  Sarrià-Sant Gervasi   \n",
       "64548       64548   2018S002344                  5.0  Sarrià-Sant Gervasi   \n",
       "64549       64549   2018S002344                  5.0  Sarrià-Sant Gervasi   \n",
       "65801       65801   2018S001500                  6.0               Gràcia   \n",
       "65802       65802   2018S001500                  6.0               Gràcia   \n",
       "65917       65917   2018S000183                  6.0               Gràcia   \n",
       "65918       65918   2018S000183                  6.0               Gràcia   \n",
       "79473       79473   2020S000638                  5.0  Sarrià-Sant Gervasi   \n",
       "79474       79474   2020S000638                  5.0  Sarrià-Sant Gervasi   \n",
       "79614       79614   2020S000778                  9.0          Sant Andreu   \n",
       "79615       79615   2020S000778                  9.0          Sant Andreu   \n",
       "79791       79791   2020S000956                  2.0             Eixample   \n",
       "79792       79792   2020S000956                  2.0             Eixample   \n",
       "82496       82496   2020S003665                  2.0             Eixample   \n",
       "82497       82497   2020S003665                  2.0             Eixample   \n",
       "83310       83310   2020S004479                  5.0  Sarrià-Sant Gervasi   \n",
       "83311       83311   2020S004479                  5.0  Sarrià-Sant Gervasi   \n",
       "83421       83421   2020S004590                  8.0           Nou Barris   \n",
       "83422       83422   2020S004590                  8.0           Nou Barris   \n",
       "84125       84125   2020S005294                  4.0            Les Corts   \n",
       "84126       84126   2020S005294                  4.0            Les Corts   \n",
       "\n",
       "      CODIGO BARRIO                                        BARRIO  \\\n",
       "48623          71.0                       Provençals del Poblenou   \n",
       "51618           7.0                        la Dreta de l'Eixample   \n",
       "53761          69.0  Diagonal Mar i el Front Marítim del Poblenou   \n",
       "54338          13.0                             la Marina de Port   \n",
       "54339          13.0                             la Marina de Port   \n",
       "55031          71.0                       Provençals del Poblenou   \n",
       "55518           7.0                        la Dreta de l'Eixample   \n",
       "57750          69.0  Diagonal Mar i el Front Marítim del Poblenou   \n",
       "59192          16.0                                    la Bordeta   \n",
       "59194          16.0                                    la Bordeta   \n",
       "59322          16.0                                    la Bordeta   \n",
       "59323          16.0                                    la Bordeta   \n",
       "60086          17.0                                 Sants - Badal   \n",
       "60087          17.0                                 Sants - Badal   \n",
       "60129          10.0                                   Sant Antoni   \n",
       "60130          10.0                                   Sant Antoni   \n",
       "61407           4.0         Sant Pere, Santa Caterina i la Ribera   \n",
       "61409           4.0         Sant Pere, Santa Caterina i la Ribera   \n",
       "61662          20.0                    la Maternitat i Sant Ramon   \n",
       "61663          20.0                    la Maternitat i Sant Ramon   \n",
       "63189          23.0                                        Sarrià   \n",
       "63190          23.0                                        Sarrià   \n",
       "64548          26.0                        Sant Gervasi - Galvany   \n",
       "64549          26.0                        Sant Gervasi - Galvany   \n",
       "65801            31                             la Vila de Gràcia   \n",
       "65802            31                             la Vila de Gràcia   \n",
       "65917            32            el Camp d'en Grassot i Gràcia Nova   \n",
       "65918            32            el Camp d'en Grassot i Gràcia Nova   \n",
       "79473       51-5-26                        Sant Gervasi - Galvany   \n",
       "79474       51-5-26                        Sant Gervasi - Galvany   \n",
       "79614       91-9-63                                         Navas   \n",
       "79615       91-9-63                                         Navas   \n",
       "79791        23-2-8               l'Antiga Esquerra de l'Eixample   \n",
       "79792        23-2-8               l'Antiga Esquerra de l'Eixample   \n",
       "82496        25-2-6                            la Sagrada Família   \n",
       "82497        25-2-6                            la Sagrada Família   \n",
       "83310       53-5-25                    Sant Gervasi - la Bonanova   \n",
       "83311       53-5-25                    Sant Gervasi - la Bonanova   \n",
       "83421       82-8-49                                     Canyelles   \n",
       "83422       82-8-49                                     Canyelles   \n",
       "84125       42-4-20                    la Maternitat i Sant Ramon   \n",
       "84126       42-4-20                    la Maternitat i Sant Ramon   \n",
       "\n",
       "       CODIGO CALLE                                              CALLE  \\\n",
       "48623       30409.0  Diagonal / Bac de Roda                        ...   \n",
       "51618      357001.0  Bergara                                       ...   \n",
       "53761      701278.0  Taulat                                        ...   \n",
       "54338      109906.0  Energia                                       ...   \n",
       "54339      109906.0  Energia                                       ...   \n",
       "55031       30409.0  Diagonal / Bac de Roda                        ...   \n",
       "55518      357001.0  Bergara                                       ...   \n",
       "57750      701278.0  Taulat                                        ...   \n",
       "59192      169409.0  Corts Catalanes                               ...   \n",
       "59194      169409.0  Corts Catalanes                               ...   \n",
       "59322       89707.0  Constitució                                   ...   \n",
       "59323       89707.0  Constitució                                   ...   \n",
       "60086      187207.0  Madrid                                        ...   \n",
       "60087      187207.0  Madrid                                        ...   \n",
       "60129      127704.0  Floridablanca / Viladomat                     ...   \n",
       "60130      127704.0  Floridablanca / Viladomat                     ...   \n",
       "61407      177101.0  Laietana                                      ...   \n",
       "61409      177101.0  Laietana                                      ...   \n",
       "61662      144601.0  Diagonal                                      ...   \n",
       "61663      144601.0  Diagonal                                      ...   \n",
       "63189      305201.0  Sant Joan Bosco / Maria Auxiliadora           ...   \n",
       "63190      305201.0  Sant Joan Bosco / Maria Auxiliadora           ...   \n",
       "64548      143904.0  General Mitre                                 ...   \n",
       "64549      143904.0  General Mitre                                 ...   \n",
       "65801      290206.0  Torrent de les Flors / Rovira i Trias         ...   \n",
       "65802      290206.0  Torrent de les Flors / Rovira i Trias         ...   \n",
       "65917      356304.0  Taxdirt / Ventalló                            ...   \n",
       "65918      356304.0  Taxdirt / Ventalló                            ...   \n",
       "79473      344101.0                                             Gràcia   \n",
       "79474      344101.0                                             Gràcia   \n",
       "79614      209900.0                                          Meridiana   \n",
       "79615      209900.0                                          Meridiana   \n",
       "79791      350308.0                                           València   \n",
       "79792      350308.0                                           València   \n",
       "82496      178308.0                                             Lepant   \n",
       "82497      178308.0                                             Lepant   \n",
       "83310      701268.0                                   Dalt (Llobregat)   \n",
       "83311      701268.0                                   Dalt (Llobregat)   \n",
       "83421      120807.0                                           Favència   \n",
       "83422      120807.0                                           Favència   \n",
       "84125      187207.0                                             Madrid   \n",
       "84126      187207.0                                             Madrid   \n",
       "\n",
       "      NUMERO POSTAL DIA SEMANA  ...  HORA  TURNO  \\\n",
       "48623     0100 0108     Dijous  ...   8.0   Matí   \n",
       "51618     0014 0014     Dijous  ...  16.0  Tarda   \n",
       "53761     0136 0136  Divendres  ...  20.0  Tarda   \n",
       "54338    0001X0001X    Dilluns  ...  13.0   Matí   \n",
       "54339    0001X0001X    Dilluns  ...  13.0   Matí   \n",
       "55031     0100 0108     Dijous  ...   8.0   Matí   \n",
       "55518     0014 0014     Dijous  ...  16.0  Tarda   \n",
       "57750     0136 0136  Divendres  ...  20.0  Tarda   \n",
       "59192    111-119       Dimarts  ...   9.0   Matí   \n",
       "59194    111-119       Dimarts  ...   9.0   Matí   \n",
       "59322           155     Dijous  ...   9.0   Matí   \n",
       "59323           155     Dijous  ...   9.0   Matí   \n",
       "60086            68   Dimecres  ...  12.0   Matí   \n",
       "60087            68   Dimecres  ...  12.0   Matí   \n",
       "60129           NaN     Dijous  ...  10.0   Matí   \n",
       "60130           NaN     Dijous  ...  10.0   Matí   \n",
       "61407            46     Dijous  ...  17.0  Tarda   \n",
       "61409            46     Dijous  ...  17.0  Tarda   \n",
       "61662           629   Diumenge  ...  19.0  Tarda   \n",
       "61663           629   Diumenge  ...  19.0  Tarda   \n",
       "63189           NaN     Dijous  ...  19.0  Tarda   \n",
       "63190           NaN     Dijous  ...  19.0  Tarda   \n",
       "64548    92-94        Dissabte  ...   9.0   Matí   \n",
       "64549    92-94        Dissabte  ...   9.0   Matí   \n",
       "65801           NaN   Dissabte  ...  12.0   Matí   \n",
       "65802           NaN   Dissabte  ...  12.0   Matí   \n",
       "65917           NaN    Dilluns  ...  15.0  Tarda   \n",
       "65918           NaN    Dilluns  ...  15.0  Tarda   \n",
       "79473     0051 0051    Dilluns  ...  15.0  Tarda   \n",
       "79474     0051 0051    Dilluns  ...  15.0  Tarda   \n",
       "79614     0235 0235     Dijous  ...  16.0  Tarda   \n",
       "79615     0235 0235     Dijous  ...  16.0  Tarda   \n",
       "79791     0211 0211   Dissabte  ...   0.0    Nit   \n",
       "79792     0211 0211   Dissabte  ...   0.0    Nit   \n",
       "82496     0258 0258     Dijous  ...  10.0   Matí   \n",
       "82497     0258 0258     Dijous  ...  10.0   Matí   \n",
       "83310        940000    Dimarts  ...  10.0   Matí   \n",
       "83311        940000    Dimarts  ...  10.0   Matí   \n",
       "83421     0041 0045     Dijous  ...  13.0   Matí   \n",
       "83422     0041 0045     Dijous  ...  13.0   Matí   \n",
       "84125     0039 0041   Dimecres  ...  13.0   Matí   \n",
       "84126     0039 0041   Dimecres  ...  13.0   Matí   \n",
       "\n",
       "                                 CAUSA  FALLECIDOS LESIONADOS LEVE  \\\n",
       "48623   Desobeir el senyal del semàfor         0.0             1.0   \n",
       "51618                           Altres         0.0             1.0   \n",
       "53761  Creuar per fora pas de vianants         0.0             1.0   \n",
       "54338  Creuar per fora pas de vianants         0.0             1.0   \n",
       "54339   Transitar a peu per la calçada         0.0             1.0   \n",
       "55031                           Altres         0.0             1.0   \n",
       "55518   Desobeir el senyal del semàfor         0.0             1.0   \n",
       "57750   Transitar a peu per la calçada         0.0             1.0   \n",
       "59192                           Altres         0.0             1.0   \n",
       "59194   Desobeir el senyal del semàfor         0.0             1.0   \n",
       "59322   Transitar a peu per la calçada         0.0             2.0   \n",
       "59323  Creuar per fora pas de vianants         0.0             2.0   \n",
       "60086  Creuar per fora pas de vianants         0.0             1.0   \n",
       "60087   Transitar a peu per la calçada         0.0             1.0   \n",
       "60129   Desobeir el senyal del semàfor         0.0             1.0   \n",
       "60130                           Altres         0.0             1.0   \n",
       "61407  Creuar per fora pas de vianants         0.0             1.0   \n",
       "61409   Desobeir el senyal del semàfor         0.0             1.0   \n",
       "61662  Creuar per fora pas de vianants         0.0             1.0   \n",
       "61663   Desobeir el senyal del semàfor         0.0             1.0   \n",
       "63189                           Altres         0.0             1.0   \n",
       "63190   Desobeir el senyal del semàfor         0.0             1.0   \n",
       "64548  Creuar per fora pas de vianants         0.0             2.0   \n",
       "64549   Desobeir el senyal del semàfor         0.0             2.0   \n",
       "65801  Creuar per fora pas de vianants         0.0             1.0   \n",
       "65802                           Altres         0.0             1.0   \n",
       "65917                           Altres         0.0             1.0   \n",
       "65918   Transitar a peu per la calçada         0.0             1.0   \n",
       "79473   Desobeir el senyal del semàfor         0.0             0.0   \n",
       "79474  Creuar per fora pas de vianants         0.0             0.0   \n",
       "79614  Creuar per fora pas de vianants         0.0             1.0   \n",
       "79615                           Altres         0.0             1.0   \n",
       "79791  Creuar per fora pas de vianants         0.0             2.0   \n",
       "79792   Transitar a peu per la calçada         0.0             2.0   \n",
       "82496                           Altres         0.0             1.0   \n",
       "82497   Desobeir el senyal del semàfor         0.0             1.0   \n",
       "83310                           Altres         0.0             1.0   \n",
       "83311   Transitar a peu per la calçada         0.0             1.0   \n",
       "83421   Desobeir el senyal del semàfor         0.0             1.0   \n",
       "83422                           Altres         0.0             1.0   \n",
       "84125   Desobeir el senyal del semàfor         0.0             2.0   \n",
       "84126                           Altres         0.0             2.0   \n",
       "\n",
       "       LESIONADOS GRAVE  CANTIDAD VICTIMAS CANTIDAD VEHICULOS  \\\n",
       "48623               0.0                1.0                1.0   \n",
       "51618               0.0                1.0                1.0   \n",
       "53761               0.0                1.0                1.0   \n",
       "54338               0.0                1.0                1.0   \n",
       "54339               0.0                1.0                1.0   \n",
       "55031               0.0                1.0                1.0   \n",
       "55518               0.0                1.0                1.0   \n",
       "57750               0.0                1.0                1.0   \n",
       "59192               0.0                1.0                1.0   \n",
       "59194               0.0                1.0                1.0   \n",
       "59322               0.0                2.0                1.0   \n",
       "59323               0.0                2.0                1.0   \n",
       "60086               0.0                1.0                1.0   \n",
       "60087               0.0                1.0                1.0   \n",
       "60129               0.0                1.0                1.0   \n",
       "60130               0.0                1.0                1.0   \n",
       "61407               0.0                1.0                1.0   \n",
       "61409               0.0                1.0                1.0   \n",
       "61662               0.0                1.0                1.0   \n",
       "61663               0.0                1.0                1.0   \n",
       "63189               0.0                1.0                1.0   \n",
       "63190               0.0                1.0                1.0   \n",
       "64548               0.0                2.0                1.0   \n",
       "64549               0.0                2.0                1.0   \n",
       "65801               0.0                1.0                1.0   \n",
       "65802               0.0                1.0                1.0   \n",
       "65917               0.0                1.0                1.0   \n",
       "65918               0.0                1.0                1.0   \n",
       "79473               1.0                1.0                1.0   \n",
       "79474               1.0                1.0                1.0   \n",
       "79614               0.0                1.0                1.0   \n",
       "79615               0.0                1.0                1.0   \n",
       "79791               0.0                2.0                1.0   \n",
       "79792               0.0                2.0                1.0   \n",
       "82496               0.0                1.0                1.0   \n",
       "82497               0.0                1.0                1.0   \n",
       "83310               0.0                1.0                1.0   \n",
       "83311               0.0                1.0                1.0   \n",
       "83421               0.0                1.0                1.0   \n",
       "83422               0.0                1.0                1.0   \n",
       "84125               0.0                2.0                1.0   \n",
       "84126               0.0                2.0                1.0   \n",
       "\n",
       "      COORDENADA UTM X  COORDENADA UTM Y  \n",
       "48623        433536,88        4584557,54  \n",
       "51618        430601,34        4582179,48  \n",
       "53761        434043,53        4583913,96  \n",
       "54338        427879,29         4579006,9  \n",
       "54339        427879,29         4579006,9  \n",
       "55031        433536,88        4584557,54  \n",
       "55518        430601,34        4582179,48  \n",
       "57750        434043,53        4583913,96  \n",
       "59192         427647.5        4579751.39  \n",
       "59194         427647.5        4579751.39  \n",
       "59322        427543.61        4580251.36  \n",
       "59323        427543.61        4580251.36  \n",
       "60086        427078.67        4581285.13  \n",
       "60087        427078.67        4581285.13  \n",
       "60129        429744.27        4581335.47  \n",
       "60130        429744.27        4581335.47  \n",
       "61407        431170.83        4582187.93  \n",
       "61409        431170.83        4582187.93  \n",
       "61662        426980.57        4582337.48  \n",
       "61663        426980.57        4582337.48  \n",
       "63189        427194.91        4583076.17  \n",
       "63190        427194.91        4583076.17  \n",
       "64548        427808.19        4583745.01  \n",
       "64549        427808.19        4583745.01  \n",
       "65801        429785.08        4584552.91  \n",
       "65802        429785.08        4584552.91  \n",
       "65917        430299.42        4584642.04  \n",
       "65918        430299.42        4584642.04  \n",
       "79473        4583295.6         429000.18  \n",
       "79474        4583295.6         429000.18  \n",
       "79614        4585841.6         432122.08  \n",
       "79615        4585841.6         432122.08  \n",
       "79791       4582643.19         429875.67  \n",
       "79792       4582643.19         429875.67  \n",
       "82496       4584077.09         431398.84  \n",
       "82497       4584077.09         431398.84  \n",
       "83310       4585391.51          427900.3  \n",
       "83311       4585391.51          427900.3  \n",
       "83421       4588348.41         430457.12  \n",
       "83422       4588348.41         430457.12  \n",
       "84125        4581210.7          426928.7  \n",
       "84126        4581210.7          426928.7  \n",
       "\n",
       "[42 rows x 26 columns]"
      ],
      "text/html": "<div>\n<style scoped>\n    .dataframe tbody tr th:only-of-type {\n        vertical-align: middle;\n    }\n\n    .dataframe tbody tr th {\n        vertical-align: top;\n    }\n\n    .dataframe thead th {\n        text-align: right;\n    }\n</style>\n<table border=\"1\" class=\"dataframe\">\n  <thead>\n    <tr style=\"text-align: right;\">\n      <th></th>\n      <th>Unnamed: 0</th>\n      <th>NUMERO EXPEDIENTE</th>\n      <th>CODIGO DISTRITO</th>\n      <th>DISTRITO</th>\n      <th>CODIGO BARRIO</th>\n      <th>BARRIO</th>\n      <th>CODIGO CALLE</th>\n      <th>CALLE</th>\n      <th>NUMERO POSTAL</th>\n      <th>DIA SEMANA</th>\n      <th>...</th>\n      <th>HORA</th>\n      <th>TURNO</th>\n      <th>CAUSA</th>\n      <th>FALLECIDOS</th>\n      <th>LESIONADOS LEVE</th>\n      <th>LESIONADOS GRAVE</th>\n      <th>CANTIDAD VICTIMAS</th>\n      <th>CANTIDAD VEHICULOS</th>\n      <th>COORDENADA UTM X</th>\n      <th>COORDENADA UTM Y</th>\n    </tr>\n  </thead>\n  <tbody>\n    <tr>\n      <th>48623</th>\n      <td>48623</td>\n      <td>2017S008856</td>\n      <td>10.0</td>\n      <td>Sant Martí</td>\n      <td>71.0</td>\n      <td>Provençals del Poblenou</td>\n      <td>30409.0</td>\n      <td>Diagonal / Bac de Roda                        ...</td>\n      <td>0100 0108</td>\n      <td>Dijous</td>\n      <td>...</td>\n      <td>8.0</td>\n      <td>Matí</td>\n      <td>Desobeir el senyal del semàfor</td>\n      <td>0.0</td>\n      <td>1.0</td>\n      <td>0.0</td>\n      <td>1.0</td>\n      <td>1.0</td>\n      <td>433536,88</td>\n      <td>4584557,54</td>\n    </tr>\n    <tr>\n      <th>51618</th>\n      <td>51618</td>\n      <td>2017S003750</td>\n      <td>2.0</td>\n      <td>Eixample</td>\n      <td>7.0</td>\n      <td>la Dreta de l'Eixample</td>\n      <td>357001.0</td>\n      <td>Bergara                                       ...</td>\n      <td>0014 0014</td>\n      <td>Dijous</td>\n      <td>...</td>\n      <td>16.0</td>\n      <td>Tarda</td>\n      <td>Altres</td>\n      <td>0.0</td>\n      <td>1.0</td>\n      <td>0.0</td>\n      <td>1.0</td>\n      <td>1.0</td>\n      <td>430601,34</td>\n      <td>4582179,48</td>\n    </tr>\n    <tr>\n      <th>53761</th>\n      <td>53761</td>\n      <td>2017S004447</td>\n      <td>10.0</td>\n      <td>Sant Martí</td>\n      <td>69.0</td>\n      <td>Diagonal Mar i el Front Marítim del Poblenou</td>\n      <td>701278.0</td>\n      <td>Taulat                                        ...</td>\n      <td>0136 0136</td>\n      <td>Divendres</td>\n      <td>...</td>\n      <td>20.0</td>\n      <td>Tarda</td>\n      <td>Creuar per fora pas de vianants</td>\n      <td>0.0</td>\n      <td>1.0</td>\n      <td>0.0</td>\n      <td>1.0</td>\n      <td>1.0</td>\n      <td>434043,53</td>\n      <td>4583913,96</td>\n    </tr>\n    <tr>\n      <th>54338</th>\n      <td>54338</td>\n      <td>2017S003286</td>\n      <td>3.0</td>\n      <td>Sants-Montjuïc</td>\n      <td>13.0</td>\n      <td>la Marina de Port</td>\n      <td>109906.0</td>\n      <td>Energia                                       ...</td>\n      <td>0001X0001X</td>\n      <td>Dilluns</td>\n      <td>...</td>\n      <td>13.0</td>\n      <td>Matí</td>\n      <td>Creuar per fora pas de vianants</td>\n      <td>0.0</td>\n      <td>1.0</td>\n      <td>0.0</td>\n      <td>1.0</td>\n      <td>1.0</td>\n      <td>427879,29</td>\n      <td>4579006,9</td>\n    </tr>\n    <tr>\n      <th>54339</th>\n      <td>54339</td>\n      <td>2017S003286</td>\n      <td>3.0</td>\n      <td>Sants-Montjuïc</td>\n      <td>13.0</td>\n      <td>la Marina de Port</td>\n      <td>109906.0</td>\n      <td>Energia                                       ...</td>\n      <td>0001X0001X</td>\n      <td>Dilluns</td>\n      <td>...</td>\n      <td>13.0</td>\n      <td>Matí</td>\n      <td>Transitar a peu per la calçada</td>\n      <td>0.0</td>\n      <td>1.0</td>\n      <td>0.0</td>\n      <td>1.0</td>\n      <td>1.0</td>\n      <td>427879,29</td>\n      <td>4579006,9</td>\n    </tr>\n    <tr>\n      <th>55031</th>\n      <td>55031</td>\n      <td>2017S008856</td>\n      <td>10.0</td>\n      <td>Sant Martí</td>\n      <td>71.0</td>\n      <td>Provençals del Poblenou</td>\n      <td>30409.0</td>\n      <td>Diagonal / Bac de Roda                        ...</td>\n      <td>0100 0108</td>\n      <td>Dijous</td>\n      <td>...</td>\n      <td>8.0</td>\n      <td>Matí</td>\n      <td>Altres</td>\n      <td>0.0</td>\n      <td>1.0</td>\n      <td>0.0</td>\n      <td>1.0</td>\n      <td>1.0</td>\n      <td>433536,88</td>\n      <td>4584557,54</td>\n    </tr>\n    <tr>\n      <th>55518</th>\n      <td>55518</td>\n      <td>2017S003750</td>\n      <td>2.0</td>\n      <td>Eixample</td>\n      <td>7.0</td>\n      <td>la Dreta de l'Eixample</td>\n      <td>357001.0</td>\n      <td>Bergara                                       ...</td>\n      <td>0014 0014</td>\n      <td>Dijous</td>\n      <td>...</td>\n      <td>16.0</td>\n      <td>Tarda</td>\n      <td>Desobeir el senyal del semàfor</td>\n      <td>0.0</td>\n      <td>1.0</td>\n      <td>0.0</td>\n      <td>1.0</td>\n      <td>1.0</td>\n      <td>430601,34</td>\n      <td>4582179,48</td>\n    </tr>\n    <tr>\n      <th>57750</th>\n      <td>57750</td>\n      <td>2017S004447</td>\n      <td>10.0</td>\n      <td>Sant Martí</td>\n      <td>69.0</td>\n      <td>Diagonal Mar i el Front Marítim del Poblenou</td>\n      <td>701278.0</td>\n      <td>Taulat                                        ...</td>\n      <td>0136 0136</td>\n      <td>Divendres</td>\n      <td>...</td>\n      <td>20.0</td>\n      <td>Tarda</td>\n      <td>Transitar a peu per la calçada</td>\n      <td>0.0</td>\n      <td>1.0</td>\n      <td>0.0</td>\n      <td>1.0</td>\n      <td>1.0</td>\n      <td>434043,53</td>\n      <td>4583913,96</td>\n    </tr>\n    <tr>\n      <th>59192</th>\n      <td>59192</td>\n      <td>2018S003156</td>\n      <td>3.0</td>\n      <td>Sants-Montjuïc</td>\n      <td>16.0</td>\n      <td>la Bordeta</td>\n      <td>169409.0</td>\n      <td>Corts Catalanes                               ...</td>\n      <td>111-119</td>\n      <td>Dimarts</td>\n      <td>...</td>\n      <td>9.0</td>\n      <td>Matí</td>\n      <td>Altres</td>\n      <td>0.0</td>\n      <td>1.0</td>\n      <td>0.0</td>\n      <td>1.0</td>\n      <td>1.0</td>\n      <td>427647.5</td>\n      <td>4579751.39</td>\n    </tr>\n    <tr>\n      <th>59194</th>\n      <td>59194</td>\n      <td>2018S003156</td>\n      <td>3.0</td>\n      <td>Sants-Montjuïc</td>\n      <td>16.0</td>\n      <td>la Bordeta</td>\n      <td>169409.0</td>\n      <td>Corts Catalanes                               ...</td>\n      <td>111-119</td>\n      <td>Dimarts</td>\n      <td>...</td>\n      <td>9.0</td>\n      <td>Matí</td>\n      <td>Desobeir el senyal del semàfor</td>\n      <td>0.0</td>\n      <td>1.0</td>\n      <td>0.0</td>\n      <td>1.0</td>\n      <td>1.0</td>\n      <td>427647.5</td>\n      <td>4579751.39</td>\n    </tr>\n    <tr>\n      <th>59322</th>\n      <td>59322</td>\n      <td>2018S002285</td>\n      <td>3.0</td>\n      <td>Sants-Montjuïc</td>\n      <td>16.0</td>\n      <td>la Bordeta</td>\n      <td>89707.0</td>\n      <td>Constitució                                   ...</td>\n      <td>155</td>\n      <td>Dijous</td>\n      <td>...</td>\n      <td>9.0</td>\n      <td>Matí</td>\n      <td>Transitar a peu per la calçada</td>\n      <td>0.0</td>\n      <td>2.0</td>\n      <td>0.0</td>\n      <td>2.0</td>\n      <td>1.0</td>\n      <td>427543.61</td>\n      <td>4580251.36</td>\n    </tr>\n    <tr>\n      <th>59323</th>\n      <td>59323</td>\n      <td>2018S002285</td>\n      <td>3.0</td>\n      <td>Sants-Montjuïc</td>\n      <td>16.0</td>\n      <td>la Bordeta</td>\n      <td>89707.0</td>\n      <td>Constitució                                   ...</td>\n      <td>155</td>\n      <td>Dijous</td>\n      <td>...</td>\n      <td>9.0</td>\n      <td>Matí</td>\n      <td>Creuar per fora pas de vianants</td>\n      <td>0.0</td>\n      <td>2.0</td>\n      <td>0.0</td>\n      <td>2.0</td>\n      <td>1.0</td>\n      <td>427543.61</td>\n      <td>4580251.36</td>\n    </tr>\n    <tr>\n      <th>60086</th>\n      <td>60086</td>\n      <td>2018S002968</td>\n      <td>3.0</td>\n      <td>Sants-Montjuïc</td>\n      <td>17.0</td>\n      <td>Sants - Badal</td>\n      <td>187207.0</td>\n      <td>Madrid                                        ...</td>\n      <td>68</td>\n      <td>Dimecres</td>\n      <td>...</td>\n      <td>12.0</td>\n      <td>Matí</td>\n      <td>Creuar per fora pas de vianants</td>\n      <td>0.0</td>\n      <td>1.0</td>\n      <td>0.0</td>\n      <td>1.0</td>\n      <td>1.0</td>\n      <td>427078.67</td>\n      <td>4581285.13</td>\n    </tr>\n    <tr>\n      <th>60087</th>\n      <td>60087</td>\n      <td>2018S002968</td>\n      <td>3.0</td>\n      <td>Sants-Montjuïc</td>\n      <td>17.0</td>\n      <td>Sants - Badal</td>\n      <td>187207.0</td>\n      <td>Madrid                                        ...</td>\n      <td>68</td>\n      <td>Dimecres</td>\n      <td>...</td>\n      <td>12.0</td>\n      <td>Matí</td>\n      <td>Transitar a peu per la calçada</td>\n      <td>0.0</td>\n      <td>1.0</td>\n      <td>0.0</td>\n      <td>1.0</td>\n      <td>1.0</td>\n      <td>427078.67</td>\n      <td>4581285.13</td>\n    </tr>\n    <tr>\n      <th>60129</th>\n      <td>60129</td>\n      <td>2018S009504</td>\n      <td>2.0</td>\n      <td>Eixample</td>\n      <td>10.0</td>\n      <td>Sant Antoni</td>\n      <td>127704.0</td>\n      <td>Floridablanca / Viladomat                     ...</td>\n      <td>NaN</td>\n      <td>Dijous</td>\n      <td>...</td>\n      <td>10.0</td>\n      <td>Matí</td>\n      <td>Desobeir el senyal del semàfor</td>\n      <td>0.0</td>\n      <td>1.0</td>\n      <td>0.0</td>\n      <td>1.0</td>\n      <td>1.0</td>\n      <td>429744.27</td>\n      <td>4581335.47</td>\n    </tr>\n    <tr>\n      <th>60130</th>\n      <td>60130</td>\n      <td>2018S009504</td>\n      <td>2.0</td>\n      <td>Eixample</td>\n      <td>10.0</td>\n      <td>Sant Antoni</td>\n      <td>127704.0</td>\n      <td>Floridablanca / Viladomat                     ...</td>\n      <td>NaN</td>\n      <td>Dijous</td>\n      <td>...</td>\n      <td>10.0</td>\n      <td>Matí</td>\n      <td>Altres</td>\n      <td>0.0</td>\n      <td>1.0</td>\n      <td>0.0</td>\n      <td>1.0</td>\n      <td>1.0</td>\n      <td>429744.27</td>\n      <td>4581335.47</td>\n    </tr>\n    <tr>\n      <th>61407</th>\n      <td>61407</td>\n      <td>2018S005992</td>\n      <td>1.0</td>\n      <td>Ciutat Vella</td>\n      <td>4.0</td>\n      <td>Sant Pere, Santa Caterina i la Ribera</td>\n      <td>177101.0</td>\n      <td>Laietana                                      ...</td>\n      <td>46</td>\n      <td>Dijous</td>\n      <td>...</td>\n      <td>17.0</td>\n      <td>Tarda</td>\n      <td>Creuar per fora pas de vianants</td>\n      <td>0.0</td>\n      <td>1.0</td>\n      <td>0.0</td>\n      <td>1.0</td>\n      <td>1.0</td>\n      <td>431170.83</td>\n      <td>4582187.93</td>\n    </tr>\n    <tr>\n      <th>61409</th>\n      <td>61409</td>\n      <td>2018S005992</td>\n      <td>1.0</td>\n      <td>Ciutat Vella</td>\n      <td>4.0</td>\n      <td>Sant Pere, Santa Caterina i la Ribera</td>\n      <td>177101.0</td>\n      <td>Laietana                                      ...</td>\n      <td>46</td>\n      <td>Dijous</td>\n      <td>...</td>\n      <td>17.0</td>\n      <td>Tarda</td>\n      <td>Desobeir el senyal del semàfor</td>\n      <td>0.0</td>\n      <td>1.0</td>\n      <td>0.0</td>\n      <td>1.0</td>\n      <td>1.0</td>\n      <td>431170.83</td>\n      <td>4582187.93</td>\n    </tr>\n    <tr>\n      <th>61662</th>\n      <td>61662</td>\n      <td>2018S001774</td>\n      <td>4.0</td>\n      <td>Les Corts</td>\n      <td>20.0</td>\n      <td>la Maternitat i Sant Ramon</td>\n      <td>144601.0</td>\n      <td>Diagonal                                      ...</td>\n      <td>629</td>\n      <td>Diumenge</td>\n      <td>...</td>\n      <td>19.0</td>\n      <td>Tarda</td>\n      <td>Creuar per fora pas de vianants</td>\n      <td>0.0</td>\n      <td>1.0</td>\n      <td>0.0</td>\n      <td>1.0</td>\n      <td>1.0</td>\n      <td>426980.57</td>\n      <td>4582337.48</td>\n    </tr>\n    <tr>\n      <th>61663</th>\n      <td>61663</td>\n      <td>2018S001774</td>\n      <td>4.0</td>\n      <td>Les Corts</td>\n      <td>20.0</td>\n      <td>la Maternitat i Sant Ramon</td>\n      <td>144601.0</td>\n      <td>Diagonal                                      ...</td>\n      <td>629</td>\n      <td>Diumenge</td>\n      <td>...</td>\n      <td>19.0</td>\n      <td>Tarda</td>\n      <td>Desobeir el senyal del semàfor</td>\n      <td>0.0</td>\n      <td>1.0</td>\n      <td>0.0</td>\n      <td>1.0</td>\n      <td>1.0</td>\n      <td>426980.57</td>\n      <td>4582337.48</td>\n    </tr>\n    <tr>\n      <th>63189</th>\n      <td>63189</td>\n      <td>2018S000261</td>\n      <td>5.0</td>\n      <td>Sarrià-Sant Gervasi</td>\n      <td>23.0</td>\n      <td>Sarrià</td>\n      <td>305201.0</td>\n      <td>Sant Joan Bosco / Maria Auxiliadora           ...</td>\n      <td>NaN</td>\n      <td>Dijous</td>\n      <td>...</td>\n      <td>19.0</td>\n      <td>Tarda</td>\n      <td>Altres</td>\n      <td>0.0</td>\n      <td>1.0</td>\n      <td>0.0</td>\n      <td>1.0</td>\n      <td>1.0</td>\n      <td>427194.91</td>\n      <td>4583076.17</td>\n    </tr>\n    <tr>\n      <th>63190</th>\n      <td>63190</td>\n      <td>2018S000261</td>\n      <td>5.0</td>\n      <td>Sarrià-Sant Gervasi</td>\n      <td>23.0</td>\n      <td>Sarrià</td>\n      <td>305201.0</td>\n      <td>Sant Joan Bosco / Maria Auxiliadora           ...</td>\n      <td>NaN</td>\n      <td>Dijous</td>\n      <td>...</td>\n      <td>19.0</td>\n      <td>Tarda</td>\n      <td>Desobeir el senyal del semàfor</td>\n      <td>0.0</td>\n      <td>1.0</td>\n      <td>0.0</td>\n      <td>1.0</td>\n      <td>1.0</td>\n      <td>427194.91</td>\n      <td>4583076.17</td>\n    </tr>\n    <tr>\n      <th>64548</th>\n      <td>64548</td>\n      <td>2018S002344</td>\n      <td>5.0</td>\n      <td>Sarrià-Sant Gervasi</td>\n      <td>26.0</td>\n      <td>Sant Gervasi - Galvany</td>\n      <td>143904.0</td>\n      <td>General Mitre                                 ...</td>\n      <td>92-94</td>\n      <td>Dissabte</td>\n      <td>...</td>\n      <td>9.0</td>\n      <td>Matí</td>\n      <td>Creuar per fora pas de vianants</td>\n      <td>0.0</td>\n      <td>2.0</td>\n      <td>0.0</td>\n      <td>2.0</td>\n      <td>1.0</td>\n      <td>427808.19</td>\n      <td>4583745.01</td>\n    </tr>\n    <tr>\n      <th>64549</th>\n      <td>64549</td>\n      <td>2018S002344</td>\n      <td>5.0</td>\n      <td>Sarrià-Sant Gervasi</td>\n      <td>26.0</td>\n      <td>Sant Gervasi - Galvany</td>\n      <td>143904.0</td>\n      <td>General Mitre                                 ...</td>\n      <td>92-94</td>\n      <td>Dissabte</td>\n      <td>...</td>\n      <td>9.0</td>\n      <td>Matí</td>\n      <td>Desobeir el senyal del semàfor</td>\n      <td>0.0</td>\n      <td>2.0</td>\n      <td>0.0</td>\n      <td>2.0</td>\n      <td>1.0</td>\n      <td>427808.19</td>\n      <td>4583745.01</td>\n    </tr>\n    <tr>\n      <th>65801</th>\n      <td>65801</td>\n      <td>2018S001500</td>\n      <td>6.0</td>\n      <td>Gràcia</td>\n      <td>31</td>\n      <td>la Vila de Gràcia</td>\n      <td>290206.0</td>\n      <td>Torrent de les Flors / Rovira i Trias         ...</td>\n      <td>NaN</td>\n      <td>Dissabte</td>\n      <td>...</td>\n      <td>12.0</td>\n      <td>Matí</td>\n      <td>Creuar per fora pas de vianants</td>\n      <td>0.0</td>\n      <td>1.0</td>\n      <td>0.0</td>\n      <td>1.0</td>\n      <td>1.0</td>\n      <td>429785.08</td>\n      <td>4584552.91</td>\n    </tr>\n    <tr>\n      <th>65802</th>\n      <td>65802</td>\n      <td>2018S001500</td>\n      <td>6.0</td>\n      <td>Gràcia</td>\n      <td>31</td>\n      <td>la Vila de Gràcia</td>\n      <td>290206.0</td>\n      <td>Torrent de les Flors / Rovira i Trias         ...</td>\n      <td>NaN</td>\n      <td>Dissabte</td>\n      <td>...</td>\n      <td>12.0</td>\n      <td>Matí</td>\n      <td>Altres</td>\n      <td>0.0</td>\n      <td>1.0</td>\n      <td>0.0</td>\n      <td>1.0</td>\n      <td>1.0</td>\n      <td>429785.08</td>\n      <td>4584552.91</td>\n    </tr>\n    <tr>\n      <th>65917</th>\n      <td>65917</td>\n      <td>2018S000183</td>\n      <td>6.0</td>\n      <td>Gràcia</td>\n      <td>32</td>\n      <td>el Camp d'en Grassot i Gràcia Nova</td>\n      <td>356304.0</td>\n      <td>Taxdirt / Ventalló                            ...</td>\n      <td>NaN</td>\n      <td>Dilluns</td>\n      <td>...</td>\n      <td>15.0</td>\n      <td>Tarda</td>\n      <td>Altres</td>\n      <td>0.0</td>\n      <td>1.0</td>\n      <td>0.0</td>\n      <td>1.0</td>\n      <td>1.0</td>\n      <td>430299.42</td>\n      <td>4584642.04</td>\n    </tr>\n    <tr>\n      <th>65918</th>\n      <td>65918</td>\n      <td>2018S000183</td>\n      <td>6.0</td>\n      <td>Gràcia</td>\n      <td>32</td>\n      <td>el Camp d'en Grassot i Gràcia Nova</td>\n      <td>356304.0</td>\n      <td>Taxdirt / Ventalló                            ...</td>\n      <td>NaN</td>\n      <td>Dilluns</td>\n      <td>...</td>\n      <td>15.0</td>\n      <td>Tarda</td>\n      <td>Transitar a peu per la calçada</td>\n      <td>0.0</td>\n      <td>1.0</td>\n      <td>0.0</td>\n      <td>1.0</td>\n      <td>1.0</td>\n      <td>430299.42</td>\n      <td>4584642.04</td>\n    </tr>\n    <tr>\n      <th>79473</th>\n      <td>79473</td>\n      <td>2020S000638</td>\n      <td>5.0</td>\n      <td>Sarrià-Sant Gervasi</td>\n      <td>51-5-26</td>\n      <td>Sant Gervasi - Galvany</td>\n      <td>344101.0</td>\n      <td>Gràcia</td>\n      <td>0051 0051</td>\n      <td>Dilluns</td>\n      <td>...</td>\n      <td>15.0</td>\n      <td>Tarda</td>\n      <td>Desobeir el senyal del semàfor</td>\n      <td>0.0</td>\n      <td>0.0</td>\n      <td>1.0</td>\n      <td>1.0</td>\n      <td>1.0</td>\n      <td>4583295.6</td>\n      <td>429000.18</td>\n    </tr>\n    <tr>\n      <th>79474</th>\n      <td>79474</td>\n      <td>2020S000638</td>\n      <td>5.0</td>\n      <td>Sarrià-Sant Gervasi</td>\n      <td>51-5-26</td>\n      <td>Sant Gervasi - Galvany</td>\n      <td>344101.0</td>\n      <td>Gràcia</td>\n      <td>0051 0051</td>\n      <td>Dilluns</td>\n      <td>...</td>\n      <td>15.0</td>\n      <td>Tarda</td>\n      <td>Creuar per fora pas de vianants</td>\n      <td>0.0</td>\n      <td>0.0</td>\n      <td>1.0</td>\n      <td>1.0</td>\n      <td>1.0</td>\n      <td>4583295.6</td>\n      <td>429000.18</td>\n    </tr>\n    <tr>\n      <th>79614</th>\n      <td>79614</td>\n      <td>2020S000778</td>\n      <td>9.0</td>\n      <td>Sant Andreu</td>\n      <td>91-9-63</td>\n      <td>Navas</td>\n      <td>209900.0</td>\n      <td>Meridiana</td>\n      <td>0235 0235</td>\n      <td>Dijous</td>\n      <td>...</td>\n      <td>16.0</td>\n      <td>Tarda</td>\n      <td>Creuar per fora pas de vianants</td>\n      <td>0.0</td>\n      <td>1.0</td>\n      <td>0.0</td>\n      <td>1.0</td>\n      <td>1.0</td>\n      <td>4585841.6</td>\n      <td>432122.08</td>\n    </tr>\n    <tr>\n      <th>79615</th>\n      <td>79615</td>\n      <td>2020S000778</td>\n      <td>9.0</td>\n      <td>Sant Andreu</td>\n      <td>91-9-63</td>\n      <td>Navas</td>\n      <td>209900.0</td>\n      <td>Meridiana</td>\n      <td>0235 0235</td>\n      <td>Dijous</td>\n      <td>...</td>\n      <td>16.0</td>\n      <td>Tarda</td>\n      <td>Altres</td>\n      <td>0.0</td>\n      <td>1.0</td>\n      <td>0.0</td>\n      <td>1.0</td>\n      <td>1.0</td>\n      <td>4585841.6</td>\n      <td>432122.08</td>\n    </tr>\n    <tr>\n      <th>79791</th>\n      <td>79791</td>\n      <td>2020S000956</td>\n      <td>2.0</td>\n      <td>Eixample</td>\n      <td>23-2-8</td>\n      <td>l'Antiga Esquerra de l'Eixample</td>\n      <td>350308.0</td>\n      <td>València</td>\n      <td>0211 0211</td>\n      <td>Dissabte</td>\n      <td>...</td>\n      <td>0.0</td>\n      <td>Nit</td>\n      <td>Creuar per fora pas de vianants</td>\n      <td>0.0</td>\n      <td>2.0</td>\n      <td>0.0</td>\n      <td>2.0</td>\n      <td>1.0</td>\n      <td>4582643.19</td>\n      <td>429875.67</td>\n    </tr>\n    <tr>\n      <th>79792</th>\n      <td>79792</td>\n      <td>2020S000956</td>\n      <td>2.0</td>\n      <td>Eixample</td>\n      <td>23-2-8</td>\n      <td>l'Antiga Esquerra de l'Eixample</td>\n      <td>350308.0</td>\n      <td>València</td>\n      <td>0211 0211</td>\n      <td>Dissabte</td>\n      <td>...</td>\n      <td>0.0</td>\n      <td>Nit</td>\n      <td>Transitar a peu per la calçada</td>\n      <td>0.0</td>\n      <td>2.0</td>\n      <td>0.0</td>\n      <td>2.0</td>\n      <td>1.0</td>\n      <td>4582643.19</td>\n      <td>429875.67</td>\n    </tr>\n    <tr>\n      <th>82496</th>\n      <td>82496</td>\n      <td>2020S003665</td>\n      <td>2.0</td>\n      <td>Eixample</td>\n      <td>25-2-6</td>\n      <td>la Sagrada Família</td>\n      <td>178308.0</td>\n      <td>Lepant</td>\n      <td>0258 0258</td>\n      <td>Dijous</td>\n      <td>...</td>\n      <td>10.0</td>\n      <td>Matí</td>\n      <td>Altres</td>\n      <td>0.0</td>\n      <td>1.0</td>\n      <td>0.0</td>\n      <td>1.0</td>\n      <td>1.0</td>\n      <td>4584077.09</td>\n      <td>431398.84</td>\n    </tr>\n    <tr>\n      <th>82497</th>\n      <td>82497</td>\n      <td>2020S003665</td>\n      <td>2.0</td>\n      <td>Eixample</td>\n      <td>25-2-6</td>\n      <td>la Sagrada Família</td>\n      <td>178308.0</td>\n      <td>Lepant</td>\n      <td>0258 0258</td>\n      <td>Dijous</td>\n      <td>...</td>\n      <td>10.0</td>\n      <td>Matí</td>\n      <td>Desobeir el senyal del semàfor</td>\n      <td>0.0</td>\n      <td>1.0</td>\n      <td>0.0</td>\n      <td>1.0</td>\n      <td>1.0</td>\n      <td>4584077.09</td>\n      <td>431398.84</td>\n    </tr>\n    <tr>\n      <th>83310</th>\n      <td>83310</td>\n      <td>2020S004479</td>\n      <td>5.0</td>\n      <td>Sarrià-Sant Gervasi</td>\n      <td>53-5-25</td>\n      <td>Sant Gervasi - la Bonanova</td>\n      <td>701268.0</td>\n      <td>Dalt (Llobregat)</td>\n      <td>940000</td>\n      <td>Dimarts</td>\n      <td>...</td>\n      <td>10.0</td>\n      <td>Matí</td>\n      <td>Altres</td>\n      <td>0.0</td>\n      <td>1.0</td>\n      <td>0.0</td>\n      <td>1.0</td>\n      <td>1.0</td>\n      <td>4585391.51</td>\n      <td>427900.3</td>\n    </tr>\n    <tr>\n      <th>83311</th>\n      <td>83311</td>\n      <td>2020S004479</td>\n      <td>5.0</td>\n      <td>Sarrià-Sant Gervasi</td>\n      <td>53-5-25</td>\n      <td>Sant Gervasi - la Bonanova</td>\n      <td>701268.0</td>\n      <td>Dalt (Llobregat)</td>\n      <td>940000</td>\n      <td>Dimarts</td>\n      <td>...</td>\n      <td>10.0</td>\n      <td>Matí</td>\n      <td>Transitar a peu per la calçada</td>\n      <td>0.0</td>\n      <td>1.0</td>\n      <td>0.0</td>\n      <td>1.0</td>\n      <td>1.0</td>\n      <td>4585391.51</td>\n      <td>427900.3</td>\n    </tr>\n    <tr>\n      <th>83421</th>\n      <td>83421</td>\n      <td>2020S004590</td>\n      <td>8.0</td>\n      <td>Nou Barris</td>\n      <td>82-8-49</td>\n      <td>Canyelles</td>\n      <td>120807.0</td>\n      <td>Favència</td>\n      <td>0041 0045</td>\n      <td>Dijous</td>\n      <td>...</td>\n      <td>13.0</td>\n      <td>Matí</td>\n      <td>Desobeir el senyal del semàfor</td>\n      <td>0.0</td>\n      <td>1.0</td>\n      <td>0.0</td>\n      <td>1.0</td>\n      <td>1.0</td>\n      <td>4588348.41</td>\n      <td>430457.12</td>\n    </tr>\n    <tr>\n      <th>83422</th>\n      <td>83422</td>\n      <td>2020S004590</td>\n      <td>8.0</td>\n      <td>Nou Barris</td>\n      <td>82-8-49</td>\n      <td>Canyelles</td>\n      <td>120807.0</td>\n      <td>Favència</td>\n      <td>0041 0045</td>\n      <td>Dijous</td>\n      <td>...</td>\n      <td>13.0</td>\n      <td>Matí</td>\n      <td>Altres</td>\n      <td>0.0</td>\n      <td>1.0</td>\n      <td>0.0</td>\n      <td>1.0</td>\n      <td>1.0</td>\n      <td>4588348.41</td>\n      <td>430457.12</td>\n    </tr>\n    <tr>\n      <th>84125</th>\n      <td>84125</td>\n      <td>2020S005294</td>\n      <td>4.0</td>\n      <td>Les Corts</td>\n      <td>42-4-20</td>\n      <td>la Maternitat i Sant Ramon</td>\n      <td>187207.0</td>\n      <td>Madrid</td>\n      <td>0039 0041</td>\n      <td>Dimecres</td>\n      <td>...</td>\n      <td>13.0</td>\n      <td>Matí</td>\n      <td>Desobeir el senyal del semàfor</td>\n      <td>0.0</td>\n      <td>2.0</td>\n      <td>0.0</td>\n      <td>2.0</td>\n      <td>1.0</td>\n      <td>4581210.7</td>\n      <td>426928.7</td>\n    </tr>\n    <tr>\n      <th>84126</th>\n      <td>84126</td>\n      <td>2020S005294</td>\n      <td>4.0</td>\n      <td>Les Corts</td>\n      <td>42-4-20</td>\n      <td>la Maternitat i Sant Ramon</td>\n      <td>187207.0</td>\n      <td>Madrid</td>\n      <td>0039 0041</td>\n      <td>Dimecres</td>\n      <td>...</td>\n      <td>13.0</td>\n      <td>Matí</td>\n      <td>Altres</td>\n      <td>0.0</td>\n      <td>2.0</td>\n      <td>0.0</td>\n      <td>2.0</td>\n      <td>1.0</td>\n      <td>4581210.7</td>\n      <td>426928.7</td>\n    </tr>\n  </tbody>\n</table>\n<p>42 rows × 26 columns</p>\n</div>"
     },
     "metadata": {},
     "execution_count": 70
    }
   ],
   "source": [
    "df_gu.loc[df_gu['NUMERO EXPEDIENTE'].duplicated(keep = False), :]"
   ]
  },
  {
   "cell_type": "code",
   "execution_count": 66,
   "metadata": {},
   "outputs": [
    {
     "output_type": "execute_result",
     "data": {
      "text/plain": [
       "Empty DataFrame\n",
       "Columns: [Unnamed: 0, NUMERO EXPEDIENTE, CODIGO DISTRITO, DISTRITO, CODIGO BARRIO, BARRIO, CODIGO CALLE, CALLE, NUMERO POSTAL, DIA SEMANA, DIA SEMANA (NUMERICO), TIPO DE DIA, ANO, MES (NUMERICO), MES, DIA, HORA, TURNO, CAUSA, FALLECIDOS, LESIONADOS LEVE, LESIONADOS GRAVE, CANTIDAD VICTIMAS, CANTIDAD VEHICULOS, COORDENADA UTM X, COORDENADA UTM Y]\n",
       "Index: []\n",
       "\n",
       "[0 rows x 26 columns]"
      ],
      "text/html": "<div>\n<style scoped>\n    .dataframe tbody tr th:only-of-type {\n        vertical-align: middle;\n    }\n\n    .dataframe tbody tr th {\n        vertical-align: top;\n    }\n\n    .dataframe thead th {\n        text-align: right;\n    }\n</style>\n<table border=\"1\" class=\"dataframe\">\n  <thead>\n    <tr style=\"text-align: right;\">\n      <th></th>\n      <th>Unnamed: 0</th>\n      <th>NUMERO EXPEDIENTE</th>\n      <th>CODIGO DISTRITO</th>\n      <th>DISTRITO</th>\n      <th>CODIGO BARRIO</th>\n      <th>BARRIO</th>\n      <th>CODIGO CALLE</th>\n      <th>CALLE</th>\n      <th>NUMERO POSTAL</th>\n      <th>DIA SEMANA</th>\n      <th>...</th>\n      <th>HORA</th>\n      <th>TURNO</th>\n      <th>CAUSA</th>\n      <th>FALLECIDOS</th>\n      <th>LESIONADOS LEVE</th>\n      <th>LESIONADOS GRAVE</th>\n      <th>CANTIDAD VICTIMAS</th>\n      <th>CANTIDAD VEHICULOS</th>\n      <th>COORDENADA UTM X</th>\n      <th>COORDENADA UTM Y</th>\n    </tr>\n  </thead>\n  <tbody>\n  </tbody>\n</table>\n<p>0 rows × 26 columns</p>\n</div>"
     },
     "metadata": {},
     "execution_count": 66
    }
   ],
   "source": [
    "df_gu[df_gu['NUMERO EXPEDIENTE']]"
   ]
  },
  {
   "cell_type": "code",
   "execution_count": null,
   "metadata": {},
   "outputs": [],
   "source": []
  }
 ]
}