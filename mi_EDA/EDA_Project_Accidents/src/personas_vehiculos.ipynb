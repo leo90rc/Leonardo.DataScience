{
 "metadata": {
  "language_info": {
   "codemirror_mode": {
    "name": "ipython",
    "version": 3
   },
   "file_extension": ".py",
   "mimetype": "text/x-python",
   "name": "python",
   "nbconvert_exporter": "python",
   "pygments_lexer": "ipython3",
   "version": "3.7.4"
  },
  "orig_nbformat": 2,
  "kernelspec": {
   "name": "python374jvsc74a57bd0a0947237fadc8b5561fed326db280cc5ec46a670c87cfb3a0489cf95ff262303",
   "display_name": "Python 3.7.4 64-bit"
  },
  "metadata": {
   "interpreter": {
    "hash": "a0947237fadc8b5561fed326db280cc5ec46a670c87cfb3a0489cf95ff262303"
   }
  }
 },
 "nbformat": 4,
 "nbformat_minor": 2,
 "cells": [
  {
   "cell_type": "code",
   "execution_count": 1,
   "metadata": {},
   "outputs": [],
   "source": [
    "import pandas as pd\n",
    "import os\n",
    "import sys\n",
    "import utils.data_wrangling_tb as dw\n",
    "import random"
   ]
  },
  {
   "cell_type": "code",
   "execution_count": 3,
   "metadata": {},
   "outputs": [
    {
     "output_type": "execute_result",
     "data": {
      "text/plain": [
       "       NUMERO EXPEDIENTE        DISTRITO                          BARRIO  \\\n",
       "0            2010S003688      Sant Martí      el Camp de l'Arpa del Clot   \n",
       "1            2010S007597      Sant Martí      el Camp de l'Arpa del Clot   \n",
       "2            2010S001390      Sant Martí      el Camp de l'Arpa del Clot   \n",
       "3            2010S005416      Sant Martí      el Camp de l'Arpa del Clot   \n",
       "4            2010S008924      Sant Martí      el Camp de l'Arpa del Clot   \n",
       "...                  ...             ...                             ...   \n",
       "102969       2020S006274  Horta-Guinardó                       el Carmel   \n",
       "102970       2020S006275        Eixample                     Sant Antoni   \n",
       "102971       2020S006276    Ciutat Vella                  el Barri Gòtic   \n",
       "102972       2020S006277        Eixample  la Nova Esquerra de l'Eixample   \n",
       "102973       2020S006278      Nou Barris   Vilapicina i la Torre Llobeta   \n",
       "\n",
       "                           CALLE DIA SEMANA   ANO        MES  DIA  HORA  \\\n",
       "0                      Meridiana    Viernes  2010       Mayo   28    19   \n",
       "1                       Trinxant      Lunes  2010  Noviembre    8    11   \n",
       "2       Sant Antoni Maria Claret     Jueves  2010    Febrero   25    13   \n",
       "3                         Freser     Martes  2010     Agosto    3    14   \n",
       "4                      Indústria    Viernes  2010  Diciembre   24    14   \n",
       "...                          ...        ...   ...        ...  ...   ...   \n",
       "102969         Lluís Marià Vidal     Jueves  2020  Diciembre   31    17   \n",
       "102970                 Sepúlveda     Jueves  2020  Diciembre   31    20   \n",
       "102971       Litoral (Llobregat)     Jueves  2020  Diciembre   31    13   \n",
       "102972                     Aragó     Jueves  2020  Diciembre   31    21   \n",
       "102973                    Quinze     Martes  2020  Diciembre   22    11   \n",
       "\n",
       "         TURNO  NUMERO VICTIMAS  VICTIMAS LEVES  VICTIMAS GRAVES  \\\n",
       "0        Tarde                0               0                0   \n",
       "1       Mañana                1               1                0   \n",
       "2       Mañana                1               1                0   \n",
       "3        Tarde                1               1                0   \n",
       "4        Tarde                2               2                0   \n",
       "...        ...              ...             ...              ...   \n",
       "102969   Tarde                0               0                0   \n",
       "102970   Tarde                2               2                0   \n",
       "102971  Mañana                2               2                0   \n",
       "102972   Tarde                2               2                0   \n",
       "102973  Mañana                0               0                0   \n",
       "\n",
       "        VICTIMAS FALLECIDAS  \n",
       "0                         0  \n",
       "1                         0  \n",
       "2                         0  \n",
       "3                         0  \n",
       "4                         0  \n",
       "...                     ...  \n",
       "102969                    0  \n",
       "102970                    0  \n",
       "102971                    0  \n",
       "102972                    0  \n",
       "102973                    0  \n",
       "\n",
       "[102974 rows x 14 columns]"
      ],
      "text/html": "<div>\n<style scoped>\n    .dataframe tbody tr th:only-of-type {\n        vertical-align: middle;\n    }\n\n    .dataframe tbody tr th {\n        vertical-align: top;\n    }\n\n    .dataframe thead th {\n        text-align: right;\n    }\n</style>\n<table border=\"1\" class=\"dataframe\">\n  <thead>\n    <tr style=\"text-align: right;\">\n      <th></th>\n      <th>NUMERO EXPEDIENTE</th>\n      <th>DISTRITO</th>\n      <th>BARRIO</th>\n      <th>CALLE</th>\n      <th>DIA SEMANA</th>\n      <th>ANO</th>\n      <th>MES</th>\n      <th>DIA</th>\n      <th>HORA</th>\n      <th>TURNO</th>\n      <th>NUMERO VICTIMAS</th>\n      <th>VICTIMAS LEVES</th>\n      <th>VICTIMAS GRAVES</th>\n      <th>VICTIMAS FALLECIDAS</th>\n    </tr>\n  </thead>\n  <tbody>\n    <tr>\n      <th>0</th>\n      <td>2010S003688</td>\n      <td>Sant Martí</td>\n      <td>el Camp de l'Arpa del Clot</td>\n      <td>Meridiana</td>\n      <td>Viernes</td>\n      <td>2010</td>\n      <td>Mayo</td>\n      <td>28</td>\n      <td>19</td>\n      <td>Tarde</td>\n      <td>0</td>\n      <td>0</td>\n      <td>0</td>\n      <td>0</td>\n    </tr>\n    <tr>\n      <th>1</th>\n      <td>2010S007597</td>\n      <td>Sant Martí</td>\n      <td>el Camp de l'Arpa del Clot</td>\n      <td>Trinxant</td>\n      <td>Lunes</td>\n      <td>2010</td>\n      <td>Noviembre</td>\n      <td>8</td>\n      <td>11</td>\n      <td>Mañana</td>\n      <td>1</td>\n      <td>1</td>\n      <td>0</td>\n      <td>0</td>\n    </tr>\n    <tr>\n      <th>2</th>\n      <td>2010S001390</td>\n      <td>Sant Martí</td>\n      <td>el Camp de l'Arpa del Clot</td>\n      <td>Sant Antoni Maria Claret</td>\n      <td>Jueves</td>\n      <td>2010</td>\n      <td>Febrero</td>\n      <td>25</td>\n      <td>13</td>\n      <td>Mañana</td>\n      <td>1</td>\n      <td>1</td>\n      <td>0</td>\n      <td>0</td>\n    </tr>\n    <tr>\n      <th>3</th>\n      <td>2010S005416</td>\n      <td>Sant Martí</td>\n      <td>el Camp de l'Arpa del Clot</td>\n      <td>Freser</td>\n      <td>Martes</td>\n      <td>2010</td>\n      <td>Agosto</td>\n      <td>3</td>\n      <td>14</td>\n      <td>Tarde</td>\n      <td>1</td>\n      <td>1</td>\n      <td>0</td>\n      <td>0</td>\n    </tr>\n    <tr>\n      <th>4</th>\n      <td>2010S008924</td>\n      <td>Sant Martí</td>\n      <td>el Camp de l'Arpa del Clot</td>\n      <td>Indústria</td>\n      <td>Viernes</td>\n      <td>2010</td>\n      <td>Diciembre</td>\n      <td>24</td>\n      <td>14</td>\n      <td>Tarde</td>\n      <td>2</td>\n      <td>2</td>\n      <td>0</td>\n      <td>0</td>\n    </tr>\n    <tr>\n      <th>...</th>\n      <td>...</td>\n      <td>...</td>\n      <td>...</td>\n      <td>...</td>\n      <td>...</td>\n      <td>...</td>\n      <td>...</td>\n      <td>...</td>\n      <td>...</td>\n      <td>...</td>\n      <td>...</td>\n      <td>...</td>\n      <td>...</td>\n      <td>...</td>\n    </tr>\n    <tr>\n      <th>102969</th>\n      <td>2020S006274</td>\n      <td>Horta-Guinardó</td>\n      <td>el Carmel</td>\n      <td>Lluís Marià Vidal</td>\n      <td>Jueves</td>\n      <td>2020</td>\n      <td>Diciembre</td>\n      <td>31</td>\n      <td>17</td>\n      <td>Tarde</td>\n      <td>0</td>\n      <td>0</td>\n      <td>0</td>\n      <td>0</td>\n    </tr>\n    <tr>\n      <th>102970</th>\n      <td>2020S006275</td>\n      <td>Eixample</td>\n      <td>Sant Antoni</td>\n      <td>Sepúlveda</td>\n      <td>Jueves</td>\n      <td>2020</td>\n      <td>Diciembre</td>\n      <td>31</td>\n      <td>20</td>\n      <td>Tarde</td>\n      <td>2</td>\n      <td>2</td>\n      <td>0</td>\n      <td>0</td>\n    </tr>\n    <tr>\n      <th>102971</th>\n      <td>2020S006276</td>\n      <td>Ciutat Vella</td>\n      <td>el Barri Gòtic</td>\n      <td>Litoral (Llobregat)</td>\n      <td>Jueves</td>\n      <td>2020</td>\n      <td>Diciembre</td>\n      <td>31</td>\n      <td>13</td>\n      <td>Mañana</td>\n      <td>2</td>\n      <td>2</td>\n      <td>0</td>\n      <td>0</td>\n    </tr>\n    <tr>\n      <th>102972</th>\n      <td>2020S006277</td>\n      <td>Eixample</td>\n      <td>la Nova Esquerra de l'Eixample</td>\n      <td>Aragó</td>\n      <td>Jueves</td>\n      <td>2020</td>\n      <td>Diciembre</td>\n      <td>31</td>\n      <td>21</td>\n      <td>Tarde</td>\n      <td>2</td>\n      <td>2</td>\n      <td>0</td>\n      <td>0</td>\n    </tr>\n    <tr>\n      <th>102973</th>\n      <td>2020S006278</td>\n      <td>Nou Barris</td>\n      <td>Vilapicina i la Torre Llobeta</td>\n      <td>Quinze</td>\n      <td>Martes</td>\n      <td>2020</td>\n      <td>Diciembre</td>\n      <td>22</td>\n      <td>11</td>\n      <td>Mañana</td>\n      <td>0</td>\n      <td>0</td>\n      <td>0</td>\n      <td>0</td>\n    </tr>\n  </tbody>\n</table>\n<p>102974 rows × 14 columns</p>\n</div>"
     },
     "metadata": {},
     "execution_count": 3
    }
   ],
   "source": [
    "pd.read_json('http://localhost:6060/obtener_json?token_id=Y6571256D')"
   ]
  },
  {
   "cell_type": "code",
   "execution_count": 2,
   "metadata": {},
   "outputs": [],
   "source": [
    "lista_df_vehiculos = dw.enlistar_dataframes('_accidents_vehicles_gu_bcn_')"
   ]
  },
  {
   "cell_type": "code",
   "execution_count": 4,
   "metadata": {},
   "outputs": [],
   "source": [
    "df_accidentes_vehiculos = dw.crear_df_vehiculos(lista_df_vehiculos)"
   ]
  },
  {
   "cell_type": "code",
   "execution_count": 5,
   "metadata": {},
   "outputs": [
    {
     "output_type": "execute_result",
     "data": {
      "text/plain": [
       "       NUMERO EXPEDIENTE                      TIPO VEHICULO   MODELO VEHICULO  \\\n",
       "0            2011S000833                            Turismo               206   \n",
       "1            2011S000835                         Ciclomotor              CY50   \n",
       "2            2011S002871                            Turismo               318   \n",
       "3            2011S000825                        Motocicleta            SH 100   \n",
       "4            2011S000830                         Ciclomotor        LIBERTY 50   \n",
       "...                  ...                                ...               ...   \n",
       "179901   2020S006276                            Motocicleta  AGILITY CITY 125   \n",
       "179902   2020S006276      Veh. mobilitat personal amb motor        Desconegut   \n",
       "179903   2020S006277                            Motocicleta            SH 150   \n",
       "179904   2020S006278                                Turisme              CLIO   \n",
       "179905   2020S006278                                Turisme             RAPID   \n",
       "\n",
       "       MARCA VEHICULO COLOR VEHICULO TIPO CARNET ANTIGUEDAD CARNET  \\\n",
       "0             PEUGEOT          Blanc           B                 9   \n",
       "1              YAMAHA          Negre           B                22   \n",
       "2                 BMW          Negre           B                 7   \n",
       "3               HONDA           Verd           B                 6   \n",
       "4             PIAGGIO           Gris           B                 2   \n",
       "...               ...            ...         ...               ...   \n",
       "179901          KYMCO     Desconegut           B                16   \n",
       "179902     Desconegut          Negre  Desconegut        Desconegut   \n",
       "179903          HONDA        Vermell           A                25   \n",
       "179904        RENAULT          Blanc  Desconegut        Desconegut   \n",
       "179905          SKODA     Negre/Groc  Desconegut        Desconegut   \n",
       "\n",
       "                    CAUSA PEATON  \n",
       "0       No és causa del  vianant  \n",
       "1       No és causa del  vianant  \n",
       "2       No és causa del  vianant  \n",
       "3       No és causa del  vianant  \n",
       "4       No és causa del  vianant  \n",
       "...                          ...  \n",
       "179901  No és causa del  vianant  \n",
       "179902  No és causa del  vianant  \n",
       "179903  No és causa del  vianant  \n",
       "179904  No és causa del  vianant  \n",
       "179905  No és causa del  vianant  \n",
       "\n",
       "[179906 rows x 8 columns]"
      ],
      "text/html": "<div>\n<style scoped>\n    .dataframe tbody tr th:only-of-type {\n        vertical-align: middle;\n    }\n\n    .dataframe tbody tr th {\n        vertical-align: top;\n    }\n\n    .dataframe thead th {\n        text-align: right;\n    }\n</style>\n<table border=\"1\" class=\"dataframe\">\n  <thead>\n    <tr style=\"text-align: right;\">\n      <th></th>\n      <th>NUMERO EXPEDIENTE</th>\n      <th>TIPO VEHICULO</th>\n      <th>MODELO VEHICULO</th>\n      <th>MARCA VEHICULO</th>\n      <th>COLOR VEHICULO</th>\n      <th>TIPO CARNET</th>\n      <th>ANTIGUEDAD CARNET</th>\n      <th>CAUSA PEATON</th>\n    </tr>\n  </thead>\n  <tbody>\n    <tr>\n      <th>0</th>\n      <td>2011S000833</td>\n      <td>Turismo</td>\n      <td>206</td>\n      <td>PEUGEOT</td>\n      <td>Blanc</td>\n      <td>B</td>\n      <td>9</td>\n      <td>No és causa del  vianant</td>\n    </tr>\n    <tr>\n      <th>1</th>\n      <td>2011S000835</td>\n      <td>Ciclomotor</td>\n      <td>CY50</td>\n      <td>YAMAHA</td>\n      <td>Negre</td>\n      <td>B</td>\n      <td>22</td>\n      <td>No és causa del  vianant</td>\n    </tr>\n    <tr>\n      <th>2</th>\n      <td>2011S002871</td>\n      <td>Turismo</td>\n      <td>318</td>\n      <td>BMW</td>\n      <td>Negre</td>\n      <td>B</td>\n      <td>7</td>\n      <td>No és causa del  vianant</td>\n    </tr>\n    <tr>\n      <th>3</th>\n      <td>2011S000825</td>\n      <td>Motocicleta</td>\n      <td>SH 100</td>\n      <td>HONDA</td>\n      <td>Verd</td>\n      <td>B</td>\n      <td>6</td>\n      <td>No és causa del  vianant</td>\n    </tr>\n    <tr>\n      <th>4</th>\n      <td>2011S000830</td>\n      <td>Ciclomotor</td>\n      <td>LIBERTY 50</td>\n      <td>PIAGGIO</td>\n      <td>Gris</td>\n      <td>B</td>\n      <td>2</td>\n      <td>No és causa del  vianant</td>\n    </tr>\n    <tr>\n      <th>...</th>\n      <td>...</td>\n      <td>...</td>\n      <td>...</td>\n      <td>...</td>\n      <td>...</td>\n      <td>...</td>\n      <td>...</td>\n      <td>...</td>\n    </tr>\n    <tr>\n      <th>179901</th>\n      <td>2020S006276</td>\n      <td>Motocicleta</td>\n      <td>AGILITY CITY 125</td>\n      <td>KYMCO</td>\n      <td>Desconegut</td>\n      <td>B</td>\n      <td>16</td>\n      <td>No és causa del  vianant</td>\n    </tr>\n    <tr>\n      <th>179902</th>\n      <td>2020S006276</td>\n      <td>Veh. mobilitat personal amb motor</td>\n      <td>Desconegut</td>\n      <td>Desconegut</td>\n      <td>Negre</td>\n      <td>Desconegut</td>\n      <td>Desconegut</td>\n      <td>No és causa del  vianant</td>\n    </tr>\n    <tr>\n      <th>179903</th>\n      <td>2020S006277</td>\n      <td>Motocicleta</td>\n      <td>SH 150</td>\n      <td>HONDA</td>\n      <td>Vermell</td>\n      <td>A</td>\n      <td>25</td>\n      <td>No és causa del  vianant</td>\n    </tr>\n    <tr>\n      <th>179904</th>\n      <td>2020S006278</td>\n      <td>Turisme</td>\n      <td>CLIO</td>\n      <td>RENAULT</td>\n      <td>Blanc</td>\n      <td>Desconegut</td>\n      <td>Desconegut</td>\n      <td>No és causa del  vianant</td>\n    </tr>\n    <tr>\n      <th>179905</th>\n      <td>2020S006278</td>\n      <td>Turisme</td>\n      <td>RAPID</td>\n      <td>SKODA</td>\n      <td>Negre/Groc</td>\n      <td>Desconegut</td>\n      <td>Desconegut</td>\n      <td>No és causa del  vianant</td>\n    </tr>\n  </tbody>\n</table>\n<p>179906 rows × 8 columns</p>\n</div>"
     },
     "metadata": {},
     "execution_count": 5
    }
   ],
   "source": [
    "df_accidentes_vehiculos"
   ]
  },
  {
   "cell_type": "code",
   "execution_count": 6,
   "metadata": {},
   "outputs": [],
   "source": [
    "lista_df_tipos = dw.enlistar_dataframes('_ACCIDENTS_TIPUS_GU_BCN_')"
   ]
  },
  {
   "cell_type": "code",
   "execution_count": 8,
   "metadata": {},
   "outputs": [],
   "source": [
    "df_accidentes_tipos = dw.crear_df_tipos(lista_df_tipos)"
   ]
  },
  {
   "cell_type": "code",
   "execution_count": 9,
   "metadata": {},
   "outputs": [
    {
     "output_type": "execute_result",
     "data": {
      "text/plain": [
       "      NUMERO EXPEDIENTE              TIPO ACCIDENTE\n",
       "0           2011S007726                       Abast\n",
       "1           2011S000791    Col.lisió fronto-lateral\n",
       "2           2011S004524    Col.lisió fronto-lateral\n",
       "3           2011S002431                       Abast\n",
       "4           2011S007530               Atropellament\n",
       "...                 ...                         ...\n",
       "99183   2020S006274      Xoc contra element estàtic\n",
       "99184   2020S006275               Col.lisió lateral\n",
       "99185   2020S006276        Col.lisió fronto-lateral\n",
       "99186   2020S006277            Caiguda (dues rodes)\n",
       "99187   2020S006278      Xoc contra element estàtic\n",
       "\n",
       "[99188 rows x 2 columns]"
      ],
      "text/html": "<div>\n<style scoped>\n    .dataframe tbody tr th:only-of-type {\n        vertical-align: middle;\n    }\n\n    .dataframe tbody tr th {\n        vertical-align: top;\n    }\n\n    .dataframe thead th {\n        text-align: right;\n    }\n</style>\n<table border=\"1\" class=\"dataframe\">\n  <thead>\n    <tr style=\"text-align: right;\">\n      <th></th>\n      <th>NUMERO EXPEDIENTE</th>\n      <th>TIPO ACCIDENTE</th>\n    </tr>\n  </thead>\n  <tbody>\n    <tr>\n      <th>0</th>\n      <td>2011S007726</td>\n      <td>Abast</td>\n    </tr>\n    <tr>\n      <th>1</th>\n      <td>2011S000791</td>\n      <td>Col.lisió fronto-lateral</td>\n    </tr>\n    <tr>\n      <th>2</th>\n      <td>2011S004524</td>\n      <td>Col.lisió fronto-lateral</td>\n    </tr>\n    <tr>\n      <th>3</th>\n      <td>2011S002431</td>\n      <td>Abast</td>\n    </tr>\n    <tr>\n      <th>4</th>\n      <td>2011S007530</td>\n      <td>Atropellament</td>\n    </tr>\n    <tr>\n      <th>...</th>\n      <td>...</td>\n      <td>...</td>\n    </tr>\n    <tr>\n      <th>99183</th>\n      <td>2020S006274</td>\n      <td>Xoc contra element estàtic</td>\n    </tr>\n    <tr>\n      <th>99184</th>\n      <td>2020S006275</td>\n      <td>Col.lisió lateral</td>\n    </tr>\n    <tr>\n      <th>99185</th>\n      <td>2020S006276</td>\n      <td>Col.lisió fronto-lateral</td>\n    </tr>\n    <tr>\n      <th>99186</th>\n      <td>2020S006277</td>\n      <td>Caiguda (dues rodes)</td>\n    </tr>\n    <tr>\n      <th>99187</th>\n      <td>2020S006278</td>\n      <td>Xoc contra element estàtic</td>\n    </tr>\n  </tbody>\n</table>\n<p>99188 rows × 2 columns</p>\n</div>"
     },
     "metadata": {},
     "execution_count": 9
    }
   ],
   "source": [
    "df_accidentes_tipos"
   ]
  },
  {
   "source": [
    "Haciendo nuevamente la comparación, ahora entre los dataframes de ``lista_df_personas`` y los de ``lista_df_gu``, se observa que, efectivamente, tienen en común la mayoría de sus columnas.\n",
    "\n",
    "Se vuelve a realizar la prueba sobre los dataframes basándonos en su **número de expediente** (clave primaria)."
   ],
   "cell_type": "markdown",
   "metadata": {}
  },
  {
   "cell_type": "code",
   "execution_count": null,
   "metadata": {},
   "outputs": [],
   "source": []
  },
  {
   "cell_type": "code",
   "execution_count": null,
   "metadata": {},
   "outputs": [],
   "source": []
  },
  {
   "cell_type": "code",
   "execution_count": null,
   "metadata": {},
   "outputs": [],
   "source": []
  },
  {
   "source": [
    "En este caso, se tomarán como columnas con datos relevantes para nuestro estudio las siguientes:\n",
    "- Número de expediente\n",
    "- Tipo de persona\n",
    "- Edad\n",
    "- Sexo"
   ],
   "cell_type": "markdown",
   "metadata": {}
  },
  {
   "cell_type": "code",
   "execution_count": null,
   "metadata": {},
   "outputs": [],
   "source": []
  }
 ]
}