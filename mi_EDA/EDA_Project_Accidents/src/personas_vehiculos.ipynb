{
 "metadata": {
  "language_info": {
   "codemirror_mode": {
    "name": "ipython",
    "version": 3
   },
   "file_extension": ".py",
   "mimetype": "text/x-python",
   "name": "python",
   "nbconvert_exporter": "python",
   "pygments_lexer": "ipython3",
   "version": "3.7.4"
  },
  "orig_nbformat": 2,
  "kernelspec": {
   "name": "python374jvsc74a57bd0a0947237fadc8b5561fed326db280cc5ec46a670c87cfb3a0489cf95ff262303",
   "display_name": "Python 3.7.4 64-bit"
  },
  "metadata": {
   "interpreter": {
    "hash": "a0947237fadc8b5561fed326db280cc5ec46a670c87cfb3a0489cf95ff262303"
   }
  }
 },
 "nbformat": 4,
 "nbformat_minor": 2,
 "cells": [
  {
   "cell_type": "code",
   "execution_count": 1,
   "metadata": {},
   "outputs": [],
   "source": [
    "import pandas as pd\n",
    "import os\n",
    "import sys\n",
    "import utils.data_wrangling_tb as dw\n",
    "import random"
   ]
  },
  {
   "cell_type": "code",
   "execution_count": 2,
   "metadata": {},
   "outputs": [],
   "source": [
    "lista_df_vehiculos = dw.enlistar_dataframes('_accidents_vehicles_gu_bcn_')"
   ]
  },
  {
   "cell_type": "code",
   "execution_count": 4,
   "metadata": {},
   "outputs": [],
   "source": [
    "df_accidentes_vehiculos = dw.crear_df_vehiculos(lista_df_vehiculos)"
   ]
  },
  {
   "cell_type": "code",
   "execution_count": 5,
   "metadata": {},
   "outputs": [
    {
     "output_type": "execute_result",
     "data": {
      "text/plain": [
       "       NUMERO EXPEDIENTE                      TIPO VEHICULO   MODELO VEHICULO  \\\n",
       "0            2011S000833                            Turismo               206   \n",
       "1            2011S000835                         Ciclomotor              CY50   \n",
       "2            2011S002871                            Turismo               318   \n",
       "3            2011S000825                        Motocicleta            SH 100   \n",
       "4            2011S000830                         Ciclomotor        LIBERTY 50   \n",
       "...                  ...                                ...               ...   \n",
       "179901   2020S006276                            Motocicleta  AGILITY CITY 125   \n",
       "179902   2020S006276      Veh. mobilitat personal amb motor        Desconegut   \n",
       "179903   2020S006277                            Motocicleta            SH 150   \n",
       "179904   2020S006278                                Turisme              CLIO   \n",
       "179905   2020S006278                                Turisme             RAPID   \n",
       "\n",
       "       MARCA VEHICULO COLOR VEHICULO TIPO CARNET ANTIGUEDAD CARNET  \\\n",
       "0             PEUGEOT          Blanc           B                 9   \n",
       "1              YAMAHA          Negre           B                22   \n",
       "2                 BMW          Negre           B                 7   \n",
       "3               HONDA           Verd           B                 6   \n",
       "4             PIAGGIO           Gris           B                 2   \n",
       "...               ...            ...         ...               ...   \n",
       "179901          KYMCO     Desconegut           B                16   \n",
       "179902     Desconegut          Negre  Desconegut        Desconegut   \n",
       "179903          HONDA        Vermell           A                25   \n",
       "179904        RENAULT          Blanc  Desconegut        Desconegut   \n",
       "179905          SKODA     Negre/Groc  Desconegut        Desconegut   \n",
       "\n",
       "                    CAUSA PEATON  \n",
       "0       No és causa del  vianant  \n",
       "1       No és causa del  vianant  \n",
       "2       No és causa del  vianant  \n",
       "3       No és causa del  vianant  \n",
       "4       No és causa del  vianant  \n",
       "...                          ...  \n",
       "179901  No és causa del  vianant  \n",
       "179902  No és causa del  vianant  \n",
       "179903  No és causa del  vianant  \n",
       "179904  No és causa del  vianant  \n",
       "179905  No és causa del  vianant  \n",
       "\n",
       "[179906 rows x 8 columns]"
      ],
      "text/html": "<div>\n<style scoped>\n    .dataframe tbody tr th:only-of-type {\n        vertical-align: middle;\n    }\n\n    .dataframe tbody tr th {\n        vertical-align: top;\n    }\n\n    .dataframe thead th {\n        text-align: right;\n    }\n</style>\n<table border=\"1\" class=\"dataframe\">\n  <thead>\n    <tr style=\"text-align: right;\">\n      <th></th>\n      <th>NUMERO EXPEDIENTE</th>\n      <th>TIPO VEHICULO</th>\n      <th>MODELO VEHICULO</th>\n      <th>MARCA VEHICULO</th>\n      <th>COLOR VEHICULO</th>\n      <th>TIPO CARNET</th>\n      <th>ANTIGUEDAD CARNET</th>\n      <th>CAUSA PEATON</th>\n    </tr>\n  </thead>\n  <tbody>\n    <tr>\n      <th>0</th>\n      <td>2011S000833</td>\n      <td>Turismo</td>\n      <td>206</td>\n      <td>PEUGEOT</td>\n      <td>Blanc</td>\n      <td>B</td>\n      <td>9</td>\n      <td>No és causa del  vianant</td>\n    </tr>\n    <tr>\n      <th>1</th>\n      <td>2011S000835</td>\n      <td>Ciclomotor</td>\n      <td>CY50</td>\n      <td>YAMAHA</td>\n      <td>Negre</td>\n      <td>B</td>\n      <td>22</td>\n      <td>No és causa del  vianant</td>\n    </tr>\n    <tr>\n      <th>2</th>\n      <td>2011S002871</td>\n      <td>Turismo</td>\n      <td>318</td>\n      <td>BMW</td>\n      <td>Negre</td>\n      <td>B</td>\n      <td>7</td>\n      <td>No és causa del  vianant</td>\n    </tr>\n    <tr>\n      <th>3</th>\n      <td>2011S000825</td>\n      <td>Motocicleta</td>\n      <td>SH 100</td>\n      <td>HONDA</td>\n      <td>Verd</td>\n      <td>B</td>\n      <td>6</td>\n      <td>No és causa del  vianant</td>\n    </tr>\n    <tr>\n      <th>4</th>\n      <td>2011S000830</td>\n      <td>Ciclomotor</td>\n      <td>LIBERTY 50</td>\n      <td>PIAGGIO</td>\n      <td>Gris</td>\n      <td>B</td>\n      <td>2</td>\n      <td>No és causa del  vianant</td>\n    </tr>\n    <tr>\n      <th>...</th>\n      <td>...</td>\n      <td>...</td>\n      <td>...</td>\n      <td>...</td>\n      <td>...</td>\n      <td>...</td>\n      <td>...</td>\n      <td>...</td>\n    </tr>\n    <tr>\n      <th>179901</th>\n      <td>2020S006276</td>\n      <td>Motocicleta</td>\n      <td>AGILITY CITY 125</td>\n      <td>KYMCO</td>\n      <td>Desconegut</td>\n      <td>B</td>\n      <td>16</td>\n      <td>No és causa del  vianant</td>\n    </tr>\n    <tr>\n      <th>179902</th>\n      <td>2020S006276</td>\n      <td>Veh. mobilitat personal amb motor</td>\n      <td>Desconegut</td>\n      <td>Desconegut</td>\n      <td>Negre</td>\n      <td>Desconegut</td>\n      <td>Desconegut</td>\n      <td>No és causa del  vianant</td>\n    </tr>\n    <tr>\n      <th>179903</th>\n      <td>2020S006277</td>\n      <td>Motocicleta</td>\n      <td>SH 150</td>\n      <td>HONDA</td>\n      <td>Vermell</td>\n      <td>A</td>\n      <td>25</td>\n      <td>No és causa del  vianant</td>\n    </tr>\n    <tr>\n      <th>179904</th>\n      <td>2020S006278</td>\n      <td>Turisme</td>\n      <td>CLIO</td>\n      <td>RENAULT</td>\n      <td>Blanc</td>\n      <td>Desconegut</td>\n      <td>Desconegut</td>\n      <td>No és causa del  vianant</td>\n    </tr>\n    <tr>\n      <th>179905</th>\n      <td>2020S006278</td>\n      <td>Turisme</td>\n      <td>RAPID</td>\n      <td>SKODA</td>\n      <td>Negre/Groc</td>\n      <td>Desconegut</td>\n      <td>Desconegut</td>\n      <td>No és causa del  vianant</td>\n    </tr>\n  </tbody>\n</table>\n<p>179906 rows × 8 columns</p>\n</div>"
     },
     "metadata": {},
     "execution_count": 5
    }
   ],
   "source": [
    "df_accidentes_vehiculos"
   ]
  },
  {
   "cell_type": "code",
   "execution_count": 6,
   "metadata": {},
   "outputs": [],
   "source": [
    "lista_df_tipos = dw.enlistar_dataframes('_ACCIDENTS_TIPUS_GU_BCN_')"
   ]
  },
  {
   "cell_type": "code",
   "execution_count": 8,
   "metadata": {},
   "outputs": [],
   "source": [
    "df_accidentes_tipos = dw.crear_df_tipos(lista_df_tipos)"
   ]
  },
  {
   "cell_type": "code",
   "execution_count": 9,
   "metadata": {},
   "outputs": [
    {
     "output_type": "execute_result",
     "data": {
      "text/plain": [
       "      NUMERO EXPEDIENTE              TIPO ACCIDENTE\n",
       "0           2011S007726                       Abast\n",
       "1           2011S000791    Col.lisió fronto-lateral\n",
       "2           2011S004524    Col.lisió fronto-lateral\n",
       "3           2011S002431                       Abast\n",
       "4           2011S007530               Atropellament\n",
       "...                 ...                         ...\n",
       "99183   2020S006274      Xoc contra element estàtic\n",
       "99184   2020S006275               Col.lisió lateral\n",
       "99185   2020S006276        Col.lisió fronto-lateral\n",
       "99186   2020S006277            Caiguda (dues rodes)\n",
       "99187   2020S006278      Xoc contra element estàtic\n",
       "\n",
       "[99188 rows x 2 columns]"
      ],
      "text/html": "<div>\n<style scoped>\n    .dataframe tbody tr th:only-of-type {\n        vertical-align: middle;\n    }\n\n    .dataframe tbody tr th {\n        vertical-align: top;\n    }\n\n    .dataframe thead th {\n        text-align: right;\n    }\n</style>\n<table border=\"1\" class=\"dataframe\">\n  <thead>\n    <tr style=\"text-align: right;\">\n      <th></th>\n      <th>NUMERO EXPEDIENTE</th>\n      <th>TIPO ACCIDENTE</th>\n    </tr>\n  </thead>\n  <tbody>\n    <tr>\n      <th>0</th>\n      <td>2011S007726</td>\n      <td>Abast</td>\n    </tr>\n    <tr>\n      <th>1</th>\n      <td>2011S000791</td>\n      <td>Col.lisió fronto-lateral</td>\n    </tr>\n    <tr>\n      <th>2</th>\n      <td>2011S004524</td>\n      <td>Col.lisió fronto-lateral</td>\n    </tr>\n    <tr>\n      <th>3</th>\n      <td>2011S002431</td>\n      <td>Abast</td>\n    </tr>\n    <tr>\n      <th>4</th>\n      <td>2011S007530</td>\n      <td>Atropellament</td>\n    </tr>\n    <tr>\n      <th>...</th>\n      <td>...</td>\n      <td>...</td>\n    </tr>\n    <tr>\n      <th>99183</th>\n      <td>2020S006274</td>\n      <td>Xoc contra element estàtic</td>\n    </tr>\n    <tr>\n      <th>99184</th>\n      <td>2020S006275</td>\n      <td>Col.lisió lateral</td>\n    </tr>\n    <tr>\n      <th>99185</th>\n      <td>2020S006276</td>\n      <td>Col.lisió fronto-lateral</td>\n    </tr>\n    <tr>\n      <th>99186</th>\n      <td>2020S006277</td>\n      <td>Caiguda (dues rodes)</td>\n    </tr>\n    <tr>\n      <th>99187</th>\n      <td>2020S006278</td>\n      <td>Xoc contra element estàtic</td>\n    </tr>\n  </tbody>\n</table>\n<p>99188 rows × 2 columns</p>\n</div>"
     },
     "metadata": {},
     "execution_count": 9
    }
   ],
   "source": [
    "df_accidentes_tipos"
   ]
  },
  {
   "source": [
    "Haciendo nuevamente la comparación, ahora entre los dataframes de ``lista_df_personas`` y los de ``lista_df_gu``, se observa que, efectivamente, tienen en común la mayoría de sus columnas.\n",
    "\n",
    "Se vuelve a realizar la prueba sobre los dataframes basándonos en su **número de expediente** (clave primaria)."
   ],
   "cell_type": "markdown",
   "metadata": {}
  },
  {
   "cell_type": "code",
   "execution_count": null,
   "metadata": {},
   "outputs": [],
   "source": []
  },
  {
   "cell_type": "code",
   "execution_count": null,
   "metadata": {},
   "outputs": [],
   "source": []
  },
  {
   "cell_type": "code",
   "execution_count": null,
   "metadata": {},
   "outputs": [],
   "source": []
  },
  {
   "source": [
    "En este caso, se tomarán como columnas con datos relevantes para nuestro estudio las siguientes:\n",
    "- Número de expediente\n",
    "- Tipo de persona\n",
    "- Edad\n",
    "- Sexo"
   ],
   "cell_type": "markdown",
   "metadata": {}
  },
  {
   "cell_type": "code",
   "execution_count": null,
   "metadata": {},
   "outputs": [],
   "source": []
  }
 ]
}