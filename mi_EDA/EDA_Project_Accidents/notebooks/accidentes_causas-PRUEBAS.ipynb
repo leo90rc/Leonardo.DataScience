{
 "metadata": {
  "language_info": {
   "codemirror_mode": {
    "name": "ipython",
    "version": 3
   },
   "file_extension": ".py",
   "mimetype": "text/x-python",
   "name": "python",
   "nbconvert_exporter": "python",
   "pygments_lexer": "ipython3",
   "version": "3.7.4"
  },
  "orig_nbformat": 2,
  "kernelspec": {
   "name": "python374jvsc74a57bd0a0947237fadc8b5561fed326db280cc5ec46a670c87cfb3a0489cf95ff262303",
   "display_name": "Python 3.7.4 64-bit"
  },
  "metadata": {
   "interpreter": {
    "hash": "a0947237fadc8b5561fed326db280cc5ec46a670c87cfb3a0489cf95ff262303"
   }
  }
 },
 "nbformat": 4,
 "nbformat_minor": 2,
 "cells": [
  {
   "cell_type": "code",
   "execution_count": null,
   "metadata": {},
   "outputs": [],
   "source": [
    "import pandas as pd"
   ]
  },
  {
   "cell_type": "code",
   "execution_count": null,
   "metadata": {},
   "outputs": [],
   "source": [
    "def enlistar_dataframes_causa():\n",
    "    global lista_df_causa\n",
    "    lista_df_causa = []\n",
    "    for i in range(11,21):\n",
    "        try:\n",
    "            i = pd.read_csv('20'+str(i)+'/20'+str(i)+'_ACCIDENTS_CAUSES_GU_BCN_20'+str(i)+'-utf8.csv')\n",
    "        except:\n",
    "            try:\n",
    "                i = pd.read_csv('20'+str(i)+'/20'+str(i)+'_ACCIDENTS_CAUSES_GU_BCN_20'+str(i)+'-utf8.csv', sep=';')\n",
    "            except:\n",
    "                i = pd.read_excel('20'+str(i)+'/20'+str(i)+'_ACCIDENTS_CAUSES_GU_BCN_20'+str(i)+'.xlsx')\n",
    "        lista_df_causa.append(i)\n",
    "    return lista_df_causa"
   ]
  },
  {
   "cell_type": "code",
   "execution_count": null,
   "metadata": {},
   "outputs": [],
   "source": [
    "lista_df_causa[9]"
   ]
  },
  {
   "cell_type": "code",
   "execution_count": null,
   "metadata": {},
   "outputs": [],
   "source": [
    "enlistar_dataframes_causa()"
   ]
  },
  {
   "cell_type": "code",
   "execution_count": null,
   "metadata": {},
   "outputs": [],
   "source": [
    "#for i in lista_df[0]['Nom carrer'].loc[:]:\n",
    "for i in lista_df[0]['Nom carrer'].loc[:2]:\n",
    "    if '£' in i:\n",
    "        print(1)\n",
    "    else:\n",
    "        print(2)"
   ]
  },
  {
   "cell_type": "code",
   "execution_count": null,
   "metadata": {},
   "outputs": [],
   "source": [
    "if '£' in lista_df[0]['Nom carrer']:\n",
    "    print('1')\n",
    "else:\n",
    "    print(2)"
   ]
  },
  {
   "cell_type": "code",
   "execution_count": null,
   "metadata": {},
   "outputs": [],
   "source": [
    "import pandas_read_xml as pdx\n",
    "df = pdx.read_xml('2010/2010_ACCIDENTS_CAUSES_GU_BCN_2010.xml')\n"
   ]
  },
  {
   "cell_type": "code",
   "execution_count": null,
   "metadata": {},
   "outputs": [],
   "source": [
    "lista_df[0]"
   ]
  },
  {
   "cell_type": "code",
   "execution_count": null,
   "metadata": {},
   "outputs": [],
   "source": [
    "enlistar_dataframes()"
   ]
  },
  {
   "cell_type": "code",
   "execution_count": null,
   "metadata": {},
   "outputs": [],
   "source": [
    "import sys\n",
    "reload(sys)\n",
    "sys.setdefaultencoding('utf-8')"
   ]
  },
  {
   "cell_type": "code",
   "execution_count": null,
   "metadata": {},
   "outputs": [],
   "source": [
    "import chardet"
   ]
  },
  {
   "cell_type": "code",
   "execution_count": null,
   "metadata": {},
   "outputs": [],
   "source": [
    "import chardet    \n",
    "rawdata = open('2013/2013_ACCIDENTS_CAUSES_GU_BCN_2013.csv', 'rb').read()\n",
    "result = chardet.detect(rawdata)\n",
    "charenc = result['encoding']\n",
    "charenc"
   ]
  },
  {
   "cell_type": "code",
   "execution_count": null,
   "metadata": {},
   "outputs": [],
   "source": [
    "globals()['accidentes_gu%s' % i] # Esto puedo ingresarlo en un bucle para que la variable vaya cambiando de nombre"
   ]
  },
  {
   "cell_type": "code",
   "execution_count": null,
   "metadata": {},
   "outputs": [],
   "source": [
    "ac2010 = pd.read_csv('2010/2010_ACCIDENTS_CAUSES_GU_BCN_2010-utf8.csv')\n",
    "ac2010"
   ]
  },
  {
   "cell_type": "code",
   "execution_count": null,
   "metadata": {},
   "outputs": [],
   "source": [
    "def enlistar_dataframes():\n",
    "    global lista_df\n",
    "    lista_df = []\n",
    "    for i in range(10,21):\n",
    "        try:\n",
    "            i = pd.read_csv('20'+str(i)+'/20'+str(i)+'_ACCIDENTS_CAUSES_GU_BCN_20'+str(i)+'-utf8.csv')\n",
    "        except:\n",
    "            i = pd.read_csv('20'+str(i)+'/20'+str(i)+'_ACCIDENTS_CAUSES_GU_BCN_20'+str(i)+'-utf8.csv', sep=';')\n",
    "        lista_df.append(i)\n",
    "    return lista_df"
   ]
  },
  {
   "cell_type": "code",
   "execution_count": null,
   "metadata": {},
   "outputs": [],
   "source": [
    "lista_df[1]"
   ]
  },
  {
   "cell_type": "code",
   "execution_count": null,
   "metadata": {},
   "outputs": [],
   "source": [
    "def comparar_columnas(lista_df): \n",
    "    ''' SE DEBE INGRESAR UNA LISTA DE DATAFRAMES A COMPARAR. '''\n",
    "    for i in range(len(lista_df)):\n",
    "            for j in range(1, len(lista_df)):    \n",
    "                if i < j:\n",
    "                    #print(str(i) + ' vs. ' + str(j))\n",
    "                    if len(lista_df[i].columns) == len(lista_df[j].columns):\n",
    "                        #print('--------')\n",
    "                        columnas_iguales = lista_df[i].columns == lista_df[j].columns # TRUE si coinciden, FALSE si no\n",
    "                        if all(columnas_iguales):\n",
    "                            print('Las columnas de ' + str(i) + ' (' + str(len(lista_df[i].columns)) +') y ' + str(j)+ ' (' + str(len(lista_df[j].columns)) + ') COINCIDEN.')\n",
    "                            print('======================================================')\n",
    "                            break\n",
    "                        else:\n",
    "                            print('Las columnas de ' + str(i) + ' (' + str(len(lista_df[i].columns)) +') y ' + str(j) + ' (' + str(len(lista_df[j].columns)) + ') SON DISTINTAS.')\n",
    "                            print('======================================================')\n",
    "                    else:\n",
    "                        print(str(i) +  ' (' + str(len(lista_df[i].columns))  + ') y ' + str(j) + ' (' + str(len(lista_df[j].columns)) + ') tienen distinta CANTIDAD de columnas.')\n",
    "                        print('======================================================')\n",
    "                        # print(lista_dataframes[i].columns) == lista_dataframes[j].columns)\n",
    "                        #print('-------')"
   ]
  },
  {
   "cell_type": "code",
   "execution_count": null,
   "metadata": {},
   "outputs": [],
   "source": [
    "def mostrar_columnas(lista_df):\n",
    "    ''' SE DEBE INGRESAR UNA LISTA DE DATAFRAMES '''\n",
    "    for i in range(len(lista_df)):\n",
    "        print('Columnas de dataframe en posición ' + str(i) + ':')\n",
    "        print('------------------------------------')\n",
    "        print(lista_df[i].columns)\n",
    "        print('\\nNúmero de columnas: ' + str(len(lista_df[i].columns)) + '\\n')\n",
    "        print('===========================================================================================')"
   ]
  },
  {
   "cell_type": "code",
   "execution_count": null,
   "metadata": {},
   "outputs": [],
   "source": [
    "enlistar_dataframes()"
   ]
  },
  {
   "cell_type": "code",
   "execution_count": null,
   "metadata": {},
   "outputs": [],
   "source": []
  },
  {
   "cell_type": "code",
   "execution_count": null,
   "metadata": {},
   "outputs": [],
   "source": [
    "comparar_columnas(lista_df)"
   ]
  },
  {
   "cell_type": "code",
   "execution_count": null,
   "metadata": {},
   "outputs": [],
   "source": []
  },
  {
   "cell_type": "code",
   "execution_count": null,
   "metadata": {},
   "outputs": [],
   "source": [
    "print(lista_df[0].columns)"
   ]
  },
  {
   "cell_type": "code",
   "execution_count": null,
   "metadata": {},
   "outputs": [],
   "source": [
    "mostrar_columnas(lista_df)"
   ]
  },
  {
   "cell_type": "code",
   "execution_count": null,
   "metadata": {},
   "outputs": [],
   "source": [
    "diferencia_6_7 = lista_df[6].columns == lista_df[7].columns\n",
    "len(diferencia_6_7)"
   ]
  },
  {
   "cell_type": "code",
   "execution_count": null,
   "metadata": {},
   "outputs": [],
   "source": []
  },
  {
   "cell_type": "code",
   "execution_count": null,
   "metadata": {},
   "outputs": [],
   "source": [
    "lista_df[6].columns != diferencia_6_7"
   ]
  },
  {
   "cell_type": "code",
   "execution_count": null,
   "metadata": {},
   "outputs": [],
   "source": [
    "enlistar_dataframes()"
   ]
  },
  {
   "cell_type": "code",
   "execution_count": null,
   "metadata": {},
   "outputs": [],
   "source": [
    "def comparador_cantidad_columnas_dataframe(lista_dataframes):\n",
    "    for i in range(len(lista_dataframes)):\n",
    "        for j in range(1, len(lista_dataframes)):    \n",
    "            if i < j:\n",
    "                print(str(i) + ' vs. ' + str(j))\n",
    "                print(len(lista_dataframes[i].columns) == len(lista_dataframes[j].columns))\n",
    "                print('-------')"
   ]
  },
  {
   "cell_type": "code",
   "execution_count": null,
   "metadata": {},
   "outputs": [],
   "source": []
  },
  {
   "cell_type": "code",
   "execution_count": null,
   "metadata": {},
   "outputs": [],
   "source": [
    "comparar_columnas(lista_df)"
   ]
  },
  {
   "cell_type": "code",
   "execution_count": null,
   "metadata": {},
   "outputs": [],
   "source": [
    "print(lista_df[0].columns == lista_df[1].columns)"
   ]
  },
  {
   "cell_type": "code",
   "execution_count": null,
   "metadata": {},
   "outputs": [],
   "source": [
    "for i in range(len(lista_df)):\n",
    "    print('Numero columnas : ' + str(lista_df[i].shape[1]))\n",
    "    print('---------------')\n",
    "    print(lista_df[i].columns)\n",
    "    print('---------------')"
   ]
  },
  {
   "cell_type": "code",
   "execution_count": null,
   "metadata": {},
   "outputs": [],
   "source": [
    "aa()"
   ]
  },
  {
   "cell_type": "code",
   "execution_count": null,
   "metadata": {},
   "outputs": [],
   "source": [
    "accidentes_gu12"
   ]
  },
  {
   "cell_type": "code",
   "execution_count": null,
   "metadata": {},
   "outputs": [],
   "source": [
    "aa()"
   ]
  },
  {
   "cell_type": "code",
   "execution_count": null,
   "metadata": {},
   "outputs": [],
   "source": [
    "df = pd.DataFrame()\n",
    "for i in range(10,21):\n",
    "    try:\n",
    "        globals()['accidentes_gu%s' % i] = pd.read_csv('20'+str(i)+'/20'+str(i)+'_ACCIDENTS_CAUSES_GU_BCN_20'+str(i)+'.csv')\n",
    "    except:\n",
    "        globals()['accidentes_gu%s' % i] = pd.read_csv('20'+str(i)+'/20'+str(i)+'_ACCIDENTS_CAUSES_GU_BCN_20'+str(i)+'.csv', sep=';')\n",
    "    df = df.append(globals()['accidentes_gu%s' % i])"
   ]
  },
  {
   "cell_type": "code",
   "execution_count": null,
   "metadata": {},
   "outputs": [],
   "source": [
    "df.info()"
   ]
  },
  {
   "cell_type": "code",
   "execution_count": null,
   "metadata": {},
   "outputs": [],
   "source": []
  }
 ]
}