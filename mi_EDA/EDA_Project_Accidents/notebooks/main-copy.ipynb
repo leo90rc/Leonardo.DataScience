{
 "metadata": {
  "language_info": {
   "codemirror_mode": {
    "name": "ipython",
    "version": 3
   },
   "file_extension": ".py",
   "mimetype": "text/x-python",
   "name": "python",
   "nbconvert_exporter": "python",
   "pygments_lexer": "ipython3",
   "version": "3.7.4"
  },
  "orig_nbformat": 2,
  "kernelspec": {
   "name": "python374jvsc74a57bd0a0947237fadc8b5561fed326db280cc5ec46a670c87cfb3a0489cf95ff262303",
   "display_name": "Python 3.7.4 64-bit"
  },
  "metadata": {
   "interpreter": {
    "hash": "a0947237fadc8b5561fed326db280cc5ec46a670c87cfb3a0489cf95ff262303"
   }
  }
 },
 "nbformat": 4,
 "nbformat_minor": 2,
 "cells": [
  {
   "source": [
    "## This file must onlycontain imports, pandas, matplotlib, requests,... and calls to your src/utils/* modules."
   ],
   "cell_type": "markdown",
   "metadata": {}
  },
  {
   "cell_type": "code",
   "execution_count": 40,
   "metadata": {},
   "outputs": [],
   "source": [
    "import pandas as pd\n",
    "import os\n",
    "import sys\n",
    "import utils.folders_tb as fo\n",
    "import utils.mining_data_tb as mi"
   ]
  },
  {
   "source": [
    "En el afán de demostrar la hipótesis planteada, se comienza a realizar el tratamiento de los datos recopilados para poder trabajar con ellos posteriormente. Para esto, se crean las correspondientes listas de dataframes, con los datasets de cada año (desde el 2011 hasta el 2020).\n",
    "\n",
    "De esta manera, se tendrá una lista "
   ],
   "cell_type": "markdown",
   "metadata": {}
  },
  {
   "cell_type": "code",
   "execution_count": 43,
   "metadata": {},
   "outputs": [],
   "source": [
    "lista_df_gu = fo.enlistar_dataframes('_ACCIDENTS_GU_BCN_')"
   ]
  },
  {
   "cell_type": "code",
   "execution_count": null,
   "metadata": {},
   "outputs": [],
   "source": [
    "mi.info_df_enlistado(lista_df_gu)"
   ]
  },
  {
   "cell_type": "code",
   "execution_count": null,
   "metadata": {},
   "outputs": [],
   "source": [
    "mi.comparar_columnas(lista_df_gu)"
   ]
  },
  {
   "cell_type": "code",
   "execution_count": null,
   "metadata": {},
   "outputs": [],
   "source": [
    "mi.mostrar_columnas(lista_df_gu)"
   ]
  },
  {
   "cell_type": "code",
   "execution_count": null,
   "metadata": {},
   "outputs": [],
   "source": [
    "mi.nombre_cada_columna(lista_df_gu)"
   ]
  },
  {
   "source": [
    "Como se puede observar, no todos los dataframes contenidos en la lista poseen el mismo número de columnas."
   ],
   "cell_type": "markdown",
   "metadata": {}
  },
  {
   "cell_type": "code",
   "execution_count": null,
   "metadata": {},
   "outputs": [],
   "source": [
    "mi.ver_ultimas_columnas(lista_df_gu)"
   ]
  },
  {
   "source": [
    "Vemos que las últimas 2 columnas de los dataframes que contienen 27, hacen referencia a la latitud y longitud. De momento, podemos prescindir de ellas, por lo que serán eliminadas."
   ],
   "cell_type": "markdown",
   "metadata": {}
  },
  {
   "cell_type": "code",
   "execution_count": null,
   "metadata": {},
   "outputs": [],
   "source": [
    "mi.eliminar_columnas_finales(lista_df_gu)"
   ]
  },
  {
   "source": [
    "Podemos apreciar además, que las columnas que hacen referencia a las coordenadas, no sólo tienen nombres diferentes, sino que no se corresponden en posición, es decir, en algunas figura en primer lugar la coordeneda UTM Y o X y viceversa. Se procede a acomodar las columnas para luego unificar nombres de las mismas."
   ],
   "cell_type": "markdown",
   "metadata": {}
  },
  {
   "cell_type": "code",
   "execution_count": null,
   "metadata": {},
   "outputs": [],
   "source": [
    "mi.ordenar_columnas_finales(lista_df_gu)"
   ]
  },
  {
   "cell_type": "code",
   "execution_count": null,
   "metadata": {},
   "outputs": [],
   "source": [
    "mi.nombre_cada_columna(lista_df_gu)"
   ]
  },
  {
   "source": [
    "Una vez organizadas las columnas, se homogenizan los nombres de las mismas para unir los dataframes en uno solo."
   ],
   "cell_type": "markdown",
   "metadata": {}
  },
  {
   "cell_type": "code",
   "execution_count": null,
   "metadata": {},
   "outputs": [],
   "source": [
    "nombres_columnas_gu = ['NUMERO EXPEDIENTE', 'CODIGO DISTRITO', 'DISTRITO', 'CODIGO BARRIO', 'BARRIO', 'CODIGO CALLE', 'CALLE', 'NUMERO POSTAL', 'DIA SEMANA', 'DIA SEMANA (NUMERICO)', 'TIPO DE DIA', 'ANO', 'MES (NUMERICO)', 'MES', 'DIA', 'HORA', 'TURNO', 'CAUSA', 'FALLECIDOS', 'LESIONADOS LEVE', 'LESIONADOS GRAVE', 'CANTIDAD VICTIMAS', 'CANTIDAD VEHICULOS', 'COORDENADA UTM X', 'COORDENADA UTM Y']"
   ]
  },
  {
   "cell_type": "code",
   "execution_count": null,
   "metadata": {},
   "outputs": [],
   "source": [
    "mi.renombrar_columnas(lista_df_gu, nombres_columnas_gu)"
   ]
  },
  {
   "cell_type": "code",
   "execution_count": null,
   "metadata": {},
   "outputs": [],
   "source": [
    "mi.nombre_cada_columna(lista_df_gu)"
   ]
  },
  {
   "source": [
    "Ya todos los dataframes de la lista tienen el mismo nombre para cada columna. Se procede a unirlos en un único dataframe."
   ],
   "cell_type": "markdown",
   "metadata": {}
  },
  {
   "cell_type": "code",
   "execution_count": null,
   "metadata": {},
   "outputs": [],
   "source": [
    "df_accidentes_gu = mi.unificar_lista_dataframe(lista_df_gu)"
   ]
  },
  {
   "cell_type": "code",
   "execution_count": null,
   "metadata": {},
   "outputs": [],
   "source": [
    "df_accidentes_gu"
   ]
  },
  {
   "source": [
    "### Ahora, nuestra variable **``df_accidentes_gu``** representa todos los accidentes registrados por la Guardia Urbana de la Ciudad de Barcelona, entre los años 2011 y 2020.\n",
    "\n",
    "---\n",
    "\n",
    "De igual manera, procedemos a trabajar sobre los datasets de **causas** de accidentes."
   ],
   "cell_type": "markdown",
   "metadata": {}
  },
  {
   "source": [
    "# ACA ARRANCA CAUSASSSSSSSSSSSSSSSSSSSSSSSSSSSSSSSSSSSSSSSSSSSSSSSSSSSSSSSSSSSSSSSSSSSSSSSSSSSSSSSSSSSS "
   ],
   "cell_type": "markdown",
   "metadata": {}
  },
  {
   "cell_type": "code",
   "execution_count": null,
   "metadata": {},
   "outputs": [],
   "source": [
    "lista_df_causas = fo.enlistar_dataframes('_ACCIDENTS_CAUSES_GU_BCN_')"
   ]
  },
  {
   "cell_type": "code",
   "execution_count": null,
   "metadata": {},
   "outputs": [],
   "source": [
    "mi.comparar_columnas(lista_df_causas)"
   ]
  },
  {
   "cell_type": "code",
   "execution_count": null,
   "metadata": {},
   "outputs": [],
   "source": [
    "mi.mostrar_columnas(lista_df_causas)"
   ]
  },
  {
   "source": [
    "Haciendo una comparación entre los dataframes de ``lista_df_causas`` y los de ``lista_df_gu``, se observa que tienen en común la mayoría de sus columnas.\n",
    "\n",
    "Se pondrán a prueba los dataframes basándonos en su **número de expediente**, la cual, en la previa, se estima que podría ser la clave primaria."
   ],
   "cell_type": "markdown",
   "metadata": {}
  },
  {
   "cell_type": "code",
   "execution_count": null,
   "metadata": {},
   "outputs": [],
   "source": [
    "lista_df_gu[0].tail(3)"
   ]
  },
  {
   "cell_type": "code",
   "execution_count": null,
   "metadata": {},
   "outputs": [],
   "source": [
    "mi.datos_por_numero_expediente(lista_df_gu, 0, '2011S002900', 'NUMERO EXPEDIENTE').unstack()"
   ]
  },
  {
   "cell_type": "code",
   "execution_count": null,
   "metadata": {},
   "outputs": [],
   "source": [
    "mi.datos_por_numero_expediente(lista_df_causas, 0,'2011S002900',\"Número d expedient\").unstack()"
   ]
  },
  {
   "source": [
    "Se puede ver que los datos coinciden cuando se los evalúa en función del número de expediente, para el dataframe en posición 0.\n",
    "\n",
    "Haciendo la misma evaluación para dataframes en distintas posiciones:"
   ],
   "cell_type": "markdown",
   "metadata": {}
  },
  {
   "cell_type": "code",
   "execution_count": null,
   "metadata": {},
   "outputs": [],
   "source": [
    "lista_df_gu[8].head(2)"
   ]
  },
  {
   "source": [
    "mi.datos_por_numero_expediente(lista_df_gu, 8, '2019S000001', 'NUMERO EXPEDIENTE').unstack()"
   ],
   "cell_type": "code",
   "metadata": {},
   "execution_count": null,
   "outputs": []
  },
  {
   "source": [
    "Aquí se aprecia que la búsqueda para este nuevo número de expediente no es correcta. Indagando en el motivo entontramos lo siguiente:"
   ],
   "cell_type": "markdown",
   "metadata": {}
  },
  {
   "cell_type": "code",
   "execution_count": null,
   "metadata": {},
   "outputs": [],
   "source": [
    "lista_df_gu[8].iloc[0,0]"
   ]
  },
  {
   "cell_type": "code",
   "execution_count": null,
   "metadata": {},
   "outputs": [],
   "source": [
    "mi.datos_por_numero_expediente(lista_df_gu, 8, '2019S000001    ', 'NUMERO EXPEDIENTE').unstack()"
   ]
  },
  {
   "source": [
    "Comparándolo con el mismo número de expediente en otra lista de dataframes:"
   ],
   "cell_type": "markdown",
   "metadata": {}
  },
  {
   "cell_type": "code",
   "execution_count": null,
   "metadata": {},
   "outputs": [],
   "source": [
    "mi.datos_por_numero_expediente(lista_df_causas, 8, '2019S000001    ', 'Numero_expedient').unstack()"
   ]
  },
  {
   "source": [
    "La correlación por número de expediente continúa siendo correcta, a pesar que en éste caso, el valor contenga espacios en blanco al final del string. Se solucionará éste inconveniente más adelante, cuando se disponga del dataframe completo con todos los datos de los correspondientes datasets.\n",
    "\n",
    "---\n",
    "\n",
    "De momento, se tomará la decisión de mantener las columnas de la lista_df_causas que aporten valor a los datos, sin estar repetidas (a excepción de la columna de números de expediente). De esta manera, permaneceran en los dataframes las columnas siguientes relacionadas con los siguientes datos:\n",
    "- Número de expediente\n",
    "- Descrición de causa"
   ],
   "cell_type": "markdown",
   "metadata": {}
  },
  {
   "cell_type": "code",
   "execution_count": null,
   "metadata": {},
   "outputs": [],
   "source": [
    "df_accidentes_causas = mi.crear_df_causas(lista_df_causas)"
   ]
  },
  {
   "cell_type": "code",
   "execution_count": null,
   "metadata": {},
   "outputs": [],
   "source": [
    "df_accidentes_causas"
   ]
  },
  {
   "source": [
    "### Ahora, nuestra variable **``df_accidentes_causas``** representa la descripción de los causales de todos los accidentes registrados por la Guardia Urbana de la Ciudad de Barcelona, entre los años 2011 y 2020, con su correspondiente número de expediente.\n",
    "\n",
    "---\n",
    "\n",
    "De igual manera, procedemos a trabajar sobre los datasets de **personas** implicadas en accidentes."
   ],
   "cell_type": "markdown",
   "metadata": {}
  },
  {
   "source": [
    "# ACA ARRANCA PERSONASSSSSSSSSSSSSSSSSSSSSSSSSSSSSSSSSSSSSSSSSSSSSS"
   ],
   "cell_type": "markdown",
   "metadata": {}
  },
  {
   "cell_type": "code",
   "execution_count": null,
   "metadata": {},
   "outputs": [],
   "source": [
    "lista_df_personas = fo.enlistar_dataframes('_ACCIDENTS_PERSONES_GU_BCN_')"
   ]
  },
  {
   "cell_type": "code",
   "execution_count": null,
   "metadata": {},
   "outputs": [],
   "source": [
    "mi.comparar_columnas(lista_df_personas)"
   ]
  },
  {
   "cell_type": "code",
   "execution_count": null,
   "metadata": {},
   "outputs": [],
   "source": [
    "mi.mostrar_columnas(lista_df_personas)"
   ]
  },
  {
   "source": [
    "Haciendo nuevamente la comparación, ahora entre los dataframes de ``lista_df_personas`` y los de ``lista_df_gu``, se observa que, efectivamente, tienen en común la mayoría de sus columnas.\n",
    "\n",
    "Se vuelve a realizar la prueba sobre los dataframes basándonos en su **número de expediente** (clave primaria)."
   ],
   "cell_type": "markdown",
   "metadata": {}
  },
  {
   "cell_type": "code",
   "execution_count": null,
   "metadata": {},
   "outputs": [],
   "source": [
    "lista_df_gu[3].head(3)"
   ]
  },
  {
   "cell_type": "code",
   "execution_count": null,
   "metadata": {},
   "outputs": [],
   "source": [
    "mi.datos_por_numero_expediente(lista_df_gu, 3, '2014S003380', 'NUMERO EXPEDIENTE').unstack()"
   ]
  },
  {
   "cell_type": "code",
   "execution_count": null,
   "metadata": {},
   "outputs": [],
   "source": [
    "mi.datos_por_numero_expediente(lista_df_personas, 3, '2014S003380', 'Número d\\'expedient').unstack()"
   ]
  },
  {
   "source": [
    "Efectivamente, como era de esperar, están relacionados por su clave primaria.\n",
    "\n",
    "En este caso, se tomarán como columnas con datos relevantes para nuestro estudio las siguientes:\n",
    "- Número de expediente\n",
    "- Tipo de persona\n",
    "- Edad\n",
    "- Sexo"
   ],
   "cell_type": "markdown",
   "metadata": {}
  },
  {
   "cell_type": "code",
   "execution_count": null,
   "metadata": {},
   "outputs": [],
   "source": [
    "df_accidentes_personas = mi.crear_df_personas(lista_df_personas)"
   ]
  },
  {
   "cell_type": "code",
   "execution_count": null,
   "metadata": {},
   "outputs": [],
   "source": [
    "df_accidentes_personas"
   ]
  },
  {
   "source": [
    "### Ahora, nuestra variable **``df_accidentes_personas``** representa la descripción de las personas involucradas en los accidentes registrados por la Guardia Urbana de la Ciudad de Barcelona, entre los años 2011 y 2020, con su correspondiente número de expediente.\n",
    "\n",
    "---\n",
    "\n",
    "De igual manera, procedemos a trabajar sobre los datasets de **vehículos** implicados en accidentes."
   ],
   "cell_type": "markdown",
   "metadata": {}
  },
  {
   "source": [
    "# ACA ARRANCA VEHICULOSSSSSSSSSSSSSSSSSSSSSSSSSSSSSSSSSSSSSSSSSSSSSSS"
   ],
   "cell_type": "markdown",
   "metadata": {}
  },
  {
   "cell_type": "code",
   "execution_count": null,
   "metadata": {},
   "outputs": [],
   "source": [
    "lista_df_vehiculos = fo.enlistar_dataframes('_accidents_vehicles_gu_bcn_')"
   ]
  },
  {
   "cell_type": "code",
   "execution_count": null,
   "metadata": {},
   "outputs": [],
   "source": [
    "mi.comparar_columnas(lista_df_vehiculos)"
   ]
  },
  {
   "cell_type": "code",
   "execution_count": null,
   "metadata": {},
   "outputs": [],
   "source": [
    "mi.mostrar_columnas(lista_df_vehiculos)"
   ]
  },
  {
   "source": [
    "Se comparan los dataframes de ``lista_df_vehiculos`` y los de ``lista_df_gu``. Nuevamente cuentan con muchas columnas en común que no será necesario duplicar.\n",
    "\n",
    "Verificamos el cumplimiento de nuestra clave primaria \"número de expediente\"."
   ],
   "cell_type": "markdown",
   "metadata": {}
  },
  {
   "cell_type": "code",
   "execution_count": null,
   "metadata": {},
   "outputs": [],
   "source": [
    "lista_df_gu[4].head(3)"
   ]
  },
  {
   "cell_type": "code",
   "execution_count": null,
   "metadata": {},
   "outputs": [],
   "source": [
    "mi.datos_por_numero_expediente(lista_df_gu, 4, '2015S007685', 'NUMERO EXPEDIENTE').unstack()"
   ]
  },
  {
   "cell_type": "code",
   "execution_count": null,
   "metadata": {},
   "outputs": [],
   "source": [
    "mi.datos_por_numero_expediente(lista_df_vehiculos, 4, '2015S007685', 'Codi d\\'expedient').unstack()"
   ]
  },
  {
   "source": [
    "Nuevamente se cumple la relación. Se definen ahora las columnas de interés para el estudio:\n",
    "- Número de expediente\n",
    "- Tipo de vehículo\n",
    "- Modelo de vehículo\n",
    "- Marca de vehículo\n",
    "- Color de vehículo\n",
    "- Tipo de carnet\n",
    "- Antigüedad de carnet\n",
    "- Causa del peatón"
   ],
   "cell_type": "markdown",
   "metadata": {}
  },
  {
   "cell_type": "code",
   "execution_count": null,
   "metadata": {},
   "outputs": [],
   "source": [
    "df_accidentes_vehiculos = mi.crear_df_vehiculos(lista_df_vehiculos)"
   ]
  },
  {
   "cell_type": "code",
   "execution_count": null,
   "metadata": {},
   "outputs": [],
   "source": [
    "df_accidentes_vehiculos"
   ]
  },
  {
   "source": [
    "### La variable **``df_accidentes_vehiculos``** representa la descripción de los distintos vehículos involucradas en los accidentes registrados por la Guardia Urbana de la Ciudad de Barcelona, entre los años 2011 y 2020, con su correspondiente número de expediente.\n",
    "\n",
    "---\n",
    "\n",
    "Por último, se procede a trabajar sobre los datasets de **tipos** de accidentes."
   ],
   "cell_type": "markdown",
   "metadata": {}
  },
  {
   "source": [
    "# ACAAAAAAAAAAAAAAAAAAAAAAAAAAAAAAAAAAAAAAAAAAAAAAAAAAA ARRAAAAAAAAAAAAAAAAAAAAAAAAAAAAAAAAAAAAAAAAAAAAAAANCA TIPOSSSSSSSSSSSSSSSSSSSSSSSSSSSSSSSSSSSSSSSSSSSSSSSSSSSS"
   ],
   "cell_type": "markdown",
   "metadata": {}
  },
  {
   "cell_type": "code",
   "execution_count": null,
   "metadata": {},
   "outputs": [],
   "source": [
    "lista_df_tipos = fo.enlistar_dataframes('_ACCIDENTS_TIPUS_GU_BCN_')"
   ]
  },
  {
   "cell_type": "code",
   "execution_count": null,
   "metadata": {},
   "outputs": [],
   "source": [
    "mi.comparar_columnas(lista_df_tipos)"
   ]
  },
  {
   "cell_type": "code",
   "execution_count": null,
   "metadata": {},
   "outputs": [],
   "source": [
    "mi.mostrar_columnas(lista_df_tipos)"
   ]
  },
  {
   "source": [
    "Se comparan los dataframes de ``lista_df_tipos`` y los de ``lista_df_gu``, los cuales poseen muchas columnas en común.\n",
    "\n",
    "Verificamos nuevamente el cumplimiento de nuestra clave primaria \"número de expediente\"."
   ],
   "cell_type": "markdown",
   "metadata": {}
  },
  {
   "cell_type": "code",
   "execution_count": null,
   "metadata": {},
   "outputs": [],
   "source": [
    "lista_df_gu[5].head(3)"
   ]
  },
  {
   "cell_type": "code",
   "execution_count": null,
   "metadata": {},
   "outputs": [],
   "source": [
    "mi.datos_por_numero_expediente(lista_df_gu, 5, '2016S001896', 'NUMERO EXPEDIENTE').unstack()"
   ]
  },
  {
   "cell_type": "code",
   "execution_count": null,
   "metadata": {},
   "outputs": [],
   "source": [
    "mi.datos_por_numero_expediente(lista_df_tipos, 5, '2016S001896', 'Numero_expedient').unstack()"
   ]
  },
  {
   "source": [
    "Se presenta nuevamente el inconveniente de encontrar caracteres en blanco en el string de número de expediente. De momento se realiza la comprobación de la correlatividad y más tarde se corregirá el problema."
   ],
   "cell_type": "markdown",
   "metadata": {}
  },
  {
   "cell_type": "code",
   "execution_count": null,
   "metadata": {},
   "outputs": [],
   "source": [
    "lista_df_gu[5].iloc[0,0]"
   ]
  },
  {
   "cell_type": "code",
   "execution_count": null,
   "metadata": {},
   "outputs": [],
   "source": [
    "mi.datos_por_numero_expediente(lista_df_gu, 5, '2016S001896    ', 'NUMERO EXPEDIENTE').unstack()"
   ]
  },
  {
   "cell_type": "code",
   "execution_count": null,
   "metadata": {},
   "outputs": [],
   "source": [
    "mi.datos_por_numero_expediente(lista_df_tipos, 5, '2016S001896    ', 'Numero_expedient').unstack()"
   ]
  },
  {
   "source": [
    "Una vez verificada la relación por número de expediente, se seleccionan las columnas de interés para los datasets de \"tipo de accidente\", evitando duplicados. La selección será:\n",
    "- Número de expediente\n",
    "- Tipo de accidente"
   ],
   "cell_type": "markdown",
   "metadata": {}
  },
  {
   "cell_type": "code",
   "execution_count": null,
   "metadata": {},
   "outputs": [],
   "source": [
    "df_accidentes_tipos = mi.crear_df_tipos(lista_df_tipos)"
   ]
  },
  {
   "cell_type": "code",
   "execution_count": null,
   "metadata": {},
   "outputs": [],
   "source": [
    "df_accidentes_tipos"
   ]
  },
  {
   "source": [
    "---\n",
    "\n",
    "Una vez que se cuenta con todos los dataframes acomodados, son guardados en archivos .csv para su rápida utilización."
   ],
   "cell_type": "markdown",
   "metadata": {}
  },
  {
   "cell_type": "code",
   "execution_count": null,
   "metadata": {},
   "outputs": [],
   "source": [
    "lista_df_post_wrangling = [df_accidentes_gu, df_accidentes_causas, df_accidentes_personas, df_accidentes_vehiculos, df_accidentes_tipos]"
   ]
  },
  {
   "cell_type": "code",
   "execution_count": null,
   "metadata": {},
   "outputs": [],
   "source": [
    "lista_nombres_csv = ['accidentes_gu.csv', 'accidentes_causas.csv', 'accidentes_personas.csv', 'accidentes_vehiculos.csv', 'accidentes_tipos.csv']"
   ]
  },
  {
   "cell_type": "code",
   "execution_count": null,
   "metadata": {},
   "outputs": [],
   "source": [
    "fo.guardar_csv_post_wrangling(lista_df_post_wrangling, lista_nombres_csv)"
   ]
  },
  {
   "source": [
    "De esta manera, contamos con 5 archivos .csv (uno para cada tipo de dataset), ubicados en la carpeta /data/DATA_POST_WRANGLING, listos para trabajar con ellos.\n",
    "\n",
    "Se procede a unificar todos los dataframes. Para esto, hacemos la lectura de dichos CSV's para poder trabajar con ellos inmediatamente, sin tener que realizar la ejecución de la totalidad del código, la cual demora un tiempo razonable en finalizar.\n",
    "\n",
    "Para esto, se llama a la función ``leer_csv_post_wrangling()``, y se le pasa por parámetro los nombres deseados para cada dataframe."
   ],
   "cell_type": "markdown",
   "metadata": {}
  },
  {
   "cell_type": "code",
   "execution_count": 2,
   "metadata": {},
   "outputs": [
    {
     "output_type": "stream",
     "name": "stderr",
     "text": [
      "C:\\Users\\LeoFr\\AppData\\Roaming\\Python\\Python37\\site-packages\\IPython\\core\\interactiveshell.py:3357: DtypeWarning: Columns (3) have mixed types.Specify dtype option on import or set low_memory=False.\n  if (await self.run_code(code, result,  async_=asy)):\n"
     ]
    }
   ],
   "source": [
    "df_gu, df_causas, df_personas, df_vehiculos, df_tipos = mi.leer_csv_post_wrangling()"
   ]
  },
  {
   "source": [
    "Aplicando la siguiente función se quitarán los caracteres en blanco al princpio y al final de los strings."
   ],
   "cell_type": "markdown",
   "metadata": {}
  },
  {
   "cell_type": "code",
   "execution_count": null,
   "metadata": {},
   "outputs": [],
   "source": [
    "df_gu.iloc[50221,0]"
   ]
  },
  {
   "cell_type": "code",
   "execution_count": 4,
   "metadata": {},
   "outputs": [],
   "source": [
    "mi.quitar_espacios(df_gu, df_causas, df_personas, df_vehiculos, df_tipos)"
   ]
  },
  {
   "cell_type": "code",
   "execution_count": 11,
   "metadata": {},
   "outputs": [
    {
     "output_type": "execute_result",
     "data": {
      "text/plain": [
       "'2017S000110'"
      ]
     },
     "metadata": {},
     "execution_count": 11
    }
   ],
   "source": [
    "df_gu.iloc[50221,0]"
   ]
  },
  {
   "cell_type": "code",
   "execution_count": null,
   "metadata": {},
   "outputs": [],
   "source": []
  },
  {
   "cell_type": "code",
   "execution_count": 27,
   "metadata": {},
   "outputs": [
    {
     "output_type": "execute_result",
     "data": {
      "text/plain": [
       "       NUMERO EXPEDIENTE TIPO PERSONA EDAD        SEXO\n",
       "0            2011S000321    Conductor   33        Home\n",
       "1            2011S000324    Conductor   19        Home\n",
       "2            2011S000004    Conductor   26        Home\n",
       "3            2011S000011    Passatger   22        Home\n",
       "4            2011S000013    Conductor   29        Home\n",
       "...                  ...          ...  ...         ...\n",
       "117626       2020S006276    Conductor   48        Home\n",
       "117627       2020S006276    Conductor   16        Home\n",
       "117628       2020S006277    Passatger   56        Dona\n",
       "117629       2020S006277    Conductor   64        Home\n",
       "117630       2020S006278    Conductor   -1  Desconegut\n",
       "\n",
       "[117631 rows x 4 columns]"
      ],
      "text/html": "<div>\n<style scoped>\n    .dataframe tbody tr th:only-of-type {\n        vertical-align: middle;\n    }\n\n    .dataframe tbody tr th {\n        vertical-align: top;\n    }\n\n    .dataframe thead th {\n        text-align: right;\n    }\n</style>\n<table border=\"1\" class=\"dataframe\">\n  <thead>\n    <tr style=\"text-align: right;\">\n      <th></th>\n      <th>NUMERO EXPEDIENTE</th>\n      <th>TIPO PERSONA</th>\n      <th>EDAD</th>\n      <th>SEXO</th>\n    </tr>\n  </thead>\n  <tbody>\n    <tr>\n      <th>0</th>\n      <td>2011S000321</td>\n      <td>Conductor</td>\n      <td>33</td>\n      <td>Home</td>\n    </tr>\n    <tr>\n      <th>1</th>\n      <td>2011S000324</td>\n      <td>Conductor</td>\n      <td>19</td>\n      <td>Home</td>\n    </tr>\n    <tr>\n      <th>2</th>\n      <td>2011S000004</td>\n      <td>Conductor</td>\n      <td>26</td>\n      <td>Home</td>\n    </tr>\n    <tr>\n      <th>3</th>\n      <td>2011S000011</td>\n      <td>Passatger</td>\n      <td>22</td>\n      <td>Home</td>\n    </tr>\n    <tr>\n      <th>4</th>\n      <td>2011S000013</td>\n      <td>Conductor</td>\n      <td>29</td>\n      <td>Home</td>\n    </tr>\n    <tr>\n      <th>...</th>\n      <td>...</td>\n      <td>...</td>\n      <td>...</td>\n      <td>...</td>\n    </tr>\n    <tr>\n      <th>117626</th>\n      <td>2020S006276</td>\n      <td>Conductor</td>\n      <td>48</td>\n      <td>Home</td>\n    </tr>\n    <tr>\n      <th>117627</th>\n      <td>2020S006276</td>\n      <td>Conductor</td>\n      <td>16</td>\n      <td>Home</td>\n    </tr>\n    <tr>\n      <th>117628</th>\n      <td>2020S006277</td>\n      <td>Passatger</td>\n      <td>56</td>\n      <td>Dona</td>\n    </tr>\n    <tr>\n      <th>117629</th>\n      <td>2020S006277</td>\n      <td>Conductor</td>\n      <td>64</td>\n      <td>Home</td>\n    </tr>\n    <tr>\n      <th>117630</th>\n      <td>2020S006278</td>\n      <td>Conductor</td>\n      <td>-1</td>\n      <td>Desconegut</td>\n    </tr>\n  </tbody>\n</table>\n<p>117631 rows × 4 columns</p>\n</div>"
     },
     "metadata": {},
     "execution_count": 27
    }
   ],
   "source": [
    "df_personas"
   ]
  },
  {
   "cell_type": "code",
   "execution_count": 35,
   "metadata": {},
   "outputs": [
    {
     "output_type": "execute_result",
     "data": {
      "text/plain": [
       "     NUMERO EXPEDIENTE  CODIGO DISTRITO    DISTRITO CODIGO BARRIO  \\\n",
       "5853       2012S000075             10.0  Sant Martí     103-10-71   \n",
       "\n",
       "                       BARRIO  CODIGO CALLE       CALLE NUMERO POSTAL  \\\n",
       "5853  Provençals del Poblenou      115603.0  Espronceda     0201 0201   \n",
       "\n",
       "     DIA SEMANA DIA SEMANA (NUMERICO)  ...  HORA  TURNO       CAUSA  \\\n",
       "5853   Dimecres                     3  ...  14.0  Tarda  Desconegut   \n",
       "\n",
       "     FALLECIDOS  LESIONADOS LEVE  LESIONADOS GRAVE CANTIDAD VICTIMAS  \\\n",
       "5853        0.0              3.0               0.0               3.0   \n",
       "\n",
       "     CANTIDAD VEHICULOS  COORDENADA UTM X  COORDENADA UTM Y  \n",
       "5853                2.0         432998,63        4584567,25  \n",
       "\n",
       "[1 rows x 25 columns]"
      ],
      "text/html": "<div>\n<style scoped>\n    .dataframe tbody tr th:only-of-type {\n        vertical-align: middle;\n    }\n\n    .dataframe tbody tr th {\n        vertical-align: top;\n    }\n\n    .dataframe thead th {\n        text-align: right;\n    }\n</style>\n<table border=\"1\" class=\"dataframe\">\n  <thead>\n    <tr style=\"text-align: right;\">\n      <th></th>\n      <th>NUMERO EXPEDIENTE</th>\n      <th>CODIGO DISTRITO</th>\n      <th>DISTRITO</th>\n      <th>CODIGO BARRIO</th>\n      <th>BARRIO</th>\n      <th>CODIGO CALLE</th>\n      <th>CALLE</th>\n      <th>NUMERO POSTAL</th>\n      <th>DIA SEMANA</th>\n      <th>DIA SEMANA (NUMERICO)</th>\n      <th>...</th>\n      <th>HORA</th>\n      <th>TURNO</th>\n      <th>CAUSA</th>\n      <th>FALLECIDOS</th>\n      <th>LESIONADOS LEVE</th>\n      <th>LESIONADOS GRAVE</th>\n      <th>CANTIDAD VICTIMAS</th>\n      <th>CANTIDAD VEHICULOS</th>\n      <th>COORDENADA UTM X</th>\n      <th>COORDENADA UTM Y</th>\n    </tr>\n  </thead>\n  <tbody>\n    <tr>\n      <th>5853</th>\n      <td>2012S000075</td>\n      <td>10.0</td>\n      <td>Sant Martí</td>\n      <td>103-10-71</td>\n      <td>Provençals del Poblenou</td>\n      <td>115603.0</td>\n      <td>Espronceda</td>\n      <td>0201 0201</td>\n      <td>Dimecres</td>\n      <td>3</td>\n      <td>...</td>\n      <td>14.0</td>\n      <td>Tarda</td>\n      <td>Desconegut</td>\n      <td>0.0</td>\n      <td>3.0</td>\n      <td>0.0</td>\n      <td>3.0</td>\n      <td>2.0</td>\n      <td>432998,63</td>\n      <td>4584567,25</td>\n    </tr>\n  </tbody>\n</table>\n<p>1 rows × 25 columns</p>\n</div>"
     },
     "metadata": {},
     "execution_count": 35
    }
   ],
   "source": [
    "df_gu[df_gu['NUMERO EXPEDIENTE'] == '2012S000075']"
   ]
  },
  {
   "cell_type": "code",
   "execution_count": 36,
   "metadata": {},
   "outputs": [
    {
     "output_type": "execute_result",
     "data": {
      "text/plain": [
       "      NUMERO EXPEDIENTE TIPO VEHICULO MODELO VEHICULO MARCA VEHICULO  \\\n",
       "16995       2012S000075   Motocicleta         BURGMAN         SUZUKI   \n",
       "17055       2012S000075       Turismo           CORSA           OPEL   \n",
       "\n",
       "      COLOR VEHICULO TIPO CARNET ANTIGUEDAD CARNET              CAUSA PEATON  \n",
       "16995           Blau           B                 6  No és causa del  vianant  \n",
       "17055           Gris           B                12  No és causa del  vianant  "
      ],
      "text/html": "<div>\n<style scoped>\n    .dataframe tbody tr th:only-of-type {\n        vertical-align: middle;\n    }\n\n    .dataframe tbody tr th {\n        vertical-align: top;\n    }\n\n    .dataframe thead th {\n        text-align: right;\n    }\n</style>\n<table border=\"1\" class=\"dataframe\">\n  <thead>\n    <tr style=\"text-align: right;\">\n      <th></th>\n      <th>NUMERO EXPEDIENTE</th>\n      <th>TIPO VEHICULO</th>\n      <th>MODELO VEHICULO</th>\n      <th>MARCA VEHICULO</th>\n      <th>COLOR VEHICULO</th>\n      <th>TIPO CARNET</th>\n      <th>ANTIGUEDAD CARNET</th>\n      <th>CAUSA PEATON</th>\n    </tr>\n  </thead>\n  <tbody>\n    <tr>\n      <th>16995</th>\n      <td>2012S000075</td>\n      <td>Motocicleta</td>\n      <td>BURGMAN</td>\n      <td>SUZUKI</td>\n      <td>Blau</td>\n      <td>B</td>\n      <td>6</td>\n      <td>No és causa del  vianant</td>\n    </tr>\n    <tr>\n      <th>17055</th>\n      <td>2012S000075</td>\n      <td>Turismo</td>\n      <td>CORSA</td>\n      <td>OPEL</td>\n      <td>Gris</td>\n      <td>B</td>\n      <td>12</td>\n      <td>No és causa del  vianant</td>\n    </tr>\n  </tbody>\n</table>\n</div>"
     },
     "metadata": {},
     "execution_count": 36
    }
   ],
   "source": [
    "df_vehiculos[df_vehiculos['NUMERO EXPEDIENTE'] == '2012S000075']"
   ]
  },
  {
   "cell_type": "code",
   "execution_count": 37,
   "metadata": {},
   "outputs": [
    {
     "output_type": "execute_result",
     "data": {
      "text/plain": [
       "      NUMERO EXPEDIENTE TIPO PERSONA EDAD  SEXO\n",
       "12399       2012S000075    Conductor   30  Home\n",
       "20042       2012S000075    Passatger   22  Home\n",
       "20733       2012S000075    Conductor   24  Home"
      ],
      "text/html": "<div>\n<style scoped>\n    .dataframe tbody tr th:only-of-type {\n        vertical-align: middle;\n    }\n\n    .dataframe tbody tr th {\n        vertical-align: top;\n    }\n\n    .dataframe thead th {\n        text-align: right;\n    }\n</style>\n<table border=\"1\" class=\"dataframe\">\n  <thead>\n    <tr style=\"text-align: right;\">\n      <th></th>\n      <th>NUMERO EXPEDIENTE</th>\n      <th>TIPO PERSONA</th>\n      <th>EDAD</th>\n      <th>SEXO</th>\n    </tr>\n  </thead>\n  <tbody>\n    <tr>\n      <th>12399</th>\n      <td>2012S000075</td>\n      <td>Conductor</td>\n      <td>30</td>\n      <td>Home</td>\n    </tr>\n    <tr>\n      <th>20042</th>\n      <td>2012S000075</td>\n      <td>Passatger</td>\n      <td>22</td>\n      <td>Home</td>\n    </tr>\n    <tr>\n      <th>20733</th>\n      <td>2012S000075</td>\n      <td>Conductor</td>\n      <td>24</td>\n      <td>Home</td>\n    </tr>\n  </tbody>\n</table>\n</div>"
     },
     "metadata": {},
     "execution_count": 37
    }
   ],
   "source": [
    "df_personas[df_personas['NUMERO EXPEDIENTE'] == '2012S000075']"
   ]
  },
  {
   "cell_type": "code",
   "execution_count": 26,
   "metadata": {},
   "outputs": [
    {
     "output_type": "execute_result",
     "data": {
      "text/plain": [
       "       NUMERO EXPEDIENTE                      TIPO VEHICULO   MODELO VEHICULO  \\\n",
       "0            2011S000833                            Turismo               206   \n",
       "1            2011S000835                         Ciclomotor              CY50   \n",
       "2            2011S002871                            Turismo               318   \n",
       "3            2011S000825                        Motocicleta            SH 100   \n",
       "4            2011S000830                         Ciclomotor        LIBERTY 50   \n",
       "...                  ...                                ...               ...   \n",
       "179901       2020S006276                        Motocicleta  AGILITY CITY 125   \n",
       "179902       2020S006276  Veh. mobilitat personal amb motor        Desconegut   \n",
       "179903       2020S006277                        Motocicleta            SH 150   \n",
       "179904       2020S006278                            Turisme              CLIO   \n",
       "179905       2020S006278                            Turisme             RAPID   \n",
       "\n",
       "       MARCA VEHICULO COLOR VEHICULO TIPO CARNET ANTIGUEDAD CARNET  \\\n",
       "0             PEUGEOT          Blanc           B                 9   \n",
       "1              YAMAHA          Negre           B                22   \n",
       "2                 BMW          Negre           B                 7   \n",
       "3               HONDA           Verd           B                 6   \n",
       "4             PIAGGIO           Gris           B                 2   \n",
       "...               ...            ...         ...               ...   \n",
       "179901          KYMCO     Desconegut           B                16   \n",
       "179902     Desconegut          Negre  Desconegut        Desconegut   \n",
       "179903          HONDA        Vermell           A                25   \n",
       "179904        RENAULT          Blanc  Desconegut        Desconegut   \n",
       "179905          SKODA     Negre/Groc  Desconegut        Desconegut   \n",
       "\n",
       "                    CAUSA PEATON  \n",
       "0       No és causa del  vianant  \n",
       "1       No és causa del  vianant  \n",
       "2       No és causa del  vianant  \n",
       "3       No és causa del  vianant  \n",
       "4       No és causa del  vianant  \n",
       "...                          ...  \n",
       "179901  No és causa del  vianant  \n",
       "179902  No és causa del  vianant  \n",
       "179903  No és causa del  vianant  \n",
       "179904  No és causa del  vianant  \n",
       "179905  No és causa del  vianant  \n",
       "\n",
       "[179906 rows x 8 columns]"
      ],
      "text/html": "<div>\n<style scoped>\n    .dataframe tbody tr th:only-of-type {\n        vertical-align: middle;\n    }\n\n    .dataframe tbody tr th {\n        vertical-align: top;\n    }\n\n    .dataframe thead th {\n        text-align: right;\n    }\n</style>\n<table border=\"1\" class=\"dataframe\">\n  <thead>\n    <tr style=\"text-align: right;\">\n      <th></th>\n      <th>NUMERO EXPEDIENTE</th>\n      <th>TIPO VEHICULO</th>\n      <th>MODELO VEHICULO</th>\n      <th>MARCA VEHICULO</th>\n      <th>COLOR VEHICULO</th>\n      <th>TIPO CARNET</th>\n      <th>ANTIGUEDAD CARNET</th>\n      <th>CAUSA PEATON</th>\n    </tr>\n  </thead>\n  <tbody>\n    <tr>\n      <th>0</th>\n      <td>2011S000833</td>\n      <td>Turismo</td>\n      <td>206</td>\n      <td>PEUGEOT</td>\n      <td>Blanc</td>\n      <td>B</td>\n      <td>9</td>\n      <td>No és causa del  vianant</td>\n    </tr>\n    <tr>\n      <th>1</th>\n      <td>2011S000835</td>\n      <td>Ciclomotor</td>\n      <td>CY50</td>\n      <td>YAMAHA</td>\n      <td>Negre</td>\n      <td>B</td>\n      <td>22</td>\n      <td>No és causa del  vianant</td>\n    </tr>\n    <tr>\n      <th>2</th>\n      <td>2011S002871</td>\n      <td>Turismo</td>\n      <td>318</td>\n      <td>BMW</td>\n      <td>Negre</td>\n      <td>B</td>\n      <td>7</td>\n      <td>No és causa del  vianant</td>\n    </tr>\n    <tr>\n      <th>3</th>\n      <td>2011S000825</td>\n      <td>Motocicleta</td>\n      <td>SH 100</td>\n      <td>HONDA</td>\n      <td>Verd</td>\n      <td>B</td>\n      <td>6</td>\n      <td>No és causa del  vianant</td>\n    </tr>\n    <tr>\n      <th>4</th>\n      <td>2011S000830</td>\n      <td>Ciclomotor</td>\n      <td>LIBERTY 50</td>\n      <td>PIAGGIO</td>\n      <td>Gris</td>\n      <td>B</td>\n      <td>2</td>\n      <td>No és causa del  vianant</td>\n    </tr>\n    <tr>\n      <th>...</th>\n      <td>...</td>\n      <td>...</td>\n      <td>...</td>\n      <td>...</td>\n      <td>...</td>\n      <td>...</td>\n      <td>...</td>\n      <td>...</td>\n    </tr>\n    <tr>\n      <th>179901</th>\n      <td>2020S006276</td>\n      <td>Motocicleta</td>\n      <td>AGILITY CITY 125</td>\n      <td>KYMCO</td>\n      <td>Desconegut</td>\n      <td>B</td>\n      <td>16</td>\n      <td>No és causa del  vianant</td>\n    </tr>\n    <tr>\n      <th>179902</th>\n      <td>2020S006276</td>\n      <td>Veh. mobilitat personal amb motor</td>\n      <td>Desconegut</td>\n      <td>Desconegut</td>\n      <td>Negre</td>\n      <td>Desconegut</td>\n      <td>Desconegut</td>\n      <td>No és causa del  vianant</td>\n    </tr>\n    <tr>\n      <th>179903</th>\n      <td>2020S006277</td>\n      <td>Motocicleta</td>\n      <td>SH 150</td>\n      <td>HONDA</td>\n      <td>Vermell</td>\n      <td>A</td>\n      <td>25</td>\n      <td>No és causa del  vianant</td>\n    </tr>\n    <tr>\n      <th>179904</th>\n      <td>2020S006278</td>\n      <td>Turisme</td>\n      <td>CLIO</td>\n      <td>RENAULT</td>\n      <td>Blanc</td>\n      <td>Desconegut</td>\n      <td>Desconegut</td>\n      <td>No és causa del  vianant</td>\n    </tr>\n    <tr>\n      <th>179905</th>\n      <td>2020S006278</td>\n      <td>Turisme</td>\n      <td>RAPID</td>\n      <td>SKODA</td>\n      <td>Negre/Groc</td>\n      <td>Desconegut</td>\n      <td>Desconegut</td>\n      <td>No és causa del  vianant</td>\n    </tr>\n  </tbody>\n</table>\n<p>179906 rows × 8 columns</p>\n</div>"
     },
     "metadata": {},
     "execution_count": 26
    }
   ],
   "source": [
    "df_vehiculos"
   ]
  },
  {
   "cell_type": "code",
   "execution_count": 25,
   "metadata": {},
   "outputs": [
    {
     "output_type": "execute_result",
     "data": {
      "text/plain": [
       "      NUMERO EXPEDIENTE  CODIGO DISTRITO        DISTRITO CODIGO BARRIO  \\\n",
       "0           2012S005688             10.0      Sant Martí     101-10-64   \n",
       "1           2012S005343             10.0      Sant Martí     101-10-64   \n",
       "2           2012S002291             10.0      Sant Martí     101-10-64   \n",
       "3           2012S005379             10.0      Sant Martí     101-10-64   \n",
       "4           2012S004837             10.0      Sant Martí     101-10-64   \n",
       "...                 ...              ...             ...           ...   \n",
       "85104       2020S006274              7.0  Horta-Guinardó       73-7-37   \n",
       "85105       2020S006275              2.0        Eixample       21-2-10   \n",
       "85106       2020S006276              1.0    Ciutat Vella        12-1-2   \n",
       "85107       2020S006277              2.0        Eixample        22-2-9   \n",
       "85108       2020S006278              8.0      Nou Barris       84-8-44   \n",
       "\n",
       "                               BARRIO  CODIGO CALLE                     CALLE  \\\n",
       "0          el Camp de l'Arpa del Clot      209900.0                 Meridiana   \n",
       "1          el Camp de l'Arpa del Clot      226400.0       Las Navas de Tolosa   \n",
       "2          el Camp de l'Arpa del Clot      161407.0                 Indústria   \n",
       "3          el Camp de l'Arpa del Clot      297001.0  Sant Antoni Maria Claret   \n",
       "4          el Camp de l'Arpa del Clot      297001.0  Sant Antoni Maria Claret   \n",
       "...                               ...           ...                       ...   \n",
       "85104                       el Carmel      182600.0         Lluís Marià Vidal   \n",
       "85105                     Sant Antoni      323203.0                 Sepúlveda   \n",
       "85106                  el Barri Gòtic      701266.0       Litoral (Llobregat)   \n",
       "85107  la Nova Esquerra de l'Eixample       18505.0                     Aragó   \n",
       "85108   Vilapicina i la Torre Llobeta       45701.0                    Quinze   \n",
       "\n",
       "      NUMERO POSTAL DIA SEMANA DIA SEMANA (NUMERICO)  ...  HORA  TURNO  \\\n",
       "0         0203 0205   Dissabte                     6  ...  16.0  Tarda   \n",
       "1         0337 0337   Diumenge                     7  ...  21.0  Tarda   \n",
       "2         0288 0288     Dijous                     4  ...  15.0  Tarda   \n",
       "3         0356 0356    Dimarts                     2  ...  10.0   Matí   \n",
       "4         0270 0270    Dimarts                     2  ...  14.0  Tarda   \n",
       "...             ...        ...                   ...  ...   ...    ...   \n",
       "85104     0025 0025     Dijous                     4  ...  17.0  Tarda   \n",
       "85105     0186 0186     Dijous                     4  ...  20.0  Tarda   \n",
       "85106       1070000     Dijous                     4  ...  13.0   Matí   \n",
       "85107     0127 0127     Dijous                     4  ...  21.0  Tarda   \n",
       "85108     0007 0007    Dimarts                     2  ...  11.0   Matí   \n",
       "\n",
       "                                 CAUSA FALLECIDOS  LESIONADOS LEVE  \\\n",
       "0                           Desconegut        0.0              1.0   \n",
       "1                           Desconegut        0.0              1.0   \n",
       "2                           Desconegut        0.0              1.0   \n",
       "3      Creuar per fora pas de vianants        0.0              2.0   \n",
       "4                           Desconegut        0.0              2.0   \n",
       "...                                ...        ...              ...   \n",
       "85104                       Desconegut        0.0              0.0   \n",
       "85105                       Desconegut        0.0              2.0   \n",
       "85106                       Desconegut        0.0              2.0   \n",
       "85107                       Desconegut        0.0              2.0   \n",
       "85108                       Desconegut        0.0              0.0   \n",
       "\n",
       "       LESIONADOS GRAVE CANTIDAD VICTIMAS CANTIDAD VEHICULOS  \\\n",
       "0                   0.0               1.0                2.0   \n",
       "1                   0.0               1.0                2.0   \n",
       "2                   0.0               1.0                2.0   \n",
       "3                   0.0               2.0                1.0   \n",
       "4                   0.0               2.0                1.0   \n",
       "...                 ...               ...                ...   \n",
       "85104               0.0               0.0                1.0   \n",
       "85105               0.0               2.0                2.0   \n",
       "85106               0.0               2.0                2.0   \n",
       "85107               0.0               2.0                1.0   \n",
       "85108               0.0               0.0                2.0   \n",
       "\n",
       "       COORDENADA UTM X  COORDENADA UTM Y  \n",
       "0             432022,72        4585178,54  \n",
       "1             431860,84        4585352,36  \n",
       "2             431556,72        4585102,28  \n",
       "3             431552,73        4585266,01  \n",
       "4             431180,43        4584898,92  \n",
       "...                 ...               ...  \n",
       "85104        4586412.97          429662.8  \n",
       "85105        4581881.31         430125.99  \n",
       "85106        4581077.37          431410.4  \n",
       "85107        4581954.15         429362.84  \n",
       "85108        4586654.09         431221.22  \n",
       "\n",
       "[85109 rows x 25 columns]"
      ],
      "text/html": "<div>\n<style scoped>\n    .dataframe tbody tr th:only-of-type {\n        vertical-align: middle;\n    }\n\n    .dataframe tbody tr th {\n        vertical-align: top;\n    }\n\n    .dataframe thead th {\n        text-align: right;\n    }\n</style>\n<table border=\"1\" class=\"dataframe\">\n  <thead>\n    <tr style=\"text-align: right;\">\n      <th></th>\n      <th>NUMERO EXPEDIENTE</th>\n      <th>CODIGO DISTRITO</th>\n      <th>DISTRITO</th>\n      <th>CODIGO BARRIO</th>\n      <th>BARRIO</th>\n      <th>CODIGO CALLE</th>\n      <th>CALLE</th>\n      <th>NUMERO POSTAL</th>\n      <th>DIA SEMANA</th>\n      <th>DIA SEMANA (NUMERICO)</th>\n      <th>...</th>\n      <th>HORA</th>\n      <th>TURNO</th>\n      <th>CAUSA</th>\n      <th>FALLECIDOS</th>\n      <th>LESIONADOS LEVE</th>\n      <th>LESIONADOS GRAVE</th>\n      <th>CANTIDAD VICTIMAS</th>\n      <th>CANTIDAD VEHICULOS</th>\n      <th>COORDENADA UTM X</th>\n      <th>COORDENADA UTM Y</th>\n    </tr>\n  </thead>\n  <tbody>\n    <tr>\n      <th>0</th>\n      <td>2012S005688</td>\n      <td>10.0</td>\n      <td>Sant Martí</td>\n      <td>101-10-64</td>\n      <td>el Camp de l'Arpa del Clot</td>\n      <td>209900.0</td>\n      <td>Meridiana</td>\n      <td>0203 0205</td>\n      <td>Dissabte</td>\n      <td>6</td>\n      <td>...</td>\n      <td>16.0</td>\n      <td>Tarda</td>\n      <td>Desconegut</td>\n      <td>0.0</td>\n      <td>1.0</td>\n      <td>0.0</td>\n      <td>1.0</td>\n      <td>2.0</td>\n      <td>432022,72</td>\n      <td>4585178,54</td>\n    </tr>\n    <tr>\n      <th>1</th>\n      <td>2012S005343</td>\n      <td>10.0</td>\n      <td>Sant Martí</td>\n      <td>101-10-64</td>\n      <td>el Camp de l'Arpa del Clot</td>\n      <td>226400.0</td>\n      <td>Las Navas de Tolosa</td>\n      <td>0337 0337</td>\n      <td>Diumenge</td>\n      <td>7</td>\n      <td>...</td>\n      <td>21.0</td>\n      <td>Tarda</td>\n      <td>Desconegut</td>\n      <td>0.0</td>\n      <td>1.0</td>\n      <td>0.0</td>\n      <td>1.0</td>\n      <td>2.0</td>\n      <td>431860,84</td>\n      <td>4585352,36</td>\n    </tr>\n    <tr>\n      <th>2</th>\n      <td>2012S002291</td>\n      <td>10.0</td>\n      <td>Sant Martí</td>\n      <td>101-10-64</td>\n      <td>el Camp de l'Arpa del Clot</td>\n      <td>161407.0</td>\n      <td>Indústria</td>\n      <td>0288 0288</td>\n      <td>Dijous</td>\n      <td>4</td>\n      <td>...</td>\n      <td>15.0</td>\n      <td>Tarda</td>\n      <td>Desconegut</td>\n      <td>0.0</td>\n      <td>1.0</td>\n      <td>0.0</td>\n      <td>1.0</td>\n      <td>2.0</td>\n      <td>431556,72</td>\n      <td>4585102,28</td>\n    </tr>\n    <tr>\n      <th>3</th>\n      <td>2012S005379</td>\n      <td>10.0</td>\n      <td>Sant Martí</td>\n      <td>101-10-64</td>\n      <td>el Camp de l'Arpa del Clot</td>\n      <td>297001.0</td>\n      <td>Sant Antoni Maria Claret</td>\n      <td>0356 0356</td>\n      <td>Dimarts</td>\n      <td>2</td>\n      <td>...</td>\n      <td>10.0</td>\n      <td>Matí</td>\n      <td>Creuar per fora pas de vianants</td>\n      <td>0.0</td>\n      <td>2.0</td>\n      <td>0.0</td>\n      <td>2.0</td>\n      <td>1.0</td>\n      <td>431552,73</td>\n      <td>4585266,01</td>\n    </tr>\n    <tr>\n      <th>4</th>\n      <td>2012S004837</td>\n      <td>10.0</td>\n      <td>Sant Martí</td>\n      <td>101-10-64</td>\n      <td>el Camp de l'Arpa del Clot</td>\n      <td>297001.0</td>\n      <td>Sant Antoni Maria Claret</td>\n      <td>0270 0270</td>\n      <td>Dimarts</td>\n      <td>2</td>\n      <td>...</td>\n      <td>14.0</td>\n      <td>Tarda</td>\n      <td>Desconegut</td>\n      <td>0.0</td>\n      <td>2.0</td>\n      <td>0.0</td>\n      <td>2.0</td>\n      <td>1.0</td>\n      <td>431180,43</td>\n      <td>4584898,92</td>\n    </tr>\n    <tr>\n      <th>...</th>\n      <td>...</td>\n      <td>...</td>\n      <td>...</td>\n      <td>...</td>\n      <td>...</td>\n      <td>...</td>\n      <td>...</td>\n      <td>...</td>\n      <td>...</td>\n      <td>...</td>\n      <td>...</td>\n      <td>...</td>\n      <td>...</td>\n      <td>...</td>\n      <td>...</td>\n      <td>...</td>\n      <td>...</td>\n      <td>...</td>\n      <td>...</td>\n      <td>...</td>\n      <td>...</td>\n    </tr>\n    <tr>\n      <th>85104</th>\n      <td>2020S006274</td>\n      <td>7.0</td>\n      <td>Horta-Guinardó</td>\n      <td>73-7-37</td>\n      <td>el Carmel</td>\n      <td>182600.0</td>\n      <td>Lluís Marià Vidal</td>\n      <td>0025 0025</td>\n      <td>Dijous</td>\n      <td>4</td>\n      <td>...</td>\n      <td>17.0</td>\n      <td>Tarda</td>\n      <td>Desconegut</td>\n      <td>0.0</td>\n      <td>0.0</td>\n      <td>0.0</td>\n      <td>0.0</td>\n      <td>1.0</td>\n      <td>4586412.97</td>\n      <td>429662.8</td>\n    </tr>\n    <tr>\n      <th>85105</th>\n      <td>2020S006275</td>\n      <td>2.0</td>\n      <td>Eixample</td>\n      <td>21-2-10</td>\n      <td>Sant Antoni</td>\n      <td>323203.0</td>\n      <td>Sepúlveda</td>\n      <td>0186 0186</td>\n      <td>Dijous</td>\n      <td>4</td>\n      <td>...</td>\n      <td>20.0</td>\n      <td>Tarda</td>\n      <td>Desconegut</td>\n      <td>0.0</td>\n      <td>2.0</td>\n      <td>0.0</td>\n      <td>2.0</td>\n      <td>2.0</td>\n      <td>4581881.31</td>\n      <td>430125.99</td>\n    </tr>\n    <tr>\n      <th>85106</th>\n      <td>2020S006276</td>\n      <td>1.0</td>\n      <td>Ciutat Vella</td>\n      <td>12-1-2</td>\n      <td>el Barri Gòtic</td>\n      <td>701266.0</td>\n      <td>Litoral (Llobregat)</td>\n      <td>1070000</td>\n      <td>Dijous</td>\n      <td>4</td>\n      <td>...</td>\n      <td>13.0</td>\n      <td>Matí</td>\n      <td>Desconegut</td>\n      <td>0.0</td>\n      <td>2.0</td>\n      <td>0.0</td>\n      <td>2.0</td>\n      <td>2.0</td>\n      <td>4581077.37</td>\n      <td>431410.4</td>\n    </tr>\n    <tr>\n      <th>85107</th>\n      <td>2020S006277</td>\n      <td>2.0</td>\n      <td>Eixample</td>\n      <td>22-2-9</td>\n      <td>la Nova Esquerra de l'Eixample</td>\n      <td>18505.0</td>\n      <td>Aragó</td>\n      <td>0127 0127</td>\n      <td>Dijous</td>\n      <td>4</td>\n      <td>...</td>\n      <td>21.0</td>\n      <td>Tarda</td>\n      <td>Desconegut</td>\n      <td>0.0</td>\n      <td>2.0</td>\n      <td>0.0</td>\n      <td>2.0</td>\n      <td>1.0</td>\n      <td>4581954.15</td>\n      <td>429362.84</td>\n    </tr>\n    <tr>\n      <th>85108</th>\n      <td>2020S006278</td>\n      <td>8.0</td>\n      <td>Nou Barris</td>\n      <td>84-8-44</td>\n      <td>Vilapicina i la Torre Llobeta</td>\n      <td>45701.0</td>\n      <td>Quinze</td>\n      <td>0007 0007</td>\n      <td>Dimarts</td>\n      <td>2</td>\n      <td>...</td>\n      <td>11.0</td>\n      <td>Matí</td>\n      <td>Desconegut</td>\n      <td>0.0</td>\n      <td>0.0</td>\n      <td>0.0</td>\n      <td>0.0</td>\n      <td>2.0</td>\n      <td>4586654.09</td>\n      <td>431221.22</td>\n    </tr>\n  </tbody>\n</table>\n<p>85109 rows × 25 columns</p>\n</div>"
     },
     "metadata": {},
     "execution_count": 25
    }
   ],
   "source": [
    "df_gu"
   ]
  },
  {
   "cell_type": "code",
   "execution_count": null,
   "metadata": {},
   "outputs": [],
   "source": []
  },
  {
   "cell_type": "code",
   "execution_count": 22,
   "metadata": {},
   "outputs": [
    {
     "output_type": "execute_result",
     "data": {
      "text/plain": [
       "       NUMERO EXPEDIENTE TIPO VEHICULO MODELO VEHICULO MARCA VEHICULO  \\\n",
       "126485       2017S008856          Taxi           Altea           SEAT   \n",
       "126486       2017S008856          Taxi           Altea           SEAT   \n",
       "\n",
       "       COLOR VEHICULO TIPO CARNET ANTIGUEDAD CARNET  \\\n",
       "126485     Negre/Groc           B                 9   \n",
       "126486     Negre/Groc           B                 9   \n",
       "\n",
       "                          CAUSA PEATON  \n",
       "126485                          Altres  \n",
       "126486  Desobeir el senyal del semàfor  "
      ],
      "text/html": "<div>\n<style scoped>\n    .dataframe tbody tr th:only-of-type {\n        vertical-align: middle;\n    }\n\n    .dataframe tbody tr th {\n        vertical-align: top;\n    }\n\n    .dataframe thead th {\n        text-align: right;\n    }\n</style>\n<table border=\"1\" class=\"dataframe\">\n  <thead>\n    <tr style=\"text-align: right;\">\n      <th></th>\n      <th>NUMERO EXPEDIENTE</th>\n      <th>TIPO VEHICULO</th>\n      <th>MODELO VEHICULO</th>\n      <th>MARCA VEHICULO</th>\n      <th>COLOR VEHICULO</th>\n      <th>TIPO CARNET</th>\n      <th>ANTIGUEDAD CARNET</th>\n      <th>CAUSA PEATON</th>\n    </tr>\n  </thead>\n  <tbody>\n    <tr>\n      <th>126485</th>\n      <td>2017S008856</td>\n      <td>Taxi</td>\n      <td>Altea</td>\n      <td>SEAT</td>\n      <td>Negre/Groc</td>\n      <td>B</td>\n      <td>9</td>\n      <td>Altres</td>\n    </tr>\n    <tr>\n      <th>126486</th>\n      <td>2017S008856</td>\n      <td>Taxi</td>\n      <td>Altea</td>\n      <td>SEAT</td>\n      <td>Negre/Groc</td>\n      <td>B</td>\n      <td>9</td>\n      <td>Desobeir el senyal del semàfor</td>\n    </tr>\n  </tbody>\n</table>\n</div>"
     },
     "metadata": {},
     "execution_count": 22
    }
   ],
   "source": [
    "df_vehiculos[df_vehiculos['NUMERO EXPEDIENTE'] == '2017S008856']"
   ]
  },
  {
   "cell_type": "code",
   "execution_count": 23,
   "metadata": {},
   "outputs": [
    {
     "output_type": "execute_result",
     "data": {
      "text/plain": [
       "      NUMERO EXPEDIENTE       DESCRIPCION CAUSA\n",
       "59969       2017S008856  No hi ha causa mediata"
      ],
      "text/html": "<div>\n<style scoped>\n    .dataframe tbody tr th:only-of-type {\n        vertical-align: middle;\n    }\n\n    .dataframe tbody tr th {\n        vertical-align: top;\n    }\n\n    .dataframe thead th {\n        text-align: right;\n    }\n</style>\n<table border=\"1\" class=\"dataframe\">\n  <thead>\n    <tr style=\"text-align: right;\">\n      <th></th>\n      <th>NUMERO EXPEDIENTE</th>\n      <th>DESCRIPCION CAUSA</th>\n    </tr>\n  </thead>\n  <tbody>\n    <tr>\n      <th>59969</th>\n      <td>2017S008856</td>\n      <td>No hi ha causa mediata</td>\n    </tr>\n  </tbody>\n</table>\n</div>"
     },
     "metadata": {},
     "execution_count": 23
    }
   ],
   "source": [
    "df_causas[df_causas['NUMERO EXPEDIENTE'] == '2017S008856']"
   ]
  },
  {
   "cell_type": "code",
   "execution_count": 24,
   "metadata": {},
   "outputs": [
    {
     "output_type": "execute_result",
     "data": {
      "text/plain": [
       "      NUMERO EXPEDIENTE  CODIGO DISTRITO    DISTRITO CODIGO BARRIO  \\\n",
       "48623       2017S008856             10.0  Sant Martí           NaN   \n",
       "55031       2017S008856             10.0  Sant Martí           NaN   \n",
       "\n",
       "                        BARRIO  CODIGO CALLE                   CALLE  \\\n",
       "48623  Provençals del Poblenou       30409.0  Diagonal / Bac de Roda   \n",
       "55031  Provençals del Poblenou       30409.0  Diagonal / Bac de Roda   \n",
       "\n",
       "      NUMERO POSTAL DIA SEMANA DIA SEMANA (NUMERICO)  ... HORA  TURNO  \\\n",
       "48623     0100 0108     Dijous                    Dj  ...  8.0   Matí   \n",
       "55031     0100 0108     Dijous                    Dj  ...  8.0   Matí   \n",
       "\n",
       "                                CAUSA FALLECIDOS  LESIONADOS LEVE  \\\n",
       "48623  Desobeir el senyal del semàfor        0.0              1.0   \n",
       "55031                          Altres        0.0              1.0   \n",
       "\n",
       "       LESIONADOS GRAVE CANTIDAD VICTIMAS CANTIDAD VEHICULOS  \\\n",
       "48623               0.0               1.0                1.0   \n",
       "55031               0.0               1.0                1.0   \n",
       "\n",
       "       COORDENADA UTM X  COORDENADA UTM Y  \n",
       "48623         433536,88        4584557,54  \n",
       "55031         433536,88        4584557,54  \n",
       "\n",
       "[2 rows x 25 columns]"
      ],
      "text/html": "<div>\n<style scoped>\n    .dataframe tbody tr th:only-of-type {\n        vertical-align: middle;\n    }\n\n    .dataframe tbody tr th {\n        vertical-align: top;\n    }\n\n    .dataframe thead th {\n        text-align: right;\n    }\n</style>\n<table border=\"1\" class=\"dataframe\">\n  <thead>\n    <tr style=\"text-align: right;\">\n      <th></th>\n      <th>NUMERO EXPEDIENTE</th>\n      <th>CODIGO DISTRITO</th>\n      <th>DISTRITO</th>\n      <th>CODIGO BARRIO</th>\n      <th>BARRIO</th>\n      <th>CODIGO CALLE</th>\n      <th>CALLE</th>\n      <th>NUMERO POSTAL</th>\n      <th>DIA SEMANA</th>\n      <th>DIA SEMANA (NUMERICO)</th>\n      <th>...</th>\n      <th>HORA</th>\n      <th>TURNO</th>\n      <th>CAUSA</th>\n      <th>FALLECIDOS</th>\n      <th>LESIONADOS LEVE</th>\n      <th>LESIONADOS GRAVE</th>\n      <th>CANTIDAD VICTIMAS</th>\n      <th>CANTIDAD VEHICULOS</th>\n      <th>COORDENADA UTM X</th>\n      <th>COORDENADA UTM Y</th>\n    </tr>\n  </thead>\n  <tbody>\n    <tr>\n      <th>48623</th>\n      <td>2017S008856</td>\n      <td>10.0</td>\n      <td>Sant Martí</td>\n      <td>NaN</td>\n      <td>Provençals del Poblenou</td>\n      <td>30409.0</td>\n      <td>Diagonal / Bac de Roda</td>\n      <td>0100 0108</td>\n      <td>Dijous</td>\n      <td>Dj</td>\n      <td>...</td>\n      <td>8.0</td>\n      <td>Matí</td>\n      <td>Desobeir el senyal del semàfor</td>\n      <td>0.0</td>\n      <td>1.0</td>\n      <td>0.0</td>\n      <td>1.0</td>\n      <td>1.0</td>\n      <td>433536,88</td>\n      <td>4584557,54</td>\n    </tr>\n    <tr>\n      <th>55031</th>\n      <td>2017S008856</td>\n      <td>10.0</td>\n      <td>Sant Martí</td>\n      <td>NaN</td>\n      <td>Provençals del Poblenou</td>\n      <td>30409.0</td>\n      <td>Diagonal / Bac de Roda</td>\n      <td>0100 0108</td>\n      <td>Dijous</td>\n      <td>Dj</td>\n      <td>...</td>\n      <td>8.0</td>\n      <td>Matí</td>\n      <td>Altres</td>\n      <td>0.0</td>\n      <td>1.0</td>\n      <td>0.0</td>\n      <td>1.0</td>\n      <td>1.0</td>\n      <td>433536,88</td>\n      <td>4584557,54</td>\n    </tr>\n  </tbody>\n</table>\n<p>2 rows × 25 columns</p>\n</div>"
     },
     "metadata": {},
     "execution_count": 24
    }
   ],
   "source": [
    "df_gu[df_gu['NUMERO EXPEDIENTE'] == '2017S008856']"
   ]
  },
  {
   "cell_type": "code",
   "execution_count": null,
   "metadata": {},
   "outputs": [],
   "source": [
    "df_causas[df_causas['DESCRIPCION CAUSA'] != 'No hi ha causa mediata']"
   ]
  },
  {
   "cell_type": "code",
   "execution_count": 17,
   "metadata": {},
   "outputs": [
    {
     "output_type": "stream",
     "name": "stdout",
     "text": [
      "GU: (85109, 25)\nCAUSAS: (94033, 2)\nPERSONAS: (117631, 4)\nVEHICULOS: (179906, 8)\nTIPOS: (99188, 2)\n"
     ]
    }
   ],
   "source": [
    "print('GU:' , df_gu.shape)\n",
    "print('CAUSAS:' , df_causas.shape)\n",
    "print('PERSONAS:' , df_personas.shape)\n",
    "print('VEHICULOS:' , df_vehiculos.shape)\n",
    "print('TIPOS:' , df_tipos.shape)"
   ]
  },
  {
   "cell_type": "code",
   "execution_count": 18,
   "metadata": {},
   "outputs": [
    {
     "output_type": "stream",
     "name": "stdout",
     "text": [
      "Cantidad de filas duplicadas de df_gu: 0\n",
      "Cantidad de filas duplicadas de df_causas: 0\n",
      "Cantidad de filas duplicadas de df_personas: 294\n",
      "Cantidad de filas duplicadas de df_vehiculos: 12\n",
      "Cantidad de filas duplicadas de df_tipos: 0\n"
     ]
    }
   ],
   "source": [
    "print('Cantidad de filas duplicadas de df_gu:' , df_gu.duplicated().sum())\n",
    "print('Cantidad de filas duplicadas de df_causas:' , df_causas.duplicated().sum())\n",
    "print('Cantidad de filas duplicadas de df_personas:' , df_personas.duplicated().sum())\n",
    "print('Cantidad de filas duplicadas de df_vehiculos:' , df_vehiculos.duplicated().sum())\n",
    "print('Cantidad de filas duplicadas de df_tipos:' , df_tipos.duplicated().sum())"
   ]
  },
  {
   "cell_type": "code",
   "execution_count": 15,
   "metadata": {},
   "outputs": [
    {
     "output_type": "stream",
     "name": "stdout",
     "text": [
      "Cantidad de números de expediente duplicados en df_gu: 21\n",
      "Cantidad de números de expediente duplicados en df_causas: 133\n",
      "Cantidad de números de expediente duplicados en df_personas: 31294\n",
      "Cantidad de números de expediente duplicados en df_vehiculos: 86062\n",
      "Cantidad de números de expediente duplicados en df_tipos: 5283\n"
     ]
    }
   ],
   "source": [
    "print('Cantidad de números de expediente duplicados en df_gu:' , df_gu['NUMERO EXPEDIENTE'].duplicated().sum())\n",
    "print('Cantidad de números de expediente duplicados en df_causas:' , df_causas['NUMERO EXPEDIENTE'].duplicated().sum())\n",
    "print('Cantidad de números de expediente duplicados en df_personas:' , df_personas['NUMERO EXPEDIENTE'].duplicated().sum())\n",
    "print('Cantidad de números de expediente duplicados en df_vehiculos:' , df_vehiculos['NUMERO EXPEDIENTE'].duplicated().sum())\n",
    "print('Cantidad de números de expediente duplicados en df_tipos:' , df_tipos['NUMERO EXPEDIENTE'].duplicated().sum())"
   ]
  },
  {
   "cell_type": "code",
   "execution_count": 39,
   "metadata": {},
   "outputs": [
    {
     "output_type": "execute_result",
     "data": {
      "text/plain": [
       "     NUMERO EXPEDIENTE                DESCRIPCION CAUSA\n",
       "44         2011S003275                      Alcoholèmia\n",
       "727        2011S000993                      Alcoholèmia\n",
       "805        2011S005406  Excés de velocitat o inadequada\n",
       "1588       2011S008258                      Alcoholèmia\n",
       "1635       2011S000050                      Alcoholèmia\n",
       "1813       2011S003653                      Alcoholèmia\n",
       "2289       2011S000610                      Alcoholèmia\n",
       "2691       2011S004199  Excés de velocitat o inadequada\n",
       "2869       2011S003653  Excés de velocitat o inadequada\n",
       "2872       2011S001706  Excés de velocitat o inadequada\n",
       "3198       2011S005352  Excés de velocitat o inadequada\n",
       "3388       2011S000610  Excés de velocitat o inadequada\n",
       "3400       2011S000406                      Alcoholèmia\n",
       "3830       2011S000050            Drogues o medicaments\n",
       "3939       2011S003935  Excés de velocitat o inadequada\n",
       "4017       2011S007779                      Alcoholèmia\n",
       "4118       2011S001747        Estat de la senyalització\n",
       "4341       2011S003275  Excés de velocitat o inadequada\n",
       "4378       2011S002940                      Alcoholèmia\n",
       "4379       2011S002940  Excés de velocitat o inadequada\n",
       "5085       2011S005328  Excés de velocitat o inadequada\n",
       "5091       2011S000993  Excés de velocitat o inadequada\n",
       "5095       2011S001706                      Alcoholèmia\n",
       "5237       2011S001747             Calçada en mal estat\n",
       "5338       2011S000777  Excés de velocitat o inadequada\n",
       "5449       2011S005352             Calçada en mal estat\n",
       "5563       2011S004428                      Alcoholèmia\n",
       "5652       2011S002920                      Alcoholèmia\n",
       "6021       2011S008258  Excés de velocitat o inadequada\n",
       "6024       2011S005861                      Alcoholèmia\n",
       "6352       2011S005406                      Alcoholèmia\n",
       "6701       2011S004428  Excés de velocitat o inadequada\n",
       "6784       2011S002920  Excés de velocitat o inadequada\n",
       "7061       2011S008178                      Alcoholèmia\n",
       "7062       2011S008178  Excés de velocitat o inadequada\n",
       "7201       2011S004199                      Alcoholèmia\n",
       "7417       2011S002774                      Alcoholèmia\n",
       "7418       2011S002774  Excés de velocitat o inadequada\n",
       "7613       2011S000777                      Alcoholèmia\n",
       "7941       2011S000406  Excés de velocitat o inadequada\n",
       "8276       2011S005861  Excés de velocitat o inadequada\n",
       "8428       2011S003935                      Alcoholèmia\n",
       "8521       2011S005328                      Alcoholèmia\n",
       "8534       2011S007779  Excés de velocitat o inadequada\n",
       "8968       2012S007205                      Alcoholèmia\n",
       "9052       2012S005922  Excés de velocitat o inadequada\n",
       "9388       2012S001575  Excés de velocitat o inadequada\n",
       "9389       2012S001575            Drogues o medicaments\n",
       "9460       2012S005505  Excés de velocitat o inadequada\n",
       "9618       2012S002378  Excés de velocitat o inadequada"
      ],
      "text/html": "<div>\n<style scoped>\n    .dataframe tbody tr th:only-of-type {\n        vertical-align: middle;\n    }\n\n    .dataframe tbody tr th {\n        vertical-align: top;\n    }\n\n    .dataframe thead th {\n        text-align: right;\n    }\n</style>\n<table border=\"1\" class=\"dataframe\">\n  <thead>\n    <tr style=\"text-align: right;\">\n      <th></th>\n      <th>NUMERO EXPEDIENTE</th>\n      <th>DESCRIPCION CAUSA</th>\n    </tr>\n  </thead>\n  <tbody>\n    <tr>\n      <th>44</th>\n      <td>2011S003275</td>\n      <td>Alcoholèmia</td>\n    </tr>\n    <tr>\n      <th>727</th>\n      <td>2011S000993</td>\n      <td>Alcoholèmia</td>\n    </tr>\n    <tr>\n      <th>805</th>\n      <td>2011S005406</td>\n      <td>Excés de velocitat o inadequada</td>\n    </tr>\n    <tr>\n      <th>1588</th>\n      <td>2011S008258</td>\n      <td>Alcoholèmia</td>\n    </tr>\n    <tr>\n      <th>1635</th>\n      <td>2011S000050</td>\n      <td>Alcoholèmia</td>\n    </tr>\n    <tr>\n      <th>1813</th>\n      <td>2011S003653</td>\n      <td>Alcoholèmia</td>\n    </tr>\n    <tr>\n      <th>2289</th>\n      <td>2011S000610</td>\n      <td>Alcoholèmia</td>\n    </tr>\n    <tr>\n      <th>2691</th>\n      <td>2011S004199</td>\n      <td>Excés de velocitat o inadequada</td>\n    </tr>\n    <tr>\n      <th>2869</th>\n      <td>2011S003653</td>\n      <td>Excés de velocitat o inadequada</td>\n    </tr>\n    <tr>\n      <th>2872</th>\n      <td>2011S001706</td>\n      <td>Excés de velocitat o inadequada</td>\n    </tr>\n    <tr>\n      <th>3198</th>\n      <td>2011S005352</td>\n      <td>Excés de velocitat o inadequada</td>\n    </tr>\n    <tr>\n      <th>3388</th>\n      <td>2011S000610</td>\n      <td>Excés de velocitat o inadequada</td>\n    </tr>\n    <tr>\n      <th>3400</th>\n      <td>2011S000406</td>\n      <td>Alcoholèmia</td>\n    </tr>\n    <tr>\n      <th>3830</th>\n      <td>2011S000050</td>\n      <td>Drogues o medicaments</td>\n    </tr>\n    <tr>\n      <th>3939</th>\n      <td>2011S003935</td>\n      <td>Excés de velocitat o inadequada</td>\n    </tr>\n    <tr>\n      <th>4017</th>\n      <td>2011S007779</td>\n      <td>Alcoholèmia</td>\n    </tr>\n    <tr>\n      <th>4118</th>\n      <td>2011S001747</td>\n      <td>Estat de la senyalització</td>\n    </tr>\n    <tr>\n      <th>4341</th>\n      <td>2011S003275</td>\n      <td>Excés de velocitat o inadequada</td>\n    </tr>\n    <tr>\n      <th>4378</th>\n      <td>2011S002940</td>\n      <td>Alcoholèmia</td>\n    </tr>\n    <tr>\n      <th>4379</th>\n      <td>2011S002940</td>\n      <td>Excés de velocitat o inadequada</td>\n    </tr>\n    <tr>\n      <th>5085</th>\n      <td>2011S005328</td>\n      <td>Excés de velocitat o inadequada</td>\n    </tr>\n    <tr>\n      <th>5091</th>\n      <td>2011S000993</td>\n      <td>Excés de velocitat o inadequada</td>\n    </tr>\n    <tr>\n      <th>5095</th>\n      <td>2011S001706</td>\n      <td>Alcoholèmia</td>\n    </tr>\n    <tr>\n      <th>5237</th>\n      <td>2011S001747</td>\n      <td>Calçada en mal estat</td>\n    </tr>\n    <tr>\n      <th>5338</th>\n      <td>2011S000777</td>\n      <td>Excés de velocitat o inadequada</td>\n    </tr>\n    <tr>\n      <th>5449</th>\n      <td>2011S005352</td>\n      <td>Calçada en mal estat</td>\n    </tr>\n    <tr>\n      <th>5563</th>\n      <td>2011S004428</td>\n      <td>Alcoholèmia</td>\n    </tr>\n    <tr>\n      <th>5652</th>\n      <td>2011S002920</td>\n      <td>Alcoholèmia</td>\n    </tr>\n    <tr>\n      <th>6021</th>\n      <td>2011S008258</td>\n      <td>Excés de velocitat o inadequada</td>\n    </tr>\n    <tr>\n      <th>6024</th>\n      <td>2011S005861</td>\n      <td>Alcoholèmia</td>\n    </tr>\n    <tr>\n      <th>6352</th>\n      <td>2011S005406</td>\n      <td>Alcoholèmia</td>\n    </tr>\n    <tr>\n      <th>6701</th>\n      <td>2011S004428</td>\n      <td>Excés de velocitat o inadequada</td>\n    </tr>\n    <tr>\n      <th>6784</th>\n      <td>2011S002920</td>\n      <td>Excés de velocitat o inadequada</td>\n    </tr>\n    <tr>\n      <th>7061</th>\n      <td>2011S008178</td>\n      <td>Alcoholèmia</td>\n    </tr>\n    <tr>\n      <th>7062</th>\n      <td>2011S008178</td>\n      <td>Excés de velocitat o inadequada</td>\n    </tr>\n    <tr>\n      <th>7201</th>\n      <td>2011S004199</td>\n      <td>Alcoholèmia</td>\n    </tr>\n    <tr>\n      <th>7417</th>\n      <td>2011S002774</td>\n      <td>Alcoholèmia</td>\n    </tr>\n    <tr>\n      <th>7418</th>\n      <td>2011S002774</td>\n      <td>Excés de velocitat o inadequada</td>\n    </tr>\n    <tr>\n      <th>7613</th>\n      <td>2011S000777</td>\n      <td>Alcoholèmia</td>\n    </tr>\n    <tr>\n      <th>7941</th>\n      <td>2011S000406</td>\n      <td>Excés de velocitat o inadequada</td>\n    </tr>\n    <tr>\n      <th>8276</th>\n      <td>2011S005861</td>\n      <td>Excés de velocitat o inadequada</td>\n    </tr>\n    <tr>\n      <th>8428</th>\n      <td>2011S003935</td>\n      <td>Alcoholèmia</td>\n    </tr>\n    <tr>\n      <th>8521</th>\n      <td>2011S005328</td>\n      <td>Alcoholèmia</td>\n    </tr>\n    <tr>\n      <th>8534</th>\n      <td>2011S007779</td>\n      <td>Excés de velocitat o inadequada</td>\n    </tr>\n    <tr>\n      <th>8968</th>\n      <td>2012S007205</td>\n      <td>Alcoholèmia</td>\n    </tr>\n    <tr>\n      <th>9052</th>\n      <td>2012S005922</td>\n      <td>Excés de velocitat o inadequada</td>\n    </tr>\n    <tr>\n      <th>9388</th>\n      <td>2012S001575</td>\n      <td>Excés de velocitat o inadequada</td>\n    </tr>\n    <tr>\n      <th>9389</th>\n      <td>2012S001575</td>\n      <td>Drogues o medicaments</td>\n    </tr>\n    <tr>\n      <th>9460</th>\n      <td>2012S005505</td>\n      <td>Excés de velocitat o inadequada</td>\n    </tr>\n    <tr>\n      <th>9618</th>\n      <td>2012S002378</td>\n      <td>Excés de velocitat o inadequada</td>\n    </tr>\n  </tbody>\n</table>\n</div>"
     },
     "metadata": {},
     "execution_count": 39
    }
   ],
   "source": [
    "df_causas.loc[df_causas['NUMERO EXPEDIENTE'].duplicated(keep = False), :].head(50)"
   ]
  },
  {
   "cell_type": "code",
   "execution_count": 20,
   "metadata": {},
   "outputs": [
    {
     "output_type": "error",
     "ename": "ValueError",
     "evalue": "Cannot index with multidimensional key",
     "traceback": [
      "\u001b[1;31m---------------------------------------------------------------------------\u001b[0m",
      "\u001b[1;31mValueError\u001b[0m                                Traceback (most recent call last)",
      "\u001b[1;32m<ipython-input-20-09c96fa235ff>\u001b[0m in \u001b[0;36m<module>\u001b[1;34m\u001b[0m\n\u001b[1;32m----> 1\u001b[1;33m \u001b[0mdf_vehiculos\u001b[0m\u001b[1;33m.\u001b[0m\u001b[0mloc\u001b[0m\u001b[1;33m[\u001b[0m\u001b[0mdf_vehiculos\u001b[0m\u001b[1;33m]\u001b[0m\u001b[1;33m.\u001b[0m\u001b[0mduplicated\u001b[0m\u001b[1;33m(\u001b[0m\u001b[1;33m)\u001b[0m\u001b[1;33m\u001b[0m\u001b[1;33m\u001b[0m\u001b[0m\n\u001b[0m",
      "\u001b[1;32m~\\AppData\\Local\\Programs\\Python\\Python37\\lib\\site-packages\\pandas\\core\\indexing.py\u001b[0m in \u001b[0;36m__getitem__\u001b[1;34m(self, key)\u001b[0m\n\u001b[0;32m    893\u001b[0m \u001b[1;33m\u001b[0m\u001b[0m\n\u001b[0;32m    894\u001b[0m             \u001b[0mmaybe_callable\u001b[0m \u001b[1;33m=\u001b[0m \u001b[0mcom\u001b[0m\u001b[1;33m.\u001b[0m\u001b[0mapply_if_callable\u001b[0m\u001b[1;33m(\u001b[0m\u001b[0mkey\u001b[0m\u001b[1;33m,\u001b[0m \u001b[0mself\u001b[0m\u001b[1;33m.\u001b[0m\u001b[0mobj\u001b[0m\u001b[1;33m)\u001b[0m\u001b[1;33m\u001b[0m\u001b[1;33m\u001b[0m\u001b[0m\n\u001b[1;32m--> 895\u001b[1;33m             \u001b[1;32mreturn\u001b[0m \u001b[0mself\u001b[0m\u001b[1;33m.\u001b[0m\u001b[0m_getitem_axis\u001b[0m\u001b[1;33m(\u001b[0m\u001b[0mmaybe_callable\u001b[0m\u001b[1;33m,\u001b[0m \u001b[0maxis\u001b[0m\u001b[1;33m=\u001b[0m\u001b[0maxis\u001b[0m\u001b[1;33m)\u001b[0m\u001b[1;33m\u001b[0m\u001b[1;33m\u001b[0m\u001b[0m\n\u001b[0m\u001b[0;32m    896\u001b[0m \u001b[1;33m\u001b[0m\u001b[0m\n\u001b[0;32m    897\u001b[0m     \u001b[1;32mdef\u001b[0m \u001b[0m_is_scalar_access\u001b[0m\u001b[1;33m(\u001b[0m\u001b[0mself\u001b[0m\u001b[1;33m,\u001b[0m \u001b[0mkey\u001b[0m\u001b[1;33m:\u001b[0m \u001b[0mTuple\u001b[0m\u001b[1;33m)\u001b[0m\u001b[1;33m:\u001b[0m\u001b[1;33m\u001b[0m\u001b[1;33m\u001b[0m\u001b[0m\n",
      "\u001b[1;32m~\\AppData\\Local\\Programs\\Python\\Python37\\lib\\site-packages\\pandas\\core\\indexing.py\u001b[0m in \u001b[0;36m_getitem_axis\u001b[1;34m(self, key, axis)\u001b[0m\n\u001b[0;32m   1109\u001b[0m \u001b[1;33m\u001b[0m\u001b[0m\n\u001b[0;32m   1110\u001b[0m                 \u001b[1;32mif\u001b[0m \u001b[0mhasattr\u001b[0m\u001b[1;33m(\u001b[0m\u001b[0mkey\u001b[0m\u001b[1;33m,\u001b[0m \u001b[1;34m\"ndim\"\u001b[0m\u001b[1;33m)\u001b[0m \u001b[1;32mand\u001b[0m \u001b[0mkey\u001b[0m\u001b[1;33m.\u001b[0m\u001b[0mndim\u001b[0m \u001b[1;33m>\u001b[0m \u001b[1;36m1\u001b[0m\u001b[1;33m:\u001b[0m\u001b[1;33m\u001b[0m\u001b[1;33m\u001b[0m\u001b[0m\n\u001b[1;32m-> 1111\u001b[1;33m                     \u001b[1;32mraise\u001b[0m \u001b[0mValueError\u001b[0m\u001b[1;33m(\u001b[0m\u001b[1;34m\"Cannot index with multidimensional key\"\u001b[0m\u001b[1;33m)\u001b[0m\u001b[1;33m\u001b[0m\u001b[1;33m\u001b[0m\u001b[0m\n\u001b[0m\u001b[0;32m   1112\u001b[0m \u001b[1;33m\u001b[0m\u001b[0m\n\u001b[0;32m   1113\u001b[0m                 \u001b[1;32mreturn\u001b[0m \u001b[0mself\u001b[0m\u001b[1;33m.\u001b[0m\u001b[0m_getitem_iterable\u001b[0m\u001b[1;33m(\u001b[0m\u001b[0mkey\u001b[0m\u001b[1;33m,\u001b[0m \u001b[0maxis\u001b[0m\u001b[1;33m=\u001b[0m\u001b[0maxis\u001b[0m\u001b[1;33m)\u001b[0m\u001b[1;33m\u001b[0m\u001b[1;33m\u001b[0m\u001b[0m\n",
      "\u001b[1;31mValueError\u001b[0m: Cannot index with multidimensional key"
     ]
    }
   ],
   "source": [
    "df_vehiculos.loc[df_vehiculos].duplicated()"
   ]
  },
  {
   "cell_type": "code",
   "execution_count": null,
   "metadata": {},
   "outputs": [],
   "source": [
    "df_personas.duplicated().sum()"
   ]
  },
  {
   "cell_type": "code",
   "execution_count": 41,
   "metadata": {},
   "outputs": [
    {
     "output_type": "execute_result",
     "data": {
      "text/plain": [
       "      NUMERO EXPEDIENTE  CODIGO DISTRITO             DISTRITO CODIGO BARRIO  \\\n",
       "48623       2017S008856             10.0           Sant Martí           NaN   \n",
       "51618       2017S003750              2.0             Eixample           NaN   \n",
       "53761       2017S004447             10.0           Sant Martí           NaN   \n",
       "54338       2017S003286              3.0       Sants-Montjuïc           NaN   \n",
       "54339       2017S003286              3.0       Sants-Montjuïc           NaN   \n",
       "55031       2017S008856             10.0           Sant Martí           NaN   \n",
       "55518       2017S003750              2.0             Eixample           NaN   \n",
       "57750       2017S004447             10.0           Sant Martí           NaN   \n",
       "59192       2018S003156              3.0       Sants-Montjuïc           NaN   \n",
       "59194       2018S003156              3.0       Sants-Montjuïc           NaN   \n",
       "59322       2018S002285              3.0       Sants-Montjuïc           NaN   \n",
       "59323       2018S002285              3.0       Sants-Montjuïc           NaN   \n",
       "60086       2018S002968              3.0       Sants-Montjuïc           NaN   \n",
       "60087       2018S002968              3.0       Sants-Montjuïc           NaN   \n",
       "60129       2018S009504              2.0             Eixample           NaN   \n",
       "60130       2018S009504              2.0             Eixample           NaN   \n",
       "61407       2018S005992              1.0         Ciutat Vella           NaN   \n",
       "61409       2018S005992              1.0         Ciutat Vella           NaN   \n",
       "61662       2018S001774              4.0            Les Corts           NaN   \n",
       "61663       2018S001774              4.0            Les Corts           NaN   \n",
       "63189       2018S000261              5.0  Sarrià-Sant Gervasi           NaN   \n",
       "63190       2018S000261              5.0  Sarrià-Sant Gervasi           NaN   \n",
       "64548       2018S002344              5.0  Sarrià-Sant Gervasi           NaN   \n",
       "64549       2018S002344              5.0  Sarrià-Sant Gervasi           NaN   \n",
       "65801       2018S001500              6.0               Gràcia            31   \n",
       "65802       2018S001500              6.0               Gràcia            31   \n",
       "65917       2018S000183              6.0               Gràcia            32   \n",
       "65918       2018S000183              6.0               Gràcia            32   \n",
       "79473       2020S000638              5.0  Sarrià-Sant Gervasi       51-5-26   \n",
       "79474       2020S000638              5.0  Sarrià-Sant Gervasi       51-5-26   \n",
       "79614       2020S000778              9.0          Sant Andreu       91-9-63   \n",
       "79615       2020S000778              9.0          Sant Andreu       91-9-63   \n",
       "79791       2020S000956              2.0             Eixample        23-2-8   \n",
       "79792       2020S000956              2.0             Eixample        23-2-8   \n",
       "82496       2020S003665              2.0             Eixample        25-2-6   \n",
       "82497       2020S003665              2.0             Eixample        25-2-6   \n",
       "83310       2020S004479              5.0  Sarrià-Sant Gervasi       53-5-25   \n",
       "83311       2020S004479              5.0  Sarrià-Sant Gervasi       53-5-25   \n",
       "83421       2020S004590              8.0           Nou Barris       82-8-49   \n",
       "83422       2020S004590              8.0           Nou Barris       82-8-49   \n",
       "84125       2020S005294              4.0            Les Corts       42-4-20   \n",
       "84126       2020S005294              4.0            Les Corts       42-4-20   \n",
       "\n",
       "                                             BARRIO  CODIGO CALLE  \\\n",
       "48623                       Provençals del Poblenou       30409.0   \n",
       "51618                        la Dreta de l'Eixample      357001.0   \n",
       "53761  Diagonal Mar i el Front Marítim del Poblenou      701278.0   \n",
       "54338                             la Marina de Port      109906.0   \n",
       "54339                             la Marina de Port      109906.0   \n",
       "55031                       Provençals del Poblenou       30409.0   \n",
       "55518                        la Dreta de l'Eixample      357001.0   \n",
       "57750  Diagonal Mar i el Front Marítim del Poblenou      701278.0   \n",
       "59192                                    la Bordeta      169409.0   \n",
       "59194                                    la Bordeta      169409.0   \n",
       "59322                                    la Bordeta       89707.0   \n",
       "59323                                    la Bordeta       89707.0   \n",
       "60086                                 Sants - Badal      187207.0   \n",
       "60087                                 Sants - Badal      187207.0   \n",
       "60129                                   Sant Antoni      127704.0   \n",
       "60130                                   Sant Antoni      127704.0   \n",
       "61407         Sant Pere, Santa Caterina i la Ribera      177101.0   \n",
       "61409         Sant Pere, Santa Caterina i la Ribera      177101.0   \n",
       "61662                    la Maternitat i Sant Ramon      144601.0   \n",
       "61663                    la Maternitat i Sant Ramon      144601.0   \n",
       "63189                                        Sarrià      305201.0   \n",
       "63190                                        Sarrià      305201.0   \n",
       "64548                        Sant Gervasi - Galvany      143904.0   \n",
       "64549                        Sant Gervasi - Galvany      143904.0   \n",
       "65801                             la Vila de Gràcia      290206.0   \n",
       "65802                             la Vila de Gràcia      290206.0   \n",
       "65917            el Camp d'en Grassot i Gràcia Nova      356304.0   \n",
       "65918            el Camp d'en Grassot i Gràcia Nova      356304.0   \n",
       "79473                        Sant Gervasi - Galvany      344101.0   \n",
       "79474                        Sant Gervasi - Galvany      344101.0   \n",
       "79614                                         Navas      209900.0   \n",
       "79615                                         Navas      209900.0   \n",
       "79791               l'Antiga Esquerra de l'Eixample      350308.0   \n",
       "79792               l'Antiga Esquerra de l'Eixample      350308.0   \n",
       "82496                            la Sagrada Família      178308.0   \n",
       "82497                            la Sagrada Família      178308.0   \n",
       "83310                    Sant Gervasi - la Bonanova      701268.0   \n",
       "83311                    Sant Gervasi - la Bonanova      701268.0   \n",
       "83421                                     Canyelles      120807.0   \n",
       "83422                                     Canyelles      120807.0   \n",
       "84125                    la Maternitat i Sant Ramon      187207.0   \n",
       "84126                    la Maternitat i Sant Ramon      187207.0   \n",
       "\n",
       "                                       CALLE NUMERO POSTAL DIA SEMANA  \\\n",
       "48623                 Diagonal / Bac de Roda     0100 0108     Dijous   \n",
       "51618                                Bergara     0014 0014     Dijous   \n",
       "53761                                 Taulat     0136 0136  Divendres   \n",
       "54338                                Energia    0001X0001X    Dilluns   \n",
       "54339                                Energia    0001X0001X    Dilluns   \n",
       "55031                 Diagonal / Bac de Roda     0100 0108     Dijous   \n",
       "55518                                Bergara     0014 0014     Dijous   \n",
       "57750                                 Taulat     0136 0136  Divendres   \n",
       "59192                        Corts Catalanes       111-119    Dimarts   \n",
       "59194                        Corts Catalanes       111-119    Dimarts   \n",
       "59322                            Constitució           155     Dijous   \n",
       "59323                            Constitució           155     Dijous   \n",
       "60086                                 Madrid            68   Dimecres   \n",
       "60087                                 Madrid            68   Dimecres   \n",
       "60129              Floridablanca / Viladomat           NaN     Dijous   \n",
       "60130              Floridablanca / Viladomat           NaN     Dijous   \n",
       "61407                               Laietana            46     Dijous   \n",
       "61409                               Laietana            46     Dijous   \n",
       "61662                               Diagonal           629   Diumenge   \n",
       "61663                               Diagonal           629   Diumenge   \n",
       "63189    Sant Joan Bosco / Maria Auxiliadora           NaN     Dijous   \n",
       "63190    Sant Joan Bosco / Maria Auxiliadora           NaN     Dijous   \n",
       "64548                          General Mitre         92-94   Dissabte   \n",
       "64549                          General Mitre         92-94   Dissabte   \n",
       "65801  Torrent de les Flors / Rovira i Trias           NaN   Dissabte   \n",
       "65802  Torrent de les Flors / Rovira i Trias           NaN   Dissabte   \n",
       "65917                     Taxdirt / Ventalló           NaN    Dilluns   \n",
       "65918                     Taxdirt / Ventalló           NaN    Dilluns   \n",
       "79473                                 Gràcia     0051 0051    Dilluns   \n",
       "79474                                 Gràcia     0051 0051    Dilluns   \n",
       "79614                              Meridiana     0235 0235     Dijous   \n",
       "79615                              Meridiana     0235 0235     Dijous   \n",
       "79791                               València     0211 0211   Dissabte   \n",
       "79792                               València     0211 0211   Dissabte   \n",
       "82496                                 Lepant     0258 0258     Dijous   \n",
       "82497                                 Lepant     0258 0258     Dijous   \n",
       "83310                       Dalt (Llobregat)        940000    Dimarts   \n",
       "83311                       Dalt (Llobregat)        940000    Dimarts   \n",
       "83421                               Favència     0041 0045     Dijous   \n",
       "83422                               Favència     0041 0045     Dijous   \n",
       "84125                                 Madrid     0039 0041   Dimecres   \n",
       "84126                                 Madrid     0039 0041   Dimecres   \n",
       "\n",
       "      DIA SEMANA (NUMERICO)  ...  HORA  TURNO  \\\n",
       "48623                    Dj  ...   8.0   Matí   \n",
       "51618                    Dj  ...  16.0  Tarda   \n",
       "53761                    Dv  ...  20.0  Tarda   \n",
       "54338                    Dl  ...  13.0   Matí   \n",
       "54339                    Dl  ...  13.0   Matí   \n",
       "55031                    Dj  ...   8.0   Matí   \n",
       "55518                    Dj  ...  16.0  Tarda   \n",
       "57750                    Dv  ...  20.0  Tarda   \n",
       "59192                    Dm  ...   9.0   Matí   \n",
       "59194                    Dm  ...   9.0   Matí   \n",
       "59322                    Dj  ...   9.0   Matí   \n",
       "59323                    Dj  ...   9.0   Matí   \n",
       "60086                    Dc  ...  12.0   Matí   \n",
       "60087                    Dc  ...  12.0   Matí   \n",
       "60129                    Dj  ...  10.0   Matí   \n",
       "60130                    Dj  ...  10.0   Matí   \n",
       "61407                    Dj  ...  17.0  Tarda   \n",
       "61409                    Dj  ...  17.0  Tarda   \n",
       "61662                    Dg  ...  19.0  Tarda   \n",
       "61663                    Dg  ...  19.0  Tarda   \n",
       "63189                    Dj  ...  19.0  Tarda   \n",
       "63190                    Dj  ...  19.0  Tarda   \n",
       "64548                    Ds  ...   9.0   Matí   \n",
       "64549                    Ds  ...   9.0   Matí   \n",
       "65801                    Ds  ...  12.0   Matí   \n",
       "65802                    Ds  ...  12.0   Matí   \n",
       "65917                    Dl  ...  15.0  Tarda   \n",
       "65918                    Dl  ...  15.0  Tarda   \n",
       "79473                     1  ...  15.0  Tarda   \n",
       "79474                     1  ...  15.0  Tarda   \n",
       "79614                     4  ...  16.0  Tarda   \n",
       "79615                     4  ...  16.0  Tarda   \n",
       "79791                     6  ...   0.0    Nit   \n",
       "79792                     6  ...   0.0    Nit   \n",
       "82496                     4  ...  10.0   Matí   \n",
       "82497                     4  ...  10.0   Matí   \n",
       "83310                     2  ...  10.0   Matí   \n",
       "83311                     2  ...  10.0   Matí   \n",
       "83421                     4  ...  13.0   Matí   \n",
       "83422                     4  ...  13.0   Matí   \n",
       "84125                     3  ...  13.0   Matí   \n",
       "84126                     3  ...  13.0   Matí   \n",
       "\n",
       "                                 CAUSA FALLECIDOS  LESIONADOS LEVE  \\\n",
       "48623   Desobeir el senyal del semàfor        0.0              1.0   \n",
       "51618                           Altres        0.0              1.0   \n",
       "53761  Creuar per fora pas de vianants        0.0              1.0   \n",
       "54338  Creuar per fora pas de vianants        0.0              1.0   \n",
       "54339   Transitar a peu per la calçada        0.0              1.0   \n",
       "55031                           Altres        0.0              1.0   \n",
       "55518   Desobeir el senyal del semàfor        0.0              1.0   \n",
       "57750   Transitar a peu per la calçada        0.0              1.0   \n",
       "59192                           Altres        0.0              1.0   \n",
       "59194   Desobeir el senyal del semàfor        0.0              1.0   \n",
       "59322   Transitar a peu per la calçada        0.0              2.0   \n",
       "59323  Creuar per fora pas de vianants        0.0              2.0   \n",
       "60086  Creuar per fora pas de vianants        0.0              1.0   \n",
       "60087   Transitar a peu per la calçada        0.0              1.0   \n",
       "60129   Desobeir el senyal del semàfor        0.0              1.0   \n",
       "60130                           Altres        0.0              1.0   \n",
       "61407  Creuar per fora pas de vianants        0.0              1.0   \n",
       "61409   Desobeir el senyal del semàfor        0.0              1.0   \n",
       "61662  Creuar per fora pas de vianants        0.0              1.0   \n",
       "61663   Desobeir el senyal del semàfor        0.0              1.0   \n",
       "63189                           Altres        0.0              1.0   \n",
       "63190   Desobeir el senyal del semàfor        0.0              1.0   \n",
       "64548  Creuar per fora pas de vianants        0.0              2.0   \n",
       "64549   Desobeir el senyal del semàfor        0.0              2.0   \n",
       "65801  Creuar per fora pas de vianants        0.0              1.0   \n",
       "65802                           Altres        0.0              1.0   \n",
       "65917                           Altres        0.0              1.0   \n",
       "65918   Transitar a peu per la calçada        0.0              1.0   \n",
       "79473   Desobeir el senyal del semàfor        0.0              0.0   \n",
       "79474  Creuar per fora pas de vianants        0.0              0.0   \n",
       "79614  Creuar per fora pas de vianants        0.0              1.0   \n",
       "79615                           Altres        0.0              1.0   \n",
       "79791  Creuar per fora pas de vianants        0.0              2.0   \n",
       "79792   Transitar a peu per la calçada        0.0              2.0   \n",
       "82496                           Altres        0.0              1.0   \n",
       "82497   Desobeir el senyal del semàfor        0.0              1.0   \n",
       "83310                           Altres        0.0              1.0   \n",
       "83311   Transitar a peu per la calçada        0.0              1.0   \n",
       "83421   Desobeir el senyal del semàfor        0.0              1.0   \n",
       "83422                           Altres        0.0              1.0   \n",
       "84125   Desobeir el senyal del semàfor        0.0              2.0   \n",
       "84126                           Altres        0.0              2.0   \n",
       "\n",
       "       LESIONADOS GRAVE CANTIDAD VICTIMAS CANTIDAD VEHICULOS  \\\n",
       "48623               0.0               1.0                1.0   \n",
       "51618               0.0               1.0                1.0   \n",
       "53761               0.0               1.0                1.0   \n",
       "54338               0.0               1.0                1.0   \n",
       "54339               0.0               1.0                1.0   \n",
       "55031               0.0               1.0                1.0   \n",
       "55518               0.0               1.0                1.0   \n",
       "57750               0.0               1.0                1.0   \n",
       "59192               0.0               1.0                1.0   \n",
       "59194               0.0               1.0                1.0   \n",
       "59322               0.0               2.0                1.0   \n",
       "59323               0.0               2.0                1.0   \n",
       "60086               0.0               1.0                1.0   \n",
       "60087               0.0               1.0                1.0   \n",
       "60129               0.0               1.0                1.0   \n",
       "60130               0.0               1.0                1.0   \n",
       "61407               0.0               1.0                1.0   \n",
       "61409               0.0               1.0                1.0   \n",
       "61662               0.0               1.0                1.0   \n",
       "61663               0.0               1.0                1.0   \n",
       "63189               0.0               1.0                1.0   \n",
       "63190               0.0               1.0                1.0   \n",
       "64548               0.0               2.0                1.0   \n",
       "64549               0.0               2.0                1.0   \n",
       "65801               0.0               1.0                1.0   \n",
       "65802               0.0               1.0                1.0   \n",
       "65917               0.0               1.0                1.0   \n",
       "65918               0.0               1.0                1.0   \n",
       "79473               1.0               1.0                1.0   \n",
       "79474               1.0               1.0                1.0   \n",
       "79614               0.0               1.0                1.0   \n",
       "79615               0.0               1.0                1.0   \n",
       "79791               0.0               2.0                1.0   \n",
       "79792               0.0               2.0                1.0   \n",
       "82496               0.0               1.0                1.0   \n",
       "82497               0.0               1.0                1.0   \n",
       "83310               0.0               1.0                1.0   \n",
       "83311               0.0               1.0                1.0   \n",
       "83421               0.0               1.0                1.0   \n",
       "83422               0.0               1.0                1.0   \n",
       "84125               0.0               2.0                1.0   \n",
       "84126               0.0               2.0                1.0   \n",
       "\n",
       "       COORDENADA UTM X  COORDENADA UTM Y  \n",
       "48623         433536,88        4584557,54  \n",
       "51618         430601,34        4582179,48  \n",
       "53761         434043,53        4583913,96  \n",
       "54338         427879,29         4579006,9  \n",
       "54339         427879,29         4579006,9  \n",
       "55031         433536,88        4584557,54  \n",
       "55518         430601,34        4582179,48  \n",
       "57750         434043,53        4583913,96  \n",
       "59192          427647.5        4579751.39  \n",
       "59194          427647.5        4579751.39  \n",
       "59322         427543.61        4580251.36  \n",
       "59323         427543.61        4580251.36  \n",
       "60086         427078.67        4581285.13  \n",
       "60087         427078.67        4581285.13  \n",
       "60129         429744.27        4581335.47  \n",
       "60130         429744.27        4581335.47  \n",
       "61407         431170.83        4582187.93  \n",
       "61409         431170.83        4582187.93  \n",
       "61662         426980.57        4582337.48  \n",
       "61663         426980.57        4582337.48  \n",
       "63189         427194.91        4583076.17  \n",
       "63190         427194.91        4583076.17  \n",
       "64548         427808.19        4583745.01  \n",
       "64549         427808.19        4583745.01  \n",
       "65801         429785.08        4584552.91  \n",
       "65802         429785.08        4584552.91  \n",
       "65917         430299.42        4584642.04  \n",
       "65918         430299.42        4584642.04  \n",
       "79473         4583295.6         429000.18  \n",
       "79474         4583295.6         429000.18  \n",
       "79614         4585841.6         432122.08  \n",
       "79615         4585841.6         432122.08  \n",
       "79791        4582643.19         429875.67  \n",
       "79792        4582643.19         429875.67  \n",
       "82496        4584077.09         431398.84  \n",
       "82497        4584077.09         431398.84  \n",
       "83310        4585391.51          427900.3  \n",
       "83311        4585391.51          427900.3  \n",
       "83421        4588348.41         430457.12  \n",
       "83422        4588348.41         430457.12  \n",
       "84125         4581210.7          426928.7  \n",
       "84126         4581210.7          426928.7  \n",
       "\n",
       "[42 rows x 25 columns]"
      ],
      "text/html": "<div>\n<style scoped>\n    .dataframe tbody tr th:only-of-type {\n        vertical-align: middle;\n    }\n\n    .dataframe tbody tr th {\n        vertical-align: top;\n    }\n\n    .dataframe thead th {\n        text-align: right;\n    }\n</style>\n<table border=\"1\" class=\"dataframe\">\n  <thead>\n    <tr style=\"text-align: right;\">\n      <th></th>\n      <th>NUMERO EXPEDIENTE</th>\n      <th>CODIGO DISTRITO</th>\n      <th>DISTRITO</th>\n      <th>CODIGO BARRIO</th>\n      <th>BARRIO</th>\n      <th>CODIGO CALLE</th>\n      <th>CALLE</th>\n      <th>NUMERO POSTAL</th>\n      <th>DIA SEMANA</th>\n      <th>DIA SEMANA (NUMERICO)</th>\n      <th>...</th>\n      <th>HORA</th>\n      <th>TURNO</th>\n      <th>CAUSA</th>\n      <th>FALLECIDOS</th>\n      <th>LESIONADOS LEVE</th>\n      <th>LESIONADOS GRAVE</th>\n      <th>CANTIDAD VICTIMAS</th>\n      <th>CANTIDAD VEHICULOS</th>\n      <th>COORDENADA UTM X</th>\n      <th>COORDENADA UTM Y</th>\n    </tr>\n  </thead>\n  <tbody>\n    <tr>\n      <th>48623</th>\n      <td>2017S008856</td>\n      <td>10.0</td>\n      <td>Sant Martí</td>\n      <td>NaN</td>\n      <td>Provençals del Poblenou</td>\n      <td>30409.0</td>\n      <td>Diagonal / Bac de Roda</td>\n      <td>0100 0108</td>\n      <td>Dijous</td>\n      <td>Dj</td>\n      <td>...</td>\n      <td>8.0</td>\n      <td>Matí</td>\n      <td>Desobeir el senyal del semàfor</td>\n      <td>0.0</td>\n      <td>1.0</td>\n      <td>0.0</td>\n      <td>1.0</td>\n      <td>1.0</td>\n      <td>433536,88</td>\n      <td>4584557,54</td>\n    </tr>\n    <tr>\n      <th>51618</th>\n      <td>2017S003750</td>\n      <td>2.0</td>\n      <td>Eixample</td>\n      <td>NaN</td>\n      <td>la Dreta de l'Eixample</td>\n      <td>357001.0</td>\n      <td>Bergara</td>\n      <td>0014 0014</td>\n      <td>Dijous</td>\n      <td>Dj</td>\n      <td>...</td>\n      <td>16.0</td>\n      <td>Tarda</td>\n      <td>Altres</td>\n      <td>0.0</td>\n      <td>1.0</td>\n      <td>0.0</td>\n      <td>1.0</td>\n      <td>1.0</td>\n      <td>430601,34</td>\n      <td>4582179,48</td>\n    </tr>\n    <tr>\n      <th>53761</th>\n      <td>2017S004447</td>\n      <td>10.0</td>\n      <td>Sant Martí</td>\n      <td>NaN</td>\n      <td>Diagonal Mar i el Front Marítim del Poblenou</td>\n      <td>701278.0</td>\n      <td>Taulat</td>\n      <td>0136 0136</td>\n      <td>Divendres</td>\n      <td>Dv</td>\n      <td>...</td>\n      <td>20.0</td>\n      <td>Tarda</td>\n      <td>Creuar per fora pas de vianants</td>\n      <td>0.0</td>\n      <td>1.0</td>\n      <td>0.0</td>\n      <td>1.0</td>\n      <td>1.0</td>\n      <td>434043,53</td>\n      <td>4583913,96</td>\n    </tr>\n    <tr>\n      <th>54338</th>\n      <td>2017S003286</td>\n      <td>3.0</td>\n      <td>Sants-Montjuïc</td>\n      <td>NaN</td>\n      <td>la Marina de Port</td>\n      <td>109906.0</td>\n      <td>Energia</td>\n      <td>0001X0001X</td>\n      <td>Dilluns</td>\n      <td>Dl</td>\n      <td>...</td>\n      <td>13.0</td>\n      <td>Matí</td>\n      <td>Creuar per fora pas de vianants</td>\n      <td>0.0</td>\n      <td>1.0</td>\n      <td>0.0</td>\n      <td>1.0</td>\n      <td>1.0</td>\n      <td>427879,29</td>\n      <td>4579006,9</td>\n    </tr>\n    <tr>\n      <th>54339</th>\n      <td>2017S003286</td>\n      <td>3.0</td>\n      <td>Sants-Montjuïc</td>\n      <td>NaN</td>\n      <td>la Marina de Port</td>\n      <td>109906.0</td>\n      <td>Energia</td>\n      <td>0001X0001X</td>\n      <td>Dilluns</td>\n      <td>Dl</td>\n      <td>...</td>\n      <td>13.0</td>\n      <td>Matí</td>\n      <td>Transitar a peu per la calçada</td>\n      <td>0.0</td>\n      <td>1.0</td>\n      <td>0.0</td>\n      <td>1.0</td>\n      <td>1.0</td>\n      <td>427879,29</td>\n      <td>4579006,9</td>\n    </tr>\n    <tr>\n      <th>55031</th>\n      <td>2017S008856</td>\n      <td>10.0</td>\n      <td>Sant Martí</td>\n      <td>NaN</td>\n      <td>Provençals del Poblenou</td>\n      <td>30409.0</td>\n      <td>Diagonal / Bac de Roda</td>\n      <td>0100 0108</td>\n      <td>Dijous</td>\n      <td>Dj</td>\n      <td>...</td>\n      <td>8.0</td>\n      <td>Matí</td>\n      <td>Altres</td>\n      <td>0.0</td>\n      <td>1.0</td>\n      <td>0.0</td>\n      <td>1.0</td>\n      <td>1.0</td>\n      <td>433536,88</td>\n      <td>4584557,54</td>\n    </tr>\n    <tr>\n      <th>55518</th>\n      <td>2017S003750</td>\n      <td>2.0</td>\n      <td>Eixample</td>\n      <td>NaN</td>\n      <td>la Dreta de l'Eixample</td>\n      <td>357001.0</td>\n      <td>Bergara</td>\n      <td>0014 0014</td>\n      <td>Dijous</td>\n      <td>Dj</td>\n      <td>...</td>\n      <td>16.0</td>\n      <td>Tarda</td>\n      <td>Desobeir el senyal del semàfor</td>\n      <td>0.0</td>\n      <td>1.0</td>\n      <td>0.0</td>\n      <td>1.0</td>\n      <td>1.0</td>\n      <td>430601,34</td>\n      <td>4582179,48</td>\n    </tr>\n    <tr>\n      <th>57750</th>\n      <td>2017S004447</td>\n      <td>10.0</td>\n      <td>Sant Martí</td>\n      <td>NaN</td>\n      <td>Diagonal Mar i el Front Marítim del Poblenou</td>\n      <td>701278.0</td>\n      <td>Taulat</td>\n      <td>0136 0136</td>\n      <td>Divendres</td>\n      <td>Dv</td>\n      <td>...</td>\n      <td>20.0</td>\n      <td>Tarda</td>\n      <td>Transitar a peu per la calçada</td>\n      <td>0.0</td>\n      <td>1.0</td>\n      <td>0.0</td>\n      <td>1.0</td>\n      <td>1.0</td>\n      <td>434043,53</td>\n      <td>4583913,96</td>\n    </tr>\n    <tr>\n      <th>59192</th>\n      <td>2018S003156</td>\n      <td>3.0</td>\n      <td>Sants-Montjuïc</td>\n      <td>NaN</td>\n      <td>la Bordeta</td>\n      <td>169409.0</td>\n      <td>Corts Catalanes</td>\n      <td>111-119</td>\n      <td>Dimarts</td>\n      <td>Dm</td>\n      <td>...</td>\n      <td>9.0</td>\n      <td>Matí</td>\n      <td>Altres</td>\n      <td>0.0</td>\n      <td>1.0</td>\n      <td>0.0</td>\n      <td>1.0</td>\n      <td>1.0</td>\n      <td>427647.5</td>\n      <td>4579751.39</td>\n    </tr>\n    <tr>\n      <th>59194</th>\n      <td>2018S003156</td>\n      <td>3.0</td>\n      <td>Sants-Montjuïc</td>\n      <td>NaN</td>\n      <td>la Bordeta</td>\n      <td>169409.0</td>\n      <td>Corts Catalanes</td>\n      <td>111-119</td>\n      <td>Dimarts</td>\n      <td>Dm</td>\n      <td>...</td>\n      <td>9.0</td>\n      <td>Matí</td>\n      <td>Desobeir el senyal del semàfor</td>\n      <td>0.0</td>\n      <td>1.0</td>\n      <td>0.0</td>\n      <td>1.0</td>\n      <td>1.0</td>\n      <td>427647.5</td>\n      <td>4579751.39</td>\n    </tr>\n    <tr>\n      <th>59322</th>\n      <td>2018S002285</td>\n      <td>3.0</td>\n      <td>Sants-Montjuïc</td>\n      <td>NaN</td>\n      <td>la Bordeta</td>\n      <td>89707.0</td>\n      <td>Constitució</td>\n      <td>155</td>\n      <td>Dijous</td>\n      <td>Dj</td>\n      <td>...</td>\n      <td>9.0</td>\n      <td>Matí</td>\n      <td>Transitar a peu per la calçada</td>\n      <td>0.0</td>\n      <td>2.0</td>\n      <td>0.0</td>\n      <td>2.0</td>\n      <td>1.0</td>\n      <td>427543.61</td>\n      <td>4580251.36</td>\n    </tr>\n    <tr>\n      <th>59323</th>\n      <td>2018S002285</td>\n      <td>3.0</td>\n      <td>Sants-Montjuïc</td>\n      <td>NaN</td>\n      <td>la Bordeta</td>\n      <td>89707.0</td>\n      <td>Constitució</td>\n      <td>155</td>\n      <td>Dijous</td>\n      <td>Dj</td>\n      <td>...</td>\n      <td>9.0</td>\n      <td>Matí</td>\n      <td>Creuar per fora pas de vianants</td>\n      <td>0.0</td>\n      <td>2.0</td>\n      <td>0.0</td>\n      <td>2.0</td>\n      <td>1.0</td>\n      <td>427543.61</td>\n      <td>4580251.36</td>\n    </tr>\n    <tr>\n      <th>60086</th>\n      <td>2018S002968</td>\n      <td>3.0</td>\n      <td>Sants-Montjuïc</td>\n      <td>NaN</td>\n      <td>Sants - Badal</td>\n      <td>187207.0</td>\n      <td>Madrid</td>\n      <td>68</td>\n      <td>Dimecres</td>\n      <td>Dc</td>\n      <td>...</td>\n      <td>12.0</td>\n      <td>Matí</td>\n      <td>Creuar per fora pas de vianants</td>\n      <td>0.0</td>\n      <td>1.0</td>\n      <td>0.0</td>\n      <td>1.0</td>\n      <td>1.0</td>\n      <td>427078.67</td>\n      <td>4581285.13</td>\n    </tr>\n    <tr>\n      <th>60087</th>\n      <td>2018S002968</td>\n      <td>3.0</td>\n      <td>Sants-Montjuïc</td>\n      <td>NaN</td>\n      <td>Sants - Badal</td>\n      <td>187207.0</td>\n      <td>Madrid</td>\n      <td>68</td>\n      <td>Dimecres</td>\n      <td>Dc</td>\n      <td>...</td>\n      <td>12.0</td>\n      <td>Matí</td>\n      <td>Transitar a peu per la calçada</td>\n      <td>0.0</td>\n      <td>1.0</td>\n      <td>0.0</td>\n      <td>1.0</td>\n      <td>1.0</td>\n      <td>427078.67</td>\n      <td>4581285.13</td>\n    </tr>\n    <tr>\n      <th>60129</th>\n      <td>2018S009504</td>\n      <td>2.0</td>\n      <td>Eixample</td>\n      <td>NaN</td>\n      <td>Sant Antoni</td>\n      <td>127704.0</td>\n      <td>Floridablanca / Viladomat</td>\n      <td>NaN</td>\n      <td>Dijous</td>\n      <td>Dj</td>\n      <td>...</td>\n      <td>10.0</td>\n      <td>Matí</td>\n      <td>Desobeir el senyal del semàfor</td>\n      <td>0.0</td>\n      <td>1.0</td>\n      <td>0.0</td>\n      <td>1.0</td>\n      <td>1.0</td>\n      <td>429744.27</td>\n      <td>4581335.47</td>\n    </tr>\n    <tr>\n      <th>60130</th>\n      <td>2018S009504</td>\n      <td>2.0</td>\n      <td>Eixample</td>\n      <td>NaN</td>\n      <td>Sant Antoni</td>\n      <td>127704.0</td>\n      <td>Floridablanca / Viladomat</td>\n      <td>NaN</td>\n      <td>Dijous</td>\n      <td>Dj</td>\n      <td>...</td>\n      <td>10.0</td>\n      <td>Matí</td>\n      <td>Altres</td>\n      <td>0.0</td>\n      <td>1.0</td>\n      <td>0.0</td>\n      <td>1.0</td>\n      <td>1.0</td>\n      <td>429744.27</td>\n      <td>4581335.47</td>\n    </tr>\n    <tr>\n      <th>61407</th>\n      <td>2018S005992</td>\n      <td>1.0</td>\n      <td>Ciutat Vella</td>\n      <td>NaN</td>\n      <td>Sant Pere, Santa Caterina i la Ribera</td>\n      <td>177101.0</td>\n      <td>Laietana</td>\n      <td>46</td>\n      <td>Dijous</td>\n      <td>Dj</td>\n      <td>...</td>\n      <td>17.0</td>\n      <td>Tarda</td>\n      <td>Creuar per fora pas de vianants</td>\n      <td>0.0</td>\n      <td>1.0</td>\n      <td>0.0</td>\n      <td>1.0</td>\n      <td>1.0</td>\n      <td>431170.83</td>\n      <td>4582187.93</td>\n    </tr>\n    <tr>\n      <th>61409</th>\n      <td>2018S005992</td>\n      <td>1.0</td>\n      <td>Ciutat Vella</td>\n      <td>NaN</td>\n      <td>Sant Pere, Santa Caterina i la Ribera</td>\n      <td>177101.0</td>\n      <td>Laietana</td>\n      <td>46</td>\n      <td>Dijous</td>\n      <td>Dj</td>\n      <td>...</td>\n      <td>17.0</td>\n      <td>Tarda</td>\n      <td>Desobeir el senyal del semàfor</td>\n      <td>0.0</td>\n      <td>1.0</td>\n      <td>0.0</td>\n      <td>1.0</td>\n      <td>1.0</td>\n      <td>431170.83</td>\n      <td>4582187.93</td>\n    </tr>\n    <tr>\n      <th>61662</th>\n      <td>2018S001774</td>\n      <td>4.0</td>\n      <td>Les Corts</td>\n      <td>NaN</td>\n      <td>la Maternitat i Sant Ramon</td>\n      <td>144601.0</td>\n      <td>Diagonal</td>\n      <td>629</td>\n      <td>Diumenge</td>\n      <td>Dg</td>\n      <td>...</td>\n      <td>19.0</td>\n      <td>Tarda</td>\n      <td>Creuar per fora pas de vianants</td>\n      <td>0.0</td>\n      <td>1.0</td>\n      <td>0.0</td>\n      <td>1.0</td>\n      <td>1.0</td>\n      <td>426980.57</td>\n      <td>4582337.48</td>\n    </tr>\n    <tr>\n      <th>61663</th>\n      <td>2018S001774</td>\n      <td>4.0</td>\n      <td>Les Corts</td>\n      <td>NaN</td>\n      <td>la Maternitat i Sant Ramon</td>\n      <td>144601.0</td>\n      <td>Diagonal</td>\n      <td>629</td>\n      <td>Diumenge</td>\n      <td>Dg</td>\n      <td>...</td>\n      <td>19.0</td>\n      <td>Tarda</td>\n      <td>Desobeir el senyal del semàfor</td>\n      <td>0.0</td>\n      <td>1.0</td>\n      <td>0.0</td>\n      <td>1.0</td>\n      <td>1.0</td>\n      <td>426980.57</td>\n      <td>4582337.48</td>\n    </tr>\n    <tr>\n      <th>63189</th>\n      <td>2018S000261</td>\n      <td>5.0</td>\n      <td>Sarrià-Sant Gervasi</td>\n      <td>NaN</td>\n      <td>Sarrià</td>\n      <td>305201.0</td>\n      <td>Sant Joan Bosco / Maria Auxiliadora</td>\n      <td>NaN</td>\n      <td>Dijous</td>\n      <td>Dj</td>\n      <td>...</td>\n      <td>19.0</td>\n      <td>Tarda</td>\n      <td>Altres</td>\n      <td>0.0</td>\n      <td>1.0</td>\n      <td>0.0</td>\n      <td>1.0</td>\n      <td>1.0</td>\n      <td>427194.91</td>\n      <td>4583076.17</td>\n    </tr>\n    <tr>\n      <th>63190</th>\n      <td>2018S000261</td>\n      <td>5.0</td>\n      <td>Sarrià-Sant Gervasi</td>\n      <td>NaN</td>\n      <td>Sarrià</td>\n      <td>305201.0</td>\n      <td>Sant Joan Bosco / Maria Auxiliadora</td>\n      <td>NaN</td>\n      <td>Dijous</td>\n      <td>Dj</td>\n      <td>...</td>\n      <td>19.0</td>\n      <td>Tarda</td>\n      <td>Desobeir el senyal del semàfor</td>\n      <td>0.0</td>\n      <td>1.0</td>\n      <td>0.0</td>\n      <td>1.0</td>\n      <td>1.0</td>\n      <td>427194.91</td>\n      <td>4583076.17</td>\n    </tr>\n    <tr>\n      <th>64548</th>\n      <td>2018S002344</td>\n      <td>5.0</td>\n      <td>Sarrià-Sant Gervasi</td>\n      <td>NaN</td>\n      <td>Sant Gervasi - Galvany</td>\n      <td>143904.0</td>\n      <td>General Mitre</td>\n      <td>92-94</td>\n      <td>Dissabte</td>\n      <td>Ds</td>\n      <td>...</td>\n      <td>9.0</td>\n      <td>Matí</td>\n      <td>Creuar per fora pas de vianants</td>\n      <td>0.0</td>\n      <td>2.0</td>\n      <td>0.0</td>\n      <td>2.0</td>\n      <td>1.0</td>\n      <td>427808.19</td>\n      <td>4583745.01</td>\n    </tr>\n    <tr>\n      <th>64549</th>\n      <td>2018S002344</td>\n      <td>5.0</td>\n      <td>Sarrià-Sant Gervasi</td>\n      <td>NaN</td>\n      <td>Sant Gervasi - Galvany</td>\n      <td>143904.0</td>\n      <td>General Mitre</td>\n      <td>92-94</td>\n      <td>Dissabte</td>\n      <td>Ds</td>\n      <td>...</td>\n      <td>9.0</td>\n      <td>Matí</td>\n      <td>Desobeir el senyal del semàfor</td>\n      <td>0.0</td>\n      <td>2.0</td>\n      <td>0.0</td>\n      <td>2.0</td>\n      <td>1.0</td>\n      <td>427808.19</td>\n      <td>4583745.01</td>\n    </tr>\n    <tr>\n      <th>65801</th>\n      <td>2018S001500</td>\n      <td>6.0</td>\n      <td>Gràcia</td>\n      <td>31</td>\n      <td>la Vila de Gràcia</td>\n      <td>290206.0</td>\n      <td>Torrent de les Flors / Rovira i Trias</td>\n      <td>NaN</td>\n      <td>Dissabte</td>\n      <td>Ds</td>\n      <td>...</td>\n      <td>12.0</td>\n      <td>Matí</td>\n      <td>Creuar per fora pas de vianants</td>\n      <td>0.0</td>\n      <td>1.0</td>\n      <td>0.0</td>\n      <td>1.0</td>\n      <td>1.0</td>\n      <td>429785.08</td>\n      <td>4584552.91</td>\n    </tr>\n    <tr>\n      <th>65802</th>\n      <td>2018S001500</td>\n      <td>6.0</td>\n      <td>Gràcia</td>\n      <td>31</td>\n      <td>la Vila de Gràcia</td>\n      <td>290206.0</td>\n      <td>Torrent de les Flors / Rovira i Trias</td>\n      <td>NaN</td>\n      <td>Dissabte</td>\n      <td>Ds</td>\n      <td>...</td>\n      <td>12.0</td>\n      <td>Matí</td>\n      <td>Altres</td>\n      <td>0.0</td>\n      <td>1.0</td>\n      <td>0.0</td>\n      <td>1.0</td>\n      <td>1.0</td>\n      <td>429785.08</td>\n      <td>4584552.91</td>\n    </tr>\n    <tr>\n      <th>65917</th>\n      <td>2018S000183</td>\n      <td>6.0</td>\n      <td>Gràcia</td>\n      <td>32</td>\n      <td>el Camp d'en Grassot i Gràcia Nova</td>\n      <td>356304.0</td>\n      <td>Taxdirt / Ventalló</td>\n      <td>NaN</td>\n      <td>Dilluns</td>\n      <td>Dl</td>\n      <td>...</td>\n      <td>15.0</td>\n      <td>Tarda</td>\n      <td>Altres</td>\n      <td>0.0</td>\n      <td>1.0</td>\n      <td>0.0</td>\n      <td>1.0</td>\n      <td>1.0</td>\n      <td>430299.42</td>\n      <td>4584642.04</td>\n    </tr>\n    <tr>\n      <th>65918</th>\n      <td>2018S000183</td>\n      <td>6.0</td>\n      <td>Gràcia</td>\n      <td>32</td>\n      <td>el Camp d'en Grassot i Gràcia Nova</td>\n      <td>356304.0</td>\n      <td>Taxdirt / Ventalló</td>\n      <td>NaN</td>\n      <td>Dilluns</td>\n      <td>Dl</td>\n      <td>...</td>\n      <td>15.0</td>\n      <td>Tarda</td>\n      <td>Transitar a peu per la calçada</td>\n      <td>0.0</td>\n      <td>1.0</td>\n      <td>0.0</td>\n      <td>1.0</td>\n      <td>1.0</td>\n      <td>430299.42</td>\n      <td>4584642.04</td>\n    </tr>\n    <tr>\n      <th>79473</th>\n      <td>2020S000638</td>\n      <td>5.0</td>\n      <td>Sarrià-Sant Gervasi</td>\n      <td>51-5-26</td>\n      <td>Sant Gervasi - Galvany</td>\n      <td>344101.0</td>\n      <td>Gràcia</td>\n      <td>0051 0051</td>\n      <td>Dilluns</td>\n      <td>1</td>\n      <td>...</td>\n      <td>15.0</td>\n      <td>Tarda</td>\n      <td>Desobeir el senyal del semàfor</td>\n      <td>0.0</td>\n      <td>0.0</td>\n      <td>1.0</td>\n      <td>1.0</td>\n      <td>1.0</td>\n      <td>4583295.6</td>\n      <td>429000.18</td>\n    </tr>\n    <tr>\n      <th>79474</th>\n      <td>2020S000638</td>\n      <td>5.0</td>\n      <td>Sarrià-Sant Gervasi</td>\n      <td>51-5-26</td>\n      <td>Sant Gervasi - Galvany</td>\n      <td>344101.0</td>\n      <td>Gràcia</td>\n      <td>0051 0051</td>\n      <td>Dilluns</td>\n      <td>1</td>\n      <td>...</td>\n      <td>15.0</td>\n      <td>Tarda</td>\n      <td>Creuar per fora pas de vianants</td>\n      <td>0.0</td>\n      <td>0.0</td>\n      <td>1.0</td>\n      <td>1.0</td>\n      <td>1.0</td>\n      <td>4583295.6</td>\n      <td>429000.18</td>\n    </tr>\n    <tr>\n      <th>79614</th>\n      <td>2020S000778</td>\n      <td>9.0</td>\n      <td>Sant Andreu</td>\n      <td>91-9-63</td>\n      <td>Navas</td>\n      <td>209900.0</td>\n      <td>Meridiana</td>\n      <td>0235 0235</td>\n      <td>Dijous</td>\n      <td>4</td>\n      <td>...</td>\n      <td>16.0</td>\n      <td>Tarda</td>\n      <td>Creuar per fora pas de vianants</td>\n      <td>0.0</td>\n      <td>1.0</td>\n      <td>0.0</td>\n      <td>1.0</td>\n      <td>1.0</td>\n      <td>4585841.6</td>\n      <td>432122.08</td>\n    </tr>\n    <tr>\n      <th>79615</th>\n      <td>2020S000778</td>\n      <td>9.0</td>\n      <td>Sant Andreu</td>\n      <td>91-9-63</td>\n      <td>Navas</td>\n      <td>209900.0</td>\n      <td>Meridiana</td>\n      <td>0235 0235</td>\n      <td>Dijous</td>\n      <td>4</td>\n      <td>...</td>\n      <td>16.0</td>\n      <td>Tarda</td>\n      <td>Altres</td>\n      <td>0.0</td>\n      <td>1.0</td>\n      <td>0.0</td>\n      <td>1.0</td>\n      <td>1.0</td>\n      <td>4585841.6</td>\n      <td>432122.08</td>\n    </tr>\n    <tr>\n      <th>79791</th>\n      <td>2020S000956</td>\n      <td>2.0</td>\n      <td>Eixample</td>\n      <td>23-2-8</td>\n      <td>l'Antiga Esquerra de l'Eixample</td>\n      <td>350308.0</td>\n      <td>València</td>\n      <td>0211 0211</td>\n      <td>Dissabte</td>\n      <td>6</td>\n      <td>...</td>\n      <td>0.0</td>\n      <td>Nit</td>\n      <td>Creuar per fora pas de vianants</td>\n      <td>0.0</td>\n      <td>2.0</td>\n      <td>0.0</td>\n      <td>2.0</td>\n      <td>1.0</td>\n      <td>4582643.19</td>\n      <td>429875.67</td>\n    </tr>\n    <tr>\n      <th>79792</th>\n      <td>2020S000956</td>\n      <td>2.0</td>\n      <td>Eixample</td>\n      <td>23-2-8</td>\n      <td>l'Antiga Esquerra de l'Eixample</td>\n      <td>350308.0</td>\n      <td>València</td>\n      <td>0211 0211</td>\n      <td>Dissabte</td>\n      <td>6</td>\n      <td>...</td>\n      <td>0.0</td>\n      <td>Nit</td>\n      <td>Transitar a peu per la calçada</td>\n      <td>0.0</td>\n      <td>2.0</td>\n      <td>0.0</td>\n      <td>2.0</td>\n      <td>1.0</td>\n      <td>4582643.19</td>\n      <td>429875.67</td>\n    </tr>\n    <tr>\n      <th>82496</th>\n      <td>2020S003665</td>\n      <td>2.0</td>\n      <td>Eixample</td>\n      <td>25-2-6</td>\n      <td>la Sagrada Família</td>\n      <td>178308.0</td>\n      <td>Lepant</td>\n      <td>0258 0258</td>\n      <td>Dijous</td>\n      <td>4</td>\n      <td>...</td>\n      <td>10.0</td>\n      <td>Matí</td>\n      <td>Altres</td>\n      <td>0.0</td>\n      <td>1.0</td>\n      <td>0.0</td>\n      <td>1.0</td>\n      <td>1.0</td>\n      <td>4584077.09</td>\n      <td>431398.84</td>\n    </tr>\n    <tr>\n      <th>82497</th>\n      <td>2020S003665</td>\n      <td>2.0</td>\n      <td>Eixample</td>\n      <td>25-2-6</td>\n      <td>la Sagrada Família</td>\n      <td>178308.0</td>\n      <td>Lepant</td>\n      <td>0258 0258</td>\n      <td>Dijous</td>\n      <td>4</td>\n      <td>...</td>\n      <td>10.0</td>\n      <td>Matí</td>\n      <td>Desobeir el senyal del semàfor</td>\n      <td>0.0</td>\n      <td>1.0</td>\n      <td>0.0</td>\n      <td>1.0</td>\n      <td>1.0</td>\n      <td>4584077.09</td>\n      <td>431398.84</td>\n    </tr>\n    <tr>\n      <th>83310</th>\n      <td>2020S004479</td>\n      <td>5.0</td>\n      <td>Sarrià-Sant Gervasi</td>\n      <td>53-5-25</td>\n      <td>Sant Gervasi - la Bonanova</td>\n      <td>701268.0</td>\n      <td>Dalt (Llobregat)</td>\n      <td>940000</td>\n      <td>Dimarts</td>\n      <td>2</td>\n      <td>...</td>\n      <td>10.0</td>\n      <td>Matí</td>\n      <td>Altres</td>\n      <td>0.0</td>\n      <td>1.0</td>\n      <td>0.0</td>\n      <td>1.0</td>\n      <td>1.0</td>\n      <td>4585391.51</td>\n      <td>427900.3</td>\n    </tr>\n    <tr>\n      <th>83311</th>\n      <td>2020S004479</td>\n      <td>5.0</td>\n      <td>Sarrià-Sant Gervasi</td>\n      <td>53-5-25</td>\n      <td>Sant Gervasi - la Bonanova</td>\n      <td>701268.0</td>\n      <td>Dalt (Llobregat)</td>\n      <td>940000</td>\n      <td>Dimarts</td>\n      <td>2</td>\n      <td>...</td>\n      <td>10.0</td>\n      <td>Matí</td>\n      <td>Transitar a peu per la calçada</td>\n      <td>0.0</td>\n      <td>1.0</td>\n      <td>0.0</td>\n      <td>1.0</td>\n      <td>1.0</td>\n      <td>4585391.51</td>\n      <td>427900.3</td>\n    </tr>\n    <tr>\n      <th>83421</th>\n      <td>2020S004590</td>\n      <td>8.0</td>\n      <td>Nou Barris</td>\n      <td>82-8-49</td>\n      <td>Canyelles</td>\n      <td>120807.0</td>\n      <td>Favència</td>\n      <td>0041 0045</td>\n      <td>Dijous</td>\n      <td>4</td>\n      <td>...</td>\n      <td>13.0</td>\n      <td>Matí</td>\n      <td>Desobeir el senyal del semàfor</td>\n      <td>0.0</td>\n      <td>1.0</td>\n      <td>0.0</td>\n      <td>1.0</td>\n      <td>1.0</td>\n      <td>4588348.41</td>\n      <td>430457.12</td>\n    </tr>\n    <tr>\n      <th>83422</th>\n      <td>2020S004590</td>\n      <td>8.0</td>\n      <td>Nou Barris</td>\n      <td>82-8-49</td>\n      <td>Canyelles</td>\n      <td>120807.0</td>\n      <td>Favència</td>\n      <td>0041 0045</td>\n      <td>Dijous</td>\n      <td>4</td>\n      <td>...</td>\n      <td>13.0</td>\n      <td>Matí</td>\n      <td>Altres</td>\n      <td>0.0</td>\n      <td>1.0</td>\n      <td>0.0</td>\n      <td>1.0</td>\n      <td>1.0</td>\n      <td>4588348.41</td>\n      <td>430457.12</td>\n    </tr>\n    <tr>\n      <th>84125</th>\n      <td>2020S005294</td>\n      <td>4.0</td>\n      <td>Les Corts</td>\n      <td>42-4-20</td>\n      <td>la Maternitat i Sant Ramon</td>\n      <td>187207.0</td>\n      <td>Madrid</td>\n      <td>0039 0041</td>\n      <td>Dimecres</td>\n      <td>3</td>\n      <td>...</td>\n      <td>13.0</td>\n      <td>Matí</td>\n      <td>Desobeir el senyal del semàfor</td>\n      <td>0.0</td>\n      <td>2.0</td>\n      <td>0.0</td>\n      <td>2.0</td>\n      <td>1.0</td>\n      <td>4581210.7</td>\n      <td>426928.7</td>\n    </tr>\n    <tr>\n      <th>84126</th>\n      <td>2020S005294</td>\n      <td>4.0</td>\n      <td>Les Corts</td>\n      <td>42-4-20</td>\n      <td>la Maternitat i Sant Ramon</td>\n      <td>187207.0</td>\n      <td>Madrid</td>\n      <td>0039 0041</td>\n      <td>Dimecres</td>\n      <td>3</td>\n      <td>...</td>\n      <td>13.0</td>\n      <td>Matí</td>\n      <td>Altres</td>\n      <td>0.0</td>\n      <td>2.0</td>\n      <td>0.0</td>\n      <td>2.0</td>\n      <td>1.0</td>\n      <td>4581210.7</td>\n      <td>426928.7</td>\n    </tr>\n  </tbody>\n</table>\n<p>42 rows × 25 columns</p>\n</div>"
     },
     "metadata": {},
     "execution_count": 41
    }
   ],
   "source": [
    "df_gu.loc[df_gu['NUMERO EXPEDIENTE'].duplicated(keep = False), :]"
   ]
  },
  {
   "cell_type": "code",
   "execution_count": null,
   "metadata": {},
   "outputs": [],
   "source": []
  },
  {
   "cell_type": "code",
   "execution_count": null,
   "metadata": {},
   "outputs": [],
   "source": [
    "gu_causas = pd.merge(df_gu, df_causas, on = 'NUMERO EXPEDIENTE', how = 'outer')"
   ]
  },
  {
   "cell_type": "code",
   "execution_count": null,
   "metadata": {},
   "outputs": [],
   "source": [
    "causas_gu = pd.merge(df_causas, df_gu, on = 'NUMERO EXPEDIENTE', how = 'outer')"
   ]
  },
  {
   "cell_type": "code",
   "execution_count": null,
   "metadata": {},
   "outputs": [],
   "source": [
    "df_vehiculos[df_vehiculos['NUMERO EXPEDIENTE'] == '2012S009089']"
   ]
  },
  {
   "cell_type": "code",
   "execution_count": null,
   "metadata": {},
   "outputs": [],
   "source": [
    "df_gu[df_gu['CAUSA'] != 'Desconegut']"
   ]
  },
  {
   "cell_type": "code",
   "execution_count": null,
   "metadata": {},
   "outputs": [],
   "source": [
    "df_causas[df_causas['DESCRIPCION CAUSA'] != 'No hi ha causa mediata']"
   ]
  },
  {
   "cell_type": "code",
   "execution_count": null,
   "metadata": {},
   "outputs": [],
   "source": [
    "gu_causas.shape"
   ]
  },
  {
   "cell_type": "code",
   "execution_count": null,
   "metadata": {},
   "outputs": [],
   "source": [
    "gu_causas"
   ]
  },
  {
   "cell_type": "code",
   "execution_count": null,
   "metadata": {},
   "outputs": [],
   "source": [
    "causas_gu"
   ]
  },
  {
   "cell_type": "code",
   "execution_count": null,
   "metadata": {},
   "outputs": [],
   "source": []
  },
  {
   "cell_type": "code",
   "execution_count": null,
   "metadata": {},
   "outputs": [],
   "source": [
    "df_causas[df_causas['NUMERO EXPEDIENTE'].str.contains('2018S003625    ')]"
   ]
  },
  {
   "cell_type": "code",
   "execution_count": null,
   "metadata": {},
   "outputs": [],
   "source": [
    "df_gu['NUMERO EXPEDIENTE'].nunique()"
   ]
  },
  {
   "cell_type": "code",
   "execution_count": null,
   "metadata": {},
   "outputs": [],
   "source": [
    "df_gu['NUMERO EXPEDIENTE'].duplicated().sum()"
   ]
  },
  {
   "cell_type": "code",
   "execution_count": null,
   "metadata": {},
   "outputs": [],
   "source": [
    "df_gu.loc[df_gu.duplicated(), :]"
   ]
  },
  {
   "cell_type": "code",
   "execution_count": null,
   "metadata": {},
   "outputs": [],
   "source": [
    "df_gu.loc[df_gu['NUMERO EXPEDIENTE'].duplicated(keep = False), :]"
   ]
  },
  {
   "cell_type": "code",
   "execution_count": null,
   "metadata": {},
   "outputs": [],
   "source": [
    "df_gu[df_gu['NUMERO EXPEDIENTE']]"
   ]
  },
  {
   "cell_type": "code",
   "execution_count": null,
   "metadata": {},
   "outputs": [],
   "source": []
  }
 ]
}