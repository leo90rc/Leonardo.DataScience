{
 "metadata": {
  "language_info": {
   "codemirror_mode": {
    "name": "ipython",
    "version": 3
   },
   "file_extension": ".py",
   "mimetype": "text/x-python",
   "name": "python",
   "nbconvert_exporter": "python",
   "pygments_lexer": "ipython3",
   "version": "3.7.4"
  },
  "orig_nbformat": 2,
  "kernelspec": {
   "name": "python374jvsc74a57bd0a0947237fadc8b5561fed326db280cc5ec46a670c87cfb3a0489cf95ff262303",
   "display_name": "Python 3.7.4 64-bit"
  },
  "metadata": {
   "interpreter": {
    "hash": "a0947237fadc8b5561fed326db280cc5ec46a670c87cfb3a0489cf95ff262303"
   }
  }
 },
 "nbformat": 4,
 "nbformat_minor": 2,
 "cells": [
  {
   "cell_type": "code",
   "execution_count": null,
   "metadata": {},
   "outputs": [],
   "source": [
    "import pandas as pd"
   ]
  },
  {
   "cell_type": "code",
   "execution_count": null,
   "metadata": {},
   "outputs": [],
   "source": [
    "def enlistar_dataframes_tipo():\n",
    "    global lista_df_tipo\n",
    "    lista_df_tipo = []\n",
    "    for i in range(11,21):\n",
    "        try:\n",
    "            i = pd.read_csv('20'+str(i)+'/20'+str(i)+'_ACCIDENTS_TIPUS_GU_BCN_20'+str(i)+'-utf8.csv')\n",
    "        except:\n",
    "            try:\n",
    "                i = pd.read_csv('20'+str(i)+'/20'+str(i)+'_ACCIDENTS_TIPUS_GU_BCN_20'+str(i)+'-utf8.csv', sep=';')\n",
    "            except:\n",
    "                i = pd.read_excel('20'+str(i)+'/20'+str(i)+'_ACCIDENTS_TIPUS_GU_BCN_20'+str(i)+'.xlsx')\n",
    "        lista_df_tipo.append(i)\n",
    "    return lista_df_tipo"
   ]
  },
  {
   "cell_type": "code",
   "execution_count": 17,
   "metadata": {},
   "outputs": [
    {
     "output_type": "execute_result",
     "data": {
      "text/plain": [
       "   Numero_expedient  Codi_districte        Nom_districte  Codi_barri  \\\n",
       "0   2020S000001                   7       Horta-Guinardó          36   \n",
       "1   2020S000002                   3       Sants-Montjuïc          16   \n",
       "2   2020S000003                   2             Eixample           8   \n",
       "3   2020S000004                   4            Les Corts          19   \n",
       "4   2020S000005                   2             Eixample           7   \n",
       "5   2020S000006                   3       Sants-Montjuïc          17   \n",
       "6   2020S000007                   9          Sant Andreu          60   \n",
       "7   2020S000008                   5  Sarrià-Sant Gervasi          23   \n",
       "8   2020S000009                   2             Eixample           7   \n",
       "9   2020S000010                  10           Sant Martí          73   \n",
       "10  2020S000011                   9          Sant Andreu          60   \n",
       "11  2020S000012                   3       Sants-Montjuïc          13   \n",
       "12  2020S000013                   7       Horta-Guinardó          43   \n",
       "13  2020S000014                   9          Sant Andreu          61   \n",
       "14  2020S000015                   9          Sant Andreu          58   \n",
       "15  2020S000016                   7       Horta-Guinardó          37   \n",
       "16  2020S000017                   3       Sants-Montjuïc          13   \n",
       "17  2020S000018                   5  Sarrià-Sant Gervasi          23   \n",
       "18  2020S000019                   3       Sants-Montjuïc          13   \n",
       "19  2020S000020                   8           Nou Barris          44   \n",
       "20  2020S000021                   2             Eixample           9   \n",
       "21  2020S000022                   1         Ciutat Vella           2   \n",
       "22  2020S000023                   2             Eixample           7   \n",
       "23  2020S000024                   2             Eixample           6   \n",
       "24  2020S000025                   9          Sant Andreu          57   \n",
       "25  2020S000026                   2             Eixample          10   \n",
       "26  2020S000027                   2             Eixample           6   \n",
       "27  2020S000028                   2             Eixample           8   \n",
       "28  2020S000029                   3       Sants-Montjuïc          17   \n",
       "29  2020S000030                   3       Sants-Montjuïc          14   \n",
       "30  2020S000031                   3       Sants-Montjuïc          16   \n",
       "31  2020S000032                   4            Les Corts          20   \n",
       "32  2020S000033                   6               Gràcia          31   \n",
       "33  2020S000034                  10           Sant Martí          70   \n",
       "34  2020S000035                   8           Nou Barris          45   \n",
       "35  2020S000036                   5  Sarrià-Sant Gervasi          24   \n",
       "36  2020S000037                   3       Sants-Montjuïc          18   \n",
       "37  2020S000038                  -1           Desconegut          -1   \n",
       "38  2020S000039                   2             Eixample           8   \n",
       "39  2020S000040                  10           Sant Martí          67   \n",
       "40  2020S000041                   5  Sarrià-Sant Gervasi          26   \n",
       "41  2020S000042                   2             Eixample           7   \n",
       "42  2020S000043                   9          Sant Andreu          60   \n",
       "43  2020S000044                   7       Horta-Guinardó          41   \n",
       "44  2020S000045                   4            Les Corts          19   \n",
       "45  2020S000046                   5  Sarrià-Sant Gervasi          27   \n",
       "46  2020S000047                   9          Sant Andreu          61   \n",
       "47  2020S000048                   3       Sants-Montjuïc          12   \n",
       "48  2020S000049                   1         Ciutat Vella           1   \n",
       "49  2020S000050                   6               Gràcia          29   \n",
       "\n",
       "                          Nom_barri  Codi_carrer          Nom_carrer  \\\n",
       "0              la Font d'en Fargues       194406            Maragall   \n",
       "1                        la Bordeta       169409     Corts Catalanes   \n",
       "2   l'Antiga Esquerra de l'Eixample       320704              Sarrià   \n",
       "3                         les Corts       101904      Doctor Fleming   \n",
       "4            la Dreta de l'Eixample       309406           Sant Pere   \n",
       "5                     Sants - Badal       312400               Sants   \n",
       "6                       Sant Andreu       209900           Meridiana   \n",
       "7                            Sarrià       315500       Santa Eulàlia   \n",
       "8            la Dreta de l'Eixample        18505               Aragó   \n",
       "9               la Verneda i la Pau        60807           Cantàbria   \n",
       "10                      Sant Andreu       209900           Meridiana   \n",
       "11                la Marina de Port       169409     Corts Catalanes   \n",
       "12                            Horta        69109            Cartellà   \n",
       "13                       la Sagrera       292507  Gran de la Sagrera   \n",
       "14                    Baró de Viver       701497    B-10 (Llobregat)   \n",
       "15                        el Carmel       325504            Sigüenza   \n",
       "16                la Marina de Port       169409     Corts Catalanes   \n",
       "17                           Sarrià        44709            Bonanova   \n",
       "18                la Marina de Port       135203                 Foc   \n",
       "19    Vilapicina i la Torre Llobeta       194406            Maragall   \n",
       "20   la Nova Esquerra de l'Eixample        18505               Aragó   \n",
       "21                   el Barri Gòtic       177101            Laietana   \n",
       "22           la Dreta de l'Eixample       169409     Corts Catalanes   \n",
       "23               la Sagrada Família       105304         Dos de Maig   \n",
       "24                la Trinitat Vella       314100        Santa Coloma   \n",
       "25                      Sant Antoni       349207         Universitat   \n",
       "26               la Sagrada Família       350308            València   \n",
       "27  l'Antiga Esquerra de l'Eixample       363809          Villarroel   \n",
       "28                    Sants - Badal       701434    Mig (Descendent)   \n",
       "29            la Font de la Guatlla       301608       Sant Fructuós   \n",
       "30                       la Bordeta       169409     Corts Catalanes   \n",
       "31       la Maternitat i Sant Ramon       144601            Diagonal   \n",
       "32                la Vila de Gràcia       138405     Gal·la Placídia   \n",
       "33            el Besòs i el Maresme       701265     Litoral (Besòs)   \n",
       "34                            Porta       289852   Rosselló i Porcel   \n",
       "35                  les Tres Torres        28000             Augusta   \n",
       "36                            Sants       312400               Sants   \n",
       "37                       Desconegut           -1          Desconegut   \n",
       "38  l'Antiga Esquerra de l'Eixample        23403              Aribau   \n",
       "39    la Vila Olímpica del Poblenou       700654             Litoral   \n",
       "40           Sant Gervasi - Galvany       144601            Diagonal   \n",
       "41           la Dreta de l'Eixample       305100           Sant Joan   \n",
       "42                      Sant Andreu       239300       Pare Manyanet   \n",
       "43                 la Vall d'Hebron       352507       Vall d'Hebron   \n",
       "44                        les Corts       343903               Corts   \n",
       "45             el Putxet i el Farró        33509           Ballester   \n",
       "46                       la Sagrera       209900           Meridiana   \n",
       "47       la Marina del Prat Vermell        30089       B Zona Franca   \n",
       "48                         el Raval       269108    Portal de la Pau   \n",
       "49                          el Coll        37000         Beat Almató   \n",
       "\n",
       "   Num_postal_caption Descripcio_dia_setmana Dia_setmana  ... Mes_any  \\\n",
       "0           0353 0355               Dimecres          Dc  ...       1   \n",
       "1           0203 0203               Dimecres          Dc  ...       1   \n",
       "2           0018 0018               Dimecres          Dc  ...       1   \n",
       "3           0002 0002               Dimecres          Dc  ...       1   \n",
       "4           0029 0029               Dimecres          Dc  ...       1   \n",
       "5           0351 0355               Dimecres          Dc  ...       1   \n",
       "6           0456 0456               Dimecres          Dc  ...       1   \n",
       "7          0023A0023A               Dimecres          Dc  ...       1   \n",
       "8           0286 0286               Dimecres          Dc  ...       1   \n",
       "9           0074 0074               Dimecres          Dc  ...       1   \n",
       "10          0450 0454               Dimecres          Dc  ...       1   \n",
       "11          0186 0186               Dimecres          Dc  ...       1   \n",
       "12          0175 0175               Dimecres          Dc  ...       1   \n",
       "13          0087 0087                 Dijous          Dj  ...       1   \n",
       "14          000040000                 Dijous          Dj  ...       1   \n",
       "15          0076 0076               Dimecres          Dc  ...       1   \n",
       "16         0156V0156V                 Dijous          Dj  ...       1   \n",
       "17          0088 0088                 Dijous          Dj  ...       1   \n",
       "18          0085 0085                 Dijous          Dj  ...       1   \n",
       "19         0334B0334B                 Dijous          Dj  ...       1   \n",
       "20          0041 0041                 Dijous          Dj  ...       1   \n",
       "21          0059 0059                 Dijous          Dj  ...       1   \n",
       "22          0600 0600                 Dijous          Dj  ...       1   \n",
       "23          0267 0267                 Dijous          Dj  ...       1   \n",
       "24          0099 0099                 Dijous          Dj  ...       1   \n",
       "25          9999 9999                 Dijous          Dj  ...       1   \n",
       "26          0521 0521                 Dijous          Dj  ...       1   \n",
       "27          0155 0155                 Dijous          Dj  ...       1   \n",
       "28          000160000                 Dijous          Dj  ...       1   \n",
       "29          0024 0024                 Dijous          Dj  ...       1   \n",
       "30         0181X0181X              Divendres          Dv  ...       1   \n",
       "31          0647 0647              Divendres          Dv  ...       1   \n",
       "32          0002 0002              Divendres          Dv  ...       1   \n",
       "33          000540000              Divendres          Dv  ...       1   \n",
       "34          0002 0002              Divendres          Dv  ...       1   \n",
       "35          0320 0322              Divendres          Dv  ...       1   \n",
       "36          0071 0073              Divendres          Dv  ...       1   \n",
       "37         Desconegut              Divendres          Dv  ...       1   \n",
       "38          9999 9999              Divendres          Dv  ...       1   \n",
       "39          9993 9993              Divendres          Dv  ...       1   \n",
       "40          0514 0514              Divendres          Dv  ...       1   \n",
       "41          0067 0067              Divendres          Dv  ...       1   \n",
       "42          0046 0046              Divendres          Dv  ...       1   \n",
       "43          0240 0240              Divendres          Dv  ...       1   \n",
       "44          0245 0247              Divendres          Dv  ...       1   \n",
       "45          0047 0047              Divendres          Dv  ...       1   \n",
       "46          0279 0285              Divendres          Dv  ...       1   \n",
       "47          0001 0005              Divendres          Dv  ...       1   \n",
       "48          0002 0002              Divendres          Dv  ...       1   \n",
       "49          0056 0056               Dissabte          Ds  ...       1   \n",
       "\n",
       "    Nom_mes  Dia_mes Hora_dia  Descripcio_torn   Descripcio_tipus_accident  \\\n",
       "0     Gener        1        0              Nit  Xoc contra element estàtic   \n",
       "1     Gener        1        2              Nit               Atropellament   \n",
       "2     Gener        1        2              Nit           Col.lisió lateral   \n",
       "3     Gener        1        6             Matí  Xoc contra element estàtic   \n",
       "4     Gener        1        4              Nit               Atropellament   \n",
       "5     Gener        1       10             Matí  Xoc contra element estàtic   \n",
       "6     Gener        1       13             Matí    Col.lisió fronto-lateral   \n",
       "7     Gener        1       14            Tarda    Caiguda interior vehicle   \n",
       "8     Gener        1       14            Tarda           Col.lisió lateral   \n",
       "9     Gener        1       18            Tarda    Col.lisió fronto-lateral   \n",
       "10    Gener        1       17            Tarda               Atropellament   \n",
       "11    Gener        1       21            Tarda    Col.lisió fronto-lateral   \n",
       "12    Gener        1       22              Nit               Atropellament   \n",
       "13    Gener        2        0              Nit    Col.lisió fronto-lateral   \n",
       "14    Gener        2        8             Matí           Col.lisió lateral   \n",
       "15    Gener        1       21            Tarda    Col.lisió fronto-lateral   \n",
       "16    Gener        2       12             Matí           Col.lisió lateral   \n",
       "17    Gener        2       14            Tarda           Col.lisió lateral   \n",
       "18    Gener        2       16            Tarda           Col.lisió lateral   \n",
       "19    Gener        2       16            Tarda        Caiguda (dues rodes)   \n",
       "20    Gener        2       16            Tarda                      Altres   \n",
       "21    Gener        2       14            Tarda  Xoc contra element estàtic   \n",
       "22    Gener        2       19            Tarda           Col.lisió lateral   \n",
       "23    Gener        2       16            Tarda           Col.lisió frontal   \n",
       "24    Gener        2       19            Tarda                       Abast   \n",
       "25    Gener        2       19            Tarda        Caiguda (dues rodes)   \n",
       "26    Gener        2       19            Tarda           Col.lisió lateral   \n",
       "27    Gener        2       18            Tarda  Xoc contra element estàtic   \n",
       "28    Gener        2       21            Tarda    Col.lisió fronto-lateral   \n",
       "29    Gener        2       21            Tarda    Col.lisió fronto-lateral   \n",
       "30    Gener        3        6             Matí           Col.lisió lateral   \n",
       "31    Gener        3        8             Matí               Atropellament   \n",
       "32    Gener        3       11             Matí           Col.lisió lateral   \n",
       "33    Gener        3       12             Matí                       Abast   \n",
       "34    Gener        3       12             Matí    Col.lisió fronto-lateral   \n",
       "35    Gener        3       13             Matí              Abast multiple   \n",
       "36    Gener        3       13             Matí        Caiguda (dues rodes)   \n",
       "37    Gener        3       13             Matí    Col.lisió fronto-lateral   \n",
       "38    Gener        3       14            Tarda           Col.lisió lateral   \n",
       "39    Gener        3       15            Tarda           Col.lisió lateral   \n",
       "40    Gener        3       15            Tarda    Col.lisió fronto-lateral   \n",
       "41    Gener        3       16            Tarda           Col.lisió lateral   \n",
       "42    Gener        3       17            Tarda                       Abast   \n",
       "43    Gener        3       16            Tarda                       Abast   \n",
       "44    Gener        3       16            Tarda               Atropellament   \n",
       "45    Gener        3       18            Tarda    Col.lisió fronto-lateral   \n",
       "46    Gener        3       21            Tarda               Atropellament   \n",
       "47    Gener        3       21            Tarda    Col.lisió fronto-lateral   \n",
       "48    Gener        3       21            Tarda    Col.lisió fronto-lateral   \n",
       "49    Gener        4        1              Nit    Col.lisió fronto-lateral   \n",
       "\n",
       "   Coordenada_UTM_X Coordenada_UTM_Y     Longitud    Latitud  \n",
       "0         430501,45       4586751,53  2.167115845  41.427474  \n",
       "1         428225,71       4580279,72  2.140650262  41.368985  \n",
       "2         428532,59       4582672,59  2.144036982  41.390564  \n",
       "3         427929,13       4582767,09  2.136808386  41.391361  \n",
       "4         431157,87       4582598,57  2.175443819  41.390126  \n",
       "5         427018,47       4581015,94  2.126127875  41.375507  \n",
       "6         431931,99       4587522,49  2.184148016  41.434540  \n",
       "7         426049,39       4584165,47  2.114155762  41.403785  \n",
       "8         430435,12       4582966,26  2.166757506  41.393376  \n",
       "9         433207,58       4586347,25  2.199544435  41.424062  \n",
       "10        431930,41       4587485,64  2.184133259  41.434208  \n",
       "11        428132,80       4580116,76  2.139558755  41.367509  \n",
       "12        430312,14       4587069,31  2.164813758  41.430320  \n",
       "13        432495,23       4586217,01  2.191034824  41.422830  \n",
       "14        433346,77       4589084,00  2.200907985  41.448723  \n",
       "15        429316,61       4586333,62  2.152986021  41.423607  \n",
       "16        427981,21       4579963,82  2.137764561  41.366118  \n",
       "17        426893,17       4583918,34  2.124279181  41.401636  \n",
       "18        428358,19       4578917,18  2.142395215  41.356724  \n",
       "19        430530,43       4586772,29  2.167460256  41.427663  \n",
       "20        428886,09       4581486,26  2.148404153  41.379910  \n",
       "21        431008,75       4582322,70  2.173691785  41.387629  \n",
       "22        430291,57       4582229,49  2.165125409  41.386727  \n",
       "23        431556,95       4584619,83   2.17998818  41.408365  \n",
       "24        433025,66       4588976,11  2.197076014  41.447725  \n",
       "25        430201,14       4582101,46  2.164058686  41.385566  \n",
       "26        431622,79       4584356,24  2.180805644  41.405997  \n",
       "27        429325,57       4582322,85  2.153561833  41.387484  \n",
       "28        427269,21       4581410,68  2.129078617  41.379085  \n",
       "29        428772,34       4580594,87  2.147148732  41.371872  \n",
       "30        428120,05       4580176,09  2.139399283  41.368042  \n",
       "31        426117,83       4582064,97  2.115230858  41.384873  \n",
       "32        429346,83       4583589,77  2.153668208  41.398896  \n",
       "33        435063,16       4584821,23  2.221912816  41.410470  \n",
       "34        431855,93       4587772,72  2.183209486  41.436788  \n",
       "35        427013,00       4583581,84  2.125753169  41.398616  \n",
       "36        427963,11       4580979,18  2.137427465  41.375261  \n",
       "37               -1               -1  -1.48857643  -0.000009  \n",
       "38        429171,08       4583079,42  2.151625702  41.394284  \n",
       "39        432910,76       4582300,75  2.196441419  41.387592  \n",
       "40        429312,19       4583180,97  2.153301611  41.395211  \n",
       "41        430875,83       4583386,06  2.171980695  41.397195  \n",
       "42        432785,33       4586796,38  2.194441724  41.428072  \n",
       "43        428871,60       4587569,59  2.147515512  41.434699  \n",
       "44        427512,12       4582072,67  2.131904057  41.385069  \n",
       "45        428729,97       4584520,60  2.146179983  41.407226  \n",
       "46        432125,51       4586182,69  2.186614605  41.422490  \n",
       "47        427665,58       4575955,86  2.134468933  41.329991  \n",
       "48        431229,39       4581076,77  2.176472014  41.376426  \n",
       "49        428943,80       4585730,02   2.14859592  41.418137  \n",
       "\n",
       "[50 rows x 22 columns]"
      ],
      "text/html": "<div>\n<style scoped>\n    .dataframe tbody tr th:only-of-type {\n        vertical-align: middle;\n    }\n\n    .dataframe tbody tr th {\n        vertical-align: top;\n    }\n\n    .dataframe thead th {\n        text-align: right;\n    }\n</style>\n<table border=\"1\" class=\"dataframe\">\n  <thead>\n    <tr style=\"text-align: right;\">\n      <th></th>\n      <th>Numero_expedient</th>\n      <th>Codi_districte</th>\n      <th>Nom_districte</th>\n      <th>Codi_barri</th>\n      <th>Nom_barri</th>\n      <th>Codi_carrer</th>\n      <th>Nom_carrer</th>\n      <th>Num_postal_caption</th>\n      <th>Descripcio_dia_setmana</th>\n      <th>Dia_setmana</th>\n      <th>...</th>\n      <th>Mes_any</th>\n      <th>Nom_mes</th>\n      <th>Dia_mes</th>\n      <th>Hora_dia</th>\n      <th>Descripcio_torn</th>\n      <th>Descripcio_tipus_accident</th>\n      <th>Coordenada_UTM_X</th>\n      <th>Coordenada_UTM_Y</th>\n      <th>Longitud</th>\n      <th>Latitud</th>\n    </tr>\n  </thead>\n  <tbody>\n    <tr>\n      <th>0</th>\n      <td>2020S000001</td>\n      <td>7</td>\n      <td>Horta-Guinardó</td>\n      <td>36</td>\n      <td>la Font d'en Fargues</td>\n      <td>194406</td>\n      <td>Maragall</td>\n      <td>0353 0355</td>\n      <td>Dimecres</td>\n      <td>Dc</td>\n      <td>...</td>\n      <td>1</td>\n      <td>Gener</td>\n      <td>1</td>\n      <td>0</td>\n      <td>Nit</td>\n      <td>Xoc contra element estàtic</td>\n      <td>430501,45</td>\n      <td>4586751,53</td>\n      <td>2.167115845</td>\n      <td>41.427474</td>\n    </tr>\n    <tr>\n      <th>1</th>\n      <td>2020S000002</td>\n      <td>3</td>\n      <td>Sants-Montjuïc</td>\n      <td>16</td>\n      <td>la Bordeta</td>\n      <td>169409</td>\n      <td>Corts Catalanes</td>\n      <td>0203 0203</td>\n      <td>Dimecres</td>\n      <td>Dc</td>\n      <td>...</td>\n      <td>1</td>\n      <td>Gener</td>\n      <td>1</td>\n      <td>2</td>\n      <td>Nit</td>\n      <td>Atropellament</td>\n      <td>428225,71</td>\n      <td>4580279,72</td>\n      <td>2.140650262</td>\n      <td>41.368985</td>\n    </tr>\n    <tr>\n      <th>2</th>\n      <td>2020S000003</td>\n      <td>2</td>\n      <td>Eixample</td>\n      <td>8</td>\n      <td>l'Antiga Esquerra de l'Eixample</td>\n      <td>320704</td>\n      <td>Sarrià</td>\n      <td>0018 0018</td>\n      <td>Dimecres</td>\n      <td>Dc</td>\n      <td>...</td>\n      <td>1</td>\n      <td>Gener</td>\n      <td>1</td>\n      <td>2</td>\n      <td>Nit</td>\n      <td>Col.lisió lateral</td>\n      <td>428532,59</td>\n      <td>4582672,59</td>\n      <td>2.144036982</td>\n      <td>41.390564</td>\n    </tr>\n    <tr>\n      <th>3</th>\n      <td>2020S000004</td>\n      <td>4</td>\n      <td>Les Corts</td>\n      <td>19</td>\n      <td>les Corts</td>\n      <td>101904</td>\n      <td>Doctor Fleming</td>\n      <td>0002 0002</td>\n      <td>Dimecres</td>\n      <td>Dc</td>\n      <td>...</td>\n      <td>1</td>\n      <td>Gener</td>\n      <td>1</td>\n      <td>6</td>\n      <td>Matí</td>\n      <td>Xoc contra element estàtic</td>\n      <td>427929,13</td>\n      <td>4582767,09</td>\n      <td>2.136808386</td>\n      <td>41.391361</td>\n    </tr>\n    <tr>\n      <th>4</th>\n      <td>2020S000005</td>\n      <td>2</td>\n      <td>Eixample</td>\n      <td>7</td>\n      <td>la Dreta de l'Eixample</td>\n      <td>309406</td>\n      <td>Sant Pere</td>\n      <td>0029 0029</td>\n      <td>Dimecres</td>\n      <td>Dc</td>\n      <td>...</td>\n      <td>1</td>\n      <td>Gener</td>\n      <td>1</td>\n      <td>4</td>\n      <td>Nit</td>\n      <td>Atropellament</td>\n      <td>431157,87</td>\n      <td>4582598,57</td>\n      <td>2.175443819</td>\n      <td>41.390126</td>\n    </tr>\n    <tr>\n      <th>5</th>\n      <td>2020S000006</td>\n      <td>3</td>\n      <td>Sants-Montjuïc</td>\n      <td>17</td>\n      <td>Sants - Badal</td>\n      <td>312400</td>\n      <td>Sants</td>\n      <td>0351 0355</td>\n      <td>Dimecres</td>\n      <td>Dc</td>\n      <td>...</td>\n      <td>1</td>\n      <td>Gener</td>\n      <td>1</td>\n      <td>10</td>\n      <td>Matí</td>\n      <td>Xoc contra element estàtic</td>\n      <td>427018,47</td>\n      <td>4581015,94</td>\n      <td>2.126127875</td>\n      <td>41.375507</td>\n    </tr>\n    <tr>\n      <th>6</th>\n      <td>2020S000007</td>\n      <td>9</td>\n      <td>Sant Andreu</td>\n      <td>60</td>\n      <td>Sant Andreu</td>\n      <td>209900</td>\n      <td>Meridiana</td>\n      <td>0456 0456</td>\n      <td>Dimecres</td>\n      <td>Dc</td>\n      <td>...</td>\n      <td>1</td>\n      <td>Gener</td>\n      <td>1</td>\n      <td>13</td>\n      <td>Matí</td>\n      <td>Col.lisió fronto-lateral</td>\n      <td>431931,99</td>\n      <td>4587522,49</td>\n      <td>2.184148016</td>\n      <td>41.434540</td>\n    </tr>\n    <tr>\n      <th>7</th>\n      <td>2020S000008</td>\n      <td>5</td>\n      <td>Sarrià-Sant Gervasi</td>\n      <td>23</td>\n      <td>Sarrià</td>\n      <td>315500</td>\n      <td>Santa Eulàlia</td>\n      <td>0023A0023A</td>\n      <td>Dimecres</td>\n      <td>Dc</td>\n      <td>...</td>\n      <td>1</td>\n      <td>Gener</td>\n      <td>1</td>\n      <td>14</td>\n      <td>Tarda</td>\n      <td>Caiguda interior vehicle</td>\n      <td>426049,39</td>\n      <td>4584165,47</td>\n      <td>2.114155762</td>\n      <td>41.403785</td>\n    </tr>\n    <tr>\n      <th>8</th>\n      <td>2020S000009</td>\n      <td>2</td>\n      <td>Eixample</td>\n      <td>7</td>\n      <td>la Dreta de l'Eixample</td>\n      <td>18505</td>\n      <td>Aragó</td>\n      <td>0286 0286</td>\n      <td>Dimecres</td>\n      <td>Dc</td>\n      <td>...</td>\n      <td>1</td>\n      <td>Gener</td>\n      <td>1</td>\n      <td>14</td>\n      <td>Tarda</td>\n      <td>Col.lisió lateral</td>\n      <td>430435,12</td>\n      <td>4582966,26</td>\n      <td>2.166757506</td>\n      <td>41.393376</td>\n    </tr>\n    <tr>\n      <th>9</th>\n      <td>2020S000010</td>\n      <td>10</td>\n      <td>Sant Martí</td>\n      <td>73</td>\n      <td>la Verneda i la Pau</td>\n      <td>60807</td>\n      <td>Cantàbria</td>\n      <td>0074 0074</td>\n      <td>Dimecres</td>\n      <td>Dc</td>\n      <td>...</td>\n      <td>1</td>\n      <td>Gener</td>\n      <td>1</td>\n      <td>18</td>\n      <td>Tarda</td>\n      <td>Col.lisió fronto-lateral</td>\n      <td>433207,58</td>\n      <td>4586347,25</td>\n      <td>2.199544435</td>\n      <td>41.424062</td>\n    </tr>\n    <tr>\n      <th>10</th>\n      <td>2020S000011</td>\n      <td>9</td>\n      <td>Sant Andreu</td>\n      <td>60</td>\n      <td>Sant Andreu</td>\n      <td>209900</td>\n      <td>Meridiana</td>\n      <td>0450 0454</td>\n      <td>Dimecres</td>\n      <td>Dc</td>\n      <td>...</td>\n      <td>1</td>\n      <td>Gener</td>\n      <td>1</td>\n      <td>17</td>\n      <td>Tarda</td>\n      <td>Atropellament</td>\n      <td>431930,41</td>\n      <td>4587485,64</td>\n      <td>2.184133259</td>\n      <td>41.434208</td>\n    </tr>\n    <tr>\n      <th>11</th>\n      <td>2020S000012</td>\n      <td>3</td>\n      <td>Sants-Montjuïc</td>\n      <td>13</td>\n      <td>la Marina de Port</td>\n      <td>169409</td>\n      <td>Corts Catalanes</td>\n      <td>0186 0186</td>\n      <td>Dimecres</td>\n      <td>Dc</td>\n      <td>...</td>\n      <td>1</td>\n      <td>Gener</td>\n      <td>1</td>\n      <td>21</td>\n      <td>Tarda</td>\n      <td>Col.lisió fronto-lateral</td>\n      <td>428132,80</td>\n      <td>4580116,76</td>\n      <td>2.139558755</td>\n      <td>41.367509</td>\n    </tr>\n    <tr>\n      <th>12</th>\n      <td>2020S000013</td>\n      <td>7</td>\n      <td>Horta-Guinardó</td>\n      <td>43</td>\n      <td>Horta</td>\n      <td>69109</td>\n      <td>Cartellà</td>\n      <td>0175 0175</td>\n      <td>Dimecres</td>\n      <td>Dc</td>\n      <td>...</td>\n      <td>1</td>\n      <td>Gener</td>\n      <td>1</td>\n      <td>22</td>\n      <td>Nit</td>\n      <td>Atropellament</td>\n      <td>430312,14</td>\n      <td>4587069,31</td>\n      <td>2.164813758</td>\n      <td>41.430320</td>\n    </tr>\n    <tr>\n      <th>13</th>\n      <td>2020S000014</td>\n      <td>9</td>\n      <td>Sant Andreu</td>\n      <td>61</td>\n      <td>la Sagrera</td>\n      <td>292507</td>\n      <td>Gran de la Sagrera</td>\n      <td>0087 0087</td>\n      <td>Dijous</td>\n      <td>Dj</td>\n      <td>...</td>\n      <td>1</td>\n      <td>Gener</td>\n      <td>2</td>\n      <td>0</td>\n      <td>Nit</td>\n      <td>Col.lisió fronto-lateral</td>\n      <td>432495,23</td>\n      <td>4586217,01</td>\n      <td>2.191034824</td>\n      <td>41.422830</td>\n    </tr>\n    <tr>\n      <th>14</th>\n      <td>2020S000015</td>\n      <td>9</td>\n      <td>Sant Andreu</td>\n      <td>58</td>\n      <td>Baró de Viver</td>\n      <td>701497</td>\n      <td>B-10 (Llobregat)</td>\n      <td>000040000</td>\n      <td>Dijous</td>\n      <td>Dj</td>\n      <td>...</td>\n      <td>1</td>\n      <td>Gener</td>\n      <td>2</td>\n      <td>8</td>\n      <td>Matí</td>\n      <td>Col.lisió lateral</td>\n      <td>433346,77</td>\n      <td>4589084,00</td>\n      <td>2.200907985</td>\n      <td>41.448723</td>\n    </tr>\n    <tr>\n      <th>15</th>\n      <td>2020S000016</td>\n      <td>7</td>\n      <td>Horta-Guinardó</td>\n      <td>37</td>\n      <td>el Carmel</td>\n      <td>325504</td>\n      <td>Sigüenza</td>\n      <td>0076 0076</td>\n      <td>Dimecres</td>\n      <td>Dc</td>\n      <td>...</td>\n      <td>1</td>\n      <td>Gener</td>\n      <td>1</td>\n      <td>21</td>\n      <td>Tarda</td>\n      <td>Col.lisió fronto-lateral</td>\n      <td>429316,61</td>\n      <td>4586333,62</td>\n      <td>2.152986021</td>\n      <td>41.423607</td>\n    </tr>\n    <tr>\n      <th>16</th>\n      <td>2020S000017</td>\n      <td>3</td>\n      <td>Sants-Montjuïc</td>\n      <td>13</td>\n      <td>la Marina de Port</td>\n      <td>169409</td>\n      <td>Corts Catalanes</td>\n      <td>0156V0156V</td>\n      <td>Dijous</td>\n      <td>Dj</td>\n      <td>...</td>\n      <td>1</td>\n      <td>Gener</td>\n      <td>2</td>\n      <td>12</td>\n      <td>Matí</td>\n      <td>Col.lisió lateral</td>\n      <td>427981,21</td>\n      <td>4579963,82</td>\n      <td>2.137764561</td>\n      <td>41.366118</td>\n    </tr>\n    <tr>\n      <th>17</th>\n      <td>2020S000018</td>\n      <td>5</td>\n      <td>Sarrià-Sant Gervasi</td>\n      <td>23</td>\n      <td>Sarrià</td>\n      <td>44709</td>\n      <td>Bonanova</td>\n      <td>0088 0088</td>\n      <td>Dijous</td>\n      <td>Dj</td>\n      <td>...</td>\n      <td>1</td>\n      <td>Gener</td>\n      <td>2</td>\n      <td>14</td>\n      <td>Tarda</td>\n      <td>Col.lisió lateral</td>\n      <td>426893,17</td>\n      <td>4583918,34</td>\n      <td>2.124279181</td>\n      <td>41.401636</td>\n    </tr>\n    <tr>\n      <th>18</th>\n      <td>2020S000019</td>\n      <td>3</td>\n      <td>Sants-Montjuïc</td>\n      <td>13</td>\n      <td>la Marina de Port</td>\n      <td>135203</td>\n      <td>Foc</td>\n      <td>0085 0085</td>\n      <td>Dijous</td>\n      <td>Dj</td>\n      <td>...</td>\n      <td>1</td>\n      <td>Gener</td>\n      <td>2</td>\n      <td>16</td>\n      <td>Tarda</td>\n      <td>Col.lisió lateral</td>\n      <td>428358,19</td>\n      <td>4578917,18</td>\n      <td>2.142395215</td>\n      <td>41.356724</td>\n    </tr>\n    <tr>\n      <th>19</th>\n      <td>2020S000020</td>\n      <td>8</td>\n      <td>Nou Barris</td>\n      <td>44</td>\n      <td>Vilapicina i la Torre Llobeta</td>\n      <td>194406</td>\n      <td>Maragall</td>\n      <td>0334B0334B</td>\n      <td>Dijous</td>\n      <td>Dj</td>\n      <td>...</td>\n      <td>1</td>\n      <td>Gener</td>\n      <td>2</td>\n      <td>16</td>\n      <td>Tarda</td>\n      <td>Caiguda (dues rodes)</td>\n      <td>430530,43</td>\n      <td>4586772,29</td>\n      <td>2.167460256</td>\n      <td>41.427663</td>\n    </tr>\n    <tr>\n      <th>20</th>\n      <td>2020S000021</td>\n      <td>2</td>\n      <td>Eixample</td>\n      <td>9</td>\n      <td>la Nova Esquerra de l'Eixample</td>\n      <td>18505</td>\n      <td>Aragó</td>\n      <td>0041 0041</td>\n      <td>Dijous</td>\n      <td>Dj</td>\n      <td>...</td>\n      <td>1</td>\n      <td>Gener</td>\n      <td>2</td>\n      <td>16</td>\n      <td>Tarda</td>\n      <td>Altres</td>\n      <td>428886,09</td>\n      <td>4581486,26</td>\n      <td>2.148404153</td>\n      <td>41.379910</td>\n    </tr>\n    <tr>\n      <th>21</th>\n      <td>2020S000022</td>\n      <td>1</td>\n      <td>Ciutat Vella</td>\n      <td>2</td>\n      <td>el Barri Gòtic</td>\n      <td>177101</td>\n      <td>Laietana</td>\n      <td>0059 0059</td>\n      <td>Dijous</td>\n      <td>Dj</td>\n      <td>...</td>\n      <td>1</td>\n      <td>Gener</td>\n      <td>2</td>\n      <td>14</td>\n      <td>Tarda</td>\n      <td>Xoc contra element estàtic</td>\n      <td>431008,75</td>\n      <td>4582322,70</td>\n      <td>2.173691785</td>\n      <td>41.387629</td>\n    </tr>\n    <tr>\n      <th>22</th>\n      <td>2020S000023</td>\n      <td>2</td>\n      <td>Eixample</td>\n      <td>7</td>\n      <td>la Dreta de l'Eixample</td>\n      <td>169409</td>\n      <td>Corts Catalanes</td>\n      <td>0600 0600</td>\n      <td>Dijous</td>\n      <td>Dj</td>\n      <td>...</td>\n      <td>1</td>\n      <td>Gener</td>\n      <td>2</td>\n      <td>19</td>\n      <td>Tarda</td>\n      <td>Col.lisió lateral</td>\n      <td>430291,57</td>\n      <td>4582229,49</td>\n      <td>2.165125409</td>\n      <td>41.386727</td>\n    </tr>\n    <tr>\n      <th>23</th>\n      <td>2020S000024</td>\n      <td>2</td>\n      <td>Eixample</td>\n      <td>6</td>\n      <td>la Sagrada Família</td>\n      <td>105304</td>\n      <td>Dos de Maig</td>\n      <td>0267 0267</td>\n      <td>Dijous</td>\n      <td>Dj</td>\n      <td>...</td>\n      <td>1</td>\n      <td>Gener</td>\n      <td>2</td>\n      <td>16</td>\n      <td>Tarda</td>\n      <td>Col.lisió frontal</td>\n      <td>431556,95</td>\n      <td>4584619,83</td>\n      <td>2.17998818</td>\n      <td>41.408365</td>\n    </tr>\n    <tr>\n      <th>24</th>\n      <td>2020S000025</td>\n      <td>9</td>\n      <td>Sant Andreu</td>\n      <td>57</td>\n      <td>la Trinitat Vella</td>\n      <td>314100</td>\n      <td>Santa Coloma</td>\n      <td>0099 0099</td>\n      <td>Dijous</td>\n      <td>Dj</td>\n      <td>...</td>\n      <td>1</td>\n      <td>Gener</td>\n      <td>2</td>\n      <td>19</td>\n      <td>Tarda</td>\n      <td>Abast</td>\n      <td>433025,66</td>\n      <td>4588976,11</td>\n      <td>2.197076014</td>\n      <td>41.447725</td>\n    </tr>\n    <tr>\n      <th>25</th>\n      <td>2020S000026</td>\n      <td>2</td>\n      <td>Eixample</td>\n      <td>10</td>\n      <td>Sant Antoni</td>\n      <td>349207</td>\n      <td>Universitat</td>\n      <td>9999 9999</td>\n      <td>Dijous</td>\n      <td>Dj</td>\n      <td>...</td>\n      <td>1</td>\n      <td>Gener</td>\n      <td>2</td>\n      <td>19</td>\n      <td>Tarda</td>\n      <td>Caiguda (dues rodes)</td>\n      <td>430201,14</td>\n      <td>4582101,46</td>\n      <td>2.164058686</td>\n      <td>41.385566</td>\n    </tr>\n    <tr>\n      <th>26</th>\n      <td>2020S000027</td>\n      <td>2</td>\n      <td>Eixample</td>\n      <td>6</td>\n      <td>la Sagrada Família</td>\n      <td>350308</td>\n      <td>València</td>\n      <td>0521 0521</td>\n      <td>Dijous</td>\n      <td>Dj</td>\n      <td>...</td>\n      <td>1</td>\n      <td>Gener</td>\n      <td>2</td>\n      <td>19</td>\n      <td>Tarda</td>\n      <td>Col.lisió lateral</td>\n      <td>431622,79</td>\n      <td>4584356,24</td>\n      <td>2.180805644</td>\n      <td>41.405997</td>\n    </tr>\n    <tr>\n      <th>27</th>\n      <td>2020S000028</td>\n      <td>2</td>\n      <td>Eixample</td>\n      <td>8</td>\n      <td>l'Antiga Esquerra de l'Eixample</td>\n      <td>363809</td>\n      <td>Villarroel</td>\n      <td>0155 0155</td>\n      <td>Dijous</td>\n      <td>Dj</td>\n      <td>...</td>\n      <td>1</td>\n      <td>Gener</td>\n      <td>2</td>\n      <td>18</td>\n      <td>Tarda</td>\n      <td>Xoc contra element estàtic</td>\n      <td>429325,57</td>\n      <td>4582322,85</td>\n      <td>2.153561833</td>\n      <td>41.387484</td>\n    </tr>\n    <tr>\n      <th>28</th>\n      <td>2020S000029</td>\n      <td>3</td>\n      <td>Sants-Montjuïc</td>\n      <td>17</td>\n      <td>Sants - Badal</td>\n      <td>701434</td>\n      <td>Mig (Descendent)</td>\n      <td>000160000</td>\n      <td>Dijous</td>\n      <td>Dj</td>\n      <td>...</td>\n      <td>1</td>\n      <td>Gener</td>\n      <td>2</td>\n      <td>21</td>\n      <td>Tarda</td>\n      <td>Col.lisió fronto-lateral</td>\n      <td>427269,21</td>\n      <td>4581410,68</td>\n      <td>2.129078617</td>\n      <td>41.379085</td>\n    </tr>\n    <tr>\n      <th>29</th>\n      <td>2020S000030</td>\n      <td>3</td>\n      <td>Sants-Montjuïc</td>\n      <td>14</td>\n      <td>la Font de la Guatlla</td>\n      <td>301608</td>\n      <td>Sant Fructuós</td>\n      <td>0024 0024</td>\n      <td>Dijous</td>\n      <td>Dj</td>\n      <td>...</td>\n      <td>1</td>\n      <td>Gener</td>\n      <td>2</td>\n      <td>21</td>\n      <td>Tarda</td>\n      <td>Col.lisió fronto-lateral</td>\n      <td>428772,34</td>\n      <td>4580594,87</td>\n      <td>2.147148732</td>\n      <td>41.371872</td>\n    </tr>\n    <tr>\n      <th>30</th>\n      <td>2020S000031</td>\n      <td>3</td>\n      <td>Sants-Montjuïc</td>\n      <td>16</td>\n      <td>la Bordeta</td>\n      <td>169409</td>\n      <td>Corts Catalanes</td>\n      <td>0181X0181X</td>\n      <td>Divendres</td>\n      <td>Dv</td>\n      <td>...</td>\n      <td>1</td>\n      <td>Gener</td>\n      <td>3</td>\n      <td>6</td>\n      <td>Matí</td>\n      <td>Col.lisió lateral</td>\n      <td>428120,05</td>\n      <td>4580176,09</td>\n      <td>2.139399283</td>\n      <td>41.368042</td>\n    </tr>\n    <tr>\n      <th>31</th>\n      <td>2020S000032</td>\n      <td>4</td>\n      <td>Les Corts</td>\n      <td>20</td>\n      <td>la Maternitat i Sant Ramon</td>\n      <td>144601</td>\n      <td>Diagonal</td>\n      <td>0647 0647</td>\n      <td>Divendres</td>\n      <td>Dv</td>\n      <td>...</td>\n      <td>1</td>\n      <td>Gener</td>\n      <td>3</td>\n      <td>8</td>\n      <td>Matí</td>\n      <td>Atropellament</td>\n      <td>426117,83</td>\n      <td>4582064,97</td>\n      <td>2.115230858</td>\n      <td>41.384873</td>\n    </tr>\n    <tr>\n      <th>32</th>\n      <td>2020S000033</td>\n      <td>6</td>\n      <td>Gràcia</td>\n      <td>31</td>\n      <td>la Vila de Gràcia</td>\n      <td>138405</td>\n      <td>Gal·la Placídia</td>\n      <td>0002 0002</td>\n      <td>Divendres</td>\n      <td>Dv</td>\n      <td>...</td>\n      <td>1</td>\n      <td>Gener</td>\n      <td>3</td>\n      <td>11</td>\n      <td>Matí</td>\n      <td>Col.lisió lateral</td>\n      <td>429346,83</td>\n      <td>4583589,77</td>\n      <td>2.153668208</td>\n      <td>41.398896</td>\n    </tr>\n    <tr>\n      <th>33</th>\n      <td>2020S000034</td>\n      <td>10</td>\n      <td>Sant Martí</td>\n      <td>70</td>\n      <td>el Besòs i el Maresme</td>\n      <td>701265</td>\n      <td>Litoral (Besòs)</td>\n      <td>000540000</td>\n      <td>Divendres</td>\n      <td>Dv</td>\n      <td>...</td>\n      <td>1</td>\n      <td>Gener</td>\n      <td>3</td>\n      <td>12</td>\n      <td>Matí</td>\n      <td>Abast</td>\n      <td>435063,16</td>\n      <td>4584821,23</td>\n      <td>2.221912816</td>\n      <td>41.410470</td>\n    </tr>\n    <tr>\n      <th>34</th>\n      <td>2020S000035</td>\n      <td>8</td>\n      <td>Nou Barris</td>\n      <td>45</td>\n      <td>Porta</td>\n      <td>289852</td>\n      <td>Rosselló i Porcel</td>\n      <td>0002 0002</td>\n      <td>Divendres</td>\n      <td>Dv</td>\n      <td>...</td>\n      <td>1</td>\n      <td>Gener</td>\n      <td>3</td>\n      <td>12</td>\n      <td>Matí</td>\n      <td>Col.lisió fronto-lateral</td>\n      <td>431855,93</td>\n      <td>4587772,72</td>\n      <td>2.183209486</td>\n      <td>41.436788</td>\n    </tr>\n    <tr>\n      <th>35</th>\n      <td>2020S000036</td>\n      <td>5</td>\n      <td>Sarrià-Sant Gervasi</td>\n      <td>24</td>\n      <td>les Tres Torres</td>\n      <td>28000</td>\n      <td>Augusta</td>\n      <td>0320 0322</td>\n      <td>Divendres</td>\n      <td>Dv</td>\n      <td>...</td>\n      <td>1</td>\n      <td>Gener</td>\n      <td>3</td>\n      <td>13</td>\n      <td>Matí</td>\n      <td>Abast multiple</td>\n      <td>427013,00</td>\n      <td>4583581,84</td>\n      <td>2.125753169</td>\n      <td>41.398616</td>\n    </tr>\n    <tr>\n      <th>36</th>\n      <td>2020S000037</td>\n      <td>3</td>\n      <td>Sants-Montjuïc</td>\n      <td>18</td>\n      <td>Sants</td>\n      <td>312400</td>\n      <td>Sants</td>\n      <td>0071 0073</td>\n      <td>Divendres</td>\n      <td>Dv</td>\n      <td>...</td>\n      <td>1</td>\n      <td>Gener</td>\n      <td>3</td>\n      <td>13</td>\n      <td>Matí</td>\n      <td>Caiguda (dues rodes)</td>\n      <td>427963,11</td>\n      <td>4580979,18</td>\n      <td>2.137427465</td>\n      <td>41.375261</td>\n    </tr>\n    <tr>\n      <th>37</th>\n      <td>2020S000038</td>\n      <td>-1</td>\n      <td>Desconegut</td>\n      <td>-1</td>\n      <td>Desconegut</td>\n      <td>-1</td>\n      <td>Desconegut</td>\n      <td>Desconegut</td>\n      <td>Divendres</td>\n      <td>Dv</td>\n      <td>...</td>\n      <td>1</td>\n      <td>Gener</td>\n      <td>3</td>\n      <td>13</td>\n      <td>Matí</td>\n      <td>Col.lisió fronto-lateral</td>\n      <td>-1</td>\n      <td>-1</td>\n      <td>-1.48857643</td>\n      <td>-0.000009</td>\n    </tr>\n    <tr>\n      <th>38</th>\n      <td>2020S000039</td>\n      <td>2</td>\n      <td>Eixample</td>\n      <td>8</td>\n      <td>l'Antiga Esquerra de l'Eixample</td>\n      <td>23403</td>\n      <td>Aribau</td>\n      <td>9999 9999</td>\n      <td>Divendres</td>\n      <td>Dv</td>\n      <td>...</td>\n      <td>1</td>\n      <td>Gener</td>\n      <td>3</td>\n      <td>14</td>\n      <td>Tarda</td>\n      <td>Col.lisió lateral</td>\n      <td>429171,08</td>\n      <td>4583079,42</td>\n      <td>2.151625702</td>\n      <td>41.394284</td>\n    </tr>\n    <tr>\n      <th>39</th>\n      <td>2020S000040</td>\n      <td>10</td>\n      <td>Sant Martí</td>\n      <td>67</td>\n      <td>la Vila Olímpica del Poblenou</td>\n      <td>700654</td>\n      <td>Litoral</td>\n      <td>9993 9993</td>\n      <td>Divendres</td>\n      <td>Dv</td>\n      <td>...</td>\n      <td>1</td>\n      <td>Gener</td>\n      <td>3</td>\n      <td>15</td>\n      <td>Tarda</td>\n      <td>Col.lisió lateral</td>\n      <td>432910,76</td>\n      <td>4582300,75</td>\n      <td>2.196441419</td>\n      <td>41.387592</td>\n    </tr>\n    <tr>\n      <th>40</th>\n      <td>2020S000041</td>\n      <td>5</td>\n      <td>Sarrià-Sant Gervasi</td>\n      <td>26</td>\n      <td>Sant Gervasi - Galvany</td>\n      <td>144601</td>\n      <td>Diagonal</td>\n      <td>0514 0514</td>\n      <td>Divendres</td>\n      <td>Dv</td>\n      <td>...</td>\n      <td>1</td>\n      <td>Gener</td>\n      <td>3</td>\n      <td>15</td>\n      <td>Tarda</td>\n      <td>Col.lisió fronto-lateral</td>\n      <td>429312,19</td>\n      <td>4583180,97</td>\n      <td>2.153301611</td>\n      <td>41.395211</td>\n    </tr>\n    <tr>\n      <th>41</th>\n      <td>2020S000042</td>\n      <td>2</td>\n      <td>Eixample</td>\n      <td>7</td>\n      <td>la Dreta de l'Eixample</td>\n      <td>305100</td>\n      <td>Sant Joan</td>\n      <td>0067 0067</td>\n      <td>Divendres</td>\n      <td>Dv</td>\n      <td>...</td>\n      <td>1</td>\n      <td>Gener</td>\n      <td>3</td>\n      <td>16</td>\n      <td>Tarda</td>\n      <td>Col.lisió lateral</td>\n      <td>430875,83</td>\n      <td>4583386,06</td>\n      <td>2.171980695</td>\n      <td>41.397195</td>\n    </tr>\n    <tr>\n      <th>42</th>\n      <td>2020S000043</td>\n      <td>9</td>\n      <td>Sant Andreu</td>\n      <td>60</td>\n      <td>Sant Andreu</td>\n      <td>239300</td>\n      <td>Pare Manyanet</td>\n      <td>0046 0046</td>\n      <td>Divendres</td>\n      <td>Dv</td>\n      <td>...</td>\n      <td>1</td>\n      <td>Gener</td>\n      <td>3</td>\n      <td>17</td>\n      <td>Tarda</td>\n      <td>Abast</td>\n      <td>432785,33</td>\n      <td>4586796,38</td>\n      <td>2.194441724</td>\n      <td>41.428072</td>\n    </tr>\n    <tr>\n      <th>43</th>\n      <td>2020S000044</td>\n      <td>7</td>\n      <td>Horta-Guinardó</td>\n      <td>41</td>\n      <td>la Vall d'Hebron</td>\n      <td>352507</td>\n      <td>Vall d'Hebron</td>\n      <td>0240 0240</td>\n      <td>Divendres</td>\n      <td>Dv</td>\n      <td>...</td>\n      <td>1</td>\n      <td>Gener</td>\n      <td>3</td>\n      <td>16</td>\n      <td>Tarda</td>\n      <td>Abast</td>\n      <td>428871,60</td>\n      <td>4587569,59</td>\n      <td>2.147515512</td>\n      <td>41.434699</td>\n    </tr>\n    <tr>\n      <th>44</th>\n      <td>2020S000045</td>\n      <td>4</td>\n      <td>Les Corts</td>\n      <td>19</td>\n      <td>les Corts</td>\n      <td>343903</td>\n      <td>Corts</td>\n      <td>0245 0247</td>\n      <td>Divendres</td>\n      <td>Dv</td>\n      <td>...</td>\n      <td>1</td>\n      <td>Gener</td>\n      <td>3</td>\n      <td>16</td>\n      <td>Tarda</td>\n      <td>Atropellament</td>\n      <td>427512,12</td>\n      <td>4582072,67</td>\n      <td>2.131904057</td>\n      <td>41.385069</td>\n    </tr>\n    <tr>\n      <th>45</th>\n      <td>2020S000046</td>\n      <td>5</td>\n      <td>Sarrià-Sant Gervasi</td>\n      <td>27</td>\n      <td>el Putxet i el Farró</td>\n      <td>33509</td>\n      <td>Ballester</td>\n      <td>0047 0047</td>\n      <td>Divendres</td>\n      <td>Dv</td>\n      <td>...</td>\n      <td>1</td>\n      <td>Gener</td>\n      <td>3</td>\n      <td>18</td>\n      <td>Tarda</td>\n      <td>Col.lisió fronto-lateral</td>\n      <td>428729,97</td>\n      <td>4584520,60</td>\n      <td>2.146179983</td>\n      <td>41.407226</td>\n    </tr>\n    <tr>\n      <th>46</th>\n      <td>2020S000047</td>\n      <td>9</td>\n      <td>Sant Andreu</td>\n      <td>61</td>\n      <td>la Sagrera</td>\n      <td>209900</td>\n      <td>Meridiana</td>\n      <td>0279 0285</td>\n      <td>Divendres</td>\n      <td>Dv</td>\n      <td>...</td>\n      <td>1</td>\n      <td>Gener</td>\n      <td>3</td>\n      <td>21</td>\n      <td>Tarda</td>\n      <td>Atropellament</td>\n      <td>432125,51</td>\n      <td>4586182,69</td>\n      <td>2.186614605</td>\n      <td>41.422490</td>\n    </tr>\n    <tr>\n      <th>47</th>\n      <td>2020S000048</td>\n      <td>3</td>\n      <td>Sants-Montjuïc</td>\n      <td>12</td>\n      <td>la Marina del Prat Vermell</td>\n      <td>30089</td>\n      <td>B Zona Franca</td>\n      <td>0001 0005</td>\n      <td>Divendres</td>\n      <td>Dv</td>\n      <td>...</td>\n      <td>1</td>\n      <td>Gener</td>\n      <td>3</td>\n      <td>21</td>\n      <td>Tarda</td>\n      <td>Col.lisió fronto-lateral</td>\n      <td>427665,58</td>\n      <td>4575955,86</td>\n      <td>2.134468933</td>\n      <td>41.329991</td>\n    </tr>\n    <tr>\n      <th>48</th>\n      <td>2020S000049</td>\n      <td>1</td>\n      <td>Ciutat Vella</td>\n      <td>1</td>\n      <td>el Raval</td>\n      <td>269108</td>\n      <td>Portal de la Pau</td>\n      <td>0002 0002</td>\n      <td>Divendres</td>\n      <td>Dv</td>\n      <td>...</td>\n      <td>1</td>\n      <td>Gener</td>\n      <td>3</td>\n      <td>21</td>\n      <td>Tarda</td>\n      <td>Col.lisió fronto-lateral</td>\n      <td>431229,39</td>\n      <td>4581076,77</td>\n      <td>2.176472014</td>\n      <td>41.376426</td>\n    </tr>\n    <tr>\n      <th>49</th>\n      <td>2020S000050</td>\n      <td>6</td>\n      <td>Gràcia</td>\n      <td>29</td>\n      <td>el Coll</td>\n      <td>37000</td>\n      <td>Beat Almató</td>\n      <td>0056 0056</td>\n      <td>Dissabte</td>\n      <td>Ds</td>\n      <td>...</td>\n      <td>1</td>\n      <td>Gener</td>\n      <td>4</td>\n      <td>1</td>\n      <td>Nit</td>\n      <td>Col.lisió fronto-lateral</td>\n      <td>428943,80</td>\n      <td>4585730,02</td>\n      <td>2.14859592</td>\n      <td>41.418137</td>\n    </tr>\n  </tbody>\n</table>\n<p>50 rows × 22 columns</p>\n</div>"
     },
     "metadata": {},
     "execution_count": 17
    }
   ],
   "source": [
    "lista_df_tipo[9].head(50)"
   ]
  },
  {
   "cell_type": "code",
   "execution_count": null,
   "metadata": {},
   "outputs": [],
   "source": [
    "enlistar_dataframes_tipo()"
   ]
  },
  {
   "cell_type": "code",
   "execution_count": null,
   "metadata": {},
   "outputs": [],
   "source": [
    "'''\n",
    "def enlistar_dataframes_tipos():\n",
    "    global lista_df_tipos\n",
    "    lista_df_tipos = []\n",
    "    for i in range(11,21):\n",
    "        try:\n",
    "            a = pd.read_csv('20'+str(i)+'/20'+str(i)+'_ACCIDENTS_TIPUS_GU_BCN_20'+str(i)+'-utf8.csv')\n",
    "            if any(a.iloc[:,6].str.contains('¢')):\n",
    "                a = pd.read_excel('20'+str(i)+'/20'+str(i)+'_ACCIDENTS_TIPUS_GU_BCN_20'+str(i)+'.xlsx')\n",
    "        except:\n",
    "            a = pd.read_csv('20'+str(i)+'/20'+str(i)+'_ACCIDENTS_TIPUS_GU_BCN_20'+str(i)+'-utf8.csv', sep=';')\n",
    "        lista_df_tipos.append(a)\n",
    "    return lista_df_tipos\n",
    "    '''"
   ]
  },
  {
   "cell_type": "code",
   "execution_count": null,
   "metadata": {},
   "outputs": [],
   "source": [
    "enlistar_dataframes_tipos()"
   ]
  },
  {
   "cell_type": "code",
   "execution_count": null,
   "metadata": {},
   "outputs": [],
   "source": [
    "a = pd.read_csv('2018/2018_ACCIDENTS_TIPUS_GU_BCN_2018-utf8.csv')\n",
    "a"
   ]
  },
  {
   "cell_type": "code",
   "execution_count": null,
   "metadata": {},
   "outputs": [],
   "source": [
    "lista_df_tipos[7]"
   ]
  },
  {
   "cell_type": "code",
   "execution_count": null,
   "metadata": {},
   "outputs": [],
   "source": [
    "enlistar_dataframes()"
   ]
  },
  {
   "cell_type": "code",
   "execution_count": null,
   "metadata": {},
   "outputs": [],
   "source": [
    "for i in range(10,21):\n",
    "    try:\n",
    "        accidentes_gu_2010 = pd.read_csv('20'+str(i)+'/20'+str(i)+'_ACCIDENTS_TIPUS_GU_BCN_20'+str(i)+'.csv')\n",
    "    except:\n",
    "        accidentes_gu_2010 = pd.read_csv('20'+str(i)+'/20'+str(i)+'_ACCIDENTS_TIPUS_GU_BCN_20'+str(i)+'.csv', sep=';')\n",
    "    print(accidentes_gu_2010.shape[1])"
   ]
  },
  {
   "cell_type": "code",
   "execution_count": null,
   "metadata": {},
   "outputs": [],
   "source": [
    "accidentes_gu_2010 = pd.read_csv('2010/2010_ACCIDENTS_TIPUS_GU_BCN_2010.csv')"
   ]
  },
  {
   "cell_type": "code",
   "execution_count": null,
   "metadata": {},
   "outputs": [],
   "source": [
    "accidentes_gu_2011 = pd.read_csv('2011/2011_ACCIDENTS_TIPUS_GU_BCN_2011.csv')"
   ]
  },
  {
   "cell_type": "code",
   "execution_count": null,
   "metadata": {},
   "outputs": [],
   "source": [
    "accidentes_gu_2012 = pd.read_csv('2012/2012_ACCIDENTS_TIPUS_GU_BCN_2012.csv')"
   ]
  },
  {
   "cell_type": "code",
   "execution_count": null,
   "metadata": {},
   "outputs": [],
   "source": [
    "accidentes_gu_2013 = pd.read_csv('2013/2013_ACCIDENTS_TIPUS_GU_BCN_2013.csv')"
   ]
  },
  {
   "cell_type": "code",
   "execution_count": null,
   "metadata": {},
   "outputs": [],
   "source": [
    "accidentes_gu_2014 = pd.read_csv('2014/2014_ACCIDENTS_TIPUS_GU_BCN_2014.csv')"
   ]
  },
  {
   "cell_type": "code",
   "execution_count": null,
   "metadata": {},
   "outputs": [],
   "source": [
    "accidentes_gu_2015 = pd.read_csv('2015/2015_ACCIDENTS_TIPUS_GU_BCN_2015.csv')"
   ]
  },
  {
   "cell_type": "code",
   "execution_count": null,
   "metadata": {},
   "outputs": [],
   "source": [
    "accidentes_gu_2016 = pd.read_csv('2016/2016_ACCIDENTS_TIPUS_GU_BCN_2016.csv')"
   ]
  },
  {
   "cell_type": "code",
   "execution_count": null,
   "metadata": {},
   "outputs": [],
   "source": [
    "accidentes_gu_2017 = pd.read_csv('2017/2017_ACCIDENTS_TIPUS_GU_BCN_2017.csv')"
   ]
  },
  {
   "cell_type": "code",
   "execution_count": null,
   "metadata": {},
   "outputs": [],
   "source": [
    "accidentes_gu_2018 = pd.read_csv('2018/2018_ACCIDENTS_TIPUS_GU_BCN_2018.csv')\n",
    "accidentes_gu_2018"
   ]
  },
  {
   "cell_type": "code",
   "execution_count": null,
   "metadata": {},
   "outputs": [],
   "source": [
    "accidentes_tipo_2019 = pd.read_csv('2019/2019_ACCIDENTS_TIPUS_GU_BCN_2019.csv')\n",
    "accidentes_tipo_2019"
   ]
  },
  {
   "cell_type": "code",
   "execution_count": null,
   "metadata": {},
   "outputs": [],
   "source": [
    "accidentes_tipo_2020 = pd.read_csv('2020/2020_ACCIDENTS_TIPUS_GU_BCN_2020_2.csv', sep=';')\n",
    "accidentes_tipo_2020"
   ]
  },
  {
   "cell_type": "code",
   "execution_count": null,
   "metadata": {},
   "outputs": [],
   "source": [
    "# ERROR AL LEER CSV\n",
    "# Error tokenizing data. C error: Expected 3 fields in line 66, saw 4\n",
    "accidentes_tipo_2020 = pd.read_csv('2020/2020_ACCIDENTS_TIPUS_GU_BCN_2020_fila66.csv', error_bad_lines = False, engine = 'python')\n",
    "pd.concat([df[[0]], df[1].str.split(', ', expand=True)], axis=1)\n",
    "accidentes_tipo_2020"
   ]
  },
  {
   "cell_type": "code",
   "execution_count": null,
   "metadata": {},
   "outputs": [],
   "source": [
    "# BUSQUEDA DE SOLUCION A ARCHIVO QUE NO SE ABRE\n",
    "\n",
    "accidentes_gu_2015_excel = pd.read_excel('2015/2015_ACCIDENTS_GU_BCN_2015.xlsx')\n",
    "accidentes_gu_2015_excel"
   ]
  }
 ]
}