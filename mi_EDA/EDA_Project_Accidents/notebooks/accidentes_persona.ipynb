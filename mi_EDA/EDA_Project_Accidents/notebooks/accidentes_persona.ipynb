{
 "metadata": {
  "language_info": {
   "codemirror_mode": {
    "name": "ipython",
    "version": 3
   },
   "file_extension": ".py",
   "mimetype": "text/x-python",
   "name": "python",
   "nbconvert_exporter": "python",
   "pygments_lexer": "ipython3",
   "version": "3.7.4"
  },
  "orig_nbformat": 2,
  "kernelspec": {
   "name": "python374jvsc74a57bd0a0947237fadc8b5561fed326db280cc5ec46a670c87cfb3a0489cf95ff262303",
   "display_name": "Python 3.7.4 64-bit"
  },
  "metadata": {
   "interpreter": {
    "hash": "a0947237fadc8b5561fed326db280cc5ec46a670c87cfb3a0489cf95ff262303"
   }
  }
 },
 "nbformat": 4,
 "nbformat_minor": 2,
 "cells": [
  {
   "cell_type": "code",
   "execution_count": 1,
   "metadata": {},
   "outputs": [],
   "source": [
    "import pandas as pd"
   ]
  },
  {
   "cell_type": "code",
   "execution_count": 92,
   "metadata": {},
   "outputs": [],
   "source": [
    "def enlistar_dataframes(porcion_fichero):\n",
    "    ''' El argumento debe ser la porción del fichero correspondiente (str). '''\n",
    "    lista_df = []\n",
    "    for i in range(11,21):\n",
    "        try:\n",
    "            i = pd.read_csv('20'+str(i)+'/20'+str(i)+ porcion_fichero +str(i)+'-utf8.csv')\n",
    "        except:\n",
    "            try:\n",
    "                i = pd.read_csv('20'+str(i)+'/20'+str(i)+ porcion_fichero +str(i)+'-utf8.csv', sep=';')\n",
    "            except:\n",
    "                i = pd.read_excel('20'+str(i)+'/20'+str(i)+ porcion_fichero +str(i)+'.xlsx')\n",
    "        lista_df.append(i)\n",
    "    return lista_df\n",
    "\n",
    "\n",
    "\n",
    "def columna_vs_columna(lista_dataframes, posicion_df1, posicion_df2):\n",
    "    ''' Compara los nombres de las columnas de 2 dataframes que se encuentran en una lista, tomando como argumento la posición de dicho dataframe en la lista.\n",
    "    \n",
    "    Tener en cuenta que, para aplicarla, ambos dataframes deben tener la misma cantidad de columnas. '''\n",
    "    try:\n",
    "        for pos, valor in enumerate(lista_dataframes[posicion_df1].columns == lista_dataframes[posicion_df2].columns):\n",
    "            if valor == False:\n",
    "                print('         Posición de columna diferente: ' + str(pos))\n",
    "                print('         ---------------------------------')\n",
    "                print('         Columna de DF en posición ' + str(posicion_df1) + ': ' + lista_dataframes[posicion_df1].columns[pos])\n",
    "                print('         Columna de DF en posición ' + str(posicion_df2) + ': ' + lista_dataframes[posicion_df2].columns[pos])\n",
    "                print('         ================================================\\n')\n",
    "    except:\n",
    "        print('Los dataframes a comparar deben tener la misma cantidad de columnas.')\n",
    "\n",
    "\n",
    "\n",
    "def comparar_columnas(lista_dataframes): \n",
    "    ''' SE DEBE INGRESAR UNA LISTA DE DATAFRAMES A COMPARAR. '''\n",
    "    for i in range(len(lista_dataframes)):\n",
    "            for j in range(1, len(lista_dataframes)):    \n",
    "                if i < j:\n",
    "                    if len(lista_dataframes[i].columns) == len(lista_dataframes[j].columns):\n",
    "                        columnas_iguales = lista_dataframes[i].columns == lista_dataframes[j].columns # TRUE si coinciden, FALSE si no\n",
    "                        if all(columnas_iguales):\n",
    "                            print('Las columnas de ' + str(i) + ' (' + str(len(lista_dataframes[i].columns)) +') y ' + str(j)+ ' (' + str(len(lista_dataframes[j].columns)) + ') COINCIDEN.')\n",
    "                            print('======================================================')\n",
    "                            break\n",
    "                        else:\n",
    "                            print('\\nLas columnas de ' + str(i) + ' (' + str(len(lista_dataframes[i].columns)) +') y ' + str(j) + ' (' + str(len(lista_dataframes[j].columns)) + ') SON DISTINTAS.\\n')\n",
    "                            columna_vs_columna(lista_dataframes, i, j)\n",
    "                    else:\n",
    "                        print(str(i) +  ' (' + str(len(lista_dataframes[i].columns))  + ') y ' + str(j) + ' (' + str(len(lista_dataframes[j].columns)) + ') tienen distinta CANTIDAD de columnas.')\n",
    "                        print('======================================================')\n",
    "\n",
    "\n",
    "\n",
    "def mostrar_columnas(lista_dataframes):\n",
    "    ''' SE DEBE INGRESAR UNA LISTA DE DATAFRAMES '''\n",
    "    for i in range(len(lista_dataframes)):\n",
    "        print('Columnas de dataframe en posición ' + str(i) + ':')\n",
    "        print('------------------------------------')\n",
    "        print(lista_dataframes[i].columns)\n",
    "        print('\\nNúmero de columnas: ' + str(len(lista_dataframes[i].columns)) + '\\n')\n",
    "        print('===========================================================================================')\n",
    "\n",
    "\n",
    "\n",
    "def nombre_cada_columna(lista_dataframes):\n",
    "    tamanio_columnas = []\n",
    "    for df in lista_dataframes:\n",
    "        tamanio_columnas.append(len(df.columns))\n",
    "        a = max(tamanio_columnas)\n",
    "    for i in range(0,a):\n",
    "        print('Columna en posición ' + str(i) + '\\n')\n",
    "        for j in range(len(lista_dataframes)):\n",
    "            try:\n",
    "                print('DF en posición ' + str (j) + ': ' + str(lista_dataframes[j].columns[i]))\n",
    "            except:\n",
    "                print('DF en posición ' + str (j) + ': No contiene columnas en la posición ' + str(i))\n",
    "        print('\\n-------------------------------------\\n')\n",
    "\n",
    "\n",
    "\n",
    "def ver_ultimas_columnas(lista_dataframes):\n",
    "    tamanio_columnas = []\n",
    "    for df in lista_dataframes:\n",
    "        tamanio_columnas.append(len(df.columns))\n",
    "        a = max(tamanio_columnas)\n",
    "    for i in range(len(lista_dataframes)):\n",
    "        if len(lista_dataframes[i].columns) == (a-2):\n",
    "            print('Posición del DF ' + str(i) + ': '+ str(list(lista_dataframes[i].columns[-2::])))\n",
    "        elif len(lista_dataframes[i].columns) == a:\n",
    "            print('Posición del DF ' + str(i) + ': ' + str(list(lista_dataframes[i].columns[-4::])))\n",
    "\n",
    "\n",
    "\n",
    "def eliminar_columnas_finales(lista_dataframes):\n",
    "    tamanio_columnas = []\n",
    "    for df in lista_dataframes:\n",
    "        tamanio_columnas.append(len(df.columns))\n",
    "        a = max(tamanio_columnas)\n",
    "    for i in range(len(lista_dataframes)):\n",
    "        if len(lista_dataframes[i].columns) == a:\n",
    "            lista_dataframes[i] = lista_dataframes[i].iloc[:,:(a-2)]\n",
    "\n",
    "\n",
    "\n",
    "def ordenar_columnas_finales(lista_dataframes):\n",
    "    tamanio_columnas = []\n",
    "    for df in lista_dataframes:\n",
    "        tamanio_columnas.append(len(df.columns))\n",
    "        a = max(tamanio_columnas)\n",
    "    for i in range(len(lista_dataframes)):\n",
    "        if (lista_dataframes[i].columns[-1] == 'Coordenada UTM (X)') or (lista_dataframes[i].columns[-1] == 'Coordenada_UTM_X'):\n",
    "            col = lista_dataframes[i].columns.to_list()\n",
    "            col2 = col[0:(a-2)] + col[-1:] + col[-2:-1]\n",
    "            lista_dataframes[i] = lista_dataframes[i][col2]\n",
    "\n",
    "\n",
    "\n",
    "def renombrar_columnas(lista_dataframes, lista_nombres):\n",
    "    for i in range(len(lista_dataframes)):\n",
    "        lista_dataframes[i].columns = lista_nombres\n",
    "\n",
    "\n",
    "\n",
    "def unificar_lista_dataframe(lista_dataframes):\n",
    "    df_concatenados = pd.DataFrame()\n",
    "    for i in range(1, len(lista_dataframes)):\n",
    "        df_concatenados = df_concatenados.append(lista_dataframes[i], ignore_index = True)\n",
    "    return df_concatenados\n",
    "\n",
    "\n",
    "\n",
    "def crear_listas_personas():\n",
    "    ''' Crea una lista de los valores de los datasets de personas que son de interés para el dataset en cuestión. '''\n",
    "    global lista_numero_expediente\n",
    "    global lista_persona\n",
    "    global lista_edad\n",
    "    global lista_sexo\n",
    "    lista_numero_expediente = []\n",
    "    lista_persona = []\n",
    "    lista_edad = []\n",
    "    lista_sexo = []\n",
    "    for i in range(len(lista_df_personas)):\n",
    "        for pos, value in enumerate(lista_df_personas[i].columns):\n",
    "            if 'expedient' in value.lower():\n",
    "                lista_numero_expediente.extend(lista_df_personas[i].iloc[:,pos])\n",
    "            if 'persona' in value.lower():\n",
    "                lista_persona.extend(lista_df_personas[i].iloc[:,pos])\n",
    "            if 'edat' in value.lower():\n",
    "                lista_edad.extend(lista_df_personas[i].iloc[:,pos])\n",
    "            if 'sexe' in value.lower():\n",
    "                lista_sexo.extend(lista_df_personas[i].iloc[:,pos])\n",
    "    return lista_numero_expediente, lista_persona, lista_edad, lista_sexo"
   ]
  },
  {
   "cell_type": "code",
   "execution_count": 4,
   "metadata": {},
   "outputs": [],
   "source": [
    "porcion_fichero_person = '_ACCIDENTS_PERSONES_GU_BCN_20'"
   ]
  },
  {
   "cell_type": "code",
   "execution_count": 29,
   "metadata": {},
   "outputs": [],
   "source": [
    "lista_df_personas = enlistar_dataframes_gu(porcion_fichero_persona)"
   ]
  },
  {
   "source": [
    "La complejidad de los datasets relacionados con la persona implicada en el accidente nos lleva a intentar reducir al máximo la información recolectada del mismo. Es por esto que, intentando simplificarlo todo lo posible, tomaremos solo las columnas que contengan datos relevantes para nuestra investigación.\n",
    "\n",
    "El criterio para descartar datos se basa en los siguientes factores:\n",
    "- No se dispone de datos para todos los años.\n",
    "- Los datos recolectados en estos datasets ya nos constan en los anteriores. Por supuesto, para esto hay que tener en cuenta que nuestra clave primaria es el número de expediente, por lo que dicha columna no será eliminada.\n",
    "\n",
    "De ésta manera, nos quedaremos con las siguientes columnas:\n",
    "- Número de expediente\n",
    "- Tipo de persona\n",
    "- Sexo\n",
    "- Edad\n",
    "\n",
    "Estos datos son suficientes para llevar adelante el análisis exploratorio."
   ],
   "cell_type": "markdown",
   "metadata": {}
  },
  {
   "cell_type": "code",
   "execution_count": 31,
   "metadata": {},
   "outputs": [
    {
     "output_type": "stream",
     "name": "stdout",
     "text": [
      "Columna en posición 0\n\nDF en posición 0: Número d'expedient\nDF en posición 1: Número d'expedient\nDF en posición 2: Número d'expedient\nDF en posición 3: Número d'expedient\nDF en posición 4: Número d'expedient\nDF en posición 5: Numero_expedient\nDF en posición 6: Numero_expedient\nDF en posición 7: Numero_expedient\nDF en posición 8: Numero_Expedient\nDF en posición 9: Numero_Expedient\n\n-------------------------------------\n\nColumna en posición 1\n\nDF en posición 0: Codi districte\nDF en posición 1: Codi districte\nDF en posición 2: Codi districte\nDF en posición 3: Codi districte\nDF en posición 4: Codi districte\nDF en posición 5: Codi_districte\nDF en posición 6: Codi_districte\nDF en posición 7: Codi_districte\nDF en posición 8: Codi_districte\nDF en posición 9: Codi_districte\n\n-------------------------------------\n\nColumna en posición 2\n\nDF en posición 0: Nom districte\nDF en posición 1: Nom districte\nDF en posición 2: Nom districte\nDF en posición 3: Nom districte\nDF en posición 4: Nom districte\nDF en posición 5: Nom_districte\nDF en posición 6: Nom_districte\nDF en posición 7: Nom_districte\nDF en posición 8: Nom_districte\nDF en posición 9: Nom_districte\n\n-------------------------------------\n\nColumna en posición 3\n\nDF en posición 0: Codi barri\nDF en posición 1: Codi barri\nDF en posición 2: Codi barri\nDF en posición 3: Codi barri\nDF en posición 4: Codi barri\nDF en posición 5: Codi_barri\nDF en posición 6: Codi_barri\nDF en posición 7: Codi_barri\nDF en posición 8: Codi_barri\nDF en posición 9: Codi_barri\n\n-------------------------------------\n\nColumna en posición 4\n\nDF en posición 0: Nom barri\nDF en posición 1: Nom barri\nDF en posición 2: Nom barri\nDF en posición 3: Nom barri\nDF en posición 4: Nom barri\nDF en posición 5: Nom_barri\nDF en posición 6: Nom_barri\nDF en posición 7: Nom_barri\nDF en posición 8: Nom_barri\nDF en posición 9: Nom_barri\n\n-------------------------------------\n\nColumna en posición 5\n\nDF en posición 0: Codi carrer\nDF en posición 1: Codi carrer\nDF en posición 2: Codi carrer\nDF en posición 3: Codi carrer\nDF en posición 4: Codi carrer\nDF en posición 5: Codi_carrer\nDF en posición 6: Codi_carrer\nDF en posición 7: Codi_carrer\nDF en posición 8: Codi_carrer\nDF en posición 9: Codi_carrer\n\n-------------------------------------\n\nColumna en posición 6\n\nDF en posición 0: Nom carrer\nDF en posición 1: Nom carrer\nDF en posición 2: Nom carrer\nDF en posición 3: Nom carrer\nDF en posición 4: Nom carrer\nDF en posición 5: Nom_carrer\nDF en posición 6: Nom_carrer\nDF en posición 7: Nom_carrer\nDF en posición 8: Num_postal\nDF en posición 9: Nom_carrer\n\n-------------------------------------\n\nColumna en posición 7\n\nDF en posición 0: Num postal caption\nDF en posición 1: Num postal caption\nDF en posición 2: Num postal caption\nDF en posición 3: Num postal caption\nDF en posición 4: Num postal caption\nDF en posición 5: Num_postal \nDF en posición 6: Num_postal \nDF en posición 7: Num_postal \nDF en posición 8: Num_postal.1\nDF en posición 9: Num_postal\n\n-------------------------------------\n\nColumna en posición 8\n\nDF en posición 0: Descripció dia setmana\nDF en posición 1: Descripció dia setmana\nDF en posición 2: Descripció dia setmana\nDF en posición 3: Descripció dia setmana\nDF en posición 4: Descripció dia setmana\nDF en posición 5: Descripcio_dia_setmana\nDF en posición 6: Descripcio_dia_setmana\nDF en posición 7: Descripcio_dia_setmana\nDF en posición 8: Descripcio_dia_setmana\nDF en posición 9: Descripcio_dia_setmana\n\n-------------------------------------\n\nColumna en posición 9\n\nDF en posición 0: Dia setmana\nDF en posición 1: Dia setmana\nDF en posición 2: Dia setmana\nDF en posición 3: Dia setmana\nDF en posición 4: Dia setmana\nDF en posición 5: Dia_setmana\nDF en posición 6: Dia_setmana\nDF en posición 7: Dia_setmana\nDF en posición 8: Dia_setmana\nDF en posición 9: Dia_setmana\n\n-------------------------------------\n\nColumna en posición 10\n\nDF en posición 0: Descripció tipus dia\nDF en posición 1: Descripció tipus dia\nDF en posición 2: Descripció tipus dia\nDF en posición 3: Descripció tipus dia\nDF en posición 4: Descripció tipus dia\nDF en posición 5: Descripcio_tipus_dia\nDF en posición 6: Descripcio_tipus_dia\nDF en posición 7: Descripcio_tipus_dia\nDF en posición 8: Descripcio_tipus_dia\nDF en posición 9: Descripcio_tipus_dia\n\n-------------------------------------\n\nColumna en posición 11\n\nDF en posición 0: NK Any\nDF en posición 1: NK Any\nDF en posición 2: NK Any\nDF en posición 3: NK Any\nDF en posición 4: NK Any\nDF en posición 5: Any\nDF en posición 6: Any\nDF en posición 7: Any\nDF en posición 8: NK_ Any\nDF en posición 9: NK_ Any\n\n-------------------------------------\n\nColumna en posición 12\n\nDF en posición 0: Mes de any\nDF en posición 1: Mes de any\nDF en posición 2: Mes de any\nDF en posición 3: Mes de any\nDF en posición 4: Mes de any\nDF en posición 5: Mes_any\nDF en posición 6: Mes_ any\nDF en posición 7: Mes_ any\nDF en posición 8: Mes_ any\nDF en posición 9: Mes_ any\n\n-------------------------------------\n\nColumna en posición 13\n\nDF en posición 0: Nom mes\nDF en posición 1: Nom mes\nDF en posición 2: Nom mes\nDF en posición 3: Nom mes\nDF en posición 4: Nom mes\nDF en posición 5: Nom_mes\nDF en posición 6: Nom_mes\nDF en posición 7: Nom_mes\nDF en posición 8: Nom_mes\nDF en posición 9: Nom_mes\n\n-------------------------------------\n\nColumna en posición 14\n\nDF en posición 0: Dia de mes\nDF en posición 1: Dia de mes\nDF en posición 2: Dia de mes\nDF en posición 3: Dia de mes\nDF en posición 4: Dia de mes\nDF en posición 5: Dia_mes\nDF en posición 6: Dia_mes\nDF en posición 7: Dia_mes\nDF en posición 8: Dia_mes\nDF en posición 9: Dia_mes\n\n-------------------------------------\n\nColumna en posición 15\n\nDF en posición 0: Descripció torn\nDF en posición 1: Descripció torn\nDF en posición 2: Descripció torn\nDF en posición 3: Hora de dia\nDF en posición 4: Hora de dia\nDF en posición 5: Descripcio_torn\nDF en posición 6: Descripcio_torn\nDF en posición 7: Descripcio_torn\nDF en posición 8: Descripcio_torn\nDF en posición 9: Descripcio_torn\n\n-------------------------------------\n\nColumna en posición 16\n\nDF en posición 0: Hora de dia\nDF en posición 1: Hora de dia\nDF en posición 2: Hora de dia\nDF en posición 3: Descripció causa vianant\nDF en posición 4: Descripció causa vianant\nDF en posición 5: Hora_dia\nDF en posición 6: Hora_dia\nDF en posición 7: Hora_dia\nDF en posición 8: Hora_dia\nDF en posición 9: Hora_dia\n\n-------------------------------------\n\nColumna en posición 17\n\nDF en posición 0: Descripció causa vianant\nDF en posición 1: Descripció causa vianant\nDF en posición 2: Descripció causa vianant\nDF en posición 3: Desc. Tipus vehicle implicat\nDF en posición 4: Desc. Tipus vehicle implicat\nDF en posición 5: Descripcio_causa_vianant\nDF en posición 6: Descripcio_causa_vianant\nDF en posición 7: Descripcio_causa_vianant\nDF en posición 8: Descripcio_causa_vianant\nDF en posición 9: Descripcio_causa_vianant\n\n-------------------------------------\n\nColumna en posición 18\n\nDF en posición 0: Desc. Tipus vehicle implicat\nDF en posición 1: Desc. Tipus vehicle implicat\nDF en posición 2: Desc. Tipus vehicle implicat\nDF en posición 3: Descripció sexe\nDF en posición 4: Descripció sexe\nDF en posición 5: Desc_Tipus_vehicle_implicat\nDF en posición 6: Desc_Tipus_vehicle_implicat\nDF en posición 7: Desc_Tipus_vehicle_implicat\nDF en posición 8: Desc_Tipus_vehicle_implicat\nDF en posición 9: Desc_Tipus_vehicle_implicat\n\n-------------------------------------\n\nColumna en posición 19\n\nDF en posición 0: Descripció sexe\nDF en posición 1: Descripció sexe\nDF en posición 2: Descripció sexe\nDF en posición 3: Descripció tipus persona\nDF en posición 4: Descripció tipus persona\nDF en posición 5: Descripcio_sexe\nDF en posición 6: Descripcio_sexe\nDF en posición 7: Descripcio_sexe\nDF en posición 8: Descripcio_sexe\nDF en posición 9: Descripció_sexe\n\n-------------------------------------\n\nColumna en posición 20\n\nDF en posición 0: Descripció tipus persona\nDF en posición 1: Descripció tipus persona\nDF en posición 2: Descripció tipus persona\nDF en posición 3: Edat\nDF en posición 4: Edat\nDF en posición 5: Edat\nDF en posición 6: Edat\nDF en posición 7: Edat\nDF en posición 8: Edat\nDF en posición 9: Edat\n\n-------------------------------------\n\nColumna en posición 21\n\nDF en posición 0: Edat\nDF en posición 1: Edat\nDF en posición 2: Edat\nDF en posición 3: Descripció victimització\nDF en posición 4: Descripció victimització\nDF en posición 5: Descripcio_tipus_persona\nDF en posición 6: Descripcio_tipus_persona\nDF en posición 7: Descripcio_tipus_persona\nDF en posición 8: Descripcio_tipus_persona\nDF en posición 9: Descripció_tipus_persona\n\n-------------------------------------\n\nColumna en posición 22\n\nDF en posición 0: Descripció victimització\nDF en posición 1: Descripció victimització\nDF en posición 2: Descripció victimització\nDF en posición 3: Coordenada UTM (Y)\nDF en posición 4: Coordenada UTM (Y)\nDF en posición 5: Descripcio_situacio\nDF en posición 6: Descripcio_situacio\nDF en posición 7: Descripcio_situacio\nDF en posición 8: Descripcio_Lloc_atropellament_vianat\nDF en posición 9: Descripcio_Lloc_atropellament_vianat\n\n-------------------------------------\n\nColumna en posición 23\n\nDF en posición 0: Coordenada UTM (Y)\nDF en posición 1: Coordenada UTM (Y)\nDF en posición 2: Coordenada UTM (Y)\nDF en posición 3: Coordenada UTM (X)\nDF en posición 4: Coordenada UTM (X)\nDF en posición 5: Descripcio_victimitzacio\nDF en posición 6: Descripcio_victimitzacio\nDF en posición 7: Descripcio_victimitzacio\nDF en posición 8: Descripcio_Motiu_desplaçament_vianant\nDF en posición 9: Descripcio_Motiu_desplaĂ§ament_vianant\n\n-------------------------------------\n\nColumna en posición 24\n\nDF en posición 0: Coordenada UTM (X)\nDF en posición 1: Coordenada UTM (X)\nDF en posición 2: Coordenada UTM (X)\nDF en posición 3: No contiene columnas en la posición 24\nDF en posición 4: No contiene columnas en la posición 24\nDF en posición 5: Coordenada_UTM_X\nDF en posición 6: Coordenada_UTM_X\nDF en posición 7: Coordenada_UTM_X\nDF en posición 8: Descripcio_Motiu_desplaçament_conductor\nDF en posición 9: Descripcio_Motiu_desplaĂ§ament_conductor\n\n-------------------------------------\n\nColumna en posición 25\n\nDF en posición 0: No contiene columnas en la posición 25\nDF en posición 1: No contiene columnas en la posición 25\nDF en posición 2: No contiene columnas en la posición 25\nDF en posición 3: No contiene columnas en la posición 25\nDF en posición 4: No contiene columnas en la posición 25\nDF en posición 5: Coordenada_UTM_Y\nDF en posición 6: Coordenada_UTM_Y\nDF en posición 7: Coordenada_UTM_Y\nDF en posición 8: Descripcio_victimitzacio\nDF en posición 9: Descripcio_victimitzacio\n\n-------------------------------------\n\nColumna en posición 26\n\nDF en posición 0: No contiene columnas en la posición 26\nDF en posición 1: No contiene columnas en la posición 26\nDF en posición 2: No contiene columnas en la posición 26\nDF en posición 3: No contiene columnas en la posición 26\nDF en posición 4: No contiene columnas en la posición 26\nDF en posición 5: Longitud\nDF en posición 6: Longitud\nDF en posición 7: Longitud\nDF en posición 8: Coordenada_UTM_X\nDF en posición 9: Coordenada_UTM_X\n\n-------------------------------------\n\nColumna en posición 27\n\nDF en posición 0: No contiene columnas en la posición 27\nDF en posición 1: No contiene columnas en la posición 27\nDF en posición 2: No contiene columnas en la posición 27\nDF en posición 3: No contiene columnas en la posición 27\nDF en posición 4: No contiene columnas en la posición 27\nDF en posición 5: Latitud\nDF en posición 6: Latitud\nDF en posición 7: Latitud\nDF en posición 8: Coordenada_UTM_Y\nDF en posición 9: Coordenada_UTM_Y\n\n-------------------------------------\n\nColumna en posición 28\n\nDF en posición 0: No contiene columnas en la posición 28\nDF en posición 1: No contiene columnas en la posición 28\nDF en posición 2: No contiene columnas en la posición 28\nDF en posición 3: No contiene columnas en la posición 28\nDF en posición 4: No contiene columnas en la posición 28\nDF en posición 5: No contiene columnas en la posición 28\nDF en posición 6: No contiene columnas en la posición 28\nDF en posición 7: No contiene columnas en la posición 28\nDF en posición 8: Longitud\nDF en posición 9: Longitud\n\n-------------------------------------\n\nColumna en posición 29\n\nDF en posición 0: No contiene columnas en la posición 29\nDF en posición 1: No contiene columnas en la posición 29\nDF en posición 2: No contiene columnas en la posición 29\nDF en posición 3: No contiene columnas en la posición 29\nDF en posición 4: No contiene columnas en la posición 29\nDF en posición 5: No contiene columnas en la posición 29\nDF en posición 6: No contiene columnas en la posición 29\nDF en posición 7: No contiene columnas en la posición 29\nDF en posición 8: Latitud\nDF en posición 9: Latitud\n\n-------------------------------------\n\n"
     ]
    }
   ],
   "source": [
    "nombre_cada_columna(lista_df_personas)"
   ]
  },
  {
   "cell_type": "code",
   "execution_count": 42,
   "metadata": {},
   "outputs": [
    {
     "output_type": "error",
     "ename": "SyntaxError",
     "evalue": "invalid syntax (<ipython-input-42-e964e4471572>, line 12)",
     "traceback": [
      "\u001b[1;36m  File \u001b[1;32m\"<ipython-input-42-e964e4471572>\"\u001b[1;36m, line \u001b[1;32m12\u001b[0m\n\u001b[1;33m    if 'persona' in value.lower():\u001b[0m\n\u001b[1;37m                                 ^\u001b[0m\n\u001b[1;31mSyntaxError\u001b[0m\u001b[1;31m:\u001b[0m invalid syntax\n"
     ]
    }
   ],
   "source": [
    "for i in range(len(lista_df_personas)):\n",
    "    for pos, value in enumerate(lista_df_personas[i].columns):\n",
    "        lista_numero_expediente = []\n",
    "        lista_persona = []\n",
    "        lista_edad = []\n",
    "        lista_sexo = []\n",
    "        if 'expedient' in value.lower():\n",
    "            print('Posición de dataframe en lista: ' + str(i))\n",
    "            print('Posición de columna \"NÚMERO DE EXPEDIENTE\" en dataframe: ' + str(pos))\n",
    "            print('---')\n",
    "            lista_numero_expediente.extend((lista_df_personas[i].columns[pos])\n",
    "        if 'persona' in value.lower():\n",
    "            print('Posición de dataframe en lista: ' + str(i))\n",
    "            print('Posición de columna \"TIPO DE PERSONA\" en dataframe: ' + str(pos))\n",
    "            print('---')\n",
    "            lista_persona.extend((lista_df_personas[i].columns[pos])\n",
    "        if 'edat' in value.lower():\n",
    "            print('Posición de dataframe en lista: ' + str(i))\n",
    "            print('Posición de columna \"EDAD\" en dataframe: ' + str(pos))\n",
    "            print('---')\n",
    "            lista_edad.extend((lista_df_personas[i].columns[pos])\n",
    "        if 'sexe' in value.lower():\n",
    "            print('Posición de dataframe en lista: ' + str(i))\n",
    "            print('Posición de columna \"SEXO\" en dataframe: ' + str(pos))\n",
    "            print('---')\n",
    "            lista_sexo.extend((lista_df_personas[i].columns[pos])"
   ]
  },
  {
   "cell_type": "code",
   "execution_count": 52,
   "metadata": {},
   "outputs": [
    {
     "output_type": "execute_result",
     "data": {
      "text/plain": [
       "0        2011S000321    \n",
       "1        2011S000324    \n",
       "2        2011S000004    \n",
       "3        2011S000011    \n",
       "4        2011S000013    \n",
       "              ...       \n",
       "10291    2011S008796    \n",
       "10292    2011S008797    \n",
       "10293    2011S008799    \n",
       "10294    2011S008825    \n",
       "10295    2011S008828    \n",
       "Name: Número d'expedient, Length: 10296, dtype: object"
      ]
     },
     "metadata": {},
     "execution_count": 52
    }
   ],
   "source": [
    "lista_df_personas[0].iloc[:,0]"
   ]
  },
  {
   "cell_type": "code",
   "execution_count": 56,
   "metadata": {},
   "outputs": [
    {
     "output_type": "execute_result",
     "data": {
      "text/plain": [
       "[]"
      ]
     },
     "metadata": {},
     "execution_count": 56
    }
   ],
   "source": [
    "lista_numero_expediente.extend()"
   ]
  },
  {
   "cell_type": "code",
   "execution_count": 66,
   "metadata": {},
   "outputs": [],
   "source": [
    "lista_numero_expediente.extend(list(lista_df_personas[9].iloc[:,0]))\n"
   ]
  },
  {
   "cell_type": "code",
   "execution_count": 84,
   "metadata": {},
   "outputs": [],
   "source": [
    "def crear_listas_personas():\n",
    "    ''' Crea una lista de los valores de los datasets de personas que son de interés para el dataset en cuestión. '''\n",
    "    global lista_numero_expediente\n",
    "    global lista_persona\n",
    "    global lista_edad\n",
    "    global lista_sexo\n",
    "    lista_numero_expediente = []\n",
    "    lista_persona = []\n",
    "    lista_edad = []\n",
    "    lista_sexo = []\n",
    "    for i in range(len(lista_df_personas)):\n",
    "        for pos, value in enumerate(lista_df_personas[i].columns):\n",
    "            if 'expedient' in value.lower():\n",
    "                lista_numero_expediente.extend(lista_df_personas[i].iloc[:,pos])\n",
    "            if 'persona' in value.lower():\n",
    "                lista_persona.extend(lista_df_personas[i].iloc[:,pos])\n",
    "            if 'edat' in value.lower():\n",
    "                lista_edad.extend(lista_df_personas[i].iloc[:,pos])\n",
    "            if 'sexe' in value.lower():\n",
    "                lista_sexo.extend(lista_df_personas[i].iloc[:,pos])\n",
    "    return lista_numero_expediente, lista_persona, lista_edad, lista_sexo"
   ]
  },
  {
   "source": [
    "A partir de las listas obtenidas, creamos el dataframe de **``df_personas_personas``**"
   ],
   "cell_type": "markdown",
   "metadata": {}
  },
  {
   "cell_type": "code",
   "execution_count": 90,
   "metadata": {},
   "outputs": [],
   "source": [
    "df_accidentes_personas = pd.DataFrame({'NUMERO EXPEDIENTE': lista_numero_expediente, 'TIPO PERSONA': lista_persona, 'EDAD': lista_edad, 'SEXO': lista_sexo})"
   ]
  },
  {
   "cell_type": "code",
   "execution_count": 91,
   "metadata": {},
   "outputs": [
    {
     "output_type": "execute_result",
     "data": {
      "text/plain": [
       "       NUMERO EXPEDIENTE TIPO PERSONA EDAD        SEXO\n",
       "0        2011S000321        Conductor   33        Home\n",
       "1        2011S000324        Conductor   19        Home\n",
       "2        2011S000004        Conductor   26        Home\n",
       "3        2011S000011        Passatger   22        Home\n",
       "4        2011S000013        Conductor   29        Home\n",
       "...                  ...          ...  ...         ...\n",
       "117626   2020S006276        Conductor   48        Home\n",
       "117627   2020S006276        Conductor   16        Home\n",
       "117628   2020S006277        Passatger   56        Dona\n",
       "117629   2020S006277        Conductor   64        Home\n",
       "117630   2020S006278        Conductor   -1  Desconegut\n",
       "\n",
       "[117631 rows x 4 columns]"
      ],
      "text/html": "<div>\n<style scoped>\n    .dataframe tbody tr th:only-of-type {\n        vertical-align: middle;\n    }\n\n    .dataframe tbody tr th {\n        vertical-align: top;\n    }\n\n    .dataframe thead th {\n        text-align: right;\n    }\n</style>\n<table border=\"1\" class=\"dataframe\">\n  <thead>\n    <tr style=\"text-align: right;\">\n      <th></th>\n      <th>NUMERO EXPEDIENTE</th>\n      <th>TIPO PERSONA</th>\n      <th>EDAD</th>\n      <th>SEXO</th>\n    </tr>\n  </thead>\n  <tbody>\n    <tr>\n      <th>0</th>\n      <td>2011S000321</td>\n      <td>Conductor</td>\n      <td>33</td>\n      <td>Home</td>\n    </tr>\n    <tr>\n      <th>1</th>\n      <td>2011S000324</td>\n      <td>Conductor</td>\n      <td>19</td>\n      <td>Home</td>\n    </tr>\n    <tr>\n      <th>2</th>\n      <td>2011S000004</td>\n      <td>Conductor</td>\n      <td>26</td>\n      <td>Home</td>\n    </tr>\n    <tr>\n      <th>3</th>\n      <td>2011S000011</td>\n      <td>Passatger</td>\n      <td>22</td>\n      <td>Home</td>\n    </tr>\n    <tr>\n      <th>4</th>\n      <td>2011S000013</td>\n      <td>Conductor</td>\n      <td>29</td>\n      <td>Home</td>\n    </tr>\n    <tr>\n      <th>...</th>\n      <td>...</td>\n      <td>...</td>\n      <td>...</td>\n      <td>...</td>\n    </tr>\n    <tr>\n      <th>117626</th>\n      <td>2020S006276</td>\n      <td>Conductor</td>\n      <td>48</td>\n      <td>Home</td>\n    </tr>\n    <tr>\n      <th>117627</th>\n      <td>2020S006276</td>\n      <td>Conductor</td>\n      <td>16</td>\n      <td>Home</td>\n    </tr>\n    <tr>\n      <th>117628</th>\n      <td>2020S006277</td>\n      <td>Passatger</td>\n      <td>56</td>\n      <td>Dona</td>\n    </tr>\n    <tr>\n      <th>117629</th>\n      <td>2020S006277</td>\n      <td>Conductor</td>\n      <td>64</td>\n      <td>Home</td>\n    </tr>\n    <tr>\n      <th>117630</th>\n      <td>2020S006278</td>\n      <td>Conductor</td>\n      <td>-1</td>\n      <td>Desconegut</td>\n    </tr>\n  </tbody>\n</table>\n<p>117631 rows × 4 columns</p>\n</div>"
     },
     "metadata": {},
     "execution_count": 91
    }
   ],
   "source": [
    "df_accidentes_personas"
   ]
  },
  {
   "cell_type": "code",
   "execution_count": 27,
   "metadata": {},
   "outputs": [],
   "source": [
    "for i in range(len(lista_df_personas)):\n",
    "    if 'Descripció torn' in lista_df_personas[i].columns:\n",
    "        lista_df_personas[i].drop(['Descripció torn'], axis= 1, inplace= True)\n",
    "    elif 'Descripcio_torn' in lista_df_personas[i].columns:\n",
    "        lista_df_personas[i].drop(['Descripcio_torn'], axis= 1, inplace= True)\n",
    "    elif 'Descripcio_situacio' in lista_df_personas[i].columns:\n",
    "        lista_df_personas[i].drop(['Descripcio_situacio'], axis= 1, inplace= True)\n",
    "    elif 'Descripcio_Lloc_atropellament_vianat' in lista_df_personas[i].columns:\n",
    "        lista_df_personas[i].drop(['Descripcio_Lloc_atropellament_vianat'], axis= 1, inplace= True)\n",
    "    elif 'Descripcio_Motiu_desplaçament_vianant' in lista_df_personas[i].columns:\n",
    "        lista_df_personas[i].drop(['Descripcio_Motiu_desplaçament_vianant'], axis= 1, inplace= True)\n",
    "    elif 'Descripcio_Motiu_desplaĂ§ament_vianant' in lista_df_personas[i].columns:\n",
    "        lista_df_personas[i].drop(['Descripcio_Motiu_desplaĂ§ament_vianant'], axis= 1, inplace= True)\n",
    "    elif 'Descripcio_Motiu_desplaçament_conductor' in lista_df_personas[i].columns:\n",
    "        lista_df_personas[i].drop(['Descripcio_Motiu_desplaçament_conductor'], axis= 1, inplace= True)\n",
    "    elif 'Descripcio_Motiu_desplaĂ§ament_conductor' in lista_df_personas[i].columns:\n",
    "        lista_df_personas[i].drop(['Descripcio_Motiu_desplaĂ§ament_conductor'], axis= 1, inplace= True)\n",
    "    elif 'Descripcio_Motiu_desplaĂ§ament_conductor' in lista_df_personas[i].columns:\n",
    "        lista_df_personas[i].drop(['Descripcio_Motiu_desplaĂ§ament_conductor'], axis= 1, inplace= True)\n",
    "    elif 'Nom carrer' in lista_df_personas[i].columns:\n",
    "        lista_df_personas[i].drop(['Nom carrer'], axis= 1, inplace= True)\n",
    "    elif 'Nom_carrer' in lista_df_personas[i].columns:\n",
    "        lista_df_personas[i].drop(['Nom_carrer'], axis= 1, inplace= True)\n",
    "    elif 'Num_postal' in lista_df_personas[i].columns:\n",
    "        lista_df_personas[i].drop(['Num_postal'], axis= 1, inplace= True)\n",
    "    elif 'Num_postal.1' in lista_df_personas[i].columns:\n",
    "        lista_df_personas[i].drop(['Num_postal.1'], axis= 1, inplace= True)\n",
    "    elif 'Num postal caption' in lista_df_personas[i].columns:\n",
    "        lista_df_personas[i].drop(['Num postal caption'], axis= 1, inplace= True)\n"
   ]
  },
  {
   "source": [
    "### La idea es llevar a todos los dataframes de la lista a un mismo número de columnas, que representan los datos disponibles para cada año. Entonces, si a partir de un determinado año, los datasets disponen de datos extras, éstos no podremos utilizarlos para nuestro estudio, y debemos eliminarlos."
   ],
   "cell_type": "markdown",
   "metadata": {}
  },
  {
   "cell_type": "code",
   "execution_count": 28,
   "metadata": {},
   "outputs": [
    {
     "output_type": "stream",
     "name": "stdout",
     "text": [
      "Columna en posición 0\n\nDF en posición 0: Número d'expedient\nDF en posición 1: Número d'expedient\nDF en posición 2: Número d'expedient\nDF en posición 3: Número d'expedient\nDF en posición 4: Número d'expedient\nDF en posición 5: Numero_expedient\nDF en posición 6: Numero_expedient\nDF en posición 7: Numero_expedient\nDF en posición 8: Numero_Expedient\nDF en posición 9: Numero_Expedient\n\n-------------------------------------\n\nColumna en posición 1\n\nDF en posición 0: Codi districte\nDF en posición 1: Codi districte\nDF en posición 2: Codi districte\nDF en posición 3: Codi districte\nDF en posición 4: Codi districte\nDF en posición 5: Codi_districte\nDF en posición 6: Codi_districte\nDF en posición 7: Codi_districte\nDF en posición 8: Codi_districte\nDF en posición 9: Codi_districte\n\n-------------------------------------\n\nColumna en posición 2\n\nDF en posición 0: Nom districte\nDF en posición 1: Nom districte\nDF en posición 2: Nom districte\nDF en posición 3: Nom districte\nDF en posición 4: Nom districte\nDF en posición 5: Nom_districte\nDF en posición 6: Nom_districte\nDF en posición 7: Nom_districte\nDF en posición 8: Nom_districte\nDF en posición 9: Nom_districte\n\n-------------------------------------\n\nColumna en posición 3\n\nDF en posición 0: Codi barri\nDF en posición 1: Codi barri\nDF en posición 2: Codi barri\nDF en posición 3: Codi barri\nDF en posición 4: Codi barri\nDF en posición 5: Codi_barri\nDF en posición 6: Codi_barri\nDF en posición 7: Codi_barri\nDF en posición 8: Codi_barri\nDF en posición 9: Codi_barri\n\n-------------------------------------\n\nColumna en posición 4\n\nDF en posición 0: Nom barri\nDF en posición 1: Nom barri\nDF en posición 2: Nom barri\nDF en posición 3: Nom barri\nDF en posición 4: Nom barri\nDF en posición 5: Nom_barri\nDF en posición 6: Nom_barri\nDF en posición 7: Nom_barri\nDF en posición 8: Nom_barri\nDF en posición 9: Nom_barri\n\n-------------------------------------\n\nColumna en posición 5\n\nDF en posición 0: Codi carrer\nDF en posición 1: Codi carrer\nDF en posición 2: Codi carrer\nDF en posición 3: Codi carrer\nDF en posición 4: Codi carrer\nDF en posición 5: Codi_carrer\nDF en posición 6: Codi_carrer\nDF en posición 7: Codi_carrer\nDF en posición 8: Codi_carrer\nDF en posición 9: Codi_carrer\n\n-------------------------------------\n\nColumna en posición 6\n\nDF en posición 0: Num postal caption\nDF en posición 1: Num postal caption\nDF en posición 2: Num postal caption\nDF en posición 3: Num postal caption\nDF en posición 4: Num postal caption\nDF en posición 5: Num_postal \nDF en posición 6: Num_postal \nDF en posición 7: Num_postal \nDF en posición 8: Num_postal\nDF en posición 9: Nom_carrer\n\n-------------------------------------\n\nColumna en posición 7\n\nDF en posición 0: Descripció dia setmana\nDF en posición 1: Descripció dia setmana\nDF en posición 2: Descripció dia setmana\nDF en posición 3: Descripció dia setmana\nDF en posición 4: Descripció dia setmana\nDF en posición 5: Descripcio_dia_setmana\nDF en posición 6: Descripcio_dia_setmana\nDF en posición 7: Descripcio_dia_setmana\nDF en posición 8: Num_postal.1\nDF en posición 9: Num_postal\n\n-------------------------------------\n\nColumna en posición 8\n\nDF en posición 0: Dia setmana\nDF en posición 1: Dia setmana\nDF en posición 2: Dia setmana\nDF en posición 3: Dia setmana\nDF en posición 4: Dia setmana\nDF en posición 5: Dia_setmana\nDF en posición 6: Dia_setmana\nDF en posición 7: Dia_setmana\nDF en posición 8: Descripcio_dia_setmana\nDF en posición 9: Descripcio_dia_setmana\n\n-------------------------------------\n\nColumna en posición 9\n\nDF en posición 0: Descripció tipus dia\nDF en posición 1: Descripció tipus dia\nDF en posición 2: Descripció tipus dia\nDF en posición 3: Descripció tipus dia\nDF en posición 4: Descripció tipus dia\nDF en posición 5: Descripcio_tipus_dia\nDF en posición 6: Descripcio_tipus_dia\nDF en posición 7: Descripcio_tipus_dia\nDF en posición 8: Dia_setmana\nDF en posición 9: Dia_setmana\n\n-------------------------------------\n\nColumna en posición 10\n\nDF en posición 0: NK Any\nDF en posición 1: NK Any\nDF en posición 2: NK Any\nDF en posición 3: NK Any\nDF en posición 4: NK Any\nDF en posición 5: Any\nDF en posición 6: Any\nDF en posición 7: Any\nDF en posición 8: Descripcio_tipus_dia\nDF en posición 9: Descripcio_tipus_dia\n\n-------------------------------------\n\nColumna en posición 11\n\nDF en posición 0: Mes de any\nDF en posición 1: Mes de any\nDF en posición 2: Mes de any\nDF en posición 3: Mes de any\nDF en posición 4: Mes de any\nDF en posición 5: Mes_any\nDF en posición 6: Mes_ any\nDF en posición 7: Mes_ any\nDF en posición 8: NK_ Any\nDF en posición 9: NK_ Any\n\n-------------------------------------\n\nColumna en posición 12\n\nDF en posición 0: Nom mes\nDF en posición 1: Nom mes\nDF en posición 2: Nom mes\nDF en posición 3: Nom mes\nDF en posición 4: Nom mes\nDF en posición 5: Nom_mes\nDF en posición 6: Nom_mes\nDF en posición 7: Nom_mes\nDF en posición 8: Mes_ any\nDF en posición 9: Mes_ any\n\n-------------------------------------\n\nColumna en posición 13\n\nDF en posición 0: Dia de mes\nDF en posición 1: Dia de mes\nDF en posición 2: Dia de mes\nDF en posición 3: Dia de mes\nDF en posición 4: Dia de mes\nDF en posición 5: Dia_mes\nDF en posición 6: Dia_mes\nDF en posición 7: Dia_mes\nDF en posición 8: Nom_mes\nDF en posición 9: Nom_mes\n\n-------------------------------------\n\nColumna en posición 14\n\nDF en posición 0: Hora de dia\nDF en posición 1: Hora de dia\nDF en posición 2: Hora de dia\nDF en posición 3: Hora de dia\nDF en posición 4: Hora de dia\nDF en posición 5: Hora_dia\nDF en posición 6: Hora_dia\nDF en posición 7: Hora_dia\nDF en posición 8: Dia_mes\nDF en posición 9: Dia_mes\n\n-------------------------------------\n\nColumna en posición 15\n\nDF en posición 0: Descripció causa vianant\nDF en posición 1: Descripció causa vianant\nDF en posición 2: Descripció causa vianant\nDF en posición 3: Descripció causa vianant\nDF en posición 4: Descripció causa vianant\nDF en posición 5: Descripcio_causa_vianant\nDF en posición 6: Descripcio_causa_vianant\nDF en posición 7: Descripcio_causa_vianant\nDF en posición 8: Hora_dia\nDF en posición 9: Hora_dia\n\n-------------------------------------\n\nColumna en posición 16\n\nDF en posición 0: Desc. Tipus vehicle implicat\nDF en posición 1: Desc. Tipus vehicle implicat\nDF en posición 2: Desc. Tipus vehicle implicat\nDF en posición 3: Desc. Tipus vehicle implicat\nDF en posición 4: Desc. Tipus vehicle implicat\nDF en posición 5: Desc_Tipus_vehicle_implicat\nDF en posición 6: Desc_Tipus_vehicle_implicat\nDF en posición 7: Desc_Tipus_vehicle_implicat\nDF en posición 8: Descripcio_causa_vianant\nDF en posición 9: Descripcio_causa_vianant\n\n-------------------------------------\n\nColumna en posición 17\n\nDF en posición 0: Descripció sexe\nDF en posición 1: Descripció sexe\nDF en posición 2: Descripció sexe\nDF en posición 3: Descripció sexe\nDF en posición 4: Descripció sexe\nDF en posición 5: Descripcio_sexe\nDF en posición 6: Descripcio_sexe\nDF en posición 7: Descripcio_sexe\nDF en posición 8: Desc_Tipus_vehicle_implicat\nDF en posición 9: Desc_Tipus_vehicle_implicat\n\n-------------------------------------\n\nColumna en posición 18\n\nDF en posición 0: Descripció tipus persona\nDF en posición 1: Descripció tipus persona\nDF en posición 2: Descripció tipus persona\nDF en posición 3: Descripció tipus persona\nDF en posición 4: Descripció tipus persona\nDF en posición 5: Edat\nDF en posición 6: Edat\nDF en posición 7: Edat\nDF en posición 8: Descripcio_sexe\nDF en posición 9: Descripció_sexe\n\n-------------------------------------\n\nColumna en posición 19\n\nDF en posición 0: Edat\nDF en posición 1: Edat\nDF en posición 2: Edat\nDF en posición 3: Edat\nDF en posición 4: Edat\nDF en posición 5: Descripcio_tipus_persona\nDF en posición 6: Descripcio_tipus_persona\nDF en posición 7: Descripcio_tipus_persona\nDF en posición 8: Edat\nDF en posición 9: Edat\n\n-------------------------------------\n\nColumna en posición 20\n\nDF en posición 0: Descripció victimització\nDF en posición 1: Descripció victimització\nDF en posición 2: Descripció victimització\nDF en posición 3: Descripció victimització\nDF en posición 4: Descripció victimització\nDF en posición 5: Descripcio_victimitzacio\nDF en posición 6: Descripcio_victimitzacio\nDF en posición 7: Descripcio_victimitzacio\nDF en posición 8: Descripcio_tipus_persona\nDF en posición 9: Descripció_tipus_persona\n\n-------------------------------------\n\nColumna en posición 21\n\nDF en posición 0: Coordenada UTM (Y)\nDF en posición 1: Coordenada UTM (Y)\nDF en posición 2: Coordenada UTM (Y)\nDF en posición 3: Coordenada UTM (Y)\nDF en posición 4: Coordenada UTM (Y)\nDF en posición 5: Coordenada_UTM_X\nDF en posición 6: Coordenada_UTM_X\nDF en posición 7: Coordenada_UTM_X\nDF en posición 8: Descripcio_Motiu_desplaçament_conductor\nDF en posición 9: Descripcio_Motiu_desplaĂ§ament_conductor\n\n-------------------------------------\n\nColumna en posición 22\n\nDF en posición 0: Coordenada UTM (X)\nDF en posición 1: Coordenada UTM (X)\nDF en posición 2: Coordenada UTM (X)\nDF en posición 3: Coordenada UTM (X)\nDF en posición 4: Coordenada UTM (X)\nDF en posición 5: Coordenada_UTM_Y\nDF en posición 6: Coordenada_UTM_Y\nDF en posición 7: Coordenada_UTM_Y\nDF en posición 8: Descripcio_victimitzacio\nDF en posición 9: Descripcio_victimitzacio\n\n-------------------------------------\n\nColumna en posición 23\n\nDF en posición 0: No contiene columnas en la posición 23\nDF en posición 1: No contiene columnas en la posición 23\nDF en posición 2: No contiene columnas en la posición 23\nDF en posición 3: No contiene columnas en la posición 23\nDF en posición 4: No contiene columnas en la posición 23\nDF en posición 5: Longitud\nDF en posición 6: Longitud\nDF en posición 7: Longitud\nDF en posición 8: Coordenada_UTM_X\nDF en posición 9: Coordenada_UTM_X\n\n-------------------------------------\n\nColumna en posición 24\n\nDF en posición 0: No contiene columnas en la posición 24\nDF en posición 1: No contiene columnas en la posición 24\nDF en posición 2: No contiene columnas en la posición 24\nDF en posición 3: No contiene columnas en la posición 24\nDF en posición 4: No contiene columnas en la posición 24\nDF en posición 5: Latitud\nDF en posición 6: Latitud\nDF en posición 7: Latitud\nDF en posición 8: Coordenada_UTM_Y\nDF en posición 9: Coordenada_UTM_Y\n\n-------------------------------------\n\nColumna en posición 25\n\nDF en posición 0: No contiene columnas en la posición 25\nDF en posición 1: No contiene columnas en la posición 25\nDF en posición 2: No contiene columnas en la posición 25\nDF en posición 3: No contiene columnas en la posición 25\nDF en posición 4: No contiene columnas en la posición 25\nDF en posición 5: No contiene columnas en la posición 25\nDF en posición 6: No contiene columnas en la posición 25\nDF en posición 7: No contiene columnas en la posición 25\nDF en posición 8: Longitud\nDF en posición 9: Longitud\n\n-------------------------------------\n\nColumna en posición 26\n\nDF en posición 0: No contiene columnas en la posición 26\nDF en posición 1: No contiene columnas en la posición 26\nDF en posición 2: No contiene columnas en la posición 26\nDF en posición 3: No contiene columnas en la posición 26\nDF en posición 4: No contiene columnas en la posición 26\nDF en posición 5: No contiene columnas en la posición 26\nDF en posición 6: No contiene columnas en la posición 26\nDF en posición 7: No contiene columnas en la posición 26\nDF en posición 8: Latitud\nDF en posición 9: Latitud\n\n-------------------------------------\n\n"
     ]
    }
   ],
   "source": [
    "nombre_cada_columna(lista_df_personas)"
   ]
  },
  {
   "source": [
    "### Se puede ver que las columnas de referidas a \"Descripción tipo persona\" y \"Edad\" están alternadas. Las reacomodaremos, colocando en todos los casos en primer lugar el tipo de persona y en segundo lugar su edad.\n",
    "# MAS ABAJO"
   ],
   "cell_type": "markdown",
   "metadata": {}
  },
  {
   "cell_type": "code",
   "execution_count": null,
   "metadata": {},
   "outputs": [],
   "source": [
    "#def ordenar_columnas_finales(lista_dataframes):\n",
    "tamanio_columnas = []\n",
    "for df in lista_df_personas:\n",
    "    tamanio_columnas.append(len(df.columns))\n",
    "    a = max(tamanio_columnas)\n",
    "for i in range(len(lista_dataframes)):\n",
    "    if (lista_dataframes[i].columns[-1] == 'Coordenada UTM (X)') or (lista_dataframes[i].columns[-1] == 'Coordenada_UTM_X'):\n",
    "        col = lista_dataframes[i].columns.to_list()\n",
    "        col2 = col[0:(a-2)] + col[-1:] + col[-2:-1]\n",
    "        lista_dataframes[i] = lista_dataframes[i][col2]"
   ]
  },
  {
   "cell_type": "code",
   "execution_count": 18,
   "metadata": {},
   "outputs": [
    {
     "output_type": "stream",
     "name": "stdout",
     "text": [
      "Columnas de dataframe en posición 0:\n------------------------------------\nIndex(['Número d'expedient', 'Codi districte', 'Nom districte', 'Codi barri',\n       'Nom barri', 'Codi carrer', 'Nom carrer', 'Num postal caption',\n       'Descripció dia setmana', 'Dia setmana', 'Descripció tipus dia',\n       'NK Any', 'Mes de any', 'Nom mes', 'Dia de mes', 'Hora de dia',\n       'Descripció causa vianant', 'Desc. Tipus vehicle implicat',\n       'Descripció sexe', 'Descripció tipus persona', 'Edat',\n       'Descripció victimització', 'Coordenada UTM (Y)', 'Coordenada UTM (X)'],\n      dtype='object')\n\nNúmero de columnas: 24\n\n===========================================================================================\nColumnas de dataframe en posición 1:\n------------------------------------\nIndex(['Número d'expedient', 'Codi districte', 'Nom districte', 'Codi barri',\n       'Nom barri', 'Codi carrer', 'Nom carrer', 'Num postal caption',\n       'Descripció dia setmana', 'Dia setmana', 'Descripció tipus dia',\n       'NK Any', 'Mes de any', 'Nom mes', 'Dia de mes', 'Hora de dia',\n       'Descripció causa vianant', 'Desc. Tipus vehicle implicat',\n       'Descripció sexe', 'Descripció tipus persona', 'Edat',\n       'Descripció victimització', 'Coordenada UTM (Y)', 'Coordenada UTM (X)'],\n      dtype='object')\n\nNúmero de columnas: 24\n\n===========================================================================================\nColumnas de dataframe en posición 2:\n------------------------------------\nIndex(['Número d'expedient', 'Codi districte', 'Nom districte', 'Codi barri',\n       'Nom barri', 'Codi carrer', 'Nom carrer', 'Num postal caption',\n       'Descripció dia setmana', 'Dia setmana', 'Descripció tipus dia',\n       'NK Any', 'Mes de any', 'Nom mes', 'Dia de mes', 'Hora de dia',\n       'Descripció causa vianant', 'Desc. Tipus vehicle implicat',\n       'Descripció sexe', 'Descripció tipus persona', 'Edat',\n       'Descripció victimització', 'Coordenada UTM (Y)', 'Coordenada UTM (X)'],\n      dtype='object')\n\nNúmero de columnas: 24\n\n===========================================================================================\nColumnas de dataframe en posición 3:\n------------------------------------\nIndex(['Número d'expedient', 'Codi districte', 'Nom districte', 'Codi barri',\n       'Nom barri', 'Codi carrer', 'Nom carrer', 'Num postal caption',\n       'Descripció dia setmana', 'Dia setmana', 'Descripció tipus dia',\n       'NK Any', 'Mes de any', 'Nom mes', 'Dia de mes', 'Hora de dia',\n       'Descripció causa vianant', 'Desc. Tipus vehicle implicat',\n       'Descripció sexe', 'Descripció tipus persona', 'Edat',\n       'Descripció victimització', 'Coordenada UTM (Y)', 'Coordenada UTM (X)'],\n      dtype='object')\n\nNúmero de columnas: 24\n\n===========================================================================================\nColumnas de dataframe en posición 4:\n------------------------------------\nIndex(['Número d'expedient', 'Codi districte', 'Nom districte', 'Codi barri',\n       'Nom barri', 'Codi carrer', 'Nom carrer', 'Num postal caption',\n       'Descripció dia setmana', 'Dia setmana', 'Descripció tipus dia',\n       'NK Any', 'Mes de any', 'Nom mes', 'Dia de mes', 'Hora de dia',\n       'Descripció causa vianant', 'Desc. Tipus vehicle implicat',\n       'Descripció sexe', 'Descripció tipus persona', 'Edat',\n       'Descripció victimització', 'Coordenada UTM (Y)', 'Coordenada UTM (X)'],\n      dtype='object')\n\nNúmero de columnas: 24\n\n===========================================================================================\nColumnas de dataframe en posición 5:\n------------------------------------\nIndex(['Numero_expedient', 'Codi_districte', 'Nom_districte', 'Codi_barri',\n       'Nom_barri', 'Codi_carrer', 'Nom_carrer', 'Num_postal ',\n       'Descripcio_dia_setmana', 'Dia_setmana', 'Descripcio_tipus_dia', 'Any',\n       'Mes_any', 'Nom_mes', 'Dia_mes', 'Hora_dia', 'Descripcio_causa_vianant',\n       'Desc_Tipus_vehicle_implicat', 'Descripcio_sexe', 'Edat',\n       'Descripcio_tipus_persona', 'Descripcio_situacio',\n       'Descripcio_victimitzacio', 'Coordenada_UTM_X', 'Coordenada_UTM_Y',\n       'Longitud', 'Latitud'],\n      dtype='object')\n\nNúmero de columnas: 27\n\n===========================================================================================\nColumnas de dataframe en posición 6:\n------------------------------------\nIndex(['Numero_expedient', 'Codi_districte', 'Nom_districte', 'Codi_barri',\n       'Nom_barri', 'Codi_carrer', 'Nom_carrer', 'Num_postal ',\n       'Descripcio_dia_setmana', 'Dia_setmana', 'Descripcio_tipus_dia', 'Any',\n       'Mes_ any', 'Nom_mes', 'Dia_mes', 'Hora_dia',\n       'Descripcio_causa_vianant', 'Desc_Tipus_vehicle_implicat',\n       'Descripcio_sexe', 'Edat', 'Descripcio_tipus_persona',\n       'Descripcio_situacio', 'Descripcio_victimitzacio', 'Coordenada_UTM_X',\n       'Coordenada_UTM_Y', 'Longitud', 'Latitud'],\n      dtype='object')\n\nNúmero de columnas: 27\n\n===========================================================================================\nColumnas de dataframe en posición 7:\n------------------------------------\nIndex(['Numero_expedient', 'Codi_districte', 'Nom_districte', 'Codi_barri',\n       'Nom_barri', 'Codi_carrer', 'Nom_carrer', 'Num_postal ',\n       'Descripcio_dia_setmana', 'Dia_setmana', 'Descripcio_tipus_dia', 'Any',\n       'Mes_ any', 'Nom_mes', 'Dia_mes', 'Hora_dia',\n       'Descripcio_causa_vianant', 'Desc_Tipus_vehicle_implicat',\n       'Descripcio_sexe', 'Edat', 'Descripcio_tipus_persona',\n       'Descripcio_situacio', 'Descripcio_victimitzacio', 'Coordenada_UTM_X',\n       'Coordenada_UTM_Y', 'Longitud', 'Latitud'],\n      dtype='object')\n\nNúmero de columnas: 27\n\n===========================================================================================\nColumnas de dataframe en posición 8:\n------------------------------------\nIndex(['Numero_Expedient', 'Codi_districte', 'Nom_districte', 'Codi_barri',\n       'Nom_barri', 'Codi_carrer', 'Num_postal', 'Num_postal.1',\n       'Descripcio_dia_setmana', 'Dia_setmana', 'Descripcio_tipus_dia',\n       'NK_ Any', 'Mes_ any', 'Nom_mes', 'Dia_mes', 'Hora_dia',\n       'Descripcio_causa_vianant', 'Desc_Tipus_vehicle_implicat',\n       'Descripcio_sexe', 'Edat', 'Descripcio_tipus_persona',\n       'Descripcio_Lloc_atropellament_vianat',\n       'Descripcio_Motiu_desplaçament_vianant',\n       'Descripcio_Motiu_desplaçament_conductor', 'Descripcio_victimitzacio',\n       'Coordenada_UTM_X', 'Coordenada_UTM_Y', 'Longitud', 'Latitud'],\n      dtype='object')\n\nNúmero de columnas: 29\n\n===========================================================================================\nColumnas de dataframe en posición 9:\n------------------------------------\nIndex(['Numero_Expedient', 'Codi_districte', 'Nom_districte', 'Codi_barri',\n       'Nom_barri', 'Codi_carrer', 'Nom_carrer', 'Num_postal',\n       'Descripcio_dia_setmana', 'Dia_setmana', 'Descripcio_tipus_dia',\n       'NK_ Any', 'Mes_ any', 'Nom_mes', 'Dia_mes', 'Hora_dia',\n       'Descripcio_causa_vianant', 'Desc_Tipus_vehicle_implicat',\n       'Descripció_sexe', 'Edat', 'Descripció_tipus_persona',\n       'Descripcio_Lloc_atropellament_vianat',\n       'Descripcio_Motiu_desplaĂ§ament_vianant',\n       'Descripcio_Motiu_desplaĂ§ament_conductor', 'Descripcio_victimitzacio',\n       'Coordenada_UTM_X', 'Coordenada_UTM_Y', 'Longitud', 'Latitud'],\n      dtype='object')\n\nNúmero de columnas: 29\n\n===========================================================================================\n"
     ]
    }
   ],
   "source": [
    "mostrar_columnas(lista_df_personas)"
   ]
  },
  {
   "cell_type": "code",
   "execution_count": null,
   "metadata": {},
   "outputs": [],
   "source": []
  }
 ]
}