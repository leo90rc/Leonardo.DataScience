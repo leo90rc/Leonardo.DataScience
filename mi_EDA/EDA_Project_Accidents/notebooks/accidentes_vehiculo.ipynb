{
 "metadata": {
  "language_info": {
   "codemirror_mode": {
    "name": "ipython",
    "version": 3
   },
   "file_extension": ".py",
   "mimetype": "text/x-python",
   "name": "python",
   "nbconvert_exporter": "python",
   "pygments_lexer": "ipython3",
   "version": "3.7.4"
  },
  "orig_nbformat": 2,
  "kernelspec": {
   "name": "python374jvsc74a57bd0a0947237fadc8b5561fed326db280cc5ec46a670c87cfb3a0489cf95ff262303",
   "display_name": "Python 3.7.4 64-bit"
  },
  "metadata": {
   "interpreter": {
    "hash": "a0947237fadc8b5561fed326db280cc5ec46a670c87cfb3a0489cf95ff262303"
   }
  }
 },
 "nbformat": 4,
 "nbformat_minor": 2,
 "cells": [
  {
   "cell_type": "code",
   "execution_count": 1,
   "metadata": {},
   "outputs": [],
   "source": [
    "import pandas as pd"
   ]
  },
  {
   "cell_type": "code",
   "execution_count": 2,
   "metadata": {},
   "outputs": [],
   "source": [
    "def enlistar_dataframes(porcion_fichero):\n",
    "    ''' El argumento debe ser la porción del fichero correspondiente (str). '''\n",
    "    lista_df = []\n",
    "    for i in range(11,21):\n",
    "        try:\n",
    "            i = pd.read_csv('20'+str(i)+'/20'+str(i)+ porcion_fichero +str(i)+'-utf8.csv')\n",
    "        except:\n",
    "            try:\n",
    "                i = pd.read_csv('20'+str(i)+'/20'+str(i)+ porcion_fichero +str(i)+'-utf8.csv', sep=';')\n",
    "            except:\n",
    "                i = pd.read_excel('20'+str(i)+'/20'+str(i)+ porcion_fichero +str(i)+'.xlsx')\n",
    "        lista_df.append(i)\n",
    "    return lista_df\n",
    "\n",
    "\n",
    "\n",
    "def columna_vs_columna(lista_dataframes, posicion_df1, posicion_df2):\n",
    "    ''' Compara los nombres de las columnas de 2 dataframes que se encuentran en una lista, tomando como argumento la posición de dicho dataframe en la lista.\n",
    "    \n",
    "    Tener en cuenta que, para aplicarla, ambos dataframes deben tener la misma cantidad de columnas. '''\n",
    "    try:\n",
    "        for pos, valor in enumerate(lista_dataframes[posicion_df1].columns == lista_dataframes[posicion_df2].columns):\n",
    "            if valor == False:\n",
    "                print('         Posición de columna diferente: ' + str(pos))\n",
    "                print('         ---------------------------------')\n",
    "                print('         Columna de DF en posición ' + str(posicion_df1) + ': ' + lista_dataframes[posicion_df1].columns[pos])\n",
    "                print('         Columna de DF en posición ' + str(posicion_df2) + ': ' + lista_dataframes[posicion_df2].columns[pos])\n",
    "                print('         ================================================\\n')\n",
    "    except:\n",
    "        print('Los dataframes a comparar deben tener la misma cantidad de columnas.')\n",
    "\n",
    "\n",
    "\n",
    "def comparar_columnas(lista_dataframes): \n",
    "    ''' SE DEBE INGRESAR UNA LISTA DE DATAFRAMES A COMPARAR. '''\n",
    "    for i in range(len(lista_dataframes)):\n",
    "            for j in range(1, len(lista_dataframes)):    \n",
    "                if i < j:\n",
    "                    if len(lista_dataframes[i].columns) == len(lista_dataframes[j].columns):\n",
    "                        columnas_iguales = lista_dataframes[i].columns == lista_dataframes[j].columns # TRUE si coinciden, FALSE si no\n",
    "                        if all(columnas_iguales):\n",
    "                            print('Las columnas de ' + str(i) + ' (' + str(len(lista_dataframes[i].columns)) +') y ' + str(j)+ ' (' + str(len(lista_dataframes[j].columns)) + ') COINCIDEN.')\n",
    "                            print('======================================================')\n",
    "                            break\n",
    "                        else:\n",
    "                            print('\\nLas columnas de ' + str(i) + ' (' + str(len(lista_dataframes[i].columns)) +') y ' + str(j) + ' (' + str(len(lista_dataframes[j].columns)) + ') SON DISTINTAS.\\n')\n",
    "                            columna_vs_columna(lista_dataframes, i, j)\n",
    "                    else:\n",
    "                        print(str(i) +  ' (' + str(len(lista_dataframes[i].columns))  + ') y ' + str(j) + ' (' + str(len(lista_dataframes[j].columns)) + ') tienen distinta CANTIDAD de columnas.')\n",
    "                        print('======================================================')\n",
    "\n",
    "\n",
    "\n",
    "def mostrar_columnas(lista_dataframes):\n",
    "    ''' SE DEBE INGRESAR UNA LISTA DE DATAFRAMES '''\n",
    "    for i in range(len(lista_dataframes)):\n",
    "        print('Columnas de dataframe en posición ' + str(i) + ':')\n",
    "        print('------------------------------------')\n",
    "        print(lista_dataframes[i].columns)\n",
    "        print('\\nNúmero de columnas: ' + str(len(lista_dataframes[i].columns)) + '\\n')\n",
    "        print('===========================================================================================')\n",
    "\n",
    "\n",
    "\n",
    "def nombre_cada_columna(lista_dataframes):\n",
    "    tamanio_columnas = []\n",
    "    for df in lista_dataframes:\n",
    "        tamanio_columnas.append(len(df.columns))\n",
    "        a = max(tamanio_columnas)\n",
    "    for i in range(0,a):\n",
    "        print('Columna en posición ' + str(i) + '\\n')\n",
    "        for j in range(len(lista_dataframes)):\n",
    "            try:\n",
    "                print('DF en posición ' + str (j) + ': ' + str(lista_dataframes[j].columns[i]))\n",
    "            except:\n",
    "                print('DF en posición ' + str (j) + ': No contiene columnas en la posición ' + str(i))\n",
    "        print('\\n-------------------------------------\\n')\n",
    "\n",
    "\n",
    "\n",
    "def ver_ultimas_columnas(lista_dataframes):\n",
    "    tamanio_columnas = []\n",
    "    for df in lista_dataframes:\n",
    "        tamanio_columnas.append(len(df.columns))\n",
    "        a = max(tamanio_columnas)\n",
    "    for i in range(len(lista_dataframes)):\n",
    "        if len(lista_dataframes[i].columns) == (a-2):\n",
    "            print('Posición del DF ' + str(i) + ': '+ str(list(lista_dataframes[i].columns[-2::])))\n",
    "        elif len(lista_dataframes[i].columns) == a:\n",
    "            print('Posición del DF ' + str(i) + ': ' + str(list(lista_dataframes[i].columns[-4::])))\n",
    "\n",
    "\n",
    "\n",
    "def eliminar_columnas_finales(lista_dataframes):\n",
    "    tamanio_columnas = []\n",
    "    for df in lista_dataframes:\n",
    "        tamanio_columnas.append(len(df.columns))\n",
    "        a = max(tamanio_columnas)\n",
    "    for i in range(len(lista_dataframes)):\n",
    "        if len(lista_dataframes[i].columns) == a:\n",
    "            lista_dataframes[i] = lista_dataframes[i].iloc[:,:(a-2)]\n",
    "\n",
    "\n",
    "\n",
    "def ordenar_columnas_finales(lista_dataframes):\n",
    "    tamanio_columnas = []\n",
    "    for df in lista_dataframes:\n",
    "        tamanio_columnas.append(len(df.columns))\n",
    "        a = max(tamanio_columnas)\n",
    "    for i in range(len(lista_dataframes)):\n",
    "        if (lista_dataframes[i].columns[-1] == 'Coordenada UTM (X)') or (lista_dataframes[i].columns[-1] == 'Coordenada_UTM_X'):\n",
    "            col = lista_dataframes[i].columns.to_list()\n",
    "            col2 = col[0:(a-2)] + col[-1:] + col[-2:-1]\n",
    "            lista_dataframes[i] = lista_dataframes[i][col2]\n",
    "\n",
    "\n",
    "\n",
    "def renombrar_columnas(lista_dataframes, lista_nombres):\n",
    "    for i in range(len(lista_dataframes)):\n",
    "        lista_dataframes[i].columns = lista_nombres\n",
    "\n",
    "\n",
    "\n",
    "def unificar_lista_dataframe(lista_dataframes):\n",
    "    df_concatenados = pd.DataFrame()\n",
    "    for i in range(1, len(lista_dataframes)):\n",
    "        df_concatenados = df_concatenados.append(lista_dataframes[i], ignore_index = True)\n",
    "    return df_concatenados"
   ]
  },
  {
   "cell_type": "code",
   "execution_count": 3,
   "metadata": {},
   "outputs": [],
   "source": [
    "porcion_fichero_vehiculo = '_ACCIDENTS_VEHICLES_GU_BCN_20'"
   ]
  },
  {
   "cell_type": "code",
   "execution_count": 4,
   "metadata": {},
   "outputs": [],
   "source": [
    "lista_df_vehiculo = enlistar_dataframes(porcion_fichero_vehiculo)"
   ]
  },
  {
   "cell_type": "code",
   "execution_count": 5,
   "metadata": {},
   "outputs": [
    {
     "output_type": "stream",
     "name": "stdout",
     "text": [
      "Las columnas de 0 (25) y 1 (25) COINCIDEN.\n======================================================\nLas columnas de 1 (25) y 2 (25) COINCIDEN.\n======================================================\n\nLas columnas de 2 (25) y 3 (25) SON DISTINTAS.\n\n         Posición de columna diferente: 0\n         ---------------------------------\n         Columna de DF en posición 2: Codi d'expedient\n         Columna de DF en posición 3: Codi d expedient\n         ================================================\n\nLas columnas de 2 (25) y 4 (25) COINCIDEN.\n======================================================\n\nLas columnas de 3 (25) y 4 (25) SON DISTINTAS.\n\n         Posición de columna diferente: 0\n         ---------------------------------\n         Columna de DF en posición 3: Codi d expedient\n         Columna de DF en posición 4: Codi d'expedient\n         ================================================\n\n3 (25) y 5 (27) tienen distinta CANTIDAD de columnas.\n======================================================\n3 (25) y 6 (27) tienen distinta CANTIDAD de columnas.\n======================================================\n3 (25) y 7 (28) tienen distinta CANTIDAD de columnas.\n======================================================\n3 (25) y 8 (28) tienen distinta CANTIDAD de columnas.\n======================================================\n3 (25) y 9 (28) tienen distinta CANTIDAD de columnas.\n======================================================\n4 (25) y 5 (27) tienen distinta CANTIDAD de columnas.\n======================================================\n4 (25) y 6 (27) tienen distinta CANTIDAD de columnas.\n======================================================\n4 (25) y 7 (28) tienen distinta CANTIDAD de columnas.\n======================================================\n4 (25) y 8 (28) tienen distinta CANTIDAD de columnas.\n======================================================\n4 (25) y 9 (28) tienen distinta CANTIDAD de columnas.\n======================================================\n\nLas columnas de 5 (27) y 6 (27) SON DISTINTAS.\n\n         Posición de columna diferente: 7\n         ---------------------------------\n         Columna de DF en posición 5: Num_postal\n         Columna de DF en posición 6: Num_postal \n         ================================================\n\n         Posición de columna diferente: 25\n         ---------------------------------\n         Columna de DF en posición 5:  Longitud\n         Columna de DF en posición 6: Longitud\n         ================================================\n\n         Posición de columna diferente: 26\n         ---------------------------------\n         Columna de DF en posición 5:  Latitud\n         Columna de DF en posición 6: Latitud\n         ================================================\n\n5 (27) y 7 (28) tienen distinta CANTIDAD de columnas.\n======================================================\n5 (27) y 8 (28) tienen distinta CANTIDAD de columnas.\n======================================================\n5 (27) y 9 (28) tienen distinta CANTIDAD de columnas.\n======================================================\n6 (27) y 7 (28) tienen distinta CANTIDAD de columnas.\n======================================================\n6 (27) y 8 (28) tienen distinta CANTIDAD de columnas.\n======================================================\n6 (27) y 9 (28) tienen distinta CANTIDAD de columnas.\n======================================================\n\nLas columnas de 7 (28) y 8 (28) SON DISTINTAS.\n\n         Posición de columna diferente: 0\n         ---------------------------------\n         Columna de DF en posición 7: Codi_expedient\n         Columna de DF en posición 8: Numero_expedient\n         ================================================\n\n         Posición de columna diferente: 7\n         ---------------------------------\n         Columna de DF en posición 7: Num_postal \n         Columna de DF en posición 8: Num_postal\n         ================================================\n\n         Posición de columna diferente: 11\n         ---------------------------------\n         Columna de DF en posición 7: Any\n         Columna de DF en posición 8: NK_Any\n         ================================================\n\n\nLas columnas de 7 (28) y 9 (28) SON DISTINTAS.\n\n         Posición de columna diferente: 0\n         ---------------------------------\n         Columna de DF en posición 7: Codi_expedient\n         Columna de DF en posición 9: Numero_expedient\n         ================================================\n\n         Posición de columna diferente: 7\n         ---------------------------------\n         Columna de DF en posición 7: Num_postal \n         Columna de DF en posición 9: Num_postal\n         ================================================\n\n         Posición de columna diferente: 11\n         ---------------------------------\n         Columna de DF en posición 7: Any\n         Columna de DF en posición 9: NK_Any\n         ================================================\n\n         Posición de columna diferente: 26\n         ---------------------------------\n         Columna de DF en posición 7: Longitud\n         Columna de DF en posición 9: Latitud\n         ================================================\n\n         Posición de columna diferente: 27\n         ---------------------------------\n         Columna de DF en posición 7: Latitud\n         Columna de DF en posición 9: Longitud\n         ================================================\n\n\nLas columnas de 8 (28) y 9 (28) SON DISTINTAS.\n\n         Posición de columna diferente: 26\n         ---------------------------------\n         Columna de DF en posición 8: Longitud\n         Columna de DF en posición 9: Latitud\n         ================================================\n\n         Posición de columna diferente: 27\n         ---------------------------------\n         Columna de DF en posición 8: Latitud\n         Columna de DF en posición 9: Longitud\n         ================================================\n\n"
     ]
    }
   ],
   "source": [
    "comparar_columnas(lista_df_vehiculo)"
   ]
  },
  {
   "cell_type": "code",
   "execution_count": 6,
   "metadata": {},
   "outputs": [
    {
     "output_type": "stream",
     "name": "stdout",
     "text": [
      "Columnas de dataframe en posición 0:\n------------------------------------\nIndex(['Codi d'expedient', 'Codi districte', 'Nom districte', 'Codi barri',\n       'Nom barri', 'Codi carrer', 'Nom carrer', 'Num postal caption',\n       'Descripció dia setmana', 'Dia setmana', 'Descripció tipus dia',\n       'NK Any', 'Mes de any', 'Nom mes', 'Dia de mes', 'Hora de dia',\n       'Descripció causa vianant', 'Descripció tipus de vehicle',\n       'Descripció model', 'Descripció marca', 'Descripció color',\n       'Descripció carnet', 'Antiguitat carnet', 'Coordenada UTM (Y)',\n       'Coordenada UTM (X)'],\n      dtype='object')\n\nNúmero de columnas: 25\n\n===========================================================================================\nColumnas de dataframe en posición 1:\n------------------------------------\nIndex(['Codi d'expedient', 'Codi districte', 'Nom districte', 'Codi barri',\n       'Nom barri', 'Codi carrer', 'Nom carrer', 'Num postal caption',\n       'Descripció dia setmana', 'Dia setmana', 'Descripció tipus dia',\n       'NK Any', 'Mes de any', 'Nom mes', 'Dia de mes', 'Hora de dia',\n       'Descripció causa vianant', 'Descripció tipus de vehicle',\n       'Descripció model', 'Descripció marca', 'Descripció color',\n       'Descripció carnet', 'Antiguitat carnet', 'Coordenada UTM (Y)',\n       'Coordenada UTM (X)'],\n      dtype='object')\n\nNúmero de columnas: 25\n\n===========================================================================================\nColumnas de dataframe en posición 2:\n------------------------------------\nIndex(['Codi d'expedient', 'Codi districte', 'Nom districte', 'Codi barri',\n       'Nom barri', 'Codi carrer', 'Nom carrer', 'Num postal caption',\n       'Descripció dia setmana', 'Dia setmana', 'Descripció tipus dia',\n       'NK Any', 'Mes de any', 'Nom mes', 'Dia de mes', 'Hora de dia',\n       'Descripció causa vianant', 'Descripció tipus de vehicle',\n       'Descripció model', 'Descripció marca', 'Descripció color',\n       'Descripció carnet', 'Antiguitat carnet', 'Coordenada UTM (Y)',\n       'Coordenada UTM (X)'],\n      dtype='object')\n\nNúmero de columnas: 25\n\n===========================================================================================\nColumnas de dataframe en posición 3:\n------------------------------------\nIndex(['Codi d expedient', 'Codi districte', 'Nom districte', 'Codi barri',\n       'Nom barri', 'Codi carrer', 'Nom carrer', 'Num postal caption',\n       'Descripció dia setmana', 'Dia setmana', 'Descripció tipus dia',\n       'NK Any', 'Mes de any', 'Nom mes', 'Dia de mes', 'Hora de dia',\n       'Descripció causa vianant', 'Descripció tipus de vehicle',\n       'Descripció model', 'Descripció marca', 'Descripció color',\n       'Descripció carnet', 'Antiguitat carnet', 'Coordenada UTM (Y)',\n       'Coordenada UTM (X)'],\n      dtype='object')\n\nNúmero de columnas: 25\n\n===========================================================================================\nColumnas de dataframe en posición 4:\n------------------------------------\nIndex(['Codi d'expedient', 'Codi districte', 'Nom districte', 'Codi barri',\n       'Nom barri', 'Codi carrer', 'Nom carrer', 'Num postal caption',\n       'Descripció dia setmana', 'Dia setmana', 'Descripció tipus dia',\n       'NK Any', 'Mes de any', 'Nom mes', 'Dia de mes', 'Hora de dia',\n       'Descripció causa vianant', 'Descripció tipus de vehicle',\n       'Descripció model', 'Descripció marca', 'Descripció color',\n       'Descripció carnet', 'Antiguitat carnet', 'Coordenada UTM (Y)',\n       'Coordenada UTM (X)'],\n      dtype='object')\n\nNúmero de columnas: 25\n\n===========================================================================================\nColumnas de dataframe en posición 5:\n------------------------------------\nIndex(['Codi_expedient', 'Codi_districte', 'Nom_districte', 'Codi_barri',\n       'Nom_barri', 'Codi_carrer', 'Nom_carrer', 'Num_postal',\n       'Descripcio_dia_setmana', 'Dia_setmana', 'Descripcio_tipus_dia', 'Any',\n       'Mes_any', 'Nom_mes', 'Dia_mes', 'Hora_dia', 'Descripcio_causa_vianant',\n       'Descripcio_tipus_vehicle', 'Descripcio_model', 'Descripcio_marca',\n       'Descripcio_color', 'Descripcio_carnet', 'Antiguitat_carnet',\n       'Coordenada_UTM_X', 'Coordenada_UTM_Y', ' Longitud', ' Latitud'],\n      dtype='object')\n\nNúmero de columnas: 27\n\n===========================================================================================\nColumnas de dataframe en posición 6:\n------------------------------------\nIndex(['Codi_expedient', 'Codi_districte', 'Nom_districte', 'Codi_barri',\n       'Nom_barri', 'Codi_carrer', 'Nom_carrer', 'Num_postal ',\n       'Descripcio_dia_setmana', 'Dia_setmana', 'Descripcio_tipus_dia', 'Any',\n       'Mes_any', 'Nom_mes', 'Dia_mes', 'Hora_dia', 'Descripcio_causa_vianant',\n       'Descripcio_tipus_vehicle', 'Descripcio_model', 'Descripcio_marca',\n       'Descripcio_color', 'Descripcio_carnet', 'Antiguitat_carnet',\n       'Coordenada_UTM_X', 'Coordenada_UTM_Y', 'Longitud', 'Latitud'],\n      dtype='object')\n\nNúmero de columnas: 27\n\n===========================================================================================\nColumnas de dataframe en posición 7:\n------------------------------------\nIndex(['Codi_expedient', 'Codi_districte', 'Nom_districte', 'Codi_barri',\n       'Nom_barri', 'Codi_carrer', 'Nom_carrer', 'Num_postal ',\n       'Descripcio_dia_setmana', 'Dia_setmana', 'Descripcio_tipus_dia', 'Any',\n       'Mes_any', 'Nom_mes', 'Dia_mes', 'Hora_dia', 'Descripcio_torn',\n       'Descripcio_causa_vianant', 'Descripcio_tipus_vehicle',\n       'Descripcio_model', 'Descripcio_marca', 'Descripcio_color',\n       'Descripcio_carnet', 'Antiguitat_carnet', 'Coordenada_UTM_X',\n       'Coordenada_UTM_Y', 'Longitud', 'Latitud'],\n      dtype='object')\n\nNúmero de columnas: 28\n\n===========================================================================================\nColumnas de dataframe en posición 8:\n------------------------------------\nIndex(['Numero_expedient', 'Codi_districte', 'Nom_districte', 'Codi_barri',\n       'Nom_barri', 'Codi_carrer', 'Nom_carrer', 'Num_postal',\n       'Descripcio_dia_setmana', 'Dia_setmana', 'Descripcio_tipus_dia',\n       'NK_Any', 'Mes_any', 'Nom_mes', 'Dia_mes', 'Hora_dia',\n       'Descripcio_torn', 'Descripcio_causa_vianant',\n       'Descripcio_tipus_vehicle', 'Descripcio_model', 'Descripcio_marca',\n       'Descripcio_color', 'Descripcio_carnet', 'Antiguitat_carnet',\n       'Coordenada_UTM_X', 'Coordenada_UTM_Y', 'Longitud', 'Latitud'],\n      dtype='object')\n\nNúmero de columnas: 28\n\n===========================================================================================\nColumnas de dataframe en posición 9:\n------------------------------------\nIndex(['Numero_expedient', 'Codi_districte', 'Nom_districte', 'Codi_barri',\n       'Nom_barri', 'Codi_carrer', 'Nom_carrer', 'Num_postal',\n       'Descripcio_dia_setmana', 'Dia_setmana', 'Descripcio_tipus_dia',\n       'NK_Any', 'Mes_any', 'Nom_mes', 'Dia_mes', 'Hora_dia',\n       'Descripcio_torn', 'Descripcio_causa_vianant',\n       'Descripcio_tipus_vehicle', 'Descripcio_model', 'Descripcio_marca',\n       'Descripcio_color', 'Descripcio_carnet', 'Antiguitat_carnet',\n       'Coordenada_UTM_X', 'Coordenada_UTM_Y', 'Latitud', 'Longitud'],\n      dtype='object')\n\nNúmero de columnas: 28\n\n===========================================================================================\n"
     ]
    }
   ],
   "source": [
    "mostrar_columnas(lista_df_vehiculo)"
   ]
  },
  {
   "cell_type": "code",
   "execution_count": 7,
   "metadata": {},
   "outputs": [
    {
     "output_type": "stream",
     "name": "stdout",
     "text": [
      "Columna en posición 0\n\nDF en posición 0: Codi d'expedient\nDF en posición 1: Codi d'expedient\nDF en posición 2: Codi d'expedient\nDF en posición 3: Codi d expedient\nDF en posición 4: Codi d'expedient\nDF en posición 5: Codi_expedient\nDF en posición 6: Codi_expedient\nDF en posición 7: Codi_expedient\nDF en posición 8: Numero_expedient\nDF en posición 9: Numero_expedient\n\n-------------------------------------\n\nColumna en posición 1\n\nDF en posición 0: Codi districte\nDF en posición 1: Codi districte\nDF en posición 2: Codi districte\nDF en posición 3: Codi districte\nDF en posición 4: Codi districte\nDF en posición 5: Codi_districte\nDF en posición 6: Codi_districte\nDF en posición 7: Codi_districte\nDF en posición 8: Codi_districte\nDF en posición 9: Codi_districte\n\n-------------------------------------\n\nColumna en posición 2\n\nDF en posición 0: Nom districte\nDF en posición 1: Nom districte\nDF en posición 2: Nom districte\nDF en posición 3: Nom districte\nDF en posición 4: Nom districte\nDF en posición 5: Nom_districte\nDF en posición 6: Nom_districte\nDF en posición 7: Nom_districte\nDF en posición 8: Nom_districte\nDF en posición 9: Nom_districte\n\n-------------------------------------\n\nColumna en posición 3\n\nDF en posición 0: Codi barri\nDF en posición 1: Codi barri\nDF en posición 2: Codi barri\nDF en posición 3: Codi barri\nDF en posición 4: Codi barri\nDF en posición 5: Codi_barri\nDF en posición 6: Codi_barri\nDF en posición 7: Codi_barri\nDF en posición 8: Codi_barri\nDF en posición 9: Codi_barri\n\n-------------------------------------\n\nColumna en posición 4\n\nDF en posición 0: Nom barri\nDF en posición 1: Nom barri\nDF en posición 2: Nom barri\nDF en posición 3: Nom barri\nDF en posición 4: Nom barri\nDF en posición 5: Nom_barri\nDF en posición 6: Nom_barri\nDF en posición 7: Nom_barri\nDF en posición 8: Nom_barri\nDF en posición 9: Nom_barri\n\n-------------------------------------\n\nColumna en posición 5\n\nDF en posición 0: Codi carrer\nDF en posición 1: Codi carrer\nDF en posición 2: Codi carrer\nDF en posición 3: Codi carrer\nDF en posición 4: Codi carrer\nDF en posición 5: Codi_carrer\nDF en posición 6: Codi_carrer\nDF en posición 7: Codi_carrer\nDF en posición 8: Codi_carrer\nDF en posición 9: Codi_carrer\n\n-------------------------------------\n\nColumna en posición 6\n\nDF en posición 0: Nom carrer\nDF en posición 1: Nom carrer\nDF en posición 2: Nom carrer\nDF en posición 3: Nom carrer\nDF en posición 4: Nom carrer\nDF en posición 5: Nom_carrer\nDF en posición 6: Nom_carrer\nDF en posición 7: Nom_carrer\nDF en posición 8: Nom_carrer\nDF en posición 9: Nom_carrer\n\n-------------------------------------\n\nColumna en posición 7\n\nDF en posición 0: Num postal caption\nDF en posición 1: Num postal caption\nDF en posición 2: Num postal caption\nDF en posición 3: Num postal caption\nDF en posición 4: Num postal caption\nDF en posición 5: Num_postal\nDF en posición 6: Num_postal \nDF en posición 7: Num_postal \nDF en posición 8: Num_postal\nDF en posición 9: Num_postal\n\n-------------------------------------\n\nColumna en posición 8\n\nDF en posición 0: Descripció dia setmana\nDF en posición 1: Descripció dia setmana\nDF en posición 2: Descripció dia setmana\nDF en posición 3: Descripció dia setmana\nDF en posición 4: Descripció dia setmana\nDF en posición 5: Descripcio_dia_setmana\nDF en posición 6: Descripcio_dia_setmana\nDF en posición 7: Descripcio_dia_setmana\nDF en posición 8: Descripcio_dia_setmana\nDF en posición 9: Descripcio_dia_setmana\n\n-------------------------------------\n\nColumna en posición 9\n\nDF en posición 0: Dia setmana\nDF en posición 1: Dia setmana\nDF en posición 2: Dia setmana\nDF en posición 3: Dia setmana\nDF en posición 4: Dia setmana\nDF en posición 5: Dia_setmana\nDF en posición 6: Dia_setmana\nDF en posición 7: Dia_setmana\nDF en posición 8: Dia_setmana\nDF en posición 9: Dia_setmana\n\n-------------------------------------\n\nColumna en posición 10\n\nDF en posición 0: Descripció tipus dia\nDF en posición 1: Descripció tipus dia\nDF en posición 2: Descripció tipus dia\nDF en posición 3: Descripció tipus dia\nDF en posición 4: Descripció tipus dia\nDF en posición 5: Descripcio_tipus_dia\nDF en posición 6: Descripcio_tipus_dia\nDF en posición 7: Descripcio_tipus_dia\nDF en posición 8: Descripcio_tipus_dia\nDF en posición 9: Descripcio_tipus_dia\n\n-------------------------------------\n\nColumna en posición 11\n\nDF en posición 0: NK Any\nDF en posición 1: NK Any\nDF en posición 2: NK Any\nDF en posición 3: NK Any\nDF en posición 4: NK Any\nDF en posición 5: Any\nDF en posición 6: Any\nDF en posición 7: Any\nDF en posición 8: NK_Any\nDF en posición 9: NK_Any\n\n-------------------------------------\n\nColumna en posición 12\n\nDF en posición 0: Mes de any\nDF en posición 1: Mes de any\nDF en posición 2: Mes de any\nDF en posición 3: Mes de any\nDF en posición 4: Mes de any\nDF en posición 5: Mes_any\nDF en posición 6: Mes_any\nDF en posición 7: Mes_any\nDF en posición 8: Mes_any\nDF en posición 9: Mes_any\n\n-------------------------------------\n\nColumna en posición 13\n\nDF en posición 0: Nom mes\nDF en posición 1: Nom mes\nDF en posición 2: Nom mes\nDF en posición 3: Nom mes\nDF en posición 4: Nom mes\nDF en posición 5: Nom_mes\nDF en posición 6: Nom_mes\nDF en posición 7: Nom_mes\nDF en posición 8: Nom_mes\nDF en posición 9: Nom_mes\n\n-------------------------------------\n\nColumna en posición 14\n\nDF en posición 0: Dia de mes\nDF en posición 1: Dia de mes\nDF en posición 2: Dia de mes\nDF en posición 3: Dia de mes\nDF en posición 4: Dia de mes\nDF en posición 5: Dia_mes\nDF en posición 6: Dia_mes\nDF en posición 7: Dia_mes\nDF en posición 8: Dia_mes\nDF en posición 9: Dia_mes\n\n-------------------------------------\n\nColumna en posición 15\n\nDF en posición 0: Hora de dia\nDF en posición 1: Hora de dia\nDF en posición 2: Hora de dia\nDF en posición 3: Hora de dia\nDF en posición 4: Hora de dia\nDF en posición 5: Hora_dia\nDF en posición 6: Hora_dia\nDF en posición 7: Hora_dia\nDF en posición 8: Hora_dia\nDF en posición 9: Hora_dia\n\n-------------------------------------\n\nColumna en posición 16\n\nDF en posición 0: Descripció causa vianant\nDF en posición 1: Descripció causa vianant\nDF en posición 2: Descripció causa vianant\nDF en posición 3: Descripció causa vianant\nDF en posición 4: Descripció causa vianant\nDF en posición 5: Descripcio_causa_vianant\nDF en posición 6: Descripcio_causa_vianant\nDF en posición 7: Descripcio_torn\nDF en posición 8: Descripcio_torn\nDF en posición 9: Descripcio_torn\n\n-------------------------------------\n\nColumna en posición 17\n\nDF en posición 0: Descripció tipus de vehicle\nDF en posición 1: Descripció tipus de vehicle\nDF en posición 2: Descripció tipus de vehicle\nDF en posición 3: Descripció tipus de vehicle\nDF en posición 4: Descripció tipus de vehicle\nDF en posición 5: Descripcio_tipus_vehicle\nDF en posición 6: Descripcio_tipus_vehicle\nDF en posición 7: Descripcio_causa_vianant\nDF en posición 8: Descripcio_causa_vianant\nDF en posición 9: Descripcio_causa_vianant\n\n-------------------------------------\n\nColumna en posición 18\n\nDF en posición 0: Descripció model\nDF en posición 1: Descripció model\nDF en posición 2: Descripció model\nDF en posición 3: Descripció model\nDF en posición 4: Descripció model\nDF en posición 5: Descripcio_model\nDF en posición 6: Descripcio_model\nDF en posición 7: Descripcio_tipus_vehicle\nDF en posición 8: Descripcio_tipus_vehicle\nDF en posición 9: Descripcio_tipus_vehicle\n\n-------------------------------------\n\nColumna en posición 19\n\nDF en posición 0: Descripció marca\nDF en posición 1: Descripció marca\nDF en posición 2: Descripció marca\nDF en posición 3: Descripció marca\nDF en posición 4: Descripció marca\nDF en posición 5: Descripcio_marca\nDF en posición 6: Descripcio_marca\nDF en posición 7: Descripcio_model\nDF en posición 8: Descripcio_model\nDF en posición 9: Descripcio_model\n\n-------------------------------------\n\nColumna en posición 20\n\nDF en posición 0: Descripció color\nDF en posición 1: Descripció color\nDF en posición 2: Descripció color\nDF en posición 3: Descripció color\nDF en posición 4: Descripció color\nDF en posición 5: Descripcio_color\nDF en posición 6: Descripcio_color\nDF en posición 7: Descripcio_marca\nDF en posición 8: Descripcio_marca\nDF en posición 9: Descripcio_marca\n\n-------------------------------------\n\nColumna en posición 21\n\nDF en posición 0: Descripció carnet\nDF en posición 1: Descripció carnet\nDF en posición 2: Descripció carnet\nDF en posición 3: Descripció carnet\nDF en posición 4: Descripció carnet\nDF en posición 5: Descripcio_carnet\nDF en posición 6: Descripcio_carnet\nDF en posición 7: Descripcio_color\nDF en posición 8: Descripcio_color\nDF en posición 9: Descripcio_color\n\n-------------------------------------\n\nColumna en posición 22\n\nDF en posición 0: Antiguitat carnet\nDF en posición 1: Antiguitat carnet\nDF en posición 2: Antiguitat carnet\nDF en posición 3: Antiguitat carnet\nDF en posición 4: Antiguitat carnet\nDF en posición 5: Antiguitat_carnet\nDF en posición 6: Antiguitat_carnet\nDF en posición 7: Descripcio_carnet\nDF en posición 8: Descripcio_carnet\nDF en posición 9: Descripcio_carnet\n\n-------------------------------------\n\nColumna en posición 23\n\nDF en posición 0: Coordenada UTM (Y)\nDF en posición 1: Coordenada UTM (Y)\nDF en posición 2: Coordenada UTM (Y)\nDF en posición 3: Coordenada UTM (Y)\nDF en posición 4: Coordenada UTM (Y)\nDF en posición 5: Coordenada_UTM_X\nDF en posición 6: Coordenada_UTM_X\nDF en posición 7: Antiguitat_carnet\nDF en posición 8: Antiguitat_carnet\nDF en posición 9: Antiguitat_carnet\n\n-------------------------------------\n\nColumna en posición 24\n\nDF en posición 0: Coordenada UTM (X)\nDF en posición 1: Coordenada UTM (X)\nDF en posición 2: Coordenada UTM (X)\nDF en posición 3: Coordenada UTM (X)\nDF en posición 4: Coordenada UTM (X)\nDF en posición 5: Coordenada_UTM_Y\nDF en posición 6: Coordenada_UTM_Y\nDF en posición 7: Coordenada_UTM_X\nDF en posición 8: Coordenada_UTM_X\nDF en posición 9: Coordenada_UTM_X\n\n-------------------------------------\n\nColumna en posición 25\n\nDF en posición 0: No contiene columnas en la posición 25\nDF en posición 1: No contiene columnas en la posición 25\nDF en posición 2: No contiene columnas en la posición 25\nDF en posición 3: No contiene columnas en la posición 25\nDF en posición 4: No contiene columnas en la posición 25\nDF en posición 5:  Longitud\nDF en posición 6: Longitud\nDF en posición 7: Coordenada_UTM_Y\nDF en posición 8: Coordenada_UTM_Y\nDF en posición 9: Coordenada_UTM_Y\n\n-------------------------------------\n\nColumna en posición 26\n\nDF en posición 0: No contiene columnas en la posición 26\nDF en posición 1: No contiene columnas en la posición 26\nDF en posición 2: No contiene columnas en la posición 26\nDF en posición 3: No contiene columnas en la posición 26\nDF en posición 4: No contiene columnas en la posición 26\nDF en posición 5:  Latitud\nDF en posición 6: Latitud\nDF en posición 7: Longitud\nDF en posición 8: Longitud\nDF en posición 9: Latitud\n\n-------------------------------------\n\nColumna en posición 27\n\nDF en posición 0: No contiene columnas en la posición 27\nDF en posición 1: No contiene columnas en la posición 27\nDF en posición 2: No contiene columnas en la posición 27\nDF en posición 3: No contiene columnas en la posición 27\nDF en posición 4: No contiene columnas en la posición 27\nDF en posición 5: No contiene columnas en la posición 27\nDF en posición 6: No contiene columnas en la posición 27\nDF en posición 7: Latitud\nDF en posición 8: Latitud\nDF en posición 9: Longitud\n\n-------------------------------------\n\n"
     ]
    }
   ],
   "source": [
    "nombre_cada_columna(lista_df_vehiculo)"
   ]
  },
  {
   "cell_type": "code",
   "execution_count": 9,
   "metadata": {},
   "outputs": [
    {
     "output_type": "execute_result",
     "data": {
      "text/plain": [
       "   Dia de mes  Hora de dia  Descripció causa vianant  \\\n",
       "0           7           16  No és causa del  vianant   \n",
       "\n",
       "  Descripció tipus de vehicle Descripció model Descripció marca  \\\n",
       "0                     Turismo              206          PEUGEOT   \n",
       "\n",
       "  Descripció color Descripció carnet Antiguitat carnet Coordenada UTM (Y)  \\\n",
       "0            Blanc                 B                 9         4582403,96   \n",
       "\n",
       "  Coordenada UTM (X)  \n",
       "0          429861,51  "
      ],
      "text/html": "<div>\n<style scoped>\n    .dataframe tbody tr th:only-of-type {\n        vertical-align: middle;\n    }\n\n    .dataframe tbody tr th {\n        vertical-align: top;\n    }\n\n    .dataframe thead th {\n        text-align: right;\n    }\n</style>\n<table border=\"1\" class=\"dataframe\">\n  <thead>\n    <tr style=\"text-align: right;\">\n      <th></th>\n      <th>Dia de mes</th>\n      <th>Hora de dia</th>\n      <th>Descripció causa vianant</th>\n      <th>Descripció tipus de vehicle</th>\n      <th>Descripció model</th>\n      <th>Descripció marca</th>\n      <th>Descripció color</th>\n      <th>Descripció carnet</th>\n      <th>Antiguitat carnet</th>\n      <th>Coordenada UTM (Y)</th>\n      <th>Coordenada UTM (X)</th>\n    </tr>\n  </thead>\n  <tbody>\n    <tr>\n      <th>0</th>\n      <td>7</td>\n      <td>16</td>\n      <td>No és causa del  vianant</td>\n      <td>Turismo</td>\n      <td>206</td>\n      <td>PEUGEOT</td>\n      <td>Blanc</td>\n      <td>B</td>\n      <td>9</td>\n      <td>4582403,96</td>\n      <td>429861,51</td>\n    </tr>\n  </tbody>\n</table>\n</div>"
     },
     "metadata": {},
     "execution_count": 9
    }
   ],
   "source": [
    "lista_df_vehiculo[0].head(1).iloc[:,14:]"
   ]
  },
  {
   "cell_type": "code",
   "execution_count": 13,
   "metadata": {},
   "outputs": [
    {
     "output_type": "execute_result",
     "data": {
      "text/plain": [
       "   Dia_mes  Hora_dia Descripcio_torn  Descripcio_causa_vianant  \\\n",
       "0       30         0             Nit  No és causa del  vianant   \n",
       "\n",
       "  Descripcio_tipus_vehicle Descripcio_model Descripcio_marca Descripcio_color  \\\n",
       "0                  Turisme          CORDOBA             SEAT            Blanc   \n",
       "\n",
       "  Descripcio_carnet Antiguitat_carnet  Coordenada_UTM_X  Coordenada_UTM_Y  \\\n",
       "0                 B                 5          431228.3        4581110.84   \n",
       "\n",
       "   Longitud    Latitud  \n",
       "0  2.176455  41.376735  "
      ],
      "text/html": "<div>\n<style scoped>\n    .dataframe tbody tr th:only-of-type {\n        vertical-align: middle;\n    }\n\n    .dataframe tbody tr th {\n        vertical-align: top;\n    }\n\n    .dataframe thead th {\n        text-align: right;\n    }\n</style>\n<table border=\"1\" class=\"dataframe\">\n  <thead>\n    <tr style=\"text-align: right;\">\n      <th></th>\n      <th>Dia_mes</th>\n      <th>Hora_dia</th>\n      <th>Descripcio_torn</th>\n      <th>Descripcio_causa_vianant</th>\n      <th>Descripcio_tipus_vehicle</th>\n      <th>Descripcio_model</th>\n      <th>Descripcio_marca</th>\n      <th>Descripcio_color</th>\n      <th>Descripcio_carnet</th>\n      <th>Antiguitat_carnet</th>\n      <th>Coordenada_UTM_X</th>\n      <th>Coordenada_UTM_Y</th>\n      <th>Longitud</th>\n      <th>Latitud</th>\n    </tr>\n  </thead>\n  <tbody>\n    <tr>\n      <th>0</th>\n      <td>30</td>\n      <td>0</td>\n      <td>Nit</td>\n      <td>No és causa del  vianant</td>\n      <td>Turisme</td>\n      <td>CORDOBA</td>\n      <td>SEAT</td>\n      <td>Blanc</td>\n      <td>B</td>\n      <td>5</td>\n      <td>431228.3</td>\n      <td>4581110.84</td>\n      <td>2.176455</td>\n      <td>41.376735</td>\n    </tr>\n  </tbody>\n</table>\n</div>"
     },
     "metadata": {},
     "execution_count": 13
    }
   ],
   "source": [
    "lista_df_vehiculo[7].head(1).iloc[:,14:]"
   ]
  },
  {
   "source": [
    "### Vemos que los dataframes en las posiciones 7, 8 y 9 tienen una columna extra de \"Descripcio_torn\". Ésta columna no figura en los otros dataframes de la ``lista_df_vehiculos``, pero sí aparece en otros dataframes. Entonces, podemos eliminarlas ya que luego el dato lo tendremos basándonos en sus datasets relacionados."
   ],
   "cell_type": "markdown",
   "metadata": {}
  },
  {
   "cell_type": "code",
   "execution_count": 14,
   "metadata": {},
   "outputs": [],
   "source": [
    "for i in range(7,10):\n",
    "    lista_df_vehiculo[i].drop(['Descripcio_torn'], axis= 1, inplace= True)"
   ]
  },
  {
   "cell_type": "code",
   "execution_count": null,
   "metadata": {},
   "outputs": [],
   "source": []
  },
  {
   "cell_type": "code",
   "execution_count": 15,
   "metadata": {},
   "outputs": [
    {
     "output_type": "stream",
     "name": "stdout",
     "text": [
      "Columna en posición 0\n\nDF en posición 0: Codi d'expedient\nDF en posición 1: Codi d'expedient\nDF en posición 2: Codi d'expedient\nDF en posición 3: Codi d expedient\nDF en posición 4: Codi d'expedient\nDF en posición 5: Codi_expedient\nDF en posición 6: Codi_expedient\nDF en posición 7: Codi_expedient\nDF en posición 8: Numero_expedient\nDF en posición 9: Numero_expedient\n\n-------------------------------------\n\nColumna en posición 1\n\nDF en posición 0: Codi districte\nDF en posición 1: Codi districte\nDF en posición 2: Codi districte\nDF en posición 3: Codi districte\nDF en posición 4: Codi districte\nDF en posición 5: Codi_districte\nDF en posición 6: Codi_districte\nDF en posición 7: Codi_districte\nDF en posición 8: Codi_districte\nDF en posición 9: Codi_districte\n\n-------------------------------------\n\nColumna en posición 2\n\nDF en posición 0: Nom districte\nDF en posición 1: Nom districte\nDF en posición 2: Nom districte\nDF en posición 3: Nom districte\nDF en posición 4: Nom districte\nDF en posición 5: Nom_districte\nDF en posición 6: Nom_districte\nDF en posición 7: Nom_districte\nDF en posición 8: Nom_districte\nDF en posición 9: Nom_districte\n\n-------------------------------------\n\nColumna en posición 3\n\nDF en posición 0: Codi barri\nDF en posición 1: Codi barri\nDF en posición 2: Codi barri\nDF en posición 3: Codi barri\nDF en posición 4: Codi barri\nDF en posición 5: Codi_barri\nDF en posición 6: Codi_barri\nDF en posición 7: Codi_barri\nDF en posición 8: Codi_barri\nDF en posición 9: Codi_barri\n\n-------------------------------------\n\nColumna en posición 4\n\nDF en posición 0: Nom barri\nDF en posición 1: Nom barri\nDF en posición 2: Nom barri\nDF en posición 3: Nom barri\nDF en posición 4: Nom barri\nDF en posición 5: Nom_barri\nDF en posición 6: Nom_barri\nDF en posición 7: Nom_barri\nDF en posición 8: Nom_barri\nDF en posición 9: Nom_barri\n\n-------------------------------------\n\nColumna en posición 5\n\nDF en posición 0: Codi carrer\nDF en posición 1: Codi carrer\nDF en posición 2: Codi carrer\nDF en posición 3: Codi carrer\nDF en posición 4: Codi carrer\nDF en posición 5: Codi_carrer\nDF en posición 6: Codi_carrer\nDF en posición 7: Codi_carrer\nDF en posición 8: Codi_carrer\nDF en posición 9: Codi_carrer\n\n-------------------------------------\n\nColumna en posición 6\n\nDF en posición 0: Nom carrer\nDF en posición 1: Nom carrer\nDF en posición 2: Nom carrer\nDF en posición 3: Nom carrer\nDF en posición 4: Nom carrer\nDF en posición 5: Nom_carrer\nDF en posición 6: Nom_carrer\nDF en posición 7: Nom_carrer\nDF en posición 8: Nom_carrer\nDF en posición 9: Nom_carrer\n\n-------------------------------------\n\nColumna en posición 7\n\nDF en posición 0: Num postal caption\nDF en posición 1: Num postal caption\nDF en posición 2: Num postal caption\nDF en posición 3: Num postal caption\nDF en posición 4: Num postal caption\nDF en posición 5: Num_postal\nDF en posición 6: Num_postal \nDF en posición 7: Num_postal \nDF en posición 8: Num_postal\nDF en posición 9: Num_postal\n\n-------------------------------------\n\nColumna en posición 8\n\nDF en posición 0: Descripció dia setmana\nDF en posición 1: Descripció dia setmana\nDF en posición 2: Descripció dia setmana\nDF en posición 3: Descripció dia setmana\nDF en posición 4: Descripció dia setmana\nDF en posición 5: Descripcio_dia_setmana\nDF en posición 6: Descripcio_dia_setmana\nDF en posición 7: Descripcio_dia_setmana\nDF en posición 8: Descripcio_dia_setmana\nDF en posición 9: Descripcio_dia_setmana\n\n-------------------------------------\n\nColumna en posición 9\n\nDF en posición 0: Dia setmana\nDF en posición 1: Dia setmana\nDF en posición 2: Dia setmana\nDF en posición 3: Dia setmana\nDF en posición 4: Dia setmana\nDF en posición 5: Dia_setmana\nDF en posición 6: Dia_setmana\nDF en posición 7: Dia_setmana\nDF en posición 8: Dia_setmana\nDF en posición 9: Dia_setmana\n\n-------------------------------------\n\nColumna en posición 10\n\nDF en posición 0: Descripció tipus dia\nDF en posición 1: Descripció tipus dia\nDF en posición 2: Descripció tipus dia\nDF en posición 3: Descripció tipus dia\nDF en posición 4: Descripció tipus dia\nDF en posición 5: Descripcio_tipus_dia\nDF en posición 6: Descripcio_tipus_dia\nDF en posición 7: Descripcio_tipus_dia\nDF en posición 8: Descripcio_tipus_dia\nDF en posición 9: Descripcio_tipus_dia\n\n-------------------------------------\n\nColumna en posición 11\n\nDF en posición 0: NK Any\nDF en posición 1: NK Any\nDF en posición 2: NK Any\nDF en posición 3: NK Any\nDF en posición 4: NK Any\nDF en posición 5: Any\nDF en posición 6: Any\nDF en posición 7: Any\nDF en posición 8: NK_Any\nDF en posición 9: NK_Any\n\n-------------------------------------\n\nColumna en posición 12\n\nDF en posición 0: Mes de any\nDF en posición 1: Mes de any\nDF en posición 2: Mes de any\nDF en posición 3: Mes de any\nDF en posición 4: Mes de any\nDF en posición 5: Mes_any\nDF en posición 6: Mes_any\nDF en posición 7: Mes_any\nDF en posición 8: Mes_any\nDF en posición 9: Mes_any\n\n-------------------------------------\n\nColumna en posición 13\n\nDF en posición 0: Nom mes\nDF en posición 1: Nom mes\nDF en posición 2: Nom mes\nDF en posición 3: Nom mes\nDF en posición 4: Nom mes\nDF en posición 5: Nom_mes\nDF en posición 6: Nom_mes\nDF en posición 7: Nom_mes\nDF en posición 8: Nom_mes\nDF en posición 9: Nom_mes\n\n-------------------------------------\n\nColumna en posición 14\n\nDF en posición 0: Dia de mes\nDF en posición 1: Dia de mes\nDF en posición 2: Dia de mes\nDF en posición 3: Dia de mes\nDF en posición 4: Dia de mes\nDF en posición 5: Dia_mes\nDF en posición 6: Dia_mes\nDF en posición 7: Dia_mes\nDF en posición 8: Dia_mes\nDF en posición 9: Dia_mes\n\n-------------------------------------\n\nColumna en posición 15\n\nDF en posición 0: Hora de dia\nDF en posición 1: Hora de dia\nDF en posición 2: Hora de dia\nDF en posición 3: Hora de dia\nDF en posición 4: Hora de dia\nDF en posición 5: Hora_dia\nDF en posición 6: Hora_dia\nDF en posición 7: Hora_dia\nDF en posición 8: Hora_dia\nDF en posición 9: Hora_dia\n\n-------------------------------------\n\nColumna en posición 16\n\nDF en posición 0: Descripció causa vianant\nDF en posición 1: Descripció causa vianant\nDF en posición 2: Descripció causa vianant\nDF en posición 3: Descripció causa vianant\nDF en posición 4: Descripció causa vianant\nDF en posición 5: Descripcio_causa_vianant\nDF en posición 6: Descripcio_causa_vianant\nDF en posición 7: Descripcio_causa_vianant\nDF en posición 8: Descripcio_causa_vianant\nDF en posición 9: Descripcio_causa_vianant\n\n-------------------------------------\n\nColumna en posición 17\n\nDF en posición 0: Descripció tipus de vehicle\nDF en posición 1: Descripció tipus de vehicle\nDF en posición 2: Descripció tipus de vehicle\nDF en posición 3: Descripció tipus de vehicle\nDF en posición 4: Descripció tipus de vehicle\nDF en posición 5: Descripcio_tipus_vehicle\nDF en posición 6: Descripcio_tipus_vehicle\nDF en posición 7: Descripcio_tipus_vehicle\nDF en posición 8: Descripcio_tipus_vehicle\nDF en posición 9: Descripcio_tipus_vehicle\n\n-------------------------------------\n\nColumna en posición 18\n\nDF en posición 0: Descripció model\nDF en posición 1: Descripció model\nDF en posición 2: Descripció model\nDF en posición 3: Descripció model\nDF en posición 4: Descripció model\nDF en posición 5: Descripcio_model\nDF en posición 6: Descripcio_model\nDF en posición 7: Descripcio_model\nDF en posición 8: Descripcio_model\nDF en posición 9: Descripcio_model\n\n-------------------------------------\n\nColumna en posición 19\n\nDF en posición 0: Descripció marca\nDF en posición 1: Descripció marca\nDF en posición 2: Descripció marca\nDF en posición 3: Descripció marca\nDF en posición 4: Descripció marca\nDF en posición 5: Descripcio_marca\nDF en posición 6: Descripcio_marca\nDF en posición 7: Descripcio_marca\nDF en posición 8: Descripcio_marca\nDF en posición 9: Descripcio_marca\n\n-------------------------------------\n\nColumna en posición 20\n\nDF en posición 0: Descripció color\nDF en posición 1: Descripció color\nDF en posición 2: Descripció color\nDF en posición 3: Descripció color\nDF en posición 4: Descripció color\nDF en posición 5: Descripcio_color\nDF en posición 6: Descripcio_color\nDF en posición 7: Descripcio_color\nDF en posición 8: Descripcio_color\nDF en posición 9: Descripcio_color\n\n-------------------------------------\n\nColumna en posición 21\n\nDF en posición 0: Descripció carnet\nDF en posición 1: Descripció carnet\nDF en posición 2: Descripció carnet\nDF en posición 3: Descripció carnet\nDF en posición 4: Descripció carnet\nDF en posición 5: Descripcio_carnet\nDF en posición 6: Descripcio_carnet\nDF en posición 7: Descripcio_carnet\nDF en posición 8: Descripcio_carnet\nDF en posición 9: Descripcio_carnet\n\n-------------------------------------\n\nColumna en posición 22\n\nDF en posición 0: Antiguitat carnet\nDF en posición 1: Antiguitat carnet\nDF en posición 2: Antiguitat carnet\nDF en posición 3: Antiguitat carnet\nDF en posición 4: Antiguitat carnet\nDF en posición 5: Antiguitat_carnet\nDF en posición 6: Antiguitat_carnet\nDF en posición 7: Antiguitat_carnet\nDF en posición 8: Antiguitat_carnet\nDF en posición 9: Antiguitat_carnet\n\n-------------------------------------\n\nColumna en posición 23\n\nDF en posición 0: Coordenada UTM (Y)\nDF en posición 1: Coordenada UTM (Y)\nDF en posición 2: Coordenada UTM (Y)\nDF en posición 3: Coordenada UTM (Y)\nDF en posición 4: Coordenada UTM (Y)\nDF en posición 5: Coordenada_UTM_X\nDF en posición 6: Coordenada_UTM_X\nDF en posición 7: Coordenada_UTM_X\nDF en posición 8: Coordenada_UTM_X\nDF en posición 9: Coordenada_UTM_X\n\n-------------------------------------\n\nColumna en posición 24\n\nDF en posición 0: Coordenada UTM (X)\nDF en posición 1: Coordenada UTM (X)\nDF en posición 2: Coordenada UTM (X)\nDF en posición 3: Coordenada UTM (X)\nDF en posición 4: Coordenada UTM (X)\nDF en posición 5: Coordenada_UTM_Y\nDF en posición 6: Coordenada_UTM_Y\nDF en posición 7: Coordenada_UTM_Y\nDF en posición 8: Coordenada_UTM_Y\nDF en posición 9: Coordenada_UTM_Y\n\n-------------------------------------\n\nColumna en posición 25\n\nDF en posición 0: No contiene columnas en la posición 25\nDF en posición 1: No contiene columnas en la posición 25\nDF en posición 2: No contiene columnas en la posición 25\nDF en posición 3: No contiene columnas en la posición 25\nDF en posición 4: No contiene columnas en la posición 25\nDF en posición 5:  Longitud\nDF en posición 6: Longitud\nDF en posición 7: Longitud\nDF en posición 8: Longitud\nDF en posición 9: Latitud\n\n-------------------------------------\n\nColumna en posición 26\n\nDF en posición 0: No contiene columnas en la posición 26\nDF en posición 1: No contiene columnas en la posición 26\nDF en posición 2: No contiene columnas en la posición 26\nDF en posición 3: No contiene columnas en la posición 26\nDF en posición 4: No contiene columnas en la posición 26\nDF en posición 5:  Latitud\nDF en posición 6: Latitud\nDF en posición 7: Latitud\nDF en posición 8: Latitud\nDF en posición 9: Longitud\n\n-------------------------------------\n\n"
     ]
    }
   ],
   "source": [
    "nombre_cada_columna(lista_df_vehiculo)"
   ]
  },
  {
   "cell_type": "code",
   "execution_count": 18,
   "metadata": {},
   "outputs": [
    {
     "output_type": "stream",
     "name": "stdout",
     "text": [
      "Columnas de dataframe en posición 0:\n------------------------------------\nIndex(['Codi d'expedient', 'Codi districte', 'Nom districte', 'Codi barri',\n       'Nom barri', 'Codi carrer', 'Nom carrer', 'Num postal caption',\n       'Descripció dia setmana', 'Dia setmana', 'Descripció tipus dia',\n       'NK Any', 'Mes de any', 'Nom mes', 'Dia de mes', 'Hora de dia',\n       'Descripció causa vianant', 'Descripció tipus de vehicle',\n       'Descripció model', 'Descripció marca', 'Descripció color',\n       'Descripció carnet', 'Antiguitat carnet', 'Coordenada UTM (Y)',\n       'Coordenada UTM (X)'],\n      dtype='object')\n\nNúmero de columnas: 25\n\n===========================================================================================\nColumnas de dataframe en posición 1:\n------------------------------------\nIndex(['Codi d'expedient', 'Codi districte', 'Nom districte', 'Codi barri',\n       'Nom barri', 'Codi carrer', 'Nom carrer', 'Num postal caption',\n       'Descripció dia setmana', 'Dia setmana', 'Descripció tipus dia',\n       'NK Any', 'Mes de any', 'Nom mes', 'Dia de mes', 'Hora de dia',\n       'Descripció causa vianant', 'Descripció tipus de vehicle',\n       'Descripció model', 'Descripció marca', 'Descripció color',\n       'Descripció carnet', 'Antiguitat carnet', 'Coordenada UTM (Y)',\n       'Coordenada UTM (X)'],\n      dtype='object')\n\nNúmero de columnas: 25\n\n===========================================================================================\nColumnas de dataframe en posición 2:\n------------------------------------\nIndex(['Codi d'expedient', 'Codi districte', 'Nom districte', 'Codi barri',\n       'Nom barri', 'Codi carrer', 'Nom carrer', 'Num postal caption',\n       'Descripció dia setmana', 'Dia setmana', 'Descripció tipus dia',\n       'NK Any', 'Mes de any', 'Nom mes', 'Dia de mes', 'Hora de dia',\n       'Descripció causa vianant', 'Descripció tipus de vehicle',\n       'Descripció model', 'Descripció marca', 'Descripció color',\n       'Descripció carnet', 'Antiguitat carnet', 'Coordenada UTM (Y)',\n       'Coordenada UTM (X)'],\n      dtype='object')\n\nNúmero de columnas: 25\n\n===========================================================================================\nColumnas de dataframe en posición 3:\n------------------------------------\nIndex(['Codi d expedient', 'Codi districte', 'Nom districte', 'Codi barri',\n       'Nom barri', 'Codi carrer', 'Nom carrer', 'Num postal caption',\n       'Descripció dia setmana', 'Dia setmana', 'Descripció tipus dia',\n       'NK Any', 'Mes de any', 'Nom mes', 'Dia de mes', 'Hora de dia',\n       'Descripció causa vianant', 'Descripció tipus de vehicle',\n       'Descripció model', 'Descripció marca', 'Descripció color',\n       'Descripció carnet', 'Antiguitat carnet', 'Coordenada UTM (Y)',\n       'Coordenada UTM (X)'],\n      dtype='object')\n\nNúmero de columnas: 25\n\n===========================================================================================\nColumnas de dataframe en posición 4:\n------------------------------------\nIndex(['Codi d'expedient', 'Codi districte', 'Nom districte', 'Codi barri',\n       'Nom barri', 'Codi carrer', 'Nom carrer', 'Num postal caption',\n       'Descripció dia setmana', 'Dia setmana', 'Descripció tipus dia',\n       'NK Any', 'Mes de any', 'Nom mes', 'Dia de mes', 'Hora de dia',\n       'Descripció causa vianant', 'Descripció tipus de vehicle',\n       'Descripció model', 'Descripció marca', 'Descripció color',\n       'Descripció carnet', 'Antiguitat carnet', 'Coordenada UTM (Y)',\n       'Coordenada UTM (X)'],\n      dtype='object')\n\nNúmero de columnas: 25\n\n===========================================================================================\nColumnas de dataframe en posición 5:\n------------------------------------\nIndex(['Codi_expedient', 'Codi_districte', 'Nom_districte', 'Codi_barri',\n       'Nom_barri', 'Codi_carrer', 'Nom_carrer', 'Num_postal',\n       'Descripcio_dia_setmana', 'Dia_setmana', 'Descripcio_tipus_dia', 'Any',\n       'Mes_any', 'Nom_mes', 'Dia_mes', 'Hora_dia', 'Descripcio_causa_vianant',\n       'Descripcio_tipus_vehicle', 'Descripcio_model', 'Descripcio_marca',\n       'Descripcio_color', 'Descripcio_carnet', 'Antiguitat_carnet',\n       'Coordenada_UTM_X', 'Coordenada_UTM_Y', ' Longitud', ' Latitud'],\n      dtype='object')\n\nNúmero de columnas: 27\n\n===========================================================================================\nColumnas de dataframe en posición 6:\n------------------------------------\nIndex(['Codi_expedient', 'Codi_districte', 'Nom_districte', 'Codi_barri',\n       'Nom_barri', 'Codi_carrer', 'Nom_carrer', 'Num_postal ',\n       'Descripcio_dia_setmana', 'Dia_setmana', 'Descripcio_tipus_dia', 'Any',\n       'Mes_any', 'Nom_mes', 'Dia_mes', 'Hora_dia', 'Descripcio_causa_vianant',\n       'Descripcio_tipus_vehicle', 'Descripcio_model', 'Descripcio_marca',\n       'Descripcio_color', 'Descripcio_carnet', 'Antiguitat_carnet',\n       'Coordenada_UTM_X', 'Coordenada_UTM_Y', 'Longitud', 'Latitud'],\n      dtype='object')\n\nNúmero de columnas: 27\n\n===========================================================================================\nColumnas de dataframe en posición 7:\n------------------------------------\nIndex(['Codi_expedient', 'Codi_districte', 'Nom_districte', 'Codi_barri',\n       'Nom_barri', 'Codi_carrer', 'Nom_carrer', 'Num_postal ',\n       'Descripcio_dia_setmana', 'Dia_setmana', 'Descripcio_tipus_dia', 'Any',\n       'Mes_any', 'Nom_mes', 'Dia_mes', 'Hora_dia', 'Descripcio_causa_vianant',\n       'Descripcio_tipus_vehicle', 'Descripcio_model', 'Descripcio_marca',\n       'Descripcio_color', 'Descripcio_carnet', 'Antiguitat_carnet',\n       'Coordenada_UTM_X', 'Coordenada_UTM_Y', 'Longitud', 'Latitud'],\n      dtype='object')\n\nNúmero de columnas: 27\n\n===========================================================================================\nColumnas de dataframe en posición 8:\n------------------------------------\nIndex(['Numero_expedient', 'Codi_districte', 'Nom_districte', 'Codi_barri',\n       'Nom_barri', 'Codi_carrer', 'Nom_carrer', 'Num_postal',\n       'Descripcio_dia_setmana', 'Dia_setmana', 'Descripcio_tipus_dia',\n       'NK_Any', 'Mes_any', 'Nom_mes', 'Dia_mes', 'Hora_dia',\n       'Descripcio_causa_vianant', 'Descripcio_tipus_vehicle',\n       'Descripcio_model', 'Descripcio_marca', 'Descripcio_color',\n       'Descripcio_carnet', 'Antiguitat_carnet', 'Coordenada_UTM_X',\n       'Coordenada_UTM_Y', 'Longitud', 'Latitud'],\n      dtype='object')\n\nNúmero de columnas: 27\n\n===========================================================================================\nColumnas de dataframe en posición 9:\n------------------------------------\nIndex(['Numero_expedient', 'Codi_districte', 'Nom_districte', 'Codi_barri',\n       'Nom_barri', 'Codi_carrer', 'Nom_carrer', 'Num_postal',\n       'Descripcio_dia_setmana', 'Dia_setmana', 'Descripcio_tipus_dia',\n       'NK_Any', 'Mes_any', 'Nom_mes', 'Dia_mes', 'Hora_dia',\n       'Descripcio_causa_vianant', 'Descripcio_tipus_vehicle',\n       'Descripcio_model', 'Descripcio_marca', 'Descripcio_color',\n       'Descripcio_carnet', 'Antiguitat_carnet', 'Coordenada_UTM_X',\n       'Coordenada_UTM_Y', 'Latitud', 'Longitud'],\n      dtype='object')\n\nNúmero de columnas: 27\n\n===========================================================================================\n"
     ]
    }
   ],
   "source": [
    "mostrar_columnas(lista_df_vehiculo)"
   ]
  },
  {
   "source": [
    "### Como se puede observar, no todos los dataframes contenidos en la lista poseen el mismo número de columnas."
   ],
   "cell_type": "markdown",
   "metadata": {}
  },
  {
   "cell_type": "code",
   "execution_count": 17,
   "metadata": {},
   "outputs": [
    {
     "output_type": "stream",
     "name": "stdout",
     "text": [
      "Posición del DF 0: ['Coordenada UTM (Y)', 'Coordenada UTM (X)']\nPosición del DF 1: ['Coordenada UTM (Y)', 'Coordenada UTM (X)']\nPosición del DF 2: ['Coordenada UTM (Y)', 'Coordenada UTM (X)']\nPosición del DF 3: ['Coordenada UTM (Y)', 'Coordenada UTM (X)']\nPosición del DF 4: ['Coordenada UTM (Y)', 'Coordenada UTM (X)']\nPosición del DF 5: ['Coordenada_UTM_X', 'Coordenada_UTM_Y', ' Longitud', ' Latitud']\nPosición del DF 6: ['Coordenada_UTM_X', 'Coordenada_UTM_Y', 'Longitud', 'Latitud']\nPosición del DF 7: ['Coordenada_UTM_X', 'Coordenada_UTM_Y', 'Longitud', 'Latitud']\nPosición del DF 8: ['Coordenada_UTM_X', 'Coordenada_UTM_Y', 'Longitud', 'Latitud']\nPosición del DF 9: ['Coordenada_UTM_X', 'Coordenada_UTM_Y', 'Latitud', 'Longitud']\n"
     ]
    }
   ],
   "source": [
    "ver_ultimas_columnas(lista_df_vehiculo)"
   ]
  },
  {
   "cell_type": "code",
   "execution_count": null,
   "metadata": {},
   "outputs": [],
   "source": []
  },
  {
   "source": [
    "### Vemos que las últimas 2 columnas de los dataframes que contienen 27, hacen referencia a la latitud y longitud. De momento, podemos prescindir de ellas, por lo que serán eliminadas."
   ],
   "cell_type": "markdown",
   "metadata": {}
  },
  {
   "cell_type": "code",
   "execution_count": 20,
   "metadata": {},
   "outputs": [],
   "source": [
    "eliminar_columnas_finales(lista_df_vehiculo)"
   ]
  },
  {
   "source": [
    "### Podemos apreciar además, que las columnas que hacen referencia a las coordenadas, no sólo tienen nombres diferentes, sino que no se corresponden en posición, es decir, en algunas figura en primer lugar la coordeneda UTM Y o X y viceversa. Se procede a acomodar las columnas para luego unificar nombres de las mismas."
   ],
   "cell_type": "markdown",
   "metadata": {}
  },
  {
   "cell_type": "code",
   "execution_count": 22,
   "metadata": {},
   "outputs": [],
   "source": [
    "ordenar_columnas_finales(lista_df_vehiculo)"
   ]
  },
  {
   "cell_type": "code",
   "execution_count": 24,
   "metadata": {},
   "outputs": [
    {
     "output_type": "stream",
     "name": "stdout",
     "text": [
      "Columna en posición 0\n\nDF en posición 0: Codi d'expedient\nDF en posición 1: Codi d'expedient\nDF en posición 2: Codi d'expedient\nDF en posición 3: Codi d expedient\nDF en posición 4: Codi d'expedient\nDF en posición 5: Codi_expedient\nDF en posición 6: Codi_expedient\nDF en posición 7: Codi_expedient\nDF en posición 8: Numero_expedient\nDF en posición 9: Numero_expedient\n\n-------------------------------------\n\nColumna en posición 1\n\nDF en posición 0: Codi districte\nDF en posición 1: Codi districte\nDF en posición 2: Codi districte\nDF en posición 3: Codi districte\nDF en posición 4: Codi districte\nDF en posición 5: Codi_districte\nDF en posición 6: Codi_districte\nDF en posición 7: Codi_districte\nDF en posición 8: Codi_districte\nDF en posición 9: Codi_districte\n\n-------------------------------------\n\nColumna en posición 2\n\nDF en posición 0: Nom districte\nDF en posición 1: Nom districte\nDF en posición 2: Nom districte\nDF en posición 3: Nom districte\nDF en posición 4: Nom districte\nDF en posición 5: Nom_districte\nDF en posición 6: Nom_districte\nDF en posición 7: Nom_districte\nDF en posición 8: Nom_districte\nDF en posición 9: Nom_districte\n\n-------------------------------------\n\nColumna en posición 3\n\nDF en posición 0: Codi barri\nDF en posición 1: Codi barri\nDF en posición 2: Codi barri\nDF en posición 3: Codi barri\nDF en posición 4: Codi barri\nDF en posición 5: Codi_barri\nDF en posición 6: Codi_barri\nDF en posición 7: Codi_barri\nDF en posición 8: Codi_barri\nDF en posición 9: Codi_barri\n\n-------------------------------------\n\nColumna en posición 4\n\nDF en posición 0: Nom barri\nDF en posición 1: Nom barri\nDF en posición 2: Nom barri\nDF en posición 3: Nom barri\nDF en posición 4: Nom barri\nDF en posición 5: Nom_barri\nDF en posición 6: Nom_barri\nDF en posición 7: Nom_barri\nDF en posición 8: Nom_barri\nDF en posición 9: Nom_barri\n\n-------------------------------------\n\nColumna en posición 5\n\nDF en posición 0: Codi carrer\nDF en posición 1: Codi carrer\nDF en posición 2: Codi carrer\nDF en posición 3: Codi carrer\nDF en posición 4: Codi carrer\nDF en posición 5: Codi_carrer\nDF en posición 6: Codi_carrer\nDF en posición 7: Codi_carrer\nDF en posición 8: Codi_carrer\nDF en posición 9: Codi_carrer\n\n-------------------------------------\n\nColumna en posición 6\n\nDF en posición 0: Nom carrer\nDF en posición 1: Nom carrer\nDF en posición 2: Nom carrer\nDF en posición 3: Nom carrer\nDF en posición 4: Nom carrer\nDF en posición 5: Nom_carrer\nDF en posición 6: Nom_carrer\nDF en posición 7: Nom_carrer\nDF en posición 8: Nom_carrer\nDF en posición 9: Nom_carrer\n\n-------------------------------------\n\nColumna en posición 7\n\nDF en posición 0: Num postal caption\nDF en posición 1: Num postal caption\nDF en posición 2: Num postal caption\nDF en posición 3: Num postal caption\nDF en posición 4: Num postal caption\nDF en posición 5: Num_postal\nDF en posición 6: Num_postal \nDF en posición 7: Num_postal \nDF en posición 8: Num_postal\nDF en posición 9: Num_postal\n\n-------------------------------------\n\nColumna en posición 8\n\nDF en posición 0: Descripció dia setmana\nDF en posición 1: Descripció dia setmana\nDF en posición 2: Descripció dia setmana\nDF en posición 3: Descripció dia setmana\nDF en posición 4: Descripció dia setmana\nDF en posición 5: Descripcio_dia_setmana\nDF en posición 6: Descripcio_dia_setmana\nDF en posición 7: Descripcio_dia_setmana\nDF en posición 8: Descripcio_dia_setmana\nDF en posición 9: Descripcio_dia_setmana\n\n-------------------------------------\n\nColumna en posición 9\n\nDF en posición 0: Dia setmana\nDF en posición 1: Dia setmana\nDF en posición 2: Dia setmana\nDF en posición 3: Dia setmana\nDF en posición 4: Dia setmana\nDF en posición 5: Dia_setmana\nDF en posición 6: Dia_setmana\nDF en posición 7: Dia_setmana\nDF en posición 8: Dia_setmana\nDF en posición 9: Dia_setmana\n\n-------------------------------------\n\nColumna en posición 10\n\nDF en posición 0: Descripció tipus dia\nDF en posición 1: Descripció tipus dia\nDF en posición 2: Descripció tipus dia\nDF en posición 3: Descripció tipus dia\nDF en posición 4: Descripció tipus dia\nDF en posición 5: Descripcio_tipus_dia\nDF en posición 6: Descripcio_tipus_dia\nDF en posición 7: Descripcio_tipus_dia\nDF en posición 8: Descripcio_tipus_dia\nDF en posición 9: Descripcio_tipus_dia\n\n-------------------------------------\n\nColumna en posición 11\n\nDF en posición 0: NK Any\nDF en posición 1: NK Any\nDF en posición 2: NK Any\nDF en posición 3: NK Any\nDF en posición 4: NK Any\nDF en posición 5: Any\nDF en posición 6: Any\nDF en posición 7: Any\nDF en posición 8: NK_Any\nDF en posición 9: NK_Any\n\n-------------------------------------\n\nColumna en posición 12\n\nDF en posición 0: Mes de any\nDF en posición 1: Mes de any\nDF en posición 2: Mes de any\nDF en posición 3: Mes de any\nDF en posición 4: Mes de any\nDF en posición 5: Mes_any\nDF en posición 6: Mes_any\nDF en posición 7: Mes_any\nDF en posición 8: Mes_any\nDF en posición 9: Mes_any\n\n-------------------------------------\n\nColumna en posición 13\n\nDF en posición 0: Nom mes\nDF en posición 1: Nom mes\nDF en posición 2: Nom mes\nDF en posición 3: Nom mes\nDF en posición 4: Nom mes\nDF en posición 5: Nom_mes\nDF en posición 6: Nom_mes\nDF en posición 7: Nom_mes\nDF en posición 8: Nom_mes\nDF en posición 9: Nom_mes\n\n-------------------------------------\n\nColumna en posición 14\n\nDF en posición 0: Dia de mes\nDF en posición 1: Dia de mes\nDF en posición 2: Dia de mes\nDF en posición 3: Dia de mes\nDF en posición 4: Dia de mes\nDF en posición 5: Dia_mes\nDF en posición 6: Dia_mes\nDF en posición 7: Dia_mes\nDF en posición 8: Dia_mes\nDF en posición 9: Dia_mes\n\n-------------------------------------\n\nColumna en posición 15\n\nDF en posición 0: Hora de dia\nDF en posición 1: Hora de dia\nDF en posición 2: Hora de dia\nDF en posición 3: Hora de dia\nDF en posición 4: Hora de dia\nDF en posición 5: Hora_dia\nDF en posición 6: Hora_dia\nDF en posición 7: Hora_dia\nDF en posición 8: Hora_dia\nDF en posición 9: Hora_dia\n\n-------------------------------------\n\nColumna en posición 16\n\nDF en posición 0: Descripció causa vianant\nDF en posición 1: Descripció causa vianant\nDF en posición 2: Descripció causa vianant\nDF en posición 3: Descripció causa vianant\nDF en posición 4: Descripció causa vianant\nDF en posición 5: Descripcio_causa_vianant\nDF en posición 6: Descripcio_causa_vianant\nDF en posición 7: Descripcio_causa_vianant\nDF en posición 8: Descripcio_causa_vianant\nDF en posición 9: Descripcio_causa_vianant\n\n-------------------------------------\n\nColumna en posición 17\n\nDF en posición 0: Descripció tipus de vehicle\nDF en posición 1: Descripció tipus de vehicle\nDF en posición 2: Descripció tipus de vehicle\nDF en posición 3: Descripció tipus de vehicle\nDF en posición 4: Descripció tipus de vehicle\nDF en posición 5: Descripcio_tipus_vehicle\nDF en posición 6: Descripcio_tipus_vehicle\nDF en posición 7: Descripcio_tipus_vehicle\nDF en posición 8: Descripcio_tipus_vehicle\nDF en posición 9: Descripcio_tipus_vehicle\n\n-------------------------------------\n\nColumna en posición 18\n\nDF en posición 0: Descripció model\nDF en posición 1: Descripció model\nDF en posición 2: Descripció model\nDF en posición 3: Descripció model\nDF en posición 4: Descripció model\nDF en posición 5: Descripcio_model\nDF en posición 6: Descripcio_model\nDF en posición 7: Descripcio_model\nDF en posición 8: Descripcio_model\nDF en posición 9: Descripcio_model\n\n-------------------------------------\n\nColumna en posición 19\n\nDF en posición 0: Descripció marca\nDF en posición 1: Descripció marca\nDF en posición 2: Descripció marca\nDF en posición 3: Descripció marca\nDF en posición 4: Descripció marca\nDF en posición 5: Descripcio_marca\nDF en posición 6: Descripcio_marca\nDF en posición 7: Descripcio_marca\nDF en posición 8: Descripcio_marca\nDF en posición 9: Descripcio_marca\n\n-------------------------------------\n\nColumna en posición 20\n\nDF en posición 0: Descripció color\nDF en posición 1: Descripció color\nDF en posición 2: Descripció color\nDF en posición 3: Descripció color\nDF en posición 4: Descripció color\nDF en posición 5: Descripcio_color\nDF en posición 6: Descripcio_color\nDF en posición 7: Descripcio_color\nDF en posición 8: Descripcio_color\nDF en posición 9: Descripcio_color\n\n-------------------------------------\n\nColumna en posición 21\n\nDF en posición 0: Descripció carnet\nDF en posición 1: Descripció carnet\nDF en posición 2: Descripció carnet\nDF en posición 3: Descripció carnet\nDF en posición 4: Descripció carnet\nDF en posición 5: Descripcio_carnet\nDF en posición 6: Descripcio_carnet\nDF en posición 7: Descripcio_carnet\nDF en posición 8: Descripcio_carnet\nDF en posición 9: Descripcio_carnet\n\n-------------------------------------\n\nColumna en posición 22\n\nDF en posición 0: Antiguitat carnet\nDF en posición 1: Antiguitat carnet\nDF en posición 2: Antiguitat carnet\nDF en posición 3: Antiguitat carnet\nDF en posición 4: Antiguitat carnet\nDF en posición 5: Antiguitat_carnet\nDF en posición 6: Antiguitat_carnet\nDF en posición 7: Antiguitat_carnet\nDF en posición 8: Antiguitat_carnet\nDF en posición 9: Antiguitat_carnet\n\n-------------------------------------\n\nColumna en posición 23\n\nDF en posición 0: Coordenada UTM (X)\nDF en posición 1: Coordenada UTM (X)\nDF en posición 2: Coordenada UTM (X)\nDF en posición 3: Coordenada UTM (X)\nDF en posición 4: Coordenada UTM (X)\nDF en posición 5: Coordenada_UTM_X\nDF en posición 6: Coordenada_UTM_X\nDF en posición 7: Coordenada_UTM_X\nDF en posición 8: Coordenada_UTM_X\nDF en posición 9: Coordenada_UTM_X\n\n-------------------------------------\n\nColumna en posición 24\n\nDF en posición 0: Coordenada UTM (Y)\nDF en posición 1: Coordenada UTM (Y)\nDF en posición 2: Coordenada UTM (Y)\nDF en posición 3: Coordenada UTM (Y)\nDF en posición 4: Coordenada UTM (Y)\nDF en posición 5: Coordenada_UTM_Y\nDF en posición 6: Coordenada_UTM_Y\nDF en posición 7: Coordenada_UTM_Y\nDF en posición 8: Coordenada_UTM_Y\nDF en posición 9: Coordenada_UTM_Y\n\n-------------------------------------\n\n"
     ]
    }
   ],
   "source": [
    "nombre_cada_columna(lista_df_vehiculo)"
   ]
  },
  {
   "source": [
    "### Una vez organizadas las columnas, se homogenizan los nombres de las mismas para unir los dataframes en uno solo."
   ],
   "cell_type": "markdown",
   "metadata": {}
  },
  {
   "cell_type": "code",
   "execution_count": 31,
   "metadata": {},
   "outputs": [],
   "source": [
    "nombres_columnas = ['NUMERO EXPEDIENTE', 'CODIGO DISTRITO', 'DISTRITO', 'CODIGO BARRIO', 'BARRIO', 'CODIGO CALLE', 'CALLE', 'NUMERO POSTAL', 'DIA SEMANA', 'DIA SEMANA ABREVIADO', 'TIPO DE DIA', 'ANO', 'MES (NUMERICO)', 'MES', 'DIA', 'HORA', 'DESCRIPCION CAUSA PEATON', 'TIPO VEHICULO', 'MODELO VEHICULO', 'MARCA VEHICULO', 'COLOR VEHICULO', 'DESCRIPCION CARNET', 'ANTIGUEDAD CARNET', 'COORDENADA UTM X', 'COORDENADA UTM Y']"
   ]
  },
  {
   "cell_type": "code",
   "execution_count": 33,
   "metadata": {},
   "outputs": [],
   "source": [
    "renombrar_columnas(lista_df_vehiculo, nombres_columnas)"
   ]
  },
  {
   "cell_type": "code",
   "execution_count": 34,
   "metadata": {},
   "outputs": [
    {
     "output_type": "stream",
     "name": "stdout",
     "text": [
      "Columna en posición 0\n\nDF en posición 0: NUMERO EXPEDIENTE\nDF en posición 1: NUMERO EXPEDIENTE\nDF en posición 2: NUMERO EXPEDIENTE\nDF en posición 3: NUMERO EXPEDIENTE\nDF en posición 4: NUMERO EXPEDIENTE\nDF en posición 5: NUMERO EXPEDIENTE\nDF en posición 6: NUMERO EXPEDIENTE\nDF en posición 7: NUMERO EXPEDIENTE\nDF en posición 8: NUMERO EXPEDIENTE\nDF en posición 9: NUMERO EXPEDIENTE\n\n-------------------------------------\n\nColumna en posición 1\n\nDF en posición 0: CODIGO DISTRITO\nDF en posición 1: CODIGO DISTRITO\nDF en posición 2: CODIGO DISTRITO\nDF en posición 3: CODIGO DISTRITO\nDF en posición 4: CODIGO DISTRITO\nDF en posición 5: CODIGO DISTRITO\nDF en posición 6: CODIGO DISTRITO\nDF en posición 7: CODIGO DISTRITO\nDF en posición 8: CODIGO DISTRITO\nDF en posición 9: CODIGO DISTRITO\n\n-------------------------------------\n\nColumna en posición 2\n\nDF en posición 0: DISTRITO\nDF en posición 1: DISTRITO\nDF en posición 2: DISTRITO\nDF en posición 3: DISTRITO\nDF en posición 4: DISTRITO\nDF en posición 5: DISTRITO\nDF en posición 6: DISTRITO\nDF en posición 7: DISTRITO\nDF en posición 8: DISTRITO\nDF en posición 9: DISTRITO\n\n-------------------------------------\n\nColumna en posición 3\n\nDF en posición 0: CODIGO BARRIO\nDF en posición 1: CODIGO BARRIO\nDF en posición 2: CODIGO BARRIO\nDF en posición 3: CODIGO BARRIO\nDF en posición 4: CODIGO BARRIO\nDF en posición 5: CODIGO BARRIO\nDF en posición 6: CODIGO BARRIO\nDF en posición 7: CODIGO BARRIO\nDF en posición 8: CODIGO BARRIO\nDF en posición 9: CODIGO BARRIO\n\n-------------------------------------\n\nColumna en posición 4\n\nDF en posición 0: BARRIO\nDF en posición 1: BARRIO\nDF en posición 2: BARRIO\nDF en posición 3: BARRIO\nDF en posición 4: BARRIO\nDF en posición 5: BARRIO\nDF en posición 6: BARRIO\nDF en posición 7: BARRIO\nDF en posición 8: BARRIO\nDF en posición 9: BARRIO\n\n-------------------------------------\n\nColumna en posición 5\n\nDF en posición 0: CODIGO CALLE\nDF en posición 1: CODIGO CALLE\nDF en posición 2: CODIGO CALLE\nDF en posición 3: CODIGO CALLE\nDF en posición 4: CODIGO CALLE\nDF en posición 5: CODIGO CALLE\nDF en posición 6: CODIGO CALLE\nDF en posición 7: CODIGO CALLE\nDF en posición 8: CODIGO CALLE\nDF en posición 9: CODIGO CALLE\n\n-------------------------------------\n\nColumna en posición 6\n\nDF en posición 0: CALLE\nDF en posición 1: CALLE\nDF en posición 2: CALLE\nDF en posición 3: CALLE\nDF en posición 4: CALLE\nDF en posición 5: CALLE\nDF en posición 6: CALLE\nDF en posición 7: CALLE\nDF en posición 8: CALLE\nDF en posición 9: CALLE\n\n-------------------------------------\n\nColumna en posición 7\n\nDF en posición 0: NUMERO POSTAL\nDF en posición 1: NUMERO POSTAL\nDF en posición 2: NUMERO POSTAL\nDF en posición 3: NUMERO POSTAL\nDF en posición 4: NUMERO POSTAL\nDF en posición 5: NUMERO POSTAL\nDF en posición 6: NUMERO POSTAL\nDF en posición 7: NUMERO POSTAL\nDF en posición 8: NUMERO POSTAL\nDF en posición 9: NUMERO POSTAL\n\n-------------------------------------\n\nColumna en posición 8\n\nDF en posición 0: DIA SEMANA\nDF en posición 1: DIA SEMANA\nDF en posición 2: DIA SEMANA\nDF en posición 3: DIA SEMANA\nDF en posición 4: DIA SEMANA\nDF en posición 5: DIA SEMANA\nDF en posición 6: DIA SEMANA\nDF en posición 7: DIA SEMANA\nDF en posición 8: DIA SEMANA\nDF en posición 9: DIA SEMANA\n\n-------------------------------------\n\nColumna en posición 9\n\nDF en posición 0: DIA SEMANA ABREVIADO\nDF en posición 1: DIA SEMANA ABREVIADO\nDF en posición 2: DIA SEMANA ABREVIADO\nDF en posición 3: DIA SEMANA ABREVIADO\nDF en posición 4: DIA SEMANA ABREVIADO\nDF en posición 5: DIA SEMANA ABREVIADO\nDF en posición 6: DIA SEMANA ABREVIADO\nDF en posición 7: DIA SEMANA ABREVIADO\nDF en posición 8: DIA SEMANA ABREVIADO\nDF en posición 9: DIA SEMANA ABREVIADO\n\n-------------------------------------\n\nColumna en posición 10\n\nDF en posición 0: TIPO DE DIA\nDF en posición 1: TIPO DE DIA\nDF en posición 2: TIPO DE DIA\nDF en posición 3: TIPO DE DIA\nDF en posición 4: TIPO DE DIA\nDF en posición 5: TIPO DE DIA\nDF en posición 6: TIPO DE DIA\nDF en posición 7: TIPO DE DIA\nDF en posición 8: TIPO DE DIA\nDF en posición 9: TIPO DE DIA\n\n-------------------------------------\n\nColumna en posición 11\n\nDF en posición 0: ANO\nDF en posición 1: ANO\nDF en posición 2: ANO\nDF en posición 3: ANO\nDF en posición 4: ANO\nDF en posición 5: ANO\nDF en posición 6: ANO\nDF en posición 7: ANO\nDF en posición 8: ANO\nDF en posición 9: ANO\n\n-------------------------------------\n\nColumna en posición 12\n\nDF en posición 0: MES (NUMERICO)\nDF en posición 1: MES (NUMERICO)\nDF en posición 2: MES (NUMERICO)\nDF en posición 3: MES (NUMERICO)\nDF en posición 4: MES (NUMERICO)\nDF en posición 5: MES (NUMERICO)\nDF en posición 6: MES (NUMERICO)\nDF en posición 7: MES (NUMERICO)\nDF en posición 8: MES (NUMERICO)\nDF en posición 9: MES (NUMERICO)\n\n-------------------------------------\n\nColumna en posición 13\n\nDF en posición 0: MES\nDF en posición 1: MES\nDF en posición 2: MES\nDF en posición 3: MES\nDF en posición 4: MES\nDF en posición 5: MES\nDF en posición 6: MES\nDF en posición 7: MES\nDF en posición 8: MES\nDF en posición 9: MES\n\n-------------------------------------\n\nColumna en posición 14\n\nDF en posición 0: DIA\nDF en posición 1: DIA\nDF en posición 2: DIA\nDF en posición 3: DIA\nDF en posición 4: DIA\nDF en posición 5: DIA\nDF en posición 6: DIA\nDF en posición 7: DIA\nDF en posición 8: DIA\nDF en posición 9: DIA\n\n-------------------------------------\n\nColumna en posición 15\n\nDF en posición 0: HORA\nDF en posición 1: HORA\nDF en posición 2: HORA\nDF en posición 3: HORA\nDF en posición 4: HORA\nDF en posición 5: HORA\nDF en posición 6: HORA\nDF en posición 7: HORA\nDF en posición 8: HORA\nDF en posición 9: HORA\n\n-------------------------------------\n\nColumna en posición 16\n\nDF en posición 0: DESCRIPCION CAUSA PEATON\nDF en posición 1: DESCRIPCION CAUSA PEATON\nDF en posición 2: DESCRIPCION CAUSA PEATON\nDF en posición 3: DESCRIPCION CAUSA PEATON\nDF en posición 4: DESCRIPCION CAUSA PEATON\nDF en posición 5: DESCRIPCION CAUSA PEATON\nDF en posición 6: DESCRIPCION CAUSA PEATON\nDF en posición 7: DESCRIPCION CAUSA PEATON\nDF en posición 8: DESCRIPCION CAUSA PEATON\nDF en posición 9: DESCRIPCION CAUSA PEATON\n\n-------------------------------------\n\nColumna en posición 17\n\nDF en posición 0: TIPO VEHICULO\nDF en posición 1: TIPO VEHICULO\nDF en posición 2: TIPO VEHICULO\nDF en posición 3: TIPO VEHICULO\nDF en posición 4: TIPO VEHICULO\nDF en posición 5: TIPO VEHICULO\nDF en posición 6: TIPO VEHICULO\nDF en posición 7: TIPO VEHICULO\nDF en posición 8: TIPO VEHICULO\nDF en posición 9: TIPO VEHICULO\n\n-------------------------------------\n\nColumna en posición 18\n\nDF en posición 0: MODELO VEHICULO\nDF en posición 1: MODELO VEHICULO\nDF en posición 2: MODELO VEHICULO\nDF en posición 3: MODELO VEHICULO\nDF en posición 4: MODELO VEHICULO\nDF en posición 5: MODELO VEHICULO\nDF en posición 6: MODELO VEHICULO\nDF en posición 7: MODELO VEHICULO\nDF en posición 8: MODELO VEHICULO\nDF en posición 9: MODELO VEHICULO\n\n-------------------------------------\n\nColumna en posición 19\n\nDF en posición 0: MARCA VEHICULO\nDF en posición 1: MARCA VEHICULO\nDF en posición 2: MARCA VEHICULO\nDF en posición 3: MARCA VEHICULO\nDF en posición 4: MARCA VEHICULO\nDF en posición 5: MARCA VEHICULO\nDF en posición 6: MARCA VEHICULO\nDF en posición 7: MARCA VEHICULO\nDF en posición 8: MARCA VEHICULO\nDF en posición 9: MARCA VEHICULO\n\n-------------------------------------\n\nColumna en posición 20\n\nDF en posición 0: COLOR VEHICULO\nDF en posición 1: COLOR VEHICULO\nDF en posición 2: COLOR VEHICULO\nDF en posición 3: COLOR VEHICULO\nDF en posición 4: COLOR VEHICULO\nDF en posición 5: COLOR VEHICULO\nDF en posición 6: COLOR VEHICULO\nDF en posición 7: COLOR VEHICULO\nDF en posición 8: COLOR VEHICULO\nDF en posición 9: COLOR VEHICULO\n\n-------------------------------------\n\nColumna en posición 21\n\nDF en posición 0: DESCRIPCION CARNET\nDF en posición 1: DESCRIPCION CARNET\nDF en posición 2: DESCRIPCION CARNET\nDF en posición 3: DESCRIPCION CARNET\nDF en posición 4: DESCRIPCION CARNET\nDF en posición 5: DESCRIPCION CARNET\nDF en posición 6: DESCRIPCION CARNET\nDF en posición 7: DESCRIPCION CARNET\nDF en posición 8: DESCRIPCION CARNET\nDF en posición 9: DESCRIPCION CARNET\n\n-------------------------------------\n\nColumna en posición 22\n\nDF en posición 0: ANTIGUEDAD CARNET\nDF en posición 1: ANTIGUEDAD CARNET\nDF en posición 2: ANTIGUEDAD CARNET\nDF en posición 3: ANTIGUEDAD CARNET\nDF en posición 4: ANTIGUEDAD CARNET\nDF en posición 5: ANTIGUEDAD CARNET\nDF en posición 6: ANTIGUEDAD CARNET\nDF en posición 7: ANTIGUEDAD CARNET\nDF en posición 8: ANTIGUEDAD CARNET\nDF en posición 9: ANTIGUEDAD CARNET\n\n-------------------------------------\n\nColumna en posición 23\n\nDF en posición 0: COORDENADA UTM X\nDF en posición 1: COORDENADA UTM X\nDF en posición 2: COORDENADA UTM X\nDF en posición 3: COORDENADA UTM X\nDF en posición 4: COORDENADA UTM X\nDF en posición 5: COORDENADA UTM X\nDF en posición 6: COORDENADA UTM X\nDF en posición 7: COORDENADA UTM X\nDF en posición 8: COORDENADA UTM X\nDF en posición 9: COORDENADA UTM X\n\n-------------------------------------\n\nColumna en posición 24\n\nDF en posición 0: COORDENADA UTM Y\nDF en posición 1: COORDENADA UTM Y\nDF en posición 2: COORDENADA UTM Y\nDF en posición 3: COORDENADA UTM Y\nDF en posición 4: COORDENADA UTM Y\nDF en posición 5: COORDENADA UTM Y\nDF en posición 6: COORDENADA UTM Y\nDF en posición 7: COORDENADA UTM Y\nDF en posición 8: COORDENADA UTM Y\nDF en posición 9: COORDENADA UTM Y\n\n-------------------------------------\n\n"
     ]
    }
   ],
   "source": [
    "nombre_cada_columna(lista_df_vehiculo)"
   ]
  },
  {
   "source": [
    "### Ya todos los dataframes de la lista tienen el mismo nombre para cada columna. Se procede a unirlos en un único dataframe."
   ],
   "cell_type": "markdown",
   "metadata": {}
  },
  {
   "cell_type": "code",
   "execution_count": 36,
   "metadata": {},
   "outputs": [],
   "source": [
    "df_accidentes_vehiculo = unificar_lista_dataframe(lista_df_vehiculo)"
   ]
  },
  {
   "cell_type": "code",
   "execution_count": 37,
   "metadata": {},
   "outputs": [
    {
     "output_type": "execute_result",
     "data": {
      "text/plain": [
       "       NUMERO EXPEDIENTE CODIGO DISTRITO        DISTRITO CODIGO BARRIO  \\\n",
       "0            2012S007292               3  Sants-Montjuïc            11   \n",
       "1            2012S007292               3  Sants-Montjuïc            11   \n",
       "2            2012S005850               6          Gràcia            32   \n",
       "3            2012S001657               3  Sants-Montjuïc            18   \n",
       "4            2012S000317              10      Sant Martí            65   \n",
       "...                  ...             ...             ...           ...   \n",
       "163098   2020S006276                   1    Ciutat Vella             2   \n",
       "163099   2020S006276                   1    Ciutat Vella             2   \n",
       "163100   2020S006277                   2        Eixample             9   \n",
       "163101   2020S006278                   8      Nou Barris            44   \n",
       "163102   2020S006278                   8      Nou Barris            44   \n",
       "\n",
       "                                    BARRIO CODIGO CALLE                CALLE  \\\n",
       "0                             el Poble Sec        86902     Nou de la Rambla   \n",
       "1                             el Poble Sec        86902     Nou de la Rambla   \n",
       "2       el Camp d'en Grassot i Gràcia Nova        76807             Sardenya   \n",
       "3                                    Sants       312400                Sants   \n",
       "4                                  el Clot       289309        Rossend Nobas   \n",
       "...                                    ...          ...                  ...   \n",
       "163098                      el Barri Gòtic       701266  Litoral (Llobregat)   \n",
       "163099                      el Barri Gòtic       701266  Litoral (Llobregat)   \n",
       "163100      la Nova Esquerra de l'Eixample        18505                Aragó   \n",
       "163101       Vilapicina i la Torre Llobeta        45701               Quinze   \n",
       "163102       Vilapicina i la Torre Llobeta        45701               Quinze   \n",
       "\n",
       "       NUMERO POSTAL DIA SEMANA DIA SEMANA ABREVIADO  ... HORA  \\\n",
       "0          0110 0112     Dijous                   Dj  ...    2   \n",
       "1          0110 0112     Dijous                   Dj  ...    2   \n",
       "2          0491 0491    Dilluns                   Dl  ...   20   \n",
       "3          0235 0241   Dimecres                   Dc  ...    9   \n",
       "4          0037 0037   Diumenge                   Dg  ...   20   \n",
       "...              ...        ...                  ...  ...  ...   \n",
       "163098       1070000     Dijous                   Dj  ...   13   \n",
       "163099       1070000     Dijous                   Dj  ...   13   \n",
       "163100     0127 0127     Dijous                   Dj  ...   21   \n",
       "163101     0007 0007    Dimarts                   Dm  ...   11   \n",
       "163102     0007 0007    Dimarts                   Dm  ...   11   \n",
       "\n",
       "               DESCRIPCION CAUSA PEATON                      TIPO VEHICULO  \\\n",
       "0                                Altres                          Furgoneta   \n",
       "1                                Altres                            Turismo   \n",
       "2       Creuar per fora pas de vianants                        Motocicleta   \n",
       "3              No és causa del  vianant                        Motocicleta   \n",
       "4              No és causa del  vianant                            Turismo   \n",
       "...                                 ...                                ...   \n",
       "163098         No és causa del  vianant                        Motocicleta   \n",
       "163099         No és causa del  vianant  Veh. mobilitat personal amb motor   \n",
       "163100         No és causa del  vianant                        Motocicleta   \n",
       "163101         No és causa del  vianant                            Turisme   \n",
       "163102         No és causa del  vianant                            Turisme   \n",
       "\n",
       "         MODELO VEHICULO  MARCA VEHICULO  COLOR VEHICULO DESCRIPCION CARNET  \\\n",
       "0              INTERSTAR          NISSAN            Gris                  B   \n",
       "1                   POLO      VOLKSWAGEN         Vermell         Desconegut   \n",
       "2                 GZ 125          SUZUKI           Negre         Desconegut   \n",
       "3                 PS 125           HONDA           Negre                  B   \n",
       "4                  IBIZA            SEAT      Desconegut                  B   \n",
       "...                  ...             ...             ...                ...   \n",
       "163098  AGILITY CITY 125           KYMCO      Desconegut                  B   \n",
       "163099        Desconegut      Desconegut           Negre         Desconegut   \n",
       "163100            SH 150           HONDA         Vermell                  A   \n",
       "163101              CLIO         RENAULT           Blanc         Desconegut   \n",
       "163102             RAPID           SKODA      Negre/Groc         Desconegut   \n",
       "\n",
       "       ANTIGUEDAD CARNET COORDENADA UTM X COORDENADA UTM Y  \n",
       "0                      0        430643,64       4580877,12  \n",
       "1             Desconegut        430643,64       4580877,12  \n",
       "2             Desconegut        430289,84       4584781,47  \n",
       "3                     24        427452,84       4580999,21  \n",
       "4                      4        432381,83       4584692,52  \n",
       "...                  ...              ...              ...  \n",
       "163098                16         431410.4       4581077.37  \n",
       "163099        Desconegut         431410.4       4581077.37  \n",
       "163100                25        429362.84       4581954.15  \n",
       "163101        Desconegut        431221.22       4586654.09  \n",
       "163102        Desconegut        431221.22       4586654.09  \n",
       "\n",
       "[163103 rows x 25 columns]"
      ],
      "text/html": "<div>\n<style scoped>\n    .dataframe tbody tr th:only-of-type {\n        vertical-align: middle;\n    }\n\n    .dataframe tbody tr th {\n        vertical-align: top;\n    }\n\n    .dataframe thead th {\n        text-align: right;\n    }\n</style>\n<table border=\"1\" class=\"dataframe\">\n  <thead>\n    <tr style=\"text-align: right;\">\n      <th></th>\n      <th>NUMERO EXPEDIENTE</th>\n      <th>CODIGO DISTRITO</th>\n      <th>DISTRITO</th>\n      <th>CODIGO BARRIO</th>\n      <th>BARRIO</th>\n      <th>CODIGO CALLE</th>\n      <th>CALLE</th>\n      <th>NUMERO POSTAL</th>\n      <th>DIA SEMANA</th>\n      <th>DIA SEMANA ABREVIADO</th>\n      <th>...</th>\n      <th>HORA</th>\n      <th>DESCRIPCION CAUSA PEATON</th>\n      <th>TIPO VEHICULO</th>\n      <th>MODELO VEHICULO</th>\n      <th>MARCA VEHICULO</th>\n      <th>COLOR VEHICULO</th>\n      <th>DESCRIPCION CARNET</th>\n      <th>ANTIGUEDAD CARNET</th>\n      <th>COORDENADA UTM X</th>\n      <th>COORDENADA UTM Y</th>\n    </tr>\n  </thead>\n  <tbody>\n    <tr>\n      <th>0</th>\n      <td>2012S007292</td>\n      <td>3</td>\n      <td>Sants-Montjuïc</td>\n      <td>11</td>\n      <td>el Poble Sec</td>\n      <td>86902</td>\n      <td>Nou de la Rambla</td>\n      <td>0110 0112</td>\n      <td>Dijous</td>\n      <td>Dj</td>\n      <td>...</td>\n      <td>2</td>\n      <td>Altres</td>\n      <td>Furgoneta</td>\n      <td>INTERSTAR</td>\n      <td>NISSAN</td>\n      <td>Gris</td>\n      <td>B</td>\n      <td>0</td>\n      <td>430643,64</td>\n      <td>4580877,12</td>\n    </tr>\n    <tr>\n      <th>1</th>\n      <td>2012S007292</td>\n      <td>3</td>\n      <td>Sants-Montjuïc</td>\n      <td>11</td>\n      <td>el Poble Sec</td>\n      <td>86902</td>\n      <td>Nou de la Rambla</td>\n      <td>0110 0112</td>\n      <td>Dijous</td>\n      <td>Dj</td>\n      <td>...</td>\n      <td>2</td>\n      <td>Altres</td>\n      <td>Turismo</td>\n      <td>POLO</td>\n      <td>VOLKSWAGEN</td>\n      <td>Vermell</td>\n      <td>Desconegut</td>\n      <td>Desconegut</td>\n      <td>430643,64</td>\n      <td>4580877,12</td>\n    </tr>\n    <tr>\n      <th>2</th>\n      <td>2012S005850</td>\n      <td>6</td>\n      <td>Gràcia</td>\n      <td>32</td>\n      <td>el Camp d'en Grassot i Gràcia Nova</td>\n      <td>76807</td>\n      <td>Sardenya</td>\n      <td>0491 0491</td>\n      <td>Dilluns</td>\n      <td>Dl</td>\n      <td>...</td>\n      <td>20</td>\n      <td>Creuar per fora pas de vianants</td>\n      <td>Motocicleta</td>\n      <td>GZ 125</td>\n      <td>SUZUKI</td>\n      <td>Negre</td>\n      <td>Desconegut</td>\n      <td>Desconegut</td>\n      <td>430289,84</td>\n      <td>4584781,47</td>\n    </tr>\n    <tr>\n      <th>3</th>\n      <td>2012S001657</td>\n      <td>3</td>\n      <td>Sants-Montjuïc</td>\n      <td>18</td>\n      <td>Sants</td>\n      <td>312400</td>\n      <td>Sants</td>\n      <td>0235 0241</td>\n      <td>Dimecres</td>\n      <td>Dc</td>\n      <td>...</td>\n      <td>9</td>\n      <td>No és causa del  vianant</td>\n      <td>Motocicleta</td>\n      <td>PS 125</td>\n      <td>HONDA</td>\n      <td>Negre</td>\n      <td>B</td>\n      <td>24</td>\n      <td>427452,84</td>\n      <td>4580999,21</td>\n    </tr>\n    <tr>\n      <th>4</th>\n      <td>2012S000317</td>\n      <td>10</td>\n      <td>Sant Martí</td>\n      <td>65</td>\n      <td>el Clot</td>\n      <td>289309</td>\n      <td>Rossend Nobas</td>\n      <td>0037 0037</td>\n      <td>Diumenge</td>\n      <td>Dg</td>\n      <td>...</td>\n      <td>20</td>\n      <td>No és causa del  vianant</td>\n      <td>Turismo</td>\n      <td>IBIZA</td>\n      <td>SEAT</td>\n      <td>Desconegut</td>\n      <td>B</td>\n      <td>4</td>\n      <td>432381,83</td>\n      <td>4584692,52</td>\n    </tr>\n    <tr>\n      <th>...</th>\n      <td>...</td>\n      <td>...</td>\n      <td>...</td>\n      <td>...</td>\n      <td>...</td>\n      <td>...</td>\n      <td>...</td>\n      <td>...</td>\n      <td>...</td>\n      <td>...</td>\n      <td>...</td>\n      <td>...</td>\n      <td>...</td>\n      <td>...</td>\n      <td>...</td>\n      <td>...</td>\n      <td>...</td>\n      <td>...</td>\n      <td>...</td>\n      <td>...</td>\n      <td>...</td>\n    </tr>\n    <tr>\n      <th>163098</th>\n      <td>2020S006276</td>\n      <td>1</td>\n      <td>Ciutat Vella</td>\n      <td>2</td>\n      <td>el Barri Gòtic</td>\n      <td>701266</td>\n      <td>Litoral (Llobregat)</td>\n      <td>1070000</td>\n      <td>Dijous</td>\n      <td>Dj</td>\n      <td>...</td>\n      <td>13</td>\n      <td>No és causa del  vianant</td>\n      <td>Motocicleta</td>\n      <td>AGILITY CITY 125</td>\n      <td>KYMCO</td>\n      <td>Desconegut</td>\n      <td>B</td>\n      <td>16</td>\n      <td>431410.4</td>\n      <td>4581077.37</td>\n    </tr>\n    <tr>\n      <th>163099</th>\n      <td>2020S006276</td>\n      <td>1</td>\n      <td>Ciutat Vella</td>\n      <td>2</td>\n      <td>el Barri Gòtic</td>\n      <td>701266</td>\n      <td>Litoral (Llobregat)</td>\n      <td>1070000</td>\n      <td>Dijous</td>\n      <td>Dj</td>\n      <td>...</td>\n      <td>13</td>\n      <td>No és causa del  vianant</td>\n      <td>Veh. mobilitat personal amb motor</td>\n      <td>Desconegut</td>\n      <td>Desconegut</td>\n      <td>Negre</td>\n      <td>Desconegut</td>\n      <td>Desconegut</td>\n      <td>431410.4</td>\n      <td>4581077.37</td>\n    </tr>\n    <tr>\n      <th>163100</th>\n      <td>2020S006277</td>\n      <td>2</td>\n      <td>Eixample</td>\n      <td>9</td>\n      <td>la Nova Esquerra de l'Eixample</td>\n      <td>18505</td>\n      <td>Aragó</td>\n      <td>0127 0127</td>\n      <td>Dijous</td>\n      <td>Dj</td>\n      <td>...</td>\n      <td>21</td>\n      <td>No és causa del  vianant</td>\n      <td>Motocicleta</td>\n      <td>SH 150</td>\n      <td>HONDA</td>\n      <td>Vermell</td>\n      <td>A</td>\n      <td>25</td>\n      <td>429362.84</td>\n      <td>4581954.15</td>\n    </tr>\n    <tr>\n      <th>163101</th>\n      <td>2020S006278</td>\n      <td>8</td>\n      <td>Nou Barris</td>\n      <td>44</td>\n      <td>Vilapicina i la Torre Llobeta</td>\n      <td>45701</td>\n      <td>Quinze</td>\n      <td>0007 0007</td>\n      <td>Dimarts</td>\n      <td>Dm</td>\n      <td>...</td>\n      <td>11</td>\n      <td>No és causa del  vianant</td>\n      <td>Turisme</td>\n      <td>CLIO</td>\n      <td>RENAULT</td>\n      <td>Blanc</td>\n      <td>Desconegut</td>\n      <td>Desconegut</td>\n      <td>431221.22</td>\n      <td>4586654.09</td>\n    </tr>\n    <tr>\n      <th>163102</th>\n      <td>2020S006278</td>\n      <td>8</td>\n      <td>Nou Barris</td>\n      <td>44</td>\n      <td>Vilapicina i la Torre Llobeta</td>\n      <td>45701</td>\n      <td>Quinze</td>\n      <td>0007 0007</td>\n      <td>Dimarts</td>\n      <td>Dm</td>\n      <td>...</td>\n      <td>11</td>\n      <td>No és causa del  vianant</td>\n      <td>Turisme</td>\n      <td>RAPID</td>\n      <td>SKODA</td>\n      <td>Negre/Groc</td>\n      <td>Desconegut</td>\n      <td>Desconegut</td>\n      <td>431221.22</td>\n      <td>4586654.09</td>\n    </tr>\n  </tbody>\n</table>\n<p>163103 rows × 25 columns</p>\n</div>"
     },
     "metadata": {},
     "execution_count": 37
    }
   ],
   "source": [
    "df_accidentes_vehiculo"
   ]
  },
  {
   "cell_type": "code",
   "execution_count": null,
   "metadata": {},
   "outputs": [],
   "source": []
  }
 ]
}