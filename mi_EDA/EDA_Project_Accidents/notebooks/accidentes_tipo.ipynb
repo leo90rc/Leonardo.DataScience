{
 "metadata": {
  "language_info": {
   "codemirror_mode": {
    "name": "ipython",
    "version": 3
   },
   "file_extension": ".py",
   "mimetype": "text/x-python",
   "name": "python",
   "nbconvert_exporter": "python",
   "pygments_lexer": "ipython3",
   "version": "3.7.4"
  },
  "orig_nbformat": 2,
  "kernelspec": {
   "name": "python374jvsc74a57bd0a0947237fadc8b5561fed326db280cc5ec46a670c87cfb3a0489cf95ff262303",
   "display_name": "Python 3.7.4 64-bit"
  },
  "metadata": {
   "interpreter": {
    "hash": "a0947237fadc8b5561fed326db280cc5ec46a670c87cfb3a0489cf95ff262303"
   }
  }
 },
 "nbformat": 4,
 "nbformat_minor": 2,
 "cells": [
  {
   "cell_type": "code",
   "execution_count": 1,
   "metadata": {},
   "outputs": [],
   "source": [
    "import pandas as pd"
   ]
  },
  {
   "cell_type": "code",
   "execution_count": 4,
   "metadata": {},
   "outputs": [],
   "source": [
    "def enlistar_dataframes(porcion_fichero):\n",
    "    ''' El argumento debe ser la porción del fichero correspondiente (str). '''\n",
    "    lista_df = []\n",
    "    for i in range(11,21):\n",
    "        try:\n",
    "            i = pd.read_csv('20'+str(i)+'/20'+str(i)+ porcion_fichero +str(i)+'-utf8.csv')\n",
    "        except:\n",
    "            try:\n",
    "                i = pd.read_csv('20'+str(i)+'/20'+str(i)+ porcion_fichero +str(i)+'-utf8.csv', sep=';')\n",
    "            except:\n",
    "                i = pd.read_excel('20'+str(i)+'/20'+str(i)+ porcion_fichero +str(i)+'.xlsx')\n",
    "        lista_df.append(i)\n",
    "    return lista_df\n",
    "\n",
    "\n",
    "\n",
    "def columna_vs_columna(lista_dataframes, posicion_df1, posicion_df2):\n",
    "    ''' Compara los nombres de las columnas de 2 dataframes que se encuentran en una lista, tomando como argumento la posición de dicho dataframe en la lista.\n",
    "    \n",
    "    Tener en cuenta que, para aplicarla, ambos dataframes deben tener la misma cantidad de columnas. '''\n",
    "    try:\n",
    "        for pos, valor in enumerate(lista_dataframes[posicion_df1].columns == lista_dataframes[posicion_df2].columns):\n",
    "            if valor == False:\n",
    "                print('         Posición de columna diferente: ' + str(pos))\n",
    "                print('         ---------------------------------')\n",
    "                print('         Columna de DF en posición ' + str(posicion_df1) + ': ' + lista_dataframes[posicion_df1].columns[pos])\n",
    "                print('         Columna de DF en posición ' + str(posicion_df2) + ': ' + lista_dataframes[posicion_df2].columns[pos])\n",
    "                print('         ================================================\\n')\n",
    "    except:\n",
    "        print('Los dataframes a comparar deben tener la misma cantidad de columnas.')\n",
    "\n",
    "\n",
    "\n",
    "def comparar_columnas(lista_dataframes): \n",
    "    ''' SE DEBE INGRESAR UNA LISTA DE DATAFRAMES A COMPARAR. '''\n",
    "    for i in range(len(lista_dataframes)):\n",
    "            for j in range(1, len(lista_dataframes)):    \n",
    "                if i < j:\n",
    "                    if len(lista_dataframes[i].columns) == len(lista_dataframes[j].columns):\n",
    "                        columnas_iguales = lista_dataframes[i].columns == lista_dataframes[j].columns # TRUE si coinciden, FALSE si no\n",
    "                        if all(columnas_iguales):\n",
    "                            print('Las columnas de ' + str(i) + ' (' + str(len(lista_dataframes[i].columns)) +') y ' + str(j)+ ' (' + str(len(lista_dataframes[j].columns)) + ') COINCIDEN.')\n",
    "                            print('======================================================')\n",
    "                            break\n",
    "                        else:\n",
    "                            print('\\nLas columnas de ' + str(i) + ' (' + str(len(lista_dataframes[i].columns)) +') y ' + str(j) + ' (' + str(len(lista_dataframes[j].columns)) + ') SON DISTINTAS.\\n')\n",
    "                            columna_vs_columna(lista_dataframes, i, j)\n",
    "                    else:\n",
    "                        print(str(i) +  ' (' + str(len(lista_dataframes[i].columns))  + ') y ' + str(j) + ' (' + str(len(lista_dataframes[j].columns)) + ') tienen distinta CANTIDAD de columnas.')\n",
    "                        print('======================================================')\n",
    "\n",
    "\n",
    "\n",
    "def mostrar_columnas(lista_dataframes):\n",
    "    ''' SE DEBE INGRESAR UNA LISTA DE DATAFRAMES '''\n",
    "    for i in range(len(lista_dataframes)):\n",
    "        print('Columnas de dataframe en posición ' + str(i) + ':')\n",
    "        print('------------------------------------')\n",
    "        print(lista_dataframes[i].columns)\n",
    "        print('\\nNúmero de columnas: ' + str(len(lista_dataframes[i].columns)) + '\\n')\n",
    "        print('===========================================================================================')\n",
    "\n",
    "\n",
    "\n",
    "def nombre_cada_columna(lista_dataframes):\n",
    "    tamanio_columnas = []\n",
    "    for df in lista_dataframes:\n",
    "        tamanio_columnas.append(len(df.columns))\n",
    "        a = max(tamanio_columnas)\n",
    "    for i in range(0,a):\n",
    "        print('Columna en posición ' + str(i) + '\\n')\n",
    "        for j in range(len(lista_dataframes)):\n",
    "            try:\n",
    "                print('DF en posición ' + str (j) + ': ' + str(lista_dataframes[j].columns[i]))\n",
    "            except:\n",
    "                print('DF en posición ' + str (j) + ': No contiene columnas en la posición ' + str(i))\n",
    "        print('\\n-------------------------------------\\n')\n",
    "\n",
    "\n",
    "\n",
    "def ver_ultimas_columnas(lista_dataframes):\n",
    "    tamanio_columnas = []\n",
    "    for df in lista_dataframes:\n",
    "        tamanio_columnas.append(len(df.columns))\n",
    "        a = max(tamanio_columnas)\n",
    "    for i in range(len(lista_dataframes)):\n",
    "        if len(lista_dataframes[i].columns) == (a-2):\n",
    "            print('Posición del DF ' + str(i) + ': '+ str(list(lista_dataframes[i].columns[-2::])))\n",
    "        elif len(lista_dataframes[i].columns) == a:\n",
    "            print('Posición del DF ' + str(i) + ': ' + str(list(lista_dataframes[i].columns[-4::])))\n",
    "\n",
    "\n",
    "\n",
    "def eliminar_columnas_finales(lista_dataframes):\n",
    "    tamanio_columnas = []\n",
    "    for df in lista_dataframes:\n",
    "        tamanio_columnas.append(len(df.columns))\n",
    "        a = max(tamanio_columnas)\n",
    "    for i in range(len(lista_dataframes)):\n",
    "        if len(lista_dataframes[i].columns) == a:\n",
    "            lista_dataframes[i] = lista_dataframes[i].iloc[:,:(a-2)]\n",
    "\n",
    "\n",
    "\n",
    "def ordenar_columnas_finales(lista_dataframes):\n",
    "    tamanio_columnas = []\n",
    "    for df in lista_dataframes:\n",
    "        tamanio_columnas.append(len(df.columns))\n",
    "        a = max(tamanio_columnas)\n",
    "    for i in range(len(lista_dataframes)):\n",
    "        if (lista_dataframes[i].columns[-1] == 'Coordenada UTM (X)') or (lista_dataframes[i].columns[-1] == 'Coordenada_UTM_X'):\n",
    "            col = lista_dataframes[i].columns.to_list()\n",
    "            col2 = col[0:(a-2)] + col[-1:] + col[-2:-1]\n",
    "            lista_dataframes[i] = lista_dataframes[i][col2]\n",
    "\n",
    "\n",
    "\n",
    "def renombrar_columnas(lista_dataframes, lista_nombres):\n",
    "    for i in range(len(lista_dataframes)):\n",
    "        lista_dataframes[i].columns = lista_nombres\n",
    "\n",
    "\n",
    "\n",
    "def unificar_lista_dataframe(lista_dataframes):\n",
    "    df_concatenados = pd.DataFrame()\n",
    "    for i in range(1, len(lista_dataframes)):\n",
    "        df_concatenados = df_concatenados.append(lista_dataframes[i], ignore_index = True)\n",
    "    return df_concatenados"
   ]
  },
  {
   "cell_type": "code",
   "execution_count": 3,
   "metadata": {},
   "outputs": [],
   "source": [
    "porcion_fichero_tipo = '_ACCIDENTS_TIPUS_GU_BCN_20'"
   ]
  },
  {
   "cell_type": "code",
   "execution_count": 5,
   "metadata": {},
   "outputs": [],
   "source": [
    "lista_df_tipo = enlistar_dataframes(porcion_fichero_tipo)"
   ]
  },
  {
   "cell_type": "code",
   "execution_count": 6,
   "metadata": {},
   "outputs": [
    {
     "output_type": "stream",
     "name": "stdout",
     "text": [
      "Las columnas de 0 (20) y 1 (20) COINCIDEN.\n======================================================\nLas columnas de 1 (20) y 2 (20) COINCIDEN.\n======================================================\nLas columnas de 2 (20) y 3 (20) COINCIDEN.\n======================================================\nLas columnas de 3 (20) y 4 (20) COINCIDEN.\n======================================================\n4 (20) y 5 (22) tienen distinta CANTIDAD de columnas.\n======================================================\n4 (20) y 6 (22) tienen distinta CANTIDAD de columnas.\n======================================================\n4 (20) y 7 (22) tienen distinta CANTIDAD de columnas.\n======================================================\n4 (20) y 8 (22) tienen distinta CANTIDAD de columnas.\n======================================================\n4 (20) y 9 (22) tienen distinta CANTIDAD de columnas.\n======================================================\nLas columnas de 5 (22) y 6 (22) COINCIDEN.\n======================================================\n\nLas columnas de 6 (22) y 7 (22) SON DISTINTAS.\n\n         Posición de columna diferente: 0\n         ---------------------------------\n         Columna de DF en posición 6: Numero_expedient\n         Columna de DF en posición 7: Codi_expedient\n         ================================================\n\n         Posición de columna diferente: 7\n         ---------------------------------\n         Columna de DF en posición 6: Num_postal_caption\n         Columna de DF en posición 7: Num_postal \n         ================================================\n\n         Posición de columna diferente: 8\n         ---------------------------------\n         Columna de DF en posición 6: Descripcio_dia_setmana\n         Columna de DF en posición 7: Dia_setmana\n         ================================================\n\n         Posición de columna diferente: 9\n         ---------------------------------\n         Columna de DF en posición 6: Dia_setmana\n         Columna de DF en posición 7: ID_Dia_setmana\n         ================================================\n\n         Posición de columna diferente: 10\n         ---------------------------------\n         Columna de DF en posición 6: Descripcio_tipus_dia\n         Columna de DF en posición 7: Tipus_dia\n         ================================================\n\n         Posición de columna diferente: 12\n         ---------------------------------\n         Columna de DF en posición 6: Mes_any\n         Columna de DF en posición 7: Mes\n         ================================================\n\n         Posición de columna diferente: 14\n         ---------------------------------\n         Columna de DF en posición 6: Dia_mes\n         Columna de DF en posición 7: Dia_de_mes\n         ================================================\n\n         Posición de columna diferente: 15\n         ---------------------------------\n         Columna de DF en posición 6: Hora_dia\n         Columna de DF en posición 7: Hora_de_dia\n         ================================================\n\n         Posición de columna diferente: 16\n         ---------------------------------\n         Columna de DF en posición 6: Descripcio_torn\n         Columna de DF en posición 7: Torn\n         ================================================\n\n         Posición de columna diferente: 17\n         ---------------------------------\n         Columna de DF en posición 6: Descripcio_tipus_accident\n         Columna de DF en posición 7: Tipus_accident\n         ================================================\n\n\nLas columnas de 6 (22) y 8 (22) SON DISTINTAS.\n\n         Posición de columna diferente: 11\n         ---------------------------------\n         Columna de DF en posición 6: Any\n         Columna de DF en posición 8: NK_Any\n         ================================================\n\n\nLas columnas de 6 (22) y 9 (22) SON DISTINTAS.\n\n         Posición de columna diferente: 11\n         ---------------------------------\n         Columna de DF en posición 6: Any\n         Columna de DF en posición 9: NK_Any\n         ================================================\n\n\nLas columnas de 7 (22) y 8 (22) SON DISTINTAS.\n\n         Posición de columna diferente: 0\n         ---------------------------------\n         Columna de DF en posición 7: Codi_expedient\n         Columna de DF en posición 8: Numero_expedient\n         ================================================\n\n         Posición de columna diferente: 7\n         ---------------------------------\n         Columna de DF en posición 7: Num_postal \n         Columna de DF en posición 8: Num_postal_caption\n         ================================================\n\n         Posición de columna diferente: 8\n         ---------------------------------\n         Columna de DF en posición 7: Dia_setmana\n         Columna de DF en posición 8: Descripcio_dia_setmana\n         ================================================\n\n         Posición de columna diferente: 9\n         ---------------------------------\n         Columna de DF en posición 7: ID_Dia_setmana\n         Columna de DF en posición 8: Dia_setmana\n         ================================================\n\n         Posición de columna diferente: 10\n         ---------------------------------\n         Columna de DF en posición 7: Tipus_dia\n         Columna de DF en posición 8: Descripcio_tipus_dia\n         ================================================\n\n         Posición de columna diferente: 11\n         ---------------------------------\n         Columna de DF en posición 7: Any\n         Columna de DF en posición 8: NK_Any\n         ================================================\n\n         Posición de columna diferente: 12\n         ---------------------------------\n         Columna de DF en posición 7: Mes\n         Columna de DF en posición 8: Mes_any\n         ================================================\n\n         Posición de columna diferente: 14\n         ---------------------------------\n         Columna de DF en posición 7: Dia_de_mes\n         Columna de DF en posición 8: Dia_mes\n         ================================================\n\n         Posición de columna diferente: 15\n         ---------------------------------\n         Columna de DF en posición 7: Hora_de_dia\n         Columna de DF en posición 8: Hora_dia\n         ================================================\n\n         Posición de columna diferente: 16\n         ---------------------------------\n         Columna de DF en posición 7: Torn\n         Columna de DF en posición 8: Descripcio_torn\n         ================================================\n\n         Posición de columna diferente: 17\n         ---------------------------------\n         Columna de DF en posición 7: Tipus_accident\n         Columna de DF en posición 8: Descripcio_tipus_accident\n         ================================================\n\n\nLas columnas de 7 (22) y 9 (22) SON DISTINTAS.\n\n         Posición de columna diferente: 0\n         ---------------------------------\n         Columna de DF en posición 7: Codi_expedient\n         Columna de DF en posición 9: Numero_expedient\n         ================================================\n\n         Posición de columna diferente: 7\n         ---------------------------------\n         Columna de DF en posición 7: Num_postal \n         Columna de DF en posición 9: Num_postal_caption\n         ================================================\n\n         Posición de columna diferente: 8\n         ---------------------------------\n         Columna de DF en posición 7: Dia_setmana\n         Columna de DF en posición 9: Descripcio_dia_setmana\n         ================================================\n\n         Posición de columna diferente: 9\n         ---------------------------------\n         Columna de DF en posición 7: ID_Dia_setmana\n         Columna de DF en posición 9: Dia_setmana\n         ================================================\n\n         Posición de columna diferente: 10\n         ---------------------------------\n         Columna de DF en posición 7: Tipus_dia\n         Columna de DF en posición 9: Descripcio_tipus_dia\n         ================================================\n\n         Posición de columna diferente: 11\n         ---------------------------------\n         Columna de DF en posición 7: Any\n         Columna de DF en posición 9: NK_Any\n         ================================================\n\n         Posición de columna diferente: 12\n         ---------------------------------\n         Columna de DF en posición 7: Mes\n         Columna de DF en posición 9: Mes_any\n         ================================================\n\n         Posición de columna diferente: 14\n         ---------------------------------\n         Columna de DF en posición 7: Dia_de_mes\n         Columna de DF en posición 9: Dia_mes\n         ================================================\n\n         Posición de columna diferente: 15\n         ---------------------------------\n         Columna de DF en posición 7: Hora_de_dia\n         Columna de DF en posición 9: Hora_dia\n         ================================================\n\n         Posición de columna diferente: 16\n         ---------------------------------\n         Columna de DF en posición 7: Torn\n         Columna de DF en posición 9: Descripcio_torn\n         ================================================\n\n         Posición de columna diferente: 17\n         ---------------------------------\n         Columna de DF en posición 7: Tipus_accident\n         Columna de DF en posición 9: Descripcio_tipus_accident\n         ================================================\n\nLas columnas de 8 (22) y 9 (22) COINCIDEN.\n======================================================\n"
     ]
    }
   ],
   "source": [
    "comparar_columnas(lista_df_tipo)"
   ]
  },
  {
   "cell_type": "code",
   "execution_count": 8,
   "metadata": {},
   "outputs": [
    {
     "output_type": "stream",
     "name": "stdout",
     "text": [
      "Columnas de dataframe en posición 0:\n------------------------------------\nIndex(['Número d'expedient', 'Codi districte', 'Nom districte', 'Codi barri',\n       'Nom barri', 'Codi carrer', 'Nom carrer', 'Num postal caption',\n       'Descripció dia setmana', 'Dia setmana', 'Descripció tipus dia',\n       'NK Any', 'Mes de any', 'Nom mes', 'Dia de mes', 'Hora de dia',\n       'Descripció torn', 'Descripció tipus accident', 'Coordenada UTM (Y)',\n       'Coordenada UTM (X)'],\n      dtype='object')\n\nNúmero de columnas: 20\n\n===========================================================================================\nColumnas de dataframe en posición 1:\n------------------------------------\nIndex(['Número d'expedient', 'Codi districte', 'Nom districte', 'Codi barri',\n       'Nom barri', 'Codi carrer', 'Nom carrer', 'Num postal caption',\n       'Descripció dia setmana', 'Dia setmana', 'Descripció tipus dia',\n       'NK Any', 'Mes de any', 'Nom mes', 'Dia de mes', 'Hora de dia',\n       'Descripció torn', 'Descripció tipus accident', 'Coordenada UTM (Y)',\n       'Coordenada UTM (X)'],\n      dtype='object')\n\nNúmero de columnas: 20\n\n===========================================================================================\nColumnas de dataframe en posición 2:\n------------------------------------\nIndex(['Número d'expedient', 'Codi districte', 'Nom districte', 'Codi barri',\n       'Nom barri', 'Codi carrer', 'Nom carrer', 'Num postal caption',\n       'Descripció dia setmana', 'Dia setmana', 'Descripció tipus dia',\n       'NK Any', 'Mes de any', 'Nom mes', 'Dia de mes', 'Hora de dia',\n       'Descripció torn', 'Descripció tipus accident', 'Coordenada UTM (Y)',\n       'Coordenada UTM (X)'],\n      dtype='object')\n\nNúmero de columnas: 20\n\n===========================================================================================\nColumnas de dataframe en posición 3:\n------------------------------------\nIndex(['Número d'expedient', 'Codi districte', 'Nom districte', 'Codi barri',\n       'Nom barri', 'Codi carrer', 'Nom carrer', 'Num postal caption',\n       'Descripció dia setmana', 'Dia setmana', 'Descripció tipus dia',\n       'NK Any', 'Mes de any', 'Nom mes', 'Dia de mes', 'Hora de dia',\n       'Descripció torn', 'Descripció tipus accident', 'Coordenada UTM (Y)',\n       'Coordenada UTM (X)'],\n      dtype='object')\n\nNúmero de columnas: 20\n\n===========================================================================================\nColumnas de dataframe en posición 4:\n------------------------------------\nIndex(['Número d'expedient', 'Codi districte', 'Nom districte', 'Codi barri',\n       'Nom barri', 'Codi carrer', 'Nom carrer', 'Num postal caption',\n       'Descripció dia setmana', 'Dia setmana', 'Descripció tipus dia',\n       'NK Any', 'Mes de any', 'Nom mes', 'Dia de mes', 'Hora de dia',\n       'Descripció torn', 'Descripció tipus accident', 'Coordenada UTM (Y)',\n       'Coordenada UTM (X)'],\n      dtype='object')\n\nNúmero de columnas: 20\n\n===========================================================================================\nColumnas de dataframe en posición 5:\n------------------------------------\nIndex(['Numero_expedient', 'Codi_districte', 'Nom_districte', 'Codi_barri',\n       'Nom_barri', 'Codi_carrer', 'Nom_carrer', 'Num_postal_caption',\n       'Descripcio_dia_setmana', 'Dia_setmana', 'Descripcio_tipus_dia', 'Any',\n       'Mes_any', 'Nom_mes', 'Dia_mes', 'Hora_dia', 'Descripcio_torn',\n       'Descripcio_tipus_accident', 'Coordenada_UTM_X', 'Coordenada_UTM_Y',\n       'Longitud', 'Latitud'],\n      dtype='object')\n\nNúmero de columnas: 22\n\n===========================================================================================\nColumnas de dataframe en posición 6:\n------------------------------------\nIndex(['Numero_expedient', 'Codi_districte', 'Nom_districte', 'Codi_barri',\n       'Nom_barri', 'Codi_carrer', 'Nom_carrer', 'Num_postal_caption',\n       'Descripcio_dia_setmana', 'Dia_setmana', 'Descripcio_tipus_dia', 'Any',\n       'Mes_any', 'Nom_mes', 'Dia_mes', 'Hora_dia', 'Descripcio_torn',\n       'Descripcio_tipus_accident', 'Coordenada_UTM_X', 'Coordenada_UTM_Y',\n       'Longitud', 'Latitud'],\n      dtype='object')\n\nNúmero de columnas: 22\n\n===========================================================================================\nColumnas de dataframe en posición 7:\n------------------------------------\nIndex(['Codi_expedient', 'Codi_districte', 'Nom_districte', 'Codi_barri',\n       'Nom_barri', 'Codi_carrer', 'Nom_carrer', 'Num_postal ', 'Dia_setmana',\n       'ID_Dia_setmana', 'Tipus_dia', 'Any', 'Mes', 'Nom_mes', 'Dia_de_mes',\n       'Hora_de_dia', 'Torn', 'Tipus_accident', 'Coordenada_UTM_X',\n       'Coordenada_UTM_Y', 'Longitud', 'Latitud'],\n      dtype='object')\n\nNúmero de columnas: 22\n\n===========================================================================================\nColumnas de dataframe en posición 8:\n------------------------------------\nIndex(['Numero_expedient', 'Codi_districte', 'Nom_districte', 'Codi_barri',\n       'Nom_barri', 'Codi_carrer', 'Nom_carrer', 'Num_postal_caption',\n       'Descripcio_dia_setmana', 'Dia_setmana', 'Descripcio_tipus_dia',\n       'NK_Any', 'Mes_any', 'Nom_mes', 'Dia_mes', 'Hora_dia',\n       'Descripcio_torn', 'Descripcio_tipus_accident', 'Coordenada_UTM_X',\n       'Coordenada_UTM_Y', 'Longitud', 'Latitud'],\n      dtype='object')\n\nNúmero de columnas: 22\n\n===========================================================================================\nColumnas de dataframe en posición 9:\n------------------------------------\nIndex(['Numero_expedient', 'Codi_districte', 'Nom_districte', 'Codi_barri',\n       'Nom_barri', 'Codi_carrer', 'Nom_carrer', 'Num_postal_caption',\n       'Descripcio_dia_setmana', 'Dia_setmana', 'Descripcio_tipus_dia',\n       'NK_Any', 'Mes_any', 'Nom_mes', 'Dia_mes', 'Hora_dia',\n       'Descripcio_torn', 'Descripcio_tipus_accident', 'Coordenada_UTM_X',\n       'Coordenada_UTM_Y', 'Longitud', 'Latitud'],\n      dtype='object')\n\nNúmero de columnas: 22\n\n===========================================================================================\n"
     ]
    }
   ],
   "source": [
    "mostrar_columnas(lista_df_tipo)"
   ]
  },
  {
   "cell_type": "code",
   "execution_count": 9,
   "metadata": {},
   "outputs": [
    {
     "output_type": "stream",
     "name": "stdout",
     "text": [
      "Columna en posición 0\n\nDF en posición 0: Número d'expedient\nDF en posición 1: Número d'expedient\nDF en posición 2: Número d'expedient\nDF en posición 3: Número d'expedient\nDF en posición 4: Número d'expedient\nDF en posición 5: Numero_expedient\nDF en posición 6: Numero_expedient\nDF en posición 7: Codi_expedient\nDF en posición 8: Numero_expedient\nDF en posición 9: Numero_expedient\n\n-------------------------------------\n\nColumna en posición 1\n\nDF en posición 0: Codi districte\nDF en posición 1: Codi districte\nDF en posición 2: Codi districte\nDF en posición 3: Codi districte\nDF en posición 4: Codi districte\nDF en posición 5: Codi_districte\nDF en posición 6: Codi_districte\nDF en posición 7: Codi_districte\nDF en posición 8: Codi_districte\nDF en posición 9: Codi_districte\n\n-------------------------------------\n\nColumna en posición 2\n\nDF en posición 0: Nom districte\nDF en posición 1: Nom districte\nDF en posición 2: Nom districte\nDF en posición 3: Nom districte\nDF en posición 4: Nom districte\nDF en posición 5: Nom_districte\nDF en posición 6: Nom_districte\nDF en posición 7: Nom_districte\nDF en posición 8: Nom_districte\nDF en posición 9: Nom_districte\n\n-------------------------------------\n\nColumna en posición 3\n\nDF en posición 0: Codi barri\nDF en posición 1: Codi barri\nDF en posición 2: Codi barri\nDF en posición 3: Codi barri\nDF en posición 4: Codi barri\nDF en posición 5: Codi_barri\nDF en posición 6: Codi_barri\nDF en posición 7: Codi_barri\nDF en posición 8: Codi_barri\nDF en posición 9: Codi_barri\n\n-------------------------------------\n\nColumna en posición 4\n\nDF en posición 0: Nom barri\nDF en posición 1: Nom barri\nDF en posición 2: Nom barri\nDF en posición 3: Nom barri\nDF en posición 4: Nom barri\nDF en posición 5: Nom_barri\nDF en posición 6: Nom_barri\nDF en posición 7: Nom_barri\nDF en posición 8: Nom_barri\nDF en posición 9: Nom_barri\n\n-------------------------------------\n\nColumna en posición 5\n\nDF en posición 0: Codi carrer\nDF en posición 1: Codi carrer\nDF en posición 2: Codi carrer\nDF en posición 3: Codi carrer\nDF en posición 4: Codi carrer\nDF en posición 5: Codi_carrer\nDF en posición 6: Codi_carrer\nDF en posición 7: Codi_carrer\nDF en posición 8: Codi_carrer\nDF en posición 9: Codi_carrer\n\n-------------------------------------\n\nColumna en posición 6\n\nDF en posición 0: Nom carrer\nDF en posición 1: Nom carrer\nDF en posición 2: Nom carrer\nDF en posición 3: Nom carrer\nDF en posición 4: Nom carrer\nDF en posición 5: Nom_carrer\nDF en posición 6: Nom_carrer\nDF en posición 7: Nom_carrer\nDF en posición 8: Nom_carrer\nDF en posición 9: Nom_carrer\n\n-------------------------------------\n\nColumna en posición 7\n\nDF en posición 0: Num postal caption\nDF en posición 1: Num postal caption\nDF en posición 2: Num postal caption\nDF en posición 3: Num postal caption\nDF en posición 4: Num postal caption\nDF en posición 5: Num_postal_caption\nDF en posición 6: Num_postal_caption\nDF en posición 7: Num_postal \nDF en posición 8: Num_postal_caption\nDF en posición 9: Num_postal_caption\n\n-------------------------------------\n\nColumna en posición 8\n\nDF en posición 0: Descripció dia setmana\nDF en posición 1: Descripció dia setmana\nDF en posición 2: Descripció dia setmana\nDF en posición 3: Descripció dia setmana\nDF en posición 4: Descripció dia setmana\nDF en posición 5: Descripcio_dia_setmana\nDF en posición 6: Descripcio_dia_setmana\nDF en posición 7: Dia_setmana\nDF en posición 8: Descripcio_dia_setmana\nDF en posición 9: Descripcio_dia_setmana\n\n-------------------------------------\n\nColumna en posición 9\n\nDF en posición 0: Dia setmana\nDF en posición 1: Dia setmana\nDF en posición 2: Dia setmana\nDF en posición 3: Dia setmana\nDF en posición 4: Dia setmana\nDF en posición 5: Dia_setmana\nDF en posición 6: Dia_setmana\nDF en posición 7: ID_Dia_setmana\nDF en posición 8: Dia_setmana\nDF en posición 9: Dia_setmana\n\n-------------------------------------\n\nColumna en posición 10\n\nDF en posición 0: Descripció tipus dia\nDF en posición 1: Descripció tipus dia\nDF en posición 2: Descripció tipus dia\nDF en posición 3: Descripció tipus dia\nDF en posición 4: Descripció tipus dia\nDF en posición 5: Descripcio_tipus_dia\nDF en posición 6: Descripcio_tipus_dia\nDF en posición 7: Tipus_dia\nDF en posición 8: Descripcio_tipus_dia\nDF en posición 9: Descripcio_tipus_dia\n\n-------------------------------------\n\nColumna en posición 11\n\nDF en posición 0: NK Any\nDF en posición 1: NK Any\nDF en posición 2: NK Any\nDF en posición 3: NK Any\nDF en posición 4: NK Any\nDF en posición 5: Any\nDF en posición 6: Any\nDF en posición 7: Any\nDF en posición 8: NK_Any\nDF en posición 9: NK_Any\n\n-------------------------------------\n\nColumna en posición 12\n\nDF en posición 0: Mes de any\nDF en posición 1: Mes de any\nDF en posición 2: Mes de any\nDF en posición 3: Mes de any\nDF en posición 4: Mes de any\nDF en posición 5: Mes_any\nDF en posición 6: Mes_any\nDF en posición 7: Mes\nDF en posición 8: Mes_any\nDF en posición 9: Mes_any\n\n-------------------------------------\n\nColumna en posición 13\n\nDF en posición 0: Nom mes\nDF en posición 1: Nom mes\nDF en posición 2: Nom mes\nDF en posición 3: Nom mes\nDF en posición 4: Nom mes\nDF en posición 5: Nom_mes\nDF en posición 6: Nom_mes\nDF en posición 7: Nom_mes\nDF en posición 8: Nom_mes\nDF en posición 9: Nom_mes\n\n-------------------------------------\n\nColumna en posición 14\n\nDF en posición 0: Dia de mes\nDF en posición 1: Dia de mes\nDF en posición 2: Dia de mes\nDF en posición 3: Dia de mes\nDF en posición 4: Dia de mes\nDF en posición 5: Dia_mes\nDF en posición 6: Dia_mes\nDF en posición 7: Dia_de_mes\nDF en posición 8: Dia_mes\nDF en posición 9: Dia_mes\n\n-------------------------------------\n\nColumna en posición 15\n\nDF en posición 0: Hora de dia\nDF en posición 1: Hora de dia\nDF en posición 2: Hora de dia\nDF en posición 3: Hora de dia\nDF en posición 4: Hora de dia\nDF en posición 5: Hora_dia\nDF en posición 6: Hora_dia\nDF en posición 7: Hora_de_dia\nDF en posición 8: Hora_dia\nDF en posición 9: Hora_dia\n\n-------------------------------------\n\nColumna en posición 16\n\nDF en posición 0: Descripció torn\nDF en posición 1: Descripció torn\nDF en posición 2: Descripció torn\nDF en posición 3: Descripció torn\nDF en posición 4: Descripció torn\nDF en posición 5: Descripcio_torn\nDF en posición 6: Descripcio_torn\nDF en posición 7: Torn\nDF en posición 8: Descripcio_torn\nDF en posición 9: Descripcio_torn\n\n-------------------------------------\n\nColumna en posición 17\n\nDF en posición 0: Descripció tipus accident\nDF en posición 1: Descripció tipus accident\nDF en posición 2: Descripció tipus accident\nDF en posición 3: Descripció tipus accident\nDF en posición 4: Descripció tipus accident\nDF en posición 5: Descripcio_tipus_accident\nDF en posición 6: Descripcio_tipus_accident\nDF en posición 7: Tipus_accident\nDF en posición 8: Descripcio_tipus_accident\nDF en posición 9: Descripcio_tipus_accident\n\n-------------------------------------\n\nColumna en posición 18\n\nDF en posición 0: Coordenada UTM (Y)\nDF en posición 1: Coordenada UTM (Y)\nDF en posición 2: Coordenada UTM (Y)\nDF en posición 3: Coordenada UTM (Y)\nDF en posición 4: Coordenada UTM (Y)\nDF en posición 5: Coordenada_UTM_X\nDF en posición 6: Coordenada_UTM_X\nDF en posición 7: Coordenada_UTM_X\nDF en posición 8: Coordenada_UTM_X\nDF en posición 9: Coordenada_UTM_X\n\n-------------------------------------\n\nColumna en posición 19\n\nDF en posición 0: Coordenada UTM (X)\nDF en posición 1: Coordenada UTM (X)\nDF en posición 2: Coordenada UTM (X)\nDF en posición 3: Coordenada UTM (X)\nDF en posición 4: Coordenada UTM (X)\nDF en posición 5: Coordenada_UTM_Y\nDF en posición 6: Coordenada_UTM_Y\nDF en posición 7: Coordenada_UTM_Y\nDF en posición 8: Coordenada_UTM_Y\nDF en posición 9: Coordenada_UTM_Y\n\n-------------------------------------\n\nColumna en posición 20\n\nDF en posición 0: No contiene columnas en la posición 20\nDF en posición 1: No contiene columnas en la posición 20\nDF en posición 2: No contiene columnas en la posición 20\nDF en posición 3: No contiene columnas en la posición 20\nDF en posición 4: No contiene columnas en la posición 20\nDF en posición 5: Longitud\nDF en posición 6: Longitud\nDF en posición 7: Longitud\nDF en posición 8: Longitud\nDF en posición 9: Longitud\n\n-------------------------------------\n\nColumna en posición 21\n\nDF en posición 0: No contiene columnas en la posición 21\nDF en posición 1: No contiene columnas en la posición 21\nDF en posición 2: No contiene columnas en la posición 21\nDF en posición 3: No contiene columnas en la posición 21\nDF en posición 4: No contiene columnas en la posición 21\nDF en posición 5: Latitud\nDF en posición 6: Latitud\nDF en posición 7: Latitud\nDF en posición 8: Latitud\nDF en posición 9: Latitud\n\n-------------------------------------\n\n"
     ]
    }
   ],
   "source": [
    "nombre_cada_columna(lista_df_tipo)"
   ]
  },
  {
   "source": [
    "### Como se puede observar, no todos los dataframes contenidos en la lista poseen el mismo número de columnas."
   ],
   "cell_type": "markdown",
   "metadata": {}
  },
  {
   "cell_type": "code",
   "execution_count": 15,
   "metadata": {},
   "outputs": [
    {
     "output_type": "stream",
     "name": "stdout",
     "text": [
      "Posición del DF 0: ['Coordenada UTM (Y)', 'Coordenada UTM (X)']\nPosición del DF 1: ['Coordenada UTM (Y)', 'Coordenada UTM (X)']\nPosición del DF 2: ['Coordenada UTM (Y)', 'Coordenada UTM (X)']\nPosición del DF 3: ['Coordenada UTM (Y)', 'Coordenada UTM (X)']\nPosición del DF 4: ['Coordenada UTM (Y)', 'Coordenada UTM (X)']\nPosición del DF 5: ['Coordenada_UTM_X', 'Coordenada_UTM_Y', 'Longitud', 'Latitud']\nPosición del DF 6: ['Coordenada_UTM_X', 'Coordenada_UTM_Y', 'Longitud', 'Latitud']\nPosición del DF 7: ['Coordenada_UTM_X', 'Coordenada_UTM_Y', 'Longitud', 'Latitud']\nPosición del DF 8: ['Coordenada_UTM_X', 'Coordenada_UTM_Y', 'Longitud', 'Latitud']\nPosición del DF 9: ['Coordenada_UTM_X', 'Coordenada_UTM_Y', 'Longitud', 'Latitud']\n"
     ]
    }
   ],
   "source": [
    "ver_ultimas_columnas(lista_df_tipo)"
   ]
  },
  {
   "source": [
    "### Vemos que las últimas 2 columnas de los dataframes que contienen 22, hacen referencia a la latitud y longitud. De momento, podemos prescindir de ellas, por lo que serán eliminadas."
   ],
   "cell_type": "markdown",
   "metadata": {}
  },
  {
   "cell_type": "code",
   "execution_count": 17,
   "metadata": {},
   "outputs": [],
   "source": [
    "eliminar_columnas_finales(lista_df_tipo)"
   ]
  },
  {
   "source": [
    "### Podemos apreciar además, que las columnas que hacen referencia a las coordenadas, no sólo tienen nombres diferentes, sino que no se corresponden en posición, es decir, en algunas figura en primer lugar la coordeneda UTM Y o X y viceversa. Se procede a acomodar las columnas para luego unificar nombres de las mismas."
   ],
   "cell_type": "markdown",
   "metadata": {}
  },
  {
   "cell_type": "code",
   "execution_count": 19,
   "metadata": {},
   "outputs": [],
   "source": [
    "ordenar_columnas_finales(lista_df_tipo)"
   ]
  },
  {
   "cell_type": "code",
   "execution_count": 20,
   "metadata": {},
   "outputs": [
    {
     "output_type": "stream",
     "name": "stdout",
     "text": [
      "Columna en posición 0\n\nDF en posición 0: Número d'expedient\nDF en posición 1: Número d'expedient\nDF en posición 2: Número d'expedient\nDF en posición 3: Número d'expedient\nDF en posición 4: Número d'expedient\nDF en posición 5: Numero_expedient\nDF en posición 6: Numero_expedient\nDF en posición 7: Codi_expedient\nDF en posición 8: Numero_expedient\nDF en posición 9: Numero_expedient\n\n-------------------------------------\n\nColumna en posición 1\n\nDF en posición 0: Codi districte\nDF en posición 1: Codi districte\nDF en posición 2: Codi districte\nDF en posición 3: Codi districte\nDF en posición 4: Codi districte\nDF en posición 5: Codi_districte\nDF en posición 6: Codi_districte\nDF en posición 7: Codi_districte\nDF en posición 8: Codi_districte\nDF en posición 9: Codi_districte\n\n-------------------------------------\n\nColumna en posición 2\n\nDF en posición 0: Nom districte\nDF en posición 1: Nom districte\nDF en posición 2: Nom districte\nDF en posición 3: Nom districte\nDF en posición 4: Nom districte\nDF en posición 5: Nom_districte\nDF en posición 6: Nom_districte\nDF en posición 7: Nom_districte\nDF en posición 8: Nom_districte\nDF en posición 9: Nom_districte\n\n-------------------------------------\n\nColumna en posición 3\n\nDF en posición 0: Codi barri\nDF en posición 1: Codi barri\nDF en posición 2: Codi barri\nDF en posición 3: Codi barri\nDF en posición 4: Codi barri\nDF en posición 5: Codi_barri\nDF en posición 6: Codi_barri\nDF en posición 7: Codi_barri\nDF en posición 8: Codi_barri\nDF en posición 9: Codi_barri\n\n-------------------------------------\n\nColumna en posición 4\n\nDF en posición 0: Nom barri\nDF en posición 1: Nom barri\nDF en posición 2: Nom barri\nDF en posición 3: Nom barri\nDF en posición 4: Nom barri\nDF en posición 5: Nom_barri\nDF en posición 6: Nom_barri\nDF en posición 7: Nom_barri\nDF en posición 8: Nom_barri\nDF en posición 9: Nom_barri\n\n-------------------------------------\n\nColumna en posición 5\n\nDF en posición 0: Codi carrer\nDF en posición 1: Codi carrer\nDF en posición 2: Codi carrer\nDF en posición 3: Codi carrer\nDF en posición 4: Codi carrer\nDF en posición 5: Codi_carrer\nDF en posición 6: Codi_carrer\nDF en posición 7: Codi_carrer\nDF en posición 8: Codi_carrer\nDF en posición 9: Codi_carrer\n\n-------------------------------------\n\nColumna en posición 6\n\nDF en posición 0: Nom carrer\nDF en posición 1: Nom carrer\nDF en posición 2: Nom carrer\nDF en posición 3: Nom carrer\nDF en posición 4: Nom carrer\nDF en posición 5: Nom_carrer\nDF en posición 6: Nom_carrer\nDF en posición 7: Nom_carrer\nDF en posición 8: Nom_carrer\nDF en posición 9: Nom_carrer\n\n-------------------------------------\n\nColumna en posición 7\n\nDF en posición 0: Num postal caption\nDF en posición 1: Num postal caption\nDF en posición 2: Num postal caption\nDF en posición 3: Num postal caption\nDF en posición 4: Num postal caption\nDF en posición 5: Num_postal_caption\nDF en posición 6: Num_postal_caption\nDF en posición 7: Num_postal \nDF en posición 8: Num_postal_caption\nDF en posición 9: Num_postal_caption\n\n-------------------------------------\n\nColumna en posición 8\n\nDF en posición 0: Descripció dia setmana\nDF en posición 1: Descripció dia setmana\nDF en posición 2: Descripció dia setmana\nDF en posición 3: Descripció dia setmana\nDF en posición 4: Descripció dia setmana\nDF en posición 5: Descripcio_dia_setmana\nDF en posición 6: Descripcio_dia_setmana\nDF en posición 7: Dia_setmana\nDF en posición 8: Descripcio_dia_setmana\nDF en posición 9: Descripcio_dia_setmana\n\n-------------------------------------\n\nColumna en posición 9\n\nDF en posición 0: Dia setmana\nDF en posición 1: Dia setmana\nDF en posición 2: Dia setmana\nDF en posición 3: Dia setmana\nDF en posición 4: Dia setmana\nDF en posición 5: Dia_setmana\nDF en posición 6: Dia_setmana\nDF en posición 7: ID_Dia_setmana\nDF en posición 8: Dia_setmana\nDF en posición 9: Dia_setmana\n\n-------------------------------------\n\nColumna en posición 10\n\nDF en posición 0: Descripció tipus dia\nDF en posición 1: Descripció tipus dia\nDF en posición 2: Descripció tipus dia\nDF en posición 3: Descripció tipus dia\nDF en posición 4: Descripció tipus dia\nDF en posición 5: Descripcio_tipus_dia\nDF en posición 6: Descripcio_tipus_dia\nDF en posición 7: Tipus_dia\nDF en posición 8: Descripcio_tipus_dia\nDF en posición 9: Descripcio_tipus_dia\n\n-------------------------------------\n\nColumna en posición 11\n\nDF en posición 0: NK Any\nDF en posición 1: NK Any\nDF en posición 2: NK Any\nDF en posición 3: NK Any\nDF en posición 4: NK Any\nDF en posición 5: Any\nDF en posición 6: Any\nDF en posición 7: Any\nDF en posición 8: NK_Any\nDF en posición 9: NK_Any\n\n-------------------------------------\n\nColumna en posición 12\n\nDF en posición 0: Mes de any\nDF en posición 1: Mes de any\nDF en posición 2: Mes de any\nDF en posición 3: Mes de any\nDF en posición 4: Mes de any\nDF en posición 5: Mes_any\nDF en posición 6: Mes_any\nDF en posición 7: Mes\nDF en posición 8: Mes_any\nDF en posición 9: Mes_any\n\n-------------------------------------\n\nColumna en posición 13\n\nDF en posición 0: Nom mes\nDF en posición 1: Nom mes\nDF en posición 2: Nom mes\nDF en posición 3: Nom mes\nDF en posición 4: Nom mes\nDF en posición 5: Nom_mes\nDF en posición 6: Nom_mes\nDF en posición 7: Nom_mes\nDF en posición 8: Nom_mes\nDF en posición 9: Nom_mes\n\n-------------------------------------\n\nColumna en posición 14\n\nDF en posición 0: Dia de mes\nDF en posición 1: Dia de mes\nDF en posición 2: Dia de mes\nDF en posición 3: Dia de mes\nDF en posición 4: Dia de mes\nDF en posición 5: Dia_mes\nDF en posición 6: Dia_mes\nDF en posición 7: Dia_de_mes\nDF en posición 8: Dia_mes\nDF en posición 9: Dia_mes\n\n-------------------------------------\n\nColumna en posición 15\n\nDF en posición 0: Hora de dia\nDF en posición 1: Hora de dia\nDF en posición 2: Hora de dia\nDF en posición 3: Hora de dia\nDF en posición 4: Hora de dia\nDF en posición 5: Hora_dia\nDF en posición 6: Hora_dia\nDF en posición 7: Hora_de_dia\nDF en posición 8: Hora_dia\nDF en posición 9: Hora_dia\n\n-------------------------------------\n\nColumna en posición 16\n\nDF en posición 0: Descripció torn\nDF en posición 1: Descripció torn\nDF en posición 2: Descripció torn\nDF en posición 3: Descripció torn\nDF en posición 4: Descripció torn\nDF en posición 5: Descripcio_torn\nDF en posición 6: Descripcio_torn\nDF en posición 7: Torn\nDF en posición 8: Descripcio_torn\nDF en posición 9: Descripcio_torn\n\n-------------------------------------\n\nColumna en posición 17\n\nDF en posición 0: Descripció tipus accident\nDF en posición 1: Descripció tipus accident\nDF en posición 2: Descripció tipus accident\nDF en posición 3: Descripció tipus accident\nDF en posición 4: Descripció tipus accident\nDF en posición 5: Descripcio_tipus_accident\nDF en posición 6: Descripcio_tipus_accident\nDF en posición 7: Tipus_accident\nDF en posición 8: Descripcio_tipus_accident\nDF en posición 9: Descripcio_tipus_accident\n\n-------------------------------------\n\nColumna en posición 18\n\nDF en posición 0: Coordenada UTM (X)\nDF en posición 1: Coordenada UTM (X)\nDF en posición 2: Coordenada UTM (X)\nDF en posición 3: Coordenada UTM (X)\nDF en posición 4: Coordenada UTM (X)\nDF en posición 5: Coordenada_UTM_X\nDF en posición 6: Coordenada_UTM_X\nDF en posición 7: Coordenada_UTM_X\nDF en posición 8: Coordenada_UTM_X\nDF en posición 9: Coordenada_UTM_X\n\n-------------------------------------\n\nColumna en posición 19\n\nDF en posición 0: Coordenada UTM (Y)\nDF en posición 1: Coordenada UTM (Y)\nDF en posición 2: Coordenada UTM (Y)\nDF en posición 3: Coordenada UTM (Y)\nDF en posición 4: Coordenada UTM (Y)\nDF en posición 5: Coordenada_UTM_Y\nDF en posición 6: Coordenada_UTM_Y\nDF en posición 7: Coordenada_UTM_Y\nDF en posición 8: Coordenada_UTM_Y\nDF en posición 9: Coordenada_UTM_Y\n\n-------------------------------------\n\n"
     ]
    }
   ],
   "source": [
    "nombre_cada_columna(lista_df_tipo)"
   ]
  },
  {
   "source": [
    "### Una vez organizadas las columnas, se homogenizan los nombres de las mismas para unir los dataframes en uno solo."
   ],
   "cell_type": "markdown",
   "metadata": {}
  },
  {
   "cell_type": "code",
   "execution_count": 23,
   "metadata": {},
   "outputs": [
    {
     "output_type": "execute_result",
     "data": {
      "text/plain": [
       "  Numero_expedient  Codi_districte Nom_districte  Codi_barri   Nom_barri  \\\n",
       "0  2017S009418                  -1    Desconegut          -1  Desconegut   \n",
       "\n",
       "   Codi_carrer                                         Nom_carrer  \\\n",
       "0           -1  Francesc Ferrer i Guàrdia / Sant Jordi        ...   \n",
       "\n",
       "  Num_postal_caption Descripcio_dia_setmana Dia_setmana Descripcio_tipus_dia  \\\n",
       "0         Desconegut                Dilluns          Dl              Laboral   \n",
       "\n",
       "    Any  Mes_any   Nom_mes  Dia_mes  Hora_dia Descripcio_torn  \\\n",
       "0  2017       11  Novembre       13        16           Tarda   \n",
       "\n",
       "  Descripcio_tipus_accident  Coordenada_UTM_X  Coordenada_UTM_Y  \n",
       "0                     Abast         428572.07        4580031.06  "
      ],
      "text/html": "<div>\n<style scoped>\n    .dataframe tbody tr th:only-of-type {\n        vertical-align: middle;\n    }\n\n    .dataframe tbody tr th {\n        vertical-align: top;\n    }\n\n    .dataframe thead th {\n        text-align: right;\n    }\n</style>\n<table border=\"1\" class=\"dataframe\">\n  <thead>\n    <tr style=\"text-align: right;\">\n      <th></th>\n      <th>Numero_expedient</th>\n      <th>Codi_districte</th>\n      <th>Nom_districte</th>\n      <th>Codi_barri</th>\n      <th>Nom_barri</th>\n      <th>Codi_carrer</th>\n      <th>Nom_carrer</th>\n      <th>Num_postal_caption</th>\n      <th>Descripcio_dia_setmana</th>\n      <th>Dia_setmana</th>\n      <th>Descripcio_tipus_dia</th>\n      <th>Any</th>\n      <th>Mes_any</th>\n      <th>Nom_mes</th>\n      <th>Dia_mes</th>\n      <th>Hora_dia</th>\n      <th>Descripcio_torn</th>\n      <th>Descripcio_tipus_accident</th>\n      <th>Coordenada_UTM_X</th>\n      <th>Coordenada_UTM_Y</th>\n    </tr>\n  </thead>\n  <tbody>\n    <tr>\n      <th>0</th>\n      <td>2017S009418</td>\n      <td>-1</td>\n      <td>Desconegut</td>\n      <td>-1</td>\n      <td>Desconegut</td>\n      <td>-1</td>\n      <td>Francesc Ferrer i Guàrdia / Sant Jordi        ...</td>\n      <td>Desconegut</td>\n      <td>Dilluns</td>\n      <td>Dl</td>\n      <td>Laboral</td>\n      <td>2017</td>\n      <td>11</td>\n      <td>Novembre</td>\n      <td>13</td>\n      <td>16</td>\n      <td>Tarda</td>\n      <td>Abast</td>\n      <td>428572.07</td>\n      <td>4580031.06</td>\n    </tr>\n  </tbody>\n</table>\n</div>"
     },
     "metadata": {},
     "execution_count": 23
    }
   ],
   "source": [
    "lista_df_tipo[6].head(1)"
   ]
  },
  {
   "cell_type": "code",
   "execution_count": 24,
   "metadata": {},
   "outputs": [],
   "source": [
    "nombres_columnas = ['NUMERO EXPEDIENTE', 'CODIGO DISTRITO', 'DISTRITO', 'CODIGO BARRIO', 'BARRIO', 'CODIGO CALLE', 'CALLE', 'NUMERO POSTAL', 'DIA SEMANA', 'DIA SEMANA ABREVIADO', 'TIPO DE DIA', 'ANO', 'MES (NUMERICO)', 'MES', 'DIA', 'HORA', 'TURNO', 'TIPO ACCIDENTE', 'COORDENADA UTM X', 'COORDENADA UTM Y']"
   ]
  },
  {
   "cell_type": "code",
   "execution_count": 25,
   "metadata": {},
   "outputs": [],
   "source": [
    "renombrar_columnas(lista_df_tipo, nombres_columnas)"
   ]
  },
  {
   "cell_type": "code",
   "execution_count": 26,
   "metadata": {},
   "outputs": [
    {
     "output_type": "stream",
     "name": "stdout",
     "text": [
      "Columna en posición 0\n\nDF en posición 0: NUMERO EXPEDIENTE\nDF en posición 1: NUMERO EXPEDIENTE\nDF en posición 2: NUMERO EXPEDIENTE\nDF en posición 3: NUMERO EXPEDIENTE\nDF en posición 4: NUMERO EXPEDIENTE\nDF en posición 5: NUMERO EXPEDIENTE\nDF en posición 6: NUMERO EXPEDIENTE\nDF en posición 7: NUMERO EXPEDIENTE\nDF en posición 8: NUMERO EXPEDIENTE\nDF en posición 9: NUMERO EXPEDIENTE\n\n-------------------------------------\n\nColumna en posición 1\n\nDF en posición 0: CODIGO DISTRITO\nDF en posición 1: CODIGO DISTRITO\nDF en posición 2: CODIGO DISTRITO\nDF en posición 3: CODIGO DISTRITO\nDF en posición 4: CODIGO DISTRITO\nDF en posición 5: CODIGO DISTRITO\nDF en posición 6: CODIGO DISTRITO\nDF en posición 7: CODIGO DISTRITO\nDF en posición 8: CODIGO DISTRITO\nDF en posición 9: CODIGO DISTRITO\n\n-------------------------------------\n\nColumna en posición 2\n\nDF en posición 0: DISTRITO\nDF en posición 1: DISTRITO\nDF en posición 2: DISTRITO\nDF en posición 3: DISTRITO\nDF en posición 4: DISTRITO\nDF en posición 5: DISTRITO\nDF en posición 6: DISTRITO\nDF en posición 7: DISTRITO\nDF en posición 8: DISTRITO\nDF en posición 9: DISTRITO\n\n-------------------------------------\n\nColumna en posición 3\n\nDF en posición 0: CODIGO BARRIO\nDF en posición 1: CODIGO BARRIO\nDF en posición 2: CODIGO BARRIO\nDF en posición 3: CODIGO BARRIO\nDF en posición 4: CODIGO BARRIO\nDF en posición 5: CODIGO BARRIO\nDF en posición 6: CODIGO BARRIO\nDF en posición 7: CODIGO BARRIO\nDF en posición 8: CODIGO BARRIO\nDF en posición 9: CODIGO BARRIO\n\n-------------------------------------\n\nColumna en posición 4\n\nDF en posición 0: BARRIO\nDF en posición 1: BARRIO\nDF en posición 2: BARRIO\nDF en posición 3: BARRIO\nDF en posición 4: BARRIO\nDF en posición 5: BARRIO\nDF en posición 6: BARRIO\nDF en posición 7: BARRIO\nDF en posición 8: BARRIO\nDF en posición 9: BARRIO\n\n-------------------------------------\n\nColumna en posición 5\n\nDF en posición 0: CODIGO CALLE\nDF en posición 1: CODIGO CALLE\nDF en posición 2: CODIGO CALLE\nDF en posición 3: CODIGO CALLE\nDF en posición 4: CODIGO CALLE\nDF en posición 5: CODIGO CALLE\nDF en posición 6: CODIGO CALLE\nDF en posición 7: CODIGO CALLE\nDF en posición 8: CODIGO CALLE\nDF en posición 9: CODIGO CALLE\n\n-------------------------------------\n\nColumna en posición 6\n\nDF en posición 0: CALLE\nDF en posición 1: CALLE\nDF en posición 2: CALLE\nDF en posición 3: CALLE\nDF en posición 4: CALLE\nDF en posición 5: CALLE\nDF en posición 6: CALLE\nDF en posición 7: CALLE\nDF en posición 8: CALLE\nDF en posición 9: CALLE\n\n-------------------------------------\n\nColumna en posición 7\n\nDF en posición 0: NUMERO POSTAL\nDF en posición 1: NUMERO POSTAL\nDF en posición 2: NUMERO POSTAL\nDF en posición 3: NUMERO POSTAL\nDF en posición 4: NUMERO POSTAL\nDF en posición 5: NUMERO POSTAL\nDF en posición 6: NUMERO POSTAL\nDF en posición 7: NUMERO POSTAL\nDF en posición 8: NUMERO POSTAL\nDF en posición 9: NUMERO POSTAL\n\n-------------------------------------\n\nColumna en posición 8\n\nDF en posición 0: DIA SEMANA\nDF en posición 1: DIA SEMANA\nDF en posición 2: DIA SEMANA\nDF en posición 3: DIA SEMANA\nDF en posición 4: DIA SEMANA\nDF en posición 5: DIA SEMANA\nDF en posición 6: DIA SEMANA\nDF en posición 7: DIA SEMANA\nDF en posición 8: DIA SEMANA\nDF en posición 9: DIA SEMANA\n\n-------------------------------------\n\nColumna en posición 9\n\nDF en posición 0: DIA SEMANA ABREVIADO\nDF en posición 1: DIA SEMANA ABREVIADO\nDF en posición 2: DIA SEMANA ABREVIADO\nDF en posición 3: DIA SEMANA ABREVIADO\nDF en posición 4: DIA SEMANA ABREVIADO\nDF en posición 5: DIA SEMANA ABREVIADO\nDF en posición 6: DIA SEMANA ABREVIADO\nDF en posición 7: DIA SEMANA ABREVIADO\nDF en posición 8: DIA SEMANA ABREVIADO\nDF en posición 9: DIA SEMANA ABREVIADO\n\n-------------------------------------\n\nColumna en posición 10\n\nDF en posición 0: TIPO DE DIA\nDF en posición 1: TIPO DE DIA\nDF en posición 2: TIPO DE DIA\nDF en posición 3: TIPO DE DIA\nDF en posición 4: TIPO DE DIA\nDF en posición 5: TIPO DE DIA\nDF en posición 6: TIPO DE DIA\nDF en posición 7: TIPO DE DIA\nDF en posición 8: TIPO DE DIA\nDF en posición 9: TIPO DE DIA\n\n-------------------------------------\n\nColumna en posición 11\n\nDF en posición 0: ANO\nDF en posición 1: ANO\nDF en posición 2: ANO\nDF en posición 3: ANO\nDF en posición 4: ANO\nDF en posición 5: ANO\nDF en posición 6: ANO\nDF en posición 7: ANO\nDF en posición 8: ANO\nDF en posición 9: ANO\n\n-------------------------------------\n\nColumna en posición 12\n\nDF en posición 0: MES (NUMERICO)\nDF en posición 1: MES (NUMERICO)\nDF en posición 2: MES (NUMERICO)\nDF en posición 3: MES (NUMERICO)\nDF en posición 4: MES (NUMERICO)\nDF en posición 5: MES (NUMERICO)\nDF en posición 6: MES (NUMERICO)\nDF en posición 7: MES (NUMERICO)\nDF en posición 8: MES (NUMERICO)\nDF en posición 9: MES (NUMERICO)\n\n-------------------------------------\n\nColumna en posición 13\n\nDF en posición 0: MES\nDF en posición 1: MES\nDF en posición 2: MES\nDF en posición 3: MES\nDF en posición 4: MES\nDF en posición 5: MES\nDF en posición 6: MES\nDF en posición 7: MES\nDF en posición 8: MES\nDF en posición 9: MES\n\n-------------------------------------\n\nColumna en posición 14\n\nDF en posición 0: DIA\nDF en posición 1: DIA\nDF en posición 2: DIA\nDF en posición 3: DIA\nDF en posición 4: DIA\nDF en posición 5: DIA\nDF en posición 6: DIA\nDF en posición 7: DIA\nDF en posición 8: DIA\nDF en posición 9: DIA\n\n-------------------------------------\n\nColumna en posición 15\n\nDF en posición 0: HORA\nDF en posición 1: HORA\nDF en posición 2: HORA\nDF en posición 3: HORA\nDF en posición 4: HORA\nDF en posición 5: HORA\nDF en posición 6: HORA\nDF en posición 7: HORA\nDF en posición 8: HORA\nDF en posición 9: HORA\n\n-------------------------------------\n\nColumna en posición 16\n\nDF en posición 0: TURNO\nDF en posición 1: TURNO\nDF en posición 2: TURNO\nDF en posición 3: TURNO\nDF en posición 4: TURNO\nDF en posición 5: TURNO\nDF en posición 6: TURNO\nDF en posición 7: TURNO\nDF en posición 8: TURNO\nDF en posición 9: TURNO\n\n-------------------------------------\n\nColumna en posición 17\n\nDF en posición 0: TIPO ACCIDENTE\nDF en posición 1: TIPO ACCIDENTE\nDF en posición 2: TIPO ACCIDENTE\nDF en posición 3: TIPO ACCIDENTE\nDF en posición 4: TIPO ACCIDENTE\nDF en posición 5: TIPO ACCIDENTE\nDF en posición 6: TIPO ACCIDENTE\nDF en posición 7: TIPO ACCIDENTE\nDF en posición 8: TIPO ACCIDENTE\nDF en posición 9: TIPO ACCIDENTE\n\n-------------------------------------\n\nColumna en posición 18\n\nDF en posición 0: COORDENADA UTM X\nDF en posición 1: COORDENADA UTM X\nDF en posición 2: COORDENADA UTM X\nDF en posición 3: COORDENADA UTM X\nDF en posición 4: COORDENADA UTM X\nDF en posición 5: COORDENADA UTM X\nDF en posición 6: COORDENADA UTM X\nDF en posición 7: COORDENADA UTM X\nDF en posición 8: COORDENADA UTM X\nDF en posición 9: COORDENADA UTM X\n\n-------------------------------------\n\nColumna en posición 19\n\nDF en posición 0: COORDENADA UTM Y\nDF en posición 1: COORDENADA UTM Y\nDF en posición 2: COORDENADA UTM Y\nDF en posición 3: COORDENADA UTM Y\nDF en posición 4: COORDENADA UTM Y\nDF en posición 5: COORDENADA UTM Y\nDF en posición 6: COORDENADA UTM Y\nDF en posición 7: COORDENADA UTM Y\nDF en posición 8: COORDENADA UTM Y\nDF en posición 9: COORDENADA UTM Y\n\n-------------------------------------\n\n"
     ]
    }
   ],
   "source": [
    "nombre_cada_columna(lista_df_tipo)"
   ]
  },
  {
   "source": [
    "### Ya todos los dataframes de la lista tienen el mismo nombre para cada columna. Se procede a unirlos en un único dataframe."
   ],
   "cell_type": "markdown",
   "metadata": {}
  },
  {
   "cell_type": "code",
   "execution_count": 27,
   "metadata": {},
   "outputs": [],
   "source": [
    "df_accidentes_tipo = unificar_lista_dataframe(lista_df_tipo)"
   ]
  },
  {
   "cell_type": "code",
   "execution_count": 28,
   "metadata": {},
   "outputs": [
    {
     "output_type": "execute_result",
     "data": {
      "text/plain": [
       "      NUMERO EXPEDIENTE CODIGO DISTRITO        DISTRITO CODIGO BARRIO  \\\n",
       "0           2012S005688              10      Sant Martí            64   \n",
       "1           2012S002763              10      Sant Martí            64   \n",
       "2           2012S007349              10      Sant Martí            64   \n",
       "3           2012S003847              10      Sant Martí            64   \n",
       "4           2012S009254              10      Sant Martí            64   \n",
       "...                 ...             ...             ...           ...   \n",
       "89908   2020S006274                   7  Horta-Guinardó            37   \n",
       "89909   2020S006275                   2        Eixample            10   \n",
       "89910   2020S006276                   1    Ciutat Vella             2   \n",
       "89911   2020S006277                   2        Eixample             9   \n",
       "89912   2020S006278                   8      Nou Barris            44   \n",
       "\n",
       "                               BARRIO CODIGO CALLE                CALLE  \\\n",
       "0          el Camp de l'Arpa del Clot       209900            Meridiana   \n",
       "1          el Camp de l'Arpa del Clot       194406             Maragall   \n",
       "2          el Camp de l'Arpa del Clot       367402               Volart   \n",
       "3          el Camp de l'Arpa del Clot       161407            Indústria   \n",
       "4          el Camp de l'Arpa del Clot       134801               Freser   \n",
       "...                               ...          ...                  ...   \n",
       "89908                       el Carmel       182600    Lluís Marià Vidal   \n",
       "89909                     Sant Antoni       323203            Sepúlveda   \n",
       "89910                  el Barri Gòtic       701266  Litoral (Llobregat)   \n",
       "89911  la Nova Esquerra de l'Eixample        18505                Aragó   \n",
       "89912   Vilapicina i la Torre Llobeta        45701               Quinze   \n",
       "\n",
       "      NUMERO POSTAL DIA SEMANA DIA SEMANA ABREVIADO TIPO DE DIA   ANO  \\\n",
       "0         0203 0205   Dissabte                   Ds     Laboral  2012   \n",
       "1         0045 0045   Dimecres                   Dc     Laboral  2012   \n",
       "2         0001 0001   Dissabte                   Ds     Laboral  2012   \n",
       "3         0213 0213    Dimarts                   Dm     Laboral  2012   \n",
       "4         0064 0064    Dilluns                   Dl     Laboral  2012   \n",
       "...             ...        ...                  ...         ...   ...   \n",
       "89908     0025 0025     Dijous                   Dj     Laboral  2020   \n",
       "89909     0181 0181     Dijous                   Dj     Laboral  2020   \n",
       "89910     001070000     Dijous                   Dj     Laboral  2020   \n",
       "89911     0127 0127     Dijous                   Dj     Laboral  2020   \n",
       "89912     0007 0007    Dimarts                   Dm     Laboral  2020   \n",
       "\n",
       "       MES (NUMERICO)       MES  DIA  HORA  TURNO              TIPO ACCIDENTE  \\\n",
       "0                   8     Agost    4    16  Tarda    Col.lisió fronto-lateral   \n",
       "1                   4     Abril   18    15  Tarda           Col.lisió lateral   \n",
       "2                  10   Octubre   20     9   Matí                       Abast   \n",
       "3                   5      Maig   29    12   Matí              Abast multiple   \n",
       "4                  12  Desembre   31     9   Matí    Col.lisió fronto-lateral   \n",
       "...               ...       ...  ...   ...    ...                         ...   \n",
       "89908              12  Desembre   31    17  Tarda  Xoc contra element estàtic   \n",
       "89909              12  Desembre   31    20  Tarda           Col.lisió lateral   \n",
       "89910              12  Desembre   31    13   Matí    Col.lisió fronto-lateral   \n",
       "89911              12  Desembre   31    21  Tarda        Caiguda (dues rodes)   \n",
       "89912              12  Desembre   22    11   Matí  Xoc contra element estàtic   \n",
       "\n",
       "      COORDENADA UTM X COORDENADA UTM Y  \n",
       "0            432116,48       4585382,72  \n",
       "1            431598,80       4585404,32  \n",
       "2            431594,76       4585406,24  \n",
       "3            431325,76       4585002,66  \n",
       "4            431585,78       4584964,87  \n",
       "...                ...              ...  \n",
       "89908        429662,80       4586412,97  \n",
       "89909        430106,32       4581892,49  \n",
       "89910        431410,40       4581077,37  \n",
       "89911        429362,84       4581954,15  \n",
       "89912        431221,22       4586654,09  \n",
       "\n",
       "[89913 rows x 20 columns]"
      ],
      "text/html": "<div>\n<style scoped>\n    .dataframe tbody tr th:only-of-type {\n        vertical-align: middle;\n    }\n\n    .dataframe tbody tr th {\n        vertical-align: top;\n    }\n\n    .dataframe thead th {\n        text-align: right;\n    }\n</style>\n<table border=\"1\" class=\"dataframe\">\n  <thead>\n    <tr style=\"text-align: right;\">\n      <th></th>\n      <th>NUMERO EXPEDIENTE</th>\n      <th>CODIGO DISTRITO</th>\n      <th>DISTRITO</th>\n      <th>CODIGO BARRIO</th>\n      <th>BARRIO</th>\n      <th>CODIGO CALLE</th>\n      <th>CALLE</th>\n      <th>NUMERO POSTAL</th>\n      <th>DIA SEMANA</th>\n      <th>DIA SEMANA ABREVIADO</th>\n      <th>TIPO DE DIA</th>\n      <th>ANO</th>\n      <th>MES (NUMERICO)</th>\n      <th>MES</th>\n      <th>DIA</th>\n      <th>HORA</th>\n      <th>TURNO</th>\n      <th>TIPO ACCIDENTE</th>\n      <th>COORDENADA UTM X</th>\n      <th>COORDENADA UTM Y</th>\n    </tr>\n  </thead>\n  <tbody>\n    <tr>\n      <th>0</th>\n      <td>2012S005688</td>\n      <td>10</td>\n      <td>Sant Martí</td>\n      <td>64</td>\n      <td>el Camp de l'Arpa del Clot</td>\n      <td>209900</td>\n      <td>Meridiana</td>\n      <td>0203 0205</td>\n      <td>Dissabte</td>\n      <td>Ds</td>\n      <td>Laboral</td>\n      <td>2012</td>\n      <td>8</td>\n      <td>Agost</td>\n      <td>4</td>\n      <td>16</td>\n      <td>Tarda</td>\n      <td>Col.lisió fronto-lateral</td>\n      <td>432116,48</td>\n      <td>4585382,72</td>\n    </tr>\n    <tr>\n      <th>1</th>\n      <td>2012S002763</td>\n      <td>10</td>\n      <td>Sant Martí</td>\n      <td>64</td>\n      <td>el Camp de l'Arpa del Clot</td>\n      <td>194406</td>\n      <td>Maragall</td>\n      <td>0045 0045</td>\n      <td>Dimecres</td>\n      <td>Dc</td>\n      <td>Laboral</td>\n      <td>2012</td>\n      <td>4</td>\n      <td>Abril</td>\n      <td>18</td>\n      <td>15</td>\n      <td>Tarda</td>\n      <td>Col.lisió lateral</td>\n      <td>431598,80</td>\n      <td>4585404,32</td>\n    </tr>\n    <tr>\n      <th>2</th>\n      <td>2012S007349</td>\n      <td>10</td>\n      <td>Sant Martí</td>\n      <td>64</td>\n      <td>el Camp de l'Arpa del Clot</td>\n      <td>367402</td>\n      <td>Volart</td>\n      <td>0001 0001</td>\n      <td>Dissabte</td>\n      <td>Ds</td>\n      <td>Laboral</td>\n      <td>2012</td>\n      <td>10</td>\n      <td>Octubre</td>\n      <td>20</td>\n      <td>9</td>\n      <td>Matí</td>\n      <td>Abast</td>\n      <td>431594,76</td>\n      <td>4585406,24</td>\n    </tr>\n    <tr>\n      <th>3</th>\n      <td>2012S003847</td>\n      <td>10</td>\n      <td>Sant Martí</td>\n      <td>64</td>\n      <td>el Camp de l'Arpa del Clot</td>\n      <td>161407</td>\n      <td>Indústria</td>\n      <td>0213 0213</td>\n      <td>Dimarts</td>\n      <td>Dm</td>\n      <td>Laboral</td>\n      <td>2012</td>\n      <td>5</td>\n      <td>Maig</td>\n      <td>29</td>\n      <td>12</td>\n      <td>Matí</td>\n      <td>Abast multiple</td>\n      <td>431325,76</td>\n      <td>4585002,66</td>\n    </tr>\n    <tr>\n      <th>4</th>\n      <td>2012S009254</td>\n      <td>10</td>\n      <td>Sant Martí</td>\n      <td>64</td>\n      <td>el Camp de l'Arpa del Clot</td>\n      <td>134801</td>\n      <td>Freser</td>\n      <td>0064 0064</td>\n      <td>Dilluns</td>\n      <td>Dl</td>\n      <td>Laboral</td>\n      <td>2012</td>\n      <td>12</td>\n      <td>Desembre</td>\n      <td>31</td>\n      <td>9</td>\n      <td>Matí</td>\n      <td>Col.lisió fronto-lateral</td>\n      <td>431585,78</td>\n      <td>4584964,87</td>\n    </tr>\n    <tr>\n      <th>...</th>\n      <td>...</td>\n      <td>...</td>\n      <td>...</td>\n      <td>...</td>\n      <td>...</td>\n      <td>...</td>\n      <td>...</td>\n      <td>...</td>\n      <td>...</td>\n      <td>...</td>\n      <td>...</td>\n      <td>...</td>\n      <td>...</td>\n      <td>...</td>\n      <td>...</td>\n      <td>...</td>\n      <td>...</td>\n      <td>...</td>\n      <td>...</td>\n      <td>...</td>\n    </tr>\n    <tr>\n      <th>89908</th>\n      <td>2020S006274</td>\n      <td>7</td>\n      <td>Horta-Guinardó</td>\n      <td>37</td>\n      <td>el Carmel</td>\n      <td>182600</td>\n      <td>Lluís Marià Vidal</td>\n      <td>0025 0025</td>\n      <td>Dijous</td>\n      <td>Dj</td>\n      <td>Laboral</td>\n      <td>2020</td>\n      <td>12</td>\n      <td>Desembre</td>\n      <td>31</td>\n      <td>17</td>\n      <td>Tarda</td>\n      <td>Xoc contra element estàtic</td>\n      <td>429662,80</td>\n      <td>4586412,97</td>\n    </tr>\n    <tr>\n      <th>89909</th>\n      <td>2020S006275</td>\n      <td>2</td>\n      <td>Eixample</td>\n      <td>10</td>\n      <td>Sant Antoni</td>\n      <td>323203</td>\n      <td>Sepúlveda</td>\n      <td>0181 0181</td>\n      <td>Dijous</td>\n      <td>Dj</td>\n      <td>Laboral</td>\n      <td>2020</td>\n      <td>12</td>\n      <td>Desembre</td>\n      <td>31</td>\n      <td>20</td>\n      <td>Tarda</td>\n      <td>Col.lisió lateral</td>\n      <td>430106,32</td>\n      <td>4581892,49</td>\n    </tr>\n    <tr>\n      <th>89910</th>\n      <td>2020S006276</td>\n      <td>1</td>\n      <td>Ciutat Vella</td>\n      <td>2</td>\n      <td>el Barri Gòtic</td>\n      <td>701266</td>\n      <td>Litoral (Llobregat)</td>\n      <td>001070000</td>\n      <td>Dijous</td>\n      <td>Dj</td>\n      <td>Laboral</td>\n      <td>2020</td>\n      <td>12</td>\n      <td>Desembre</td>\n      <td>31</td>\n      <td>13</td>\n      <td>Matí</td>\n      <td>Col.lisió fronto-lateral</td>\n      <td>431410,40</td>\n      <td>4581077,37</td>\n    </tr>\n    <tr>\n      <th>89911</th>\n      <td>2020S006277</td>\n      <td>2</td>\n      <td>Eixample</td>\n      <td>9</td>\n      <td>la Nova Esquerra de l'Eixample</td>\n      <td>18505</td>\n      <td>Aragó</td>\n      <td>0127 0127</td>\n      <td>Dijous</td>\n      <td>Dj</td>\n      <td>Laboral</td>\n      <td>2020</td>\n      <td>12</td>\n      <td>Desembre</td>\n      <td>31</td>\n      <td>21</td>\n      <td>Tarda</td>\n      <td>Caiguda (dues rodes)</td>\n      <td>429362,84</td>\n      <td>4581954,15</td>\n    </tr>\n    <tr>\n      <th>89912</th>\n      <td>2020S006278</td>\n      <td>8</td>\n      <td>Nou Barris</td>\n      <td>44</td>\n      <td>Vilapicina i la Torre Llobeta</td>\n      <td>45701</td>\n      <td>Quinze</td>\n      <td>0007 0007</td>\n      <td>Dimarts</td>\n      <td>Dm</td>\n      <td>Laboral</td>\n      <td>2020</td>\n      <td>12</td>\n      <td>Desembre</td>\n      <td>22</td>\n      <td>11</td>\n      <td>Matí</td>\n      <td>Xoc contra element estàtic</td>\n      <td>431221,22</td>\n      <td>4586654,09</td>\n    </tr>\n  </tbody>\n</table>\n<p>89913 rows × 20 columns</p>\n</div>"
     },
     "metadata": {},
     "execution_count": 28
    }
   ],
   "source": [
    "df_accidentes_tipo"
   ]
  },
  {
   "source": [
    "### Ahora, nuestra variable ``df_accidentes_tipo`` representa los tipos de accidentes registrados por la Guardia Urbana de la Ciudad de Barcelona, entre los años 2011 y 2020."
   ],
   "cell_type": "markdown",
   "metadata": {}
  },
  {
   "cell_type": "code",
   "execution_count": null,
   "metadata": {},
   "outputs": [],
   "source": []
  }
 ]
}