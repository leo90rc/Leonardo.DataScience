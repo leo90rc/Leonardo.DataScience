{
 "metadata": {
  "language_info": {
   "codemirror_mode": {
    "name": "ipython",
    "version": 3
   },
   "file_extension": ".py",
   "mimetype": "text/x-python",
   "name": "python",
   "nbconvert_exporter": "python",
   "pygments_lexer": "ipython3",
   "version": "3.7.4"
  },
  "orig_nbformat": 2,
  "kernelspec": {
   "name": "python374jvsc74a57bd0a0947237fadc8b5561fed326db280cc5ec46a670c87cfb3a0489cf95ff262303",
   "display_name": "Python 3.7.4 64-bit"
  },
  "metadata": {
   "interpreter": {
    "hash": "a0947237fadc8b5561fed326db280cc5ec46a670c87cfb3a0489cf95ff262303"
   }
  }
 },
 "nbformat": 4,
 "nbformat_minor": 2,
 "cells": [
  {
   "source": [
    "## This file must onlycontain imports, pandas, matplotlib, requests,... and calls to your src/utils/* modules."
   ],
   "cell_type": "markdown",
   "metadata": {}
  },
  {
   "cell_type": "code",
   "execution_count": 1,
   "metadata": {},
   "outputs": [],
   "source": [
    "import pandas as pd\n",
    "import os\n",
    "import sys\n",
    "import utils.data_wrangling_tb as dw"
   ]
  },
  {
   "cell_type": "code",
   "execution_count": 2,
   "metadata": {},
   "outputs": [],
   "source": [
    "lista_df_gu = dw.enlistar_dataframes('_ACCIDENTS_GU_BCN_')"
   ]
  },
  {
   "cell_type": "code",
   "execution_count": null,
   "metadata": {},
   "outputs": [],
   "source": [
    "dw.info_df_enlistado(lista_df_gu)"
   ]
  },
  {
   "cell_type": "code",
   "execution_count": null,
   "metadata": {},
   "outputs": [],
   "source": [
    "dw.comparar_columnas(lista_df_gu)"
   ]
  },
  {
   "cell_type": "code",
   "execution_count": null,
   "metadata": {},
   "outputs": [],
   "source": [
    "dw.mostrar_columnas(lista_df_gu)"
   ]
  },
  {
   "cell_type": "code",
   "execution_count": null,
   "metadata": {},
   "outputs": [],
   "source": [
    "dw.nombre_cada_columna(lista_df_gu)"
   ]
  },
  {
   "source": [
    "Como se puede observar, no todos los dataframes contenidos en la lista poseen el mismo número de columnas."
   ],
   "cell_type": "markdown",
   "metadata": {}
  },
  {
   "cell_type": "code",
   "execution_count": null,
   "metadata": {},
   "outputs": [],
   "source": [
    "dw.ver_ultimas_columnas(lista_df_gu)"
   ]
  },
  {
   "source": [
    "Vemos que las últimas 2 columnas de los dataframes que contienen 27, hacen referencia a la latitud y longitud. De momento, podemos prescindir de ellas, por lo que serán eliminadas."
   ],
   "cell_type": "markdown",
   "metadata": {}
  },
  {
   "cell_type": "code",
   "execution_count": 8,
   "metadata": {},
   "outputs": [],
   "source": [
    "dw.eliminar_columnas_finales(lista_df_gu)"
   ]
  },
  {
   "source": [
    "Podemos apreciar además, que las columnas que hacen referencia a las coordenadas, no sólo tienen nombres diferentes, sino que no se corresponden en posición, es decir, en algunas figura en primer lugar la coordeneda UTM Y o X y viceversa. Se procede a acomodar las columnas para luego unificar nombres de las mismas."
   ],
   "cell_type": "markdown",
   "metadata": {}
  },
  {
   "cell_type": "code",
   "execution_count": 9,
   "metadata": {},
   "outputs": [],
   "source": [
    "dw.ordenar_columnas_finales(lista_df_gu)"
   ]
  },
  {
   "cell_type": "code",
   "execution_count": null,
   "metadata": {},
   "outputs": [],
   "source": [
    "dw.nombre_cada_columna(lista_df_gu)"
   ]
  },
  {
   "source": [
    "Una vez organizadas las columnas, se homogenizan los nombres de las mismas para unir los dataframes en uno solo."
   ],
   "cell_type": "markdown",
   "metadata": {}
  },
  {
   "cell_type": "code",
   "execution_count": 10,
   "metadata": {},
   "outputs": [],
   "source": [
    "nombres_columnas_gu = ['NUMERO EXPEDIENTE', 'CODIGO DISTRITO', 'DISTRITO', 'CODIGO BARRIO', 'BARRIO', 'CODIGO CALLE', 'CALLE', 'NUMERO POSTAL', 'DIA SEMANA', 'DIA SEMANA (NUMERICO)', 'TIPO DE DIA', 'ANO', 'MES (NUMERICO)', 'MES', 'DIA', 'HORA', 'TURNO', 'CAUSA', 'FALLECIDOS', 'LESIONADOS LEVE', 'LESIONADOS GRAVE', 'CANTIDAD VICTIMAS', 'CANTIDAD VEHICULOS', 'COORDENADA UTM X', 'COORDENADA UTM Y']"
   ]
  },
  {
   "cell_type": "code",
   "execution_count": 11,
   "metadata": {},
   "outputs": [],
   "source": [
    "dw.renombrar_columnas(lista_df_gu, nombres_columnas_gu)"
   ]
  },
  {
   "cell_type": "code",
   "execution_count": null,
   "metadata": {},
   "outputs": [],
   "source": [
    "dw.nombre_cada_columna(lista_df_gu)"
   ]
  },
  {
   "source": [
    "Ya todos los dataframes de la lista tienen el mismo nombre para cada columna. Se procede a unirlos en un único dataframe."
   ],
   "cell_type": "markdown",
   "metadata": {}
  },
  {
   "cell_type": "code",
   "execution_count": null,
   "metadata": {},
   "outputs": [],
   "source": [
    "df_accidentes_gu = dw.unificar_lista_dataframe(lista_df_gu)"
   ]
  },
  {
   "cell_type": "code",
   "execution_count": null,
   "metadata": {},
   "outputs": [],
   "source": [
    "df_accidentes_gu"
   ]
  },
  {
   "source": [
    "### Ahora, nuestra variable **``df_accidentes_gu``** representa todos los accidentes registrados por la Guardia Urbana de la Ciudad de Barcelona, entre los años 2011 y 2020.\n",
    "\n",
    "---\n",
    "\n",
    "De igual manera, procedemos a trabajar sobre los datasets de **causas** de accidentes."
   ],
   "cell_type": "markdown",
   "metadata": {}
  },
  {
   "source": [
    "# ACA ARRANCA CAUSASSSSSSSSSSSSSSSSSSSSSSSSSSSSSSSSSSSSSSSSSSSSSSSSSSSSSSSSSSSSSSSSSSSSSSSSSSSSSSSSSSSS "
   ],
   "cell_type": "markdown",
   "metadata": {}
  },
  {
   "cell_type": "code",
   "execution_count": 25,
   "metadata": {},
   "outputs": [],
   "source": [
    "lista_df_causas = dw.enlistar_dataframes('_ACCIDENTS_CAUSES_GU_BCN_')"
   ]
  },
  {
   "cell_type": "code",
   "execution_count": null,
   "metadata": {},
   "outputs": [],
   "source": [
    "dw.comparar_columnas(lista_df_causas)"
   ]
  },
  {
   "cell_type": "code",
   "execution_count": null,
   "metadata": {},
   "outputs": [],
   "source": [
    "dw.mostrar_columnas(lista_df_causas)"
   ]
  },
  {
   "source": [
    "Haciendo una comparación entre los dataframes de ``lista_df_causas`` y los de ``lista_df_gu``, se observa que tienen en común la mayoría de sus columnas.\n",
    "\n",
    "Se pondrán a prueba los dataframes basándonos en su **número de expediente**, la cual, en la previa, se estima que podría ser la clave primaria."
   ],
   "cell_type": "markdown",
   "metadata": {}
  },
  {
   "cell_type": "code",
   "execution_count": 27,
   "metadata": {},
   "outputs": [
    {
     "output_type": "execute_result",
     "data": {
      "text/plain": [
       "     NUMERO EXPEDIENTE  CODIGO DISTRITO     DISTRITO CODIGO BARRIO  \\\n",
       "8828       2011S006070                9  Sant Andreu       93-9-59   \n",
       "8829       2011S002900                9  Sant Andreu       93-9-59   \n",
       "8830       2011S008761                9  Sant Andreu       93-9-58   \n",
       "\n",
       "             BARRIO  CODIGO CALLE         CALLE NUMERO POSTAL DIA SEMANA  \\\n",
       "8828  el Bon Pastor        264308        Potosí     0023 0023   Dimecres   \n",
       "8829  el Bon Pastor        123306  Ferran Junoy     0014 0014  Divendres   \n",
       "8830  Baró de Viver        701357        Potosí    0001X0001X    Dimarts   \n",
       "\n",
       "      DIA SEMANA (NUMERICO)  ... HORA  TURNO       CAUSA FALLECIDOS  \\\n",
       "8828                      3  ...   14  Tarda  Desconegut          0   \n",
       "8829                      5  ...   19  Tarda  Desconegut          0   \n",
       "8830                      2  ...   19  Tarda  Desconegut          0   \n",
       "\n",
       "      LESIONADOS LEVE  LESIONADOS GRAVE CANTIDAD VICTIMAS CANTIDAD VEHICULOS  \\\n",
       "8828                1                 0                 1                  2   \n",
       "8829                0                 0                 0                  1   \n",
       "8830                1                 0                 1                  2   \n",
       "\n",
       "      COORDENADA UTM X  COORDENADA UTM Y  \n",
       "8828         433614,46        4588301,66  \n",
       "8829         432815,05        4587802,15  \n",
       "8830         433045,37        4588226,59  \n",
       "\n",
       "[3 rows x 25 columns]"
      ],
      "text/html": "<div>\n<style scoped>\n    .dataframe tbody tr th:only-of-type {\n        vertical-align: middle;\n    }\n\n    .dataframe tbody tr th {\n        vertical-align: top;\n    }\n\n    .dataframe thead th {\n        text-align: right;\n    }\n</style>\n<table border=\"1\" class=\"dataframe\">\n  <thead>\n    <tr style=\"text-align: right;\">\n      <th></th>\n      <th>NUMERO EXPEDIENTE</th>\n      <th>CODIGO DISTRITO</th>\n      <th>DISTRITO</th>\n      <th>CODIGO BARRIO</th>\n      <th>BARRIO</th>\n      <th>CODIGO CALLE</th>\n      <th>CALLE</th>\n      <th>NUMERO POSTAL</th>\n      <th>DIA SEMANA</th>\n      <th>DIA SEMANA (NUMERICO)</th>\n      <th>...</th>\n      <th>HORA</th>\n      <th>TURNO</th>\n      <th>CAUSA</th>\n      <th>FALLECIDOS</th>\n      <th>LESIONADOS LEVE</th>\n      <th>LESIONADOS GRAVE</th>\n      <th>CANTIDAD VICTIMAS</th>\n      <th>CANTIDAD VEHICULOS</th>\n      <th>COORDENADA UTM X</th>\n      <th>COORDENADA UTM Y</th>\n    </tr>\n  </thead>\n  <tbody>\n    <tr>\n      <th>8828</th>\n      <td>2011S006070</td>\n      <td>9</td>\n      <td>Sant Andreu</td>\n      <td>93-9-59</td>\n      <td>el Bon Pastor</td>\n      <td>264308</td>\n      <td>Potosí</td>\n      <td>0023 0023</td>\n      <td>Dimecres</td>\n      <td>3</td>\n      <td>...</td>\n      <td>14</td>\n      <td>Tarda</td>\n      <td>Desconegut</td>\n      <td>0</td>\n      <td>1</td>\n      <td>0</td>\n      <td>1</td>\n      <td>2</td>\n      <td>433614,46</td>\n      <td>4588301,66</td>\n    </tr>\n    <tr>\n      <th>8829</th>\n      <td>2011S002900</td>\n      <td>9</td>\n      <td>Sant Andreu</td>\n      <td>93-9-59</td>\n      <td>el Bon Pastor</td>\n      <td>123306</td>\n      <td>Ferran Junoy</td>\n      <td>0014 0014</td>\n      <td>Divendres</td>\n      <td>5</td>\n      <td>...</td>\n      <td>19</td>\n      <td>Tarda</td>\n      <td>Desconegut</td>\n      <td>0</td>\n      <td>0</td>\n      <td>0</td>\n      <td>0</td>\n      <td>1</td>\n      <td>432815,05</td>\n      <td>4587802,15</td>\n    </tr>\n    <tr>\n      <th>8830</th>\n      <td>2011S008761</td>\n      <td>9</td>\n      <td>Sant Andreu</td>\n      <td>93-9-58</td>\n      <td>Baró de Viver</td>\n      <td>701357</td>\n      <td>Potosí</td>\n      <td>0001X0001X</td>\n      <td>Dimarts</td>\n      <td>2</td>\n      <td>...</td>\n      <td>19</td>\n      <td>Tarda</td>\n      <td>Desconegut</td>\n      <td>0</td>\n      <td>1</td>\n      <td>0</td>\n      <td>1</td>\n      <td>2</td>\n      <td>433045,37</td>\n      <td>4588226,59</td>\n    </tr>\n  </tbody>\n</table>\n<p>3 rows × 25 columns</p>\n</div>"
     },
     "metadata": {},
     "execution_count": 27
    }
   ],
   "source": [
    "lista_df_gu[0].tail(3)"
   ]
  },
  {
   "cell_type": "code",
   "execution_count": 28,
   "metadata": {},
   "outputs": [
    {
     "output_type": "execute_result",
     "data": {
      "text/plain": [
       "                                8829\n",
       "NUMERO EXPEDIENTE        2011S002900\n",
       "CODIGO DISTRITO                    9\n",
       "DISTRITO                 Sant Andreu\n",
       "CODIGO BARRIO                93-9-59\n",
       "BARRIO                 el Bon Pastor\n",
       "CODIGO CALLE                  123306\n",
       "CALLE                   Ferran Junoy\n",
       "NUMERO POSTAL              0014 0014\n",
       "DIA SEMANA                 Divendres\n",
       "DIA SEMANA (NUMERICO)              5\n",
       "TIPO DE DIA                  Laboral\n",
       "ANO                             2011\n",
       "MES (NUMERICO)                     4\n",
       "MES                            Abril\n",
       "DIA                               29\n",
       "HORA                              19\n",
       "TURNO                          Tarda\n",
       "CAUSA                     Desconegut\n",
       "FALLECIDOS                         0\n",
       "LESIONADOS LEVE                    0\n",
       "LESIONADOS GRAVE                   0\n",
       "CANTIDAD VICTIMAS                  0\n",
       "CANTIDAD VEHICULOS                 1\n",
       "COORDENADA UTM X           432815,05\n",
       "COORDENADA UTM Y          4587802,15"
      ],
      "text/html": "<div>\n<style scoped>\n    .dataframe tbody tr th:only-of-type {\n        vertical-align: middle;\n    }\n\n    .dataframe tbody tr th {\n        vertical-align: top;\n    }\n\n    .dataframe thead th {\n        text-align: right;\n    }\n</style>\n<table border=\"1\" class=\"dataframe\">\n  <thead>\n    <tr style=\"text-align: right;\">\n      <th></th>\n      <th>8829</th>\n    </tr>\n  </thead>\n  <tbody>\n    <tr>\n      <th>NUMERO EXPEDIENTE</th>\n      <td>2011S002900</td>\n    </tr>\n    <tr>\n      <th>CODIGO DISTRITO</th>\n      <td>9</td>\n    </tr>\n    <tr>\n      <th>DISTRITO</th>\n      <td>Sant Andreu</td>\n    </tr>\n    <tr>\n      <th>CODIGO BARRIO</th>\n      <td>93-9-59</td>\n    </tr>\n    <tr>\n      <th>BARRIO</th>\n      <td>el Bon Pastor</td>\n    </tr>\n    <tr>\n      <th>CODIGO CALLE</th>\n      <td>123306</td>\n    </tr>\n    <tr>\n      <th>CALLE</th>\n      <td>Ferran Junoy</td>\n    </tr>\n    <tr>\n      <th>NUMERO POSTAL</th>\n      <td>0014 0014</td>\n    </tr>\n    <tr>\n      <th>DIA SEMANA</th>\n      <td>Divendres</td>\n    </tr>\n    <tr>\n      <th>DIA SEMANA (NUMERICO)</th>\n      <td>5</td>\n    </tr>\n    <tr>\n      <th>TIPO DE DIA</th>\n      <td>Laboral</td>\n    </tr>\n    <tr>\n      <th>ANO</th>\n      <td>2011</td>\n    </tr>\n    <tr>\n      <th>MES (NUMERICO)</th>\n      <td>4</td>\n    </tr>\n    <tr>\n      <th>MES</th>\n      <td>Abril</td>\n    </tr>\n    <tr>\n      <th>DIA</th>\n      <td>29</td>\n    </tr>\n    <tr>\n      <th>HORA</th>\n      <td>19</td>\n    </tr>\n    <tr>\n      <th>TURNO</th>\n      <td>Tarda</td>\n    </tr>\n    <tr>\n      <th>CAUSA</th>\n      <td>Desconegut</td>\n    </tr>\n    <tr>\n      <th>FALLECIDOS</th>\n      <td>0</td>\n    </tr>\n    <tr>\n      <th>LESIONADOS LEVE</th>\n      <td>0</td>\n    </tr>\n    <tr>\n      <th>LESIONADOS GRAVE</th>\n      <td>0</td>\n    </tr>\n    <tr>\n      <th>CANTIDAD VICTIMAS</th>\n      <td>0</td>\n    </tr>\n    <tr>\n      <th>CANTIDAD VEHICULOS</th>\n      <td>1</td>\n    </tr>\n    <tr>\n      <th>COORDENADA UTM X</th>\n      <td>432815,05</td>\n    </tr>\n    <tr>\n      <th>COORDENADA UTM Y</th>\n      <td>4587802,15</td>\n    </tr>\n  </tbody>\n</table>\n</div>"
     },
     "metadata": {},
     "execution_count": 28
    }
   ],
   "source": [
    "dw.datos_por_numero_expediente(lista_df_gu, 0, '2011S002900', 'NUMERO EXPEDIENTE').unstack()"
   ]
  },
  {
   "cell_type": "code",
   "execution_count": 29,
   "metadata": {},
   "outputs": [
    {
     "output_type": "execute_result",
     "data": {
      "text/plain": [
       "                                            3215\n",
       "Número d expedient                   2011S002900\n",
       "Codi districte                                 9\n",
       "Nom districte                        Sant Andreu\n",
       "Codi barri                                    59\n",
       "Nom barri                          el Bon Pastor\n",
       "Codi carrer                               123306\n",
       "Nom carrer                          Ferran Junoy\n",
       "Num postal caption                     0014 0014\n",
       "Descripció dia setmana                 Divendres\n",
       "Dia setmana                                   Dv\n",
       "Descripció tipus dia                     Laboral\n",
       "NK Any                                      2011\n",
       "Mes de any                                     4\n",
       "Nom mes                                    Abril\n",
       "Dia de mes                                    29\n",
       "Hora de dia                                   19\n",
       "Descripció torn                            Tarda\n",
       "Descripció causa mediata  No hi ha causa mediata\n",
       "Coordenada UTM (Y)                    4588006,32\n",
       "Coordenada UTM (X)                     432908,84"
      ],
      "text/html": "<div>\n<style scoped>\n    .dataframe tbody tr th:only-of-type {\n        vertical-align: middle;\n    }\n\n    .dataframe tbody tr th {\n        vertical-align: top;\n    }\n\n    .dataframe thead th {\n        text-align: right;\n    }\n</style>\n<table border=\"1\" class=\"dataframe\">\n  <thead>\n    <tr style=\"text-align: right;\">\n      <th></th>\n      <th>3215</th>\n    </tr>\n  </thead>\n  <tbody>\n    <tr>\n      <th>Número d expedient</th>\n      <td>2011S002900</td>\n    </tr>\n    <tr>\n      <th>Codi districte</th>\n      <td>9</td>\n    </tr>\n    <tr>\n      <th>Nom districte</th>\n      <td>Sant Andreu</td>\n    </tr>\n    <tr>\n      <th>Codi barri</th>\n      <td>59</td>\n    </tr>\n    <tr>\n      <th>Nom barri</th>\n      <td>el Bon Pastor</td>\n    </tr>\n    <tr>\n      <th>Codi carrer</th>\n      <td>123306</td>\n    </tr>\n    <tr>\n      <th>Nom carrer</th>\n      <td>Ferran Junoy</td>\n    </tr>\n    <tr>\n      <th>Num postal caption</th>\n      <td>0014 0014</td>\n    </tr>\n    <tr>\n      <th>Descripció dia setmana</th>\n      <td>Divendres</td>\n    </tr>\n    <tr>\n      <th>Dia setmana</th>\n      <td>Dv</td>\n    </tr>\n    <tr>\n      <th>Descripció tipus dia</th>\n      <td>Laboral</td>\n    </tr>\n    <tr>\n      <th>NK Any</th>\n      <td>2011</td>\n    </tr>\n    <tr>\n      <th>Mes de any</th>\n      <td>4</td>\n    </tr>\n    <tr>\n      <th>Nom mes</th>\n      <td>Abril</td>\n    </tr>\n    <tr>\n      <th>Dia de mes</th>\n      <td>29</td>\n    </tr>\n    <tr>\n      <th>Hora de dia</th>\n      <td>19</td>\n    </tr>\n    <tr>\n      <th>Descripció torn</th>\n      <td>Tarda</td>\n    </tr>\n    <tr>\n      <th>Descripció causa mediata</th>\n      <td>No hi ha causa mediata</td>\n    </tr>\n    <tr>\n      <th>Coordenada UTM (Y)</th>\n      <td>4588006,32</td>\n    </tr>\n    <tr>\n      <th>Coordenada UTM (X)</th>\n      <td>432908,84</td>\n    </tr>\n  </tbody>\n</table>\n</div>"
     },
     "metadata": {},
     "execution_count": 29
    }
   ],
   "source": [
    "dw.datos_por_numero_expediente(lista_df_causas, 0,'2011S002900',\"Número d expedient\").unstack()"
   ]
  },
  {
   "source": [
    "Se puede ver que los datos coinciden cuando se los evalúa en función del número de expediente, para el dataframe en posición 0.\n",
    "\n",
    "Haciendo la misma evaluación para dataframes en distintas posiciones:"
   ],
   "cell_type": "markdown",
   "metadata": {}
  },
  {
   "cell_type": "code",
   "execution_count": 30,
   "metadata": {},
   "outputs": [
    {
     "output_type": "execute_result",
     "data": {
      "text/plain": [
       "  NUMERO EXPEDIENTE  CODIGO DISTRITO             DISTRITO  CODIGO BARRIO  \\\n",
       "0   2019S000001                    5  Sarrià-Sant Gervasi             26   \n",
       "1   2019S000002                    9          Sant Andreu             62   \n",
       "\n",
       "                     BARRIO  CODIGO CALLE  \\\n",
       "0    Sant Gervasi - Galvany        144601   \n",
       "1  el Congrés i els Indians        102907   \n",
       "\n",
       "                                               CALLE NUMERO POSTAL DIA SEMANA  \\\n",
       "0  Diagonal / Augusta                            ...     0482 0482    Dimarts   \n",
       "1  Felip II / Congrés Eucarístic                 ...     9999 9999    Dimarts   \n",
       "\n",
       "  DIA SEMANA (NUMERICO)  ... HORA  TURNO                     CAUSA FALLECIDOS  \\\n",
       "0                    Dm  ...    1    Nit  No és causa del  vianant          0   \n",
       "1                    Dm  ...    4    Nit  No és causa del  vianant          0   \n",
       "\n",
       "   LESIONADOS LEVE  LESIONADOS GRAVE CANTIDAD VICTIMAS CANTIDAD VEHICULOS  \\\n",
       "0                0                 1                 1                  1   \n",
       "1                1                 0                 1                  2   \n",
       "\n",
       "   COORDENADA UTM X  COORDENADA UTM Y  \n",
       "0         429482,03        4583236,02  \n",
       "1          431582,6        4586504,13  \n",
       "\n",
       "[2 rows x 25 columns]"
      ],
      "text/html": "<div>\n<style scoped>\n    .dataframe tbody tr th:only-of-type {\n        vertical-align: middle;\n    }\n\n    .dataframe tbody tr th {\n        vertical-align: top;\n    }\n\n    .dataframe thead th {\n        text-align: right;\n    }\n</style>\n<table border=\"1\" class=\"dataframe\">\n  <thead>\n    <tr style=\"text-align: right;\">\n      <th></th>\n      <th>NUMERO EXPEDIENTE</th>\n      <th>CODIGO DISTRITO</th>\n      <th>DISTRITO</th>\n      <th>CODIGO BARRIO</th>\n      <th>BARRIO</th>\n      <th>CODIGO CALLE</th>\n      <th>CALLE</th>\n      <th>NUMERO POSTAL</th>\n      <th>DIA SEMANA</th>\n      <th>DIA SEMANA (NUMERICO)</th>\n      <th>...</th>\n      <th>HORA</th>\n      <th>TURNO</th>\n      <th>CAUSA</th>\n      <th>FALLECIDOS</th>\n      <th>LESIONADOS LEVE</th>\n      <th>LESIONADOS GRAVE</th>\n      <th>CANTIDAD VICTIMAS</th>\n      <th>CANTIDAD VEHICULOS</th>\n      <th>COORDENADA UTM X</th>\n      <th>COORDENADA UTM Y</th>\n    </tr>\n  </thead>\n  <tbody>\n    <tr>\n      <th>0</th>\n      <td>2019S000001</td>\n      <td>5</td>\n      <td>Sarrià-Sant Gervasi</td>\n      <td>26</td>\n      <td>Sant Gervasi - Galvany</td>\n      <td>144601</td>\n      <td>Diagonal / Augusta                            ...</td>\n      <td>0482 0482</td>\n      <td>Dimarts</td>\n      <td>Dm</td>\n      <td>...</td>\n      <td>1</td>\n      <td>Nit</td>\n      <td>No és causa del  vianant</td>\n      <td>0</td>\n      <td>0</td>\n      <td>1</td>\n      <td>1</td>\n      <td>1</td>\n      <td>429482,03</td>\n      <td>4583236,02</td>\n    </tr>\n    <tr>\n      <th>1</th>\n      <td>2019S000002</td>\n      <td>9</td>\n      <td>Sant Andreu</td>\n      <td>62</td>\n      <td>el Congrés i els Indians</td>\n      <td>102907</td>\n      <td>Felip II / Congrés Eucarístic                 ...</td>\n      <td>9999 9999</td>\n      <td>Dimarts</td>\n      <td>Dm</td>\n      <td>...</td>\n      <td>4</td>\n      <td>Nit</td>\n      <td>No és causa del  vianant</td>\n      <td>0</td>\n      <td>1</td>\n      <td>0</td>\n      <td>1</td>\n      <td>2</td>\n      <td>431582,6</td>\n      <td>4586504,13</td>\n    </tr>\n  </tbody>\n</table>\n<p>2 rows × 25 columns</p>\n</div>"
     },
     "metadata": {},
     "execution_count": 30
    }
   ],
   "source": [
    "lista_df_gu[8].head(2)"
   ]
  },
  {
   "source": [
    "dw.datos_por_numero_expediente(lista_df_gu, 8, '2019S000001', 'NUMERO EXPEDIENTE').unstack()"
   ],
   "cell_type": "code",
   "metadata": {},
   "execution_count": 33,
   "outputs": [
    {
     "output_type": "execute_result",
     "data": {
      "text/plain": [
       "Empty DataFrame\n",
       "Columns: []\n",
       "Index: []"
      ],
      "text/html": "<div>\n<style scoped>\n    .dataframe tbody tr th:only-of-type {\n        vertical-align: middle;\n    }\n\n    .dataframe tbody tr th {\n        vertical-align: top;\n    }\n\n    .dataframe thead th {\n        text-align: right;\n    }\n</style>\n<table border=\"1\" class=\"dataframe\">\n  <thead>\n    <tr style=\"text-align: right;\">\n      <th></th>\n    </tr>\n  </thead>\n  <tbody>\n  </tbody>\n</table>\n</div>"
     },
     "metadata": {},
     "execution_count": 33
    }
   ]
  },
  {
   "source": [
    "Aquí se aprecia que la búsqueda para este nuevo número de expediente no es correcta. Indagando en el motivo entontramos lo siguiente:"
   ],
   "cell_type": "markdown",
   "metadata": {}
  },
  {
   "cell_type": "code",
   "execution_count": 32,
   "metadata": {},
   "outputs": [
    {
     "output_type": "execute_result",
     "data": {
      "text/plain": [
       "'2019S000001    '"
      ]
     },
     "metadata": {},
     "execution_count": 32
    }
   ],
   "source": [
    "lista_df_gu[8].iloc[0,0]"
   ]
  },
  {
   "cell_type": "code",
   "execution_count": 34,
   "metadata": {},
   "outputs": [
    {
     "output_type": "execute_result",
     "data": {
      "text/plain": [
       "                                                                       0\n",
       "NUMERO EXPEDIENTE                                        2019S000001    \n",
       "CODIGO DISTRITO                                                        5\n",
       "DISTRITO                                             Sarrià-Sant Gervasi\n",
       "CODIGO BARRIO                                                         26\n",
       "BARRIO                                            Sant Gervasi - Galvany\n",
       "CODIGO CALLE                                                      144601\n",
       "CALLE                  Diagonal / Augusta                            ...\n",
       "NUMERO POSTAL                                                  0482 0482\n",
       "DIA SEMANA                                                       Dimarts\n",
       "DIA SEMANA (NUMERICO)                                                 Dm\n",
       "TIPO DE DIA                                                      Laboral\n",
       "ANO                                                                 2019\n",
       "MES (NUMERICO)                                                         1\n",
       "MES                                                                Gener\n",
       "DIA                                                                    1\n",
       "HORA                                                                   1\n",
       "TURNO                                                                Nit\n",
       "CAUSA                                           No és causa del  vianant\n",
       "FALLECIDOS                                                             0\n",
       "LESIONADOS LEVE                                                        0\n",
       "LESIONADOS GRAVE                                                       1\n",
       "CANTIDAD VICTIMAS                                                      1\n",
       "CANTIDAD VEHICULOS                                                     1\n",
       "COORDENADA UTM X                                               429482,03\n",
       "COORDENADA UTM Y                                              4583236,02"
      ],
      "text/html": "<div>\n<style scoped>\n    .dataframe tbody tr th:only-of-type {\n        vertical-align: middle;\n    }\n\n    .dataframe tbody tr th {\n        vertical-align: top;\n    }\n\n    .dataframe thead th {\n        text-align: right;\n    }\n</style>\n<table border=\"1\" class=\"dataframe\">\n  <thead>\n    <tr style=\"text-align: right;\">\n      <th></th>\n      <th>0</th>\n    </tr>\n  </thead>\n  <tbody>\n    <tr>\n      <th>NUMERO EXPEDIENTE</th>\n      <td>2019S000001</td>\n    </tr>\n    <tr>\n      <th>CODIGO DISTRITO</th>\n      <td>5</td>\n    </tr>\n    <tr>\n      <th>DISTRITO</th>\n      <td>Sarrià-Sant Gervasi</td>\n    </tr>\n    <tr>\n      <th>CODIGO BARRIO</th>\n      <td>26</td>\n    </tr>\n    <tr>\n      <th>BARRIO</th>\n      <td>Sant Gervasi - Galvany</td>\n    </tr>\n    <tr>\n      <th>CODIGO CALLE</th>\n      <td>144601</td>\n    </tr>\n    <tr>\n      <th>CALLE</th>\n      <td>Diagonal / Augusta                            ...</td>\n    </tr>\n    <tr>\n      <th>NUMERO POSTAL</th>\n      <td>0482 0482</td>\n    </tr>\n    <tr>\n      <th>DIA SEMANA</th>\n      <td>Dimarts</td>\n    </tr>\n    <tr>\n      <th>DIA SEMANA (NUMERICO)</th>\n      <td>Dm</td>\n    </tr>\n    <tr>\n      <th>TIPO DE DIA</th>\n      <td>Laboral</td>\n    </tr>\n    <tr>\n      <th>ANO</th>\n      <td>2019</td>\n    </tr>\n    <tr>\n      <th>MES (NUMERICO)</th>\n      <td>1</td>\n    </tr>\n    <tr>\n      <th>MES</th>\n      <td>Gener</td>\n    </tr>\n    <tr>\n      <th>DIA</th>\n      <td>1</td>\n    </tr>\n    <tr>\n      <th>HORA</th>\n      <td>1</td>\n    </tr>\n    <tr>\n      <th>TURNO</th>\n      <td>Nit</td>\n    </tr>\n    <tr>\n      <th>CAUSA</th>\n      <td>No és causa del  vianant</td>\n    </tr>\n    <tr>\n      <th>FALLECIDOS</th>\n      <td>0</td>\n    </tr>\n    <tr>\n      <th>LESIONADOS LEVE</th>\n      <td>0</td>\n    </tr>\n    <tr>\n      <th>LESIONADOS GRAVE</th>\n      <td>1</td>\n    </tr>\n    <tr>\n      <th>CANTIDAD VICTIMAS</th>\n      <td>1</td>\n    </tr>\n    <tr>\n      <th>CANTIDAD VEHICULOS</th>\n      <td>1</td>\n    </tr>\n    <tr>\n      <th>COORDENADA UTM X</th>\n      <td>429482,03</td>\n    </tr>\n    <tr>\n      <th>COORDENADA UTM Y</th>\n      <td>4583236,02</td>\n    </tr>\n  </tbody>\n</table>\n</div>"
     },
     "metadata": {},
     "execution_count": 34
    }
   ],
   "source": [
    "dw.datos_por_numero_expediente(lista_df_gu, 8, '2019S000001    ', 'NUMERO EXPEDIENTE').unstack()"
   ]
  },
  {
   "source": [
    "Comparándolo con el mismo número de expediente en otra lista de dataframes:"
   ],
   "cell_type": "markdown",
   "metadata": {}
  },
  {
   "cell_type": "code",
   "execution_count": 35,
   "metadata": {},
   "outputs": [
    {
     "output_type": "execute_result",
     "data": {
      "text/plain": [
       "                                            5857\n",
       "Numero_expedient                 2019S000001    \n",
       "Codi_districte                                 5\n",
       "Nom_districte                Sarrià-Sant Gervasi\n",
       "Codi_barri                                    26\n",
       "Nom_barri                 Sant Gervasi - Galvany\n",
       "Codi_carrer                               144601\n",
       "Nom_carrer                              Diagonal\n",
       "Num_postal                             0482 0482\n",
       "Descripcio_dia_setmana                   Dimarts\n",
       "Dia_setmana                                   Dm\n",
       "Descripcio_tipus_dia                     Laboral\n",
       "NK_Any                                      2019\n",
       "Mes_any                                        1\n",
       "Nom_mes                                    Gener\n",
       "Dia_mes                                        1\n",
       "Hora_dia                                       1\n",
       "Descripcio_torn                              Nit\n",
       "Descripcio_causa_mediata  No hi ha causa mediata\n",
       "Coordenada_UTM_X                       429514.18\n",
       "Coordenada_UTM_Y                      4583218.13\n",
       "Longitud                                2.155622\n",
       "Latitud                                41.395586"
      ],
      "text/html": "<div>\n<style scoped>\n    .dataframe tbody tr th:only-of-type {\n        vertical-align: middle;\n    }\n\n    .dataframe tbody tr th {\n        vertical-align: top;\n    }\n\n    .dataframe thead th {\n        text-align: right;\n    }\n</style>\n<table border=\"1\" class=\"dataframe\">\n  <thead>\n    <tr style=\"text-align: right;\">\n      <th></th>\n      <th>5857</th>\n    </tr>\n  </thead>\n  <tbody>\n    <tr>\n      <th>Numero_expedient</th>\n      <td>2019S000001</td>\n    </tr>\n    <tr>\n      <th>Codi_districte</th>\n      <td>5</td>\n    </tr>\n    <tr>\n      <th>Nom_districte</th>\n      <td>Sarrià-Sant Gervasi</td>\n    </tr>\n    <tr>\n      <th>Codi_barri</th>\n      <td>26</td>\n    </tr>\n    <tr>\n      <th>Nom_barri</th>\n      <td>Sant Gervasi - Galvany</td>\n    </tr>\n    <tr>\n      <th>Codi_carrer</th>\n      <td>144601</td>\n    </tr>\n    <tr>\n      <th>Nom_carrer</th>\n      <td>Diagonal</td>\n    </tr>\n    <tr>\n      <th>Num_postal</th>\n      <td>0482 0482</td>\n    </tr>\n    <tr>\n      <th>Descripcio_dia_setmana</th>\n      <td>Dimarts</td>\n    </tr>\n    <tr>\n      <th>Dia_setmana</th>\n      <td>Dm</td>\n    </tr>\n    <tr>\n      <th>Descripcio_tipus_dia</th>\n      <td>Laboral</td>\n    </tr>\n    <tr>\n      <th>NK_Any</th>\n      <td>2019</td>\n    </tr>\n    <tr>\n      <th>Mes_any</th>\n      <td>1</td>\n    </tr>\n    <tr>\n      <th>Nom_mes</th>\n      <td>Gener</td>\n    </tr>\n    <tr>\n      <th>Dia_mes</th>\n      <td>1</td>\n    </tr>\n    <tr>\n      <th>Hora_dia</th>\n      <td>1</td>\n    </tr>\n    <tr>\n      <th>Descripcio_torn</th>\n      <td>Nit</td>\n    </tr>\n    <tr>\n      <th>Descripcio_causa_mediata</th>\n      <td>No hi ha causa mediata</td>\n    </tr>\n    <tr>\n      <th>Coordenada_UTM_X</th>\n      <td>429514.18</td>\n    </tr>\n    <tr>\n      <th>Coordenada_UTM_Y</th>\n      <td>4583218.13</td>\n    </tr>\n    <tr>\n      <th>Longitud</th>\n      <td>2.155622</td>\n    </tr>\n    <tr>\n      <th>Latitud</th>\n      <td>41.395586</td>\n    </tr>\n  </tbody>\n</table>\n</div>"
     },
     "metadata": {},
     "execution_count": 35
    }
   ],
   "source": [
    "dw.datos_por_numero_expediente(lista_df_causas, 8, '2019S000001    ', 'Numero_expedient').unstack()"
   ]
  },
  {
   "source": [
    "La correlación por número de expediente continúa siendo correcta, a pesar que en éste caso, el valor contenga espacios en blanco al final del string. Se solucionará éste inconveniente más adelante, cuando se disponga del dataframe completo con todos los datos de los correspondientes datasets.\n",
    "\n",
    "---\n",
    "\n",
    "De momento, se tomará la decisión de mantener las columnas de la lista_df_causas que aporten valor a los datos, sin estar repetidas (a excepción de la columna de números de expediente). De esta manera, permaneceran en los dataframes las columnas siguientes relacionadas con los siguientes datos:\n",
    "- Número de expediente\n",
    "- Descrición de causa"
   ],
   "cell_type": "markdown",
   "metadata": {}
  },
  {
   "cell_type": "code",
   "execution_count": 36,
   "metadata": {},
   "outputs": [],
   "source": [
    "df_accidentes_causas = dw.crear_df_causas(lista_df_causas)"
   ]
  },
  {
   "cell_type": "code",
   "execution_count": 37,
   "metadata": {},
   "outputs": [
    {
     "output_type": "execute_result",
     "data": {
      "text/plain": [
       "      NUMERO EXPEDIENTE       DESCRIPCION CAUSA\n",
       "0           2011S006646  No hi ha causa mediata\n",
       "1           2011S003333  No hi ha causa mediata\n",
       "2           2011S006833  No hi ha causa mediata\n",
       "3           2011S002662  No hi ha causa mediata\n",
       "4           2011S008311  No hi ha causa mediata\n",
       "...                 ...                     ...\n",
       "94028   2020S006274      No hi ha causa mediata\n",
       "94029   2020S006275      No hi ha causa mediata\n",
       "94030   2020S006276      No hi ha causa mediata\n",
       "94031   2020S006277      No hi ha causa mediata\n",
       "94032   2020S006278      No hi ha causa mediata\n",
       "\n",
       "[94033 rows x 2 columns]"
      ],
      "text/html": "<div>\n<style scoped>\n    .dataframe tbody tr th:only-of-type {\n        vertical-align: middle;\n    }\n\n    .dataframe tbody tr th {\n        vertical-align: top;\n    }\n\n    .dataframe thead th {\n        text-align: right;\n    }\n</style>\n<table border=\"1\" class=\"dataframe\">\n  <thead>\n    <tr style=\"text-align: right;\">\n      <th></th>\n      <th>NUMERO EXPEDIENTE</th>\n      <th>DESCRIPCION CAUSA</th>\n    </tr>\n  </thead>\n  <tbody>\n    <tr>\n      <th>0</th>\n      <td>2011S006646</td>\n      <td>No hi ha causa mediata</td>\n    </tr>\n    <tr>\n      <th>1</th>\n      <td>2011S003333</td>\n      <td>No hi ha causa mediata</td>\n    </tr>\n    <tr>\n      <th>2</th>\n      <td>2011S006833</td>\n      <td>No hi ha causa mediata</td>\n    </tr>\n    <tr>\n      <th>3</th>\n      <td>2011S002662</td>\n      <td>No hi ha causa mediata</td>\n    </tr>\n    <tr>\n      <th>4</th>\n      <td>2011S008311</td>\n      <td>No hi ha causa mediata</td>\n    </tr>\n    <tr>\n      <th>...</th>\n      <td>...</td>\n      <td>...</td>\n    </tr>\n    <tr>\n      <th>94028</th>\n      <td>2020S006274</td>\n      <td>No hi ha causa mediata</td>\n    </tr>\n    <tr>\n      <th>94029</th>\n      <td>2020S006275</td>\n      <td>No hi ha causa mediata</td>\n    </tr>\n    <tr>\n      <th>94030</th>\n      <td>2020S006276</td>\n      <td>No hi ha causa mediata</td>\n    </tr>\n    <tr>\n      <th>94031</th>\n      <td>2020S006277</td>\n      <td>No hi ha causa mediata</td>\n    </tr>\n    <tr>\n      <th>94032</th>\n      <td>2020S006278</td>\n      <td>No hi ha causa mediata</td>\n    </tr>\n  </tbody>\n</table>\n<p>94033 rows × 2 columns</p>\n</div>"
     },
     "metadata": {},
     "execution_count": 37
    }
   ],
   "source": [
    "df_accidentes_causas"
   ]
  },
  {
   "source": [
    "### Ahora, nuestra variable **``df_accidentes_causas``** representa la descripción de los causales de todos los accidentes registrados por la Guardia Urbana de la Ciudad de Barcelona, entre los años 2011 y 2020, con su correspondiente número de expediente.\n",
    "\n",
    "---\n",
    "\n",
    "De igual manera, procedemos a trabajar sobre los datasets de **personas** implicadas en accidentes."
   ],
   "cell_type": "markdown",
   "metadata": {}
  },
  {
   "source": [
    "# ACA ARRANCA PERSONASSSSSSSSSSSSSSSSSSSSSSSSSSSSSSSSSSSSSSSSSSSSSS"
   ],
   "cell_type": "markdown",
   "metadata": {}
  },
  {
   "cell_type": "code",
   "execution_count": 23,
   "metadata": {},
   "outputs": [],
   "source": [
    "lista_df_personas = dw.enlistar_dataframes('_ACCIDENTS_PERSONES_GU_BCN_')"
   ]
  },
  {
   "cell_type": "code",
   "execution_count": null,
   "metadata": {},
   "outputs": [],
   "source": [
    "dw.comparar_columnas(lista_df_personas)"
   ]
  },
  {
   "cell_type": "code",
   "execution_count": null,
   "metadata": {},
   "outputs": [],
   "source": [
    "dw.mostrar_columnas(lista_df_personas)"
   ]
  },
  {
   "source": [
    "Haciendo nuevamente la comparación, ahora entre los dataframes de ``lista_df_personas`` y los de ``lista_df_gu``, se observa que, efectivamente, tienen en común la mayoría de sus columnas.\n",
    "\n",
    "Se vuelve a realizar la prueba sobre los dataframes basándonos en su **número de expediente** (clave primaria)."
   ],
   "cell_type": "markdown",
   "metadata": {}
  },
  {
   "cell_type": "code",
   "execution_count": 20,
   "metadata": {},
   "outputs": [
    {
     "output_type": "execute_result",
     "data": {
      "text/plain": [
       "  NUMERO EXPEDIENTE  CODIGO DISTRITO    DISTRITO CODIGO BARRIO  \\\n",
       "0       2014S007072               -1  Desconegut      -1--1--1   \n",
       "1       2014S000436               -1  Desconegut      -1--1--1   \n",
       "2       2014S003380               10  Sant Martí     101-10-64   \n",
       "\n",
       "                       BARRIO  CODIGO CALLE       CALLE NUMERO POSTAL  \\\n",
       "0                  Desconegut            -1  Desconegut    Desconegut   \n",
       "1                  Desconegut            -1  Desconegut    Desconegut   \n",
       "2  el Camp de l'Arpa del Clot        209900   Meridiana     0163 0163   \n",
       "\n",
       "  DIA SEMANA  DIA SEMANA (NUMERICO)  ... HORA  TURNO       CAUSA FALLECIDOS  \\\n",
       "0     Dijous                      4  ...   16  Tarda  Desconegut          0   \n",
       "1    Dilluns                      1  ...    9   Matí  Desconegut          0   \n",
       "2     Dijous                      4  ...   13   Matí  Desconegut          0   \n",
       "\n",
       "   LESIONADOS LEVE  LESIONADOS GRAVE CANTIDAD VICTIMAS CANTIDAD VEHICULOS  \\\n",
       "0                1                 0                 1                  1   \n",
       "1                0                 0                 0                  1   \n",
       "2                1                 0                 1                  2   \n",
       "\n",
       "   COORDENADA UTM X  COORDENADA UTM Y  \n",
       "0                -1                -1  \n",
       "1                -1                -1  \n",
       "2         432111,21        4585072,01  \n",
       "\n",
       "[3 rows x 25 columns]"
      ],
      "text/html": "<div>\n<style scoped>\n    .dataframe tbody tr th:only-of-type {\n        vertical-align: middle;\n    }\n\n    .dataframe tbody tr th {\n        vertical-align: top;\n    }\n\n    .dataframe thead th {\n        text-align: right;\n    }\n</style>\n<table border=\"1\" class=\"dataframe\">\n  <thead>\n    <tr style=\"text-align: right;\">\n      <th></th>\n      <th>NUMERO EXPEDIENTE</th>\n      <th>CODIGO DISTRITO</th>\n      <th>DISTRITO</th>\n      <th>CODIGO BARRIO</th>\n      <th>BARRIO</th>\n      <th>CODIGO CALLE</th>\n      <th>CALLE</th>\n      <th>NUMERO POSTAL</th>\n      <th>DIA SEMANA</th>\n      <th>DIA SEMANA (NUMERICO)</th>\n      <th>...</th>\n      <th>HORA</th>\n      <th>TURNO</th>\n      <th>CAUSA</th>\n      <th>FALLECIDOS</th>\n      <th>LESIONADOS LEVE</th>\n      <th>LESIONADOS GRAVE</th>\n      <th>CANTIDAD VICTIMAS</th>\n      <th>CANTIDAD VEHICULOS</th>\n      <th>COORDENADA UTM X</th>\n      <th>COORDENADA UTM Y</th>\n    </tr>\n  </thead>\n  <tbody>\n    <tr>\n      <th>0</th>\n      <td>2014S007072</td>\n      <td>-1</td>\n      <td>Desconegut</td>\n      <td>-1--1--1</td>\n      <td>Desconegut</td>\n      <td>-1</td>\n      <td>Desconegut</td>\n      <td>Desconegut</td>\n      <td>Dijous</td>\n      <td>4</td>\n      <td>...</td>\n      <td>16</td>\n      <td>Tarda</td>\n      <td>Desconegut</td>\n      <td>0</td>\n      <td>1</td>\n      <td>0</td>\n      <td>1</td>\n      <td>1</td>\n      <td>-1</td>\n      <td>-1</td>\n    </tr>\n    <tr>\n      <th>1</th>\n      <td>2014S000436</td>\n      <td>-1</td>\n      <td>Desconegut</td>\n      <td>-1--1--1</td>\n      <td>Desconegut</td>\n      <td>-1</td>\n      <td>Desconegut</td>\n      <td>Desconegut</td>\n      <td>Dilluns</td>\n      <td>1</td>\n      <td>...</td>\n      <td>9</td>\n      <td>Matí</td>\n      <td>Desconegut</td>\n      <td>0</td>\n      <td>0</td>\n      <td>0</td>\n      <td>0</td>\n      <td>1</td>\n      <td>-1</td>\n      <td>-1</td>\n    </tr>\n    <tr>\n      <th>2</th>\n      <td>2014S003380</td>\n      <td>10</td>\n      <td>Sant Martí</td>\n      <td>101-10-64</td>\n      <td>el Camp de l'Arpa del Clot</td>\n      <td>209900</td>\n      <td>Meridiana</td>\n      <td>0163 0163</td>\n      <td>Dijous</td>\n      <td>4</td>\n      <td>...</td>\n      <td>13</td>\n      <td>Matí</td>\n      <td>Desconegut</td>\n      <td>0</td>\n      <td>1</td>\n      <td>0</td>\n      <td>1</td>\n      <td>2</td>\n      <td>432111,21</td>\n      <td>4585072,01</td>\n    </tr>\n  </tbody>\n</table>\n<p>3 rows × 25 columns</p>\n</div>"
     },
     "metadata": {},
     "execution_count": 20
    }
   ],
   "source": [
    "lista_df_gu[3].head(3)"
   ]
  },
  {
   "cell_type": "code",
   "execution_count": 21,
   "metadata": {},
   "outputs": [
    {
     "output_type": "execute_result",
     "data": {
      "text/plain": [
       "                                                2\n",
       "NUMERO EXPEDIENTE                     2014S003380\n",
       "CODIGO DISTRITO                                10\n",
       "DISTRITO                               Sant Martí\n",
       "CODIGO BARRIO                           101-10-64\n",
       "BARRIO                 el Camp de l'Arpa del Clot\n",
       "CODIGO CALLE                               209900\n",
       "CALLE                                   Meridiana\n",
       "NUMERO POSTAL                           0163 0163\n",
       "DIA SEMANA                                 Dijous\n",
       "DIA SEMANA (NUMERICO)                           4\n",
       "TIPO DE DIA                               Laboral\n",
       "ANO                                          2014\n",
       "MES (NUMERICO)                                  5\n",
       "MES                                          Maig\n",
       "DIA                                             8\n",
       "HORA                                           13\n",
       "TURNO                                        Matí\n",
       "CAUSA                                  Desconegut\n",
       "FALLECIDOS                                      0\n",
       "LESIONADOS LEVE                                 1\n",
       "LESIONADOS GRAVE                                0\n",
       "CANTIDAD VICTIMAS                               1\n",
       "CANTIDAD VEHICULOS                              2\n",
       "COORDENADA UTM X                        432111,21\n",
       "COORDENADA UTM Y                       4585072,01"
      ],
      "text/html": "<div>\n<style scoped>\n    .dataframe tbody tr th:only-of-type {\n        vertical-align: middle;\n    }\n\n    .dataframe tbody tr th {\n        vertical-align: top;\n    }\n\n    .dataframe thead th {\n        text-align: right;\n    }\n</style>\n<table border=\"1\" class=\"dataframe\">\n  <thead>\n    <tr style=\"text-align: right;\">\n      <th></th>\n      <th>2</th>\n    </tr>\n  </thead>\n  <tbody>\n    <tr>\n      <th>NUMERO EXPEDIENTE</th>\n      <td>2014S003380</td>\n    </tr>\n    <tr>\n      <th>CODIGO DISTRITO</th>\n      <td>10</td>\n    </tr>\n    <tr>\n      <th>DISTRITO</th>\n      <td>Sant Martí</td>\n    </tr>\n    <tr>\n      <th>CODIGO BARRIO</th>\n      <td>101-10-64</td>\n    </tr>\n    <tr>\n      <th>BARRIO</th>\n      <td>el Camp de l'Arpa del Clot</td>\n    </tr>\n    <tr>\n      <th>CODIGO CALLE</th>\n      <td>209900</td>\n    </tr>\n    <tr>\n      <th>CALLE</th>\n      <td>Meridiana</td>\n    </tr>\n    <tr>\n      <th>NUMERO POSTAL</th>\n      <td>0163 0163</td>\n    </tr>\n    <tr>\n      <th>DIA SEMANA</th>\n      <td>Dijous</td>\n    </tr>\n    <tr>\n      <th>DIA SEMANA (NUMERICO)</th>\n      <td>4</td>\n    </tr>\n    <tr>\n      <th>TIPO DE DIA</th>\n      <td>Laboral</td>\n    </tr>\n    <tr>\n      <th>ANO</th>\n      <td>2014</td>\n    </tr>\n    <tr>\n      <th>MES (NUMERICO)</th>\n      <td>5</td>\n    </tr>\n    <tr>\n      <th>MES</th>\n      <td>Maig</td>\n    </tr>\n    <tr>\n      <th>DIA</th>\n      <td>8</td>\n    </tr>\n    <tr>\n      <th>HORA</th>\n      <td>13</td>\n    </tr>\n    <tr>\n      <th>TURNO</th>\n      <td>Matí</td>\n    </tr>\n    <tr>\n      <th>CAUSA</th>\n      <td>Desconegut</td>\n    </tr>\n    <tr>\n      <th>FALLECIDOS</th>\n      <td>0</td>\n    </tr>\n    <tr>\n      <th>LESIONADOS LEVE</th>\n      <td>1</td>\n    </tr>\n    <tr>\n      <th>LESIONADOS GRAVE</th>\n      <td>0</td>\n    </tr>\n    <tr>\n      <th>CANTIDAD VICTIMAS</th>\n      <td>1</td>\n    </tr>\n    <tr>\n      <th>CANTIDAD VEHICULOS</th>\n      <td>2</td>\n    </tr>\n    <tr>\n      <th>COORDENADA UTM X</th>\n      <td>432111,21</td>\n    </tr>\n    <tr>\n      <th>COORDENADA UTM Y</th>\n      <td>4585072,01</td>\n    </tr>\n  </tbody>\n</table>\n</div>"
     },
     "metadata": {},
     "execution_count": 21
    }
   ],
   "source": [
    "dw.datos_por_numero_expediente(lista_df_gu, 3, '2014S003380', 'NUMERO EXPEDIENTE').unstack()"
   ]
  },
  {
   "cell_type": "code",
   "execution_count": 24,
   "metadata": {},
   "outputs": [
    {
     "output_type": "execute_result",
     "data": {
      "text/plain": [
       "                                                    7511\n",
       "Número d'expedient                           2014S003380\n",
       "Codi districte                                        10\n",
       "Nom districte                                 Sant Martí\n",
       "Codi barri                                            64\n",
       "Nom barri                     el Camp de l'Arpa del Clot\n",
       "Codi carrer                                       209900\n",
       "Nom carrer                                     Meridiana\n",
       "Num postal caption                             0163 0163\n",
       "Descripció dia setmana                            Dijous\n",
       "Dia setmana                                           Dj\n",
       "Descripció tipus dia                             Laboral\n",
       "NK Any                                              2014\n",
       "Mes de any                                             5\n",
       "Nom mes                                             Maig\n",
       "Dia de mes                                             8\n",
       "Hora de dia                                            1\n",
       "Descripció causa vianant        No és causa del  vianant\n",
       "Desc. Tipus vehicle implicat                 Motocicleta\n",
       "Descripció sexe                                     Home\n",
       "Descripció tipus persona                       Conductor\n",
       "Edat                                                  40\n",
       "Descripció victimització                      Ferit lleu\n",
       "Coordenada UTM (Y)                            4585072,01\n",
       "Coordenada UTM (X)                             432111,21"
      ],
      "text/html": "<div>\n<style scoped>\n    .dataframe tbody tr th:only-of-type {\n        vertical-align: middle;\n    }\n\n    .dataframe tbody tr th {\n        vertical-align: top;\n    }\n\n    .dataframe thead th {\n        text-align: right;\n    }\n</style>\n<table border=\"1\" class=\"dataframe\">\n  <thead>\n    <tr style=\"text-align: right;\">\n      <th></th>\n      <th>7511</th>\n    </tr>\n  </thead>\n  <tbody>\n    <tr>\n      <th>Número d'expedient</th>\n      <td>2014S003380</td>\n    </tr>\n    <tr>\n      <th>Codi districte</th>\n      <td>10</td>\n    </tr>\n    <tr>\n      <th>Nom districte</th>\n      <td>Sant Martí</td>\n    </tr>\n    <tr>\n      <th>Codi barri</th>\n      <td>64</td>\n    </tr>\n    <tr>\n      <th>Nom barri</th>\n      <td>el Camp de l'Arpa del Clot</td>\n    </tr>\n    <tr>\n      <th>Codi carrer</th>\n      <td>209900</td>\n    </tr>\n    <tr>\n      <th>Nom carrer</th>\n      <td>Meridiana</td>\n    </tr>\n    <tr>\n      <th>Num postal caption</th>\n      <td>0163 0163</td>\n    </tr>\n    <tr>\n      <th>Descripció dia setmana</th>\n      <td>Dijous</td>\n    </tr>\n    <tr>\n      <th>Dia setmana</th>\n      <td>Dj</td>\n    </tr>\n    <tr>\n      <th>Descripció tipus dia</th>\n      <td>Laboral</td>\n    </tr>\n    <tr>\n      <th>NK Any</th>\n      <td>2014</td>\n    </tr>\n    <tr>\n      <th>Mes de any</th>\n      <td>5</td>\n    </tr>\n    <tr>\n      <th>Nom mes</th>\n      <td>Maig</td>\n    </tr>\n    <tr>\n      <th>Dia de mes</th>\n      <td>8</td>\n    </tr>\n    <tr>\n      <th>Hora de dia</th>\n      <td>1</td>\n    </tr>\n    <tr>\n      <th>Descripció causa vianant</th>\n      <td>No és causa del  vianant</td>\n    </tr>\n    <tr>\n      <th>Desc. Tipus vehicle implicat</th>\n      <td>Motocicleta</td>\n    </tr>\n    <tr>\n      <th>Descripció sexe</th>\n      <td>Home</td>\n    </tr>\n    <tr>\n      <th>Descripció tipus persona</th>\n      <td>Conductor</td>\n    </tr>\n    <tr>\n      <th>Edat</th>\n      <td>40</td>\n    </tr>\n    <tr>\n      <th>Descripció victimització</th>\n      <td>Ferit lleu</td>\n    </tr>\n    <tr>\n      <th>Coordenada UTM (Y)</th>\n      <td>4585072,01</td>\n    </tr>\n    <tr>\n      <th>Coordenada UTM (X)</th>\n      <td>432111,21</td>\n    </tr>\n  </tbody>\n</table>\n</div>"
     },
     "metadata": {},
     "execution_count": 24
    }
   ],
   "source": [
    "dw.datos_por_numero_expediente(lista_df_personas, 3, '2014S003380', 'Número d\\'expedient').unstack()"
   ]
  },
  {
   "source": [
    "Efectivamente, como era de esperar, están relacionados por su clave primaria.\n",
    "\n",
    "En este caso, se tomarán como columnas con datos relevantes para nuestro estudio las siguientes:\n",
    "- Número de expediente\n",
    "- Tipo de persona\n",
    "- Edad\n",
    "- Sexo"
   ],
   "cell_type": "markdown",
   "metadata": {}
  },
  {
   "cell_type": "code",
   "execution_count": null,
   "metadata": {},
   "outputs": [],
   "source": [
    "df_accidentes_personas = dw.crear_df_personas(lista_df_personas)"
   ]
  },
  {
   "cell_type": "code",
   "execution_count": null,
   "metadata": {},
   "outputs": [],
   "source": [
    "df_accidentes_personas"
   ]
  },
  {
   "source": [
    "### Ahora, nuestra variable **``df_accidentes_personas``** representa la descripción de las personas involucradas en los accidentes registrados por la Guardia Urbana de la Ciudad de Barcelona, entre los años 2011 y 2020, con su correspondiente número de expediente.\n",
    "\n",
    "---\n",
    "\n",
    "De igual manera, procedemos a trabajar sobre los datasets de **vehículos** implicados en accidentes."
   ],
   "cell_type": "markdown",
   "metadata": {}
  },
  {
   "source": [
    "# ACA ARRANCA VEHICULOSSSSSSSSSSSSSSSSSSSSSSSSSSSSSSSSSSSSSSSSSSSSSSS"
   ],
   "cell_type": "markdown",
   "metadata": {}
  },
  {
   "cell_type": "code",
   "execution_count": 3,
   "metadata": {},
   "outputs": [],
   "source": [
    "lista_df_vehiculos = dw.enlistar_dataframes('_accidents_vehicles_gu_bcn_')"
   ]
  },
  {
   "cell_type": "code",
   "execution_count": 4,
   "metadata": {},
   "outputs": [
    {
     "output_type": "stream",
     "name": "stdout",
     "text": [
      "Las columnas de 0 (25) y 1 (25) COINCIDEN.\n======================================================\nLas columnas de 1 (25) y 2 (25) COINCIDEN.\n======================================================\n\nLas columnas de 2 (25) y 3 (25) SON DISTINTAS.\n\n         Posición de columna diferente: 0\n         ---------------------------------\n         Columna de DF en posición 2: Codi d'expedient\n         Columna de DF en posición 3: Codi d expedient\n         ================================================\n\nLas columnas de 2 (25) y 4 (25) COINCIDEN.\n======================================================\n\nLas columnas de 3 (25) y 4 (25) SON DISTINTAS.\n\n         Posición de columna diferente: 0\n         ---------------------------------\n         Columna de DF en posición 3: Codi d expedient\n         Columna de DF en posición 4: Codi d'expedient\n         ================================================\n\n3 (25) y 5 (27) tienen distinta CANTIDAD de columnas.\n======================================================\n3 (25) y 6 (27) tienen distinta CANTIDAD de columnas.\n======================================================\n3 (25) y 7 (28) tienen distinta CANTIDAD de columnas.\n======================================================\n3 (25) y 8 (28) tienen distinta CANTIDAD de columnas.\n======================================================\n3 (25) y 9 (28) tienen distinta CANTIDAD de columnas.\n======================================================\n4 (25) y 5 (27) tienen distinta CANTIDAD de columnas.\n======================================================\n4 (25) y 6 (27) tienen distinta CANTIDAD de columnas.\n======================================================\n4 (25) y 7 (28) tienen distinta CANTIDAD de columnas.\n======================================================\n4 (25) y 8 (28) tienen distinta CANTIDAD de columnas.\n======================================================\n4 (25) y 9 (28) tienen distinta CANTIDAD de columnas.\n======================================================\n\nLas columnas de 5 (27) y 6 (27) SON DISTINTAS.\n\n         Posición de columna diferente: 7\n         ---------------------------------\n         Columna de DF en posición 5: Num_postal\n         Columna de DF en posición 6: Num_postal \n         ================================================\n\n         Posición de columna diferente: 25\n         ---------------------------------\n         Columna de DF en posición 5:  Longitud\n         Columna de DF en posición 6: Longitud\n         ================================================\n\n         Posición de columna diferente: 26\n         ---------------------------------\n         Columna de DF en posición 5:  Latitud\n         Columna de DF en posición 6: Latitud\n         ================================================\n\n5 (27) y 7 (28) tienen distinta CANTIDAD de columnas.\n======================================================\n5 (27) y 8 (28) tienen distinta CANTIDAD de columnas.\n======================================================\n5 (27) y 9 (28) tienen distinta CANTIDAD de columnas.\n======================================================\n6 (27) y 7 (28) tienen distinta CANTIDAD de columnas.\n======================================================\n6 (27) y 8 (28) tienen distinta CANTIDAD de columnas.\n======================================================\n6 (27) y 9 (28) tienen distinta CANTIDAD de columnas.\n======================================================\n\nLas columnas de 7 (28) y 8 (28) SON DISTINTAS.\n\n         Posición de columna diferente: 0\n         ---------------------------------\n         Columna de DF en posición 7: Codi_expedient\n         Columna de DF en posición 8: Numero_expedient\n         ================================================\n\n         Posición de columna diferente: 7\n         ---------------------------------\n         Columna de DF en posición 7: Num_postal \n         Columna de DF en posición 8: Num_postal\n         ================================================\n\n         Posición de columna diferente: 11\n         ---------------------------------\n         Columna de DF en posición 7: Any\n         Columna de DF en posición 8: NK_Any\n         ================================================\n\n\nLas columnas de 7 (28) y 9 (28) SON DISTINTAS.\n\n         Posición de columna diferente: 0\n         ---------------------------------\n         Columna de DF en posición 7: Codi_expedient\n         Columna de DF en posición 9: Numero_expedient\n         ================================================\n\n         Posición de columna diferente: 7\n         ---------------------------------\n         Columna de DF en posición 7: Num_postal \n         Columna de DF en posición 9: Num_postal\n         ================================================\n\n         Posición de columna diferente: 11\n         ---------------------------------\n         Columna de DF en posición 7: Any\n         Columna de DF en posición 9: NK_Any\n         ================================================\n\n         Posición de columna diferente: 26\n         ---------------------------------\n         Columna de DF en posición 7: Longitud\n         Columna de DF en posición 9: Latitud\n         ================================================\n\n         Posición de columna diferente: 27\n         ---------------------------------\n         Columna de DF en posición 7: Latitud\n         Columna de DF en posición 9: Longitud\n         ================================================\n\n\nLas columnas de 8 (28) y 9 (28) SON DISTINTAS.\n\n         Posición de columna diferente: 26\n         ---------------------------------\n         Columna de DF en posición 8: Longitud\n         Columna de DF en posición 9: Latitud\n         ================================================\n\n         Posición de columna diferente: 27\n         ---------------------------------\n         Columna de DF en posición 8: Latitud\n         Columna de DF en posición 9: Longitud\n         ================================================\n\n"
     ]
    }
   ],
   "source": [
    "dw.comparar_columnas(lista_df_vehiculos)"
   ]
  },
  {
   "cell_type": "code",
   "execution_count": 5,
   "metadata": {},
   "outputs": [
    {
     "output_type": "stream",
     "name": "stdout",
     "text": [
      "Columnas de dataframe en posición 0:\n------------------------------------\nIndex(['Codi d'expedient', 'Codi districte', 'Nom districte', 'Codi barri',\n       'Nom barri', 'Codi carrer', 'Nom carrer', 'Num postal caption',\n       'Descripció dia setmana', 'Dia setmana', 'Descripció tipus dia',\n       'NK Any', 'Mes de any', 'Nom mes', 'Dia de mes', 'Hora de dia',\n       'Descripció causa vianant', 'Descripció tipus de vehicle',\n       'Descripció model', 'Descripció marca', 'Descripció color',\n       'Descripció carnet', 'Antiguitat carnet', 'Coordenada UTM (Y)',\n       'Coordenada UTM (X)'],\n      dtype='object')\n\nNúmero de columnas: 25\n\n===========================================================================================\nColumnas de dataframe en posición 1:\n------------------------------------\nIndex(['Codi d'expedient', 'Codi districte', 'Nom districte', 'Codi barri',\n       'Nom barri', 'Codi carrer', 'Nom carrer', 'Num postal caption',\n       'Descripció dia setmana', 'Dia setmana', 'Descripció tipus dia',\n       'NK Any', 'Mes de any', 'Nom mes', 'Dia de mes', 'Hora de dia',\n       'Descripció causa vianant', 'Descripció tipus de vehicle',\n       'Descripció model', 'Descripció marca', 'Descripció color',\n       'Descripció carnet', 'Antiguitat carnet', 'Coordenada UTM (Y)',\n       'Coordenada UTM (X)'],\n      dtype='object')\n\nNúmero de columnas: 25\n\n===========================================================================================\nColumnas de dataframe en posición 2:\n------------------------------------\nIndex(['Codi d'expedient', 'Codi districte', 'Nom districte', 'Codi barri',\n       'Nom barri', 'Codi carrer', 'Nom carrer', 'Num postal caption',\n       'Descripció dia setmana', 'Dia setmana', 'Descripció tipus dia',\n       'NK Any', 'Mes de any', 'Nom mes', 'Dia de mes', 'Hora de dia',\n       'Descripció causa vianant', 'Descripció tipus de vehicle',\n       'Descripció model', 'Descripció marca', 'Descripció color',\n       'Descripció carnet', 'Antiguitat carnet', 'Coordenada UTM (Y)',\n       'Coordenada UTM (X)'],\n      dtype='object')\n\nNúmero de columnas: 25\n\n===========================================================================================\nColumnas de dataframe en posición 3:\n------------------------------------\nIndex(['Codi d expedient', 'Codi districte', 'Nom districte', 'Codi barri',\n       'Nom barri', 'Codi carrer', 'Nom carrer', 'Num postal caption',\n       'Descripció dia setmana', 'Dia setmana', 'Descripció tipus dia',\n       'NK Any', 'Mes de any', 'Nom mes', 'Dia de mes', 'Hora de dia',\n       'Descripció causa vianant', 'Descripció tipus de vehicle',\n       'Descripció model', 'Descripció marca', 'Descripció color',\n       'Descripció carnet', 'Antiguitat carnet', 'Coordenada UTM (Y)',\n       'Coordenada UTM (X)'],\n      dtype='object')\n\nNúmero de columnas: 25\n\n===========================================================================================\nColumnas de dataframe en posición 4:\n------------------------------------\nIndex(['Codi d'expedient', 'Codi districte', 'Nom districte', 'Codi barri',\n       'Nom barri', 'Codi carrer', 'Nom carrer', 'Num postal caption',\n       'Descripció dia setmana', 'Dia setmana', 'Descripció tipus dia',\n       'NK Any', 'Mes de any', 'Nom mes', 'Dia de mes', 'Hora de dia',\n       'Descripció causa vianant', 'Descripció tipus de vehicle',\n       'Descripció model', 'Descripció marca', 'Descripció color',\n       'Descripció carnet', 'Antiguitat carnet', 'Coordenada UTM (Y)',\n       'Coordenada UTM (X)'],\n      dtype='object')\n\nNúmero de columnas: 25\n\n===========================================================================================\nColumnas de dataframe en posición 5:\n------------------------------------\nIndex(['Codi_expedient', 'Codi_districte', 'Nom_districte', 'Codi_barri',\n       'Nom_barri', 'Codi_carrer', 'Nom_carrer', 'Num_postal',\n       'Descripcio_dia_setmana', 'Dia_setmana', 'Descripcio_tipus_dia', 'Any',\n       'Mes_any', 'Nom_mes', 'Dia_mes', 'Hora_dia', 'Descripcio_causa_vianant',\n       'Descripcio_tipus_vehicle', 'Descripcio_model', 'Descripcio_marca',\n       'Descripcio_color', 'Descripcio_carnet', 'Antiguitat_carnet',\n       'Coordenada_UTM_X', 'Coordenada_UTM_Y', ' Longitud', ' Latitud'],\n      dtype='object')\n\nNúmero de columnas: 27\n\n===========================================================================================\nColumnas de dataframe en posición 6:\n------------------------------------\nIndex(['Codi_expedient', 'Codi_districte', 'Nom_districte', 'Codi_barri',\n       'Nom_barri', 'Codi_carrer', 'Nom_carrer', 'Num_postal ',\n       'Descripcio_dia_setmana', 'Dia_setmana', 'Descripcio_tipus_dia', 'Any',\n       'Mes_any', 'Nom_mes', 'Dia_mes', 'Hora_dia', 'Descripcio_causa_vianant',\n       'Descripcio_tipus_vehicle', 'Descripcio_model', 'Descripcio_marca',\n       'Descripcio_color', 'Descripcio_carnet', 'Antiguitat_carnet',\n       'Coordenada_UTM_X', 'Coordenada_UTM_Y', 'Longitud', 'Latitud'],\n      dtype='object')\n\nNúmero de columnas: 27\n\n===========================================================================================\nColumnas de dataframe en posición 7:\n------------------------------------\nIndex(['Codi_expedient', 'Codi_districte', 'Nom_districte', 'Codi_barri',\n       'Nom_barri', 'Codi_carrer', 'Nom_carrer', 'Num_postal ',\n       'Descripcio_dia_setmana', 'Dia_setmana', 'Descripcio_tipus_dia', 'Any',\n       'Mes_any', 'Nom_mes', 'Dia_mes', 'Hora_dia', 'Descripcio_torn',\n       'Descripcio_causa_vianant', 'Descripcio_tipus_vehicle',\n       'Descripcio_model', 'Descripcio_marca', 'Descripcio_color',\n       'Descripcio_carnet', 'Antiguitat_carnet', 'Coordenada_UTM_X',\n       'Coordenada_UTM_Y', 'Longitud', 'Latitud'],\n      dtype='object')\n\nNúmero de columnas: 28\n\n===========================================================================================\nColumnas de dataframe en posición 8:\n------------------------------------\nIndex(['Numero_expedient', 'Codi_districte', 'Nom_districte', 'Codi_barri',\n       'Nom_barri', 'Codi_carrer', 'Nom_carrer', 'Num_postal',\n       'Descripcio_dia_setmana', 'Dia_setmana', 'Descripcio_tipus_dia',\n       'NK_Any', 'Mes_any', 'Nom_mes', 'Dia_mes', 'Hora_dia',\n       'Descripcio_torn', 'Descripcio_causa_vianant',\n       'Descripcio_tipus_vehicle', 'Descripcio_model', 'Descripcio_marca',\n       'Descripcio_color', 'Descripcio_carnet', 'Antiguitat_carnet',\n       'Coordenada_UTM_X', 'Coordenada_UTM_Y', 'Longitud', 'Latitud'],\n      dtype='object')\n\nNúmero de columnas: 28\n\n===========================================================================================\nColumnas de dataframe en posición 9:\n------------------------------------\nIndex(['Numero_expedient', 'Codi_districte', 'Nom_districte', 'Codi_barri',\n       'Nom_barri', 'Codi_carrer', 'Nom_carrer', 'Num_postal',\n       'Descripcio_dia_setmana', 'Dia_setmana', 'Descripcio_tipus_dia',\n       'NK_Any', 'Mes_any', 'Nom_mes', 'Dia_mes', 'Hora_dia',\n       'Descripcio_torn', 'Descripcio_causa_vianant',\n       'Descripcio_tipus_vehicle', 'Descripcio_model', 'Descripcio_marca',\n       'Descripcio_color', 'Descripcio_carnet', 'Antiguitat_carnet',\n       'Coordenada_UTM_X', 'Coordenada_UTM_Y', 'Latitud', 'Longitud'],\n      dtype='object')\n\nNúmero de columnas: 28\n\n===========================================================================================\n"
     ]
    }
   ],
   "source": [
    "dw.mostrar_columnas(lista_df_vehiculos)"
   ]
  },
  {
   "source": [
    "Se comparan los dataframes de ``lista_df_vehiculos`` y los de ``lista_df_gu``. Nuevamente cuentan con muchas columnas en común que no será necesario duplicar.\n",
    "\n",
    "Verificamos el cumplimiento de nuestra clave primaria \"número de expediente\"."
   ],
   "cell_type": "markdown",
   "metadata": {}
  },
  {
   "cell_type": "code",
   "execution_count": 6,
   "metadata": {},
   "outputs": [
    {
     "output_type": "execute_result",
     "data": {
      "text/plain": [
       "  Número d expedient  Codi districte Nom districte  Codi barri  \\\n",
       "0        2015S005807            -1.0    Desconegut        -1.0   \n",
       "1        2015S007685            10.0    Sant Martí        64.0   \n",
       "2        2015S001364            10.0    Sant Martí        64.0   \n",
       "\n",
       "                    Nom barri  Codi carrer  Nom carrer Num postal caption  \\\n",
       "0                  Desconegut         -1.0  Desconegut         Desconegut   \n",
       "1  el Camp de l'Arpa del Clot     134801.0      Freser          0208 0208   \n",
       "2  el Camp de l'Arpa del Clot     161407.0   Indústria          0336 0336   \n",
       "\n",
       "  Descripció dia setmana Dia setmana  ... Hora de dia  Descripció torn  \\\n",
       "0                Dimarts          Dm  ...        12.0             Matí   \n",
       "1                Dimarts          Dm  ...        19.0            Tarda   \n",
       "2               Dissabte          Ds  ...        21.0            Tarda   \n",
       "\n",
       "         Descripció causa vianant Número de morts  Número de lesionats lleus  \\\n",
       "0        No és causa del  vianant             0.0                        2.0   \n",
       "1  Desobeir el senyal del semàfor             0.0                        1.0   \n",
       "2        No és causa del  vianant             0.0                        1.0   \n",
       "\n",
       "   Número de lesionats greus Número de víctimes Número de vehicles implicats  \\\n",
       "0                        0.0                2.0                          2.0   \n",
       "1                        0.0                1.0                          1.0   \n",
       "2                        0.0                1.0                          1.0   \n",
       "\n",
       "   Coordenada UTM (Y)  Coordenada UTM (X)  \n",
       "0                  -1                  -1  \n",
       "1          4585420,58           431779,16  \n",
       "2          4585555,86           431913,65  \n",
       "\n",
       "[3 rows x 25 columns]"
      ],
      "text/html": "<div>\n<style scoped>\n    .dataframe tbody tr th:only-of-type {\n        vertical-align: middle;\n    }\n\n    .dataframe tbody tr th {\n        vertical-align: top;\n    }\n\n    .dataframe thead th {\n        text-align: right;\n    }\n</style>\n<table border=\"1\" class=\"dataframe\">\n  <thead>\n    <tr style=\"text-align: right;\">\n      <th></th>\n      <th>Número d expedient</th>\n      <th>Codi districte</th>\n      <th>Nom districte</th>\n      <th>Codi barri</th>\n      <th>Nom barri</th>\n      <th>Codi carrer</th>\n      <th>Nom carrer</th>\n      <th>Num postal caption</th>\n      <th>Descripció dia setmana</th>\n      <th>Dia setmana</th>\n      <th>...</th>\n      <th>Hora de dia</th>\n      <th>Descripció torn</th>\n      <th>Descripció causa vianant</th>\n      <th>Número de morts</th>\n      <th>Número de lesionats lleus</th>\n      <th>Número de lesionats greus</th>\n      <th>Número de víctimes</th>\n      <th>Número de vehicles implicats</th>\n      <th>Coordenada UTM (Y)</th>\n      <th>Coordenada UTM (X)</th>\n    </tr>\n  </thead>\n  <tbody>\n    <tr>\n      <th>0</th>\n      <td>2015S005807</td>\n      <td>-1.0</td>\n      <td>Desconegut</td>\n      <td>-1.0</td>\n      <td>Desconegut</td>\n      <td>-1.0</td>\n      <td>Desconegut</td>\n      <td>Desconegut</td>\n      <td>Dimarts</td>\n      <td>Dm</td>\n      <td>...</td>\n      <td>12.0</td>\n      <td>Matí</td>\n      <td>No és causa del  vianant</td>\n      <td>0.0</td>\n      <td>2.0</td>\n      <td>0.0</td>\n      <td>2.0</td>\n      <td>2.0</td>\n      <td>-1</td>\n      <td>-1</td>\n    </tr>\n    <tr>\n      <th>1</th>\n      <td>2015S007685</td>\n      <td>10.0</td>\n      <td>Sant Martí</td>\n      <td>64.0</td>\n      <td>el Camp de l'Arpa del Clot</td>\n      <td>134801.0</td>\n      <td>Freser</td>\n      <td>0208 0208</td>\n      <td>Dimarts</td>\n      <td>Dm</td>\n      <td>...</td>\n      <td>19.0</td>\n      <td>Tarda</td>\n      <td>Desobeir el senyal del semàfor</td>\n      <td>0.0</td>\n      <td>1.0</td>\n      <td>0.0</td>\n      <td>1.0</td>\n      <td>1.0</td>\n      <td>4585420,58</td>\n      <td>431779,16</td>\n    </tr>\n    <tr>\n      <th>2</th>\n      <td>2015S001364</td>\n      <td>10.0</td>\n      <td>Sant Martí</td>\n      <td>64.0</td>\n      <td>el Camp de l'Arpa del Clot</td>\n      <td>161407.0</td>\n      <td>Indústria</td>\n      <td>0336 0336</td>\n      <td>Dissabte</td>\n      <td>Ds</td>\n      <td>...</td>\n      <td>21.0</td>\n      <td>Tarda</td>\n      <td>No és causa del  vianant</td>\n      <td>0.0</td>\n      <td>1.0</td>\n      <td>0.0</td>\n      <td>1.0</td>\n      <td>1.0</td>\n      <td>4585555,86</td>\n      <td>431913,65</td>\n    </tr>\n  </tbody>\n</table>\n<p>3 rows × 25 columns</p>\n</div>"
     },
     "metadata": {},
     "execution_count": 6
    }
   ],
   "source": [
    "lista_df_gu[4].head(3)"
   ]
  },
  {
   "cell_type": "code",
   "execution_count": 18,
   "metadata": {},
   "outputs": [
    {
     "output_type": "execute_result",
     "data": {
      "text/plain": [
       "                                                    1\n",
       "NUMERO EXPEDIENTE                         2015S007685\n",
       "CODIGO DISTRITO                                  10.0\n",
       "DISTRITO                                   Sant Martí\n",
       "CODIGO BARRIO                                    64.0\n",
       "BARRIO                     el Camp de l'Arpa del Clot\n",
       "CODIGO CALLE                                 134801.0\n",
       "CALLE                                          Freser\n",
       "NUMERO POSTAL                               0208 0208\n",
       "DIA SEMANA                                    Dimarts\n",
       "DIA SEMANA (NUMERICO)                              Dm\n",
       "TIPO DE DIA                                   Laboral\n",
       "ANO                                            2015.0\n",
       "MES (NUMERICO)                                   10.0\n",
       "MES                                           Octubre\n",
       "DIA                                              13.0\n",
       "HORA                                             19.0\n",
       "TURNO                                           Tarda\n",
       "CAUSA                  Desobeir el senyal del semàfor\n",
       "FALLECIDOS                                        0.0\n",
       "LESIONADOS LEVE                                   1.0\n",
       "LESIONADOS GRAVE                                  0.0\n",
       "CANTIDAD VICTIMAS                                 1.0\n",
       "CANTIDAD VEHICULOS                                1.0\n",
       "COORDENADA UTM X                            431779,16\n",
       "COORDENADA UTM Y                           4585420,58"
      ],
      "text/html": "<div>\n<style scoped>\n    .dataframe tbody tr th:only-of-type {\n        vertical-align: middle;\n    }\n\n    .dataframe tbody tr th {\n        vertical-align: top;\n    }\n\n    .dataframe thead th {\n        text-align: right;\n    }\n</style>\n<table border=\"1\" class=\"dataframe\">\n  <thead>\n    <tr style=\"text-align: right;\">\n      <th></th>\n      <th>1</th>\n    </tr>\n  </thead>\n  <tbody>\n    <tr>\n      <th>NUMERO EXPEDIENTE</th>\n      <td>2015S007685</td>\n    </tr>\n    <tr>\n      <th>CODIGO DISTRITO</th>\n      <td>10.0</td>\n    </tr>\n    <tr>\n      <th>DISTRITO</th>\n      <td>Sant Martí</td>\n    </tr>\n    <tr>\n      <th>CODIGO BARRIO</th>\n      <td>64.0</td>\n    </tr>\n    <tr>\n      <th>BARRIO</th>\n      <td>el Camp de l'Arpa del Clot</td>\n    </tr>\n    <tr>\n      <th>CODIGO CALLE</th>\n      <td>134801.0</td>\n    </tr>\n    <tr>\n      <th>CALLE</th>\n      <td>Freser</td>\n    </tr>\n    <tr>\n      <th>NUMERO POSTAL</th>\n      <td>0208 0208</td>\n    </tr>\n    <tr>\n      <th>DIA SEMANA</th>\n      <td>Dimarts</td>\n    </tr>\n    <tr>\n      <th>DIA SEMANA (NUMERICO)</th>\n      <td>Dm</td>\n    </tr>\n    <tr>\n      <th>TIPO DE DIA</th>\n      <td>Laboral</td>\n    </tr>\n    <tr>\n      <th>ANO</th>\n      <td>2015.0</td>\n    </tr>\n    <tr>\n      <th>MES (NUMERICO)</th>\n      <td>10.0</td>\n    </tr>\n    <tr>\n      <th>MES</th>\n      <td>Octubre</td>\n    </tr>\n    <tr>\n      <th>DIA</th>\n      <td>13.0</td>\n    </tr>\n    <tr>\n      <th>HORA</th>\n      <td>19.0</td>\n    </tr>\n    <tr>\n      <th>TURNO</th>\n      <td>Tarda</td>\n    </tr>\n    <tr>\n      <th>CAUSA</th>\n      <td>Desobeir el senyal del semàfor</td>\n    </tr>\n    <tr>\n      <th>FALLECIDOS</th>\n      <td>0.0</td>\n    </tr>\n    <tr>\n      <th>LESIONADOS LEVE</th>\n      <td>1.0</td>\n    </tr>\n    <tr>\n      <th>LESIONADOS GRAVE</th>\n      <td>0.0</td>\n    </tr>\n    <tr>\n      <th>CANTIDAD VICTIMAS</th>\n      <td>1.0</td>\n    </tr>\n    <tr>\n      <th>CANTIDAD VEHICULOS</th>\n      <td>1.0</td>\n    </tr>\n    <tr>\n      <th>COORDENADA UTM X</th>\n      <td>431779,16</td>\n    </tr>\n    <tr>\n      <th>COORDENADA UTM Y</th>\n      <td>4585420,58</td>\n    </tr>\n  </tbody>\n</table>\n</div>"
     },
     "metadata": {},
     "execution_count": 18
    }
   ],
   "source": [
    "dw.datos_por_numero_expediente(lista_df_gu, 4, '2015S007685', 'NUMERO EXPEDIENTE').unstack()"
   ]
  },
  {
   "cell_type": "code",
   "execution_count": 19,
   "metadata": {},
   "outputs": [
    {
     "output_type": "execute_result",
     "data": {
      "text/plain": [
       "                                                       7185\n",
       "Codi d'expedient                                2015S007685\n",
       "Codi districte                                           10\n",
       "Nom districte                                    Sant Martí\n",
       "Codi barri                                               64\n",
       "Nom barri                        el Camp de l'Arpa del Clot\n",
       "Codi carrer                                          134801\n",
       "Nom carrer                                           Freser\n",
       "Num postal caption                                0208 0208\n",
       "Descripció dia setmana                              Dimarts\n",
       "Dia setmana                                              Dm\n",
       "Descripció tipus dia                                Laboral\n",
       "NK Any                                                 2015\n",
       "Mes de any                                               10\n",
       "Nom mes                                             Octubre\n",
       "Dia de mes                                               13\n",
       "Hora de dia                                              19\n",
       "Descripció causa vianant     Desobeir el senyal del semàfor\n",
       "Descripció tipus de vehicle                     Motocicleta\n",
       "Descripció model                                   WW125EX2\n",
       "Descripció marca                                      HONDA\n",
       "Descripció color                                      Blanc\n",
       "Descripció carnet                                         B\n",
       "Antiguitat carnet                                        14\n",
       "Coordenada UTM (Y)                               4585420,58\n",
       "Coordenada UTM (X)                                431779,16"
      ],
      "text/html": "<div>\n<style scoped>\n    .dataframe tbody tr th:only-of-type {\n        vertical-align: middle;\n    }\n\n    .dataframe tbody tr th {\n        vertical-align: top;\n    }\n\n    .dataframe thead th {\n        text-align: right;\n    }\n</style>\n<table border=\"1\" class=\"dataframe\">\n  <thead>\n    <tr style=\"text-align: right;\">\n      <th></th>\n      <th>7185</th>\n    </tr>\n  </thead>\n  <tbody>\n    <tr>\n      <th>Codi d'expedient</th>\n      <td>2015S007685</td>\n    </tr>\n    <tr>\n      <th>Codi districte</th>\n      <td>10</td>\n    </tr>\n    <tr>\n      <th>Nom districte</th>\n      <td>Sant Martí</td>\n    </tr>\n    <tr>\n      <th>Codi barri</th>\n      <td>64</td>\n    </tr>\n    <tr>\n      <th>Nom barri</th>\n      <td>el Camp de l'Arpa del Clot</td>\n    </tr>\n    <tr>\n      <th>Codi carrer</th>\n      <td>134801</td>\n    </tr>\n    <tr>\n      <th>Nom carrer</th>\n      <td>Freser</td>\n    </tr>\n    <tr>\n      <th>Num postal caption</th>\n      <td>0208 0208</td>\n    </tr>\n    <tr>\n      <th>Descripció dia setmana</th>\n      <td>Dimarts</td>\n    </tr>\n    <tr>\n      <th>Dia setmana</th>\n      <td>Dm</td>\n    </tr>\n    <tr>\n      <th>Descripció tipus dia</th>\n      <td>Laboral</td>\n    </tr>\n    <tr>\n      <th>NK Any</th>\n      <td>2015</td>\n    </tr>\n    <tr>\n      <th>Mes de any</th>\n      <td>10</td>\n    </tr>\n    <tr>\n      <th>Nom mes</th>\n      <td>Octubre</td>\n    </tr>\n    <tr>\n      <th>Dia de mes</th>\n      <td>13</td>\n    </tr>\n    <tr>\n      <th>Hora de dia</th>\n      <td>19</td>\n    </tr>\n    <tr>\n      <th>Descripció causa vianant</th>\n      <td>Desobeir el senyal del semàfor</td>\n    </tr>\n    <tr>\n      <th>Descripció tipus de vehicle</th>\n      <td>Motocicleta</td>\n    </tr>\n    <tr>\n      <th>Descripció model</th>\n      <td>WW125EX2</td>\n    </tr>\n    <tr>\n      <th>Descripció marca</th>\n      <td>HONDA</td>\n    </tr>\n    <tr>\n      <th>Descripció color</th>\n      <td>Blanc</td>\n    </tr>\n    <tr>\n      <th>Descripció carnet</th>\n      <td>B</td>\n    </tr>\n    <tr>\n      <th>Antiguitat carnet</th>\n      <td>14</td>\n    </tr>\n    <tr>\n      <th>Coordenada UTM (Y)</th>\n      <td>4585420,58</td>\n    </tr>\n    <tr>\n      <th>Coordenada UTM (X)</th>\n      <td>431779,16</td>\n    </tr>\n  </tbody>\n</table>\n</div>"
     },
     "metadata": {},
     "execution_count": 19
    }
   ],
   "source": [
    "dw.datos_por_numero_expediente(lista_df_vehiculos, 4, '2015S007685', 'Codi d\\'expedient').unstack()"
   ]
  },
  {
   "source": [
    "Nuevamente se cumple la relación. Se definen ahora las columnas de interés para el estudio:\n",
    "- Número de expediente\n",
    "- Tipo de vehículo\n",
    "- Modelo de vehículo\n",
    "- Marca de vehículo\n",
    "- Color de vehículo\n",
    "- Tipo de carnet\n",
    "- Antigüedad de carnet\n",
    "- Causa del peatón"
   ],
   "cell_type": "markdown",
   "metadata": {}
  },
  {
   "cell_type": "code",
   "execution_count": 15,
   "metadata": {},
   "outputs": [],
   "source": [
    "df_accidentes_vehiculos = dw.crear_df_vehiculos(lista_df_vehiculos)"
   ]
  },
  {
   "cell_type": "code",
   "execution_count": 16,
   "metadata": {},
   "outputs": [
    {
     "output_type": "execute_result",
     "data": {
      "text/plain": [
       "       NUMERO EXPEDIENTE                      TIPO VEHICULO   MODELO VEHICULO  \\\n",
       "0            2011S000833                            Turismo               206   \n",
       "1            2011S000835                         Ciclomotor              CY50   \n",
       "2            2011S002871                            Turismo               318   \n",
       "3            2011S000825                        Motocicleta            SH 100   \n",
       "4            2011S000830                         Ciclomotor        LIBERTY 50   \n",
       "...                  ...                                ...               ...   \n",
       "179901   2020S006276                            Motocicleta  AGILITY CITY 125   \n",
       "179902   2020S006276      Veh. mobilitat personal amb motor        Desconegut   \n",
       "179903   2020S006277                            Motocicleta            SH 150   \n",
       "179904   2020S006278                                Turisme              CLIO   \n",
       "179905   2020S006278                                Turisme             RAPID   \n",
       "\n",
       "       MARCA VEHICULO COLOR VEHICULO TIPO CARNET ANTIGUEDAD CARNET  \\\n",
       "0             PEUGEOT          Blanc           B                 9   \n",
       "1              YAMAHA          Negre           B                22   \n",
       "2                 BMW          Negre           B                 7   \n",
       "3               HONDA           Verd           B                 6   \n",
       "4             PIAGGIO           Gris           B                 2   \n",
       "...               ...            ...         ...               ...   \n",
       "179901          KYMCO     Desconegut           B                16   \n",
       "179902     Desconegut          Negre  Desconegut        Desconegut   \n",
       "179903          HONDA        Vermell           A                25   \n",
       "179904        RENAULT          Blanc  Desconegut        Desconegut   \n",
       "179905          SKODA     Negre/Groc  Desconegut        Desconegut   \n",
       "\n",
       "                    CAUSA PEATON  \n",
       "0       No és causa del  vianant  \n",
       "1       No és causa del  vianant  \n",
       "2       No és causa del  vianant  \n",
       "3       No és causa del  vianant  \n",
       "4       No és causa del  vianant  \n",
       "...                          ...  \n",
       "179901  No és causa del  vianant  \n",
       "179902  No és causa del  vianant  \n",
       "179903  No és causa del  vianant  \n",
       "179904  No és causa del  vianant  \n",
       "179905  No és causa del  vianant  \n",
       "\n",
       "[179906 rows x 8 columns]"
      ],
      "text/html": "<div>\n<style scoped>\n    .dataframe tbody tr th:only-of-type {\n        vertical-align: middle;\n    }\n\n    .dataframe tbody tr th {\n        vertical-align: top;\n    }\n\n    .dataframe thead th {\n        text-align: right;\n    }\n</style>\n<table border=\"1\" class=\"dataframe\">\n  <thead>\n    <tr style=\"text-align: right;\">\n      <th></th>\n      <th>NUMERO EXPEDIENTE</th>\n      <th>TIPO VEHICULO</th>\n      <th>MODELO VEHICULO</th>\n      <th>MARCA VEHICULO</th>\n      <th>COLOR VEHICULO</th>\n      <th>TIPO CARNET</th>\n      <th>ANTIGUEDAD CARNET</th>\n      <th>CAUSA PEATON</th>\n    </tr>\n  </thead>\n  <tbody>\n    <tr>\n      <th>0</th>\n      <td>2011S000833</td>\n      <td>Turismo</td>\n      <td>206</td>\n      <td>PEUGEOT</td>\n      <td>Blanc</td>\n      <td>B</td>\n      <td>9</td>\n      <td>No és causa del  vianant</td>\n    </tr>\n    <tr>\n      <th>1</th>\n      <td>2011S000835</td>\n      <td>Ciclomotor</td>\n      <td>CY50</td>\n      <td>YAMAHA</td>\n      <td>Negre</td>\n      <td>B</td>\n      <td>22</td>\n      <td>No és causa del  vianant</td>\n    </tr>\n    <tr>\n      <th>2</th>\n      <td>2011S002871</td>\n      <td>Turismo</td>\n      <td>318</td>\n      <td>BMW</td>\n      <td>Negre</td>\n      <td>B</td>\n      <td>7</td>\n      <td>No és causa del  vianant</td>\n    </tr>\n    <tr>\n      <th>3</th>\n      <td>2011S000825</td>\n      <td>Motocicleta</td>\n      <td>SH 100</td>\n      <td>HONDA</td>\n      <td>Verd</td>\n      <td>B</td>\n      <td>6</td>\n      <td>No és causa del  vianant</td>\n    </tr>\n    <tr>\n      <th>4</th>\n      <td>2011S000830</td>\n      <td>Ciclomotor</td>\n      <td>LIBERTY 50</td>\n      <td>PIAGGIO</td>\n      <td>Gris</td>\n      <td>B</td>\n      <td>2</td>\n      <td>No és causa del  vianant</td>\n    </tr>\n    <tr>\n      <th>...</th>\n      <td>...</td>\n      <td>...</td>\n      <td>...</td>\n      <td>...</td>\n      <td>...</td>\n      <td>...</td>\n      <td>...</td>\n      <td>...</td>\n    </tr>\n    <tr>\n      <th>179901</th>\n      <td>2020S006276</td>\n      <td>Motocicleta</td>\n      <td>AGILITY CITY 125</td>\n      <td>KYMCO</td>\n      <td>Desconegut</td>\n      <td>B</td>\n      <td>16</td>\n      <td>No és causa del  vianant</td>\n    </tr>\n    <tr>\n      <th>179902</th>\n      <td>2020S006276</td>\n      <td>Veh. mobilitat personal amb motor</td>\n      <td>Desconegut</td>\n      <td>Desconegut</td>\n      <td>Negre</td>\n      <td>Desconegut</td>\n      <td>Desconegut</td>\n      <td>No és causa del  vianant</td>\n    </tr>\n    <tr>\n      <th>179903</th>\n      <td>2020S006277</td>\n      <td>Motocicleta</td>\n      <td>SH 150</td>\n      <td>HONDA</td>\n      <td>Vermell</td>\n      <td>A</td>\n      <td>25</td>\n      <td>No és causa del  vianant</td>\n    </tr>\n    <tr>\n      <th>179904</th>\n      <td>2020S006278</td>\n      <td>Turisme</td>\n      <td>CLIO</td>\n      <td>RENAULT</td>\n      <td>Blanc</td>\n      <td>Desconegut</td>\n      <td>Desconegut</td>\n      <td>No és causa del  vianant</td>\n    </tr>\n    <tr>\n      <th>179905</th>\n      <td>2020S006278</td>\n      <td>Turisme</td>\n      <td>RAPID</td>\n      <td>SKODA</td>\n      <td>Negre/Groc</td>\n      <td>Desconegut</td>\n      <td>Desconegut</td>\n      <td>No és causa del  vianant</td>\n    </tr>\n  </tbody>\n</table>\n<p>179906 rows × 8 columns</p>\n</div>"
     },
     "metadata": {},
     "execution_count": 16
    }
   ],
   "source": [
    "df_accidentes_vehiculos"
   ]
  },
  {
   "source": [
    "### La variable **``df_accidentes_vehiculos``** representa la descripción de los distintos vehículos involucradas en los accidentes registrados por la Guardia Urbana de la Ciudad de Barcelona, entre los años 2011 y 2020, con su correspondiente número de expediente.\n",
    "\n",
    "---\n",
    "\n",
    "Por último, se procede a trabajar sobre los datasets de **tipos** de accidentes."
   ],
   "cell_type": "markdown",
   "metadata": {}
  },
  {
   "source": [
    "# ACAAAAAAAAAAAAAAAAAAAAAAAAAAAAAAAAAAAAAAAAAAAAAAAAAAA ARRAAAAAAAAAAAAAAAAAAAAAAAAAAAAAAAAAAAAAAAAAAAAAAANCA TIPOSSSSSSSSSSSSSSSSSSSSSSSSSSSSSSSSSSSSSSSSSSSSSSSSSSSS"
   ],
   "cell_type": "markdown",
   "metadata": {}
  },
  {
   "cell_type": "code",
   "execution_count": 17,
   "metadata": {},
   "outputs": [],
   "source": [
    "lista_df_tipos = dw.enlistar_dataframes('_ACCIDENTS_TIPUS_GU_BCN_')"
   ]
  },
  {
   "cell_type": "code",
   "execution_count": null,
   "metadata": {},
   "outputs": [],
   "source": [
    "dw.comparar_columnas(lista_df_tipos)"
   ]
  },
  {
   "cell_type": "code",
   "execution_count": 39,
   "metadata": {},
   "outputs": [
    {
     "output_type": "stream",
     "name": "stdout",
     "text": [
      "Columnas de dataframe en posición 0:\n------------------------------------\nIndex(['Número d'expedient', 'Codi districte', 'Nom districte', 'Codi barri',\n       'Nom barri', 'Codi carrer', 'Nom carrer', 'Num postal caption',\n       'Descripció dia setmana', 'Dia setmana', 'Descripció tipus dia',\n       'NK Any', 'Mes de any', 'Nom mes', 'Dia de mes', 'Hora de dia',\n       'Descripció torn', 'Descripció tipus accident', 'Coordenada UTM (Y)',\n       'Coordenada UTM (X)'],\n      dtype='object')\n\nNúmero de columnas: 20\n\n===========================================================================================\nColumnas de dataframe en posición 1:\n------------------------------------\nIndex(['Número d'expedient', 'Codi districte', 'Nom districte', 'Codi barri',\n       'Nom barri', 'Codi carrer', 'Nom carrer', 'Num postal caption',\n       'Descripció dia setmana', 'Dia setmana', 'Descripció tipus dia',\n       'NK Any', 'Mes de any', 'Nom mes', 'Dia de mes', 'Hora de dia',\n       'Descripció torn', 'Descripció tipus accident', 'Coordenada UTM (Y)',\n       'Coordenada UTM (X)'],\n      dtype='object')\n\nNúmero de columnas: 20\n\n===========================================================================================\nColumnas de dataframe en posición 2:\n------------------------------------\nIndex(['Número d'expedient', 'Codi districte', 'Nom districte', 'Codi barri',\n       'Nom barri', 'Codi carrer', 'Nom carrer', 'Num postal caption',\n       'Descripció dia setmana', 'Dia setmana', 'Descripció tipus dia',\n       'NK Any', 'Mes de any', 'Nom mes', 'Dia de mes', 'Hora de dia',\n       'Descripció torn', 'Descripció tipus accident', 'Coordenada UTM (Y)',\n       'Coordenada UTM (X)'],\n      dtype='object')\n\nNúmero de columnas: 20\n\n===========================================================================================\nColumnas de dataframe en posición 3:\n------------------------------------\nIndex(['Número d'expedient', 'Codi districte', 'Nom districte', 'Codi barri',\n       'Nom barri', 'Codi carrer', 'Nom carrer', 'Num postal caption',\n       'Descripció dia setmana', 'Dia setmana', 'Descripció tipus dia',\n       'NK Any', 'Mes de any', 'Nom mes', 'Dia de mes', 'Hora de dia',\n       'Descripció torn', 'Descripció tipus accident', 'Coordenada UTM (Y)',\n       'Coordenada UTM (X)'],\n      dtype='object')\n\nNúmero de columnas: 20\n\n===========================================================================================\nColumnas de dataframe en posición 4:\n------------------------------------\nIndex(['Número d'expedient', 'Codi districte', 'Nom districte', 'Codi barri',\n       'Nom barri', 'Codi carrer', 'Nom carrer', 'Num postal caption',\n       'Descripció dia setmana', 'Dia setmana', 'Descripció tipus dia',\n       'NK Any', 'Mes de any', 'Nom mes', 'Dia de mes', 'Hora de dia',\n       'Descripció torn', 'Descripció tipus accident', 'Coordenada UTM (Y)',\n       'Coordenada UTM (X)'],\n      dtype='object')\n\nNúmero de columnas: 20\n\n===========================================================================================\nColumnas de dataframe en posición 5:\n------------------------------------\nIndex(['Numero_expedient', 'Codi_districte', 'Nom_districte', 'Codi_barri',\n       'Nom_barri', 'Codi_carrer', 'Nom_carrer', 'Num_postal_caption',\n       'Descripcio_dia_setmana', 'Dia_setmana', 'Descripcio_tipus_dia', 'Any',\n       'Mes_any', 'Nom_mes', 'Dia_mes', 'Hora_dia', 'Descripcio_torn',\n       'Descripcio_tipus_accident', 'Coordenada_UTM_X', 'Coordenada_UTM_Y',\n       'Longitud', 'Latitud'],\n      dtype='object')\n\nNúmero de columnas: 22\n\n===========================================================================================\nColumnas de dataframe en posición 6:\n------------------------------------\nIndex(['Numero_expedient', 'Codi_districte', 'Nom_districte', 'Codi_barri',\n       'Nom_barri', 'Codi_carrer', 'Nom_carrer', 'Num_postal_caption',\n       'Descripcio_dia_setmana', 'Dia_setmana', 'Descripcio_tipus_dia', 'Any',\n       'Mes_any', 'Nom_mes', 'Dia_mes', 'Hora_dia', 'Descripcio_torn',\n       'Descripcio_tipus_accident', 'Coordenada_UTM_X', 'Coordenada_UTM_Y',\n       'Longitud', 'Latitud'],\n      dtype='object')\n\nNúmero de columnas: 22\n\n===========================================================================================\nColumnas de dataframe en posición 7:\n------------------------------------\nIndex(['Codi_expedient', 'Codi_districte', 'Nom_districte', 'Codi_barri',\n       'Nom_barri', 'Codi_carrer', 'Nom_carrer', 'Num_postal ', 'Dia_setmana',\n       'ID_Dia_setmana', 'Tipus_dia', 'Any', 'Mes', 'Nom_mes', 'Dia_de_mes',\n       'Hora_de_dia', 'Torn', 'Tipus_accident', 'Coordenada_UTM_X',\n       'Coordenada_UTM_Y', 'Longitud', 'Latitud'],\n      dtype='object')\n\nNúmero de columnas: 22\n\n===========================================================================================\nColumnas de dataframe en posición 8:\n------------------------------------\nIndex(['Numero_expedient', 'Codi_districte', 'Nom_districte', 'Codi_barri',\n       'Nom_barri', 'Codi_carrer', 'Nom_carrer', 'Num_postal_caption',\n       'Descripcio_dia_setmana', 'Dia_setmana', 'Descripcio_tipus_dia',\n       'NK_Any', 'Mes_any', 'Nom_mes', 'Dia_mes', 'Hora_dia',\n       'Descripcio_torn', 'Descripcio_tipus_accident', 'Coordenada_UTM_X',\n       'Coordenada_UTM_Y', 'Longitud', 'Latitud'],\n      dtype='object')\n\nNúmero de columnas: 22\n\n===========================================================================================\nColumnas de dataframe en posición 9:\n------------------------------------\nIndex(['Numero_expedient', 'Codi_districte', 'Nom_districte', 'Codi_barri',\n       'Nom_barri', 'Codi_carrer', 'Nom_carrer', 'Num_postal_caption',\n       'Descripcio_dia_setmana', 'Dia_setmana', 'Descripcio_tipus_dia',\n       'NK_Any', 'Mes_any', 'Nom_mes', 'Dia_mes', 'Hora_dia',\n       'Descripcio_torn', 'Descripcio_tipus_accident', 'Coordenada_UTM_X',\n       'Coordenada_UTM_Y', 'Longitud', 'Latitud'],\n      dtype='object')\n\nNúmero de columnas: 22\n\n===========================================================================================\n"
     ]
    }
   ],
   "source": [
    "dw.mostrar_columnas(lista_df_tipos)"
   ]
  },
  {
   "source": [
    "Se comparan los dataframes de ``lista_df_tipos`` y los de ``lista_df_gu``, los cuales poseen muchas columnas en común.\n",
    "\n",
    "Verificamos nuevamente el cumplimiento de nuestra clave primaria \"número de expediente\"."
   ],
   "cell_type": "markdown",
   "metadata": {}
  },
  {
   "cell_type": "code",
   "execution_count": 38,
   "metadata": {},
   "outputs": [
    {
     "output_type": "execute_result",
     "data": {
      "text/plain": [
       "  NUMERO EXPEDIENTE  CODIGO DISTRITO    DISTRITO  CODIGO BARRIO      BARRIO  \\\n",
       "0   2016S001896                   -1  Desconegut             -1  Desconegut   \n",
       "1   2016S004886                   -1  Desconegut             -1  Desconegut   \n",
       "2   2016S000252                   -1  Desconegut             -1  Desconegut   \n",
       "\n",
       "   CODIGO CALLE                                              CALLE  \\\n",
       "0            -1  CTRA HTA CERDANY                              ...   \n",
       "1            -1  FOC / Jocs del 92                             ...   \n",
       "2            -1  CTRA C-58 (RIPOLLE                            ...   \n",
       "\n",
       "  NUMERO POSTAL DIA SEMANA DIA SEMANA (NUMERICO)  ... HORA  TURNO  \\\n",
       "0             1   Dimecres                    Dc  ...   15  Tarda   \n",
       "1           NaN    Dimarts                    Dm  ...   18  Tarda   \n",
       "2             0    Dimarts                    Dm  ...   16  Tarda   \n",
       "\n",
       "                      CAUSA FALLECIDOS  LESIONADOS LEVE  LESIONADOS GRAVE  \\\n",
       "0  No és causa del  vianant          0                0                 0   \n",
       "1  No és causa del  vianant          0                2                 0   \n",
       "2  No és causa del  vianant          0                2                 0   \n",
       "\n",
       "  CANTIDAD VICTIMAS CANTIDAD VEHICULOS  COORDENADA UTM X  COORDENADA UTM Y  \n",
       "0                 0                  1         429369.52        4587865.50  \n",
       "1                 2                  2         428989.33        4579247.93  \n",
       "2                 2                  4         431940.30        4590347.92  \n",
       "\n",
       "[3 rows x 25 columns]"
      ],
      "text/html": "<div>\n<style scoped>\n    .dataframe tbody tr th:only-of-type {\n        vertical-align: middle;\n    }\n\n    .dataframe tbody tr th {\n        vertical-align: top;\n    }\n\n    .dataframe thead th {\n        text-align: right;\n    }\n</style>\n<table border=\"1\" class=\"dataframe\">\n  <thead>\n    <tr style=\"text-align: right;\">\n      <th></th>\n      <th>NUMERO EXPEDIENTE</th>\n      <th>CODIGO DISTRITO</th>\n      <th>DISTRITO</th>\n      <th>CODIGO BARRIO</th>\n      <th>BARRIO</th>\n      <th>CODIGO CALLE</th>\n      <th>CALLE</th>\n      <th>NUMERO POSTAL</th>\n      <th>DIA SEMANA</th>\n      <th>DIA SEMANA (NUMERICO)</th>\n      <th>...</th>\n      <th>HORA</th>\n      <th>TURNO</th>\n      <th>CAUSA</th>\n      <th>FALLECIDOS</th>\n      <th>LESIONADOS LEVE</th>\n      <th>LESIONADOS GRAVE</th>\n      <th>CANTIDAD VICTIMAS</th>\n      <th>CANTIDAD VEHICULOS</th>\n      <th>COORDENADA UTM X</th>\n      <th>COORDENADA UTM Y</th>\n    </tr>\n  </thead>\n  <tbody>\n    <tr>\n      <th>0</th>\n      <td>2016S001896</td>\n      <td>-1</td>\n      <td>Desconegut</td>\n      <td>-1</td>\n      <td>Desconegut</td>\n      <td>-1</td>\n      <td>CTRA HTA CERDANY                              ...</td>\n      <td>1</td>\n      <td>Dimecres</td>\n      <td>Dc</td>\n      <td>...</td>\n      <td>15</td>\n      <td>Tarda</td>\n      <td>No és causa del  vianant</td>\n      <td>0</td>\n      <td>0</td>\n      <td>0</td>\n      <td>0</td>\n      <td>1</td>\n      <td>429369.52</td>\n      <td>4587865.50</td>\n    </tr>\n    <tr>\n      <th>1</th>\n      <td>2016S004886</td>\n      <td>-1</td>\n      <td>Desconegut</td>\n      <td>-1</td>\n      <td>Desconegut</td>\n      <td>-1</td>\n      <td>FOC / Jocs del 92                             ...</td>\n      <td>NaN</td>\n      <td>Dimarts</td>\n      <td>Dm</td>\n      <td>...</td>\n      <td>18</td>\n      <td>Tarda</td>\n      <td>No és causa del  vianant</td>\n      <td>0</td>\n      <td>2</td>\n      <td>0</td>\n      <td>2</td>\n      <td>2</td>\n      <td>428989.33</td>\n      <td>4579247.93</td>\n    </tr>\n    <tr>\n      <th>2</th>\n      <td>2016S000252</td>\n      <td>-1</td>\n      <td>Desconegut</td>\n      <td>-1</td>\n      <td>Desconegut</td>\n      <td>-1</td>\n      <td>CTRA C-58 (RIPOLLE                            ...</td>\n      <td>0</td>\n      <td>Dimarts</td>\n      <td>Dm</td>\n      <td>...</td>\n      <td>16</td>\n      <td>Tarda</td>\n      <td>No és causa del  vianant</td>\n      <td>0</td>\n      <td>2</td>\n      <td>0</td>\n      <td>2</td>\n      <td>4</td>\n      <td>431940.30</td>\n      <td>4590347.92</td>\n    </tr>\n  </tbody>\n</table>\n<p>3 rows × 25 columns</p>\n</div>"
     },
     "metadata": {},
     "execution_count": 38
    }
   ],
   "source": [
    "lista_df_gu[5].head(3)"
   ]
  },
  {
   "cell_type": "code",
   "execution_count": 40,
   "metadata": {},
   "outputs": [
    {
     "output_type": "execute_result",
     "data": {
      "text/plain": [
       "Empty DataFrame\n",
       "Columns: []\n",
       "Index: []"
      ],
      "text/html": "<div>\n<style scoped>\n    .dataframe tbody tr th:only-of-type {\n        vertical-align: middle;\n    }\n\n    .dataframe tbody tr th {\n        vertical-align: top;\n    }\n\n    .dataframe thead th {\n        text-align: right;\n    }\n</style>\n<table border=\"1\" class=\"dataframe\">\n  <thead>\n    <tr style=\"text-align: right;\">\n      <th></th>\n    </tr>\n  </thead>\n  <tbody>\n  </tbody>\n</table>\n</div>"
     },
     "metadata": {},
     "execution_count": 40
    }
   ],
   "source": [
    "dw.datos_por_numero_expediente(lista_df_gu, 5, '2016S001896', 'NUMERO EXPEDIENTE').unstack()"
   ]
  },
  {
   "cell_type": "code",
   "execution_count": 41,
   "metadata": {},
   "outputs": [
    {
     "output_type": "execute_result",
     "data": {
      "text/plain": [
       "Empty DataFrame\n",
       "Columns: []\n",
       "Index: []"
      ],
      "text/html": "<div>\n<style scoped>\n    .dataframe tbody tr th:only-of-type {\n        vertical-align: middle;\n    }\n\n    .dataframe tbody tr th {\n        vertical-align: top;\n    }\n\n    .dataframe thead th {\n        text-align: right;\n    }\n</style>\n<table border=\"1\" class=\"dataframe\">\n  <thead>\n    <tr style=\"text-align: right;\">\n      <th></th>\n    </tr>\n  </thead>\n  <tbody>\n  </tbody>\n</table>\n</div>"
     },
     "metadata": {},
     "execution_count": 41
    }
   ],
   "source": [
    "dw.datos_por_numero_expediente(lista_df_tipos, 5, '2016S001896', 'Numero_expedient').unstack()"
   ]
  },
  {
   "source": [
    "Se presenta nuevamente el inconveniente de encontrar caracteres en blanco en el string de número de expediente. De momento se realiza la comprobación de la correlatividad y más tarde se corregirá el problema."
   ],
   "cell_type": "markdown",
   "metadata": {}
  },
  {
   "cell_type": "code",
   "execution_count": 43,
   "metadata": {},
   "outputs": [
    {
     "output_type": "execute_result",
     "data": {
      "text/plain": [
       "'2016S001896    '"
      ]
     },
     "metadata": {},
     "execution_count": 43
    }
   ],
   "source": [
    "lista_df_gu[5].iloc[0,0]"
   ]
  },
  {
   "cell_type": "code",
   "execution_count": 44,
   "metadata": {},
   "outputs": [
    {
     "output_type": "execute_result",
     "data": {
      "text/plain": [
       "                                                                       0\n",
       "NUMERO EXPEDIENTE                                        2016S001896    \n",
       "CODIGO DISTRITO                                                       -1\n",
       "DISTRITO                                                      Desconegut\n",
       "CODIGO BARRIO                                                         -1\n",
       "BARRIO                                                        Desconegut\n",
       "CODIGO CALLE                                                          -1\n",
       "CALLE                  CTRA HTA CERDANY                              ...\n",
       "NUMERO POSTAL                                                          1\n",
       "DIA SEMANA                                                      Dimecres\n",
       "DIA SEMANA (NUMERICO)                                                 Dc\n",
       "TIPO DE DIA                                                      Laboral\n",
       "ANO                                                                 2016\n",
       "MES (NUMERICO)                                                         3\n",
       "MES                                                                 Març\n",
       "DIA                                                                    9\n",
       "HORA                                                                  15\n",
       "TURNO                                                              Tarda\n",
       "CAUSA                                           No és causa del  vianant\n",
       "FALLECIDOS                                                             0\n",
       "LESIONADOS LEVE                                                        0\n",
       "LESIONADOS GRAVE                                                       0\n",
       "CANTIDAD VICTIMAS                                                      0\n",
       "CANTIDAD VEHICULOS                                                     1\n",
       "COORDENADA UTM X                                               429369.52\n",
       "COORDENADA UTM Y                                               4587865.5"
      ],
      "text/html": "<div>\n<style scoped>\n    .dataframe tbody tr th:only-of-type {\n        vertical-align: middle;\n    }\n\n    .dataframe tbody tr th {\n        vertical-align: top;\n    }\n\n    .dataframe thead th {\n        text-align: right;\n    }\n</style>\n<table border=\"1\" class=\"dataframe\">\n  <thead>\n    <tr style=\"text-align: right;\">\n      <th></th>\n      <th>0</th>\n    </tr>\n  </thead>\n  <tbody>\n    <tr>\n      <th>NUMERO EXPEDIENTE</th>\n      <td>2016S001896</td>\n    </tr>\n    <tr>\n      <th>CODIGO DISTRITO</th>\n      <td>-1</td>\n    </tr>\n    <tr>\n      <th>DISTRITO</th>\n      <td>Desconegut</td>\n    </tr>\n    <tr>\n      <th>CODIGO BARRIO</th>\n      <td>-1</td>\n    </tr>\n    <tr>\n      <th>BARRIO</th>\n      <td>Desconegut</td>\n    </tr>\n    <tr>\n      <th>CODIGO CALLE</th>\n      <td>-1</td>\n    </tr>\n    <tr>\n      <th>CALLE</th>\n      <td>CTRA HTA CERDANY                              ...</td>\n    </tr>\n    <tr>\n      <th>NUMERO POSTAL</th>\n      <td>1</td>\n    </tr>\n    <tr>\n      <th>DIA SEMANA</th>\n      <td>Dimecres</td>\n    </tr>\n    <tr>\n      <th>DIA SEMANA (NUMERICO)</th>\n      <td>Dc</td>\n    </tr>\n    <tr>\n      <th>TIPO DE DIA</th>\n      <td>Laboral</td>\n    </tr>\n    <tr>\n      <th>ANO</th>\n      <td>2016</td>\n    </tr>\n    <tr>\n      <th>MES (NUMERICO)</th>\n      <td>3</td>\n    </tr>\n    <tr>\n      <th>MES</th>\n      <td>Març</td>\n    </tr>\n    <tr>\n      <th>DIA</th>\n      <td>9</td>\n    </tr>\n    <tr>\n      <th>HORA</th>\n      <td>15</td>\n    </tr>\n    <tr>\n      <th>TURNO</th>\n      <td>Tarda</td>\n    </tr>\n    <tr>\n      <th>CAUSA</th>\n      <td>No és causa del  vianant</td>\n    </tr>\n    <tr>\n      <th>FALLECIDOS</th>\n      <td>0</td>\n    </tr>\n    <tr>\n      <th>LESIONADOS LEVE</th>\n      <td>0</td>\n    </tr>\n    <tr>\n      <th>LESIONADOS GRAVE</th>\n      <td>0</td>\n    </tr>\n    <tr>\n      <th>CANTIDAD VICTIMAS</th>\n      <td>0</td>\n    </tr>\n    <tr>\n      <th>CANTIDAD VEHICULOS</th>\n      <td>1</td>\n    </tr>\n    <tr>\n      <th>COORDENADA UTM X</th>\n      <td>429369.52</td>\n    </tr>\n    <tr>\n      <th>COORDENADA UTM Y</th>\n      <td>4587865.5</td>\n    </tr>\n  </tbody>\n</table>\n</div>"
     },
     "metadata": {},
     "execution_count": 44
    }
   ],
   "source": [
    "dw.datos_por_numero_expediente(lista_df_gu, 5, '2016S001896    ', 'NUMERO EXPEDIENTE').unstack()"
   ]
  },
  {
   "cell_type": "code",
   "execution_count": 45,
   "metadata": {},
   "outputs": [
    {
     "output_type": "execute_result",
     "data": {
      "text/plain": [
       "                                                                        3972\n",
       "Numero_expedient                                             2016S001896    \n",
       "Codi_districte                                                            -1\n",
       "Nom_districte                                                     Desconegut\n",
       "Codi_barri                                                                -1\n",
       "Nom_barri                                                         Desconegut\n",
       "Codi_carrer                                                               -1\n",
       "Nom_carrer                 CTRA HTA CERDANY                              ...\n",
       "Num_postal_caption                                                         1\n",
       "Descripcio_dia_setmana                                              Dimecres\n",
       "Dia_setmana                                                               Dc\n",
       "Descripcio_tipus_dia                                                 Laboral\n",
       "Any                                                                     2016\n",
       "Mes_any                                                                    3\n",
       "Nom_mes                                                                 Març\n",
       "Dia_mes                                                                    9\n",
       "Hora_dia                                                                  15\n",
       "Descripcio_torn                                                        Tarda\n",
       "Descripcio_tipus_accident                         Xoc contra element estàtic\n",
       "Coordenada_UTM_X                                                   429369.52\n",
       "Coordenada_UTM_Y                                                   4587865.5\n",
       "Longitud                                                             2.15344\n",
       "Latitud                                                            41.437411"
      ],
      "text/html": "<div>\n<style scoped>\n    .dataframe tbody tr th:only-of-type {\n        vertical-align: middle;\n    }\n\n    .dataframe tbody tr th {\n        vertical-align: top;\n    }\n\n    .dataframe thead th {\n        text-align: right;\n    }\n</style>\n<table border=\"1\" class=\"dataframe\">\n  <thead>\n    <tr style=\"text-align: right;\">\n      <th></th>\n      <th>3972</th>\n    </tr>\n  </thead>\n  <tbody>\n    <tr>\n      <th>Numero_expedient</th>\n      <td>2016S001896</td>\n    </tr>\n    <tr>\n      <th>Codi_districte</th>\n      <td>-1</td>\n    </tr>\n    <tr>\n      <th>Nom_districte</th>\n      <td>Desconegut</td>\n    </tr>\n    <tr>\n      <th>Codi_barri</th>\n      <td>-1</td>\n    </tr>\n    <tr>\n      <th>Nom_barri</th>\n      <td>Desconegut</td>\n    </tr>\n    <tr>\n      <th>Codi_carrer</th>\n      <td>-1</td>\n    </tr>\n    <tr>\n      <th>Nom_carrer</th>\n      <td>CTRA HTA CERDANY                              ...</td>\n    </tr>\n    <tr>\n      <th>Num_postal_caption</th>\n      <td>1</td>\n    </tr>\n    <tr>\n      <th>Descripcio_dia_setmana</th>\n      <td>Dimecres</td>\n    </tr>\n    <tr>\n      <th>Dia_setmana</th>\n      <td>Dc</td>\n    </tr>\n    <tr>\n      <th>Descripcio_tipus_dia</th>\n      <td>Laboral</td>\n    </tr>\n    <tr>\n      <th>Any</th>\n      <td>2016</td>\n    </tr>\n    <tr>\n      <th>Mes_any</th>\n      <td>3</td>\n    </tr>\n    <tr>\n      <th>Nom_mes</th>\n      <td>Març</td>\n    </tr>\n    <tr>\n      <th>Dia_mes</th>\n      <td>9</td>\n    </tr>\n    <tr>\n      <th>Hora_dia</th>\n      <td>15</td>\n    </tr>\n    <tr>\n      <th>Descripcio_torn</th>\n      <td>Tarda</td>\n    </tr>\n    <tr>\n      <th>Descripcio_tipus_accident</th>\n      <td>Xoc contra element estàtic</td>\n    </tr>\n    <tr>\n      <th>Coordenada_UTM_X</th>\n      <td>429369.52</td>\n    </tr>\n    <tr>\n      <th>Coordenada_UTM_Y</th>\n      <td>4587865.5</td>\n    </tr>\n    <tr>\n      <th>Longitud</th>\n      <td>2.15344</td>\n    </tr>\n    <tr>\n      <th>Latitud</th>\n      <td>41.437411</td>\n    </tr>\n  </tbody>\n</table>\n</div>"
     },
     "metadata": {},
     "execution_count": 45
    }
   ],
   "source": [
    "dw.datos_por_numero_expediente(lista_df_tipos, 5, '2016S001896    ', 'Numero_expedient').unstack()"
   ]
  },
  {
   "source": [
    "Una vez verificada la relación por número de expediente, se seleccionan las columnas de interés para los datasets de \"tipo de accidente\", evitando duplicados. La selección será:\n",
    "- Número de expediente\n",
    "- Tipo de accidente"
   ],
   "cell_type": "markdown",
   "metadata": {}
  },
  {
   "cell_type": "code",
   "execution_count": 48,
   "metadata": {},
   "outputs": [],
   "source": [
    "df_accidentes_tipos = dw.crear_df_tipos(lista_df_tipos)"
   ]
  },
  {
   "cell_type": "code",
   "execution_count": 49,
   "metadata": {},
   "outputs": [
    {
     "output_type": "execute_result",
     "data": {
      "text/plain": [
       "      NUMERO EXPEDIENTE              TIPO ACCIDENTE\n",
       "0           2011S007726                       Abast\n",
       "1           2011S000791    Col.lisió fronto-lateral\n",
       "2           2011S004524    Col.lisió fronto-lateral\n",
       "3           2011S002431                       Abast\n",
       "4           2011S007530               Atropellament\n",
       "...                 ...                         ...\n",
       "99183   2020S006274      Xoc contra element estàtic\n",
       "99184   2020S006275               Col.lisió lateral\n",
       "99185   2020S006276        Col.lisió fronto-lateral\n",
       "99186   2020S006277            Caiguda (dues rodes)\n",
       "99187   2020S006278      Xoc contra element estàtic\n",
       "\n",
       "[99188 rows x 2 columns]"
      ],
      "text/html": "<div>\n<style scoped>\n    .dataframe tbody tr th:only-of-type {\n        vertical-align: middle;\n    }\n\n    .dataframe tbody tr th {\n        vertical-align: top;\n    }\n\n    .dataframe thead th {\n        text-align: right;\n    }\n</style>\n<table border=\"1\" class=\"dataframe\">\n  <thead>\n    <tr style=\"text-align: right;\">\n      <th></th>\n      <th>NUMERO EXPEDIENTE</th>\n      <th>TIPO ACCIDENTE</th>\n    </tr>\n  </thead>\n  <tbody>\n    <tr>\n      <th>0</th>\n      <td>2011S007726</td>\n      <td>Abast</td>\n    </tr>\n    <tr>\n      <th>1</th>\n      <td>2011S000791</td>\n      <td>Col.lisió fronto-lateral</td>\n    </tr>\n    <tr>\n      <th>2</th>\n      <td>2011S004524</td>\n      <td>Col.lisió fronto-lateral</td>\n    </tr>\n    <tr>\n      <th>3</th>\n      <td>2011S002431</td>\n      <td>Abast</td>\n    </tr>\n    <tr>\n      <th>4</th>\n      <td>2011S007530</td>\n      <td>Atropellament</td>\n    </tr>\n    <tr>\n      <th>...</th>\n      <td>...</td>\n      <td>...</td>\n    </tr>\n    <tr>\n      <th>99183</th>\n      <td>2020S006274</td>\n      <td>Xoc contra element estàtic</td>\n    </tr>\n    <tr>\n      <th>99184</th>\n      <td>2020S006275</td>\n      <td>Col.lisió lateral</td>\n    </tr>\n    <tr>\n      <th>99185</th>\n      <td>2020S006276</td>\n      <td>Col.lisió fronto-lateral</td>\n    </tr>\n    <tr>\n      <th>99186</th>\n      <td>2020S006277</td>\n      <td>Caiguda (dues rodes)</td>\n    </tr>\n    <tr>\n      <th>99187</th>\n      <td>2020S006278</td>\n      <td>Xoc contra element estàtic</td>\n    </tr>\n  </tbody>\n</table>\n<p>99188 rows × 2 columns</p>\n</div>"
     },
     "metadata": {},
     "execution_count": 49
    }
   ],
   "source": [
    "df_accidentes_tipos"
   ]
  },
  {
   "source": [
    "---"
   ],
   "cell_type": "markdown",
   "metadata": {}
  },
  {
   "cell_type": "code",
   "execution_count": null,
   "metadata": {},
   "outputs": [],
   "source": []
  }
 ]
}