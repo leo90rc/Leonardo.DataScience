{
 "metadata": {
  "language_info": {
   "codemirror_mode": {
    "name": "ipython",
    "version": 3
   },
   "file_extension": ".py",
   "mimetype": "text/x-python",
   "name": "python",
   "nbconvert_exporter": "python",
   "pygments_lexer": "ipython3",
   "version": "3.7.4"
  },
  "orig_nbformat": 2,
  "kernelspec": {
   "name": "python374jvsc74a57bd0a0947237fadc8b5561fed326db280cc5ec46a670c87cfb3a0489cf95ff262303",
   "display_name": "Python 3.7.4 64-bit"
  },
  "metadata": {
   "interpreter": {
    "hash": "a0947237fadc8b5561fed326db280cc5ec46a670c87cfb3a0489cf95ff262303"
   }
  }
 },
 "nbformat": 4,
 "nbformat_minor": 2,
 "cells": [
  {
   "cell_type": "code",
   "execution_count": 1,
   "metadata": {},
   "outputs": [],
   "source": [
    "import pandas as pd"
   ]
  },
  {
   "cell_type": "code",
   "execution_count": 9,
   "metadata": {},
   "outputs": [
    {
     "output_type": "execute_result",
     "data": {
      "text/plain": [
       "     DATA_LECTURA DATA_EXTREM CODI_ESTACIO ACRÒNIM  VALOR\n",
       "0      2021-01-01         NaN           D5      TM    5.3\n",
       "1      2021-01-01    13:06:00           D5      TX    6.5\n",
       "2      2021-01-01    23:56:00           D5      TN    3.1\n",
       "3      2021-01-01         NaN           D5     HRM   77.0\n",
       "4      2021-01-01    10:36:00           D5     HRX   88.0\n",
       "...           ...         ...          ...     ...    ...\n",
       "6166   2021-05-01         NaN           X8   RS24h   12.5\n",
       "6167   2021-05-01         NaN           X8   VVM10    2.3\n",
       "6168   2021-05-01         NaN           X8   DVM10  335.0\n",
       "6169   2021-05-01    16:39:00           X8   VVX10    8.2\n",
       "6170   2021-05-01    16:39:00           X8  DVVX10  200.0\n",
       "\n",
       "[6171 rows x 5 columns]"
      ],
      "text/html": "<div>\n<style scoped>\n    .dataframe tbody tr th:only-of-type {\n        vertical-align: middle;\n    }\n\n    .dataframe tbody tr th {\n        vertical-align: top;\n    }\n\n    .dataframe thead th {\n        text-align: right;\n    }\n</style>\n<table border=\"1\" class=\"dataframe\">\n  <thead>\n    <tr style=\"text-align: right;\">\n      <th></th>\n      <th>DATA_LECTURA</th>\n      <th>DATA_EXTREM</th>\n      <th>CODI_ESTACIO</th>\n      <th>ACRÒNIM</th>\n      <th>VALOR</th>\n    </tr>\n  </thead>\n  <tbody>\n    <tr>\n      <th>0</th>\n      <td>2021-01-01</td>\n      <td>NaN</td>\n      <td>D5</td>\n      <td>TM</td>\n      <td>5.3</td>\n    </tr>\n    <tr>\n      <th>1</th>\n      <td>2021-01-01</td>\n      <td>13:06:00</td>\n      <td>D5</td>\n      <td>TX</td>\n      <td>6.5</td>\n    </tr>\n    <tr>\n      <th>2</th>\n      <td>2021-01-01</td>\n      <td>23:56:00</td>\n      <td>D5</td>\n      <td>TN</td>\n      <td>3.1</td>\n    </tr>\n    <tr>\n      <th>3</th>\n      <td>2021-01-01</td>\n      <td>NaN</td>\n      <td>D5</td>\n      <td>HRM</td>\n      <td>77.0</td>\n    </tr>\n    <tr>\n      <th>4</th>\n      <td>2021-01-01</td>\n      <td>10:36:00</td>\n      <td>D5</td>\n      <td>HRX</td>\n      <td>88.0</td>\n    </tr>\n    <tr>\n      <th>...</th>\n      <td>...</td>\n      <td>...</td>\n      <td>...</td>\n      <td>...</td>\n      <td>...</td>\n    </tr>\n    <tr>\n      <th>6166</th>\n      <td>2021-05-01</td>\n      <td>NaN</td>\n      <td>X8</td>\n      <td>RS24h</td>\n      <td>12.5</td>\n    </tr>\n    <tr>\n      <th>6167</th>\n      <td>2021-05-01</td>\n      <td>NaN</td>\n      <td>X8</td>\n      <td>VVM10</td>\n      <td>2.3</td>\n    </tr>\n    <tr>\n      <th>6168</th>\n      <td>2021-05-01</td>\n      <td>NaN</td>\n      <td>X8</td>\n      <td>DVM10</td>\n      <td>335.0</td>\n    </tr>\n    <tr>\n      <th>6169</th>\n      <td>2021-05-01</td>\n      <td>16:39:00</td>\n      <td>X8</td>\n      <td>VVX10</td>\n      <td>8.2</td>\n    </tr>\n    <tr>\n      <th>6170</th>\n      <td>2021-05-01</td>\n      <td>16:39:00</td>\n      <td>X8</td>\n      <td>DVVX10</td>\n      <td>200.0</td>\n    </tr>\n  </tbody>\n</table>\n<p>6171 rows × 5 columns</p>\n</div>"
     },
     "metadata": {},
     "execution_count": 9
    }
   ],
   "source": [
    "a = pd.read_csv('2021_MeteoCat_Detall_Estacions.csv')\n",
    "a"
   ]
  },
  {
   "cell_type": "code",
   "execution_count": null,
   "metadata": {},
   "outputs": [],
   "source": []
  }
 ]
}