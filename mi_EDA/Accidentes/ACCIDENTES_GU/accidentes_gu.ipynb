{
 "metadata": {
  "language_info": {
   "codemirror_mode": {
    "name": "ipython",
    "version": 3
   },
   "file_extension": ".py",
   "mimetype": "text/x-python",
   "name": "python",
   "nbconvert_exporter": "python",
   "pygments_lexer": "ipython3",
   "version": "3.7.4"
  },
  "orig_nbformat": 2,
  "kernelspec": {
   "name": "python374jvsc74a57bd0a0947237fadc8b5561fed326db280cc5ec46a670c87cfb3a0489cf95ff262303",
   "display_name": "Python 3.7.4 64-bit"
  },
  "metadata": {
   "interpreter": {
    "hash": "a0947237fadc8b5561fed326db280cc5ec46a670c87cfb3a0489cf95ff262303"
   }
  }
 },
 "nbformat": 4,
 "nbformat_minor": 2,
 "cells": [
  {
   "cell_type": "code",
   "execution_count": null,
   "metadata": {},
   "outputs": [],
   "source": [
    "import pandas as pd"
   ]
  },
  {
   "cell_type": "code",
   "execution_count": null,
   "metadata": {},
   "outputs": [],
   "source": [
    "def enlistar_dataframes_gu():\n",
    "    global lista_df_gu\n",
    "    lista_df_gu = []\n",
    "    for i in range(11,21):\n",
    "        try:\n",
    "            i = pd.read_csv('20'+str(i)+'/20'+str(i)+'_ACCIDENTS_GU_BCN_20'+str(i)+'-utf8.csv')\n",
    "        except:\n",
    "            try:\n",
    "                i = pd.read_csv('20'+str(i)+'/20'+str(i)+'_ACCIDENTS_GU_BCN_20'+str(i)+'-utf8.csv', sep=';')\n",
    "            except:\n",
    "                i = pd.read_excel('20'+str(i)+'/20'+str(i)+'_ACCIDENTS_GU_BCN_20'+str(i)+'.xlsx')\n",
    "        lista_df_gu.append(i)\n",
    "    return lista_df_gu"
   ]
  },
  {
   "cell_type": "code",
   "execution_count": null,
   "metadata": {},
   "outputs": [],
   "source": [
    "def comparar_columnas(lista_df): \n",
    "    ''' SE DEBE INGRESAR UNA LISTA DE DATAFRAMES A COMPARAR. '''\n",
    "    for i in range(len(lista_df)):\n",
    "            for j in range(1, len(lista_df)):    \n",
    "                if i < j:\n",
    "                    #print(str(i) + ' vs. ' + str(j))\n",
    "                    if len(lista_df[i].columns) == len(lista_df[j].columns):\n",
    "                        #print('--------')\n",
    "                        columnas_iguales = lista_df[i].columns == lista_df[j].columns # TRUE si coinciden, FALSE si no\n",
    "                        if all(columnas_iguales):\n",
    "                            print('Las columnas de ' + str(i) + ' (' + str(len(lista_df[i].columns)) +') y ' + str(j)+ ' (' + str(len(lista_df[j].columns)) + ') COINCIDEN.')\n",
    "                            print('======================================================')\n",
    "                            break\n",
    "                        else:\n",
    "                            print('Las columnas de ' + str(i) + ' (' + str(len(lista_df[i].columns)) +') y ' + str(j) + ' (' + str(len(lista_df[j].columns)) + ') SON DISTINTAS.')\n",
    "                            print('======================================================')\n",
    "                    else:\n",
    "                        print(str(i) +  ' (' + str(len(lista_df[i].columns))  + ') y ' + str(j) + ' (' + str(len(lista_df[j].columns)) + ') tienen distinta CANTIDAD de columnas.')\n",
    "                        print('======================================================')\n",
    "                        # print(lista_dataframes[i].columns) == lista_dataframes[j].columns)\n",
    "                        #print('-------')"
   ]
  },
  {
   "cell_type": "code",
   "execution_count": null,
   "metadata": {},
   "outputs": [],
   "source": [
    "def mostrar_columnas(lista_df):\n",
    "    ''' SE DEBE INGRESAR UNA LISTA DE DATAFRAMES '''\n",
    "    for i in range(len(lista_df)):\n",
    "        print('Columnas de dataframe en posición ' + str(i) + ':')\n",
    "        print('------------------------------------')\n",
    "        print(lista_df[i].columns)\n",
    "        print('\\nNúmero de columnas: ' + str(len(lista_df[i].columns)) + '\\n')\n",
    "        print('===========================================================================================')\n"
   ]
  },
  {
   "cell_type": "code",
   "execution_count": null,
   "metadata": {},
   "outputs": [],
   "source": [
    "enlistar_dataframes_gu()"
   ]
  },
  {
   "cell_type": "code",
   "execution_count": 24,
   "metadata": {},
   "outputs": [
    {
     "output_type": "stream",
     "name": "stdout",
     "text": [
      "Las columnas de 0 (25) y 1 (25) COINCIDEN.\n======================================================\nLas columnas de 1 (25) y 2 (25) COINCIDEN.\n======================================================\nLas columnas de 2 (25) y 3 (25) COINCIDEN.\n======================================================\nLas columnas de 3 (25) y 4 (25) SON DISTINTAS.\n======================================================\n3 (25) y 5 (27) tienen distinta CANTIDAD de columnas.\n======================================================\n3 (25) y 6 (27) tienen distinta CANTIDAD de columnas.\n======================================================\n3 (25) y 7 (27) tienen distinta CANTIDAD de columnas.\n======================================================\n3 (25) y 8 (27) tienen distinta CANTIDAD de columnas.\n======================================================\n3 (25) y 9 (27) tienen distinta CANTIDAD de columnas.\n======================================================\n4 (25) y 5 (27) tienen distinta CANTIDAD de columnas.\n======================================================\n4 (25) y 6 (27) tienen distinta CANTIDAD de columnas.\n======================================================\n4 (25) y 7 (27) tienen distinta CANTIDAD de columnas.\n======================================================\n4 (25) y 8 (27) tienen distinta CANTIDAD de columnas.\n======================================================\n4 (25) y 9 (27) tienen distinta CANTIDAD de columnas.\n======================================================\nLas columnas de 5 (27) y 6 (27) COINCIDEN.\n======================================================\nLas columnas de 6 (27) y 7 (27) SON DISTINTAS.\n======================================================\nLas columnas de 6 (27) y 8 (27) SON DISTINTAS.\n======================================================\nLas columnas de 6 (27) y 9 (27) SON DISTINTAS.\n======================================================\nLas columnas de 7 (27) y 8 (27) SON DISTINTAS.\n======================================================\nLas columnas de 7 (27) y 9 (27) SON DISTINTAS.\n======================================================\nLas columnas de 8 (27) y 9 (27) SON DISTINTAS.\n======================================================\n"
     ]
    }
   ],
   "source": [
    "comparar_columnas(lista_df_gu)"
   ]
  },
  {
   "cell_type": "code",
   "execution_count": 25,
   "metadata": {},
   "outputs": [
    {
     "output_type": "stream",
     "name": "stdout",
     "text": [
      "Columnas de dataframe en posición 0:\n------------------------------------\nIndex(['Número d'expedient', 'Codi districte', 'Nom districte', 'NK barri',\n       'Nom barri', 'Codi carrer', 'Nom carrer', 'Num postal caption',\n       'Descripció dia setmana', 'Dia de setmana', 'Descripció tipus dia',\n       'NK Any', 'Mes de any', 'Nom mes', 'Dia de mes', 'Hora de dia',\n       'Descripció torn', 'Descripció causa vianant', 'Número de morts',\n       'Número de lesionats lleus', 'Número de lesionats greus',\n       'Número de víctimes', 'Número de vehicles implicats',\n       'Coordenada UTM (Y)', 'Coordenada UTM (X)'],\n      dtype='object')\n\nNúmero de columnas: 25\n\n===========================================================================================\nColumnas de dataframe en posición 1:\n------------------------------------\nIndex(['Número d'expedient', 'Codi districte', 'Nom districte', 'NK barri',\n       'Nom barri', 'Codi carrer', 'Nom carrer', 'Num postal caption',\n       'Descripció dia setmana', 'Dia de setmana', 'Descripció tipus dia',\n       'NK Any', 'Mes de any', 'Nom mes', 'Dia de mes', 'Hora de dia',\n       'Descripció torn', 'Descripció causa vianant', 'Número de morts',\n       'Número de lesionats lleus', 'Número de lesionats greus',\n       'Número de víctimes', 'Número de vehicles implicats',\n       'Coordenada UTM (Y)', 'Coordenada UTM (X)'],\n      dtype='object')\n\nNúmero de columnas: 25\n\n===========================================================================================\nColumnas de dataframe en posición 2:\n------------------------------------\nIndex(['Número d'expedient', 'Codi districte', 'Nom districte', 'NK barri',\n       'Nom barri', 'Codi carrer', 'Nom carrer', 'Num postal caption',\n       'Descripció dia setmana', 'Dia de setmana', 'Descripció tipus dia',\n       'NK Any', 'Mes de any', 'Nom mes', 'Dia de mes', 'Hora de dia',\n       'Descripció torn', 'Descripció causa vianant', 'Número de morts',\n       'Número de lesionats lleus', 'Número de lesionats greus',\n       'Número de víctimes', 'Número de vehicles implicats',\n       'Coordenada UTM (Y)', 'Coordenada UTM (X)'],\n      dtype='object')\n\nNúmero de columnas: 25\n\n===========================================================================================\nColumnas de dataframe en posición 3:\n------------------------------------\nIndex(['Número d'expedient', 'Codi districte', 'Nom districte', 'NK barri',\n       'Nom barri', 'Codi carrer', 'Nom carrer', 'Num postal caption',\n       'Descripció dia setmana', 'Dia de setmana', 'Descripció tipus dia',\n       'NK Any', 'Mes de any', 'Nom mes', 'Dia de mes', 'Hora de dia',\n       'Descripció torn', 'Descripció causa vianant', 'Número de morts',\n       'Número de lesionats lleus', 'Número de lesionats greus',\n       'Número de víctimes', 'Número de vehicles implicats',\n       'Coordenada UTM (Y)', 'Coordenada UTM (X)'],\n      dtype='object')\n\nNúmero de columnas: 25\n\n===========================================================================================\nColumnas de dataframe en posición 4:\n------------------------------------\nIndex(['Número d expedient', 'Codi districte', 'Nom districte', 'Codi barri',\n       'Nom barri', 'Codi carrer', 'Nom carrer', 'Num postal caption',\n       'Descripció dia setmana', 'Dia setmana', 'Descripció tipus dia',\n       'NK Any', 'Mes de any', 'Nom mes', 'Dia de mes', 'Hora de dia',\n       'Descripció torn', 'Descripció causa vianant', 'Número de morts',\n       'Número de lesionats lleus', 'Número de lesionats greus',\n       'Número de víctimes', 'Número de vehicles implicats',\n       'Coordenada UTM (Y)', 'Coordenada UTM (X)'],\n      dtype='object')\n\nNúmero de columnas: 25\n\n===========================================================================================\nColumnas de dataframe en posición 5:\n------------------------------------\nIndex(['Numero_expedient', 'Codi_districte', 'Nom_districte', 'Codi_barri',\n       'Nom_barri', 'Codi_carrer', 'Nom_carrer', 'Num_postal',\n       'Descripcio_dia_setmana', 'Dia_setmana', 'Descripcio_tipus_dia', 'Any',\n       'Mes_any', 'Nom_mes', 'Dia_mes', 'Hora_dia', 'Descripcio_torn',\n       'Descripcio_causa_vianant', 'Numero_morts', 'Numero_lesionats_lleus',\n       'Numero_lesionats_greus', 'Numero_victimes',\n       'Numero_vehicles_implicats', 'Coordenada_UTM_X', 'Coordenada_UTM_Y',\n       'Longitud', 'Latitud'],\n      dtype='object')\n\nNúmero de columnas: 27\n\n===========================================================================================\nColumnas de dataframe en posición 6:\n------------------------------------\nIndex(['Numero_expedient', 'Codi_districte', 'Nom_districte', 'Codi_barri',\n       'Nom_barri', 'Codi_carrer', 'Nom_carrer', 'Num_postal',\n       'Descripcio_dia_setmana', 'Dia_setmana', 'Descripcio_tipus_dia', 'Any',\n       'Mes_any', 'Nom_mes', 'Dia_mes', 'Hora_dia', 'Descripcio_torn',\n       'Descripcio_causa_vianant', 'Numero_morts', 'Numero_lesionats_lleus',\n       'Numero_lesionats_greus', 'Numero_victimes',\n       'Numero_vehicles_implicats', 'Coordenada_UTM_X', 'Coordenada_UTM_Y',\n       'Longitud', 'Latitud'],\n      dtype='object')\n\nNúmero de columnas: 27\n\n===========================================================================================\nColumnas de dataframe en posición 7:\n------------------------------------\nIndex(['Numero_expedient', 'Codi_districte', 'Nom_districte', 'Codi_barri',\n       'Nom_barri', 'Codi_carrer', 'Nom_carrer', 'Num_postal ',\n       'Descripcio_dia_setmana', 'Dia_setmana', 'Descripcio_tipus_dia', 'Any',\n       'Mes_any', 'Nom_mes', 'Dia_mes', 'Hora_dia', 'Descripcio_torn',\n       'Descripcio_causa_vianant', 'Numero_morts', 'Numero_lesionats_lleus',\n       'Numero_lesionats_greus', 'Numero_victimes',\n       'Numero_vehicles_implicats', 'Coordenada_UTM_X', 'Coordenada_UTM_Y',\n       'Longitud', 'Latitud'],\n      dtype='object')\n\nNúmero de columnas: 27\n\n===========================================================================================\nColumnas de dataframe en posición 8:\n------------------------------------\nIndex(['Numero_expedient', 'Codi_districte', 'Nom_districte', 'Codi_barri',\n       'Nom_barri', 'Codi_carrer', 'Nom_carrer', 'Num_postal_caption',\n       'Descripcio_dia_setmana', 'Dia_setmana', 'Descripcio_tipus_dia',\n       'NK_Any', 'Mes_any', 'Nom_mes', 'Dia_mes', 'Hora_dia',\n       'Descripcio_torn', 'Descripcio_causa_vianant', 'Numero_morts',\n       'Numero_lesionats_lleus', 'Numero_lesionats_greus', 'Numero_victimes',\n       'Numero_vehicles_implicats', 'Coordenada_UTM_X', 'Coordenada_UTM_Y',\n       'Longitud', 'Latitud'],\n      dtype='object')\n\nNúmero de columnas: 27\n\n===========================================================================================\nColumnas de dataframe en posición 9:\n------------------------------------\nIndex(['Numero_expedient', 'Codi_districte', 'Nom_districte', 'Codi_barri',\n       'Nom_barri', 'Codi_carrer', 'Nom_carrer', 'Num_postal_caption',\n       'Descripcio_dia_setmana', 'Dia_setmana', 'Descripcio_tipus_dia',\n       'NK_Any', 'Mes_any', 'Nom_mes', 'Dia_mes', 'Hora_dia',\n       'Descripcio_torn', 'Descripcio_causa_vianant', 'Numero_morts',\n       'Numero_lesionats_lleus', 'Numero_lesionats_greus', 'Numero_victimes',\n       'Numero_vehicles_implicats', 'Coordenada_UTM_Y', 'Coordenada_UTM_X',\n       'Longitud', 'Latitud'],\n      dtype='object')\n\nNúmero de columnas: 27\n\n===========================================================================================\n"
     ]
    }
   ],
   "source": [
    "mostrar_columnas(lista_df_gu)"
   ]
  },
  {
   "cell_type": "code",
   "execution_count": 32,
   "metadata": {},
   "outputs": [
    {
     "output_type": "execute_result",
     "data": {
      "text/plain": [
       "array([False,  True,  True, False,  True,  True,  True,  True,  True,\n",
       "       False,  True,  True,  True,  True,  True,  True,  True,  True,\n",
       "        True,  True,  True,  True,  True,  True,  True])"
      ]
     },
     "metadata": {},
     "execution_count": 32
    }
   ],
   "source": [
    "lista_df_gu[3].columns == lista_df_gu[4].columns"
   ]
  },
  {
   "cell_type": "code",
   "execution_count": null,
   "metadata": {},
   "outputs": [],
   "source": []
  }
 ]
}