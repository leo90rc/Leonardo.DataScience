{
 "metadata": {
  "language_info": {
   "codemirror_mode": {
    "name": "ipython",
    "version": 3
   },
   "file_extension": ".py",
   "mimetype": "text/x-python",
   "name": "python",
   "nbconvert_exporter": "python",
   "pygments_lexer": "ipython3",
   "version": "3.7.4"
  },
  "orig_nbformat": 2,
  "kernelspec": {
   "name": "python374jvsc74a57bd0a0947237fadc8b5561fed326db280cc5ec46a670c87cfb3a0489cf95ff262303",
   "display_name": "Python 3.7.4 64-bit"
  },
  "metadata": {
   "interpreter": {
    "hash": "a0947237fadc8b5561fed326db280cc5ec46a670c87cfb3a0489cf95ff262303"
   }
  }
 },
 "nbformat": 4,
 "nbformat_minor": 2,
 "cells": [
  {
   "cell_type": "code",
   "execution_count": 1,
   "metadata": {},
   "outputs": [],
   "source": [
    "import pandas as pd"
   ]
  },
  {
   "cell_type": "code",
   "execution_count": 2,
   "metadata": {},
   "outputs": [],
   "source": [
    "def enlistar_dataframes_gu(porcion_fichero):\n",
    "    ''' El argumento debe ser la porción del fichero correspondiente (str). '''\n",
    "    global lista_df_gu\n",
    "    lista_df_gu = []\n",
    "    for i in range(11,21):\n",
    "        try:\n",
    "            i = pd.read_csv('20'+str(i)+'/20'+str(i)+ porcion_fichero +str(i)+'-utf8.csv')\n",
    "        except:\n",
    "            try:\n",
    "                i = pd.read_csv('20'+str(i)+'/20'+str(i)+ porcion_fichero +str(i)+'-utf8.csv', sep=';')\n",
    "            except:\n",
    "                i = pd.read_excel('20'+str(i)+'/20'+str(i)+ porcion_fichero +str(i)+'.xlsx')\n",
    "        lista_df_gu.append(i)\n",
    "\n",
    "\n",
    "\n",
    "def columna_vs_columna(posicion_df1, posicion_df2):\n",
    "    ''' Compara los nombres de las columnas de 2 dataframes que se encuentran en una lista, tomando como argumento la posición de dicho dataframe en la lista.\n",
    "    \n",
    "    Tener en cuenta que, para aplicarla, ambos dataframes deben tener la misma cantidad de columnas. '''\n",
    "    try:\n",
    "        for pos, valor in enumerate(lista_df_gu[posicion_df1].columns == lista_df_gu[posicion_df2].columns):\n",
    "            if valor == False:\n",
    "                print('         Posición de columna diferente: ' + str(pos))\n",
    "                print('         ---------------------------------')\n",
    "                print('         Columna de DF en posición ' + str(posicion_df1) + ': ' + lista_df_gu[posicion_df1].columns[pos])\n",
    "                print('         Columna de DF en posición ' + str(posicion_df2) + ': ' + lista_df_gu[posicion_df2].columns[pos])\n",
    "                print('         ================================================\\n')\n",
    "    except:\n",
    "        print('Los dataframes a comparar deben tener la misma cantidad de columnas.')\n",
    "\n",
    "\n",
    "\n",
    "def comparar_columnas(lista_df): \n",
    "    ''' SE DEBE INGRESAR UNA LISTA DE DATAFRAMES A COMPARAR. '''\n",
    "    for i in range(len(lista_df)):\n",
    "            for j in range(1, len(lista_df)):    \n",
    "                if i < j:\n",
    "                    if len(lista_df[i].columns) == len(lista_df[j].columns):\n",
    "                        columnas_iguales = lista_df[i].columns == lista_df[j].columns # TRUE si coinciden, FALSE si no\n",
    "                        if all(columnas_iguales):\n",
    "                            print('Las columnas de ' + str(i) + ' (' + str(len(lista_df[i].columns)) +') y ' + str(j)+ ' (' + str(len(lista_df[j].columns)) + ') COINCIDEN.')\n",
    "                            print('======================================================')\n",
    "                            break\n",
    "                        else:\n",
    "                            print('\\nLas columnas de ' + str(i) + ' (' + str(len(lista_df[i].columns)) +') y ' + str(j) + ' (' + str(len(lista_df[j].columns)) + ') SON DISTINTAS.\\n')\n",
    "                            columna_vs_columna(i,j)\n",
    "                    else:\n",
    "                        print(str(i) +  ' (' + str(len(lista_df[i].columns))  + ') y ' + str(j) + ' (' + str(len(lista_df[j].columns)) + ') tienen distinta CANTIDAD de columnas.')\n",
    "                        print('======================================================')\n",
    "\n",
    "\n",
    "\n",
    "def mostrar_columnas(lista_df):\n",
    "    ''' SE DEBE INGRESAR UNA LISTA DE DATAFRAMES '''\n",
    "    for i in range(len(lista_df)):\n",
    "        print('Columnas de dataframe en posición ' + str(i) + ':')\n",
    "        print('------------------------------------')\n",
    "        print(lista_df[i].columns)\n",
    "        print('\\nNúmero de columnas: ' + str(len(lista_df[i].columns)) + '\\n')\n",
    "        print('===========================================================================================')\n",
    "\n",
    "\n",
    "\n",
    "def nombre_cada_columna(lista_dataframes):\n",
    "    tamanio_columnas = []\n",
    "    for df in lista_dataframes:\n",
    "        tamanio_columnas.append(len(df.columns))\n",
    "        a = max(tamanio_columnas)\n",
    "    for i in range(0,a):\n",
    "        print('Columna en posición ' + str(i) + '\\n')\n",
    "        for j in range(len(lista_dataframes)):\n",
    "            try:\n",
    "                print('DF en posición ' + str (j) + ': ' + str(lista_dataframes[j].columns[i]))\n",
    "            except:\n",
    "                print('DF en posición ' + str (j) + ': No contiene columnas en la posición ' + str(i))\n",
    "        print('\\n-------------------------------------\\n')\n",
    "\n",
    "\n",
    "\n",
    "def ver_ultimas_columnas(lista_dataframes):\n",
    "    tamanio_columnas = []\n",
    "    for df in lista_dataframes:\n",
    "        tamanio_columnas.append(len(df.columns))\n",
    "        a = max(tamanio_columnas)\n",
    "    for i in range(len(lista_dataframes)):\n",
    "        if len(lista_dataframes[i].columns) == (a-2):\n",
    "            print('Posición del DF ' + str(i) + ': '+ str(list(lista_dataframes[i].columns[-2::])))\n",
    "        elif len(lista_dataframes[i].columns) == a:\n",
    "            print('Posición del DF ' + str(i) + ': ' + str(list(lista_dataframes[i].columns[-4::])))\n",
    "\n",
    "\n",
    "\n",
    "def eliminar_columnas_finales(lista_dataframes):\n",
    "    tamanio_columnas = []\n",
    "    for df in lista_dataframes:\n",
    "        tamanio_columnas.append(len(df.columns))\n",
    "        a = max(tamanio_columnas)\n",
    "    for i in range(len(lista_dataframes)):\n",
    "        if len(lista_dataframes[i].columns) == a:\n",
    "            lista_dataframes[i] = lista_dataframes[i].iloc[:,:(a-2)]\n",
    "\n",
    "\n",
    "\n",
    "def ordenar_columnas_finales(lista_dataframes):\n",
    "    tamanio_columnas = []\n",
    "    for df in lista_dataframes:\n",
    "        tamanio_columnas.append(len(df.columns))\n",
    "        a = max(tamanio_columnas)\n",
    "    for i in range(len(lista_dataframes)):\n",
    "        if (lista_dataframes[i].columns[-1] == 'Coordenada UTM (X)') or (lista_dataframes[i].columns[-1] == 'Coordenada_UTM_X'):\n",
    "            col = lista_dataframes[i].columns.to_list()\n",
    "            col2 = col[0:(a-2)] + col[-1:] + col[-2:-1]\n",
    "            lista_dataframes[i] = lista_dataframes[i][col2]\n",
    "\n",
    "\n",
    "\n",
    "def renombrar_columnas(lista_dataframes, lista_nombres):\n",
    "    for i in range(len(lista_dataframes)):\n",
    "        lista_dataframes[i].columns = lista_nombres\n",
    "\n",
    "\n",
    "\n",
    "def unificar_lista_dataframe(lista_dataframes):\n",
    "    global df_gu \n",
    "    df_gu = pd.DataFrame()\n",
    "    for i in range(1, len(lista_dataframes)):\n",
    "        df_gu = df_gu.append(lista_dataframes[i], ignore_index = True)"
   ]
  },
  {
   "cell_type": "code",
   "execution_count": 3,
   "metadata": {},
   "outputs": [],
   "source": [
    "porcion_fichero = '_ACCIDENTS_GU_BCN_20'"
   ]
  },
  {
   "cell_type": "code",
   "execution_count": 4,
   "metadata": {},
   "outputs": [],
   "source": [
    "enlistar_dataframes_gu(porcion_fichero)"
   ]
  },
  {
   "cell_type": "code",
   "execution_count": 5,
   "metadata": {},
   "outputs": [
    {
     "output_type": "stream",
     "name": "stdout",
     "text": [
      "Las columnas de 0 (25) y 1 (25) COINCIDEN.\n======================================================\nLas columnas de 1 (25) y 2 (25) COINCIDEN.\n======================================================\nLas columnas de 2 (25) y 3 (25) COINCIDEN.\n======================================================\n\nLas columnas de 3 (25) y 4 (25) SON DISTINTAS.\n\n         Posición de columna diferente: 0\n         ---------------------------------\n         Columna de DF en posición 3: Número d'expedient\n         Columna de DF en posición 4: Número d expedient\n         ================================================\n\n         Posición de columna diferente: 3\n         ---------------------------------\n         Columna de DF en posición 3: NK barri\n         Columna de DF en posición 4: Codi barri\n         ================================================\n\n         Posición de columna diferente: 9\n         ---------------------------------\n         Columna de DF en posición 3: Dia de setmana\n         Columna de DF en posición 4: Dia setmana\n         ================================================\n\n3 (25) y 5 (27) tienen distinta CANTIDAD de columnas.\n======================================================\n3 (25) y 6 (27) tienen distinta CANTIDAD de columnas.\n======================================================\n3 (25) y 7 (27) tienen distinta CANTIDAD de columnas.\n======================================================\n3 (25) y 8 (27) tienen distinta CANTIDAD de columnas.\n======================================================\n3 (25) y 9 (27) tienen distinta CANTIDAD de columnas.\n======================================================\n4 (25) y 5 (27) tienen distinta CANTIDAD de columnas.\n======================================================\n4 (25) y 6 (27) tienen distinta CANTIDAD de columnas.\n======================================================\n4 (25) y 7 (27) tienen distinta CANTIDAD de columnas.\n======================================================\n4 (25) y 8 (27) tienen distinta CANTIDAD de columnas.\n======================================================\n4 (25) y 9 (27) tienen distinta CANTIDAD de columnas.\n======================================================\nLas columnas de 5 (27) y 6 (27) COINCIDEN.\n======================================================\n\nLas columnas de 6 (27) y 7 (27) SON DISTINTAS.\n\n         Posición de columna diferente: 7\n         ---------------------------------\n         Columna de DF en posición 6: Num_postal\n         Columna de DF en posición 7: Num_postal \n         ================================================\n\n\nLas columnas de 6 (27) y 8 (27) SON DISTINTAS.\n\n         Posición de columna diferente: 7\n         ---------------------------------\n         Columna de DF en posición 6: Num_postal\n         Columna de DF en posición 8: Num_postal_caption\n         ================================================\n\n         Posición de columna diferente: 11\n         ---------------------------------\n         Columna de DF en posición 6: Any\n         Columna de DF en posición 8: NK_Any\n         ================================================\n\n\nLas columnas de 6 (27) y 9 (27) SON DISTINTAS.\n\n         Posición de columna diferente: 7\n         ---------------------------------\n         Columna de DF en posición 6: Num_postal\n         Columna de DF en posición 9: Num_postal_caption\n         ================================================\n\n         Posición de columna diferente: 11\n         ---------------------------------\n         Columna de DF en posición 6: Any\n         Columna de DF en posición 9: NK_Any\n         ================================================\n\n         Posición de columna diferente: 23\n         ---------------------------------\n         Columna de DF en posición 6: Coordenada_UTM_X\n         Columna de DF en posición 9: Coordenada_UTM_Y\n         ================================================\n\n         Posición de columna diferente: 24\n         ---------------------------------\n         Columna de DF en posición 6: Coordenada_UTM_Y\n         Columna de DF en posición 9: Coordenada_UTM_X\n         ================================================\n\n\nLas columnas de 7 (27) y 8 (27) SON DISTINTAS.\n\n         Posición de columna diferente: 7\n         ---------------------------------\n         Columna de DF en posición 7: Num_postal \n         Columna de DF en posición 8: Num_postal_caption\n         ================================================\n\n         Posición de columna diferente: 11\n         ---------------------------------\n         Columna de DF en posición 7: Any\n         Columna de DF en posición 8: NK_Any\n         ================================================\n\n\nLas columnas de 7 (27) y 9 (27) SON DISTINTAS.\n\n         Posición de columna diferente: 7\n         ---------------------------------\n         Columna de DF en posición 7: Num_postal \n         Columna de DF en posición 9: Num_postal_caption\n         ================================================\n\n         Posición de columna diferente: 11\n         ---------------------------------\n         Columna de DF en posición 7: Any\n         Columna de DF en posición 9: NK_Any\n         ================================================\n\n         Posición de columna diferente: 23\n         ---------------------------------\n         Columna de DF en posición 7: Coordenada_UTM_X\n         Columna de DF en posición 9: Coordenada_UTM_Y\n         ================================================\n\n         Posición de columna diferente: 24\n         ---------------------------------\n         Columna de DF en posición 7: Coordenada_UTM_Y\n         Columna de DF en posición 9: Coordenada_UTM_X\n         ================================================\n\n\nLas columnas de 8 (27) y 9 (27) SON DISTINTAS.\n\n         Posición de columna diferente: 23\n         ---------------------------------\n         Columna de DF en posición 8: Coordenada_UTM_X\n         Columna de DF en posición 9: Coordenada_UTM_Y\n         ================================================\n\n         Posición de columna diferente: 24\n         ---------------------------------\n         Columna de DF en posición 8: Coordenada_UTM_Y\n         Columna de DF en posición 9: Coordenada_UTM_X\n         ================================================\n\n"
     ]
    }
   ],
   "source": [
    "comparar_columnas(lista_df_gu)"
   ]
  },
  {
   "cell_type": "code",
   "execution_count": 6,
   "metadata": {},
   "outputs": [
    {
     "output_type": "stream",
     "name": "stdout",
     "text": [
      "Columnas de dataframe en posición 0:\n------------------------------------\nIndex(['Número d'expedient', 'Codi districte', 'Nom districte', 'NK barri',\n       'Nom barri', 'Codi carrer', 'Nom carrer', 'Num postal caption',\n       'Descripció dia setmana', 'Dia de setmana', 'Descripció tipus dia',\n       'NK Any', 'Mes de any', 'Nom mes', 'Dia de mes', 'Hora de dia',\n       'Descripció torn', 'Descripció causa vianant', 'Número de morts',\n       'Número de lesionats lleus', 'Número de lesionats greus',\n       'Número de víctimes', 'Número de vehicles implicats',\n       'Coordenada UTM (Y)', 'Coordenada UTM (X)'],\n      dtype='object')\n\nNúmero de columnas: 25\n\n===========================================================================================\nColumnas de dataframe en posición 1:\n------------------------------------\nIndex(['Número d'expedient', 'Codi districte', 'Nom districte', 'NK barri',\n       'Nom barri', 'Codi carrer', 'Nom carrer', 'Num postal caption',\n       'Descripció dia setmana', 'Dia de setmana', 'Descripció tipus dia',\n       'NK Any', 'Mes de any', 'Nom mes', 'Dia de mes', 'Hora de dia',\n       'Descripció torn', 'Descripció causa vianant', 'Número de morts',\n       'Número de lesionats lleus', 'Número de lesionats greus',\n       'Número de víctimes', 'Número de vehicles implicats',\n       'Coordenada UTM (Y)', 'Coordenada UTM (X)'],\n      dtype='object')\n\nNúmero de columnas: 25\n\n===========================================================================================\nColumnas de dataframe en posición 2:\n------------------------------------\nIndex(['Número d'expedient', 'Codi districte', 'Nom districte', 'NK barri',\n       'Nom barri', 'Codi carrer', 'Nom carrer', 'Num postal caption',\n       'Descripció dia setmana', 'Dia de setmana', 'Descripció tipus dia',\n       'NK Any', 'Mes de any', 'Nom mes', 'Dia de mes', 'Hora de dia',\n       'Descripció torn', 'Descripció causa vianant', 'Número de morts',\n       'Número de lesionats lleus', 'Número de lesionats greus',\n       'Número de víctimes', 'Número de vehicles implicats',\n       'Coordenada UTM (Y)', 'Coordenada UTM (X)'],\n      dtype='object')\n\nNúmero de columnas: 25\n\n===========================================================================================\nColumnas de dataframe en posición 3:\n------------------------------------\nIndex(['Número d'expedient', 'Codi districte', 'Nom districte', 'NK barri',\n       'Nom barri', 'Codi carrer', 'Nom carrer', 'Num postal caption',\n       'Descripció dia setmana', 'Dia de setmana', 'Descripció tipus dia',\n       'NK Any', 'Mes de any', 'Nom mes', 'Dia de mes', 'Hora de dia',\n       'Descripció torn', 'Descripció causa vianant', 'Número de morts',\n       'Número de lesionats lleus', 'Número de lesionats greus',\n       'Número de víctimes', 'Número de vehicles implicats',\n       'Coordenada UTM (Y)', 'Coordenada UTM (X)'],\n      dtype='object')\n\nNúmero de columnas: 25\n\n===========================================================================================\nColumnas de dataframe en posición 4:\n------------------------------------\nIndex(['Número d expedient', 'Codi districte', 'Nom districte', 'Codi barri',\n       'Nom barri', 'Codi carrer', 'Nom carrer', 'Num postal caption',\n       'Descripció dia setmana', 'Dia setmana', 'Descripció tipus dia',\n       'NK Any', 'Mes de any', 'Nom mes', 'Dia de mes', 'Hora de dia',\n       'Descripció torn', 'Descripció causa vianant', 'Número de morts',\n       'Número de lesionats lleus', 'Número de lesionats greus',\n       'Número de víctimes', 'Número de vehicles implicats',\n       'Coordenada UTM (Y)', 'Coordenada UTM (X)'],\n      dtype='object')\n\nNúmero de columnas: 25\n\n===========================================================================================\nColumnas de dataframe en posición 5:\n------------------------------------\nIndex(['Numero_expedient', 'Codi_districte', 'Nom_districte', 'Codi_barri',\n       'Nom_barri', 'Codi_carrer', 'Nom_carrer', 'Num_postal',\n       'Descripcio_dia_setmana', 'Dia_setmana', 'Descripcio_tipus_dia', 'Any',\n       'Mes_any', 'Nom_mes', 'Dia_mes', 'Hora_dia', 'Descripcio_torn',\n       'Descripcio_causa_vianant', 'Numero_morts', 'Numero_lesionats_lleus',\n       'Numero_lesionats_greus', 'Numero_victimes',\n       'Numero_vehicles_implicats', 'Coordenada_UTM_X', 'Coordenada_UTM_Y',\n       'Longitud', 'Latitud'],\n      dtype='object')\n\nNúmero de columnas: 27\n\n===========================================================================================\nColumnas de dataframe en posición 6:\n------------------------------------\nIndex(['Numero_expedient', 'Codi_districte', 'Nom_districte', 'Codi_barri',\n       'Nom_barri', 'Codi_carrer', 'Nom_carrer', 'Num_postal',\n       'Descripcio_dia_setmana', 'Dia_setmana', 'Descripcio_tipus_dia', 'Any',\n       'Mes_any', 'Nom_mes', 'Dia_mes', 'Hora_dia', 'Descripcio_torn',\n       'Descripcio_causa_vianant', 'Numero_morts', 'Numero_lesionats_lleus',\n       'Numero_lesionats_greus', 'Numero_victimes',\n       'Numero_vehicles_implicats', 'Coordenada_UTM_X', 'Coordenada_UTM_Y',\n       'Longitud', 'Latitud'],\n      dtype='object')\n\nNúmero de columnas: 27\n\n===========================================================================================\nColumnas de dataframe en posición 7:\n------------------------------------\nIndex(['Numero_expedient', 'Codi_districte', 'Nom_districte', 'Codi_barri',\n       'Nom_barri', 'Codi_carrer', 'Nom_carrer', 'Num_postal ',\n       'Descripcio_dia_setmana', 'Dia_setmana', 'Descripcio_tipus_dia', 'Any',\n       'Mes_any', 'Nom_mes', 'Dia_mes', 'Hora_dia', 'Descripcio_torn',\n       'Descripcio_causa_vianant', 'Numero_morts', 'Numero_lesionats_lleus',\n       'Numero_lesionats_greus', 'Numero_victimes',\n       'Numero_vehicles_implicats', 'Coordenada_UTM_X', 'Coordenada_UTM_Y',\n       'Longitud', 'Latitud'],\n      dtype='object')\n\nNúmero de columnas: 27\n\n===========================================================================================\nColumnas de dataframe en posición 8:\n------------------------------------\nIndex(['Numero_expedient', 'Codi_districte', 'Nom_districte', 'Codi_barri',\n       'Nom_barri', 'Codi_carrer', 'Nom_carrer', 'Num_postal_caption',\n       'Descripcio_dia_setmana', 'Dia_setmana', 'Descripcio_tipus_dia',\n       'NK_Any', 'Mes_any', 'Nom_mes', 'Dia_mes', 'Hora_dia',\n       'Descripcio_torn', 'Descripcio_causa_vianant', 'Numero_morts',\n       'Numero_lesionats_lleus', 'Numero_lesionats_greus', 'Numero_victimes',\n       'Numero_vehicles_implicats', 'Coordenada_UTM_X', 'Coordenada_UTM_Y',\n       'Longitud', 'Latitud'],\n      dtype='object')\n\nNúmero de columnas: 27\n\n===========================================================================================\nColumnas de dataframe en posición 9:\n------------------------------------\nIndex(['Numero_expedient', 'Codi_districte', 'Nom_districte', 'Codi_barri',\n       'Nom_barri', 'Codi_carrer', 'Nom_carrer', 'Num_postal_caption',\n       'Descripcio_dia_setmana', 'Dia_setmana', 'Descripcio_tipus_dia',\n       'NK_Any', 'Mes_any', 'Nom_mes', 'Dia_mes', 'Hora_dia',\n       'Descripcio_torn', 'Descripcio_causa_vianant', 'Numero_morts',\n       'Numero_lesionats_lleus', 'Numero_lesionats_greus', 'Numero_victimes',\n       'Numero_vehicles_implicats', 'Coordenada_UTM_Y', 'Coordenada_UTM_X',\n       'Longitud', 'Latitud'],\n      dtype='object')\n\nNúmero de columnas: 27\n\n===========================================================================================\n"
     ]
    }
   ],
   "source": [
    "mostrar_columnas(lista_df_gu)"
   ]
  },
  {
   "cell_type": "code",
   "execution_count": 7,
   "metadata": {},
   "outputs": [
    {
     "output_type": "stream",
     "name": "stdout",
     "text": [
      "Columna en posición 0\n\nDF en posición 0: Número d'expedient\nDF en posición 1: Número d'expedient\nDF en posición 2: Número d'expedient\nDF en posición 3: Número d'expedient\nDF en posición 4: Número d expedient\nDF en posición 5: Numero_expedient\nDF en posición 6: Numero_expedient\nDF en posición 7: Numero_expedient\nDF en posición 8: Numero_expedient\nDF en posición 9: Numero_expedient\n\n-------------------------------------\n\nColumna en posición 1\n\nDF en posición 0: Codi districte\nDF en posición 1: Codi districte\nDF en posición 2: Codi districte\nDF en posición 3: Codi districte\nDF en posición 4: Codi districte\nDF en posición 5: Codi_districte\nDF en posición 6: Codi_districte\nDF en posición 7: Codi_districte\nDF en posición 8: Codi_districte\nDF en posición 9: Codi_districte\n\n-------------------------------------\n\nColumna en posición 2\n\nDF en posición 0: Nom districte\nDF en posición 1: Nom districte\nDF en posición 2: Nom districte\nDF en posición 3: Nom districte\nDF en posición 4: Nom districte\nDF en posición 5: Nom_districte\nDF en posición 6: Nom_districte\nDF en posición 7: Nom_districte\nDF en posición 8: Nom_districte\nDF en posición 9: Nom_districte\n\n-------------------------------------\n\nColumna en posición 3\n\nDF en posición 0: NK barri\nDF en posición 1: NK barri\nDF en posición 2: NK barri\nDF en posición 3: NK barri\nDF en posición 4: Codi barri\nDF en posición 5: Codi_barri\nDF en posición 6: Codi_barri\nDF en posición 7: Codi_barri\nDF en posición 8: Codi_barri\nDF en posición 9: Codi_barri\n\n-------------------------------------\n\nColumna en posición 4\n\nDF en posición 0: Nom barri\nDF en posición 1: Nom barri\nDF en posición 2: Nom barri\nDF en posición 3: Nom barri\nDF en posición 4: Nom barri\nDF en posición 5: Nom_barri\nDF en posición 6: Nom_barri\nDF en posición 7: Nom_barri\nDF en posición 8: Nom_barri\nDF en posición 9: Nom_barri\n\n-------------------------------------\n\nColumna en posición 5\n\nDF en posición 0: Codi carrer\nDF en posición 1: Codi carrer\nDF en posición 2: Codi carrer\nDF en posición 3: Codi carrer\nDF en posición 4: Codi carrer\nDF en posición 5: Codi_carrer\nDF en posición 6: Codi_carrer\nDF en posición 7: Codi_carrer\nDF en posición 8: Codi_carrer\nDF en posición 9: Codi_carrer\n\n-------------------------------------\n\nColumna en posición 6\n\nDF en posición 0: Nom carrer\nDF en posición 1: Nom carrer\nDF en posición 2: Nom carrer\nDF en posición 3: Nom carrer\nDF en posición 4: Nom carrer\nDF en posición 5: Nom_carrer\nDF en posición 6: Nom_carrer\nDF en posición 7: Nom_carrer\nDF en posición 8: Nom_carrer\nDF en posición 9: Nom_carrer\n\n-------------------------------------\n\nColumna en posición 7\n\nDF en posición 0: Num postal caption\nDF en posición 1: Num postal caption\nDF en posición 2: Num postal caption\nDF en posición 3: Num postal caption\nDF en posición 4: Num postal caption\nDF en posición 5: Num_postal\nDF en posición 6: Num_postal\nDF en posición 7: Num_postal \nDF en posición 8: Num_postal_caption\nDF en posición 9: Num_postal_caption\n\n-------------------------------------\n\nColumna en posición 8\n\nDF en posición 0: Descripció dia setmana\nDF en posición 1: Descripció dia setmana\nDF en posición 2: Descripció dia setmana\nDF en posición 3: Descripció dia setmana\nDF en posición 4: Descripció dia setmana\nDF en posición 5: Descripcio_dia_setmana\nDF en posición 6: Descripcio_dia_setmana\nDF en posición 7: Descripcio_dia_setmana\nDF en posición 8: Descripcio_dia_setmana\nDF en posición 9: Descripcio_dia_setmana\n\n-------------------------------------\n\nColumna en posición 9\n\nDF en posición 0: Dia de setmana\nDF en posición 1: Dia de setmana\nDF en posición 2: Dia de setmana\nDF en posición 3: Dia de setmana\nDF en posición 4: Dia setmana\nDF en posición 5: Dia_setmana\nDF en posición 6: Dia_setmana\nDF en posición 7: Dia_setmana\nDF en posición 8: Dia_setmana\nDF en posición 9: Dia_setmana\n\n-------------------------------------\n\nColumna en posición 10\n\nDF en posición 0: Descripció tipus dia\nDF en posición 1: Descripció tipus dia\nDF en posición 2: Descripció tipus dia\nDF en posición 3: Descripció tipus dia\nDF en posición 4: Descripció tipus dia\nDF en posición 5: Descripcio_tipus_dia\nDF en posición 6: Descripcio_tipus_dia\nDF en posición 7: Descripcio_tipus_dia\nDF en posición 8: Descripcio_tipus_dia\nDF en posición 9: Descripcio_tipus_dia\n\n-------------------------------------\n\nColumna en posición 11\n\nDF en posición 0: NK Any\nDF en posición 1: NK Any\nDF en posición 2: NK Any\nDF en posición 3: NK Any\nDF en posición 4: NK Any\nDF en posición 5: Any\nDF en posición 6: Any\nDF en posición 7: Any\nDF en posición 8: NK_Any\nDF en posición 9: NK_Any\n\n-------------------------------------\n\nColumna en posición 12\n\nDF en posición 0: Mes de any\nDF en posición 1: Mes de any\nDF en posición 2: Mes de any\nDF en posición 3: Mes de any\nDF en posición 4: Mes de any\nDF en posición 5: Mes_any\nDF en posición 6: Mes_any\nDF en posición 7: Mes_any\nDF en posición 8: Mes_any\nDF en posición 9: Mes_any\n\n-------------------------------------\n\nColumna en posición 13\n\nDF en posición 0: Nom mes\nDF en posición 1: Nom mes\nDF en posición 2: Nom mes\nDF en posición 3: Nom mes\nDF en posición 4: Nom mes\nDF en posición 5: Nom_mes\nDF en posición 6: Nom_mes\nDF en posición 7: Nom_mes\nDF en posición 8: Nom_mes\nDF en posición 9: Nom_mes\n\n-------------------------------------\n\nColumna en posición 14\n\nDF en posición 0: Dia de mes\nDF en posición 1: Dia de mes\nDF en posición 2: Dia de mes\nDF en posición 3: Dia de mes\nDF en posición 4: Dia de mes\nDF en posición 5: Dia_mes\nDF en posición 6: Dia_mes\nDF en posición 7: Dia_mes\nDF en posición 8: Dia_mes\nDF en posición 9: Dia_mes\n\n-------------------------------------\n\nColumna en posición 15\n\nDF en posición 0: Hora de dia\nDF en posición 1: Hora de dia\nDF en posición 2: Hora de dia\nDF en posición 3: Hora de dia\nDF en posición 4: Hora de dia\nDF en posición 5: Hora_dia\nDF en posición 6: Hora_dia\nDF en posición 7: Hora_dia\nDF en posición 8: Hora_dia\nDF en posición 9: Hora_dia\n\n-------------------------------------\n\nColumna en posición 16\n\nDF en posición 0: Descripció torn\nDF en posición 1: Descripció torn\nDF en posición 2: Descripció torn\nDF en posición 3: Descripció torn\nDF en posición 4: Descripció torn\nDF en posición 5: Descripcio_torn\nDF en posición 6: Descripcio_torn\nDF en posición 7: Descripcio_torn\nDF en posición 8: Descripcio_torn\nDF en posición 9: Descripcio_torn\n\n-------------------------------------\n\nColumna en posición 17\n\nDF en posición 0: Descripció causa vianant\nDF en posición 1: Descripció causa vianant\nDF en posición 2: Descripció causa vianant\nDF en posición 3: Descripció causa vianant\nDF en posición 4: Descripció causa vianant\nDF en posición 5: Descripcio_causa_vianant\nDF en posición 6: Descripcio_causa_vianant\nDF en posición 7: Descripcio_causa_vianant\nDF en posición 8: Descripcio_causa_vianant\nDF en posición 9: Descripcio_causa_vianant\n\n-------------------------------------\n\nColumna en posición 18\n\nDF en posición 0: Número de morts\nDF en posición 1: Número de morts\nDF en posición 2: Número de morts\nDF en posición 3: Número de morts\nDF en posición 4: Número de morts\nDF en posición 5: Numero_morts\nDF en posición 6: Numero_morts\nDF en posición 7: Numero_morts\nDF en posición 8: Numero_morts\nDF en posición 9: Numero_morts\n\n-------------------------------------\n\nColumna en posición 19\n\nDF en posición 0: Número de lesionats lleus\nDF en posición 1: Número de lesionats lleus\nDF en posición 2: Número de lesionats lleus\nDF en posición 3: Número de lesionats lleus\nDF en posición 4: Número de lesionats lleus\nDF en posición 5: Numero_lesionats_lleus\nDF en posición 6: Numero_lesionats_lleus\nDF en posición 7: Numero_lesionats_lleus\nDF en posición 8: Numero_lesionats_lleus\nDF en posición 9: Numero_lesionats_lleus\n\n-------------------------------------\n\nColumna en posición 20\n\nDF en posición 0: Número de lesionats greus\nDF en posición 1: Número de lesionats greus\nDF en posición 2: Número de lesionats greus\nDF en posición 3: Número de lesionats greus\nDF en posición 4: Número de lesionats greus\nDF en posición 5: Numero_lesionats_greus\nDF en posición 6: Numero_lesionats_greus\nDF en posición 7: Numero_lesionats_greus\nDF en posición 8: Numero_lesionats_greus\nDF en posición 9: Numero_lesionats_greus\n\n-------------------------------------\n\nColumna en posición 21\n\nDF en posición 0: Número de víctimes\nDF en posición 1: Número de víctimes\nDF en posición 2: Número de víctimes\nDF en posición 3: Número de víctimes\nDF en posición 4: Número de víctimes\nDF en posición 5: Numero_victimes\nDF en posición 6: Numero_victimes\nDF en posición 7: Numero_victimes\nDF en posición 8: Numero_victimes\nDF en posición 9: Numero_victimes\n\n-------------------------------------\n\nColumna en posición 22\n\nDF en posición 0: Número de vehicles implicats\nDF en posición 1: Número de vehicles implicats\nDF en posición 2: Número de vehicles implicats\nDF en posición 3: Número de vehicles implicats\nDF en posición 4: Número de vehicles implicats\nDF en posición 5: Numero_vehicles_implicats\nDF en posición 6: Numero_vehicles_implicats\nDF en posición 7: Numero_vehicles_implicats\nDF en posición 8: Numero_vehicles_implicats\nDF en posición 9: Numero_vehicles_implicats\n\n-------------------------------------\n\nColumna en posición 23\n\nDF en posición 0: Coordenada UTM (Y)\nDF en posición 1: Coordenada UTM (Y)\nDF en posición 2: Coordenada UTM (Y)\nDF en posición 3: Coordenada UTM (Y)\nDF en posición 4: Coordenada UTM (Y)\nDF en posición 5: Coordenada_UTM_X\nDF en posición 6: Coordenada_UTM_X\nDF en posición 7: Coordenada_UTM_X\nDF en posición 8: Coordenada_UTM_X\nDF en posición 9: Coordenada_UTM_Y\n\n-------------------------------------\n\nColumna en posición 24\n\nDF en posición 0: Coordenada UTM (X)\nDF en posición 1: Coordenada UTM (X)\nDF en posición 2: Coordenada UTM (X)\nDF en posición 3: Coordenada UTM (X)\nDF en posición 4: Coordenada UTM (X)\nDF en posición 5: Coordenada_UTM_Y\nDF en posición 6: Coordenada_UTM_Y\nDF en posición 7: Coordenada_UTM_Y\nDF en posición 8: Coordenada_UTM_Y\nDF en posición 9: Coordenada_UTM_X\n\n-------------------------------------\n\nColumna en posición 25\n\nDF en posición 0: No contiene columnas en la posición 25\nDF en posición 1: No contiene columnas en la posición 25\nDF en posición 2: No contiene columnas en la posición 25\nDF en posición 3: No contiene columnas en la posición 25\nDF en posición 4: No contiene columnas en la posición 25\nDF en posición 5: Longitud\nDF en posición 6: Longitud\nDF en posición 7: Longitud\nDF en posición 8: Longitud\nDF en posición 9: Longitud\n\n-------------------------------------\n\nColumna en posición 26\n\nDF en posición 0: No contiene columnas en la posición 26\nDF en posición 1: No contiene columnas en la posición 26\nDF en posición 2: No contiene columnas en la posición 26\nDF en posición 3: No contiene columnas en la posición 26\nDF en posición 4: No contiene columnas en la posición 26\nDF en posición 5: Latitud\nDF en posición 6: Latitud\nDF en posición 7: Latitud\nDF en posición 8: Latitud\nDF en posición 9: Latitud\n\n-------------------------------------\n\n"
     ]
    }
   ],
   "source": [
    "nombre_cada_columna(lista_df_gu)"
   ]
  },
  {
   "source": [
    "### Como se puede observar, no todos los dataframes contenidos en la lista poseen el mismo número de columnas."
   ],
   "cell_type": "markdown",
   "metadata": {}
  },
  {
   "cell_type": "code",
   "execution_count": 8,
   "metadata": {},
   "outputs": [
    {
     "output_type": "stream",
     "name": "stdout",
     "text": [
      "Posición del DF 0: ['Coordenada UTM (Y)', 'Coordenada UTM (X)']\nPosición del DF 1: ['Coordenada UTM (Y)', 'Coordenada UTM (X)']\nPosición del DF 2: ['Coordenada UTM (Y)', 'Coordenada UTM (X)']\nPosición del DF 3: ['Coordenada UTM (Y)', 'Coordenada UTM (X)']\nPosición del DF 4: ['Coordenada UTM (Y)', 'Coordenada UTM (X)']\nPosición del DF 5: ['Coordenada_UTM_X', 'Coordenada_UTM_Y', 'Longitud', 'Latitud']\nPosición del DF 6: ['Coordenada_UTM_X', 'Coordenada_UTM_Y', 'Longitud', 'Latitud']\nPosición del DF 7: ['Coordenada_UTM_X', 'Coordenada_UTM_Y', 'Longitud', 'Latitud']\nPosición del DF 8: ['Coordenada_UTM_X', 'Coordenada_UTM_Y', 'Longitud', 'Latitud']\nPosición del DF 9: ['Coordenada_UTM_Y', 'Coordenada_UTM_X', 'Longitud', 'Latitud']\n"
     ]
    }
   ],
   "source": [
    "ver_ultimas_columnas(lista_df_gu)"
   ]
  },
  {
   "source": [
    "### Vemos que las últimas 2 columnas de los dataframes que contienen 27, hacen referencia a la latitud y longitud. De momento, podemos prescindir de ellas, por lo que serán eliminadas."
   ],
   "cell_type": "markdown",
   "metadata": {}
  },
  {
   "cell_type": "code",
   "execution_count": 9,
   "metadata": {},
   "outputs": [],
   "source": [
    "eliminar_columnas_finales(lista_df_gu)"
   ]
  },
  {
   "source": [
    "\n",
    "### Podemos apreciar además, que las columnas que hacen referencia a las coordenadas, no sólo tienen nombres diferentes, sino que no se corresponden en posición, es decir, en algunas figura en primer lugar la coordeneda UTM Y o X y viceversa. Se procede a acomodar las columnas para luego unificar nombres de las mismas."
   ],
   "cell_type": "markdown",
   "metadata": {}
  },
  {
   "cell_type": "code",
   "execution_count": 10,
   "metadata": {},
   "outputs": [],
   "source": [
    "ordenar_columnas_finales(lista_df_gu)"
   ]
  },
  {
   "cell_type": "code",
   "execution_count": 11,
   "metadata": {},
   "outputs": [
    {
     "output_type": "stream",
     "name": "stdout",
     "text": [
      "Columna en posición 0\n\nDF en posición 0: Número d'expedient\nDF en posición 1: Número d'expedient\nDF en posición 2: Número d'expedient\nDF en posición 3: Número d'expedient\nDF en posición 4: Número d expedient\nDF en posición 5: Numero_expedient\nDF en posición 6: Numero_expedient\nDF en posición 7: Numero_expedient\nDF en posición 8: Numero_expedient\nDF en posición 9: Numero_expedient\n\n-------------------------------------\n\nColumna en posición 1\n\nDF en posición 0: Codi districte\nDF en posición 1: Codi districte\nDF en posición 2: Codi districte\nDF en posición 3: Codi districte\nDF en posición 4: Codi districte\nDF en posición 5: Codi_districte\nDF en posición 6: Codi_districte\nDF en posición 7: Codi_districte\nDF en posición 8: Codi_districte\nDF en posición 9: Codi_districte\n\n-------------------------------------\n\nColumna en posición 2\n\nDF en posición 0: Nom districte\nDF en posición 1: Nom districte\nDF en posición 2: Nom districte\nDF en posición 3: Nom districte\nDF en posición 4: Nom districte\nDF en posición 5: Nom_districte\nDF en posición 6: Nom_districte\nDF en posición 7: Nom_districte\nDF en posición 8: Nom_districte\nDF en posición 9: Nom_districte\n\n-------------------------------------\n\nColumna en posición 3\n\nDF en posición 0: NK barri\nDF en posición 1: NK barri\nDF en posición 2: NK barri\nDF en posición 3: NK barri\nDF en posición 4: Codi barri\nDF en posición 5: Codi_barri\nDF en posición 6: Codi_barri\nDF en posición 7: Codi_barri\nDF en posición 8: Codi_barri\nDF en posición 9: Codi_barri\n\n-------------------------------------\n\nColumna en posición 4\n\nDF en posición 0: Nom barri\nDF en posición 1: Nom barri\nDF en posición 2: Nom barri\nDF en posición 3: Nom barri\nDF en posición 4: Nom barri\nDF en posición 5: Nom_barri\nDF en posición 6: Nom_barri\nDF en posición 7: Nom_barri\nDF en posición 8: Nom_barri\nDF en posición 9: Nom_barri\n\n-------------------------------------\n\nColumna en posición 5\n\nDF en posición 0: Codi carrer\nDF en posición 1: Codi carrer\nDF en posición 2: Codi carrer\nDF en posición 3: Codi carrer\nDF en posición 4: Codi carrer\nDF en posición 5: Codi_carrer\nDF en posición 6: Codi_carrer\nDF en posición 7: Codi_carrer\nDF en posición 8: Codi_carrer\nDF en posición 9: Codi_carrer\n\n-------------------------------------\n\nColumna en posición 6\n\nDF en posición 0: Nom carrer\nDF en posición 1: Nom carrer\nDF en posición 2: Nom carrer\nDF en posición 3: Nom carrer\nDF en posición 4: Nom carrer\nDF en posición 5: Nom_carrer\nDF en posición 6: Nom_carrer\nDF en posición 7: Nom_carrer\nDF en posición 8: Nom_carrer\nDF en posición 9: Nom_carrer\n\n-------------------------------------\n\nColumna en posición 7\n\nDF en posición 0: Num postal caption\nDF en posición 1: Num postal caption\nDF en posición 2: Num postal caption\nDF en posición 3: Num postal caption\nDF en posición 4: Num postal caption\nDF en posición 5: Num_postal\nDF en posición 6: Num_postal\nDF en posición 7: Num_postal \nDF en posición 8: Num_postal_caption\nDF en posición 9: Num_postal_caption\n\n-------------------------------------\n\nColumna en posición 8\n\nDF en posición 0: Descripció dia setmana\nDF en posición 1: Descripció dia setmana\nDF en posición 2: Descripció dia setmana\nDF en posición 3: Descripció dia setmana\nDF en posición 4: Descripció dia setmana\nDF en posición 5: Descripcio_dia_setmana\nDF en posición 6: Descripcio_dia_setmana\nDF en posición 7: Descripcio_dia_setmana\nDF en posición 8: Descripcio_dia_setmana\nDF en posición 9: Descripcio_dia_setmana\n\n-------------------------------------\n\nColumna en posición 9\n\nDF en posición 0: Dia de setmana\nDF en posición 1: Dia de setmana\nDF en posición 2: Dia de setmana\nDF en posición 3: Dia de setmana\nDF en posición 4: Dia setmana\nDF en posición 5: Dia_setmana\nDF en posición 6: Dia_setmana\nDF en posición 7: Dia_setmana\nDF en posición 8: Dia_setmana\nDF en posición 9: Dia_setmana\n\n-------------------------------------\n\nColumna en posición 10\n\nDF en posición 0: Descripció tipus dia\nDF en posición 1: Descripció tipus dia\nDF en posición 2: Descripció tipus dia\nDF en posición 3: Descripció tipus dia\nDF en posición 4: Descripció tipus dia\nDF en posición 5: Descripcio_tipus_dia\nDF en posición 6: Descripcio_tipus_dia\nDF en posición 7: Descripcio_tipus_dia\nDF en posición 8: Descripcio_tipus_dia\nDF en posición 9: Descripcio_tipus_dia\n\n-------------------------------------\n\nColumna en posición 11\n\nDF en posición 0: NK Any\nDF en posición 1: NK Any\nDF en posición 2: NK Any\nDF en posición 3: NK Any\nDF en posición 4: NK Any\nDF en posición 5: Any\nDF en posición 6: Any\nDF en posición 7: Any\nDF en posición 8: NK_Any\nDF en posición 9: NK_Any\n\n-------------------------------------\n\nColumna en posición 12\n\nDF en posición 0: Mes de any\nDF en posición 1: Mes de any\nDF en posición 2: Mes de any\nDF en posición 3: Mes de any\nDF en posición 4: Mes de any\nDF en posición 5: Mes_any\nDF en posición 6: Mes_any\nDF en posición 7: Mes_any\nDF en posición 8: Mes_any\nDF en posición 9: Mes_any\n\n-------------------------------------\n\nColumna en posición 13\n\nDF en posición 0: Nom mes\nDF en posición 1: Nom mes\nDF en posición 2: Nom mes\nDF en posición 3: Nom mes\nDF en posición 4: Nom mes\nDF en posición 5: Nom_mes\nDF en posición 6: Nom_mes\nDF en posición 7: Nom_mes\nDF en posición 8: Nom_mes\nDF en posición 9: Nom_mes\n\n-------------------------------------\n\nColumna en posición 14\n\nDF en posición 0: Dia de mes\nDF en posición 1: Dia de mes\nDF en posición 2: Dia de mes\nDF en posición 3: Dia de mes\nDF en posición 4: Dia de mes\nDF en posición 5: Dia_mes\nDF en posición 6: Dia_mes\nDF en posición 7: Dia_mes\nDF en posición 8: Dia_mes\nDF en posición 9: Dia_mes\n\n-------------------------------------\n\nColumna en posición 15\n\nDF en posición 0: Hora de dia\nDF en posición 1: Hora de dia\nDF en posición 2: Hora de dia\nDF en posición 3: Hora de dia\nDF en posición 4: Hora de dia\nDF en posición 5: Hora_dia\nDF en posición 6: Hora_dia\nDF en posición 7: Hora_dia\nDF en posición 8: Hora_dia\nDF en posición 9: Hora_dia\n\n-------------------------------------\n\nColumna en posición 16\n\nDF en posición 0: Descripció torn\nDF en posición 1: Descripció torn\nDF en posición 2: Descripció torn\nDF en posición 3: Descripció torn\nDF en posición 4: Descripció torn\nDF en posición 5: Descripcio_torn\nDF en posición 6: Descripcio_torn\nDF en posición 7: Descripcio_torn\nDF en posición 8: Descripcio_torn\nDF en posición 9: Descripcio_torn\n\n-------------------------------------\n\nColumna en posición 17\n\nDF en posición 0: Descripció causa vianant\nDF en posición 1: Descripció causa vianant\nDF en posición 2: Descripció causa vianant\nDF en posición 3: Descripció causa vianant\nDF en posición 4: Descripció causa vianant\nDF en posición 5: Descripcio_causa_vianant\nDF en posición 6: Descripcio_causa_vianant\nDF en posición 7: Descripcio_causa_vianant\nDF en posición 8: Descripcio_causa_vianant\nDF en posición 9: Descripcio_causa_vianant\n\n-------------------------------------\n\nColumna en posición 18\n\nDF en posición 0: Número de morts\nDF en posición 1: Número de morts\nDF en posición 2: Número de morts\nDF en posición 3: Número de morts\nDF en posición 4: Número de morts\nDF en posición 5: Numero_morts\nDF en posición 6: Numero_morts\nDF en posición 7: Numero_morts\nDF en posición 8: Numero_morts\nDF en posición 9: Numero_morts\n\n-------------------------------------\n\nColumna en posición 19\n\nDF en posición 0: Número de lesionats lleus\nDF en posición 1: Número de lesionats lleus\nDF en posición 2: Número de lesionats lleus\nDF en posición 3: Número de lesionats lleus\nDF en posición 4: Número de lesionats lleus\nDF en posición 5: Numero_lesionats_lleus\nDF en posición 6: Numero_lesionats_lleus\nDF en posición 7: Numero_lesionats_lleus\nDF en posición 8: Numero_lesionats_lleus\nDF en posición 9: Numero_lesionats_lleus\n\n-------------------------------------\n\nColumna en posición 20\n\nDF en posición 0: Número de lesionats greus\nDF en posición 1: Número de lesionats greus\nDF en posición 2: Número de lesionats greus\nDF en posición 3: Número de lesionats greus\nDF en posición 4: Número de lesionats greus\nDF en posición 5: Numero_lesionats_greus\nDF en posición 6: Numero_lesionats_greus\nDF en posición 7: Numero_lesionats_greus\nDF en posición 8: Numero_lesionats_greus\nDF en posición 9: Numero_lesionats_greus\n\n-------------------------------------\n\nColumna en posición 21\n\nDF en posición 0: Número de víctimes\nDF en posición 1: Número de víctimes\nDF en posición 2: Número de víctimes\nDF en posición 3: Número de víctimes\nDF en posición 4: Número de víctimes\nDF en posición 5: Numero_victimes\nDF en posición 6: Numero_victimes\nDF en posición 7: Numero_victimes\nDF en posición 8: Numero_victimes\nDF en posición 9: Numero_victimes\n\n-------------------------------------\n\nColumna en posición 22\n\nDF en posición 0: Número de vehicles implicats\nDF en posición 1: Número de vehicles implicats\nDF en posición 2: Número de vehicles implicats\nDF en posición 3: Número de vehicles implicats\nDF en posición 4: Número de vehicles implicats\nDF en posición 5: Numero_vehicles_implicats\nDF en posición 6: Numero_vehicles_implicats\nDF en posición 7: Numero_vehicles_implicats\nDF en posición 8: Numero_vehicles_implicats\nDF en posición 9: Numero_vehicles_implicats\n\n-------------------------------------\n\nColumna en posición 23\n\nDF en posición 0: Coordenada UTM (X)\nDF en posición 1: Coordenada UTM (X)\nDF en posición 2: Coordenada UTM (X)\nDF en posición 3: Coordenada UTM (X)\nDF en posición 4: Coordenada UTM (X)\nDF en posición 5: Coordenada_UTM_X\nDF en posición 6: Coordenada_UTM_X\nDF en posición 7: Coordenada_UTM_X\nDF en posición 8: Coordenada_UTM_X\nDF en posición 9: Coordenada_UTM_X\n\n-------------------------------------\n\nColumna en posición 24\n\nDF en posición 0: Coordenada UTM (Y)\nDF en posición 1: Coordenada UTM (Y)\nDF en posición 2: Coordenada UTM (Y)\nDF en posición 3: Coordenada UTM (Y)\nDF en posición 4: Coordenada UTM (Y)\nDF en posición 5: Coordenada_UTM_Y\nDF en posición 6: Coordenada_UTM_Y\nDF en posición 7: Coordenada_UTM_Y\nDF en posición 8: Coordenada_UTM_Y\nDF en posición 9: Coordenada_UTM_Y\n\n-------------------------------------\n\n"
     ]
    }
   ],
   "source": [
    "nombre_cada_columna(lista_df_gu)"
   ]
  },
  {
   "source": [
    "### Una vez organizadas las columnas, se homogenizan los nombres de las mismas para unir los dataframes en uno solo."
   ],
   "cell_type": "markdown",
   "metadata": {}
  },
  {
   "cell_type": "code",
   "execution_count": 12,
   "metadata": {},
   "outputs": [],
   "source": [
    "nombres_columnas = ['NUMERO EXPEDIENTE', 'CODIGO DISTRITO', 'DISTRITO', 'CODIGO BARRIO', 'BARRIO', 'CODIGO CALLE', 'CALLE', 'NUMERO POSTAL', 'DIA SEMANA', 'DIA SEMANA (NUMERICO)', 'TIPO DE DIA', 'ANIO', 'MES (NUMERICO)', 'MES', 'DIA', 'HORA', 'TURNO', 'CAUSA', 'FALLECIDOS', 'LESIONADOS LEVE', 'LESIONADOS GRAVE', 'CANTIDAD VICTIMAS', 'CANTIDAD VEHICULOS', 'COORDENADA UTM X', 'COORDENADA UTM Y']"
   ]
  },
  {
   "cell_type": "code",
   "execution_count": 13,
   "metadata": {},
   "outputs": [],
   "source": [
    "renombrar_columnas(lista_df_gu, nombres_columnas)"
   ]
  },
  {
   "cell_type": "code",
   "execution_count": 14,
   "metadata": {},
   "outputs": [
    {
     "output_type": "stream",
     "name": "stdout",
     "text": [
      "Columna en posición 0\n\nDF en posición 0: NUMERO EXPEDIENTE\nDF en posición 1: NUMERO EXPEDIENTE\nDF en posición 2: NUMERO EXPEDIENTE\nDF en posición 3: NUMERO EXPEDIENTE\nDF en posición 4: NUMERO EXPEDIENTE\nDF en posición 5: NUMERO EXPEDIENTE\nDF en posición 6: NUMERO EXPEDIENTE\nDF en posición 7: NUMERO EXPEDIENTE\nDF en posición 8: NUMERO EXPEDIENTE\nDF en posición 9: NUMERO EXPEDIENTE\n\n-------------------------------------\n\nColumna en posición 1\n\nDF en posición 0: CODIGO DISTRITO\nDF en posición 1: CODIGO DISTRITO\nDF en posición 2: CODIGO DISTRITO\nDF en posición 3: CODIGO DISTRITO\nDF en posición 4: CODIGO DISTRITO\nDF en posición 5: CODIGO DISTRITO\nDF en posición 6: CODIGO DISTRITO\nDF en posición 7: CODIGO DISTRITO\nDF en posición 8: CODIGO DISTRITO\nDF en posición 9: CODIGO DISTRITO\n\n-------------------------------------\n\nColumna en posición 2\n\nDF en posición 0: DISTRITO\nDF en posición 1: DISTRITO\nDF en posición 2: DISTRITO\nDF en posición 3: DISTRITO\nDF en posición 4: DISTRITO\nDF en posición 5: DISTRITO\nDF en posición 6: DISTRITO\nDF en posición 7: DISTRITO\nDF en posición 8: DISTRITO\nDF en posición 9: DISTRITO\n\n-------------------------------------\n\nColumna en posición 3\n\nDF en posición 0: CODIGO BARRIO\nDF en posición 1: CODIGO BARRIO\nDF en posición 2: CODIGO BARRIO\nDF en posición 3: CODIGO BARRIO\nDF en posición 4: CODIGO BARRIO\nDF en posición 5: CODIGO BARRIO\nDF en posición 6: CODIGO BARRIO\nDF en posición 7: CODIGO BARRIO\nDF en posición 8: CODIGO BARRIO\nDF en posición 9: CODIGO BARRIO\n\n-------------------------------------\n\nColumna en posición 4\n\nDF en posición 0: BARRIO\nDF en posición 1: BARRIO\nDF en posición 2: BARRIO\nDF en posición 3: BARRIO\nDF en posición 4: BARRIO\nDF en posición 5: BARRIO\nDF en posición 6: BARRIO\nDF en posición 7: BARRIO\nDF en posición 8: BARRIO\nDF en posición 9: BARRIO\n\n-------------------------------------\n\nColumna en posición 5\n\nDF en posición 0: CODIGO CALLE\nDF en posición 1: CODIGO CALLE\nDF en posición 2: CODIGO CALLE\nDF en posición 3: CODIGO CALLE\nDF en posición 4: CODIGO CALLE\nDF en posición 5: CODIGO CALLE\nDF en posición 6: CODIGO CALLE\nDF en posición 7: CODIGO CALLE\nDF en posición 8: CODIGO CALLE\nDF en posición 9: CODIGO CALLE\n\n-------------------------------------\n\nColumna en posición 6\n\nDF en posición 0: CALLE\nDF en posición 1: CALLE\nDF en posición 2: CALLE\nDF en posición 3: CALLE\nDF en posición 4: CALLE\nDF en posición 5: CALLE\nDF en posición 6: CALLE\nDF en posición 7: CALLE\nDF en posición 8: CALLE\nDF en posición 9: CALLE\n\n-------------------------------------\n\nColumna en posición 7\n\nDF en posición 0: NUMERO POSTAL\nDF en posición 1: NUMERO POSTAL\nDF en posición 2: NUMERO POSTAL\nDF en posición 3: NUMERO POSTAL\nDF en posición 4: NUMERO POSTAL\nDF en posición 5: NUMERO POSTAL\nDF en posición 6: NUMERO POSTAL\nDF en posición 7: NUMERO POSTAL\nDF en posición 8: NUMERO POSTAL\nDF en posición 9: NUMERO POSTAL\n\n-------------------------------------\n\nColumna en posición 8\n\nDF en posición 0: DIA SEMANA\nDF en posición 1: DIA SEMANA\nDF en posición 2: DIA SEMANA\nDF en posición 3: DIA SEMANA\nDF en posición 4: DIA SEMANA\nDF en posición 5: DIA SEMANA\nDF en posición 6: DIA SEMANA\nDF en posición 7: DIA SEMANA\nDF en posición 8: DIA SEMANA\nDF en posición 9: DIA SEMANA\n\n-------------------------------------\n\nColumna en posición 9\n\nDF en posición 0: DIA SEMANA (NUMERICO)\nDF en posición 1: DIA SEMANA (NUMERICO)\nDF en posición 2: DIA SEMANA (NUMERICO)\nDF en posición 3: DIA SEMANA (NUMERICO)\nDF en posición 4: DIA SEMANA (NUMERICO)\nDF en posición 5: DIA SEMANA (NUMERICO)\nDF en posición 6: DIA SEMANA (NUMERICO)\nDF en posición 7: DIA SEMANA (NUMERICO)\nDF en posición 8: DIA SEMANA (NUMERICO)\nDF en posición 9: DIA SEMANA (NUMERICO)\n\n-------------------------------------\n\nColumna en posición 10\n\nDF en posición 0: TIPO DE DIA\nDF en posición 1: TIPO DE DIA\nDF en posición 2: TIPO DE DIA\nDF en posición 3: TIPO DE DIA\nDF en posición 4: TIPO DE DIA\nDF en posición 5: TIPO DE DIA\nDF en posición 6: TIPO DE DIA\nDF en posición 7: TIPO DE DIA\nDF en posición 8: TIPO DE DIA\nDF en posición 9: TIPO DE DIA\n\n-------------------------------------\n\nColumna en posición 11\n\nDF en posición 0: ANIO\nDF en posición 1: ANIO\nDF en posición 2: ANIO\nDF en posición 3: ANIO\nDF en posición 4: ANIO\nDF en posición 5: ANIO\nDF en posición 6: ANIO\nDF en posición 7: ANIO\nDF en posición 8: ANIO\nDF en posición 9: ANIO\n\n-------------------------------------\n\nColumna en posición 12\n\nDF en posición 0: MES (NUMERICO)\nDF en posición 1: MES (NUMERICO)\nDF en posición 2: MES (NUMERICO)\nDF en posición 3: MES (NUMERICO)\nDF en posición 4: MES (NUMERICO)\nDF en posición 5: MES (NUMERICO)\nDF en posición 6: MES (NUMERICO)\nDF en posición 7: MES (NUMERICO)\nDF en posición 8: MES (NUMERICO)\nDF en posición 9: MES (NUMERICO)\n\n-------------------------------------\n\nColumna en posición 13\n\nDF en posición 0: MES\nDF en posición 1: MES\nDF en posición 2: MES\nDF en posición 3: MES\nDF en posición 4: MES\nDF en posición 5: MES\nDF en posición 6: MES\nDF en posición 7: MES\nDF en posición 8: MES\nDF en posición 9: MES\n\n-------------------------------------\n\nColumna en posición 14\n\nDF en posición 0: DIA\nDF en posición 1: DIA\nDF en posición 2: DIA\nDF en posición 3: DIA\nDF en posición 4: DIA\nDF en posición 5: DIA\nDF en posición 6: DIA\nDF en posición 7: DIA\nDF en posición 8: DIA\nDF en posición 9: DIA\n\n-------------------------------------\n\nColumna en posición 15\n\nDF en posición 0: HORA\nDF en posición 1: HORA\nDF en posición 2: HORA\nDF en posición 3: HORA\nDF en posición 4: HORA\nDF en posición 5: HORA\nDF en posición 6: HORA\nDF en posición 7: HORA\nDF en posición 8: HORA\nDF en posición 9: HORA\n\n-------------------------------------\n\nColumna en posición 16\n\nDF en posición 0: TURNO\nDF en posición 1: TURNO\nDF en posición 2: TURNO\nDF en posición 3: TURNO\nDF en posición 4: TURNO\nDF en posición 5: TURNO\nDF en posición 6: TURNO\nDF en posición 7: TURNO\nDF en posición 8: TURNO\nDF en posición 9: TURNO\n\n-------------------------------------\n\nColumna en posición 17\n\nDF en posición 0: CAUSA\nDF en posición 1: CAUSA\nDF en posición 2: CAUSA\nDF en posición 3: CAUSA\nDF en posición 4: CAUSA\nDF en posición 5: CAUSA\nDF en posición 6: CAUSA\nDF en posición 7: CAUSA\nDF en posición 8: CAUSA\nDF en posición 9: CAUSA\n\n-------------------------------------\n\nColumna en posición 18\n\nDF en posición 0: FALLECIDOS\nDF en posición 1: FALLECIDOS\nDF en posición 2: FALLECIDOS\nDF en posición 3: FALLECIDOS\nDF en posición 4: FALLECIDOS\nDF en posición 5: FALLECIDOS\nDF en posición 6: FALLECIDOS\nDF en posición 7: FALLECIDOS\nDF en posición 8: FALLECIDOS\nDF en posición 9: FALLECIDOS\n\n-------------------------------------\n\nColumna en posición 19\n\nDF en posición 0: LESIONADOS LEVE\nDF en posición 1: LESIONADOS LEVE\nDF en posición 2: LESIONADOS LEVE\nDF en posición 3: LESIONADOS LEVE\nDF en posición 4: LESIONADOS LEVE\nDF en posición 5: LESIONADOS LEVE\nDF en posición 6: LESIONADOS LEVE\nDF en posición 7: LESIONADOS LEVE\nDF en posición 8: LESIONADOS LEVE\nDF en posición 9: LESIONADOS LEVE\n\n-------------------------------------\n\nColumna en posición 20\n\nDF en posición 0: LESIONADOS GRAVE\nDF en posición 1: LESIONADOS GRAVE\nDF en posición 2: LESIONADOS GRAVE\nDF en posición 3: LESIONADOS GRAVE\nDF en posición 4: LESIONADOS GRAVE\nDF en posición 5: LESIONADOS GRAVE\nDF en posición 6: LESIONADOS GRAVE\nDF en posición 7: LESIONADOS GRAVE\nDF en posición 8: LESIONADOS GRAVE\nDF en posición 9: LESIONADOS GRAVE\n\n-------------------------------------\n\nColumna en posición 21\n\nDF en posición 0: CANTIDAD VICTIMAS\nDF en posición 1: CANTIDAD VICTIMAS\nDF en posición 2: CANTIDAD VICTIMAS\nDF en posición 3: CANTIDAD VICTIMAS\nDF en posición 4: CANTIDAD VICTIMAS\nDF en posición 5: CANTIDAD VICTIMAS\nDF en posición 6: CANTIDAD VICTIMAS\nDF en posición 7: CANTIDAD VICTIMAS\nDF en posición 8: CANTIDAD VICTIMAS\nDF en posición 9: CANTIDAD VICTIMAS\n\n-------------------------------------\n\nColumna en posición 22\n\nDF en posición 0: CANTIDAD VEHICULOS\nDF en posición 1: CANTIDAD VEHICULOS\nDF en posición 2: CANTIDAD VEHICULOS\nDF en posición 3: CANTIDAD VEHICULOS\nDF en posición 4: CANTIDAD VEHICULOS\nDF en posición 5: CANTIDAD VEHICULOS\nDF en posición 6: CANTIDAD VEHICULOS\nDF en posición 7: CANTIDAD VEHICULOS\nDF en posición 8: CANTIDAD VEHICULOS\nDF en posición 9: CANTIDAD VEHICULOS\n\n-------------------------------------\n\nColumna en posición 23\n\nDF en posición 0: COORDENADA UTM X\nDF en posición 1: COORDENADA UTM X\nDF en posición 2: COORDENADA UTM X\nDF en posición 3: COORDENADA UTM X\nDF en posición 4: COORDENADA UTM X\nDF en posición 5: COORDENADA UTM X\nDF en posición 6: COORDENADA UTM X\nDF en posición 7: COORDENADA UTM X\nDF en posición 8: COORDENADA UTM X\nDF en posición 9: COORDENADA UTM X\n\n-------------------------------------\n\nColumna en posición 24\n\nDF en posición 0: COORDENADA UTM Y\nDF en posición 1: COORDENADA UTM Y\nDF en posición 2: COORDENADA UTM Y\nDF en posición 3: COORDENADA UTM Y\nDF en posición 4: COORDENADA UTM Y\nDF en posición 5: COORDENADA UTM Y\nDF en posición 6: COORDENADA UTM Y\nDF en posición 7: COORDENADA UTM Y\nDF en posición 8: COORDENADA UTM Y\nDF en posición 9: COORDENADA UTM Y\n\n-------------------------------------\n\n"
     ]
    }
   ],
   "source": [
    "nombre_cada_columna(lista_df_gu)"
   ]
  },
  {
   "source": [
    "### Ya todos los dataframes de la lista tienen el mismo nombre para cada columna. Se procede a unirlos en un único dataframe."
   ],
   "cell_type": "markdown",
   "metadata": {}
  },
  {
   "cell_type": "code",
   "execution_count": 15,
   "metadata": {},
   "outputs": [],
   "source": [
    "unificar_lista_dataframe(lista_df_gu)"
   ]
  },
  {
   "cell_type": "code",
   "execution_count": 16,
   "metadata": {},
   "outputs": [
    {
     "output_type": "execute_result",
     "data": {
      "text/plain": [
       "      NUMERO EXPEDIENTE  CODIGO DISTRITO        DISTRITO CODIGO BARRIO  \\\n",
       "0           2012S005688             10.0      Sant Martí     101-10-64   \n",
       "1           2012S005343             10.0      Sant Martí     101-10-64   \n",
       "2           2012S002291             10.0      Sant Martí     101-10-64   \n",
       "3           2012S005379             10.0      Sant Martí     101-10-64   \n",
       "4           2012S004837             10.0      Sant Martí     101-10-64   \n",
       "...                 ...              ...             ...           ...   \n",
       "85104   2020S006274                  7.0  Horta-Guinardó       73-7-37   \n",
       "85105   2020S006275                  2.0        Eixample       21-2-10   \n",
       "85106   2020S006276                  1.0    Ciutat Vella        12-1-2   \n",
       "85107   2020S006277                  2.0        Eixample        22-2-9   \n",
       "85108   2020S006278                  8.0      Nou Barris       84-8-44   \n",
       "\n",
       "                               BARRIO  CODIGO CALLE                     CALLE  \\\n",
       "0          el Camp de l'Arpa del Clot      209900.0                 Meridiana   \n",
       "1          el Camp de l'Arpa del Clot      226400.0       Las Navas de Tolosa   \n",
       "2          el Camp de l'Arpa del Clot      161407.0                 Indústria   \n",
       "3          el Camp de l'Arpa del Clot      297001.0  Sant Antoni Maria Claret   \n",
       "4          el Camp de l'Arpa del Clot      297001.0  Sant Antoni Maria Claret   \n",
       "...                               ...           ...                       ...   \n",
       "85104                       el Carmel      182600.0         Lluís Marià Vidal   \n",
       "85105                     Sant Antoni      323203.0                 Sepúlveda   \n",
       "85106                  el Barri Gòtic      701266.0       Litoral (Llobregat)   \n",
       "85107  la Nova Esquerra de l'Eixample       18505.0                     Aragó   \n",
       "85108   Vilapicina i la Torre Llobeta       45701.0                    Quinze   \n",
       "\n",
       "      NUMERO POSTAL DIA SEMANA DIA SEMANA (NUMERICO)  ...  HORA  TURNO  \\\n",
       "0         0203 0205   Dissabte                     6  ...  16.0  Tarda   \n",
       "1         0337 0337   Diumenge                     7  ...  21.0  Tarda   \n",
       "2         0288 0288     Dijous                     4  ...  15.0  Tarda   \n",
       "3         0356 0356    Dimarts                     2  ...  10.0   Matí   \n",
       "4         0270 0270    Dimarts                     2  ...  14.0  Tarda   \n",
       "...             ...        ...                   ...  ...   ...    ...   \n",
       "85104     0025 0025     Dijous                     4  ...  17.0  Tarda   \n",
       "85105     0186 0186     Dijous                     4  ...  20.0  Tarda   \n",
       "85106       1070000     Dijous                     4  ...  13.0   Matí   \n",
       "85107     0127 0127     Dijous                     4  ...  21.0  Tarda   \n",
       "85108     0007 0007    Dimarts                     2  ...  11.0   Matí   \n",
       "\n",
       "                                 CAUSA FALLECIDOS  LESIONADOS LEVE  \\\n",
       "0                           Desconegut        0.0              1.0   \n",
       "1                           Desconegut        0.0              1.0   \n",
       "2                           Desconegut        0.0              1.0   \n",
       "3      Creuar per fora pas de vianants        0.0              2.0   \n",
       "4                           Desconegut        0.0              2.0   \n",
       "...                                ...        ...              ...   \n",
       "85104                       Desconegut        0.0              0.0   \n",
       "85105                       Desconegut        0.0              2.0   \n",
       "85106                       Desconegut        0.0              2.0   \n",
       "85107                       Desconegut        0.0              2.0   \n",
       "85108                       Desconegut        0.0              0.0   \n",
       "\n",
       "       LESIONADOS GRAVE CANTIDAD VICTIMAS CANTIDAD VEHICULOS  \\\n",
       "0                   0.0               1.0                2.0   \n",
       "1                   0.0               1.0                2.0   \n",
       "2                   0.0               1.0                2.0   \n",
       "3                   0.0               2.0                1.0   \n",
       "4                   0.0               2.0                1.0   \n",
       "...                 ...               ...                ...   \n",
       "85104               0.0               0.0                1.0   \n",
       "85105               0.0               2.0                2.0   \n",
       "85106               0.0               2.0                2.0   \n",
       "85107               0.0               2.0                1.0   \n",
       "85108               0.0               0.0                2.0   \n",
       "\n",
       "       COORDENADA UTM X  COORDENADA UTM Y  \n",
       "0             432022,72        4585178,54  \n",
       "1             431860,84        4585352,36  \n",
       "2             431556,72        4585102,28  \n",
       "3             431552,73        4585266,01  \n",
       "4             431180,43        4584898,92  \n",
       "...                 ...               ...  \n",
       "85104        4586412.97          429662.8  \n",
       "85105        4581881.31         430125.99  \n",
       "85106        4581077.37          431410.4  \n",
       "85107        4581954.15         429362.84  \n",
       "85108        4586654.09         431221.22  \n",
       "\n",
       "[85109 rows x 25 columns]"
      ],
      "text/html": "<div>\n<style scoped>\n    .dataframe tbody tr th:only-of-type {\n        vertical-align: middle;\n    }\n\n    .dataframe tbody tr th {\n        vertical-align: top;\n    }\n\n    .dataframe thead th {\n        text-align: right;\n    }\n</style>\n<table border=\"1\" class=\"dataframe\">\n  <thead>\n    <tr style=\"text-align: right;\">\n      <th></th>\n      <th>NUMERO EXPEDIENTE</th>\n      <th>CODIGO DISTRITO</th>\n      <th>DISTRITO</th>\n      <th>CODIGO BARRIO</th>\n      <th>BARRIO</th>\n      <th>CODIGO CALLE</th>\n      <th>CALLE</th>\n      <th>NUMERO POSTAL</th>\n      <th>DIA SEMANA</th>\n      <th>DIA SEMANA (NUMERICO)</th>\n      <th>...</th>\n      <th>HORA</th>\n      <th>TURNO</th>\n      <th>CAUSA</th>\n      <th>FALLECIDOS</th>\n      <th>LESIONADOS LEVE</th>\n      <th>LESIONADOS GRAVE</th>\n      <th>CANTIDAD VICTIMAS</th>\n      <th>CANTIDAD VEHICULOS</th>\n      <th>COORDENADA UTM X</th>\n      <th>COORDENADA UTM Y</th>\n    </tr>\n  </thead>\n  <tbody>\n    <tr>\n      <th>0</th>\n      <td>2012S005688</td>\n      <td>10.0</td>\n      <td>Sant Martí</td>\n      <td>101-10-64</td>\n      <td>el Camp de l'Arpa del Clot</td>\n      <td>209900.0</td>\n      <td>Meridiana</td>\n      <td>0203 0205</td>\n      <td>Dissabte</td>\n      <td>6</td>\n      <td>...</td>\n      <td>16.0</td>\n      <td>Tarda</td>\n      <td>Desconegut</td>\n      <td>0.0</td>\n      <td>1.0</td>\n      <td>0.0</td>\n      <td>1.0</td>\n      <td>2.0</td>\n      <td>432022,72</td>\n      <td>4585178,54</td>\n    </tr>\n    <tr>\n      <th>1</th>\n      <td>2012S005343</td>\n      <td>10.0</td>\n      <td>Sant Martí</td>\n      <td>101-10-64</td>\n      <td>el Camp de l'Arpa del Clot</td>\n      <td>226400.0</td>\n      <td>Las Navas de Tolosa</td>\n      <td>0337 0337</td>\n      <td>Diumenge</td>\n      <td>7</td>\n      <td>...</td>\n      <td>21.0</td>\n      <td>Tarda</td>\n      <td>Desconegut</td>\n      <td>0.0</td>\n      <td>1.0</td>\n      <td>0.0</td>\n      <td>1.0</td>\n      <td>2.0</td>\n      <td>431860,84</td>\n      <td>4585352,36</td>\n    </tr>\n    <tr>\n      <th>2</th>\n      <td>2012S002291</td>\n      <td>10.0</td>\n      <td>Sant Martí</td>\n      <td>101-10-64</td>\n      <td>el Camp de l'Arpa del Clot</td>\n      <td>161407.0</td>\n      <td>Indústria</td>\n      <td>0288 0288</td>\n      <td>Dijous</td>\n      <td>4</td>\n      <td>...</td>\n      <td>15.0</td>\n      <td>Tarda</td>\n      <td>Desconegut</td>\n      <td>0.0</td>\n      <td>1.0</td>\n      <td>0.0</td>\n      <td>1.0</td>\n      <td>2.0</td>\n      <td>431556,72</td>\n      <td>4585102,28</td>\n    </tr>\n    <tr>\n      <th>3</th>\n      <td>2012S005379</td>\n      <td>10.0</td>\n      <td>Sant Martí</td>\n      <td>101-10-64</td>\n      <td>el Camp de l'Arpa del Clot</td>\n      <td>297001.0</td>\n      <td>Sant Antoni Maria Claret</td>\n      <td>0356 0356</td>\n      <td>Dimarts</td>\n      <td>2</td>\n      <td>...</td>\n      <td>10.0</td>\n      <td>Matí</td>\n      <td>Creuar per fora pas de vianants</td>\n      <td>0.0</td>\n      <td>2.0</td>\n      <td>0.0</td>\n      <td>2.0</td>\n      <td>1.0</td>\n      <td>431552,73</td>\n      <td>4585266,01</td>\n    </tr>\n    <tr>\n      <th>4</th>\n      <td>2012S004837</td>\n      <td>10.0</td>\n      <td>Sant Martí</td>\n      <td>101-10-64</td>\n      <td>el Camp de l'Arpa del Clot</td>\n      <td>297001.0</td>\n      <td>Sant Antoni Maria Claret</td>\n      <td>0270 0270</td>\n      <td>Dimarts</td>\n      <td>2</td>\n      <td>...</td>\n      <td>14.0</td>\n      <td>Tarda</td>\n      <td>Desconegut</td>\n      <td>0.0</td>\n      <td>2.0</td>\n      <td>0.0</td>\n      <td>2.0</td>\n      <td>1.0</td>\n      <td>431180,43</td>\n      <td>4584898,92</td>\n    </tr>\n    <tr>\n      <th>...</th>\n      <td>...</td>\n      <td>...</td>\n      <td>...</td>\n      <td>...</td>\n      <td>...</td>\n      <td>...</td>\n      <td>...</td>\n      <td>...</td>\n      <td>...</td>\n      <td>...</td>\n      <td>...</td>\n      <td>...</td>\n      <td>...</td>\n      <td>...</td>\n      <td>...</td>\n      <td>...</td>\n      <td>...</td>\n      <td>...</td>\n      <td>...</td>\n      <td>...</td>\n      <td>...</td>\n    </tr>\n    <tr>\n      <th>85104</th>\n      <td>2020S006274</td>\n      <td>7.0</td>\n      <td>Horta-Guinardó</td>\n      <td>73-7-37</td>\n      <td>el Carmel</td>\n      <td>182600.0</td>\n      <td>Lluís Marià Vidal</td>\n      <td>0025 0025</td>\n      <td>Dijous</td>\n      <td>4</td>\n      <td>...</td>\n      <td>17.0</td>\n      <td>Tarda</td>\n      <td>Desconegut</td>\n      <td>0.0</td>\n      <td>0.0</td>\n      <td>0.0</td>\n      <td>0.0</td>\n      <td>1.0</td>\n      <td>4586412.97</td>\n      <td>429662.8</td>\n    </tr>\n    <tr>\n      <th>85105</th>\n      <td>2020S006275</td>\n      <td>2.0</td>\n      <td>Eixample</td>\n      <td>21-2-10</td>\n      <td>Sant Antoni</td>\n      <td>323203.0</td>\n      <td>Sepúlveda</td>\n      <td>0186 0186</td>\n      <td>Dijous</td>\n      <td>4</td>\n      <td>...</td>\n      <td>20.0</td>\n      <td>Tarda</td>\n      <td>Desconegut</td>\n      <td>0.0</td>\n      <td>2.0</td>\n      <td>0.0</td>\n      <td>2.0</td>\n      <td>2.0</td>\n      <td>4581881.31</td>\n      <td>430125.99</td>\n    </tr>\n    <tr>\n      <th>85106</th>\n      <td>2020S006276</td>\n      <td>1.0</td>\n      <td>Ciutat Vella</td>\n      <td>12-1-2</td>\n      <td>el Barri Gòtic</td>\n      <td>701266.0</td>\n      <td>Litoral (Llobregat)</td>\n      <td>1070000</td>\n      <td>Dijous</td>\n      <td>4</td>\n      <td>...</td>\n      <td>13.0</td>\n      <td>Matí</td>\n      <td>Desconegut</td>\n      <td>0.0</td>\n      <td>2.0</td>\n      <td>0.0</td>\n      <td>2.0</td>\n      <td>2.0</td>\n      <td>4581077.37</td>\n      <td>431410.4</td>\n    </tr>\n    <tr>\n      <th>85107</th>\n      <td>2020S006277</td>\n      <td>2.0</td>\n      <td>Eixample</td>\n      <td>22-2-9</td>\n      <td>la Nova Esquerra de l'Eixample</td>\n      <td>18505.0</td>\n      <td>Aragó</td>\n      <td>0127 0127</td>\n      <td>Dijous</td>\n      <td>4</td>\n      <td>...</td>\n      <td>21.0</td>\n      <td>Tarda</td>\n      <td>Desconegut</td>\n      <td>0.0</td>\n      <td>2.0</td>\n      <td>0.0</td>\n      <td>2.0</td>\n      <td>1.0</td>\n      <td>4581954.15</td>\n      <td>429362.84</td>\n    </tr>\n    <tr>\n      <th>85108</th>\n      <td>2020S006278</td>\n      <td>8.0</td>\n      <td>Nou Barris</td>\n      <td>84-8-44</td>\n      <td>Vilapicina i la Torre Llobeta</td>\n      <td>45701.0</td>\n      <td>Quinze</td>\n      <td>0007 0007</td>\n      <td>Dimarts</td>\n      <td>2</td>\n      <td>...</td>\n      <td>11.0</td>\n      <td>Matí</td>\n      <td>Desconegut</td>\n      <td>0.0</td>\n      <td>0.0</td>\n      <td>0.0</td>\n      <td>0.0</td>\n      <td>2.0</td>\n      <td>4586654.09</td>\n      <td>431221.22</td>\n    </tr>\n  </tbody>\n</table>\n<p>85109 rows × 25 columns</p>\n</div>"
     },
     "metadata": {},
     "execution_count": 16
    }
   ],
   "source": [
    "df_gu"
   ]
  },
  {
   "source": [
    "### Ahora, nuestra variable ``df_gu`` representa todos los accidentes registrados por la Guardia Urbana de la Ciudad de Barcelona, entre los años 2011 y 2020"
   ],
   "cell_type": "markdown",
   "metadata": {}
  }
 ]
}