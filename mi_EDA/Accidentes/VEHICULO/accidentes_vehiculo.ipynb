{
 "metadata": {
  "language_info": {
   "codemirror_mode": {
    "name": "ipython",
    "version": 3
   },
   "file_extension": ".py",
   "mimetype": "text/x-python",
   "name": "python",
   "nbconvert_exporter": "python",
   "pygments_lexer": "ipython3",
   "version": "3.7.4"
  },
  "orig_nbformat": 2,
  "kernelspec": {
   "name": "python374jvsc74a57bd0a0947237fadc8b5561fed326db280cc5ec46a670c87cfb3a0489cf95ff262303",
   "display_name": "Python 3.7.4 64-bit"
  },
  "metadata": {
   "interpreter": {
    "hash": "a0947237fadc8b5561fed326db280cc5ec46a670c87cfb3a0489cf95ff262303"
   }
  }
 },
 "nbformat": 4,
 "nbformat_minor": 2,
 "cells": [
  {
   "cell_type": "code",
   "execution_count": 1,
   "metadata": {},
   "outputs": [],
   "source": [
    "import pandas as pd"
   ]
  },
  {
   "cell_type": "code",
   "execution_count": 2,
   "metadata": {},
   "outputs": [],
   "source": [
    "def enlistar_dataframes(porcion_fichero):\n",
    "    ''' El argumento debe ser la porción del fichero correspondiente (str). '''\n",
    "    lista_df = []\n",
    "    for i in range(11,21):\n",
    "        try:\n",
    "            i = pd.read_csv('20'+str(i)+'/20'+str(i)+ porcion_fichero +str(i)+'-utf8.csv')\n",
    "        except:\n",
    "            try:\n",
    "                i = pd.read_csv('20'+str(i)+'/20'+str(i)+ porcion_fichero +str(i)+'-utf8.csv', sep=';')\n",
    "            except:\n",
    "                i = pd.read_excel('20'+str(i)+'/20'+str(i)+ porcion_fichero +str(i)+'.xlsx')\n",
    "        lista_df.append(i)\n",
    "    return lista_df\n",
    "\n",
    "\n",
    "\n",
    "def columna_vs_columna(lista_dataframes, posicion_df1, posicion_df2):\n",
    "    ''' Compara los nombres de las columnas de 2 dataframes que se encuentran en una lista, tomando como argumento la posición de dicho dataframe en la lista.\n",
    "    \n",
    "    Tener en cuenta que, para aplicarla, ambos dataframes deben tener la misma cantidad de columnas. '''\n",
    "    try:\n",
    "        for pos, valor in enumerate(lista_dataframes[posicion_df1].columns == lista_dataframes[posicion_df2].columns):\n",
    "            if valor == False:\n",
    "                print('         Posición de columna diferente: ' + str(pos))\n",
    "                print('         ---------------------------------')\n",
    "                print('         Columna de DF en posición ' + str(posicion_df1) + ': ' + lista_dataframes[posicion_df1].columns[pos])\n",
    "                print('         Columna de DF en posición ' + str(posicion_df2) + ': ' + lista_dataframes[posicion_df2].columns[pos])\n",
    "                print('         ================================================\\n')\n",
    "    except:\n",
    "        print('Los dataframes a comparar deben tener la misma cantidad de columnas.')\n",
    "\n",
    "\n",
    "\n",
    "def comparar_columnas(lista_dataframes): \n",
    "    ''' SE DEBE INGRESAR UNA LISTA DE DATAFRAMES A COMPARAR. '''\n",
    "    for i in range(len(lista_dataframes)):\n",
    "            for j in range(1, len(lista_dataframes)):    \n",
    "                if i < j:\n",
    "                    if len(lista_dataframes[i].columns) == len(lista_dataframes[j].columns):\n",
    "                        columnas_iguales = lista_dataframes[i].columns == lista_dataframes[j].columns # TRUE si coinciden, FALSE si no\n",
    "                        if all(columnas_iguales):\n",
    "                            print('Las columnas de ' + str(i) + ' (' + str(len(lista_dataframes[i].columns)) +') y ' + str(j)+ ' (' + str(len(lista_dataframes[j].columns)) + ') COINCIDEN.')\n",
    "                            print('======================================================')\n",
    "                            break\n",
    "                        else:\n",
    "                            print('\\nLas columnas de ' + str(i) + ' (' + str(len(lista_dataframes[i].columns)) +') y ' + str(j) + ' (' + str(len(lista_dataframes[j].columns)) + ') SON DISTINTAS.\\n')\n",
    "                            columna_vs_columna(lista_dataframes, i, j)\n",
    "                    else:\n",
    "                        print(str(i) +  ' (' + str(len(lista_dataframes[i].columns))  + ') y ' + str(j) + ' (' + str(len(lista_dataframes[j].columns)) + ') tienen distinta CANTIDAD de columnas.')\n",
    "                        print('======================================================')\n",
    "\n",
    "\n",
    "\n",
    "def mostrar_columnas(lista_dataframes):\n",
    "    ''' SE DEBE INGRESAR UNA LISTA DE DATAFRAMES '''\n",
    "    for i in range(len(lista_dataframes)):\n",
    "        print('Columnas de dataframe en posición ' + str(i) + ':')\n",
    "        print('------------------------------------')\n",
    "        print(lista_dataframes[i].columns)\n",
    "        print('\\nNúmero de columnas: ' + str(len(lista_dataframes[i].columns)) + '\\n')\n",
    "        print('===========================================================================================')\n",
    "\n",
    "\n",
    "\n",
    "def nombre_cada_columna(lista_dataframes):\n",
    "    tamanio_columnas = []\n",
    "    for df in lista_dataframes:\n",
    "        tamanio_columnas.append(len(df.columns))\n",
    "        a = max(tamanio_columnas)\n",
    "    for i in range(0,a):\n",
    "        print('Columna en posición ' + str(i) + '\\n')\n",
    "        for j in range(len(lista_dataframes)):\n",
    "            try:\n",
    "                print('DF en posición ' + str (j) + ': ' + str(lista_dataframes[j].columns[i]))\n",
    "            except:\n",
    "                print('DF en posición ' + str (j) + ': No contiene columnas en la posición ' + str(i))\n",
    "        print('\\n-------------------------------------\\n')\n",
    "\n",
    "\n",
    "\n",
    "def ver_ultimas_columnas(lista_dataframes):\n",
    "    tamanio_columnas = []\n",
    "    for df in lista_dataframes:\n",
    "        tamanio_columnas.append(len(df.columns))\n",
    "        a = max(tamanio_columnas)\n",
    "    for i in range(len(lista_dataframes)):\n",
    "        if len(lista_dataframes[i].columns) == (a-2):\n",
    "            print('Posición del DF ' + str(i) + ': '+ str(list(lista_dataframes[i].columns[-2::])))\n",
    "        elif len(lista_dataframes[i].columns) == a:\n",
    "            print('Posición del DF ' + str(i) + ': ' + str(list(lista_dataframes[i].columns[-4::])))\n",
    "\n",
    "\n",
    "\n",
    "def eliminar_columnas_finales(lista_dataframes):\n",
    "    tamanio_columnas = []\n",
    "    for df in lista_dataframes:\n",
    "        tamanio_columnas.append(len(df.columns))\n",
    "        a = max(tamanio_columnas)\n",
    "    for i in range(len(lista_dataframes)):\n",
    "        if len(lista_dataframes[i].columns) == a:\n",
    "            lista_dataframes[i] = lista_dataframes[i].iloc[:,:(a-2)]\n",
    "\n",
    "\n",
    "\n",
    "def ordenar_columnas_finales(lista_dataframes):\n",
    "    tamanio_columnas = []\n",
    "    for df in lista_dataframes:\n",
    "        tamanio_columnas.append(len(df.columns))\n",
    "        a = max(tamanio_columnas)\n",
    "    for i in range(len(lista_dataframes)):\n",
    "        if (lista_dataframes[i].columns[-1] == 'Coordenada UTM (X)') or (lista_dataframes[i].columns[-1] == 'Coordenada_UTM_X'):\n",
    "            col = lista_dataframes[i].columns.to_list()\n",
    "            col2 = col[0:(a-2)] + col[-1:] + col[-2:-1]\n",
    "            lista_dataframes[i] = lista_dataframes[i][col2]\n",
    "\n",
    "\n",
    "\n",
    "def renombrar_columnas(lista_dataframes, lista_nombres):\n",
    "    for i in range(len(lista_dataframes)):\n",
    "        lista_dataframes[i].columns = lista_nombres\n",
    "\n",
    "\n",
    "\n",
    "def unificar_lista_dataframe(lista_dataframes):\n",
    "    df_concatenados = pd.DataFrame()\n",
    "    for i in range(1, len(lista_dataframes)):\n",
    "        df_concatenados = df_concatenados.append(lista_dataframes[i], ignore_index = True)\n",
    "    return df_concatenados"
   ]
  },
  {
   "cell_type": "code",
   "execution_count": 3,
   "metadata": {},
   "outputs": [],
   "source": [
    "porcion_fichero = '_ACCIDENTS_VEHICLES_GU_BCN_20'"
   ]
  },
  {
   "cell_type": "code",
   "execution_count": 4,
   "metadata": {},
   "outputs": [],
   "source": [
    "lista_df_vehiculo = enlistar_dataframes(porcion_fichero)"
   ]
  },
  {
   "cell_type": "code",
   "execution_count": 6,
   "metadata": {},
   "outputs": [
    {
     "output_type": "stream",
     "name": "stdout",
     "text": [
      "Las columnas de 0 (25) y 1 (25) COINCIDEN.\n======================================================\nLas columnas de 1 (25) y 2 (25) COINCIDEN.\n======================================================\n\nLas columnas de 2 (25) y 3 (25) SON DISTINTAS.\n\n         Posición de columna diferente: 0\n         ---------------------------------\n         Columna de DF en posición 2: Codi d'expedient\n         Columna de DF en posición 3: Codi d expedient\n         ================================================\n\nLas columnas de 2 (25) y 4 (25) COINCIDEN.\n======================================================\n\nLas columnas de 3 (25) y 4 (25) SON DISTINTAS.\n\n         Posición de columna diferente: 0\n         ---------------------------------\n         Columna de DF en posición 3: Codi d expedient\n         Columna de DF en posición 4: Codi d'expedient\n         ================================================\n\n3 (25) y 5 (27) tienen distinta CANTIDAD de columnas.\n======================================================\n3 (25) y 6 (27) tienen distinta CANTIDAD de columnas.\n======================================================\n3 (25) y 7 (28) tienen distinta CANTIDAD de columnas.\n======================================================\n3 (25) y 8 (28) tienen distinta CANTIDAD de columnas.\n======================================================\n3 (25) y 9 (28) tienen distinta CANTIDAD de columnas.\n======================================================\n4 (25) y 5 (27) tienen distinta CANTIDAD de columnas.\n======================================================\n4 (25) y 6 (27) tienen distinta CANTIDAD de columnas.\n======================================================\n4 (25) y 7 (28) tienen distinta CANTIDAD de columnas.\n======================================================\n4 (25) y 8 (28) tienen distinta CANTIDAD de columnas.\n======================================================\n4 (25) y 9 (28) tienen distinta CANTIDAD de columnas.\n======================================================\n\nLas columnas de 5 (27) y 6 (27) SON DISTINTAS.\n\n         Posición de columna diferente: 7\n         ---------------------------------\n         Columna de DF en posición 5: Num_postal\n         Columna de DF en posición 6: Num_postal \n         ================================================\n\n         Posición de columna diferente: 25\n         ---------------------------------\n         Columna de DF en posición 5:  Longitud\n         Columna de DF en posición 6: Longitud\n         ================================================\n\n         Posición de columna diferente: 26\n         ---------------------------------\n         Columna de DF en posición 5:  Latitud\n         Columna de DF en posición 6: Latitud\n         ================================================\n\n5 (27) y 7 (28) tienen distinta CANTIDAD de columnas.\n======================================================\n5 (27) y 8 (28) tienen distinta CANTIDAD de columnas.\n======================================================\n5 (27) y 9 (28) tienen distinta CANTIDAD de columnas.\n======================================================\n6 (27) y 7 (28) tienen distinta CANTIDAD de columnas.\n======================================================\n6 (27) y 8 (28) tienen distinta CANTIDAD de columnas.\n======================================================\n6 (27) y 9 (28) tienen distinta CANTIDAD de columnas.\n======================================================\n\nLas columnas de 7 (28) y 8 (28) SON DISTINTAS.\n\n         Posición de columna diferente: 0\n         ---------------------------------\n         Columna de DF en posición 7: Codi_expedient\n         Columna de DF en posición 8: Numero_expedient\n         ================================================\n\n         Posición de columna diferente: 7\n         ---------------------------------\n         Columna de DF en posición 7: Num_postal \n         Columna de DF en posición 8: Num_postal\n         ================================================\n\n         Posición de columna diferente: 11\n         ---------------------------------\n         Columna de DF en posición 7: Any\n         Columna de DF en posición 8: NK_Any\n         ================================================\n\n\nLas columnas de 7 (28) y 9 (28) SON DISTINTAS.\n\n         Posición de columna diferente: 0\n         ---------------------------------\n         Columna de DF en posición 7: Codi_expedient\n         Columna de DF en posición 9: Numero_expedient\n         ================================================\n\n         Posición de columna diferente: 7\n         ---------------------------------\n         Columna de DF en posición 7: Num_postal \n         Columna de DF en posición 9: Num_postal\n         ================================================\n\n         Posición de columna diferente: 11\n         ---------------------------------\n         Columna de DF en posición 7: Any\n         Columna de DF en posición 9: NK_Any\n         ================================================\n\n         Posición de columna diferente: 26\n         ---------------------------------\n         Columna de DF en posición 7: Longitud\n         Columna de DF en posición 9: Latitud\n         ================================================\n\n         Posición de columna diferente: 27\n         ---------------------------------\n         Columna de DF en posición 7: Latitud\n         Columna de DF en posición 9: Longitud\n         ================================================\n\n\nLas columnas de 8 (28) y 9 (28) SON DISTINTAS.\n\n         Posición de columna diferente: 26\n         ---------------------------------\n         Columna de DF en posición 8: Longitud\n         Columna de DF en posición 9: Latitud\n         ================================================\n\n         Posición de columna diferente: 27\n         ---------------------------------\n         Columna de DF en posición 8: Latitud\n         Columna de DF en posición 9: Longitud\n         ================================================\n\n"
     ]
    }
   ],
   "source": [
    "comparar_columnas(lista_df_vehiculo)"
   ]
  },
  {
   "cell_type": "code",
   "execution_count": 7,
   "metadata": {},
   "outputs": [
    {
     "output_type": "stream",
     "name": "stdout",
     "text": [
      "Columnas de dataframe en posición 0:\n------------------------------------\nIndex(['Codi d'expedient', 'Codi districte', 'Nom districte', 'Codi barri',\n       'Nom barri', 'Codi carrer', 'Nom carrer', 'Num postal caption',\n       'Descripció dia setmana', 'Dia setmana', 'Descripció tipus dia',\n       'NK Any', 'Mes de any', 'Nom mes', 'Dia de mes', 'Hora de dia',\n       'Descripció causa vianant', 'Descripció tipus de vehicle',\n       'Descripció model', 'Descripció marca', 'Descripció color',\n       'Descripció carnet', 'Antiguitat carnet', 'Coordenada UTM (Y)',\n       'Coordenada UTM (X)'],\n      dtype='object')\n\nNúmero de columnas: 25\n\n===========================================================================================\nColumnas de dataframe en posición 1:\n------------------------------------\nIndex(['Codi d'expedient', 'Codi districte', 'Nom districte', 'Codi barri',\n       'Nom barri', 'Codi carrer', 'Nom carrer', 'Num postal caption',\n       'Descripció dia setmana', 'Dia setmana', 'Descripció tipus dia',\n       'NK Any', 'Mes de any', 'Nom mes', 'Dia de mes', 'Hora de dia',\n       'Descripció causa vianant', 'Descripció tipus de vehicle',\n       'Descripció model', 'Descripció marca', 'Descripció color',\n       'Descripció carnet', 'Antiguitat carnet', 'Coordenada UTM (Y)',\n       'Coordenada UTM (X)'],\n      dtype='object')\n\nNúmero de columnas: 25\n\n===========================================================================================\nColumnas de dataframe en posición 2:\n------------------------------------\nIndex(['Codi d'expedient', 'Codi districte', 'Nom districte', 'Codi barri',\n       'Nom barri', 'Codi carrer', 'Nom carrer', 'Num postal caption',\n       'Descripció dia setmana', 'Dia setmana', 'Descripció tipus dia',\n       'NK Any', 'Mes de any', 'Nom mes', 'Dia de mes', 'Hora de dia',\n       'Descripció causa vianant', 'Descripció tipus de vehicle',\n       'Descripció model', 'Descripció marca', 'Descripció color',\n       'Descripció carnet', 'Antiguitat carnet', 'Coordenada UTM (Y)',\n       'Coordenada UTM (X)'],\n      dtype='object')\n\nNúmero de columnas: 25\n\n===========================================================================================\nColumnas de dataframe en posición 3:\n------------------------------------\nIndex(['Codi d expedient', 'Codi districte', 'Nom districte', 'Codi barri',\n       'Nom barri', 'Codi carrer', 'Nom carrer', 'Num postal caption',\n       'Descripció dia setmana', 'Dia setmana', 'Descripció tipus dia',\n       'NK Any', 'Mes de any', 'Nom mes', 'Dia de mes', 'Hora de dia',\n       'Descripció causa vianant', 'Descripció tipus de vehicle',\n       'Descripció model', 'Descripció marca', 'Descripció color',\n       'Descripció carnet', 'Antiguitat carnet', 'Coordenada UTM (Y)',\n       'Coordenada UTM (X)'],\n      dtype='object')\n\nNúmero de columnas: 25\n\n===========================================================================================\nColumnas de dataframe en posición 4:\n------------------------------------\nIndex(['Codi d'expedient', 'Codi districte', 'Nom districte', 'Codi barri',\n       'Nom barri', 'Codi carrer', 'Nom carrer', 'Num postal caption',\n       'Descripció dia setmana', 'Dia setmana', 'Descripció tipus dia',\n       'NK Any', 'Mes de any', 'Nom mes', 'Dia de mes', 'Hora de dia',\n       'Descripció causa vianant', 'Descripció tipus de vehicle',\n       'Descripció model', 'Descripció marca', 'Descripció color',\n       'Descripció carnet', 'Antiguitat carnet', 'Coordenada UTM (Y)',\n       'Coordenada UTM (X)'],\n      dtype='object')\n\nNúmero de columnas: 25\n\n===========================================================================================\nColumnas de dataframe en posición 5:\n------------------------------------\nIndex(['Codi_expedient', 'Codi_districte', 'Nom_districte', 'Codi_barri',\n       'Nom_barri', 'Codi_carrer', 'Nom_carrer', 'Num_postal',\n       'Descripcio_dia_setmana', 'Dia_setmana', 'Descripcio_tipus_dia', 'Any',\n       'Mes_any', 'Nom_mes', 'Dia_mes', 'Hora_dia', 'Descripcio_causa_vianant',\n       'Descripcio_tipus_vehicle', 'Descripcio_model', 'Descripcio_marca',\n       'Descripcio_color', 'Descripcio_carnet', 'Antiguitat_carnet',\n       'Coordenada_UTM_X', 'Coordenada_UTM_Y', ' Longitud', ' Latitud'],\n      dtype='object')\n\nNúmero de columnas: 27\n\n===========================================================================================\nColumnas de dataframe en posición 6:\n------------------------------------\nIndex(['Codi_expedient', 'Codi_districte', 'Nom_districte', 'Codi_barri',\n       'Nom_barri', 'Codi_carrer', 'Nom_carrer', 'Num_postal ',\n       'Descripcio_dia_setmana', 'Dia_setmana', 'Descripcio_tipus_dia', 'Any',\n       'Mes_any', 'Nom_mes', 'Dia_mes', 'Hora_dia', 'Descripcio_causa_vianant',\n       'Descripcio_tipus_vehicle', 'Descripcio_model', 'Descripcio_marca',\n       'Descripcio_color', 'Descripcio_carnet', 'Antiguitat_carnet',\n       'Coordenada_UTM_X', 'Coordenada_UTM_Y', 'Longitud', 'Latitud'],\n      dtype='object')\n\nNúmero de columnas: 27\n\n===========================================================================================\nColumnas de dataframe en posición 7:\n------------------------------------\nIndex(['Codi_expedient', 'Codi_districte', 'Nom_districte', 'Codi_barri',\n       'Nom_barri', 'Codi_carrer', 'Nom_carrer', 'Num_postal ',\n       'Descripcio_dia_setmana', 'Dia_setmana', 'Descripcio_tipus_dia', 'Any',\n       'Mes_any', 'Nom_mes', 'Dia_mes', 'Hora_dia', 'Descripcio_torn',\n       'Descripcio_causa_vianant', 'Descripcio_tipus_vehicle',\n       'Descripcio_model', 'Descripcio_marca', 'Descripcio_color',\n       'Descripcio_carnet', 'Antiguitat_carnet', 'Coordenada_UTM_X',\n       'Coordenada_UTM_Y', 'Longitud', 'Latitud'],\n      dtype='object')\n\nNúmero de columnas: 28\n\n===========================================================================================\nColumnas de dataframe en posición 8:\n------------------------------------\nIndex(['Numero_expedient', 'Codi_districte', 'Nom_districte', 'Codi_barri',\n       'Nom_barri', 'Codi_carrer', 'Nom_carrer', 'Num_postal',\n       'Descripcio_dia_setmana', 'Dia_setmana', 'Descripcio_tipus_dia',\n       'NK_Any', 'Mes_any', 'Nom_mes', 'Dia_mes', 'Hora_dia',\n       'Descripcio_torn', 'Descripcio_causa_vianant',\n       'Descripcio_tipus_vehicle', 'Descripcio_model', 'Descripcio_marca',\n       'Descripcio_color', 'Descripcio_carnet', 'Antiguitat_carnet',\n       'Coordenada_UTM_X', 'Coordenada_UTM_Y', 'Longitud', 'Latitud'],\n      dtype='object')\n\nNúmero de columnas: 28\n\n===========================================================================================\nColumnas de dataframe en posición 9:\n------------------------------------\nIndex(['Numero_expedient', 'Codi_districte', 'Nom_districte', 'Codi_barri',\n       'Nom_barri', 'Codi_carrer', 'Nom_carrer', 'Num_postal',\n       'Descripcio_dia_setmana', 'Dia_setmana', 'Descripcio_tipus_dia',\n       'NK_Any', 'Mes_any', 'Nom_mes', 'Dia_mes', 'Hora_dia',\n       'Descripcio_torn', 'Descripcio_causa_vianant',\n       'Descripcio_tipus_vehicle', 'Descripcio_model', 'Descripcio_marca',\n       'Descripcio_color', 'Descripcio_carnet', 'Antiguitat_carnet',\n       'Coordenada_UTM_X', 'Coordenada_UTM_Y', 'Latitud', 'Longitud'],\n      dtype='object')\n\nNúmero de columnas: 28\n\n===========================================================================================\n"
     ]
    }
   ],
   "source": [
    "mostrar_columnas(lista_df_vehiculo)"
   ]
  },
  {
   "cell_type": "code",
   "execution_count": 8,
   "metadata": {},
   "outputs": [
    {
     "output_type": "stream",
     "name": "stdout",
     "text": [
      "Columna en posición 0\n\nDF en posición 0: Codi d'expedient\nDF en posición 1: Codi d'expedient\nDF en posición 2: Codi d'expedient\nDF en posición 3: Codi d expedient\nDF en posición 4: Codi d'expedient\nDF en posición 5: Codi_expedient\nDF en posición 6: Codi_expedient\nDF en posición 7: Codi_expedient\nDF en posición 8: Numero_expedient\nDF en posición 9: Numero_expedient\n\n-------------------------------------\n\nColumna en posición 1\n\nDF en posición 0: Codi districte\nDF en posición 1: Codi districte\nDF en posición 2: Codi districte\nDF en posición 3: Codi districte\nDF en posición 4: Codi districte\nDF en posición 5: Codi_districte\nDF en posición 6: Codi_districte\nDF en posición 7: Codi_districte\nDF en posición 8: Codi_districte\nDF en posición 9: Codi_districte\n\n-------------------------------------\n\nColumna en posición 2\n\nDF en posición 0: Nom districte\nDF en posición 1: Nom districte\nDF en posición 2: Nom districte\nDF en posición 3: Nom districte\nDF en posición 4: Nom districte\nDF en posición 5: Nom_districte\nDF en posición 6: Nom_districte\nDF en posición 7: Nom_districte\nDF en posición 8: Nom_districte\nDF en posición 9: Nom_districte\n\n-------------------------------------\n\nColumna en posición 3\n\nDF en posición 0: Codi barri\nDF en posición 1: Codi barri\nDF en posición 2: Codi barri\nDF en posición 3: Codi barri\nDF en posición 4: Codi barri\nDF en posición 5: Codi_barri\nDF en posición 6: Codi_barri\nDF en posición 7: Codi_barri\nDF en posición 8: Codi_barri\nDF en posición 9: Codi_barri\n\n-------------------------------------\n\nColumna en posición 4\n\nDF en posición 0: Nom barri\nDF en posición 1: Nom barri\nDF en posición 2: Nom barri\nDF en posición 3: Nom barri\nDF en posición 4: Nom barri\nDF en posición 5: Nom_barri\nDF en posición 6: Nom_barri\nDF en posición 7: Nom_barri\nDF en posición 8: Nom_barri\nDF en posición 9: Nom_barri\n\n-------------------------------------\n\nColumna en posición 5\n\nDF en posición 0: Codi carrer\nDF en posición 1: Codi carrer\nDF en posición 2: Codi carrer\nDF en posición 3: Codi carrer\nDF en posición 4: Codi carrer\nDF en posición 5: Codi_carrer\nDF en posición 6: Codi_carrer\nDF en posición 7: Codi_carrer\nDF en posición 8: Codi_carrer\nDF en posición 9: Codi_carrer\n\n-------------------------------------\n\nColumna en posición 6\n\nDF en posición 0: Nom carrer\nDF en posición 1: Nom carrer\nDF en posición 2: Nom carrer\nDF en posición 3: Nom carrer\nDF en posición 4: Nom carrer\nDF en posición 5: Nom_carrer\nDF en posición 6: Nom_carrer\nDF en posición 7: Nom_carrer\nDF en posición 8: Nom_carrer\nDF en posición 9: Nom_carrer\n\n-------------------------------------\n\nColumna en posición 7\n\nDF en posición 0: Num postal caption\nDF en posición 1: Num postal caption\nDF en posición 2: Num postal caption\nDF en posición 3: Num postal caption\nDF en posición 4: Num postal caption\nDF en posición 5: Num_postal\nDF en posición 6: Num_postal \nDF en posición 7: Num_postal \nDF en posición 8: Num_postal\nDF en posición 9: Num_postal\n\n-------------------------------------\n\nColumna en posición 8\n\nDF en posición 0: Descripció dia setmana\nDF en posición 1: Descripció dia setmana\nDF en posición 2: Descripció dia setmana\nDF en posición 3: Descripció dia setmana\nDF en posición 4: Descripció dia setmana\nDF en posición 5: Descripcio_dia_setmana\nDF en posición 6: Descripcio_dia_setmana\nDF en posición 7: Descripcio_dia_setmana\nDF en posición 8: Descripcio_dia_setmana\nDF en posición 9: Descripcio_dia_setmana\n\n-------------------------------------\n\nColumna en posición 9\n\nDF en posición 0: Dia setmana\nDF en posición 1: Dia setmana\nDF en posición 2: Dia setmana\nDF en posición 3: Dia setmana\nDF en posición 4: Dia setmana\nDF en posición 5: Dia_setmana\nDF en posición 6: Dia_setmana\nDF en posición 7: Dia_setmana\nDF en posición 8: Dia_setmana\nDF en posición 9: Dia_setmana\n\n-------------------------------------\n\nColumna en posición 10\n\nDF en posición 0: Descripció tipus dia\nDF en posición 1: Descripció tipus dia\nDF en posición 2: Descripció tipus dia\nDF en posición 3: Descripció tipus dia\nDF en posición 4: Descripció tipus dia\nDF en posición 5: Descripcio_tipus_dia\nDF en posición 6: Descripcio_tipus_dia\nDF en posición 7: Descripcio_tipus_dia\nDF en posición 8: Descripcio_tipus_dia\nDF en posición 9: Descripcio_tipus_dia\n\n-------------------------------------\n\nColumna en posición 11\n\nDF en posición 0: NK Any\nDF en posición 1: NK Any\nDF en posición 2: NK Any\nDF en posición 3: NK Any\nDF en posición 4: NK Any\nDF en posición 5: Any\nDF en posición 6: Any\nDF en posición 7: Any\nDF en posición 8: NK_Any\nDF en posición 9: NK_Any\n\n-------------------------------------\n\nColumna en posición 12\n\nDF en posición 0: Mes de any\nDF en posición 1: Mes de any\nDF en posición 2: Mes de any\nDF en posición 3: Mes de any\nDF en posición 4: Mes de any\nDF en posición 5: Mes_any\nDF en posición 6: Mes_any\nDF en posición 7: Mes_any\nDF en posición 8: Mes_any\nDF en posición 9: Mes_any\n\n-------------------------------------\n\nColumna en posición 13\n\nDF en posición 0: Nom mes\nDF en posición 1: Nom mes\nDF en posición 2: Nom mes\nDF en posición 3: Nom mes\nDF en posición 4: Nom mes\nDF en posición 5: Nom_mes\nDF en posición 6: Nom_mes\nDF en posición 7: Nom_mes\nDF en posición 8: Nom_mes\nDF en posición 9: Nom_mes\n\n-------------------------------------\n\nColumna en posición 14\n\nDF en posición 0: Dia de mes\nDF en posición 1: Dia de mes\nDF en posición 2: Dia de mes\nDF en posición 3: Dia de mes\nDF en posición 4: Dia de mes\nDF en posición 5: Dia_mes\nDF en posición 6: Dia_mes\nDF en posición 7: Dia_mes\nDF en posición 8: Dia_mes\nDF en posición 9: Dia_mes\n\n-------------------------------------\n\nColumna en posición 15\n\nDF en posición 0: Hora de dia\nDF en posición 1: Hora de dia\nDF en posición 2: Hora de dia\nDF en posición 3: Hora de dia\nDF en posición 4: Hora de dia\nDF en posición 5: Hora_dia\nDF en posición 6: Hora_dia\nDF en posición 7: Hora_dia\nDF en posición 8: Hora_dia\nDF en posición 9: Hora_dia\n\n-------------------------------------\n\nColumna en posición 16\n\nDF en posición 0: Descripció causa vianant\nDF en posición 1: Descripció causa vianant\nDF en posición 2: Descripció causa vianant\nDF en posición 3: Descripció causa vianant\nDF en posición 4: Descripció causa vianant\nDF en posición 5: Descripcio_causa_vianant\nDF en posición 6: Descripcio_causa_vianant\nDF en posición 7: Descripcio_torn\nDF en posición 8: Descripcio_torn\nDF en posición 9: Descripcio_torn\n\n-------------------------------------\n\nColumna en posición 17\n\nDF en posición 0: Descripció tipus de vehicle\nDF en posición 1: Descripció tipus de vehicle\nDF en posición 2: Descripció tipus de vehicle\nDF en posición 3: Descripció tipus de vehicle\nDF en posición 4: Descripció tipus de vehicle\nDF en posición 5: Descripcio_tipus_vehicle\nDF en posición 6: Descripcio_tipus_vehicle\nDF en posición 7: Descripcio_causa_vianant\nDF en posición 8: Descripcio_causa_vianant\nDF en posición 9: Descripcio_causa_vianant\n\n-------------------------------------\n\nColumna en posición 18\n\nDF en posición 0: Descripció model\nDF en posición 1: Descripció model\nDF en posición 2: Descripció model\nDF en posición 3: Descripció model\nDF en posición 4: Descripció model\nDF en posición 5: Descripcio_model\nDF en posición 6: Descripcio_model\nDF en posición 7: Descripcio_tipus_vehicle\nDF en posición 8: Descripcio_tipus_vehicle\nDF en posición 9: Descripcio_tipus_vehicle\n\n-------------------------------------\n\nColumna en posición 19\n\nDF en posición 0: Descripció marca\nDF en posición 1: Descripció marca\nDF en posición 2: Descripció marca\nDF en posición 3: Descripció marca\nDF en posición 4: Descripció marca\nDF en posición 5: Descripcio_marca\nDF en posición 6: Descripcio_marca\nDF en posición 7: Descripcio_model\nDF en posición 8: Descripcio_model\nDF en posición 9: Descripcio_model\n\n-------------------------------------\n\nColumna en posición 20\n\nDF en posición 0: Descripció color\nDF en posición 1: Descripció color\nDF en posición 2: Descripció color\nDF en posición 3: Descripció color\nDF en posición 4: Descripció color\nDF en posición 5: Descripcio_color\nDF en posición 6: Descripcio_color\nDF en posición 7: Descripcio_marca\nDF en posición 8: Descripcio_marca\nDF en posición 9: Descripcio_marca\n\n-------------------------------------\n\nColumna en posición 21\n\nDF en posición 0: Descripció carnet\nDF en posición 1: Descripció carnet\nDF en posición 2: Descripció carnet\nDF en posición 3: Descripció carnet\nDF en posición 4: Descripció carnet\nDF en posición 5: Descripcio_carnet\nDF en posición 6: Descripcio_carnet\nDF en posición 7: Descripcio_color\nDF en posición 8: Descripcio_color\nDF en posición 9: Descripcio_color\n\n-------------------------------------\n\nColumna en posición 22\n\nDF en posición 0: Antiguitat carnet\nDF en posición 1: Antiguitat carnet\nDF en posición 2: Antiguitat carnet\nDF en posición 3: Antiguitat carnet\nDF en posición 4: Antiguitat carnet\nDF en posición 5: Antiguitat_carnet\nDF en posición 6: Antiguitat_carnet\nDF en posición 7: Descripcio_carnet\nDF en posición 8: Descripcio_carnet\nDF en posición 9: Descripcio_carnet\n\n-------------------------------------\n\nColumna en posición 23\n\nDF en posición 0: Coordenada UTM (Y)\nDF en posición 1: Coordenada UTM (Y)\nDF en posición 2: Coordenada UTM (Y)\nDF en posición 3: Coordenada UTM (Y)\nDF en posición 4: Coordenada UTM (Y)\nDF en posición 5: Coordenada_UTM_X\nDF en posición 6: Coordenada_UTM_X\nDF en posición 7: Antiguitat_carnet\nDF en posición 8: Antiguitat_carnet\nDF en posición 9: Antiguitat_carnet\n\n-------------------------------------\n\nColumna en posición 24\n\nDF en posición 0: Coordenada UTM (X)\nDF en posición 1: Coordenada UTM (X)\nDF en posición 2: Coordenada UTM (X)\nDF en posición 3: Coordenada UTM (X)\nDF en posición 4: Coordenada UTM (X)\nDF en posición 5: Coordenada_UTM_Y\nDF en posición 6: Coordenada_UTM_Y\nDF en posición 7: Coordenada_UTM_X\nDF en posición 8: Coordenada_UTM_X\nDF en posición 9: Coordenada_UTM_X\n\n-------------------------------------\n\nColumna en posición 25\n\nDF en posición 0: No contiene columnas en la posición 25\nDF en posición 1: No contiene columnas en la posición 25\nDF en posición 2: No contiene columnas en la posición 25\nDF en posición 3: No contiene columnas en la posición 25\nDF en posición 4: No contiene columnas en la posición 25\nDF en posición 5:  Longitud\nDF en posición 6: Longitud\nDF en posición 7: Coordenada_UTM_Y\nDF en posición 8: Coordenada_UTM_Y\nDF en posición 9: Coordenada_UTM_Y\n\n-------------------------------------\n\nColumna en posición 26\n\nDF en posición 0: No contiene columnas en la posición 26\nDF en posición 1: No contiene columnas en la posición 26\nDF en posición 2: No contiene columnas en la posición 26\nDF en posición 3: No contiene columnas en la posición 26\nDF en posición 4: No contiene columnas en la posición 26\nDF en posición 5:  Latitud\nDF en posición 6: Latitud\nDF en posición 7: Longitud\nDF en posición 8: Longitud\nDF en posición 9: Latitud\n\n-------------------------------------\n\nColumna en posición 27\n\nDF en posición 0: No contiene columnas en la posición 27\nDF en posición 1: No contiene columnas en la posición 27\nDF en posición 2: No contiene columnas en la posición 27\nDF en posición 3: No contiene columnas en la posición 27\nDF en posición 4: No contiene columnas en la posición 27\nDF en posición 5: No contiene columnas en la posición 27\nDF en posición 6: No contiene columnas en la posición 27\nDF en posición 7: Latitud\nDF en posición 8: Latitud\nDF en posición 9: Longitud\n\n-------------------------------------\n\n"
     ]
    }
   ],
   "source": [
    "nombre_cada_columna(lista_df_vehiculo)"
   ]
  },
  {
   "source": [
    "### Como se puede observar, no todos los dataframes contenidos en la lista poseen el mismo número de columnas."
   ],
   "cell_type": "markdown",
   "metadata": {}
  },
  {
   "cell_type": "code",
   "execution_count": null,
   "metadata": {},
   "outputs": [],
   "source": [
    "ver_ultimas_columnas(lista_df_tipo)"
   ]
  },
  {
   "cell_type": "code",
   "execution_count": null,
   "metadata": {},
   "outputs": [],
   "source": [
    "eliminar_columnas_finales(lista_df_tipo)"
   ]
  },
  {
   "cell_type": "code",
   "execution_count": null,
   "metadata": {},
   "outputs": [],
   "source": [
    "ordenar_columnas_finales(lista_df_tipo)"
   ]
  },
  {
   "cell_type": "code",
   "execution_count": null,
   "metadata": {},
   "outputs": [],
   "source": [
    "nombre_cada_columna(lista_df_tipo)"
   ]
  },
  {
   "cell_type": "code",
   "execution_count": null,
   "metadata": {},
   "outputs": [],
   "source": [
    "nombres_columnas = ['NUMERO EXPEDIENTE', 'CODIGO DISTRITO', 'DISTRITO', 'CODIGO BARRIO', 'BARRIO', 'CODIGO CALLE', 'CALLE', 'NUMERO POSTAL', 'DIA SEMANA', 'DIA SEMANA ABREVIADO', 'TIPO DE DIA', 'ANO', 'MES (NUMERICO)', 'MES', 'DIA', 'HORA', 'TURNO', 'TIPO ACCIDENTE', 'COORDENADA UTM X', 'COORDENADA UTM Y']"
   ]
  },
  {
   "cell_type": "code",
   "execution_count": null,
   "metadata": {},
   "outputs": [],
   "source": [
    "renombrar_columnas(lista_df_tipo, nombres_columnas)"
   ]
  },
  {
   "cell_type": "code",
   "execution_count": null,
   "metadata": {},
   "outputs": [],
   "source": [
    "nombre_cada_columna(lista_df_tipo)"
   ]
  },
  {
   "cell_type": "code",
   "execution_count": null,
   "metadata": {},
   "outputs": [],
   "source": [
    "df_accidentes_tipo = unificar_lista_dataframe(lista_df_tipo)"
   ]
  },
  {
   "cell_type": "code",
   "execution_count": null,
   "metadata": {},
   "outputs": [],
   "source": [
    "df_accidentes_tipo"
   ]
  }
 ]
}