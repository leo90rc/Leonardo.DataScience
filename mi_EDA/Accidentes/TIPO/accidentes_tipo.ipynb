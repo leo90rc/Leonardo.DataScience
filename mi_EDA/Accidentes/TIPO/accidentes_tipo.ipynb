{
 "metadata": {
  "language_info": {
   "codemirror_mode": {
    "name": "ipython",
    "version": 3
   },
   "file_extension": ".py",
   "mimetype": "text/x-python",
   "name": "python",
   "nbconvert_exporter": "python",
   "pygments_lexer": "ipython3",
   "version": "3.7.4"
  },
  "orig_nbformat": 2,
  "kernelspec": {
   "name": "python374jvsc74a57bd0a0947237fadc8b5561fed326db280cc5ec46a670c87cfb3a0489cf95ff262303",
   "display_name": "Python 3.7.4 64-bit"
  },
  "metadata": {
   "interpreter": {
    "hash": "a0947237fadc8b5561fed326db280cc5ec46a670c87cfb3a0489cf95ff262303"
   }
  }
 },
 "nbformat": 4,
 "nbformat_minor": 2,
 "cells": [
  {
   "cell_type": "code",
   "execution_count": 1,
   "metadata": {},
   "outputs": [],
   "source": [
    "import pandas as pd\n",
    "import dtale"
   ]
  },
  {
   "cell_type": "code",
   "execution_count": 35,
   "metadata": {},
   "outputs": [
    {
     "output_type": "stream",
     "name": "stdout",
     "text": [
      "20\n",
      "20\n",
      "20\n",
      "20\n",
      "20\n",
      "20\n",
      "22\n",
      "22\n",
      "22\n",
      "22\n",
      "22\n"
     ]
    }
   ],
   "source": [
    "for i in range(10,21):\n",
    "    try:\n",
    "        accidentes_gu_2010 = pd.read_csv('20'+str(i)+'/20'+str(i)+'_ACCIDENTS_TIPUS_GU_BCN_20'+str(i)+'.csv')\n",
    "    except:\n",
    "        accidentes_gu_2010 = pd.read_csv('20'+str(i)+'/20'+str(i)+'_ACCIDENTS_TIPUS_GU_BCN_20'+str(i)+'.csv', sep=';')\n",
    "    print(accidentes_gu_2010.shape[1])"
   ]
  },
  {
   "cell_type": "code",
   "execution_count": 3,
   "metadata": {},
   "outputs": [],
   "source": [
    "accidentes_gu_2010 = pd.read_csv('2010/2010_ACCIDENTS_TIPUS_GU_BCN_2010.csv')"
   ]
  },
  {
   "cell_type": "code",
   "execution_count": 4,
   "metadata": {},
   "outputs": [],
   "source": [
    "accidentes_gu_2011 = pd.read_csv('2011/2011_ACCIDENTS_TIPUS_GU_BCN_2011.csv')"
   ]
  },
  {
   "cell_type": "code",
   "execution_count": 5,
   "metadata": {},
   "outputs": [],
   "source": [
    "accidentes_gu_2012 = pd.read_csv('2012/2012_ACCIDENTS_TIPUS_GU_BCN_2012.csv')"
   ]
  },
  {
   "cell_type": "code",
   "execution_count": 6,
   "metadata": {},
   "outputs": [],
   "source": [
    "accidentes_gu_2013 = pd.read_csv('2013/2013_ACCIDENTS_TIPUS_GU_BCN_2013.csv')"
   ]
  },
  {
   "cell_type": "code",
   "execution_count": 7,
   "metadata": {},
   "outputs": [],
   "source": [
    "accidentes_gu_2014 = pd.read_csv('2014/2014_ACCIDENTS_TIPUS_GU_BCN_2014.csv')"
   ]
  },
  {
   "cell_type": "code",
   "execution_count": 8,
   "metadata": {},
   "outputs": [],
   "source": [
    "accidentes_gu_2015 = pd.read_csv('2015/2015_ACCIDENTS_TIPUS_GU_BCN_2015.csv')"
   ]
  },
  {
   "cell_type": "code",
   "execution_count": 9,
   "metadata": {},
   "outputs": [],
   "source": [
    "accidentes_gu_2016 = pd.read_csv('2016/2016_ACCIDENTS_TIPUS_GU_BCN_2016.csv')"
   ]
  },
  {
   "cell_type": "code",
   "execution_count": 10,
   "metadata": {},
   "outputs": [],
   "source": [
    "accidentes_gu_2017 = pd.read_csv('2017/2017_ACCIDENTS_TIPUS_GU_BCN_2017.csv')"
   ]
  },
  {
   "cell_type": "code",
   "execution_count": 11,
   "metadata": {},
   "outputs": [],
   "source": [
    "accidentes_gu_2018 = pd.read_csv('2018/2018_ACCIDENTS_TIPUS_GU_BCN_2018.csv')"
   ]
  },
  {
   "cell_type": "code",
   "execution_count": 34,
   "metadata": {},
   "outputs": [
    {
     "output_type": "execute_result",
     "data": {
      "text/plain": [
       "      Numero_expedient  Codi_districte Nom_districte  Codi_barri  \\\n",
       "0      2019S000253                  10    Sant Martí          64   \n",
       "1      2019S006454                  10    Sant Martí          64   \n",
       "2      2019S006494                  10    Sant Martí          64   \n",
       "3      2019S009443                  10    Sant Martí          64   \n",
       "4      2019S004807                  10    Sant Martí          64   \n",
       "...                ...             ...           ...         ...   \n",
       "10531  2019S002117                   9   Sant Andreu          59   \n",
       "10532  2019S009630                   9   Sant Andreu          59   \n",
       "10533  2019S003199                   9   Sant Andreu          59   \n",
       "10534  2019S000477                   9   Sant Andreu          59   \n",
       "10535  2019S000812                   9   Sant Andreu          59   \n",
       "\n",
       "                        Nom_barri  Codi_carrer  \\\n",
       "0      el Camp de l'Arpa del Clot       161407   \n",
       "1      el Camp de l'Arpa del Clot       226400   \n",
       "2      el Camp de l'Arpa del Clot       194406   \n",
       "3      el Camp de l'Arpa del Clot       134801   \n",
       "4      el Camp de l'Arpa del Clot       350308   \n",
       "...                           ...          ...   \n",
       "10531               el Bon Pastor       701265   \n",
       "10532               el Bon Pastor       701265   \n",
       "10533               el Bon Pastor       701265   \n",
       "10534               el Bon Pastor        80101   \n",
       "10535               el Bon Pastor       151957   \n",
       "\n",
       "                                              Nom_carrer Num_postal_caption  \\\n",
       "0      Indústria                                     ...                321   \n",
       "1      Las Navas de Tolosa                           ...                347   \n",
       "2      Sant Antoni Maria Claret / Maragall           ...                NaN   \n",
       "3      Freser                                        ...                 50   \n",
       "4      València                                      ...                585   \n",
       "...                                                  ...                ...   \n",
       "10531  Monterrey                                     ...                  1   \n",
       "10532  B-10 (Besòs)                                  ...         K10          \n",
       "10533  Litoral (Besòs)                               ...         K13          \n",
       "10534  Ciutat d'Asunción                             ...                 16   \n",
       "10535  Litoral (Besòs)                               ...         K11          \n",
       "\n",
       "      Descripcio_dia_setmana Dia_setmana  ... Mes_any   Nom_mes  Dia_mes  \\\n",
       "0                  Divendres          Dv  ...       1     Gener       11   \n",
       "1                  Divendres          Dv  ...       8     Agost       16   \n",
       "2                   Diumenge          Dg  ...       8     Agost       18   \n",
       "3                   Dissabte          Ds  ...      12  Desembre        7   \n",
       "4                   Dimecres          Dc  ...       6      Juny       19   \n",
       "...                      ...         ...  ...     ...       ...      ...   \n",
       "10531                Dilluns          Dl  ...       3      Març       18   \n",
       "10532               Dissabte          Ds  ...      12  Desembre       14   \n",
       "10533              Divendres          Dv  ...       4     Abril       26   \n",
       "10534              Divendres          Dv  ...       1     Gener       18   \n",
       "10535                 Dijous          Dj  ...       1     Gener       31   \n",
       "\n",
       "      Hora_dia  Descripcio_torn  Descripcio_tipus_accident Coordenada_UTM_X  \\\n",
       "0           10             Matí       Caiguda (dues rodes)        431894.47   \n",
       "1            7             Matí                      Abast        431900.81   \n",
       "2           21            Tarda              Atropellament        431603.55   \n",
       "3           14            Tarda                      Abast        431554.07   \n",
       "4           18            Tarda                      Abast        431943.56   \n",
       "...        ...              ...                        ...              ...   \n",
       "10531       17            Tarda          Col.lisió lateral        433767.83   \n",
       "10532       11             Matí             Abast multiple        433698.18   \n",
       "10533       16            Tarda                      Abast        433851.83   \n",
       "10534       18            Tarda                      Abast        433328.51   \n",
       "10535        7             Matí          Col.lisió lateral        433753.25   \n",
       "\n",
       "      Coordenada_UTM_Y  Longitud    Latitud  \n",
       "0           4585568.41  2.183828  41.416959  \n",
       "1           4585612.04  2.183898  41.417353  \n",
       "2           4585443.43  2.180361  41.415809  \n",
       "3           4584884.72  2.179832  41.410773  \n",
       "4           4584665.15  2.184517  41.408828  \n",
       "...                ...       ...        ...  \n",
       "10531       4588493.80  2.205921  41.443464  \n",
       "10532       4588639.96  2.205071  41.444775  \n",
       "10533       4588380.51  2.206939  41.442451  \n",
       "10534       4587875.92  2.200731  41.437863  \n",
       "10535       4588556.56  2.205739  41.444028  \n",
       "\n",
       "[10536 rows x 22 columns]"
      ],
      "text/html": "<div>\n<style scoped>\n    .dataframe tbody tr th:only-of-type {\n        vertical-align: middle;\n    }\n\n    .dataframe tbody tr th {\n        vertical-align: top;\n    }\n\n    .dataframe thead th {\n        text-align: right;\n    }\n</style>\n<table border=\"1\" class=\"dataframe\">\n  <thead>\n    <tr style=\"text-align: right;\">\n      <th></th>\n      <th>Numero_expedient</th>\n      <th>Codi_districte</th>\n      <th>Nom_districte</th>\n      <th>Codi_barri</th>\n      <th>Nom_barri</th>\n      <th>Codi_carrer</th>\n      <th>Nom_carrer</th>\n      <th>Num_postal_caption</th>\n      <th>Descripcio_dia_setmana</th>\n      <th>Dia_setmana</th>\n      <th>...</th>\n      <th>Mes_any</th>\n      <th>Nom_mes</th>\n      <th>Dia_mes</th>\n      <th>Hora_dia</th>\n      <th>Descripcio_torn</th>\n      <th>Descripcio_tipus_accident</th>\n      <th>Coordenada_UTM_X</th>\n      <th>Coordenada_UTM_Y</th>\n      <th>Longitud</th>\n      <th>Latitud</th>\n    </tr>\n  </thead>\n  <tbody>\n    <tr>\n      <th>0</th>\n      <td>2019S000253</td>\n      <td>10</td>\n      <td>Sant Martí</td>\n      <td>64</td>\n      <td>el Camp de l'Arpa del Clot</td>\n      <td>161407</td>\n      <td>Indústria                                     ...</td>\n      <td>321</td>\n      <td>Divendres</td>\n      <td>Dv</td>\n      <td>...</td>\n      <td>1</td>\n      <td>Gener</td>\n      <td>11</td>\n      <td>10</td>\n      <td>Matí</td>\n      <td>Caiguda (dues rodes)</td>\n      <td>431894.47</td>\n      <td>4585568.41</td>\n      <td>2.183828</td>\n      <td>41.416959</td>\n    </tr>\n    <tr>\n      <th>1</th>\n      <td>2019S006454</td>\n      <td>10</td>\n      <td>Sant Martí</td>\n      <td>64</td>\n      <td>el Camp de l'Arpa del Clot</td>\n      <td>226400</td>\n      <td>Las Navas de Tolosa                           ...</td>\n      <td>347</td>\n      <td>Divendres</td>\n      <td>Dv</td>\n      <td>...</td>\n      <td>8</td>\n      <td>Agost</td>\n      <td>16</td>\n      <td>7</td>\n      <td>Matí</td>\n      <td>Abast</td>\n      <td>431900.81</td>\n      <td>4585612.04</td>\n      <td>2.183898</td>\n      <td>41.417353</td>\n    </tr>\n    <tr>\n      <th>2</th>\n      <td>2019S006494</td>\n      <td>10</td>\n      <td>Sant Martí</td>\n      <td>64</td>\n      <td>el Camp de l'Arpa del Clot</td>\n      <td>194406</td>\n      <td>Sant Antoni Maria Claret / Maragall           ...</td>\n      <td>NaN</td>\n      <td>Diumenge</td>\n      <td>Dg</td>\n      <td>...</td>\n      <td>8</td>\n      <td>Agost</td>\n      <td>18</td>\n      <td>21</td>\n      <td>Tarda</td>\n      <td>Atropellament</td>\n      <td>431603.55</td>\n      <td>4585443.43</td>\n      <td>2.180361</td>\n      <td>41.415809</td>\n    </tr>\n    <tr>\n      <th>3</th>\n      <td>2019S009443</td>\n      <td>10</td>\n      <td>Sant Martí</td>\n      <td>64</td>\n      <td>el Camp de l'Arpa del Clot</td>\n      <td>134801</td>\n      <td>Freser                                        ...</td>\n      <td>50</td>\n      <td>Dissabte</td>\n      <td>Ds</td>\n      <td>...</td>\n      <td>12</td>\n      <td>Desembre</td>\n      <td>7</td>\n      <td>14</td>\n      <td>Tarda</td>\n      <td>Abast</td>\n      <td>431554.07</td>\n      <td>4584884.72</td>\n      <td>2.179832</td>\n      <td>41.410773</td>\n    </tr>\n    <tr>\n      <th>4</th>\n      <td>2019S004807</td>\n      <td>10</td>\n      <td>Sant Martí</td>\n      <td>64</td>\n      <td>el Camp de l'Arpa del Clot</td>\n      <td>350308</td>\n      <td>València                                      ...</td>\n      <td>585</td>\n      <td>Dimecres</td>\n      <td>Dc</td>\n      <td>...</td>\n      <td>6</td>\n      <td>Juny</td>\n      <td>19</td>\n      <td>18</td>\n      <td>Tarda</td>\n      <td>Abast</td>\n      <td>431943.56</td>\n      <td>4584665.15</td>\n      <td>2.184517</td>\n      <td>41.408828</td>\n    </tr>\n    <tr>\n      <th>...</th>\n      <td>...</td>\n      <td>...</td>\n      <td>...</td>\n      <td>...</td>\n      <td>...</td>\n      <td>...</td>\n      <td>...</td>\n      <td>...</td>\n      <td>...</td>\n      <td>...</td>\n      <td>...</td>\n      <td>...</td>\n      <td>...</td>\n      <td>...</td>\n      <td>...</td>\n      <td>...</td>\n      <td>...</td>\n      <td>...</td>\n      <td>...</td>\n      <td>...</td>\n      <td>...</td>\n    </tr>\n    <tr>\n      <th>10531</th>\n      <td>2019S002117</td>\n      <td>9</td>\n      <td>Sant Andreu</td>\n      <td>59</td>\n      <td>el Bon Pastor</td>\n      <td>701265</td>\n      <td>Monterrey                                     ...</td>\n      <td>1</td>\n      <td>Dilluns</td>\n      <td>Dl</td>\n      <td>...</td>\n      <td>3</td>\n      <td>Març</td>\n      <td>18</td>\n      <td>17</td>\n      <td>Tarda</td>\n      <td>Col.lisió lateral</td>\n      <td>433767.83</td>\n      <td>4588493.80</td>\n      <td>2.205921</td>\n      <td>41.443464</td>\n    </tr>\n    <tr>\n      <th>10532</th>\n      <td>2019S009630</td>\n      <td>9</td>\n      <td>Sant Andreu</td>\n      <td>59</td>\n      <td>el Bon Pastor</td>\n      <td>701265</td>\n      <td>B-10 (Besòs)                                  ...</td>\n      <td>K10</td>\n      <td>Dissabte</td>\n      <td>Ds</td>\n      <td>...</td>\n      <td>12</td>\n      <td>Desembre</td>\n      <td>14</td>\n      <td>11</td>\n      <td>Matí</td>\n      <td>Abast multiple</td>\n      <td>433698.18</td>\n      <td>4588639.96</td>\n      <td>2.205071</td>\n      <td>41.444775</td>\n    </tr>\n    <tr>\n      <th>10533</th>\n      <td>2019S003199</td>\n      <td>9</td>\n      <td>Sant Andreu</td>\n      <td>59</td>\n      <td>el Bon Pastor</td>\n      <td>701265</td>\n      <td>Litoral (Besòs)                               ...</td>\n      <td>K13</td>\n      <td>Divendres</td>\n      <td>Dv</td>\n      <td>...</td>\n      <td>4</td>\n      <td>Abril</td>\n      <td>26</td>\n      <td>16</td>\n      <td>Tarda</td>\n      <td>Abast</td>\n      <td>433851.83</td>\n      <td>4588380.51</td>\n      <td>2.206939</td>\n      <td>41.442451</td>\n    </tr>\n    <tr>\n      <th>10534</th>\n      <td>2019S000477</td>\n      <td>9</td>\n      <td>Sant Andreu</td>\n      <td>59</td>\n      <td>el Bon Pastor</td>\n      <td>80101</td>\n      <td>Ciutat d'Asunción                             ...</td>\n      <td>16</td>\n      <td>Divendres</td>\n      <td>Dv</td>\n      <td>...</td>\n      <td>1</td>\n      <td>Gener</td>\n      <td>18</td>\n      <td>18</td>\n      <td>Tarda</td>\n      <td>Abast</td>\n      <td>433328.51</td>\n      <td>4587875.92</td>\n      <td>2.200731</td>\n      <td>41.437863</td>\n    </tr>\n    <tr>\n      <th>10535</th>\n      <td>2019S000812</td>\n      <td>9</td>\n      <td>Sant Andreu</td>\n      <td>59</td>\n      <td>el Bon Pastor</td>\n      <td>151957</td>\n      <td>Litoral (Besòs)                               ...</td>\n      <td>K11</td>\n      <td>Dijous</td>\n      <td>Dj</td>\n      <td>...</td>\n      <td>1</td>\n      <td>Gener</td>\n      <td>31</td>\n      <td>7</td>\n      <td>Matí</td>\n      <td>Col.lisió lateral</td>\n      <td>433753.25</td>\n      <td>4588556.56</td>\n      <td>2.205739</td>\n      <td>41.444028</td>\n    </tr>\n  </tbody>\n</table>\n<p>10536 rows × 22 columns</p>\n</div>"
     },
     "metadata": {},
     "execution_count": 34
    }
   ],
   "source": [
    "accidentes_tipo_2019 = pd.read_csv('2019/2019_ACCIDENTS_TIPUS_GU_BCN_2019.csv')\n",
    "accidentes_tipo_2019"
   ]
  },
  {
   "cell_type": "code",
   "execution_count": 31,
   "metadata": {},
   "outputs": [
    {
     "output_type": "execute_result",
     "data": {
      "text/plain": [
       "     Numero_expedient  Codi_districte   Nom_districte  Codi_barri  \\\n",
       "0     2020S000001                   7  Horta-Guinard�          36   \n",
       "1     2020S000002                   3  Sants-Montju�c          16   \n",
       "2     2020S000003                   2        Eixample           8   \n",
       "3     2020S000004                   4       Les Corts          19   \n",
       "4     2020S000005                   2        Eixample           7   \n",
       "...               ...             ...             ...         ...   \n",
       "6575  2020S006274                   7  Horta-Guinard�          37   \n",
       "6576  2020S006275                   2        Eixample          10   \n",
       "6577  2020S006276                   1    Ciutat Vella           2   \n",
       "6578  2020S006277                   2        Eixample           9   \n",
       "6579  2020S006278                   8      Nou Barris          44   \n",
       "\n",
       "                            Nom_barri  Codi_carrer           Nom_carrer  \\\n",
       "0                la Font d'en Fargues       194406             Maragall   \n",
       "1                          la Bordeta       169409      Corts Catalanes   \n",
       "2     l'Antiga Esquerra de l'Eixample       320704               Sarri�   \n",
       "3                           les Corts       101904       Doctor Fleming   \n",
       "4              la Dreta de l'Eixample       309406            Sant Pere   \n",
       "...                               ...          ...                  ...   \n",
       "6575                        el Carmel       182600    Llu�s Mari� Vidal   \n",
       "6576                      Sant Antoni       323203            Sep�lveda   \n",
       "6577                   el Barri G�tic       701266  Litoral (Llobregat)   \n",
       "6578   la Nova Esquerra de l'Eixample        18505                Arag�   \n",
       "6579    Vilapicina i la Torre Llobeta        45701               Quinze   \n",
       "\n",
       "     Num_postal_caption Descripcio_dia_setmana Dia_setmana  ... Mes_any  \\\n",
       "0             0353 0355               Dimecres          Dc  ...       1   \n",
       "1             0203 0203               Dimecres          Dc  ...       1   \n",
       "2             0018 0018               Dimecres          Dc  ...       1   \n",
       "3             0002 0002               Dimecres          Dc  ...       1   \n",
       "4             0029 0029               Dimecres          Dc  ...       1   \n",
       "...                 ...                    ...         ...  ...     ...   \n",
       "6575          0025 0025                 Dijous          Dj  ...      12   \n",
       "6576          0181 0181                 Dijous          Dj  ...      12   \n",
       "6577            1070000                 Dijous          Dj  ...      12   \n",
       "6578          0127 0127                 Dijous          Dj  ...      12   \n",
       "6579          0007 0007                Dimarts          Dm  ...      12   \n",
       "\n",
       "       Nom_mes  Dia_mes Hora_dia  Descripcio_torn   Descripcio_tipus_accident  \\\n",
       "0        Gener        1        0              Nit  Xoc contra element est�tic   \n",
       "1        Gener        1        2              Nit               Atropellament   \n",
       "2        Gener        1        2              Nit           Col.lisi� lateral   \n",
       "3        Gener        1        6             Mat�  Xoc contra element est�tic   \n",
       "4        Gener        1        4              Nit               Atropellament   \n",
       "...        ...      ...      ...              ...                         ...   \n",
       "6575  Desembre       31       17            Tarda  Xoc contra element est�tic   \n",
       "6576  Desembre       31       20            Tarda           Col.lisi� lateral   \n",
       "6577  Desembre       31       13             Mat�    Col.lisi� fronto-lateral   \n",
       "6578  Desembre       31       21            Tarda        Caiguda (dues rodes)   \n",
       "6579  Desembre       22       11             Mat�  Xoc contra element est�tic   \n",
       "\n",
       "     Coordenada_UTM_X Coordenada_UTM_Y       Longitud         Latitud  \n",
       "0           430501,45       4586751,53  2.167.115.845   4.142.747.394  \n",
       "1           428225,71       4580279,72  2.140.650.262  41.368.984.627  \n",
       "2           428532,59       4582672,59  2.144.036.982  41.390.563.692  \n",
       "3           427929,13       4582767,09  2.136.808.386  41.391.360.941  \n",
       "4           431157,87       4582598,57  2.175.443.819  41.390.126.129  \n",
       "...               ...              ...            ...             ...  \n",
       "6575         429662,8       4586412,97  2.157.119.314  41.424.351.626  \n",
       "6576        430106,32       4581892,49  2.162.948.844  41.383.675.949  \n",
       "6577         431410,4       4581077,37  2.178.636.368  41.376.446.686  \n",
       "6578        429362,84       4581954,15  2.154.050.572  41.384.166.329  \n",
       "6579        431221,22       4586654,09  2.175.740.293  41.426.658.319  \n",
       "\n",
       "[6580 rows x 22 columns]"
      ],
      "text/html": "<div>\n<style scoped>\n    .dataframe tbody tr th:only-of-type {\n        vertical-align: middle;\n    }\n\n    .dataframe tbody tr th {\n        vertical-align: top;\n    }\n\n    .dataframe thead th {\n        text-align: right;\n    }\n</style>\n<table border=\"1\" class=\"dataframe\">\n  <thead>\n    <tr style=\"text-align: right;\">\n      <th></th>\n      <th>Numero_expedient</th>\n      <th>Codi_districte</th>\n      <th>Nom_districte</th>\n      <th>Codi_barri</th>\n      <th>Nom_barri</th>\n      <th>Codi_carrer</th>\n      <th>Nom_carrer</th>\n      <th>Num_postal_caption</th>\n      <th>Descripcio_dia_setmana</th>\n      <th>Dia_setmana</th>\n      <th>...</th>\n      <th>Mes_any</th>\n      <th>Nom_mes</th>\n      <th>Dia_mes</th>\n      <th>Hora_dia</th>\n      <th>Descripcio_torn</th>\n      <th>Descripcio_tipus_accident</th>\n      <th>Coordenada_UTM_X</th>\n      <th>Coordenada_UTM_Y</th>\n      <th>Longitud</th>\n      <th>Latitud</th>\n    </tr>\n  </thead>\n  <tbody>\n    <tr>\n      <th>0</th>\n      <td>2020S000001</td>\n      <td>7</td>\n      <td>Horta-Guinard�</td>\n      <td>36</td>\n      <td>la Font d'en Fargues</td>\n      <td>194406</td>\n      <td>Maragall</td>\n      <td>0353 0355</td>\n      <td>Dimecres</td>\n      <td>Dc</td>\n      <td>...</td>\n      <td>1</td>\n      <td>Gener</td>\n      <td>1</td>\n      <td>0</td>\n      <td>Nit</td>\n      <td>Xoc contra element est�tic</td>\n      <td>430501,45</td>\n      <td>4586751,53</td>\n      <td>2.167.115.845</td>\n      <td>4.142.747.394</td>\n    </tr>\n    <tr>\n      <th>1</th>\n      <td>2020S000002</td>\n      <td>3</td>\n      <td>Sants-Montju�c</td>\n      <td>16</td>\n      <td>la Bordeta</td>\n      <td>169409</td>\n      <td>Corts Catalanes</td>\n      <td>0203 0203</td>\n      <td>Dimecres</td>\n      <td>Dc</td>\n      <td>...</td>\n      <td>1</td>\n      <td>Gener</td>\n      <td>1</td>\n      <td>2</td>\n      <td>Nit</td>\n      <td>Atropellament</td>\n      <td>428225,71</td>\n      <td>4580279,72</td>\n      <td>2.140.650.262</td>\n      <td>41.368.984.627</td>\n    </tr>\n    <tr>\n      <th>2</th>\n      <td>2020S000003</td>\n      <td>2</td>\n      <td>Eixample</td>\n      <td>8</td>\n      <td>l'Antiga Esquerra de l'Eixample</td>\n      <td>320704</td>\n      <td>Sarri�</td>\n      <td>0018 0018</td>\n      <td>Dimecres</td>\n      <td>Dc</td>\n      <td>...</td>\n      <td>1</td>\n      <td>Gener</td>\n      <td>1</td>\n      <td>2</td>\n      <td>Nit</td>\n      <td>Col.lisi� lateral</td>\n      <td>428532,59</td>\n      <td>4582672,59</td>\n      <td>2.144.036.982</td>\n      <td>41.390.563.692</td>\n    </tr>\n    <tr>\n      <th>3</th>\n      <td>2020S000004</td>\n      <td>4</td>\n      <td>Les Corts</td>\n      <td>19</td>\n      <td>les Corts</td>\n      <td>101904</td>\n      <td>Doctor Fleming</td>\n      <td>0002 0002</td>\n      <td>Dimecres</td>\n      <td>Dc</td>\n      <td>...</td>\n      <td>1</td>\n      <td>Gener</td>\n      <td>1</td>\n      <td>6</td>\n      <td>Mat�</td>\n      <td>Xoc contra element est�tic</td>\n      <td>427929,13</td>\n      <td>4582767,09</td>\n      <td>2.136.808.386</td>\n      <td>41.391.360.941</td>\n    </tr>\n    <tr>\n      <th>4</th>\n      <td>2020S000005</td>\n      <td>2</td>\n      <td>Eixample</td>\n      <td>7</td>\n      <td>la Dreta de l'Eixample</td>\n      <td>309406</td>\n      <td>Sant Pere</td>\n      <td>0029 0029</td>\n      <td>Dimecres</td>\n      <td>Dc</td>\n      <td>...</td>\n      <td>1</td>\n      <td>Gener</td>\n      <td>1</td>\n      <td>4</td>\n      <td>Nit</td>\n      <td>Atropellament</td>\n      <td>431157,87</td>\n      <td>4582598,57</td>\n      <td>2.175.443.819</td>\n      <td>41.390.126.129</td>\n    </tr>\n    <tr>\n      <th>...</th>\n      <td>...</td>\n      <td>...</td>\n      <td>...</td>\n      <td>...</td>\n      <td>...</td>\n      <td>...</td>\n      <td>...</td>\n      <td>...</td>\n      <td>...</td>\n      <td>...</td>\n      <td>...</td>\n      <td>...</td>\n      <td>...</td>\n      <td>...</td>\n      <td>...</td>\n      <td>...</td>\n      <td>...</td>\n      <td>...</td>\n      <td>...</td>\n      <td>...</td>\n      <td>...</td>\n    </tr>\n    <tr>\n      <th>6575</th>\n      <td>2020S006274</td>\n      <td>7</td>\n      <td>Horta-Guinard�</td>\n      <td>37</td>\n      <td>el Carmel</td>\n      <td>182600</td>\n      <td>Llu�s Mari� Vidal</td>\n      <td>0025 0025</td>\n      <td>Dijous</td>\n      <td>Dj</td>\n      <td>...</td>\n      <td>12</td>\n      <td>Desembre</td>\n      <td>31</td>\n      <td>17</td>\n      <td>Tarda</td>\n      <td>Xoc contra element est�tic</td>\n      <td>429662,8</td>\n      <td>4586412,97</td>\n      <td>2.157.119.314</td>\n      <td>41.424.351.626</td>\n    </tr>\n    <tr>\n      <th>6576</th>\n      <td>2020S006275</td>\n      <td>2</td>\n      <td>Eixample</td>\n      <td>10</td>\n      <td>Sant Antoni</td>\n      <td>323203</td>\n      <td>Sep�lveda</td>\n      <td>0181 0181</td>\n      <td>Dijous</td>\n      <td>Dj</td>\n      <td>...</td>\n      <td>12</td>\n      <td>Desembre</td>\n      <td>31</td>\n      <td>20</td>\n      <td>Tarda</td>\n      <td>Col.lisi� lateral</td>\n      <td>430106,32</td>\n      <td>4581892,49</td>\n      <td>2.162.948.844</td>\n      <td>41.383.675.949</td>\n    </tr>\n    <tr>\n      <th>6577</th>\n      <td>2020S006276</td>\n      <td>1</td>\n      <td>Ciutat Vella</td>\n      <td>2</td>\n      <td>el Barri G�tic</td>\n      <td>701266</td>\n      <td>Litoral (Llobregat)</td>\n      <td>1070000</td>\n      <td>Dijous</td>\n      <td>Dj</td>\n      <td>...</td>\n      <td>12</td>\n      <td>Desembre</td>\n      <td>31</td>\n      <td>13</td>\n      <td>Mat�</td>\n      <td>Col.lisi� fronto-lateral</td>\n      <td>431410,4</td>\n      <td>4581077,37</td>\n      <td>2.178.636.368</td>\n      <td>41.376.446.686</td>\n    </tr>\n    <tr>\n      <th>6578</th>\n      <td>2020S006277</td>\n      <td>2</td>\n      <td>Eixample</td>\n      <td>9</td>\n      <td>la Nova Esquerra de l'Eixample</td>\n      <td>18505</td>\n      <td>Arag�</td>\n      <td>0127 0127</td>\n      <td>Dijous</td>\n      <td>Dj</td>\n      <td>...</td>\n      <td>12</td>\n      <td>Desembre</td>\n      <td>31</td>\n      <td>21</td>\n      <td>Tarda</td>\n      <td>Caiguda (dues rodes)</td>\n      <td>429362,84</td>\n      <td>4581954,15</td>\n      <td>2.154.050.572</td>\n      <td>41.384.166.329</td>\n    </tr>\n    <tr>\n      <th>6579</th>\n      <td>2020S006278</td>\n      <td>8</td>\n      <td>Nou Barris</td>\n      <td>44</td>\n      <td>Vilapicina i la Torre Llobeta</td>\n      <td>45701</td>\n      <td>Quinze</td>\n      <td>0007 0007</td>\n      <td>Dimarts</td>\n      <td>Dm</td>\n      <td>...</td>\n      <td>12</td>\n      <td>Desembre</td>\n      <td>22</td>\n      <td>11</td>\n      <td>Mat�</td>\n      <td>Xoc contra element est�tic</td>\n      <td>431221,22</td>\n      <td>4586654,09</td>\n      <td>2.175.740.293</td>\n      <td>41.426.658.319</td>\n    </tr>\n  </tbody>\n</table>\n<p>6580 rows × 22 columns</p>\n</div>"
     },
     "metadata": {},
     "execution_count": 31
    }
   ],
   "source": [
    "accidentes_tipo_2020 = pd.read_csv('2020/2020_ACCIDENTS_TIPUS_GU_BCN_2020_2.csv', sep=';')\n",
    "accidentes_tipo_2020"
   ]
  },
  {
   "cell_type": "code",
   "execution_count": 27,
   "metadata": {},
   "outputs": [
    {
     "output_type": "stream",
     "name": "stderr",
     "text": [
      "Skipping line 66: Expected 3 fields in line 66, saw 4\nSkipping line 71: Expected 3 fields in line 71, saw 4\nSkipping line 90: Expected 3 fields in line 90, saw 4\nSkipping line 293: Expected 3 fields in line 293, saw 4\nSkipping line 302: Expected 3 fields in line 302, saw 4\nSkipping line 390: Expected 3 fields in line 390, saw 4\nSkipping line 488: Expected 3 fields in line 488, saw 4\nSkipping line 562: Expected 3 fields in line 562, saw 4\nSkipping line 833: Expected 3 fields in line 833, saw 4\nSkipping line 874: Expected 3 fields in line 874, saw 4\nSkipping line 1005: Expected 3 fields in line 1005, saw 4\nSkipping line 1006: Expected 3 fields in line 1006, saw 4\nSkipping line 1017: Expected 3 fields in line 1017, saw 4\nSkipping line 1074: Expected 3 fields in line 1074, saw 4\nSkipping line 1184: Expected 3 fields in line 1184, saw 4\nSkipping line 1195: Expected 3 fields in line 1195, saw 4\nSkipping line 1239: Expected 3 fields in line 1239, saw 4\nSkipping line 1242: Expected 3 fields in line 1242, saw 4\nSkipping line 1272: Expected 3 fields in line 1272, saw 4\nSkipping line 1334: Expected 3 fields in line 1334, saw 4\nSkipping line 1376: Expected 3 fields in line 1376, saw 4\nSkipping line 1384: Expected 3 fields in line 1384, saw 4\nSkipping line 1485: Expected 3 fields in line 1485, saw 4\nSkipping line 1717: Expected 3 fields in line 1717, saw 4\nSkipping line 1737: Expected 3 fields in line 1737, saw 4\nSkipping line 1769: Expected 3 fields in line 1769, saw 4\nSkipping line 1781: Expected 3 fields in line 1781, saw 4\nSkipping line 1850: Expected 3 fields in line 1850, saw 4\nSkipping line 1877: Expected 3 fields in line 1877, saw 4\nSkipping line 1894: Expected 3 fields in line 1894, saw 4\nSkipping line 1895: Expected 3 fields in line 1895, saw 4\nSkipping line 1906: Expected 3 fields in line 1906, saw 4\nSkipping line 1927: Expected 3 fields in line 1927, saw 4\nSkipping line 1953: Expected 3 fields in line 1953, saw 4\nSkipping line 2051: Expected 3 fields in line 2051, saw 4\nSkipping line 2055: Expected 3 fields in line 2055, saw 4\nSkipping line 2056: Expected 3 fields in line 2056, saw 4\nSkipping line 2130: Expected 3 fields in line 2130, saw 4\nSkipping line 2160: Expected 3 fields in line 2160, saw 4\nSkipping line 2197: Expected 3 fields in line 2197, saw 4\nSkipping line 2225: Expected 3 fields in line 2225, saw 4\nSkipping line 2263: Expected 3 fields in line 2263, saw 4\nSkipping line 2291: Expected 3 fields in line 2291, saw 4\nSkipping line 2310: Expected 3 fields in line 2310, saw 4\nSkipping line 2337: Expected 3 fields in line 2337, saw 4\nSkipping line 2509: Expected 3 fields in line 2509, saw 4\nSkipping line 2588: Expected 3 fields in line 2588, saw 4\nSkipping line 2662: Expected 3 fields in line 2662, saw 4\nSkipping line 2854: Expected 3 fields in line 2854, saw 4\nSkipping line 2927: Expected 3 fields in line 2927, saw 4\nSkipping line 2947: Expected 3 fields in line 2947, saw 4\nSkipping line 2948: Expected 3 fields in line 2948, saw 4\nSkipping line 3058: Expected 3 fields in line 3058, saw 4\nSkipping line 3085: Expected 3 fields in line 3085, saw 4\nSkipping line 3116: Expected 3 fields in line 3116, saw 4\nSkipping line 3121: Expected 3 fields in line 3121, saw 4\nSkipping line 3153: Expected 3 fields in line 3153, saw 4\nSkipping line 3225: Expected 3 fields in line 3225, saw 4\nSkipping line 3380: Expected 3 fields in line 3380, saw 4\nSkipping line 3458: Expected 3 fields in line 3458, saw 4\nSkipping line 3459: Expected 3 fields in line 3459, saw 4\nSkipping line 3509: Expected 3 fields in line 3509, saw 4\nSkipping line 3510: Expected 3 fields in line 3510, saw 4\nSkipping line 3524: Expected 3 fields in line 3524, saw 4\nSkipping line 3601: Expected 3 fields in line 3601, saw 4\nSkipping line 3791: Expected 3 fields in line 3791, saw 4\nSkipping line 3853: Expected 3 fields in line 3853, saw 4\nSkipping line 3897: Expected 3 fields in line 3897, saw 4\nSkipping line 3898: Expected 3 fields in line 3898, saw 4\nSkipping line 3910: Expected 3 fields in line 3910, saw 4\nSkipping line 3980: Expected 3 fields in line 3980, saw 4\nSkipping line 3997: Expected 3 fields in line 3997, saw 4\nSkipping line 4019: Expected 3 fields in line 4019, saw 4\nSkipping line 4047: Expected 3 fields in line 4047, saw 4\nSkipping line 4204: Expected 3 fields in line 4204, saw 4\nSkipping line 4359: Expected 3 fields in line 4359, saw 4\nSkipping line 4365: Expected 3 fields in line 4365, saw 4\nSkipping line 4387: Expected 3 fields in line 4387, saw 4\nSkipping line 4417: Expected 3 fields in line 4417, saw 4\nSkipping line 4418: Expected 3 fields in line 4418, saw 4\nSkipping line 4426: Expected 3 fields in line 4426, saw 4\nSkipping line 4456: Expected 3 fields in line 4456, saw 4\nSkipping line 4558: Expected 3 fields in line 4558, saw 4\nSkipping line 4663: Expected 3 fields in line 4663, saw 4\nSkipping line 4723: Expected 3 fields in line 4723, saw 4\nSkipping line 4748: Expected 3 fields in line 4748, saw 4\nSkipping line 4762: Expected 3 fields in line 4762, saw 4\nSkipping line 4939: Expected 3 fields in line 4939, saw 4\nSkipping line 4940: Expected 3 fields in line 4940, saw 4\nSkipping line 4997: Expected 3 fields in line 4997, saw 4\nSkipping line 5081: Expected 3 fields in line 5081, saw 4\nSkipping line 5126: Expected 3 fields in line 5126, saw 4\nSkipping line 5158: Expected 3 fields in line 5158, saw 4\nSkipping line 5232: Expected 3 fields in line 5232, saw 4\nSkipping line 5327: Expected 3 fields in line 5327, saw 4\nSkipping line 5366: Expected 3 fields in line 5366, saw 4\nSkipping line 5386: Expected 3 fields in line 5386, saw 4\nSkipping line 5430: Expected 3 fields in line 5430, saw 4\nSkipping line 5462: Expected 3 fields in line 5462, saw 4\nSkipping line 5463: Expected 3 fields in line 5463, saw 4\nSkipping line 5526: Expected 3 fields in line 5526, saw 4\nSkipping line 5594: Expected 3 fields in line 5594, saw 4\nSkipping line 5723: Expected 3 fields in line 5723, saw 4\nSkipping line 5849: Expected 3 fields in line 5849, saw 4\nSkipping line 5957: Expected 3 fields in line 5957, saw 4\nSkipping line 5963: Expected 3 fields in line 5963, saw 4\nSkipping line 5964: Expected 3 fields in line 5964, saw 4\nSkipping line 6069: Expected 3 fields in line 6069, saw 4\nSkipping line 6120: Expected 3 fields in line 6120, saw 4\nSkipping line 6148: Expected 3 fields in line 6148, saw 4\nSkipping line 6391: Expected 3 fields in line 6391, saw 4\nSkipping line 6440: Expected 3 fields in line 6440, saw 4\n"
     ]
    },
    {
     "output_type": "execute_result",
     "data": {
      "text/plain": [
       "                                                              Numero_expedient;Codi_districte;Nom_districte;Codi_barri;Nom_barri;Codi_carrer;Nom_carrer;Num_postal_caption;Descripcio_dia_setmana;Dia_setmana;Descripcio_tipus_dia;NK_Any;Mes_any;Nom_mes;Dia_mes;Hora_dia;Descripcio_torn;Descripcio_tipus_accident;Coordenada_UTM_X;Coordenada_UTM_Y;Longitud;Latitud\n",
       "2020S000001    ;7;Horta-Guinard�;36;la Font d'e... 45;4586751                     53;2.167.115.845;4.142.747.394                                                                                                                                                                                                                                                       \n",
       "2020S000002    ;3;Sants-Montju�c;16;la Bordeta;... 71;4580279                    72;2.140.650.262;41.368.984.627                                                                                                                                                                                                                                                       \n",
       "2020S000003    ;2;Eixample;8;l'Antiga Esquerra ... 59;4582672                    59;2.144.036.982;41.390.563.692                                                                                                                                                                                                                                                       \n",
       "2020S000004    ;4;Les Corts;19;les Corts;101904... 13;4582767                    09;2.136.808.386;41.391.360.941                                                                                                                                                                                                                                                       \n",
       "2020S000005    ;2;Eixample;7;la Dreta de l'Eixa... 87;4582598                    57;2.175.443.819;41.390.126.129                                                                                                                                                                                                                                                       \n",
       "...                                                                                                          ...                                                                                                                                                                                                                                                       \n",
       "2020S006274    ;7;Horta-Guinard�;37;el Carmel;1... 8;4586412                     97;2.157.119.314;41.424.351.626                                                                                                                                                                                                                                                       \n",
       "2020S006275    ;2;Eixample;10;Sant Antoni;32320... 32;4581892                    49;2.162.948.844;41.383.675.949                                                                                                                                                                                                                                                       \n",
       "2020S006276    ;1;Ciutat Vella;2;el Barri G�tic... 4;4581077                     37;2.178.636.368;41.376.446.686                                                                                                                                                                                                                                                       \n",
       "2020S006277    ;2;Eixample;9;la Nova Esquerra d... 84;4581954                    15;2.154.050.572;41.384.166.329                                                                                                                                                                                                                                                       \n",
       "2020S006278    ;8;Nou Barris;44;Vilapicina i la... 22;4586654                    09;2.175.740.293;41.426.658.319                                                                                                                                                                                                                                                       \n",
       "\n",
       "[6467 rows x 1 columns]"
      ],
      "text/html": "<div>\n<style scoped>\n    .dataframe tbody tr th:only-of-type {\n        vertical-align: middle;\n    }\n\n    .dataframe tbody tr th {\n        vertical-align: top;\n    }\n\n    .dataframe thead th {\n        text-align: right;\n    }\n</style>\n<table border=\"1\" class=\"dataframe\">\n  <thead>\n    <tr style=\"text-align: right;\">\n      <th></th>\n      <th></th>\n      <th>Numero_expedient;Codi_districte;Nom_districte;Codi_barri;Nom_barri;Codi_carrer;Nom_carrer;Num_postal_caption;Descripcio_dia_setmana;Dia_setmana;Descripcio_tipus_dia;NK_Any;Mes_any;Nom_mes;Dia_mes;Hora_dia;Descripcio_torn;Descripcio_tipus_accident;Coordenada_UTM_X;Coordenada_UTM_Y;Longitud;Latitud</th>\n    </tr>\n  </thead>\n  <tbody>\n    <tr>\n      <th>2020S000001    ;7;Horta-Guinard�;36;la Font d'en Fargues;194406;Maragall;0353 0355;Dimecres;Dc;Laboral;2020;1;Gener;1;0;Nit;Xoc contra element est�tic;430501</th>\n      <th>45;4586751</th>\n      <td>53;2.167.115.845;4.142.747.394</td>\n    </tr>\n    <tr>\n      <th>2020S000002    ;3;Sants-Montju�c;16;la Bordeta;169409;Corts Catalanes;0203 0203;Dimecres;Dc;Laboral;2020;1;Gener;1;2;Nit;Atropellament;428225</th>\n      <th>71;4580279</th>\n      <td>72;2.140.650.262;41.368.984.627</td>\n    </tr>\n    <tr>\n      <th>2020S000003    ;2;Eixample;8;l'Antiga Esquerra de l'Eixample;320704;Sarri�;0018 0018;Dimecres;Dc;Laboral;2020;1;Gener;1;2;Nit;Col.lisi� lateral;428532</th>\n      <th>59;4582672</th>\n      <td>59;2.144.036.982;41.390.563.692</td>\n    </tr>\n    <tr>\n      <th>2020S000004    ;4;Les Corts;19;les Corts;101904;Doctor Fleming;0002 0002;Dimecres;Dc;Laboral;2020;1;Gener;1;6;Mat�;Xoc contra element est�tic;427929</th>\n      <th>13;4582767</th>\n      <td>09;2.136.808.386;41.391.360.941</td>\n    </tr>\n    <tr>\n      <th>2020S000005    ;2;Eixample;7;la Dreta de l'Eixample;309406;Sant Pere;0029 0029;Dimecres;Dc;Laboral;2020;1;Gener;1;4;Nit;Atropellament;431157</th>\n      <th>87;4582598</th>\n      <td>57;2.175.443.819;41.390.126.129</td>\n    </tr>\n    <tr>\n      <th>...</th>\n      <th>...</th>\n      <td>...</td>\n    </tr>\n    <tr>\n      <th>2020S006274    ;7;Horta-Guinard�;37;el Carmel;182600;Llu�s Mari� Vidal;0025 0025;Dijous;Dj;Laboral;2020;12;Desembre;31;17;Tarda;Xoc contra element est�tic;429662</th>\n      <th>8;4586412</th>\n      <td>97;2.157.119.314;41.424.351.626</td>\n    </tr>\n    <tr>\n      <th>2020S006275    ;2;Eixample;10;Sant Antoni;323203;Sep�lveda;0181 0181;Dijous;Dj;Laboral;2020;12;Desembre;31;20;Tarda;Col.lisi� lateral;430106</th>\n      <th>32;4581892</th>\n      <td>49;2.162.948.844;41.383.675.949</td>\n    </tr>\n    <tr>\n      <th>2020S006276    ;1;Ciutat Vella;2;el Barri G�tic;701266;Litoral (Llobregat);1070000;Dijous;Dj;Laboral;2020;12;Desembre;31;13;Mat�;Col.lisi� fronto-lateral;431410</th>\n      <th>4;4581077</th>\n      <td>37;2.178.636.368;41.376.446.686</td>\n    </tr>\n    <tr>\n      <th>2020S006277    ;2;Eixample;9;la Nova Esquerra de l'Eixample;18505;Arag�;0127 0127;Dijous;Dj;Laboral;2020;12;Desembre;31;21;Tarda;Caiguda (dues rodes);429362</th>\n      <th>84;4581954</th>\n      <td>15;2.154.050.572;41.384.166.329</td>\n    </tr>\n    <tr>\n      <th>2020S006278    ;8;Nou Barris;44;Vilapicina i la Torre Llobeta;45701;Quinze;0007 0007;Dimarts;Dm;Laboral;2020;12;Desembre;22;11;Mat�;Xoc contra element est�tic;431221</th>\n      <th>22;4586654</th>\n      <td>09;2.175.740.293;41.426.658.319</td>\n    </tr>\n  </tbody>\n</table>\n<p>6467 rows × 1 columns</p>\n</div>"
     },
     "metadata": {},
     "execution_count": 27
    }
   ],
   "source": [
    "# ERROR AL LEER CSV\n",
    "# Error tokenizing data. C error: Expected 3 fields in line 66, saw 4\n",
    "accidentes_tipo_2020 = pd.read_csv('2020/2020_ACCIDENTS_TIPUS_GU_BCN_2020_fila66.csv', error_bad_lines = False, engine = 'python')\n",
    "pd.concat([df[[0]], df[1].str.split(', ', expand=True)], axis=1)\n",
    "accidentes_tipo_2020"
   ]
  },
  {
   "cell_type": "code",
   "execution_count": null,
   "metadata": {},
   "outputs": [],
   "source": [
    "# BUSQUEDA DE SOLUCION A ARCHIVO QUE NO SE ABRE\n",
    "\n",
    "accidentes_gu_2015_excel = pd.read_excel('2015/2015_ACCIDENTS_GU_BCN_2015.xlsx')\n",
    "accidentes_gu_2015_excel"
   ]
  }
 ]
}