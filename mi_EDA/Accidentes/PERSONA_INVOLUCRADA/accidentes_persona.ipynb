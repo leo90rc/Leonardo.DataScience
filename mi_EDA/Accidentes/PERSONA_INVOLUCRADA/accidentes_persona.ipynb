{
 "metadata": {
  "language_info": {
   "codemirror_mode": {
    "name": "ipython",
    "version": 3
   },
   "file_extension": ".py",
   "mimetype": "text/x-python",
   "name": "python",
   "nbconvert_exporter": "python",
   "pygments_lexer": "ipython3",
   "version": "3.7.4"
  },
  "orig_nbformat": 2,
  "kernelspec": {
   "name": "python374jvsc74a57bd0a0947237fadc8b5561fed326db280cc5ec46a670c87cfb3a0489cf95ff262303",
   "display_name": "Python 3.7.4 64-bit"
  },
  "metadata": {
   "interpreter": {
    "hash": "a0947237fadc8b5561fed326db280cc5ec46a670c87cfb3a0489cf95ff262303"
   }
  }
 },
 "nbformat": 4,
 "nbformat_minor": 2,
 "cells": [
  {
   "cell_type": "code",
   "execution_count": 1,
   "metadata": {},
   "outputs": [],
   "source": [
    "import pandas as pd"
   ]
  },
  {
   "cell_type": "code",
   "execution_count": 2,
   "metadata": {},
   "outputs": [],
   "source": [
    "def enlistar_dataframes_gu(porcion_fichero):\n",
    "    ''' El argumento debe ser la porción del fichero correspondiente (str). '''\n",
    "    lista_df = []\n",
    "    for i in range(11,21):\n",
    "        try:\n",
    "            i = pd.read_csv('20'+str(i)+'/20'+str(i)+ porcion_fichero +str(i)+'-utf8.csv')\n",
    "        except:\n",
    "            try:\n",
    "                i = pd.read_csv('20'+str(i)+'/20'+str(i)+ porcion_fichero +str(i)+'-utf8.csv', sep=';')\n",
    "            except:\n",
    "                i = pd.read_excel('20'+str(i)+'/20'+str(i)+ porcion_fichero +str(i)+'.xlsx')\n",
    "        lista_df.append(i)\n",
    "    return lista_df\n",
    "\n",
    "\n",
    "\n",
    "def columna_vs_columna(lista_dataframes, posicion_df1, posicion_df2):\n",
    "    ''' Compara los nombres de las columnas de 2 dataframes que se encuentran en una lista, tomando como argumento la posición de dicho dataframe en la lista.\n",
    "    \n",
    "    Tener en cuenta que, para aplicarla, ambos dataframes deben tener la misma cantidad de columnas. '''\n",
    "    try:\n",
    "        for pos, valor in enumerate(lista_dataframes[posicion_df1].columns == lista_dataframes[posicion_df2].columns):\n",
    "            if valor == False:\n",
    "                print('         Posición de columna diferente: ' + str(pos))\n",
    "                print('         ---------------------------------')\n",
    "                print('         Columna de DF en posición ' + str(posicion_df1) + ': ' + lista_dataframes[posicion_df1].columns[pos])\n",
    "                print('         Columna de DF en posición ' + str(posicion_df2) + ': ' + lista_dataframes[posicion_df2].columns[pos])\n",
    "                print('         ================================================\\n')\n",
    "    except:\n",
    "        print('Los dataframes a comparar deben tener la misma cantidad de columnas.')\n",
    "\n",
    "\n",
    "\n",
    "def comparar_columnas(lista_dataframes): \n",
    "    ''' SE DEBE INGRESAR UNA LISTA DE DATAFRAMES A COMPARAR. '''\n",
    "    for i in range(len(lista_dataframes)):\n",
    "            for j in range(1, len(lista_dataframes)):    \n",
    "                if i < j:\n",
    "                    if len(lista_dataframes[i].columns) == len(lista_dataframes[j].columns):\n",
    "                        columnas_iguales = lista_dataframes[i].columns == lista_dataframes[j].columns # TRUE si coinciden, FALSE si no\n",
    "                        if all(columnas_iguales):\n",
    "                            print('Las columnas de ' + str(i) + ' (' + str(len(lista_dataframes[i].columns)) +') y ' + str(j)+ ' (' + str(len(lista_dataframes[j].columns)) + ') COINCIDEN.')\n",
    "                            print('======================================================')\n",
    "                            break\n",
    "                        else:\n",
    "                            print('\\nLas columnas de ' + str(i) + ' (' + str(len(lista_dataframes[i].columns)) +') y ' + str(j) + ' (' + str(len(lista_dataframes[j].columns)) + ') SON DISTINTAS.\\n')\n",
    "                            columna_vs_columna(lista_dataframes, i, j)\n",
    "                    else:\n",
    "                        print(str(i) +  ' (' + str(len(lista_dataframes[i].columns))  + ') y ' + str(j) + ' (' + str(len(lista_dataframes[j].columns)) + ') tienen distinta CANTIDAD de columnas.')\n",
    "                        print('======================================================')\n",
    "\n",
    "\n",
    "\n",
    "def mostrar_columnas(lista_dataframes):\n",
    "    ''' SE DEBE INGRESAR UNA LISTA DE DATAFRAMES '''\n",
    "    for i in range(len(lista_dataframes)):\n",
    "        print('Columnas de dataframe en posición ' + str(i) + ':')\n",
    "        print('------------------------------------')\n",
    "        print(lista_dataframes[i].columns)\n",
    "        print('\\nNúmero de columnas: ' + str(len(lista_dataframes[i].columns)) + '\\n')\n",
    "        print('===========================================================================================')\n",
    "\n",
    "\n",
    "\n",
    "def nombre_cada_columna(lista_dataframes):\n",
    "    tamanio_columnas = []\n",
    "    for df in lista_dataframes:\n",
    "        tamanio_columnas.append(len(df.columns))\n",
    "        a = max(tamanio_columnas)\n",
    "    for i in range(0,a):\n",
    "        print('Columna en posición ' + str(i) + '\\n')\n",
    "        for j in range(len(lista_dataframes)):\n",
    "            try:\n",
    "                print('DF en posición ' + str (j) + ': ' + str(lista_dataframes[j].columns[i]))\n",
    "            except:\n",
    "                print('DF en posición ' + str (j) + ': No contiene columnas en la posición ' + str(i))\n",
    "        print('\\n-------------------------------------\\n')\n",
    "\n",
    "\n",
    "\n",
    "def ver_ultimas_columnas(lista_dataframes):\n",
    "    tamanio_columnas = []\n",
    "    for df in lista_dataframes:\n",
    "        tamanio_columnas.append(len(df.columns))\n",
    "        a = max(tamanio_columnas)\n",
    "    for i in range(len(lista_dataframes)):\n",
    "        if len(lista_dataframes[i].columns) == (a-2):\n",
    "            print('Posición del DF ' + str(i) + ': '+ str(list(lista_dataframes[i].columns[-2::])))\n",
    "        elif len(lista_dataframes[i].columns) == a:\n",
    "            print('Posición del DF ' + str(i) + ': ' + str(list(lista_dataframes[i].columns[-4::])))\n",
    "\n",
    "\n",
    "\n",
    "def eliminar_columnas_finales(lista_dataframes):\n",
    "    tamanio_columnas = []\n",
    "    for df in lista_dataframes:\n",
    "        tamanio_columnas.append(len(df.columns))\n",
    "        a = max(tamanio_columnas)\n",
    "    for i in range(len(lista_dataframes)):\n",
    "        if len(lista_dataframes[i].columns) == a:\n",
    "            lista_dataframes[i] = lista_dataframes[i].iloc[:,:(a-2)]\n",
    "\n",
    "\n",
    "\n",
    "def ordenar_columnas_finales(lista_dataframes):\n",
    "    tamanio_columnas = []\n",
    "    for df in lista_dataframes:\n",
    "        tamanio_columnas.append(len(df.columns))\n",
    "        a = max(tamanio_columnas)\n",
    "    for i in range(len(lista_dataframes)):\n",
    "        if (lista_dataframes[i].columns[-1] == 'Coordenada UTM (X)') or (lista_dataframes[i].columns[-1] == 'Coordenada_UTM_X'):\n",
    "            col = lista_dataframes[i].columns.to_list()\n",
    "            col2 = col[0:(a-2)] + col[-1:] + col[-2:-1]\n",
    "            lista_dataframes[i] = lista_dataframes[i][col2]\n",
    "\n",
    "\n",
    "\n",
    "def renombrar_columnas(lista_dataframes, lista_nombres):\n",
    "    for i in range(len(lista_dataframes)):\n",
    "        lista_dataframes[i].columns = lista_nombres\n",
    "\n",
    "\n",
    "\n",
    "def unificar_lista_dataframe(lista_dataframes):\n",
    "    df_concatenados = pd.DataFrame()\n",
    "    for i in range(1, len(lista_dataframes)):\n",
    "        df_concatenados = df_concatenados.append(lista_dataframes[i], ignore_index = True)\n",
    "    return df_concatenados"
   ]
  },
  {
   "cell_type": "code",
   "execution_count": 3,
   "metadata": {},
   "outputs": [],
   "source": [
    "porcion_fichero = '_ACCIDENTS_PERSONES_GU_BCN_20'"
   ]
  },
  {
   "cell_type": "code",
   "execution_count": 4,
   "metadata": {},
   "outputs": [],
   "source": [
    "lista_df_personas = enlistar_dataframes_gu(porcion_fichero)"
   ]
  },
  {
   "cell_type": "code",
   "execution_count": 5,
   "metadata": {},
   "outputs": [
    {
     "output_type": "stream",
     "name": "stdout",
     "text": [
      "Las columnas de 0 (25) y 1 (25) COINCIDEN.\n======================================================\nLas columnas de 1 (25) y 2 (25) COINCIDEN.\n======================================================\n2 (25) y 3 (24) tienen distinta CANTIDAD de columnas.\n======================================================\n2 (25) y 4 (24) tienen distinta CANTIDAD de columnas.\n======================================================\n2 (25) y 5 (28) tienen distinta CANTIDAD de columnas.\n======================================================\n2 (25) y 6 (28) tienen distinta CANTIDAD de columnas.\n======================================================\n2 (25) y 7 (28) tienen distinta CANTIDAD de columnas.\n======================================================\n2 (25) y 8 (30) tienen distinta CANTIDAD de columnas.\n======================================================\n2 (25) y 9 (30) tienen distinta CANTIDAD de columnas.\n======================================================\nLas columnas de 3 (24) y 4 (24) COINCIDEN.\n======================================================\n4 (24) y 5 (28) tienen distinta CANTIDAD de columnas.\n======================================================\n4 (24) y 6 (28) tienen distinta CANTIDAD de columnas.\n======================================================\n4 (24) y 7 (28) tienen distinta CANTIDAD de columnas.\n======================================================\n4 (24) y 8 (30) tienen distinta CANTIDAD de columnas.\n======================================================\n4 (24) y 9 (30) tienen distinta CANTIDAD de columnas.\n======================================================\n\nLas columnas de 5 (28) y 6 (28) SON DISTINTAS.\n\n         Posición de columna diferente: 12\n         ---------------------------------\n         Columna de DF en posición 5: Mes_any\n         Columna de DF en posición 6: Mes_ any\n         ================================================\n\n\nLas columnas de 5 (28) y 7 (28) SON DISTINTAS.\n\n         Posición de columna diferente: 12\n         ---------------------------------\n         Columna de DF en posición 5: Mes_any\n         Columna de DF en posición 7: Mes_ any\n         ================================================\n\n5 (28) y 8 (30) tienen distinta CANTIDAD de columnas.\n======================================================\n5 (28) y 9 (30) tienen distinta CANTIDAD de columnas.\n======================================================\nLas columnas de 6 (28) y 7 (28) COINCIDEN.\n======================================================\n7 (28) y 8 (30) tienen distinta CANTIDAD de columnas.\n======================================================\n7 (28) y 9 (30) tienen distinta CANTIDAD de columnas.\n======================================================\n\nLas columnas de 8 (30) y 9 (30) SON DISTINTAS.\n\n         Posición de columna diferente: 6\n         ---------------------------------\n         Columna de DF en posición 8: Num_postal\n         Columna de DF en posición 9: Nom_carrer\n         ================================================\n\n         Posición de columna diferente: 7\n         ---------------------------------\n         Columna de DF en posición 8: Num_postal.1\n         Columna de DF en posición 9: Num_postal\n         ================================================\n\n         Posición de columna diferente: 19\n         ---------------------------------\n         Columna de DF en posición 8: Descripcio_sexe\n         Columna de DF en posición 9: Descripció_sexe\n         ================================================\n\n         Posición de columna diferente: 21\n         ---------------------------------\n         Columna de DF en posición 8: Descripcio_tipus_persona\n         Columna de DF en posición 9: Descripció_tipus_persona\n         ================================================\n\n         Posición de columna diferente: 23\n         ---------------------------------\n         Columna de DF en posición 8: Descripcio_Motiu_desplaçament_vianant\n         Columna de DF en posición 9: Descripcio_Motiu_desplaĂ§ament_vianant\n         ================================================\n\n         Posición de columna diferente: 24\n         ---------------------------------\n         Columna de DF en posición 8: Descripcio_Motiu_desplaçament_conductor\n         Columna de DF en posición 9: Descripcio_Motiu_desplaĂ§ament_conductor\n         ================================================\n\n"
     ]
    }
   ],
   "source": [
    "comparar_columnas(lista_df_personas)"
   ]
  },
  {
   "cell_type": "code",
   "execution_count": 6,
   "metadata": {},
   "outputs": [
    {
     "output_type": "stream",
     "name": "stdout",
     "text": [
      "Columnas de dataframe en posición 0:\n------------------------------------\nIndex(['Número d'expedient', 'Codi districte', 'Nom districte', 'Codi barri',\n       'Nom barri', 'Codi carrer', 'Nom carrer', 'Num postal caption',\n       'Descripció dia setmana', 'Dia setmana', 'Descripció tipus dia',\n       'NK Any', 'Mes de any', 'Nom mes', 'Dia de mes', 'Descripció torn',\n       'Hora de dia', 'Descripció causa vianant',\n       'Desc. Tipus vehicle implicat', 'Descripció sexe',\n       'Descripció tipus persona', 'Edat', 'Descripció victimització',\n       'Coordenada UTM (Y)', 'Coordenada UTM (X)'],\n      dtype='object')\n\nNúmero de columnas: 25\n\n===========================================================================================\nColumnas de dataframe en posición 1:\n------------------------------------\nIndex(['Número d'expedient', 'Codi districte', 'Nom districte', 'Codi barri',\n       'Nom barri', 'Codi carrer', 'Nom carrer', 'Num postal caption',\n       'Descripció dia setmana', 'Dia setmana', 'Descripció tipus dia',\n       'NK Any', 'Mes de any', 'Nom mes', 'Dia de mes', 'Descripció torn',\n       'Hora de dia', 'Descripció causa vianant',\n       'Desc. Tipus vehicle implicat', 'Descripció sexe',\n       'Descripció tipus persona', 'Edat', 'Descripció victimització',\n       'Coordenada UTM (Y)', 'Coordenada UTM (X)'],\n      dtype='object')\n\nNúmero de columnas: 25\n\n===========================================================================================\nColumnas de dataframe en posición 2:\n------------------------------------\nIndex(['Número d'expedient', 'Codi districte', 'Nom districte', 'Codi barri',\n       'Nom barri', 'Codi carrer', 'Nom carrer', 'Num postal caption',\n       'Descripció dia setmana', 'Dia setmana', 'Descripció tipus dia',\n       'NK Any', 'Mes de any', 'Nom mes', 'Dia de mes', 'Descripció torn',\n       'Hora de dia', 'Descripció causa vianant',\n       'Desc. Tipus vehicle implicat', 'Descripció sexe',\n       'Descripció tipus persona', 'Edat', 'Descripció victimització',\n       'Coordenada UTM (Y)', 'Coordenada UTM (X)'],\n      dtype='object')\n\nNúmero de columnas: 25\n\n===========================================================================================\nColumnas de dataframe en posición 3:\n------------------------------------\nIndex(['Número d'expedient', 'Codi districte', 'Nom districte', 'Codi barri',\n       'Nom barri', 'Codi carrer', 'Nom carrer', 'Num postal caption',\n       'Descripció dia setmana', 'Dia setmana', 'Descripció tipus dia',\n       'NK Any', 'Mes de any', 'Nom mes', 'Dia de mes', 'Hora de dia',\n       'Descripció causa vianant', 'Desc. Tipus vehicle implicat',\n       'Descripció sexe', 'Descripció tipus persona', 'Edat',\n       'Descripció victimització', 'Coordenada UTM (Y)', 'Coordenada UTM (X)'],\n      dtype='object')\n\nNúmero de columnas: 24\n\n===========================================================================================\nColumnas de dataframe en posición 4:\n------------------------------------\nIndex(['Número d'expedient', 'Codi districte', 'Nom districte', 'Codi barri',\n       'Nom barri', 'Codi carrer', 'Nom carrer', 'Num postal caption',\n       'Descripció dia setmana', 'Dia setmana', 'Descripció tipus dia',\n       'NK Any', 'Mes de any', 'Nom mes', 'Dia de mes', 'Hora de dia',\n       'Descripció causa vianant', 'Desc. Tipus vehicle implicat',\n       'Descripció sexe', 'Descripció tipus persona', 'Edat',\n       'Descripció victimització', 'Coordenada UTM (Y)', 'Coordenada UTM (X)'],\n      dtype='object')\n\nNúmero de columnas: 24\n\n===========================================================================================\nColumnas de dataframe en posición 5:\n------------------------------------\nIndex(['Numero_expedient', 'Codi_districte', 'Nom_districte', 'Codi_barri',\n       'Nom_barri', 'Codi_carrer', 'Nom_carrer', 'Num_postal ',\n       'Descripcio_dia_setmana', 'Dia_setmana', 'Descripcio_tipus_dia', 'Any',\n       'Mes_any', 'Nom_mes', 'Dia_mes', 'Descripcio_torn', 'Hora_dia',\n       'Descripcio_causa_vianant', 'Desc_Tipus_vehicle_implicat',\n       'Descripcio_sexe', 'Edat', 'Descripcio_tipus_persona',\n       'Descripcio_situacio', 'Descripcio_victimitzacio', 'Coordenada_UTM_X',\n       'Coordenada_UTM_Y', 'Longitud', 'Latitud'],\n      dtype='object')\n\nNúmero de columnas: 28\n\n===========================================================================================\nColumnas de dataframe en posición 6:\n------------------------------------\nIndex(['Numero_expedient', 'Codi_districte', 'Nom_districte', 'Codi_barri',\n       'Nom_barri', 'Codi_carrer', 'Nom_carrer', 'Num_postal ',\n       'Descripcio_dia_setmana', 'Dia_setmana', 'Descripcio_tipus_dia', 'Any',\n       'Mes_ any', 'Nom_mes', 'Dia_mes', 'Descripcio_torn', 'Hora_dia',\n       'Descripcio_causa_vianant', 'Desc_Tipus_vehicle_implicat',\n       'Descripcio_sexe', 'Edat', 'Descripcio_tipus_persona',\n       'Descripcio_situacio', 'Descripcio_victimitzacio', 'Coordenada_UTM_X',\n       'Coordenada_UTM_Y', 'Longitud', 'Latitud'],\n      dtype='object')\n\nNúmero de columnas: 28\n\n===========================================================================================\nColumnas de dataframe en posición 7:\n------------------------------------\nIndex(['Numero_expedient', 'Codi_districte', 'Nom_districte', 'Codi_barri',\n       'Nom_barri', 'Codi_carrer', 'Nom_carrer', 'Num_postal ',\n       'Descripcio_dia_setmana', 'Dia_setmana', 'Descripcio_tipus_dia', 'Any',\n       'Mes_ any', 'Nom_mes', 'Dia_mes', 'Descripcio_torn', 'Hora_dia',\n       'Descripcio_causa_vianant', 'Desc_Tipus_vehicle_implicat',\n       'Descripcio_sexe', 'Edat', 'Descripcio_tipus_persona',\n       'Descripcio_situacio', 'Descripcio_victimitzacio', 'Coordenada_UTM_X',\n       'Coordenada_UTM_Y', 'Longitud', 'Latitud'],\n      dtype='object')\n\nNúmero de columnas: 28\n\n===========================================================================================\nColumnas de dataframe en posición 8:\n------------------------------------\nIndex(['Numero_Expedient', 'Codi_districte', 'Nom_districte', 'Codi_barri',\n       'Nom_barri', 'Codi_carrer', 'Num_postal', 'Num_postal.1',\n       'Descripcio_dia_setmana', 'Dia_setmana', 'Descripcio_tipus_dia',\n       'NK_ Any', 'Mes_ any', 'Nom_mes', 'Dia_mes', 'Descripcio_torn',\n       'Hora_dia', 'Descripcio_causa_vianant', 'Desc_Tipus_vehicle_implicat',\n       'Descripcio_sexe', 'Edat', 'Descripcio_tipus_persona',\n       'Descripcio_Lloc_atropellament_vianat',\n       'Descripcio_Motiu_desplaçament_vianant',\n       'Descripcio_Motiu_desplaçament_conductor', 'Descripcio_victimitzacio',\n       'Coordenada_UTM_X', 'Coordenada_UTM_Y', 'Longitud', 'Latitud'],\n      dtype='object')\n\nNúmero de columnas: 30\n\n===========================================================================================\nColumnas de dataframe en posición 9:\n------------------------------------\nIndex(['Numero_Expedient', 'Codi_districte', 'Nom_districte', 'Codi_barri',\n       'Nom_barri', 'Codi_carrer', 'Nom_carrer', 'Num_postal',\n       'Descripcio_dia_setmana', 'Dia_setmana', 'Descripcio_tipus_dia',\n       'NK_ Any', 'Mes_ any', 'Nom_mes', 'Dia_mes', 'Descripcio_torn',\n       'Hora_dia', 'Descripcio_causa_vianant', 'Desc_Tipus_vehicle_implicat',\n       'Descripció_sexe', 'Edat', 'Descripció_tipus_persona',\n       'Descripcio_Lloc_atropellament_vianat',\n       'Descripcio_Motiu_desplaĂ§ament_vianant',\n       'Descripcio_Motiu_desplaĂ§ament_conductor', 'Descripcio_victimitzacio',\n       'Coordenada_UTM_X', 'Coordenada_UTM_Y', 'Longitud', 'Latitud'],\n      dtype='object')\n\nNúmero de columnas: 30\n\n===========================================================================================\n"
     ]
    }
   ],
   "source": [
    "mostrar_columnas(lista_df_personas)"
   ]
  },
  {
   "cell_type": "code",
   "execution_count": 8,
   "metadata": {},
   "outputs": [
    {
     "output_type": "execute_result",
     "data": {
      "text/plain": [
       "  Numero_Expedient  Codi_districte   Nom_districte  Codi_barri  \\\n",
       "0  2020S000001                   7  Horta-Guinardó          36   \n",
       "1  2020S000002                   3  Sants-Montjuďc          16   \n",
       "2  2020S000002                   3  Sants-Montjuďc          16   \n",
       "3  2020S000003                   2        Eixample           8   \n",
       "4  2020S000003                   2        Eixample           8   \n",
       "\n",
       "                         Nom_barri  Codi_carrer       Nom_carrer Num_postal  \\\n",
       "0             la Font d'en Fargues       194406         Maragall  0353 0355   \n",
       "1                       la Bordeta       169409  Corts Catalanes  0203 0203   \n",
       "2                       la Bordeta       169409  Corts Catalanes  0203 0203   \n",
       "3  l'Antiga Esquerra de l'Eixample       320704           Sarriŕ  0018 0018   \n",
       "4  l'Antiga Esquerra de l'Eixample       320704           Sarriŕ  0018 0018   \n",
       "\n",
       "  Descripcio_dia_setmana  Dia_setmana  ... Edat  Descripció_tipus_persona  \\\n",
       "0               Dimecres     20200101  ...   29                 Conductor   \n",
       "1               Dimecres     20200101  ...   26                   Vianant   \n",
       "2               Dimecres     20200101  ...   31                 Conductor   \n",
       "3               Dimecres     20200101  ...   42                 Conductor   \n",
       "4               Dimecres     20200101  ...   36                 Conductor   \n",
       "\n",
       "                Descripcio_Lloc_atropellament_vianat  \\\n",
       "0  Desconegut                                    ...   \n",
       "1  En pas regulat per semŕfor                    ...   \n",
       "2  En pas regulat per semŕfor                    ...   \n",
       "3  Desconegut                                    ...   \n",
       "4  Desconegut                                    ...   \n",
       "\n",
       "  Descripcio_Motiu_desplaĂ§ament_vianant  \\\n",
       "0                             Desconegut   \n",
       "1                    Oci i entreteniment   \n",
       "2                             Desconegut   \n",
       "3                             Desconegut   \n",
       "4                             Desconegut   \n",
       "\n",
       "   Descripcio_Motiu_desplaĂ§ament_conductor  \\\n",
       "0                              Es desconeix   \n",
       "1                                Desconegut   \n",
       "2                                      Taxi   \n",
       "3                       Oci i entreteniment   \n",
       "4                                      Taxi   \n",
       "\n",
       "                 Descripcio_victimitzacio  Coordenada_UTM_X Coordenada_UTM_Y  \\\n",
       "0                                  Il.lčs         430501.45       4586751.53   \n",
       "1  Ferit lleu: Hospitalització fins a 24h         428225.71       4580279.72   \n",
       "2                                  Il.lčs         428225.71       4580279.72   \n",
       "3  Ferit lleu: Hospitalització fins a 24h         428532.59       4582672.59   \n",
       "4                                  Il.lčs         428532.59       4582672.59   \n",
       "\n",
       "   Longitud    Latitud  \n",
       "0  2.167116  41.427474  \n",
       "1  2.140650  41.368985  \n",
       "2  2.140650  41.368985  \n",
       "3  2.144037  41.390564  \n",
       "4  2.144037  41.390564  \n",
       "\n",
       "[5 rows x 30 columns]"
      ],
      "text/html": "<div>\n<style scoped>\n    .dataframe tbody tr th:only-of-type {\n        vertical-align: middle;\n    }\n\n    .dataframe tbody tr th {\n        vertical-align: top;\n    }\n\n    .dataframe thead th {\n        text-align: right;\n    }\n</style>\n<table border=\"1\" class=\"dataframe\">\n  <thead>\n    <tr style=\"text-align: right;\">\n      <th></th>\n      <th>Numero_Expedient</th>\n      <th>Codi_districte</th>\n      <th>Nom_districte</th>\n      <th>Codi_barri</th>\n      <th>Nom_barri</th>\n      <th>Codi_carrer</th>\n      <th>Nom_carrer</th>\n      <th>Num_postal</th>\n      <th>Descripcio_dia_setmana</th>\n      <th>Dia_setmana</th>\n      <th>...</th>\n      <th>Edat</th>\n      <th>Descripció_tipus_persona</th>\n      <th>Descripcio_Lloc_atropellament_vianat</th>\n      <th>Descripcio_Motiu_desplaĂ§ament_vianant</th>\n      <th>Descripcio_Motiu_desplaĂ§ament_conductor</th>\n      <th>Descripcio_victimitzacio</th>\n      <th>Coordenada_UTM_X</th>\n      <th>Coordenada_UTM_Y</th>\n      <th>Longitud</th>\n      <th>Latitud</th>\n    </tr>\n  </thead>\n  <tbody>\n    <tr>\n      <th>0</th>\n      <td>2020S000001</td>\n      <td>7</td>\n      <td>Horta-Guinardó</td>\n      <td>36</td>\n      <td>la Font d'en Fargues</td>\n      <td>194406</td>\n      <td>Maragall</td>\n      <td>0353 0355</td>\n      <td>Dimecres</td>\n      <td>20200101</td>\n      <td>...</td>\n      <td>29</td>\n      <td>Conductor</td>\n      <td>Desconegut                                    ...</td>\n      <td>Desconegut</td>\n      <td>Es desconeix</td>\n      <td>Il.lčs</td>\n      <td>430501.45</td>\n      <td>4586751.53</td>\n      <td>2.167116</td>\n      <td>41.427474</td>\n    </tr>\n    <tr>\n      <th>1</th>\n      <td>2020S000002</td>\n      <td>3</td>\n      <td>Sants-Montjuďc</td>\n      <td>16</td>\n      <td>la Bordeta</td>\n      <td>169409</td>\n      <td>Corts Catalanes</td>\n      <td>0203 0203</td>\n      <td>Dimecres</td>\n      <td>20200101</td>\n      <td>...</td>\n      <td>26</td>\n      <td>Vianant</td>\n      <td>En pas regulat per semŕfor                    ...</td>\n      <td>Oci i entreteniment</td>\n      <td>Desconegut</td>\n      <td>Ferit lleu: Hospitalització fins a 24h</td>\n      <td>428225.71</td>\n      <td>4580279.72</td>\n      <td>2.140650</td>\n      <td>41.368985</td>\n    </tr>\n    <tr>\n      <th>2</th>\n      <td>2020S000002</td>\n      <td>3</td>\n      <td>Sants-Montjuďc</td>\n      <td>16</td>\n      <td>la Bordeta</td>\n      <td>169409</td>\n      <td>Corts Catalanes</td>\n      <td>0203 0203</td>\n      <td>Dimecres</td>\n      <td>20200101</td>\n      <td>...</td>\n      <td>31</td>\n      <td>Conductor</td>\n      <td>En pas regulat per semŕfor                    ...</td>\n      <td>Desconegut</td>\n      <td>Taxi</td>\n      <td>Il.lčs</td>\n      <td>428225.71</td>\n      <td>4580279.72</td>\n      <td>2.140650</td>\n      <td>41.368985</td>\n    </tr>\n    <tr>\n      <th>3</th>\n      <td>2020S000003</td>\n      <td>2</td>\n      <td>Eixample</td>\n      <td>8</td>\n      <td>l'Antiga Esquerra de l'Eixample</td>\n      <td>320704</td>\n      <td>Sarriŕ</td>\n      <td>0018 0018</td>\n      <td>Dimecres</td>\n      <td>20200101</td>\n      <td>...</td>\n      <td>42</td>\n      <td>Conductor</td>\n      <td>Desconegut                                    ...</td>\n      <td>Desconegut</td>\n      <td>Oci i entreteniment</td>\n      <td>Ferit lleu: Hospitalització fins a 24h</td>\n      <td>428532.59</td>\n      <td>4582672.59</td>\n      <td>2.144037</td>\n      <td>41.390564</td>\n    </tr>\n    <tr>\n      <th>4</th>\n      <td>2020S000003</td>\n      <td>2</td>\n      <td>Eixample</td>\n      <td>8</td>\n      <td>l'Antiga Esquerra de l'Eixample</td>\n      <td>320704</td>\n      <td>Sarriŕ</td>\n      <td>0018 0018</td>\n      <td>Dimecres</td>\n      <td>20200101</td>\n      <td>...</td>\n      <td>36</td>\n      <td>Conductor</td>\n      <td>Desconegut                                    ...</td>\n      <td>Desconegut</td>\n      <td>Taxi</td>\n      <td>Il.lčs</td>\n      <td>428532.59</td>\n      <td>4582672.59</td>\n      <td>2.144037</td>\n      <td>41.390564</td>\n    </tr>\n  </tbody>\n</table>\n<p>5 rows × 30 columns</p>\n</div>"
     },
     "metadata": {},
     "execution_count": 8
    }
   ],
   "source": [
    "lista_df_personas[9].head()"
   ]
  },
  {
   "cell_type": "code",
   "execution_count": 7,
   "metadata": {},
   "outputs": [
    {
     "output_type": "stream",
     "name": "stdout",
     "text": [
      "Columna en posición 0\n\nDF en posición 0: Número d'expedient\nDF en posición 1: Número d'expedient\nDF en posición 2: Número d'expedient\nDF en posición 3: Número d'expedient\nDF en posición 4: Número d'expedient\nDF en posición 5: Numero_expedient\nDF en posición 6: Numero_expedient\nDF en posición 7: Numero_expedient\nDF en posición 8: Numero_Expedient\nDF en posición 9: Numero_Expedient\n\n-------------------------------------\n\nColumna en posición 1\n\nDF en posición 0: Codi districte\nDF en posición 1: Codi districte\nDF en posición 2: Codi districte\nDF en posición 3: Codi districte\nDF en posición 4: Codi districte\nDF en posición 5: Codi_districte\nDF en posición 6: Codi_districte\nDF en posición 7: Codi_districte\nDF en posición 8: Codi_districte\nDF en posición 9: Codi_districte\n\n-------------------------------------\n\nColumna en posición 2\n\nDF en posición 0: Nom districte\nDF en posición 1: Nom districte\nDF en posición 2: Nom districte\nDF en posición 3: Nom districte\nDF en posición 4: Nom districte\nDF en posición 5: Nom_districte\nDF en posición 6: Nom_districte\nDF en posición 7: Nom_districte\nDF en posición 8: Nom_districte\nDF en posición 9: Nom_districte\n\n-------------------------------------\n\nColumna en posición 3\n\nDF en posición 0: Codi barri\nDF en posición 1: Codi barri\nDF en posición 2: Codi barri\nDF en posición 3: Codi barri\nDF en posición 4: Codi barri\nDF en posición 5: Codi_barri\nDF en posición 6: Codi_barri\nDF en posición 7: Codi_barri\nDF en posición 8: Codi_barri\nDF en posición 9: Codi_barri\n\n-------------------------------------\n\nColumna en posición 4\n\nDF en posición 0: Nom barri\nDF en posición 1: Nom barri\nDF en posición 2: Nom barri\nDF en posición 3: Nom barri\nDF en posición 4: Nom barri\nDF en posición 5: Nom_barri\nDF en posición 6: Nom_barri\nDF en posición 7: Nom_barri\nDF en posición 8: Nom_barri\nDF en posición 9: Nom_barri\n\n-------------------------------------\n\nColumna en posición 5\n\nDF en posición 0: Codi carrer\nDF en posición 1: Codi carrer\nDF en posición 2: Codi carrer\nDF en posición 3: Codi carrer\nDF en posición 4: Codi carrer\nDF en posición 5: Codi_carrer\nDF en posición 6: Codi_carrer\nDF en posición 7: Codi_carrer\nDF en posición 8: Codi_carrer\nDF en posición 9: Codi_carrer\n\n-------------------------------------\n\nColumna en posición 6\n\nDF en posición 0: Nom carrer\nDF en posición 1: Nom carrer\nDF en posición 2: Nom carrer\nDF en posición 3: Nom carrer\nDF en posición 4: Nom carrer\nDF en posición 5: Nom_carrer\nDF en posición 6: Nom_carrer\nDF en posición 7: Nom_carrer\nDF en posición 8: Num_postal\nDF en posición 9: Nom_carrer\n\n-------------------------------------\n\nColumna en posición 7\n\nDF en posición 0: Num postal caption\nDF en posición 1: Num postal caption\nDF en posición 2: Num postal caption\nDF en posición 3: Num postal caption\nDF en posición 4: Num postal caption\nDF en posición 5: Num_postal \nDF en posición 6: Num_postal \nDF en posición 7: Num_postal \nDF en posición 8: Num_postal.1\nDF en posición 9: Num_postal\n\n-------------------------------------\n\nColumna en posición 8\n\nDF en posición 0: Descripció dia setmana\nDF en posición 1: Descripció dia setmana\nDF en posición 2: Descripció dia setmana\nDF en posición 3: Descripció dia setmana\nDF en posición 4: Descripció dia setmana\nDF en posición 5: Descripcio_dia_setmana\nDF en posición 6: Descripcio_dia_setmana\nDF en posición 7: Descripcio_dia_setmana\nDF en posición 8: Descripcio_dia_setmana\nDF en posición 9: Descripcio_dia_setmana\n\n-------------------------------------\n\nColumna en posición 9\n\nDF en posición 0: Dia setmana\nDF en posición 1: Dia setmana\nDF en posición 2: Dia setmana\nDF en posición 3: Dia setmana\nDF en posición 4: Dia setmana\nDF en posición 5: Dia_setmana\nDF en posición 6: Dia_setmana\nDF en posición 7: Dia_setmana\nDF en posición 8: Dia_setmana\nDF en posición 9: Dia_setmana\n\n-------------------------------------\n\nColumna en posición 10\n\nDF en posición 0: Descripció tipus dia\nDF en posición 1: Descripció tipus dia\nDF en posición 2: Descripció tipus dia\nDF en posición 3: Descripció tipus dia\nDF en posición 4: Descripció tipus dia\nDF en posición 5: Descripcio_tipus_dia\nDF en posición 6: Descripcio_tipus_dia\nDF en posición 7: Descripcio_tipus_dia\nDF en posición 8: Descripcio_tipus_dia\nDF en posición 9: Descripcio_tipus_dia\n\n-------------------------------------\n\nColumna en posición 11\n\nDF en posición 0: NK Any\nDF en posición 1: NK Any\nDF en posición 2: NK Any\nDF en posición 3: NK Any\nDF en posición 4: NK Any\nDF en posición 5: Any\nDF en posición 6: Any\nDF en posición 7: Any\nDF en posición 8: NK_ Any\nDF en posición 9: NK_ Any\n\n-------------------------------------\n\nColumna en posición 12\n\nDF en posición 0: Mes de any\nDF en posición 1: Mes de any\nDF en posición 2: Mes de any\nDF en posición 3: Mes de any\nDF en posición 4: Mes de any\nDF en posición 5: Mes_any\nDF en posición 6: Mes_ any\nDF en posición 7: Mes_ any\nDF en posición 8: Mes_ any\nDF en posición 9: Mes_ any\n\n-------------------------------------\n\nColumna en posición 13\n\nDF en posición 0: Nom mes\nDF en posición 1: Nom mes\nDF en posición 2: Nom mes\nDF en posición 3: Nom mes\nDF en posición 4: Nom mes\nDF en posición 5: Nom_mes\nDF en posición 6: Nom_mes\nDF en posición 7: Nom_mes\nDF en posición 8: Nom_mes\nDF en posición 9: Nom_mes\n\n-------------------------------------\n\nColumna en posición 14\n\nDF en posición 0: Dia de mes\nDF en posición 1: Dia de mes\nDF en posición 2: Dia de mes\nDF en posición 3: Dia de mes\nDF en posición 4: Dia de mes\nDF en posición 5: Dia_mes\nDF en posición 6: Dia_mes\nDF en posición 7: Dia_mes\nDF en posición 8: Dia_mes\nDF en posición 9: Dia_mes\n\n-------------------------------------\n\nColumna en posición 15\n\nDF en posición 0: Descripció torn\nDF en posición 1: Descripció torn\nDF en posición 2: Descripció torn\nDF en posición 3: Hora de dia\nDF en posición 4: Hora de dia\nDF en posición 5: Descripcio_torn\nDF en posición 6: Descripcio_torn\nDF en posición 7: Descripcio_torn\nDF en posición 8: Descripcio_torn\nDF en posición 9: Descripcio_torn\n\n-------------------------------------\n\nColumna en posición 16\n\nDF en posición 0: Hora de dia\nDF en posición 1: Hora de dia\nDF en posición 2: Hora de dia\nDF en posición 3: Descripció causa vianant\nDF en posición 4: Descripció causa vianant\nDF en posición 5: Hora_dia\nDF en posición 6: Hora_dia\nDF en posición 7: Hora_dia\nDF en posición 8: Hora_dia\nDF en posición 9: Hora_dia\n\n-------------------------------------\n\nColumna en posición 17\n\nDF en posición 0: Descripció causa vianant\nDF en posición 1: Descripció causa vianant\nDF en posición 2: Descripció causa vianant\nDF en posición 3: Desc. Tipus vehicle implicat\nDF en posición 4: Desc. Tipus vehicle implicat\nDF en posición 5: Descripcio_causa_vianant\nDF en posición 6: Descripcio_causa_vianant\nDF en posición 7: Descripcio_causa_vianant\nDF en posición 8: Descripcio_causa_vianant\nDF en posición 9: Descripcio_causa_vianant\n\n-------------------------------------\n\nColumna en posición 18\n\nDF en posición 0: Desc. Tipus vehicle implicat\nDF en posición 1: Desc. Tipus vehicle implicat\nDF en posición 2: Desc. Tipus vehicle implicat\nDF en posición 3: Descripció sexe\nDF en posición 4: Descripció sexe\nDF en posición 5: Desc_Tipus_vehicle_implicat\nDF en posición 6: Desc_Tipus_vehicle_implicat\nDF en posición 7: Desc_Tipus_vehicle_implicat\nDF en posición 8: Desc_Tipus_vehicle_implicat\nDF en posición 9: Desc_Tipus_vehicle_implicat\n\n-------------------------------------\n\nColumna en posición 19\n\nDF en posición 0: Descripció sexe\nDF en posición 1: Descripció sexe\nDF en posición 2: Descripció sexe\nDF en posición 3: Descripció tipus persona\nDF en posición 4: Descripció tipus persona\nDF en posición 5: Descripcio_sexe\nDF en posición 6: Descripcio_sexe\nDF en posición 7: Descripcio_sexe\nDF en posición 8: Descripcio_sexe\nDF en posición 9: Descripció_sexe\n\n-------------------------------------\n\nColumna en posición 20\n\nDF en posición 0: Descripció tipus persona\nDF en posición 1: Descripció tipus persona\nDF en posición 2: Descripció tipus persona\nDF en posición 3: Edat\nDF en posición 4: Edat\nDF en posición 5: Edat\nDF en posición 6: Edat\nDF en posición 7: Edat\nDF en posición 8: Edat\nDF en posición 9: Edat\n\n-------------------------------------\n\nColumna en posición 21\n\nDF en posición 0: Edat\nDF en posición 1: Edat\nDF en posición 2: Edat\nDF en posición 3: Descripció victimització\nDF en posición 4: Descripció victimització\nDF en posición 5: Descripcio_tipus_persona\nDF en posición 6: Descripcio_tipus_persona\nDF en posición 7: Descripcio_tipus_persona\nDF en posición 8: Descripcio_tipus_persona\nDF en posición 9: Descripció_tipus_persona\n\n-------------------------------------\n\nColumna en posición 22\n\nDF en posición 0: Descripció victimització\nDF en posición 1: Descripció victimització\nDF en posición 2: Descripció victimització\nDF en posición 3: Coordenada UTM (Y)\nDF en posición 4: Coordenada UTM (Y)\nDF en posición 5: Descripcio_situacio\nDF en posición 6: Descripcio_situacio\nDF en posición 7: Descripcio_situacio\nDF en posición 8: Descripcio_Lloc_atropellament_vianat\nDF en posición 9: Descripcio_Lloc_atropellament_vianat\n\n-------------------------------------\n\nColumna en posición 23\n\nDF en posición 0: Coordenada UTM (Y)\nDF en posición 1: Coordenada UTM (Y)\nDF en posición 2: Coordenada UTM (Y)\nDF en posición 3: Coordenada UTM (X)\nDF en posición 4: Coordenada UTM (X)\nDF en posición 5: Descripcio_victimitzacio\nDF en posición 6: Descripcio_victimitzacio\nDF en posición 7: Descripcio_victimitzacio\nDF en posición 8: Descripcio_Motiu_desplaçament_vianant\nDF en posición 9: Descripcio_Motiu_desplaĂ§ament_vianant\n\n-------------------------------------\n\nColumna en posición 24\n\nDF en posición 0: Coordenada UTM (X)\nDF en posición 1: Coordenada UTM (X)\nDF en posición 2: Coordenada UTM (X)\nDF en posición 3: No contiene columnas en la posición 24\nDF en posición 4: No contiene columnas en la posición 24\nDF en posición 5: Coordenada_UTM_X\nDF en posición 6: Coordenada_UTM_X\nDF en posición 7: Coordenada_UTM_X\nDF en posición 8: Descripcio_Motiu_desplaçament_conductor\nDF en posición 9: Descripcio_Motiu_desplaĂ§ament_conductor\n\n-------------------------------------\n\nColumna en posición 25\n\nDF en posición 0: No contiene columnas en la posición 25\nDF en posición 1: No contiene columnas en la posición 25\nDF en posición 2: No contiene columnas en la posición 25\nDF en posición 3: No contiene columnas en la posición 25\nDF en posición 4: No contiene columnas en la posición 25\nDF en posición 5: Coordenada_UTM_Y\nDF en posición 6: Coordenada_UTM_Y\nDF en posición 7: Coordenada_UTM_Y\nDF en posición 8: Descripcio_victimitzacio\nDF en posición 9: Descripcio_victimitzacio\n\n-------------------------------------\n\nColumna en posición 26\n\nDF en posición 0: No contiene columnas en la posición 26\nDF en posición 1: No contiene columnas en la posición 26\nDF en posición 2: No contiene columnas en la posición 26\nDF en posición 3: No contiene columnas en la posición 26\nDF en posición 4: No contiene columnas en la posición 26\nDF en posición 5: Longitud\nDF en posición 6: Longitud\nDF en posición 7: Longitud\nDF en posición 8: Coordenada_UTM_X\nDF en posición 9: Coordenada_UTM_X\n\n-------------------------------------\n\nColumna en posición 27\n\nDF en posición 0: No contiene columnas en la posición 27\nDF en posición 1: No contiene columnas en la posición 27\nDF en posición 2: No contiene columnas en la posición 27\nDF en posición 3: No contiene columnas en la posición 27\nDF en posición 4: No contiene columnas en la posición 27\nDF en posición 5: Latitud\nDF en posición 6: Latitud\nDF en posición 7: Latitud\nDF en posición 8: Coordenada_UTM_Y\nDF en posición 9: Coordenada_UTM_Y\n\n-------------------------------------\n\nColumna en posición 28\n\nDF en posición 0: No contiene columnas en la posición 28\nDF en posición 1: No contiene columnas en la posición 28\nDF en posición 2: No contiene columnas en la posición 28\nDF en posición 3: No contiene columnas en la posición 28\nDF en posición 4: No contiene columnas en la posición 28\nDF en posición 5: No contiene columnas en la posición 28\nDF en posición 6: No contiene columnas en la posición 28\nDF en posición 7: No contiene columnas en la posición 28\nDF en posición 8: Longitud\nDF en posición 9: Longitud\n\n-------------------------------------\n\nColumna en posición 29\n\nDF en posición 0: No contiene columnas en la posición 29\nDF en posición 1: No contiene columnas en la posición 29\nDF en posición 2: No contiene columnas en la posición 29\nDF en posición 3: No contiene columnas en la posición 29\nDF en posición 4: No contiene columnas en la posición 29\nDF en posición 5: No contiene columnas en la posición 29\nDF en posición 6: No contiene columnas en la posición 29\nDF en posición 7: No contiene columnas en la posición 29\nDF en posición 8: Latitud\nDF en posición 9: Latitud\n\n-------------------------------------\n\n"
     ]
    }
   ],
   "source": [
    "nombre_cada_columna(lista_df_personas)"
   ]
  },
  {
   "cell_type": "code",
   "execution_count": null,
   "metadata": {},
   "outputs": [],
   "source": []
  }
 ]
}