{
 "metadata": {
  "language_info": {
   "codemirror_mode": {
    "name": "ipython",
    "version": 3
   },
   "file_extension": ".py",
   "mimetype": "text/x-python",
   "name": "python",
   "nbconvert_exporter": "python",
   "pygments_lexer": "ipython3",
   "version": "3.7.4"
  },
  "orig_nbformat": 2,
  "kernelspec": {
   "name": "python374jvsc74a57bd0a0947237fadc8b5561fed326db280cc5ec46a670c87cfb3a0489cf95ff262303",
   "display_name": "Python 3.7.4 64-bit"
  },
  "metadata": {
   "interpreter": {
    "hash": "a0947237fadc8b5561fed326db280cc5ec46a670c87cfb3a0489cf95ff262303"
   }
  }
 },
 "nbformat": 4,
 "nbformat_minor": 2,
 "cells": [
  {
   "cell_type": "code",
   "execution_count": 1,
   "metadata": {},
   "outputs": [],
   "source": [
    "import pandas as pd"
   ]
  },
  {
   "cell_type": "code",
   "execution_count": 2,
   "metadata": {},
   "outputs": [],
   "source": [
    "def enlistar_dataframes_causa():\n",
    "    global lista_df_causa\n",
    "    lista_df_causa = []\n",
    "    for i in range(11,21):\n",
    "        try:\n",
    "            i = pd.read_csv('20'+str(i)+'/20'+str(i)+'_ACCIDENTS_CAUSES_GU_BCN_20'+str(i)+'-utf8.csv')\n",
    "        except:\n",
    "            try:\n",
    "                i = pd.read_csv('20'+str(i)+'/20'+str(i)+'_ACCIDENTS_CAUSES_GU_BCN_20'+str(i)+'-utf8.csv', sep=';')\n",
    "            except:\n",
    "                i = pd.read_excel('20'+str(i)+'/20'+str(i)+'_ACCIDENTS_CAUSES_GU_BCN_20'+str(i)+'.xlsx')\n",
    "        lista_df_causa.append(i)\n",
    "    return lista_df_causa"
   ]
  },
  {
   "cell_type": "code",
   "execution_count": 3,
   "metadata": {},
   "outputs": [],
   "source": [
    "def comparar_columnas(lista_df): \n",
    "    ''' SE DEBE INGRESAR UNA LISTA DE DATAFRAMES A COMPARAR. '''\n",
    "    for i in range(len(lista_df)):\n",
    "            for j in range(1, len(lista_df)):    \n",
    "                if i < j:\n",
    "                    #print(str(i) + ' vs. ' + str(j))\n",
    "                    if len(lista_df[i].columns) == len(lista_df[j].columns):\n",
    "                        #print('--------')\n",
    "                        columnas_iguales = lista_df[i].columns == lista_df[j].columns # TRUE si coinciden, FALSE si no\n",
    "                        if all(columnas_iguales):\n",
    "                            print('Las columnas de ' + str(i) + ' (' + str(len(lista_df[i].columns)) +') y ' + str(j)+ ' (' + str(len(lista_df[j].columns)) + ') COINCIDEN.')\n",
    "                            print('======================================================')\n",
    "                            break\n",
    "                        else:\n",
    "                            print('Las columnas de ' + str(i) + ' (' + str(len(lista_df[i].columns)) +') y ' + str(j) + ' (' + str(len(lista_df[j].columns)) + ') SON DISTINTAS.')\n",
    "                            print('======================================================')\n",
    "                    else:\n",
    "                        print(str(i) +  ' (' + str(len(lista_df[i].columns))  + ') y ' + str(j) + ' (' + str(len(lista_df[j].columns)) + ') tienen distinta CANTIDAD de columnas.')\n",
    "                        print('======================================================')\n",
    "                        # print(lista_dataframes[i].columns) == lista_dataframes[j].columns)\n",
    "                        #print('-------')"
   ]
  },
  {
   "cell_type": "code",
   "execution_count": 4,
   "metadata": {},
   "outputs": [],
   "source": [
    "def mostrar_columnas(lista_df):\n",
    "    ''' SE DEBE INGRESAR UNA LISTA DE DATAFRAMES '''\n",
    "    for i in range(len(lista_df)):\n",
    "        print('Columnas de dataframe en posición ' + str(i) + ':')\n",
    "        print('------------------------------------')\n",
    "        print(lista_df[i].columns)\n",
    "        print('\\nNúmero de columnas: ' + str(len(lista_df[i].columns)) + '\\n')\n",
    "        print('===========================================================================================')"
   ]
  },
  {
   "cell_type": "code",
   "execution_count": null,
   "metadata": {},
   "outputs": [],
   "source": []
  }
 ]
}