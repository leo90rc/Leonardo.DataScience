{
 "metadata": {
  "language_info": {
   "codemirror_mode": {
    "name": "ipython",
    "version": 3
   },
   "file_extension": ".py",
   "mimetype": "text/x-python",
   "name": "python",
   "nbconvert_exporter": "python",
   "pygments_lexer": "ipython3",
   "version": "3.7.4"
  },
  "orig_nbformat": 2,
  "kernelspec": {
   "name": "python374jvsc74a57bd0a0947237fadc8b5561fed326db280cc5ec46a670c87cfb3a0489cf95ff262303",
   "display_name": "Python 3.7.4 64-bit"
  },
  "metadata": {
   "interpreter": {
    "hash": "a0947237fadc8b5561fed326db280cc5ec46a670c87cfb3a0489cf95ff262303"
   }
  }
 },
 "nbformat": 4,
 "nbformat_minor": 2,
 "cells": [
  {
   "cell_type": "code",
   "execution_count": 1,
   "metadata": {},
   "outputs": [],
   "source": [
    "import pandas as pd"
   ]
  },
  {
   "cell_type": "code",
   "execution_count": 21,
   "metadata": {},
   "outputs": [],
   "source": [
    "def enlistar_dataframes(porcion_fichero):\n",
    "    ''' El argumento debe ser la porción del fichero correspondiente (str). '''\n",
    "    lista_df = []\n",
    "    for i in range(11,21):\n",
    "        try:\n",
    "            i = pd.read_csv('20'+str(i)+'/20'+str(i)+ porcion_fichero +str(i)+'-utf8.csv')\n",
    "        except:\n",
    "            try:\n",
    "                i = pd.read_csv('20'+str(i)+'/20'+str(i)+ porcion_fichero +str(i)+'-utf8.csv', sep=';')\n",
    "            except:\n",
    "                i = pd.read_excel('20'+str(i)+'/20'+str(i)+ porcion_fichero +str(i)+'.xlsx')\n",
    "        lista_df.append(i)\n",
    "    return lista_df\n",
    "\n",
    "\n",
    "\n",
    "def columna_vs_columna(lista_dataframes, posicion_df1, posicion_df2):\n",
    "    ''' Compara los nombres de las columnas de 2 dataframes que se encuentran en una lista, tomando como argumento la posición de dicho dataframe en la lista.\n",
    "    \n",
    "    Tener en cuenta que, para aplicarla, ambos dataframes deben tener la misma cantidad de columnas. '''\n",
    "    try:\n",
    "        for pos, valor in enumerate(lista_dataframes[posicion_df1].columns == lista_dataframes[posicion_df2].columns):\n",
    "            if valor == False:\n",
    "                print('         Posición de columna diferente: ' + str(pos))\n",
    "                print('         ---------------------------------')\n",
    "                print('         Columna de DF en posición ' + str(posicion_df1) + ': ' + lista_dataframes[posicion_df1].columns[pos])\n",
    "                print('         Columna de DF en posición ' + str(posicion_df2) + ': ' + lista_dataframes[posicion_df2].columns[pos])\n",
    "                print('         ================================================\\n')\n",
    "    except:\n",
    "        print('Los dataframes a comparar deben tener la misma cantidad de columnas.')\n",
    "\n",
    "\n",
    "\n",
    "def comparar_columnas(lista_dataframes): \n",
    "    ''' SE DEBE INGRESAR UNA LISTA DE DATAFRAMES A COMPARAR. '''\n",
    "    for i in range(len(lista_dataframes)):\n",
    "            for j in range(1, len(lista_dataframes)):    \n",
    "                if i < j:\n",
    "                    if len(lista_dataframes[i].columns) == len(lista_dataframes[j].columns):\n",
    "                        columnas_iguales = lista_dataframes[i].columns == lista_dataframes[j].columns # TRUE si coinciden, FALSE si no\n",
    "                        if all(columnas_iguales):\n",
    "                            print('Las columnas de ' + str(i) + ' (' + str(len(lista_dataframes[i].columns)) +') y ' + str(j)+ ' (' + str(len(lista_dataframes[j].columns)) + ') COINCIDEN.')\n",
    "                            print('======================================================')\n",
    "                            break\n",
    "                        else:\n",
    "                            print('\\nLas columnas de ' + str(i) + ' (' + str(len(lista_dataframes[i].columns)) +') y ' + str(j) + ' (' + str(len(lista_dataframes[j].columns)) + ') SON DISTINTAS.\\n')\n",
    "                            columna_vs_columna(lista_dataframes, i, j)\n",
    "                    else:\n",
    "                        print(str(i) +  ' (' + str(len(lista_dataframes[i].columns))  + ') y ' + str(j) + ' (' + str(len(lista_dataframes[j].columns)) + ') tienen distinta CANTIDAD de columnas.')\n",
    "                        print('======================================================')\n",
    "\n",
    "\n",
    "\n",
    "def mostrar_columnas(lista_dataframes):\n",
    "    ''' SE DEBE INGRESAR UNA LISTA DE DATAFRAMES '''\n",
    "    for i in range(len(lista_dataframes)):\n",
    "        print('Columnas de dataframe en posición ' + str(i) + ':')\n",
    "        print('------------------------------------')\n",
    "        print(lista_dataframes[i].columns)\n",
    "        print('\\nNúmero de columnas: ' + str(len(lista_dataframes[i].columns)) + '\\n')\n",
    "        print('===========================================================================================')\n",
    "\n",
    "\n",
    "\n",
    "def nombre_cada_columna(lista_dataframes):\n",
    "    tamanio_columnas = []\n",
    "    for df in lista_dataframes:\n",
    "        tamanio_columnas.append(len(df.columns))\n",
    "        a = max(tamanio_columnas)\n",
    "    for i in range(0,a):\n",
    "        print('Columna en posición ' + str(i) + '\\n')\n",
    "        for j in range(len(lista_dataframes)):\n",
    "            try:\n",
    "                print('DF en posición ' + str (j) + ': ' + str(lista_dataframes[j].columns[i]))\n",
    "            except:\n",
    "                print('DF en posición ' + str (j) + ': No contiene columnas en la posición ' + str(i))\n",
    "        print('\\n-------------------------------------\\n')\n",
    "\n",
    "\n",
    "\n",
    "def ver_ultimas_columnas(lista_dataframes):\n",
    "    tamanio_columnas = []\n",
    "    for df in lista_dataframes:\n",
    "        tamanio_columnas.append(len(df.columns))\n",
    "        a = max(tamanio_columnas)\n",
    "    for i in range(len(lista_dataframes)):\n",
    "        if len(lista_dataframes[i].columns) == (a-2):\n",
    "            print('Posición del DF ' + str(i) + ': '+ str(list(lista_dataframes[i].columns[-2::])))\n",
    "        elif len(lista_dataframes[i].columns) == a:\n",
    "            print('Posición del DF ' + str(i) + ': ' + str(list(lista_dataframes[i].columns[-4::])))\n",
    "\n",
    "\n",
    "\n",
    "def eliminar_columnas_finales(lista_dataframes):\n",
    "    tamanio_columnas = []\n",
    "    for df in lista_dataframes:\n",
    "        tamanio_columnas.append(len(df.columns))\n",
    "        a = max(tamanio_columnas)\n",
    "    for i in range(len(lista_dataframes)):\n",
    "        if len(lista_dataframes[i].columns) == a:\n",
    "            lista_dataframes[i] = lista_dataframes[i].iloc[:,:(a-2)]\n",
    "\n",
    "\n",
    "\n",
    "def ordenar_columnas_finales(lista_dataframes):\n",
    "    tamanio_columnas = []\n",
    "    for df in lista_dataframes:\n",
    "        tamanio_columnas.append(len(df.columns))\n",
    "        a = max(tamanio_columnas)\n",
    "    for i in range(len(lista_dataframes)):\n",
    "        if (lista_dataframes[i].columns[-1] == 'Coordenada UTM (X)') or (lista_dataframes[i].columns[-1] == 'Coordenada_UTM_X'):\n",
    "            col = lista_dataframes[i].columns.to_list()\n",
    "            col2 = col[0:(a-2)] + col[-1:] + col[-2:-1]\n",
    "            lista_dataframes[i] = lista_dataframes[i][col2]\n",
    "\n",
    "\n",
    "\n",
    "def renombrar_columnas(lista_dataframes, lista_nombres):\n",
    "    for i in range(len(lista_dataframes)):\n",
    "        lista_dataframes[i].columns = lista_nombres\n",
    "\n",
    "\n",
    "\n",
    "def unificar_lista_dataframe(lista_dataframes):\n",
    "    df_concatenados = pd.DataFrame()\n",
    "    for i in range(1, len(lista_dataframes)):\n",
    "        df_concatenados = df_concatenados.append(lista_dataframes[i], ignore_index = True)\n",
    "    return df_concatenados"
   ]
  },
  {
   "cell_type": "code",
   "execution_count": 3,
   "metadata": {},
   "outputs": [],
   "source": [
    "porcion_fichero = '_ACCIDENTS_CAUSES_GU_BCN_20'"
   ]
  },
  {
   "cell_type": "code",
   "execution_count": 4,
   "metadata": {},
   "outputs": [],
   "source": [
    "lista_df_causas = enlistar_dataframes(porcion_fichero)"
   ]
  },
  {
   "cell_type": "code",
   "execution_count": 5,
   "metadata": {},
   "outputs": [
    {
     "output_type": "stream",
     "name": "stdout",
     "text": [
      "Las columnas de 0 (20) y 1 (20) COINCIDEN.\n======================================================\nLas columnas de 1 (20) y 2 (20) COINCIDEN.\n======================================================\nLas columnas de 2 (20) y 3 (20) COINCIDEN.\n======================================================\n\nLas columnas de 3 (20) y 4 (20) SON DISTINTAS.\n\n         Posición de columna diferente: 0\n         ---------------------------------\n         Columna de DF en posición 3: Número d expedient\n         Columna de DF en posición 4: Número d'expedient\n         ================================================\n\n3 (20) y 5 (22) tienen distinta CANTIDAD de columnas.\n======================================================\n3 (20) y 6 (22) tienen distinta CANTIDAD de columnas.\n======================================================\n3 (20) y 7 (22) tienen distinta CANTIDAD de columnas.\n======================================================\n3 (20) y 8 (22) tienen distinta CANTIDAD de columnas.\n======================================================\n3 (20) y 9 (22) tienen distinta CANTIDAD de columnas.\n======================================================\n4 (20) y 5 (22) tienen distinta CANTIDAD de columnas.\n======================================================\n4 (20) y 6 (22) tienen distinta CANTIDAD de columnas.\n======================================================\n4 (20) y 7 (22) tienen distinta CANTIDAD de columnas.\n======================================================\n4 (20) y 8 (22) tienen distinta CANTIDAD de columnas.\n======================================================\n4 (20) y 9 (22) tienen distinta CANTIDAD de columnas.\n======================================================\n\nLas columnas de 5 (22) y 6 (22) SON DISTINTAS.\n\n         Posición de columna diferente: 0\n         ---------------------------------\n         Columna de DF en posición 5: Numero_expedient\n         Columna de DF en posición 6: Número_d'expedient\n         ================================================\n\n         Posición de columna diferente: 7\n         ---------------------------------\n         Columna de DF en posición 5: Num_postal\n         Columna de DF en posición 6: Num_postal \n         ================================================\n\n         Posición de columna diferente: 8\n         ---------------------------------\n         Columna de DF en posición 5: Descripcio_dia_setmana\n         Columna de DF en posición 6: Descripció_dia_setmana\n         ================================================\n\n         Posición de columna diferente: 10\n         ---------------------------------\n         Columna de DF en posición 5: Descripcio_tipus_dia\n         Columna de DF en posición 6: Descripció_tipus_dia\n         ================================================\n\n         Posición de columna diferente: 11\n         ---------------------------------\n         Columna de DF en posición 5: Any\n         Columna de DF en posición 6: NK Any\n         ================================================\n\n         Posición de columna diferente: 12\n         ---------------------------------\n         Columna de DF en posición 5: Mes_any\n         Columna de DF en posición 6: Mes_de_any\n         ================================================\n\n         Posición de columna diferente: 14\n         ---------------------------------\n         Columna de DF en posición 5: Dia_mes\n         Columna de DF en posición 6: Dia_de_mes\n         ================================================\n\n         Posición de columna diferente: 15\n         ---------------------------------\n         Columna de DF en posición 5: Hora_dia\n         Columna de DF en posición 6: Hora_de_dia\n         ================================================\n\n         Posición de columna diferente: 16\n         ---------------------------------\n         Columna de DF en posición 5: Descripcio_torn\n         Columna de DF en posición 6: Descripció_torn\n         ================================================\n\n         Posición de columna diferente: 17\n         ---------------------------------\n         Columna de DF en posición 5: Descripcio_causa_mediata\n         Columna de DF en posición 6: Descripció_causa_mediata\n         ================================================\n\n         Posición de columna diferente: 18\n         ---------------------------------\n         Columna de DF en posición 5: Coordenada_UTM_X\n         Columna de DF en posición 6: Coordenada_UTM_(X)\n         ================================================\n\n         Posición de columna diferente: 19\n         ---------------------------------\n         Columna de DF en posición 5: Coordenada_UTM_Y\n         Columna de DF en posición 6: Coordenada_UTM_(Y)\n         ================================================\n\n\nLas columnas de 5 (22) y 7 (22) SON DISTINTAS.\n\n         Posición de columna diferente: 7\n         ---------------------------------\n         Columna de DF en posición 5: Num_postal\n         Columna de DF en posición 7: Num_postal \n         ================================================\n\n\nLas columnas de 5 (22) y 8 (22) SON DISTINTAS.\n\n         Posición de columna diferente: 7\n         ---------------------------------\n         Columna de DF en posición 5: Num_postal\n         Columna de DF en posición 8: Num_postal \n         ================================================\n\n         Posición de columna diferente: 11\n         ---------------------------------\n         Columna de DF en posición 5: Any\n         Columna de DF en posición 8: NK_Any\n         ================================================\n\n\nLas columnas de 5 (22) y 9 (22) SON DISTINTAS.\n\n         Posición de columna diferente: 7\n         ---------------------------------\n         Columna de DF en posición 5: Num_postal\n         Columna de DF en posición 9: Num_postal \n         ================================================\n\n         Posición de columna diferente: 11\n         ---------------------------------\n         Columna de DF en posición 5: Any\n         Columna de DF en posición 9: NK_Any\n         ================================================\n\n\nLas columnas de 6 (22) y 7 (22) SON DISTINTAS.\n\n         Posición de columna diferente: 0\n         ---------------------------------\n         Columna de DF en posición 6: Número_d'expedient\n         Columna de DF en posición 7: Numero_expedient\n         ================================================\n\n         Posición de columna diferente: 8\n         ---------------------------------\n         Columna de DF en posición 6: Descripció_dia_setmana\n         Columna de DF en posición 7: Descripcio_dia_setmana\n         ================================================\n\n         Posición de columna diferente: 10\n         ---------------------------------\n         Columna de DF en posición 6: Descripció_tipus_dia\n         Columna de DF en posición 7: Descripcio_tipus_dia\n         ================================================\n\n         Posición de columna diferente: 11\n         ---------------------------------\n         Columna de DF en posición 6: NK Any\n         Columna de DF en posición 7: Any\n         ================================================\n\n         Posición de columna diferente: 12\n         ---------------------------------\n         Columna de DF en posición 6: Mes_de_any\n         Columna de DF en posición 7: Mes_any\n         ================================================\n\n         Posición de columna diferente: 14\n         ---------------------------------\n         Columna de DF en posición 6: Dia_de_mes\n         Columna de DF en posición 7: Dia_mes\n         ================================================\n\n         Posición de columna diferente: 15\n         ---------------------------------\n         Columna de DF en posición 6: Hora_de_dia\n         Columna de DF en posición 7: Hora_dia\n         ================================================\n\n         Posición de columna diferente: 16\n         ---------------------------------\n         Columna de DF en posición 6: Descripció_torn\n         Columna de DF en posición 7: Descripcio_torn\n         ================================================\n\n         Posición de columna diferente: 17\n         ---------------------------------\n         Columna de DF en posición 6: Descripció_causa_mediata\n         Columna de DF en posición 7: Descripcio_causa_mediata\n         ================================================\n\n         Posición de columna diferente: 18\n         ---------------------------------\n         Columna de DF en posición 6: Coordenada_UTM_(X)\n         Columna de DF en posición 7: Coordenada_UTM_X\n         ================================================\n\n         Posición de columna diferente: 19\n         ---------------------------------\n         Columna de DF en posición 6: Coordenada_UTM_(Y)\n         Columna de DF en posición 7: Coordenada_UTM_Y\n         ================================================\n\n\nLas columnas de 6 (22) y 8 (22) SON DISTINTAS.\n\n         Posición de columna diferente: 0\n         ---------------------------------\n         Columna de DF en posición 6: Número_d'expedient\n         Columna de DF en posición 8: Numero_expedient\n         ================================================\n\n         Posición de columna diferente: 8\n         ---------------------------------\n         Columna de DF en posición 6: Descripció_dia_setmana\n         Columna de DF en posición 8: Descripcio_dia_setmana\n         ================================================\n\n         Posición de columna diferente: 10\n         ---------------------------------\n         Columna de DF en posición 6: Descripció_tipus_dia\n         Columna de DF en posición 8: Descripcio_tipus_dia\n         ================================================\n\n         Posición de columna diferente: 11\n         ---------------------------------\n         Columna de DF en posición 6: NK Any\n         Columna de DF en posición 8: NK_Any\n         ================================================\n\n         Posición de columna diferente: 12\n         ---------------------------------\n         Columna de DF en posición 6: Mes_de_any\n         Columna de DF en posición 8: Mes_any\n         ================================================\n\n         Posición de columna diferente: 14\n         ---------------------------------\n         Columna de DF en posición 6: Dia_de_mes\n         Columna de DF en posición 8: Dia_mes\n         ================================================\n\n         Posición de columna diferente: 15\n         ---------------------------------\n         Columna de DF en posición 6: Hora_de_dia\n         Columna de DF en posición 8: Hora_dia\n         ================================================\n\n         Posición de columna diferente: 16\n         ---------------------------------\n         Columna de DF en posición 6: Descripció_torn\n         Columna de DF en posición 8: Descripcio_torn\n         ================================================\n\n         Posición de columna diferente: 17\n         ---------------------------------\n         Columna de DF en posición 6: Descripció_causa_mediata\n         Columna de DF en posición 8: Descripcio_causa_mediata\n         ================================================\n\n         Posición de columna diferente: 18\n         ---------------------------------\n         Columna de DF en posición 6: Coordenada_UTM_(X)\n         Columna de DF en posición 8: Coordenada_UTM_X\n         ================================================\n\n         Posición de columna diferente: 19\n         ---------------------------------\n         Columna de DF en posición 6: Coordenada_UTM_(Y)\n         Columna de DF en posición 8: Coordenada_UTM_Y\n         ================================================\n\n\nLas columnas de 6 (22) y 9 (22) SON DISTINTAS.\n\n         Posición de columna diferente: 0\n         ---------------------------------\n         Columna de DF en posición 6: Número_d'expedient\n         Columna de DF en posición 9: Numero_expedient\n         ================================================\n\n         Posición de columna diferente: 8\n         ---------------------------------\n         Columna de DF en posición 6: Descripció_dia_setmana\n         Columna de DF en posición 9: Descripcio_dia_setmana\n         ================================================\n\n         Posición de columna diferente: 10\n         ---------------------------------\n         Columna de DF en posición 6: Descripció_tipus_dia\n         Columna de DF en posición 9: Descripcio_tipus_dia\n         ================================================\n\n         Posición de columna diferente: 11\n         ---------------------------------\n         Columna de DF en posición 6: NK Any\n         Columna de DF en posición 9: NK_Any\n         ================================================\n\n         Posición de columna diferente: 12\n         ---------------------------------\n         Columna de DF en posición 6: Mes_de_any\n         Columna de DF en posición 9: Mes_any\n         ================================================\n\n         Posición de columna diferente: 14\n         ---------------------------------\n         Columna de DF en posición 6: Dia_de_mes\n         Columna de DF en posición 9: Dia_mes\n         ================================================\n\n         Posición de columna diferente: 15\n         ---------------------------------\n         Columna de DF en posición 6: Hora_de_dia\n         Columna de DF en posición 9: Hora_dia\n         ================================================\n\n         Posición de columna diferente: 16\n         ---------------------------------\n         Columna de DF en posición 6: Descripció_torn\n         Columna de DF en posición 9: Descripcio_torn\n         ================================================\n\n         Posición de columna diferente: 17\n         ---------------------------------\n         Columna de DF en posición 6: Descripció_causa_mediata\n         Columna de DF en posición 9: Descripcio_causa_mediata\n         ================================================\n\n         Posición de columna diferente: 18\n         ---------------------------------\n         Columna de DF en posición 6: Coordenada_UTM_(X)\n         Columna de DF en posición 9: Coordenada_UTM_X\n         ================================================\n\n         Posición de columna diferente: 19\n         ---------------------------------\n         Columna de DF en posición 6: Coordenada_UTM_(Y)\n         Columna de DF en posición 9: Coordenada_UTM_Y\n         ================================================\n\n\nLas columnas de 7 (22) y 8 (22) SON DISTINTAS.\n\n         Posición de columna diferente: 11\n         ---------------------------------\n         Columna de DF en posición 7: Any\n         Columna de DF en posición 8: NK_Any\n         ================================================\n\n\nLas columnas de 7 (22) y 9 (22) SON DISTINTAS.\n\n         Posición de columna diferente: 11\n         ---------------------------------\n         Columna de DF en posición 7: Any\n         Columna de DF en posición 9: NK_Any\n         ================================================\n\nLas columnas de 8 (22) y 9 (22) COINCIDEN.\n======================================================\n"
     ]
    }
   ],
   "source": [
    "comparar_columnas(lista_df_causas)"
   ]
  },
  {
   "cell_type": "code",
   "execution_count": 6,
   "metadata": {},
   "outputs": [
    {
     "output_type": "stream",
     "name": "stdout",
     "text": [
      "Columnas de dataframe en posición 0:\n------------------------------------\nIndex(['Número d expedient', 'Codi districte', 'Nom districte', 'Codi barri',\n       'Nom barri', 'Codi carrer', 'Nom carrer', 'Num postal caption',\n       'Descripció dia setmana', 'Dia setmana', 'Descripció tipus dia',\n       'NK Any', 'Mes de any', 'Nom mes', 'Dia de mes', 'Hora de dia',\n       'Descripció torn', 'Descripció causa mediata', 'Coordenada UTM (Y)',\n       'Coordenada UTM (X)'],\n      dtype='object')\n\nNúmero de columnas: 20\n\n===========================================================================================\nColumnas de dataframe en posición 1:\n------------------------------------\nIndex(['Número d expedient', 'Codi districte', 'Nom districte', 'Codi barri',\n       'Nom barri', 'Codi carrer', 'Nom carrer', 'Num postal caption',\n       'Descripció dia setmana', 'Dia setmana', 'Descripció tipus dia',\n       'NK Any', 'Mes de any', 'Nom mes', 'Dia de mes', 'Hora de dia',\n       'Descripció torn', 'Descripció causa mediata', 'Coordenada UTM (Y)',\n       'Coordenada UTM (X)'],\n      dtype='object')\n\nNúmero de columnas: 20\n\n===========================================================================================\nColumnas de dataframe en posición 2:\n------------------------------------\nIndex(['Número d expedient', 'Codi districte', 'Nom districte', 'Codi barri',\n       'Nom barri', 'Codi carrer', 'Nom carrer', 'Num postal caption',\n       'Descripció dia setmana', 'Dia setmana', 'Descripció tipus dia',\n       'NK Any', 'Mes de any', 'Nom mes', 'Dia de mes', 'Hora de dia',\n       'Descripció torn', 'Descripció causa mediata', 'Coordenada UTM (Y)',\n       'Coordenada UTM (X)'],\n      dtype='object')\n\nNúmero de columnas: 20\n\n===========================================================================================\nColumnas de dataframe en posición 3:\n------------------------------------\nIndex(['Número d expedient', 'Codi districte', 'Nom districte', 'Codi barri',\n       'Nom barri', 'Codi carrer', 'Nom carrer', 'Num postal caption',\n       'Descripció dia setmana', 'Dia setmana', 'Descripció tipus dia',\n       'NK Any', 'Mes de any', 'Nom mes', 'Dia de mes', 'Hora de dia',\n       'Descripció torn', 'Descripció causa mediata', 'Coordenada UTM (Y)',\n       'Coordenada UTM (X)'],\n      dtype='object')\n\nNúmero de columnas: 20\n\n===========================================================================================\nColumnas de dataframe en posición 4:\n------------------------------------\nIndex(['Número d'expedient', 'Codi districte', 'Nom districte', 'Codi barri',\n       'Nom barri', 'Codi carrer', 'Nom carrer', 'Num postal caption',\n       'Descripció dia setmana', 'Dia setmana', 'Descripció tipus dia',\n       'NK Any', 'Mes de any', 'Nom mes', 'Dia de mes', 'Hora de dia',\n       'Descripció torn', 'Descripció causa mediata', 'Coordenada UTM (Y)',\n       'Coordenada UTM (X)'],\n      dtype='object')\n\nNúmero de columnas: 20\n\n===========================================================================================\nColumnas de dataframe en posición 5:\n------------------------------------\nIndex(['Numero_expedient', 'Codi_districte', 'Nom_districte', 'Codi_barri',\n       'Nom_barri', 'Codi_carrer', 'Nom_carrer', 'Num_postal',\n       'Descripcio_dia_setmana', 'Dia_setmana', 'Descripcio_tipus_dia', 'Any',\n       'Mes_any', 'Nom_mes', 'Dia_mes', 'Hora_dia', 'Descripcio_torn',\n       'Descripcio_causa_mediata', 'Coordenada_UTM_X', 'Coordenada_UTM_Y',\n       'Longitud', 'Latitud'],\n      dtype='object')\n\nNúmero de columnas: 22\n\n===========================================================================================\nColumnas de dataframe en posición 6:\n------------------------------------\nIndex(['Número_d'expedient', 'Codi_districte', 'Nom_districte', 'Codi_barri',\n       'Nom_barri', 'Codi_carrer', 'Nom_carrer', 'Num_postal ',\n       'Descripció_dia_setmana', 'Dia_setmana', 'Descripció_tipus_dia',\n       'NK Any', 'Mes_de_any', 'Nom_mes', 'Dia_de_mes', 'Hora_de_dia',\n       'Descripció_torn', 'Descripció_causa_mediata', 'Coordenada_UTM_(X)',\n       'Coordenada_UTM_(Y)', 'Longitud', 'Latitud'],\n      dtype='object')\n\nNúmero de columnas: 22\n\n===========================================================================================\nColumnas de dataframe en posición 7:\n------------------------------------\nIndex(['Numero_expedient', 'Codi_districte', 'Nom_districte', 'Codi_barri',\n       'Nom_barri', 'Codi_carrer', 'Nom_carrer', 'Num_postal ',\n       'Descripcio_dia_setmana', 'Dia_setmana', 'Descripcio_tipus_dia', 'Any',\n       'Mes_any', 'Nom_mes', 'Dia_mes', 'Hora_dia', 'Descripcio_torn',\n       'Descripcio_causa_mediata', 'Coordenada_UTM_X', 'Coordenada_UTM_Y',\n       'Longitud', 'Latitud'],\n      dtype='object')\n\nNúmero de columnas: 22\n\n===========================================================================================\nColumnas de dataframe en posición 8:\n------------------------------------\nIndex(['Numero_expedient', 'Codi_districte', 'Nom_districte', 'Codi_barri',\n       'Nom_barri', 'Codi_carrer', 'Nom_carrer', 'Num_postal ',\n       'Descripcio_dia_setmana', 'Dia_setmana', 'Descripcio_tipus_dia',\n       'NK_Any', 'Mes_any', 'Nom_mes', 'Dia_mes', 'Hora_dia',\n       'Descripcio_torn', 'Descripcio_causa_mediata', 'Coordenada_UTM_X',\n       'Coordenada_UTM_Y', 'Longitud', 'Latitud'],\n      dtype='object')\n\nNúmero de columnas: 22\n\n===========================================================================================\nColumnas de dataframe en posición 9:\n------------------------------------\nIndex(['Numero_expedient', 'Codi_districte', 'Nom_districte', 'Codi_barri',\n       'Nom_barri', 'Codi_carrer', 'Nom_carrer', 'Num_postal ',\n       'Descripcio_dia_setmana', 'Dia_setmana', 'Descripcio_tipus_dia',\n       'NK_Any', 'Mes_any', 'Nom_mes', 'Dia_mes', 'Hora_dia',\n       'Descripcio_torn', 'Descripcio_causa_mediata', 'Coordenada_UTM_X',\n       'Coordenada_UTM_Y', 'Longitud', 'Latitud'],\n      dtype='object')\n\nNúmero de columnas: 22\n\n===========================================================================================\n"
     ]
    }
   ],
   "source": [
    "mostrar_columnas(lista_df_causas)"
   ]
  },
  {
   "cell_type": "code",
   "execution_count": 7,
   "metadata": {},
   "outputs": [
    {
     "output_type": "stream",
     "name": "stdout",
     "text": [
      "Columna en posición 0\n\nDF en posición 0: Número d expedient\nDF en posición 1: Número d expedient\nDF en posición 2: Número d expedient\nDF en posición 3: Número d expedient\nDF en posición 4: Número d'expedient\nDF en posición 5: Numero_expedient\nDF en posición 6: Número_d'expedient\nDF en posición 7: Numero_expedient\nDF en posición 8: Numero_expedient\nDF en posición 9: Numero_expedient\n\n-------------------------------------\n\nColumna en posición 1\n\nDF en posición 0: Codi districte\nDF en posición 1: Codi districte\nDF en posición 2: Codi districte\nDF en posición 3: Codi districte\nDF en posición 4: Codi districte\nDF en posición 5: Codi_districte\nDF en posición 6: Codi_districte\nDF en posición 7: Codi_districte\nDF en posición 8: Codi_districte\nDF en posición 9: Codi_districte\n\n-------------------------------------\n\nColumna en posición 2\n\nDF en posición 0: Nom districte\nDF en posición 1: Nom districte\nDF en posición 2: Nom districte\nDF en posición 3: Nom districte\nDF en posición 4: Nom districte\nDF en posición 5: Nom_districte\nDF en posición 6: Nom_districte\nDF en posición 7: Nom_districte\nDF en posición 8: Nom_districte\nDF en posición 9: Nom_districte\n\n-------------------------------------\n\nColumna en posición 3\n\nDF en posición 0: Codi barri\nDF en posición 1: Codi barri\nDF en posición 2: Codi barri\nDF en posición 3: Codi barri\nDF en posición 4: Codi barri\nDF en posición 5: Codi_barri\nDF en posición 6: Codi_barri\nDF en posición 7: Codi_barri\nDF en posición 8: Codi_barri\nDF en posición 9: Codi_barri\n\n-------------------------------------\n\nColumna en posición 4\n\nDF en posición 0: Nom barri\nDF en posición 1: Nom barri\nDF en posición 2: Nom barri\nDF en posición 3: Nom barri\nDF en posición 4: Nom barri\nDF en posición 5: Nom_barri\nDF en posición 6: Nom_barri\nDF en posición 7: Nom_barri\nDF en posición 8: Nom_barri\nDF en posición 9: Nom_barri\n\n-------------------------------------\n\nColumna en posición 5\n\nDF en posición 0: Codi carrer\nDF en posición 1: Codi carrer\nDF en posición 2: Codi carrer\nDF en posición 3: Codi carrer\nDF en posición 4: Codi carrer\nDF en posición 5: Codi_carrer\nDF en posición 6: Codi_carrer\nDF en posición 7: Codi_carrer\nDF en posición 8: Codi_carrer\nDF en posición 9: Codi_carrer\n\n-------------------------------------\n\nColumna en posición 6\n\nDF en posición 0: Nom carrer\nDF en posición 1: Nom carrer\nDF en posición 2: Nom carrer\nDF en posición 3: Nom carrer\nDF en posición 4: Nom carrer\nDF en posición 5: Nom_carrer\nDF en posición 6: Nom_carrer\nDF en posición 7: Nom_carrer\nDF en posición 8: Nom_carrer\nDF en posición 9: Nom_carrer\n\n-------------------------------------\n\nColumna en posición 7\n\nDF en posición 0: Num postal caption\nDF en posición 1: Num postal caption\nDF en posición 2: Num postal caption\nDF en posición 3: Num postal caption\nDF en posición 4: Num postal caption\nDF en posición 5: Num_postal\nDF en posición 6: Num_postal \nDF en posición 7: Num_postal \nDF en posición 8: Num_postal \nDF en posición 9: Num_postal \n\n-------------------------------------\n\nColumna en posición 8\n\nDF en posición 0: Descripció dia setmana\nDF en posición 1: Descripció dia setmana\nDF en posición 2: Descripció dia setmana\nDF en posición 3: Descripció dia setmana\nDF en posición 4: Descripció dia setmana\nDF en posición 5: Descripcio_dia_setmana\nDF en posición 6: Descripció_dia_setmana\nDF en posición 7: Descripcio_dia_setmana\nDF en posición 8: Descripcio_dia_setmana\nDF en posición 9: Descripcio_dia_setmana\n\n-------------------------------------\n\nColumna en posición 9\n\nDF en posición 0: Dia setmana\nDF en posición 1: Dia setmana\nDF en posición 2: Dia setmana\nDF en posición 3: Dia setmana\nDF en posición 4: Dia setmana\nDF en posición 5: Dia_setmana\nDF en posición 6: Dia_setmana\nDF en posición 7: Dia_setmana\nDF en posición 8: Dia_setmana\nDF en posición 9: Dia_setmana\n\n-------------------------------------\n\nColumna en posición 10\n\nDF en posición 0: Descripció tipus dia\nDF en posición 1: Descripció tipus dia\nDF en posición 2: Descripció tipus dia\nDF en posición 3: Descripció tipus dia\nDF en posición 4: Descripció tipus dia\nDF en posición 5: Descripcio_tipus_dia\nDF en posición 6: Descripció_tipus_dia\nDF en posición 7: Descripcio_tipus_dia\nDF en posición 8: Descripcio_tipus_dia\nDF en posición 9: Descripcio_tipus_dia\n\n-------------------------------------\n\nColumna en posición 11\n\nDF en posición 0: NK Any\nDF en posición 1: NK Any\nDF en posición 2: NK Any\nDF en posición 3: NK Any\nDF en posición 4: NK Any\nDF en posición 5: Any\nDF en posición 6: NK Any\nDF en posición 7: Any\nDF en posición 8: NK_Any\nDF en posición 9: NK_Any\n\n-------------------------------------\n\nColumna en posición 12\n\nDF en posición 0: Mes de any\nDF en posición 1: Mes de any\nDF en posición 2: Mes de any\nDF en posición 3: Mes de any\nDF en posición 4: Mes de any\nDF en posición 5: Mes_any\nDF en posición 6: Mes_de_any\nDF en posición 7: Mes_any\nDF en posición 8: Mes_any\nDF en posición 9: Mes_any\n\n-------------------------------------\n\nColumna en posición 13\n\nDF en posición 0: Nom mes\nDF en posición 1: Nom mes\nDF en posición 2: Nom mes\nDF en posición 3: Nom mes\nDF en posición 4: Nom mes\nDF en posición 5: Nom_mes\nDF en posición 6: Nom_mes\nDF en posición 7: Nom_mes\nDF en posición 8: Nom_mes\nDF en posición 9: Nom_mes\n\n-------------------------------------\n\nColumna en posición 14\n\nDF en posición 0: Dia de mes\nDF en posición 1: Dia de mes\nDF en posición 2: Dia de mes\nDF en posición 3: Dia de mes\nDF en posición 4: Dia de mes\nDF en posición 5: Dia_mes\nDF en posición 6: Dia_de_mes\nDF en posición 7: Dia_mes\nDF en posición 8: Dia_mes\nDF en posición 9: Dia_mes\n\n-------------------------------------\n\nColumna en posición 15\n\nDF en posición 0: Hora de dia\nDF en posición 1: Hora de dia\nDF en posición 2: Hora de dia\nDF en posición 3: Hora de dia\nDF en posición 4: Hora de dia\nDF en posición 5: Hora_dia\nDF en posición 6: Hora_de_dia\nDF en posición 7: Hora_dia\nDF en posición 8: Hora_dia\nDF en posición 9: Hora_dia\n\n-------------------------------------\n\nColumna en posición 16\n\nDF en posición 0: Descripció torn\nDF en posición 1: Descripció torn\nDF en posición 2: Descripció torn\nDF en posición 3: Descripció torn\nDF en posición 4: Descripció torn\nDF en posición 5: Descripcio_torn\nDF en posición 6: Descripció_torn\nDF en posición 7: Descripcio_torn\nDF en posición 8: Descripcio_torn\nDF en posición 9: Descripcio_torn\n\n-------------------------------------\n\nColumna en posición 17\n\nDF en posición 0: Descripció causa mediata\nDF en posición 1: Descripció causa mediata\nDF en posición 2: Descripció causa mediata\nDF en posición 3: Descripció causa mediata\nDF en posición 4: Descripció causa mediata\nDF en posición 5: Descripcio_causa_mediata\nDF en posición 6: Descripció_causa_mediata\nDF en posición 7: Descripcio_causa_mediata\nDF en posición 8: Descripcio_causa_mediata\nDF en posición 9: Descripcio_causa_mediata\n\n-------------------------------------\n\nColumna en posición 18\n\nDF en posición 0: Coordenada UTM (Y)\nDF en posición 1: Coordenada UTM (Y)\nDF en posición 2: Coordenada UTM (Y)\nDF en posición 3: Coordenada UTM (Y)\nDF en posición 4: Coordenada UTM (Y)\nDF en posición 5: Coordenada_UTM_X\nDF en posición 6: Coordenada_UTM_(X)\nDF en posición 7: Coordenada_UTM_X\nDF en posición 8: Coordenada_UTM_X\nDF en posición 9: Coordenada_UTM_X\n\n-------------------------------------\n\nColumna en posición 19\n\nDF en posición 0: Coordenada UTM (X)\nDF en posición 1: Coordenada UTM (X)\nDF en posición 2: Coordenada UTM (X)\nDF en posición 3: Coordenada UTM (X)\nDF en posición 4: Coordenada UTM (X)\nDF en posición 5: Coordenada_UTM_Y\nDF en posición 6: Coordenada_UTM_(Y)\nDF en posición 7: Coordenada_UTM_Y\nDF en posición 8: Coordenada_UTM_Y\nDF en posición 9: Coordenada_UTM_Y\n\n-------------------------------------\n\nColumna en posición 20\n\nDF en posición 0: No contiene columnas en la posición 20\nDF en posición 1: No contiene columnas en la posición 20\nDF en posición 2: No contiene columnas en la posición 20\nDF en posición 3: No contiene columnas en la posición 20\nDF en posición 4: No contiene columnas en la posición 20\nDF en posición 5: Longitud\nDF en posición 6: Longitud\nDF en posición 7: Longitud\nDF en posición 8: Longitud\nDF en posición 9: Longitud\n\n-------------------------------------\n\nColumna en posición 21\n\nDF en posición 0: No contiene columnas en la posición 21\nDF en posición 1: No contiene columnas en la posición 21\nDF en posición 2: No contiene columnas en la posición 21\nDF en posición 3: No contiene columnas en la posición 21\nDF en posición 4: No contiene columnas en la posición 21\nDF en posición 5: Latitud\nDF en posición 6: Latitud\nDF en posición 7: Latitud\nDF en posición 8: Latitud\nDF en posición 9: Latitud\n\n-------------------------------------\n\n"
     ]
    }
   ],
   "source": [
    "nombre_cada_columna(lista_df_causas)"
   ]
  },
  {
   "source": [
    "### Como se puede observar, no todos los dataframes contenidos en la lista poseen el mismo número de columnas."
   ],
   "cell_type": "markdown",
   "metadata": {}
  },
  {
   "cell_type": "code",
   "execution_count": 9,
   "metadata": {},
   "outputs": [
    {
     "output_type": "stream",
     "name": "stdout",
     "text": [
      "Posición del DF 0: ['Coordenada UTM (Y)', 'Coordenada UTM (X)']\nPosición del DF 1: ['Coordenada UTM (Y)', 'Coordenada UTM (X)']\nPosición del DF 2: ['Coordenada UTM (Y)', 'Coordenada UTM (X)']\nPosición del DF 3: ['Coordenada UTM (Y)', 'Coordenada UTM (X)']\nPosición del DF 4: ['Coordenada UTM (Y)', 'Coordenada UTM (X)']\nPosición del DF 5: ['Coordenada_UTM_X', 'Coordenada_UTM_Y', 'Longitud', 'Latitud']\nPosición del DF 6: ['Coordenada_UTM_(X)', 'Coordenada_UTM_(Y)', 'Longitud', 'Latitud']\nPosición del DF 7: ['Coordenada_UTM_X', 'Coordenada_UTM_Y', 'Longitud', 'Latitud']\nPosición del DF 8: ['Coordenada_UTM_X', 'Coordenada_UTM_Y', 'Longitud', 'Latitud']\nPosición del DF 9: ['Coordenada_UTM_X', 'Coordenada_UTM_Y', 'Longitud', 'Latitud']\n"
     ]
    }
   ],
   "source": [
    "ver_ultimas_columnas(lista_df_causas)"
   ]
  },
  {
   "source": [
    "### Vemos que las últimas 2 columnas de los dataframes que contienen 22, hacen referencia a la latitud y longitud. De momento, podemos prescindir de ellas, por lo que serán eliminadas."
   ],
   "cell_type": "markdown",
   "metadata": {}
  },
  {
   "cell_type": "code",
   "execution_count": 10,
   "metadata": {},
   "outputs": [],
   "source": [
    "eliminar_columnas_finales(lista_df_causas)"
   ]
  },
  {
   "source": [
    "### Podemos apreciar además, que las columnas que hacen referencia a las coordenadas, no sólo tienen nombres diferentes, sino que no se corresponden en posición, es decir, en algunas figura en primer lugar la coordeneda UTM Y o X y viceversa. Se procede a acomodar las columnas para luego unificar nombres de las mismas."
   ],
   "cell_type": "markdown",
   "metadata": {}
  },
  {
   "cell_type": "code",
   "execution_count": 12,
   "metadata": {},
   "outputs": [],
   "source": [
    "ordenar_columnas_finales(lista_df_causas)"
   ]
  },
  {
   "cell_type": "code",
   "execution_count": 13,
   "metadata": {},
   "outputs": [
    {
     "output_type": "stream",
     "name": "stdout",
     "text": [
      "Columna en posición 0\n\nDF en posición 0: Número d expedient\nDF en posición 1: Número d expedient\nDF en posición 2: Número d expedient\nDF en posición 3: Número d expedient\nDF en posición 4: Número d'expedient\nDF en posición 5: Numero_expedient\nDF en posición 6: Número_d'expedient\nDF en posición 7: Numero_expedient\nDF en posición 8: Numero_expedient\nDF en posición 9: Numero_expedient\n\n-------------------------------------\n\nColumna en posición 1\n\nDF en posición 0: Codi districte\nDF en posición 1: Codi districte\nDF en posición 2: Codi districte\nDF en posición 3: Codi districte\nDF en posición 4: Codi districte\nDF en posición 5: Codi_districte\nDF en posición 6: Codi_districte\nDF en posición 7: Codi_districte\nDF en posición 8: Codi_districte\nDF en posición 9: Codi_districte\n\n-------------------------------------\n\nColumna en posición 2\n\nDF en posición 0: Nom districte\nDF en posición 1: Nom districte\nDF en posición 2: Nom districte\nDF en posición 3: Nom districte\nDF en posición 4: Nom districte\nDF en posición 5: Nom_districte\nDF en posición 6: Nom_districte\nDF en posición 7: Nom_districte\nDF en posición 8: Nom_districte\nDF en posición 9: Nom_districte\n\n-------------------------------------\n\nColumna en posición 3\n\nDF en posición 0: Codi barri\nDF en posición 1: Codi barri\nDF en posición 2: Codi barri\nDF en posición 3: Codi barri\nDF en posición 4: Codi barri\nDF en posición 5: Codi_barri\nDF en posición 6: Codi_barri\nDF en posición 7: Codi_barri\nDF en posición 8: Codi_barri\nDF en posición 9: Codi_barri\n\n-------------------------------------\n\nColumna en posición 4\n\nDF en posición 0: Nom barri\nDF en posición 1: Nom barri\nDF en posición 2: Nom barri\nDF en posición 3: Nom barri\nDF en posición 4: Nom barri\nDF en posición 5: Nom_barri\nDF en posición 6: Nom_barri\nDF en posición 7: Nom_barri\nDF en posición 8: Nom_barri\nDF en posición 9: Nom_barri\n\n-------------------------------------\n\nColumna en posición 5\n\nDF en posición 0: Codi carrer\nDF en posición 1: Codi carrer\nDF en posición 2: Codi carrer\nDF en posición 3: Codi carrer\nDF en posición 4: Codi carrer\nDF en posición 5: Codi_carrer\nDF en posición 6: Codi_carrer\nDF en posición 7: Codi_carrer\nDF en posición 8: Codi_carrer\nDF en posición 9: Codi_carrer\n\n-------------------------------------\n\nColumna en posición 6\n\nDF en posición 0: Nom carrer\nDF en posición 1: Nom carrer\nDF en posición 2: Nom carrer\nDF en posición 3: Nom carrer\nDF en posición 4: Nom carrer\nDF en posición 5: Nom_carrer\nDF en posición 6: Nom_carrer\nDF en posición 7: Nom_carrer\nDF en posición 8: Nom_carrer\nDF en posición 9: Nom_carrer\n\n-------------------------------------\n\nColumna en posición 7\n\nDF en posición 0: Num postal caption\nDF en posición 1: Num postal caption\nDF en posición 2: Num postal caption\nDF en posición 3: Num postal caption\nDF en posición 4: Num postal caption\nDF en posición 5: Num_postal\nDF en posición 6: Num_postal \nDF en posición 7: Num_postal \nDF en posición 8: Num_postal \nDF en posición 9: Num_postal \n\n-------------------------------------\n\nColumna en posición 8\n\nDF en posición 0: Descripció dia setmana\nDF en posición 1: Descripció dia setmana\nDF en posición 2: Descripció dia setmana\nDF en posición 3: Descripció dia setmana\nDF en posición 4: Descripció dia setmana\nDF en posición 5: Descripcio_dia_setmana\nDF en posición 6: Descripció_dia_setmana\nDF en posición 7: Descripcio_dia_setmana\nDF en posición 8: Descripcio_dia_setmana\nDF en posición 9: Descripcio_dia_setmana\n\n-------------------------------------\n\nColumna en posición 9\n\nDF en posición 0: Dia setmana\nDF en posición 1: Dia setmana\nDF en posición 2: Dia setmana\nDF en posición 3: Dia setmana\nDF en posición 4: Dia setmana\nDF en posición 5: Dia_setmana\nDF en posición 6: Dia_setmana\nDF en posición 7: Dia_setmana\nDF en posición 8: Dia_setmana\nDF en posición 9: Dia_setmana\n\n-------------------------------------\n\nColumna en posición 10\n\nDF en posición 0: Descripció tipus dia\nDF en posición 1: Descripció tipus dia\nDF en posición 2: Descripció tipus dia\nDF en posición 3: Descripció tipus dia\nDF en posición 4: Descripció tipus dia\nDF en posición 5: Descripcio_tipus_dia\nDF en posición 6: Descripció_tipus_dia\nDF en posición 7: Descripcio_tipus_dia\nDF en posición 8: Descripcio_tipus_dia\nDF en posición 9: Descripcio_tipus_dia\n\n-------------------------------------\n\nColumna en posición 11\n\nDF en posición 0: NK Any\nDF en posición 1: NK Any\nDF en posición 2: NK Any\nDF en posición 3: NK Any\nDF en posición 4: NK Any\nDF en posición 5: Any\nDF en posición 6: NK Any\nDF en posición 7: Any\nDF en posición 8: NK_Any\nDF en posición 9: NK_Any\n\n-------------------------------------\n\nColumna en posición 12\n\nDF en posición 0: Mes de any\nDF en posición 1: Mes de any\nDF en posición 2: Mes de any\nDF en posición 3: Mes de any\nDF en posición 4: Mes de any\nDF en posición 5: Mes_any\nDF en posición 6: Mes_de_any\nDF en posición 7: Mes_any\nDF en posición 8: Mes_any\nDF en posición 9: Mes_any\n\n-------------------------------------\n\nColumna en posición 13\n\nDF en posición 0: Nom mes\nDF en posición 1: Nom mes\nDF en posición 2: Nom mes\nDF en posición 3: Nom mes\nDF en posición 4: Nom mes\nDF en posición 5: Nom_mes\nDF en posición 6: Nom_mes\nDF en posición 7: Nom_mes\nDF en posición 8: Nom_mes\nDF en posición 9: Nom_mes\n\n-------------------------------------\n\nColumna en posición 14\n\nDF en posición 0: Dia de mes\nDF en posición 1: Dia de mes\nDF en posición 2: Dia de mes\nDF en posición 3: Dia de mes\nDF en posición 4: Dia de mes\nDF en posición 5: Dia_mes\nDF en posición 6: Dia_de_mes\nDF en posición 7: Dia_mes\nDF en posición 8: Dia_mes\nDF en posición 9: Dia_mes\n\n-------------------------------------\n\nColumna en posición 15\n\nDF en posición 0: Hora de dia\nDF en posición 1: Hora de dia\nDF en posición 2: Hora de dia\nDF en posición 3: Hora de dia\nDF en posición 4: Hora de dia\nDF en posición 5: Hora_dia\nDF en posición 6: Hora_de_dia\nDF en posición 7: Hora_dia\nDF en posición 8: Hora_dia\nDF en posición 9: Hora_dia\n\n-------------------------------------\n\nColumna en posición 16\n\nDF en posición 0: Descripció torn\nDF en posición 1: Descripció torn\nDF en posición 2: Descripció torn\nDF en posición 3: Descripció torn\nDF en posición 4: Descripció torn\nDF en posición 5: Descripcio_torn\nDF en posición 6: Descripció_torn\nDF en posición 7: Descripcio_torn\nDF en posición 8: Descripcio_torn\nDF en posición 9: Descripcio_torn\n\n-------------------------------------\n\nColumna en posición 17\n\nDF en posición 0: Descripció causa mediata\nDF en posición 1: Descripció causa mediata\nDF en posición 2: Descripció causa mediata\nDF en posición 3: Descripció causa mediata\nDF en posición 4: Descripció causa mediata\nDF en posición 5: Descripcio_causa_mediata\nDF en posición 6: Descripció_causa_mediata\nDF en posición 7: Descripcio_causa_mediata\nDF en posición 8: Descripcio_causa_mediata\nDF en posición 9: Descripcio_causa_mediata\n\n-------------------------------------\n\nColumna en posición 18\n\nDF en posición 0: Coordenada UTM (X)\nDF en posición 1: Coordenada UTM (X)\nDF en posición 2: Coordenada UTM (X)\nDF en posición 3: Coordenada UTM (X)\nDF en posición 4: Coordenada UTM (X)\nDF en posición 5: Coordenada_UTM_X\nDF en posición 6: Coordenada_UTM_(X)\nDF en posición 7: Coordenada_UTM_X\nDF en posición 8: Coordenada_UTM_X\nDF en posición 9: Coordenada_UTM_X\n\n-------------------------------------\n\nColumna en posición 19\n\nDF en posición 0: Coordenada UTM (Y)\nDF en posición 1: Coordenada UTM (Y)\nDF en posición 2: Coordenada UTM (Y)\nDF en posición 3: Coordenada UTM (Y)\nDF en posición 4: Coordenada UTM (Y)\nDF en posición 5: Coordenada_UTM_Y\nDF en posición 6: Coordenada_UTM_(Y)\nDF en posición 7: Coordenada_UTM_Y\nDF en posición 8: Coordenada_UTM_Y\nDF en posición 9: Coordenada_UTM_Y\n\n-------------------------------------\n\n"
     ]
    }
   ],
   "source": [
    "nombre_cada_columna(lista_df_causas)"
   ]
  },
  {
   "source": [
    "### Una vez organizadas las columnas, se homogenizan los nombres de las mismas para unir los dataframes en uno solo."
   ],
   "cell_type": "markdown",
   "metadata": {}
  },
  {
   "cell_type": "code",
   "execution_count": 23,
   "metadata": {},
   "outputs": [],
   "source": [
    "nombres_columnas = ['NUMERO EXPEDIENTE', 'CODIGO DISTRITO', 'DISTRITO', 'CODIGO BARRIO', 'BARRIO', 'CODIGO CALLE', 'CALLE', 'NUMERO POSTAL', 'DIA SEMANA', 'DIA SEMANA ABREVIADO', 'TIPO DE DIA', 'ANO', 'MES (NUMERICO)', 'MES', 'DIA', 'HORA', 'TURNO', 'CAUSA', 'COORDENADA UTM X', 'COORDENADA UTM Y']"
   ]
  },
  {
   "cell_type": "code",
   "execution_count": 24,
   "metadata": {},
   "outputs": [],
   "source": [
    "renombrar_columnas(lista_df_causas, nombres_columnas)"
   ]
  },
  {
   "cell_type": "code",
   "execution_count": 25,
   "metadata": {},
   "outputs": [
    {
     "output_type": "stream",
     "name": "stdout",
     "text": [
      "Columna en posición 0\n\nDF en posición 0: NUMERO EXPEDIENTE\nDF en posición 1: NUMERO EXPEDIENTE\nDF en posición 2: NUMERO EXPEDIENTE\nDF en posición 3: NUMERO EXPEDIENTE\nDF en posición 4: NUMERO EXPEDIENTE\nDF en posición 5: NUMERO EXPEDIENTE\nDF en posición 6: NUMERO EXPEDIENTE\nDF en posición 7: NUMERO EXPEDIENTE\nDF en posición 8: NUMERO EXPEDIENTE\nDF en posición 9: NUMERO EXPEDIENTE\n\n-------------------------------------\n\nColumna en posición 1\n\nDF en posición 0: CODIGO DISTRITO\nDF en posición 1: CODIGO DISTRITO\nDF en posición 2: CODIGO DISTRITO\nDF en posición 3: CODIGO DISTRITO\nDF en posición 4: CODIGO DISTRITO\nDF en posición 5: CODIGO DISTRITO\nDF en posición 6: CODIGO DISTRITO\nDF en posición 7: CODIGO DISTRITO\nDF en posición 8: CODIGO DISTRITO\nDF en posición 9: CODIGO DISTRITO\n\n-------------------------------------\n\nColumna en posición 2\n\nDF en posición 0: DISTRITO\nDF en posición 1: DISTRITO\nDF en posición 2: DISTRITO\nDF en posición 3: DISTRITO\nDF en posición 4: DISTRITO\nDF en posición 5: DISTRITO\nDF en posición 6: DISTRITO\nDF en posición 7: DISTRITO\nDF en posición 8: DISTRITO\nDF en posición 9: DISTRITO\n\n-------------------------------------\n\nColumna en posición 3\n\nDF en posición 0: CODIGO BARRIO\nDF en posición 1: CODIGO BARRIO\nDF en posición 2: CODIGO BARRIO\nDF en posición 3: CODIGO BARRIO\nDF en posición 4: CODIGO BARRIO\nDF en posición 5: CODIGO BARRIO\nDF en posición 6: CODIGO BARRIO\nDF en posición 7: CODIGO BARRIO\nDF en posición 8: CODIGO BARRIO\nDF en posición 9: CODIGO BARRIO\n\n-------------------------------------\n\nColumna en posición 4\n\nDF en posición 0: BARRIO\nDF en posición 1: BARRIO\nDF en posición 2: BARRIO\nDF en posición 3: BARRIO\nDF en posición 4: BARRIO\nDF en posición 5: BARRIO\nDF en posición 6: BARRIO\nDF en posición 7: BARRIO\nDF en posición 8: BARRIO\nDF en posición 9: BARRIO\n\n-------------------------------------\n\nColumna en posición 5\n\nDF en posición 0: CODIGO CALLE\nDF en posición 1: CODIGO CALLE\nDF en posición 2: CODIGO CALLE\nDF en posición 3: CODIGO CALLE\nDF en posición 4: CODIGO CALLE\nDF en posición 5: CODIGO CALLE\nDF en posición 6: CODIGO CALLE\nDF en posición 7: CODIGO CALLE\nDF en posición 8: CODIGO CALLE\nDF en posición 9: CODIGO CALLE\n\n-------------------------------------\n\nColumna en posición 6\n\nDF en posición 0: CALLE\nDF en posición 1: CALLE\nDF en posición 2: CALLE\nDF en posición 3: CALLE\nDF en posición 4: CALLE\nDF en posición 5: CALLE\nDF en posición 6: CALLE\nDF en posición 7: CALLE\nDF en posición 8: CALLE\nDF en posición 9: CALLE\n\n-------------------------------------\n\nColumna en posición 7\n\nDF en posición 0: NUMERO POSTAL\nDF en posición 1: NUMERO POSTAL\nDF en posición 2: NUMERO POSTAL\nDF en posición 3: NUMERO POSTAL\nDF en posición 4: NUMERO POSTAL\nDF en posición 5: NUMERO POSTAL\nDF en posición 6: NUMERO POSTAL\nDF en posición 7: NUMERO POSTAL\nDF en posición 8: NUMERO POSTAL\nDF en posición 9: NUMERO POSTAL\n\n-------------------------------------\n\nColumna en posición 8\n\nDF en posición 0: DIA SEMANA\nDF en posición 1: DIA SEMANA\nDF en posición 2: DIA SEMANA\nDF en posición 3: DIA SEMANA\nDF en posición 4: DIA SEMANA\nDF en posición 5: DIA SEMANA\nDF en posición 6: DIA SEMANA\nDF en posición 7: DIA SEMANA\nDF en posición 8: DIA SEMANA\nDF en posición 9: DIA SEMANA\n\n-------------------------------------\n\nColumna en posición 9\n\nDF en posición 0: DIA SEMANA ABREVIADO\nDF en posición 1: DIA SEMANA ABREVIADO\nDF en posición 2: DIA SEMANA ABREVIADO\nDF en posición 3: DIA SEMANA ABREVIADO\nDF en posición 4: DIA SEMANA ABREVIADO\nDF en posición 5: DIA SEMANA ABREVIADO\nDF en posición 6: DIA SEMANA ABREVIADO\nDF en posición 7: DIA SEMANA ABREVIADO\nDF en posición 8: DIA SEMANA ABREVIADO\nDF en posición 9: DIA SEMANA ABREVIADO\n\n-------------------------------------\n\nColumna en posición 10\n\nDF en posición 0: TIPO DE DIA\nDF en posición 1: TIPO DE DIA\nDF en posición 2: TIPO DE DIA\nDF en posición 3: TIPO DE DIA\nDF en posición 4: TIPO DE DIA\nDF en posición 5: TIPO DE DIA\nDF en posición 6: TIPO DE DIA\nDF en posición 7: TIPO DE DIA\nDF en posición 8: TIPO DE DIA\nDF en posición 9: TIPO DE DIA\n\n-------------------------------------\n\nColumna en posición 11\n\nDF en posición 0: ANO\nDF en posición 1: ANO\nDF en posición 2: ANO\nDF en posición 3: ANO\nDF en posición 4: ANO\nDF en posición 5: ANO\nDF en posición 6: ANO\nDF en posición 7: ANO\nDF en posición 8: ANO\nDF en posición 9: ANO\n\n-------------------------------------\n\nColumna en posición 12\n\nDF en posición 0: MES (NUMERICO)\nDF en posición 1: MES (NUMERICO)\nDF en posición 2: MES (NUMERICO)\nDF en posición 3: MES (NUMERICO)\nDF en posición 4: MES (NUMERICO)\nDF en posición 5: MES (NUMERICO)\nDF en posición 6: MES (NUMERICO)\nDF en posición 7: MES (NUMERICO)\nDF en posición 8: MES (NUMERICO)\nDF en posición 9: MES (NUMERICO)\n\n-------------------------------------\n\nColumna en posición 13\n\nDF en posición 0: MES\nDF en posición 1: MES\nDF en posición 2: MES\nDF en posición 3: MES\nDF en posición 4: MES\nDF en posición 5: MES\nDF en posición 6: MES\nDF en posición 7: MES\nDF en posición 8: MES\nDF en posición 9: MES\n\n-------------------------------------\n\nColumna en posición 14\n\nDF en posición 0: DIA\nDF en posición 1: DIA\nDF en posición 2: DIA\nDF en posición 3: DIA\nDF en posición 4: DIA\nDF en posición 5: DIA\nDF en posición 6: DIA\nDF en posición 7: DIA\nDF en posición 8: DIA\nDF en posición 9: DIA\n\n-------------------------------------\n\nColumna en posición 15\n\nDF en posición 0: HORA\nDF en posición 1: HORA\nDF en posición 2: HORA\nDF en posición 3: HORA\nDF en posición 4: HORA\nDF en posición 5: HORA\nDF en posición 6: HORA\nDF en posición 7: HORA\nDF en posición 8: HORA\nDF en posición 9: HORA\n\n-------------------------------------\n\nColumna en posición 16\n\nDF en posición 0: TURNO\nDF en posición 1: TURNO\nDF en posición 2: TURNO\nDF en posición 3: TURNO\nDF en posición 4: TURNO\nDF en posición 5: TURNO\nDF en posición 6: TURNO\nDF en posición 7: TURNO\nDF en posición 8: TURNO\nDF en posición 9: TURNO\n\n-------------------------------------\n\nColumna en posición 17\n\nDF en posición 0: CAUSA\nDF en posición 1: CAUSA\nDF en posición 2: CAUSA\nDF en posición 3: CAUSA\nDF en posición 4: CAUSA\nDF en posición 5: CAUSA\nDF en posición 6: CAUSA\nDF en posición 7: CAUSA\nDF en posición 8: CAUSA\nDF en posición 9: CAUSA\n\n-------------------------------------\n\nColumna en posición 18\n\nDF en posición 0: COORDENADA UTM X\nDF en posición 1: COORDENADA UTM X\nDF en posición 2: COORDENADA UTM X\nDF en posición 3: COORDENADA UTM X\nDF en posición 4: COORDENADA UTM X\nDF en posición 5: COORDENADA UTM X\nDF en posición 6: COORDENADA UTM X\nDF en posición 7: COORDENADA UTM X\nDF en posición 8: COORDENADA UTM X\nDF en posición 9: COORDENADA UTM X\n\n-------------------------------------\n\nColumna en posición 19\n\nDF en posición 0: COORDENADA UTM Y\nDF en posición 1: COORDENADA UTM Y\nDF en posición 2: COORDENADA UTM Y\nDF en posición 3: COORDENADA UTM Y\nDF en posición 4: COORDENADA UTM Y\nDF en posición 5: COORDENADA UTM Y\nDF en posición 6: COORDENADA UTM Y\nDF en posición 7: COORDENADA UTM Y\nDF en posición 8: COORDENADA UTM Y\nDF en posición 9: COORDENADA UTM Y\n\n-------------------------------------\n\n"
     ]
    }
   ],
   "source": [
    "nombre_cada_columna(lista_df_causas)"
   ]
  },
  {
   "source": [
    "### Ya todos los dataframes de la lista tienen el mismo nombre para cada columna. Se procede a unirlos en un único dataframe."
   ],
   "cell_type": "markdown",
   "metadata": {}
  },
  {
   "cell_type": "code",
   "execution_count": 26,
   "metadata": {},
   "outputs": [],
   "source": [
    "df_accidentes_causas = unificar_lista_dataframe(lista_df_causas)"
   ]
  },
  {
   "cell_type": "code",
   "execution_count": 27,
   "metadata": {},
   "outputs": [
    {
     "output_type": "execute_result",
     "data": {
      "text/plain": [
       "      NUMERO EXPEDIENTE CODIGO DISTRITO        DISTRITO CODIGO BARRIO  \\\n",
       "0           2012S004345              10      Sant Martí            64   \n",
       "1           2012S007349              10      Sant Martí            64   \n",
       "2           2012S004626              10      Sant Martí            64   \n",
       "3           2012S004837              10      Sant Martí            64   \n",
       "4           2012S004873              10      Sant Martí            64   \n",
       "...                 ...             ...             ...           ...   \n",
       "85176   2020S006274                   7  Horta-Guinardó            37   \n",
       "85177   2020S006275                   2        Eixample            10   \n",
       "85178   2020S006276                   1    Ciutat Vella             2   \n",
       "85179   2020S006277                   2        Eixample             9   \n",
       "85180   2020S006278                   8      Nou Barris            44   \n",
       "\n",
       "                               BARRIO CODIGO CALLE                     CALLE  \\\n",
       "0          el Camp de l'Arpa del Clot       161407                 Indústria   \n",
       "1          el Camp de l'Arpa del Clot       367402                    Volart   \n",
       "2          el Camp de l'Arpa del Clot       161407                 Indústria   \n",
       "3          el Camp de l'Arpa del Clot       297001  Sant Antoni Maria Claret   \n",
       "4          el Camp de l'Arpa del Clot       297001  Sant Antoni Maria Claret   \n",
       "...                               ...          ...                       ...   \n",
       "85176                       el Carmel       182600         Lluís Marià Vidal   \n",
       "85177                     Sant Antoni       323203                 Sepúlveda   \n",
       "85178                  el Barri Gòtic       701266       Litoral (Llobregat)   \n",
       "85179  la Nova Esquerra de l'Eixample        18505                     Aragó   \n",
       "85180   Vilapicina i la Torre Llobeta        45701                    Quinze   \n",
       "\n",
       "      NUMERO POSTAL DIA SEMANA DIA SEMANA ABREVIADO TIPO DE DIA   ANO  \\\n",
       "0         0299 0301  Divendres                   Dv     Laboral  2012   \n",
       "1         0001 0001   Dissabte                   Ds     Laboral  2012   \n",
       "2         0288 0288    Dimarts                   Dm     Laboral  2012   \n",
       "3         0270 0270    Dimarts                   Dm     Laboral  2012   \n",
       "4         0270 0270   Dimecres                   Dc     Laboral  2012   \n",
       "...             ...        ...                  ...         ...   ...   \n",
       "85176     0025 0025     Dijous                   Dj     Laboral  2020   \n",
       "85177     0186 0186     Dijous                   Dj     Laboral  2020   \n",
       "85178       1070000     Dijous                   Dj     Laboral  2020   \n",
       "85179     0127 0127     Dijous                   Dj     Laboral  2020   \n",
       "85180     0007 0007    Dimarts                   Dm     Laboral  2020   \n",
       "\n",
       "       MES (NUMERICO)       MES  DIA  HORA  TURNO                   CAUSA  \\\n",
       "0                   6      Juny   15    19  Tarda  No hi ha causa mediata   \n",
       "1                  10   Octubre   20     9   Matí  No hi ha causa mediata   \n",
       "2                   6      Juny   26    11   Matí  No hi ha causa mediata   \n",
       "3                   7    Juliol    3    14  Tarda  No hi ha causa mediata   \n",
       "4                   7    Juliol    4    18  Tarda  No hi ha causa mediata   \n",
       "...               ...       ...  ...   ...    ...                     ...   \n",
       "85176              12  Desembre   31    17  Tarda  No hi ha causa mediata   \n",
       "85177              12  Desembre   31    20  Tarda  No hi ha causa mediata   \n",
       "85178              12  Desembre   31    13   Matí  No hi ha causa mediata   \n",
       "85179              12  Desembre   31    21  Tarda  No hi ha causa mediata   \n",
       "85180              12  Desembre   22    11   Matí  No hi ha causa mediata   \n",
       "\n",
       "      COORDENADA UTM X COORDENADA UTM Y  \n",
       "0            431773,98       4585456,71  \n",
       "1            431594,76       4585406,24  \n",
       "2            431650,48       4585306,47  \n",
       "3            431274,19       4585103,11  \n",
       "4            431274,19       4585103,11  \n",
       "...                ...              ...  \n",
       "85176         429662.8       4586412.97  \n",
       "85177        430125.99       4581881.31  \n",
       "85178         431410.4       4581077.37  \n",
       "85179        429362.84       4581954.15  \n",
       "85180        431221.22       4586654.09  \n",
       "\n",
       "[85181 rows x 20 columns]"
      ],
      "text/html": "<div>\n<style scoped>\n    .dataframe tbody tr th:only-of-type {\n        vertical-align: middle;\n    }\n\n    .dataframe tbody tr th {\n        vertical-align: top;\n    }\n\n    .dataframe thead th {\n        text-align: right;\n    }\n</style>\n<table border=\"1\" class=\"dataframe\">\n  <thead>\n    <tr style=\"text-align: right;\">\n      <th></th>\n      <th>NUMERO EXPEDIENTE</th>\n      <th>CODIGO DISTRITO</th>\n      <th>DISTRITO</th>\n      <th>CODIGO BARRIO</th>\n      <th>BARRIO</th>\n      <th>CODIGO CALLE</th>\n      <th>CALLE</th>\n      <th>NUMERO POSTAL</th>\n      <th>DIA SEMANA</th>\n      <th>DIA SEMANA ABREVIADO</th>\n      <th>TIPO DE DIA</th>\n      <th>ANO</th>\n      <th>MES (NUMERICO)</th>\n      <th>MES</th>\n      <th>DIA</th>\n      <th>HORA</th>\n      <th>TURNO</th>\n      <th>CAUSA</th>\n      <th>COORDENADA UTM X</th>\n      <th>COORDENADA UTM Y</th>\n    </tr>\n  </thead>\n  <tbody>\n    <tr>\n      <th>0</th>\n      <td>2012S004345</td>\n      <td>10</td>\n      <td>Sant Martí</td>\n      <td>64</td>\n      <td>el Camp de l'Arpa del Clot</td>\n      <td>161407</td>\n      <td>Indústria</td>\n      <td>0299 0301</td>\n      <td>Divendres</td>\n      <td>Dv</td>\n      <td>Laboral</td>\n      <td>2012</td>\n      <td>6</td>\n      <td>Juny</td>\n      <td>15</td>\n      <td>19</td>\n      <td>Tarda</td>\n      <td>No hi ha causa mediata</td>\n      <td>431773,98</td>\n      <td>4585456,71</td>\n    </tr>\n    <tr>\n      <th>1</th>\n      <td>2012S007349</td>\n      <td>10</td>\n      <td>Sant Martí</td>\n      <td>64</td>\n      <td>el Camp de l'Arpa del Clot</td>\n      <td>367402</td>\n      <td>Volart</td>\n      <td>0001 0001</td>\n      <td>Dissabte</td>\n      <td>Ds</td>\n      <td>Laboral</td>\n      <td>2012</td>\n      <td>10</td>\n      <td>Octubre</td>\n      <td>20</td>\n      <td>9</td>\n      <td>Matí</td>\n      <td>No hi ha causa mediata</td>\n      <td>431594,76</td>\n      <td>4585406,24</td>\n    </tr>\n    <tr>\n      <th>2</th>\n      <td>2012S004626</td>\n      <td>10</td>\n      <td>Sant Martí</td>\n      <td>64</td>\n      <td>el Camp de l'Arpa del Clot</td>\n      <td>161407</td>\n      <td>Indústria</td>\n      <td>0288 0288</td>\n      <td>Dimarts</td>\n      <td>Dm</td>\n      <td>Laboral</td>\n      <td>2012</td>\n      <td>6</td>\n      <td>Juny</td>\n      <td>26</td>\n      <td>11</td>\n      <td>Matí</td>\n      <td>No hi ha causa mediata</td>\n      <td>431650,48</td>\n      <td>4585306,47</td>\n    </tr>\n    <tr>\n      <th>3</th>\n      <td>2012S004837</td>\n      <td>10</td>\n      <td>Sant Martí</td>\n      <td>64</td>\n      <td>el Camp de l'Arpa del Clot</td>\n      <td>297001</td>\n      <td>Sant Antoni Maria Claret</td>\n      <td>0270 0270</td>\n      <td>Dimarts</td>\n      <td>Dm</td>\n      <td>Laboral</td>\n      <td>2012</td>\n      <td>7</td>\n      <td>Juliol</td>\n      <td>3</td>\n      <td>14</td>\n      <td>Tarda</td>\n      <td>No hi ha causa mediata</td>\n      <td>431274,19</td>\n      <td>4585103,11</td>\n    </tr>\n    <tr>\n      <th>4</th>\n      <td>2012S004873</td>\n      <td>10</td>\n      <td>Sant Martí</td>\n      <td>64</td>\n      <td>el Camp de l'Arpa del Clot</td>\n      <td>297001</td>\n      <td>Sant Antoni Maria Claret</td>\n      <td>0270 0270</td>\n      <td>Dimecres</td>\n      <td>Dc</td>\n      <td>Laboral</td>\n      <td>2012</td>\n      <td>7</td>\n      <td>Juliol</td>\n      <td>4</td>\n      <td>18</td>\n      <td>Tarda</td>\n      <td>No hi ha causa mediata</td>\n      <td>431274,19</td>\n      <td>4585103,11</td>\n    </tr>\n    <tr>\n      <th>...</th>\n      <td>...</td>\n      <td>...</td>\n      <td>...</td>\n      <td>...</td>\n      <td>...</td>\n      <td>...</td>\n      <td>...</td>\n      <td>...</td>\n      <td>...</td>\n      <td>...</td>\n      <td>...</td>\n      <td>...</td>\n      <td>...</td>\n      <td>...</td>\n      <td>...</td>\n      <td>...</td>\n      <td>...</td>\n      <td>...</td>\n      <td>...</td>\n      <td>...</td>\n    </tr>\n    <tr>\n      <th>85176</th>\n      <td>2020S006274</td>\n      <td>7</td>\n      <td>Horta-Guinardó</td>\n      <td>37</td>\n      <td>el Carmel</td>\n      <td>182600</td>\n      <td>Lluís Marià Vidal</td>\n      <td>0025 0025</td>\n      <td>Dijous</td>\n      <td>Dj</td>\n      <td>Laboral</td>\n      <td>2020</td>\n      <td>12</td>\n      <td>Desembre</td>\n      <td>31</td>\n      <td>17</td>\n      <td>Tarda</td>\n      <td>No hi ha causa mediata</td>\n      <td>429662.8</td>\n      <td>4586412.97</td>\n    </tr>\n    <tr>\n      <th>85177</th>\n      <td>2020S006275</td>\n      <td>2</td>\n      <td>Eixample</td>\n      <td>10</td>\n      <td>Sant Antoni</td>\n      <td>323203</td>\n      <td>Sepúlveda</td>\n      <td>0186 0186</td>\n      <td>Dijous</td>\n      <td>Dj</td>\n      <td>Laboral</td>\n      <td>2020</td>\n      <td>12</td>\n      <td>Desembre</td>\n      <td>31</td>\n      <td>20</td>\n      <td>Tarda</td>\n      <td>No hi ha causa mediata</td>\n      <td>430125.99</td>\n      <td>4581881.31</td>\n    </tr>\n    <tr>\n      <th>85178</th>\n      <td>2020S006276</td>\n      <td>1</td>\n      <td>Ciutat Vella</td>\n      <td>2</td>\n      <td>el Barri Gòtic</td>\n      <td>701266</td>\n      <td>Litoral (Llobregat)</td>\n      <td>1070000</td>\n      <td>Dijous</td>\n      <td>Dj</td>\n      <td>Laboral</td>\n      <td>2020</td>\n      <td>12</td>\n      <td>Desembre</td>\n      <td>31</td>\n      <td>13</td>\n      <td>Matí</td>\n      <td>No hi ha causa mediata</td>\n      <td>431410.4</td>\n      <td>4581077.37</td>\n    </tr>\n    <tr>\n      <th>85179</th>\n      <td>2020S006277</td>\n      <td>2</td>\n      <td>Eixample</td>\n      <td>9</td>\n      <td>la Nova Esquerra de l'Eixample</td>\n      <td>18505</td>\n      <td>Aragó</td>\n      <td>0127 0127</td>\n      <td>Dijous</td>\n      <td>Dj</td>\n      <td>Laboral</td>\n      <td>2020</td>\n      <td>12</td>\n      <td>Desembre</td>\n      <td>31</td>\n      <td>21</td>\n      <td>Tarda</td>\n      <td>No hi ha causa mediata</td>\n      <td>429362.84</td>\n      <td>4581954.15</td>\n    </tr>\n    <tr>\n      <th>85180</th>\n      <td>2020S006278</td>\n      <td>8</td>\n      <td>Nou Barris</td>\n      <td>44</td>\n      <td>Vilapicina i la Torre Llobeta</td>\n      <td>45701</td>\n      <td>Quinze</td>\n      <td>0007 0007</td>\n      <td>Dimarts</td>\n      <td>Dm</td>\n      <td>Laboral</td>\n      <td>2020</td>\n      <td>12</td>\n      <td>Desembre</td>\n      <td>22</td>\n      <td>11</td>\n      <td>Matí</td>\n      <td>No hi ha causa mediata</td>\n      <td>431221.22</td>\n      <td>4586654.09</td>\n    </tr>\n  </tbody>\n</table>\n<p>85181 rows × 20 columns</p>\n</div>"
     },
     "metadata": {},
     "execution_count": 27
    }
   ],
   "source": [
    "df_accidentes_causas"
   ]
  },
  {
   "source": [
    "### Ahora, nuestra variable ``df_accidentes_causas`` representa las causas de todos los accidentes registrados por la Guardia Urbana de la Ciudad de Barcelona, entre los años 2011 y 2020."
   ],
   "cell_type": "markdown",
   "metadata": {}
  }
 ]
}