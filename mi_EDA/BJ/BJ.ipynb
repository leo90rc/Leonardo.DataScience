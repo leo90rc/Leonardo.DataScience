{
 "metadata": {
  "language_info": {
   "codemirror_mode": {
    "name": "ipython",
    "version": 3
   },
   "file_extension": ".py",
   "mimetype": "text/x-python",
   "name": "python",
   "nbconvert_exporter": "python",
   "pygments_lexer": "ipython3",
   "version": "3.7.4"
  },
  "orig_nbformat": 2,
  "kernelspec": {
   "name": "python374jvsc74a57bd0a0947237fadc8b5561fed326db280cc5ec46a670c87cfb3a0489cf95ff262303",
   "display_name": "Python 3.7.4 64-bit"
  },
  "metadata": {
   "interpreter": {
    "hash": "a0947237fadc8b5561fed326db280cc5ec46a670c87cfb3a0489cf95ff262303"
   }
  }
 },
 "nbformat": 4,
 "nbformat_minor": 2,
 "cells": [
  {
   "cell_type": "code",
   "execution_count": 1,
   "metadata": {},
   "outputs": [],
   "source": [
    "import pandas as pd"
   ]
  },
  {
   "cell_type": "code",
   "execution_count": 3,
   "metadata": {},
   "outputs": [
    {
     "output_type": "execute_result",
     "data": {
      "text/plain": [
       "    Unnamed: 0 PlayerNo  card1  card2  card3  card4  card5  sumofcards  \\\n",
       "0            0  Player1      7     10      0      0      0          17   \n",
       "1            1  Player2     10      9      0      0      0          19   \n",
       "2            2  Player3      9      8      0      0      0          17   \n",
       "3            3  Player4      2     10      0      5      0          17   \n",
       "4            4  Player5     10      2      0      5      0          17   \n",
       "5            5  Player6      6      1      8     10      0          25   \n",
       "6            0  Player1     10      4      0      0      0          14   \n",
       "7            1  Player2      3     10      0      0      0          13   \n",
       "8            2  Player3     10      2      0      0      0          12   \n",
       "9            3  Player4      9      6      0      0      0          15   \n",
       "10           4  Player5     10      4      0      0      0          14   \n",
       "11           5  Player6      3      5      2      4      0          14   \n",
       "12           0  Player1     10      2      0      0      0          12   \n",
       "13           1  Player2      9     10      0      0      0          19   \n",
       "14           2  Player3      5      1     10      0      0          16   \n",
       "15           3  Player4     10     10      0      0      0          20   \n",
       "16           4  Player5      2      9      1      0      0          12   \n",
       "17           5  Player6      9      5      0      0      0          14   \n",
       "18           0  Player1     10      4      0      5      0          19   \n",
       "19           1  Player2      2     10      0      5      0          17   \n",
       "20           2  Player3      3     10      0     10      0          23   \n",
       "21           3  Player4     10     10      0      0      0          20   \n",
       "22           4  Player5     10     10      0      0      0          20   \n",
       "23           5  Player6      4      8      0     10      0          22   \n",
       "24           0  Player1      3     10      0      9      0          22   \n",
       "25           1  Player2      9      8      0      0      0          17   \n",
       "26           2  Player3     10     10      0      0      0          20   \n",
       "27           3  Player4      2      9      8      0      0          19   \n",
       "28           4  Player5      6     10      0     10      0          26   \n",
       "29           5  Player6      9      3      0      6      0          18   \n",
       "\n",
       "    dealcard1  dealcard2  ...  dealcard4  dealcard5  sumofdeal  blkjck  \\\n",
       "0          10          8  ...          0          0         18   nowin   \n",
       "1          10          8  ...          0          0         18   nowin   \n",
       "2          10          8  ...          0          0         18   nowin   \n",
       "3          10          8  ...          0          0         18   nowin   \n",
       "4          10          8  ...          0          0         18   nowin   \n",
       "5          10          8  ...          0          0         18   nowin   \n",
       "6           4          4  ...         10          0         23   nowin   \n",
       "7           4          4  ...         10          0         23   nowin   \n",
       "8           4          4  ...         10          0         23   nowin   \n",
       "9           4          4  ...         10          0         23   nowin   \n",
       "10          4          4  ...         10          0         23   nowin   \n",
       "11          4          4  ...         10          0         23   nowin   \n",
       "12          4          6  ...         10          0         26   nowin   \n",
       "13          4          6  ...         10          0         26   nowin   \n",
       "14          4          6  ...         10          0         26   nowin   \n",
       "15          4          6  ...         10          0         26   nowin   \n",
       "16          4          6  ...         10          0         26   nowin   \n",
       "17          4          6  ...         10          0         26   nowin   \n",
       "18         10          8  ...          0          0         18   nowin   \n",
       "19         10          8  ...          0          0         18   nowin   \n",
       "20         10          8  ...          0          0         18   nowin   \n",
       "21         10          8  ...          0          0         18   nowin   \n",
       "22         10          8  ...          0          0         18   nowin   \n",
       "23         10          8  ...          0          0         18   nowin   \n",
       "24          8          7  ...          0          0         19   nowin   \n",
       "25          8          7  ...          0          0         19   nowin   \n",
       "26          8          7  ...          0          0         19   nowin   \n",
       "27          8          7  ...          0          0         19   nowin   \n",
       "28          8          7  ...          0          0         19   nowin   \n",
       "29          8          7  ...          0          0         19   nowin   \n",
       "\n",
       "   winloss plybustbeat dlbustbeat plwinamt  dlwinamt  ply2cardsum  \n",
       "0     Loss        Beat      Dlwin        0        10           17  \n",
       "1      Win       Plwin       Beat       20         0           19  \n",
       "2     Loss        Beat      Dlwin        0        10           17  \n",
       "3     Loss        Beat      Dlwin        0        10           12  \n",
       "4     Loss        Beat      Dlwin        0        10           12  \n",
       "5     Loss        Bust     PlBust        0        10            7  \n",
       "6      Win      DlBust       Bust       20         0           14  \n",
       "7      Win      DlBust       Bust       20         0           13  \n",
       "8      Win      DlBust       Bust       20         0           12  \n",
       "9      Win      DlBust       Bust       20         0           15  \n",
       "10     Win      DlBust       Bust       20         0           14  \n",
       "11     Win      DlBust       Bust       20         0            8  \n",
       "12     Win      DlBust       Bust       20         0           12  \n",
       "13     Win      DlBust       Bust       20         0           19  \n",
       "14     Win      DlBust       Bust       20         0            6  \n",
       "15     Win      DlBust       Bust       20         0           20  \n",
       "16     Win      DlBust       Bust       20         0           11  \n",
       "17     Win      DlBust       Bust       20         0           14  \n",
       "18     Win       Plwin       Beat       20         0           14  \n",
       "19    Loss        Beat      Dlwin        0        10           12  \n",
       "20    Loss        Bust     PlBust        0        10           13  \n",
       "21     Win       Plwin       Beat       20         0           20  \n",
       "22     Win       Plwin       Beat       20         0           20  \n",
       "23    Loss        Bust     PlBust        0        10           12  \n",
       "24    Loss        Bust     PlBust        0        10           13  \n",
       "25    Loss        Beat      Dlwin        0        10           17  \n",
       "26     Win       Plwin       Beat       20         0           20  \n",
       "27    Push        Push       Push       10         0           11  \n",
       "28    Loss        Bust     PlBust        0        10           16  \n",
       "29    Loss        Beat      Dlwin        0        10           12  \n",
       "\n",
       "[30 rows x 21 columns]"
      ],
      "text/html": "<div>\n<style scoped>\n    .dataframe tbody tr th:only-of-type {\n        vertical-align: middle;\n    }\n\n    .dataframe tbody tr th {\n        vertical-align: top;\n    }\n\n    .dataframe thead th {\n        text-align: right;\n    }\n</style>\n<table border=\"1\" class=\"dataframe\">\n  <thead>\n    <tr style=\"text-align: right;\">\n      <th></th>\n      <th>Unnamed: 0</th>\n      <th>PlayerNo</th>\n      <th>card1</th>\n      <th>card2</th>\n      <th>card3</th>\n      <th>card4</th>\n      <th>card5</th>\n      <th>sumofcards</th>\n      <th>dealcard1</th>\n      <th>dealcard2</th>\n      <th>...</th>\n      <th>dealcard4</th>\n      <th>dealcard5</th>\n      <th>sumofdeal</th>\n      <th>blkjck</th>\n      <th>winloss</th>\n      <th>plybustbeat</th>\n      <th>dlbustbeat</th>\n      <th>plwinamt</th>\n      <th>dlwinamt</th>\n      <th>ply2cardsum</th>\n    </tr>\n  </thead>\n  <tbody>\n    <tr>\n      <th>0</th>\n      <td>0</td>\n      <td>Player1</td>\n      <td>7</td>\n      <td>10</td>\n      <td>0</td>\n      <td>0</td>\n      <td>0</td>\n      <td>17</td>\n      <td>10</td>\n      <td>8</td>\n      <td>...</td>\n      <td>0</td>\n      <td>0</td>\n      <td>18</td>\n      <td>nowin</td>\n      <td>Loss</td>\n      <td>Beat</td>\n      <td>Dlwin</td>\n      <td>0</td>\n      <td>10</td>\n      <td>17</td>\n    </tr>\n    <tr>\n      <th>1</th>\n      <td>1</td>\n      <td>Player2</td>\n      <td>10</td>\n      <td>9</td>\n      <td>0</td>\n      <td>0</td>\n      <td>0</td>\n      <td>19</td>\n      <td>10</td>\n      <td>8</td>\n      <td>...</td>\n      <td>0</td>\n      <td>0</td>\n      <td>18</td>\n      <td>nowin</td>\n      <td>Win</td>\n      <td>Plwin</td>\n      <td>Beat</td>\n      <td>20</td>\n      <td>0</td>\n      <td>19</td>\n    </tr>\n    <tr>\n      <th>2</th>\n      <td>2</td>\n      <td>Player3</td>\n      <td>9</td>\n      <td>8</td>\n      <td>0</td>\n      <td>0</td>\n      <td>0</td>\n      <td>17</td>\n      <td>10</td>\n      <td>8</td>\n      <td>...</td>\n      <td>0</td>\n      <td>0</td>\n      <td>18</td>\n      <td>nowin</td>\n      <td>Loss</td>\n      <td>Beat</td>\n      <td>Dlwin</td>\n      <td>0</td>\n      <td>10</td>\n      <td>17</td>\n    </tr>\n    <tr>\n      <th>3</th>\n      <td>3</td>\n      <td>Player4</td>\n      <td>2</td>\n      <td>10</td>\n      <td>0</td>\n      <td>5</td>\n      <td>0</td>\n      <td>17</td>\n      <td>10</td>\n      <td>8</td>\n      <td>...</td>\n      <td>0</td>\n      <td>0</td>\n      <td>18</td>\n      <td>nowin</td>\n      <td>Loss</td>\n      <td>Beat</td>\n      <td>Dlwin</td>\n      <td>0</td>\n      <td>10</td>\n      <td>12</td>\n    </tr>\n    <tr>\n      <th>4</th>\n      <td>4</td>\n      <td>Player5</td>\n      <td>10</td>\n      <td>2</td>\n      <td>0</td>\n      <td>5</td>\n      <td>0</td>\n      <td>17</td>\n      <td>10</td>\n      <td>8</td>\n      <td>...</td>\n      <td>0</td>\n      <td>0</td>\n      <td>18</td>\n      <td>nowin</td>\n      <td>Loss</td>\n      <td>Beat</td>\n      <td>Dlwin</td>\n      <td>0</td>\n      <td>10</td>\n      <td>12</td>\n    </tr>\n    <tr>\n      <th>5</th>\n      <td>5</td>\n      <td>Player6</td>\n      <td>6</td>\n      <td>1</td>\n      <td>8</td>\n      <td>10</td>\n      <td>0</td>\n      <td>25</td>\n      <td>10</td>\n      <td>8</td>\n      <td>...</td>\n      <td>0</td>\n      <td>0</td>\n      <td>18</td>\n      <td>nowin</td>\n      <td>Loss</td>\n      <td>Bust</td>\n      <td>PlBust</td>\n      <td>0</td>\n      <td>10</td>\n      <td>7</td>\n    </tr>\n    <tr>\n      <th>6</th>\n      <td>0</td>\n      <td>Player1</td>\n      <td>10</td>\n      <td>4</td>\n      <td>0</td>\n      <td>0</td>\n      <td>0</td>\n      <td>14</td>\n      <td>4</td>\n      <td>4</td>\n      <td>...</td>\n      <td>10</td>\n      <td>0</td>\n      <td>23</td>\n      <td>nowin</td>\n      <td>Win</td>\n      <td>DlBust</td>\n      <td>Bust</td>\n      <td>20</td>\n      <td>0</td>\n      <td>14</td>\n    </tr>\n    <tr>\n      <th>7</th>\n      <td>1</td>\n      <td>Player2</td>\n      <td>3</td>\n      <td>10</td>\n      <td>0</td>\n      <td>0</td>\n      <td>0</td>\n      <td>13</td>\n      <td>4</td>\n      <td>4</td>\n      <td>...</td>\n      <td>10</td>\n      <td>0</td>\n      <td>23</td>\n      <td>nowin</td>\n      <td>Win</td>\n      <td>DlBust</td>\n      <td>Bust</td>\n      <td>20</td>\n      <td>0</td>\n      <td>13</td>\n    </tr>\n    <tr>\n      <th>8</th>\n      <td>2</td>\n      <td>Player3</td>\n      <td>10</td>\n      <td>2</td>\n      <td>0</td>\n      <td>0</td>\n      <td>0</td>\n      <td>12</td>\n      <td>4</td>\n      <td>4</td>\n      <td>...</td>\n      <td>10</td>\n      <td>0</td>\n      <td>23</td>\n      <td>nowin</td>\n      <td>Win</td>\n      <td>DlBust</td>\n      <td>Bust</td>\n      <td>20</td>\n      <td>0</td>\n      <td>12</td>\n    </tr>\n    <tr>\n      <th>9</th>\n      <td>3</td>\n      <td>Player4</td>\n      <td>9</td>\n      <td>6</td>\n      <td>0</td>\n      <td>0</td>\n      <td>0</td>\n      <td>15</td>\n      <td>4</td>\n      <td>4</td>\n      <td>...</td>\n      <td>10</td>\n      <td>0</td>\n      <td>23</td>\n      <td>nowin</td>\n      <td>Win</td>\n      <td>DlBust</td>\n      <td>Bust</td>\n      <td>20</td>\n      <td>0</td>\n      <td>15</td>\n    </tr>\n    <tr>\n      <th>10</th>\n      <td>4</td>\n      <td>Player5</td>\n      <td>10</td>\n      <td>4</td>\n      <td>0</td>\n      <td>0</td>\n      <td>0</td>\n      <td>14</td>\n      <td>4</td>\n      <td>4</td>\n      <td>...</td>\n      <td>10</td>\n      <td>0</td>\n      <td>23</td>\n      <td>nowin</td>\n      <td>Win</td>\n      <td>DlBust</td>\n      <td>Bust</td>\n      <td>20</td>\n      <td>0</td>\n      <td>14</td>\n    </tr>\n    <tr>\n      <th>11</th>\n      <td>5</td>\n      <td>Player6</td>\n      <td>3</td>\n      <td>5</td>\n      <td>2</td>\n      <td>4</td>\n      <td>0</td>\n      <td>14</td>\n      <td>4</td>\n      <td>4</td>\n      <td>...</td>\n      <td>10</td>\n      <td>0</td>\n      <td>23</td>\n      <td>nowin</td>\n      <td>Win</td>\n      <td>DlBust</td>\n      <td>Bust</td>\n      <td>20</td>\n      <td>0</td>\n      <td>8</td>\n    </tr>\n    <tr>\n      <th>12</th>\n      <td>0</td>\n      <td>Player1</td>\n      <td>10</td>\n      <td>2</td>\n      <td>0</td>\n      <td>0</td>\n      <td>0</td>\n      <td>12</td>\n      <td>4</td>\n      <td>6</td>\n      <td>...</td>\n      <td>10</td>\n      <td>0</td>\n      <td>26</td>\n      <td>nowin</td>\n      <td>Win</td>\n      <td>DlBust</td>\n      <td>Bust</td>\n      <td>20</td>\n      <td>0</td>\n      <td>12</td>\n    </tr>\n    <tr>\n      <th>13</th>\n      <td>1</td>\n      <td>Player2</td>\n      <td>9</td>\n      <td>10</td>\n      <td>0</td>\n      <td>0</td>\n      <td>0</td>\n      <td>19</td>\n      <td>4</td>\n      <td>6</td>\n      <td>...</td>\n      <td>10</td>\n      <td>0</td>\n      <td>26</td>\n      <td>nowin</td>\n      <td>Win</td>\n      <td>DlBust</td>\n      <td>Bust</td>\n      <td>20</td>\n      <td>0</td>\n      <td>19</td>\n    </tr>\n    <tr>\n      <th>14</th>\n      <td>2</td>\n      <td>Player3</td>\n      <td>5</td>\n      <td>1</td>\n      <td>10</td>\n      <td>0</td>\n      <td>0</td>\n      <td>16</td>\n      <td>4</td>\n      <td>6</td>\n      <td>...</td>\n      <td>10</td>\n      <td>0</td>\n      <td>26</td>\n      <td>nowin</td>\n      <td>Win</td>\n      <td>DlBust</td>\n      <td>Bust</td>\n      <td>20</td>\n      <td>0</td>\n      <td>6</td>\n    </tr>\n    <tr>\n      <th>15</th>\n      <td>3</td>\n      <td>Player4</td>\n      <td>10</td>\n      <td>10</td>\n      <td>0</td>\n      <td>0</td>\n      <td>0</td>\n      <td>20</td>\n      <td>4</td>\n      <td>6</td>\n      <td>...</td>\n      <td>10</td>\n      <td>0</td>\n      <td>26</td>\n      <td>nowin</td>\n      <td>Win</td>\n      <td>DlBust</td>\n      <td>Bust</td>\n      <td>20</td>\n      <td>0</td>\n      <td>20</td>\n    </tr>\n    <tr>\n      <th>16</th>\n      <td>4</td>\n      <td>Player5</td>\n      <td>2</td>\n      <td>9</td>\n      <td>1</td>\n      <td>0</td>\n      <td>0</td>\n      <td>12</td>\n      <td>4</td>\n      <td>6</td>\n      <td>...</td>\n      <td>10</td>\n      <td>0</td>\n      <td>26</td>\n      <td>nowin</td>\n      <td>Win</td>\n      <td>DlBust</td>\n      <td>Bust</td>\n      <td>20</td>\n      <td>0</td>\n      <td>11</td>\n    </tr>\n    <tr>\n      <th>17</th>\n      <td>5</td>\n      <td>Player6</td>\n      <td>9</td>\n      <td>5</td>\n      <td>0</td>\n      <td>0</td>\n      <td>0</td>\n      <td>14</td>\n      <td>4</td>\n      <td>6</td>\n      <td>...</td>\n      <td>10</td>\n      <td>0</td>\n      <td>26</td>\n      <td>nowin</td>\n      <td>Win</td>\n      <td>DlBust</td>\n      <td>Bust</td>\n      <td>20</td>\n      <td>0</td>\n      <td>14</td>\n    </tr>\n    <tr>\n      <th>18</th>\n      <td>0</td>\n      <td>Player1</td>\n      <td>10</td>\n      <td>4</td>\n      <td>0</td>\n      <td>5</td>\n      <td>0</td>\n      <td>19</td>\n      <td>10</td>\n      <td>8</td>\n      <td>...</td>\n      <td>0</td>\n      <td>0</td>\n      <td>18</td>\n      <td>nowin</td>\n      <td>Win</td>\n      <td>Plwin</td>\n      <td>Beat</td>\n      <td>20</td>\n      <td>0</td>\n      <td>14</td>\n    </tr>\n    <tr>\n      <th>19</th>\n      <td>1</td>\n      <td>Player2</td>\n      <td>2</td>\n      <td>10</td>\n      <td>0</td>\n      <td>5</td>\n      <td>0</td>\n      <td>17</td>\n      <td>10</td>\n      <td>8</td>\n      <td>...</td>\n      <td>0</td>\n      <td>0</td>\n      <td>18</td>\n      <td>nowin</td>\n      <td>Loss</td>\n      <td>Beat</td>\n      <td>Dlwin</td>\n      <td>0</td>\n      <td>10</td>\n      <td>12</td>\n    </tr>\n    <tr>\n      <th>20</th>\n      <td>2</td>\n      <td>Player3</td>\n      <td>3</td>\n      <td>10</td>\n      <td>0</td>\n      <td>10</td>\n      <td>0</td>\n      <td>23</td>\n      <td>10</td>\n      <td>8</td>\n      <td>...</td>\n      <td>0</td>\n      <td>0</td>\n      <td>18</td>\n      <td>nowin</td>\n      <td>Loss</td>\n      <td>Bust</td>\n      <td>PlBust</td>\n      <td>0</td>\n      <td>10</td>\n      <td>13</td>\n    </tr>\n    <tr>\n      <th>21</th>\n      <td>3</td>\n      <td>Player4</td>\n      <td>10</td>\n      <td>10</td>\n      <td>0</td>\n      <td>0</td>\n      <td>0</td>\n      <td>20</td>\n      <td>10</td>\n      <td>8</td>\n      <td>...</td>\n      <td>0</td>\n      <td>0</td>\n      <td>18</td>\n      <td>nowin</td>\n      <td>Win</td>\n      <td>Plwin</td>\n      <td>Beat</td>\n      <td>20</td>\n      <td>0</td>\n      <td>20</td>\n    </tr>\n    <tr>\n      <th>22</th>\n      <td>4</td>\n      <td>Player5</td>\n      <td>10</td>\n      <td>10</td>\n      <td>0</td>\n      <td>0</td>\n      <td>0</td>\n      <td>20</td>\n      <td>10</td>\n      <td>8</td>\n      <td>...</td>\n      <td>0</td>\n      <td>0</td>\n      <td>18</td>\n      <td>nowin</td>\n      <td>Win</td>\n      <td>Plwin</td>\n      <td>Beat</td>\n      <td>20</td>\n      <td>0</td>\n      <td>20</td>\n    </tr>\n    <tr>\n      <th>23</th>\n      <td>5</td>\n      <td>Player6</td>\n      <td>4</td>\n      <td>8</td>\n      <td>0</td>\n      <td>10</td>\n      <td>0</td>\n      <td>22</td>\n      <td>10</td>\n      <td>8</td>\n      <td>...</td>\n      <td>0</td>\n      <td>0</td>\n      <td>18</td>\n      <td>nowin</td>\n      <td>Loss</td>\n      <td>Bust</td>\n      <td>PlBust</td>\n      <td>0</td>\n      <td>10</td>\n      <td>12</td>\n    </tr>\n    <tr>\n      <th>24</th>\n      <td>0</td>\n      <td>Player1</td>\n      <td>3</td>\n      <td>10</td>\n      <td>0</td>\n      <td>9</td>\n      <td>0</td>\n      <td>22</td>\n      <td>8</td>\n      <td>7</td>\n      <td>...</td>\n      <td>0</td>\n      <td>0</td>\n      <td>19</td>\n      <td>nowin</td>\n      <td>Loss</td>\n      <td>Bust</td>\n      <td>PlBust</td>\n      <td>0</td>\n      <td>10</td>\n      <td>13</td>\n    </tr>\n    <tr>\n      <th>25</th>\n      <td>1</td>\n      <td>Player2</td>\n      <td>9</td>\n      <td>8</td>\n      <td>0</td>\n      <td>0</td>\n      <td>0</td>\n      <td>17</td>\n      <td>8</td>\n      <td>7</td>\n      <td>...</td>\n      <td>0</td>\n      <td>0</td>\n      <td>19</td>\n      <td>nowin</td>\n      <td>Loss</td>\n      <td>Beat</td>\n      <td>Dlwin</td>\n      <td>0</td>\n      <td>10</td>\n      <td>17</td>\n    </tr>\n    <tr>\n      <th>26</th>\n      <td>2</td>\n      <td>Player3</td>\n      <td>10</td>\n      <td>10</td>\n      <td>0</td>\n      <td>0</td>\n      <td>0</td>\n      <td>20</td>\n      <td>8</td>\n      <td>7</td>\n      <td>...</td>\n      <td>0</td>\n      <td>0</td>\n      <td>19</td>\n      <td>nowin</td>\n      <td>Win</td>\n      <td>Plwin</td>\n      <td>Beat</td>\n      <td>20</td>\n      <td>0</td>\n      <td>20</td>\n    </tr>\n    <tr>\n      <th>27</th>\n      <td>3</td>\n      <td>Player4</td>\n      <td>2</td>\n      <td>9</td>\n      <td>8</td>\n      <td>0</td>\n      <td>0</td>\n      <td>19</td>\n      <td>8</td>\n      <td>7</td>\n      <td>...</td>\n      <td>0</td>\n      <td>0</td>\n      <td>19</td>\n      <td>nowin</td>\n      <td>Push</td>\n      <td>Push</td>\n      <td>Push</td>\n      <td>10</td>\n      <td>0</td>\n      <td>11</td>\n    </tr>\n    <tr>\n      <th>28</th>\n      <td>4</td>\n      <td>Player5</td>\n      <td>6</td>\n      <td>10</td>\n      <td>0</td>\n      <td>10</td>\n      <td>0</td>\n      <td>26</td>\n      <td>8</td>\n      <td>7</td>\n      <td>...</td>\n      <td>0</td>\n      <td>0</td>\n      <td>19</td>\n      <td>nowin</td>\n      <td>Loss</td>\n      <td>Bust</td>\n      <td>PlBust</td>\n      <td>0</td>\n      <td>10</td>\n      <td>16</td>\n    </tr>\n    <tr>\n      <th>29</th>\n      <td>5</td>\n      <td>Player6</td>\n      <td>9</td>\n      <td>3</td>\n      <td>0</td>\n      <td>6</td>\n      <td>0</td>\n      <td>18</td>\n      <td>8</td>\n      <td>7</td>\n      <td>...</td>\n      <td>0</td>\n      <td>0</td>\n      <td>19</td>\n      <td>nowin</td>\n      <td>Loss</td>\n      <td>Beat</td>\n      <td>Dlwin</td>\n      <td>0</td>\n      <td>10</td>\n      <td>12</td>\n    </tr>\n  </tbody>\n</table>\n<p>30 rows × 21 columns</p>\n</div>"
     },
     "metadata": {},
     "execution_count": 3
    }
   ],
   "source": [
    "bj = pd.read_csv('blkjckhands.csv')\n",
    "bj.head(30)"
   ]
  },
  {
   "cell_type": "code",
   "execution_count": 4,
   "metadata": {},
   "outputs": [
    {
     "output_type": "execute_result",
     "data": {
      "text/plain": [
       "        Unnamed: 0 PlayerNo  card1  card2  card3  card4  card5  sumofcards  \\\n",
       "0                0  Player1      7     10      0      0      0          17   \n",
       "1                1  Player2     10      9      0      0      0          19   \n",
       "2                2  Player3      9      8      0      0      0          17   \n",
       "3                3  Player4      2     10      0      5      0          17   \n",
       "4                4  Player5     10      2      0      5      0          17   \n",
       "...            ...      ...    ...    ...    ...    ...    ...         ...   \n",
       "899995           1  Player2     10      7      0      0      0          17   \n",
       "899996           2  Player3      6      1     10      0      0          17   \n",
       "899997           3  Player4      4      2      9      0      0          15   \n",
       "899998           4  Player5      9     10      0      0      0          19   \n",
       "899999           5  Player6      5     10      0      0      0          15   \n",
       "\n",
       "        dealcard1  dealcard2  ...  dealcard4  dealcard5  sumofdeal  blkjck  \\\n",
       "0              10          8  ...          0          0         18   nowin   \n",
       "1              10          8  ...          0          0         18   nowin   \n",
       "2              10          8  ...          0          0         18   nowin   \n",
       "3              10          8  ...          0          0         18   nowin   \n",
       "4              10          8  ...          0          0         18   nowin   \n",
       "...           ...        ...  ...        ...        ...        ...     ...   \n",
       "899995          3          9  ...          2          0         18   nowin   \n",
       "899996          3          9  ...          2          0         18   nowin   \n",
       "899997          3          9  ...          2          0         18   nowin   \n",
       "899998          3          9  ...          2          0         18   nowin   \n",
       "899999          3          9  ...          2          0         18   nowin   \n",
       "\n",
       "       winloss plybustbeat dlbustbeat plwinamt  dlwinamt  ply2cardsum  \n",
       "0         Loss        Beat      Dlwin        0        10           17  \n",
       "1          Win       Plwin       Beat       20         0           19  \n",
       "2         Loss        Beat      Dlwin        0        10           17  \n",
       "3         Loss        Beat      Dlwin        0        10           12  \n",
       "4         Loss        Beat      Dlwin        0        10           12  \n",
       "...        ...         ...        ...      ...       ...          ...  \n",
       "899995    Loss        Beat      Dlwin        0        10           17  \n",
       "899996    Loss        Beat      Dlwin        0        10            7  \n",
       "899997    Loss        Beat      Dlwin        0        10            6  \n",
       "899998     Win       Plwin       Beat       20         0           19  \n",
       "899999    Loss        Beat      Dlwin        0        10           15  \n",
       "\n",
       "[900000 rows x 21 columns]"
      ],
      "text/html": "<div>\n<style scoped>\n    .dataframe tbody tr th:only-of-type {\n        vertical-align: middle;\n    }\n\n    .dataframe tbody tr th {\n        vertical-align: top;\n    }\n\n    .dataframe thead th {\n        text-align: right;\n    }\n</style>\n<table border=\"1\" class=\"dataframe\">\n  <thead>\n    <tr style=\"text-align: right;\">\n      <th></th>\n      <th>Unnamed: 0</th>\n      <th>PlayerNo</th>\n      <th>card1</th>\n      <th>card2</th>\n      <th>card3</th>\n      <th>card4</th>\n      <th>card5</th>\n      <th>sumofcards</th>\n      <th>dealcard1</th>\n      <th>dealcard2</th>\n      <th>...</th>\n      <th>dealcard4</th>\n      <th>dealcard5</th>\n      <th>sumofdeal</th>\n      <th>blkjck</th>\n      <th>winloss</th>\n      <th>plybustbeat</th>\n      <th>dlbustbeat</th>\n      <th>plwinamt</th>\n      <th>dlwinamt</th>\n      <th>ply2cardsum</th>\n    </tr>\n  </thead>\n  <tbody>\n    <tr>\n      <th>0</th>\n      <td>0</td>\n      <td>Player1</td>\n      <td>7</td>\n      <td>10</td>\n      <td>0</td>\n      <td>0</td>\n      <td>0</td>\n      <td>17</td>\n      <td>10</td>\n      <td>8</td>\n      <td>...</td>\n      <td>0</td>\n      <td>0</td>\n      <td>18</td>\n      <td>nowin</td>\n      <td>Loss</td>\n      <td>Beat</td>\n      <td>Dlwin</td>\n      <td>0</td>\n      <td>10</td>\n      <td>17</td>\n    </tr>\n    <tr>\n      <th>1</th>\n      <td>1</td>\n      <td>Player2</td>\n      <td>10</td>\n      <td>9</td>\n      <td>0</td>\n      <td>0</td>\n      <td>0</td>\n      <td>19</td>\n      <td>10</td>\n      <td>8</td>\n      <td>...</td>\n      <td>0</td>\n      <td>0</td>\n      <td>18</td>\n      <td>nowin</td>\n      <td>Win</td>\n      <td>Plwin</td>\n      <td>Beat</td>\n      <td>20</td>\n      <td>0</td>\n      <td>19</td>\n    </tr>\n    <tr>\n      <th>2</th>\n      <td>2</td>\n      <td>Player3</td>\n      <td>9</td>\n      <td>8</td>\n      <td>0</td>\n      <td>0</td>\n      <td>0</td>\n      <td>17</td>\n      <td>10</td>\n      <td>8</td>\n      <td>...</td>\n      <td>0</td>\n      <td>0</td>\n      <td>18</td>\n      <td>nowin</td>\n      <td>Loss</td>\n      <td>Beat</td>\n      <td>Dlwin</td>\n      <td>0</td>\n      <td>10</td>\n      <td>17</td>\n    </tr>\n    <tr>\n      <th>3</th>\n      <td>3</td>\n      <td>Player4</td>\n      <td>2</td>\n      <td>10</td>\n      <td>0</td>\n      <td>5</td>\n      <td>0</td>\n      <td>17</td>\n      <td>10</td>\n      <td>8</td>\n      <td>...</td>\n      <td>0</td>\n      <td>0</td>\n      <td>18</td>\n      <td>nowin</td>\n      <td>Loss</td>\n      <td>Beat</td>\n      <td>Dlwin</td>\n      <td>0</td>\n      <td>10</td>\n      <td>12</td>\n    </tr>\n    <tr>\n      <th>4</th>\n      <td>4</td>\n      <td>Player5</td>\n      <td>10</td>\n      <td>2</td>\n      <td>0</td>\n      <td>5</td>\n      <td>0</td>\n      <td>17</td>\n      <td>10</td>\n      <td>8</td>\n      <td>...</td>\n      <td>0</td>\n      <td>0</td>\n      <td>18</td>\n      <td>nowin</td>\n      <td>Loss</td>\n      <td>Beat</td>\n      <td>Dlwin</td>\n      <td>0</td>\n      <td>10</td>\n      <td>12</td>\n    </tr>\n    <tr>\n      <th>...</th>\n      <td>...</td>\n      <td>...</td>\n      <td>...</td>\n      <td>...</td>\n      <td>...</td>\n      <td>...</td>\n      <td>...</td>\n      <td>...</td>\n      <td>...</td>\n      <td>...</td>\n      <td>...</td>\n      <td>...</td>\n      <td>...</td>\n      <td>...</td>\n      <td>...</td>\n      <td>...</td>\n      <td>...</td>\n      <td>...</td>\n      <td>...</td>\n      <td>...</td>\n      <td>...</td>\n    </tr>\n    <tr>\n      <th>899995</th>\n      <td>1</td>\n      <td>Player2</td>\n      <td>10</td>\n      <td>7</td>\n      <td>0</td>\n      <td>0</td>\n      <td>0</td>\n      <td>17</td>\n      <td>3</td>\n      <td>9</td>\n      <td>...</td>\n      <td>2</td>\n      <td>0</td>\n      <td>18</td>\n      <td>nowin</td>\n      <td>Loss</td>\n      <td>Beat</td>\n      <td>Dlwin</td>\n      <td>0</td>\n      <td>10</td>\n      <td>17</td>\n    </tr>\n    <tr>\n      <th>899996</th>\n      <td>2</td>\n      <td>Player3</td>\n      <td>6</td>\n      <td>1</td>\n      <td>10</td>\n      <td>0</td>\n      <td>0</td>\n      <td>17</td>\n      <td>3</td>\n      <td>9</td>\n      <td>...</td>\n      <td>2</td>\n      <td>0</td>\n      <td>18</td>\n      <td>nowin</td>\n      <td>Loss</td>\n      <td>Beat</td>\n      <td>Dlwin</td>\n      <td>0</td>\n      <td>10</td>\n      <td>7</td>\n    </tr>\n    <tr>\n      <th>899997</th>\n      <td>3</td>\n      <td>Player4</td>\n      <td>4</td>\n      <td>2</td>\n      <td>9</td>\n      <td>0</td>\n      <td>0</td>\n      <td>15</td>\n      <td>3</td>\n      <td>9</td>\n      <td>...</td>\n      <td>2</td>\n      <td>0</td>\n      <td>18</td>\n      <td>nowin</td>\n      <td>Loss</td>\n      <td>Beat</td>\n      <td>Dlwin</td>\n      <td>0</td>\n      <td>10</td>\n      <td>6</td>\n    </tr>\n    <tr>\n      <th>899998</th>\n      <td>4</td>\n      <td>Player5</td>\n      <td>9</td>\n      <td>10</td>\n      <td>0</td>\n      <td>0</td>\n      <td>0</td>\n      <td>19</td>\n      <td>3</td>\n      <td>9</td>\n      <td>...</td>\n      <td>2</td>\n      <td>0</td>\n      <td>18</td>\n      <td>nowin</td>\n      <td>Win</td>\n      <td>Plwin</td>\n      <td>Beat</td>\n      <td>20</td>\n      <td>0</td>\n      <td>19</td>\n    </tr>\n    <tr>\n      <th>899999</th>\n      <td>5</td>\n      <td>Player6</td>\n      <td>5</td>\n      <td>10</td>\n      <td>0</td>\n      <td>0</td>\n      <td>0</td>\n      <td>15</td>\n      <td>3</td>\n      <td>9</td>\n      <td>...</td>\n      <td>2</td>\n      <td>0</td>\n      <td>18</td>\n      <td>nowin</td>\n      <td>Loss</td>\n      <td>Beat</td>\n      <td>Dlwin</td>\n      <td>0</td>\n      <td>10</td>\n      <td>15</td>\n    </tr>\n  </tbody>\n</table>\n<p>900000 rows × 21 columns</p>\n</div>"
     },
     "metadata": {},
     "execution_count": 4
    }
   ],
   "source": [
    "bj"
   ]
  },
  {
   "cell_type": "code",
   "execution_count": null,
   "metadata": {},
   "outputs": [],
   "source": []
  }
 ]
}