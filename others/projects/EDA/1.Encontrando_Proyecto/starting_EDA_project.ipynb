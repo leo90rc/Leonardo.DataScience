{
 "cells": [
  {
   "source": [
    "![../img/proyecto_eda.png](../img/proyecto_eda.png)"
   ],
   "cell_type": "markdown",
   "metadata": {}
  },
  {
   "cell_type": "markdown",
   "metadata": {},
   "source": [
    "# Primera entrega EDA: Definición del proyecto"
   ]
  },
  {
   "cell_type": "markdown",
   "metadata": {},
   "source": [
    "En este primer entregable se espera  hagas la búsqueda de datos e investigación suficiente como para definir lo que serán los primeros pasos de tu proyecto EDA y los datos que usarás incluyendo al menos un dataset principal (aunque también podrás incluir fuentes de datos alternativas).\n",
    "\n",
    "Tienes hasta el día _20/05/2021 a las 09:00_ para entregar este archivo completado. Posteriormente se os introducirá el proyecto y darán los detalles pertinentes."
   ]
  },
  {
   "source": [
    "### Tema"
   ],
   "cell_type": "markdown",
   "metadata": {}
  },
  {
   "source": [
    "## Accidentes de tráfico en la ciudad de Barcelona\n"
   ],
   "cell_type": "markdown",
   "metadata": {}
  },
  {
   "source": [
    "### Título de proyecto"
   ],
   "cell_type": "markdown",
   "metadata": {}
  },
  {
   "source": [
    "## Conducción temeraria"
   ],
   "cell_type": "markdown",
   "metadata": {}
  },
  {
   "cell_type": "markdown",
   "metadata": {},
   "source": [
    "### Hipótesis\n",
    "Define aquí la que será la hipótesis de tu proyecto.\n",
    "Puede que tengas más de una, pero tu proyecto lo harás teniendo una principal hipótesis."
   ]
  },
  {
   "source": [
    "## La conducción temeraria de los masculinos menores de 35 años es uno de los principales causales de accidentes de tráfico."
   ],
   "cell_type": "markdown",
   "metadata": {}
  },
  {
   "cell_type": "markdown",
   "metadata": {},
   "source": [
    "### Datasets\n",
    "Incluye aquí una breve descripción del dataset o datasets de los que partirás para poder evaluar tu hipótesis. También incluye el origen de estos datos y el formato en el que están."
   ]
  },
  {
   "source": [
    "### A fines de lograr evaluar la certeza de la hipótesis, se han recopilado datasets obtenidos de [**Open Data BCN**](https://opendata-ajuntament.barcelona.cat/data/ca/dataset?q=accidentes&sort=fecha_publicacion+desc). Los mismos brindan información desde los años 2010 hasta 2020, relacionados con accidentes de tráfico gestionados por la Guardia Urbana de la ciudad de Barcelona, clasificándose por causas, tipos, personas y vehículos involucrados.\n",
    "\n",
    "### El formato en el que se han recopilado estos datos es del tipo ``CSV``. Cabe destacar que algunos de los datasets de mayor antigüedad también cuentan con su versión en formato ``.xlsx`` o bien ``.xml``"
   ],
   "cell_type": "markdown",
   "metadata": {}
  },
  {
   "cell_type": "markdown",
   "metadata": {},
   "source": [
    "### Fuentes alternativas de datos\n",
    "Como podrán ser webs a las que hacer web scraping o APIs de donde obtener información."
   ]
  },
  {
   "source": [
    "### Ante la posibilidad de expandir los horizontes del proyecto evaluando los datos meteorológicos bajo los cuales sucedieron los accidentes, no se descarta la posibilidad de utilizar API's para obtener la información requerida. Entre ellas: [MeteoMatics](http://www.meteomatics.com/)  -  [Aemet](http://www.aemet.es/es/portada)  -  [IQAir](https://www.iqair.com/)"
   ],
   "cell_type": "markdown",
   "metadata": {}
  },
  {
   "cell_type": "markdown",
   "metadata": {},
   "source": [
    "**¿De dónde saco los datos?** Posibles fuentes:\n",
    "\n",
    "- De los enlaces que están en el canal *links_of_interests* de Discord\n",
    "- https://www.kaggle.com/datasets\n",
    "- [API de Idealista](https://www.idealista.com/labs/)\n",
    "- [API de Booking](https://developers.booking.com/api/index.html)\n",
    "- [API de Tripadvisor](http://developer-tripadvisor.com/content-api/)\n",
    "- [API de Facebook](https://developers.facebook.com/docs/apis-and-sdks?locale=es_ES)\n",
    "- [API de Twitter](https://developer.twitter.com/en/docs)\n",
    "- [API de Instagram](https://www.instagram.com/developer/)\n",
    "- [APIs de Google Maps](https://cloud.google.com/maps-platform?hl=es)\n",
    "- [Google Timeline](https://www.google.es/maps/timeline?pb). Todo tu registro de actividad de Google, como los lugares que has visitado\n",
    "- [Alexa. Tráfico de webs](https://www.alexa.com/siteinfo)\n",
    "- [Catastro](https://ovc.catastro.meh.es/ovcservweb/OVCSWLocalizacionRC/OVCCoordenadas.asmx)\n",
    "- [Airbnb](http://insideairbnb.com/index.html)\n",
    "- Web scrapping. Acceso automatizado a cualquier web.\n",
    "- Kaggle: página con competiciones de data scientists. Muchísimos datasets.\n",
    "- QPython 3L: APP para ejecutar código Python en el movil. Podrás sacar datos de tu actividad con el teléfono (horarios, geoposicionamiento)\n",
    "- Coronavirus. Se están empezando a librerar muchísimos datasets con datos del coronavirus en todo el mundo. En Kaggle hay varios.\n",
    "- [Web de datos abiertos del gobierno](https://datos.gob.es/)\n",
    "- [OpenStreetMap](https://wiki.openstreetmap.org/wiki/API). Datos de ubicaciones (como Google Maps) abiertos\n",
    "- [Obtención de datos bursátiles](https://financetrain.com/best-python-librariespackages-finance-financial-data-scientists/)\n",
    "- [ESRI Datos abiertos España](https://opendata.esri.es/)\n",
    "- [INE](https://www.ine.es/nomen2/ficheros.do)\n",
    "- [Red.es](https://www.red.es/redes/es/que-hacemos/datos-abiertos)\n",
    "- [Datos abiertos gobierno](https://www.hacienda.gob.es/es-ES/GobiernoAbierto/Datos%20Abiertos/Paginas/Catalogodedatosabiertos.aspx)\n",
    "- [Ayuntamiento de Madrid](https://datos.madrid.es/portal/site/egob/)\n",
    "- [Ayuntamiento de Barcelona](https://opendata-ajuntament.barcelona.cat/es)\n",
    "- [Metro de Madrid](https://data-crtm.opendata.arcgis.com/)\n",
    "- [Portal datos europeo I](https://data.europa.eu/euodp/es/home)\n",
    "- [Portal datos europeo II](https://www.europeandataportal.eu/data/datasets?locale=en&minScoring=0)\n",
    "- [Google Dataset Search](https://datasetsearch.research.google.com/)\n",
    "- [Indicadores macro mundiales](https://databank.worldbank.org/home)\n",
    "- [Indicadores macro mundiales 2](https://ilostat.ilo.org/data/country-profiles/)"
   ]
  }
 ],
 "metadata": {
  "kernelspec": {
   "name": "python374jvsc74a57bd0a0947237fadc8b5561fed326db280cc5ec46a670c87cfb3a0489cf95ff262303",
   "display_name": "Python 3.7.4 64-bit"
  },
  "language_info": {
   "codemirror_mode": {
    "name": "ipython",
    "version": 3
   },
   "file_extension": ".py",
   "mimetype": "text/x-python",
   "name": "python",
   "nbconvert_exporter": "python",
   "pygments_lexer": "ipython3",
   "version": "3.7.4"
  },
  "metadata": {
   "interpreter": {
    "hash": "a0947237fadc8b5561fed326db280cc5ec46a670c87cfb3a0489cf95ff262303"
   }
  }
 },
 "nbformat": 4,
 "nbformat_minor": 5
}