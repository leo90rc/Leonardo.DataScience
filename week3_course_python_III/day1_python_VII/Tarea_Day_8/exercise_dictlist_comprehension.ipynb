{
  "nbformat": 4,
  "nbformat_minor": 0,
  "metadata": {
    "kernelspec": {
      "name": "python374jvsc74a57bd0a0947237fadc8b5561fed326db280cc5ec46a670c87cfb3a0489cf95ff262303",
      "display_name": "Python 3.7.4 64-bit"
    },
    "language_info": {
      "codemirror_mode": {
        "name": "ipython",
        "version": 3
      },
      "file_extension": ".py",
      "mimetype": "text/x-python",
      "name": "python",
      "nbconvert_exporter": "python",
      "pygments_lexer": "ipython3",
      "version": "3.7.4"
    },
    "colab": {
      "name": "exercise_dictlist_comprehension.ipynb",
      "provenance": []
    },
    "metadata": {
      "interpreter": {
        "hash": "a0947237fadc8b5561fed326db280cc5ec46a670c87cfb3a0489cf95ff262303"
      }
    }
  },
  "cells": [
    {
      "cell_type": "markdown",
      "metadata": {
        "id": "w3mL8s66UF95"
      },
      "source": [
        "# Python | list/dict comprehension"
      ]
    },
    {
      "cell_type": "markdown",
      "metadata": {
        "id": "qoPb3k97UF-B"
      },
      "source": [
        "List comprehension in Python is a compact way of creating a list from a sequence. It is a short way to create a new list. List comprehension is considerably faster than processing a list using the for loop."
      ]
    },
    {
      "cell_type": "markdown",
      "metadata": {
        "id": "Z63mtox7UF-D"
      },
      "source": [
        "```python\n",
        "# syntax\n",
        "[i for i in iterable if expression]\n",
        "```"
      ]
    },
    {
      "cell_type": "markdown",
      "metadata": {
        "id": "SvtM66sQUF-E"
      },
      "source": [
        "Dictionary comprehension is the same as list comprehension but with dictionaries. I know, you didn't see that coming. "
      ]
    },
    {
      "cell_type": "markdown",
      "metadata": {
        "id": "5XhJBUIwUF-F"
      },
      "source": [
        "```python\n",
        "# syntax\n",
        "\n",
        "{key: value for i in iterable}\n",
        "```\n"
      ]
    },
    {
      "cell_type": "markdown",
      "metadata": {
        "id": "9HEdSQMDUF-F"
      },
      "source": [
        "- https://www.programiz.com/python-programming/list-comprehension\n",
        "- https://www.programiz.com/python-programming/dictionary-comprehension"
      ]
    },
    {
      "cell_type": "markdown",
      "metadata": {
        "id": "N1Wog_PoUF-G"
      },
      "source": [
        "### Exercise 1.\n",
        "\n",
        "Use list comprehension and print the result to solve these problems: "
      ]
    },
    {
      "cell_type": "markdown",
      "metadata": {
        "id": "95W3GaLPUF-G"
      },
      "source": [
        "1. Make a list with the square number of numbers from 0 to 20. "
      ]
    },
    {
      "cell_type": "code",
      "metadata": {
        "id": "6BvoIeAiUF-H"
      },
      "source": [
        "square = [x**2 for x in range(21)]\n",
        "print(square)"
      ],
      "execution_count": null,
      "outputs": []
    },
    {
      "cell_type": "markdown",
      "metadata": {
        "id": "qEDMpcvjUF-I"
      },
      "source": [
        "2. Make a list with the first 50 power of two. "
      ]
    },
    {
      "cell_type": "code",
      "metadata": {
        "id": "JM2suUQPUF-I"
      },
      "source": [
        "power_of_two = [2**x for x in range(51)]\n",
        "power_of_two"
      ],
      "execution_count": null,
      "outputs": []
    },
    {
      "cell_type": "markdown",
      "metadata": {
        "id": "u7iOVd2DUF-J"
      },
      "source": [
        "3. Calculate the square root of the first 100 numbers. \n",
        "\n",
        "**You will probably need to install math library with pip and import it in this file.** \n",
        "\n",
        "\n",
        "\n"
      ]
    },
    {
      "cell_type": "code",
      "metadata": {
        "id": "pgGs5BeGUF-J"
      },
      "source": [
        "import math            \n",
        "\n",
        "square_root = [print(str(x) + ' = ' + str(round(math.sqrt(x),3))) for x in range(101)]"
      ],
      "execution_count": null,
      "outputs": []
    },
    {
      "cell_type": "markdown",
      "metadata": {
        "id": "xpLO51UWUF-K"
      },
      "source": [
        "4. Create this list `[-10,-9,-8,-7,-6,-5,-4,-3,-2,-1,0]`. "
      ]
    },
    {
      "cell_type": "code",
      "metadata": {
        "id": "dJp7ig7FUF-K"
      },
      "source": [
        "negativo_a_cero = [x for x in range(-10,1)]\n",
        "negativo_a_cero"
      ],
      "execution_count": null,
      "outputs": []
    },
    {
      "cell_type": "markdown",
      "metadata": {
        "id": "FJ0t9dXhUF-L"
      },
      "source": [
        "5. Filter only negative and zero in the list `numbers`."
      ]
    },
    {
      "cell_type": "code",
      "metadata": {
        "id": "-x0OXhdiUF-L"
      },
      "source": [
        "numbers = [-4, -3, -2, -1, 0, 2, 4, 6]\n",
        "\n",
        "negativos_y_cero = [x for x in numbers if x <= 0]\n",
        "negativos_y_cero"
      ],
      "execution_count": null,
      "outputs": []
    },
    {
      "cell_type": "markdown",
      "metadata": {
        "id": "K3i-p_tWUF-L"
      },
      "source": [
        "6. Find the odd numbers from 1-100 and put them on a list. \n",
        "\n",
        "\n"
      ]
    },
    {
      "cell_type": "code",
      "metadata": {
        "id": "Veq0RUpaUF-M"
      },
      "source": [
        "odd = [x for x in range(1,101) if x % 2 == 1]\n",
        "print(odd)"
      ],
      "execution_count": null,
      "outputs": []
    },
    {
      "cell_type": "markdown",
      "metadata": {
        "id": "tRxDtCjRUF-M"
      },
      "source": [
        "7. Find all of the numbers from 1-1000 that are divisible by 7.\n",
        "\n"
      ]
    },
    {
      "cell_type": "code",
      "metadata": {
        "id": "5fsU21SuUF-M"
      },
      "source": [
        "divisible_por_siete = [x for x in range(1,1001) if x % 7 == 0]\n",
        "print(divisible_por_siete)"
      ],
      "execution_count": null,
      "outputs": []
    },
    {
      "cell_type": "markdown",
      "metadata": {
        "id": "cFX9hhfIUF-N"
      },
      "source": [
        "8. Remove all of the vowels in a string. \n",
        "\n",
        "   Hint: make a list of the non-vowels. \n",
        "\n",
        "\n",
        "\n",
        "\n"
      ]
    },
    {
      "cell_type": "code",
      "metadata": {
        "id": "RE4VJe37UF-N"
      },
      "source": [
        "teststring = \"When you reach the end of your rope, tie a knot in it and hang on.\"\n",
        "                                                                                        # No creo que sea la manera que se espera                                                                                       que lo resuelva... pero las vocales ya no                                                                                                          están :)\n",
        "vocales = ['a', 'e', 'i', 'o', 'u']\n",
        "lista_no_vocales = [x for x in teststring if x not in vocales]              \n",
        "print(lista_no_vocales)\n"
      ],
      "execution_count": null,
      "outputs": []
    },
    {
      "cell_type": "code",
      "metadata": {
        "id": "Ny2EvpuoUF-N"
      },
      "source": [],
      "execution_count": null,
      "outputs": []
    },
    {
      "cell_type": "markdown",
      "metadata": {
        "id": "Y6NLR3BhUF-O"
      },
      "source": [
        "9. Find the capital letters (and not white space) in the sentence `\"The Way To Get Started Is To Quit Talking And Begin Doing.\"`. \n"
      ]
    },
    {
      "cell_type": "code",
      "metadata": {
        "id": "Y0o0Lp_9UF-O"
      },
      "source": [
        "sentence = \"The Way To Get Started Is To Quit Talking And Begin Doing.\"\n",
        "\n",
        "capitals = [x for x in sentence if x.isupper()]\n",
        "print(capitals)"
      ],
      "execution_count": null,
      "outputs": []
    },
    {
      "cell_type": "markdown",
      "metadata": {
        "id": "7QeDgaQNUF-O"
      },
      "source": [
        "10. Find all the consonants in the sentence `\"Tell me and I forget. Teach me and I remember. Involve me and I learn.\"`.\n"
      ]
    },
    {
      "cell_type": "code",
      "metadata": {
        "id": "iu1TR1h6UF-P"
      },
      "source": [
        "oracion = \"Tell me and I forget. Teach me and I remember. Involve me and I learn.\"\n",
        "\n",
        "vocales_espacio_punto = ['a', 'e', 'i', 'o', 'u', 'A', 'E', 'I', 'O', 'U', ' ', '.', ',']\n",
        "\n",
        "las_consonantes = [x for x in oracion if x not in vocales_espacio_punto]\n",
        "print(las_consonantes)"
      ],
      "execution_count": null,
      "outputs": []
    },
    {
      "cell_type": "markdown",
      "metadata": {
        "id": "SXKGydqbUF-P"
      },
      "source": [
        "11. Create 4 lists of 10 random numbers between 0 and 100 each. \n",
        "\n",
        "**You will probably need to import random module.**\n",
        "\n"
      ]
    },
    {
      "cell_type": "code",
      "metadata": {
        "id": "ClDI2nD_UF-P"
      },
      "source": [
        "import random\n",
        "\n",
        "lista_random = [[random.randint(0,100) for posicion in range(10)] for numero_listas in range(4)]\n",
        "\n",
        "lista_random"
      ],
      "execution_count": null,
      "outputs": []
    },
    {
      "cell_type": "markdown",
      "metadata": {
        "id": "j31dxD5jUF-P"
      },
      "source": [
        "### Exercise 2. "
      ]
    },
    {
      "cell_type": "markdown",
      "metadata": {
        "id": "zaxA9n0bUF-P"
      },
      "source": [
        "1. Flatten the following list of lists of lists to a one dimensional list **using list-comprehension**:\n",
        "```python\n",
        "expected output:\n",
        "[1, 2, 3, 4, 5, 6, 7, 8, 9]\n",
        "```"
      ]
    },
    {
      "cell_type": "code",
      "metadata": {
        "id": "Xzsq1hjIUF-Q"
      },
      "source": [
        "list_of_lists =[[1, 2, 3], [4, 5, 6], [7, 8, 9]]"
      ],
      "execution_count": null,
      "outputs": []
    },
    {
      "cell_type": "code",
      "metadata": {
        "id": "mecDXwkXUF-Q"
      },
      "source": [
        "lista_deseada = [x for lista_pequenia in list_of_lists for x in lista_pequenia]\n",
        "lista_deseada"
      ],
      "execution_count": null,
      "outputs": []
    },
    {
      "cell_type": "markdown",
      "metadata": {
        "id": "WADaSX-cUF-Q"
      },
      "source": [
        "2. Flatten the following list to a new list, and capitalize the elements of the new list **using list-comprehension**:\n",
        "```python\n",
        "expected output:\n",
        "['SPAIN', 'MADRID', 'FRANCE', 'PARIS', 'PORTUGAL', 'LISBON']\n",
        "```"
      ]
    },
    {
      "cell_type": "code",
      "metadata": {
        "id": "PpF6VskfUF-R"
      },
      "source": [
        "countries = [[('Spain', 'Madrid')], [('France', 'Paris')], [('Portugal', 'Lisbon')]]"
      ],
      "execution_count": null,
      "outputs": []
    },
    {
      "cell_type": "code",
      "metadata": {
        "id": "lN9QrdXEUF-R"
      },
      "source": [
        "lista_countries = [mapa.upper() for sublista in countries for tupla in sublista for mapa in tupla]\n",
        "lista_countries"
      ],
      "execution_count": null,
      "outputs": []
    },
    {
      "cell_type": "markdown",
      "metadata": {
        "id": "GecPwW_MUF-R"
      },
      "source": [
        "3. Change the `countries` list to a list of dictionaries:\n",
        "```python\n",
        "expected output:\n",
        "[{'country': 'SPAIN', 'city': 'MADRID'},\n",
        "{'country': 'FRANCE', 'city': 'PARIS'},\n",
        "{'country': 'PORTUGAL', 'city': 'LISBON'}]\n",
        "```"
      ]
    },
    {
      "cell_type": "code",
      "metadata": {
        "id": "vBmd0_A9UF-R"
      },
      "source": [
        "lista_diccionarios = [{'country': countries[pos_sublista][0][0].upper(), 'city': countries[pos_sublista][0][1].upper()} for pos_sublista, sublista in enumerate(countries)]\n",
        "lista_diccionarios"
      ],
      "execution_count": null,
      "outputs": []
    },
    {
      "cell_type": "markdown",
      "metadata": {
        "id": "bxyMtiAhUF-S"
      },
      "source": [
        "4. Change the following list of lists to a list of concatenated strings **using list-comprehension**:\n",
        "```python\n",
        "expected output:\n",
        "['Gabriel Vazquez', 'Clara Piniella', 'Diomedes Barbero']\n",
        "```"
      ]
    },
    {
      "cell_type": "code",
      "metadata": {
        "id": "UNhtKsdnUF-S"
      },
      "source": [
        "names = [[('Gabriel', 'Vazquez')], [('Clara', 'Piniella')], [('Diomedes', 'Barbero')]]"
      ],
      "execution_count": null,
      "outputs": []
    },
    {
      "cell_type": "code",
      "metadata": {
        "id": "P1yDguriUF-S"
      },
      "source": [
        "lista_nombres = [str(tupla[0] + ' ' + tupla[1]) for lista in names for tupla in lista]\n",
        "print(lista_nombres)"
      ],
      "execution_count": null,
      "outputs": []
    },
    {
      "cell_type": "markdown",
      "metadata": {
        "id": "-nSMXT2NUF-S"
      },
      "source": [
        "5. Convert the numbers of the following nested list to floats. Use **floats_list** as the name of the list. **using list-comprehension**"
      ]
    },
    {
      "cell_type": "code",
      "metadata": {
        "id": "evFbJqGvUF-T"
      },
      "source": [
        "big_list_of_lists = [['40', '20', '10', '30'], ['20', '20', '20', '20', '20', '30', '20'], \\\n",
        "['30', '20', '30', '50', '10', '30', '20', '20', '20'], ['100', '100'], ['100', '100', '100', '100', '100'], \\\n",
        "['100', '100', '100', '100']]"
      ],
      "execution_count": null,
      "outputs": []
    },
    {
      "cell_type": "code",
      "metadata": {
        "id": "7bmR2h88UF-T"
      },
      "source": [
        "float_list = [float(elem) for i in big_list_of_lists for elem in i]   # NO ESTOY SEGURO DE QUE ÉSTO SEA LO QUE PIDE EL EJERCICIO.\n",
        "\n",
        "print(float_list)"
      ],
      "execution_count": null,
      "outputs": []
    },
    {
      "cell_type": "markdown",
      "metadata": {
        "id": "ZuSt1LseUF-T"
      },
      "source": [
        "6. Using list comprehension create the following list of tuples:\n",
        "```python\n",
        "expected output: \n",
        "[(0, 1, 0, 0, 0, 0, 0),\n",
        "(1, 1, 1, 1, 1, 1, 1),\n",
        "(2, 1, 2, 4, 8, 16, 32),\n",
        "(3, 1, 3, 9, 27, 81, 243),\n",
        "(4, 1, 4, 16, 64, 256, 1024),\n",
        "(5, 1, 5, 25, 125, 625, 3125),\n",
        "(6, 1, 6, 36, 216, 1296, 7776),\n",
        "(7, 1, 7, 49, 343, 2401, 16807),\n",
        "(8, 1, 8, 64, 512, 4096, 32768),\n",
        "(9, 1, 9, 81, 729, 6561, 59049),\n",
        "(10, 1, 10, 100, 1000, 10000, 100000)]\n",
        "```\n",
        "\n",
        "\n"
      ]
    },
    {
      "cell_type": "code",
      "execution_count": null,
      "metadata": {},
      "outputs": [],
      "source": [
        "lista_potencias = [(x, x**0, x**1, x**2, x**3, x**4, x**5) for x in range(11)]\n",
        "lista_potencias"
      ]
    },
    {
      "cell_type": "markdown",
      "metadata": {
        "id": "hU2kygnrUF-U"
      },
      "source": [
        "### Exercise 3. "
      ]
    },
    {
      "cell_type": "markdown",
      "metadata": {
        "id": "6w8ZzTL6UF-U"
      },
      "source": [
        "1. First, create a range from 100 to 160 with steps of 10.\n",
        "   Second, using **dict comprehension**, create a dictionary where each number in the range is the key and each item divided by 100 is the value."
      ]
    },
    {
      "cell_type": "code",
      "metadata": {
        "id": "6kK8zqzJUF-U"
      },
      "source": [
        "rango = range(100,160,10)\n",
        "\n",
        "diccionario = {x:x/100 for x in rango}\n",
        "diccionario"
      ],
      "execution_count": null,
      "outputs": []
    },
    {
      "cell_type": "markdown",
      "metadata": {
        "id": "Xzwz9HCYUF-U"
      },
      "source": [
        "2. Using **dict comprehension** and a conditional argument create a dictionary from `curr_dict` where only the key:value pairs with value above 2000 are taken to the new dictionary.\n",
        "    "
      ]
    },
    {
      "cell_type": "code",
      "metadata": {
        "id": "YoHt2eghUF-U"
      },
      "source": [
        "curr_dict = {\"Netflix\":4950,\"HBO\":2400,\"Amazon\":1800, \"Movistar\":1700}"
      ],
      "execution_count": null,
      "outputs": []
    },
    {
      "cell_type": "code",
      "metadata": {
        "id": "0uMk-M-bUF-V"
      },
      "source": [
        "nuevo_diccionario = {key: value for key, value in curr_dict.items() if value > 2000}\n",
        "nuevo_diccionario"
      ],
      "execution_count": null,
      "outputs": []
    },
    {
      "cell_type": "markdown",
      "metadata": {
        "id": "rsTbfYlfUF-V"
      },
      "source": [
        "3. Create a function that receives two lists `list1` and `list2` by parameter and returns a dictionary with each element of `list1` as keys and the elements of `list2` as values. This time use **dict comprehension** to do so.  "
      ]
    },
    {
      "cell_type": "code",
      "metadata": {
        "id": "y3uYr6FwUF-V"
      },
      "source": [
        "def hacer_diccionario(list1, list2):\n",
        "    diccionario_animales = {valor: list2[pos] for pos, valor in enumerate(list1)}\n",
        "    return diccionario_animales"
      ],
      "execution_count": null,
      "outputs": []
    },
    {
      "cell_type": "code",
      "execution_count": null,
      "metadata": {},
      "outputs": [],
      "source": [
        "animales = ['Pulpo', 'Mono', 'Perro', 'Araña', 'Foca', 'Hormiga']\n",
        "numero_de_patas = [8, 2, 4, 8, 0, 6]\n",
        "\n",
        "hacer_diccionario(animales, numero_de_patas)"
      ]
    },
    {
      "cell_type": "markdown",
      "metadata": {
        "id": "UprHgkwDUF-V"
      },
      "source": [
        "### Bonus Track.\n",
        "\n",
        "1. Make a Python program that, from the strings `\" | \"` and `\" _ \"`, shows an 8x8 **chessboard** on the screen.\n",
        "\n",
        "   Develop the program in a `.py` file that will be run through the terminal. \n",
        " \n",
        "   From the folder that contains the corresponding `.py`, it will be executed with the following command:` python3 program_name.py`"
      ]
    },
    {
      "cell_type": "code",
      "metadata": {
        "id": "7x3d-0-CUF-W"
      },
      "source": [
        "print(' _' * 8)                                \n",
        "contador = 0\n",
        "while contador <= 7:\n",
        "    print(('|' + '_') * 8 + '|')\n",
        "    contador += 1"
      ],
      "execution_count": null,
      "outputs": []
    },
    {
      "cell_type": "code",
      "execution_count": 4,
      "metadata": {},
      "outputs": [
        {
          "output_type": "stream",
          "name": "stdout",
          "text": [
            " _ _ _ _ _ _ _ _\n|_|_|_|_|_|_|_|_|\n|_|_|_|_|_|_|_|_|\n|_|_|_|_|_|_|_|_|\n|_|_|_|_|_|_|_|_|\n|_|_|_|_|_|_|_|_|\n|_|_|_|_|_|_|_|_|\n|_|_|_|_|_|_|_|_|\n|_|_|_|_|_|_|_|_|\n"
          ]
        }
      ],
      "source": [
        "import ajedrez as aj\n",
        "aj.tablero()"
      ]
    },
    {
      "cell_type": "markdown",
      "metadata": {
        "id": "mWAjXNjOUF-W"
      },
      "source": [
        "!['togood'](https://i.pinimg.com/originals/de/f5/2f/def52fe41d695d8feebd2cdc194da929.png)"
      ]
    },
    {
      "cell_type": "code",
      "metadata": {
        "id": "4_0UDKKdUF-W"
      },
      "source": [],
      "execution_count": null,
      "outputs": []
    }
  ]
}