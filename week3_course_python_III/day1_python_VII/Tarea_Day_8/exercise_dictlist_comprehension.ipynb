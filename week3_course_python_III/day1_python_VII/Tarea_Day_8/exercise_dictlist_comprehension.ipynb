{
  "nbformat": 4,
  "nbformat_minor": 0,
  "metadata": {
    "kernelspec": {
      "name": "python374jvsc74a57bd0a0947237fadc8b5561fed326db280cc5ec46a670c87cfb3a0489cf95ff262303",
      "display_name": "Python 3.7.4 64-bit"
    },
    "language_info": {
      "codemirror_mode": {
        "name": "ipython",
        "version": 3
      },
      "file_extension": ".py",
      "mimetype": "text/x-python",
      "name": "python",
      "nbconvert_exporter": "python",
      "pygments_lexer": "ipython3",
      "version": "3.7.4"
    },
    "colab": {
      "name": "exercise_dictlist_comprehension.ipynb",
      "provenance": []
    },
    "metadata": {
      "interpreter": {
        "hash": "a0947237fadc8b5561fed326db280cc5ec46a670c87cfb3a0489cf95ff262303"
      }
    }
  },
  "cells": [
    {
      "cell_type": "markdown",
      "metadata": {
        "id": "w3mL8s66UF95"
      },
      "source": [
        "# Python | list/dict comprehension"
      ]
    },
    {
      "cell_type": "markdown",
      "metadata": {
        "id": "qoPb3k97UF-B"
      },
      "source": [
        "List comprehension in Python is a compact way of creating a list from a sequence. It is a short way to create a new list. List comprehension is considerably faster than processing a list using the for loop."
      ]
    },
    {
      "cell_type": "markdown",
      "metadata": {
        "id": "Z63mtox7UF-D"
      },
      "source": [
        "```python\n",
        "# syntax\n",
        "[i for i in iterable if expression]\n",
        "```"
      ]
    },
    {
      "cell_type": "markdown",
      "metadata": {
        "id": "SvtM66sQUF-E"
      },
      "source": [
        "Dictionary comprehension is the same as list comprehension but with dictionaries. I know, you didn't see that coming. "
      ]
    },
    {
      "cell_type": "markdown",
      "metadata": {
        "id": "5XhJBUIwUF-F"
      },
      "source": [
        "```python\n",
        "# syntax\n",
        "\n",
        "{key: value for i in iterable}\n",
        "```\n"
      ]
    },
    {
      "cell_type": "markdown",
      "metadata": {
        "id": "9HEdSQMDUF-F"
      },
      "source": [
        "- https://www.programiz.com/python-programming/list-comprehension\n",
        "- https://www.programiz.com/python-programming/dictionary-comprehension"
      ]
    },
    {
      "cell_type": "markdown",
      "metadata": {
        "id": "N1Wog_PoUF-G"
      },
      "source": [
        "### Exercise 1.\n",
        "\n",
        "Use list comprehension and print the result to solve these problems: "
      ]
    },
    {
      "cell_type": "markdown",
      "metadata": {
        "id": "95W3GaLPUF-G"
      },
      "source": [
        "1. Make a list with the square number of numbers from 0 to 20. "
      ]
    },
    {
      "cell_type": "code",
      "metadata": {
        "id": "6BvoIeAiUF-H"
      },
      "source": [
        "square = [x**2 for x in range(21)]\n",
        "print(square)"
      ],
      "execution_count": 2,
      "outputs": [
        {
          "output_type": "stream",
          "name": "stdout",
          "text": [
            "[0, 1, 4, 9, 16, 25, 36, 49, 64, 81, 100, 121, 144, 169, 196, 225, 256, 289, 324, 361, 400]\n"
          ]
        }
      ]
    },
    {
      "cell_type": "markdown",
      "metadata": {
        "id": "qEDMpcvjUF-I"
      },
      "source": [
        "2. Make a list with the first 50 power of two. "
      ]
    },
    {
      "cell_type": "code",
      "metadata": {
        "id": "JM2suUQPUF-I"
      },
      "source": [
        "power_of_two = [2**x for x in range(51)]\n",
        "power_of_two"
      ],
      "execution_count": 15,
      "outputs": [
        {
          "output_type": "execute_result",
          "data": {
            "text/plain": [
              "[1,\n",
              " 2,\n",
              " 4,\n",
              " 8,\n",
              " 16,\n",
              " 32,\n",
              " 64,\n",
              " 128,\n",
              " 256,\n",
              " 512,\n",
              " 1024,\n",
              " 2048,\n",
              " 4096,\n",
              " 8192,\n",
              " 16384,\n",
              " 32768,\n",
              " 65536,\n",
              " 131072,\n",
              " 262144,\n",
              " 524288,\n",
              " 1048576,\n",
              " 2097152,\n",
              " 4194304,\n",
              " 8388608,\n",
              " 16777216,\n",
              " 33554432,\n",
              " 67108864,\n",
              " 134217728,\n",
              " 268435456,\n",
              " 536870912,\n",
              " 1073741824,\n",
              " 2147483648,\n",
              " 4294967296,\n",
              " 8589934592,\n",
              " 17179869184,\n",
              " 34359738368,\n",
              " 68719476736,\n",
              " 137438953472,\n",
              " 274877906944,\n",
              " 549755813888,\n",
              " 1099511627776,\n",
              " 2199023255552,\n",
              " 4398046511104,\n",
              " 8796093022208,\n",
              " 17592186044416,\n",
              " 35184372088832,\n",
              " 70368744177664,\n",
              " 140737488355328,\n",
              " 281474976710656,\n",
              " 562949953421312,\n",
              " 1125899906842624]"
            ]
          },
          "metadata": {},
          "execution_count": 15
        }
      ]
    },
    {
      "cell_type": "markdown",
      "metadata": {
        "id": "u7iOVd2DUF-J"
      },
      "source": [
        "3. Calculate the square root of the first 100 numbers. \n",
        "\n",
        "**You will probably need to install math library with pip and import it in this file.** \n",
        "\n",
        "\n",
        "\n"
      ]
    },
    {
      "cell_type": "code",
      "metadata": {
        "id": "pgGs5BeGUF-J"
      },
      "source": [
        "import math            \n",
        "\n",
        "square_root = [print(str(x) + ' = ' + str(round(math.sqrt(x),3))) for x in range(101)]"
      ],
      "execution_count": 155,
      "outputs": [
        {
          "output_type": "stream",
          "name": "stdout",
          "text": [
            "0 = 0.0\n1 = 1.0\n2 = 1.414\n3 = 1.732\n4 = 2.0\n5 = 2.236\n6 = 2.449\n7 = 2.646\n8 = 2.828\n9 = 3.0\n10 = 3.162\n11 = 3.317\n12 = 3.464\n13 = 3.606\n14 = 3.742\n15 = 3.873\n16 = 4.0\n17 = 4.123\n18 = 4.243\n19 = 4.359\n20 = 4.472\n21 = 4.583\n22 = 4.69\n23 = 4.796\n24 = 4.899\n25 = 5.0\n26 = 5.099\n27 = 5.196\n28 = 5.292\n29 = 5.385\n30 = 5.477\n31 = 5.568\n32 = 5.657\n33 = 5.745\n34 = 5.831\n35 = 5.916\n36 = 6.0\n37 = 6.083\n38 = 6.164\n39 = 6.245\n40 = 6.325\n41 = 6.403\n42 = 6.481\n43 = 6.557\n44 = 6.633\n45 = 6.708\n46 = 6.782\n47 = 6.856\n48 = 6.928\n49 = 7.0\n50 = 7.071\n51 = 7.141\n52 = 7.211\n53 = 7.28\n54 = 7.348\n55 = 7.416\n56 = 7.483\n57 = 7.55\n58 = 7.616\n59 = 7.681\n60 = 7.746\n61 = 7.81\n62 = 7.874\n63 = 7.937\n64 = 8.0\n65 = 8.062\n66 = 8.124\n67 = 8.185\n68 = 8.246\n69 = 8.307\n70 = 8.367\n71 = 8.426\n72 = 8.485\n73 = 8.544\n74 = 8.602\n75 = 8.66\n76 = 8.718\n77 = 8.775\n78 = 8.832\n79 = 8.888\n80 = 8.944\n81 = 9.0\n82 = 9.055\n83 = 9.11\n84 = 9.165\n85 = 9.22\n86 = 9.274\n87 = 9.327\n88 = 9.381\n89 = 9.434\n90 = 9.487\n91 = 9.539\n92 = 9.592\n93 = 9.644\n94 = 9.695\n95 = 9.747\n96 = 9.798\n97 = 9.849\n98 = 9.899\n99 = 9.95\n100 = 10.0\n"
          ]
        }
      ]
    },
    {
      "cell_type": "markdown",
      "metadata": {
        "id": "xpLO51UWUF-K"
      },
      "source": [
        "4. Create this list `[-10,-9,-8,-7,-6,-5,-4,-3,-2,-1,0]`. "
      ]
    },
    {
      "cell_type": "code",
      "metadata": {
        "id": "dJp7ig7FUF-K"
      },
      "source": [
        "negativo_a_cero = [x for x in range(-10,1)]\n",
        "negativo_a_cero"
      ],
      "execution_count": 23,
      "outputs": [
        {
          "output_type": "execute_result",
          "data": {
            "text/plain": [
              "[-10, -9, -8, -7, -6, -5, -4, -3, -2, -1, 0]"
            ]
          },
          "metadata": {},
          "execution_count": 23
        }
      ]
    },
    {
      "cell_type": "markdown",
      "metadata": {
        "id": "FJ0t9dXhUF-L"
      },
      "source": [
        "5. Filter only negative and zero in the list `numbers`."
      ]
    },
    {
      "cell_type": "code",
      "metadata": {
        "id": "-x0OXhdiUF-L"
      },
      "source": [
        "numbers = [-4, -3, -2, -1, 0, 2, 4, 6]\n",
        "\n",
        "negativos_y_cero = [x for x in numbers if x <= 0]\n",
        "negativos_y_cero"
      ],
      "execution_count": 25,
      "outputs": [
        {
          "output_type": "execute_result",
          "data": {
            "text/plain": [
              "[-4, -3, -2, -1, 0]"
            ]
          },
          "metadata": {},
          "execution_count": 25
        }
      ]
    },
    {
      "cell_type": "markdown",
      "metadata": {
        "id": "K3i-p_tWUF-L"
      },
      "source": [
        "6. Find the odd numbers from 1-100 and put them on a list. \n",
        "\n",
        "\n"
      ]
    },
    {
      "cell_type": "code",
      "metadata": {
        "id": "Veq0RUpaUF-M"
      },
      "source": [
        "odd = [x for x in range(1,101) if x % 2 == 1]\n",
        "print(odd)"
      ],
      "execution_count": 27,
      "outputs": [
        {
          "output_type": "stream",
          "name": "stdout",
          "text": [
            "[1, 3, 5, 7, 9, 11, 13, 15, 17, 19, 21, 23, 25, 27, 29, 31, 33, 35, 37, 39, 41, 43, 45, 47, 49, 51, 53, 55, 57, 59, 61, 63, 65, 67, 69, 71, 73, 75, 77, 79, 81, 83, 85, 87, 89, 91, 93, 95, 97, 99]\n"
          ]
        }
      ]
    },
    {
      "cell_type": "markdown",
      "metadata": {
        "id": "tRxDtCjRUF-M"
      },
      "source": [
        "7. Find all of the numbers from 1-1000 that are divisible by 7.\n",
        "\n"
      ]
    },
    {
      "cell_type": "code",
      "metadata": {
        "id": "5fsU21SuUF-M"
      },
      "source": [
        "divisible_por_siete = [x for x in range(1,1001) if x % 7 == 0]\n",
        "print(divisible_por_siete)"
      ],
      "execution_count": 28,
      "outputs": [
        {
          "output_type": "stream",
          "name": "stdout",
          "text": [
            "[7, 14, 21, 28, 35, 42, 49, 56, 63, 70, 77, 84, 91, 98, 105, 112, 119, 126, 133, 140, 147, 154, 161, 168, 175, 182, 189, 196, 203, 210, 217, 224, 231, 238, 245, 252, 259, 266, 273, 280, 287, 294, 301, 308, 315, 322, 329, 336, 343, 350, 357, 364, 371, 378, 385, 392, 399, 406, 413, 420, 427, 434, 441, 448, 455, 462, 469, 476, 483, 490, 497, 504, 511, 518, 525, 532, 539, 546, 553, 560, 567, 574, 581, 588, 595, 602, 609, 616, 623, 630, 637, 644, 651, 658, 665, 672, 679, 686, 693, 700, 707, 714, 721, 728, 735, 742, 749, 756, 763, 770, 777, 784, 791, 798, 805, 812, 819, 826, 833, 840, 847, 854, 861, 868, 875, 882, 889, 896, 903, 910, 917, 924, 931, 938, 945, 952, 959, 966, 973, 980, 987, 994]\n"
          ]
        }
      ]
    },
    {
      "cell_type": "markdown",
      "metadata": {
        "id": "cFX9hhfIUF-N"
      },
      "source": [
        "8. Remove all of the vowels in a string. \n",
        "\n",
        "   Hint: make a list of the non-vowels. \n",
        "\n",
        "\n",
        "\n",
        "\n"
      ]
    },
    {
      "cell_type": "code",
      "metadata": {
        "id": "RE4VJe37UF-N"
      },
      "source": [
        "teststring = \"When you reach the end of your rope, tie a knot in it and hang on.\"\n",
        "                                                                                        # No creo que sea la manera que se espera                                                                                       que lo resuelva... pero las vocales ya no                                                                                                          están :)\n",
        "vocales = ['a', 'e', 'i', 'o', 'u']\n",
        "lista_no_vocales = [x for x in teststring if x not in vocales]              \n",
        "print(lista_no_vocales)\n"
      ],
      "execution_count": 8,
      "outputs": [
        {
          "output_type": "stream",
          "name": "stdout",
          "text": [
            "['W', 'h', 'n', ' ', 'y', ' ', 'r', 'c', 'h', ' ', 't', 'h', ' ', 'n', 'd', ' ', 'f', ' ', 'y', 'r', ' ', 'r', 'p', ',', ' ', 't', ' ', ' ', 'k', 'n', 't', ' ', 'n', ' ', 't', ' ', 'n', 'd', ' ', 'h', 'n', 'g', ' ', 'n', '.']\n"
          ]
        }
      ]
    },
    {
      "cell_type": "code",
      "metadata": {
        "id": "Ny2EvpuoUF-N"
      },
      "source": [],
      "execution_count": null,
      "outputs": []
    },
    {
      "cell_type": "markdown",
      "metadata": {
        "id": "Y6NLR3BhUF-O"
      },
      "source": [
        "9. Find the capital letters (and not white space) in the sentence `\"The Way To Get Started Is To Quit Talking And Begin Doing.\"`. \n"
      ]
    },
    {
      "cell_type": "code",
      "metadata": {
        "id": "Y0o0Lp_9UF-O"
      },
      "source": [
        "sentence = \"The Way To Get Started Is To Quit Talking And Begin Doing.\"\n",
        "\n",
        "capitals = [x for x in sentence if x.isupper()]\n",
        "print(capitals)"
      ],
      "execution_count": 33,
      "outputs": [
        {
          "output_type": "stream",
          "name": "stdout",
          "text": [
            "['T', 'W', 'T', 'G', 'S', 'I', 'T', 'Q', 'T', 'A', 'B', 'D']\n"
          ]
        }
      ]
    },
    {
      "cell_type": "markdown",
      "metadata": {
        "id": "7QeDgaQNUF-O"
      },
      "source": [
        "10. Find all the consonants in the sentence `\"Tell me and I forget. Teach me and I remember. Involve me and I learn.\"`.\n"
      ]
    },
    {
      "cell_type": "code",
      "metadata": {
        "id": "iu1TR1h6UF-P"
      },
      "source": [
        "oracion = \"Tell me and I forget. Teach me and I remember. Involve me and I learn.\"\n",
        "\n",
        "vocales_espacio_punto = ['a', 'e', 'i', 'o', 'u', 'A', 'E', 'I', 'O', 'U', ' ', '.', ',']\n",
        "\n",
        "las_consonantes = [x for x in oracion if x not in vocales_espacio_punto]\n",
        "print(las_consonantes)"
      ],
      "execution_count": 89,
      "outputs": [
        {
          "output_type": "stream",
          "name": "stdout",
          "text": [
            "['T', 'l', 'l', 'm', 'n', 'd', 'f', 'r', 'g', 't', 'T', 'c', 'h', 'm', 'n', 'd', 'r', 'm', 'm', 'b', 'r', 'n', 'v', 'l', 'v', 'm', 'n', 'd', 'l', 'r', 'n']\n"
          ]
        }
      ]
    },
    {
      "cell_type": "markdown",
      "metadata": {
        "id": "SXKGydqbUF-P"
      },
      "source": [
        "11. Create 4 lists of 10 random numbers between 0 and 100 each. \n",
        "\n",
        "**You will probably need to import random module.**\n",
        "\n"
      ]
    },
    {
      "cell_type": "code",
      "metadata": {
        "id": "ClDI2nD_UF-P"
      },
      "source": [
        "import random\n",
        "\n",
        "lista_random = [[random.randint(0,100) for posicion in range(10)] for numero_listas in range(4)]\n",
        "\n",
        "lista_random"
      ],
      "execution_count": 130,
      "outputs": [
        {
          "output_type": "execute_result",
          "data": {
            "text/plain": [
              "[[63, 80, 37, 95, 77, 94, 85, 97, 85, 69],\n",
              " [70, 75, 14, 13, 8, 71, 26, 61, 40, 15],\n",
              " [52, 16, 47, 79, 60, 93, 39, 89, 82, 54],\n",
              " [27, 19, 14, 13, 53, 16, 53, 6, 22, 94]]"
            ]
          },
          "metadata": {},
          "execution_count": 130
        }
      ]
    },
    {
      "cell_type": "markdown",
      "metadata": {
        "id": "j31dxD5jUF-P"
      },
      "source": [
        "### Exercise 2. "
      ]
    },
    {
      "cell_type": "markdown",
      "metadata": {
        "id": "zaxA9n0bUF-P"
      },
      "source": [
        "1. Flatten the following list of lists of lists to a one dimensional list **using list-comprehension**:\n",
        "```python\n",
        "expected output:\n",
        "[1, 2, 3, 4, 5, 6, 7, 8, 9]\n",
        "```"
      ]
    },
    {
      "cell_type": "code",
      "metadata": {
        "id": "Xzsq1hjIUF-Q"
      },
      "source": [
        "list_of_lists =[[1, 2, 3], [4, 5, 6], [7, 8, 9]]"
      ],
      "execution_count": 120,
      "outputs": []
    },
    {
      "cell_type": "code",
      "metadata": {
        "id": "mecDXwkXUF-Q"
      },
      "source": [
        "lista_deseada = [x for lista_pequenia in list_of_lists for x in lista_pequenia]\n",
        "lista_deseada"
      ],
      "execution_count": 125,
      "outputs": [
        {
          "output_type": "execute_result",
          "data": {
            "text/plain": [
              "[1, 2, 3, 4, 5, 6, 7, 8, 9]"
            ]
          },
          "metadata": {},
          "execution_count": 125
        }
      ]
    },
    {
      "cell_type": "markdown",
      "metadata": {
        "id": "WADaSX-cUF-Q"
      },
      "source": [
        "2. Flatten the following list to a new list, and capitalize the elements of the new list **using list-comprehension**:\n",
        "```python\n",
        "expected output:\n",
        "['SPAIN', 'MADRID', 'FRANCE', 'PARIS', 'PORTUGAL', 'LISBON']\n",
        "```"
      ]
    },
    {
      "cell_type": "code",
      "metadata": {
        "id": "PpF6VskfUF-R"
      },
      "source": [
        "countries = [[('Spain', 'Madrid')], [('France', 'Paris')], [('Portugal', 'Lisbon')]]"
      ],
      "execution_count": 134,
      "outputs": []
    },
    {
      "cell_type": "code",
      "metadata": {
        "id": "lN9QrdXEUF-R"
      },
      "source": [
        "lista_countries = [mapa.upper() for sublista in countries for tupla in sublista for mapa in tupla]\n",
        "lista_countries"
      ],
      "execution_count": 138,
      "outputs": [
        {
          "output_type": "execute_result",
          "data": {
            "text/plain": [
              "['SPAIN', 'MADRID', 'FRANCE', 'PARIS', 'PORTUGAL', 'LISBON']"
            ]
          },
          "metadata": {},
          "execution_count": 138
        }
      ]
    },
    {
      "cell_type": "markdown",
      "metadata": {
        "id": "GecPwW_MUF-R"
      },
      "source": [
        "3. Change the `countries` list to a list of dictionaries:\n",
        "```python\n",
        "expected output:\n",
        "[{'country': 'SPAIN', 'city': 'MADRID'},\n",
        "{'country': 'FRANCE', 'city': 'PARIS'},\n",
        "{'country': 'PORTUGAL', 'city': 'LISBON'}]\n",
        "```"
      ]
    },
    {
      "cell_type": "code",
      "metadata": {
        "id": "vBmd0_A9UF-R"
      },
      "source": [
        "lista_diccionarios = [{'country': countries[pos_sublista][0][0].upper(), 'city': countries[pos_sublista][0][1].upper()} for pos_sublista, sublista in enumerate(countries)]\n",
        "lista_diccionarios"
      ],
      "execution_count": 143,
      "outputs": [
        {
          "output_type": "execute_result",
          "data": {
            "text/plain": [
              "[{'country': 'SPAIN', 'city': 'MADRID'},\n",
              " {'country': 'FRANCE', 'city': 'PARIS'},\n",
              " {'country': 'PORTUGAL', 'city': 'LISBON'}]"
            ]
          },
          "metadata": {},
          "execution_count": 143
        }
      ]
    },
    {
      "cell_type": "markdown",
      "metadata": {
        "id": "bxyMtiAhUF-S"
      },
      "source": [
        "4. Change the following list of lists to a list of concatenated strings **using list-comprehension**:\n",
        "```python\n",
        "expected output:\n",
        "['Gabriel Vazquez', 'Clara Piniella', 'Diomedes Barbero']\n",
        "```"
      ]
    },
    {
      "cell_type": "code",
      "metadata": {
        "id": "UNhtKsdnUF-S"
      },
      "source": [
        "names = [[('Gabriel', 'Vazquez')], [('Clara', 'Piniella')], [('Diomedes', 'Barbero')]]"
      ],
      "execution_count": 145,
      "outputs": []
    },
    {
      "cell_type": "code",
      "metadata": {
        "id": "P1yDguriUF-S"
      },
      "source": [
        "lista_nombres = [str(tupla[0] + ' ' + tupla[1]) for lista in names for tupla in lista]\n",
        "print(lista_nombres)"
      ],
      "execution_count": 149,
      "outputs": [
        {
          "output_type": "stream",
          "name": "stdout",
          "text": [
            "['Gabriel Vazquez', 'Clara Piniella', 'Diomedes Barbero']\n"
          ]
        }
      ]
    },
    {
      "cell_type": "markdown",
      "metadata": {
        "id": "-nSMXT2NUF-S"
      },
      "source": [
        "5. Convert the numbers of the following nested list to floats. Use **floats_list** as the name of the list. **using list-comprehension**"
      ]
    },
    {
      "cell_type": "code",
      "metadata": {
        "id": "evFbJqGvUF-T"
      },
      "source": [
        "big_list_of_lists = [['40', '20', '10', '30'], ['20', '20', '20', '20', '20', '30', '20'], \\\n",
        "['30', '20', '30', '50', '10', '30', '20', '20', '20'], ['100', '100'], ['100', '100', '100', '100', '100'], \\\n",
        "['100', '100', '100', '100']]"
      ],
      "execution_count": 150,
      "outputs": []
    },
    {
      "cell_type": "code",
      "metadata": {
        "id": "7bmR2h88UF-T"
      },
      "source": [
        "float_list = [float(elem) for i in big_list_of_lists for elem in i]   # NO ESTOY SEGURO DE QUE ÉSTO SEA LO QUE PIDE EL EJERCICIO.\n",
        "\n",
        "print(float_list)"
      ],
      "execution_count": 153,
      "outputs": [
        {
          "output_type": "stream",
          "name": "stdout",
          "text": [
            "[40.0, 20.0, 10.0, 30.0, 20.0, 20.0, 20.0, 20.0, 20.0, 30.0, 20.0, 30.0, 20.0, 30.0, 50.0, 10.0, 30.0, 20.0, 20.0, 20.0, 100.0, 100.0, 100.0, 100.0, 100.0, 100.0, 100.0, 100.0, 100.0, 100.0, 100.0]\n"
          ]
        }
      ]
    },
    {
      "cell_type": "markdown",
      "metadata": {
        "id": "ZuSt1LseUF-T"
      },
      "source": [
        "6. Using list comprehension create the following list of tuples:\n",
        "```python\n",
        "expected output: \n",
        "[(0, 1, 0, 0, 0, 0, 0),\n",
        "(1, 1, 1, 1, 1, 1, 1),\n",
        "(2, 1, 2, 4, 8, 16, 32),\n",
        "(3, 1, 3, 9, 27, 81, 243),\n",
        "(4, 1, 4, 16, 64, 256, 1024),\n",
        "(5, 1, 5, 25, 125, 625, 3125),\n",
        "(6, 1, 6, 36, 216, 1296, 7776),\n",
        "(7, 1, 7, 49, 343, 2401, 16807),\n",
        "(8, 1, 8, 64, 512, 4096, 32768),\n",
        "(9, 1, 9, 81, 729, 6561, 59049),\n",
        "(10, 1, 10, 100, 1000, 10000, 100000)]\n",
        "```\n",
        "\n",
        "\n"
      ]
    },
    {
      "cell_type": "code",
      "execution_count": 17,
      "metadata": {},
      "outputs": [
        {
          "output_type": "execute_result",
          "data": {
            "text/plain": [
              "[(0, 1, 0, 0, 0, 0, 0),\n",
              " (1, 1, 1, 1, 1, 1, 1),\n",
              " (2, 1, 2, 4, 8, 16, 32),\n",
              " (3, 1, 3, 9, 27, 81, 243),\n",
              " (4, 1, 4, 16, 64, 256, 1024),\n",
              " (5, 1, 5, 25, 125, 625, 3125),\n",
              " (6, 1, 6, 36, 216, 1296, 7776),\n",
              " (7, 1, 7, 49, 343, 2401, 16807),\n",
              " (8, 1, 8, 64, 512, 4096, 32768),\n",
              " (9, 1, 9, 81, 729, 6561, 59049),\n",
              " (10, 1, 10, 100, 1000, 10000, 100000)]"
            ]
          },
          "metadata": {},
          "execution_count": 17
        }
      ],
      "source": [
        "lista_potencias = [(x, x**0, x**1, x**2, x**3, x**4, x**5) for x in range(11)]\n",
        "lista_potencias"
      ]
    },
    {
      "cell_type": "markdown",
      "metadata": {
        "id": "hU2kygnrUF-U"
      },
      "source": [
        "### Exercise 3. "
      ]
    },
    {
      "cell_type": "markdown",
      "metadata": {
        "id": "6w8ZzTL6UF-U"
      },
      "source": [
        "1. First, create a range from 100 to 160 with steps of 10.\n",
        "   Second, using **dict comprehension**, create a dictionary where each number in the range is the key and each item divided by 100 is the value."
      ]
    },
    {
      "cell_type": "code",
      "metadata": {
        "id": "6kK8zqzJUF-U"
      },
      "source": [
        "rango = range(100,160,10)\n",
        "\n",
        "diccionario = {x:x/100 for x in rango}\n",
        "diccionario"
      ],
      "execution_count": 160,
      "outputs": [
        {
          "output_type": "execute_result",
          "data": {
            "text/plain": [
              "{100: 1.0, 110: 1.1, 120: 1.2, 130: 1.3, 140: 1.4, 150: 1.5}"
            ]
          },
          "metadata": {},
          "execution_count": 160
        }
      ]
    },
    {
      "cell_type": "markdown",
      "metadata": {
        "id": "Xzwz9HCYUF-U"
      },
      "source": [
        "2. Using **dict comprehension** and a conditional argument create a dictionary from `curr_dict` where only the key:value pairs with value above 2000 are taken to the new dictionary.\n",
        "    "
      ]
    },
    {
      "cell_type": "code",
      "metadata": {
        "id": "YoHt2eghUF-U"
      },
      "source": [
        "curr_dict = {\"Netflix\":4950,\"HBO\":2400,\"Amazon\":1800, \"Movistar\":1700}"
      ],
      "execution_count": 161,
      "outputs": []
    },
    {
      "cell_type": "code",
      "metadata": {
        "id": "0uMk-M-bUF-V"
      },
      "source": [
        "nuevo_diccionario = {key: value for key, value in curr_dict.items() if value > 2000}\n",
        "nuevo_diccionario"
      ],
      "execution_count": 170,
      "outputs": [
        {
          "output_type": "execute_result",
          "data": {
            "text/plain": [
              "{'Netflix': 4950, 'HBO': 2400}"
            ]
          },
          "metadata": {},
          "execution_count": 170
        }
      ]
    },
    {
      "cell_type": "markdown",
      "metadata": {
        "id": "rsTbfYlfUF-V"
      },
      "source": [
        "3. Create a function that receives two lists `list1` and `list2` by parameter and returns a dictionary with each element of `list1` as keys and the elements of `list2` as values. This time use **dict comprehension** to do so.  "
      ]
    },
    {
      "cell_type": "code",
      "metadata": {
        "id": "y3uYr6FwUF-V"
      },
      "source": [
        "def hacer_diccionario(list1, list2):\n",
        "    diccionario_animales = {valor: list2[pos] for pos, valor in enumerate(list1)}\n",
        "    return diccionario_animales"
      ],
      "execution_count": 176,
      "outputs": []
    },
    {
      "cell_type": "code",
      "execution_count": 178,
      "metadata": {},
      "outputs": [
        {
          "output_type": "execute_result",
          "data": {
            "text/plain": [
              "{'Pulpo': 8, 'Mono': 2, 'Perro': 4, 'Araña': 8, 'Foca': 0, 'Hormiga': 6}"
            ]
          },
          "metadata": {},
          "execution_count": 178
        }
      ],
      "source": [
        "animales = ['Pulpo', 'Mono', 'Perro', 'Araña', 'Foca', 'Hormiga']\n",
        "numero_de_patas = [8, 2, 4, 8, 0, 6]\n",
        "\n",
        "hacer_diccionario(animales, numero_de_patas)"
      ]
    },
    {
      "cell_type": "markdown",
      "metadata": {
        "id": "UprHgkwDUF-V"
      },
      "source": [
        "### Bonus Track.\n",
        "\n",
        "1. Make a Python program that, from the strings `\" | \"` and `\" _ \"`, shows an 8x8 **chessboard** on the screen.\n",
        "\n",
        "   Develop the program in a `.py` file that will be run through the terminal. \n",
        " \n",
        "   From the folder that contains the corresponding `.py`, it will be executed with the following command:` python3 program_name.py`"
      ]
    },
    {
      "cell_type": "code",
      "metadata": {
        "id": "7x3d-0-CUF-W"
      },
      "source": [
        "print(' _' * 8)                                \n",
        "contador = 0\n",
        "while contador <= 7:\n",
        "    print(('|' + '_') * 8 + '|')\n",
        "    contador += 1"
      ],
      "execution_count": 36,
      "outputs": [
        {
          "output_type": "stream",
          "name": "stdout",
          "text": [
            " _ _ _ _ _ _ _ _\n|_|_|_|_|_|_|_|_|\n|_|_|_|_|_|_|_|_|\n|_|_|_|_|_|_|_|_|\n|_|_|_|_|_|_|_|_|\n|_|_|_|_|_|_|_|_|\n|_|_|_|_|_|_|_|_|\n|_|_|_|_|_|_|_|_|\n|_|_|_|_|_|_|_|_|\n"
          ]
        }
      ]
    },
    {
      "cell_type": "code",
      "execution_count": 37,
      "metadata": {},
      "outputs": [
        {
          "output_type": "error",
          "ename": "TypeError",
          "evalue": "'module' object is not callable",
          "traceback": [
            "\u001b[1;31m---------------------------------------------------------------------------\u001b[0m",
            "\u001b[1;31mTypeError\u001b[0m                                 Traceback (most recent call last)",
            "\u001b[1;32m<ipython-input-37-c61750da4b53>\u001b[0m in \u001b[0;36m<module>\u001b[1;34m\u001b[0m\n\u001b[0;32m      1\u001b[0m \u001b[1;32mimport\u001b[0m \u001b[0mtablero\u001b[0m\u001b[1;33m\u001b[0m\u001b[1;33m\u001b[0m\u001b[0m\n\u001b[0;32m      2\u001b[0m \u001b[1;33m\u001b[0m\u001b[0m\n\u001b[1;32m----> 3\u001b[1;33m \u001b[0mtablero\u001b[0m\u001b[1;33m(\u001b[0m\u001b[1;33m)\u001b[0m\u001b[1;33m\u001b[0m\u001b[1;33m\u001b[0m\u001b[0m\n\u001b[0m",
            "\u001b[1;31mTypeError\u001b[0m: 'module' object is not callable"
          ]
        }
      ],
      "source": [
        "import tablero           # No entiendo por qué no me permite exportar la función. Cuando corro la función en el .py, me da                                   errores y al correrla en .ipynb funciona.\n",
        "tablero()"
      ]
    },
    {
      "cell_type": "markdown",
      "metadata": {
        "id": "mWAjXNjOUF-W"
      },
      "source": [
        "!['togood'](https://i.pinimg.com/originals/de/f5/2f/def52fe41d695d8feebd2cdc194da929.png)"
      ]
    },
    {
      "cell_type": "code",
      "metadata": {
        "id": "4_0UDKKdUF-W"
      },
      "source": [],
      "execution_count": null,
      "outputs": []
    }
  ]
}