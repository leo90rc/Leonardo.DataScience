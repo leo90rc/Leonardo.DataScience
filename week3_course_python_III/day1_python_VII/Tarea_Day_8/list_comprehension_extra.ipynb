{
  "nbformat": 4,
  "nbformat_minor": 0,
  "metadata": {
    "language_info": {
      "codemirror_mode": {
        "name": "ipython",
        "version": 3
      },
      "file_extension": ".py",
      "mimetype": "text/x-python",
      "name": "python",
      "nbconvert_exporter": "python",
      "pygments_lexer": "ipython3",
      "version": "3.7.4"
    },
    "orig_nbformat": 2,
    "kernelspec": {
      "name": "python374jvsc74a57bd0a0947237fadc8b5561fed326db280cc5ec46a670c87cfb3a0489cf95ff262303",
      "display_name": "Python 3.7.4 64-bit"
    },
    "colab": {
      "name": "list_comprehension_extra.ipynb",
      "provenance": []
    },
    "metadata": {
      "interpreter": {
        "hash": "a0947237fadc8b5561fed326db280cc5ec46a670c87cfb3a0489cf95ff262303"
      }
    }
  },
  "cells": [
    {
      "cell_type": "markdown",
      "metadata": {
        "id": "4iI4YYc_A_6O"
      },
      "source": [
        "# HOW TO FLATTEN A LIST?\n",
        "### with list comprehension\n",
        "\n",
        "https://stackabuse.com/python-how-to-flatten-list-of-lists/"
      ]
    },
    {
      "cell_type": "code",
      "metadata": {
        "id": "NbGA1dvBA_6R"
      },
      "source": [
        "lista_grande = [[[\"Jorgina\",\"Xinru\", \"José\"],[\"Adrià\", \"Leonardo\", \"Miguel\"]],[[\"Mary Cruz\", \"Isabel\"],[\"Karina\", \"Jonathan\", \"Javier\"]],[[\"Daniel\", \"Pablo\", \"Nacho\"],[\"Sonia\", \"Marina\"]],[[\"Mauro\", \"Jorge\"],[\"Juan\", \"Nacho F\"]]]\n",
        "lista_grande"
      ],
      "execution_count": 4,
      "outputs": [
        {
          "output_type": "execute_result",
          "data": {
            "text/plain": [
              "[[['Jorgina', 'Xinru', 'José'], ['Adrià', 'Leonardo', 'Miguel']],\n",
              " [['Mary Cruz', 'Isabel'], ['Karina', 'Jonathan', 'Javier']],\n",
              " [['Daniel', 'Pablo', 'Nacho'], ['Sonia', 'Marina']],\n",
              " [['Mauro', 'Jorge'], ['Juan', 'Nacho F']]]"
            ]
          },
          "metadata": {},
          "execution_count": 4
        }
      ]
    },
    {
      "cell_type": "code",
      "metadata": {
        "colab": {
          "base_uri": "https://localhost:8080/"
        },
        "id": "cEJbiiJRA_6T",
        "outputId": "ab740b60-1e2d-4c87-bbda-e2eaaa2fb859"
      },
      "source": [
        "mi_lista_mediana = [lista_mediana for lista_mediana in lista_grande]\n",
        "# aquí estoy sacando las cuatro listas medianas que hay en la lista grande pero las vuelvo a meter en otra lista que es mi_lista_mediana\n",
        "mi_lista_mediana"
      ],
      "execution_count": 3,
      "outputs": [
        {
          "output_type": "execute_result",
          "data": {
            "text/plain": [
              "[[['Jorgina', 'Xinru', 'José'], ['Adrià', 'Leonardo', 'Miguel']],\n",
              " [['Mary Cruz', 'Isabel'], ['Karina', 'Jonathan', 'Javier']],\n",
              " [['Daniel', 'Pablo', 'Nacho'], ['Sonia', 'Marina']],\n",
              " [['Mauro', 'Jorge'], ['Juan', 'Nacho F']]]"
            ]
          },
          "metadata": {},
          "execution_count": 3
        }
      ]
    },
    {
      "cell_type": "code",
      "execution_count": 5,
      "metadata": {},
      "outputs": [
        {
          "output_type": "execute_result",
          "data": {
            "text/plain": [
              "True"
            ]
          },
          "metadata": {},
          "execution_count": 5
        }
      ],
      "source": [
        "lista_grande == mi_lista_mediana"
      ]
    },
    {
      "cell_type": "code",
      "metadata": {
        "colab": {
          "base_uri": "https://localhost:8080/"
        },
        "id": "1KafYHkyA_6T",
        "outputId": "d08dbdbe-deff-45b0-8e35-243cbbee7814"
      },
      "source": [
        "mi_lista_pequeña = [lista_pequeña for lista_mediana in lista_grande for lista_pequeña in lista_mediana]\n",
        "#aquí estoy sacando las dos listas pequeñas que hay en cada una de las cuatro listas medianas que hay dentro de la lista grande y metiéndolas dentro de mi_lista_pequeña\n",
        "mi_lista_pequeña"
      ],
      "execution_count": null,
      "outputs": [
        {
          "output_type": "execute_result",
          "data": {
            "text/plain": [
              "[['Jorgina', 'Xinru', 'José'],\n",
              " ['Adrià', 'Leonardo', 'Miguel'],\n",
              " ['Mary Cruz', 'Isabel'],\n",
              " ['Karina', 'Jonathan', 'Javier'],\n",
              " ['Daniel', 'Pablo', 'Nacho'],\n",
              " ['Sonia', 'Marina'],\n",
              " ['Mauro', 'Jorge'],\n",
              " ['Juan', 'Nacho F']]"
            ]
          },
          "metadata": {
            "tags": []
          },
          "execution_count": 3
        }
      ]
    },
    {
      "cell_type": "code",
      "metadata": {
        "colab": {
          "base_uri": "https://localhost:8080/"
        },
        "id": "jhoGHLtwA_6U",
        "outputId": "f06e62d2-782c-4c2b-b0b0-acfbbbc2eb30"
      },
      "source": [
        "mi_lista_con_lo_que_quiero = [lo_que_quiero for lista_mediana in lista_grande for lista_pequeña in lista_mediana for lo_que_quiero in lista_pequeña]\n",
        "# aquí saco todos los nombres que están dentro de las dos listas pequeñas que están dentro de las cuatro listas medianas dentro de la lista grande\n",
        "# esto se puede hacer directamente sin los pasos anteriores\n",
        "print(mi_lista_con_lo_que_quiero)"
      ],
      "execution_count": null,
      "outputs": [
        {
          "output_type": "stream",
          "text": [
            "['Jorgina', 'Xinru', 'José', 'Adrià', 'Leonardo', 'Miguel', 'Mary Cruz', 'Isabel', 'Karina', 'Jonathan', 'Javier', 'Daniel', 'Pablo', 'Nacho', 'Sonia', 'Marina', 'Mauro', 'Jorge', 'Juan', 'Nacho F']\n"
          ],
          "name": "stdout"
        }
      ]
    },
    {
      "cell_type": "code",
      "metadata": {
        "colab": {
          "base_uri": "https://localhost:8080/"
        },
        "id": "_uew0kQ4A_6U",
        "outputId": "5d69742a-f3c8-4567-bf37-09a0c2efb307"
      },
      "source": [
        "mi_lista_con_lo_que_quiero_conmigo = [lo_que_quiero+\" y Clara\" for lista_mediana in lista_grande for lista_pequeña in lista_mediana for lo_que_quiero in lista_pequeña]\n",
        "mi_lista_con_lo_que_quiero_conmigo"
      ],
      "execution_count": null,
      "outputs": [
        {
          "output_type": "execute_result",
          "data": {
            "text/plain": [
              "['Jorgina y Clara',\n",
              " 'Xinru y Clara',\n",
              " 'José y Clara',\n",
              " 'Adrià y Clara',\n",
              " 'Leonardo y Clara',\n",
              " 'Miguel y Clara',\n",
              " 'Mary Cruz y Clara',\n",
              " 'Isabel y Clara',\n",
              " 'Karina y Clara',\n",
              " 'Jonathan y Clara',\n",
              " 'Javier y Clara',\n",
              " 'Daniel y Clara',\n",
              " 'Pablo y Clara',\n",
              " 'Nacho y Clara',\n",
              " 'Sonia y Clara',\n",
              " 'Marina y Clara',\n",
              " 'Mauro y Clara',\n",
              " 'Jorge y Clara',\n",
              " 'Juan y Clara',\n",
              " 'Nacho F y Clara']"
            ]
          },
          "metadata": {
            "tags": []
          },
          "execution_count": 5
        }
      ]
    },
    {
      "cell_type": "code",
      "metadata": {
        "id": "L35YHM65A_6V"
      },
      "source": [],
      "execution_count": null,
      "outputs": []
    }
  ]
}