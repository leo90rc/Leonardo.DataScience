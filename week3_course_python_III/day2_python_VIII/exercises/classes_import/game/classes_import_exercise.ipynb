{
 "metadata": {
  "language_info": {
   "codemirror_mode": {
    "name": "ipython",
    "version": 3
   },
   "file_extension": ".py",
   "mimetype": "text/x-python",
   "name": "python",
   "nbconvert_exporter": "python",
   "pygments_lexer": "ipython3",
   "version": "3.7.4"
  },
  "orig_nbformat": 2,
  "kernelspec": {
   "name": "python374jvsc74a57bd0a0947237fadc8b5561fed326db280cc5ec46a670c87cfb3a0489cf95ff262303",
   "display_name": "Python 3.7.4 64-bit"
  },
  "metadata": {
   "interpreter": {
    "hash": "a0947237fadc8b5561fed326db280cc5ec46a670c87cfb3a0489cf95ff262303"
   }
  }
 },
 "nbformat": 4,
 "nbformat_minor": 2,
 "cells": [
  {
   "source": [
    "## 1\n",
    "\n",
    "Crea un archivo 'ClaseHumano.py' en la carpeta 'objects' que contenga una clase:\n",
    "\n",
    "* 'Humano' que tiene:\n",
    "    - Un atributo 'ojos' que por defecto es 2\n",
    "    - Un atributo 'piernas' que por defecto es 2\n",
    "    - Un atributo 'dientes' que por defecto es 32\n",
    "    - Un atributo 'nombre'\n",
    "    - Un atributo 'armadura' \n",
    "    - Un atributo 'nivel' \n",
    "    - Un atributo 'ataque'\n",
    "    - Un atributo 'salud' que por defecto es 100\n",
    "    - Una función  llamada 'atacar' que recibe un argumento 'orco' que representa otra clase ('Orco'). Esta función resta a la vida del 'Orco' el ataque de 'Humano' menos la armadura de 'Orco'. Al final, muestra por pantalla la vida del 'Orco'\n",
    "    - Una función no_vivo que retorna True si la vida del 'Humano' es igual o inferior a 0, False en otro caso.\n",
    "    - Una función que muestre por pantalla todos los atributos actuales de 'Humano' concatenados con un String representando el nombre del atributo que se muestra. Ejemplo: \"Nombre: Ataulfo | dientes: 32 | salud: 100 | ...\"\n",
    "\n",
    "Crea un archivo 'ClaseOrco.py' en la carpeta 'objects' que contenga una clase:\n",
    "\n",
    "* 'Orco' que tiene:\n",
    "    - Un atributo 'ojos' que por defecto es 2\n",
    "    - Un atributo 'piernas' que por defecto es 2\n",
    "    - Un atributo 'dientes' que por defecto es 56\n",
    "    - Un atributo 'nombre'\n",
    "    - Un atributo 'armadura' \n",
    "    - Un atributo 'nivel' \n",
    "    - Un atributo 'ataque'\n",
    "    - Un atributo 'salud' que por defecto es 100\n",
    "    - Una función  llamada 'atacar' que recibe un argumento 'humano' que representa otra clase ('Humano'). Esta función resta a la vida del 'Humano' el ataque de 'Orco' menos la armadura de 'Humano'. Al final, muestra por pantalla la vida del 'Humano'\n",
    "    - Una función no_vivo que retorna True si la vida del 'Orco' es igual o inferior a 0, False en otro caso.\n",
    "    - Una función que muestre por pantalla todos los atributos actuales de 'Orco' concatenados con un String representando el nombre del atributo que se muestra. Ejemplo: \"Nombre: Graug | dientes: 56 | salud: 100 | ...\"   "
   ],
   "cell_type": "markdown",
   "metadata": {}
  },
  {
   "source": [
    "## 2\n",
    "\n",
    "Desde aquí, importa las clases del ejercicio 1 (tendrás que utilizar sys.path para poder importar los archivos/módulos/librerías/ficheros). Crea una instancia de Humano/a y otra de Orco/a:\n",
    "\n",
    "* La clase Humano/a ha de inicializarse con los siguientes valores:\n",
    "    - nombre: tu nombre\n",
    "    - nivel: tu edad\n",
    "    - armadura: un número Entero que sea un décimo de tu nivel redondeado hacia abajo\n",
    "    - ataque: un número Entero que sea un quinto de tu nivel redondeado hacia abajo\n",
    "    - Todo lo demás por defecto.\n",
    "\n",
    "* La clase Orco/a ha de inicializarse con los siguientes valores:\n",
    "    - nombre: el nombre de tu compañero/a\n",
    "    - nivel: su edad\n",
    "    - armadura: un número Entero que sea un quinceavo de su nivel redondeado hacia arriba\n",
    "    - ataque: un número Entero que sea un sexto de su nivel redondeado hacia arriba\n",
    "    - Todo lo demás por defecto.\n"
   ],
   "cell_type": "markdown",
   "metadata": {}
  },
  {
   "cell_type": "code",
   "execution_count": 139,
   "metadata": {},
   "outputs": [],
   "source": [
    "# ESTE ARCHIVO:     week3_course_python_III\\day2_python_VIII\\exercises\\classes_import\\game\\classes_import_exercise.ipynb\n",
    "# ARCHIVO HUMANO:   week3_course_python_III\\day2_python_VIII\\exercises\\classes_import\\objects\\ClaseHumano.py\n",
    "# ARCHIVO ORCO:     week3_course_python_III\\day2_python_VIII\\exercises\\classes_import\\objects\\ClaseOrco.py"
   ]
  },
  {
   "cell_type": "code",
   "execution_count": 140,
   "metadata": {},
   "outputs": [
    {
     "output_type": "execute_result",
     "data": {
      "text/plain": [
       "'c:\\\\Users\\\\LeoFr\\\\Desktop\\\\BootCamp\\\\CARPETAS_profesorYalumno\\\\Leonardo.DataScience\\\\week3_course_python_III\\\\day2_python_VIII\\\\exercises\\\\classes_import\\\\game'"
      ]
     },
     "metadata": {},
     "execution_count": 140
    }
   ],
   "source": [
    "os.getcwd()"
   ]
  },
  {
   "cell_type": "code",
   "execution_count": 141,
   "metadata": {},
   "outputs": [
    {
     "output_type": "stream",
     "name": "stdout",
     "text": [
      "c:\\Users\\LeoFr\\Desktop\\BootCamp\\CARPETAS_profesorYalumno\\Leonardo.DataScience\\week3_course_python_III\\day2_python_VIII\\exercises\\classes_import\n-------\n['c:\\\\Users\\\\LeoFr\\\\Desktop\\\\BootCamp\\\\CARPETAS_profesorYalumno\\\\Leonardo.DataScience\\\\week3_course_python_III\\\\day2_python_VIII\\\\exercises\\\\classes_import\\\\game', 'c:\\\\Users\\\\LeoFr\\\\.vscode\\\\extensions\\\\ms-toolsai.jupyter-2021.5.745244803\\\\pythonFiles', 'c:\\\\Users\\\\LeoFr\\\\.vscode\\\\extensions\\\\ms-toolsai.jupyter-2021.5.745244803\\\\pythonFiles', 'c:\\\\Users\\\\LeoFr\\\\.vscode\\\\extensions\\\\ms-toolsai.jupyter-2021.5.745244803\\\\pythonFiles\\\\lib\\\\python', 'C:\\\\Users\\\\LeoFr\\\\AppData\\\\Local\\\\Programs\\\\Python\\\\Python37\\\\python37.zip', 'C:\\\\Users\\\\LeoFr\\\\AppData\\\\Local\\\\Programs\\\\Python\\\\Python37\\\\DLLs', 'C:\\\\Users\\\\LeoFr\\\\AppData\\\\Local\\\\Programs\\\\Python\\\\Python37\\\\lib', 'C:\\\\Users\\\\LeoFr\\\\AppData\\\\Local\\\\Programs\\\\Python\\\\Python37', '', 'C:\\\\Users\\\\LeoFr\\\\AppData\\\\Roaming\\\\Python\\\\Python37\\\\site-packages', 'C:\\\\Users\\\\LeoFr\\\\AppData\\\\Roaming\\\\Python\\\\Python37\\\\site-packages\\\\win32', 'C:\\\\Users\\\\LeoFr\\\\AppData\\\\Roaming\\\\Python\\\\Python37\\\\site-packages\\\\win32\\\\lib', 'C:\\\\Users\\\\LeoFr\\\\AppData\\\\Roaming\\\\Python\\\\Python37\\\\site-packages\\\\Pythonwin', 'C:\\\\Users\\\\LeoFr\\\\AppData\\\\Local\\\\Programs\\\\Python\\\\Python37\\\\lib\\\\site-packages', 'C:\\\\Users\\\\LeoFr\\\\AppData\\\\Roaming\\\\Python\\\\Python37\\\\site-packages\\\\IPython\\\\extensions', 'C:\\\\Users\\\\LeoFr\\\\.ipython', 'c:\\\\Users\\\\LeoFr\\\\Desktop\\\\BootCamp\\\\CARPETAS_profesorYalumno\\\\Leonardo.DataScience\\\\week3_course_python_III\\\\day2_python_VIII\\\\exercises\\\\classes_import', 'c:\\\\Users\\\\LeoFr\\\\Desktop\\\\BootCamp\\\\CARPETAS_profesorYalumno\\\\Leonardo.DataScience\\\\week3_course_python_III\\\\day2_python_VIII\\\\exercises\\\\classes_import', 'c:\\\\Users\\\\LeoFr\\\\Desktop\\\\BootCamp\\\\CARPETAS_profesorYalumno\\\\Leonardo.DataScience\\\\week3_course_python_III\\\\day2_python_VIII\\\\exercises\\\\classes_import', 'c:\\\\Users\\\\LeoFr\\\\Desktop\\\\BootCamp\\\\CARPETAS_profesorYalumno\\\\Leonardo.DataScience\\\\week3_course_python_III\\\\day2_python_VIII\\\\exercises\\\\classes_import', 'c:\\\\Users\\\\LeoFr\\\\Desktop\\\\BootCamp\\\\CARPETAS_profesorYalumno\\\\Leonardo.DataScience\\\\week3_course_python_III\\\\day2_python_VIII\\\\exercises\\\\classes_import', 'c:\\\\Users\\\\LeoFr\\\\Desktop\\\\BootCamp\\\\CARPETAS_profesorYalumno\\\\Leonardo.DataScience\\\\week3_course_python_III\\\\day2_python_VIII\\\\exercises\\\\classes_import', 'c:\\\\Users\\\\LeoFr\\\\Desktop\\\\BootCamp\\\\CARPETAS_profesorYalumno\\\\Leonardo.DataScience\\\\week3_course_python_III\\\\day2_python_VIII\\\\exercises\\\\classes_import', 'c:\\\\Users\\\\LeoFr\\\\Desktop\\\\BootCamp\\\\CARPETAS_profesorYalumno\\\\Leonardo.DataScience\\\\week3_course_python_III\\\\day2_python_VIII\\\\exercises\\\\classes_import', 'c:\\\\Users\\\\LeoFr\\\\Desktop\\\\BootCamp\\\\CARPETAS_profesorYalumno\\\\Leonardo.DataScience\\\\week3_course_python_III\\\\day2_python_VIII\\\\exercises\\\\classes_import', 'c:\\\\Users\\\\LeoFr\\\\Desktop\\\\BootCamp\\\\CARPETAS_profesorYalumno\\\\Leonardo.DataScience\\\\week3_course_python_III\\\\day2_python_VIII\\\\exercises\\\\classes_import', 'c:\\\\Users\\\\LeoFr\\\\Desktop\\\\BootCamp\\\\CARPETAS_profesorYalumno\\\\Leonardo.DataScience\\\\week3_course_python_III\\\\day2_python_VIII\\\\exercises\\\\classes_import', 'c:\\\\Users\\\\LeoFr\\\\Desktop\\\\BootCamp\\\\CARPETAS_profesorYalumno\\\\Leonardo.DataScience\\\\week3_course_python_III\\\\day2_python_VIII\\\\exercises\\\\classes_import', 'c:\\\\Users\\\\LeoFr\\\\Desktop\\\\BootCamp\\\\CARPETAS_profesorYalumno\\\\Leonardo.DataScience\\\\week3_course_python_III\\\\day2_python_VIII\\\\exercises\\\\classes_import', 'c:\\\\Users\\\\LeoFr\\\\Desktop\\\\BootCamp\\\\CARPETAS_profesorYalumno\\\\Leonardo.DataScience\\\\week3_course_python_III\\\\day2_python_VIII\\\\exercises\\\\classes_import']\n"
     ]
    }
   ],
   "source": [
    "ruta = os.getcwd()\n",
    "for i in range(1):\n",
    "    ruta = os.path.dirname(ruta)\n",
    "print(ruta)\n",
    "print('-------')\n",
    "sys.path.append(ruta)\n",
    "print(sys.path)"
   ]
  },
  {
   "cell_type": "code",
   "execution_count": 142,
   "metadata": {},
   "outputs": [],
   "source": [
    "import objects.ClaseHumano as ch\n",
    "import objects.ClaseOrco as co\n",
    "import math"
   ]
  },
  {
   "cell_type": "code",
   "execution_count": 143,
   "metadata": {},
   "outputs": [],
   "source": [
    "# Tu código aquí\n",
    "leo = ch.Humano(nombre = 'Leonardo', nivel = 31, armadura = 31//10, ataque = 31//5)"
   ]
  },
  {
   "cell_type": "code",
   "execution_count": 144,
   "metadata": {},
   "outputs": [
    {
     "output_type": "stream",
     "name": "stdout",
     "text": [
      "Nombre: Leonardo \nArmadura: 3 \nNivel: 31 \nAtaque: 6 \nOjos: 2 \nPiernas: 2 \nDientes: 32 \nSalud: 30\n"
     ]
    }
   ],
   "source": [
    "leo.atributos_humano()"
   ]
  },
  {
   "cell_type": "code",
   "execution_count": 145,
   "metadata": {},
   "outputs": [],
   "source": [
    "nacho = co.Orco(nombre = 'Fontalito', nivel = 35, armadura = math.ceil(35/15), ataque = math.ceil(35/6)) # math.ceil redondea hacia arriba"
   ]
  },
  {
   "cell_type": "code",
   "execution_count": 146,
   "metadata": {},
   "outputs": [
    {
     "output_type": "stream",
     "name": "stdout",
     "text": [
      "Nombre: Fontalito \nArmadura: 3 \nNivel: 35 \nAtaque: 7 \nOjos: 2 \nPiernas: 2 \nDientes: 56 \nSalud: 30\n"
     ]
    }
   ],
   "source": [
    "nacho.atributos_orco()"
   ]
  },
  {
   "source": [
    "## 3\n",
    "\n",
    "Crea un bucle infinito que espere en cada turno(Iteración) 1 segundo. Para ello has de utilizar la función 'sleep(1)' de la librería time. En cada uno de los turnos debe ocurrir lo siguiente:\n",
    "\n",
    "- Que se muestre por pantalla el número del turno que se lleva empezando desde 1.  \n",
    "- Que se ataquen las instancias. Para ello, has de llamar a la función 'atacar' de cada una de las instancias.\n",
    "- Comprobar si una instancia no está viva con la función correspondiente. Si una instancia no está viva, mostrar por pantalla que una de ellas ha perdido y la otra ha ganado. Terminar el juego aquí.\n",
    "- Mostrar al finalizar el turno una barra divisoria para diferenciar un turno del siguiente.\n",
    "\n",
    "Hay que tener en cuenta: \n",
    "\n",
    "- Una instancia no puede atacar a la otra si no está viva.\n",
    "- Empieza primero la instancia que tiene menos nivel."
   ],
   "cell_type": "markdown",
   "metadata": {}
  },
  {
   "cell_type": "code",
   "execution_count": 147,
   "metadata": {},
   "outputs": [],
   "source": [
    "# Tu código aquí\n",
    "import time"
   ]
  },
  {
   "cell_type": "code",
   "execution_count": 148,
   "metadata": {},
   "outputs": [
    {
     "output_type": "stream",
     "name": "stdout",
     "text": [
      "Turno:  1\n",
      "Leo atacó a Nacho - Salud Nacho:  27\n",
      "Nacho atacó a Leo - Salud Leo:  26\n",
      "----------------------------------------------------------\n",
      "Turno:  2\n",
      "Leo atacó a Nacho - Salud Nacho:  24\n",
      "Nacho atacó a Leo - Salud Leo:  22\n",
      "----------------------------------------------------------\n",
      "Turno:  3\n",
      "Leo atacó a Nacho - Salud Nacho:  21\n",
      "Nacho atacó a Leo - Salud Leo:  18\n",
      "----------------------------------------------------------\n",
      "Turno:  4\n",
      "Leo atacó a Nacho - Salud Nacho:  18\n",
      "Nacho atacó a Leo - Salud Leo:  14\n",
      "----------------------------------------------------------\n",
      "Turno:  5\n",
      "Leo atacó a Nacho - Salud Nacho:  15\n",
      "Nacho atacó a Leo - Salud Leo:  10\n",
      "----------------------------------------------------------\n",
      "Turno:  6\n",
      "Leo atacó a Nacho - Salud Nacho:  12\n",
      "Nacho atacó a Leo - Salud Leo:  6\n",
      "----------------------------------------------------------\n",
      "Turno:  7\n",
      "Leo atacó a Nacho - Salud Nacho:  9\n",
      "Nacho atacó a Leo - Salud Leo:  2\n",
      "----------------------------------------------------------\n",
      "Turno:  8\n",
      "Leo atacó a Nacho - Salud Nacho:  6\n",
      "Nacho atacó a Leo - Salud Leo:  -2\n",
      "----------------------------------------------------------\n",
      "LEO murió - NACHO gana. ------------------------------------> Nivel LEO menor\n"
     ]
    }
   ],
   "source": [
    "numero_turno = 1\n",
    "while True:\n",
    "    time.sleep(1)\n",
    "    print('Turno: ',numero_turno)\n",
    "    if leo.nivel <= nacho.nivel:\n",
    "        leo.atacar(nacho)\n",
    "        time.sleep(1)\n",
    "        print('Leo atacó a Nacho - Salud Nacho: ', nacho.salud)\n",
    "        if nacho.salud <= 0:\n",
    "            time.sleep(1)\n",
    "            print('----------------------------------------------------------')\n",
    "            time.sleep(1)\n",
    "            print('NACHO murió - LEO gana. -----------------------------------> Nivel LEO menor')\n",
    "            break\n",
    "        else:\n",
    "            nacho.atacar(leo)\n",
    "            time.sleep(1)\n",
    "            print('Nacho atacó a Leo - Salud Leo: ', leo.salud)\n",
    "        if leo.salud <= 0:\n",
    "            time.sleep(1)\n",
    "            print('----------------------------------------------------------')\n",
    "            time.sleep(1)\n",
    "            print('LEO murió - NACHO gana. ------------------------------------> Nivel LEO menor')\n",
    "            break\n",
    "        else:\n",
    "            numero_turno += 1\n",
    "            time.sleep(1)\n",
    "            print('----------------------------------------------------------')\n",
    "    else:\n",
    "        nacho.atacar(leo)\n",
    "        time.sleep(1)\n",
    "        print('Nacho atacó a Leo - Salud Leo: ', leo.salud)\n",
    "        if leo.salud <= 0:\n",
    "            time.sleep(1)\n",
    "            print('----------------------------------------------------------')\n",
    "            time.sleep(1)\n",
    "            print('LEO murió - NACHO gana. ------------------------------------> Nivel NACHO menor' )\n",
    "            break\n",
    "        else:\n",
    "            leo.atacar(nacho)\n",
    "            time.sleep(1)\n",
    "            print('Leo atacó a Nacho - Salud Nacho: ', nacho.salud)\n",
    "            if nacho.salud <= 0:\n",
    "                time.sleep(1)\n",
    "                print('----------------------------------------------------------')\n",
    "                time.sleep(1)\n",
    "                print('NACHO murió - LEO gana. ------------------------------------> Nivel NACHO menor')\n",
    "                break\n",
    "            else:\n",
    "                numero_turno += 1\n",
    "                time.sleep(1)\n",
    "                print('----------------------------------------------------------')\n",
    "\n",
    "\n"
   ]
  },
  {
   "cell_type": "code",
   "execution_count": null,
   "metadata": {},
   "outputs": [],
   "source": []
  }
 ]
}