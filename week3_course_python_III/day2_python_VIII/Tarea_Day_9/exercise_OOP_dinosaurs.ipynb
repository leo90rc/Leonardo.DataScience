{
  "nbformat": 4,
  "nbformat_minor": 0,
  "metadata": {
    "colab": {
      "name": "exercise_OOP_dinosaurs.ipynb",
      "provenance": []
    },
    "kernelspec": {
      "name": "python374jvsc74a57bd0a0947237fadc8b5561fed326db280cc5ec46a670c87cfb3a0489cf95ff262303",
      "display_name": "Python 3.7.4 64-bit"
    },
    "language_info": {
      "codemirror_mode": {
        "name": "ipython",
        "version": 3
      },
      "file_extension": ".py",
      "mimetype": "text/x-python",
      "name": "python",
      "nbconvert_exporter": "python",
      "pygments_lexer": "ipython3",
      "version": "3.7.4"
    },
    "metadata": {
      "interpreter": {
        "hash": "a0947237fadc8b5561fed326db280cc5ec46a670c87cfb3a0489cf95ff262303"
      }
    }
  },
  "cells": [
    {
      "cell_type": "markdown",
      "metadata": {
        "id": "BuQ4CAHwm9h5"
      },
      "source": [
        "# Python | object oriented programming"
      ]
    },
    {
      "cell_type": "markdown",
      "metadata": {
        "id": "FxPBIJLgm9iA"
      },
      "source": [
        "#### ¡Practice what you already know and keep learning!"
      ]
    },
    {
      "cell_type": "markdown",
      "metadata": {
        "id": "mk5uo_y1m9iB"
      },
      "source": [
        "![\"con_clase\"](https://cdn.ttgtmedia.com/rms/onlineimages/whatis-object_oriented_programming_half_column_mobile.png)"
      ]
    },
    {
      "cell_type": "markdown",
      "metadata": {
        "id": "I8XXMNCmm9iC"
      },
      "source": [
        "https://realpython.com/python3-object-oriented-programming/"
      ]
    },
    {
      "cell_type": "markdown",
      "metadata": {
        "id": "IvEq9-fkm9iD"
      },
      "source": [
        "## Exercise 1. "
      ]
    },
    {
      "cell_type": "markdown",
      "metadata": {
        "id": "1ZuDAWtPm9iE"
      },
      "source": [
        "A friend of yours have asked you to define a class so they can use it at the Natural History Museum in London in order to describe dinosaurs. \n",
        "\n",
        "Since you have no idea about dinosaurs he has given you a couple of instructions:\n",
        "\n",
        "   - Dinosaurs have four attributes all along the whole kind:\n",
        "        - They all have teeth, although every one of them have a different number of those\n",
        "        - Special skills which will be an empty list \n",
        "        - He finds interesting to specify if they are dangerous with a boolean, he also told you to set it False since usually they are very nice \n",
        "        - All of them have an only head\n",
        "        \n",
        "        \n",
        "   - Define also a couple of methods:\n",
        "   \n",
        "       - `many_teeth` --> number of teeth gives you a clue of how old the dinosaurs are, that's why it could be interesting to be able to change the number of teeth they have.\n",
        "       - `add_skill` --> this method add skills to each dinosaurs instance. \n",
        "       - `is_dangerous` --> not all of the dinosaurs are nice, some of them are a little bit dangerous and could attacks you, with this method you should be able to change the boolean set. Make sure, using `if`, the argument is always a boolean, if not print something like \"Remember you should give a boolean, True or False?\"\n"
      ]
    },
    {
      "cell_type": "code",
      "metadata": {
        "id": "vO98GInMm9iG"
      },
      "source": [
        "# define a class Dinosaur\n",
        "class Dinosaur():\n",
        "    def __init__(self, dientes, habilidades=[], peligroso=False, cabezas=1):\n",
        "        \n",
        "        self.dientes = dientes\n",
        "        self.habilidades = habilidades\n",
        "        self.peligroso = peligroso\n",
        "        self.cabezas = cabezas\n",
        "\n",
        "    def many_teeth(self, nuevos_dientes):\n",
        "        self.dientes = nuevos_dientes\n",
        "\n",
        "    def add_skill(self,nueva_habilidad):\n",
        "        self.habilidades.append(nueva_habilidad)\n",
        "\n",
        "    def is_dangerous(self, danger):\n",
        "        if danger != True and danger != False:\n",
        "            print('Recuerda ingresar True or False')\n",
        "        else:\n",
        "            self.peligroso = danger\n",
        "        \n",
        "        \n",
        "\n",
        "    def mostrar_atributos(self):\n",
        "            print('Dientes: ' + str(self.dientes))\n",
        "            print('Habilidadas: ' + str(self.habilidades))\n",
        "            print('Peligroso: ' + str(self.peligroso))\n",
        "            print('Cabezas: ' + str(self.cabezas))\n",
        "\n",
        "           "
      ],
      "execution_count": 28,
      "outputs": []
    },
    {
      "cell_type": "markdown",
      "metadata": {
        "id": "2bdz2TUBm9iG"
      },
      "source": [
        "Once you have the class Dinosaur and its methods defined, create an instance **tyrannosaurus**. Your friend has told you that Tyrannosaurus rex had 50 to 60 solid cone-shaped teeth as big as bananas. Set the number of teeth as 60 since you will have the opportunity of changing it later using the method `many_teeth`. "
      ]
    },
    {
      "cell_type": "code",
      "metadata": {
        "id": "5jH0onglm9iH"
      },
      "source": [
        "# create an Tyrannosaurus rex with 60 teeth\n",
        "tyrannosaurus = Dinosaur(dientes=60)\n",
        "print(tyrannosaurus.dientes)\n",
        "tyrannosaurus.mostrar_atributos()"
      ],
      "execution_count": 30,
      "outputs": [
        {
          "output_type": "stream",
          "name": "stdout",
          "text": [
            "60\nDientes: 60\nHabilidadas: []\nPeligroso: False\nCabezas: 1\n"
          ]
        }
      ]
    },
    {
      "cell_type": "markdown",
      "metadata": {
        "id": "AYggIHH3m9iH"
      },
      "source": [
        "Tyrannosaurus rex are the most dangerous dinosaurs so please, use the method `is_dangerous` with the argument \"yes, it is dangerous\", to set this up. It should return a message telling you to give a boolean, True or False, instead of the string you used as argument. "
      ]
    },
    {
      "cell_type": "code",
      "metadata": {
        "id": "AAGTApnZm9iH"
      },
      "source": [
        "# call is_dangerous method saying \"yes, it is dangerous\"\n",
        "tyrannosaurus.is_dangerous(\"yes, it is dangerous\")\n",
        "print(tyrannosaurus.peligroso)"
      ],
      "execution_count": 3,
      "outputs": [
        {
          "output_type": "stream",
          "name": "stdout",
          "text": [
            "Recuerda ingresar True or False\nFalse\n"
          ]
        }
      ]
    },
    {
      "cell_type": "markdown",
      "metadata": {
        "id": "2fVZ77J-m9iI"
      },
      "source": [
        "Good try! But you need to set this with a boolean. Since tyrannosaurus rex are dangerous give True as an argument to the method `is_dangerous`."
      ]
    },
    {
      "cell_type": "code",
      "metadata": {
        "id": "zmsAIyp6m9iI"
      },
      "source": [
        "# call is_dangerous method with True as an argument\n",
        "tyrannosaurus.is_dangerous(True)\n",
        "print(tyrannosaurus.peligroso)"
      ],
      "execution_count": 4,
      "outputs": [
        {
          "output_type": "stream",
          "name": "stdout",
          "text": [
            "True\n"
          ]
        }
      ]
    },
    {
      "cell_type": "markdown",
      "metadata": {
        "id": "sKf-Ear1m9iI"
      },
      "source": [
        "Set \"lethality\" as an special skill of the tyrannosaurus rex using the `add_skill` method. "
      ]
    },
    {
      "cell_type": "code",
      "metadata": {
        "id": "G53h3xq6m9iI"
      },
      "source": [
        "# give lethality as an argument to the method add_skill\n",
        "tyrannosaurus.add_skill('lethality')\n",
        "tyrannosaurus.habilidades"
      ],
      "execution_count": 5,
      "outputs": [
        {
          "output_type": "execute_result",
          "data": {
            "text/plain": [
              "['lethality']"
            ]
          },
          "metadata": {},
          "execution_count": 5
        }
      ]
    },
    {
      "cell_type": "markdown",
      "metadata": {
        "id": "eSbRsbgLm9iJ"
      },
      "source": [
        "Show its `special_skill` to make sure you add the skill as expected."
      ]
    },
    {
      "cell_type": "code",
      "metadata": {
        "id": "0Ae44O1Gm9iJ"
      },
      "source": [
        "# show its special_skill \n",
        "tyrannosaurus.habilidades"
      ],
      "execution_count": 6,
      "outputs": [
        {
          "output_type": "execute_result",
          "data": {
            "text/plain": [
              "['lethality']"
            ]
          },
          "metadata": {},
          "execution_count": 6
        }
      ]
    },
    {
      "cell_type": "markdown",
      "metadata": {
        "id": "fBytzaNfm9iK"
      },
      "source": [
        "If you could add \"lethality\" to the tyrannosaurus special skills, let's try now adding \"strength\"."
      ]
    },
    {
      "cell_type": "code",
      "metadata": {
        "id": "ctA3qtr6m9iK"
      },
      "source": [
        "# add strength to the list of special_skill\n",
        "tyrannosaurus.add_skill('strength')\n",
        "tyrannosaurus.habilidades"
      ],
      "execution_count": 7,
      "outputs": [
        {
          "output_type": "execute_result",
          "data": {
            "text/plain": [
              "['lethality', 'strength']"
            ]
          },
          "metadata": {},
          "execution_count": 7
        }
      ]
    },
    {
      "cell_type": "markdown",
      "metadata": {
        "id": "qz5Nw6cEm9iK"
      },
      "source": [
        "Now, you know a lot about tyrannosaurus rex and found out the most of them lose some teeth due to their diet during their life, so 50 teeth should be more realistic. Use `many_teeth` method. "
      ]
    },
    {
      "cell_type": "code",
      "metadata": {
        "id": "z1bdi52Im9iK"
      },
      "source": [
        "# set 50 teeth as the number of teeth\n",
        "tyrannosaurus.many_teeth(50)\n",
        "print(tyrannosaurus.dientes)\n",
        "tyrannosaurus.mostrar_atributos()\n"
      ],
      "execution_count": 8,
      "outputs": [
        {
          "output_type": "stream",
          "name": "stdout",
          "text": [
            "50\nDientes: 50\nHabilidadas: ['lethality', 'strength']\nPeligroso: True\nCabezas: 1\n"
          ]
        }
      ]
    },
    {
      "cell_type": "markdown",
      "metadata": {
        "id": "o-7Bad0um9iL"
      },
      "source": [
        "Show the tyrannosaurus rex's attributes defining a dictionary called `tyrannosaurus_data`. The keys should be the attributes: `teeth`, `danger`, `head`, `special_skill`, and the values those given to the attributes during the exercise.\n",
        "\n",
        "*Hint: You could solve this exercise using a function. Try google.* "
      ]
    },
    {
      "cell_type": "code",
      "metadata": {
        "id": "WOF38DGwm9iL"
      },
      "source": [
        "# create the tyrannosaurus_data dictionary\n",
        "tyrannosaurus.mostrar_atributos()\n",
        "tyrannosaurus_data = tyrannosaurus.__dict__\n",
        "tyrannosaurus_data"
      ],
      "execution_count": 10,
      "outputs": [
        {
          "output_type": "stream",
          "name": "stdout",
          "text": [
            "Dientes: 50\nHabilidadas: ['lethality', 'strength']\nPeligroso: True\nCabezas: 1\n"
          ]
        },
        {
          "output_type": "execute_result",
          "data": {
            "text/plain": [
              "{'dientes': 50,\n",
              " 'habilidades': ['lethality', 'strength'],\n",
              " 'peligroso': True,\n",
              " 'cabezas': 1}"
            ]
          },
          "metadata": {},
          "execution_count": 10
        }
      ]
    },
    {
      "cell_type": "markdown",
      "metadata": {
        "id": "lBjvGXe6m9iL"
      },
      "source": [
        "Try to define a function named `if_danger` which check if **Dinosaur** is dangerous and if it is, then return something like \"RUN FOR YOUR LIFE, THIS GUY IS HUNGRY AND EAT PEOPLE\", in case the dinosaur isn't dangerous return \"all good, nothing to fear\".\n",
        "\n",
        "Call the function using as an argument the attribute `danger` of the **tyrannosaurus**."
      ]
    },
    {
      "cell_type": "code",
      "metadata": {
        "id": "xpvjjRpsm9iL"
      },
      "source": [
        "# define if_danger with one parameter\n",
        "def if_danger(mi_dinosaurio):\n",
        "    if mi_dinosaurio.peligroso == True:\n",
        "        print('CORRE')\n",
        "    else:\n",
        "        print('No tengas miedo')\n"
      ],
      "execution_count": 20,
      "outputs": []
    },
    {
      "cell_type": "code",
      "metadata": {
        "id": "HUoNuOwkm9iM"
      },
      "source": [
        "# invoked the if_danger function\n",
        "if_danger(tyrannosaurus)"
      ],
      "execution_count": 21,
      "outputs": [
        {
          "output_type": "stream",
          "name": "stdout",
          "text": [
            "CORRE\n"
          ]
        }
      ]
    },
    {
      "cell_type": "markdown",
      "metadata": {
        "id": "MBfcWvBWm9iM"
      },
      "source": [
        "## Bonus Track."
      ]
    },
    {
      "cell_type": "markdown",
      "metadata": {
        "id": "drkpY5I0m9iM"
      },
      "source": [
        "A company is opening a bank, but the coder who is designing the user class made some errors. They need you to help them.\n",
        "\n",
        "You must include the following:\n",
        "\n",
        "**A withdraw method**\n",
        "- Subtracts money from balance\n",
        "- One parameter, money to withdraw\n",
        "- Raise ValueError if there isn't enough money to withdraw\n",
        "- Return a string with name and balence(see examples)\n",
        "\n",
        "**A check method**\n",
        "- Adds money to baleance\n",
        "- Two parameters, other user and money\n",
        "- Other user will always be valid\n",
        "- Raise a ValueError if other user doesn't have enough money\n",
        "- Raise a ValueError if checking_account isn't true for other user\n",
        "- Return a string with name and balance plus other name and other balance(see examples)\n",
        "\n",
        "**An add_cash method**\n",
        "- Adds money to balance\n",
        "- One parameter, money to add\n",
        "- Return a string with name and balance(see examples)\n",
        "\n",
        "**Additional Notes:**\n",
        "\n",
        "- Checking_account should be stored as a boolean\n",
        "- No input numbers will be negitive\n",
        "- Output must end with period\n",
        "- Float numbers will not be used so, balance should be integer\n",
        "- No currency will be used"
      ]
    },
    {
      "cell_type": "markdown",
      "metadata": {
        "id": "tx13w3brm9iN"
      },
      "source": [
        "KATA --> https://www.codewars.com/kata/5a03af9606d5b65ff7000009"
      ]
    },
    {
      "cell_type": "markdown",
      "metadata": {
        "id": "36JztU-im9iN"
      },
      "source": [
        "**If you dare trying to solve this problem, you'll need this:** https://www.w3schools.com/python/gloss_python_raise.asp"
      ]
    },
    {
      "cell_type": "code",
      "metadata": {
        "id": "qCnnlCJgm9iN"
      },
      "source": [
        "#your code here\n",
        "class User():\n",
        "    def __init__(self, name, balance, checking_account = True):\n",
        "\n",
        "        self.name = name\n",
        "        self.balance = balance\n",
        "        self.checking_account = checking_account\n",
        "\n",
        "    def withdraw(self, money_withdraw):\n",
        "        if self.balance < money_withdraw:\n",
        "            raise ValueError (\"No hay suficiente dinero para extraer la cantidad solicitada.\")\n",
        "        self.balance = self.balance - money_withdraw\n",
        "        return print(str(self.name) + ' ahora tiene ' + str(self.balance) + '.')\n",
        "\n",
        "    \n",
        "    def check(self, other_user, money_recive):\n",
        "        if other_user.checking_account is False:\n",
        "            raise ValueError (other_user.name + ' no tiene checking account.')\n",
        "        if other_user.balance < money_recive:\n",
        "            raise ValueError (other_user.name + ' no tiene suficiente dinero en su cuenta.')\n",
        "        self.balance = self.balance + money_recive\n",
        "        other_user.balance = other_user.balance - money_recive\n",
        "        return print(self.name + ' tiene ' + str(self.balance) + ' y ' +  other_user.name + ' tiene ' + str(other_user.balance) + '.')\n",
        "\n",
        "    def add_cash(self, money_add):\n",
        "        self.balance = self.balance + money_add\n",
        "        return print(self.name + ' tiene ' + str(self.balance) + '.')\n",
        "\n",
        "    def ver_atributos(self):\n",
        "        print('Nombre: ' + self.name)\n",
        "        print('Balance: ' + str(self.balance))\n",
        "        print('Checking account: ' + str(self.checking_account))\n",
        "\n",
        "        "
      ],
      "execution_count": 79,
      "outputs": []
    },
    {
      "cell_type": "code",
      "execution_count": 81,
      "metadata": {},
      "outputs": [],
      "source": [
        "Leo = User(name = 'Leonardo', balance = 3000)\n",
        "Nacho = User(name = 'Fontalito', balance = 100, checking_account = False)\n",
        "Mechi = User(name = 'Mercedes', balance = 1500, checking_account = True)"
      ]
    },
    {
      "cell_type": "code",
      "execution_count": 82,
      "metadata": {},
      "outputs": [
        {
          "output_type": "stream",
          "name": "stdout",
          "text": [
            "Fontalito tiene 150 y Leonardo tiene 2950.\n"
          ]
        }
      ],
      "source": [
        "Nacho.check(Leo, 50)"
      ]
    },
    {
      "cell_type": "code",
      "execution_count": 84,
      "metadata": {},
      "outputs": [
        {
          "output_type": "error",
          "ename": "ValueError",
          "evalue": "Leonardo no tiene suficiente dinero en su cuenta.",
          "traceback": [
            "\u001b[1;31m---------------------------------------------------------------------------\u001b[0m",
            "\u001b[1;31mValueError\u001b[0m                                Traceback (most recent call last)",
            "\u001b[1;32m<ipython-input-84-555d0ad2d494>\u001b[0m in \u001b[0;36m<module>\u001b[1;34m\u001b[0m\n\u001b[1;32m----> 1\u001b[1;33m \u001b[0mNacho\u001b[0m\u001b[1;33m.\u001b[0m\u001b[0mcheck\u001b[0m\u001b[1;33m(\u001b[0m\u001b[0mLeo\u001b[0m\u001b[1;33m,\u001b[0m\u001b[1;36m3000\u001b[0m\u001b[1;33m)\u001b[0m\u001b[1;33m\u001b[0m\u001b[1;33m\u001b[0m\u001b[0m\n\u001b[0m",
            "\u001b[1;32m<ipython-input-79-84b63487c155>\u001b[0m in \u001b[0;36mcheck\u001b[1;34m(self, other_user, money_recive)\u001b[0m\n\u001b[0;32m     18\u001b[0m             \u001b[1;32mraise\u001b[0m \u001b[0mValueError\u001b[0m \u001b[1;33m(\u001b[0m\u001b[0mother_user\u001b[0m\u001b[1;33m.\u001b[0m\u001b[0mname\u001b[0m \u001b[1;33m+\u001b[0m \u001b[1;34m' no tiene checking account.'\u001b[0m\u001b[1;33m)\u001b[0m\u001b[1;33m\u001b[0m\u001b[1;33m\u001b[0m\u001b[0m\n\u001b[0;32m     19\u001b[0m         \u001b[1;32mif\u001b[0m \u001b[0mother_user\u001b[0m\u001b[1;33m.\u001b[0m\u001b[0mbalance\u001b[0m \u001b[1;33m<\u001b[0m \u001b[0mmoney_recive\u001b[0m\u001b[1;33m:\u001b[0m\u001b[1;33m\u001b[0m\u001b[1;33m\u001b[0m\u001b[0m\n\u001b[1;32m---> 20\u001b[1;33m             \u001b[1;32mraise\u001b[0m \u001b[0mValueError\u001b[0m \u001b[1;33m(\u001b[0m\u001b[0mother_user\u001b[0m\u001b[1;33m.\u001b[0m\u001b[0mname\u001b[0m \u001b[1;33m+\u001b[0m \u001b[1;34m' no tiene suficiente dinero en su cuenta.'\u001b[0m\u001b[1;33m)\u001b[0m\u001b[1;33m\u001b[0m\u001b[1;33m\u001b[0m\u001b[0m\n\u001b[0m\u001b[0;32m     21\u001b[0m         \u001b[0mself\u001b[0m\u001b[1;33m.\u001b[0m\u001b[0mbalance\u001b[0m \u001b[1;33m=\u001b[0m \u001b[0mself\u001b[0m\u001b[1;33m.\u001b[0m\u001b[0mbalance\u001b[0m \u001b[1;33m+\u001b[0m \u001b[0mmoney_recive\u001b[0m\u001b[1;33m\u001b[0m\u001b[1;33m\u001b[0m\u001b[0m\n\u001b[0;32m     22\u001b[0m         \u001b[0mother_user\u001b[0m\u001b[1;33m.\u001b[0m\u001b[0mbalance\u001b[0m \u001b[1;33m=\u001b[0m \u001b[0mother_user\u001b[0m\u001b[1;33m.\u001b[0m\u001b[0mbalance\u001b[0m \u001b[1;33m-\u001b[0m \u001b[0mmoney_recive\u001b[0m\u001b[1;33m\u001b[0m\u001b[1;33m\u001b[0m\u001b[0m\n",
            "\u001b[1;31mValueError\u001b[0m: Leonardo no tiene suficiente dinero en su cuenta."
          ]
        }
      ],
      "source": [
        "Nacho.check(Leo,3000)"
      ]
    },
    {
      "cell_type": "code",
      "execution_count": 70,
      "metadata": {},
      "outputs": [
        {
          "output_type": "stream",
          "name": "stdout",
          "text": [
            "Nombre: Leonardo\nBalance: 3100\nChecking account: True\n----------------\nNombre: Mercedes\nBalance: 1400\nChecking account: True\n"
          ]
        }
      ],
      "source": [
        "Leo.ver_atributos()\n",
        "print('----------------')\n",
        "Mechi.ver_atributos()\n"
      ]
    },
    {
      "cell_type": "code",
      "execution_count": 71,
      "metadata": {},
      "outputs": [
        {
          "output_type": "error",
          "ename": "ValueError",
          "evalue": "Leonardo no tiene suficiente dinero en su cuenta.",
          "traceback": [
            "\u001b[1;31m---------------------------------------------------------------------------\u001b[0m",
            "\u001b[1;31mValueError\u001b[0m                                Traceback (most recent call last)",
            "\u001b[1;32m<ipython-input-71-a3a920ea3f7b>\u001b[0m in \u001b[0;36m<module>\u001b[1;34m\u001b[0m\n\u001b[1;32m----> 1\u001b[1;33m \u001b[0mMechi\u001b[0m\u001b[1;33m.\u001b[0m\u001b[0mcheck\u001b[0m\u001b[1;33m(\u001b[0m\u001b[0mLeo\u001b[0m\u001b[1;33m,\u001b[0m\u001b[1;36m3200\u001b[0m\u001b[1;33m)\u001b[0m\u001b[1;33m\u001b[0m\u001b[1;33m\u001b[0m\u001b[0m\n\u001b[0m",
            "\u001b[1;32m<ipython-input-67-424ca423950b>\u001b[0m in \u001b[0;36mcheck\u001b[1;34m(self, other_user, money_recive)\u001b[0m\n\u001b[0;32m     18\u001b[0m             \u001b[1;32mraise\u001b[0m \u001b[0mValueError\u001b[0m \u001b[1;33m(\u001b[0m\u001b[0mother_user\u001b[0m\u001b[1;33m.\u001b[0m\u001b[0mname\u001b[0m \u001b[1;33m+\u001b[0m \u001b[1;34m' no tiene checking account.'\u001b[0m\u001b[1;33m)\u001b[0m\u001b[1;33m\u001b[0m\u001b[1;33m\u001b[0m\u001b[0m\n\u001b[0;32m     19\u001b[0m         \u001b[1;32mif\u001b[0m \u001b[0mother_user\u001b[0m\u001b[1;33m.\u001b[0m\u001b[0mbalance\u001b[0m \u001b[1;33m<\u001b[0m \u001b[0mmoney_recive\u001b[0m\u001b[1;33m:\u001b[0m\u001b[1;33m\u001b[0m\u001b[1;33m\u001b[0m\u001b[0m\n\u001b[1;32m---> 20\u001b[1;33m             \u001b[1;32mraise\u001b[0m \u001b[0mValueError\u001b[0m \u001b[1;33m(\u001b[0m\u001b[0mother_user\u001b[0m\u001b[1;33m.\u001b[0m\u001b[0mname\u001b[0m \u001b[1;33m+\u001b[0m \u001b[1;34m' no tiene suficiente dinero en su cuenta.'\u001b[0m\u001b[1;33m)\u001b[0m\u001b[1;33m\u001b[0m\u001b[1;33m\u001b[0m\u001b[0m\n\u001b[0m\u001b[0;32m     21\u001b[0m         \u001b[0mself\u001b[0m\u001b[1;33m.\u001b[0m\u001b[0mbalance\u001b[0m \u001b[1;33m=\u001b[0m \u001b[0mself\u001b[0m\u001b[1;33m.\u001b[0m\u001b[0mbalance\u001b[0m \u001b[1;33m+\u001b[0m \u001b[0mmoney_recive\u001b[0m\u001b[1;33m\u001b[0m\u001b[1;33m\u001b[0m\u001b[0m\n\u001b[0;32m     22\u001b[0m         \u001b[0mother_user\u001b[0m\u001b[1;33m.\u001b[0m\u001b[0mbalance\u001b[0m \u001b[1;33m=\u001b[0m \u001b[0mother_user\u001b[0m\u001b[1;33m.\u001b[0m\u001b[0mbalance\u001b[0m \u001b[1;33m-\u001b[0m \u001b[0mmoney_recive\u001b[0m\u001b[1;33m\u001b[0m\u001b[1;33m\u001b[0m\u001b[0m\n",
            "\u001b[1;31mValueError\u001b[0m: Leonardo no tiene suficiente dinero en su cuenta."
          ]
        }
      ],
      "source": [
        "Mechi.check(Leo,3200)"
      ]
    },
    {
      "cell_type": "code",
      "execution_count": 72,
      "metadata": {},
      "outputs": [
        {
          "output_type": "stream",
          "name": "stdout",
          "text": [
            "Mercedes tiene 1700.\n"
          ]
        }
      ],
      "source": [
        "Mechi.add_cash(300)"
      ]
    },
    {
      "cell_type": "code",
      "execution_count": 78,
      "metadata": {},
      "outputs": [
        {
          "output_type": "stream",
          "name": "stdout",
          "text": [
            "Leonardo ahora tiene 2850.\n"
          ]
        }
      ],
      "source": [
        "Leo.withdraw(150)"
      ]
    },
    {
      "cell_type": "code",
      "execution_count": null,
      "metadata": {},
      "outputs": [],
      "source": []
    },
    {
      "cell_type": "code",
      "execution_count": 106,
      "metadata": {},
      "outputs": [],
      "source": [
        "class Usuario():\n",
        "    def __init__(self, name, balance, checking_account = True):\n",
        "\n",
        "        self.name = name\n",
        "        self.balance = balance\n",
        "        self.checking_account = checking_account\n",
        "\n",
        "    def withdraw(self, money_withdraw):\n",
        "        if self.balance < money_withdraw:\n",
        "            raise ValueError\n",
        "        self.balance = int(self.balance - money_withdraw)\n",
        "        return print(str(self.name) + ' has ' + str(self.balance) + '.')\n",
        "\n",
        "    \n",
        "    def check(self, other_user, money_recive):\n",
        "        if other_user.checking_account is False or other_user.balance < money_recive:\n",
        "            raise ValueError\n",
        "        self.balance = self.balance + money_recive\n",
        "        other_user.balance = int(other_user.balance - money_recive)\n",
        "        return print(self.name + ' has ' + str(self.balance) + ' and ' +  other_user.name + ' has ' + str(other_user.balance) + '.')\n",
        "\n",
        "    def add_cash(self, money_add):\n",
        "        self.balance = int(self.balance + money_add)\n",
        "        return self.name + ' has ' + str(self.balance) + '.'"
      ]
    },
    {
      "cell_type": "code",
      "execution_count": 107,
      "metadata": {},
      "outputs": [],
      "source": [
        "Jeff = Usuario('Jeff', 70, True)\n",
        "Joe = Usuario('Joe', 70, False)"
      ]
    },
    {
      "cell_type": "code",
      "execution_count": 108,
      "metadata": {},
      "outputs": [
        {
          "output_type": "stream",
          "name": "stdout",
          "text": [
            "Jeff has 68.\n"
          ]
        }
      ],
      "source": [
        "Jeff.withdraw(2)"
      ]
    },
    {
      "cell_type": "code",
      "execution_count": 109,
      "metadata": {},
      "outputs": [
        {
          "output_type": "stream",
          "name": "stdout",
          "text": [
            "Joe has 120 and Jeff has 18.\n"
          ]
        }
      ],
      "source": [
        "Joe.check(Jeff, 50)"
      ]
    },
    {
      "cell_type": "code",
      "execution_count": 110,
      "metadata": {},
      "outputs": [
        {
          "output_type": "error",
          "ename": "ValueError",
          "evalue": "",
          "traceback": [
            "\u001b[1;31m---------------------------------------------------------------------------\u001b[0m",
            "\u001b[1;31mValueError\u001b[0m                                Traceback (most recent call last)",
            "\u001b[1;32m<ipython-input-110-0b5131b77f8a>\u001b[0m in \u001b[0;36m<module>\u001b[1;34m\u001b[0m\n\u001b[1;32m----> 1\u001b[1;33m \u001b[0mJeff\u001b[0m\u001b[1;33m.\u001b[0m\u001b[0mcheck\u001b[0m\u001b[1;33m(\u001b[0m\u001b[0mJoe\u001b[0m\u001b[1;33m,\u001b[0m \u001b[1;36m80\u001b[0m\u001b[1;33m)\u001b[0m\u001b[1;33m\u001b[0m\u001b[1;33m\u001b[0m\u001b[0m\n\u001b[0m",
            "\u001b[1;32m<ipython-input-106-0520eb7255fb>\u001b[0m in \u001b[0;36mcheck\u001b[1;34m(self, other_user, money_recive)\u001b[0m\n\u001b[0;32m     15\u001b[0m     \u001b[1;32mdef\u001b[0m \u001b[0mcheck\u001b[0m\u001b[1;33m(\u001b[0m\u001b[0mself\u001b[0m\u001b[1;33m,\u001b[0m \u001b[0mother_user\u001b[0m\u001b[1;33m,\u001b[0m \u001b[0mmoney_recive\u001b[0m\u001b[1;33m)\u001b[0m\u001b[1;33m:\u001b[0m\u001b[1;33m\u001b[0m\u001b[1;33m\u001b[0m\u001b[0m\n\u001b[0;32m     16\u001b[0m         \u001b[1;32mif\u001b[0m \u001b[0mother_user\u001b[0m\u001b[1;33m.\u001b[0m\u001b[0mchecking_account\u001b[0m \u001b[1;32mis\u001b[0m \u001b[1;32mFalse\u001b[0m \u001b[1;32mor\u001b[0m \u001b[0mother_user\u001b[0m\u001b[1;33m.\u001b[0m\u001b[0mbalance\u001b[0m \u001b[1;33m<\u001b[0m \u001b[0mmoney_recive\u001b[0m\u001b[1;33m:\u001b[0m\u001b[1;33m\u001b[0m\u001b[1;33m\u001b[0m\u001b[0m\n\u001b[1;32m---> 17\u001b[1;33m             \u001b[1;32mraise\u001b[0m \u001b[0mValueError\u001b[0m\u001b[1;33m\u001b[0m\u001b[1;33m\u001b[0m\u001b[0m\n\u001b[0m\u001b[0;32m     18\u001b[0m         \u001b[0mself\u001b[0m\u001b[1;33m.\u001b[0m\u001b[0mbalance\u001b[0m \u001b[1;33m=\u001b[0m \u001b[0mself\u001b[0m\u001b[1;33m.\u001b[0m\u001b[0mbalance\u001b[0m \u001b[1;33m+\u001b[0m \u001b[0mmoney_recive\u001b[0m\u001b[1;33m\u001b[0m\u001b[1;33m\u001b[0m\u001b[0m\n\u001b[0;32m     19\u001b[0m         \u001b[0mother_user\u001b[0m\u001b[1;33m.\u001b[0m\u001b[0mbalance\u001b[0m \u001b[1;33m=\u001b[0m \u001b[0mint\u001b[0m\u001b[1;33m(\u001b[0m\u001b[0mother_user\u001b[0m\u001b[1;33m.\u001b[0m\u001b[0mbalance\u001b[0m \u001b[1;33m-\u001b[0m \u001b[0mmoney_recive\u001b[0m\u001b[1;33m)\u001b[0m\u001b[1;33m\u001b[0m\u001b[1;33m\u001b[0m\u001b[0m\n",
            "\u001b[1;31mValueError\u001b[0m: "
          ]
        }
      ],
      "source": [
        "Jeff.check(Joe, 80)"
      ]
    },
    {
      "cell_type": "code",
      "execution_count": 111,
      "metadata": {},
      "outputs": [
        {
          "output_type": "execute_result",
          "data": {
            "text/plain": [
              "False"
            ]
          },
          "metadata": {},
          "execution_count": 111
        }
      ],
      "source": [
        "Joe.checking_account"
      ]
    },
    {
      "cell_type": "code",
      "execution_count": 112,
      "metadata": {},
      "outputs": [],
      "source": [
        "Joe.checking_account = True"
      ]
    },
    {
      "cell_type": "code",
      "execution_count": 113,
      "metadata": {},
      "outputs": [
        {
          "output_type": "stream",
          "name": "stdout",
          "text": [
            "Jeff has 98 and Joe has 40.\n"
          ]
        }
      ],
      "source": [
        "Jeff.check(Joe, 80)"
      ]
    },
    {
      "cell_type": "code",
      "execution_count": 114,
      "metadata": {},
      "outputs": [
        {
          "output_type": "error",
          "ename": "ValueError",
          "evalue": "",
          "traceback": [
            "\u001b[1;31m---------------------------------------------------------------------------\u001b[0m",
            "\u001b[1;31mValueError\u001b[0m                                Traceback (most recent call last)",
            "\u001b[1;32m<ipython-input-114-f833dc6d2624>\u001b[0m in \u001b[0;36m<module>\u001b[1;34m\u001b[0m\n\u001b[1;32m----> 1\u001b[1;33m \u001b[0mJoe\u001b[0m\u001b[1;33m.\u001b[0m\u001b[0mcheck\u001b[0m\u001b[1;33m(\u001b[0m\u001b[0mJeff\u001b[0m\u001b[1;33m,\u001b[0m \u001b[1;36m100\u001b[0m\u001b[1;33m)\u001b[0m\u001b[1;33m\u001b[0m\u001b[1;33m\u001b[0m\u001b[0m\n\u001b[0m",
            "\u001b[1;32m<ipython-input-106-0520eb7255fb>\u001b[0m in \u001b[0;36mcheck\u001b[1;34m(self, other_user, money_recive)\u001b[0m\n\u001b[0;32m     15\u001b[0m     \u001b[1;32mdef\u001b[0m \u001b[0mcheck\u001b[0m\u001b[1;33m(\u001b[0m\u001b[0mself\u001b[0m\u001b[1;33m,\u001b[0m \u001b[0mother_user\u001b[0m\u001b[1;33m,\u001b[0m \u001b[0mmoney_recive\u001b[0m\u001b[1;33m)\u001b[0m\u001b[1;33m:\u001b[0m\u001b[1;33m\u001b[0m\u001b[1;33m\u001b[0m\u001b[0m\n\u001b[0;32m     16\u001b[0m         \u001b[1;32mif\u001b[0m \u001b[0mother_user\u001b[0m\u001b[1;33m.\u001b[0m\u001b[0mchecking_account\u001b[0m \u001b[1;32mis\u001b[0m \u001b[1;32mFalse\u001b[0m \u001b[1;32mor\u001b[0m \u001b[0mother_user\u001b[0m\u001b[1;33m.\u001b[0m\u001b[0mbalance\u001b[0m \u001b[1;33m<\u001b[0m \u001b[0mmoney_recive\u001b[0m\u001b[1;33m:\u001b[0m\u001b[1;33m\u001b[0m\u001b[1;33m\u001b[0m\u001b[0m\n\u001b[1;32m---> 17\u001b[1;33m             \u001b[1;32mraise\u001b[0m \u001b[0mValueError\u001b[0m\u001b[1;33m\u001b[0m\u001b[1;33m\u001b[0m\u001b[0m\n\u001b[0m\u001b[0;32m     18\u001b[0m         \u001b[0mself\u001b[0m\u001b[1;33m.\u001b[0m\u001b[0mbalance\u001b[0m \u001b[1;33m=\u001b[0m \u001b[0mself\u001b[0m\u001b[1;33m.\u001b[0m\u001b[0mbalance\u001b[0m \u001b[1;33m+\u001b[0m \u001b[0mmoney_recive\u001b[0m\u001b[1;33m\u001b[0m\u001b[1;33m\u001b[0m\u001b[0m\n\u001b[0;32m     19\u001b[0m         \u001b[0mother_user\u001b[0m\u001b[1;33m.\u001b[0m\u001b[0mbalance\u001b[0m \u001b[1;33m=\u001b[0m \u001b[0mint\u001b[0m\u001b[1;33m(\u001b[0m\u001b[0mother_user\u001b[0m\u001b[1;33m.\u001b[0m\u001b[0mbalance\u001b[0m \u001b[1;33m-\u001b[0m \u001b[0mmoney_recive\u001b[0m\u001b[1;33m)\u001b[0m\u001b[1;33m\u001b[0m\u001b[1;33m\u001b[0m\u001b[0m\n",
            "\u001b[1;31mValueError\u001b[0m: "
          ]
        }
      ],
      "source": [
        "Joe.check(Jeff, 100)"
      ]
    },
    {
      "cell_type": "code",
      "execution_count": 115,
      "metadata": {},
      "outputs": [
        {
          "output_type": "execute_result",
          "data": {
            "text/plain": [
              "'Jeff has 118.'"
            ]
          },
          "metadata": {},
          "execution_count": 115
        }
      ],
      "source": [
        "Jeff.add_cash(20.00)"
      ]
    },
    {
      "cell_type": "code",
      "execution_count": 126,
      "metadata": {
        "tags": []
      },
      "outputs": [
        {
          "output_type": "stream",
          "name": "stdout",
          "text": [
            "Debes ingresar un número postivo\n"
          ]
        },
        {
          "output_type": "error",
          "ename": "TypeError",
          "evalue": "unsupported operand type(s) for +: 'int' and 'str'",
          "traceback": [
            "\u001b[1;31m---------------------------------------------------------------------------\u001b[0m",
            "\u001b[1;31mTypeError\u001b[0m                                 Traceback (most recent call last)",
            "\u001b[1;32m<ipython-input-126-5b92d2068cdd>\u001b[0m in \u001b[0;36m<module>\u001b[1;34m\u001b[0m\n\u001b[0;32m      5\u001b[0m     \u001b[1;32mexcept\u001b[0m \u001b[0mException\u001b[0m\u001b[1;33m:\u001b[0m\u001b[1;33m\u001b[0m\u001b[1;33m\u001b[0m\u001b[0m\n\u001b[0;32m      6\u001b[0m         \u001b[0mprint\u001b[0m\u001b[1;33m(\u001b[0m\u001b[1;34m'Debes ingresar un número postivo'\u001b[0m\u001b[1;33m)\u001b[0m\u001b[1;33m\u001b[0m\u001b[1;33m\u001b[0m\u001b[0m\n\u001b[1;32m----> 7\u001b[1;33m     \u001b[0mJeff\u001b[0m\u001b[1;33m.\u001b[0m\u001b[0madd_cash\u001b[0m\u001b[1;33m(\u001b[0m\u001b[0mdinero_a_agregar\u001b[0m\u001b[1;33m)\u001b[0m\u001b[1;33m\u001b[0m\u001b[1;33m\u001b[0m\u001b[0m\n\u001b[0m\u001b[0;32m      8\u001b[0m \u001b[1;33m\u001b[0m\u001b[0m\n\u001b[0;32m      9\u001b[0m \u001b[1;33m\u001b[0m\u001b[0m\n",
            "\u001b[1;32m<ipython-input-106-0520eb7255fb>\u001b[0m in \u001b[0;36madd_cash\u001b[1;34m(self, money_add)\u001b[0m\n\u001b[0;32m     21\u001b[0m \u001b[1;33m\u001b[0m\u001b[0m\n\u001b[0;32m     22\u001b[0m     \u001b[1;32mdef\u001b[0m \u001b[0madd_cash\u001b[0m\u001b[1;33m(\u001b[0m\u001b[0mself\u001b[0m\u001b[1;33m,\u001b[0m \u001b[0mmoney_add\u001b[0m\u001b[1;33m)\u001b[0m\u001b[1;33m:\u001b[0m\u001b[1;33m\u001b[0m\u001b[1;33m\u001b[0m\u001b[0m\n\u001b[1;32m---> 23\u001b[1;33m         \u001b[0mself\u001b[0m\u001b[1;33m.\u001b[0m\u001b[0mbalance\u001b[0m \u001b[1;33m=\u001b[0m \u001b[0mint\u001b[0m\u001b[1;33m(\u001b[0m\u001b[0mself\u001b[0m\u001b[1;33m.\u001b[0m\u001b[0mbalance\u001b[0m \u001b[1;33m+\u001b[0m \u001b[0mmoney_add\u001b[0m\u001b[1;33m)\u001b[0m\u001b[1;33m\u001b[0m\u001b[1;33m\u001b[0m\u001b[0m\n\u001b[0m\u001b[0;32m     24\u001b[0m         \u001b[1;32mreturn\u001b[0m \u001b[0mself\u001b[0m\u001b[1;33m.\u001b[0m\u001b[0mname\u001b[0m \u001b[1;33m+\u001b[0m \u001b[1;34m' has '\u001b[0m \u001b[1;33m+\u001b[0m \u001b[0mstr\u001b[0m\u001b[1;33m(\u001b[0m\u001b[0mself\u001b[0m\u001b[1;33m.\u001b[0m\u001b[0mbalance\u001b[0m\u001b[1;33m)\u001b[0m \u001b[1;33m+\u001b[0m \u001b[1;34m'.'\u001b[0m\u001b[1;33m\u001b[0m\u001b[1;33m\u001b[0m\u001b[0m\n",
            "\u001b[1;31mTypeError\u001b[0m: unsupported operand type(s) for +: 'int' and 'str'"
          ]
        }
      ],
      "source": [
        "\n",
        "while True:\n",
        "    dinero_a_agregar = input('Cuánto dinero quieres agregar?:')\n",
        "    try:\n",
        "        dinero_a_agregar = int(dinero_a_agregar)\n",
        "    except Exception:\n",
        "        print('Debes ingresar un número postivo')\n",
        "    Jeff.add_cash(dinero_a_agregar)\n",
        "    \n",
        "    "
      ]
    },
    {
      "cell_type": "code",
      "execution_count": null,
      "metadata": {},
      "outputs": [],
      "source": [
        "if isinstance(dinero_a_agregar, (int,float)) and dinero_a_agregar >= 0:\n",
        "        Jeff.add_cash(dinero_a_agregar)\n",
        "        break\n",
        "    else:\n",
        "        print ('Debes ingresar un monto positivo.')"
      ]
    }
  ]
}