{
 "metadata": {
  "language_info": {
   "codemirror_mode": {
    "name": "ipython",
    "version": 3
   },
   "file_extension": ".py",
   "mimetype": "text/x-python",
   "name": "python",
   "nbconvert_exporter": "python",
   "pygments_lexer": "ipython3",
   "version": "3.7.4"
  },
  "orig_nbformat": 2,
  "kernelspec": {
   "name": "python374jvsc74a57bd0a0947237fadc8b5561fed326db280cc5ec46a670c87cfb3a0489cf95ff262303",
   "display_name": "Python 3.7.4 64-bit"
  },
  "metadata": {
   "interpreter": {
    "hash": "a0947237fadc8b5561fed326db280cc5ec46a670c87cfb3a0489cf95ff262303"
   }
  }
 },
 "nbformat": 4,
 "nbformat_minor": 2,
 "cells": [
  {
   "source": [
    "#### Para escribir a un archivo un json"
   ],
   "cell_type": "markdown",
   "metadata": {}
  },
  {
   "cell_type": "code",
   "execution_count": 1,
   "metadata": {},
   "outputs": [],
   "source": [
    "import json"
   ]
  },
  {
   "cell_type": "code",
   "execution_count": 3,
   "metadata": {},
   "outputs": [],
   "source": [
    "nombre_archivo = \"pepito_ataulfo.json\"\n",
    "\n",
    "mi_diccionario = {\"clave\": 2, \n",
    "                  \"otra_clave\": 3, \n",
    "                  515:[1,3,4,5,6,7,8,2], \n",
    "                  \"DICT\":{\"clave_pequena\": \"valor_pequeño\"}}\n",
    "\n",
    "with open(nombre_archivo, 'w+') as loquequiera:\n",
    "    json.dump(mi_diccionario, loquequiera, indent=4)"
   ]
  },
  {
   "source": [
    "#### Para sobreescribir un archivo  (si se requiere)"
   ],
   "cell_type": "markdown",
   "metadata": {}
  },
  {
   "cell_type": "code",
   "execution_count": null,
   "metadata": {},
   "outputs": [],
   "source": [
    "with open(nombre_archivo, 'a+', encoding='latin1') as outfile:\n",
    "    json.dump(mi_diccionario, outfile, indent=4)"
   ]
  },
  {
   "source": [
    "#### Para leer un archivo json\n"
   ],
   "cell_type": "markdown",
   "metadata": {}
  },
  {
   "cell_type": "code",
   "execution_count": null,
   "metadata": {},
   "outputs": [],
   "source": [
    "import json\n",
    "with open('data_indented.json', 'r+') as outfile:\n",
    "    json_data_indented_readed = json.load(outfile)\n",
    "\n",
    "print(type(json_data_indented_readed))\n",
    "json_data_indented_readed"
   ]
  },
  {
   "cell_type": "code",
   "execution_count": null,
   "metadata": {},
   "outputs": [],
   "source": [
    "json_data_indented_readed[\"members\"]"
   ]
  },
  {
   "cell_type": "code",
   "execution_count": null,
   "metadata": {},
   "outputs": [],
   "source": [
    "jsons_dicts = []\n",
    "\n",
    "for mini_json in json_data_indented_readed[\"members\"]:\n",
    "    mini_json_readed_string = json.dumps(mini_json)\n",
    "    string_to_json = json.loads(mini_json_readed_string)\n",
    "    print(mini_json_readed)\n",
    "    print(\"-----------\")\n",
    "    print(string_to_json)\n",
    "    jsons_dicts.append(string_to_json)\n",
    "    print(\"\\n##############################\\n\")\n",
    "\n",
    "print(type(mini_json_readed))\n",
    "print(type(string_to_json))"
   ]
  },
  {
   "cell_type": "code",
   "execution_count": null,
   "metadata": {},
   "outputs": [],
   "source": [
    "# escribimos cada mini_json en archivos diferentes\n",
    "for i, jsn in enumerate(jsons_dicts):\n",
    "    nombre_archivo = str(i) + '_final_data.json'\n",
    "    with open(nombre_archivo, 'w+') as outfile:\n",
    "        json.dump(jsn, outfile, indent=4) "
   ]
  }
 ]
}