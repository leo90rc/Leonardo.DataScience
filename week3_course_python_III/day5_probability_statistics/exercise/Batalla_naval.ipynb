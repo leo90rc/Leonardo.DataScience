{
 "metadata": {
  "language_info": {
   "codemirror_mode": {
    "name": "ipython",
    "version": 3
   },
   "file_extension": ".py",
   "mimetype": "text/x-python",
   "name": "python",
   "nbconvert_exporter": "python",
   "pygments_lexer": "ipython3",
   "version": "3.7.4"
  },
  "orig_nbformat": 2,
  "kernelspec": {
   "name": "python374jvsc74a57bd0a0947237fadc8b5561fed326db280cc5ec46a670c87cfb3a0489cf95ff262303",
   "display_name": "Python 3.7.4 64-bit"
  },
  "metadata": {
   "interpreter": {
    "hash": "a0947237fadc8b5561fed326db280cc5ec46a670c87cfb3a0489cf95ff262303"
   }
  }
 },
 "nbformat": 4,
 "nbformat_minor": 2,
 "cells": [
  {
   "cell_type": "code",
   "execution_count": 26,
   "metadata": {},
   "outputs": [
    {
     "output_type": "stream",
     "name": "stdout",
     "text": [
      "[['|_|' '|_|' '|_|' '|_|' '|_|' '|_|' '|_|' '|_|' '|_|' '|_|']\n ['|_|' '|_|' '|_|' '|_|' '|_|' '|_|' '|_|' '|_|' '|_|' '|_|']\n ['|_|' '|_|' '|_|' '|_|' '|_|' '|_|' '|_|' '|_|' '|_|' '|_|']\n ['|_|' '|_|' '|_|' '|_|' '|_|' '|_|' '|_|' '|_|' '|_|' '|_|']\n ['|_|' '|_|' '|_|' '|_|' '|_|' '|_|' '|_|' '|_|' '|_|' '|_|']\n ['|_|' '|_|' '|_|' '|_|' '|_|' '|_|' '|_|' '|_|' '|_|' '|_|']\n ['|_|' '|_|' '|_|' '|_|' '|_|' '|_|' '|_|' '|_|' '|_|' '|_|']\n ['|_|' '|_|' '|_|' '|_|' '|_|' '|_|' '|_|' '|_|' '|_|' '|_|']\n ['|_|' '|_|' '|_|' '|_|' '|_|' '|_|' '|_|' '|_|' '|_|' '|_|']\n ['|_|' '|_|' '|_|' '|_|' '|_|' '|_|' '|_|' '|_|' '|_|' '|_|']]\n"
     ]
    }
   ],
   "source": [
    "import numpy as np\n",
    "tablero_vacio = []\n",
    "ancho = 10\n",
    "alto = 10\n",
    "for i in range(0,ancho):\n",
    "    tablero_vacio.append([])\n",
    "    for j in range(0,alto):\n",
    "        tablero_vacio[i].append('|_|')\n",
    "print(np.array(tablero_vacio))\n"
   ]
  },
  {
   "cell_type": "code",
   "execution_count": 18,
   "metadata": {},
   "outputs": [
    {
     "output_type": "stream",
     "name": "stdout",
     "text": [
      "['4', 'h', '6', ':', '1', '0']\n"
     ]
    },
    {
     "output_type": "execute_result",
     "data": {
      "text/plain": [
       "[['~', '~', '~', '~', '~', '~', '~', '~', '~', '~'],\n",
       " ['~', '~', '~', '~', '~', '~', '~', '~', '~', '~'],\n",
       " ['~', '~', '~', '~', '~', '~', '~', '~', '~', '~'],\n",
       " ['~', '~', '~', '~', '~', '#', '#', '#', '#', '#'],\n",
       " ['~', '~', '~', '~', '~', '~', '~', '~', '~', '~'],\n",
       " ['~', '~', '~', '~', '~', '~', '~', '~', '~', '~'],\n",
       " ['~', '~', '~', '~', '~', '~', '~', '~', '~', '~'],\n",
       " ['~', '~', '~', '~', '~', '~', '~', '~', '~', '~'],\n",
       " ['~', '~', '~', '~', '~', '~', '~', '~', '~', '~'],\n",
       " ['~', '~', '~', '~', '~', '~', '~', '~', '~', '~']]"
      ]
     },
     "metadata": {},
     "execution_count": 18
    }
   ],
   "source": [
    "# Armar tablero vacío (sólo el agua).\n",
    "\n",
    "tablero_vacio = []\n",
    "ancho = 10\n",
    "alto = 10\n",
    "for i in range(0,ancho):\n",
    "    tablero_vacio.append([])\n",
    "    for j in range(0,alto):\n",
    "        tablero_vacio[i].append('~')\n",
    "tablero_vacio\n",
    "\n",
    "# Colocar los barcos en tu estado.\n",
    "\n",
    "# Ejemplo 4h9:10   -->  posicion [3][8] y [3][9]                         # Diferencia entre vert y horiz... la posicion\n",
    "# Ejemplo 3v6:9    -->  posicion [5][2],  [6][2] , [7][2] y [8][2]       # Siempre la posicion será - 1\n",
    "while True:\n",
    "    barco1_tam5 = input('Ingrese un barco de tamaño 5x1')\n",
    "    lista_barco1_tam5 = list(barco1_tam5)\n",
    "    print(lista_barco1_tam5)\n",
    "    if len(lista_barco1_tam5) == 6:      \n",
    "        if 10 - int(lista_barco1_tam5[2]) == 4:                         # Si la lista es de tamaño 6, su último número SI o SI es un 10\n",
    "            if lista_barco1_tam5[1] == 'h':    #HORIZONTAL              # uso == 4 porque así sería un barco de tamaño 5\n",
    "                tablero_vacio[int(lista_barco1_tam5[0])-1][int(lista_barco1_tam5[2])-1] = '#'\n",
    "                tablero_vacio[int(lista_barco1_tam5[0])-1][int(lista_barco1_tam5[2])] = '#'\n",
    "                tablero_vacio[int(lista_barco1_tam5[0])-1][int(lista_barco1_tam5[2])+1] = '#'\n",
    "                tablero_vacio[int(lista_barco1_tam5[0])-1][int(lista_barco1_tam5[2])+2] = '#'\n",
    "                tablero_vacio[int(lista_barco1_tam5[0])-1][9] = '#'\n",
    "           \n",
    "            elif lista_barco1_tam5[1] == 'v':\n",
    "                tablero_vacio[int(lista_barco1_tam5[2])-1][int(lista_barco1_tam5[0])-1] = '#'\n",
    "                tablero_vacio[int(lista_barco1_tam5[2])][int(lista_barco1_tam5[0])-1] = '#'\n",
    "                tablero_vacio[int(lista_barco1_tam5[2])+1][int(lista_barco1_tam5[0])-1] = '#'\n",
    "                tablero_vacio[int(lista_barco1_tam5[2])+2][int(lista_barco1_tam5[0])-1] = '#'\n",
    "                tablero_vacio[9][int(lista_barco1_tam5[0])-1] = '#'\n",
    "            break\n",
    "        if len(lista_barco1_tam5) == 5:                                            # NO TERMINA EN 10\n",
    "            if int(lista_barco1_tam5[4]) - int(lista_barco1_tam5[2]) == 4:\n",
    "                if lista_barco1_tam5[1] == 'h':\n",
    "                    tablero_vacio[int(lista_barco1_tam5[0])-1][int(lista_barco1_tam5[2])-1] = '#'\n",
    "                    tablero_vacio[int(lista_barco1_tam5[0])-1][int(lista_barco1_tam5[2])] = '#'\n",
    "                    tablero_vacio[int(lista_barco1_tam5[0])-1][int(lista_barco1_tam5[2])+1] = '#'\n",
    "                    tablero_vacio[int(lista_barco1_tam5[0])-1][int(lista_barco1_tam5[2])+2] = '#'\n",
    "                    tablero_vacio[int(lista_barco1_tam5[0])-1][9] = '#'\n",
    "\n",
    "tablero_vacio"
   ]
  },
  {
   "cell_type": "code",
   "execution_count": null,
   "metadata": {},
   "outputs": [],
   "source": []
  },
  {
   "cell_type": "code",
   "execution_count": null,
   "metadata": {},
   "outputs": [],
   "source": []
  }
 ]
}