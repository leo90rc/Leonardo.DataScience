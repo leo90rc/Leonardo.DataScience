{
 "cells": [
  {
   "cell_type": "markdown",
   "metadata": {},
   "source": [
    "# Python | try&except"
   ]
  },
  {
   "cell_type": "markdown",
   "metadata": {},
   "source": [
    "Python uses try and except to handle errors gracefully. A graceful exit (or graceful handling) of errors is a simple programming idiom - a program detects a serious error condition and \"exits gracefully\", in a controlled manner as a result. Often the program prints a descriptive error message to a terminal or log as part of the graceful exit, this makes our application more robust. The cause of an exception is often external to the program itself. An example of exceptions could be an incorrect input, wrong file name, unable to find a file, a malfunctioning IO device. Graceful handling of errors prevents our applications from crashing."
   ]
  },
  {
   "cell_type": "markdown",
   "metadata": {},
   "source": [
    "```python\n",
    "try:\n",
    "    code in this block if things go well\n",
    "except:\n",
    "    code in this block run if things go wrong\n",
    "```"
   ]
  },
  {
   "cell_type": "markdown",
   "metadata": {},
   "source": [
    "### Exercise 1. \n"
   ]
  },
  {
   "cell_type": "markdown",
   "metadata": {},
   "source": [
    "1. In the 4 cells below, modify the code to catch the error and print a meaningful message that will alert the user what went wrong. You may catch the error using a general except or a specific except for the error caused by the code."
   ]
  },
  {
   "cell_type": "code",
   "execution_count": null,
   "metadata": {},
   "outputs": [],
   "source": [
    "# Modify the code below:\n",
    "try:\n",
    "    print(some_string)\n",
    "except NameError:\n",
    "    print('Ouch! La variable \"some_string\" no está definida!')"
   ]
  },
  {
   "cell_type": "code",
   "execution_count": null,
   "metadata": {},
   "outputs": [],
   "source": [
    "# Modify the code below:\n",
    "try:\n",
    "    for i in ['a','b','c']:\n",
    "        print (i**2), pow()\n",
    "except TypeError:\n",
    "    print('Ouch! Ésta operación se puede realizar únicamente sobre números (int, float)')"
   ]
  },
  {
   "cell_type": "code",
   "execution_count": null,
   "metadata": {},
   "outputs": [],
   "source": [
    "# Modify the code below:\n",
    "try:\n",
    "    x = 5\n",
    "    y = 0\n",
    "\n",
    "    z = x/y\n",
    "except ZeroDivisionError:\n",
    "    print('Cuidado!! Si divides por 0 el mundo explotará !!')"
   ]
  },
  {
   "cell_type": "code",
   "execution_count": null,
   "metadata": {},
   "outputs": [],
   "source": [
    "# Modify the code below:\n",
    "try:\n",
    "    abc=[10,20,20]\n",
    "    print(abc[3])\n",
    "except IndexError:\n",
    "    print('El valor que buscas está fuera del rango de tu lista !')"
   ]
  },
  {
   "cell_type": "markdown",
   "metadata": {},
   "source": [
    "### Exercise 2. "
   ]
  },
  {
   "cell_type": "markdown",
   "metadata": {},
   "source": [
    "In the 3 cells below, add an if statment that will handle both types of input allowed in the functions."
   ]
  },
  {
   "cell_type": "code",
   "execution_count": null,
   "metadata": {},
   "outputs": [],
   "source": [
    "import math     # import a library called math with functions, like sqrt() \n",
    "                # Modify the code below to handle positive and negative numbers by adding an if statement and performing a transformation:\n",
    "\n",
    "def sqrt_for_all(x):\n",
    "    if x < 0:\n",
    "        x = abs(x)\n",
    "    return math.sqrt(x)\n",
    "\n",
    "\n",
    "sqrt_for_all(9)               \n",
    "                                            # This function will take any real number and return the square root of its magnitude\n",
    "                                            # Input: real number\n",
    "                                            # Output: real number\n",
    "                    \n",
    "                                            # Sample Input: -4\n",
    "                                            # Sample Output: 2.0\n",
    "    \n"
   ]
  },
  {
   "cell_type": "code",
   "execution_count": null,
   "metadata": {},
   "outputs": [],
   "source": [
    "# Modify the code below to handle zero as well. In the case of zero, return zero\n",
    "\n",
    "def divide(x, y):\n",
    "    if y != 0:\n",
    "        return x/y\n",
    "    else:\n",
    "        return 'Zero'                 \n",
    "        \n",
    "        \n",
    "                                         # This function will take any two real numbers and return their quotient. If the                                                            denominator is zero, we return zero\n",
    "                                            # Input: real number\n",
    "                                            # Output: real number\n",
    "                                            \n",
    "                                            # Sample Input: 5, 1\n",
    "                                            # Sample Output: 5.0\n",
    "    \n",
    "\n",
    "divide(5, -2)\n"
   ]
  },
  {
   "cell_type": "code",
   "execution_count": null,
   "metadata": {},
   "outputs": [],
   "source": [
    "# Modify the function below that it will take either an number and a list or two numbers. \n",
    "# If we take two numbers, add them together and return a list of length 1. \n",
    "# Otherwise, add the number to every element of the list and return the resulting list\n",
    "\n",
    "def add_elements(a, l):\n",
    "\n",
    "    if isinstance(l, list):\n",
    "        return [a + element for element in l]\n",
    "    if isinstance(l, (int, float)):\n",
    "        return [a + l]\n",
    "\n",
    "add_elements(5, [6,2])\n",
    "                                   \n",
    "                                       \n",
    "                                       \n",
    "                                       \n",
    "                                       \n",
    "                                        # This function takes either two numbers or a list and a number and adds the number to all                                                  elements of the list\n",
    "                                        # If the function only takes two numbers, it returns a list of length one that is the sum of the                                            numbers\n",
    "                                        \n",
    "                                        # Input: number and list or two numbers\n",
    "                                        # Output: list\n",
    "                                        \n",
    "                                        # Sample Input: 5, 6\n",
    "                                        # Sample Output: [11]"
   ]
  },
  {
   "cell_type": "markdown",
   "metadata": {},
   "source": [
    "### Exercise 3. \n",
    "\n",
    "Write a function that asks for an integer and prints the square of it. Keep checking while the function gets an integer.\n",
    "\n",
    "Use a `while` loop with a `try/except` block to account for incorrect inputs."
   ]
  },
  {
   "cell_type": "code",
   "execution_count": null,
   "metadata": {},
   "outputs": [],
   "source": [
    "import math\n",
    "\n",
    "def square_of_it():\n",
    "    while True:    \n",
    "        try:    \n",
    "            x = int(input('Ingresa un número (int):'))\n",
    "            return math.sqrt(x)\n",
    "        except ValueError:\n",
    "            print('Debes ingresar un número entero y positivo')\n",
    "\n",
    "square_of_it()\n",
    "    "
   ]
  },
  {
   "cell_type": "markdown",
   "metadata": {},
   "source": [
    "### Bonus track.\n",
    "\n",
    "1. Solve this kata in **codewars**.\n",
    "\n",
    "https://www.codewars.com/kata/560fbc2d636966b21e00009e"
   ]
  },
  {
   "source": [
    "# NO ME SALEEEEEEEEEEEEEEEEEEEEEEEEEEEEEEEEEEEEE"
   ],
   "cell_type": "markdown",
   "metadata": {}
  },
  {
   "cell_type": "code",
   "execution_count": null,
   "metadata": {},
   "outputs": [],
   "source": [
    "def func(n):\n",
    "    if n % 2 == 0:\n",
    "        return True\n",
    "    else:\n",
    "        return False\n",
    "\n",
    "def mapaaa(arr, somefunction):\n",
    "    list(map(somefunction, arr))\n",
    "\n",
    "lista = [3, 6, 7, 10]\n",
    "mapaaa(arr=lista, somefunction=func)"
   ]
  },
  {
   "cell_type": "code",
   "execution_count": null,
   "metadata": {},
   "outputs": [],
   "source": [
    "def par_impar(n):\n",
    "    if n % 2 == 0:\n",
    "        return True\n",
    "    else:\n",
    "        return False\n",
    "\n",
    "def mapear(array, funcion):\n",
    "    list(map(funcion, array))\n",
    "\n",
    "mapear(array=[1,2], funcion=par_impar)"
   ]
  },
  {
   "cell_type": "code",
   "execution_count": null,
   "metadata": {},
   "outputs": [],
   "source": [
    "list(map(par_impar, [3,2,4,5]))"
   ]
  },
  {
   "cell_type": "code",
   "execution_count": null,
   "metadata": {},
   "outputs": [],
   "source": [
    "def even_odd(n):\n",
    "    if n % 2 == 0:\n",
    "        return True\n",
    "    else:\n",
    "        return False\n",
    "\n",
    "def hola(array, funcion):\n",
    "    return list(map(funcion, array))\n",
    "\n",
    "hola([1,4,6,7,57], even_odd)"
   ]
  },
  {
   "cell_type": "code",
   "execution_count": 3,
   "metadata": {},
   "outputs": [
    {
     "output_type": "execute_result",
     "data": {
      "text/plain": [
       "'SOLO FUNCIONES'"
      ]
     },
     "metadata": {},
     "execution_count": 3
    }
   ],
   "source": [
    "from inspect import isfunction\n",
    "\n",
    "def func(n):\n",
    "    if n % 2 == 0:\n",
    "        return True\n",
    "    else:\n",
    "        return False\n",
    "\n",
    "def mapa(arr, somefunction):           \n",
    "    if not isfunction(somefunction):\n",
    "        return 'SOLO FUNCIONES'\n",
    "    for i in arr:\n",
    "        try:\n",
    "            i = int(i)\n",
    "        except ValueError:\n",
    "            return 'Los valores del array deben ser INT'\n",
    "        except TypeError:\n",
    "            return 'Asegurate que ingresas una funcion'\n",
    "    arr = list(map(int, arr))\n",
    "    return list(map(somefunction, arr))\n",
    "\n",
    "\n",
    "\n",
    "\n",
    "mapa([1,3,4,'9'], 3)"
   ]
  },
  {
   "cell_type": "code",
   "execution_count": 11,
   "metadata": {},
   "outputs": [
    {
     "output_type": "execute_result",
     "data": {
      "text/plain": [
       "[False, True, True, True]"
      ]
     },
     "metadata": {},
     "execution_count": 11
    }
   ],
   "source": [
    "def func(n):\n",
    "    return int(n) % 2 == 0\n",
    "\n",
    "def map(arr, somefunction):\n",
    "        try:\n",
    "            return [somefunction(a) for a in arr]\n",
    "        except ValueError:\n",
    "            return 'array should contain only numbers'\n",
    "        except TypeError:\n",
    "            return 'given argument is not a function'\n",
    "\n",
    "map(arr=[1,2,4,6], somefunction=func)"
   ]
  },
  {
   "cell_type": "code",
   "execution_count": 12,
   "metadata": {},
   "outputs": [
    {
     "output_type": "execute_result",
     "data": {
      "text/plain": [
       "[False, True, True, True]"
      ]
     },
     "metadata": {},
     "execution_count": 12
    }
   ],
   "source": [
    "def func(n):\n",
    "    return n % 2 == 0\n",
    "\n",
    "def map(arr, somefunction):\n",
    "    try:\n",
    "        return [somefunction(i) for i in arr]\n",
    "    except ValueError:\n",
    "        return 'array should contain only numbers'\n",
    "    except TypeError:\n",
    "        return 'given argument is not a function'\n",
    "\n",
    "map(arr=[1,2,4,6], somefunction=func)"
   ]
  },
  {
   "cell_type": "markdown",
   "metadata": {},
   "source": [
    "2. Make a program using `while` that generates a **deck of cards** of 4 different suits. The deck must have 40 cards.\n",
    "\n",
    "   Develop the program in a `.py` file that will be run through the terminal. \n",
    "   \n",
    "   Then, import the module to this notebook and show the deck you've generated below."
   ]
  },
  {
   "cell_type": "code",
   "execution_count": null,
   "metadata": {},
   "outputs": [],
   "source": []
  },
  {
   "cell_type": "markdown",
   "metadata": {},
   "source": [
    "![\"lol\"](https://i.pinimg.com/originals/34/b2/ad/34b2ad1c370539fba5ed9422711cad7b.png)"
   ]
  }
 ],
 "metadata": {
  "kernelspec": {
   "name": "python374jvsc74a57bd0a0947237fadc8b5561fed326db280cc5ec46a670c87cfb3a0489cf95ff262303",
   "display_name": "Python 3.7.4 64-bit"
  },
  "language_info": {
   "codemirror_mode": {
    "name": "ipython",
    "version": 3
   },
   "file_extension": ".py",
   "mimetype": "text/x-python",
   "name": "python",
   "nbconvert_exporter": "python",
   "pygments_lexer": "ipython3",
   "version": "3.7.4"
  },
  "metadata": {
   "interpreter": {
    "hash": "a0947237fadc8b5561fed326db280cc5ec46a670c87cfb3a0489cf95ff262303"
   }
  }
 },
 "nbformat": 4,
 "nbformat_minor": 4
}