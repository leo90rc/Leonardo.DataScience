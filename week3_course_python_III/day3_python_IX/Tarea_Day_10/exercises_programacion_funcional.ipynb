{
  "nbformat": 4,
  "nbformat_minor": 0,
  "metadata": {
    "kernelspec": {
      "name": "python374jvsc74a57bd0a0947237fadc8b5561fed326db280cc5ec46a670c87cfb3a0489cf95ff262303",
      "display_name": "Python 3.7.4 64-bit"
    },
    "language_info": {
      "codemirror_mode": {
        "name": "ipython",
        "version": 3
      },
      "file_extension": ".py",
      "mimetype": "text/x-python",
      "name": "python",
      "nbconvert_exporter": "python",
      "pygments_lexer": "ipython3",
      "version": "3.7.4"
    },
    "colab": {
      "name": "exercises_programacion_funcional.ipynb",
      "provenance": []
    },
    "metadata": {
      "interpreter": {
        "hash": "a0947237fadc8b5561fed326db280cc5ec46a670c87cfb3a0489cf95ff262303"
      }
    }
  },
  "cells": [
    {
      "cell_type": "markdown",
      "metadata": {
        "id": "92ay0PYSwlJ7"
      },
      "source": [
        "# Python | Programación funcional\n",
        "\n",
        "### Ejercicio 1.\n",
        "\n",
        "1. Utiliza `reduce` para concatenar estas palabras en una frase\n",
        "```Python\n",
        "ejer_1 = (\"to\", \"be\", \"or\", \"not\", \"to\", \"be\", \"that\", \"is\", \"the\", \"question\")\n",
        "```"
      ]
    },
    {
      "cell_type": "code",
      "metadata": {
        "id": "idiWKAONwlKF"
      },
      "source": [
        "ejer_1 = (\"to\", \"be\", \"or\", \"not\", \"to\", \"be\", \"that\", \"is\", \"the\", \"question\")\n",
        "from functools import reduce\n",
        "concatenado = reduce(lambda x, y: x + ' ' + y, ejer_1)\n",
        "concatenado"
      ],
      "execution_count": 7,
      "outputs": [
        {
          "output_type": "execute_result",
          "data": {
            "text/plain": [
              "'to be or not to be that is the question'"
            ]
          },
          "metadata": {},
          "execution_count": 7
        }
      ]
    },
    {
      "cell_type": "markdown",
      "metadata": {
        "id": "R5wYILbowlKH"
      },
      "source": [
        "2. Obtén una nueva tupla con el cuadrado de cada elemento de la siguiente tupla\n",
        "\n",
        "```Python\n",
        "ejer_2 = (1,2,3,4,5)\n",
        "```"
      ]
    },
    {
      "cell_type": "code",
      "metadata": {
        "id": "82SVKhVmwlKI"
      },
      "source": [
        "ejer_2 = (1,2,3,4,5)\n",
        "tupla_ejer_2 = tuple(map(lambda x: x**2, ejer_2))\n",
        "tupla_ejer_2"
      ],
      "execution_count": 6,
      "outputs": [
        {
          "output_type": "execute_result",
          "data": {
            "text/plain": [
              "(1, 4, 9, 16, 25)"
            ]
          },
          "metadata": {},
          "execution_count": 6
        }
      ]
    },
    {
      "cell_type": "markdown",
      "metadata": {
        "id": "AcxrT1sUwlKI"
      },
      "source": [
        "3. Filtra aquellos elementos que sean multiplos de 3 o de 5\n",
        "```Python\n",
        "ejer_3 = (1,2,3,4,5,15,21,22,33,34,35)\n",
        "```"
      ]
    },
    {
      "cell_type": "code",
      "metadata": {
        "id": "uUP3CYdkwlKJ"
      },
      "source": [
        "ejer_3 = (1,2,3,4,5,15,21,22,33,34,35)\n",
        "\n",
        "list(filter(lambda x: x % 3 == 0 or x % 5 == 0, ejer_3))"
      ],
      "execution_count": 9,
      "outputs": [
        {
          "output_type": "execute_result",
          "data": {
            "text/plain": [
              "[3, 5, 15, 21, 33, 35]"
            ]
          },
          "metadata": {},
          "execution_count": 9
        }
      ]
    },
    {
      "cell_type": "markdown",
      "metadata": {
        "id": "Ih2qQecGwlKK"
      },
      "source": [
        "4. Convierte la siguiente tupla de pesetas a euros\n",
        "```Python\n",
        "ejer_4 = (1000, 8000, 20000000, 40000000)\n",
        "```"
      ]
    },
    {
      "cell_type": "code",
      "metadata": {
        "id": "UNKZ8QHhwlKN"
      },
      "source": [
        "ejer_4 = (1000, 8000, 20000000, 40000000)\n",
        "\n",
        "tuple(map(lambda x: str(round(x/166.386,3)) + ' euros', ejer_4))"
      ],
      "execution_count": 17,
      "outputs": [
        {
          "output_type": "execute_result",
          "data": {
            "text/plain": [
              "('6.01 euros', '48.081 euros', '120202.421 euros', '240404.842 euros')"
            ]
          },
          "metadata": {},
          "execution_count": 17
        }
      ]
    },
    {
      "cell_type": "markdown",
      "metadata": {
        "id": "TfJMqNvfwlKO"
      },
      "source": [
        "5. Convierte la siguiente lista de desconocidos a mayusculas\n",
        "```Python\n",
        "ejer_5 = (\"Arya\", \"John\", \"Robb\", \"Bran\", \"Sansa\", \"Rickon\")\n",
        "```"
      ]
    },
    {
      "cell_type": "code",
      "metadata": {
        "id": "GqAN0k1YwlKO"
      },
      "source": [
        "ejer_5 = (\"Arya\", \"John\", \"Robb\", \"Bran\", \"Sansa\", \"Rickon\")\n",
        "\n",
        "list(map(lambda x: x.upper(), ejer_5))"
      ],
      "execution_count": 18,
      "outputs": [
        {
          "output_type": "execute_result",
          "data": {
            "text/plain": [
              "['ARYA', 'JOHN', 'ROBB', 'BRAN', 'SANSA', 'RICKON']"
            ]
          },
          "metadata": {},
          "execution_count": 18
        }
      ]
    },
    {
      "cell_type": "markdown",
      "metadata": {
        "id": "o_HBbrsSwlKO"
      },
      "source": [
        "6. Realiza un conversor de dias de la semana en texto a numerico (1-7), usando `map`.\n",
        "```Python\n",
        "ejer_6 = (\"Lunes\", \"Martes\", \"Miércoles\", \"Jueves\", \"Viernes\", \"Sábado\", \"Domingo\")\n",
        "```"
      ]
    },
    {
      "cell_type": "code",
      "metadata": {
        "id": "5g22Xj4lwlKP"
      },
      "source": [
        "ejer_6 = (\"Lunes\", \"Martes\", \"Miércoles\", \"Jueves\", \"Viernes\", \"Sábado\", \"Domingo\")\n",
        "def dia_numero(dia):\n",
        "    numeros = range(1,8)\n",
        "    su_numero = tuple(map(lambda x, y: y, ejer_6, numeros))\n",
        "    diccionario = dict(zip(ejer_6, su_numero))\n",
        "    return diccionario[dia]\n"
      ],
      "execution_count": 12,
      "outputs": []
    },
    {
      "cell_type": "code",
      "execution_count": 13,
      "metadata": {},
      "outputs": [
        {
          "output_type": "execute_result",
          "data": {
            "text/plain": [
              "4"
            ]
          },
          "metadata": {},
          "execution_count": 13
        }
      ],
      "source": [
        "dia_numero(dia = 'Jueves')"
      ]
    },
    {
      "cell_type": "code",
      "execution_count": 14,
      "metadata": {},
      "outputs": [
        {
          "output_type": "execute_result",
          "data": {
            "text/plain": [
              "[2, 4, 4]"
            ]
          },
          "metadata": {},
          "execution_count": 14
        }
      ],
      "source": [
        "def leo_funcion(dia_semana):\n",
        "    diccionario = {k:v for k,v in zip(ejer_6,range(1,8))}\n",
        "    return diccionario[dia_semana]\n",
        "\n",
        "list(map(leo_funcion, [\"Martes\", \"Jueves\", \"Jueves\"]))"
      ]
    },
    {
      "cell_type": "code",
      "execution_count": 16,
      "metadata": {},
      "outputs": [
        {
          "output_type": "execute_result",
          "data": {
            "text/plain": [
              "[2, 4, 7]"
            ]
          },
          "metadata": {},
          "execution_count": 16
        }
      ],
      "source": [
        "diccionario = dict(zip(ejer_6,range(1,8)))\n",
        "\n",
        "list(map(lambda x: diccionario[x], [\"Martes\", \"Jueves\", \"Domingo\"]))"
      ]
    },
    {
      "cell_type": "code",
      "execution_count": 21,
      "metadata": {},
      "outputs": [
        {
          "output_type": "stream",
          "name": "stdout",
          "text": [
            "{'Lunes': 1, 'Martes': 2, 'Miércoles': 3, 'Jueves': 4, 'Viernes': 5, 'Sábado': 6, 'Domingo': 7}\n{'Lunes': 1, 'Martes': 2, 'Miércoles': 3, 'Jueves': 4, 'Viernes': 5, 'Sábado': 6, 'Domingo': 7}\n{'Lunes': 1, 'Martes': 2, 'Miércoles': 3, 'Jueves': 4, 'Viernes': 5, 'Sábado': 6, 'Domingo': 7}\n"
          ]
        },
        {
          "output_type": "execute_result",
          "data": {
            "text/plain": [
              "[1, 7, 3]"
            ]
          },
          "metadata": {},
          "execution_count": 21
        }
      ],
      "source": [
        "ejer_6 = (\"Lunes\", \"Martes\", \"Miércoles\", \"Jueves\", \"Viernes\", \"Sábado\", \"Domingo\")\n",
        "\n",
        "def leo_funcion1(dia_semana):\n",
        "    diccionario = dict(zip(ejer_6,range(1,8)))\n",
        "    print(diccionario)\n",
        "    return diccionario[dia_semana]\n",
        "\n",
        "list(map(leo_funcion1, ('Lunes', 'Domingo', 'Miércoles')))"
      ]
    },
    {
      "cell_type": "code",
      "execution_count": 26,
      "metadata": {},
      "outputs": [
        {
          "output_type": "execute_result",
          "data": {
            "text/plain": [
              "[2, 4, 4]"
            ]
          },
          "metadata": {},
          "execution_count": 26
        }
      ],
      "source": [
        "def leo_funcion2(dia_semana):\n",
        "    diccionario = {k:v for k,v in zip(ejer_6,range(1,8))}\n",
        "    return diccionario[dia_semana]\n",
        "\n",
        "list(map(leo_funcion2, [\"Martes\", \"Jueves\", \"Jueves\"]))"
      ]
    },
    {
      "cell_type": "code",
      "execution_count": 25,
      "metadata": {},
      "outputs": [
        {
          "output_type": "execute_result",
          "data": {
            "text/plain": [
              "[('Lunes', 1),\n",
              " ('Martes', 2),\n",
              " ('Miércoles', 3),\n",
              " ('Jueves', 4),\n",
              " ('Viernes', 5),\n",
              " ('Sábado', 6),\n",
              " ('Domingo', 7)]"
            ]
          },
          "metadata": {},
          "execution_count": 25
        }
      ],
      "source": [
        "list(zip(ejer_6,range(1,8)))"
      ]
    },
    {
      "cell_type": "code",
      "execution_count": 28,
      "metadata": {},
      "outputs": [
        {
          "output_type": "execute_result",
          "data": {
            "text/plain": [
              "[2, 4, 4]"
            ]
          },
          "metadata": {},
          "execution_count": 28
        }
      ],
      "source": [
        "diccionario = dict(zip(ejer_6,range(1,8)))\n",
        "def leo_funcion3(dia_semana):\n",
        "    return diccionario[dia_semana]\n",
        "\n",
        "list(map(leo_funcion3, [\"Martes\", \"Jueves\", \"Jueves\"]))"
      ]
    },
    {
      "cell_type": "code",
      "execution_count": 29,
      "metadata": {},
      "outputs": [
        {
          "output_type": "execute_result",
          "data": {
            "text/plain": [
              "[2, 4, 4]"
            ]
          },
          "metadata": {},
          "execution_count": 29
        }
      ],
      "source": [
        "diccionario = dict(zip(ejer_6,range(1,8)))\n",
        "\n",
        "list(map(lambda x: diccionario[x], [\"Martes\", \"Jueves\", \"Jueves\"]))"
      ]
    },
    {
      "cell_type": "markdown",
      "metadata": {
        "id": "9RJMrkukwlKP"
      },
      "source": [
        "7. Utiliza `map` para multiplicar elemento a elemento estas dos tuplas\n",
        "```Python\n",
        "ejer_7_1 = (2, 5, 8)\n",
        "ejer_7_2 = (6, 3, 2)\n",
        "```"
      ]
    },
    {
      "cell_type": "code",
      "metadata": {
        "id": "KJzX4mtdwlKQ"
      },
      "source": [
        "ejer_7_1 = (2, 5, 8)\n",
        "ejer_7_2 = (6, 3, 2)\n",
        "\n",
        "list(map(lambda x, y: x * y, ejer_7_1, ejer_7_2))"
      ],
      "execution_count": 19,
      "outputs": [
        {
          "output_type": "execute_result",
          "data": {
            "text/plain": [
              "[12, 15, 16]"
            ]
          },
          "metadata": {},
          "execution_count": 19
        }
      ]
    },
    {
      "cell_type": "markdown",
      "metadata": {
        "id": "f075v4u4wlKQ"
      },
      "source": [
        "8. Crea una tupla nueva con todos los coches que no sean VW :)\n",
        "\n",
        "```Python\n",
        "ejer_8 = (\"VW\", \"Audi\", \"Renault\", \"VW\", \"BMW\")\n",
        "```"
      ]
    },
    {
      "cell_type": "code",
      "metadata": {
        "id": "_plSU3kcwlKR"
      },
      "source": [
        "ejer_8 = (\"VW\", \"Audi\", \"Renault\", \"VW\", \"BMW\")\n",
        "\n",
        "tuple(filter(lambda x: x != 'VW', ejer_8))"
      ],
      "execution_count": 20,
      "outputs": [
        {
          "output_type": "execute_result",
          "data": {
            "text/plain": [
              "('Audi', 'Renault', 'BMW')"
            ]
          },
          "metadata": {},
          "execution_count": 20
        }
      ]
    },
    {
      "cell_type": "markdown",
      "metadata": {
        "id": "Swb5sE5mwlKR"
      },
      "source": [
        "9. Dadas las siguientes fechas en formato string, quedate con aquellas del año 2020\n",
        "\n",
        "```Python\n",
        "ejer_9 = (\"2019-04-08\", \"2020-10-10\", \"2020-01-22\", \"2019-07-13\", \"2019-02-01\")\n",
        "```"
      ]
    },
    {
      "cell_type": "code",
      "metadata": {
        "id": "0cDb1-77wlKR"
      },
      "source": [
        "ejer_9 = (\"2019-04-08\", \"2020-10-10\", \"2020-01-22\", \"2019-07-13\", \"2019-02-01\")\n",
        "\n",
        "tuple(filter(lambda x: x[2]+x[3] =='20', ejer_9))"
      ],
      "execution_count": 22,
      "outputs": [
        {
          "output_type": "execute_result",
          "data": {
            "text/plain": [
              "('2020-10-10', '2020-01-22')"
            ]
          },
          "metadata": {},
          "execution_count": 22
        }
      ]
    },
    {
      "cell_type": "markdown",
      "metadata": {
        "id": "YIm-GbzTwlKR"
      },
      "source": [
        "10. Filtra aquellos strings que sean [palíndromos](https://es.wikipedia.org/wiki/Pal%C3%ADndromo)\n",
        "```Python\n",
        "ejer_10 = (\"php\", \"w3r\", \"Python\", \"abcd\", \"Java\", \"aaa\")\n",
        "```"
      ]
    },
    {
      "cell_type": "code",
      "metadata": {
        "id": "Yo-DUAEiwlKS"
      },
      "source": [
        "ejer_10 = (\"php\", \"w3r\", \"Python\", \"abcd\", \"Java\", \"aaa\")\n",
        "\n",
        "tuple(filter(lambda x: x == x[::-1], ejer_10))"
      ],
      "execution_count": 33,
      "outputs": [
        {
          "output_type": "execute_result",
          "data": {
            "text/plain": [
              "('php', 'aaa')"
            ]
          },
          "metadata": {},
          "execution_count": 33
        }
      ]
    },
    {
      "cell_type": "markdown",
      "metadata": {
        "id": "zR0itOAtwlKS"
      },
      "source": [
        "### Bonus Track.\n",
        "\n",
        "- Resuelve esta kata usando `map`\n",
        "https://www.codewars.com/kata/554b4ac871d6813a03000035\n",
        "\n",
        "Nota: si es demasiado difícil intenta resolverla sin usar `map` y si lo consigues, vuelve a resolverla usando `map`."
      ]
    },
    {
      "cell_type": "code",
      "metadata": {
        "id": "MNJZ6IBgwlKS"
      },
      "source": [
        "def high_and_low(numbers):\n",
        "    lista_string = numbers.split(' ')\n",
        "    lista_enteros = list(map(int, lista_string))\n",
        "    numbers = str(max(lista_enteros)) + ' ' + str(min(lista_enteros))\n",
        "    return numbers"
      ],
      "execution_count": 57,
      "outputs": []
    },
    {
      "cell_type": "code",
      "execution_count": 58,
      "metadata": {},
      "outputs": [
        {
          "output_type": "execute_result",
          "data": {
            "text/plain": [
              "'22 -11'"
            ]
          },
          "metadata": {},
          "execution_count": 58
        }
      ],
      "source": [
        "num = '3 -3 6 9 22 0 -11'\n",
        "high_and_low(num)"
      ]
    }
  ]
}