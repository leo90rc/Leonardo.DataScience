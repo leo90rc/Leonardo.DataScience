{
 "cells": [
  {
   "cell_type": "markdown",
   "metadata": {},
   "source": [
    "# Python | day 6 | dictionaries"
   ]
  },
  {
   "cell_type": "markdown",
   "metadata": {},
   "source": [
    "Dictionaries are used to store data values in key:value pairs.\n",
    "\n",
    "A dictionary is a collection which is unordered, changeable and does not allow duplicates.\n",
    "\n",
    "Dictionaries are written with curly brackets, and have keys and values:"
   ]
  },
  {
   "cell_type": "markdown",
   "metadata": {},
   "source": [
    "```python\n",
    "thisdict = {\n",
    "  \"brand\": \"Ford\",\n",
    "  \"model\": \"Mustang\",\n",
    "  \"year\": 1964\n",
    "}\n",
    "```"
   ]
  },
  {
   "cell_type": "markdown",
   "metadata": {},
   "source": [
    "https://www.w3schools.com/python/python_dictionaries.asp"
   ]
  },
  {
   "cell_type": "markdown",
   "metadata": {},
   "source": [
    "### Exercise 1. \n",
    "\n",
    "1. Create a dictionary with an integer 5 as the key and \"val\" as its value."
   ]
  },
  {
   "cell_type": "code",
   "execution_count": 1,
   "metadata": {},
   "outputs": [],
   "source": [
    "diccionario = {5: 'val'}"
   ]
  },
  {
   "cell_type": "markdown",
   "metadata": {},
   "source": [
    "2. Create two lists: one that has 4 city names and another that has 4 landmarks in the city."
   ]
  },
  {
   "cell_type": "code",
   "execution_count": 2,
   "metadata": {},
   "outputs": [],
   "source": [
    "lista_ciudad = ['Rosario', 'Barcelona', 'Londres', 'Roma']\n",
    "lista_landmark = ['Monumento a la bandera', 'Torre Agbar', 'Big Ben', 'Coliseo']"
   ]
  },
  {
   "cell_type": "markdown",
   "metadata": {},
   "source": [
    "3. Create a dictionary where the cities contained in the first list are the **keys** and the landmarks are the **values**.\n",
    "```python\n",
    "#example\n",
    "places = {\"Malaga\": \"Gibralfaro\", \n",
    "         \"Madrid\": \"Templo de Debod\",\n",
    "         \"Granada\": \"La Alcazaba\",\n",
    "         \"Barcelona\": \"Sagrada Familia\"}\n",
    "```"
   ]
  },
  {
   "cell_type": "code",
   "execution_count": 3,
   "metadata": {},
   "outputs": [
    {
     "output_type": "execute_result",
     "data": {
      "text/plain": [
       "{'Rosario': 'Monumento a la bandera',\n",
       " 'Barcelona': 'Torre Agbar',\n",
       " 'Londres': 'Big Ben',\n",
       " 'Roma': 'Coliseo'}"
      ]
     },
     "metadata": {},
     "execution_count": 3
    }
   ],
   "source": [
    "diccionario_ciudades = {}\n",
    "\n",
    "for i, elem in enumerate(lista_ciudad):\n",
    "    diccionario_ciudades[elem] = lista_landmark[i]\n",
    "\n",
    "diccionario_ciudades"
   ]
  },
  {
   "cell_type": "code",
   "execution_count": 4,
   "metadata": {},
   "outputs": [
    {
     "output_type": "execute_result",
     "data": {
      "text/plain": [
       "'M'"
      ]
     },
     "metadata": {},
     "execution_count": 4
    }
   ],
   "source": [
    "diccionario_ciudades['Rosario'][0]"
   ]
  },
  {
   "cell_type": "markdown",
   "metadata": {},
   "source": [
    "4. Loop through the dictionary and print only the values of those keys starting with the letter **M**.\n",
    "\n",
    "https://realpython.com/iterate-through-dictionary-python/"
   ]
  },
  {
   "cell_type": "code",
   "execution_count": 5,
   "metadata": {},
   "outputs": [
    {
     "output_type": "stream",
     "name": "stdout",
     "text": [
      "Monumento a la bandera\n"
     ]
    }
   ],
   "source": [
    "variable_de_ayuda = 0\n",
    "for ciudad, landmark in diccionario_ciudades.items():\n",
    "    if diccionario_ciudades[ciudad][0] == 'M':\n",
    "        print (landmark)\n",
    "        variable_de_ayuda += 1\n",
    "if variable_de_ayuda == 0:\n",
    "    print('Ningún valor comienza por la letra M.')"
   ]
  },
  {
   "cell_type": "markdown",
   "metadata": {},
   "source": [
    "5. Create a function that receives two lists `list1` and `list2` by parameter and returns a dictionary with each element of `list1` as keys and the elements of `list2` as values. Call the function with the lists you have created before to return the same dictionary you've created in question 3. "
   ]
  },
  {
   "cell_type": "code",
   "execution_count": 6,
   "metadata": {},
   "outputs": [],
   "source": [
    "def funcion_ciudades(list1, list2):\n",
    "    dic_funcion = {}\n",
    "    for posicion, ciudad in enumerate(list1):\n",
    "        dic_funcion[ciudad] = list2[posicion]\n",
    "    return dic_funcion"
   ]
  },
  {
   "cell_type": "code",
   "execution_count": 7,
   "metadata": {},
   "outputs": [
    {
     "output_type": "execute_result",
     "data": {
      "text/plain": [
       "{'Rosario': 'Monumento a la bandera',\n",
       " 'Barcelona': 'Torre Agbar',\n",
       " 'Londres': 'Big Ben',\n",
       " 'Roma': 'Coliseo'}"
      ]
     },
     "metadata": {},
     "execution_count": 7
    }
   ],
   "source": [
    "funcion_ciudades(list1=lista_ciudad, list2=lista_landmark)"
   ]
  },
  {
   "cell_type": "markdown",
   "metadata": {},
   "source": [
    "### Exercise 2. "
   ]
  },
  {
   "cell_type": "markdown",
   "metadata": {},
   "source": [
    "1. Create an empty dictionary called dog."
   ]
  },
  {
   "cell_type": "code",
   "execution_count": 8,
   "metadata": {},
   "outputs": [],
   "source": [
    "dog = {}"
   ]
  },
  {
   "cell_type": "markdown",
   "metadata": {},
   "source": [
    "2. Add name, color, breed, legs, age to the dog dictionary."
   ]
  },
  {
   "cell_type": "code",
   "execution_count": 9,
   "metadata": {},
   "outputs": [
    {
     "output_type": "execute_result",
     "data": {
      "text/plain": [
       "{'Name': 'Dinamita',\n",
       " 'Color': 'Blanco',\n",
       " 'Breed': 'Caniche toy',\n",
       " 'Legs': 4,\n",
       " 'Age': 10}"
      ]
     },
     "metadata": {},
     "execution_count": 9
    }
   ],
   "source": [
    "dog['Name'] = 'Dinamita'\n",
    "dog['Color'] = 'Blanco'\n",
    "dog['Breed'] = 'Caniche toy'\n",
    "dog['Legs'] = 4\n",
    "dog['Age'] = 10\n",
    "dog"
   ]
  },
  {
   "cell_type": "markdown",
   "metadata": {},
   "source": [
    "3. Create a student dictionary and add first_name, last_name, age, skills, country, city and address as keys for the dictionary.\n"
   ]
  },
  {
   "cell_type": "code",
   "execution_count": 10,
   "metadata": {},
   "outputs": [
    {
     "output_type": "execute_result",
     "data": {
      "text/plain": [
       "{'first_name': 'Leonardo',\n",
       " 'last_name': 'Frazzetto',\n",
       " 'age': 31,\n",
       " 'skills': ['Cocinar', 'Fútbol'],\n",
       " 'country': 'Argentina',\n",
       " 'city': 'Rosario',\n",
       " 'address': 'Dean Funes 2050'}"
      ]
     },
     "metadata": {},
     "execution_count": 10
    }
   ],
   "source": [
    "student = {}\n",
    "student['first_name'] = 'Leonardo'\n",
    "student['last_name'] = 'Frazzetto'\n",
    "student['age'] = 31\n",
    "student['skills'] = ['Cocinar', 'Fútbol']\n",
    "student['country'] = 'Argentina'\n",
    "student['city'] = 'Rosario'\n",
    "student['address'] = 'Dean Funes 2050'\n",
    "student"
   ]
  },
  {
   "cell_type": "markdown",
   "metadata": {},
   "source": [
    "4. Get the length of the student dictionary.\n"
   ]
  },
  {
   "cell_type": "code",
   "execution_count": 11,
   "metadata": {},
   "outputs": [
    {
     "output_type": "execute_result",
     "data": {
      "text/plain": [
       "7"
      ]
     },
     "metadata": {},
     "execution_count": 11
    }
   ],
   "source": [
    "len(student)"
   ]
  },
  {
   "cell_type": "markdown",
   "metadata": {},
   "source": [
    "5. Get the value of skills and check the data type, it should be a list."
   ]
  },
  {
   "cell_type": "code",
   "execution_count": 12,
   "metadata": {},
   "outputs": [
    {
     "output_type": "stream",
     "name": "stdout",
     "text": [
      "['Cocinar', 'Fútbol']\n"
     ]
    },
    {
     "output_type": "execute_result",
     "data": {
      "text/plain": [
       "list"
      ]
     },
     "metadata": {},
     "execution_count": 12
    }
   ],
   "source": [
    "print(student['skills'])\n",
    "type(student['skills'])"
   ]
  },
  {
   "cell_type": "markdown",
   "metadata": {},
   "source": [
    "6. Modify the skills values by adding one or two skills."
   ]
  },
  {
   "cell_type": "code",
   "execution_count": 13,
   "metadata": {},
   "outputs": [
    {
     "output_type": "execute_result",
     "data": {
      "text/plain": [
       "{'first_name': 'Leonardo',\n",
       " 'last_name': 'Frazzetto',\n",
       " 'age': 31,\n",
       " 'skills': ['Cocinar', 'Fútbol', 'Ukelele', 'Python'],\n",
       " 'country': 'Argentina',\n",
       " 'city': 'Rosario',\n",
       " 'address': 'Dean Funes 2050'}"
      ]
     },
     "metadata": {},
     "execution_count": 13
    }
   ],
   "source": [
    "student['skills'].append('Ukelele')\n",
    "student['skills'].append('Python')\n",
    "student"
   ]
  },
  {
   "cell_type": "code",
   "execution_count": 14,
   "metadata": {},
   "outputs": [
    {
     "output_type": "execute_result",
     "data": {
      "text/plain": [
       "{'first_name': 'Leonardo',\n",
       " 'last_name': 'Frazzetto',\n",
       " 'age': 31,\n",
       " 'skills': ['Cocinar', 'Fútbol', 'Ukelele', 'Python', 'Rugby', 'Voley'],\n",
       " 'country': 'Argentina',\n",
       " 'city': 'Rosario',\n",
       " 'address': 'Dean Funes 2050'}"
      ]
     },
     "metadata": {},
     "execution_count": 14
    }
   ],
   "source": [
    "# OTRA MANERA DE HACER LO ANTERIOR --> metodo extend()\n",
    "\n",
    "student['skills'].extend(['Rugby', 'Voley'])\n",
    "student"
   ]
  },
  {
   "cell_type": "markdown",
   "metadata": {},
   "source": [
    "7. Get the dictionary keys as a list."
   ]
  },
  {
   "cell_type": "code",
   "execution_count": 15,
   "metadata": {},
   "outputs": [
    {
     "output_type": "execute_result",
     "data": {
      "text/plain": [
       "['first_name', 'last_name', 'age', 'skills', 'country', 'city', 'address']"
      ]
     },
     "metadata": {},
     "execution_count": 15
    }
   ],
   "source": [
    "list(student.keys())"
   ]
  },
  {
   "cell_type": "markdown",
   "metadata": {},
   "source": [
    "8. Get the dictionary values as a list.\n"
   ]
  },
  {
   "cell_type": "code",
   "execution_count": 16,
   "metadata": {},
   "outputs": [
    {
     "output_type": "execute_result",
     "data": {
      "text/plain": [
       "['Leonardo',\n",
       " 'Frazzetto',\n",
       " 31,\n",
       " ['Cocinar', 'Fútbol', 'Ukelele', 'Python', 'Rugby', 'Voley'],\n",
       " 'Argentina',\n",
       " 'Rosario',\n",
       " 'Dean Funes 2050']"
      ]
     },
     "metadata": {},
     "execution_count": 16
    }
   ],
   "source": [
    "list(student.values())"
   ]
  },
  {
   "cell_type": "markdown",
   "metadata": {},
   "source": [
    "9. Change the dictionary to a list of tuples using `items()` method"
   ]
  },
  {
   "cell_type": "code",
   "execution_count": 17,
   "metadata": {},
   "outputs": [
    {
     "output_type": "execute_result",
     "data": {
      "text/plain": [
       "[('first_name', 'Leonardo'),\n",
       " ('last_name', 'Frazzetto'),\n",
       " ('age', 31),\n",
       " ('skills', ['Cocinar', 'Fútbol', 'Ukelele', 'Python', 'Rugby', 'Voley']),\n",
       " ('country', 'Argentina'),\n",
       " ('city', 'Rosario'),\n",
       " ('address', 'Dean Funes 2050')]"
      ]
     },
     "metadata": {},
     "execution_count": 17
    }
   ],
   "source": [
    "lista_de_tuplas_student = []\n",
    "for key, value in student.items():\n",
    "    lista_de_tuplas_student.append((key, value))\n",
    "\n",
    "lista_de_tuplas_student"
   ]
  },
  {
   "cell_type": "code",
   "execution_count": 18,
   "metadata": {},
   "outputs": [
    {
     "output_type": "stream",
     "name": "stdout",
     "text": [
      "[('first_name', 'Leonardo'), ('last_name', 'Frazzetto'), ('age', 31), ('skills', ['Cocinar', 'Fútbol', 'Ukelele', 'Python', 'Rugby', 'Voley']), ('country', 'Argentina'), ('city', 'Rosario'), ('address', 'Dean Funes 2050')]\n"
     ]
    }
   ],
   "source": [
    "# OTRA FORMA DE HACER EL ANTERIOR\n",
    "\n",
    "tupla = student.items()\n",
    "lista_student = list(tupla)\n",
    "print(lista_student)"
   ]
  },
  {
   "cell_type": "markdown",
   "metadata": {},
   "source": [
    "10. Delete one of the items in the dictionary.\n"
   ]
  },
  {
   "cell_type": "code",
   "execution_count": 19,
   "metadata": {},
   "outputs": [
    {
     "output_type": "execute_result",
     "data": {
      "text/plain": [
       "{'first_name': 'Leonardo',\n",
       " 'last_name': 'Frazzetto',\n",
       " 'age': 31,\n",
       " 'skills': ['Cocinar', 'Fútbol', 'Ukelele', 'Python', 'Rugby', 'Voley'],\n",
       " 'country': 'Argentina',\n",
       " 'city': 'Rosario'}"
      ]
     },
     "metadata": {},
     "execution_count": 19
    }
   ],
   "source": [
    "del student['address']\n",
    "student"
   ]
  },
  {
   "cell_type": "markdown",
   "metadata": {},
   "source": [
    "### Bonus Track"
   ]
  },
  {
   "cell_type": "markdown",
   "metadata": {},
   "source": [
    "**Tómate un zumito a tu salud.**"
   ]
  },
  {
   "cell_type": "markdown",
   "metadata": {},
   "source": [
    "!['daughter'](https://i.pinimg.com/originals/8f/35/28/8f35281e742e71be09697e7e6789b819.png)"
   ]
  },
  {
   "cell_type": "code",
   "execution_count": null,
   "metadata": {},
   "outputs": [],
   "source": []
  },
  {
   "cell_type": "code",
   "execution_count": 20,
   "metadata": {},
   "outputs": [
    {
     "output_type": "execute_result",
     "data": {
      "text/plain": [
       "{'Rosario': 'Monumento a la bandera',\n",
       " 'Barcelona': 'Torre Agbar',\n",
       " 'Londres': 'Big Ben',\n",
       " 'Roma': 'Coliseo'}"
      ]
     },
     "metadata": {},
     "execution_count": 20
    }
   ],
   "source": [
    "diccionario_ciudades"
   ]
  },
  {
   "cell_type": "code",
   "execution_count": 21,
   "metadata": {},
   "outputs": [],
   "source": [
    "lista_tuplas = []"
   ]
  },
  {
   "cell_type": "code",
   "execution_count": 23,
   "metadata": {},
   "outputs": [
    {
     "output_type": "execute_result",
     "data": {
      "text/plain": [
       "[('Rosario', 'Monumento a la bandera'),\n",
       " ('Barcelona', 'Torre Agbar'),\n",
       " ('Londres', 'Big Ben'),\n",
       " ('Roma', 'Coliseo')]"
      ]
     },
     "metadata": {},
     "execution_count": 23
    }
   ],
   "source": [
    "list(diccionario_ciudades.items())"
   ]
  },
  {
   "cell_type": "code",
   "execution_count": null,
   "metadata": {},
   "outputs": [],
   "source": []
  }
 ],
 "metadata": {
  "kernelspec": {
   "name": "python374jvsc74a57bd0a0947237fadc8b5561fed326db280cc5ec46a670c87cfb3a0489cf95ff262303",
   "display_name": "Python 3.7.4 64-bit"
  },
  "language_info": {
   "codemirror_mode": {
    "name": "ipython",
    "version": 3
   },
   "file_extension": ".py",
   "mimetype": "text/x-python",
   "name": "python",
   "nbconvert_exporter": "python",
   "pygments_lexer": "ipython3",
   "version": "3.7.4"
  },
  "metadata": {
   "interpreter": {
    "hash": "a0947237fadc8b5561fed326db280cc5ec46a670c87cfb3a0489cf95ff262303"
   }
  }
 },
 "nbformat": 4,
 "nbformat_minor": 2
}