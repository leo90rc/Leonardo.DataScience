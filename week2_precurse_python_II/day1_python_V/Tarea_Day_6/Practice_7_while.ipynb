{
  "nbformat": 4,
  "nbformat_minor": 0,
  "metadata": {
    "kernelspec": {
      "name": "python374jvsc74a57bd0a0947237fadc8b5561fed326db280cc5ec46a670c87cfb3a0489cf95ff262303",
      "display_name": "Python 3.7.4 64-bit"
    },
    "language_info": {
      "codemirror_mode": {
        "name": "ipython",
        "version": 3
      },
      "file_extension": ".py",
      "mimetype": "text/x-python",
      "name": "python",
      "nbconvert_exporter": "python",
      "pygments_lexer": "ipython3",
      "version": "3.7.4"
    },
    "colab": {
      "name": "Practice_7_while.ipynb",
      "provenance": []
    },
    "metadata": {
      "interpreter": {
        "hash": "a0947237fadc8b5561fed326db280cc5ec46a670c87cfb3a0489cf95ff262303"
      }
    }
  },
  "cells": [
    {
      "cell_type": "markdown",
      "metadata": {
        "id": "04Z-95RFbRlb"
      },
      "source": [
        "# Python | day 6 | while"
      ]
    },
    {
      "cell_type": "markdown",
      "metadata": {
        "id": "3aJDkzX4bRlh"
      },
      "source": [
        "With the **while** loop we can execute a set of statements as long as a condition is true."
      ]
    },
    {
      "cell_type": "markdown",
      "metadata": {
        "id": "calOOA6pbRli"
      },
      "source": [
        "```python\n",
        "i = 1\n",
        "while i < 6:\n",
        "  print(i)\n",
        "  i += 1\n",
        "```"
      ]
    },
    {
      "cell_type": "markdown",
      "metadata": {
        "id": "8eIjwI_SbRli"
      },
      "source": [
        "https://www.w3schools.com/python/python_while_loops.asp"
      ]
    },
    {
      "cell_type": "markdown",
      "metadata": {
        "id": "d_35HZkhbRlj"
      },
      "source": [
        "### Exercise 1. "
      ]
    },
    {
      "cell_type": "markdown",
      "metadata": {
        "id": "el3z9cHHbRlj"
      },
      "source": [
        "Do as described below:\n",
        "\n",
        "- Make a variable called strength, and set its initial value to 5.\n",
        "\n",
        "- Print a message reporting the player's strength.\n",
        "\n",
        "- Set up a while loop that runs until the player's strength increases to a value such as 10.\n",
        "\n",
        "- Inside the while loop, print a message that reports the player's current strength.\n",
        "\n",
        "- Inside the while loop, write a statement that increases the player's strength.\n",
        "\n",
        "- Outside the while loop, print a message reporting that the player has grown too strong, and that they have moved up to a new level of the game.\n",
        "\n",
        "Play around with different cutoff levels for the value of strength, and play around with different ways to increase the strength value within the while loop.\n"
      ]
    },
    {
      "cell_type": "code",
      "metadata": {
        "id": "GajMe8LWbRlj"
      },
      "source": [
        "strength = 5\n",
        "print(f\"Player's strength is {strength}.\")"
      ],
      "execution_count": 3,
      "outputs": [
        {
          "output_type": "stream",
          "name": "stdout",
          "text": [
            "Player's strength is 5.\n"
          ]
        }
      ]
    },
    {
      "cell_type": "code",
      "execution_count": 4,
      "metadata": {},
      "outputs": [
        {
          "output_type": "stream",
          "name": "stdout",
          "text": [
            "Player's current strength is 5\nPlayer's current strength is 6\nPlayer's current strength is 7\nPlayer's current strength is 8\nPlayer's current strength is 9\n------------------------------\nPlayer's strength is 10 !! --> Level Up !!!\n"
          ]
        }
      ],
      "source": [
        "strength = 5 \n",
        "while strength < 10:\n",
        "    print(f\"Player's current strength is {strength}\")\n",
        "    strength += 1\n",
        "print('------------------------------')\n",
        "print(f\"Player's strength is {strength} !! --> Level Up !!!\")\n"
      ]
    },
    {
      "cell_type": "markdown",
      "metadata": {
        "id": "kAoDMWpLbRlk"
      },
      "source": [
        "### Exercise 2. "
      ]
    },
    {
      "cell_type": "markdown",
      "metadata": {
        "id": "SwjKsfG_bRlk"
      },
      "source": [
        "To solve the following exercises it will be necessary to define a function for each section. You choose the name of those functions unless specified, but make sure you define a single parameter `whichever_list`, when calling the function it will correspond to the variable `info_list`."
      ]
    },
    {
      "cell_type": "code",
      "metadata": {
        "id": "8Nnqv0FUbRll"
      },
      "source": [
        "# you can use this list or take yours from Practice 3\n",
        "info_list = [15, 'Recoletos', True, ['Recoletos', 15],  None, '8'] "
      ],
      "execution_count": 5,
      "outputs": []
    },
    {
      "cell_type": "markdown",
      "metadata": {
        "id": "UmRgMJy6bRll"
      },
      "source": [
        "You have already read these questions below, but this time you are asked to solve it using `while` loop instead of `for`. \n",
        "\n",
        "   - Loop through `whichever_list` to print all the elements it contains. This function should return the list turned into a tuple. \n",
        "   - Loop through `whichever_list` to print all the elements it contains concatenated with the string` \"--> OK\" `. This function should return a message saying, `\"everything will be ok\"`. \n",
        "   - Loop through `whichever_list` to display all items it contains except the first one. This function should return the first element of the list. \n",
        "   - Loop through `whichever_list` to display all the items it contains except the last one. This function should return the last element of the list. "
      ]
    },
    {
      "cell_type": "code",
      "metadata": {
        "id": "jrfNM_56bRll"
      },
      "source": [
        "# Loop through whichever_list to print all the elements it contains. This function should return the list turned into a tuple.\n",
        "\n",
        "def lista_a_tupla(whichever_list):\n",
        "    contador = 0\n",
        "    while contador < len(whichever_list):\n",
        "        print(whichever_list[contador])\n",
        "        contador += 1\n",
        "    return tuple(whichever_list)"
      ],
      "execution_count": 8,
      "outputs": []
    },
    {
      "cell_type": "code",
      "execution_count": 9,
      "metadata": {},
      "outputs": [
        {
          "output_type": "stream",
          "name": "stdout",
          "text": [
            "15\nRecoletos\nTrue\n['Recoletos', 15]\nNone\n8\n"
          ]
        },
        {
          "output_type": "execute_result",
          "data": {
            "text/plain": [
              "(15, 'Recoletos', True, ['Recoletos', 15], None, '8')"
            ]
          },
          "metadata": {},
          "execution_count": 9
        }
      ],
      "source": [
        "lista_a_tupla(whichever_list=info_list)"
      ]
    },
    {
      "cell_type": "code",
      "metadata": {
        "id": "q9vt6Fb_bRll"
      },
      "source": [
        "# Loop through whichever_list to print all the elements it contains concatenated with the string\"--> OK\". This function should return a message saying, \"everything will be ok\".\n",
        "\n",
        "def lista_ok(whichever_list):\n",
        "    contador = 0\n",
        "    while contador < len(whichever_list):\n",
        "        print(str(whichever_list[contador]) + ' --> OK')\n",
        "        contador += 1\n",
        "    return print('Everithing will be ok.')\n"
      ],
      "execution_count": 13,
      "outputs": []
    },
    {
      "cell_type": "code",
      "metadata": {
        "id": "JqZcVartbRlm"
      },
      "source": [
        "lista_ok(whichever_list=info_list)"
      ],
      "execution_count": 14,
      "outputs": [
        {
          "output_type": "stream",
          "name": "stdout",
          "text": [
            "15 --> OK\nRecoletos --> OK\nTrue --> OK\n['Recoletos', 15] --> OK\nNone --> OK\n8 --> OK\nEverithing will be ok.\n"
          ]
        }
      ]
    },
    {
      "cell_type": "code",
      "metadata": {
        "id": "Lqy0L5CdbRlm"
      },
      "source": [
        "# Loop through whichever_list to display all items it contains except the first one. This function should return the first element of the list.\n",
        "\n",
        "def first_no(whichever_list):\n",
        "    contador = 1\n",
        "    while contador < len(whichever_list):\n",
        "        print(whichever_list[contador])\n",
        "        contador += 1\n",
        "    return whichever_list[0]"
      ],
      "execution_count": 15,
      "outputs": []
    },
    {
      "cell_type": "code",
      "metadata": {
        "id": "5uAyL1PIbRlm"
      },
      "source": [
        "first_no(whichever_list=info_list)"
      ],
      "execution_count": 16,
      "outputs": [
        {
          "output_type": "stream",
          "name": "stdout",
          "text": [
            "Recoletos\nTrue\n['Recoletos', 15]\nNone\n8\n"
          ]
        },
        {
          "output_type": "execute_result",
          "data": {
            "text/plain": [
              "15"
            ]
          },
          "metadata": {},
          "execution_count": 16
        }
      ]
    },
    {
      "cell_type": "code",
      "execution_count": 17,
      "metadata": {},
      "outputs": [],
      "source": [
        "# Loop through whichever_list to display all the items it contains except the last one. This function should return the last element of the list.\n",
        "\n",
        "def last_no(whichever_list):\n",
        "    contador = 0\n",
        "    while contador < (len(whichever_list) - 1):\n",
        "        print(whichever_list[contador])\n",
        "        contador += 1\n",
        "    return whichever_list[-1]"
      ]
    },
    {
      "cell_type": "code",
      "execution_count": 18,
      "metadata": {},
      "outputs": [
        {
          "output_type": "stream",
          "name": "stdout",
          "text": [
            "15\nRecoletos\nTrue\n['Recoletos', 15]\nNone\n"
          ]
        },
        {
          "output_type": "execute_result",
          "data": {
            "text/plain": [
              "'8'"
            ]
          },
          "metadata": {},
          "execution_count": 18
        }
      ],
      "source": [
        "last_no(whichever_list=info_list)"
      ]
    },
    {
      "cell_type": "markdown",
      "metadata": {
        "id": "Gg6UIPyibRlm"
      },
      "source": [
        "### Exercise 3. "
      ]
    },
    {
      "cell_type": "markdown",
      "metadata": {
        "id": "WctTAUHXbRlm"
      },
      "source": [
        "1. Define a function that performs the [Fibonacci series](https://quantdare.com/numeros-de-fibonacci/#:~:text=En%20matem%C3%A1ticas%2C%20la%20sucesi%C3%B3n%20o,nombre%20de%20n%C3%BAmero%20de%20Fibonacci.) with a `while`."
      ]
    },
    {
      "cell_type": "code",
      "metadata": {
        "id": "bx9qDw27bRlm"
      },
      "source": [
        "def fibonacci():\n",
        "    lista_fibonacci = [0]\n",
        "    x = 1\n",
        "    y = 0\n",
        "    z = 1 \n",
        "    while len(lista_fibonacci) <= 20:\n",
        "        lista_fibonacci.append(x)\n",
        "        x = lista_fibonacci[y] + lista_fibonacci[z]\n",
        "        y += 1\n",
        "        z += 1\n",
        "    return lista_fibonacci "
      ],
      "execution_count": 20,
      "outputs": []
    },
    {
      "cell_type": "code",
      "execution_count": 21,
      "metadata": {},
      "outputs": [
        {
          "output_type": "execute_result",
          "data": {
            "text/plain": [
              "[0,\n",
              " 1,\n",
              " 1,\n",
              " 2,\n",
              " 3,\n",
              " 5,\n",
              " 8,\n",
              " 13,\n",
              " 21,\n",
              " 34,\n",
              " 55,\n",
              " 89,\n",
              " 144,\n",
              " 233,\n",
              " 377,\n",
              " 610,\n",
              " 987,\n",
              " 1597,\n",
              " 2584,\n",
              " 4181,\n",
              " 6765]"
            ]
          },
          "metadata": {},
          "execution_count": 21
        }
      ],
      "source": [
        "fibonacci()"
      ]
    },
    {
      "cell_type": "markdown",
      "metadata": {
        "id": "32uD7VMtbRln"
      },
      "source": [
        "### Bonus Track."
      ]
    },
    {
      "cell_type": "markdown",
      "metadata": {
        "id": "oorWnykfbRln"
      },
      "source": [
        "To solve the following exercises it will be necessary to define a function for each section. You choose the name of those functions unless specified, but make sure you define a single parameter `whichever_list`, when calling the function it will correspond to the variable `info_list`."
      ]
    },
    {
      "cell_type": "code",
      "metadata": {
        "id": "F_p5c7gJbRln"
      },
      "source": [
        "# you can use this list or take yours from Practice 3\n",
        "info_list = [15, 'Recoletos', True, ['Recoletos', 15],  None, '8'] "
      ],
      "execution_count": 22,
      "outputs": []
    },
    {
      "cell_type": "markdown",
      "metadata": {
        "id": "-SJOms-tbRln"
      },
      "source": [
        "1. Define a function `f_s` that saves the value of a word (for example: \"nothing\") in a variable and print it. Also, concatenate its value with the street number of The Bridge and display it on the screen. \n",
        "\n",
        "   Also, display a boolean **True** if the length of the concatenated word is 6. If not, it will be **False**. The function must return the value **True** or **False**."
      ]
    },
    {
      "cell_type": "code",
      "metadata": {
        "id": "titHsCH3bRlo"
      },
      "source": [
        "def f_s(whichever_list):\n",
        "    var = 'Dinamita'\n",
        "    print(var)\n",
        "    print (var + str(whichever_list[0]))\n",
        "    print(len(var + str(whichever_list[0])) == 6)\n",
        "    return len(var + str(whichever_list[0])) == 6\n"
      ],
      "execution_count": 30,
      "outputs": []
    },
    {
      "cell_type": "code",
      "execution_count": 31,
      "metadata": {},
      "outputs": [
        {
          "output_type": "stream",
          "name": "stdout",
          "text": [
            "Dinamita\nDinamita15\nFalse\n"
          ]
        },
        {
          "output_type": "execute_result",
          "data": {
            "text/plain": [
              "False"
            ]
          },
          "metadata": {},
          "execution_count": 31
        }
      ],
      "source": [
        "f_s(whichever_list=info_list)"
      ]
    },
    {
      "cell_type": "markdown",
      "metadata": {
        "id": "xLe0p2aVbRlo"
      },
      "source": [
        "2. Create a list `list_aux` with 7 elements, whichever you want. Next, create a function `function_use_f_s` which receives as parameters a function `some_function`, a word which is the argument of `some_funtion` and whichever list `whichever_list`. If the value of `some_function` is **True**, then delete an item from `whichever_list`. Repeat the process until `whichever_list` has no elements. The argument for `whichever_list` must be `list_aux` and for `some_function` it will be the function `f_s` from the previous point."
      ]
    },
    {
      "cell_type": "code",
      "metadata": {
        "id": "bdAt4KoJbRlo"
      },
      "source": [
        "list_aux = ['perro', 35, ('hola', 'adiós'), True, 2.5, ['mono', 'oveja'], None]      # EJERCICIO POR COMPLETAR\n",
        "\n",
        "def function_use_f_s(some_function, argumento_some_fuction, whichever_list):\n",
        "    if some_function == True:\n",
        "        whichever_list.pop()\n"
      ],
      "execution_count": null,
      "outputs": []
    },
    {
      "cell_type": "code",
      "execution_count": null,
      "metadata": {},
      "outputs": [],
      "source": [
        "function_use_f_s(some_function=f_s, argumento_some_function=)"
      ]
    },
    {
      "cell_type": "markdown",
      "metadata": {
        "id": "7dJIcuGhbRlo"
      },
      "source": [
        "3. Define a function `even_numbers` that has an input parameter `arg1`, type integer. The function must return a list of numbers of size `arg1`, all of them being even numbers. \n",
        "\n",
        "   Don't use the function `print()` inside the function, but print what `even_numbers` returns when calling it with the argument `10`, just to check your function works.\n",
        "   \n",
        "```python\n",
        "print(even_numbers(10))\n",
        "```"
      ]
    },
    {
      "cell_type": "code",
      "metadata": {
        "id": "cu1bS6r7bRlo"
      },
      "source": [],
      "execution_count": null,
      "outputs": []
    },
    {
      "cell_type": "markdown",
      "metadata": {
        "id": "NfFqxTz_bRlp"
      },
      "source": [
        "4. Create a function that has an input variable `arg1`, which will be the list of even numbers from the previous section, and that removes elements from the list, one by one, if `arg1` has a size divisible by 2 and, if not, it adds just once, the value of the function `f_s` that should be a boolean (`True` or `False`).\n"
      ]
    },
    {
      "cell_type": "code",
      "metadata": {
        "id": "SRAXVTUybRlp"
      },
      "source": [],
      "execution_count": null,
      "outputs": []
    },
    {
      "cell_type": "markdown",
      "metadata": {
        "id": "41xSmarAbRlp"
      },
      "source": [
        "!['nicetry'](https://i.pinimg.com/originals/36/ab/81/36ab81cd8d63cf7c4a08f39403698c77.jpg)"
      ]
    }
  ]
}