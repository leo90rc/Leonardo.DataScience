{
  "nbformat": 4,
  "nbformat_minor": 0,
  "metadata": {
    "kernelspec": {
      "name": "python36464bitc2077ed07ea84d23aa5b518d224882ab",
      "display_name": "Python 3.6.4 64-bit"
    },
    "language_info": {
      "codemirror_mode": {
        "name": "ipython",
        "version": 3
      },
      "file_extension": ".py",
      "mimetype": "text/x-python",
      "name": "python",
      "nbconvert_exporter": "python",
      "pygments_lexer": "ipython3",
      "version": "3.6.4-final"
    },
    "colab": {
      "name": "Practice_5_functions.ipynb",
      "provenance": []
    },
    "metadata": {
      "interpreter": {
        "hash": "5c4d2f1fdcd3716c7a5eea90ad07be30193490dd4e63617705244f5fd89ea793"
      }
    }
  },
  "cells": [
    {
      "cell_type": "markdown",
      "metadata": {
        "id": "z0h_TBcgyjnL"
      },
      "source": [
        "# Python | day 5 | functions"
      ]
    },
    {
      "cell_type": "markdown",
      "metadata": {
        "id": "Qc4DxvxLyjnQ"
      },
      "source": [
        "In Python, a function is a group of related statements that performs a specific task."
      ]
    },
    {
      "cell_type": "markdown",
      "metadata": {
        "id": "QVj0UhPzyjnQ"
      },
      "source": [
        "https://www.programiz.com/python-programming/function"
      ]
    },
    {
      "cell_type": "markdown",
      "metadata": {
        "id": "gLLitNf4yjnQ"
      },
      "source": [
        "#### Difference between `return` and `print`.\n",
        "\n",
        "Take some minutes to understand the difference between `return` and `print`, it seems to be the same, but they are not and it's important you understand the difference. "
      ]
    },
    {
      "cell_type": "code",
      "metadata": {
        "id": "ciz6XowvyjnR"
      },
      "source": [
        "def suma(a,b):\n",
        "    print(a)\n",
        "    return a+b\n",
        "\n",
        "print(suma(suma(2,2),4))"
      ],
      "execution_count": null,
      "outputs": []
    },
    {
      "cell_type": "markdown",
      "metadata": {
        "id": "laG0X4QFyjnR"
      },
      "source": [
        "#### Comments in a function."
      ]
    },
    {
      "cell_type": "code",
      "metadata": {
        "id": "7uuip_j8yjnR"
      },
      "source": [
        "def say_hello(name):\n",
        "    \"\"\"\n",
        "    Given a name as an argument, \n",
        "    the function return a string greeting\n",
        "    the name given. \n",
        "    \"\"\"\n",
        "    return f\"hello {name}\""
      ],
      "execution_count": null,
      "outputs": []
    },
    {
      "cell_type": "code",
      "metadata": {
        "id": "xMWO6YZkyjnS"
      },
      "source": [
        "print(say_hello(\"Clara\"))"
      ],
      "execution_count": null,
      "outputs": []
    },
    {
      "cell_type": "code",
      "metadata": {
        "id": "_NiFxpAIyjnS"
      },
      "source": [
        "help(say_hello)"
      ],
      "execution_count": null,
      "outputs": []
    },
    {
      "cell_type": "markdown",
      "metadata": {
        "id": "FKBd1gzNyjnS"
      },
      "source": [
        "### Exercise 1. "
      ]
    },
    {
      "cell_type": "markdown",
      "metadata": {
        "id": "WUCm55jmyjnS"
      },
      "source": [
        "To solve the following exercises it will be necessary to define a function for each section. You choose the name of those functions unless specified, but make sure you define a single parameter `whichever_list`, when calling the function it will correspond to the variable `info_list`.\n",
        "```python\n",
        "def funtion_bla(whichever_list):\n",
        "    return whichever_list\n",
        "\n",
        "function_bla(info_list)\n",
        "```\n",
        "\n",
        "**In the case of not being able to solve a question containing the code in a function, try to do it without defining one.**"
      ]
    },
    {
      "cell_type": "code",
      "metadata": {
        "id": "QYwz6vT2yjnT"
      },
      "source": [
        "# you can use this list or take yours from Practice 3\n",
        "info_list = [15, 'Recoletos', True, ['Recoletos', 15],  None, '8'] "
      ],
      "execution_count": null,
      "outputs": []
    },
    {
      "cell_type": "markdown",
      "metadata": {
        "id": "10HNoO_KyjnT"
      },
      "source": [
        "1. Display on the screen `\"I like the tranquility\"` if you like the mountains more and `\"I'd love to live in Malaga\"` if you like the beach more.\n",
        "\n"
      ]
    },
    {
      "cell_type": "code",
      "metadata": {
        "id": "pKTD8ZbGyjnT"
      },
      "source": [
        "#define a function which takes a single parameter `whichever_list`\n"
      ],
      "execution_count": null,
      "outputs": []
    },
    {
      "cell_type": "code",
      "metadata": {
        "id": "cJt7OIMNyjnT"
      },
      "source": [
        "#call the function with the variable `info_list`\n"
      ],
      "execution_count": null,
      "outputs": []
    },
    {
      "cell_type": "markdown",
      "metadata": {
        "id": "7mHWLO02yjnT"
      },
      "source": [
        "2. Print `\"Today I am tired\"` if you have slept less than 7 hours or `\"Today I conquer the world\"` if you have slept more than 7 hours."
      ]
    },
    {
      "cell_type": "code",
      "metadata": {
        "id": "yvrnG1wbyjnU"
      },
      "source": [
        "#define a function which takes a single parameter `whichever_list`\n"
      ],
      "execution_count": null,
      "outputs": []
    },
    {
      "cell_type": "code",
      "metadata": {
        "id": "8fdvl6YRyjnU"
      },
      "source": [
        "#call the function with the variable `info_list`\n"
      ],
      "execution_count": null,
      "outputs": []
    },
    {
      "cell_type": "markdown",
      "metadata": {
        "id": "ibHHj8TayjnU"
      },
      "source": [
        "3. Loop through `whichever_list` to print all the elements it contains. This function should return the list turned into a tuple. "
      ]
    },
    {
      "cell_type": "code",
      "metadata": {
        "id": "upP6GTdiyjnU"
      },
      "source": [
        "#define a function which takes a single parameter `whichever_list`\n"
      ],
      "execution_count": null,
      "outputs": []
    },
    {
      "cell_type": "code",
      "metadata": {
        "id": "EwqCNTCKyjnU"
      },
      "source": [
        "#call the function with the variable `info_list`\n"
      ],
      "execution_count": null,
      "outputs": []
    },
    {
      "cell_type": "markdown",
      "metadata": {
        "id": "l5H6l2ZyyjnV"
      },
      "source": [
        "4. Loop through `whichever_list` to print all the elements it contains concatenated with the string` \"--> OK\" `. This function should return a message saying, `\"everything will be ok\"`. \n"
      ]
    },
    {
      "cell_type": "code",
      "metadata": {
        "id": "FAY0gj7ryjnV"
      },
      "source": [
        "#define a function which takes a single parameter `whichever_list`\n"
      ],
      "execution_count": null,
      "outputs": []
    },
    {
      "cell_type": "code",
      "metadata": {
        "id": "LNEfI_24yjnV"
      },
      "source": [
        "#call the function with the variable `info_list`\n"
      ],
      "execution_count": null,
      "outputs": []
    },
    {
      "cell_type": "markdown",
      "metadata": {
        "id": "DxpN9rhfyjnV"
      },
      "source": [
        "5. Loop through `whichever_list` to display all items it contains except the first one. This function should return the first element of the list. "
      ]
    },
    {
      "cell_type": "code",
      "metadata": {
        "id": "DCf1kFr6yjnV"
      },
      "source": [
        "#define a function which takes a single parameter `whichever_list`\n"
      ],
      "execution_count": null,
      "outputs": []
    },
    {
      "cell_type": "code",
      "metadata": {
        "id": "n_Rh7MBSyjnV"
      },
      "source": [
        "#call the function with the variable `info_list`\n"
      ],
      "execution_count": null,
      "outputs": []
    },
    {
      "cell_type": "markdown",
      "metadata": {
        "id": "sZKj4waFyjnW"
      },
      "source": [
        "6. Loop through `whichever_list` to display all the items it contains except the last one. This function should return the last element of the list. "
      ]
    },
    {
      "cell_type": "code",
      "metadata": {
        "id": "_TLl9ZdfyjnW"
      },
      "source": [
        "#define a function which takes a single parameter `whichever_list`\n"
      ],
      "execution_count": null,
      "outputs": []
    },
    {
      "cell_type": "code",
      "metadata": {
        "id": "CEdnChfCyjnW"
      },
      "source": [
        "#call the function with the variable `info_list`\n"
      ],
      "execution_count": null,
      "outputs": []
    },
    {
      "cell_type": "markdown",
      "metadata": {
        "id": "m8SziGGMyjnW"
      },
      "source": [
        "7. Loop through `whichever_list` to show all the elements it contains except the street number and the hours you've slept."
      ]
    },
    {
      "cell_type": "code",
      "metadata": {
        "id": "hDdiKd_jyjnW"
      },
      "source": [
        "#define a function which takes a single parameter `whichever_list`\n"
      ],
      "execution_count": null,
      "outputs": []
    },
    {
      "cell_type": "code",
      "metadata": {
        "id": "vJIepStiyjnW"
      },
      "source": [
        "#call the function with the variable `info_list`\n"
      ],
      "execution_count": null,
      "outputs": []
    },
    {
      "cell_type": "markdown",
      "metadata": {
        "id": "71f8ubCAyjnX"
      },
      "source": [
        "8. Loop through `whichever_list` to print all the elements it contains except the first element of the list which is in fourth position (`'Recoletos'`). This function should return the lenght of that element. "
      ]
    },
    {
      "cell_type": "code",
      "metadata": {
        "id": "FSTgS7BfyjnX"
      },
      "source": [
        "#define a function which takes a single parameter `whichever_list`\n"
      ],
      "execution_count": null,
      "outputs": []
    },
    {
      "cell_type": "code",
      "metadata": {
        "id": "V7qb71vsyjnX"
      },
      "source": [
        "#call the function with the variable `info_list`\n"
      ],
      "execution_count": null,
      "outputs": []
    },
    {
      "cell_type": "markdown",
      "metadata": {
        "id": "Ksyl3iMhyjnX"
      },
      "source": [
        "9. Loop through `whichever_list` to show all the elements it contains except the one that contains the information about whether you like the mountains or the beach. The function should return a message saying `\"I love the beach\"` if you prefer the beach and a message saying `\"I love the mountain\"` otherwise. "
      ]
    },
    {
      "cell_type": "code",
      "metadata": {
        "id": "hfKwrJ6byjnX"
      },
      "source": [
        "#define a function which takes a single parameter `whichever_list`\n"
      ],
      "execution_count": null,
      "outputs": []
    },
    {
      "cell_type": "code",
      "metadata": {
        "id": "W1PPItqryjnX"
      },
      "source": [
        "#call the function with the variable `info_list`\n"
      ],
      "execution_count": null,
      "outputs": []
    },
    {
      "cell_type": "markdown",
      "metadata": {
        "id": "pDJloHtyyjnY"
      },
      "source": [
        "### Bonus Track\n",
        "\n",
        "In the case of not being able to solve a question containing the code in a function, try to do it without defining one. "
      ]
    },
    {
      "cell_type": "markdown",
      "metadata": {
        "id": "BYk4bjW5yjnY"
      },
      "source": [
        "1. Create a variable called `zone` and give it the value of **None**. Loop through `whichever_list` and update `zone` to **True** if and only if, you have slept more than 7 hours, you like the beach and the sum of the hours you have slept plus the number of The Bridge is less than 24. In any other case, `zone` will be **False**. This function should return the value of `zone` and will be called `zone_function`.\n"
      ]
    },
    {
      "cell_type": "code",
      "metadata": {
        "id": "o9slRyMKyjnY"
      },
      "source": [],
      "execution_count": null,
      "outputs": []
    },
    {
      "cell_type": "markdown",
      "metadata": {
        "id": "eO3xBi1KyjnY"
      },
      "source": [
        "2. Define a function called `test_function` that receives only one parameter called `zone_value` and that returns the value of `zone_value` if it is **True**. Once you've defined `test_function` you should call it with the value returned by the `zone_function` as an argument."
      ]
    },
    {
      "cell_type": "code",
      "metadata": {
        "id": "h7V6NJ8iyjnZ"
      },
      "source": [
        "def zone_function(whichever_list):\n",
        "    return True"
      ],
      "execution_count": 18,
      "outputs": []
    },
    {
      "cell_type": "markdown",
      "metadata": {
        "id": "kbImrhaByjnZ"
      },
      "source": [
        "3. Define a function that asks the user if they like the mountain and, if not, call the `zone_function` function."
      ]
    },
    {
      "cell_type": "code",
      "execution_count": 19,
      "metadata": {},
      "outputs": [],
      "source": [
        "whichever_list = [2, 3, 4, 5, True, 10]"
      ]
    },
    {
      "cell_type": "code",
      "metadata": {
        "id": "no6jyB7jyjnZ"
      },
      "source": [
        "def te_gusta_la_montana():\n",
        "    answer = input(\"¿Te gusta la montaña? (SI / NO\")\n",
        "    if answer == \"SI\":\n",
        "        pass\n",
        "    elif answer == \"NO\":\n",
        "        zone_function(whichever_list=whichever_list)\n"
      ],
      "execution_count": null,
      "outputs": []
    },
    {
      "cell_type": "code",
      "execution_count": null,
      "metadata": {},
      "outputs": [],
      "source": [
        "def te_gusta_la_montana():\n",
        "    if whichever_list[4] == True:\n",
        "        pass\n",
        "    elif whichever_list[4] == False:\n",
        "        zone_function(whichever_list=whichever_list)"
      ]
    },
    {
      "cell_type": "code",
      "execution_count": 20,
      "metadata": {},
      "outputs": [
        {
          "output_type": "execute_result",
          "data": {
            "text/plain": [
              "[2, 3, 4, 5, True, 10]"
            ]
          },
          "metadata": {},
          "execution_count": 20
        }
      ],
      "source": [
        "whichever_list"
      ]
    },
    {
      "cell_type": "code",
      "execution_count": 22,
      "metadata": {},
      "outputs": [],
      "source": [
        "if not True:\n",
        "    print(1)"
      ]
    },
    {
      "cell_type": "code",
      "execution_count": null,
      "metadata": {},
      "outputs": [],
      "source": [
        "def te_gusta_la_montana():\n",
        "    if whichever_list[4]:\n",
        "        pass\n",
        "    elif not False:\n",
        "        zone_function(whichever_list=whichever_list)"
      ]
    },
    {
      "cell_type": "code",
      "execution_count": 1,
      "metadata": {},
      "outputs": [
        {
          "output_type": "execute_result",
          "data": {
            "text/plain": [
              "'HOLA'"
            ]
          },
          "metadata": {},
          "execution_count": 1
        }
      ],
      "source": [
        "s = \"hola\"\n",
        "s.upper()"
      ]
    },
    {
      "cell_type": "code",
      "execution_count": null,
      "metadata": {},
      "outputs": [],
      "source": [
        "def f_upper(word):\n",
        "    return word.upper()\n",
        "\n",
        "s = \"hola\"\n",
        "f_upper(s)"
      ]
    },
    {
      "cell_type": "code",
      "execution_count": null,
      "metadata": {},
      "outputs": [],
      "source": [
        "def shout(text): \n",
        "    return text.upper() \n",
        "\n",
        "def whisper(text): \n",
        "    return text.lower() \n",
        "\n",
        "def greet(func): \n",
        "    # storing the function in a variable \n",
        "    greeting = func(text=\"Hi, I am created by a function passed as an argument.\") \n",
        "    print(greeting)\n",
        "\n",
        "greet(func=shout) \n",
        "#greet(whisper)"
      ]
    },
    {
      "cell_type": "code",
      "execution_count": 4,
      "metadata": {},
      "outputs": [
        {
          "output_type": "stream",
          "name": "stdout",
          "text": [
            "HOLA\n"
          ]
        }
      ],
      "source": [
        "def up(text):\n",
        "    return text.upper()\n",
        "\n",
        "def f_recibe_funcion(func):\n",
        "    print(func(\"Hola\"))\n",
        "\n",
        "f_recibe_funcion(func=up)"
      ]
    },
    {
      "cell_type": "code",
      "execution_count": null,
      "metadata": {},
      "outputs": [],
      "source": [
        "up(text=\"Hola\")  -> La llamada a la función up (lo que retorna up)"
      ]
    },
    {
      "cell_type": "code",
      "execution_count": 5,
      "metadata": {},
      "outputs": [
        {
          "output_type": "execute_result",
          "data": {
            "text/plain": [
              "<function __main__.up(text)>"
            ]
          },
          "metadata": {},
          "execution_count": 5
        }
      ],
      "source": [
        "up"
      ]
    },
    {
      "cell_type": "code",
      "execution_count": 7,
      "metadata": {},
      "outputs": [
        {
          "output_type": "execute_result",
          "data": {
            "text/plain": [
              "<function __main__.up(text)>"
            ]
          },
          "metadata": {},
          "execution_count": 7
        }
      ],
      "source": [
        "# up  -> La referencia a la función up\n",
        "x = up\n",
        "x"
      ]
    },
    {
      "cell_type": "code",
      "execution_count": 8,
      "metadata": {},
      "outputs": [
        {
          "output_type": "execute_result",
          "data": {
            "text/plain": [
              "'HOLA'"
            ]
          },
          "metadata": {},
          "execution_count": 8
        }
      ],
      "source": [
        "x(text=\"hola\")"
      ]
    },
    {
      "cell_type": "code",
      "execution_count": 13,
      "metadata": {},
      "outputs": [
        {
          "output_type": "error",
          "ename": "TypeError",
          "evalue": "dos() takes 0 positional arguments but 1 was given",
          "traceback": [
            "\u001b[1;31m---------------------------------------------------------------------------\u001b[0m",
            "\u001b[1;31mTypeError\u001b[0m                                 Traceback (most recent call last)",
            "\u001b[1;32m<ipython-input-13-a9079ae46bff>\u001b[0m in \u001b[0;36m<module>\u001b[1;34m\u001b[0m\n\u001b[0;32m      8\u001b[0m     \u001b[0mprint\u001b[0m\u001b[1;33m(\u001b[0m\u001b[0mfunc\u001b[0m\u001b[1;33m(\u001b[0m\u001b[1;34m\"Hola\"\u001b[0m\u001b[1;33m)\u001b[0m\u001b[1;33m)\u001b[0m\u001b[1;33m\u001b[0m\u001b[0m\n\u001b[0;32m      9\u001b[0m \u001b[1;33m\u001b[0m\u001b[0m\n\u001b[1;32m---> 10\u001b[1;33m \u001b[0mf_recibe_funcion\u001b[0m\u001b[1;33m(\u001b[0m\u001b[0mfunc\u001b[0m\u001b[1;33m=\u001b[0m\u001b[0mdos\u001b[0m\u001b[1;33m)\u001b[0m\u001b[1;33m\u001b[0m\u001b[0m\n\u001b[0m",
            "\u001b[1;32m<ipython-input-13-a9079ae46bff>\u001b[0m in \u001b[0;36mf_recibe_funcion\u001b[1;34m(func)\u001b[0m\n\u001b[0;32m      6\u001b[0m \u001b[1;33m\u001b[0m\u001b[0m\n\u001b[0;32m      7\u001b[0m \u001b[1;32mdef\u001b[0m \u001b[0mf_recibe_funcion\u001b[0m\u001b[1;33m(\u001b[0m\u001b[0mfunc\u001b[0m\u001b[1;33m)\u001b[0m\u001b[1;33m:\u001b[0m\u001b[1;33m\u001b[0m\u001b[0m\n\u001b[1;32m----> 8\u001b[1;33m     \u001b[0mprint\u001b[0m\u001b[1;33m(\u001b[0m\u001b[0mfunc\u001b[0m\u001b[1;33m(\u001b[0m\u001b[1;34m\"Hola\"\u001b[0m\u001b[1;33m)\u001b[0m\u001b[1;33m)\u001b[0m\u001b[1;33m\u001b[0m\u001b[0m\n\u001b[0m\u001b[0;32m      9\u001b[0m \u001b[1;33m\u001b[0m\u001b[0m\n\u001b[0;32m     10\u001b[0m \u001b[0mf_recibe_funcion\u001b[0m\u001b[1;33m(\u001b[0m\u001b[0mfunc\u001b[0m\u001b[1;33m=\u001b[0m\u001b[0mdos\u001b[0m\u001b[1;33m)\u001b[0m\u001b[1;33m\u001b[0m\u001b[0m\n",
            "\u001b[1;31mTypeError\u001b[0m: dos() takes 0 positional arguments but 1 was given"
          ]
        }
      ],
      "source": [
        "def up(text):\n",
        "    return text.upper()\n",
        "\n",
        "def dos():\n",
        "    return \"2\"\n",
        "\n",
        "def f_recibe_funcion(func):\n",
        "    print(func(\"Hola\"))\n",
        "\n",
        "f_recibe_funcion(func=dos)"
      ]
    },
    {
      "cell_type": "code",
      "execution_count": 19,
      "metadata": {},
      "outputs": [
        {
          "output_type": "stream",
          "name": "stdout",
          "text": [
            "HOLA\n"
          ]
        }
      ],
      "source": [
        "def up(text):\n",
        "    return text.upper()\n",
        "\n",
        "def dos(num_string):\n",
        "    return num_string\n",
        "\n",
        "def f_recibe_funcion(func):\n",
        "    print(func(\"Hola\"))\n",
        "\n",
        "f_recibe_funcion(func=up)"
      ]
    },
    {
      "cell_type": "markdown",
      "metadata": {
        "id": "M-6DmtXuyjnZ"
      },
      "source": [
        "### Bonus Track of the Bonus Track.\n",
        "\n",
        "**This Bonus Track could take you some days, it is very ok, sometimes coding is all about time.**\n",
        "\n",
        "Sooner than later, you'll also learn about `.py` files and you will be able to implement this program into that kind of file. Not yet, tho. "
      ]
    },
    {
      "cell_type": "code",
      "execution_count": 20,
      "metadata": {},
      "outputs": [
        {
          "output_type": "stream",
          "name": "stdout",
          "text": [
            "7\n"
          ]
        }
      ],
      "source": [
        "def f(a, b):\n",
        "    print(a + b)\n",
        "\n",
        "f(a=2, b=5)"
      ]
    },
    {
      "cell_type": "markdown",
      "metadata": {
        "id": "o0g4KRlMyjnZ"
      },
      "source": [
        "1. Program **a calculator** that asks for two numbers and two operators on the screen. One operation must be performed first and then another. Try to define as many functions as possible."
      ]
    },
    {
      "cell_type": "code",
      "execution_count": 7,
      "metadata": {},
      "outputs": [],
      "source": [
        "def suma(arg1, arg2):\n",
        "    print(\"Suma:\")\n",
        "    return arg1 + arg2\n",
        "\n",
        "def resta(arg1, arg2):\n",
        "    print(\"Resta:\")\n",
        "    return arg1 - arg2\n",
        "\n",
        "def multiplicacion(arg1, arg2):\n",
        "    print(\"Multiplicación:\")\n",
        "    return arg1 * arg2\n",
        "\n",
        "def division(arg1, arg2):\n",
        "    print(\"División:\")\n",
        "    return arg1 / arg2"
      ]
    },
    {
      "cell_type": "code",
      "execution_count": 5,
      "metadata": {},
      "outputs": [
        {
          "output_type": "stream",
          "name": "stdout",
          "text": [
            "operacion_elegida: *\noperacion_elegida: +\n"
          ]
        }
      ],
      "source": [
        "operaciones = [\"*\", \"+\"]\n",
        "for operacion_elegida in operaciones:\n",
        "    print(\"operacion_elegida:\", operacion_elegida)"
      ]
    },
    {
      "cell_type": "code",
      "execution_count": 15,
      "metadata": {},
      "outputs": [
        {
          "output_type": "stream",
          "name": "stdout",
          "text": [
            "6\n4\n"
          ]
        }
      ],
      "source": [
        "def f1(lista, primero):\n",
        "    for x in lista:\n",
        "        print(x + primero)\n",
        "\n",
        "def g2():\n",
        "    primer = 2\n",
        "    lista1 = [4, 2]\n",
        "    f1(lista=lista1, primero=primer)\n",
        "\n",
        "g2()"
      ]
    },
    {
      "cell_type": "code",
      "execution_count": 17,
      "metadata": {},
      "outputs": [
        {
          "output_type": "stream",
          "name": "stdout",
          "text": [
            "6\n4\n"
          ]
        },
        {
          "output_type": "execute_result",
          "data": {
            "text/plain": [
              "2"
            ]
          },
          "metadata": {},
          "execution_count": 17
        }
      ],
      "source": [
        "def f1(lista, primero):\n",
        "    for x in lista:\n",
        "        print(x + primero)\n",
        "\n",
        "def g2():\n",
        "    primer = 2\n",
        "    lista1 = [4, 2]\n",
        "    f1(lista=lista1, primero=primer)\n",
        "    return primer\n",
        "\n",
        "g2()"
      ]
    },
    {
      "cell_type": "code",
      "execution_count": null,
      "metadata": {},
      "outputs": [],
      "source": []
    },
    {
      "cell_type": "code",
      "execution_count": null,
      "metadata": {},
      "outputs": [],
      "source": [
        "def recorre_operaciones(operaciones):\n",
        "    for operacion_elegida in operaciones:\n",
        "        if operacion_elegida == \"+\":\n",
        "            #suma(arg1=primer_numero, arg2=segundo_numero)\n",
        "            #suma(arg2=segundo_numero, arg1=primer_numero)\n",
        "            resultado = suma(primer_numero, segundo_numero)\n",
        "        elif operacion_elegida == \"-\":\n",
        "            resultado = resta(arg1=primer_numero, arg2=segundo_numero)\n",
        "        elif operacion_elegida == \"*\":\n",
        "            resultado = multiplicacion(arg1=primer_numero, arg2=segundo_numero)\n",
        "        elif operacion_elegida == \"/\":\n",
        "            resultado = division(arg1=primer_numero, arg2=segundo_numero)\n",
        "        else:\n",
        "            resultado = \"No se ha podido efectuar la operación\"\n",
        "            print(\"Escribe otro tipo de operación  (+, -, *, /)\")\n",
        "\n",
        "        print(resultado)"
      ]
    },
    {
      "cell_type": "code",
      "execution_count": null,
      "metadata": {},
      "outputs": [],
      "source": [
        "def la_unica_f():\n",
        "    primer_numero = int(input(\"Escribe el PRIMER número:\"))\n",
        "    segundo_numero = int(input(\"Escribe el SEGUNDO número:\"))\n",
        "    primera_operacion = input(\"Escribe un operador (+, -, *, /)\")\n",
        "    segunda_operacion = input(\"Escribe otro operador (+, -, *, /)\")\n",
        "\n",
        "    operaciones = [primera_operacion, segunda_operacion]\n",
        "\n",
        "    recorre_operaciones(operaciones=operaciones)\n",
        "\n",
        "la_unica_f()"
      ]
    },
    {
      "cell_type": "code",
      "execution_count": 12,
      "metadata": {},
      "outputs": [
        {
          "output_type": "stream",
          "name": "stdout",
          "text": [
            "Suma:\n7\nResta:\n-3\n"
          ]
        }
      ],
      "source": [
        "def la_unica_f():\n",
        "    primer_numero = int(input(\"Escribe el PRIMER número:\"))\n",
        "    segundo_numero = int(input(\"Escribe el SEGUNDO número:\"))\n",
        "    primera_operacion = input(\"Escribe un operador (+, -, *, /)\")\n",
        "    segunda_operacion = input(\"Escribe otro operador (+, -, *, /)\")\n",
        "\n",
        "    operaciones = [primera_operacion, segunda_operacion]\n",
        "\n",
        "    for operacion_elegida in operaciones:\n",
        "        if operacion_elegida == \"+\":\n",
        "            #suma(arg1=primer_numero, arg2=segundo_numero)\n",
        "            #suma(arg2=segundo_numero, arg1=primer_numero)\n",
        "            resultado = suma(primer_numero, segundo_numero)\n",
        "        elif operacion_elegida == \"-\":\n",
        "            resultado = resta(arg1=primer_numero, arg2=segundo_numero)\n",
        "        elif operacion_elegida == \"*\":\n",
        "            resultado = multiplicacion(arg1=primer_numero, arg2=segundo_numero)\n",
        "        elif operacion_elegida == \"/\":\n",
        "            resultado = division(arg1=primer_numero, arg2=segundo_numero)\n",
        "        else:\n",
        "            resultado = \"No se ha podido efectuar la operación\"\n",
        "            print(\"Escribe otro tipo de operación  (+, -, *, /)\")\n",
        "\n",
        "        print(resultado)\n",
        "\n",
        "la_unica_f()"
      ]
    },
    {
      "cell_type": "code",
      "execution_count": null,
      "metadata": {},
      "outputs": [],
      "source": []
    },
    {
      "cell_type": "code",
      "execution_count": 10,
      "metadata": {},
      "outputs": [
        {
          "output_type": "execute_result",
          "data": {
            "text/plain": [
              "[2, 3, 4, 5, 6, 7, 8, 9, 5.0]"
            ]
          },
          "metadata": {},
          "execution_count": 10
        }
      ],
      "source": [
        "l = []\n",
        "\n",
        "for i in range(9):\n",
        "    l.append(i + 2)\n",
        "\n",
        "l[-1] = l[-1] / 2\n",
        "l"
      ]
    },
    {
      "cell_type": "code",
      "metadata": {
        "id": "udVFHHlJyjnZ"
      },
      "source": [],
      "execution_count": null,
      "outputs": []
    },
    {
      "cell_type": "markdown",
      "metadata": {
        "id": "_JypwWQyyjnZ"
      },
      "source": [
        "!['ha'](https://i.pinimg.com/originals/c6/4e/fc/c64efc9adaedbf446f328698e8b67388.jpg)"
      ]
    },
    {
      "cell_type": "code",
      "metadata": {
        "id": "5uM0SwvVyjna"
      },
      "source": [],
      "execution_count": null,
      "outputs": []
    }
  ]
}