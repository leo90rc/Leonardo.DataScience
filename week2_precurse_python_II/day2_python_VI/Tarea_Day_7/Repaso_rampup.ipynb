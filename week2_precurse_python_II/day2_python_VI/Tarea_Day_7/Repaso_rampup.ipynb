{
  "nbformat": 4,
  "nbformat_minor": 0,
  "metadata": {
    "kernelspec": {
      "name": "python374jvsc74a57bd0a0947237fadc8b5561fed326db280cc5ec46a670c87cfb3a0489cf95ff262303",
      "display_name": "Python 3.7.4 64-bit"
    },
    "language_info": {
      "codemirror_mode": {
        "name": "ipython",
        "version": 3
      },
      "file_extension": ".py",
      "mimetype": "text/x-python",
      "name": "python",
      "nbconvert_exporter": "python",
      "pygments_lexer": "ipython3",
      "version": "3.7.4"
    },
    "colab": {
      "name": "Repaso_rampup.ipynb",
      "provenance": []
    },
    "metadata": {
      "interpreter": {
        "hash": "a0947237fadc8b5561fed326db280cc5ec46a670c87cfb3a0489cf95ff262303"
      }
    }
  },
  "cells": [
    {
      "cell_type": "markdown",
      "metadata": {
        "id": "OqUYx6bmw4Ow"
      },
      "source": [
        "## 🐍 Ramp-up\n",
        "\n",
        "Note: The bold words are instructions for you to know how to solve the exercises below that word. For example, if it says **for loop** you should use at least a for loop in order to solve the exercise. "
      ]
    },
    {
      "cell_type": "markdown",
      "metadata": {
        "id": "-gzxOiTcw4O6"
      },
      "source": [
        "#### Collections\n",
        "1. Create a tuple as follows (10,2,27,8)\n",
        "2. Get the lenght of the tuple\n",
        "3. Which type is it? And which type are the elements the tuple contains?\n",
        "4. Create a new tuple with any other 4 strings and concatenate all of them with the tuple you created before by position, creating a list called `words`.\n",
        "5. Make a list with the same elements in question 1. Find the element 27 and make it 37.\n",
        "6. Remove the number 8 from the list.\n",
        "7. Turn the list you made before into a set.\n",
        "8. Check if the element \"3\" is in that set.\n",
        "9. Sort the list you made in exercise 4 in descending order.\n",
        "10. Turn the list `words` into a dictionary. Split every string taking the number in the tuple (10,2,27,8) as the values and the rest as the keys.\n",
        "11. Sum up the values of the new dictionary.\n",
        "12. Sort the values of the dictionary in descending order and the keys in ascending order, then make a list of tuples with every couple of keys and values by position."
      ]
    },
    {
      "cell_type": "code",
      "metadata": {
        "id": "ZG5OAgWaw4O7"
      },
      "source": [
        "# 1.Create a tuple as follows (10,2,27,8)\n",
        "\n",
        "tupla = (10, 2, 27, 8)"
      ],
      "execution_count": 262,
      "outputs": []
    },
    {
      "cell_type": "code",
      "execution_count": 263,
      "metadata": {},
      "outputs": [
        {
          "output_type": "execute_result",
          "data": {
            "text/plain": [
              "4"
            ]
          },
          "metadata": {},
          "execution_count": 263
        }
      ],
      "source": [
        "# 2.Get the lenght of the tuple\n",
        "\n",
        "len(tupla)"
      ]
    },
    {
      "cell_type": "code",
      "execution_count": 264,
      "metadata": {},
      "outputs": [
        {
          "output_type": "stream",
          "name": "stdout",
          "text": [
            "<class 'tuple'>\n"
          ]
        }
      ],
      "source": [
        "# 3.Which type is it? And which type are the elements the tuple contains?\n",
        "\n",
        "print(type(tupla))"
      ]
    },
    {
      "cell_type": "code",
      "execution_count": 285,
      "metadata": {},
      "outputs": [
        {
          "output_type": "stream",
          "name": "stdout",
          "text": [
            "El elemento 10 es del tipo <class 'int'>\nEl elemento 2 es del tipo <class 'int'>\nEl elemento 27 es del tipo <class 'int'>\nEl elemento 8 es del tipo <class 'int'>\n"
          ]
        }
      ],
      "source": [
        "for i, valor in enumerate(tupla):\n",
        "    print('El elemento ' + str(tupla[i]) + ' es del tipo ' + str(type(valor)))"
      ]
    },
    {
      "cell_type": "code",
      "execution_count": 266,
      "metadata": {},
      "outputs": [
        {
          "output_type": "stream",
          "name": "stdout",
          "text": [
            "['Perro10', 'Gato2', 'Loro27', 'Oso8']\n"
          ]
        }
      ],
      "source": [
        "# 4.Create a new tuple with any other 4 strings and concatenate all of them with the tuple you created before by position, creating a list called words.\n",
        "\n",
        "tupla_2 = ('Perro', 'Gato', 'Loro', 'Oso')\n",
        "words = []\n",
        "for i, value in enumerate(tupla):\n",
        "    words.append(tupla_2[i] + str(value))\n",
        "print(words)"
      ]
    },
    {
      "cell_type": "code",
      "execution_count": 267,
      "metadata": {},
      "outputs": [
        {
          "output_type": "stream",
          "name": "stdout",
          "text": [
            "[10, 2, 37, 8]\n"
          ]
        }
      ],
      "source": [
        "# 5.Make a list with the same elements in question 1. Find the element 27 and make it 37.\n",
        "\n",
        "lista = list(tupla)\n",
        "for i, value in enumerate(lista):\n",
        "    if value == 27:\n",
        "        lista[i] = 37\n",
        "print(lista)"
      ]
    },
    {
      "cell_type": "code",
      "execution_count": 268,
      "metadata": {},
      "outputs": [
        {
          "output_type": "execute_result",
          "data": {
            "text/plain": [
              "[10, 2, 37]"
            ]
          },
          "metadata": {},
          "execution_count": 268
        }
      ],
      "source": [
        "# 6.Remove the number 8 from the list.\n",
        "\n",
        "lista.remove(8)\n",
        "lista"
      ]
    },
    {
      "cell_type": "code",
      "execution_count": 269,
      "metadata": {},
      "outputs": [
        {
          "output_type": "execute_result",
          "data": {
            "text/plain": [
              "{2, 10, 37}"
            ]
          },
          "metadata": {},
          "execution_count": 269
        }
      ],
      "source": [
        "# 7.Turn the list you made before into a set.\n",
        "\n",
        "conjunto = set(lista)\n",
        "conjunto"
      ]
    },
    {
      "cell_type": "code",
      "execution_count": 270,
      "metadata": {},
      "outputs": [
        {
          "output_type": "stream",
          "name": "stdout",
          "text": [
            "El número 3 no se encuentra en el conjunto\n"
          ]
        }
      ],
      "source": [
        "# 8.Check if the element \"3\" is in that set.\n",
        "\n",
        "if 3 in conjunto:\n",
        "    print('El número 3 se encuentra en el conjunto.')\n",
        "else:\n",
        "    print('El número 3 no se encuentra en el conjunto')"
      ]
    },
    {
      "cell_type": "code",
      "execution_count": 271,
      "metadata": {},
      "outputs": [
        {
          "output_type": "stream",
          "name": "stdout",
          "text": [
            "['Perro10', 'Oso8', 'Loro27', 'Gato2']\n"
          ]
        }
      ],
      "source": [
        "# 9.Sort the list you made in exercise 4 in descending order.\n",
        "\n",
        "words.sort(reverse=True)\n",
        "print(words)"
      ]
    },
    {
      "cell_type": "code",
      "execution_count": 300,
      "metadata": {},
      "outputs": [
        {
          "output_type": "stream",
          "name": "stdout",
          "text": [
            "{'Perro': 10, 'Oso': 8, 'Loro': 27, 'Gato': 2}\n"
          ]
        }
      ],
      "source": [
        "# 10.Turn the list words into a dictionary. Split every string taking the number in the tuple (10,2,27,8) as the values and the rest as the keys.\n",
        "words = ['Perro10', 'Oso8', 'Loro27', 'Gato2']\n",
        "dicc_words = {}\n",
        "\n",
        "for i in words:\n",
        "    dicc_keys = ''\n",
        "    dicc_values = ''    \n",
        "    for alfanum in i:\n",
        "        if alfanum.isdigit():\n",
        "            dicc_values += alfanum\n",
        "        else:\n",
        "            dicc_keys += alfanum\n",
        "    dicc_words[dicc_keys] = int(dicc_values)\n",
        "\n",
        "print(dicc_words)\n",
        "        "
      ]
    },
    {
      "cell_type": "code",
      "execution_count": 304,
      "metadata": {},
      "outputs": [
        {
          "output_type": "stream",
          "name": "stdout",
          "text": [
            "47\n"
          ]
        }
      ],
      "source": [
        "# 11.Sum up the values of the new dictionary.\n",
        "\n",
        "suma = 0\n",
        "for valor in dicc_words.values():\n",
        "    suma += valor\n",
        "print(suma)"
      ]
    },
    {
      "cell_type": "code",
      "execution_count": 320,
      "metadata": {},
      "outputs": [
        {
          "output_type": "stream",
          "name": "stdout",
          "text": [
            "['Gato', 'Loro', 'Oso', 'Perro']\n[27, 10, 8, 2]\n[('Gato', 27), ('Loro', 10), ('Oso', 8), ('Perro', 2)]\n"
          ]
        }
      ],
      "source": [
        "# 12.Sort the values of the dictionary in descending order and the keys in ascending order, then make a list of tuples with every couple of keys and values by position.\n",
        "\n",
        "lista_keys = list(dicc_words.keys())\n",
        "lista_values = list(dicc_words.values())\n",
        "\n",
        "lista_keys.sort()\n",
        "lista_values.sort(reverse=True)\n",
        "\n",
        "print(lista_keys)\n",
        "print(lista_values)\n",
        "\n",
        "lista_de_tuplas = []\n",
        "for pos, valor in enumerate(lista_keys):\n",
        "    lista_de_tuplas.append((valor, lista_values[pos]))\n",
        "print(lista_de_tuplas)"
      ]
    },
    {
      "cell_type": "code",
      "execution_count": 317,
      "metadata": {},
      "outputs": [
        {
          "output_type": "execute_result",
          "data": {
            "text/plain": [
              "3"
            ]
          },
          "metadata": {},
          "execution_count": 317
        }
      ],
      "source": [
        "a = [\"CPython\", \"PyPy\", \"Stackless\", \"PyPy\"]\n",
        "a.index('PyPy', )"
      ]
    },
    {
      "cell_type": "code",
      "execution_count": 284,
      "metadata": {},
      "outputs": [
        {
          "output_type": "stream",
          "name": "stdout",
          "text": [
            "True\n"
          ]
        }
      ],
      "source": [
        "cadena = \"bienvenido a mi aplicación\".capitalize()\n",
        "print(cadena.startswith('ven', 4))"
      ]
    },
    {
      "cell_type": "code",
      "execution_count": null,
      "metadata": {},
      "outputs": [],
      "source": []
    },
    {
      "cell_type": "markdown",
      "metadata": {
        "id": "V08iC8fAw4O8"
      },
      "source": [
        "#### Dictionaries\n",
        "\n",
        "1. Make a dictionary containing three major rivers and the country each river runs through. One key-value pair might be 'nile': 'egypt'.\n",
        "\n",
        "    - Use a loop to print a sentence about each river, such as The Nile runs through Egypt.\n",
        "    - Use a loop to print the name of each river included in the dictionary.\n",
        "    - Use a loop to print the name of each country included in the dictionary."
      ]
    },
    {
      "cell_type": "code",
      "metadata": {
        "id": "ihXKAR3Gw4O9"
      },
      "source": [
        "# 1.Make a dictionary containing three major rivers and the country each river runs through. One key-value pair might be 'nile': 'egypt'.\n",
        "\n",
        "rios = {'Paraná': 'Argentina', 'Amazonas': 'Brasil', 'Ganges': 'India'}\n",
        "rios"
      ],
      "execution_count": null,
      "outputs": []
    },
    {
      "cell_type": "code",
      "execution_count": null,
      "metadata": {},
      "outputs": [],
      "source": [
        "# 1-1.Use a loop to print a sentence about each river, such as The Nile runs through Egypt.\n",
        "\n",
        "for key, value in rios.items():\n",
        "    print(f'El río {key} pasa por {value}.')"
      ]
    },
    {
      "cell_type": "code",
      "execution_count": null,
      "metadata": {},
      "outputs": [],
      "source": [
        "# 1-2.Use a loop to print the name of each river included in the dictionary.\n",
        "\n",
        "for i in rios.keys():\n",
        "    print(i)"
      ]
    },
    {
      "cell_type": "code",
      "execution_count": null,
      "metadata": {},
      "outputs": [],
      "source": [
        "# 1-3.Use a loop to print the name of each country included in the dictionary.\n",
        "\n",
        "for i in rios.values():\n",
        "    print(i)"
      ]
    },
    {
      "cell_type": "markdown",
      "metadata": {
        "id": "hajqCbyAw4O9"
      },
      "source": [
        "2. Use the provided dictionary that shows some coders and their favoites languages.\n",
        "```Python\n",
        "favorite_languages = {\n",
        "    'jen': 'python',\n",
        "    'sarah': 'c',\n",
        "    'edward': 'ruby',\n",
        "    'phil': 'python',\n",
        "    }\n",
        "```\n",
        "\n",
        "    - Make a list of people who should take the favorite languages poll. Include some names that are already in the dictionary and some that are not.\n",
        "    - Loop through the list of people who should take the poll. If they have already taken the poll, print a message thanking them for responding. If they have not yet taken the poll, print a message inviting them to take the poll."
      ]
    },
    {
      "cell_type": "code",
      "metadata": {
        "id": "bdzVj2hqw4O-"
      },
      "source": [
        "favorite_languages = {\n",
        "    'jen': 'python',\n",
        "    'sarah': 'c',\n",
        "    'edward': 'ruby',\n",
        "    'phil': 'python',\n",
        "    }\n",
        "favorite_languages"
      ],
      "execution_count": null,
      "outputs": []
    },
    {
      "cell_type": "code",
      "execution_count": null,
      "metadata": {},
      "outputs": [],
      "source": [
        "# 2-1.Make a list of people who should take the favorite languages poll. Include some names that are already in the dictionary and some that are not.\n",
        "\n",
        "people = ['sarah', 'leo', 'jen', 'mechi', 'phil', 'nacho']\n",
        "people"
      ]
    },
    {
      "cell_type": "code",
      "execution_count": null,
      "metadata": {},
      "outputs": [],
      "source": [
        "# 2-2. Loop through the list of people who should take the poll. If they have already taken the poll, print a message thanking them for responding. If they have not yet taken the poll, print a message inviting them to take the poll.\n",
        "\n",
        "for i in people:\n",
        "    if i in favorite_languages.keys():\n",
        "        print('Muchas gracias por participar de la encuesta '+ i + '.')\n",
        "        print('')\n",
        "    else:\n",
        "        print(i, ', te gustaría participar de nuestra encuesta de programación?')\n",
        "        print('')"
      ]
    },
    {
      "cell_type": "markdown",
      "metadata": {
        "id": "Ot5tx-Inw4O-"
      },
      "source": [
        "3. Make a dictionary called cities. Use the names of three cities as keys in your dictionary. Create a dictionary of information about each city and include the country that the city is in, its approximate population, and one fact about that city. The keys for each city’s dictionary should be something like country, population, and fact. Print the name of each city and all of the information you have stored about it.\n",
        "\n",
        "```python\n",
        "cities = {\"city1\":{\"country\": \"bla\"}}\n",
        "```\n",
        "\n",
        "\n"
      ]
    },
    {
      "cell_type": "code",
      "metadata": {
        "id": "9C_LUxwCw4O_"
      },
      "source": [
        "cities = {}\n",
        "Rosario = {'País': 'Argentina', 'Población': 900000, 'Equipo de fútbol': 'Rosario Central'}\n",
        "Glasgow = {'País': 'Escocia', 'Población': 600000, 'Equipo de fútbol': 'Rangers'}\n",
        "Londres = {'País': 'Inglaterra', 'Población': 8900000, 'Equipo de fútbol': 'Arsenal'}\n",
        "cities['Rosario'] = Rosario\n",
        "cities['Glasgow'] = Glasgow\n",
        "cities['Londres'] = Londres\n",
        "print(cities)"
      ],
      "execution_count": 231,
      "outputs": [
        {
          "output_type": "stream",
          "name": "stdout",
          "text": [
            "{'Rosario': {'País': 'Argentina', 'Población': 900000, 'Equipo de fútbol': 'Rosario Central'}, 'Glasgow': {'País': 'Escocia', 'Población': 600000, 'Equipo de fútbol': 'Rangers'}, 'Londres': {'País': 'Inglaterra', 'Población': 8900000, 'Equipo de fútbol': 'Arsenal'}}\n"
          ]
        }
      ]
    },
    {
      "cell_type": "markdown",
      "metadata": {
        "id": "CyFd3le9w4O_"
      },
      "source": [
        "**for loop**\n",
        "1. This is a fruit list, ['banana', 'orange', 'mango', 'lemon'] reverse the order using a for loop.\n"
      ]
    },
    {
      "cell_type": "code",
      "metadata": {
        "id": "ZDSRjNHrw4O_"
      },
      "source": [
        "frutas = ['banana', 'orange', 'mango', 'lemon']\n",
        "\n",
        "lista_i = [2, 1, 0]\n",
        "for i in lista_i:\n",
        "    frutas.append(frutas.pop(i))\n",
        "print(frutas)\n"
      ],
      "execution_count": null,
      "outputs": []
    },
    {
      "cell_type": "code",
      "execution_count": null,
      "metadata": {},
      "outputs": [],
      "source": [
        "fruits = ['banana', 'orange', 'mango', 'lemon']\n",
        "\n",
        "for i in range(2,-1,-1):\n",
        "    fruits.append(fruits.pop(i))\n",
        "print(fruits)\n"
      ]
    },
    {
      "cell_type": "code",
      "execution_count": null,
      "metadata": {},
      "outputs": [],
      "source": [
        "range(2,-1,-1)"
      ]
    },
    {
      "cell_type": "markdown",
      "metadata": {
        "id": "Nnuk9fgGw4PA"
      },
      "source": [
        "2. Write a Python program to create the multiplication table (from 1 to 10) of a number.\n",
        "```python\n",
        "Input a number: 5                                                                                             \n",
        "5 x 1 = 5                                                                                                     \n",
        "5 x 2 = 10                                                                                                    \n",
        "5 x 3 = 15                                                                                                    \n",
        "5 x 4 = 20                                                                                                    \n",
        "5 x 5 = 25                                                                                                    \n",
        "5 x 6 = 30                                                                                                    \n",
        "5 x 7 = 35                                                                                                    \n",
        "5 x 8 = 40                                                                                                    \n",
        "5 x 9 = 45                                                                                                    \n",
        "5 x 10 = 50\n",
        "```"
      ]
    },
    {
      "cell_type": "code",
      "metadata": {
        "id": "b6nzovfCw4PA"
      },
      "source": [
        "def tabla_multiplicar(numero):\n",
        "    por_cuanto = [1, 2, 3, 4, 5, 6, 7, 8, 9, 10]\n",
        "    print('Número ingresado: ' + str(numero))\n",
        "    for i in por_cuanto:\n",
        "        print(str(numero) + ' x ' + str(i) + ' = ' + str(numero*i))"
      ],
      "execution_count": null,
      "outputs": []
    },
    {
      "cell_type": "code",
      "execution_count": null,
      "metadata": {},
      "outputs": [],
      "source": [
        "cual_numero = int(input('Ingrese un número:'))\n",
        "tabla_multiplicar(numero=cual_numero)"
      ]
    },
    {
      "cell_type": "markdown",
      "metadata": {
        "id": "pTt1-DGpw4PA"
      },
      "source": [
        "3. Write a Python program which iterates the integers from 1 to 50. For multiples of three print \"Fizz\" instead of the number and for the multiples of five print \"Buzz\". For numbers which are multiples of both three and five print \"FizzBuzz\".\n",
        "```python\n",
        "Sample Output :\n",
        "fizzbuzz\n",
        "1\n",
        "2\n",
        "fizz\n",
        "4\n",
        "buzz\n",
        "```"
      ]
    },
    {
      "cell_type": "code",
      "execution_count": null,
      "metadata": {},
      "outputs": [],
      "source": [
        "for i in range(51):\n",
        "    if i % 3 == 0 and i % 5 == 0:\n",
        "        print('FizzBuzz')\n",
        "    elif i % 3 == 0:\n",
        "        print('Fizz')\n",
        "    elif i % 5 == 0:\n",
        "        print('Buzz')\n",
        "    else:\n",
        "        print(i)"
      ]
    },
    {
      "cell_type": "code",
      "metadata": {
        "id": "wLxjOkILw4PB"
      },
      "source": [],
      "execution_count": null,
      "outputs": []
    },
    {
      "cell_type": "markdown",
      "metadata": {
        "id": "gXZG2pRcw4PB"
      },
      "source": [
        "**functions**\n",
        "\n",
        "1. Write a Python function to check whether a string is a pangram or not. \n",
        "\n",
        "Note : Pangrams are words or sentences containing every letter of the alphabet at least once.\n",
        "    \n",
        "For example : `\"The quick brown fox jumps over the lazy dog\"`"
      ]
    },
    {
      "cell_type": "code",
      "metadata": {
        "id": "tuZzhuFPw4PC"
      },
      "source": [
        "def pangram(sentence):                                                        # EJERCICIO OFICIAL y su llamada debajo.\n",
        "    print('Es la siguiente oración un pangrama?: ' + sentence)\n",
        "    letras = ('a b c d e f g h i j k l m n o p q r s t u v w x y z')\n",
        "    letras_lista = letras.split()\n",
        "    x = 0\n",
        "    for i in letras_lista:\n",
        "        if i not in sentence:\n",
        "            x += 1\n",
        "    if x == 0:\n",
        "        print('PANGRAMA')\n",
        "    else:\n",
        "        print('NO PANGRAMA')\n",
        "   "
      ],
      "execution_count": null,
      "outputs": []
    },
    {
      "cell_type": "code",
      "execution_count": null,
      "metadata": {},
      "outputs": [],
      "source": [
        "oracion = input('Escribe el posible pangrama:')\n",
        "oracion = oracion.lower()\n",
        "pangram(sentence=oracion)"
      ]
    },
    {
      "cell_type": "code",
      "execution_count": null,
      "metadata": {},
      "outputs": [],
      "source": [
        "print('t' == 'T')"
      ]
    },
    {
      "cell_type": "code",
      "execution_count": null,
      "metadata": {},
      "outputs": [],
      "source": [
        "sentence = 'The quick brown fox jumps over the lazy dog'\n",
        "print('Es la siguiente oración un pangrama?: ' + sentence)\n",
        "letras = ('a b c d e f g h i j k l m n o p q r s t u v w x y z')\n",
        "letras_lista = letras.split()\n",
        "x = 0\n",
        "for i in letras_lista:\n",
        "    if i not in sentence:\n",
        "        x += 1\n",
        "if x == 0:\n",
        "    print('PANGRAMA')\n",
        "else:\n",
        "    print('NO PANGRAMA')"
      ]
    },
    {
      "cell_type": "code",
      "execution_count": null,
      "metadata": {},
      "outputs": [],
      "source": [
        "sentence = 'The quick brown fox jumps over he lazy dog'\n",
        "print('Es la siguiente oración un pangrama?: ' + sentence)\n",
        "letras = ('a b c d e f g h i j k l m n o p q r s t u v w x y z')\n",
        "letras_lista = letras.split()\n",
        "x = 0\n",
        "for i in letras_lista:\n",
        "    if i not in sentence:\n",
        "        x += 1\n",
        "if x == 0:\n",
        "    print('PANGRAMA')\n",
        "else:\n",
        "    print('NO PANGRAMA')"
      ]
    },
    {
      "cell_type": "code",
      "execution_count": null,
      "metadata": {},
      "outputs": [],
      "source": [
        "sentence = 'The quick brown fox jumps over he lazy dog'\n",
        "sentence = sentence.lower()\n",
        "print('Es la siguiente oración un pangrama?: ' + sentence)\n",
        "letras = ('a b c d e f g h i j k l m n o p q r s t u v w x y z')\n",
        "letras_lista = letras.split()\n",
        "x = 0\n",
        "for i in letras_lista:\n",
        "    if i not in sentence:\n",
        "        x += 1\n",
        "if x == 0:\n",
        "    print('PANGRAMA')\n",
        "else:\n",
        "    print('NO PANGRAMA')"
      ]
    },
    {
      "cell_type": "code",
      "execution_count": null,
      "metadata": {},
      "outputs": [],
      "source": [
        "sentence = 'The quick brown fox jumps over the lazy dog'\n",
        "sentence_sin_espacios = sentence.replace(' ','')\n",
        "print(sentence_sin_espacios)\n",
        "print('Es la siguiente oración un pangrama?: ' + sentence)\n",
        "letras = ('a b c d e f g h i j k l m n o p q r s t u v w x y z')\n",
        "letras_lista = letras.split()\n",
        "print(letras_lista)"
      ]
    },
    {
      "cell_type": "code",
      "execution_count": null,
      "metadata": {},
      "outputs": [],
      "source": []
    },
    {
      "cell_type": "code",
      "execution_count": null,
      "metadata": {},
      "outputs": [],
      "source": [
        "unir = 'ab cd ef gh ij kl m n o pqr st u v wxyz'\n",
        "unir.replace(' ', '')"
      ]
    },
    {
      "cell_type": "markdown",
      "metadata": {
        "id": "3W7EUxtnw4PC"
      },
      "source": [
        "2. Write a Python program to count the number of even and odd numbers from a series of numbers. \n",
        "\n",
        "```python\n",
        "Sample numbers: numbers = (1, 2, 3, 4, 5, 6, 7, 8, 9) \n",
        "    \n",
        "Expected Output:\n",
        "Number of even numbers: 5\n",
        "Number of odd numbers: 4\n",
        "```"
      ]
    },
    {
      "cell_type": "code",
      "metadata": {
        "id": "vLyCaMY8w4PD"
      },
      "source": [
        "def par_impar(serie):\n",
        "    pares = 0\n",
        "    impares = 0\n",
        "    for i in serie:\n",
        "        if i % 2 == 0:\n",
        "            pares += 1\n",
        "        else:\n",
        "            impares += 1\n",
        "    print('La lista de números es: ' + str(serie))\n",
        "    print('Pares:' + str(pares))\n",
        "    print('Impares:' + str(impares))"
      ],
      "execution_count": null,
      "outputs": []
    },
    {
      "cell_type": "code",
      "execution_count": null,
      "metadata": {},
      "outputs": [],
      "source": [
        "mis_numeros = []\n",
        "for i in range(10):\n",
        "    x = int(input('Ingrese una lista de 10 números:'))\n",
        "    mis_numeros.append(x)\n",
        "par_impar(serie=mis_numeros)"
      ]
    },
    {
      "cell_type": "markdown",
      "metadata": {
        "id": "ZRVeGckhw4PD"
      },
      "source": [
        "#### functions & while loop\n",
        "1. Write a program which keeps asking for numbers till the user writes 9999. In that case, the program returns the concatenation of every number as a string.\n"
      ]
    },
    {
      "cell_type": "code",
      "metadata": {
        "id": "EUPK2o-zw4PD"
      },
      "source": [
        "def hasta_9999():\n",
        "    la_lista = ''\n",
        "    x = int(input('Ingrese un número'))\n",
        "    while x != 9999:\n",
        "        la_lista += str(x)\n",
        "        x = int(input('Ingrese un número'))\n",
        "    if x == 9999:\n",
        "        la_lista += str(x)\n",
        "    return la_lista\n"
      ],
      "execution_count": null,
      "outputs": []
    },
    {
      "cell_type": "code",
      "execution_count": null,
      "metadata": {},
      "outputs": [],
      "source": [
        "hasta_9999()"
      ]
    },
    {
      "cell_type": "markdown",
      "metadata": {
        "id": "n_UU0anEw4PD"
      },
      "source": [
        "2. Writes a function that asks a user for a pin code till they get it right... If they give a wrong answer three times the function returns \"Your bank account has been blocked\", otherwise, returns: \"You got it right! You get full access to your money\".\n"
      ]
    },
    {
      "cell_type": "code",
      "metadata": {
        "id": "Uf1SIrx8w4PE"
      },
      "source": [
        "def pin_ok():\n",
        "    pin_real = '654'\n",
        "    x = 0\n",
        "    while x < 3:\n",
        "        tu_pin = input('Ingrese su PIN')\n",
        "        if tu_pin == pin_real:\n",
        "            return 'Tu PIN es correcto - Tienes acceso a tu cuenta bancaria.'\n",
        "        else:\n",
        "            x += 1\n",
        "            print('PIN incorrecto - ' + str(3-x) + ' intento/s restantes.')\n",
        "    return 'Tu cuenta ha sido bloqueada.'"
      ],
      "execution_count": null,
      "outputs": []
    },
    {
      "cell_type": "code",
      "execution_count": null,
      "metadata": {},
      "outputs": [],
      "source": [
        "pin_ok()"
      ]
    },
    {
      "cell_type": "markdown",
      "metadata": {
        "id": "qHPaL2qew4PE"
      },
      "source": [
        "#### functions & for loop\n",
        "\n",
        "1. Write a function that takes in a person's name, and prints out a greeting.\n",
        "    - The greeting must be at least three lines, and the person's name must be in each line.\n",
        "    - Use your function to greet at least three different people.\n",
        "    - Store your three people in a list, and call your function from a for loop."
      ]
    },
    {
      "cell_type": "code",
      "metadata": {
        "id": "eRNm1x1mw4PE"
      },
      "source": [
        "def saludo(persona):\n",
        "    print('\\nHola ' + persona + '!!\\nEspero que ' + persona + ' esté teniendo un gran día.\\nMuchos éxitos en el exámen ' + persona + '.' )\n",
        "    "
      ],
      "execution_count": 232,
      "outputs": []
    },
    {
      "cell_type": "code",
      "execution_count": 233,
      "metadata": {},
      "outputs": [
        {
          "output_type": "stream",
          "name": "stdout",
          "text": [
            "\n",
            "Hola Leonardo!!\n",
            "Espero que Leonardo esté teniendo un gran día.\n",
            "Muchos éxitos en el exámen Leonardo.\n",
            "\n",
            "Hola Ana!!\n",
            "Espero que Ana esté teniendo un gran día.\n",
            "Muchos éxitos en el exámen Ana.\n",
            "\n",
            "Hola Paula!!\n",
            "Espero que Paula esté teniendo un gran día.\n",
            "Muchos éxitos en el exámen Paula.\n"
          ]
        }
      ],
      "source": [
        "lista_personas = []\n",
        "\n",
        "for i in range(3):\n",
        "    nombre = input('Ingrese un nombre:')\n",
        "    lista_personas.append(nombre)\n",
        "    saludo(persona=lista_personas[i])"
      ]
    },
    {
      "cell_type": "markdown",
      "metadata": {
        "id": "bPcLLojfw4PF"
      },
      "source": [
        "2. Make a list that includes 3 or 4 games that you like to play and print a statement that tells the user what games you like.\n",
        "    - Write a function that asks the user to tell you a game they like, and store the game in a variable such as `new_game`. \n",
        "    - If the user mentions one game you like to play, send a message asking to play together.\n",
        "    - Otherwise ask for another game name. If the user tries your program 3 times and doesn't give a game name you like, then ask them to find another friend."
      ]
    },
    {
      "cell_type": "code",
      "execution_count": 230,
      "metadata": {},
      "outputs": [
        {
          "output_type": "execute_result",
          "data": {
            "text/plain": [
              "'Juguemos juntos a Fifa'"
            ]
          },
          "metadata": {},
          "execution_count": 230
        }
      ],
      "source": [
        "mis_juegos = ['Monkey Island', \"Twinsen's Odyssey\", 'Fifa', 'Tetris']\n",
        "\n",
        "def jugar_juntos(mi_lista):\n",
        "        intentos = 0\n",
        "        for i in range(3):\n",
        "            new_game = input('Qué juego te gustaría jugar?')\n",
        "            if new_game in mi_lista:\n",
        "                return 'Juguemos juntos a ' + new_game\n",
        "            else:\n",
        "                intentos +=1\n",
        "                if intentos == 3:\n",
        "                    print('Buscaremos nuevos amigos para que juegues')\n",
        "\n",
        "jugar_juntos(mi_lista=mis_juegos)\n",
        "        "
      ]
    },
    {
      "cell_type": "markdown",
      "metadata": {
        "id": "3nUKCfXcw4PF"
      },
      "source": [
        "#### write a mini-program\n",
        "**Three is a Crowd**\n",
        "- Make a list of names that includes at least four people.\n",
        "- Write an if test that prints a message about the room being crowded, if there are more than three people in your list.\n",
        "- Modify your list so that there are only two people in it. Use one of the methods for removing people from the list, don't just redefine the list.\n",
        "- Run your if test again. There should be no output this time, because there are less than three people in the list.\n",
        "- Store your if test in a function called something like `crowd_test`.\n",
        "\n"
      ]
    },
    {
      "cell_type": "code",
      "metadata": {
        "id": "0KBtTfzFw4PF"
      },
      "source": [
        "people = ['Pepe', 'Juan', 'Leo', 'Ana']"
      ],
      "execution_count": 252,
      "outputs": []
    },
    {
      "cell_type": "code",
      "execution_count": 236,
      "metadata": {},
      "outputs": [
        {
          "output_type": "stream",
          "name": "stdout",
          "text": [
            "Hay demasiada gente en la habitación\n"
          ]
        }
      ],
      "source": [
        "if len(people) > 3:\n",
        "    print('Hay demasiada gente en la habitación')"
      ]
    },
    {
      "cell_type": "code",
      "execution_count": 247,
      "metadata": {},
      "outputs": [
        {
          "output_type": "execute_result",
          "data": {
            "text/plain": [
              "['Leo', 'Ana']"
            ]
          },
          "metadata": {},
          "execution_count": 247
        }
      ],
      "source": [
        "people.remove('Pepe')\n",
        "people.remove('Juan')\n",
        "people"
      ]
    },
    {
      "cell_type": "code",
      "execution_count": 240,
      "metadata": {},
      "outputs": [],
      "source": [
        "if len(people) > 3:\n",
        "    print('Hay demasiada gente en la habitación')"
      ]
    },
    {
      "cell_type": "code",
      "execution_count": null,
      "metadata": {},
      "outputs": [],
      "source": [
        "def crowd_test(cantidad_people):\n",
        "    if len(people) > 3:\n",
        "        print('Hay demasiada gente en la habitación')\n"
      ]
    },
    {
      "cell_type": "markdown",
      "metadata": {
        "id": "vi3fYwpaw4PG"
      },
      "source": [
        "**Three is a Crowd - Part 2**\n",
        "- Save your program from *Three is a Crowd* under a new name.\n",
        "- Add an `else` statement to your if tests. If the `else` statement is run, have it print a message that the room is not very crowded.\n"
      ]
    },
    {
      "cell_type": "code",
      "metadata": {
        "id": "8UHO06zKw4PG"
      },
      "source": [
        "def crowd_test_2(cantidad_people):\n",
        "        if len(people) > 3:\n",
        "            print('Hay demasiada gente en la habitación.')\n",
        "        else:\n",
        "            print('La habitación no está demasiado llena.')"
      ],
      "execution_count": 245,
      "outputs": []
    },
    {
      "cell_type": "code",
      "execution_count": 248,
      "metadata": {},
      "outputs": [
        {
          "output_type": "stream",
          "name": "stdout",
          "text": [
            "La habitación no está demasiado llena\n"
          ]
        }
      ],
      "source": [
        "crowd_test_2(cantidad_people=people)"
      ]
    },
    {
      "cell_type": "markdown",
      "metadata": {
        "id": "ZGwwmttcw4PG"
      },
      "source": [
        "\n",
        "**Six is a Mob**\n",
        "- Save your program from *Three is a Crowd - Part 2* under a new name.\n",
        "- Add some names to your list, so that there are at least six people in the list.\n",
        "- Modify your tests so that\n",
        "    - If there are more than 5 people, a message is printed about there being a mob in the room.\n",
        "    - If there are 3-5 people, a message is printed about the room being crowded.\n",
        "    - If there are 1 or 2 people, a message is printed about the room not being crowded.\n",
        "    - If there are no people in the room, a message is printed abou the room being empty."
      ]
    },
    {
      "cell_type": "code",
      "metadata": {
        "id": "ThR79goUw4PG"
      },
      "source": [
        "def crowd_test_3(cantidad_people):\n",
        "    if len(cantidad_people) > 5:\n",
        "        print('Hay una multitud en la habitación.')\n",
        "    elif len(cantidad_people) <= 5 and len(cantidad_people) >=3:\n",
        "        print('Hay demasiada gente en la habitación.')\n",
        "    elif len(cantidad_people) <=2 and len(cantidad_people) >= 1:\n",
        "        print('La habitación no está demasiado llena.')\n",
        "    else:\n",
        "        print('La habitación está vacía.')"
      ],
      "execution_count": 256,
      "outputs": []
    },
    {
      "cell_type": "code",
      "execution_count": 253,
      "metadata": {},
      "outputs": [
        {
          "output_type": "execute_result",
          "data": {
            "text/plain": [
              "['Pepe', 'Juan', 'Leo', 'Ana', 'Laura', 'Hugo']"
            ]
          },
          "metadata": {},
          "execution_count": 253
        }
      ],
      "source": [
        "nuevos_amigos = ['Laura', 'Hugo']\n",
        "\n",
        "for i in nuevos_amigos:\n",
        "    people.append(i)\n",
        "people"
      ]
    },
    {
      "cell_type": "code",
      "execution_count": 261,
      "metadata": {},
      "outputs": [
        {
          "output_type": "stream",
          "name": "stdout",
          "text": [
            "La habitación está vacía.\n"
          ]
        }
      ],
      "source": [
        "people1 = ['Pepe', 'Juan', 'Leo']\n",
        "people2 = ['Pepe', 'Juan']\n",
        "people3 = ['Pepe', 'Juan', 'Leo', 'Ana', 'Laura', 'Hugo']\n",
        "people4 = []\n",
        "\n",
        "crowd_test_3(cantidad_people=people4)"
      ]
    },
    {
      "cell_type": "code",
      "execution_count": null,
      "metadata": {},
      "outputs": [],
      "source": []
    }
  ]
}