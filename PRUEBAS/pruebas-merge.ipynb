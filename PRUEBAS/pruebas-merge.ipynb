{
 "metadata": {
  "language_info": {
   "codemirror_mode": {
    "name": "ipython",
    "version": 3
   },
   "file_extension": ".py",
   "mimetype": "text/x-python",
   "name": "python",
   "nbconvert_exporter": "python",
   "pygments_lexer": "ipython3",
   "version": "3.7.4"
  },
  "orig_nbformat": 2,
  "kernelspec": {
   "name": "python374jvsc74a57bd0a0947237fadc8b5561fed326db280cc5ec46a670c87cfb3a0489cf95ff262303",
   "display_name": "Python 3.7.4 64-bit"
  },
  "metadata": {
   "interpreter": {
    "hash": "a0947237fadc8b5561fed326db280cc5ec46a670c87cfb3a0489cf95ff262303"
   }
  }
 },
 "nbformat": 4,
 "nbformat_minor": 2,
 "cells": [
  {
   "cell_type": "code",
   "execution_count": 1,
   "metadata": {},
   "outputs": [],
   "source": [
    "import pandas as pd\n",
    "\n",
    "df_SN7577i_a = pd.read_csv(\"SN7577i_a.csv\")\n",
    "df_SN7577i_b = pd.read_csv(\"SN7577i_b.csv\")"
   ]
  },
  {
   "cell_type": "code",
   "execution_count": 2,
   "metadata": {},
   "outputs": [
    {
     "output_type": "stream",
     "name": "stdout",
     "text": [
      "   Id  Q1  Q2  Q3  Q4\n0   1   1  -1   1   8\n1   2   3  -1   1   4\n2   3  10   3   2   6\n3   4   9  -1  10  10\n4   5  10   2   6   1\n5   6   1  -1   1   1\n6   7   1  -1   1   8\n7   8   1  -1   1   1\n8   9   9  -1  10  10\n9  10   2  -1   1   1\n     Id  Q1  Q2  Q3  Q4\n0  1277  10  10   4   6\n1  1278   2  -1   5   4\n2  1279   2  -1   4   5\n3  1280   1  -1   2   3\n4  1281  10   2   3   4\n5  1282   2  -1   3   6\n6  1283  10  10   2  10\n7  1284   9  -1   8   9\n8  1285  11  11   1   2\n9  1286  10   6   6   6\n"
     ]
    }
   ],
   "source": [
    "print(df_SN7577i_a)\n",
    "print(df_SN7577i_b)"
   ]
  },
  {
   "cell_type": "code",
   "execution_count": 3,
   "metadata": {},
   "outputs": [
    {
     "output_type": "execute_result",
     "data": {
      "text/plain": [
       "     Id  Q1  Q2  Q3  Q4\n",
       "0     1   1  -1   1   8\n",
       "1     2   3  -1   1   4\n",
       "2     3  10   3   2   6\n",
       "3     4   9  -1  10  10\n",
       "4     5  10   2   6   1\n",
       "5     6   1  -1   1   1\n",
       "6     7   1  -1   1   8\n",
       "7     8   1  -1   1   1\n",
       "8     9   9  -1  10  10\n",
       "9    10   2  -1   1   1\n",
       "0  1277  10  10   4   6\n",
       "1  1278   2  -1   5   4\n",
       "2  1279   2  -1   4   5\n",
       "3  1280   1  -1   2   3\n",
       "4  1281  10   2   3   4\n",
       "5  1282   2  -1   3   6\n",
       "6  1283  10  10   2  10\n",
       "7  1284   9  -1   8   9\n",
       "8  1285  11  11   1   2\n",
       "9  1286  10   6   6   6"
      ],
      "text/html": "<div>\n<style scoped>\n    .dataframe tbody tr th:only-of-type {\n        vertical-align: middle;\n    }\n\n    .dataframe tbody tr th {\n        vertical-align: top;\n    }\n\n    .dataframe thead th {\n        text-align: right;\n    }\n</style>\n<table border=\"1\" class=\"dataframe\">\n  <thead>\n    <tr style=\"text-align: right;\">\n      <th></th>\n      <th>Id</th>\n      <th>Q1</th>\n      <th>Q2</th>\n      <th>Q3</th>\n      <th>Q4</th>\n    </tr>\n  </thead>\n  <tbody>\n    <tr>\n      <th>0</th>\n      <td>1</td>\n      <td>1</td>\n      <td>-1</td>\n      <td>1</td>\n      <td>8</td>\n    </tr>\n    <tr>\n      <th>1</th>\n      <td>2</td>\n      <td>3</td>\n      <td>-1</td>\n      <td>1</td>\n      <td>4</td>\n    </tr>\n    <tr>\n      <th>2</th>\n      <td>3</td>\n      <td>10</td>\n      <td>3</td>\n      <td>2</td>\n      <td>6</td>\n    </tr>\n    <tr>\n      <th>3</th>\n      <td>4</td>\n      <td>9</td>\n      <td>-1</td>\n      <td>10</td>\n      <td>10</td>\n    </tr>\n    <tr>\n      <th>4</th>\n      <td>5</td>\n      <td>10</td>\n      <td>2</td>\n      <td>6</td>\n      <td>1</td>\n    </tr>\n    <tr>\n      <th>5</th>\n      <td>6</td>\n      <td>1</td>\n      <td>-1</td>\n      <td>1</td>\n      <td>1</td>\n    </tr>\n    <tr>\n      <th>6</th>\n      <td>7</td>\n      <td>1</td>\n      <td>-1</td>\n      <td>1</td>\n      <td>8</td>\n    </tr>\n    <tr>\n      <th>7</th>\n      <td>8</td>\n      <td>1</td>\n      <td>-1</td>\n      <td>1</td>\n      <td>1</td>\n    </tr>\n    <tr>\n      <th>8</th>\n      <td>9</td>\n      <td>9</td>\n      <td>-1</td>\n      <td>10</td>\n      <td>10</td>\n    </tr>\n    <tr>\n      <th>9</th>\n      <td>10</td>\n      <td>2</td>\n      <td>-1</td>\n      <td>1</td>\n      <td>1</td>\n    </tr>\n    <tr>\n      <th>0</th>\n      <td>1277</td>\n      <td>10</td>\n      <td>10</td>\n      <td>4</td>\n      <td>6</td>\n    </tr>\n    <tr>\n      <th>1</th>\n      <td>1278</td>\n      <td>2</td>\n      <td>-1</td>\n      <td>5</td>\n      <td>4</td>\n    </tr>\n    <tr>\n      <th>2</th>\n      <td>1279</td>\n      <td>2</td>\n      <td>-1</td>\n      <td>4</td>\n      <td>5</td>\n    </tr>\n    <tr>\n      <th>3</th>\n      <td>1280</td>\n      <td>1</td>\n      <td>-1</td>\n      <td>2</td>\n      <td>3</td>\n    </tr>\n    <tr>\n      <th>4</th>\n      <td>1281</td>\n      <td>10</td>\n      <td>2</td>\n      <td>3</td>\n      <td>4</td>\n    </tr>\n    <tr>\n      <th>5</th>\n      <td>1282</td>\n      <td>2</td>\n      <td>-1</td>\n      <td>3</td>\n      <td>6</td>\n    </tr>\n    <tr>\n      <th>6</th>\n      <td>1283</td>\n      <td>10</td>\n      <td>10</td>\n      <td>2</td>\n      <td>10</td>\n    </tr>\n    <tr>\n      <th>7</th>\n      <td>1284</td>\n      <td>9</td>\n      <td>-1</td>\n      <td>8</td>\n      <td>9</td>\n    </tr>\n    <tr>\n      <th>8</th>\n      <td>1285</td>\n      <td>11</td>\n      <td>11</td>\n      <td>1</td>\n      <td>2</td>\n    </tr>\n    <tr>\n      <th>9</th>\n      <td>1286</td>\n      <td>10</td>\n      <td>6</td>\n      <td>6</td>\n      <td>6</td>\n    </tr>\n  </tbody>\n</table>\n</div>"
     },
     "metadata": {},
     "execution_count": 3
    }
   ],
   "source": [
    "df_all_rows = pd.concat([df_SN7577i_a, df_SN7577i_b])\n",
    "df_all_rows"
   ]
  },
  {
   "cell_type": "code",
   "execution_count": 4,
   "metadata": {},
   "outputs": [
    {
     "output_type": "execute_result",
     "data": {
      "text/plain": [
       "      Id  Q1  Q2  Q3  Q4\n",
       "0      1   1  -1   1   8\n",
       "1      2   3  -1   1   4\n",
       "2      3  10   3   2   6\n",
       "3      4   9  -1  10  10\n",
       "4      5  10   2   6   1\n",
       "5      6   1  -1   1   1\n",
       "6      7   1  -1   1   8\n",
       "7      8   1  -1   1   1\n",
       "8      9   9  -1  10  10\n",
       "9     10   2  -1   1   1\n",
       "10  1277  10  10   4   6\n",
       "11  1278   2  -1   5   4\n",
       "12  1279   2  -1   4   5\n",
       "13  1280   1  -1   2   3\n",
       "14  1281  10   2   3   4\n",
       "15  1282   2  -1   3   6\n",
       "16  1283  10  10   2  10\n",
       "17  1284   9  -1   8   9\n",
       "18  1285  11  11   1   2\n",
       "19  1286  10   6   6   6"
      ],
      "text/html": "<div>\n<style scoped>\n    .dataframe tbody tr th:only-of-type {\n        vertical-align: middle;\n    }\n\n    .dataframe tbody tr th {\n        vertical-align: top;\n    }\n\n    .dataframe thead th {\n        text-align: right;\n    }\n</style>\n<table border=\"1\" class=\"dataframe\">\n  <thead>\n    <tr style=\"text-align: right;\">\n      <th></th>\n      <th>Id</th>\n      <th>Q1</th>\n      <th>Q2</th>\n      <th>Q3</th>\n      <th>Q4</th>\n    </tr>\n  </thead>\n  <tbody>\n    <tr>\n      <th>0</th>\n      <td>1</td>\n      <td>1</td>\n      <td>-1</td>\n      <td>1</td>\n      <td>8</td>\n    </tr>\n    <tr>\n      <th>1</th>\n      <td>2</td>\n      <td>3</td>\n      <td>-1</td>\n      <td>1</td>\n      <td>4</td>\n    </tr>\n    <tr>\n      <th>2</th>\n      <td>3</td>\n      <td>10</td>\n      <td>3</td>\n      <td>2</td>\n      <td>6</td>\n    </tr>\n    <tr>\n      <th>3</th>\n      <td>4</td>\n      <td>9</td>\n      <td>-1</td>\n      <td>10</td>\n      <td>10</td>\n    </tr>\n    <tr>\n      <th>4</th>\n      <td>5</td>\n      <td>10</td>\n      <td>2</td>\n      <td>6</td>\n      <td>1</td>\n    </tr>\n    <tr>\n      <th>5</th>\n      <td>6</td>\n      <td>1</td>\n      <td>-1</td>\n      <td>1</td>\n      <td>1</td>\n    </tr>\n    <tr>\n      <th>6</th>\n      <td>7</td>\n      <td>1</td>\n      <td>-1</td>\n      <td>1</td>\n      <td>8</td>\n    </tr>\n    <tr>\n      <th>7</th>\n      <td>8</td>\n      <td>1</td>\n      <td>-1</td>\n      <td>1</td>\n      <td>1</td>\n    </tr>\n    <tr>\n      <th>8</th>\n      <td>9</td>\n      <td>9</td>\n      <td>-1</td>\n      <td>10</td>\n      <td>10</td>\n    </tr>\n    <tr>\n      <th>9</th>\n      <td>10</td>\n      <td>2</td>\n      <td>-1</td>\n      <td>1</td>\n      <td>1</td>\n    </tr>\n    <tr>\n      <th>10</th>\n      <td>1277</td>\n      <td>10</td>\n      <td>10</td>\n      <td>4</td>\n      <td>6</td>\n    </tr>\n    <tr>\n      <th>11</th>\n      <td>1278</td>\n      <td>2</td>\n      <td>-1</td>\n      <td>5</td>\n      <td>4</td>\n    </tr>\n    <tr>\n      <th>12</th>\n      <td>1279</td>\n      <td>2</td>\n      <td>-1</td>\n      <td>4</td>\n      <td>5</td>\n    </tr>\n    <tr>\n      <th>13</th>\n      <td>1280</td>\n      <td>1</td>\n      <td>-1</td>\n      <td>2</td>\n      <td>3</td>\n    </tr>\n    <tr>\n      <th>14</th>\n      <td>1281</td>\n      <td>10</td>\n      <td>2</td>\n      <td>3</td>\n      <td>4</td>\n    </tr>\n    <tr>\n      <th>15</th>\n      <td>1282</td>\n      <td>2</td>\n      <td>-1</td>\n      <td>3</td>\n      <td>6</td>\n    </tr>\n    <tr>\n      <th>16</th>\n      <td>1283</td>\n      <td>10</td>\n      <td>10</td>\n      <td>2</td>\n      <td>10</td>\n    </tr>\n    <tr>\n      <th>17</th>\n      <td>1284</td>\n      <td>9</td>\n      <td>-1</td>\n      <td>8</td>\n      <td>9</td>\n    </tr>\n    <tr>\n      <th>18</th>\n      <td>1285</td>\n      <td>11</td>\n      <td>11</td>\n      <td>1</td>\n      <td>2</td>\n    </tr>\n    <tr>\n      <th>19</th>\n      <td>1286</td>\n      <td>10</td>\n      <td>6</td>\n      <td>6</td>\n      <td>6</td>\n    </tr>\n  </tbody>\n</table>\n</div>"
     },
     "metadata": {},
     "execution_count": 4
    }
   ],
   "source": [
    "df_all_rows=df_all_rows.reset_index(drop=True)\n",
    "df_all_rows"
   ]
  },
  {
   "cell_type": "code",
   "execution_count": 6,
   "metadata": {},
   "outputs": [],
   "source": [
    "df_SN7577i_aa = pd.read_csv(\"SN7577i_aa.csv\")\n",
    "df_SN7577i_bb = pd.read_csv(\"SN7577i_bb.csv\")\n"
   ]
  },
  {
   "cell_type": "code",
   "execution_count": 7,
   "metadata": {},
   "outputs": [
    {
     "output_type": "stream",
     "name": "stdout",
     "text": [
      "   Id  Q1  Q2  Q3\n0   1   1  -1   1\n1   2   3  -1   1\n2   3  10   3   2\n3   4   9  -1  10\n4   5  10   2   6\n5   6   1  -1   1\n6   7   1  -1   1\n7   8   1  -1   1\n8   9   9  -1  10\n9  10   2  -1   1\n     Id  Q1  Q2  Q4\n0  1277  10  10   6\n1  1278   2  -1   4\n2  1279   2  -1   5\n3  1280   1  -1   3\n4  1281  10   2   4\n5  1282   2  -1   6\n6  1283  10  10  10\n7  1284   9  -1   9\n8  1285  11  11   2\n9  1286  10   6   6\n"
     ]
    }
   ],
   "source": [
    "print(df_SN7577i_aa)\n",
    "print(df_SN7577i_bb)"
   ]
  },
  {
   "cell_type": "code",
   "execution_count": 10,
   "metadata": {},
   "outputs": [
    {
     "output_type": "execute_result",
     "data": {
      "text/plain": [
       "     Id  Q1  Q2    Q3    Q4\n",
       "0     1   1  -1   1.0   NaN\n",
       "1     2   3  -1   1.0   NaN\n",
       "2     3  10   3   2.0   NaN\n",
       "3     4   9  -1  10.0   NaN\n",
       "4     5  10   2   6.0   NaN\n",
       "5     6   1  -1   1.0   NaN\n",
       "6     7   1  -1   1.0   NaN\n",
       "7     8   1  -1   1.0   NaN\n",
       "8     9   9  -1  10.0   NaN\n",
       "9    10   2  -1   1.0   NaN\n",
       "0  1277  10  10   NaN   6.0\n",
       "1  1278   2  -1   NaN   4.0\n",
       "2  1279   2  -1   NaN   5.0\n",
       "3  1280   1  -1   NaN   3.0\n",
       "4  1281  10   2   NaN   4.0\n",
       "5  1282   2  -1   NaN   6.0\n",
       "6  1283  10  10   NaN  10.0\n",
       "7  1284   9  -1   NaN   9.0\n",
       "8  1285  11  11   NaN   2.0\n",
       "9  1286  10   6   NaN   6.0"
      ],
      "text/html": "<div>\n<style scoped>\n    .dataframe tbody tr th:only-of-type {\n        vertical-align: middle;\n    }\n\n    .dataframe tbody tr th {\n        vertical-align: top;\n    }\n\n    .dataframe thead th {\n        text-align: right;\n    }\n</style>\n<table border=\"1\" class=\"dataframe\">\n  <thead>\n    <tr style=\"text-align: right;\">\n      <th></th>\n      <th>Id</th>\n      <th>Q1</th>\n      <th>Q2</th>\n      <th>Q3</th>\n      <th>Q4</th>\n    </tr>\n  </thead>\n  <tbody>\n    <tr>\n      <th>0</th>\n      <td>1</td>\n      <td>1</td>\n      <td>-1</td>\n      <td>1.0</td>\n      <td>NaN</td>\n    </tr>\n    <tr>\n      <th>1</th>\n      <td>2</td>\n      <td>3</td>\n      <td>-1</td>\n      <td>1.0</td>\n      <td>NaN</td>\n    </tr>\n    <tr>\n      <th>2</th>\n      <td>3</td>\n      <td>10</td>\n      <td>3</td>\n      <td>2.0</td>\n      <td>NaN</td>\n    </tr>\n    <tr>\n      <th>3</th>\n      <td>4</td>\n      <td>9</td>\n      <td>-1</td>\n      <td>10.0</td>\n      <td>NaN</td>\n    </tr>\n    <tr>\n      <th>4</th>\n      <td>5</td>\n      <td>10</td>\n      <td>2</td>\n      <td>6.0</td>\n      <td>NaN</td>\n    </tr>\n    <tr>\n      <th>5</th>\n      <td>6</td>\n      <td>1</td>\n      <td>-1</td>\n      <td>1.0</td>\n      <td>NaN</td>\n    </tr>\n    <tr>\n      <th>6</th>\n      <td>7</td>\n      <td>1</td>\n      <td>-1</td>\n      <td>1.0</td>\n      <td>NaN</td>\n    </tr>\n    <tr>\n      <th>7</th>\n      <td>8</td>\n      <td>1</td>\n      <td>-1</td>\n      <td>1.0</td>\n      <td>NaN</td>\n    </tr>\n    <tr>\n      <th>8</th>\n      <td>9</td>\n      <td>9</td>\n      <td>-1</td>\n      <td>10.0</td>\n      <td>NaN</td>\n    </tr>\n    <tr>\n      <th>9</th>\n      <td>10</td>\n      <td>2</td>\n      <td>-1</td>\n      <td>1.0</td>\n      <td>NaN</td>\n    </tr>\n    <tr>\n      <th>0</th>\n      <td>1277</td>\n      <td>10</td>\n      <td>10</td>\n      <td>NaN</td>\n      <td>6.0</td>\n    </tr>\n    <tr>\n      <th>1</th>\n      <td>1278</td>\n      <td>2</td>\n      <td>-1</td>\n      <td>NaN</td>\n      <td>4.0</td>\n    </tr>\n    <tr>\n      <th>2</th>\n      <td>1279</td>\n      <td>2</td>\n      <td>-1</td>\n      <td>NaN</td>\n      <td>5.0</td>\n    </tr>\n    <tr>\n      <th>3</th>\n      <td>1280</td>\n      <td>1</td>\n      <td>-1</td>\n      <td>NaN</td>\n      <td>3.0</td>\n    </tr>\n    <tr>\n      <th>4</th>\n      <td>1281</td>\n      <td>10</td>\n      <td>2</td>\n      <td>NaN</td>\n      <td>4.0</td>\n    </tr>\n    <tr>\n      <th>5</th>\n      <td>1282</td>\n      <td>2</td>\n      <td>-1</td>\n      <td>NaN</td>\n      <td>6.0</td>\n    </tr>\n    <tr>\n      <th>6</th>\n      <td>1283</td>\n      <td>10</td>\n      <td>10</td>\n      <td>NaN</td>\n      <td>10.0</td>\n    </tr>\n    <tr>\n      <th>7</th>\n      <td>1284</td>\n      <td>9</td>\n      <td>-1</td>\n      <td>NaN</td>\n      <td>9.0</td>\n    </tr>\n    <tr>\n      <th>8</th>\n      <td>1285</td>\n      <td>11</td>\n      <td>11</td>\n      <td>NaN</td>\n      <td>2.0</td>\n    </tr>\n    <tr>\n      <th>9</th>\n      <td>1286</td>\n      <td>10</td>\n      <td>6</td>\n      <td>NaN</td>\n      <td>6.0</td>\n    </tr>\n  </tbody>\n</table>\n</div>"
     },
     "metadata": {},
     "execution_count": 10
    }
   ],
   "source": [
    "df_all_rows = pd.concat([df_SN7577i_aa, df_SN7577i_bb])\n",
    "df_all_rows"
   ]
  },
  {
   "cell_type": "code",
   "execution_count": 11,
   "metadata": {},
   "outputs": [],
   "source": [
    "df_SN7577i_c = pd.read_csv(\"SN7577i_c.csv\")\n",
    "df_SN7577i_d = pd.read_csv(\"SN7577i_d.csv\")"
   ]
  },
  {
   "cell_type": "code",
   "execution_count": 12,
   "metadata": {},
   "outputs": [
    {
     "output_type": "stream",
     "name": "stdout",
     "text": [
      "   Id  maritl  numhhd\n0   1       6       3\n1   2       4       3\n2   3       6       2\n3   4       4       1\n4   5       4       1\n5   6       2       2\n6   7       2       2\n7   8       2       2\n8   9       6       2\n9  10       6       1\n   Id  Q1  Q2\n0   1   1  -1\n1   2   3  -1\n2   3  10   3\n3   4   9  -1\n4   5  10   2\n5   6   1  -1\n6   7   1  -1\n7   8   1  -1\n8   9   9  -1\n9  10   2  -1\n"
     ]
    }
   ],
   "source": [
    "print(df_SN7577i_c)\n",
    "print(df_SN7577i_d)"
   ]
  },
  {
   "cell_type": "code",
   "execution_count": 13,
   "metadata": {},
   "outputs": [
    {
     "output_type": "execute_result",
     "data": {
      "text/plain": [
       "   Id  maritl  numhhd  Id  Q1  Q2\n",
       "0   1       6       3   1   1  -1\n",
       "1   2       4       3   2   3  -1\n",
       "2   3       6       2   3  10   3\n",
       "3   4       4       1   4   9  -1\n",
       "4   5       4       1   5  10   2\n",
       "5   6       2       2   6   1  -1\n",
       "6   7       2       2   7   1  -1\n",
       "7   8       2       2   8   1  -1\n",
       "8   9       6       2   9   9  -1\n",
       "9  10       6       1  10   2  -1"
      ],
      "text/html": "<div>\n<style scoped>\n    .dataframe tbody tr th:only-of-type {\n        vertical-align: middle;\n    }\n\n    .dataframe tbody tr th {\n        vertical-align: top;\n    }\n\n    .dataframe thead th {\n        text-align: right;\n    }\n</style>\n<table border=\"1\" class=\"dataframe\">\n  <thead>\n    <tr style=\"text-align: right;\">\n      <th></th>\n      <th>Id</th>\n      <th>maritl</th>\n      <th>numhhd</th>\n      <th>Id</th>\n      <th>Q1</th>\n      <th>Q2</th>\n    </tr>\n  </thead>\n  <tbody>\n    <tr>\n      <th>0</th>\n      <td>1</td>\n      <td>6</td>\n      <td>3</td>\n      <td>1</td>\n      <td>1</td>\n      <td>-1</td>\n    </tr>\n    <tr>\n      <th>1</th>\n      <td>2</td>\n      <td>4</td>\n      <td>3</td>\n      <td>2</td>\n      <td>3</td>\n      <td>-1</td>\n    </tr>\n    <tr>\n      <th>2</th>\n      <td>3</td>\n      <td>6</td>\n      <td>2</td>\n      <td>3</td>\n      <td>10</td>\n      <td>3</td>\n    </tr>\n    <tr>\n      <th>3</th>\n      <td>4</td>\n      <td>4</td>\n      <td>1</td>\n      <td>4</td>\n      <td>9</td>\n      <td>-1</td>\n    </tr>\n    <tr>\n      <th>4</th>\n      <td>5</td>\n      <td>4</td>\n      <td>1</td>\n      <td>5</td>\n      <td>10</td>\n      <td>2</td>\n    </tr>\n    <tr>\n      <th>5</th>\n      <td>6</td>\n      <td>2</td>\n      <td>2</td>\n      <td>6</td>\n      <td>1</td>\n      <td>-1</td>\n    </tr>\n    <tr>\n      <th>6</th>\n      <td>7</td>\n      <td>2</td>\n      <td>2</td>\n      <td>7</td>\n      <td>1</td>\n      <td>-1</td>\n    </tr>\n    <tr>\n      <th>7</th>\n      <td>8</td>\n      <td>2</td>\n      <td>2</td>\n      <td>8</td>\n      <td>1</td>\n      <td>-1</td>\n    </tr>\n    <tr>\n      <th>8</th>\n      <td>9</td>\n      <td>6</td>\n      <td>2</td>\n      <td>9</td>\n      <td>9</td>\n      <td>-1</td>\n    </tr>\n    <tr>\n      <th>9</th>\n      <td>10</td>\n      <td>6</td>\n      <td>1</td>\n      <td>10</td>\n      <td>2</td>\n      <td>-1</td>\n    </tr>\n  </tbody>\n</table>\n</div>"
     },
     "metadata": {},
     "execution_count": 13
    }
   ],
   "source": [
    "df_all_cols = pd.concat([df_SN7577i_c, df_SN7577i_d], axis = 1)\n",
    "df_all_cols"
   ]
  },
  {
   "cell_type": "code",
   "execution_count": 17,
   "metadata": {},
   "outputs": [
    {
     "output_type": "execute_result",
     "data": {
      "text/plain": [
       "   Id  maritl  numhhd  Q1  Q2\n",
       "0   1       6       3   1  -1\n",
       "1   2       4       3   3  -1\n",
       "2   3       6       2  10   3\n",
       "3   4       4       1   9  -1\n",
       "4   5       4       1  10   2\n",
       "5   6       2       2   1  -1\n",
       "6   7       2       2   1  -1\n",
       "7   8       2       2   1  -1\n",
       "8   9       6       2   9  -1\n",
       "9  10       6       1   2  -1"
      ],
      "text/html": "<div>\n<style scoped>\n    .dataframe tbody tr th:only-of-type {\n        vertical-align: middle;\n    }\n\n    .dataframe tbody tr th {\n        vertical-align: top;\n    }\n\n    .dataframe thead th {\n        text-align: right;\n    }\n</style>\n<table border=\"1\" class=\"dataframe\">\n  <thead>\n    <tr style=\"text-align: right;\">\n      <th></th>\n      <th>Id</th>\n      <th>maritl</th>\n      <th>numhhd</th>\n      <th>Q1</th>\n      <th>Q2</th>\n    </tr>\n  </thead>\n  <tbody>\n    <tr>\n      <th>0</th>\n      <td>1</td>\n      <td>6</td>\n      <td>3</td>\n      <td>1</td>\n      <td>-1</td>\n    </tr>\n    <tr>\n      <th>1</th>\n      <td>2</td>\n      <td>4</td>\n      <td>3</td>\n      <td>3</td>\n      <td>-1</td>\n    </tr>\n    <tr>\n      <th>2</th>\n      <td>3</td>\n      <td>6</td>\n      <td>2</td>\n      <td>10</td>\n      <td>3</td>\n    </tr>\n    <tr>\n      <th>3</th>\n      <td>4</td>\n      <td>4</td>\n      <td>1</td>\n      <td>9</td>\n      <td>-1</td>\n    </tr>\n    <tr>\n      <th>4</th>\n      <td>5</td>\n      <td>4</td>\n      <td>1</td>\n      <td>10</td>\n      <td>2</td>\n    </tr>\n    <tr>\n      <th>5</th>\n      <td>6</td>\n      <td>2</td>\n      <td>2</td>\n      <td>1</td>\n      <td>-1</td>\n    </tr>\n    <tr>\n      <th>6</th>\n      <td>7</td>\n      <td>2</td>\n      <td>2</td>\n      <td>1</td>\n      <td>-1</td>\n    </tr>\n    <tr>\n      <th>7</th>\n      <td>8</td>\n      <td>2</td>\n      <td>2</td>\n      <td>1</td>\n      <td>-1</td>\n    </tr>\n    <tr>\n      <th>8</th>\n      <td>9</td>\n      <td>6</td>\n      <td>2</td>\n      <td>9</td>\n      <td>-1</td>\n    </tr>\n    <tr>\n      <th>9</th>\n      <td>10</td>\n      <td>6</td>\n      <td>1</td>\n      <td>2</td>\n      <td>-1</td>\n    </tr>\n  </tbody>\n</table>\n</div>"
     },
     "metadata": {},
     "execution_count": 17
    }
   ],
   "source": [
    "df_cd = pd.merge(df_SN7577i_c, df_SN7577i_d, how='inner')\n",
    "df_cd"
   ]
  },
  {
   "cell_type": "code",
   "execution_count": 18,
   "metadata": {},
   "outputs": [
    {
     "output_type": "execute_result",
     "data": {
      "text/plain": [
       "   Id  maritl  numhhd  Q1  Q2\n",
       "0   1       6       3   1  -1\n",
       "1   2       4       3   3  -1\n",
       "2   3       6       2  10   3\n",
       "3   4       4       1   9  -1\n",
       "4   5       4       1  10   2\n",
       "5   6       2       2   1  -1\n",
       "6   7       2       2   1  -1\n",
       "7   8       2       2   1  -1\n",
       "8   9       6       2   9  -1\n",
       "9  10       6       1   2  -1"
      ],
      "text/html": "<div>\n<style scoped>\n    .dataframe tbody tr th:only-of-type {\n        vertical-align: middle;\n    }\n\n    .dataframe tbody tr th {\n        vertical-align: top;\n    }\n\n    .dataframe thead th {\n        text-align: right;\n    }\n</style>\n<table border=\"1\" class=\"dataframe\">\n  <thead>\n    <tr style=\"text-align: right;\">\n      <th></th>\n      <th>Id</th>\n      <th>maritl</th>\n      <th>numhhd</th>\n      <th>Q1</th>\n      <th>Q2</th>\n    </tr>\n  </thead>\n  <tbody>\n    <tr>\n      <th>0</th>\n      <td>1</td>\n      <td>6</td>\n      <td>3</td>\n      <td>1</td>\n      <td>-1</td>\n    </tr>\n    <tr>\n      <th>1</th>\n      <td>2</td>\n      <td>4</td>\n      <td>3</td>\n      <td>3</td>\n      <td>-1</td>\n    </tr>\n    <tr>\n      <th>2</th>\n      <td>3</td>\n      <td>6</td>\n      <td>2</td>\n      <td>10</td>\n      <td>3</td>\n    </tr>\n    <tr>\n      <th>3</th>\n      <td>4</td>\n      <td>4</td>\n      <td>1</td>\n      <td>9</td>\n      <td>-1</td>\n    </tr>\n    <tr>\n      <th>4</th>\n      <td>5</td>\n      <td>4</td>\n      <td>1</td>\n      <td>10</td>\n      <td>2</td>\n    </tr>\n    <tr>\n      <th>5</th>\n      <td>6</td>\n      <td>2</td>\n      <td>2</td>\n      <td>1</td>\n      <td>-1</td>\n    </tr>\n    <tr>\n      <th>6</th>\n      <td>7</td>\n      <td>2</td>\n      <td>2</td>\n      <td>1</td>\n      <td>-1</td>\n    </tr>\n    <tr>\n      <th>7</th>\n      <td>8</td>\n      <td>2</td>\n      <td>2</td>\n      <td>1</td>\n      <td>-1</td>\n    </tr>\n    <tr>\n      <th>8</th>\n      <td>9</td>\n      <td>6</td>\n      <td>2</td>\n      <td>9</td>\n      <td>-1</td>\n    </tr>\n    <tr>\n      <th>9</th>\n      <td>10</td>\n      <td>6</td>\n      <td>1</td>\n      <td>2</td>\n      <td>-1</td>\n    </tr>\n  </tbody>\n</table>\n</div>"
     },
     "metadata": {},
     "execution_count": 18
    }
   ],
   "source": [
    "df_cd = pd.merge(df_SN7577i_c, df_SN7577i_d, how='inner', on = 'Id')\n",
    "df_cd"
   ]
  },
  {
   "cell_type": "code",
   "execution_count": 19,
   "metadata": {},
   "outputs": [
    {
     "output_type": "execute_result",
     "data": {
      "text/plain": [
       "   Id  maritl  numhhd  Q1  Q2\n",
       "0   1       6       3   1  -1\n",
       "1   2       4       3   3  -1\n",
       "2   3       6       2  10   3\n",
       "3   4       4       1   9  -1\n",
       "4   5       4       1  10   2\n",
       "5   6       2       2   1  -1\n",
       "6   7       2       2   1  -1\n",
       "7   8       2       2   1  -1\n",
       "8   9       6       2   9  -1\n",
       "9  10       6       1   2  -1"
      ],
      "text/html": "<div>\n<style scoped>\n    .dataframe tbody tr th:only-of-type {\n        vertical-align: middle;\n    }\n\n    .dataframe tbody tr th {\n        vertical-align: top;\n    }\n\n    .dataframe thead th {\n        text-align: right;\n    }\n</style>\n<table border=\"1\" class=\"dataframe\">\n  <thead>\n    <tr style=\"text-align: right;\">\n      <th></th>\n      <th>Id</th>\n      <th>maritl</th>\n      <th>numhhd</th>\n      <th>Q1</th>\n      <th>Q2</th>\n    </tr>\n  </thead>\n  <tbody>\n    <tr>\n      <th>0</th>\n      <td>1</td>\n      <td>6</td>\n      <td>3</td>\n      <td>1</td>\n      <td>-1</td>\n    </tr>\n    <tr>\n      <th>1</th>\n      <td>2</td>\n      <td>4</td>\n      <td>3</td>\n      <td>3</td>\n      <td>-1</td>\n    </tr>\n    <tr>\n      <th>2</th>\n      <td>3</td>\n      <td>6</td>\n      <td>2</td>\n      <td>10</td>\n      <td>3</td>\n    </tr>\n    <tr>\n      <th>3</th>\n      <td>4</td>\n      <td>4</td>\n      <td>1</td>\n      <td>9</td>\n      <td>-1</td>\n    </tr>\n    <tr>\n      <th>4</th>\n      <td>5</td>\n      <td>4</td>\n      <td>1</td>\n      <td>10</td>\n      <td>2</td>\n    </tr>\n    <tr>\n      <th>5</th>\n      <td>6</td>\n      <td>2</td>\n      <td>2</td>\n      <td>1</td>\n      <td>-1</td>\n    </tr>\n    <tr>\n      <th>6</th>\n      <td>7</td>\n      <td>2</td>\n      <td>2</td>\n      <td>1</td>\n      <td>-1</td>\n    </tr>\n    <tr>\n      <th>7</th>\n      <td>8</td>\n      <td>2</td>\n      <td>2</td>\n      <td>1</td>\n      <td>-1</td>\n    </tr>\n    <tr>\n      <th>8</th>\n      <td>9</td>\n      <td>6</td>\n      <td>2</td>\n      <td>9</td>\n      <td>-1</td>\n    </tr>\n    <tr>\n      <th>9</th>\n      <td>10</td>\n      <td>6</td>\n      <td>1</td>\n      <td>2</td>\n      <td>-1</td>\n    </tr>\n  </tbody>\n</table>\n</div>"
     },
     "metadata": {},
     "execution_count": 19
    }
   ],
   "source": [
    "df_cd = pd.merge(df_SN7577i_c, df_SN7577i_d, how='inner', left_on = 'Id', right_on = 'Id')\n",
    "df_cd"
   ]
  },
  {
   "cell_type": "code",
   "execution_count": null,
   "metadata": {},
   "outputs": [],
   "source": []
  }
 ]
}