{
 "metadata": {
  "language_info": {
   "codemirror_mode": {
    "name": "ipython",
    "version": 3
   },
   "file_extension": ".py",
   "mimetype": "text/x-python",
   "name": "python",
   "nbconvert_exporter": "python",
   "pygments_lexer": "ipython3",
   "version": "3.7.4"
  },
  "orig_nbformat": 2,
  "kernelspec": {
   "name": "python374jvsc74a57bd0a0947237fadc8b5561fed326db280cc5ec46a670c87cfb3a0489cf95ff262303",
   "display_name": "Python 3.7.4 64-bit"
  },
  "metadata": {
   "interpreter": {
    "hash": "a0947237fadc8b5561fed326db280cc5ec46a670c87cfb3a0489cf95ff262303"
   }
  }
 },
 "nbformat": 4,
 "nbformat_minor": 2,
 "cells": [
  {
   "cell_type": "code",
   "execution_count": 1,
   "metadata": {},
   "outputs": [],
   "source": [
    "def imprimir_saludo(saludo):\n",
    "    return saludo"
   ]
  },
  {
   "cell_type": "code",
   "execution_count": 5,
   "metadata": {},
   "outputs": [],
   "source": [
    "def posicion_fruta(fruta1, lista_de_frutas1):\n",
    "    for pos,valor in enumerate(lista_de_frutas1):\n",
    "        if fruta1 == valor:\n",
    "            return pos"
   ]
  },
  {
   "cell_type": "code",
   "execution_count": 24,
   "metadata": {},
   "outputs": [],
   "source": [
    "def esta_fruta(fruta2, lista_de_frutas2):\n",
    "    for i in lista_de_frutas2:\n",
    "        if i == fruta2:\n",
    "            posicion = posicion_fruta(fruta1=fruta2, lista_de_frutas1=lista_de_frutas2)\n",
    "            return ('La fruta ' + fruta2 + ' se encuentra en la posición ' + str(posicion + 1) + ' de la lista.')    #Puse el +1 para ver                                                                                                                       la posición REAL en                                                                                                                        la lista, y no la                                                                                                                         de Python.\n",
    "    return (fruta2 + ' no está en la lista.')\n",
    "\n"
   ]
  },
  {
   "cell_type": "code",
   "execution_count": 25,
   "metadata": {},
   "outputs": [
    {
     "output_type": "execute_result",
     "data": {
      "text/plain": [
       "'La fruta anana se encuentra en la posición 5 de la lista.'"
      ]
     },
     "metadata": {},
     "execution_count": 25
    }
   ],
   "source": [
    "mis_frutas = ['banana', 'mandarina', 'sandia', 'melon', 'anana']\n",
    "fruta_buscada = input('Ingrese una fruta para ver si está en la lista')\n",
    "\n",
    "esta_fruta(fruta2=fruta_buscada, lista_de_frutas2=mis_frutas)"
   ]
  },
  {
   "cell_type": "code",
   "execution_count": null,
   "metadata": {},
   "outputs": [],
   "source": []
  }
 ]
}