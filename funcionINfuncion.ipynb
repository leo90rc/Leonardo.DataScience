{
 "metadata": {
  "language_info": {
   "codemirror_mode": {
    "name": "ipython",
    "version": 3
   },
   "file_extension": ".py",
   "mimetype": "text/x-python",
   "name": "python",
   "nbconvert_exporter": "python",
   "pygments_lexer": "ipython3",
   "version": "3.7.4"
  },
  "orig_nbformat": 2,
  "kernelspec": {
   "name": "python374jvsc74a57bd0a0947237fadc8b5561fed326db280cc5ec46a670c87cfb3a0489cf95ff262303",
   "display_name": "Python 3.7.4 64-bit"
  },
  "metadata": {
   "interpreter": {
    "hash": "a0947237fadc8b5561fed326db280cc5ec46a670c87cfb3a0489cf95ff262303"
   }
  }
 },
 "nbformat": 4,
 "nbformat_minor": 2,
 "cells": [
  {
   "cell_type": "code",
   "execution_count": 2,
   "metadata": {},
   "outputs": [
    {
     "output_type": "execute_result",
     "data": {
      "text/plain": [
       "[0, 1, 2, 3, 4, 5, 6, 7, 8, 9, 10, 11, 12, 13, 14, 15]"
      ]
     },
     "metadata": {},
     "execution_count": 2
    }
   ],
   "source": [
    "lista = []\n",
    "for i in range((5*3)+1):\n",
    "    lista.append(i)\n",
    "lista"
   ]
  },
  {
   "cell_type": "code",
   "execution_count": 8,
   "metadata": {},
   "outputs": [
    {
     "output_type": "stream",
     "name": "stdout",
     "text": [
      "1\n2\n[3, 4, 5]\n"
     ]
    }
   ],
   "source": [
    "tupla = (1,2,3,4,5)\n",
    "a,b,*rest = tupla\n",
    "print(a)\n",
    "print(b)\n",
    "print(rest)"
   ]
  },
  {
   "cell_type": "code",
   "execution_count": 14,
   "metadata": {},
   "outputs": [
    {
     "output_type": "stream",
     "name": "stdout",
     "text": [
      "deque([])\n"
     ]
    },
    {
     "output_type": "execute_result",
     "data": {
      "text/plain": [
       "collections.deque"
      ]
     },
     "metadata": {},
     "execution_count": 14
    }
   ],
   "source": [
    "import collections\n",
    "\n",
    "d = collections.deque()\n",
    "print(d)\n",
    "type(d)"
   ]
  },
  {
   "cell_type": "code",
   "execution_count": 24,
   "metadata": {},
   "outputs": [
    {
     "output_type": "stream",
     "name": "stdout",
     "text": [
      "deque(['1', '2', '3', '4', '5'])\ndeque([6, '1', '2', '3', '4', '5'])\ndeque([6, '1', '2', '3', '4', '5', '9', '1', '0', '1', '1'])\ndeque(['6', '5', '4', 6, '1', '2', '3', '4', '5', '9', '1', '0', '1', '1'])\n"
     ]
    }
   ],
   "source": [
    "lista = collections.deque('12345')\n",
    "print(lista)\n",
    "lista.appendleft(6)\n",
    "print(lista)\n",
    "lista.extend('91011')\n",
    "print(lista)\n",
    "lista.extendleft('456')\n",
    "\n",
    "print(lista)\n"
   ]
  },
  {
   "cell_type": "code",
   "execution_count": 33,
   "metadata": {},
   "outputs": [
    {
     "output_type": "stream",
     "name": "stdout",
     "text": [
      "4\n"
     ]
    },
    {
     "output_type": "execute_result",
     "data": {
      "text/plain": [
       "[0, 1, 8, 2, 1, 4, 6, 8, 9]"
      ]
     },
     "metadata": {},
     "execution_count": 33
    }
   ],
   "source": [
    "import bisect\n",
    "\n",
    "lista = [0,8,2,1,4,6,8,9]\n",
    "print(bisect.bisect(lista,3))\n",
    "bisect.insort(lista,1)\n",
    "lista\n"
   ]
  },
  {
   "cell_type": "code",
   "execution_count": 38,
   "metadata": {},
   "outputs": [
    {
     "output_type": "stream",
     "name": "stdout",
     "text": [
      "[0, 1, 8, 9, 4, 5, 6, 7]\n[4, 5]\n"
     ]
    }
   ],
   "source": [
    "seq = [0,1,2,3,4,5,6,7]\n",
    "seq[2:4] = [8,9]\n",
    "print(seq)\n",
    "print(seq[4:6])"
   ]
  },
  {
   "cell_type": "code",
   "execution_count": 56,
   "metadata": {},
   "outputs": [
    {
     "output_type": "execute_result",
     "data": {
      "text/plain": [
       "{3: 'primer valor', 'hola': 'segudno valor', (2.1, None): 'tercer valor'}"
      ]
     },
     "metadata": {},
     "execution_count": 56
    }
   ],
   "source": [
    "k = (3, 'hola', (2.1,None))\n",
    "v = ('primer valor', 'segudno valor', 'tercer valor')\n",
    "diccionario = {}\n",
    "\n",
    "for key, valor in zip(k,v):\n",
    "    diccionario[key] = valor\n",
    "\n",
    "diccionario\n"
   ]
  },
  {
   "cell_type": "code",
   "execution_count": 61,
   "metadata": {},
   "outputs": [
    {
     "output_type": "execute_result",
     "data": {
      "text/plain": [
       "{3: 'primer valor',\n",
       " 'hola': 'segudno valor',\n",
       " (2.1, None): 'tercer valor',\n",
       " 4: 'PERRO',\n",
       " 5: [],\n",
       " 6: ['mono', 'gato']}"
      ]
     },
     "metadata": {},
     "execution_count": 61
    }
   ],
   "source": [
    "diccionario.setdefault(6,[]).append('gato')\n",
    "\n",
    "diccionario"
   ]
  },
  {
   "cell_type": "code",
   "execution_count": 67,
   "metadata": {},
   "outputs": [
    {
     "output_type": "stream",
     "name": "stdout",
     "text": [
      "8269625341970965586\n8269625341970965586\n"
     ]
    }
   ],
   "source": [
    "print(hash('hola'))\n",
    "print(hash('hola'))"
   ]
  },
  {
   "cell_type": "code",
   "execution_count": 72,
   "metadata": {},
   "outputs": [
    {
     "output_type": "stream",
     "name": "stdout",
     "text": [
      "defaultdict(<class 'list'>, {})\n"
     ]
    },
    {
     "output_type": "execute_result",
     "data": {
      "text/plain": [
       "defaultdict(list, {'h': ['hola'], 'a': ['adios'], 'c': ['chimpance']})"
      ]
     },
     "metadata": {},
     "execution_count": 72
    }
   ],
   "source": [
    "from collections import defaultdict\n",
    "lala = defaultdict(list)\n",
    "print(lala)\n",
    "words = ('hola', 'adios', 'chimpance')\n",
    "for word in words:\n",
    "    lala[word[0]].append(word)\n",
    "lala"
   ]
  },
  {
   "cell_type": "code",
   "execution_count": 91,
   "metadata": {},
   "outputs": [
    {
     "output_type": "stream",
     "name": "stdout",
     "text": [
      "{1, 2, 3, 4, 5, 6, 7, 8}\n{4, 5, 6, 7, 8}\n"
     ]
    },
    {
     "output_type": "execute_result",
     "data": {
      "text/plain": [
       "{4, 5, 6, 7, 8}"
      ]
     },
     "metadata": {},
     "execution_count": 91
    }
   ],
   "source": [
    "leo = {1,2,3,4,5,6}\n",
    "mecha = {4,5,6,7,8}\n",
    "\n",
    "leo.update(mecha)\n",
    "print(leo)\n",
    "print(mecha)\n",
    "\n",
    "pepe = mecha.copy()\n",
    "pepe"
   ]
  },
  {
   "cell_type": "code",
   "execution_count": 108,
   "metadata": {},
   "outputs": [],
   "source": [
    "all_data = [['John', 'Eeemily', 'Michael', 'Mary', 'Steven'],['Maria', 'Jueean', 'Jaevier', 'Natalia', 'Pilar']]"
   ]
  },
  {
   "cell_type": "code",
   "execution_count": 112,
   "metadata": {},
   "outputs": [
    {
     "output_type": "execute_result",
     "data": {
      "text/plain": [
       "['Eeemily', 'Steven', 'Jueean', 'Jaevier']"
      ]
     },
     "metadata": {},
     "execution_count": 112
    }
   ],
   "source": [
    "names_of_interest = []\n",
    "for names in all_data:\n",
    "    enough_es = [name for name in names if name.count('e') >= 2]\n",
    "    names_of_interest.extend(enough_es)\n",
    "names_of_interest"
   ]
  },
  {
   "cell_type": "code",
   "execution_count": 115,
   "metadata": {},
   "outputs": [
    {
     "output_type": "execute_result",
     "data": {
      "text/plain": [
       "['Eeemily', 'Steven', 'Jueean', 'Jaevier']"
      ]
     },
     "metadata": {},
     "execution_count": 115
    }
   ],
   "source": [
    "[nombre for los_nombres in all_data for nombre in los_nombres if nombre.count('e') >= 2]"
   ]
  },
  {
   "cell_type": "code",
   "execution_count": 116,
   "metadata": {},
   "outputs": [
    {
     "output_type": "execute_result",
     "data": {
      "text/plain": [
       "[1, 2, 3, 4, 5, 6, 7, 8, 9]"
      ]
     },
     "metadata": {},
     "execution_count": 116
    }
   ],
   "source": [
    "some_tuples = [(1, 2, 3), (4, 5, 6), (7, 8, 9)]\n",
    "\n",
    "[numeros for tupla in some_tuples for numeros in tupla]"
   ]
  },
  {
   "cell_type": "code",
   "execution_count": 117,
   "metadata": {},
   "outputs": [
    {
     "output_type": "execute_result",
     "data": {
      "text/plain": [
       "[[1, 2, 3], [4, 5, 6], [7, 8, 9]]"
      ]
     },
     "metadata": {},
     "execution_count": 117
    }
   ],
   "source": [
    "some_tuples = [(1, 2, 3), (4, 5, 6), (7, 8, 9)]\n",
    "[[numero for numero in tupla] for tupla in some_tuples]"
   ]
  },
  {
   "cell_type": "code",
   "execution_count": 152,
   "metadata": {},
   "outputs": [
    {
     "output_type": "execute_result",
     "data": {
      "text/plain": [
       "'ma meer to'"
      ]
     },
     "metadata": {},
     "execution_count": 152
    }
   ],
   "source": [
    "palabra = ' a sdo'\n",
    "str.strip('  ma meer to ')"
   ]
  },
  {
   "cell_type": "code",
   "execution_count": 136,
   "metadata": {},
   "outputs": [
    {
     "output_type": "execute_result",
     "data": {
      "text/plain": [
       "'South Carolina'"
      ]
     },
     "metadata": {},
     "execution_count": 136
    }
   ],
   "source": [
    "palabra2 = 'South      Carolina'\n",
    "' '.join(palabra2.split())"
   ]
  },
  {
   "cell_type": "code",
   "execution_count": 150,
   "metadata": {},
   "outputs": [
    {
     "output_type": "execute_result",
     "data": {
      "text/plain": [
       "'Buenos dias'"
      ]
     },
     "metadata": {},
     "execution_count": 150
    }
   ],
   "source": [
    "import re\n",
    "palabra3 = 'Bue$no#s d.ias'\n",
    "palabra4 = re.sub(\"[#$.]\", '', palabra3)\n",
    "palabra4"
   ]
  },
  {
   "cell_type": "code",
   "execution_count": 155,
   "metadata": {},
   "outputs": [
    {
     "output_type": "execute_result",
     "data": {
      "text/plain": [
       "['adios', 'gato', 'hola', 'perro']"
      ]
     },
     "metadata": {},
     "execution_count": 155
    }
   ],
   "source": [
    "listilla = ['hola', 'adios', 'perro', 'gato']\n",
    "listilla.sort()\n",
    "listilla"
   ]
  },
  {
   "cell_type": "code",
   "execution_count": null,
   "metadata": {},
   "outputs": [],
   "source": []
  },
  {
   "cell_type": "code",
   "execution_count": 103,
   "metadata": {},
   "outputs": [
    {
     "output_type": "execute_result",
     "data": {
      "text/plain": [
       "['BAT', 'CAR', 'DOVE', 'PYTHON']"
      ]
     },
     "metadata": {},
     "execution_count": 103
    }
   ],
   "source": [
    "strings = ['a', 'as', 'bat', 'car', 'dove', 'python']\n",
    "\n",
    "[x.upper() for x in strings if len(x) > 2]"
   ]
  },
  {
   "cell_type": "code",
   "execution_count": 26,
   "metadata": {},
   "outputs": [
    {
     "output_type": "stream",
     "name": "stdout",
     "text": [
      "Estás en una tierra llena de dragones. Frente a tí\n",
      "hay dos cuevas. En una de ellas, el dragón es generoso y\n",
      "amigable y compartirá su tesoro contigo. El otro dragón\n",
      "es codicioso y está hambriento, y te devorará inmediatamente.\n",
      "\n",
      "¿A qué cueva quieres entrar? (1 ó 2)\n",
      "¿A qué cueva quieres entrar? (1 ó 2)\n",
      "¿A qué cueva quieres entrar? (1 ó 2)\n",
      "¿A qué cueva quieres entrar? (1 ó 2)\n",
      "¿A qué cueva quieres entrar? (1 ó 2)\n",
      "Te aproximas a la cueva...\n",
      "Es oscura y espeluznante...\n",
      "¡Un gran dragon aparece súbitamente frente a tí! Abre sus fauces y...\n",
      "\n",
      "¡Te regala su tesoro!\n",
      "¿Quieres jugar de nuevo? (sí o no)\n",
      "Estás en una tierra llena de dragones. Frente a tí\n",
      "hay dos cuevas. En una de ellas, el dragón es generoso y\n",
      "amigable y compartirá su tesoro contigo. El otro dragón\n",
      "es codicioso y está hambriento, y te devorará inmediatamente.\n",
      "\n",
      "¿A qué cueva quieres entrar? (1 ó 2)\n",
      "Te aproximas a la cueva...\n",
      "Es oscura y espeluznante...\n",
      "¡Un gran dragon aparece súbitamente frente a tí! Abre sus fauces y...\n",
      "\n",
      "¡Te regala su tesoro!\n",
      "¿Quieres jugar de nuevo? (sí o no)\n"
     ]
    }
   ],
   "source": [
    "import random\n",
    "import time\n",
    "\n",
    "def mostrarIntroducción():\t\t\n",
    "    print('Estás en una tierra llena de dragones. Frente a tí')\t\t\n",
    "    print('hay dos cuevas. En una de ellas, el dragón es generoso y')\t\t\n",
    "    print('amigable y compartirá su tesoro contigo. El otro dragón')\t\t\n",
    "    print('es codicioso y está hambriento, y te devorará inmediatamente.')\t\t\n",
    "    print()\t\t\n",
    "\t\t\t\n",
    "def elegirCueva():\t\t\n",
    "    cueva = ''\t\t\n",
    "    while cueva != '1' and cueva != '2':\t\t\n",
    "        print('¿A qué cueva quieres entrar? (1 ó 2)')\t\t\n",
    "        cueva = input()\t\t\n",
    "    return cueva\n",
    "\t\t\t\n",
    "def explorarCueva(cuevaElegida):\t\t\n",
    "    print('Te aproximas a la cueva...')\t\t\n",
    "    time.sleep(2)\t\t\n",
    "    print('Es oscura y espeluznante...')\t\t\n",
    "    time.sleep(2)\t\t\n",
    "    print('¡Un gran dragon aparece súbitamente frente a tí! Abre sus fauces y...')\t\t\n",
    "    print()\t\t\n",
    "    time.sleep(2)\t\t\n",
    "        \n",
    "    cuevaAmigable = random.randint(1, 2)\t\t\n",
    "        \n",
    "    if cuevaElegida == str(cuevaAmigable):\t\t\n",
    "            print('¡Te regala su tesoro!')\t\t\n",
    "    else:\t\t\n",
    "            print('¡Te engulle de un bocado!')\t\t\n",
    "        \n",
    "jugarDeNuevo = 'sí'\t\t\n",
    "while jugarDeNuevo == 'sí' or jugarDeNuevo == 's':\t\t\n",
    "        \n",
    "    mostrarIntroducción()\t\t\n",
    "        \n",
    "    númeroDeCueva = elegirCueva()\t\t\n",
    "        \n",
    "    explorarCueva(númeroDeCueva)\t\t\n",
    "        \n",
    "    print('¿Quieres jugar de nuevo? (sí o no)')\t\t\n",
    "    jugarDeNuevo = input()"
   ]
  },
  {
   "cell_type": "code",
   "execution_count": 3,
   "metadata": {},
   "outputs": [],
   "source": [
    "def posicion_fruta(fruta1, lista_de_frutas1):\n",
    "    for pos,valor in enumerate(lista_de_frutas1):\n",
    "        if fruta1 == valor:\n",
    "            return pos"
   ]
  },
  {
   "cell_type": "code",
   "execution_count": 24,
   "metadata": {},
   "outputs": [],
   "source": [
    "def esta_fruta(fruta2, lista_de_frutas2):\n",
    "    for i in lista_de_frutas2:\n",
    "        if i == fruta2:\n",
    "            posicion = posicion_fruta(fruta1=fruta2, lista_de_frutas1=lista_de_frutas2)\n",
    "            return ('La fruta ' + fruta2 + ' se encuentra en la posición ' + str(posicion + 1) + ' de la lista.')    #Puse el +1 para ver                                                                                                                       la posición REAL en                                                                                                                        la lista, y no la                                                                                                                         de Python.\n",
    "    return (fruta2 + ' no está en la lista.')\n",
    "\n"
   ]
  },
  {
   "cell_type": "code",
   "execution_count": 25,
   "metadata": {},
   "outputs": [
    {
     "output_type": "execute_result",
     "data": {
      "text/plain": [
       "'La fruta anana se encuentra en la posición 5 de la lista.'"
      ]
     },
     "metadata": {},
     "execution_count": 25
    }
   ],
   "source": [
    "mis_frutas = ['banana', 'mandarina', 'sandia', 'melon', 'anana']\n",
    "fruta_buscada = input('Ingrese una fruta para ver si está en la lista')\n",
    "\n",
    "esta_fruta(fruta2=fruta_buscada, lista_de_frutas2=mis_frutas)"
   ]
  },
  {
   "cell_type": "code",
   "execution_count": null,
   "metadata": {},
   "outputs": [],
   "source": []
  }
 ]
}