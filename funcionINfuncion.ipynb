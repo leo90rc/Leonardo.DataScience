{
 "metadata": {
  "language_info": {
   "codemirror_mode": {
    "name": "ipython",
    "version": 3
   },
   "file_extension": ".py",
   "mimetype": "text/x-python",
   "name": "python",
   "nbconvert_exporter": "python",
   "pygments_lexer": "ipython3",
   "version": "3.7.4"
  },
  "orig_nbformat": 2,
  "kernelspec": {
   "name": "python374jvsc74a57bd0a0947237fadc8b5561fed326db280cc5ec46a670c87cfb3a0489cf95ff262303",
   "display_name": "Python 3.7.4 64-bit"
  },
  "metadata": {
   "interpreter": {
    "hash": "a0947237fadc8b5561fed326db280cc5ec46a670c87cfb3a0489cf95ff262303"
   }
  }
 },
 "nbformat": 4,
 "nbformat_minor": 2,
 "cells": [
  {
   "cell_type": "code",
   "execution_count": 2,
   "metadata": {},
   "outputs": [
    {
     "output_type": "execute_result",
     "data": {
      "text/plain": [
       "[0, 1, 2, 3, 4, 5, 6, 7, 8, 9, 10, 11, 12, 13, 14, 15]"
      ]
     },
     "metadata": {},
     "execution_count": 2
    }
   ],
   "source": [
    "lista = []\n",
    "for i in range((5*3)+1):\n",
    "    lista.append(i)\n",
    "lista"
   ]
  },
  {
   "cell_type": "code",
   "execution_count": 26,
   "metadata": {},
   "outputs": [
    {
     "output_type": "stream",
     "name": "stdout",
     "text": [
      "Estás en una tierra llena de dragones. Frente a tí\n",
      "hay dos cuevas. En una de ellas, el dragón es generoso y\n",
      "amigable y compartirá su tesoro contigo. El otro dragón\n",
      "es codicioso y está hambriento, y te devorará inmediatamente.\n",
      "\n",
      "¿A qué cueva quieres entrar? (1 ó 2)\n",
      "¿A qué cueva quieres entrar? (1 ó 2)\n",
      "¿A qué cueva quieres entrar? (1 ó 2)\n",
      "¿A qué cueva quieres entrar? (1 ó 2)\n",
      "¿A qué cueva quieres entrar? (1 ó 2)\n",
      "Te aproximas a la cueva...\n",
      "Es oscura y espeluznante...\n",
      "¡Un gran dragon aparece súbitamente frente a tí! Abre sus fauces y...\n",
      "\n",
      "¡Te regala su tesoro!\n",
      "¿Quieres jugar de nuevo? (sí o no)\n",
      "Estás en una tierra llena de dragones. Frente a tí\n",
      "hay dos cuevas. En una de ellas, el dragón es generoso y\n",
      "amigable y compartirá su tesoro contigo. El otro dragón\n",
      "es codicioso y está hambriento, y te devorará inmediatamente.\n",
      "\n",
      "¿A qué cueva quieres entrar? (1 ó 2)\n",
      "Te aproximas a la cueva...\n",
      "Es oscura y espeluznante...\n",
      "¡Un gran dragon aparece súbitamente frente a tí! Abre sus fauces y...\n",
      "\n",
      "¡Te regala su tesoro!\n",
      "¿Quieres jugar de nuevo? (sí o no)\n"
     ]
    }
   ],
   "source": [
    "import random\n",
    "import time\n",
    "\n",
    "def mostrarIntroducción():\t\t\n",
    "    print('Estás en una tierra llena de dragones. Frente a tí')\t\t\n",
    "    print('hay dos cuevas. En una de ellas, el dragón es generoso y')\t\t\n",
    "    print('amigable y compartirá su tesoro contigo. El otro dragón')\t\t\n",
    "    print('es codicioso y está hambriento, y te devorará inmediatamente.')\t\t\n",
    "    print()\t\t\n",
    "\t\t\t\n",
    "def elegirCueva():\t\t\n",
    "    cueva = ''\t\t\n",
    "    while cueva != '1' and cueva != '2':\t\t\n",
    "        print('¿A qué cueva quieres entrar? (1 ó 2)')\t\t\n",
    "        cueva = input()\t\t\n",
    "    return cueva\n",
    "\t\t\t\n",
    "def explorarCueva(cuevaElegida):\t\t\n",
    "    print('Te aproximas a la cueva...')\t\t\n",
    "    time.sleep(2)\t\t\n",
    "    print('Es oscura y espeluznante...')\t\t\n",
    "    time.sleep(2)\t\t\n",
    "    print('¡Un gran dragon aparece súbitamente frente a tí! Abre sus fauces y...')\t\t\n",
    "    print()\t\t\n",
    "    time.sleep(2)\t\t\n",
    "        \n",
    "    cuevaAmigable = random.randint(1, 2)\t\t\n",
    "        \n",
    "    if cuevaElegida == str(cuevaAmigable):\t\t\n",
    "            print('¡Te regala su tesoro!')\t\t\n",
    "    else:\t\t\n",
    "            print('¡Te engulle de un bocado!')\t\t\n",
    "        \n",
    "jugarDeNuevo = 'sí'\t\t\n",
    "while jugarDeNuevo == 'sí' or jugarDeNuevo == 's':\t\t\n",
    "        \n",
    "    mostrarIntroducción()\t\t\n",
    "        \n",
    "    númeroDeCueva = elegirCueva()\t\t\n",
    "        \n",
    "    explorarCueva(númeroDeCueva)\t\t\n",
    "        \n",
    "    print('¿Quieres jugar de nuevo? (sí o no)')\t\t\n",
    "    jugarDeNuevo = input()"
   ]
  },
  {
   "cell_type": "code",
   "execution_count": 3,
   "metadata": {},
   "outputs": [],
   "source": [
    "def posicion_fruta(fruta1, lista_de_frutas1):\n",
    "    for pos,valor in enumerate(lista_de_frutas1):\n",
    "        if fruta1 == valor:\n",
    "            return pos"
   ]
  },
  {
   "cell_type": "code",
   "execution_count": 24,
   "metadata": {},
   "outputs": [],
   "source": [
    "def esta_fruta(fruta2, lista_de_frutas2):\n",
    "    for i in lista_de_frutas2:\n",
    "        if i == fruta2:\n",
    "            posicion = posicion_fruta(fruta1=fruta2, lista_de_frutas1=lista_de_frutas2)\n",
    "            return ('La fruta ' + fruta2 + ' se encuentra en la posición ' + str(posicion + 1) + ' de la lista.')    #Puse el +1 para ver                                                                                                                       la posición REAL en                                                                                                                        la lista, y no la                                                                                                                         de Python.\n",
    "    return (fruta2 + ' no está en la lista.')\n",
    "\n"
   ]
  },
  {
   "cell_type": "code",
   "execution_count": 25,
   "metadata": {},
   "outputs": [
    {
     "output_type": "execute_result",
     "data": {
      "text/plain": [
       "'La fruta anana se encuentra en la posición 5 de la lista.'"
      ]
     },
     "metadata": {},
     "execution_count": 25
    }
   ],
   "source": [
    "mis_frutas = ['banana', 'mandarina', 'sandia', 'melon', 'anana']\n",
    "fruta_buscada = input('Ingrese una fruta para ver si está en la lista')\n",
    "\n",
    "esta_fruta(fruta2=fruta_buscada, lista_de_frutas2=mis_frutas)"
   ]
  },
  {
   "cell_type": "code",
   "execution_count": null,
   "metadata": {},
   "outputs": [],
   "source": []
  }
 ]
}