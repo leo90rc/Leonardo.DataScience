{
  "nbformat": 4,
  "nbformat_minor": 0,
  "metadata": {
    "language_info": {
      "name": "python",
      "codemirror_mode": {
        "name": "ipython",
        "version": 3
      }
    },
    "orig_nbformat": 2,
    "file_extension": ".py",
    "mimetype": "text/x-python",
    "name": "python",
    "npconvert_exporter": "python",
    "pygments_lexer": "ipython3",
    "version": 3,
    "colab": {
      "name": "eda_library.ipynb",
      "provenance": []
    }
  },
  "cells": [
    {
      "cell_type": "markdown",
      "metadata": {
        "id": "HgoURn2nEcjy"
      },
      "source": [
        "# Delivery"
      ]
    },
    {
      "cell_type": "markdown",
      "metadata": {
        "id": "MgJUWG3OEcj0"
      },
      "source": [
        "### Create your own EDA library: \n",
        "\n",
        "In this delivery the student will need to create its won library (module). The library must include the EDA/useful functions that we are seeing in class, you find or create. \n",
        "\n",
        "A python library is a \".py\" file that contains python code.\n",
        "\n",
        "There are some requirements: \n",
        "\n",
        "- Each functionality must be done in functions.\n",
        "- Each function must be general. It must be useful for the most of cases.\n",
        "- Functions must not have repeated code. Each function must do something specific and different from the other functions.\n",
        "- The library should import others libraries as numpy, pandas, ...\n",
        "- Try to create a module \".py\" for each type of functionalty. If you are creating visualizing funcions, then the functions will be in a \"my_visualizing_functions_module.py\", for example. If you are creating analysis functions, then they will be in a \"my_analysis_functions_module.py\", for example. \n",
        "- Each function must be well documented. It must explain the functionality and each function param. \n",
        "- The code must be done in a \".py\" file. \n",
        "\n",
        "First Delivery:\n",
        "\n",
        "- End date: 09/12/2020 23:59 \n",
        "\n",
        "Next ones: \n",
        "\n",
        "- Every Sunday at 23:59\n"
      ]
    },
    {
      "cell_type": "code",
      "metadata": {
        "id": "vDbfC1GDEcj1"
      },
      "source": [
        ""
      ],
      "execution_count": null,
      "outputs": []
    }
  ]
}