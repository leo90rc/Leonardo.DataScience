{
  "nbformat": 4,
  "nbformat_minor": 0,
  "metadata": {
    "kernelspec": {
      "name": "python374jvsc74a57bd0a0947237fadc8b5561fed326db280cc5ec46a670c87cfb3a0489cf95ff262303",
      "display_name": "Python 3.7.4 64-bit"
    },
    "language_info": {
      "codemirror_mode": {
        "name": "ipython",
        "version": 3
      },
      "file_extension": ".py",
      "mimetype": "text/x-python",
      "name": "python",
      "nbconvert_exporter": "python",
      "pygments_lexer": "ipython3",
      "version": "3.7.4"
    },
    "colab": {
      "name": "Practice_5_functions.ipynb",
      "provenance": []
    },
    "metadata": {
      "interpreter": {
        "hash": "a0947237fadc8b5561fed326db280cc5ec46a670c87cfb3a0489cf95ff262303"
      }
    }
  },
  "cells": [
    {
      "cell_type": "markdown",
      "metadata": {
        "id": "VYO0PNP60Ylq"
      },
      "source": [
        "# Python | day 5 | functions"
      ]
    },
    {
      "cell_type": "markdown",
      "metadata": {
        "id": "Zgb4-4Hw0Ylw"
      },
      "source": [
        "In Python, a function is a group of related statements that performs a specific task."
      ]
    },
    {
      "cell_type": "markdown",
      "metadata": {
        "id": "bQ3sxdW80Ylx"
      },
      "source": [
        "https://www.programiz.com/python-programming/function"
      ]
    },
    {
      "cell_type": "markdown",
      "metadata": {
        "id": "oCW8Wwab0Ylx"
      },
      "source": [
        "#### Difference between `return` and `print`.\n",
        "\n",
        "Take some minutes to understand the difference between `return` and `print`, it seems to be the same, but they are not and it's important you understand the difference. "
      ]
    },
    {
      "cell_type": "code",
      "metadata": {
        "id": "JaTB2oVw0Yly"
      },
      "source": [
        "def suma(a,b):\n",
        "    print(a)\n",
        "    return a+b\n",
        "\n",
        "print(suma(suma(2,2),4))"
      ],
      "execution_count": 93,
      "outputs": [
        {
          "output_type": "stream",
          "name": "stdout",
          "text": [
            "2\n4\n8\n"
          ]
        }
      ]
    },
    {
      "cell_type": "markdown",
      "metadata": {
        "id": "A_vU8jE90Yly"
      },
      "source": [
        "#### Comments in a function."
      ]
    },
    {
      "cell_type": "code",
      "metadata": {
        "id": "JLYNhuCt0Ylz"
      },
      "source": [
        "def say_hello(name):\n",
        "    \"\"\"\n",
        "    Given a name as an argument, \n",
        "    the function return a string greeting\n",
        "    the name given. \n",
        "    \"\"\"\n",
        "    return f\"hello {name}\""
      ],
      "execution_count": 94,
      "outputs": []
    },
    {
      "cell_type": "code",
      "metadata": {
        "id": "-L17UkAV0Ylz"
      },
      "source": [
        "print(say_hello(\"Clara\"))"
      ],
      "execution_count": 95,
      "outputs": [
        {
          "output_type": "stream",
          "name": "stdout",
          "text": [
            "hello Clara\n"
          ]
        }
      ]
    },
    {
      "cell_type": "code",
      "metadata": {
        "id": "OJPSyY840Ylz"
      },
      "source": [
        "help(say_hello)"
      ],
      "execution_count": 96,
      "outputs": [
        {
          "output_type": "stream",
          "name": "stdout",
          "text": [
            "Help on function say_hello in module __main__:\n\nsay_hello(name)\n    Given a name as an argument, \n    the function return a string greeting\n    the name given.\n\n"
          ]
        }
      ]
    },
    {
      "cell_type": "markdown",
      "metadata": {
        "id": "e9tHfBwO0Yl0"
      },
      "source": [
        "### Exercise 1. "
      ]
    },
    {
      "cell_type": "markdown",
      "metadata": {
        "id": "8Ef5HPNw0Yl0"
      },
      "source": [
        "To solve the following exercises it will be necessary to define a function for each section. You choose the name of those functions unless specified, but make sure you define a single parameter `whichever_list`, when calling the function it will correspond to the variable `info_list`.\n",
        "```python\n",
        "def funtion_bla(whichever_list):\n",
        "    return whichever_list\n",
        "\n",
        "function_bla(info_list)\n",
        "```\n",
        "\n",
        "**In the case of not being able to solve a question containing the code in a function, try to do it without defining one.**"
      ]
    },
    {
      "cell_type": "code",
      "metadata": {
        "id": "ofEdKs1v0Yl0"
      },
      "source": [
        "# you can use this list or take yours from Practice 3\n",
        "info_list = [15, 'Recoletos', True, ['Recoletos', 15],  None, '8'] "
      ],
      "execution_count": 97,
      "outputs": []
    },
    {
      "cell_type": "markdown",
      "metadata": {
        "id": "B1z5cm3Y0Yl1"
      },
      "source": [
        "1. Display on the screen `\"I like the tranquility\"` if you like the mountains more and `\"I'd love to live in Malaga\"` if you like the beach more.\n",
        "\n"
      ]
    },
    {
      "cell_type": "code",
      "metadata": {
        "id": "iyrKMfsM0Yl1"
      },
      "source": [
        "#define a function which takes a single parameter `whichever_list`\n",
        "def montanias_playa (whichever_list):\n",
        "    if whichever_list[2] == True:\n",
        "        print('I like the tranquilidad')\n",
        "    else:\n",
        "        print(\"I'd love to live in Malaga\")"
      ],
      "execution_count": 98,
      "outputs": []
    },
    {
      "cell_type": "code",
      "metadata": {
        "id": "p6VrFlMk0Yl1"
      },
      "source": [
        "#call the function with the variable `info_list`\n",
        "montanias_playa(whichever_list = info_list)"
      ],
      "execution_count": 99,
      "outputs": [
        {
          "output_type": "stream",
          "name": "stdout",
          "text": [
            "I like the tranquilidad\n"
          ]
        }
      ]
    },
    {
      "cell_type": "markdown",
      "metadata": {
        "id": "iU7kBqK90Yl1"
      },
      "source": [
        "2. Print `\"Today I am tired\"` if you have slept less than 7 hours or `\"Today I conquer the world\"` if you have slept more than 7 hours."
      ]
    },
    {
      "cell_type": "code",
      "metadata": {
        "id": "_GN-1ZkR0Yl2"
      },
      "source": [
        "#define a function which takes a single parameter `whichever_list`\n",
        "def horas_dormidas(whichever_list):\n",
        "    if int(whichever_list[-1]) <= 7:\n",
        "        print('Today I am tired')\n",
        "    else:\n",
        "        print('Today I conquer the world')"
      ],
      "execution_count": 100,
      "outputs": []
    },
    {
      "cell_type": "code",
      "metadata": {
        "id": "PvaqQGzo0Yl2"
      },
      "source": [
        "#call the function with the variable `info_list`\n",
        "horas_dormidas(whichever_list = info_list)"
      ],
      "execution_count": 101,
      "outputs": [
        {
          "output_type": "stream",
          "name": "stdout",
          "text": [
            "Today I conquer the world\n"
          ]
        }
      ]
    },
    {
      "cell_type": "markdown",
      "metadata": {
        "id": "MyLmbPtq0Yl2"
      },
      "source": [
        "3. Loop through `whichever_list` to print all the elements it contains. This function should return the list turned into a tuple. "
      ]
    },
    {
      "cell_type": "code",
      "execution_count": 102,
      "metadata": {},
      "outputs": [],
      "source": [
        "info_list = [15, 'Recoletos', True, ['Recoletos', 15],  None, '8'] "
      ]
    },
    {
      "cell_type": "code",
      "metadata": {
        "id": "9TFxjExw0Yl2"
      },
      "source": [
        "#define a function which takes a single parameter `whichever_list`\n",
        "def imprimir_elementos(whichever_list):\n",
        "    for i in whichever_list:\n",
        "        print(i)\n",
        "    return tuple(whichever_list)"
      ],
      "execution_count": 103,
      "outputs": []
    },
    {
      "cell_type": "code",
      "metadata": {
        "id": "BLF0tQw_0Yl2"
      },
      "source": [
        "#call the function with the variable `info_list`\n",
        "imprimir_elementos(whichever_list = info_list)\n"
      ],
      "execution_count": 104,
      "outputs": [
        {
          "output_type": "stream",
          "name": "stdout",
          "text": [
            "15\nRecoletos\nTrue\n['Recoletos', 15]\nNone\n8\n"
          ]
        },
        {
          "output_type": "execute_result",
          "data": {
            "text/plain": [
              "(15, 'Recoletos', True, ['Recoletos', 15], None, '8')"
            ]
          },
          "metadata": {},
          "execution_count": 104
        }
      ]
    },
    {
      "cell_type": "markdown",
      "metadata": {
        "id": "OMvyXnA70Yl3"
      },
      "source": [
        "4. Loop through `whichever_list` to print all the elements it contains concatenated with the string` \"--> OK\" `. This function should return a message saying, `\"everything will be ok\"`. \n"
      ]
    },
    {
      "cell_type": "code",
      "metadata": {
        "id": "KByTbpT50Yl3"
      },
      "source": [
        "#define a function which takes a single parameter `whichever_list`\n",
        "def ok(whichever_list):\n",
        "    for i in whichever_list:\n",
        "        print(str(i) + '--> OK')\n",
        "    return 'everything will be ok'"
      ],
      "execution_count": 105,
      "outputs": []
    },
    {
      "cell_type": "code",
      "metadata": {
        "id": "k9NaUAej0Yl3"
      },
      "source": [
        "#call the function with the variable `info_list`\n",
        "ok(whichever_list = info_list)"
      ],
      "execution_count": 106,
      "outputs": [
        {
          "output_type": "stream",
          "name": "stdout",
          "text": [
            "15--> OK\nRecoletos--> OK\nTrue--> OK\n['Recoletos', 15]--> OK\nNone--> OK\n8--> OK\n"
          ]
        },
        {
          "output_type": "execute_result",
          "data": {
            "text/plain": [
              "'everything will be ok'"
            ]
          },
          "metadata": {},
          "execution_count": 106
        }
      ]
    },
    {
      "cell_type": "markdown",
      "metadata": {
        "id": "sRKU82xK0Yl3"
      },
      "source": [
        "5. Loop through `whichever_list` to display all items it contains except the first one. This function should return the first element of the list. "
      ]
    },
    {
      "cell_type": "code",
      "execution_count": 107,
      "metadata": {},
      "outputs": [],
      "source": [
        "info_list = [15, 'Recoletos', True, ['Recoletos', 15],  None, '8'] "
      ]
    },
    {
      "cell_type": "code",
      "metadata": {
        "id": "d2jwh-YT0Yl4"
      },
      "source": [
        "#define a function which takes a single parameter `whichever_list`\n",
        "def no_first(whichever_list):\n",
        "    for i in range(len(whichever_list)):\n",
        "        if i > 0:\n",
        "            print(whichever_list[i])\n",
        "    return (whichever_list[0])"
      ],
      "execution_count": 108,
      "outputs": []
    },
    {
      "cell_type": "code",
      "metadata": {
        "id": "GW_bhafI0Yl4"
      },
      "source": [
        "#call the function with the variable `info_list`\n",
        "no_first(whichever_list = info_list)"
      ],
      "execution_count": 109,
      "outputs": [
        {
          "output_type": "stream",
          "name": "stdout",
          "text": [
            "Recoletos\nTrue\n['Recoletos', 15]\nNone\n8\n"
          ]
        },
        {
          "output_type": "execute_result",
          "data": {
            "text/plain": [
              "15"
            ]
          },
          "metadata": {},
          "execution_count": 109
        }
      ]
    },
    {
      "cell_type": "markdown",
      "metadata": {
        "id": "LcCc561i0Yl4"
      },
      "source": [
        "6. Loop through `whichever_list` to display all the items it contains except the last one. This function should return the last element of the list. "
      ]
    },
    {
      "cell_type": "code",
      "execution_count": 110,
      "metadata": {},
      "outputs": [],
      "source": [
        "info_list = [15, 'Recoletos', True, ['Recoletos', 15],  None, '8'] "
      ]
    },
    {
      "cell_type": "code",
      "metadata": {
        "id": "ohreSNZ_0Yl4"
      },
      "source": [
        "#define a function which takes a single parameter `whichever_list`\n",
        "def no_last(whichever_list):\n",
        "    for i in range(len(whichever_list)):\n",
        "        if i < (len(whichever_list)-1):\n",
        "            print(whichever_list[i])\n",
        "    return whichever_list[len(whichever_list) - 1]         # TAMBIEN PODRIA SER: whichever_list[-1] --> Retorna el último elemento de la                                                                                   lista."
      ],
      "execution_count": 111,
      "outputs": []
    },
    {
      "cell_type": "code",
      "metadata": {
        "id": "aHPuEx1t0Yl4"
      },
      "source": [
        "#call the function with the variable `info_list`\n",
        "no_last(whichever_list = info_list)"
      ],
      "execution_count": 112,
      "outputs": [
        {
          "output_type": "stream",
          "name": "stdout",
          "text": [
            "15\nRecoletos\nTrue\n['Recoletos', 15]\nNone\n"
          ]
        },
        {
          "output_type": "execute_result",
          "data": {
            "text/plain": [
              "'8'"
            ]
          },
          "metadata": {},
          "execution_count": 112
        }
      ]
    },
    {
      "cell_type": "code",
      "execution_count": 113,
      "metadata": {},
      "outputs": [
        {
          "output_type": "stream",
          "name": "stdout",
          "text": [
            "range(0, 6)\n6\n"
          ]
        }
      ],
      "source": [
        "print(range(len(info_list)))  # ESTO LO UTILICÉ PARA AYUDARME A VISUALIZAR\n",
        "print(len(info_list))"
      ]
    },
    {
      "cell_type": "markdown",
      "metadata": {
        "id": "TTwI6dcr0Yl5"
      },
      "source": [
        "7. Loop through `whichever_list` to show all the elements it contains except the street number and the hours you've slept."
      ]
    },
    {
      "cell_type": "code",
      "metadata": {
        "id": "vCqaoJHE0Yl5"
      },
      "source": [
        "#define a function which takes a single parameter `whichever_list`\n",
        "def sin_streetnumber_ni_slept(whichever_list):\n",
        "    for i in range(len(whichever_list)):\n",
        "        if i > 0 and i < len(whichever_list) - 1:\n",
        "            print(whichever_list[i])\n",
        "    "
      ],
      "execution_count": 114,
      "outputs": []
    },
    {
      "cell_type": "code",
      "metadata": {
        "id": "q38RXErA0Yl5"
      },
      "source": [
        "#call the function with the variable `info_list`\n",
        "sin_streetnumber_ni_slept(whichever_list = info_list)"
      ],
      "execution_count": 115,
      "outputs": [
        {
          "output_type": "stream",
          "name": "stdout",
          "text": [
            "Recoletos\nTrue\n['Recoletos', 15]\nNone\n"
          ]
        }
      ]
    },
    {
      "cell_type": "markdown",
      "metadata": {
        "id": "-ZTPfr-y0Yl5"
      },
      "source": [
        "8. Loop through `whichever_list` to print all the elements it contains except the first element of the list which is in fourth position (`'Recoletos'`). This function should return the lenght of that element. "
      ]
    },
    {
      "cell_type": "code",
      "execution_count": 116,
      "metadata": {},
      "outputs": [],
      "source": [
        "info_list = [15, 'Recoletos', True, ['Recoletos', 15],  None, '8'] "
      ]
    },
    {
      "cell_type": "code",
      "metadata": {
        "id": "bZR2s7Av0Yl5"
      },
      "source": [
        "#define a function which takes a single parameter `whichever_list`\n",
        "def sin_recoletos_en_cuarta_posicion(whichever_list):\n",
        "    for i in whichever_list:\n",
        "        if isinstance(i, list):\n",
        "            print(i[1])\n",
        "        else:\n",
        "            print (i)\n",
        "    return len(whichever_list[3][0])"
      ],
      "execution_count": 117,
      "outputs": []
    },
    {
      "cell_type": "code",
      "metadata": {
        "id": "KRu6F0Sm0Yl6"
      },
      "source": [
        "#call the function with the variable `info_list`\n",
        "sin_recoletos_en_cuarta_posicion(whichever_list = info_list)"
      ],
      "execution_count": 118,
      "outputs": [
        {
          "output_type": "stream",
          "name": "stdout",
          "text": [
            "15\nRecoletos\nTrue\n15\nNone\n8\n"
          ]
        },
        {
          "output_type": "execute_result",
          "data": {
            "text/plain": [
              "9"
            ]
          },
          "metadata": {},
          "execution_count": 118
        }
      ]
    },
    {
      "cell_type": "markdown",
      "metadata": {
        "id": "OpFLTm-80Yl6"
      },
      "source": [
        "9. Loop through `whichever_list` to show all the elements it contains except the one that contains the information about whether you like the mountains or the beach. The function should return a message saying `\"I love the beach\"` if you prefer the beach and a message saying `\"I love the mountain\"` otherwise. "
      ]
    },
    {
      "cell_type": "code",
      "metadata": {
        "id": "RHYcrSfI0Yl6"
      },
      "source": [
        "#define a function which takes a single parameter `whichever_list`\n",
        "def que_prefieres(whichever_list):\n",
        "    for i in whichever_list:\n",
        "        if i == bool:\n",
        "            continue\n",
        "        else:\n",
        "            print(i)\n",
        "    if whichever_list[2] == True:\n",
        "        return \"I love the mountain\"\n",
        "    else:\n",
        "        return \"I love the beach\""
      ],
      "execution_count": 119,
      "outputs": []
    },
    {
      "cell_type": "code",
      "metadata": {
        "id": "l_aeWKIC0Yl6"
      },
      "source": [
        "#call the function with the variable `info_list`\n",
        "que_prefieres(whichever_list = info_list)"
      ],
      "execution_count": 120,
      "outputs": [
        {
          "output_type": "stream",
          "name": "stdout",
          "text": [
            "15\nRecoletos\nTrue\n['Recoletos', 15]\nNone\n8\n"
          ]
        },
        {
          "output_type": "execute_result",
          "data": {
            "text/plain": [
              "'I love the mountain'"
            ]
          },
          "metadata": {},
          "execution_count": 120
        }
      ]
    },
    {
      "cell_type": "markdown",
      "metadata": {
        "id": "H2Ji5kKF0Yl6"
      },
      "source": [
        "### Bonus Track\n",
        "\n",
        "In the case of not being able to solve a question containing the code in a function, try to do it without defining one. "
      ]
    },
    {
      "cell_type": "markdown",
      "metadata": {
        "id": "q21E3qM10Yl7"
      },
      "source": [
        "1. Create a variable called `zone` and give it the value of **None**. Loop through `whichever_list` and update `zone` to **True** if and only if, you have slept more than 7 hours, you like the beach and the sum of the hours you have slept plus the number of The Bridge is less than 24. In any other case, `zone` will be **False**. This function should return the value of `zone` and will be called `zone_function`.\n"
      ]
    },
    {
      "cell_type": "code",
      "execution_count": 158,
      "metadata": {},
      "outputs": [],
      "source": [
        "info_list = [15, 'Recoletos', True, ['Recoletos', 15],  None, '8'] "
      ]
    },
    {
      "cell_type": "code",
      "metadata": {
        "id": "P2azzhqo0Yl7"
      },
      "source": [
        "zone = None\n",
        "\n",
        "def zone_function(whichever_list):\n",
        "    if int(whichever_list[5]) > 7 and whichever_list[2] == False and (whichever_list[0] + int(whichever_list [5])) < 24:\n",
        "        zone = True\n",
        "    else:\n",
        "        zone = False\n",
        "    return zone"
      ],
      "execution_count": 192,
      "outputs": []
    },
    {
      "cell_type": "code",
      "execution_count": 193,
      "metadata": {},
      "outputs": [
        {
          "output_type": "stream",
          "name": "stdout",
          "text": [
            "False\n"
          ]
        }
      ],
      "source": [
        "devolucion_zone_function = zone_function(whichever_list = info_list)\n",
        "print (devolucion_zone_function)"
      ]
    },
    {
      "cell_type": "markdown",
      "metadata": {
        "id": "8Xhv3xkh0Yl7"
      },
      "source": [
        "2. Define a function called `test_function` that receives only one parameter called `zone_value` and that returns the value of `zone_value` if it is **True**. Once you've defined `test_function` you should call it with the value returned by the `zone_function` as an argument."
      ]
    },
    {
      "cell_type": "code",
      "metadata": {
        "id": "TywqFapk0Yl8"
      },
      "source": [
        "def test_function(zone_value):\n",
        "    if zone_value == True:\n",
        "        return zone_value\n",
        "\n",
        "test_function(zone_value = devolucion_zone_function)\n",
        "print(test_function(zone_value = devolucion_zone_function))    # Como prefiero las montañas, el valor retornado es None."
      ],
      "execution_count": 198,
      "outputs": [
        {
          "output_type": "stream",
          "name": "stdout",
          "text": [
            "None\n"
          ]
        }
      ]
    },
    {
      "cell_type": "markdown",
      "metadata": {
        "id": "-5yDyZaX0Yl8"
      },
      "source": [
        "3. Define a function that asks the user if they like the mountain and, if not, call the `zone_function` function."
      ]
    },
    {
      "cell_type": "code",
      "metadata": {
        "id": "jYYrwUed0Yl8"
      },
      "source": [
        "def ask_mountain(respuesta):\n",
        "    if respuesta == 'Y':\n",
        "        print('You like mountains!')\n",
        "    if respuesta == 'N':\n",
        "        zone_function(whichever_list = info_list)    # No entiendo qué quiere exactamente que devuelva aquí... por lo pronto,                                                               coloqué el parámetro de info_list.\n",
        "\n",
        "a = input('Do you like mountains? Y/N')\n",
        "ask_mountain(respuesta = a)"
      ],
      "execution_count": 202,
      "outputs": []
    },
    {
      "cell_type": "markdown",
      "metadata": {
        "id": "PPGFHmXe0Yl8"
      },
      "source": [
        "### Bonus Track of the Bonus Track.\n",
        "\n",
        "**This Bonus Track could take you some days, it is very ok, sometimes coding is all about time.**\n",
        "\n",
        "Sooner than later, you'll also learn about `.py` files and you will be able to implement this program into that kind of file. Not yet, tho. "
      ]
    },
    {
      "cell_type": "markdown",
      "metadata": {
        "id": "BzYqZT9V0Yl8"
      },
      "source": [
        "1. Program **a calculator** that asks for two numbers and two operators on the screen. One operation must be performed first and then another. Try to define as many functions as possible."
      ]
    },
    {
      "cell_type": "code",
      "metadata": {
        "id": "bCfNKZyI0Yl9"
      },
      "source": [],
      "execution_count": null,
      "outputs": []
    },
    {
      "cell_type": "markdown",
      "metadata": {
        "id": "CnFEuIHx0Yl9"
      },
      "source": [
        "!['ha'](https://i.pinimg.com/originals/c6/4e/fc/c64efc9adaedbf446f328698e8b67388.jpg)"
      ]
    },
    {
      "cell_type": "code",
      "metadata": {
        "id": "t2X3nbqg0Yl9"
      },
      "source": [],
      "execution_count": null,
      "outputs": []
    }
  ]
}