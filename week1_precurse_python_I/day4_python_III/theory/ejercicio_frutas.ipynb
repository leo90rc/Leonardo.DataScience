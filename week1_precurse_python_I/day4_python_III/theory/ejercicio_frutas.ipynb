{
 "metadata": {
  "language_info": {
   "codemirror_mode": {
    "name": "ipython",
    "version": 3
   },
   "file_extension": ".py",
   "mimetype": "text/x-python",
   "name": "python",
   "nbconvert_exporter": "python",
   "pygments_lexer": "ipython3",
   "version": "3.6.4-final"
  },
  "orig_nbformat": 2,
  "kernelspec": {
   "name": "python36464bitc2077ed07ea84d23aa5b518d224882ab",
   "display_name": "Python 3.6.4 64-bit"
  },
  "metadata": {
   "interpreter": {
    "hash": "5c4d2f1fdcd3716c7a5eea90ad07be30193490dd4e63617705244f5fd89ea793"
   }
  }
 },
 "nbformat": 4,
 "nbformat_minor": 2,
 "cells": [
  {
   "cell_type": "code",
   "execution_count": 1,
   "metadata": {},
   "outputs": [
    {
     "output_type": "stream",
     "name": "stdout",
     "text": [
      "True\n"
     ]
    }
   ],
   "source": [
    "l = [\"pera\", \"manzana\", \"naranja\", \"melón\", \"sandía\"]\n",
    "\n",
    "print(\"pera\" in l)"
   ]
  },
  {
   "cell_type": "code",
   "execution_count": 4,
   "metadata": {},
   "outputs": [
    {
     "output_type": "execute_result",
     "data": {
      "text/plain": [
       "['pera', 'manzana', 'naranja', 'melón', 'sandía', 'plátano']"
      ]
     },
     "metadata": {},
     "execution_count": 4
    }
   ],
   "source": [
    "# Ejercicio 5 \n",
    "\n",
    "lista_frutas = [\"pera\", \"manzana\", \"naranja\", \"melón\", \"sandía\"]\n",
    "\n",
    "nueva_fruta = input(\"Escribe una fruta:\")\n",
    "\n",
    "# si esa fruta está en la 'lista_frutas' -> mostrar que está\n",
    "# si no está -> añadirla a la lista\n",
    "\n",
    "if (nueva_fruta in lista_frutas):\n",
    "    print(\"Esta fruta ya está\")\n",
    "else:\n",
    "    lista_frutas.append(nueva_fruta)\n",
    "\n",
    "lista_frutas"
   ]
  },
  {
   "cell_type": "code",
   "execution_count": 11,
   "metadata": {},
   "outputs": [
    {
     "output_type": "execute_result",
     "data": {
      "text/plain": [
       "True"
      ]
     },
     "metadata": {},
     "execution_count": 11
    }
   ],
   "source": [
    "l = [2, 3, 6]\n",
    "2 == len(l) - 1 "
   ]
  },
  {
   "cell_type": "code",
   "execution_count": 17,
   "metadata": {},
   "outputs": [
    {
     "output_type": "stream",
     "name": "stdout",
     "text": [
      "[0, 1, 2]\nlen(l) - 1:  2\nla_posicion_del_medio:  1\n"
     ]
    }
   ],
   "source": [
    "print(list(range(len(l))))\n",
    "print(\"len(l) - 1: \", len(l) -1)\n",
    "ultima_posicion = len(l) - 1\n",
    "la_posicion_del_medio = len(l) // 2\n",
    "print(\"la_posicion_del_medio: \", la_posicion_del_medio)"
   ]
  },
  {
   "cell_type": "code",
   "execution_count": 19,
   "metadata": {},
   "outputs": [
    {
     "output_type": "execute_result",
     "data": {
      "text/plain": [
       "['pera', 'manzana', 'naranja']"
      ]
     },
     "metadata": {},
     "execution_count": 19
    }
   ],
   "source": [
    "l = ['pera', 'manzana', 'naranja', 'melón', 'sandía', 'plátano']\n",
    "l[:(len(l)) // 2]"
   ]
  },
  {
   "source": [
    "len(l) - 1  --> representa la última posición"
   ],
   "cell_type": "markdown",
   "metadata": {}
  },
  {
   "cell_type": "code",
   "execution_count": 10,
   "metadata": {},
   "outputs": [
    {
     "output_type": "stream",
     "name": "stdout",
     "text": [
      "naranja Esta fruta ya está\n"
     ]
    },
    {
     "output_type": "execute_result",
     "data": {
      "text/plain": [
       "['pera', 'manzana', 'naranja', 'melón', 'sandía', 'naranja']"
      ]
     },
     "metadata": {},
     "execution_count": 10
    }
   ],
   "source": [
    "# Ejercicio 5: con for\n",
    "\n",
    "lista_frutas = [\"pera\", \"manzana\", \"naranja\", \"melón\", \"sandía\"]\n",
    "\n",
    "nueva_fruta = input(\"Escribe una fruta:\")\n",
    "\n",
    "# si esa fruta está en la 'lista_frutas' -> mostrar que está\n",
    "# si no está -> añadirla a la lista\n",
    "\n",
    "se_ha_insertado_ya = False  # variable de control\n",
    "for fruta in lista_frutas:\n",
    "    if fruta == nueva_fruta:\n",
    "        print(nueva_fruta, \"Esta fruta ya está\")\n",
    "        break\n",
    "    elif se_ha_insertado_ya == False and (lista_frutas[-1] == fruta):\n",
    "        lista_frutas.append(nueva_fruta)\n",
    "        se_ha_insertado_ya = True\n",
    "\n",
    "lista_frutas"
   ]
  },
  {
   "cell_type": "code",
   "execution_count": 9,
   "metadata": {},
   "outputs": [
    {
     "output_type": "execute_result",
     "data": {
      "text/plain": [
       "['pera', 'manzana', 'naranja', 'melón', 'sandía', 'melón']"
      ]
     },
     "metadata": {},
     "execution_count": 9
    }
   ],
   "source": [
    "# Ejercicio 5: con for\n",
    "\n",
    "lista_frutas = [\"pera\", \"manzana\", \"naranja\", \"melón\", \"sandía\"]\n",
    "\n",
    "nueva_fruta = input(\"Escribe una fruta:\")\n",
    "\n",
    "# si esa fruta está en la 'lista_frutas' -> mostrar que está\n",
    "# si no está -> añadirla a la lista\n",
    "\n",
    "for fruta in lista_frutas:\n",
    "    if fruta == nueva_fruta:\n",
    "        print(\"Esta fruta ya está\")\n",
    "        break\n",
    "    else:\n",
    "        lista_frutas.append(nueva_fruta)\n",
    "lista_frutas"
   ]
  },
  {
   "cell_type": "code",
   "execution_count": null,
   "metadata": {},
   "outputs": [],
   "source": []
  }
 ]
}