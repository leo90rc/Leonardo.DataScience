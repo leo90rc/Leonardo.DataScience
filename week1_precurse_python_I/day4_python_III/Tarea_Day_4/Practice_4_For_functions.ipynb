{
 "cells": [
  {
   "cell_type": "markdown",
   "metadata": {},
   "source": [
    "# Python | day 4 | for loop, functions (feat. basics & if/else) "
   ]
  },
  {
   "cell_type": "markdown",
   "metadata": {},
   "source": [
    "### Exercise 0.1 - Python Basics\n",
    "\n",
    "1. What do we use to make a line break in a print? And for a tab stop?\n",
    "\n",
    "have a look ---> http://elclubdelautodidacta.es/wp/2012/04/python-capitulo-31-exprimiendo-la-funcion-print/"
   ]
  },
  {
   "source": [
    "Para hacer un salto de línea usamos \\n (es el predeterminado en el \"end\" de un print).\n",
    "Para hacer una tabulación usamos  \\t."
   ],
   "cell_type": "markdown",
   "metadata": {}
  },
  {
   "cell_type": "markdown",
   "metadata": {},
   "source": [
    "2. Make a converter from dollars to euros. You'll have to use input."
   ]
  },
  {
   "cell_type": "code",
   "execution_count": 14,
   "metadata": {},
   "outputs": [
    {
     "output_type": "stream",
     "name": "stdout",
     "text": [
      "5.3 dolares equivalen a 4.452 euros\n"
     ]
    }
   ],
   "source": [
    "def usd_eu(parametro):\n",
    "    conversion = float(parametro) * 0.84\n",
    "    print(x, 'dolares equivalen a', conversion, 'euros')\n",
    "\n",
    "x = input('Ingrese un valor en dólares')\n",
    "usd_eu(parametro = x)\n"
   ]
  },
  {
   "cell_type": "markdown",
   "metadata": {},
   "source": [
    "3. Declare two strings, one will be your first name and the other your last name. Declare your age in another variable. Print a sentence which include those variables, using ```f{}```. Wtf is that? check this out **-->** https://realpython.com/python-string-formatting/"
   ]
  },
  {
   "cell_type": "code",
   "execution_count": 62,
   "metadata": {},
   "outputs": [
    {
     "output_type": "stream",
     "name": "stdout",
     "text": [
      "Hola, mi nombre es Leonardo, me apellido Frazzetto y tengo 31 años.\nMe llamo Leonardo Frazzetto, tengo 31 años.\n"
     ]
    }
   ],
   "source": [
    "first_name = 'Leonardo'\n",
    "last_name = 'Frazzetto'\n",
    "age = 31\n",
    "\n",
    "print(f\"Hola, mi nombre es {first_name}, me apellido {last_name} y tengo {age} años.\")\n",
    "\n",
    "print(\"Me llamo {} {}, tengo {} años.\".format(first_name, last_name, age))\n",
    "#POR COMPLETAR"
   ]
  },
  {
   "cell_type": "markdown",
   "metadata": {},
   "source": [
    "4. Given the list `[4,7, -3]`, calculate its maximum, minimum and sum."
   ]
  },
  {
   "cell_type": "code",
   "execution_count": 20,
   "metadata": {},
   "outputs": [
    {
     "output_type": "stream",
     "name": "stdout",
     "text": [
      "Valor máximo: 7\nValor mínimo: -3\nLa suma de los elementos de la lista es: 8\n"
     ]
    }
   ],
   "source": [
    "lista = [4, 7, -3]\n",
    "\n",
    "print('Valor máximo:', max(lista))\n",
    "print('Valor mínimo:', min(lista))\n",
    "print('La suma de los elementos de la lista es:', sum(lista))"
   ]
  },
  {
   "cell_type": "markdown",
   "metadata": {},
   "source": [
    "5. Save the number `38.38276252728` to a variable called `number_dec` and round it to 5 decimal places.\n"
   ]
  },
  {
   "cell_type": "code",
   "execution_count": 21,
   "metadata": {},
   "outputs": [
    {
     "output_type": "execute_result",
     "data": {
      "text/plain": [
       "38.38276"
      ]
     },
     "metadata": {},
     "execution_count": 21
    }
   ],
   "source": [
    "number_dec = 38.38276252728\n",
    "round(number_dec, 5)"
   ]
  },
  {
   "cell_type": "markdown",
   "metadata": {},
   "source": [
    "6. Declare a variable `phrase` with the value `\"Born to be wild\"` and make it uppercase, then lowercase, divide it by spaces, and finally, replace `\"wild\"` with `\"Geek.\"`"
   ]
  },
  {
   "cell_type": "code",
   "execution_count": 54,
   "metadata": {},
   "outputs": [
    {
     "output_type": "stream",
     "name": "stdout",
     "text": [
      "BORN TO BE WILD\nborn to be wild\n['Born', 'to', 'be', 'wild']\n['Born', 'to', 'be', 'Geek.']\n"
     ]
    }
   ],
   "source": [
    "phrase = 'Born to be wild'\n",
    "print(phrase.upper())\n",
    "print(phrase.lower())\n",
    "print(phrase.split())\n",
    "separado = phrase.split()\n",
    "separado.pop()\n",
    "separado.append('Geek.')\n",
    "print(separado)"
   ]
  },
  {
   "cell_type": "code",
   "execution_count": null,
   "metadata": {},
   "outputs": [],
   "source": []
  },
  {
   "cell_type": "markdown",
   "metadata": {},
   "source": [
    "7. Create a program where two inputs are collected, and the output of the program is a boolean which tell the user whether those inputs are the same or not.\n"
   ]
  },
  {
   "cell_type": "code",
   "execution_count": 69,
   "metadata": {},
   "outputs": [
    {
     "output_type": "stream",
     "name": "stdout",
     "text": [
      "Tus inputs son diferentes\n"
     ]
    }
   ],
   "source": [
    "def comparador(param1, param2):\n",
    "    if param1 == param2:\n",
    "        print('Tus inputs son iguales')\n",
    "    else:\n",
    "        print('Tus inputs son diferentes')\n",
    "\n",
    "in1 = input('Ingrese el primer input a comparar')\n",
    "in2 = input('Ingrese el segundo input a comparar')\n",
    "\n",
    "comparador(param1=in1, param2=in2)\n"
   ]
  },
  {
   "cell_type": "markdown",
   "metadata": {},
   "source": [
    "### Exercise 0.2 - If/else\n",
    "\n",
    "1. Create a decission tree using if/else sentences, to determine the price of the movies ticket. If the client's age is between 5 and 15 years, both included, the price will be 5, if she/he is retired and the movie is one of the `peliculas_discount`, the price is 4. In any other case, it will be 7 euros.\n",
    "\n",
    "You should create the list of `peliculas_discount` with your favourites movies. "
   ]
  },
  {
   "cell_type": "code",
   "execution_count": 87,
   "metadata": {},
   "outputs": [
    {
     "output_type": "stream",
     "name": "stdout",
     "text": [
      "El precio del ticket es de 7 euros.\n"
     ]
    }
   ],
   "source": [
    "peliculas_discount = ['El Gran Truco', 'Interestelar', 'Nueve Reinas']\n",
    "\n",
    "x = int(input('Ingrese su edad.'))\n",
    "\n",
    "if x >= 5 and x <= 15:\n",
    "    print('El precio del ticket es de 5 euros.')\n",
    "elif x > 65:\n",
    "    y = input('Qué película desea ver?')\n",
    "    if y in peliculas_discount:\n",
    "        print('El precio del ticket es de 4 euros.')\n",
    "    else:\n",
    "        print('El precio del ticket es de 7 euros.')\n",
    "else:\n",
    "    print('El precio del ticket es de 7 euros.')\n",
    "\n"
   ]
  },
  {
   "cell_type": "markdown",
   "metadata": {},
   "source": [
    "### Exercise 1 - For"
   ]
  },
  {
   "cell_type": "markdown",
   "metadata": {},
   "source": [
    "1. You are witnessing an epic battle between two powerful sorcerers: Gandalf and Saruman. Each sorcerer has 10 spells of variable power in their mind and they are going to throw them one after the other. The winner of the duel will be the one who wins more of those clashes between spells. Spells are represented as a list of 10 integers whose value equals the power of the spell.\n",
    "\n",
    "```python\n",
    "gandalf = [10, 11, 13, 30, 22, 11, 10, 33, 22, 22]\n",
    "saruman = [23, 66, 12, 43, 12, 10, 44, 23, 12, 17]\n",
    "```\n",
    "\n",
    "For example:\n",
    "\n",
    "The first clash is won by Saruman: 10 against 23, wins 23\n",
    "The second clash wins Saruman: 11 against 66, wins 66\n",
    "etc.\n",
    "You will create two variables, one for each sorcerer, where the sum of clashes won will be stored. Depending on which variable is greater at the end of the duel, you will show one of the following three results on the screen:\n",
    "```\n",
    "Gandalf wins\n",
    "Saruman wins\n",
    "Tie\n",
    "```"
   ]
  },
  {
   "cell_type": "code",
   "execution_count": 89,
   "metadata": {},
   "outputs": [],
   "source": [
    "gandalf = [10, 11, 13, 30, 22, 11, 10, 33, 22, 22]\n",
    "saruman = [23, 66, 12, 43, 12, 10, 44, 23, 12, 17]\n"
   ]
  },
  {
   "cell_type": "code",
   "execution_count": 95,
   "metadata": {},
   "outputs": [
    {
     "output_type": "stream",
     "name": "stdout",
     "text": [
      "Gandalf []\nSaruman ['Win']\n--------\nGandalf []\nSaruman ['Win', 'Win']\n--------\nGandalf ['Win']\nSaruman ['Win', 'Win']\n--------\nGandalf ['Win']\nSaruman ['Win', 'Win', 'Win']\n--------\nGandalf ['Win', 'Win']\nSaruman ['Win', 'Win', 'Win']\n--------\nGandalf ['Win', 'Win', 'Win']\nSaruman ['Win', 'Win', 'Win']\n--------\nGandalf ['Win', 'Win', 'Win']\nSaruman ['Win', 'Win', 'Win', 'Win']\n--------\nGandalf ['Win', 'Win', 'Win', 'Win']\nSaruman ['Win', 'Win', 'Win', 'Win']\n--------\nGandalf ['Win', 'Win', 'Win', 'Win', 'Win']\nSaruman ['Win', 'Win', 'Win', 'Win']\n--------\nGandalf ['Win', 'Win', 'Win', 'Win', 'Win', 'Win']\nSaruman ['Win', 'Win', 'Win', 'Win']\n--------\nGandalf Wins\n"
     ]
    }
   ],
   "source": [
    "gandalf_win = []\n",
    "saruman_win = []\n",
    "\n",
    "for i, valor in enumerate(gandalf):\n",
    "    if valor > saruman[i]:\n",
    "        gandalf_win.append('Win')\n",
    "        print('Gandalf', gandalf_win)\n",
    "        print('Saruman', saruman_win)\n",
    "        print('--------')\n",
    "    elif valor < saruman[i]:\n",
    "        saruman_win.append('Win')\n",
    "        print('Gandalf', gandalf_win)\n",
    "        print('Saruman', saruman_win)\n",
    "        print('--------')\n",
    "    else:\n",
    "        print('Gandalf', gandalf_win)\n",
    "        print('Saruman', saruman_win)\n",
    "        print('--------')\n",
    "        continue\n",
    "\n",
    "if len(gandalf_win) > len(saruman_win):\n",
    "    print('Gandalf Wins')\n",
    "elif len(gandalf_win) < len(saruman_win):\n",
    "    print('Saruman Wins')\n",
    "else:\n",
    "    print('Tie')\n",
    "        "
   ]
  },
  {
   "cell_type": "markdown",
   "metadata": {},
   "source": [
    "### Exercise 2 - Functions"
   ]
  },
  {
   "cell_type": "markdown",
   "metadata": {},
   "source": [
    "1. Write a function program to sum up two given different numbers. "
   ]
  },
  {
   "cell_type": "code",
   "execution_count": 97,
   "metadata": {},
   "outputs": [],
   "source": [
    "def suma(n1, n2):\n",
    "    print(n1 + n2)\n"
   ]
  },
  {
   "cell_type": "markdown",
   "metadata": {},
   "source": [
    "Call the function you've just defined to sum up: \n",
    "    - 5 and 6\n",
    "    - -3 and 10\n",
    "    - 99 and 789"
   ]
  },
  {
   "cell_type": "code",
   "execution_count": 101,
   "metadata": {},
   "outputs": [
    {
     "output_type": "stream",
     "name": "stdout",
     "text": [
      "11\n13\n888\n"
     ]
    }
   ],
   "source": [
    "suma(5, 6)\n",
    "suma(3, 10)\n",
    "suma (99, 789)\n"
   ]
  },
  {
   "cell_type": "markdown",
   "metadata": {},
   "source": [
    "### Bonus Track"
   ]
  },
  {
   "cell_type": "markdown",
   "metadata": {},
   "source": [
    "2. Write a Python program to convert a tuple of characters into a string.\n",
    "\n",
    "    - Sample tuple: `(\"T\", \"H\", \"E\", \" \", \"B\", \"R\", \"I\", \"D\", \"G\", \"E\")`\n",
    "    - Expected output : `\"THE BRIDGE\"`\n",
    "    \n",
    "Hint: Turn it into a list. "
   ]
  },
  {
   "cell_type": "code",
   "execution_count": 117,
   "metadata": {},
   "outputs": [
    {
     "output_type": "execute_result",
     "data": {
      "text/plain": [
       "'THE BRIDGE'"
      ]
     },
     "metadata": {},
     "execution_count": 117
    }
   ],
   "source": [
    "tup = (\"T\", \"H\", \"E\", \" \", \"B\", \"R\", \"I\", \"D\", \"G\", \"E\")\n",
    "lista_de_tupla = list(tup)\n",
    "''.join(lista_de_tupla)"
   ]
  },
  {
   "cell_type": "markdown",
   "metadata": {},
   "source": [
    "3. Write a Python program to generate a list where the values are square of numbers between 1 and 30 (both included), and return a list of first and last 5 elements of the list."
   ]
  },
  {
   "cell_type": "code",
   "execution_count": 6,
   "metadata": {},
   "outputs": [
    {
     "output_type": "stream",
     "name": "stdout",
     "text": [
      "Ésta es la lista completa: [0, 1, 4, 9, 16, 25, 36, 49, 64, 81, 100, 121, 144, 169, 196, 225, 256, 289, 324, 361, 400, 441, 484, 529, 576, 625, 676, 729, 784, 841]\n--------------------------------------------------------------------\nÉsta es la lista acortada: [0, 1, 4, 9, 16, 625, 676, 729, 784, 841]\n"
     ]
    }
   ],
   "source": [
    "numbers = []\n",
    "for i in range(0,30):\n",
    "    numbers.append(i*i)\n",
    "print(f\"Ésta es la lista completa: {numbers}\")\n",
    "print('--------------------------------------------------------------------')\n",
    "print(f\"Ésta es la lista acortada: {numbers[:5] + numbers[-5:]}\")"
   ]
  },
  {
   "cell_type": "markdown",
   "metadata": {},
   "source": [
    "4. Create a program that calculates the average.\n",
    "\n",
    "The program will ask the user to specify how many numbers you want to enter, and will show a prompt to include number by number to a list, and then calculate the average of each number in that list."
   ]
  },
  {
   "cell_type": "code",
   "execution_count": 155,
   "metadata": {},
   "outputs": [
    {
     "output_type": "stream",
     "name": "stdout",
     "text": [
      "[1, 2, 3]\n"
     ]
    },
    {
     "output_type": "execute_result",
     "data": {
      "text/plain": [
       "2.0"
      ]
     },
     "metadata": {},
     "execution_count": 155
    }
   ],
   "source": [
    "cuantos = int(input('Cuántos números quiere ingresar?'))\n",
    "x = []\n",
    "for i in range(cuantos):\n",
    "    q = int(input('Ingrese un número'))\n",
    "    x.append(q)\n",
    "    \n",
    "print(x)\n",
    "sum(x)/(cuantos)"
   ]
  },
  {
   "cell_type": "markdown",
   "metadata": {},
   "source": [
    "# If you made it till here you did a fantastic work!"
   ]
  },
  {
   "cell_type": "markdown",
   "metadata": {},
   "source": [
    "![\"holo\"](https://img-9gag-fun.9cache.com/photo/aNg9wMK_460s.jpg)"
   ]
  },
  {
   "cell_type": "code",
   "execution_count": null,
   "metadata": {},
   "outputs": [],
   "source": []
  }
 ],
 "metadata": {
  "kernelspec": {
   "name": "python374jvsc74a57bd0a0947237fadc8b5561fed326db280cc5ec46a670c87cfb3a0489cf95ff262303",
   "display_name": "Python 3.7.4 64-bit"
  },
  "language_info": {
   "codemirror_mode": {
    "name": "ipython",
    "version": 3
   },
   "file_extension": ".py",
   "mimetype": "text/x-python",
   "name": "python",
   "nbconvert_exporter": "python",
   "pygments_lexer": "ipython3",
   "version": "3.7.4"
  },
  "metadata": {
   "interpreter": {
    "hash": "a0947237fadc8b5561fed326db280cc5ec46a670c87cfb3a0489cf95ff262303"
   }
  }
 },
 "nbformat": 4,
 "nbformat_minor": 4
}