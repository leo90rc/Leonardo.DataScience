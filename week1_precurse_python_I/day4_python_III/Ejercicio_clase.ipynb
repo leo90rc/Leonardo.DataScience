{
 "metadata": {
  "language_info": {
   "codemirror_mode": {
    "name": "ipython",
    "version": 3
   },
   "file_extension": ".py",
   "mimetype": "text/x-python",
   "name": "python",
   "nbconvert_exporter": "python",
   "pygments_lexer": "ipython3",
   "version": "3.7.4"
  },
  "orig_nbformat": 2,
  "kernelspec": {
   "name": "python374jvsc74a57bd0a0947237fadc8b5561fed326db280cc5ec46a670c87cfb3a0489cf95ff262303",
   "display_name": "Python 3.7.4 64-bit"
  },
  "metadata": {
   "interpreter": {
    "hash": "a0947237fadc8b5561fed326db280cc5ec46a670c87cfb3a0489cf95ff262303"
   }
  }
 },
 "nbformat": 4,
 "nbformat_minor": 2,
 "cells": [
  {
   "source": [
    "# Una variable \"x\" que tenga todos los nombres concatenados de la lista \"lista_nombres_alturas\", utilizando una función para ello.\n",
    "\n",
    "# x = nombre_funcion (lista = lista_nombres_alturas) "
   ],
   "cell_type": "markdown",
   "metadata": {}
  },
  {
   "cell_type": "code",
   "execution_count": 88,
   "metadata": {},
   "outputs": [],
   "source": [
    "lista_nombres_alturas = [(\"Gabriel Vázquez\", 1.75),(\"Jonathan Abbondanza\",  1.70),(\"Nacho Fontal\", 1.82),(\"Javier Araiz\", 1.80),('Jonathan Suarez', 1.86),('Sonia Cobo', 1.73), ('Jorge García', 1.79), (\"Mary Meza\", 1.52), ('Leonardo Frazzetto', 1.75), (\"Nacho Astorga\",1.78),(\"José Carlos Batista\",1.70), (\"Isabel Palomares\", 1.78),(\"Marina Serrano\", 1.54), (\"Daniel Walker\", 1.87), (\"Clara Piniella\", 1.66), (\"Gina Garrido\", 1.63), (\"Adrià Gallardo\", 1.70), (\"María García-Maroto\", 1.64), (\"Susana Vázquez\",1.80), (\"Mauro Garcia-Oliva\", 1.77), (\"Juan Bayon\", 1.64), (\"Miguel Barquero\", 1.85), (\"Borja Puig\", 1.82), (\"Pablo Martínez\", 1.81), (\"Xinru Yang\", 1.60),(\"Pablo Díez\", 1.84),(\"Karina Inche\",1.61)]"
   ]
  },
  {
   "cell_type": "code",
   "execution_count": 97,
   "metadata": {},
   "outputs": [],
   "source": [
    "\n",
    "def nombre_funcion(lista):\n",
    "    nombre = ''\n",
    "    for tupla in lista:\n",
    "        nombre = nombre + ' ' + tupla[0]\n",
    "    return nombre.strip() # El strip lo uso para quitar los espacios al inicio y al final de lo que escribo... de lo contrario, como a la                                      funcion \"nombre\" le agrego un espacio antes de concatenarle el valor de la tupla, me quedaria un espacio al inicio."
   ]
  },
  {
   "cell_type": "code",
   "execution_count": 98,
   "metadata": {},
   "outputs": [
    {
     "output_type": "execute_result",
     "data": {
      "text/plain": [
       "'Gabriel Vázquez Jonathan Abbondanza Nacho Fontal Javier Araiz Jonathan Suarez Sonia Cobo Jorge García Mary Meza Leonardo Frazzetto Nacho Astorga José Carlos Batista Isabel Palomares Marina Serrano Daniel Walker Clara Piniella Gina Garrido Adrià Gallardo María García-Maroto Susana Vázquez Mauro Garcia-Oliva Juan Bayon Miguel Barquero Borja Puig Pablo Martínez Xinru Yang Pablo Díez Karina Inche'"
      ]
     },
     "metadata": {},
     "execution_count": 98
    }
   ],
   "source": [
    "x = nombre_funcion(lista = lista_nombres_alturas)\n",
    "x"
   ]
  },
  {
   "source": [
    "# Igual que el anterior, pero que tenga la MEDIA de todas las alturas."
   ],
   "cell_type": "markdown",
   "metadata": {}
  },
  {
   "cell_type": "code",
   "execution_count": 118,
   "metadata": {},
   "outputs": [],
   "source": [
    "def funcion_media (lista):\n",
    "    suma_alturas = 0.0\n",
    "    for tupla in lista:\n",
    "        suma_alturas = suma_alturas + tupla[1]\n",
    "    cuantas_alturas = len(lista)\n",
    "    return suma_alturas / cuantas_alturas\n"
   ]
  },
  {
   "cell_type": "code",
   "execution_count": 124,
   "metadata": {},
   "outputs": [
    {
     "output_type": "execute_result",
     "data": {
      "text/plain": [
       "1.732"
      ]
     },
     "metadata": {},
     "execution_count": 124
    }
   ],
   "source": [
    "med = funcion_media(lista = lista_nombres_alturas)\n",
    "round(med, 3)"
   ]
  }
 ]
}