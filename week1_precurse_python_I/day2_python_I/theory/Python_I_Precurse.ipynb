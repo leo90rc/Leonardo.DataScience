{
 "cells": [
  {
   "cell_type": "markdown",
   "metadata": {},
   "source": [
    "# Data Science Bootcamp - The Bridge \n",
    "## Precurso\n",
    "En este notebook vamos a ver, uno a uno, los conceptos básicos de Python. Constarán de ejercicios prácticos acompañados de una explicación teórica dada por el profesor.\n",
    "\n",
    "Los siguientes enlaces están recomendados para el alumno para profundizar y reforzar conceptos a partir de  ejercicios y ejemplos:\n",
    "\n",
    "- https://facundoq.github.io/courses/aa2018/res/02_python.html\n",
    "\n",
    "- https://www.w3resource.com/python-exercises/\n",
    "\n",
    "- https://www.practicepython.org/\n",
    "\n",
    "- https://es.slideshare.net/egutierrezru/python-paraprincipiantes\n",
    "\n",
    "- https://www.sololearn.com/Play/Python#\n",
    "\n",
    "- https://github.com/mhkmcp/Python-Bootcamp-from-Basic-to-Advanced\n",
    "\n",
    "Ejercicios avanzados:\n",
    "\n",
    "- https://github.com/darkprinx/100-plus-Python-programming-exercises-extended/tree/master/Status (++)\n",
    "\n",
    "- https://github.com/mahtab04/Python-Programming-Practice (++)\n",
    "\n",
    "- https://github.com/whojayantkumar/Python_Programs (+++)\n",
    "\n",
    "- https://www.w3resource.com/python-exercises/ (++++)\n",
    "\n",
    "- https://github.com/fupus/notebooks-ejercicios (+++++)\n",
    "\n",
    "Tutor de ayuda PythonTutor:\n",
    "\n",
    "- http://pythontutor.com/\n"
   ]
  },
  {
   "cell_type": "markdown",
   "metadata": {},
   "source": [
    "## 1. Variables y tipos\n",
    "\n",
    "### Cadenas"
   ]
  },
  {
   "cell_type": "code",
   "execution_count": null,
   "metadata": {},
   "outputs": [],
   "source": [
    "# Entero - Integer - int\n",
    "x = 7\n",
    "# Cadena - String - Lista de caracteres\n",
    "x = \"lorena\"\n",
    "print(x)\n",
    "\n",
    "x = 7\n",
    "print(x)"
   ]
  },
  {
   "cell_type": "code",
   "execution_count": null,
   "metadata": {},
   "outputs": [],
   "source": [
    "# built-in\n",
    "type"
   ]
  },
  {
   "cell_type": "code",
   "execution_count": null,
   "metadata": {},
   "outputs": [],
   "source": [
    "x = 5\n",
    "y = 7\n",
    "\n",
    "z = x + y\n",
    "print(z)"
   ]
  },
  {
   "cell_type": "code",
   "execution_count": null,
   "metadata": {},
   "outputs": [],
   "source": [
    "x = \"'lorena'\\\" \"\n",
    "l = 'silvia----'\n",
    "\n",
    "g = x + l\n",
    "# Las cadenas se concatenan\n",
    "print(g)"
   ]
  },
  {
   "cell_type": "code",
   "execution_count": null,
   "metadata": {},
   "outputs": [],
   "source": [
    "print(g)"
   ]
  },
  {
   "cell_type": "code",
   "execution_count": null,
   "metadata": {},
   "outputs": [],
   "source": [
    "# type muestra el tipo de la variable\n",
    "type(g)"
   ]
  },
  {
   "cell_type": "code",
   "execution_count": null,
   "metadata": {},
   "outputs": [],
   "source": [
    "type(3)"
   ]
  },
  {
   "cell_type": "code",
   "execution_count": null,
   "metadata": {},
   "outputs": [],
   "source": [
    "# print es una función que recibe varios argumentos y cada argumento está diferenciado por la coma. Después de cada coma, la función 'print' añade un espacio.\n",
    "\n",
    "# mala praxis\n",
    "print(    g,z  ,    6,     \"cadena\")\n",
    "\n",
    "# buena praxis - PEP8\n",
    "print(g, z, 6, \"cadena\")"
   ]
  },
  {
   "cell_type": "code",
   "execution_count": null,
   "metadata": {},
   "outputs": [],
   "source": [
    "# Cambiar de int a str\n"
   ]
  },
  {
   "cell_type": "code",
   "execution_count": null,
   "metadata": {},
   "outputs": [],
   "source": [
    "# Cambiar de str a int\n"
   ]
  },
  {
   "cell_type": "code",
   "execution_count": null,
   "metadata": {},
   "outputs": [],
   "source": [
    "# Para ver la longitud de una lista de caracteres (lista)"
   ]
  },
  {
   "cell_type": "code",
   "execution_count": null,
   "metadata": {},
   "outputs": [],
   "source": [
    "# String, Integer, Float, List, None (NaN), bool\n",
    "# str, int, float, list, bool"
   ]
  },
  {
   "cell_type": "code",
   "execution_count": 2,
   "metadata": {},
   "outputs": [
    {
     "output_type": "stream",
     "name": "stdout",
     "text": [
      "5.878\n<class 'float'>\n"
     ]
    }
   ],
   "source": [
    "x = 5.878\n",
    "print(x)\n",
    "print (type(x))"
   ]
  },
  {
   "cell_type": "code",
   "execution_count": 3,
   "metadata": {},
   "outputs": [
    {
     "output_type": "stream",
     "name": "stdout",
     "text": [
      "6.654\n6\n"
     ]
    }
   ],
   "source": [
    "x = 6.654\n",
    "y = int (x)\n",
    "print (x)\n",
    "print (y)"
   ]
  },
  {
   "cell_type": "code",
   "execution_count": null,
   "metadata": {},
   "outputs": [],
   "source": [
    "m = ((((65 + int(\"22\")) * 2)))\n",
    "m"
   ]
  },
  {
   "cell_type": "code",
   "execution_count": null,
   "metadata": {},
   "outputs": [],
   "source": [
    "print(type(int(string2)))"
   ]
  },
  {
   "cell_type": "code",
   "execution_count": null,
   "metadata": {},
   "outputs": [],
   "source": [
    "# los decimales son float. Python permite las operaciones entre int y float\n",
    "x = 4\n",
    "y = 4.2\n",
    "\n",
    "print(x + y)"
   ]
  },
  {
   "cell_type": "code",
   "execution_count": null,
   "metadata": {},
   "outputs": [],
   "source": [
    "# La división normal (/) es siempre float\n",
    "# La división absoluta (//) puede ser: \n",
    "# - float si uno de los dos números (o los dos) son float\n",
    "# - int si los dos son int \n",
    "j = 15\n",
    "k = 4\n",
    "division = j // k"
   ]
  },
  {
   "cell_type": "code",
   "execution_count": null,
   "metadata": {},
   "outputs": [],
   "source": [
    "num1 = 12\n",
    "num2 = 3\n",
    "\n",
    "suma = num1 + num2\n",
    "resta = num1 - num2\n",
    "multiplicacion = num1 * num2 \n",
    "division = num1 / num2\n",
    "division_absoluta = num1 // num2\n",
    "\n",
    "print(\"suma:\", suma)\n",
    "print(\"resta:\", resta)\n",
    "print(\"multiplicacion:\", multiplicacion)\n",
    "print(\"division:\", division)\n",
    "print(\"division_absoluta:\", division_absoluta)\n",
    "print(type(division))\n",
    "print(type(division_absoluta))"
   ]
  },
  {
   "cell_type": "code",
   "execution_count": 5,
   "metadata": {},
   "outputs": [
    {
     "output_type": "execute_result",
     "data": {
      "text/plain": [
       "2"
      ]
     },
     "metadata": {},
     "execution_count": 5
    }
   ],
   "source": [
    "# Jupyter notebook permite que la última línea se imprima por pantalla ( la variable )\n",
    "\n",
    "x = 2\n",
    "s = 4\n",
    "s\n",
    "x\n",
    "\n",
    "# LA ULTIMA LINEA (y solo la ultima) LA INTERPRETA COMO UN PRINT... Esto ocurre solo en JUPYTER\n"
   ]
  },
  {
   "cell_type": "code",
   "execution_count": null,
   "metadata": {},
   "outputs": [],
   "source": [
    "# Soy un comentario\n",
    "# print(\"Hello Python world!\")\n",
    "# Estoy creando una variable que vale 2\n",
    "\"\"\"\n",
    "Esto es otro comentario\n",
    "\"\"\""
   ]
  },
  {
   "cell_type": "markdown",
   "metadata": {},
   "source": [
    "## Ejercicio: \n",
    "### Crear una nueva celda.\n",
    "### Declarar tres variables: \n",
    "- Una con el nombre \"edad\" con valor vuestra edad\n",
    "- Otra \"edad_compañero_der\" que contengan la edad de tipo entero de vuestro compañero de la derecha\n",
    "- Otra \"suma_anterior\" que contenga la suma de las dos variables anteriormente declaradas\n",
    "\n",
    " Mostrar por pantalla la variable \"suma_anterior\"\n",
    "\n"
   ]
  },
  {
   "cell_type": "code",
   "execution_count": 6,
   "metadata": {},
   "outputs": [
    {
     "output_type": "stream",
     "name": "stdout",
     "text": [
      "76\n"
     ]
    }
   ],
   "source": [
    "edad = 31\n",
    "edad_compañero_der = 45\n",
    "suma_anterior = edad + edad_compañero_der\n",
    "print (suma_anterior)"
   ]
  },
  {
   "cell_type": "code",
   "execution_count": 26,
   "metadata": {},
   "outputs": [
    {
     "output_type": "stream",
     "name": "stdout",
     "text": [
      "HOLA\n"
     ]
    }
   ],
   "source": [
    "# funciones built-in de string\n",
    "\n",
    "string1 = \"Hola\"\n",
    "print (string1.upper())"
   ]
  },
  {
   "source": [
    "## 2. Números y operadores"
   ],
   "cell_type": "markdown",
   "metadata": {}
  },
  {
   "cell_type": "code",
   "execution_count": 9,
   "metadata": {},
   "outputs": [
    {
     "output_type": "stream",
     "name": "stdout",
     "text": [
      "- Tipo de x:\n<class 'int'>\n- Valor de x:\n3\n- x+1:\n4\n- x-1:\n2\n- x*2:\n6\n- x^2:\n9\n- x modificado:\n4\n- x modificado:\n8\n- El módulo de x con 40\n0\n- Varias cosas en una línea:\n1 2 8 10\n"
     ]
    }
   ],
   "source": [
    "### Enteros ###\n",
    "\n",
    "x = 3\n",
    "\n",
    "print(\"- Tipo de x:\")\n",
    "print(type(x)) # Imprime el tipo (o `clase`) de x\n",
    "print(\"- Valor de x:\")\n",
    "print(x)       # Imprimir un valor\n",
    "print(\"- x+1:\")\n",
    "print(x + 1)   # Suma: imprime \"4\"\n",
    "print(\"- x-1:\")\n",
    "print(x - 1)   # Resta; imprime \"2\"\n",
    "print(\"- x*2:\")\n",
    "print(x * 2)   # Multiplicación; imprime \"6\"\n",
    "print(\"- x^2:\")\n",
    "print(x ** 2)  # Exponenciación; imprime \"9\"\n",
    "# Modificación de x\n",
    "x += 1 \n",
    "print(\"- x modificado:\")\n",
    "print(x)  # Imprime \"4\"\n",
    "\n",
    "x *= 2\n",
    "print(\"- x modificado:\")\n",
    "print(x)  # Imprime \"8\"\n",
    "\n",
    "print(\"- El módulo de x con 40\")\n",
    "print(40 % x)\n",
    "\n",
    "print(\"- Varias cosas en una línea:\")\n",
    "print(1, 2, x, 5*2) # imprime varias cosas a la vez"
   ]
  },
  {
   "cell_type": "code",
   "execution_count": 10,
   "metadata": {},
   "outputs": [
    {
     "output_type": "stream",
     "name": "stdout",
     "text": [
      "0\n"
     ]
    }
   ],
   "source": [
    "# El módulo muestra el resto de la división entre dos números\n",
    "\n",
    "x = 4 % 2 #NOS QUEDAMOS CON EL RESTO\n",
    "print(x)\n"
   ]
  },
  {
   "cell_type": "code",
   "execution_count": null,
   "metadata": {},
   "outputs": [],
   "source": [
    "numero = 99\n",
    "\n",
    "numero % 2  # Si el resto es 0, el número es par. Sino, impar."
   ]
  },
  {
   "source": [
    "## Título markdown"
   ],
   "cell_type": "markdown",
   "metadata": {}
  },
  {
   "source": [
    "# INPUT"
   ],
   "cell_type": "markdown",
   "metadata": {}
  },
  {
   "cell_type": "code",
   "execution_count": 11,
   "metadata": {},
   "outputs": [
    {
     "output_type": "stream",
     "name": "stdout",
     "text": [
      "Hola, soy el texto\n"
     ]
    }
   ],
   "source": [
    "x = input()\n",
    "print(x)\n",
    "\n",
    "# Me pedira ingresar un texto. x siempre sera un STR... Aunque se ingrese un numero"
   ]
  },
  {
   "cell_type": "code",
   "execution_count": 12,
   "metadata": {},
   "outputs": [
    {
     "output_type": "stream",
     "name": "stdout",
     "text": [
      "76\n<class 'str'>\n"
     ]
    }
   ],
   "source": [
    "x = input()\n",
    "print(x)\n",
    "print(type(x))"
   ]
  },
  {
   "cell_type": "code",
   "execution_count": 15,
   "metadata": {},
   "outputs": [
    {
     "output_type": "stream",
     "name": "stdout",
     "text": [
      "43\n<class 'int'>\n"
     ]
    }
   ],
   "source": [
    "x= int(input())\n",
    "print (x)\n",
    "print(type(x))"
   ]
  },
  {
   "cell_type": "code",
   "execution_count": 17,
   "metadata": {},
   "outputs": [
    {
     "output_type": "stream",
     "name": "stdout",
     "text": [
      "6\n<class 'str'>\n"
     ]
    },
    {
     "output_type": "error",
     "ename": "TypeError",
     "evalue": "unsupported operand type(s) for +: 'int' and 'str'",
     "traceback": [
      "\u001b[1;31m---------------------------------------------------------------------------\u001b[0m",
      "\u001b[1;31mTypeError\u001b[0m                                 Traceback (most recent call last)",
      "\u001b[1;32m<ipython-input-17-a6e4913e8693>\u001b[0m in \u001b[0;36m<module>\u001b[1;34m\u001b[0m\n\u001b[0;32m      2\u001b[0m \u001b[0mprint\u001b[0m \u001b[1;33m(\u001b[0m\u001b[0mx\u001b[0m\u001b[1;33m)\u001b[0m\u001b[1;33m\u001b[0m\u001b[1;33m\u001b[0m\u001b[0m\n\u001b[0;32m      3\u001b[0m \u001b[0mprint\u001b[0m \u001b[1;33m(\u001b[0m\u001b[0mtype\u001b[0m\u001b[1;33m(\u001b[0m\u001b[0mx\u001b[0m\u001b[1;33m)\u001b[0m\u001b[1;33m)\u001b[0m\u001b[1;33m\u001b[0m\u001b[1;33m\u001b[0m\u001b[0m\n\u001b[1;32m----> 4\u001b[1;33m \u001b[0mr\u001b[0m \u001b[1;33m=\u001b[0m \u001b[1;36m4\u001b[0m \u001b[1;33m+\u001b[0m \u001b[0mx\u001b[0m\u001b[1;33m\u001b[0m\u001b[1;33m\u001b[0m\u001b[0m\n\u001b[0m\u001b[0;32m      5\u001b[0m \u001b[0mprint\u001b[0m \u001b[1;33m(\u001b[0m\u001b[0mr\u001b[0m\u001b[1;33m)\u001b[0m\u001b[1;33m\u001b[0m\u001b[1;33m\u001b[0m\u001b[0m\n",
      "\u001b[1;31mTypeError\u001b[0m: unsupported operand type(s) for +: 'int' and 'str'"
     ]
    }
   ],
   "source": [
    "x = input()\n",
    "print (x)\n",
    "print (type(x))\n",
    "r = 4 + x\n",
    "print (r)"
   ]
  },
  {
   "cell_type": "code",
   "execution_count": 19,
   "metadata": {},
   "outputs": [
    {
     "output_type": "stream",
     "name": "stdout",
     "text": [
      "6\n<class 'int'>\n10\n<class 'int'>\n"
     ]
    }
   ],
   "source": [
    "x = int(input())\n",
    "print(x)\n",
    "print(type(x))\n",
    "s = 4 + x\n",
    "print (s)\n",
    "print(type(s))"
   ]
  },
  {
   "cell_type": "code",
   "execution_count": 22,
   "metadata": {},
   "outputs": [
    {
     "output_type": "stream",
     "name": "stdout",
     "text": [
      "Holitaaa\n"
     ]
    }
   ],
   "source": [
    "x = input(\"Escribe algo\") #El input me pide que escriba algo. Ejemplo, si hacemos una calculadora puedo pedirle que escriba un numero\n",
    "\n",
    "print(x)"
   ]
  },
  {
   "cell_type": "markdown",
   "metadata": {},
   "source": [
    "## 3. Tipo None"
   ]
  },
  {
   "cell_type": "code",
   "execution_count": 23,
   "metadata": {},
   "outputs": [
    {
     "output_type": "error",
     "ename": "NameError",
     "evalue": "name 'NONE' is not defined",
     "traceback": [
      "\u001b[1;31m---------------------------------------------------------------------------\u001b[0m",
      "\u001b[1;31mNameError\u001b[0m                                 Traceback (most recent call last)",
      "\u001b[1;32m<ipython-input-23-2f9a874f8893>\u001b[0m in \u001b[0;36m<module>\u001b[1;34m\u001b[0m\n\u001b[0;32m      1\u001b[0m \u001b[1;31m# EL TIPO NONE\u001b[0m\u001b[1;33m\u001b[0m\u001b[1;33m\u001b[0m\u001b[1;33m\u001b[0m\u001b[0m\n\u001b[1;32m----> 2\u001b[1;33m \u001b[0mx\u001b[0m \u001b[1;33m=\u001b[0m \u001b[0mNONE\u001b[0m\u001b[1;33m\u001b[0m\u001b[1;33m\u001b[0m\u001b[0m\n\u001b[0m\u001b[0;32m      3\u001b[0m \u001b[0mp\u001b[0m \u001b[1;33m=\u001b[0m \u001b[1;36m5\u001b[0m \u001b[1;33m+\u001b[0m \u001b[0mx\u001b[0m\u001b[1;33m\u001b[0m\u001b[1;33m\u001b[0m\u001b[0m\n\u001b[0;32m      4\u001b[0m \u001b[0mprint\u001b[0m \u001b[1;33m(\u001b[0m\u001b[0mp\u001b[0m\u001b[1;33m)\u001b[0m\u001b[1;33m\u001b[0m\u001b[1;33m\u001b[0m\u001b[0m\n",
      "\u001b[1;31mNameError\u001b[0m: name 'NONE' is not defined"
     ]
    }
   ],
   "source": [
    "# EL TIPO NONE\n",
    "x = NONE\n",
    "p = 5 + x\n",
    "print (p)\n",
    "\n",
    "# No se puede sumar con un tipo NONE"
   ]
  },
  {
   "cell_type": "markdown",
   "metadata": {},
   "source": [
    "## 4. Listas y colecciones "
   ]
  },
  {
   "cell_type": "code",
   "execution_count": null,
   "metadata": {},
   "outputs": [],
   "source": [
    "# Una coleccion:\n",
    "# lista, conjunto (set), tupla, array, string"
   ]
  },
  {
   "cell_type": "code",
   "execution_count": 28,
   "metadata": {},
   "outputs": [],
   "source": [
    "# Lista de elementos:\n",
    "\n",
    "# Las posiciones se empiezan a contar desde 0\n",
    "s = \"Cadena\""
   ]
  },
  {
   "cell_type": "code",
   "execution_count": 29,
   "metadata": {},
   "outputs": [
    {
     "output_type": "stream",
     "name": "stdout",
     "text": [
      "C\n"
     ]
    }
   ],
   "source": [
    "print(s[0])"
   ]
  },
  {
   "cell_type": "code",
   "execution_count": 32,
   "metadata": {},
   "outputs": [
    {
     "output_type": "stream",
     "name": "stdout",
     "text": [
      "<class 'list'>\nhola\n7.2\n3\n"
     ]
    }
   ],
   "source": [
    "lista = [3, 7.2, \"hola\"]\n",
    "print(type(lista))\n",
    "print(lista[2]) #ultimo\n",
    "print(lista[1]) #penultimo\n",
    "print(lista[0]) #antepenultimo\n",
    "\n",
    "# ATENCION: para contar en listas de arranca por 0\n",
    "# La ultima posicion de una coleccion coincide con el tamaño de la coleccion - 1"
   ]
  },
  {
   "cell_type": "code",
   "execution_count": 33,
   "metadata": {},
   "outputs": [
    {
     "output_type": "stream",
     "name": "stdout",
     "text": [
      "hola\n7.2\n3\n"
     ]
    }
   ],
   "source": [
    "lista = [3, 7.2, \"hola\"]\n",
    "print(lista[-1]) #ultimo\n",
    "print(lista[-2]) #penultimo\n",
    "print(lista[-3]) #antepenultimo\n",
    "\n",
    "#ATENCION: para contar en listas de atras a adelante"
   ]
  },
  {
   "cell_type": "code",
   "execution_count": 34,
   "metadata": {},
   "outputs": [
    {
     "output_type": "stream",
     "name": "stdout",
     "text": [
      "[3, 7.2]\n"
     ]
    }
   ],
   "source": [
    "lista = [3, 7.2, \"hola\"]\n",
    "print(lista[0:2]) #ATENCION: el primer numero (0) se incluye, pero el ultimo (2) no se incluye... esto nos da el print del primer y segundo elemento."
   ]
  },
  {
   "cell_type": "code",
   "execution_count": 36,
   "metadata": {},
   "outputs": [
    {
     "output_type": "stream",
     "name": "stdout",
     "text": [
      "3\n[7.2, 'x']\n"
     ]
    }
   ],
   "source": [
    "lista2 = [\"hola\", 2, [7.2, \"x\"]]\n",
    "print(len(lista2))\n",
    "print(lista2[-1])\n"
   ]
  },
  {
   "cell_type": "code",
   "execution_count": 39,
   "metadata": {},
   "outputs": [
    {
     "output_type": "stream",
     "name": "stdout",
     "text": [
      "xa\n"
     ]
    }
   ],
   "source": [
    "lista2 = [\"hola\", 2, [7.2, \"xa\"]]\n",
    "print(lista2[-1][-1])\n",
    "\n",
    "#ATENCION: Para mostrar un elemento de una lista contenida en otra lista..."
   ]
  },
  {
   "cell_type": "code",
   "execution_count": 41,
   "metadata": {},
   "outputs": [
    {
     "output_type": "stream",
     "name": "stdout",
     "text": [
      "x\n"
     ]
    }
   ],
   "source": [
    "lista3 = [\"hola\", 2, [7.2, \"xa\"]]\n",
    "print(lista3[-1][-1][0])\n",
    "\n",
    "#"
   ]
  },
  {
   "cell_type": "code",
   "execution_count": 49,
   "metadata": {},
   "outputs": [
    {
     "output_type": "stream",
     "name": "stdout",
     "text": [
      "<class 'list'>\n[7.2, 'xa']\n<class 'list'>\nxa\n<class 'str'>\na\n<class 'str'>\n"
     ]
    }
   ],
   "source": [
    "lista4 = [\"hola\", 2, [7.2, \"xa\"]]\n",
    "print(type(lista4))\n",
    "print(lista4[-1])\n",
    "print(type(lista4[-1]))\n",
    "print(lista4[-1][1])\n",
    "print(type(lista4[-1][1]))\n",
    "print(lista4[-1][1][-1])\n",
    "print(type(lista4[-1][1][-1]))"
   ]
  },
  {
   "cell_type": "code",
   "execution_count": 53,
   "metadata": {},
   "outputs": [
    {
     "output_type": "stream",
     "name": "stdout",
     "text": [
      "<class 'list'>\n[[7.2, 'xa']]\n<class 'list'>\n[7.2, 'xa']\n<class 'list'>\nxa\n<class 'str'>\na\n<class 'str'>\n"
     ]
    }
   ],
   "source": [
    "lista4 = [\"hola\", 2, [[7.2, \"xa\"]]] # ATENCION !!!! Hay una lista con un elemento solo... es el tercer elemento de la lista principal\n",
    "print(type(lista4))\n",
    "print(lista4[-1])\n",
    "print(type(lista4[-1]))\n",
    "print(lista4[-1][0])\n",
    "print(type(lista4[-1][0]))\n",
    "print(lista4[-1][0][-1])\n",
    "print(type(lista4[-1][0][-1]))\n",
    "print(lista4[-1][0][-1][-1])\n",
    "print(type(lista4[-1][0][-1][-1]))"
   ]
  },
  {
   "cell_type": "code",
   "execution_count": 57,
   "metadata": {},
   "outputs": [
    {
     "output_type": "stream",
     "name": "stdout",
     "text": [
      "[4, 'x']\n[4, 'x', 7]\n"
     ]
    }
   ],
   "source": [
    "lista = [4, \"x\"]\n",
    "print(lista)\n",
    "lista.append(7) #AGREGA UN VALOR EN LA ULTIMA POSICION DE LA LISTA\n",
    "print(lista)"
   ]
  },
  {
   "cell_type": "code",
   "execution_count": 59,
   "metadata": {},
   "outputs": [
    {
     "output_type": "stream",
     "name": "stdout",
     "text": [
      "[6, 'x']\n"
     ]
    }
   ],
   "source": [
    "listaaa = [6,\"x\"]\n",
    "print(listaaa) #OBSERVAR CUADRO DE ABAJO"
   ]
  },
  {
   "cell_type": "code",
   "execution_count": 61,
   "metadata": {},
   "outputs": [
    {
     "output_type": "stream",
     "name": "stdout",
     "text": [
      "[6, 'x', 98, 98]\n"
     ]
    }
   ],
   "source": [
    "listaaa.append (98)\n",
    "print(listaaa)\n",
    "\n",
    "#CADA VEZ QUE USO ESTE CUADRO SE AGREGA OOOOTRO 98 A LA LISTA"
   ]
  },
  {
   "cell_type": "code",
   "execution_count": 62,
   "metadata": {},
   "outputs": [
    {
     "output_type": "stream",
     "name": "stdout",
     "text": [
      "[2, 'w', 7]\n[2, 'w']\n"
     ]
    }
   ],
   "source": [
    "lis1 = [2,\"w\",7]\n",
    "print(lis1)\n",
    "lis1.remove(7) #REMUEVE EL ELEMENTO QUE ELIJO... si hubiera mas de uno, remueve el primero\n",
    "print(lis1)"
   ]
  },
  {
   "cell_type": "code",
   "execution_count": 64,
   "metadata": {},
   "outputs": [
    {
     "output_type": "stream",
     "name": "stdout",
     "text": [
      "[2, 'w', 7, 'w']\n[2, 7, 'w']\n"
     ]
    }
   ],
   "source": [
    "lis2 = [2,\"w\",7,\"w\"]\n",
    "print(lis2)\n",
    "lis2.remove(\"w\") #REMUEVE EL ELEMENTO QUE ELIJO... si hubiera mas de uno, remueve el primero\n",
    "print(lis2)"
   ]
  },
  {
   "cell_type": "code",
   "execution_count": 67,
   "metadata": {},
   "outputs": [
    {
     "output_type": "stream",
     "name": "stdout",
     "text": [
      "[2, 'z', 7, 'z']\n[2, 7, 'z', 'z']\n"
     ]
    }
   ],
   "source": [
    "lis3 = [2,\"z\",7,\"z\"]\n",
    "print(lis3)\n",
    "lis3.append(\"z\")\n",
    "\n",
    "lis3.remove(\"z\")\n",
    "print(lis3)"
   ]
  },
  {
   "cell_type": "code",
   "execution_count": 68,
   "metadata": {},
   "outputs": [
    {
     "output_type": "stream",
     "name": "stdout",
     "text": [
      "[4, 'x', 'y', ['z', 4]]\n"
     ]
    }
   ],
   "source": [
    "lista = [4, \"x\", \"y\", [\"z\"]]\n",
    "\n",
    "lista[-1].append([4]) #Añade una lista [4] a la lista [\"z\"]\n",
    "print (lista)"
   ]
  },
  {
   "cell_type": "code",
   "execution_count": 71,
   "metadata": {},
   "outputs": [
    {
     "output_type": "stream",
     "name": "stdout",
     "text": [
      "tipo de h: <class 'int'>\ntipo de l: <class 'list'>\n"
     ]
    }
   ],
   "source": [
    "h = 4\n",
    "l = [4]\n",
    "print(\"tipo de h:\",type(h))\n",
    "print(\"tipo de l:\",type(l))"
   ]
  },
  {
   "cell_type": "code",
   "execution_count": null,
   "metadata": {},
   "outputs": [],
   "source": [
    "s = \"Hola soy Leonardo\""
   ]
  },
  {
   "cell_type": "code",
   "execution_count": 54,
   "metadata": {},
   "outputs": [
    {
     "output_type": "stream",
     "name": "stdout",
     "text": [
      "aralC yos aloH\n"
     ]
    }
   ],
   "source": [
    "s = \"Hola soy Clara\"\n",
    "\n",
    "print(s[::-1])"
   ]
  },
  {
   "cell_type": "code",
   "execution_count": null,
   "metadata": {},
   "outputs": [],
   "source": [
    "# Para acceder a varios elementos, se especifica con la nomenclatura \"[N:M]\". N es el primer elemento a obtener, M es el último elemento a obtener pero no incluido. Ejemplo: \n",
    "\n",
    "# Queremos mostrar desde las posiciones 3 a la 7. Debemos especificar: [3:8]\n",
    "\n",
    "# Si M no tiene ningún valor, se obtiene desde N hasta el final. \n",
    "# Si N no tiene ningún valor, es desde el principio de la colección hasta M\n",
    "s[3:len(s)]"
   ]
  },
  {
   "cell_type": "code",
   "execution_count": null,
   "metadata": {},
   "outputs": [],
   "source": [
    "# Agrega un valor a la última posición de la lista"
   ]
  },
  {
   "cell_type": "code",
   "execution_count": null,
   "metadata": {},
   "outputs": [],
   "source": [
    "# remove elimina el primer elemento que se encuentra que coincide con el valor del argumento"
   ]
  },
  {
   "cell_type": "code",
   "execution_count": 72,
   "metadata": {},
   "outputs": [
    {
     "output_type": "stream",
     "name": "stdout",
     "text": [
      "xs\n"
     ]
    }
   ],
   "source": [
    "# Accedemos a la posición 1 del elemento que está en la posición 2 de lista\n",
    "\n",
    "lista = ['1', 9.8, [8.1, 'xs']]\n",
    "print(lista[2][1])"
   ]
  },
  {
   "cell_type": "code",
   "execution_count": null,
   "metadata": {},
   "outputs": [],
   "source": [
    "l.reverse()\n"
   ]
  },
  {
   "cell_type": "code",
   "execution_count": 73,
   "metadata": {},
   "outputs": [
    {
     "output_type": "stream",
     "name": "stdout",
     "text": [
      "5\n"
     ]
    }
   ],
   "source": [
    "lista =[2, 4, 6, 8, 'o']\n",
    "print(len(lista))"
   ]
  },
  {
   "cell_type": "code",
   "execution_count": 74,
   "metadata": {},
   "outputs": [
    {
     "output_type": "stream",
     "name": "stdout",
     "text": [
      "['b', 'a']\n"
     ]
    }
   ],
   "source": [
    "lista =['a', 'b']\n",
    "lista.reverse()\n",
    "print(lista)"
   ]
  },
  {
   "cell_type": "code",
   "execution_count": 75,
   "metadata": {},
   "outputs": [
    {
     "output_type": "stream",
     "name": "stdout",
     "text": [
      "None\n"
     ]
    }
   ],
   "source": [
    "lista = ['a', 'b']\n",
    "lista = lista.reverse()\n",
    "print(lista)"
   ]
  },
  {
   "source": [
    "### Colecciones\n",
    "\n",
    "1. Listas\n",
    "2. String (colección de caracteres)\n",
    "3. Tuplas\n",
    "4. Conjuntos (Set)\n",
    "5. Diccionarios"
   ],
   "cell_type": "markdown",
   "metadata": {}
  },
  {
   "cell_type": "code",
   "execution_count": null,
   "metadata": {},
   "outputs": [],
   "source": [
    "# Listas --> Mutables\n",
    "lista = [2, 5, \"caract\", [9, \"g\", [\"j\"]]]\n",
    "print(lista[-1][-1][-1])\n",
    "lista[3][2][0]"
   ]
  },
  {
   "cell_type": "code",
   "execution_count": null,
   "metadata": {},
   "outputs": [],
   "source": [
    "# Tuplas --> Inmutables\n",
    "\n",
    "tupla = (2, 5, \"caract\", [9, \"g\", [\"j\"]])\n",
    "tupla"
   ]
  },
  {
   "cell_type": "code",
   "execution_count": null,
   "metadata": {},
   "outputs": [],
   "source": [
    "# Update listas\n",
    "lista = [2, \"6\", [\"k\", \"m\"]]\n",
    "lista[1] = 1\n",
    "lista"
   ]
  },
  {
   "cell_type": "code",
   "execution_count": null,
   "metadata": {},
   "outputs": [],
   "source": [
    "# Conjuntos\n",
    "\n",
    "conjunto = [2, 4, 6, \"a\", \"z\", \"h\", 2]\n",
    "conjunto = set(conjunto)\n",
    "conjunto"
   ]
  },
  {
   "cell_type": "code",
   "execution_count": null,
   "metadata": {},
   "outputs": [],
   "source": [
    "conjunto = [\"a\", \"z\", \"h\", 2, 2, 4, 6, True, True, False]\n",
    "conjunto = set(conjunto)\n",
    "conjunto"
   ]
  },
  {
   "cell_type": "code",
   "execution_count": null,
   "metadata": {},
   "outputs": [],
   "source": [
    "conjunto = [\"a\", \"z\", \"h\", 2, 2, 4, 6, 2.1, 2.4, 2.3, True, True, False]\n",
    "conjunto = set(conjunto)\n",
    "conjunto"
   ]
  },
  {
   "cell_type": "code",
   "execution_count": null,
   "metadata": {},
   "outputs": [],
   "source": [
    "conjunto_tupla = (\"a\", \"z\", \"h\", 2, 2, 4, 6, 2.1, 2.4, 2.3, True, True, False)\n",
    "conjunto = set(conjunto_tupla)\n",
    "conjunto"
   ]
  },
  {
   "cell_type": "code",
   "execution_count": null,
   "metadata": {},
   "outputs": [],
   "source": [
    "conjunto = {\"a\", \"z\", \"h\", 2, 2, 4, 6, 2.1, 2.4, 2.3, True, True, False}\n",
    "conjunto"
   ]
  },
  {
   "cell_type": "code",
   "execution_count": null,
   "metadata": {},
   "outputs": [],
   "source": [
    "s = \"String\"\n",
    "lista_s = list(s)\n",
    "lista_s"
   ]
  },
  {
   "cell_type": "code",
   "execution_count": null,
   "metadata": {},
   "outputs": [],
   "source": [
    "s = \"String\"\n",
    "conj = {s}\n",
    "conj"
   ]
  },
  {
   "cell_type": "code",
   "execution_count": null,
   "metadata": {},
   "outputs": [],
   "source": [
    "# Cambiar de tupla a lista, remover elemento y convertir en tupla\n"
   ]
  },
  {
   "cell_type": "code",
   "execution_count": null,
   "metadata": {},
   "outputs": [],
   "source": [
    "conjunto = {2, 5, \"h\"}\n",
    "lista_con_conjunto = [conjunto]\n",
    "lista_con_conjunto[0]"
   ]
  },
  {
   "cell_type": "code",
   "execution_count": null,
   "metadata": {},
   "outputs": [],
   "source": [
    "# No podemos acceder a elementos de un conjunto\n",
    "lista_con_conjunto[0][0]"
   ]
  },
  {
   "cell_type": "markdown",
   "metadata": {},
   "source": [
    "## 5. Condiciones: if, elif, else"
   ]
  },
  {
   "source": [
    "### Boolean"
   ],
   "cell_type": "markdown",
   "metadata": {}
  },
  {
   "cell_type": "code",
   "execution_count": null,
   "metadata": {},
   "outputs": [],
   "source": [
    "True\n",
    "False\n"
   ]
  },
  {
   "cell_type": "code",
   "execution_count": null,
   "metadata": {},
   "outputs": [],
   "source": [
    "# Operadores comparativos\n"
   ]
  },
  {
   "cell_type": "code",
   "execution_count": null,
   "metadata": {},
   "outputs": [],
   "source": [
    "# Diferente"
   ]
  },
  {
   "source": [
    "\"\"\"\n",
    "==  -> Igualdad\n",
    "!= -> Diferecia\n",
    "< -> Menor que\n",
    "> -> Mayor que\n",
    "<= -> Menor o igual\n",
    ">= -> Mayor o igual\n",
    "\"\"\"\n"
   ],
   "cell_type": "code",
   "metadata": {},
   "execution_count": null,
   "outputs": []
  },
  {
   "cell_type": "code",
   "execution_count": null,
   "metadata": {},
   "outputs": [],
   "source": [
    "# and solo devolverá True si TODOS son True\n",
    "True and False"
   ]
  },
  {
   "cell_type": "code",
   "execution_count": null,
   "metadata": {},
   "outputs": [],
   "source": [
    "# or devolverá True si UNO es True"
   ]
  },
  {
   "cell_type": "code",
   "execution_count": null,
   "metadata": {},
   "outputs": [],
   "source": [
    "# Sinónimos de False para las condiciones:\n",
    "# None\n",
    "# False\n",
    "# 0 (int or float)\n",
    "# Cualquier colección vacía --> [], \"\", (), {}\n",
    "\n",
    "# El None no actúa como un número al compararlo con otro número\n",
    "\"\"\"\n",
    "El True lo toma como un numérico 1\n",
    "\"\"\""
   ]
  },
  {
   "source": [],
   "cell_type": "markdown",
   "metadata": {}
  },
  {
   "cell_type": "markdown",
   "metadata": {},
   "source": []
  },
  {
   "cell_type": "markdown",
   "metadata": {},
   "source": [
    "# Bucles For, While"
   ]
  },
  {
   "source": [
    "# Lista alturas"
   ],
   "cell_type": "code",
   "metadata": {},
   "execution_count": null,
   "outputs": []
  },
  {
   "source": [
    "## Funciones"
   ],
   "cell_type": "markdown",
   "metadata": {}
  },
  {
   "cell_type": "code",
   "execution_count": null,
   "metadata": {},
   "outputs": [],
   "source": []
  }
 ],
 "metadata": {
  "language_info": {
   "name": "python",
   "codemirror_mode": {
    "name": "ipython",
    "version": 3
   },
   "version": "3.7.4"
  },
  "orig_nbformat": 2,
  "file_extension": ".py",
  "mimetype": "text/x-python",
  "name": "python",
  "npconvert_exporter": "python",
  "pygments_lexer": "ipython3",
  "version": 3,
  "kernelspec": {
   "name": "python374jvsc74a57bd0a0947237fadc8b5561fed326db280cc5ec46a670c87cfb3a0489cf95ff262303",
   "display_name": "Python 3.7.4 64-bit"
  },
  "metadata": {
   "interpreter": {
    "hash": "a0947237fadc8b5561fed326db280cc5ec46a670c87cfb3a0489cf95ff262303"
   }
  }
 },
 "nbformat": 4,
 "nbformat_minor": 2
}