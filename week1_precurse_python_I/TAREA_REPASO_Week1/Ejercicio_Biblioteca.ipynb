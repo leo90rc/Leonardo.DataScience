{
  "nbformat": 4,
  "nbformat_minor": 0,
  "metadata": {
    "kernelspec": {
      "name": "python374jvsc74a57bd0a0947237fadc8b5561fed326db280cc5ec46a670c87cfb3a0489cf95ff262303",
      "display_name": "Python 3.7.4 64-bit"
    },
    "language_info": {
      "codemirror_mode": {
        "name": "ipython",
        "version": 3
      },
      "file_extension": ".py",
      "mimetype": "text/x-python",
      "name": "python",
      "nbconvert_exporter": "python",
      "pygments_lexer": "ipython3",
      "version": "3.7.4"
    },
    "colab": {
      "name": "Ejercicio_Biblioteca.ipynb",
      "provenance": []
    },
    "metadata": {
      "interpreter": {
        "hash": "a0947237fadc8b5561fed326db280cc5ec46a670c87cfb3a0489cf95ff262303"
      }
    }
  },
  "cells": [
    {
      "cell_type": "markdown",
      "metadata": {
        "id": "NFpgfjj803hL"
      },
      "source": [
        "# Ejercicio La Biblioteca | Repaso Week 1\n",
        "## Precurso DSApr21 - The Bridge\n",
        "\n",
        "La versión original de esta Práctica es en español por lo que respetaremos sus orígenes y a su autora, Clara Piniella, y lo dejaremos en este idioma. Disculpen las molestias que esto pudiera ocasionarle como estudiante.\n",
        "\n",
        "# GRACIAS POR MANTENER EL IDIOMA ORIGINAL !!"
      ]
    },
    {
      "cell_type": "markdown",
      "metadata": {
        "id": "BlwdmSAp03hR"
      },
      "source": [
        "![biblioteca](https://static2.abc.es/media/familia/2018/11/02/AdobeStock_210538561-kJTF--620x349@abc.jpg)"
      ]
    },
    {
      "cell_type": "markdown",
      "metadata": {
        "id": "WQZX_JWx03hS"
      },
      "source": [
        "Es tu primer día de trabajo en la Biblioteca de tu barrio y ya tienes tu primera tarea. Te acaban de pasar una lista con libros y la lista de unidades disponibles."
      ]
    },
    {
      "cell_type": "code",
      "metadata": {
        "id": "7e9guOSq03hT"
      },
      "source": [
        "libros = [\"El mal de Corcira\", \"Un mundo feliz\", \"Lolita\", \"Crimen y castigo\", \"Python from for to pro\",\\\n",
        "        \"El señor de los anillos\", \"Cien años de soledad\", \"Harry Potter\", \"Lectura Fácil\", \"Seda\",\\\n",
        "          \"La chica de nieve\", \"El día que se perdió la cordura\", \"Data Science\"]"
      ],
      "execution_count": 34,
      "outputs": []
    },
    {
      "cell_type": "code",
      "metadata": {
        "id": "LwG6eksP03hT"
      },
      "source": [
        "biblioteca = [(\"El mal de Corcira\",4),(\"Un mundo feliz\", 2),(\"Lolita\", 5),\\\n",
        "              (\"Crimen y castigo\",2),(\"Python from for to pro\", 0),(\"El señor de los anillos\", 6),\\\n",
        "              (\"Cien años de soledad\", 5),(\"Harry Potter\", 9),(\"Lectura Fácil\", 4),(\"Seda\", 2),\\\n",
        "              (\"La chica de nieve\", 6),(\"El día que se perdió la cordura\", 3), (\"Data Science\", 0)]"
      ],
      "execution_count": 35,
      "outputs": []
    },
    {
      "cell_type": "code",
      "execution_count": 36,
      "metadata": {},
      "outputs": [
        {
          "output_type": "stream",
          "name": "stdout",
          "text": [
            "13\n13\n"
          ]
        }
      ],
      "source": [
        "print(len(libros))\n",
        "print(len(biblioteca))\n"
      ]
    },
    {
      "cell_type": "markdown",
      "metadata": {
        "id": "CCG3wEGU03hU"
      },
      "source": [
        "1. ¿Cuántos títulos diferentes tienen en esta biblioteca?"
      ]
    },
    {
      "cell_type": "code",
      "metadata": {
        "id": "rcB5BOzG03hU"
      },
      "source": [
        "#your code here\n",
        "contador = 0\n",
        "for i in range(len(biblioteca)):\n",
        "    if biblioteca[i][1] != 0:\n",
        "        contador += 1\n",
        "print(f\"La biblioteca cuenta con {contador} títulos diferentes.\")"
      ],
      "execution_count": 37,
      "outputs": [
        {
          "output_type": "stream",
          "name": "stdout",
          "text": [
            "La biblioteca cuenta con 11 títulos diferentes.\n"
          ]
        }
      ]
    },
    {
      "cell_type": "markdown",
      "metadata": {
        "id": "qhsd8xds03hU"
      },
      "source": [
        "2. ¿Cuántas letras componen la palabra *Seda*? "
      ]
    },
    {
      "cell_type": "code",
      "metadata": {
        "id": "1ZnGZlxL03hU"
      },
      "source": [
        "#your code here\n",
        "palabra = 'Seda'\n",
        "letras = len(palabra)\n",
        "print(\"La palabra {} está compuesta por {} letras.\".format(palabra, letras))"
      ],
      "execution_count": 38,
      "outputs": [
        {
          "output_type": "stream",
          "name": "stdout",
          "text": [
            "La palabra Seda está compuesta por 4 letras.\n"
          ]
        }
      ]
    },
    {
      "cell_type": "markdown",
      "metadata": {
        "id": "5qSSdo8C03hV"
      },
      "source": [
        "3. ¿Cuántas unidades hay del libro *Seda*?"
      ]
    },
    {
      "cell_type": "code",
      "metadata": {
        "id": "hQ1pdJTt03hV"
      },
      "source": [
        "#your code here\n",
        "for x in range(len(biblioteca)):\n",
        "    if biblioteca[x][0] == 'Seda':\n",
        "        print('En ésta biblioteca hay ' + str(biblioteca[x][1]) + ' unidad/es de Seda.' )\n"
      ],
      "execution_count": 39,
      "outputs": [
        {
          "output_type": "stream",
          "name": "stdout",
          "text": [
            "En ésta biblioteca hay 2 unidad/es de Seda.\n"
          ]
        }
      ]
    },
    {
      "cell_type": "code",
      "execution_count": 40,
      "metadata": {},
      "outputs": [
        {
          "output_type": "execute_result",
          "data": {
            "text/plain": [
              "range(0, 13)"
            ]
          },
          "metadata": {},
          "execution_count": 40
        }
      ],
      "source": [
        "range(len(biblioteca))"
      ]
    },
    {
      "cell_type": "code",
      "execution_count": 41,
      "metadata": {},
      "outputs": [
        {
          "output_type": "execute_result",
          "data": {
            "text/plain": [
              "'Seda'"
            ]
          },
          "metadata": {},
          "execution_count": 41
        }
      ],
      "source": [
        "biblioteca[9][0]"
      ]
    },
    {
      "cell_type": "markdown",
      "metadata": {
        "id": "ShahzYij03hV"
      },
      "source": [
        "4. Quien registraba los libros antes de ti dejo pendiente de añadir a la lista **libros** la variable **pendiente**, además debió confundir el famoso libro de George Orwell *1984*, con un número, asignándolo como un integer.\n",
        "¿Puedes cambiarlo y pasar a string este elemento y añadirlo a **libros**?"
      ]
    },
    {
      "cell_type": "code",
      "metadata": {
        "id": "ik7KP1zi03hV"
      },
      "source": [
        "pendiente = 1984"
      ],
      "execution_count": 42,
      "outputs": []
    },
    {
      "cell_type": "code",
      "metadata": {
        "id": "Fh10M9-U03hW"
      },
      "source": [
        "#your code here\n",
        "pendiente = str(pendiente)\n",
        "libros.append(pendiente)\n",
        "libros"
      ],
      "execution_count": 43,
      "outputs": [
        {
          "output_type": "execute_result",
          "data": {
            "text/plain": [
              "['El mal de Corcira',\n",
              " 'Un mundo feliz',\n",
              " 'Lolita',\n",
              " 'Crimen y castigo',\n",
              " 'Python from for to pro',\n",
              " 'El señor de los anillos',\n",
              " 'Cien años de soledad',\n",
              " 'Harry Potter',\n",
              " 'Lectura Fácil',\n",
              " 'Seda',\n",
              " 'La chica de nieve',\n",
              " 'El día que se perdió la cordura',\n",
              " 'Data Science',\n",
              " '1984']"
            ]
          },
          "metadata": {},
          "execution_count": 43
        }
      ]
    },
    {
      "cell_type": "markdown",
      "metadata": {
        "id": "ewRC_gTw03hW"
      },
      "source": [
        "5. Te piden que añadas a esta lista el nuevo libro de Los Juegos del hambre que se titula *Balada de pájaros cantores y serpientes*. Has contado las unidades y han llegado 10. \n",
        "\n",
        "    a. Crea una variable con el título del libro, que se llame **libro_1**. Añade este elemento a la lista **libros**.\n",
        "\n",
        "    b. Crea una variable con el número de unidades, que se llame **uds_1**.\n",
        "\n",
        "    c. Crea una variable que sea una lista llamada **nuevo_libro** en el que su primer elemento sea **libro_1** y el segundo **uds_1**. \n",
        "\n",
        "    d. Convierte a **nuevo_libro** a tupla.\n",
        "    (muestra qué tipo es ahora esta variable)\n",
        "\n",
        "    e. Añade **nuevo_libro** a la lista **biblioteca** "
      ]
    },
    {
      "cell_type": "code",
      "metadata": {
        "id": "4MJVSvFE03hW"
      },
      "source": [
        "#your code here\n",
        "libro_1 = 'Balada de pájaros cantores y serpientes'\n",
        "libros.append(libro_1)"
      ],
      "execution_count": 44,
      "outputs": []
    },
    {
      "cell_type": "code",
      "execution_count": 45,
      "metadata": {},
      "outputs": [],
      "source": [
        "uds_1 = 10"
      ]
    },
    {
      "cell_type": "code",
      "execution_count": 46,
      "metadata": {},
      "outputs": [],
      "source": [
        "nuevo_libro = [libro_1, uds_1]"
      ]
    },
    {
      "cell_type": "code",
      "execution_count": 47,
      "metadata": {},
      "outputs": [
        {
          "output_type": "stream",
          "name": "stdout",
          "text": [
            "<class 'tuple'>\n"
          ]
        }
      ],
      "source": [
        "nuevo_libro = tuple(nuevo_libro)\n",
        "print(type(nuevo_libro))"
      ]
    },
    {
      "cell_type": "code",
      "execution_count": 48,
      "metadata": {},
      "outputs": [],
      "source": [
        "biblioteca.append(nuevo_libro)"
      ]
    },
    {
      "cell_type": "code",
      "execution_count": 49,
      "metadata": {},
      "outputs": [
        {
          "output_type": "execute_result",
          "data": {
            "text/plain": [
              "[('El mal de Corcira', 4),\n",
              " ('Un mundo feliz', 2),\n",
              " ('Lolita', 5),\n",
              " ('Crimen y castigo', 2),\n",
              " ('Python from for to pro', 0),\n",
              " ('El señor de los anillos', 6),\n",
              " ('Cien años de soledad', 5),\n",
              " ('Harry Potter', 9),\n",
              " ('Lectura Fácil', 4),\n",
              " ('Seda', 2),\n",
              " ('La chica de nieve', 6),\n",
              " ('El día que se perdió la cordura', 3),\n",
              " ('Data Science', 0),\n",
              " ('Balada de pájaros cantores y serpientes', 10)]"
            ]
          },
          "metadata": {},
          "execution_count": 49
        }
      ],
      "source": [
        "biblioteca"
      ]
    },
    {
      "cell_type": "markdown",
      "metadata": {
        "id": "QdT3lGpA03hX"
      },
      "source": [
        "6. Acaban de traer una unidad más de *El mal de Corcira*, añade una unidad más al segundo elemento del primer elemento de la lista **biblioteca**."
      ]
    },
    {
      "cell_type": "code",
      "metadata": {
        "id": "8-nlyGkN03hX",
        "outputId": "6823404b-ff06-4a50-b477-5c5cbb33a422"
      },
      "source": [
        "biblioteca[0]"
      ],
      "execution_count": 50,
      "outputs": [
        {
          "output_type": "execute_result",
          "data": {
            "text/plain": [
              "('El mal de Corcira', 4)"
            ]
          },
          "metadata": {},
          "execution_count": 50
        }
      ]
    },
    {
      "cell_type": "code",
      "metadata": {
        "id": "ASOzq1Kt03hY",
        "outputId": "9339e193-add1-4550-ddb4-faaa708d1cd6"
      },
      "source": [
        "biblioteca[0][1]"
      ],
      "execution_count": 51,
      "outputs": [
        {
          "output_type": "execute_result",
          "data": {
            "text/plain": [
              "4"
            ]
          },
          "metadata": {},
          "execution_count": 51
        }
      ]
    },
    {
      "cell_type": "code",
      "metadata": {
        "id": "tEcs9_m003hY",
        "outputId": "9601a120-cc0a-4a50-aa80-744c97034afa"
      },
      "source": [
        "### biblioteca[0][1] = biblioteca[0][1] + 1"
      ],
      "execution_count": 52,
      "outputs": []
    },
    {
      "cell_type": "markdown",
      "metadata": {
        "id": "wf1NDmbQ03hY"
      },
      "source": [
        "¿Cómo se te ocurre que podrías alterar este dato?"
      ]
    },
    {
      "cell_type": "code",
      "metadata": {
        "id": "_E30cjRY03hY"
      },
      "source": [
        "#your comment here\n",
        "# Buscaría si el primer elemento de alguno de los elementos de la lista \"biblioteca\" coincide con el libro \"El mal de Corcira\", si es asi, tomaría ese elemento de la lista (la tupla completa), la convierto en lista, aumento su segundo elemento en 1 y lo convierto nuevamente en tupla.\n",
        "        \n",
        "        "
      ],
      "execution_count": 53,
      "outputs": []
    },
    {
      "cell_type": "markdown",
      "metadata": {
        "id": "CtEnc6tA03hZ"
      },
      "source": [
        "Convierte la tupla en una lista para poder modificar el segundo elemento y añadir esta unidad. Asigna la tupla convertida a lista a la variable **tup_to_list** haz los cambios, agrega la unidad y vuelve a añadir la lista ya convertida en tupla a la lista **biblioteca**."
      ]
    },
    {
      "cell_type": "code",
      "metadata": {
        "id": "it0LtiOn03hZ"
      },
      "source": [
        "#your code here\n",
        "for i in range(len(biblioteca)):\n",
        "    if biblioteca[i][0] == 'El mal de Corcira':\n",
        "        tup_to_list = list(biblioteca[i])\n",
        "        tup_to_list[1] += 1\n",
        "        biblioteca[i] = tuple(tup_to_list)"
      ],
      "execution_count": 54,
      "outputs": []
    },
    {
      "cell_type": "code",
      "execution_count": 55,
      "metadata": {},
      "outputs": [
        {
          "output_type": "execute_result",
          "data": {
            "text/plain": [
              "[('El mal de Corcira', 5),\n",
              " ('Un mundo feliz', 2),\n",
              " ('Lolita', 5),\n",
              " ('Crimen y castigo', 2),\n",
              " ('Python from for to pro', 0),\n",
              " ('El señor de los anillos', 6),\n",
              " ('Cien años de soledad', 5),\n",
              " ('Harry Potter', 9),\n",
              " ('Lectura Fácil', 4),\n",
              " ('Seda', 2),\n",
              " ('La chica de nieve', 6),\n",
              " ('El día que se perdió la cordura', 3),\n",
              " ('Data Science', 0),\n",
              " ('Balada de pájaros cantores y serpientes', 10)]"
            ]
          },
          "metadata": {},
          "execution_count": 55
        }
      ],
      "source": [
        "biblioteca"
      ]
    },
    {
      "cell_type": "markdown",
      "metadata": {
        "id": "CS8x2BoK03hZ"
      },
      "source": [
        "Ahora, tenemos dos tuplas con el libro *El mal de Corcira*, pero esto no es lo que queremos. Elimina el primer elemento de la lista **biblioteca**.\n",
        "\n",
        "Hint: https://www.programiz.com/python-programming/methods/list/remove"
      ]
    },
    {
      "cell_type": "code",
      "metadata": {
        "id": "nWkseZ4M03hZ"
      },
      "source": [
        "#your code here\n",
        "# No cuento con 2 tuplas con el libro \"El mal de Corcira\", ya que cambié directamente el elemento completo por el nuevo con la nueva unidad adicionada. De todas maneras, hago el ejercicio eliminando el primer elemento de la lista y lo dejo como comentario para que no modifique la variable para el resto de la tarea."
      ],
      "execution_count": 56,
      "outputs": []
    },
    {
      "cell_type": "code",
      "execution_count": 57,
      "metadata": {},
      "outputs": [
        {
          "output_type": "execute_result",
          "data": {
            "text/plain": [
              "'\\nbiblioteca.pop(0)\\nbiblioteca\\n'"
            ]
          },
          "metadata": {},
          "execution_count": 57
        }
      ],
      "source": [
        "'''\n",
        "biblioteca.pop(0)\n",
        "biblioteca\n",
        "'''"
      ]
    },
    {
      "cell_type": "markdown",
      "metadata": {
        "id": "pjtr60kW03ha"
      },
      "source": [
        "7. Te han pedido que localices los títulos de los libros de los que no disponen de unidades. Es decir, su segundo elemento, es igual a 0. "
      ]
    },
    {
      "cell_type": "code",
      "metadata": {
        "id": "_6CPPHFL03ha"
      },
      "source": [
        "#your code here\n",
        "for i in range(len(biblioteca)):\n",
        "    if biblioteca[i][1] == 0:\n",
        "        print(biblioteca[i][0])"
      ],
      "execution_count": 58,
      "outputs": [
        {
          "output_type": "stream",
          "name": "stdout",
          "text": [
            "Python from for to pro\nData Science\n"
          ]
        }
      ]
    },
    {
      "cell_type": "markdown",
      "metadata": {
        "id": "6ir5rMuf03ha"
      },
      "source": [
        "8. ¿Cómo meterías estos dos elementos en una lista llamada **missing**?"
      ]
    },
    {
      "cell_type": "code",
      "metadata": {
        "id": "ao7jKmFq03ha"
      },
      "source": [
        "#your code here\n",
        "missing = []\n",
        "for i in range(len(biblioteca)):\n",
        "    if biblioteca[i][1] == 0:\n",
        "        missing.append(biblioteca[i][0])\n",
        "print(missing)"
      ],
      "execution_count": 59,
      "outputs": [
        {
          "output_type": "stream",
          "name": "stdout",
          "text": [
            "['Python from for to pro', 'Data Science']\n"
          ]
        }
      ]
    },
    {
      "cell_type": "markdown",
      "metadata": {
        "id": "itJEPhBn03ha"
      },
      "source": [
        "9. Como en cualquier jornada de trabajo, recibes miles de email, hay uno que no habías visto pero en el que tu jefa te pide hacer un pequeño programita (función) que recoja el título de un libro y la cantidad de libros, este último parámetro por defecto será 1, chequée si tenemos ese título en la lista `libros` y si lo tenemos, sume esa cantidad a su cantidad en la lista `biblioteca` y si no, añada el título a `libros` y en una tupla nueva con la cantidad correspondiente a la lista `biblioteca`. "
      ]
    },
    {
      "cell_type": "code",
      "execution_count": 60,
      "metadata": {},
      "outputs": [],
      "source": [
        "# Para comenzar este ejercicio, añadiré el libro \"1984\" a la lista biblioteca (el cual de momento lo tenemos únicamente en la lista libros). Por defecto, le prondré que no contamos con ninguna unidad del mismo."
      ]
    },
    {
      "cell_type": "code",
      "execution_count": 61,
      "metadata": {},
      "outputs": [
        {
          "output_type": "stream",
          "name": "stdout",
          "text": [
            "Tamaño de lista \"libros\": 15\nTamaño de lista \"biblioteca\": 15\n"
          ]
        },
        {
          "output_type": "execute_result",
          "data": {
            "text/plain": [
              "[('El mal de Corcira', 5),\n",
              " ('Un mundo feliz', 2),\n",
              " ('Lolita', 5),\n",
              " ('Crimen y castigo', 2),\n",
              " ('Python from for to pro', 0),\n",
              " ('El señor de los anillos', 6),\n",
              " ('Cien años de soledad', 5),\n",
              " ('Harry Potter', 9),\n",
              " ('Lectura Fácil', 4),\n",
              " ('Seda', 2),\n",
              " ('La chica de nieve', 6),\n",
              " ('El día que se perdió la cordura', 3),\n",
              " ('Data Science', 0),\n",
              " ('Balada de pájaros cantores y serpientes', 10),\n",
              " ('1984', 0)]"
            ]
          },
          "metadata": {},
          "execution_count": 61
        }
      ],
      "source": [
        "biblioteca.append(('1984', 0))\n",
        "biblioteca\n",
        "\n",
        "print('Tamaño de lista \"libros\": ' + str(len(libros)))\n",
        "print('Tamaño de lista \"biblioteca\": ' + str(len(biblioteca)))\n",
        "biblioteca"
      ]
    },
    {
      "cell_type": "code",
      "metadata": {
        "id": "V4qoMMNx03hb"
      },
      "source": [
        "#your code here\n",
        "def agregar_libro(parametro1, parametro2):\n",
        "    if parametro1 not in libros:\n",
        "        libros.append(parametro1)\n",
        "        if parametro2 == '':\n",
        "            biblioteca.append((parametro1, 1))\n",
        "        else:\n",
        "            biblioteca.append((parametro1, int(parametro2)))\n",
        "    else:\n",
        "        for i, tupla_libro in enumerate(biblioteca):\n",
        "            if parametro1 == tupla_libro[0]:\n",
        "                lista_libro = list(tupla_libro)\n",
        "                if parametro2 == '':\n",
        "                    lista_libro[1] = lista_libro[1] + 1\n",
        "                    biblioteca[i]= tuple(lista_libro)\n",
        "                else:\n",
        "                    lista_libro[1] = lista_libro[1] + int(parametro2)\n",
        "                    biblioteca[i]= tuple(lista_libro)\n",
        "    print(libros)\n",
        "    print('-----------------------------------------------------------------------------------')\n",
        "    print(biblioteca)\n",
        "\n",
        "                \n"
      ],
      "execution_count": 62,
      "outputs": []
    },
    {
      "cell_type": "code",
      "execution_count": 63,
      "metadata": {},
      "outputs": [
        {
          "output_type": "stream",
          "name": "stdout",
          "text": [
            "['El mal de Corcira', 'Un mundo feliz', 'Lolita', 'Crimen y castigo', 'Python from for to pro', 'El señor de los anillos', 'Cien años de soledad', 'Harry Potter', 'Lectura Fácil', 'Seda', 'La chica de nieve', 'El día que se perdió la cordura', 'Data Science', '1984', 'Balada de pájaros cantores y serpientes', 'kajsdhkasjd']\n-----------------------------------------------------------------------------------\n[('El mal de Corcira', 5), ('Un mundo feliz', 2), ('Lolita', 5), ('Crimen y castigo', 2), ('Python from for to pro', 0), ('El señor de los anillos', 6), ('Cien años de soledad', 5), ('Harry Potter', 9), ('Lectura Fácil', 4), ('Seda', 2), ('La chica de nieve', 6), ('El día que se perdió la cordura', 3), ('Data Science', 0), ('Balada de pájaros cantores y serpientes', 10), ('1984', 0), ('kajsdhkasjd', 1)]\n"
          ]
        }
      ],
      "source": [
        "titulo = input('Ingrese el nombre del libro a agregar:')\n",
        "cantidad = input('Ingrese la cantidad de unidades de dicho libro (si es uno solo, puede presionar intro):')\n",
        "\n",
        "agregar_libro(parametro1=titulo, parametro2=cantidad)"
      ]
    },
    {
      "cell_type": "code",
      "execution_count": 68,
      "metadata": {},
      "outputs": [
        {
          "output_type": "stream",
          "name": "stdout",
          "text": [
            "['El mal de Corcira', 'Un mundo feliz', 'Lolita', 'Crimen y castigo', 'Python from for to pro', 'El señor de los anillos', 'Cien años de soledad', 'Harry Potter', 'Lectura Fácil', 'Seda', 'La chica de nieve', 'El día que se perdió la cordura', 'Data Science', '1984', 'Balada de pájaros cantores y serpientes', 'kajsdhkasjd']\n----------\n('El mal de Corcira', 5)\n\n('Un mundo feliz', 2)\n\n('Lolita', 5)\n\n('Crimen y castigo', 2)\n\n('Python from for to pro', 0)\n\n('El señor de los anillos', 6)\n\n('Cien años de soledad', 5)\n\n('Harry Potter', 9)\n\n('Lectura Fácil', 4)\n\n('Seda', 2)\n\n('La chica de nieve', 6)\n\n('El día que se perdió la cordura', 3)\n\n('Data Science', 0)\n\n('Balada de pájaros cantores y serpientes', 10)\n\n('1984', 0)\n\n('kajsdhkasjd', 1)\n\n"
          ]
        }
      ],
      "source": [
        "print(libros)\n",
        "print('----------')\n",
        "for i in biblioteca:\n",
        "    print(str(i) + '\\n')"
      ]
    },
    {
      "cell_type": "code",
      "execution_count": null,
      "metadata": {},
      "outputs": [],
      "source": [
        "biblioteca"
      ]
    },
    {
      "cell_type": "code",
      "execution_count": 73,
      "metadata": {},
      "outputs": [
        {
          "output_type": "stream",
          "name": "stdout",
          "text": [
            "8\n9\n5\n"
          ]
        }
      ],
      "source": [
        "asd = [('perro', 8), ('gato', 9),('oso', 5, 'valor extra')]\n",
        "for i,valor in enumerate(asd):\n",
        "    print(valor[1])"
      ]
    },
    {
      "cell_type": "code",
      "execution_count": 71,
      "metadata": {},
      "outputs": [
        {
          "output_type": "stream",
          "name": "stdout",
          "text": [
            "[('perro', 8), ('gato', 9), ('oso', 5)]\n"
          ]
        }
      ],
      "source": [
        "print(asd)"
      ]
    },
    {
      "cell_type": "markdown",
      "metadata": {
        "id": "5mq7y4h803hb"
      },
      "source": [
        "Pruébalo añadiendo el título de \"Guía del Autopista Galáctico\", cantidad 42."
      ]
    },
    {
      "cell_type": "code",
      "metadata": {
        "id": "Vhoy0UJH03hb"
      },
      "source": [
        "#your code here\n",
        "titulo_ejercicio = 'Guía del Autopista Galáctico'\n",
        "cantidad_ejercicio = 42\n",
        "\n",
        "agregar_libro(parametro1=titulo_ejercicio, parametro2=cantidad_ejercicio)"
      ],
      "execution_count": 32,
      "outputs": [
        {
          "output_type": "stream",
          "name": "stdout",
          "text": [
            "['El mal de Corcira', 'Un mundo feliz', 'Lolita', 'Crimen y castigo', 'Python from for to pro', 'El señor de los anillos', 'Cien años de soledad', 'Harry Potter', 'Lectura Fácil', 'Seda', 'La chica de nieve', 'El día que se perdió la cordura', 'Data Science', '1984', 'Balada de pájaros cantores y serpientes', 'erarasd', 'Guía del Autopista Galáctico']\n-----------------------------------------------------------------------------------\n[('El mal de Corcira', 5), ('Un mundo feliz', 2), ('Lolita', 5), ('Crimen y castigo', 2), ('Python from for to pro', 0), ('El señor de los anillos', 6), ('Cien años de soledad', 5), ('Harry Potter', 9), ('Lectura Fácil', 4), ('Seda', 2), ('La chica de nieve', 6), ('El día que se perdió la cordura', 3), ('Data Science', 0), ('Balada de pájaros cantores y serpientes', 10), ('1984', 0), ('erarasd', 1), ('Guía del Autopista Galáctico', 42)]\n"
          ]
        }
      ]
    },
    {
      "cell_type": "markdown",
      "metadata": {
        "id": "0Mdvz_g903hb"
      },
      "source": [
        "### Bonus Track\n",
        "\n",
        "10. ¿Cuál es el libro con más unidades? ¿Cuál es la media de libros por título?"
      ]
    },
    {
      "cell_type": "code",
      "metadata": {
        "id": "eyK4zPH-03hb"
      },
      "source": [
        "#your code here\n",
        "lista_unidades = []\n",
        "for w in range(len(biblioteca)):\n",
        "    lista_unidades.append(biblioteca[w][1])\n",
        "lista_unidades\n",
        "mas_unidades = max(lista_unidades)\n",
        "posicion_maximo = lista_unidades.index(max(lista_unidades))\n",
        "print('El libro con más unidades es ' + biblioteca[posicion_maximo][0] + ' (' + str(mas_unidades) + ' unidades).')\n",
        "print('-----------------------------------------------------------------------')\n",
        "suma = 0\n",
        "for z in range(len(biblioteca)):\n",
        "    suma = suma + (biblioteca[z][1])\n",
        "media = suma / len(biblioteca)\n",
        "media_3decimales = round(media, 3)\n",
        "print('La media de libros por título es ' + str(media_3decimales))\n"
      ],
      "execution_count": 33,
      "outputs": [
        {
          "output_type": "stream",
          "name": "stdout",
          "text": [
            "El libro con más unidades es Guía del Autopista Galáctico (42 unidades).\n-----------------------------------------------------------------------\nLa media de libros por título es 6.0\n"
          ]
        }
      ]
    },
    {
      "cell_type": "markdown",
      "metadata": {
        "id": "idUapVMT03hc"
      },
      "source": [
        "11. ¿Cuál tiene el título más largo y cuál el más corto?"
      ]
    },
    {
      "cell_type": "code",
      "metadata": {
        "id": "ZA0d3sIM03hc"
      },
      "source": [
        "#your code here                                      # DEBERIA PONER CONDICIONES POR SI HAY MAS DE UN LIBRO DE IGUAL LONGITUD (como los                                                          mas cortos) \n",
        "lista_largos = []\n",
        "for w in range(len(libros)):\n",
        "    lista_largos.append(len(libros[w]))\n",
        "posicion_largo = lista_largos.index(max(lista_largos))\n",
        "print('El título más largo es: ' + libros[posicion_largo] + '.')\n"
      ],
      "execution_count": 34,
      "outputs": [
        {
          "output_type": "stream",
          "name": "stdout",
          "text": [
            "El título más largo es: Balada de pájaros cantores y serpientes.\n"
          ]
        }
      ]
    },
    {
      "cell_type": "code",
      "execution_count": null,
      "metadata": {},
      "outputs": [],
      "source": []
    },
    {
      "cell_type": "code",
      "execution_count": null,
      "metadata": {},
      "outputs": [],
      "source": []
    }
  ]
}