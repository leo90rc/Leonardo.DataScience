{
 "cells": [
  {
   "cell_type": "markdown",
   "metadata": {},
   "source": [
    "A partir del archivo food_100, se pide:\n",
    "\n",
    "1. Limpiar el archivo borrando las columnas Unnamed.\n",
    "2. ¿Qué porcentaje de valores NaN hay en cada columna?\n",
    "3. ¿Tendría algún sentido clasificar el nombre de los alimentos a partir del top5 de columnas numéricas con menos valores NaN?"
   ]
  },
  {
   "cell_type": "code",
   "execution_count": 29,
   "metadata": {},
   "outputs": [],
   "source": [
    "import pandas as pd\n",
    "import seaborn as sns\n",
    "import re"
   ]
  },
  {
   "cell_type": "code",
   "execution_count": 2,
   "metadata": {},
   "outputs": [
    {
     "data": {
      "text/html": [
       "<div>\n",
       "<style scoped>\n",
       "    .dataframe tbody tr th:only-of-type {\n",
       "        vertical-align: middle;\n",
       "    }\n",
       "\n",
       "    .dataframe tbody tr th {\n",
       "        vertical-align: top;\n",
       "    }\n",
       "\n",
       "    .dataframe thead th {\n",
       "        text-align: right;\n",
       "    }\n",
       "</style>\n",
       "<table border=\"1\" class=\"dataframe\">\n",
       "  <thead>\n",
       "    <tr style=\"text-align: right;\">\n",
       "      <th></th>\n",
       "      <th>Unnamed: 0</th>\n",
       "      <th>code</th>\n",
       "      <th>url</th>\n",
       "      <th>creator</th>\n",
       "      <th>created_t</th>\n",
       "      <th>created_datetime</th>\n",
       "      <th>last_modified_t</th>\n",
       "      <th>last_modified_datetime</th>\n",
       "      <th>product_name</th>\n",
       "      <th>generic_name</th>\n",
       "      <th>...</th>\n",
       "      <th>fruits-vegetables-nuts_100g</th>\n",
       "      <th>fruits-vegetables-nuts-estimate_100g</th>\n",
       "      <th>collagen-meat-protein-ratio_100g</th>\n",
       "      <th>cocoa_100g</th>\n",
       "      <th>chlorophyl_100g</th>\n",
       "      <th>carbon-footprint_100g</th>\n",
       "      <th>nutrition-score-fr_100g</th>\n",
       "      <th>nutrition-score-uk_100g</th>\n",
       "      <th>glycemic-index_100g</th>\n",
       "      <th>water-hardness_100g</th>\n",
       "    </tr>\n",
       "  </thead>\n",
       "  <tbody>\n",
       "    <tr>\n",
       "      <th>0</th>\n",
       "      <td>0</td>\n",
       "      <td>3087</td>\n",
       "      <td>http://world-en.openfoodfacts.org/product/0000...</td>\n",
       "      <td>openfoodfacts-contributors</td>\n",
       "      <td>1474103866</td>\n",
       "      <td>2016-09-17T09:17:46Z</td>\n",
       "      <td>1474103893</td>\n",
       "      <td>2016-09-17T09:18:13Z</td>\n",
       "      <td>Farine de blé noir</td>\n",
       "      <td>NaN</td>\n",
       "      <td>...</td>\n",
       "      <td>NaN</td>\n",
       "      <td>NaN</td>\n",
       "      <td>NaN</td>\n",
       "      <td>NaN</td>\n",
       "      <td>NaN</td>\n",
       "      <td>NaN</td>\n",
       "      <td>NaN</td>\n",
       "      <td>NaN</td>\n",
       "      <td>NaN</td>\n",
       "      <td>NaN</td>\n",
       "    </tr>\n",
       "    <tr>\n",
       "      <th>1</th>\n",
       "      <td>1</td>\n",
       "      <td>4530</td>\n",
       "      <td>http://world-en.openfoodfacts.org/product/0000...</td>\n",
       "      <td>usda-ndb-import</td>\n",
       "      <td>1489069957</td>\n",
       "      <td>2017-03-09T14:32:37Z</td>\n",
       "      <td>1489069957</td>\n",
       "      <td>2017-03-09T14:32:37Z</td>\n",
       "      <td>Banana Chips Sweetened (Whole)</td>\n",
       "      <td>NaN</td>\n",
       "      <td>...</td>\n",
       "      <td>NaN</td>\n",
       "      <td>NaN</td>\n",
       "      <td>NaN</td>\n",
       "      <td>NaN</td>\n",
       "      <td>NaN</td>\n",
       "      <td>NaN</td>\n",
       "      <td>14.0</td>\n",
       "      <td>14.0</td>\n",
       "      <td>NaN</td>\n",
       "      <td>NaN</td>\n",
       "    </tr>\n",
       "    <tr>\n",
       "      <th>2</th>\n",
       "      <td>2</td>\n",
       "      <td>4559</td>\n",
       "      <td>http://world-en.openfoodfacts.org/product/0000...</td>\n",
       "      <td>usda-ndb-import</td>\n",
       "      <td>1489069957</td>\n",
       "      <td>2017-03-09T14:32:37Z</td>\n",
       "      <td>1489069957</td>\n",
       "      <td>2017-03-09T14:32:37Z</td>\n",
       "      <td>Peanuts</td>\n",
       "      <td>NaN</td>\n",
       "      <td>...</td>\n",
       "      <td>NaN</td>\n",
       "      <td>NaN</td>\n",
       "      <td>NaN</td>\n",
       "      <td>NaN</td>\n",
       "      <td>NaN</td>\n",
       "      <td>NaN</td>\n",
       "      <td>0.0</td>\n",
       "      <td>0.0</td>\n",
       "      <td>NaN</td>\n",
       "      <td>NaN</td>\n",
       "    </tr>\n",
       "    <tr>\n",
       "      <th>3</th>\n",
       "      <td>3</td>\n",
       "      <td>16087</td>\n",
       "      <td>http://world-en.openfoodfacts.org/product/0000...</td>\n",
       "      <td>usda-ndb-import</td>\n",
       "      <td>1489055731</td>\n",
       "      <td>2017-03-09T10:35:31Z</td>\n",
       "      <td>1489055731</td>\n",
       "      <td>2017-03-09T10:35:31Z</td>\n",
       "      <td>Organic Salted Nut Mix</td>\n",
       "      <td>NaN</td>\n",
       "      <td>...</td>\n",
       "      <td>NaN</td>\n",
       "      <td>NaN</td>\n",
       "      <td>NaN</td>\n",
       "      <td>NaN</td>\n",
       "      <td>NaN</td>\n",
       "      <td>NaN</td>\n",
       "      <td>12.0</td>\n",
       "      <td>12.0</td>\n",
       "      <td>NaN</td>\n",
       "      <td>NaN</td>\n",
       "    </tr>\n",
       "    <tr>\n",
       "      <th>4</th>\n",
       "      <td>4</td>\n",
       "      <td>16094</td>\n",
       "      <td>http://world-en.openfoodfacts.org/product/0000...</td>\n",
       "      <td>usda-ndb-import</td>\n",
       "      <td>1489055653</td>\n",
       "      <td>2017-03-09T10:34:13Z</td>\n",
       "      <td>1489055653</td>\n",
       "      <td>2017-03-09T10:34:13Z</td>\n",
       "      <td>Organic Polenta</td>\n",
       "      <td>NaN</td>\n",
       "      <td>...</td>\n",
       "      <td>NaN</td>\n",
       "      <td>NaN</td>\n",
       "      <td>NaN</td>\n",
       "      <td>NaN</td>\n",
       "      <td>NaN</td>\n",
       "      <td>NaN</td>\n",
       "      <td>NaN</td>\n",
       "      <td>NaN</td>\n",
       "      <td>NaN</td>\n",
       "      <td>NaN</td>\n",
       "    </tr>\n",
       "    <tr>\n",
       "      <th>...</th>\n",
       "      <td>...</td>\n",
       "      <td>...</td>\n",
       "      <td>...</td>\n",
       "      <td>...</td>\n",
       "      <td>...</td>\n",
       "      <td>...</td>\n",
       "      <td>...</td>\n",
       "      <td>...</td>\n",
       "      <td>...</td>\n",
       "      <td>...</td>\n",
       "      <td>...</td>\n",
       "      <td>...</td>\n",
       "      <td>...</td>\n",
       "      <td>...</td>\n",
       "      <td>...</td>\n",
       "      <td>...</td>\n",
       "      <td>...</td>\n",
       "      <td>...</td>\n",
       "      <td>...</td>\n",
       "      <td>...</td>\n",
       "      <td>...</td>\n",
       "    </tr>\n",
       "    <tr>\n",
       "      <th>95</th>\n",
       "      <td>95</td>\n",
       "      <td>34715</td>\n",
       "      <td>http://world-en.openfoodfacts.org/product/0000...</td>\n",
       "      <td>usda-ndb-import</td>\n",
       "      <td>1489055715</td>\n",
       "      <td>2017-03-09T10:35:15Z</td>\n",
       "      <td>1489055715</td>\n",
       "      <td>2017-03-09T10:35:15Z</td>\n",
       "      <td>Organic Pecan Halves</td>\n",
       "      <td>NaN</td>\n",
       "      <td>...</td>\n",
       "      <td>NaN</td>\n",
       "      <td>NaN</td>\n",
       "      <td>NaN</td>\n",
       "      <td>NaN</td>\n",
       "      <td>NaN</td>\n",
       "      <td>NaN</td>\n",
       "      <td>NaN</td>\n",
       "      <td>NaN</td>\n",
       "      <td>NaN</td>\n",
       "      <td>NaN</td>\n",
       "    </tr>\n",
       "    <tr>\n",
       "      <th>96</th>\n",
       "      <td>96</td>\n",
       "      <td>34784</td>\n",
       "      <td>http://world-en.openfoodfacts.org/product/0000...</td>\n",
       "      <td>usda-ndb-import</td>\n",
       "      <td>1489138485</td>\n",
       "      <td>2017-03-10T09:34:45Z</td>\n",
       "      <td>1489138485</td>\n",
       "      <td>2017-03-10T09:34:45Z</td>\n",
       "      <td>Unsalted Dry Roasted Almonds</td>\n",
       "      <td>NaN</td>\n",
       "      <td>...</td>\n",
       "      <td>NaN</td>\n",
       "      <td>NaN</td>\n",
       "      <td>NaN</td>\n",
       "      <td>NaN</td>\n",
       "      <td>NaN</td>\n",
       "      <td>NaN</td>\n",
       "      <td>NaN</td>\n",
       "      <td>NaN</td>\n",
       "      <td>NaN</td>\n",
       "      <td>NaN</td>\n",
       "    </tr>\n",
       "    <tr>\n",
       "      <th>97</th>\n",
       "      <td>97</td>\n",
       "      <td>34791</td>\n",
       "      <td>http://world-en.openfoodfacts.org/product/0000...</td>\n",
       "      <td>usda-ndb-import</td>\n",
       "      <td>1489055720</td>\n",
       "      <td>2017-03-09T10:35:20Z</td>\n",
       "      <td>1489055720</td>\n",
       "      <td>2017-03-09T10:35:20Z</td>\n",
       "      <td>Organic Raw Pumpkin Seeds</td>\n",
       "      <td>NaN</td>\n",
       "      <td>...</td>\n",
       "      <td>NaN</td>\n",
       "      <td>NaN</td>\n",
       "      <td>NaN</td>\n",
       "      <td>NaN</td>\n",
       "      <td>NaN</td>\n",
       "      <td>NaN</td>\n",
       "      <td>12.0</td>\n",
       "      <td>12.0</td>\n",
       "      <td>NaN</td>\n",
       "      <td>NaN</td>\n",
       "    </tr>\n",
       "    <tr>\n",
       "      <th>98</th>\n",
       "      <td>98</td>\n",
       "      <td>35071</td>\n",
       "      <td>http://world-en.openfoodfacts.org/product/0000...</td>\n",
       "      <td>usda-ndb-import</td>\n",
       "      <td>1489138484</td>\n",
       "      <td>2017-03-10T09:34:44Z</td>\n",
       "      <td>1489138484</td>\n",
       "      <td>2017-03-10T09:34:44Z</td>\n",
       "      <td>Organic Extra Virgin Olive Oil</td>\n",
       "      <td>NaN</td>\n",
       "      <td>...</td>\n",
       "      <td>NaN</td>\n",
       "      <td>NaN</td>\n",
       "      <td>NaN</td>\n",
       "      <td>NaN</td>\n",
       "      <td>NaN</td>\n",
       "      <td>NaN</td>\n",
       "      <td>NaN</td>\n",
       "      <td>NaN</td>\n",
       "      <td>NaN</td>\n",
       "      <td>NaN</td>\n",
       "    </tr>\n",
       "    <tr>\n",
       "      <th>99</th>\n",
       "      <td>99</td>\n",
       "      <td>35170</td>\n",
       "      <td>http://world-en.openfoodfacts.org/product/0000...</td>\n",
       "      <td>usda-ndb-import</td>\n",
       "      <td>1489138488</td>\n",
       "      <td>2017-03-10T09:34:48Z</td>\n",
       "      <td>1489138488</td>\n",
       "      <td>2017-03-10T09:34:48Z</td>\n",
       "      <td>Liquid Aminos</td>\n",
       "      <td>NaN</td>\n",
       "      <td>...</td>\n",
       "      <td>NaN</td>\n",
       "      <td>NaN</td>\n",
       "      <td>NaN</td>\n",
       "      <td>NaN</td>\n",
       "      <td>NaN</td>\n",
       "      <td>NaN</td>\n",
       "      <td>NaN</td>\n",
       "      <td>NaN</td>\n",
       "      <td>NaN</td>\n",
       "      <td>NaN</td>\n",
       "    </tr>\n",
       "  </tbody>\n",
       "</table>\n",
       "<p>100 rows × 164 columns</p>\n",
       "</div>"
      ],
      "text/plain": [
       "    Unnamed: 0   code                                                url  \\\n",
       "0            0   3087  http://world-en.openfoodfacts.org/product/0000...   \n",
       "1            1   4530  http://world-en.openfoodfacts.org/product/0000...   \n",
       "2            2   4559  http://world-en.openfoodfacts.org/product/0000...   \n",
       "3            3  16087  http://world-en.openfoodfacts.org/product/0000...   \n",
       "4            4  16094  http://world-en.openfoodfacts.org/product/0000...   \n",
       "..         ...    ...                                                ...   \n",
       "95          95  34715  http://world-en.openfoodfacts.org/product/0000...   \n",
       "96          96  34784  http://world-en.openfoodfacts.org/product/0000...   \n",
       "97          97  34791  http://world-en.openfoodfacts.org/product/0000...   \n",
       "98          98  35071  http://world-en.openfoodfacts.org/product/0000...   \n",
       "99          99  35170  http://world-en.openfoodfacts.org/product/0000...   \n",
       "\n",
       "                       creator   created_t      created_datetime  \\\n",
       "0   openfoodfacts-contributors  1474103866  2016-09-17T09:17:46Z   \n",
       "1              usda-ndb-import  1489069957  2017-03-09T14:32:37Z   \n",
       "2              usda-ndb-import  1489069957  2017-03-09T14:32:37Z   \n",
       "3              usda-ndb-import  1489055731  2017-03-09T10:35:31Z   \n",
       "4              usda-ndb-import  1489055653  2017-03-09T10:34:13Z   \n",
       "..                         ...         ...                   ...   \n",
       "95             usda-ndb-import  1489055715  2017-03-09T10:35:15Z   \n",
       "96             usda-ndb-import  1489138485  2017-03-10T09:34:45Z   \n",
       "97             usda-ndb-import  1489055720  2017-03-09T10:35:20Z   \n",
       "98             usda-ndb-import  1489138484  2017-03-10T09:34:44Z   \n",
       "99             usda-ndb-import  1489138488  2017-03-10T09:34:48Z   \n",
       "\n",
       "    last_modified_t last_modified_datetime                    product_name  \\\n",
       "0        1474103893   2016-09-17T09:18:13Z              Farine de blé noir   \n",
       "1        1489069957   2017-03-09T14:32:37Z  Banana Chips Sweetened (Whole)   \n",
       "2        1489069957   2017-03-09T14:32:37Z                         Peanuts   \n",
       "3        1489055731   2017-03-09T10:35:31Z          Organic Salted Nut Mix   \n",
       "4        1489055653   2017-03-09T10:34:13Z                 Organic Polenta   \n",
       "..              ...                    ...                             ...   \n",
       "95       1489055715   2017-03-09T10:35:15Z            Organic Pecan Halves   \n",
       "96       1489138485   2017-03-10T09:34:45Z    Unsalted Dry Roasted Almonds   \n",
       "97       1489055720   2017-03-09T10:35:20Z       Organic Raw Pumpkin Seeds   \n",
       "98       1489138484   2017-03-10T09:34:44Z  Organic Extra Virgin Olive Oil   \n",
       "99       1489138488   2017-03-10T09:34:48Z                   Liquid Aminos   \n",
       "\n",
       "    generic_name  ... fruits-vegetables-nuts_100g  \\\n",
       "0            NaN  ...                         NaN   \n",
       "1            NaN  ...                         NaN   \n",
       "2            NaN  ...                         NaN   \n",
       "3            NaN  ...                         NaN   \n",
       "4            NaN  ...                         NaN   \n",
       "..           ...  ...                         ...   \n",
       "95           NaN  ...                         NaN   \n",
       "96           NaN  ...                         NaN   \n",
       "97           NaN  ...                         NaN   \n",
       "98           NaN  ...                         NaN   \n",
       "99           NaN  ...                         NaN   \n",
       "\n",
       "   fruits-vegetables-nuts-estimate_100g collagen-meat-protein-ratio_100g  \\\n",
       "0                                   NaN                              NaN   \n",
       "1                                   NaN                              NaN   \n",
       "2                                   NaN                              NaN   \n",
       "3                                   NaN                              NaN   \n",
       "4                                   NaN                              NaN   \n",
       "..                                  ...                              ...   \n",
       "95                                  NaN                              NaN   \n",
       "96                                  NaN                              NaN   \n",
       "97                                  NaN                              NaN   \n",
       "98                                  NaN                              NaN   \n",
       "99                                  NaN                              NaN   \n",
       "\n",
       "   cocoa_100g chlorophyl_100g carbon-footprint_100g nutrition-score-fr_100g  \\\n",
       "0         NaN             NaN                   NaN                     NaN   \n",
       "1         NaN             NaN                   NaN                    14.0   \n",
       "2         NaN             NaN                   NaN                     0.0   \n",
       "3         NaN             NaN                   NaN                    12.0   \n",
       "4         NaN             NaN                   NaN                     NaN   \n",
       "..        ...             ...                   ...                     ...   \n",
       "95        NaN             NaN                   NaN                     NaN   \n",
       "96        NaN             NaN                   NaN                     NaN   \n",
       "97        NaN             NaN                   NaN                    12.0   \n",
       "98        NaN             NaN                   NaN                     NaN   \n",
       "99        NaN             NaN                   NaN                     NaN   \n",
       "\n",
       "   nutrition-score-uk_100g  glycemic-index_100g  water-hardness_100g  \n",
       "0                      NaN                  NaN                  NaN  \n",
       "1                     14.0                  NaN                  NaN  \n",
       "2                      0.0                  NaN                  NaN  \n",
       "3                     12.0                  NaN                  NaN  \n",
       "4                      NaN                  NaN                  NaN  \n",
       "..                     ...                  ...                  ...  \n",
       "95                     NaN                  NaN                  NaN  \n",
       "96                     NaN                  NaN                  NaN  \n",
       "97                    12.0                  NaN                  NaN  \n",
       "98                     NaN                  NaN                  NaN  \n",
       "99                     NaN                  NaN                  NaN  \n",
       "\n",
       "[100 rows x 164 columns]"
      ]
     },
     "execution_count": 2,
     "metadata": {},
     "output_type": "execute_result"
    }
   ],
   "source": [
    "df = pd.read_csv(\"https://raw.githubusercontent.com/Gabvaztor/data_science_apr_2021/main/week10_ML_competition_pca_kmeans/day1_gridsearch_pipelines/data/food_100.csv\")\n",
    "df"
   ]
  },
  {
   "cell_type": "markdown",
   "metadata": {},
   "source": [
    "**1. Limpiar el archivo borrando las columnas Unnamed.**"
   ]
  },
  {
   "cell_type": "code",
   "execution_count": 3,
   "metadata": {},
   "outputs": [
    {
     "name": "stdout",
     "output_type": "stream",
     "text": [
      "<class 'pandas.core.frame.DataFrame'>\n",
      "RangeIndex: 100 entries, 0 to 99\n",
      "Columns: 164 entries, Unnamed: 0 to water-hardness_100g\n",
      "dtypes: float64(125), int64(4), object(35)\n",
      "memory usage: 128.2+ KB\n"
     ]
    }
   ],
   "source": [
    "df.info()"
   ]
  },
  {
   "cell_type": "code",
   "execution_count": 4,
   "metadata": {},
   "outputs": [],
   "source": [
    "lista_columnas = df.columns.tolist()"
   ]
  },
  {
   "cell_type": "code",
   "execution_count": 5,
   "metadata": {},
   "outputs": [
    {
     "name": "stdout",
     "output_type": "stream",
     "text": [
      "Columnas Unnamed : Unnamed: 0\n"
     ]
    }
   ],
   "source": [
    "for columna in lista_columnas:\n",
    "    lista = re.findall(\"Unnamed.*\", columna)\n",
    "    if lista:\n",
    "        print(f\"Columnas Unnamed : {lista[0]}\")\n",
    "        try:\n",
    "            df.drop(lista[0], 1, inplace = True)\n",
    "        except:\n",
    "            print(f\"La columna {lista[0]} ya ha sido eliminada\")"
   ]
  },
  {
   "cell_type": "markdown",
   "metadata": {},
   "source": [
    "**2. ¿Qué porcentaje de valores NaN hay en cada columna?**"
   ]
  },
  {
   "cell_type": "code",
   "execution_count": 6,
   "metadata": {},
   "outputs": [
    {
     "data": {
      "text/plain": [
       "code                      0.0\n",
       "url                       0.0\n",
       "creator                   0.0\n",
       "created_t                 0.0\n",
       "created_datetime          0.0\n",
       "last_modified_t           0.0\n",
       "last_modified_datetime    0.0\n",
       "countries                 0.0\n",
       "countries_tags            0.0\n",
       "countries_en              0.0\n",
       "states                    0.0\n",
       "states_tags               0.0\n",
       "states_en                 0.0\n",
       "dtype: float64"
      ]
     },
     "execution_count": 6,
     "metadata": {},
     "output_type": "execute_result"
    }
   ],
   "source": [
    "percen_null = df.isna().mean().round(4) * 100\n",
    "percen_null[percen_null == 0]"
   ]
  },
  {
   "cell_type": "code",
   "execution_count": 7,
   "metadata": {},
   "outputs": [
    {
     "data": {
      "text/plain": [
       "product_name                                1.0\n",
       "brands                                      4.0\n",
       "brands_tags                                 4.0\n",
       "ingredients_text                            5.0\n",
       "serving_size                                6.0\n",
       "additives_n                                 5.0\n",
       "additives                                   5.0\n",
       "ingredients_from_palm_oil_n                 5.0\n",
       "ingredients_that_may_be_from_palm_oil_n     5.0\n",
       "energy_100g                                 8.0\n",
       "fat_100g                                   20.0\n",
       "carbohydrates_100g                         10.0\n",
       "fiber_100g                                 14.0\n",
       "proteins_100g                              12.0\n",
       "iron_100g                                  19.0\n",
       "dtype: float64"
      ]
     },
     "execution_count": 7,
     "metadata": {},
     "output_type": "execute_result"
    }
   ],
   "source": [
    "percen_null[(percen_null > 0) & (percen_null <=20)]"
   ]
  },
  {
   "cell_type": "code",
   "execution_count": 8,
   "metadata": {},
   "outputs": [
    {
     "data": {
      "text/plain": [
       "quantity                   95.0\n",
       "additives_tags             84.0\n",
       "additives_en               84.0\n",
       "nutrition_grade_fr         63.0\n",
       "saturated-fat_100g         42.0\n",
       "cholesterol_100g           94.0\n",
       "sugars_100g                36.0\n",
       "salt_100g                  41.0\n",
       "sodium_100g                41.0\n",
       "vitamin-a_100g             83.0\n",
       "vitamin-c_100g             80.0\n",
       "calcium_100g               35.0\n",
       "nutrition-score-fr_100g    63.0\n",
       "nutrition-score-uk_100g    63.0\n",
       "dtype: float64"
      ]
     },
     "execution_count": 8,
     "metadata": {},
     "output_type": "execute_result"
    }
   ],
   "source": [
    "percen_null[(percen_null > 20) & (percen_null <= 95)]"
   ]
  },
  {
   "cell_type": "code",
   "execution_count": 9,
   "metadata": {},
   "outputs": [
    {
     "data": {
      "text/plain": [
       "packaging                                     99.0\n",
       "packaging_tags                                99.0\n",
       "categories                                    99.0\n",
       "categories_tags                               99.0\n",
       "categories_en                                 99.0\n",
       "traces                                        99.0\n",
       "traces_tags                                   99.0\n",
       "traces_en                                     99.0\n",
       "ingredients_that_may_be_from_palm_oil_tags    99.0\n",
       "pnns_groups_1                                 99.0\n",
       "pnns_groups_2                                 99.0\n",
       "main_category                                 99.0\n",
       "main_category_en                              99.0\n",
       "image_url                                     98.0\n",
       "image_small_url                               98.0\n",
       "trans-fat_100g                                96.0\n",
       "dtype: float64"
      ]
     },
     "execution_count": 9,
     "metadata": {},
     "output_type": "execute_result"
    }
   ],
   "source": [
    "percen_null[(percen_null > 95) & (percen_null < 100)]"
   ]
  },
  {
   "cell_type": "code",
   "execution_count": 10,
   "metadata": {},
   "outputs": [
    {
     "data": {
      "text/plain": [
       "generic_name                 100.0\n",
       "origins                      100.0\n",
       "origins_tags                 100.0\n",
       "manufacturing_places         100.0\n",
       "manufacturing_places_tags    100.0\n",
       "                             ...  \n",
       "cocoa_100g                   100.0\n",
       "chlorophyl_100g              100.0\n",
       "carbon-footprint_100g        100.0\n",
       "glycemic-index_100g          100.0\n",
       "water-hardness_100g          100.0\n",
       "Length: 105, dtype: float64"
      ]
     },
     "execution_count": 10,
     "metadata": {},
     "output_type": "execute_result"
    }
   ],
   "source": [
    "percen_null[(percen_null == 100)]"
   ]
  },
  {
   "cell_type": "markdown",
   "metadata": {},
   "source": [
    "**3. ¿Tendría algún sentido clasificar el nombre de los alimentos a partir del top5 de columnas numéricas con menos valores NaN?**"
   ]
  },
  {
   "cell_type": "code",
   "execution_count": 24,
   "metadata": {},
   "outputs": [
    {
     "data": {
      "text/plain": [
       "code                                       0.0\n",
       "created_t                                  0.0\n",
       "last_modified_t                            0.0\n",
       "ingredients_that_may_be_from_palm_oil_n    5.0\n",
       "ingredients_from_palm_oil_n                5.0\n",
       "dtype: float64"
      ]
     },
     "execution_count": 24,
     "metadata": {},
     "output_type": "execute_result"
    }
   ],
   "source": [
    "null_numeric = df._get_numeric_data().isna().mean().round(4) * 100\n",
    "null_numeric.sort_values(ascending=True)[:5]"
   ]
  },
  {
   "cell_type": "code",
   "execution_count": 25,
   "metadata": {},
   "outputs": [
    {
     "data": {
      "text/plain": [
       "code                                       0\n",
       "created_t                                  0\n",
       "last_modified_t                            0\n",
       "ingredients_that_may_be_from_palm_oil_n    5\n",
       "ingredients_from_palm_oil_n                5\n",
       "dtype: int64"
      ]
     },
     "execution_count": 25,
     "metadata": {},
     "output_type": "execute_result"
    }
   ],
   "source": [
    "df._get_numeric_data().isna().sum().sort_values(ascending=True)[:5]"
   ]
  },
  {
   "cell_type": "code",
   "execution_count": 26,
   "metadata": {},
   "outputs": [
    {
     "data": {
      "text/plain": [
       "Index(['code', 'created_t', 'last_modified_t',\n",
       "       'ingredients_that_may_be_from_palm_oil_n',\n",
       "       'ingredients_from_palm_oil_n'],\n",
       "      dtype='object')"
      ]
     },
     "execution_count": 26,
     "metadata": {},
     "output_type": "execute_result"
    }
   ],
   "source": [
    "null_numeric.sort_values(ascending=True)[:5].index"
   ]
  },
  {
   "cell_type": "code",
   "execution_count": 27,
   "metadata": {},
   "outputs": [],
   "source": [
    "cor_mat = df[null_numeric.sort_values(ascending=True)[:5].index.to_list() + [\"product_name\"]].corr()"
   ]
  },
  {
   "cell_type": "code",
   "execution_count": 31,
   "metadata": {},
   "outputs": [
    {
     "data": {
      "image/png": "[encoded data removed]",
      "text/plain": [
       "<Figure size 432x288 with 2 Axes>"
      ]
     },
     "metadata": {
      "needs_background": "light"
     },
     "output_type": "display_data"
    }
   ],
   "source": [
    "ax = sns.heatmap(\n",
    "    cor_mat, \n",
    "    vmin=-1, vmax=1, center=0,\n",
    "    square=True,\n",
    ")"
   ]
  }
 ],
 "metadata": {
  "kernelspec": {
   "display_name": "Python 3",
   "language": "python",
   "name": "python3"
  },
  "language_info": {
   "codemirror_mode": {
    "name": "ipython",
    "version": 3
   },
   "file_extension": ".py",
   "mimetype": "text/x-python",
   "name": "python",
   "nbconvert_exporter": "python",
   "pygments_lexer": "ipython3",
   "version": "3.8.3"
  }
 },
 "nbformat": 4,
 "nbformat_minor": 2
}
