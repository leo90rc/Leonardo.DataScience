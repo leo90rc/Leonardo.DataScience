{
 "metadata": {
  "language_info": {
   "codemirror_mode": {
    "name": "ipython",
    "version": 3
   },
   "file_extension": ".py",
   "mimetype": "text/x-python",
   "name": "python",
   "nbconvert_exporter": "python",
   "pygments_lexer": "ipython3",
   "version": "3.7.4"
  },
  "orig_nbformat": 4,
  "kernelspec": {
   "name": "python3",
   "display_name": "Python 3.7.4 64-bit"
  },
  "interpreter": {
   "hash": "a0947237fadc8b5561fed326db280cc5ec46a670c87cfb3a0489cf95ff262303"
  }
 },
 "nbformat": 4,
 "nbformat_minor": 2,
 "cells": [
  {
   "cell_type": "code",
   "execution_count": 47,
   "metadata": {},
   "outputs": [],
   "source": [
    "import pandas as pd\n",
    "import seaborn as sns\n",
    "import numpy as np\n",
    "\n",
    "from pandas.api.types import CategoricalDtype\n",
    "\n",
    "import matplotlib.pyplot as plt\n",
    "import plotly.express as px\n",
    "import plotly.graph_objects as go\n",
    "from plotly.subplots import make_subplots\n",
    "\n",
    "from sklearn.model_selection import train_test_split\n",
    "from sklearn.preprocessing import PolynomialFeatures\n",
    "from sklearn.linear_model import LinearRegression, LogisticRegression\n",
    "from sklearn.ensemble import RandomForestClassifier, RandomForestRegressor\n",
    "from sklearn.svm import SVR, SVC\n",
    "\n",
    "from sklearn.pipeline import Pipeline\n",
    "from sklearn.preprocessing import LabelEncoder\n",
    "from sklearn.metrics import r2_score, accuracy_score\n",
    "\n",
    "import warnings\n",
    "warnings.filterwarnings('ignore')"
   ]
  },
  {
   "cell_type": "code",
   "execution_count": 48,
   "metadata": {},
   "outputs": [
    {
     "output_type": "stream",
     "name": "stdout",
     "text": [
      "<class 'pandas.core.frame.DataFrame'>\nRangeIndex: 16 entries, 0 to 15\nData columns (total 35 columns):\n #   Column                      Non-Null Count  Dtype  \n---  ------                      --------------  -----  \n 0   Team                        16 non-null     object \n 1   Goals                       16 non-null     int64  \n 2   Shots on target             16 non-null     int64  \n 3   Shots off target            16 non-null     int64  \n 4   Shooting Accuracy           16 non-null     object \n 5   % Goals-to-shots            16 non-null     object \n 6   Total shots (inc. Blocked)  16 non-null     int64  \n 7   Hit Woodwork                16 non-null     int64  \n 8   Penalty goals               16 non-null     int64  \n 9   Penalties not scored        16 non-null     int64  \n 10  Headed goals                16 non-null     int64  \n 11  Passes                      16 non-null     int64  \n 12  Passes completed            16 non-null     int64  \n 13  Passing Accuracy            16 non-null     object \n 14  Touches                     16 non-null     int64  \n 15  Crosses                     16 non-null     int64  \n 16  Dribbles                    16 non-null     int64  \n 17  Corners Taken               16 non-null     int64  \n 18  Tackles                     16 non-null     int64  \n 19  Clearances                  16 non-null     int64  \n 20  Interceptions               16 non-null     int64  \n 21  Clearances off line         15 non-null     float64\n 22  Clean Sheets                16 non-null     int64  \n 23  Blocks                      16 non-null     int64  \n 24  Goals conceded              16 non-null     int64  \n 25  Saves made                  16 non-null     int64  \n 26  Saves-to-shots ratio        16 non-null     object \n 27  Fouls Won                   16 non-null     int64  \n 28  Fouls Conceded              16 non-null     int64  \n 29  Offsides                    16 non-null     int64  \n 30  Yellow Cards                16 non-null     int64  \n 31  Red Cards                   16 non-null     int64  \n 32  Subs on                     16 non-null     int64  \n 33  Subs off                    16 non-null     int64  \n 34  Players Used                16 non-null     int64  \ndtypes: float64(1), int64(29), object(5)\nmemory usage: 4.5+ KB\n"
     ]
    }
   ],
   "source": [
    "df = pd.read_csv(\"https://raw.githubusercontent.com/Gabvaztor/data_science_apr_2021/main/week10_ML_competition_pca_kmeans/day1_gridsearch_pipelines/data/Euro_2012_stats_TEAM.csv\")\n",
    "\n",
    "df.info()"
   ]
  },
  {
   "cell_type": "code",
   "execution_count": 49,
   "metadata": {},
   "outputs": [
    {
     "output_type": "execute_result",
     "data": {
      "text/plain": [
       "0      0\n",
       "1      1\n",
       "2      2\n",
       "3      3\n",
       "4      4\n",
       "5      5\n",
       "6      6\n",
       "7      7\n",
       "8      8\n",
       "9      9\n",
       "10    10\n",
       "11    11\n",
       "12    12\n",
       "13    13\n",
       "14    14\n",
       "15    15\n",
       "Name: Team, dtype: int32"
      ]
     },
     "metadata": {},
     "execution_count": 49
    }
   ],
   "source": [
    "le = LabelEncoder()\n",
    "df[\"Team\"] = le.fit_transform(df[\"Team\"])\n",
    "df.Team"
   ]
  },
  {
   "cell_type": "code",
   "execution_count": 50,
   "metadata": {},
   "outputs": [
    {
     "output_type": "execute_result",
     "data": {
      "text/plain": [
       "['Shooting Accuracy',\n",
       " '% Goals-to-shots',\n",
       " 'Passing Accuracy',\n",
       " 'Saves-to-shots ratio']"
      ]
     },
     "metadata": {},
     "execution_count": 50
    }
   ],
   "source": [
    "col_obj_col = df[df.dtypes[df.dtypes == \"object\"].index].columns.tolist()\n",
    "col_obj_col"
   ]
  },
  {
   "cell_type": "code",
   "execution_count": 51,
   "metadata": {},
   "outputs": [
    {
     "output_type": "execute_result",
     "data": {
      "text/plain": [
       "0     51.9%\n",
       "1     41.9%\n",
       "2     50.0%\n",
       "3     50.0%\n",
       "4     37.9%\n",
       "5     47.8%\n",
       "6     30.7%\n",
       "7     43.0%\n",
       "8     25.0%\n",
       "9     39.4%\n",
       "10    34.3%\n",
       "11    36.8%\n",
       "12    22.5%\n",
       "13    55.9%\n",
       "14    47.2%\n",
       "15    21.2%\n",
       "Name: Shooting Accuracy, dtype: object"
      ]
     },
     "metadata": {},
     "execution_count": 51
    }
   ],
   "source": [
    "df['Shooting Accuracy']"
   ]
  },
  {
   "cell_type": "code",
   "execution_count": 52,
   "metadata": {},
   "outputs": [
    {
     "output_type": "stream",
     "name": "stdout",
     "text": [
      "<class 'pandas.core.frame.DataFrame'>\nRangeIndex: 16 entries, 0 to 15\nData columns (total 35 columns):\n #   Column                      Non-Null Count  Dtype  \n---  ------                      --------------  -----  \n 0   Team                        16 non-null     int32  \n 1   Goals                       16 non-null     int64  \n 2   Shots on target             16 non-null     int64  \n 3   Shots off target            16 non-null     int64  \n 4   Shooting Accuracy           16 non-null     object \n 5   % Goals-to-shots            16 non-null     object \n 6   Total shots (inc. Blocked)  16 non-null     int64  \n 7   Hit Woodwork                16 non-null     int64  \n 8   Penalty goals               16 non-null     int64  \n 9   Penalties not scored        16 non-null     int64  \n 10  Headed goals                16 non-null     int64  \n 11  Passes                      16 non-null     int64  \n 12  Passes completed            16 non-null     int64  \n 13  Passing Accuracy            16 non-null     object \n 14  Touches                     16 non-null     int64  \n 15  Crosses                     16 non-null     int64  \n 16  Dribbles                    16 non-null     int64  \n 17  Corners Taken               16 non-null     int64  \n 18  Tackles                     16 non-null     int64  \n 19  Clearances                  16 non-null     int64  \n 20  Interceptions               16 non-null     int64  \n 21  Clearances off line         15 non-null     float64\n 22  Clean Sheets                16 non-null     int64  \n 23  Blocks                      16 non-null     int64  \n 24  Goals conceded              16 non-null     int64  \n 25  Saves made                  16 non-null     int64  \n 26  Saves-to-shots ratio        16 non-null     object \n 27  Fouls Won                   16 non-null     int64  \n 28  Fouls Conceded              16 non-null     int64  \n 29  Offsides                    16 non-null     int64  \n 30  Yellow Cards                16 non-null     int64  \n 31  Red Cards                   16 non-null     int64  \n 32  Subs on                     16 non-null     int64  \n 33  Subs off                    16 non-null     int64  \n 34  Players Used                16 non-null     int64  \ndtypes: float64(1), int32(1), int64(29), object(4)\nmemory usage: 4.4+ KB\n"
     ]
    }
   ],
   "source": [
    "df.info()"
   ]
  },
  {
   "cell_type": "code",
   "execution_count": 53,
   "metadata": {},
   "outputs": [],
   "source": [
    "for col in col_obj_col:    \n",
    "    df[col] = df[col].apply(lambda x: float(x[:-1]))"
   ]
  },
  {
   "cell_type": "code",
   "execution_count": 54,
   "metadata": {},
   "outputs": [
    {
     "output_type": "execute_result",
     "data": {
      "text/plain": [
       "[]"
      ]
     },
     "metadata": {},
     "execution_count": 54
    }
   ],
   "source": [
    "df.dtypes[df.dtypes == \"object\"].index.tolist()"
   ]
  },
  {
   "cell_type": "code",
   "execution_count": 55,
   "metadata": {},
   "outputs": [
    {
     "output_type": "execute_result",
     "data": {
      "text/plain": [
       "Team                            int32\n",
       "Goals                           int64\n",
       "Shots on target                 int64\n",
       "Shots off target                int64\n",
       "Shooting Accuracy             float64\n",
       "% Goals-to-shots              float64\n",
       "Total shots (inc. Blocked)      int64\n",
       "Hit Woodwork                    int64\n",
       "Penalty goals                   int64\n",
       "Penalties not scored            int64\n",
       "Headed goals                    int64\n",
       "Passes                          int64\n",
       "Passes completed                int64\n",
       "Passing Accuracy              float64\n",
       "Touches                         int64\n",
       "Crosses                         int64\n",
       "Dribbles                        int64\n",
       "Corners Taken                   int64\n",
       "Tackles                         int64\n",
       "Clearances                      int64\n",
       "Interceptions                   int64\n",
       "Clearances off line           float64\n",
       "Clean Sheets                    int64\n",
       "Blocks                          int64\n",
       "Goals conceded                  int64\n",
       "Saves made                      int64\n",
       "Saves-to-shots ratio          float64\n",
       "Fouls Won                       int64\n",
       "Fouls Conceded                  int64\n",
       "Offsides                        int64\n",
       "Yellow Cards                    int64\n",
       "Red Cards                       int64\n",
       "Subs on                         int64\n",
       "Subs off                        int64\n",
       "Players Used                    int64\n",
       "dtype: object"
      ]
     },
     "metadata": {},
     "execution_count": 55
    }
   ],
   "source": [
    "df.dtypes"
   ]
  },
  {
   "cell_type": "code",
   "execution_count": 56,
   "metadata": {},
   "outputs": [
    {
     "output_type": "execute_result",
     "data": {
      "text/plain": [
       "    Team  Goals  Shots on target  Shots off target  Shooting Accuracy  \\\n",
       "0      0      4               13                12               51.9   \n",
       "1      1      4               13                18               41.9   \n",
       "2      2      4               10                10               50.0   \n",
       "3      3      5               11                18               50.0   \n",
       "4      4      3               22                24               37.9   \n",
       "5      5     10               32                32               47.8   \n",
       "6      6      5                8                18               30.7   \n",
       "7      7      6               34                45               43.0   \n",
       "8      8      2               12                36               25.0   \n",
       "9      9      2               15                23               39.4   \n",
       "10    10      6               22                42               34.3   \n",
       "11    11      1                7                12               36.8   \n",
       "12    12      5                9                31               22.5   \n",
       "13    13     12               42                33               55.9   \n",
       "14    14      5               17                19               47.2   \n",
       "15    15      2                7                26               21.2   \n",
       "\n",
       "    % Goals-to-shots  Total shots (inc. Blocked)  Hit Woodwork  Penalty goals  \\\n",
       "0               16.0                          32             0              0   \n",
       "1               12.9                          39             0              0   \n",
       "2               20.0                          27             1              0   \n",
       "3               17.2                          40             0              0   \n",
       "4                6.5                          65             1              0   \n",
       "5               15.6                          80             2              1   \n",
       "6               19.2                          32             1              1   \n",
       "7                7.5                         110             2              0   \n",
       "8                4.1                          60             2              0   \n",
       "9                5.2                          48             0              0   \n",
       "10               9.3                          82             6              0   \n",
       "11               5.2                          28             0              0   \n",
       "12              12.5                          59             2              0   \n",
       "13              16.0                         100             0              1   \n",
       "14              13.8                          39             3              0   \n",
       "15               6.0                          38             0              0   \n",
       "\n",
       "    Penalties not scored  ...  Saves made  Saves-to-shots ratio  Fouls Won  \\\n",
       "0                      0  ...          13                  81.3         41   \n",
       "1                      0  ...           9                  60.1         53   \n",
       "2                      0  ...          10                  66.7         25   \n",
       "3                      0  ...          22                  88.1         43   \n",
       "4                      0  ...           6                  54.6         36   \n",
       "5                      0  ...          10                  62.6         63   \n",
       "6                      1  ...          13                  65.1         67   \n",
       "7                      0  ...          20                  74.1        101   \n",
       "8                      0  ...          12                  70.6         35   \n",
       "9                      0  ...           6                  66.7         48   \n",
       "10                     0  ...          10                  71.5         73   \n",
       "11                     0  ...          17                  65.4         43   \n",
       "12                     0  ...          10                  77.0         34   \n",
       "13                     0  ...          15                  93.8        102   \n",
       "14                     0  ...           8                  61.6         35   \n",
       "15                     0  ...          13                  76.5         48   \n",
       "\n",
       "    Fouls Conceded  Offsides  Yellow Cards  Red Cards  Subs on  Subs off  \\\n",
       "0               62         2             9          0        9         9   \n",
       "1               73         8             7          0       11        11   \n",
       "2               38         8             4          0        7         7   \n",
       "3               45         6             5          0       11        11   \n",
       "4               51         5             6          0       11        11   \n",
       "5               49        12             4          0       15        15   \n",
       "6               48        12             9          1       12        12   \n",
       "7               89        16            16          0       18        18   \n",
       "8               30         3             5          0        7         7   \n",
       "9               56         3             7          1        7         7   \n",
       "10              90        10            12          0       14        14   \n",
       "11              51        11             6          1       10        10   \n",
       "12              43         4             6          0        7         7   \n",
       "13              83        19            11          0       17        17   \n",
       "14              51         7             7          0        9         9   \n",
       "15              31         4             5          0        9         9   \n",
       "\n",
       "    Players Used  \n",
       "0             16  \n",
       "1             19  \n",
       "2             15  \n",
       "3             16  \n",
       "4             19  \n",
       "5             17  \n",
       "6             20  \n",
       "7             19  \n",
       "8             15  \n",
       "9             17  \n",
       "10            16  \n",
       "11            17  \n",
       "12            16  \n",
       "13            18  \n",
       "14            18  \n",
       "15            18  \n",
       "\n",
       "[16 rows x 35 columns]"
      ],
      "text/html": "<div>\n<style scoped>\n    .dataframe tbody tr th:only-of-type {\n        vertical-align: middle;\n    }\n\n    .dataframe tbody tr th {\n        vertical-align: top;\n    }\n\n    .dataframe thead th {\n        text-align: right;\n    }\n</style>\n<table border=\"1\" class=\"dataframe\">\n  <thead>\n    <tr style=\"text-align: right;\">\n      <th></th>\n      <th>Team</th>\n      <th>Goals</th>\n      <th>Shots on target</th>\n      <th>Shots off target</th>\n      <th>Shooting Accuracy</th>\n      <th>% Goals-to-shots</th>\n      <th>Total shots (inc. Blocked)</th>\n      <th>Hit Woodwork</th>\n      <th>Penalty goals</th>\n      <th>Penalties not scored</th>\n      <th>...</th>\n      <th>Saves made</th>\n      <th>Saves-to-shots ratio</th>\n      <th>Fouls Won</th>\n      <th>Fouls Conceded</th>\n      <th>Offsides</th>\n      <th>Yellow Cards</th>\n      <th>Red Cards</th>\n      <th>Subs on</th>\n      <th>Subs off</th>\n      <th>Players Used</th>\n    </tr>\n  </thead>\n  <tbody>\n    <tr>\n      <th>0</th>\n      <td>0</td>\n      <td>4</td>\n      <td>13</td>\n      <td>12</td>\n      <td>51.9</td>\n      <td>16.0</td>\n      <td>32</td>\n      <td>0</td>\n      <td>0</td>\n      <td>0</td>\n      <td>...</td>\n      <td>13</td>\n      <td>81.3</td>\n      <td>41</td>\n      <td>62</td>\n      <td>2</td>\n      <td>9</td>\n      <td>0</td>\n      <td>9</td>\n      <td>9</td>\n      <td>16</td>\n    </tr>\n    <tr>\n      <th>1</th>\n      <td>1</td>\n      <td>4</td>\n      <td>13</td>\n      <td>18</td>\n      <td>41.9</td>\n      <td>12.9</td>\n      <td>39</td>\n      <td>0</td>\n      <td>0</td>\n      <td>0</td>\n      <td>...</td>\n      <td>9</td>\n      <td>60.1</td>\n      <td>53</td>\n      <td>73</td>\n      <td>8</td>\n      <td>7</td>\n      <td>0</td>\n      <td>11</td>\n      <td>11</td>\n      <td>19</td>\n    </tr>\n    <tr>\n      <th>2</th>\n      <td>2</td>\n      <td>4</td>\n      <td>10</td>\n      <td>10</td>\n      <td>50.0</td>\n      <td>20.0</td>\n      <td>27</td>\n      <td>1</td>\n      <td>0</td>\n      <td>0</td>\n      <td>...</td>\n      <td>10</td>\n      <td>66.7</td>\n      <td>25</td>\n      <td>38</td>\n      <td>8</td>\n      <td>4</td>\n      <td>0</td>\n      <td>7</td>\n      <td>7</td>\n      <td>15</td>\n    </tr>\n    <tr>\n      <th>3</th>\n      <td>3</td>\n      <td>5</td>\n      <td>11</td>\n      <td>18</td>\n      <td>50.0</td>\n      <td>17.2</td>\n      <td>40</td>\n      <td>0</td>\n      <td>0</td>\n      <td>0</td>\n      <td>...</td>\n      <td>22</td>\n      <td>88.1</td>\n      <td>43</td>\n      <td>45</td>\n      <td>6</td>\n      <td>5</td>\n      <td>0</td>\n      <td>11</td>\n      <td>11</td>\n      <td>16</td>\n    </tr>\n    <tr>\n      <th>4</th>\n      <td>4</td>\n      <td>3</td>\n      <td>22</td>\n      <td>24</td>\n      <td>37.9</td>\n      <td>6.5</td>\n      <td>65</td>\n      <td>1</td>\n      <td>0</td>\n      <td>0</td>\n      <td>...</td>\n      <td>6</td>\n      <td>54.6</td>\n      <td>36</td>\n      <td>51</td>\n      <td>5</td>\n      <td>6</td>\n      <td>0</td>\n      <td>11</td>\n      <td>11</td>\n      <td>19</td>\n    </tr>\n    <tr>\n      <th>5</th>\n      <td>5</td>\n      <td>10</td>\n      <td>32</td>\n      <td>32</td>\n      <td>47.8</td>\n      <td>15.6</td>\n      <td>80</td>\n      <td>2</td>\n      <td>1</td>\n      <td>0</td>\n      <td>...</td>\n      <td>10</td>\n      <td>62.6</td>\n      <td>63</td>\n      <td>49</td>\n      <td>12</td>\n      <td>4</td>\n      <td>0</td>\n      <td>15</td>\n      <td>15</td>\n      <td>17</td>\n    </tr>\n    <tr>\n      <th>6</th>\n      <td>6</td>\n      <td>5</td>\n      <td>8</td>\n      <td>18</td>\n      <td>30.7</td>\n      <td>19.2</td>\n      <td>32</td>\n      <td>1</td>\n      <td>1</td>\n      <td>1</td>\n      <td>...</td>\n      <td>13</td>\n      <td>65.1</td>\n      <td>67</td>\n      <td>48</td>\n      <td>12</td>\n      <td>9</td>\n      <td>1</td>\n      <td>12</td>\n      <td>12</td>\n      <td>20</td>\n    </tr>\n    <tr>\n      <th>7</th>\n      <td>7</td>\n      <td>6</td>\n      <td>34</td>\n      <td>45</td>\n      <td>43.0</td>\n      <td>7.5</td>\n      <td>110</td>\n      <td>2</td>\n      <td>0</td>\n      <td>0</td>\n      <td>...</td>\n      <td>20</td>\n      <td>74.1</td>\n      <td>101</td>\n      <td>89</td>\n      <td>16</td>\n      <td>16</td>\n      <td>0</td>\n      <td>18</td>\n      <td>18</td>\n      <td>19</td>\n    </tr>\n    <tr>\n      <th>8</th>\n      <td>8</td>\n      <td>2</td>\n      <td>12</td>\n      <td>36</td>\n      <td>25.0</td>\n      <td>4.1</td>\n      <td>60</td>\n      <td>2</td>\n      <td>0</td>\n      <td>0</td>\n      <td>...</td>\n      <td>12</td>\n      <td>70.6</td>\n      <td>35</td>\n      <td>30</td>\n      <td>3</td>\n      <td>5</td>\n      <td>0</td>\n      <td>7</td>\n      <td>7</td>\n      <td>15</td>\n    </tr>\n    <tr>\n      <th>9</th>\n      <td>9</td>\n      <td>2</td>\n      <td>15</td>\n      <td>23</td>\n      <td>39.4</td>\n      <td>5.2</td>\n      <td>48</td>\n      <td>0</td>\n      <td>0</td>\n      <td>0</td>\n      <td>...</td>\n      <td>6</td>\n      <td>66.7</td>\n      <td>48</td>\n      <td>56</td>\n      <td>3</td>\n      <td>7</td>\n      <td>1</td>\n      <td>7</td>\n      <td>7</td>\n      <td>17</td>\n    </tr>\n    <tr>\n      <th>10</th>\n      <td>10</td>\n      <td>6</td>\n      <td>22</td>\n      <td>42</td>\n      <td>34.3</td>\n      <td>9.3</td>\n      <td>82</td>\n      <td>6</td>\n      <td>0</td>\n      <td>0</td>\n      <td>...</td>\n      <td>10</td>\n      <td>71.5</td>\n      <td>73</td>\n      <td>90</td>\n      <td>10</td>\n      <td>12</td>\n      <td>0</td>\n      <td>14</td>\n      <td>14</td>\n      <td>16</td>\n    </tr>\n    <tr>\n      <th>11</th>\n      <td>11</td>\n      <td>1</td>\n      <td>7</td>\n      <td>12</td>\n      <td>36.8</td>\n      <td>5.2</td>\n      <td>28</td>\n      <td>0</td>\n      <td>0</td>\n      <td>0</td>\n      <td>...</td>\n      <td>17</td>\n      <td>65.4</td>\n      <td>43</td>\n      <td>51</td>\n      <td>11</td>\n      <td>6</td>\n      <td>1</td>\n      <td>10</td>\n      <td>10</td>\n      <td>17</td>\n    </tr>\n    <tr>\n      <th>12</th>\n      <td>12</td>\n      <td>5</td>\n      <td>9</td>\n      <td>31</td>\n      <td>22.5</td>\n      <td>12.5</td>\n      <td>59</td>\n      <td>2</td>\n      <td>0</td>\n      <td>0</td>\n      <td>...</td>\n      <td>10</td>\n      <td>77.0</td>\n      <td>34</td>\n      <td>43</td>\n      <td>4</td>\n      <td>6</td>\n      <td>0</td>\n      <td>7</td>\n      <td>7</td>\n      <td>16</td>\n    </tr>\n    <tr>\n      <th>13</th>\n      <td>13</td>\n      <td>12</td>\n      <td>42</td>\n      <td>33</td>\n      <td>55.9</td>\n      <td>16.0</td>\n      <td>100</td>\n      <td>0</td>\n      <td>1</td>\n      <td>0</td>\n      <td>...</td>\n      <td>15</td>\n      <td>93.8</td>\n      <td>102</td>\n      <td>83</td>\n      <td>19</td>\n      <td>11</td>\n      <td>0</td>\n      <td>17</td>\n      <td>17</td>\n      <td>18</td>\n    </tr>\n    <tr>\n      <th>14</th>\n      <td>14</td>\n      <td>5</td>\n      <td>17</td>\n      <td>19</td>\n      <td>47.2</td>\n      <td>13.8</td>\n      <td>39</td>\n      <td>3</td>\n      <td>0</td>\n      <td>0</td>\n      <td>...</td>\n      <td>8</td>\n      <td>61.6</td>\n      <td>35</td>\n      <td>51</td>\n      <td>7</td>\n      <td>7</td>\n      <td>0</td>\n      <td>9</td>\n      <td>9</td>\n      <td>18</td>\n    </tr>\n    <tr>\n      <th>15</th>\n      <td>15</td>\n      <td>2</td>\n      <td>7</td>\n      <td>26</td>\n      <td>21.2</td>\n      <td>6.0</td>\n      <td>38</td>\n      <td>0</td>\n      <td>0</td>\n      <td>0</td>\n      <td>...</td>\n      <td>13</td>\n      <td>76.5</td>\n      <td>48</td>\n      <td>31</td>\n      <td>4</td>\n      <td>5</td>\n      <td>0</td>\n      <td>9</td>\n      <td>9</td>\n      <td>18</td>\n    </tr>\n  </tbody>\n</table>\n<p>16 rows × 35 columns</p>\n</div>"
     },
     "metadata": {},
     "execution_count": 56
    }
   ],
   "source": [
    "df"
   ]
  },
  {
   "cell_type": "code",
   "execution_count": null,
   "metadata": {},
   "outputs": [],
   "source": []
  }
 ]
}