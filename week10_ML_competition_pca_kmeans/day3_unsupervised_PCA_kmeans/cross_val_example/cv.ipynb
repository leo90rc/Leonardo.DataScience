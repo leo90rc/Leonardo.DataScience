{
 "metadata": {
  "language_info": {
   "codemirror_mode": {
    "name": "ipython",
    "version": 3
   },
   "file_extension": ".py",
   "mimetype": "text/x-python",
   "name": "python",
   "nbconvert_exporter": "python",
   "pygments_lexer": "ipython3",
   "version": "3.7.4"
  },
  "orig_nbformat": 2,
  "kernelspec": {
   "name": "python3",
   "display_name": "Python 3.7.4 64-bit"
  },
  "interpreter": {
   "hash": "a0947237fadc8b5561fed326db280cc5ec46a670c87cfb3a0489cf95ff262303"
  }
 },
 "nbformat": 4,
 "nbformat_minor": 2,
 "cells": [
  {
   "cell_type": "code",
   "execution_count": 3,
   "metadata": {},
   "outputs": [
    {
     "output_type": "execute_result",
     "data": {
      "text/plain": [
       "Ellipsis"
      ]
     },
     "metadata": {},
     "execution_count": 3
    }
   ],
   "source": [
    "X = [1, 2, 3, 4, 5, 6]\n",
    "\n",
    "y = [\"a\", \"b\", \"b\", \"a\", \"a\", \"b\"]\n",
    "\n",
    "# 3 iteraciones --- 2 épocas\n",
    "cv = RepeatedStratifiedKFold(n_splits=3, n_repeats=2, random_state=1)\n",
    "\n",
    "####### Epoch 1\n",
    "X_train1 = [2,3,4,5]\n",
    "y_train1 = [\"b\", \"b\", \"a\", \"a\"]\n",
    "X_val1 = [1,6]\n",
    "y_val1 = [\"a\", \"b\"]\n",
    "###############\n",
    "X_train2 = [1,3,4,6]\n",
    "y_train2 = [\"a\", \"b\", \"a\", \"b\"]\n",
    "X_val2 = [5, 2]\n",
    "y_val2 = [\"a\", \"b\"]\n",
    "###############\n",
    "X_train3 = [1,2,5,6]\n",
    "y_train3 = [\"a\", \"b\", \"a\", \"b\"]\n",
    "X_val3 = [3, 4]\n",
    "y_val3 = [\"b\", \"a\"]\n",
    "\n",
    "##### Epoch 2\n",
    "X_train2_1 = [2,3,4,5]\n",
    "y_train2_1 = [\"b\", \"b\", \"a\", \"a\"]\n",
    "X_val2_1 = [6,5]\n",
    "y_val2_1 = [\"b\", \"a\"]\n",
    "(...)"
   ]
  },
  {
   "cell_type": "code",
   "execution_count": 2,
   "metadata": {},
   "outputs": [
    {
     "output_type": "stream",
     "name": "stdout",
     "text": [
      "TRAIN: [2 3 4 5] VAL: [0 1]\n",
      "score_val: 0.5\n",
      "y_val: ['a' 'b']\n",
      "------------\n",
      "TRAIN: [0 1 2 4] VAL: [3 5]\n",
      "score_val: 0.0\n",
      "y_val: ['a' 'b']\n",
      "------------\n",
      "TRAIN: [0 1 3 5] VAL: [2 4]\n",
      "score_val: 1.0\n",
      "y_val: ['b' 'a']\n",
      "------------\n",
      "TRAIN: [0 2 4 5] VAL: [1 3]\n",
      "score_val: 0.0\n",
      "y_val: ['b' 'a']\n",
      "------------\n",
      "TRAIN: [1 2 3 4] VAL: [0 5]\n",
      "score_val: 0.0\n",
      "y_val: ['a' 'b']\n",
      "------------\n",
      "TRAIN: [0 1 3 5] VAL: [2 4]\n",
      "score_val: 1.0\n",
      "y_val: ['b' 'a']\n",
      "------------\n"
     ]
    }
   ],
   "source": [
    "import numpy as np\n",
    "from sklearn.ensemble import RandomForestClassifier\n",
    "from sklearn.model_selection import RepeatedStratifiedKFold\n",
    "X = np.array([1, 2, 3, 4, 5, 6]).reshape(-1, 1)\n",
    "y = np.array([\"a\", \"b\", \"b\", \"a\", \"a\", \"b\"])\n",
    "\n",
    "rand_forest = RandomForestClassifier()\n",
    "rskf = RepeatedStratifiedKFold(n_splits=3, n_repeats=2,random_state=36851234)\n",
    "for train_index, val_index in rskf.split(X, y):\n",
    "    print(\"TRAIN:\", train_index, \"VAL:\", val_index)\n",
    "    X_train, X_val = X[train_index], X[val_index]\n",
    "    y_train, y_val = y[train_index], y[val_index]\n",
    "    rand_forest.fit(X_train, y_train)\n",
    "    score_val = rand_forest.score(X_val, y_val)\n",
    "    print(\"score_val:\", score_val)\n",
    "    print(\"y_val:\", y_val)\n",
    "    print(\"------------\")\n",
    "# Iteración 1\n",
    "train_index = [1, 2, 3, 4]\n",
    "val_index = [0, 5]"
   ]
  },
  {
   "cell_type": "code",
   "execution_count": null,
   "metadata": {},
   "outputs": [],
   "source": [
    "import numpy as np\n",
    "X = np.array([1, 2, 3, 4, 5, 6])\n",
    "y = np.array([\"a\", \"b\", \"b\", \"a\", \"a\", \"b\"])\n",
    "# Iteración 1\n",
    "train_index = [1, 2, 3, 4]\n",
    "val_index = [0, 5]\n",
    "\n",
    "print(\"X[train_index]:\", X[train_index])\n",
    "print(\"X[val_index]:\", X[val_index])"
   ]
  }
 ]
}