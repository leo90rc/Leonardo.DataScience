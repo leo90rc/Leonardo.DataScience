{
 "cells": [
  {
   "cell_type": "markdown",
   "metadata": {},
   "source": [
    "Antes de empezar: un poco de documentación para enterder ligeramente cómo funciona HTML:"
   ]
  },
  {
   "cell_type": "markdown",
   "metadata": {},
   "source": [
    "https://www.w3schools.com/html/html_intro.asp"
   ]
  },
  {
   "cell_type": "markdown",
   "metadata": {},
   "source": [
    "# Web Scraping: Selenium"
   ]
  },
  {
   "cell_type": "markdown",
   "metadata": {},
   "source": [
    "En este notebook veremos cómo automatizar la extracción de datos de una página web simulando la navegación. Para ello utilizaremos la librería Selenium:\n",
    "https://selenium-python.readthedocs.io/"
   ]
  },
  {
   "cell_type": "markdown",
   "metadata": {},
   "source": [
    "El software libre Selenium es un **framework** para realizar test automatizados de software a aplicaciones web. En principio, fue desarrollado para poner a prueba páginas y apps web, pero el **WebDriver** de Selenium también puede usarse con Python para realizar scraping. Si bien Selenium en sí no está escrito en Python, con este lenguaje de programación es posible acceder a las funciones del software.\n",
    "\n",
    "A diferencia de Scrapy y de BeautifulSoup, Selenium no trabaja con el texto fuente en HTML de la web en cuestión, sino que carga la página en un navegador sin interfaz de usuario. El navegador interpreta entonces el código fuente de la página y crea, a partir de él, un **Document Object Model** (modelo de objetos de documento o DOM). Esta interfaz estandarizada permite poner a prueba las interacciones de los usuarios. De esta forma se consigue, por ejemplo, simular clics y rellenar formularios automáticamente. Los cambios en la web que resultan de dichas acciones se reflejan en el DOM. La estructura del proceso de web scraping con Selenium es la siguiente:\n",
    "\n",
    "URL → Solicitud HTTP → HTML → Selenium → DOM"
   ]
  },
  {
   "cell_type": "code",
   "execution_count": 91,
   "metadata": {
    "ExecuteTime": {
     "end_time": "2021-02-26T12:16:59.303652Z",
     "start_time": "2021-02-26T12:16:59.300657Z"
    }
   },
   "outputs": [],
   "source": [
    "# Imports\n",
    "\n",
    "import pandas as pd\n",
    "from selenium import webdriver"
   ]
  },
  {
   "cell_type": "markdown",
   "metadata": {},
   "source": [
    "Deberemos descargar un archivo Chrome driver para selenium en https://chromedriver.chromium.org/downloads, es importante que compruebes la versión de Chrome que utilizas y descargaues el driver correspondiente.\n",
    "Una vez descargado crearemos una variable con la dirección completa del path al chromedriver "
   ]
  },
  {
   "cell_type": "markdown",
   "metadata": {},
   "source": [
    "El objeto driver es con el que trabajaremos a partir de ahora"
   ]
  },
  {
   "cell_type": "code",
   "execution_count": 92,
   "metadata": {
    "ExecuteTime": {
     "end_time": "2021-02-26T10:22:46.333679Z",
     "start_time": "2021-02-26T10:22:45.178780Z"
    }
   },
   "outputs": [],
   "source": [
    "# especificamos el path hasta nuestro driver recién descargado:\n",
    "chrome_driver_path = 'C:\\\\Users\\\\LeoFr\\\\Desktop\\\\BootCamp\\\\chromedriver_win32\\\\chromedriver.exe'\n",
    "options = webdriver.ChromeOptions()\n",
    "# options.add_argument('headless')\n",
    "# headless nos permite no tener que ver la navegación en la ventana de Chrome (TRABAJO A CIEGAS)"
   ]
  },
  {
   "cell_type": "code",
   "execution_count": 93,
   "metadata": {},
   "outputs": [],
   "source": [
    "# Creamos el driver con el que nos vamos a manejar en la sesión de scrapeo:\n",
    "\n",
    "driver = webdriver.Chrome(executable_path = chrome_driver_path, options = options)"
   ]
  },
  {
   "cell_type": "code",
   "execution_count": 94,
   "metadata": {},
   "outputs": [],
   "source": [
    "# indicamos la URL de la página web a la que queremos acceder:\n",
    "\n",
    "url = 'https://www.filmaffinity.com/es/main.html'\n",
    "\n",
    "# el objeto driver nos va a permitir alterar el estado del la página\n",
    "\n",
    "driver.get(url)\n"
   ]
  },
  {
   "cell_type": "markdown",
   "metadata": {},
   "source": [
    "¡Vaya! Nos hemos encontrado con un pop-up que nos pide aceptar cookies o algo po el estilo, si nos lo queremos saltar, para poder automatizar el proceso deberemos:\n",
    "\n",
    "1. Buscamos el botón\n",
    "2. Hacemos click en el botón\n",
    "\n",
    "Selenium nos permite buscar elementos por etiqueteas de html: https://selenium-python.readthedocs.io/locating-elements.html\n",
    "\n",
    "CUIDADO! Los metodos de busqueda de elementos estan \"duplicados\". Tenemos *find_element_by_tag_name* y *find_elements_by_tag_name* el primero nos devolverá el primer elemento que encuentre (aunque haya más), el segundo nos devolverá una lista con todos los elementos que encuentre (aunque solo sea uno)"
   ]
  },
  {
   "cell_type": "code",
   "execution_count": 95,
   "metadata": {
    "ExecuteTime": {
     "end_time": "2021-02-26T10:22:48.546287Z",
     "start_time": "2021-02-26T10:22:48.489040Z"
    }
   },
   "outputs": [],
   "source": [
    "# Navegando en filmaffinity, en el pop-up:\n",
    "\n",
    "elements_by_tag = driver.find_elements_by_tag_name('button') # Este me da todos los botones del push-up\n",
    "element_by_class_name = driver.find_elements_by_class_name('css-47sehv') # Este accede al boton \"ACEPTO\" por class_name\n",
    "elements_by_xpath = driver.find_element_by_xpath('/html/body/div[1]/div/div/div/div[2]/div/button[2]') # Este accede DIRECTAMENTE al botón, copiando su Xpath\n"
   ]
  },
  {
   "cell_type": "markdown",
   "metadata": {},
   "source": [
    "Una vez tenemos los elementos podemos hacer varias cosas con ellos"
   ]
  },
  {
   "cell_type": "markdown",
   "metadata": {},
   "source": [
    "Podemos extraer todos los atributos que tenga"
   ]
  },
  {
   "cell_type": "code",
   "execution_count": 96,
   "metadata": {
    "ExecuteTime": {
     "end_time": "2021-02-26T10:22:51.542538Z",
     "start_time": "2021-02-26T10:22:51.508077Z"
    }
   },
   "outputs": [],
   "source": [
    "\n",
    "# obtenemos todos sus métodos y atributos:"
   ]
  },
  {
   "cell_type": "code",
   "execution_count": null,
   "metadata": {},
   "outputs": [],
   "source": []
  },
  {
   "cell_type": "markdown",
   "metadata": {},
   "source": [
    "Podemos evaluar que tipo de elemento es (tag)"
   ]
  },
  {
   "cell_type": "code",
   "execution_count": null,
   "metadata": {
    "ExecuteTime": {
     "end_time": "2021-02-26T10:22:53.325430Z",
     "start_time": "2021-02-26T10:22:53.306520Z"
    }
   },
   "outputs": [],
   "source": []
  },
  {
   "cell_type": "markdown",
   "metadata": {},
   "source": [
    "Podemos sacar el valor que tiene (el texto)"
   ]
  },
  {
   "cell_type": "code",
   "execution_count": 97,
   "metadata": {
    "ExecuteTime": {
     "end_time": "2021-02-26T10:22:54.583190Z",
     "start_time": "2021-02-26T10:22:54.553596Z"
    }
   },
   "outputs": [
    {
     "output_type": "execute_result",
     "data": {
      "text/plain": [
       "'ACEPTO'"
      ]
     },
     "metadata": {},
     "execution_count": 97
    }
   ],
   "source": [
    "elements_by_xpath.text"
   ]
  },
  {
   "cell_type": "code",
   "execution_count": 98,
   "metadata": {},
   "outputs": [
    {
     "output_type": "stream",
     "name": "stdout",
     "text": [
      "socios\nMÁS OPCIONES\nACEPTO\n"
     ]
    }
   ],
   "source": [
    "for valor in elements_by_tag:\n",
    "    print(valor.text)"
   ]
  },
  {
   "cell_type": "code",
   "execution_count": 99,
   "metadata": {},
   "outputs": [
    {
     "output_type": "execute_result",
     "data": {
      "text/plain": [
       "['socios', 'MÁS OPCIONES', 'ACEPTO']"
      ]
     },
     "metadata": {},
     "execution_count": 99
    }
   ],
   "source": [
    "# lo mismo con list comprehension:\n",
    "\n",
    "[elem.text for elem in elements_by_tag]"
   ]
  },
  {
   "cell_type": "markdown",
   "metadata": {},
   "source": [
    "Incluso podemos guardar una imagen del elemento"
   ]
  },
  {
   "cell_type": "code",
   "execution_count": 100,
   "metadata": {},
   "outputs": [
    {
     "output_type": "execute_result",
     "data": {
      "text/plain": [
       "selenium.webdriver.remote.webelement.WebElement"
      ]
     },
     "metadata": {},
     "execution_count": 100
    }
   ],
   "source": [
    "# Vemos que es tipo 'WebElement' y en la documentación podremos encontrar sus métodos\n",
    "\n",
    "type(elements_by_xpath)"
   ]
  },
  {
   "cell_type": "code",
   "execution_count": 101,
   "metadata": {
    "ExecuteTime": {
     "end_time": "2021-02-26T10:24:41.830050Z",
     "start_time": "2021-02-26T10:24:41.510086Z"
    }
   },
   "outputs": [
    {
     "output_type": "execute_result",
     "data": {
      "text/plain": [
       "True"
      ]
     },
     "metadata": {},
     "execution_count": 101
    }
   ],
   "source": [
    "# guardamos como 'mi_imagen.png' la imagen asociada al xpath\n",
    "\n",
    "elements_by_xpath.screenshot('mi_imagen.png')"
   ]
  },
  {
   "cell_type": "markdown",
   "metadata": {
    "ExecuteTime": {
     "end_time": "2021-02-25T09:56:21.322475Z",
     "start_time": "2021-02-25T09:56:21.318715Z"
    }
   },
   "source": [
    "Evaluamos que elementos hemos encontrado por el tag:"
   ]
  },
  {
   "cell_type": "code",
   "execution_count": 102,
   "metadata": {
    "ExecuteTime": {
     "end_time": "2021-02-25T10:40:47.561469Z",
     "start_time": "2021-02-25T10:40:46.812684Z"
    }
   },
   "outputs": [
    {
     "output_type": "stream",
     "name": "stdout",
     "text": [
      "Elemento: 0\n",
      "Texto del elemento: 0 es socios\n",
      "El tag del elemento: 0 es button\n",
      "Elemento: 1\n",
      "Texto del elemento: 1 es MÁS OPCIONES\n",
      "El tag del elemento: 1 es button\n",
      "Elemento: 2\n",
      "Texto del elemento: 2 es ACEPTO\n",
      "El tag del elemento: 2 es button\n"
     ]
    }
   ],
   "source": [
    "for index, element in enumerate(elements_by_tag):\n",
    "    print('Elemento:', index)\n",
    "    print('Texto del elemento:', index, 'es', element.text)\n",
    "    print('El tag del elemento:', index, 'es', element.tag_name)\n",
    "    element.screenshot('mi_imagen' + str(index) + '.png')"
   ]
  },
  {
   "cell_type": "markdown",
   "metadata": {},
   "source": [
    "Nos quedamos con el botón que nos interesa"
   ]
  },
  {
   "cell_type": "code",
   "execution_count": 103,
   "metadata": {
    "ExecuteTime": {
     "end_time": "2021-02-26T10:24:47.302978Z",
     "start_time": "2021-02-26T10:24:47.291261Z"
    }
   },
   "outputs": [
    {
     "output_type": "execute_result",
     "data": {
      "text/plain": [
       "<selenium.webdriver.remote.webelement.WebElement (session=\"1b80c68ee506edf70cb828f418313285\", element=\"2a6c0f2d-e3fc-4bbc-94b6-a2b251c80a8b\")>"
      ]
     },
     "metadata": {},
     "execution_count": 103
    }
   ],
   "source": [
    "boton_aceptar = elements_by_tag[2]\n",
    "boton_aceptar"
   ]
  },
  {
   "cell_type": "markdown",
   "metadata": {},
   "source": [
    "Si el elemento es interactivo podremos hacer más cosas además de las anteriores. Por ejemplo: hacer click"
   ]
  },
  {
   "cell_type": "code",
   "execution_count": 104,
   "metadata": {
    "ExecuteTime": {
     "end_time": "2021-02-26T10:24:48.611716Z",
     "start_time": "2021-02-26T10:24:48.390430Z"
    }
   },
   "outputs": [],
   "source": [
    "boton_aceptar.click()"
   ]
  },
  {
   "cell_type": "markdown",
   "metadata": {},
   "source": [
    "Buscamos una película por título"
   ]
  },
  {
   "cell_type": "code",
   "execution_count": 105,
   "metadata": {},
   "outputs": [],
   "source": [
    "from selenium.webdriver.common.keys import Keys"
   ]
  },
  {
   "cell_type": "code",
   "execution_count": 106,
   "metadata": {
    "ExecuteTime": {
     "end_time": "2021-02-26T10:28:14.592155Z",
     "start_time": "2021-02-26T10:28:13.509998Z"
    }
   },
   "outputs": [],
   "source": [
    "buscador = driver.find_element_by_xpath('/html/body/div[2]/div[1]/div/div[2]/form/input[1]')"
   ]
  },
  {
   "cell_type": "code",
   "execution_count": 107,
   "metadata": {},
   "outputs": [],
   "source": [
    "buscador.send_keys('Interstellar')\n",
    "\n"
   ]
  },
  {
   "cell_type": "code",
   "execution_count": 108,
   "metadata": {},
   "outputs": [],
   "source": [
    "# una vez escrita la búsqueda deberíamos poder activarla:\n",
    "buscador.send_keys(Keys.ENTER)"
   ]
  },
  {
   "cell_type": "code",
   "execution_count": 109,
   "metadata": {},
   "outputs": [],
   "source": [
    "# volvemos a la página anterior\n",
    "driver.back()"
   ]
  },
  {
   "cell_type": "markdown",
   "metadata": {
    "ExecuteTime": {
     "end_time": "2021-02-25T10:09:19.308961Z",
     "start_time": "2021-02-25T10:09:19.299983Z"
    }
   },
   "source": [
    "### Vamos a buscar todas las películas que se estrenan el próximo viernes"
   ]
  },
  {
   "cell_type": "markdown",
   "metadata": {},
   "source": [
    "1. Cogemos los containers que hay en la zona central"
   ]
  },
  {
   "cell_type": "code",
   "execution_count": 110,
   "metadata": {
    "ExecuteTime": {
     "end_time": "2021-02-25T10:40:53.961145Z",
     "start_time": "2021-02-25T10:40:53.793388Z"
    }
   },
   "outputs": [
    {
     "output_type": "execute_result",
     "data": {
      "text/plain": [
       "<selenium.webdriver.remote.webelement.WebElement (session=\"1b80c68ee506edf70cb828f418313285\", element=\"91fc1612-355b-4913-9700-070e5e43cf5f\")>"
      ]
     },
     "metadata": {},
     "execution_count": 110
    }
   ],
   "source": [
    "menu_lateral = driver.find_element_by_id('lsmenu')\n",
    "menu_lateral"
   ]
  },
  {
   "cell_type": "code",
   "execution_count": 111,
   "metadata": {},
   "outputs": [
    {
     "output_type": "execute_result",
     "data": {
      "text/plain": [
       "[<selenium.webdriver.remote.webelement.WebElement (session=\"1b80c68ee506edf70cb828f418313285\", element=\"20bf13ec-959e-4ce4-953a-c23c3ea9b4cb\")>,\n",
       " <selenium.webdriver.remote.webelement.WebElement (session=\"1b80c68ee506edf70cb828f418313285\", element=\"2edc08f6-2ab6-490f-9c2a-c90298c8d83e\")>,\n",
       " <selenium.webdriver.remote.webelement.WebElement (session=\"1b80c68ee506edf70cb828f418313285\", element=\"b25bed0c-a15f-41ea-a472-da74fcb4def7\")>,\n",
       " <selenium.webdriver.remote.webelement.WebElement (session=\"1b80c68ee506edf70cb828f418313285\", element=\"a82f655b-7f6d-47ca-b94a-9e0b79d6677a\")>,\n",
       " <selenium.webdriver.remote.webelement.WebElement (session=\"1b80c68ee506edf70cb828f418313285\", element=\"9425456c-7b2d-47ce-a4e1-4270d8edf5ec\")>,\n",
       " <selenium.webdriver.remote.webelement.WebElement (session=\"1b80c68ee506edf70cb828f418313285\", element=\"677bedc7-bf07-454f-92b2-284653ce8d9d\")>,\n",
       " <selenium.webdriver.remote.webelement.WebElement (session=\"1b80c68ee506edf70cb828f418313285\", element=\"d8496481-d38b-40ce-812f-a7fcc0359519\")>,\n",
       " <selenium.webdriver.remote.webelement.WebElement (session=\"1b80c68ee506edf70cb828f418313285\", element=\"8832b353-6a09-4482-bb46-eabfaaec553e\")>,\n",
       " <selenium.webdriver.remote.webelement.WebElement (session=\"1b80c68ee506edf70cb828f418313285\", element=\"c4a021e3-0b0f-429a-8de0-a58d651a218c\")>,\n",
       " <selenium.webdriver.remote.webelement.WebElement (session=\"1b80c68ee506edf70cb828f418313285\", element=\"f6a5d02b-9c3d-41c7-a7cf-af4ac055e6cb\")>,\n",
       " <selenium.webdriver.remote.webelement.WebElement (session=\"1b80c68ee506edf70cb828f418313285\", element=\"a6590409-c60e-4457-8771-348986cba926\")>,\n",
       " <selenium.webdriver.remote.webelement.WebElement (session=\"1b80c68ee506edf70cb828f418313285\", element=\"04b9d6cf-4692-4d45-bd1e-fa2618111a3e\")>,\n",
       " <selenium.webdriver.remote.webelement.WebElement (session=\"1b80c68ee506edf70cb828f418313285\", element=\"79efec32-3f5f-4cb5-891a-4ce7f57cf8fc\")>,\n",
       " <selenium.webdriver.remote.webelement.WebElement (session=\"1b80c68ee506edf70cb828f418313285\", element=\"5e495ff1-40b4-40ac-afe2-58809913d6ca\")>,\n",
       " <selenium.webdriver.remote.webelement.WebElement (session=\"1b80c68ee506edf70cb828f418313285\", element=\"7e49454d-3486-495d-a14a-808c576c8e64\")>,\n",
       " <selenium.webdriver.remote.webelement.WebElement (session=\"1b80c68ee506edf70cb828f418313285\", element=\"b858a8ce-ed4a-40f2-a6ea-9ea99c23624e\")>,\n",
       " <selenium.webdriver.remote.webelement.WebElement (session=\"1b80c68ee506edf70cb828f418313285\", element=\"9a2a1151-dd6d-43c7-90bd-4a96106f5fb9\")>,\n",
       " <selenium.webdriver.remote.webelement.WebElement (session=\"1b80c68ee506edf70cb828f418313285\", element=\"6617ab24-36d9-4f92-996b-243832208024\")>,\n",
       " <selenium.webdriver.remote.webelement.WebElement (session=\"1b80c68ee506edf70cb828f418313285\", element=\"6831c9e6-60b3-46e4-a332-1541920d59d1\")>,\n",
       " <selenium.webdriver.remote.webelement.WebElement (session=\"1b80c68ee506edf70cb828f418313285\", element=\"9b66a9df-afd7-47d7-97e1-6811ae9d4040\")>,\n",
       " <selenium.webdriver.remote.webelement.WebElement (session=\"1b80c68ee506edf70cb828f418313285\", element=\"def4c08b-b51d-473d-b8b4-1f30d57f13a8\")>,\n",
       " <selenium.webdriver.remote.webelement.WebElement (session=\"1b80c68ee506edf70cb828f418313285\", element=\"e8420bd4-6313-4771-8d39-dccaa63de4f3\")>,\n",
       " <selenium.webdriver.remote.webelement.WebElement (session=\"1b80c68ee506edf70cb828f418313285\", element=\"5b3fb31d-c2d1-4e82-ac37-5cd14f6e9ef4\")>,\n",
       " <selenium.webdriver.remote.webelement.WebElement (session=\"1b80c68ee506edf70cb828f418313285\", element=\"f399601b-e588-4e99-8e03-3fd61158a53a\")>,\n",
       " <selenium.webdriver.remote.webelement.WebElement (session=\"1b80c68ee506edf70cb828f418313285\", element=\"1e2f0304-acab-449a-aa6e-0304d3afb545\")>,\n",
       " <selenium.webdriver.remote.webelement.WebElement (session=\"1b80c68ee506edf70cb828f418313285\", element=\"c586b7d3-d9f9-4ce8-96bd-ee001ea39e6e\")>,\n",
       " <selenium.webdriver.remote.webelement.WebElement (session=\"1b80c68ee506edf70cb828f418313285\", element=\"df476e6a-2844-48c6-8fca-5b1d1a1b6fb6\")>,\n",
       " <selenium.webdriver.remote.webelement.WebElement (session=\"1b80c68ee506edf70cb828f418313285\", element=\"abe9d36f-dab7-42a8-9761-ad3bca7e7392\")>,\n",
       " <selenium.webdriver.remote.webelement.WebElement (session=\"1b80c68ee506edf70cb828f418313285\", element=\"9633fcbb-8e9b-4a13-bab9-ce8343931509\")>,\n",
       " <selenium.webdriver.remote.webelement.WebElement (session=\"1b80c68ee506edf70cb828f418313285\", element=\"52cb1c36-ed7f-45d1-a745-8bff7db8f662\")>,\n",
       " <selenium.webdriver.remote.webelement.WebElement (session=\"1b80c68ee506edf70cb828f418313285\", element=\"a6d46a0b-021c-4fb7-aaa4-6411a899b2ad\")>,\n",
       " <selenium.webdriver.remote.webelement.WebElement (session=\"1b80c68ee506edf70cb828f418313285\", element=\"4bf3dd97-4894-47c7-9442-6faad545a442\")>,\n",
       " <selenium.webdriver.remote.webelement.WebElement (session=\"1b80c68ee506edf70cb828f418313285\", element=\"5d66652d-ff76-48fc-ba66-4c70ff6c5945\")>,\n",
       " <selenium.webdriver.remote.webelement.WebElement (session=\"1b80c68ee506edf70cb828f418313285\", element=\"916d0d87-be00-4b58-a443-6cfc0f10130b\")>,\n",
       " <selenium.webdriver.remote.webelement.WebElement (session=\"1b80c68ee506edf70cb828f418313285\", element=\"ddb258a9-d7ce-4168-8716-5b08c48e0874\")>,\n",
       " <selenium.webdriver.remote.webelement.WebElement (session=\"1b80c68ee506edf70cb828f418313285\", element=\"b0e10cce-d7bf-4bde-9c2b-3c9623087e9c\")>,\n",
       " <selenium.webdriver.remote.webelement.WebElement (session=\"1b80c68ee506edf70cb828f418313285\", element=\"61691f6c-c36f-4fbb-b1ca-417cfd4c3f91\")>,\n",
       " <selenium.webdriver.remote.webelement.WebElement (session=\"1b80c68ee506edf70cb828f418313285\", element=\"1ab02040-4924-429a-802c-7b7e5d134ded\")>,\n",
       " <selenium.webdriver.remote.webelement.WebElement (session=\"1b80c68ee506edf70cb828f418313285\", element=\"8984b10e-1d35-46b1-ab3b-cf9f95d9f439\")>,\n",
       " <selenium.webdriver.remote.webelement.WebElement (session=\"1b80c68ee506edf70cb828f418313285\", element=\"6a784060-f94d-4371-a81a-f0c2d2a2085a\")>,\n",
       " <selenium.webdriver.remote.webelement.WebElement (session=\"1b80c68ee506edf70cb828f418313285\", element=\"9193bb6a-505e-47d6-9f25-9c6205399d24\")>,\n",
       " <selenium.webdriver.remote.webelement.WebElement (session=\"1b80c68ee506edf70cb828f418313285\", element=\"0d4475b1-2dc5-46d7-988a-f6d81924b5fb\")>,\n",
       " <selenium.webdriver.remote.webelement.WebElement (session=\"1b80c68ee506edf70cb828f418313285\", element=\"c6e89f7c-72cd-4b59-86d0-54213b3af601\")>,\n",
       " <selenium.webdriver.remote.webelement.WebElement (session=\"1b80c68ee506edf70cb828f418313285\", element=\"9f9d06d9-6125-4b9f-a8a7-924c1ed7b2cb\")>]"
      ]
     },
     "metadata": {},
     "execution_count": 111
    }
   ],
   "source": [
    "secciones_menu = menu_lateral.find_elements_by_tag_name('a')\n",
    "secciones_menu"
   ]
  },
  {
   "cell_type": "markdown",
   "metadata": {},
   "source": [
    "2. Vemos con cuál nos tenemos que quedar"
   ]
  },
  {
   "cell_type": "code",
   "execution_count": 112,
   "metadata": {
    "ExecuteTime": {
     "end_time": "2021-02-25T10:40:55.130681Z",
     "start_time": "2021-02-25T10:40:54.930234Z"
    }
   },
   "outputs": [],
   "source": [
    "for a in secciones_menu:\n",
    "    if a.text == 'Próximos estrenos':\n",
    "        a.click()\n",
    "        break\n",
    "        "
   ]
  },
  {
   "cell_type": "code",
   "execution_count": null,
   "metadata": {},
   "outputs": [],
   "source": [
    "# [a for a in menu_lateral.find_elements_by_tag_name('a') if a.text == \"Próximos estrenos\"]    \n",
    "\n",
    "# Este hace lo mismo pero sin click... lo paso Clara"
   ]
  },
  {
   "cell_type": "markdown",
   "metadata": {},
   "source": [
    "Accedemos al container central, en el que aparecen los estrenos por semana que queremos ver, exactamente igual que hemos hecho antes"
   ]
  },
  {
   "cell_type": "code",
   "execution_count": 113,
   "metadata": {
    "ExecuteTime": {
     "end_time": "2021-02-25T10:43:53.772471Z",
     "start_time": "2021-02-25T10:43:53.757510Z"
    }
   },
   "outputs": [
    {
     "output_type": "stream",
     "name": "stdout",
     "text": [
      "21 de mayo de 2021\n",
      "2021-05-21\n",
      "28 de mayo de 2021\n",
      "2021-05-28\n",
      "3 de junio de 2021\n",
      "2021-06-03\n",
      "4 de junio de 2021\n",
      "2021-06-04\n",
      "11 de junio de 2021\n",
      "2021-06-11\n",
      "16 de junio de 2021\n",
      "2021-06-16\n",
      "18 de junio de 2021\n",
      "2021-06-18\n",
      "25 de junio de 2021\n",
      "2021-06-25\n"
     ]
    }
   ],
   "source": [
    "cajon_central = driver.find_elements_by_id(\"main-wrapper-rdcat\")\n",
    "for semana in cajon_central:\n",
    "    print(semana.find_element_by_tag_name('div').text)\n",
    "    print(semana.find_element_by_tag_name('div').get_attribute('id'))"
   ]
  },
  {
   "cell_type": "code",
   "execution_count": 114,
   "metadata": {},
   "outputs": [],
   "source": [
    "for semana in cajon_central:\n",
    "    fecha = semana.find_element_by_tag_name('div').get_attribute('id')\n",
    "    if fecha == '2021-05-21':\n",
    "        break"
   ]
  },
  {
   "cell_type": "code",
   "execution_count": 117,
   "metadata": {
    "ExecuteTime": {
     "end_time": "2021-02-25T11:04:59.734561Z",
     "start_time": "2021-02-25T11:04:59.617626Z"
    }
   },
   "outputs": [
    {
     "output_type": "execute_result",
     "data": {
      "text/plain": [
       "['https://www.filmaffinity.com/es/film637149.html',\n",
       " 'https://www.filmaffinity.com/es/film478891.html',\n",
       " 'https://www.filmaffinity.com/es/film713795.html',\n",
       " 'https://www.filmaffinity.com/es/film112106.html',\n",
       " 'https://www.filmaffinity.com/es/film329087.html',\n",
       " 'https://www.filmaffinity.com/es/film950177.html',\n",
       " 'https://www.filmaffinity.com/es/film388427.html',\n",
       " 'https://www.filmaffinity.com/es/film132801.html',\n",
       " 'https://www.filmaffinity.com/es/film759533.html',\n",
       " 'https://www.filmaffinity.com/es/film407520.html',\n",
       " 'https://www.filmaffinity.com/es/film452148.html',\n",
       " 'https://www.filmaffinity.com/es/film158082.html',\n",
       " 'https://www.filmaffinity.com/es/film108823.html']"
      ]
     },
     "metadata": {},
     "execution_count": 117
    }
   ],
   "source": [
    "caratulas = semana.find_elements_by_class_name('mc-poster')\n",
    "lista_pelis = []\n",
    "for peli in caratulas:\n",
    "    lista_pelis.append(peli.find_element_by_tag_name('a').get_attribute('href'))\n",
    "lista_pelis"
   ]
  },
  {
   "cell_type": "code",
   "execution_count": null,
   "metadata": {},
   "outputs": [],
   "source": []
  },
  {
   "cell_type": "markdown",
   "metadata": {
    "ExecuteTime": {
     "end_time": "2021-02-25T11:04:08.219853Z",
     "start_time": "2021-02-25T11:04:08.215863Z"
    }
   },
   "source": [
    "Buscamos cómo acceder a las películas"
   ]
  },
  {
   "cell_type": "code",
   "execution_count": null,
   "metadata": {
    "ExecuteTime": {
     "end_time": "2021-02-25T11:10:28.294864Z",
     "start_time": "2021-02-25T11:10:28.174126Z"
    }
   },
   "outputs": [],
   "source": []
  },
  {
   "cell_type": "code",
   "execution_count": null,
   "metadata": {},
   "outputs": [],
   "source": []
  },
  {
   "cell_type": "markdown",
   "metadata": {},
   "source": [
    "Una vez tenemos todas las urls vamos a ver qué hacemos con cada una de ellas"
   ]
  },
  {
   "cell_type": "code",
   "execution_count": 120,
   "metadata": {
    "ExecuteTime": {
     "end_time": "2021-02-25T11:15:40.003059Z",
     "start_time": "2021-02-25T11:15:39.091047Z"
    }
   },
   "outputs": [],
   "source": [
    "# Accedemos a la página de la primera pelicula\n",
    "\n",
    "driver.get(lista_pelis[0])"
   ]
  },
  {
   "cell_type": "markdown",
   "metadata": {
    "ExecuteTime": {
     "end_time": "2021-02-25T11:21:51.020248Z",
     "start_time": "2021-02-25T11:21:50.381138Z"
    }
   },
   "source": [
    "Vamos a ver el proceso que deberíamos hacer con cada una de las películas:"
   ]
  },
  {
   "cell_type": "markdown",
   "metadata": {},
   "source": [
    "1. Sacamos toda la información que nos interesa"
   ]
  },
  {
   "cell_type": "code",
   "execution_count": null,
   "metadata": {
    "ExecuteTime": {
     "end_time": "2021-02-25T11:36:58.487622Z",
     "start_time": "2021-02-25T11:36:58.420292Z"
    }
   },
   "outputs": [],
   "source": [
    "# titulo, nota, numero de votos y ficha técnica\n"
   ]
  },
  {
   "cell_type": "code",
   "execution_count": null,
   "metadata": {},
   "outputs": [],
   "source": []
  },
  {
   "cell_type": "markdown",
   "metadata": {},
   "source": [
    "2. Creamos una lista a partir de la ficha técnica"
   ]
  },
  {
   "cell_type": "code",
   "execution_count": null,
   "metadata": {
    "ExecuteTime": {
     "end_time": "2021-02-25T11:34:54.218938Z",
     "start_time": "2021-02-25T11:34:53.923558Z"
    }
   },
   "outputs": [],
   "source": [
    "# Los nombres estan con tag  = 'dt' y los valores con 'dd'\n"
   ]
  },
  {
   "cell_type": "code",
   "execution_count": null,
   "metadata": {},
   "outputs": [],
   "source": []
  },
  {
   "cell_type": "markdown",
   "metadata": {},
   "source": [
    "3. Creamos un dataframe con la info"
   ]
  },
  {
   "cell_type": "code",
   "execution_count": null,
   "metadata": {
    "ExecuteTime": {
     "end_time": "2021-02-25T11:38:19.916044Z",
     "start_time": "2021-02-25T11:38:19.899094Z"
    }
   },
   "outputs": [],
   "source": []
  },
  {
   "cell_type": "code",
   "execution_count": null,
   "metadata": {},
   "outputs": [],
   "source": []
  },
  {
   "cell_type": "code",
   "execution_count": null,
   "metadata": {},
   "outputs": [],
   "source": []
  },
  {
   "cell_type": "markdown",
   "metadata": {},
   "source": [
    "Ahora vamos a crear una función que nos haga todo esto para cada una de las películas:"
   ]
  },
  {
   "cell_type": "code",
   "execution_count": null,
   "metadata": {
    "ExecuteTime": {
     "end_time": "2021-02-25T11:58:39.349919Z",
     "start_time": "2021-02-25T11:58:39.052802Z"
    }
   },
   "outputs": [],
   "source": [
    "\n"
   ]
  },
  {
   "cell_type": "markdown",
   "metadata": {},
   "source": [
    "## Modo Dios: moviendonos entre ventanas"
   ]
  },
  {
   "cell_type": "markdown",
   "metadata": {},
   "source": [
    "Vamos a ver cómo nos podemos mover entre ventanas del navegador\n",
    "\n",
    "Abrir nueva ventana:"
   ]
  },
  {
   "cell_type": "code",
   "execution_count": null,
   "metadata": {},
   "outputs": [],
   "source": []
  },
  {
   "cell_type": "markdown",
   "metadata": {},
   "source": [
    "Movernos a otra ventana"
   ]
  },
  {
   "cell_type": "code",
   "execution_count": null,
   "metadata": {},
   "outputs": [],
   "source": []
  },
  {
   "cell_type": "markdown",
   "metadata": {},
   "source": [
    "Cerrar ventana"
   ]
  },
  {
   "cell_type": "code",
   "execution_count": null,
   "metadata": {
    "ExecuteTime": {
     "end_time": "2021-02-25T12:04:17.177986Z",
     "start_time": "2021-02-25T12:04:17.160442Z"
    }
   },
   "outputs": [],
   "source": []
  },
  {
   "cell_type": "markdown",
   "metadata": {},
   "source": [
    "Una vez cerramos la ventana tenemos que indicarle a qué ventana tiene que ir"
   ]
  },
  {
   "cell_type": "code",
   "execution_count": null,
   "metadata": {
    "ExecuteTime": {
     "end_time": "2021-02-25T12:05:01.711952Z",
     "start_time": "2021-02-25T12:05:01.583709Z"
    }
   },
   "outputs": [],
   "source": []
  },
  {
   "cell_type": "markdown",
   "metadata": {},
   "source": [
    "Sabiendo cómo podemos movernos por entre las ventanas y sabiendo cómo extraer de cada página toda la información que necesitamos vamos a crear nuestro dataframe:"
   ]
  },
  {
   "cell_type": "code",
   "execution_count": null,
   "metadata": {},
   "outputs": [],
   "source": [
    "# para abrir todos los links en lista_pelis\n"
   ]
  },
  {
   "cell_type": "code",
   "execution_count": null,
   "metadata": {
    "ExecuteTime": {
     "end_time": "2021-02-25T12:00:27.038323Z",
     "start_time": "2021-02-25T11:59:37.219902Z"
    }
   },
   "outputs": [],
   "source": [
    "# Creamos un dataframe con todas las pelis que se estrenan la próxima semana:\n"
   ]
  },
  {
   "cell_type": "code",
   "execution_count": null,
   "metadata": {
    "ExecuteTime": {
     "end_time": "2021-02-25T12:00:36.221987Z",
     "start_time": "2021-02-25T12:00:36.207006Z"
    }
   },
   "outputs": [],
   "source": []
  },
  {
   "cell_type": "code",
   "execution_count": null,
   "metadata": {},
   "outputs": [],
   "source": []
  },
  {
   "cell_type": "markdown",
   "metadata": {},
   "source": [
    "¡Tachán! Ya tenemos un dataframe con todas las películas que se van a estrenar el próximo viernes"
   ]
  }
 ],
 "metadata": {
  "hide_input": false,
  "kernelspec": {
   "name": "python374jvsc74a57bd0a0947237fadc8b5561fed326db280cc5ec46a670c87cfb3a0489cf95ff262303",
   "display_name": "Python 3.7.4 64-bit"
  },
  "language_info": {
   "codemirror_mode": {
    "name": "ipython",
    "version": 3
   },
   "file_extension": ".py",
   "mimetype": "text/x-python",
   "name": "python",
   "nbconvert_exporter": "python",
   "pygments_lexer": "ipython3",
   "version": "3.7.4"
  },
  "nbTranslate": {
   "displayLangs": [
    "*"
   ],
   "hotkey": "alt-t",
   "langInMainMenu": true,
   "sourceLang": "en",
   "targetLang": "fr",
   "useGoogleTranslate": true
  },
  "varInspector": {
   "cols": {
    "lenName": 16,
    "lenType": 16,
    "lenVar": 40
   },
   "kernels_config": {
    "python": {
     "delete_cmd_postfix": "",
     "delete_cmd_prefix": "del ",
     "library": "var_list.py",
     "varRefreshCmd": "print(var_dic_list())"
    },
    "r": {
     "delete_cmd_postfix": ") ",
     "delete_cmd_prefix": "rm(",
     "library": "var_list.r",
     "varRefreshCmd": "cat(var_dic_list()) "
    }
   },
   "types_to_exclude": [
    "module",
    "function",
    "builtin_function_or_method",
    "instance",
    "_Feature"
   ],
   "window_display": false
  },
  "metadata": {
   "interpreter": {
    "hash": "a0947237fadc8b5561fed326db280cc5ec46a670c87cfb3a0489cf95ff262303"
   }
  }
 },
 "nbformat": 4,
 "nbformat_minor": 2
}