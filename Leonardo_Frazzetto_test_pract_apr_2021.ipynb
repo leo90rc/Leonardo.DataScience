{
 "metadata": {
  "language_info": {
   "codemirror_mode": {
    "name": "ipython",
    "version": 3
   },
   "file_extension": ".py",
   "mimetype": "text/x-python",
   "name": "python",
   "nbconvert_exporter": "python",
   "pygments_lexer": "ipython3",
   "version": "3.7.4"
  },
  "orig_nbformat": 2,
  "kernelspec": {
   "name": "python374jvsc74a57bd0a0947237fadc8b5561fed326db280cc5ec46a670c87cfb3a0489cf95ff262303",
   "display_name": "Python 3.7.4 64-bit"
  },
  "metadata": {
   "interpreter": {
    "hash": "a0947237fadc8b5561fed326db280cc5ec46a670c87cfb3a0489cf95ff262303"
   }
  }
 },
 "nbformat": 4,
 "nbformat_minor": 2,
 "cells": [
  {
   "source": [
    "# Test DS-FT April 2021\n",
    "\n"
   ],
   "cell_type": "markdown",
   "metadata": {}
  },
  {
   "source": [
    "## Primera parte (tipo test):\n",
    "\n",
    "https://forms.gle/24Eu5xuFGn6jNKpx9"
   ],
   "cell_type": "markdown",
   "metadata": {}
  },
  {
   "source": [
    "-----------------"
   ],
   "cell_type": "markdown",
   "metadata": {}
  },
  {
   "source": [
    "## Segunda parte, ejercicios prácticos:\n",
    "\n",
    "* El test práctico consta de 5 ejercicios puntuables. \n",
    "* Cada uno se puntúa sobre 2,5. \n",
    "* La máxima nota es 10.\n"
   ],
   "cell_type": "markdown",
   "metadata": {}
  },
  {
   "source": [
    "Antes de comenzar, cambia el nombre del archivo notebook poniéndole delante tu nombre y primer apellido:\n",
    "\n",
    "* nombre_apellido_test_pract_apr_2021.ipynb"
   ],
   "cell_type": "markdown",
   "metadata": {}
  },
  {
   "cell_type": "code",
   "execution_count": 7,
   "metadata": {},
   "outputs": [],
   "source": [
    "# Escribe tu nombre en la variable:\n",
    "nombre_y_apellidos = \"Leonardo Frazzetto\""
   ]
  },
  {
   "source": [
    "#### Notas y pruebas de apoyo para contestar las preguntas tipo test\n",
    "Esto no es necesario usarlo aunque verlo aquí te puede dar la respuesta a alguna de las preguntas tipo test.\n",
    "\n",
    "Cualquier código aunque no esté correcto nos dirá más de ti que no escribir nada. "
   ],
   "cell_type": "markdown",
   "metadata": {}
  },
  {
   "cell_type": "code",
   "execution_count": 8,
   "metadata": {},
   "outputs": [
    {
     "output_type": "error",
     "ename": "SyntaxError",
     "evalue": "invalid syntax (<ipython-input-8-2f453c729abd>, line 4)",
     "traceback": [
      "\u001b[1;36m  File \u001b[1;32m\"<ipython-input-8-2f453c729abd>\"\u001b[1;36m, line \u001b[1;32m4\u001b[0m\n\u001b[1;33m    your code\u001b[0m\n\u001b[1;37m            ^\u001b[0m\n\u001b[1;31mSyntaxError\u001b[0m\u001b[1;31m:\u001b[0m invalid syntax\n"
     ]
    }
   ],
   "source": [
    "# Ejemplo de como queremos ver el código para más de un intento:\n",
    "\n",
    "# intento 1\n",
    "your code\n",
    "# intento 2\n",
    "your code"
   ]
  },
  {
   "cell_type": "code",
   "execution_count": 10,
   "metadata": {},
   "outputs": [],
   "source": [
    "# crea todas las celdas que necesites"
   ]
  },
  {
   "source": [
    "## Ejercicios prácticos"
   ],
   "cell_type": "markdown",
   "metadata": {}
  },
  {
   "source": [
    "#### Ejercicio 1.\n",
    "En este ejercicio se va a crear una lista con los siguientes elementos. Primero, crearemos las variables que luego añadiremos a la lista. Las variables son las siguientes:\n",
    "\n",
    "1. Crea una variable llamada `num_dni` de tipo Integer que represente el primer número de tu DNI. \n",
    "2. Crea una variable llamada `let_dni` de tipo String y que represente la letra de vuestro DNI.\n",
    "3. Crea una variable llamada `tip_ord` de tipo Boolean True si usas Windows y False si usas Mac.\n",
    "4. Crea una variable llamada `nada` de tipo None cuyo valor sea None.\n",
    "5. Crea una variable llamada `lista_deseo` de tipo List que contenga los cuatro objetos que te llevarías a una isla desierta. Cada elemento ha de ser de tipo String y el tamaño de la lista ha de ser 4.\n",
    "6. Crea una variable llamada `tupla_ropa` de tipo Tuple con la marca de la prenda superior, inferior y calzado que llevas puesto.\n",
    "7. Crea una variable llamada `dict_info` con dos keys y dos values. Una key es 'nombre', teniendo como value vuestro nombre. Otra key es 'edad', teniendo como value vuestra edad.\n",
    "8. Crea una variable llamada `flo_hor` con la hora actual separada por punto en vez de dos puntos. Ejemplo: si son las 10:06, el valor de la variable sería 10.06.\n",
    "\n",
    "Añade todos estos elementos en una lista llamada `lista_examen` en el orden de aparición."
   ],
   "cell_type": "markdown",
   "metadata": {}
  },
  {
   "cell_type": "code",
   "execution_count": 9,
   "metadata": {},
   "outputs": [],
   "source": [
    " # tu respuesta aquí\n",
    "\n",
    " num_dni = 6\n",
    " let_dni = 'Y'\n",
    " tip_ord = True\n",
    " nada = None\n",
    " lista_deseo = ['mechero', 'cuchillo', 'tienda de campaña', 'balón']\n",
    " tupla_ropa = ('Primark', 'Nike', 'Puma')\n",
    " dict_info = {'nombre': 'Leonardo', 'edad': 31}\n",
    " flo_hor = 10.44\n",
    " lista_examen = [num_dni, let_dni, tip_ord, nada, lista_deseo, tupla_ropa, dict_info, flo_hor]"
   ]
  },
  {
   "source": [
    "#### Ejercicio 2. \n",
    "\n",
    "Para resolver este ejercicio necesitarás la lista del ejercicio anterior (`lista_examen`). Se recomeinda leer cada punto hasta el final antes de resolver el ejercicio.\n",
    "\n",
    "Se repite para que quede aún más claro: **SOLO USAR LA VARIABLE** `lista_examen`. Usar las demás variables se calificará como error.  \n",
    "\n",
    "1. Mostrar por pantalla, sin uso de funciones ni bucles: \n",
    "    - El segundo elemento de `lista_deseo` desde `lista_examen`.\n",
    "    - El calzado que llevas puesto.\n",
    "    - Vuestro nombre.\n",
    "    - La hora almacenada concatenada con vuestra edad y el número de vuestro de DNI. No debe haber espacios entre la concatenación.\n",
    "    - Si tenéis más de 20 años, el primer número de vuestro DNI es mayor a 7 y usas Mac, mostrar la posición 5 de `lista_examen`.\n",
    "    "
   ],
   "cell_type": "markdown",
   "metadata": {}
  },
  {
   "cell_type": "code",
   "execution_count": 7,
   "metadata": {},
   "outputs": [
    {
     "output_type": "stream",
     "name": "stdout",
     "text": [
      "[6, 'Y', True, None, ['mechero', 'cuchillo', 'tienda de campaña', 'balón'], ('Primark', 'Nike', 'Puma'), {'nombre': 'Leonardo', 'edad': 31}, 10.44]\n"
     ]
    }
   ],
   "source": [
    "print(lista_examen)"
   ]
  },
  {
   "cell_type": "code",
   "execution_count": 8,
   "metadata": {},
   "outputs": [
    {
     "output_type": "stream",
     "name": "stdout",
     "text": [
      "cuchillo\nPuma\nLeonardo\n10.44316\n"
     ]
    }
   ],
   "source": [
    "# tu respuesta aquí\n",
    "\n",
    "print(lista_examen[4][1])\n",
    "print(lista_examen[5][2])\n",
    "print(lista_examen[6]['nombre'])\n",
    "print(str(lista_examen[7]) + str(lista_examen[6]['edad']) + str(lista_examen[0]))\n",
    "if lista_examen[6]['edad'] > 20 and lista_examen[0] > 7 and lista_examen[2] == False:\n",
    "    print(lista_examen[5])"
   ]
  },
  {
   "source": [
    "2. Mostrar por pantalla, con uso de un bucle `for`:\n",
    "    - Todos los elementos de `lista_examen`.\n",
    "    - Todos los elementos de `lista_deseo` desde `lista_examen`.\n",
    "    - Todos los elementos que ocupen una posición menor a 4 en `lista_examen`.\n"
   ],
   "cell_type": "markdown",
   "metadata": {}
  },
  {
   "cell_type": "code",
   "execution_count": 9,
   "metadata": {},
   "outputs": [
    {
     "output_type": "stream",
     "name": "stdout",
     "text": [
      "6\nY\nTrue\nNone\n['mechero', 'cuchillo', 'tienda de campaña', 'balón']\n('Primark', 'Nike', 'Puma')\n{'nombre': 'Leonardo', 'edad': 31}\n10.44\n"
     ]
    }
   ],
   "source": [
    "# tu respuesta aquí\n",
    "\n",
    "for i in lista_examen:\n",
    "    print(i)"
   ]
  },
  {
   "cell_type": "code",
   "execution_count": 10,
   "metadata": {},
   "outputs": [
    {
     "output_type": "stream",
     "name": "stdout",
     "text": [
      "mechero\ncuchillo\ntienda de campaña\nbalón\n"
     ]
    }
   ],
   "source": [
    "for i in lista_examen[4]:\n",
    "    print(i)"
   ]
  },
  {
   "cell_type": "code",
   "execution_count": 11,
   "metadata": {},
   "outputs": [
    {
     "output_type": "stream",
     "name": "stdout",
     "text": [
      "6\nY\nTrue\nNone\n"
     ]
    }
   ],
   "source": [
    "for i in lista_examen[0:4]:\n",
    "    print(i)"
   ]
  },
  {
   "source": [
    "3. Mostrar por pantalla, con uso de un bucle while: \n",
    "    - Todos los elementos de `tupla_ropa` seguido de la cadena `\"-->\"` y la `posición` (int) que ocupa en la tupla accediendo desde `lista_examen`. Se aconseja utilizar *`enumerate`*.\n",
    "    - Cada key de `dict_info` seguido de la cadena \":\" seguido de su value desde `lista_examen`."
   ],
   "cell_type": "markdown",
   "metadata": {}
  },
  {
   "cell_type": "code",
   "execution_count": 12,
   "metadata": {},
   "outputs": [
    {
     "output_type": "stream",
     "name": "stdout",
     "text": [
      "[6, 'Y', True, None, ['mechero', 'cuchillo', 'tienda de campaña', 'balón'], ('Primark', 'Nike', 'Puma'), {'nombre': 'Leonardo', 'edad': 31}, 10.44]\n"
     ]
    }
   ],
   "source": [
    "print(lista_examen)"
   ]
  },
  {
   "cell_type": "code",
   "execution_count": 19,
   "metadata": {},
   "outputs": [
    {
     "output_type": "stream",
     "name": "stdout",
     "text": [
      "Primark-->0\nNike-->1\nPuma-->2\n"
     ]
    }
   ],
   "source": [
    "# tu respuesta aquí\n",
    "contador = 0\n",
    "while contador <= len(lista_examen[5])-1:\n",
    "    print(lista_examen[5][contador] + '-->' + str(contador))\n",
    "    contador += 1\n",
    "\n"
   ]
  },
  {
   "cell_type": "code",
   "execution_count": 19,
   "metadata": {},
   "outputs": [
    {
     "output_type": "stream",
     "name": "stdout",
     "text": [
      "nombre: Leonardo\nedad: 31\n"
     ]
    }
   ],
   "source": [
    "adicionador = 0\n",
    "while adicionador < len(list(lista_examen[6].keys())) - 1:\n",
    "    for i in range(len(lista_examen[6].keys())):\n",
    "        print(list(lista_examen[6].keys())[i] + ': ' + str(list(lista_examen[6].values())[i]))\n",
    "    adicionador += 1\n",
    "        "
   ]
  },
  {
   "source": [
    "# Esto de abajo es una ayuda que utilicé para hacer el ejercicio."
   ],
   "cell_type": "markdown",
   "metadata": {}
  },
  {
   "cell_type": "code",
   "execution_count": 17,
   "metadata": {},
   "outputs": [
    {
     "output_type": "stream",
     "name": "stdout",
     "text": [
      "['nombre', 'edad']\n['Leonardo', 31]\n"
     ]
    }
   ],
   "source": [
    "print(list(lista_examen[6].keys()))\n",
    "print(list(lista_examen[6].values()))"
   ]
  },
  {
   "source": [
    "#### Ejercicio 3. \n",
    "\n",
    "Crea una función `ejercicio_3` que reciba un parámetro `arg1`. Este argumento se utilizará como la lista de tuplas con nombres de los alumnos y alturas de clase. La función ha de retornar la misma lista de tuplas pero sin la tupla que contiene tu nombre. La tupla que contiene tu nombre ha de encontrarse a través del **valor del String** con tu nombre. Es decir, la función borrará la tupla con tu nombre tanto si está en la primera posición, como en la posición N o la última. La función mostrará por pantalla la tupla modificada.\n",
    "\n",
    "**Notas:** \n",
    "\n",
    "*- La lista de nombres y alturas está al final del notebook*\n",
    "\n",
    "*- Añade la tupla con tu nombre y altura si no apareces en la lista* \n",
    "\n",
    "Ejemplos de llamada a la función y lo que devuelve la función en el caso en el que me llamo 'Manuel Alfonso' y con esta 'lista_nombres_alturas':"
   ],
   "cell_type": "markdown",
   "metadata": {}
  },
  {
   "cell_type": "code",
   "execution_count": 7,
   "metadata": {},
   "outputs": [
    {
     "output_type": "stream",
     "name": "stdout",
     "text": [
      "[('Jonathan Abbondanza', 1.7), ('Nacho Fontal', 1.82)]\n"
     ]
    }
   ],
   "source": [
    "# NO EJECUTAR ESTA CELDA\n",
    "lista_nombres_alturas = [(\"Manuel Alfonso\", 1.75),(\"Jonathan Abbondanza\",  1.70),(\"Nacho Fontal\", 1.82)]\n",
    "ejercicio_3(arg1=lista_nombres_alturas)"
   ]
  },
  {
   "cell_type": "code",
   "execution_count": 9,
   "metadata": {},
   "outputs": [
    {
     "output_type": "stream",
     "name": "stdout",
     "text": [
      "[('Jonathan Abbondanza', 1.7), ('Nacho Fontal', 1.82)]\n"
     ]
    }
   ],
   "source": [
    "# NO EJECUTAR ESTA CELDA\n",
    "lista_nombres_alturas = [(\"Jonathan Abbondanza\",  1.70),(\"Manuel Alfonso\", 1.75),(\"Nacho Fontal\", 1.82)]\n",
    "ejercicio_3(arg1=lista_nombres_alturas)"
   ]
  },
  {
   "cell_type": "code",
   "execution_count": 1,
   "metadata": {},
   "outputs": [
    {
     "output_type": "stream",
     "name": "stdout",
     "text": [
      "27\n"
     ]
    }
   ],
   "source": [
    "# tu respuesta aquí\n",
    "\n",
    "lista_nombres_alturas = [(\"Gabriel Vázquez\", 1.75),(\"Jonathan Abbondanza\",  1.70),(\"Nacho Fontal\", 1.82),(\"Javier Araiz\", 1.80),('Jonathan Suarez', 1.86),('Sonia Cobo', 1.73), ('Jorge García', 1.79), (\"Mary Meza\", 1.52), ('Leonardo Frazzetto', 1.75), (\"Nacho Astorga\",1.78),(\"José Carlos Batista\",1.70), (\"Isabel Palomares\", 1.78),(\"Marina Serrano\", 1.54), (\"Daniel Walker\", 1.87), (\"Clara Piniella\", 1.66), (\"Gina Garrido\", 1.63), (\"Adrià Gallardo\", 1.70), (\"María García-Maroto\", 1.64), (\"Susana Vázquez\",1.80), (\"Mauro Garcia-Oliva\", 1.77), (\"Juan Bayon\", 1.64), (\"Miguel Barquero\", 1.85), (\"Borja Puig\", 1.82), (\"Pablo Martínez\", 1.81), (\"Xinru Yang\", 1.60),(\"Pablo Díez\", 1.84),(\"Karina Inche\",1.61)]\n",
    "\n",
    "print(len(lista_nombres_alturas))"
   ]
  },
  {
   "cell_type": "code",
   "execution_count": 2,
   "metadata": {},
   "outputs": [],
   "source": [
    "def ejercicio_3(arg1):\n",
    "    for pos,tupla in enumerate(arg1):\n",
    "        if 'Leonardo Frazzetto' in tupla:\n",
    "            arg1.pop(pos)\n",
    "            print(arg1)"
   ]
  },
  {
   "cell_type": "code",
   "execution_count": 3,
   "metadata": {},
   "outputs": [
    {
     "output_type": "stream",
     "name": "stdout",
     "text": [
      "[('Gabriel Vázquez', 1.75), ('Jonathan Abbondanza', 1.7), ('Nacho Fontal', 1.82), ('Javier Araiz', 1.8), ('Jonathan Suarez', 1.86), ('Sonia Cobo', 1.73), ('Jorge García', 1.79), ('Mary Meza', 1.52), ('Nacho Astorga', 1.78), ('José Carlos Batista', 1.7), ('Isabel Palomares', 1.78), ('Marina Serrano', 1.54), ('Daniel Walker', 1.87), ('Clara Piniella', 1.66), ('Gina Garrido', 1.63), ('Adrià Gallardo', 1.7), ('María García-Maroto', 1.64), ('Susana Vázquez', 1.8), ('Mauro Garcia-Oliva', 1.77), ('Juan Bayon', 1.64), ('Miguel Barquero', 1.85), ('Borja Puig', 1.82), ('Pablo Martínez', 1.81), ('Xinru Yang', 1.6), ('Pablo Díez', 1.84), ('Karina Inche', 1.61)]\n"
     ]
    }
   ],
   "source": [
    "ejercicio_3(arg1=lista_nombres_alturas)"
   ]
  },
  {
   "source": [
    "-------------------------------------"
   ],
   "cell_type": "markdown",
   "metadata": {}
  },
  {
   "source": [
    "#### Ejercicio 4. \n",
    "\n",
    "Escribe una función `reverse_number` que reciba dos parámetros. Los parámetros son `cadena` y `n`. `cadena` será un string y `n` un entero. La función debe retornar un string que sea el string `cadena` al revés y que tenga concatenado el número `n` por cada caracter de `cadena`.  \n",
    "\n",
    "\n",
    "**No se permite:**\n",
    "- Usar la función built-in `reverse`\n",
    "- Pasar el string `cadena` a otro tipo de variable (como list)* \n",
    "- Usar el `string slicing` [[::-1]]\n",
    "\n",
    "Ejemplos de llamada a la función y lo que devuelve la función:\n",
    "\n",
    "--------\n",
    "\n",
    ">> print(reverse_number(cadena=\"aloh\", n=3))\n",
    "\n",
    ">>> h3o3l3a3\n",
    "\n",
    "--------\n",
    "\n",
    ">> print(reverse_number(cadena=\"otipep\", n=85))\n",
    "\n",
    ">>> p85e85p85i85t85o85\n",
    "\n",
    "\n",
    "\n"
   ],
   "cell_type": "markdown",
   "metadata": {}
  },
  {
   "cell_type": "code",
   "execution_count": 85,
   "metadata": {},
   "outputs": [],
   "source": [
    "def reverse_number(cadena,n):\n",
    "    n = str(n)\n",
    "    x = list(cadena)\n",
    "    for i in range(len(x)-1,-1,-1):\n",
    "        x.append(x[i])\n",
    "        x.pop(i)\n",
    "    concatenar = n.join(x)\n",
    "    return concatenar"
   ]
  },
  {
   "cell_type": "code",
   "execution_count": 89,
   "metadata": {},
   "outputs": [
    {
     "output_type": "stream",
     "name": "stdout",
     "text": [
      "Palabra ingresada: TODO\nNúmero a concatenar: 5\n"
     ]
    },
    {
     "output_type": "execute_result",
     "data": {
      "text/plain": [
       "'O5D5O5T'"
      ]
     },
     "metadata": {},
     "execution_count": 89
    }
   ],
   "source": [
    "dar_vuelta = input('Ingrese una palabra a girar:')           # Puse un input para que se pueda ingresar la palabra que se desee.\n",
    "print('Palabra ingresada: ' + dar_vuelta)\n",
    "numero_a_concatenar = 5                                    # No puse input para el número ya que pide que sea un entero.\n",
    "print('Número a concatenar: ' + str(numero_a_concatenar))\n",
    "reverse_number(cadena=dar_vuelta, n=numero_a_concatenar)"
   ]
  },
  {
   "source": [
    "# Aquí abajo están los intentos y pruebas que hice para este ejercicio."
   ],
   "cell_type": "markdown",
   "metadata": {}
  },
  {
   "cell_type": "code",
   "execution_count": 69,
   "metadata": {},
   "outputs": [
    {
     "output_type": "stream",
     "name": "stdout",
     "text": [
      "a4n4e4d4a4c\n"
     ]
    }
   ],
   "source": [
    "x = list('cadena')\n",
    "for i in range(len(x)-1,-1,-1):\n",
    "    x.append(x[i])\n",
    "    x.pop(i)\n",
    "concatenado = '4'.join(x)\n",
    "print(concatenado)"
   ]
  },
  {
   "cell_type": "code",
   "execution_count": 58,
   "metadata": {},
   "outputs": [
    {
     "output_type": "stream",
     "name": "stdout",
     "text": [
      "['c', 'a', 'd', 'e', 'n', 'a']\n"
     ]
    }
   ],
   "source": [
    "h = list('cadena')\n",
    "print(h)"
   ]
  },
  {
   "cell_type": "code",
   "execution_count": 68,
   "metadata": {},
   "outputs": [
    {
     "output_type": "stream",
     "name": "stdout",
     "text": [
      "['c', 'a', 'd', 'e', 'n', 'a']\n['c', 'a', 'd', 'e', 'n', 'a']\n"
     ]
    }
   ],
   "source": [
    "print(h)\n",
    "'N'.join(h)\n",
    "print(h)"
   ]
  },
  {
   "cell_type": "code",
   "execution_count": 75,
   "metadata": {},
   "outputs": [
    {
     "output_type": "stream",
     "name": "stdout",
     "text": [
      "o4d4r4a4n4o4e4L\n"
     ]
    }
   ],
   "source": []
  },
  {
   "cell_type": "code",
   "execution_count": 51,
   "metadata": {},
   "outputs": [
    {
     "output_type": "stream",
     "name": "stdout",
     "text": [
      "['p', 'a', 'l', 'o', 'm', 'a']\n"
     ]
    }
   ],
   "source": [
    "j = list('paloma')\n",
    "print(j)"
   ]
  },
  {
   "cell_type": "code",
   "execution_count": 52,
   "metadata": {},
   "outputs": [
    {
     "output_type": "stream",
     "name": "stdout",
     "text": [
      "['a', 'm', 'o', 'l', 'a', 'p']\n"
     ]
    }
   ],
   "source": [
    "for i in range(len(j)-1,-1,-1):\n",
    "    j.append(j[i])\n",
    "    j.pop(i)\n",
    "print(j)"
   ]
  },
  {
   "cell_type": "code",
   "execution_count": 31,
   "metadata": {},
   "outputs": [],
   "source": [
    "palabra = 'hola mono'\n"
   ]
  },
  {
   "cell_type": "code",
   "execution_count": 32,
   "metadata": {},
   "outputs": [
    {
     "output_type": "execute_result",
     "data": {
      "text/plain": [
       "['h', 'o', 'l', 'a', ' ', 'm', 'o', 'n', 'o']"
      ]
     },
     "metadata": {},
     "execution_count": 32
    }
   ],
   "source": [
    "list(palabra)"
   ]
  },
  {
   "cell_type": "code",
   "execution_count": 33,
   "metadata": {},
   "outputs": [
    {
     "output_type": "execute_result",
     "data": {
      "text/plain": [
       "'hJoJlJaJ JmJoJnJo'"
      ]
     },
     "metadata": {},
     "execution_count": 33
    }
   ],
   "source": [
    "'J'.join(palabra)"
   ]
  },
  {
   "source": [
    "#### Ejercicio 5:\n",
    " Crea una función `ejercicio_5` que reciba dos parámetros `arg1` y `arg2`. `arg1` es la misma lista de tuplas con los nombres y alturas que la del ejercicio 3 y `arg2` representa un nombre. \n",
    "Crea un programa que pida al usuario *indefinidamente* un nombre y, cada vez que lo introduzca, intente borrar de `arg1` la tupla con el nombre introducido usando la función `ejercicio_5`:\n",
    "\n",
    "1. Si existe el nombre `arg2` dentro de la `arg1` la función mostrará por pantalla la tupla modificada\n",
    "\n",
    "2. Si el nombre `arg2` no está en la lista `arg1` la función mostrará por pantalla el string \"Ese \n",
    "nombre no está dentro de la lista\"\n",
    "\n",
    "3. Solo en el caso en el que el usuario escriba la palabra *'STOP'* se parará el programa.\n",
    "\n",
    "**Notas:** \n",
    "\n",
    "*- La lista de nombres y alturas está al final del notebook*\n",
    "\n",
    "*- Añade la tupla con tu nombre y altura si no apareces en la lista*  "
   ],
   "cell_type": "markdown",
   "metadata": {}
  },
  {
   "cell_type": "code",
   "execution_count": 99,
   "metadata": {},
   "outputs": [],
   "source": [
    "def ejercicio_5(arg1,arg2):                                    # EJERCICIO INCOMPLETO. No llegué con el tiempo\n",
    "    if arg2 != 'STOP' and len(arg1) > 0:\n",
    "        for pos, tupla in enumerate(arg1):\n",
    "            if arg2 in tupla:\n",
    "                arg1.pop(pos)\n",
    "                print(arg1)\n",
    "            else:\n",
    "                print('Ese no está dentro de la lista')\n",
    "    \n"
   ]
  },
  {
   "cell_type": "code",
   "execution_count": 100,
   "metadata": {},
   "outputs": [
    {
     "output_type": "error",
     "ename": "SyntaxError",
     "evalue": "'break' outside loop (<ipython-input-100-7f45f19adc86>, line 9)",
     "traceback": [
      "\u001b[1;36m  File \u001b[1;32m\"<ipython-input-100-7f45f19adc86>\"\u001b[1;36m, line \u001b[1;32m9\u001b[0m\n\u001b[1;31mSyntaxError\u001b[0m\u001b[1;31m:\u001b[0m 'break' outside loop\n"
     ]
    }
   ],
   "source": [
    "nombre = ''\n",
    "if nombre != 'STOP' and len(lista_nombres_alturas) > 0:\n",
    "    nombre = input('Ingrese un nombre a quitar de la lista:')\n",
    "    ejercicio_5(arg1=lista_nombres_alturas,arg2=nombre)\n",
    "elif nombre == 'STOP' or len(lista_nombres_alturas) ==0:\n",
    "    break\n",
    "\n",
    "    "
   ]
  },
  {
   "cell_type": "code",
   "execution_count": 101,
   "metadata": {},
   "outputs": [
    {
     "output_type": "stream",
     "name": "stdout",
     "text": [
      "Ese no está dentro de la lista\nEse no está dentro de la lista\n[('Gabriel Vázquez', 1.75), ('Jonathan Abbondanza', 1.7), ('Javier Araiz', 1.8), ('Jonathan Suarez', 1.86), ('Sonia Cobo', 1.73), ('Jorge García', 1.79), ('Mary Meza', 1.52), ('Leonardo Frazzetto', 1.75), ('Nacho Astorga', 1.78), ('José Carlos Batista', 1.7), ('Isabel Palomares', 1.78), ('Marina Serrano', 1.54), ('Daniel Walker', 1.87), ('Clara Piniella', 1.66), ('Gina Garrido', 1.63), ('Adrià Gallardo', 1.7), ('María García-Maroto', 1.64), ('Susana Vázquez', 1.8), ('Mauro Garcia-Oliva', 1.77), ('Juan Bayon', 1.64), ('Miguel Barquero', 1.85), ('Borja Puig', 1.82), ('Pablo Martínez', 1.81), ('Xinru Yang', 1.6), ('Pablo Díez', 1.84), ('Karina Inche', 1.61)]\nEse no está dentro de la lista\nEse no está dentro de la lista\nEse no está dentro de la lista\nEse no está dentro de la lista\nEse no está dentro de la lista\nEse no está dentro de la lista\nEse no está dentro de la lista\nEse no está dentro de la lista\nEse no está dentro de la lista\nEse no está dentro de la lista\nEse no está dentro de la lista\nEse no está dentro de la lista\nEse no está dentro de la lista\nEse no está dentro de la lista\nEse no está dentro de la lista\nEse no está dentro de la lista\nEse no está dentro de la lista\nEse no está dentro de la lista\nEse no está dentro de la lista\nEse no está dentro de la lista\nEse no está dentro de la lista\nEse no está dentro de la lista\nEse no está dentro de la lista\n"
     ]
    }
   ],
   "source": [
    "ejercicio_5(arg1=lista_nombres_alturas,arg2=input('Ingrese un nombre'))"
   ]
  },
  {
   "cell_type": "code",
   "execution_count": null,
   "metadata": {},
   "outputs": [],
   "source": []
  },
  {
   "cell_type": "code",
   "execution_count": 98,
   "metadata": {},
   "outputs": [
    {
     "output_type": "execute_result",
     "data": {
      "text/plain": [
       "[('Gabriel Vázquez', 1.75),\n",
       " ('Jonathan Abbondanza', 1.7),\n",
       " ('Nacho Fontal', 1.82),\n",
       " ('Javier Araiz', 1.8),\n",
       " ('Jonathan Suarez', 1.86),\n",
       " ('Sonia Cobo', 1.73),\n",
       " ('Jorge García', 1.79),\n",
       " ('Mary Meza', 1.52),\n",
       " ('Leonardo Frazzetto', 1.75),\n",
       " ('Nacho Astorga', 1.78),\n",
       " ('José Carlos Batista', 1.7),\n",
       " ('Isabel Palomares', 1.78),\n",
       " ('Marina Serrano', 1.54),\n",
       " ('Daniel Walker', 1.87),\n",
       " ('Clara Piniella', 1.66),\n",
       " ('Gina Garrido', 1.63),\n",
       " ('Adrià Gallardo', 1.7),\n",
       " ('María García-Maroto', 1.64),\n",
       " ('Susana Vázquez', 1.8),\n",
       " ('Mauro Garcia-Oliva', 1.77),\n",
       " ('Juan Bayon', 1.64),\n",
       " ('Miguel Barquero', 1.85),\n",
       " ('Borja Puig', 1.82),\n",
       " ('Pablo Martínez', 1.81),\n",
       " ('Xinru Yang', 1.6),\n",
       " ('Pablo Díez', 1.84),\n",
       " ('Karina Inche', 1.61)]"
      ]
     },
     "metadata": {},
     "execution_count": 98
    }
   ],
   "source": [
    "# La lista a usar del ejercicio 3 y 5. Recuerda añadir la tupla con tu información si no está. \n",
    "\n",
    "lista_nombres_alturas = [(\"Gabriel Vázquez\", 1.75),(\"Jonathan Abbondanza\",  1.70),(\"Nacho Fontal\", 1.82),(\"Javier Araiz\", 1.80),('Jonathan Suarez', 1.86),('Sonia Cobo', 1.73), ('Jorge García', 1.79), (\"Mary Meza\", 1.52), ('Leonardo Frazzetto', 1.75), (\"Nacho Astorga\",1.78),(\"José Carlos Batista\",1.70), (\"Isabel Palomares\", 1.78),(\"Marina Serrano\", 1.54), (\"Daniel Walker\", 1.87), (\"Clara Piniella\", 1.66), (\"Gina Garrido\", 1.63), (\"Adrià Gallardo\", 1.70), (\"María García-Maroto\", 1.64), (\"Susana Vázquez\",1.80), (\"Mauro Garcia-Oliva\", 1.77), (\"Juan Bayon\", 1.64), (\"Miguel Barquero\", 1.85), (\"Borja Puig\", 1.82), (\"Pablo Martínez\", 1.81), (\"Xinru Yang\", 1.60),(\"Pablo Díez\", 1.84),(\"Karina Inche\",1.61)]\n",
    "\n",
    "lista_nombres_alturas"
   ]
  },
  {
   "cell_type": "code",
   "execution_count": null,
   "metadata": {},
   "outputs": [],
   "source": []
  }
 ]
}